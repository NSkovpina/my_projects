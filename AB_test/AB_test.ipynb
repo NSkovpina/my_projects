{
 "cells": [
  {
   "cell_type": "markdown",
   "metadata": {},
   "source": [
    "# Принятие решений в бизнесе\n",
    "Вы — аналитик крупного интернет-магазина. Вместе с отделом маркетинга вы подготовили список гипотез для увеличения выручки.Приоритизируйте гипотезы, запустите A/B-тест и проанализируйте результаты."
   ]
  },
  {
   "cell_type": "markdown",
   "metadata": {},
   "source": [
    "**Файл /datasets/hypothesis.csv.**\n",
    "- Hypothesis — краткое описание гипотезы;\n",
    "- Reach — охват пользователей по 10-балльной шкале;\n",
    "- Impact — влияние на пользователей по 10-балльной шкале;\n",
    "- Confidence — уверенность в гипотезе по 10-балльной шкале;\n",
    "- Efforts — затраты ресурсов на проверку гипотезы по 10-балльной шкале. Чем больше значение Efforts, тем дороже проверка гипотезы.\n",
    "\n",
    "**Файл /datasets/orders.csv.**\n",
    "- transactionId — идентификатор заказа;\n",
    "- visitorId — идентификатор пользователя, совершившего заказ;\n",
    "- date — дата, когда был совершён заказ;\n",
    "- revenue — выручка заказа;\n",
    "- group — группа A/B-теста, в которую попал заказ.\n",
    "\n",
    "**Файл /datasets/visitors.csv.**\n",
    "- date — дата;\n",
    "- group — группа A/B-теста;\n",
    "- visitors — количество пользователей в указанную дату в указанной группе A/B-теста"
   ]
  },
  {
   "cell_type": "markdown",
   "metadata": {},
   "source": [
    "# Часть 1. Приоритизация гипотез"
   ]
  },
  {
   "cell_type": "code",
   "execution_count": 1,
   "metadata": {},
   "outputs": [],
   "source": [
    "#Импортируем библиотеки\n",
    "import pandas as pd\n",
    "import datetime as dt\n",
    "import numpy as np\n",
    "import scipy.stats as stats\n",
    "import matplotlib.pyplot as plt\n",
    "from pandas.plotting import register_matplotlib_converters\n",
    "import warnings"
   ]
  },
  {
   "cell_type": "code",
   "execution_count": 2,
   "metadata": {},
   "outputs": [],
   "source": [
    "pd.options.display.max_colwidth = 100"
   ]
  },
  {
   "cell_type": "code",
   "execution_count": 3,
   "metadata": {},
   "outputs": [
    {
     "data": {
      "text/html": [
       "<div>\n",
       "<style scoped>\n",
       "    .dataframe tbody tr th:only-of-type {\n",
       "        vertical-align: middle;\n",
       "    }\n",
       "\n",
       "    .dataframe tbody tr th {\n",
       "        vertical-align: top;\n",
       "    }\n",
       "\n",
       "    .dataframe thead th {\n",
       "        text-align: right;\n",
       "    }\n",
       "</style>\n",
       "<table border=\"1\" class=\"dataframe\">\n",
       "  <thead>\n",
       "    <tr style=\"text-align: right;\">\n",
       "      <th></th>\n",
       "      <th>Hypothesis</th>\n",
       "      <th>Reach</th>\n",
       "      <th>Impact</th>\n",
       "      <th>Confidence</th>\n",
       "      <th>Efforts</th>\n",
       "    </tr>\n",
       "  </thead>\n",
       "  <tbody>\n",
       "    <tr>\n",
       "      <th>0</th>\n",
       "      <td>Добавить два новых канала привлечения трафика, что позволит привлекать на 30% больше пользователей</td>\n",
       "      <td>3</td>\n",
       "      <td>10</td>\n",
       "      <td>8</td>\n",
       "      <td>6</td>\n",
       "    </tr>\n",
       "    <tr>\n",
       "      <th>1</th>\n",
       "      <td>Запустить собственную службу доставки, что сократит срок доставки заказов</td>\n",
       "      <td>2</td>\n",
       "      <td>5</td>\n",
       "      <td>4</td>\n",
       "      <td>10</td>\n",
       "    </tr>\n",
       "    <tr>\n",
       "      <th>2</th>\n",
       "      <td>Добавить блоки рекомендаций товаров на сайт интернет магазина, чтобы повысить конверсию и средни...</td>\n",
       "      <td>8</td>\n",
       "      <td>3</td>\n",
       "      <td>7</td>\n",
       "      <td>3</td>\n",
       "    </tr>\n",
       "    <tr>\n",
       "      <th>3</th>\n",
       "      <td>Изменить структура категорий, что увеличит конверсию, т.к. пользователи быстрее найдут нужный товар</td>\n",
       "      <td>8</td>\n",
       "      <td>3</td>\n",
       "      <td>3</td>\n",
       "      <td>8</td>\n",
       "    </tr>\n",
       "    <tr>\n",
       "      <th>4</th>\n",
       "      <td>Изменить цвет фона главной страницы, чтобы увеличить вовлеченность пользователей</td>\n",
       "      <td>3</td>\n",
       "      <td>1</td>\n",
       "      <td>1</td>\n",
       "      <td>1</td>\n",
       "    </tr>\n",
       "    <tr>\n",
       "      <th>5</th>\n",
       "      <td>Добавить страницу отзывов клиентов о магазине, что позволит увеличить количество заказов</td>\n",
       "      <td>3</td>\n",
       "      <td>2</td>\n",
       "      <td>2</td>\n",
       "      <td>3</td>\n",
       "    </tr>\n",
       "    <tr>\n",
       "      <th>6</th>\n",
       "      <td>Показать на главной странице баннеры с актуальными акциями и распродажами, чтобы увеличить конве...</td>\n",
       "      <td>5</td>\n",
       "      <td>3</td>\n",
       "      <td>8</td>\n",
       "      <td>3</td>\n",
       "    </tr>\n",
       "    <tr>\n",
       "      <th>7</th>\n",
       "      <td>Добавить форму подписки на все основные страницы, чтобы собрать базу клиентов для email-рассылок</td>\n",
       "      <td>10</td>\n",
       "      <td>7</td>\n",
       "      <td>8</td>\n",
       "      <td>5</td>\n",
       "    </tr>\n",
       "    <tr>\n",
       "      <th>8</th>\n",
       "      <td>Запустить акцию, дающую скидку на товар в день рождения</td>\n",
       "      <td>1</td>\n",
       "      <td>9</td>\n",
       "      <td>9</td>\n",
       "      <td>5</td>\n",
       "    </tr>\n",
       "  </tbody>\n",
       "</table>\n",
       "</div>"
      ],
      "text/plain": [
       "                                                                                            Hypothesis  \\\n",
       "0   Добавить два новых канала привлечения трафика, что позволит привлекать на 30% больше пользователей   \n",
       "1                            Запустить собственную службу доставки, что сократит срок доставки заказов   \n",
       "2  Добавить блоки рекомендаций товаров на сайт интернет магазина, чтобы повысить конверсию и средни...   \n",
       "3  Изменить структура категорий, что увеличит конверсию, т.к. пользователи быстрее найдут нужный товар   \n",
       "4                     Изменить цвет фона главной страницы, чтобы увеличить вовлеченность пользователей   \n",
       "5             Добавить страницу отзывов клиентов о магазине, что позволит увеличить количество заказов   \n",
       "6  Показать на главной странице баннеры с актуальными акциями и распродажами, чтобы увеличить конве...   \n",
       "7     Добавить форму подписки на все основные страницы, чтобы собрать базу клиентов для email-рассылок   \n",
       "8                                              Запустить акцию, дающую скидку на товар в день рождения   \n",
       "\n",
       "   Reach  Impact  Confidence  Efforts  \n",
       "0      3      10           8        6  \n",
       "1      2       5           4       10  \n",
       "2      8       3           7        3  \n",
       "3      8       3           3        8  \n",
       "4      3       1           1        1  \n",
       "5      3       2           2        3  \n",
       "6      5       3           8        3  \n",
       "7     10       7           8        5  \n",
       "8      1       9           9        5  "
      ]
     },
     "metadata": {},
     "output_type": "display_data"
    },
    {
     "data": {
      "text/html": [
       "<div>\n",
       "<style scoped>\n",
       "    .dataframe tbody tr th:only-of-type {\n",
       "        vertical-align: middle;\n",
       "    }\n",
       "\n",
       "    .dataframe tbody tr th {\n",
       "        vertical-align: top;\n",
       "    }\n",
       "\n",
       "    .dataframe thead th {\n",
       "        text-align: right;\n",
       "    }\n",
       "</style>\n",
       "<table border=\"1\" class=\"dataframe\">\n",
       "  <thead>\n",
       "    <tr style=\"text-align: right;\">\n",
       "      <th></th>\n",
       "      <th>transactionId</th>\n",
       "      <th>visitorId</th>\n",
       "      <th>date</th>\n",
       "      <th>revenue</th>\n",
       "      <th>group</th>\n",
       "    </tr>\n",
       "  </thead>\n",
       "  <tbody>\n",
       "    <tr>\n",
       "      <th>0</th>\n",
       "      <td>3667963787</td>\n",
       "      <td>3312258926</td>\n",
       "      <td>2019-08-15</td>\n",
       "      <td>1650</td>\n",
       "      <td>B</td>\n",
       "    </tr>\n",
       "    <tr>\n",
       "      <th>1</th>\n",
       "      <td>2804400009</td>\n",
       "      <td>3642806036</td>\n",
       "      <td>2019-08-15</td>\n",
       "      <td>730</td>\n",
       "      <td>B</td>\n",
       "    </tr>\n",
       "    <tr>\n",
       "      <th>2</th>\n",
       "      <td>2961555356</td>\n",
       "      <td>4069496402</td>\n",
       "      <td>2019-08-15</td>\n",
       "      <td>400</td>\n",
       "      <td>A</td>\n",
       "    </tr>\n",
       "    <tr>\n",
       "      <th>3</th>\n",
       "      <td>3797467345</td>\n",
       "      <td>1196621759</td>\n",
       "      <td>2019-08-15</td>\n",
       "      <td>9759</td>\n",
       "      <td>B</td>\n",
       "    </tr>\n",
       "    <tr>\n",
       "      <th>4</th>\n",
       "      <td>2282983706</td>\n",
       "      <td>2322279887</td>\n",
       "      <td>2019-08-15</td>\n",
       "      <td>2308</td>\n",
       "      <td>B</td>\n",
       "    </tr>\n",
       "  </tbody>\n",
       "</table>\n",
       "</div>"
      ],
      "text/plain": [
       "   transactionId   visitorId        date  revenue group\n",
       "0     3667963787  3312258926  2019-08-15     1650     B\n",
       "1     2804400009  3642806036  2019-08-15      730     B\n",
       "2     2961555356  4069496402  2019-08-15      400     A\n",
       "3     3797467345  1196621759  2019-08-15     9759     B\n",
       "4     2282983706  2322279887  2019-08-15     2308     B"
      ]
     },
     "metadata": {},
     "output_type": "display_data"
    },
    {
     "data": {
      "text/html": [
       "<div>\n",
       "<style scoped>\n",
       "    .dataframe tbody tr th:only-of-type {\n",
       "        vertical-align: middle;\n",
       "    }\n",
       "\n",
       "    .dataframe tbody tr th {\n",
       "        vertical-align: top;\n",
       "    }\n",
       "\n",
       "    .dataframe thead th {\n",
       "        text-align: right;\n",
       "    }\n",
       "</style>\n",
       "<table border=\"1\" class=\"dataframe\">\n",
       "  <thead>\n",
       "    <tr style=\"text-align: right;\">\n",
       "      <th></th>\n",
       "      <th>date</th>\n",
       "      <th>group</th>\n",
       "      <th>visitors</th>\n",
       "    </tr>\n",
       "  </thead>\n",
       "  <tbody>\n",
       "    <tr>\n",
       "      <th>0</th>\n",
       "      <td>2019-08-01</td>\n",
       "      <td>A</td>\n",
       "      <td>719</td>\n",
       "    </tr>\n",
       "    <tr>\n",
       "      <th>1</th>\n",
       "      <td>2019-08-02</td>\n",
       "      <td>A</td>\n",
       "      <td>619</td>\n",
       "    </tr>\n",
       "    <tr>\n",
       "      <th>2</th>\n",
       "      <td>2019-08-03</td>\n",
       "      <td>A</td>\n",
       "      <td>507</td>\n",
       "    </tr>\n",
       "    <tr>\n",
       "      <th>3</th>\n",
       "      <td>2019-08-04</td>\n",
       "      <td>A</td>\n",
       "      <td>717</td>\n",
       "    </tr>\n",
       "    <tr>\n",
       "      <th>4</th>\n",
       "      <td>2019-08-05</td>\n",
       "      <td>A</td>\n",
       "      <td>756</td>\n",
       "    </tr>\n",
       "  </tbody>\n",
       "</table>\n",
       "</div>"
      ],
      "text/plain": [
       "         date group  visitors\n",
       "0  2019-08-01     A       719\n",
       "1  2019-08-02     A       619\n",
       "2  2019-08-03     A       507\n",
       "3  2019-08-04     A       717\n",
       "4  2019-08-05     A       756"
      ]
     },
     "metadata": {},
     "output_type": "display_data"
    },
    {
     "name": "stdout",
     "output_type": "stream",
     "text": [
      "<class 'pandas.core.frame.DataFrame'>\n",
      "RangeIndex: 9 entries, 0 to 8\n",
      "Data columns (total 5 columns):\n",
      " #   Column      Non-Null Count  Dtype \n",
      "---  ------      --------------  ----- \n",
      " 0   Hypothesis  9 non-null      object\n",
      " 1   Reach       9 non-null      int64 \n",
      " 2   Impact      9 non-null      int64 \n",
      " 3   Confidence  9 non-null      int64 \n",
      " 4   Efforts     9 non-null      int64 \n",
      "dtypes: int64(4), object(1)\n",
      "memory usage: 488.0+ bytes\n",
      "<class 'pandas.core.frame.DataFrame'>\n",
      "RangeIndex: 1197 entries, 0 to 1196\n",
      "Data columns (total 5 columns):\n",
      " #   Column         Non-Null Count  Dtype \n",
      "---  ------         --------------  ----- \n",
      " 0   transactionId  1197 non-null   int64 \n",
      " 1   visitorId      1197 non-null   int64 \n",
      " 2   date           1197 non-null   object\n",
      " 3   revenue        1197 non-null   int64 \n",
      " 4   group          1197 non-null   object\n",
      "dtypes: int64(3), object(2)\n",
      "memory usage: 46.9+ KB\n",
      "<class 'pandas.core.frame.DataFrame'>\n",
      "RangeIndex: 62 entries, 0 to 61\n",
      "Data columns (total 3 columns):\n",
      " #   Column    Non-Null Count  Dtype \n",
      "---  ------    --------------  ----- \n",
      " 0   date      62 non-null     object\n",
      " 1   group     62 non-null     object\n",
      " 2   visitors  62 non-null     int64 \n",
      "dtypes: int64(1), object(2)\n",
      "memory usage: 1.6+ KB\n"
     ]
    }
   ],
   "source": [
    "# Открываем файлы и выводим на экран\n",
    "hypothesis = pd.read_csv('/datasets/hypothesis.csv')\n",
    "orders = pd.read_csv('/datasets/orders.csv')\n",
    "visitors = pd.read_csv('/datasets/visitors.csv')\n",
    "display(hypothesis)\n",
    "display(orders.head())\n",
    "display(visitors.head())\n",
    "# Вызываем функцию info() для оценки заполненности таблицы, соответствия типов данных столбцов хранимым в них значениях\n",
    "hypothesis.info()\n",
    "orders.info()\n",
    "visitors.info()"
   ]
  },
  {
   "cell_type": "code",
   "execution_count": 4,
   "metadata": {
    "scrolled": true
   },
   "outputs": [
    {
     "data": {
      "text/html": [
       "<div>\n",
       "<style scoped>\n",
       "    .dataframe tbody tr th:only-of-type {\n",
       "        vertical-align: middle;\n",
       "    }\n",
       "\n",
       "    .dataframe tbody tr th {\n",
       "        vertical-align: top;\n",
       "    }\n",
       "\n",
       "    .dataframe thead th {\n",
       "        text-align: right;\n",
       "    }\n",
       "</style>\n",
       "<table border=\"1\" class=\"dataframe\">\n",
       "  <thead>\n",
       "    <tr style=\"text-align: right;\">\n",
       "      <th></th>\n",
       "      <th>Hypothesis</th>\n",
       "      <th>ICE</th>\n",
       "    </tr>\n",
       "  </thead>\n",
       "  <tbody>\n",
       "    <tr>\n",
       "      <th>8</th>\n",
       "      <td>Запустить акцию, дающую скидку на товар в день рождения</td>\n",
       "      <td>16.200000</td>\n",
       "    </tr>\n",
       "    <tr>\n",
       "      <th>0</th>\n",
       "      <td>Добавить два новых канала привлечения трафика, что позволит привлекать на 30% больше пользователей</td>\n",
       "      <td>13.333333</td>\n",
       "    </tr>\n",
       "    <tr>\n",
       "      <th>7</th>\n",
       "      <td>Добавить форму подписки на все основные страницы, чтобы собрать базу клиентов для email-рассылок</td>\n",
       "      <td>11.200000</td>\n",
       "    </tr>\n",
       "    <tr>\n",
       "      <th>6</th>\n",
       "      <td>Показать на главной странице баннеры с актуальными акциями и распродажами, чтобы увеличить конве...</td>\n",
       "      <td>8.000000</td>\n",
       "    </tr>\n",
       "    <tr>\n",
       "      <th>2</th>\n",
       "      <td>Добавить блоки рекомендаций товаров на сайт интернет магазина, чтобы повысить конверсию и средни...</td>\n",
       "      <td>7.000000</td>\n",
       "    </tr>\n",
       "    <tr>\n",
       "      <th>1</th>\n",
       "      <td>Запустить собственную службу доставки, что сократит срок доставки заказов</td>\n",
       "      <td>2.000000</td>\n",
       "    </tr>\n",
       "    <tr>\n",
       "      <th>5</th>\n",
       "      <td>Добавить страницу отзывов клиентов о магазине, что позволит увеличить количество заказов</td>\n",
       "      <td>1.333333</td>\n",
       "    </tr>\n",
       "    <tr>\n",
       "      <th>3</th>\n",
       "      <td>Изменить структура категорий, что увеличит конверсию, т.к. пользователи быстрее найдут нужный товар</td>\n",
       "      <td>1.125000</td>\n",
       "    </tr>\n",
       "    <tr>\n",
       "      <th>4</th>\n",
       "      <td>Изменить цвет фона главной страницы, чтобы увеличить вовлеченность пользователей</td>\n",
       "      <td>1.000000</td>\n",
       "    </tr>\n",
       "  </tbody>\n",
       "</table>\n",
       "</div>"
      ],
      "text/plain": [
       "                                                                                            Hypothesis  \\\n",
       "8                                              Запустить акцию, дающую скидку на товар в день рождения   \n",
       "0   Добавить два новых канала привлечения трафика, что позволит привлекать на 30% больше пользователей   \n",
       "7     Добавить форму подписки на все основные страницы, чтобы собрать базу клиентов для email-рассылок   \n",
       "6  Показать на главной странице баннеры с актуальными акциями и распродажами, чтобы увеличить конве...   \n",
       "2  Добавить блоки рекомендаций товаров на сайт интернет магазина, чтобы повысить конверсию и средни...   \n",
       "1                            Запустить собственную службу доставки, что сократит срок доставки заказов   \n",
       "5             Добавить страницу отзывов клиентов о магазине, что позволит увеличить количество заказов   \n",
       "3  Изменить структура категорий, что увеличит конверсию, т.к. пользователи быстрее найдут нужный товар   \n",
       "4                     Изменить цвет фона главной страницы, чтобы увеличить вовлеченность пользователей   \n",
       "\n",
       "         ICE  \n",
       "8  16.200000  \n",
       "0  13.333333  \n",
       "7  11.200000  \n",
       "6   8.000000  \n",
       "2   7.000000  \n",
       "1   2.000000  \n",
       "5   1.333333  \n",
       "3   1.125000  \n",
       "4   1.000000  "
      ]
     },
     "metadata": {},
     "output_type": "display_data"
    }
   ],
   "source": [
    "#Применим фреймворк ICE для приоритизации гипотез. Отсортируем их по убыванию приоритета.\n",
    "hypothesis['ICE'] = hypothesis['Impact']*hypothesis['Confidence']/hypothesis['Efforts']\n",
    "display(hypothesis[['Hypothesis', 'ICE']].sort_values(by='ICE', ascending=False))"
   ]
  },
  {
   "cell_type": "code",
   "execution_count": 5,
   "metadata": {},
   "outputs": [
    {
     "data": {
      "text/html": [
       "<div>\n",
       "<style scoped>\n",
       "    .dataframe tbody tr th:only-of-type {\n",
       "        vertical-align: middle;\n",
       "    }\n",
       "\n",
       "    .dataframe tbody tr th {\n",
       "        vertical-align: top;\n",
       "    }\n",
       "\n",
       "    .dataframe thead th {\n",
       "        text-align: right;\n",
       "    }\n",
       "</style>\n",
       "<table border=\"1\" class=\"dataframe\">\n",
       "  <thead>\n",
       "    <tr style=\"text-align: right;\">\n",
       "      <th></th>\n",
       "      <th>Hypothesis</th>\n",
       "      <th>RICE</th>\n",
       "    </tr>\n",
       "  </thead>\n",
       "  <tbody>\n",
       "    <tr>\n",
       "      <th>7</th>\n",
       "      <td>Добавить форму подписки на все основные страницы, чтобы собрать базу клиентов для email-рассылок</td>\n",
       "      <td>112.0</td>\n",
       "    </tr>\n",
       "    <tr>\n",
       "      <th>2</th>\n",
       "      <td>Добавить блоки рекомендаций товаров на сайт интернет магазина, чтобы повысить конверсию и средни...</td>\n",
       "      <td>56.0</td>\n",
       "    </tr>\n",
       "    <tr>\n",
       "      <th>0</th>\n",
       "      <td>Добавить два новых канала привлечения трафика, что позволит привлекать на 30% больше пользователей</td>\n",
       "      <td>40.0</td>\n",
       "    </tr>\n",
       "    <tr>\n",
       "      <th>6</th>\n",
       "      <td>Показать на главной странице баннеры с актуальными акциями и распродажами, чтобы увеличить конве...</td>\n",
       "      <td>40.0</td>\n",
       "    </tr>\n",
       "    <tr>\n",
       "      <th>8</th>\n",
       "      <td>Запустить акцию, дающую скидку на товар в день рождения</td>\n",
       "      <td>16.2</td>\n",
       "    </tr>\n",
       "    <tr>\n",
       "      <th>3</th>\n",
       "      <td>Изменить структура категорий, что увеличит конверсию, т.к. пользователи быстрее найдут нужный товар</td>\n",
       "      <td>9.0</td>\n",
       "    </tr>\n",
       "    <tr>\n",
       "      <th>1</th>\n",
       "      <td>Запустить собственную службу доставки, что сократит срок доставки заказов</td>\n",
       "      <td>4.0</td>\n",
       "    </tr>\n",
       "    <tr>\n",
       "      <th>5</th>\n",
       "      <td>Добавить страницу отзывов клиентов о магазине, что позволит увеличить количество заказов</td>\n",
       "      <td>4.0</td>\n",
       "    </tr>\n",
       "    <tr>\n",
       "      <th>4</th>\n",
       "      <td>Изменить цвет фона главной страницы, чтобы увеличить вовлеченность пользователей</td>\n",
       "      <td>3.0</td>\n",
       "    </tr>\n",
       "  </tbody>\n",
       "</table>\n",
       "</div>"
      ],
      "text/plain": [
       "                                                                                            Hypothesis  \\\n",
       "7     Добавить форму подписки на все основные страницы, чтобы собрать базу клиентов для email-рассылок   \n",
       "2  Добавить блоки рекомендаций товаров на сайт интернет магазина, чтобы повысить конверсию и средни...   \n",
       "0   Добавить два новых канала привлечения трафика, что позволит привлекать на 30% больше пользователей   \n",
       "6  Показать на главной странице баннеры с актуальными акциями и распродажами, чтобы увеличить конве...   \n",
       "8                                              Запустить акцию, дающую скидку на товар в день рождения   \n",
       "3  Изменить структура категорий, что увеличит конверсию, т.к. пользователи быстрее найдут нужный товар   \n",
       "1                            Запустить собственную службу доставки, что сократит срок доставки заказов   \n",
       "5             Добавить страницу отзывов клиентов о магазине, что позволит увеличить количество заказов   \n",
       "4                     Изменить цвет фона главной страницы, чтобы увеличить вовлеченность пользователей   \n",
       "\n",
       "    RICE  \n",
       "7  112.0  \n",
       "2   56.0  \n",
       "0   40.0  \n",
       "6   40.0  \n",
       "8   16.2  \n",
       "3    9.0  \n",
       "1    4.0  \n",
       "5    4.0  \n",
       "4    3.0  "
      ]
     },
     "metadata": {},
     "output_type": "display_data"
    }
   ],
   "source": [
    "#Применим фреймворк RICE для приоритизации гипотез. Отсортируем их по убыванию приоритета.\n",
    "hypothesis['RICE'] = hypothesis['Reach']*hypothesis['Impact']*hypothesis['Confidence']/hypothesis['Efforts']\n",
    "display(hypothesis[['Hypothesis', 'RICE']].sort_values(by='RICE', ascending=False))"
   ]
  },
  {
   "cell_type": "markdown",
   "metadata": {},
   "source": [
    "**Вывод:** Наиболее перспективные гипотезы по ICE - 8, 0, 7, 6. Наиболее перспективные гипотезы по RICE - 7, 2, 0, 6. Гипотезы 0, 7, 6 имеются и там, и там. Однако, в случае с RICE  на первом месте гипотеза 7, тк у ее параметр Rich равен 10, у других гипотез он меньше, а гипотеза 8 не вошла в список перспективных, тк ее параметр Rich равен 1."
   ]
  },
  {
   "cell_type": "markdown",
   "metadata": {},
   "source": [
    "# Часть 2. Анализ A/B-теста"
   ]
  },
  {
   "cell_type": "code",
   "execution_count": 6,
   "metadata": {},
   "outputs": [],
   "source": [
    "# К каждому значению столбца date применим lambda-функцию\n",
    "orders['date'] = orders['date'].map(\n",
    "    lambda x: dt.datetime.strptime(x, '%Y-%m-%d')\n",
    ")\n",
    "visitors['date'] = visitors['date'].map(\n",
    "    lambda x: dt.datetime.strptime(x, '%Y-%m-%d')\n",
    ")\n"
   ]
  },
  {
   "cell_type": "code",
   "execution_count": 7,
   "metadata": {},
   "outputs": [
    {
     "data": {
      "text/html": [
       "<div>\n",
       "<style scoped>\n",
       "    .dataframe tbody tr th:only-of-type {\n",
       "        vertical-align: middle;\n",
       "    }\n",
       "\n",
       "    .dataframe tbody tr th {\n",
       "        vertical-align: top;\n",
       "    }\n",
       "\n",
       "    .dataframe thead th {\n",
       "        text-align: right;\n",
       "    }\n",
       "</style>\n",
       "<table border=\"1\" class=\"dataframe\">\n",
       "  <thead>\n",
       "    <tr style=\"text-align: right;\">\n",
       "      <th></th>\n",
       "      <th>groups</th>\n",
       "      <th>group_names</th>\n",
       "    </tr>\n",
       "    <tr>\n",
       "      <th>visitorId</th>\n",
       "      <th></th>\n",
       "      <th></th>\n",
       "    </tr>\n",
       "  </thead>\n",
       "  <tbody>\n",
       "    <tr>\n",
       "      <th>8300375</th>\n",
       "      <td>2</td>\n",
       "      <td>[B, A]</td>\n",
       "    </tr>\n",
       "    <tr>\n",
       "      <th>199603092</th>\n",
       "      <td>2</td>\n",
       "      <td>[A, B]</td>\n",
       "    </tr>\n",
       "    <tr>\n",
       "      <th>232979603</th>\n",
       "      <td>2</td>\n",
       "      <td>[B, A]</td>\n",
       "    </tr>\n",
       "    <tr>\n",
       "      <th>237748145</th>\n",
       "      <td>2</td>\n",
       "      <td>[B, A]</td>\n",
       "    </tr>\n",
       "    <tr>\n",
       "      <th>276558944</th>\n",
       "      <td>2</td>\n",
       "      <td>[B, A]</td>\n",
       "    </tr>\n",
       "  </tbody>\n",
       "</table>\n",
       "</div>"
      ],
      "text/plain": [
       "           groups group_names\n",
       "visitorId                    \n",
       "8300375         2      [B, A]\n",
       "199603092       2      [A, B]\n",
       "232979603       2      [B, A]\n",
       "237748145       2      [B, A]\n",
       "276558944       2      [B, A]"
      ]
     },
     "metadata": {},
     "output_type": "display_data"
    },
    {
     "name": "stdout",
     "output_type": "stream",
     "text": [
      "<class 'pandas.core.frame.DataFrame'>\n",
      "Int64Index: 58 entries, 8300375 to 4266935830\n",
      "Data columns (total 2 columns):\n",
      " #   Column       Non-Null Count  Dtype \n",
      "---  ------       --------------  ----- \n",
      " 0   groups       58 non-null     int64 \n",
      " 1   group_names  58 non-null     object\n",
      "dtypes: int64(1), object(1)\n",
      "memory usage: 1.4+ KB\n"
     ]
    },
    {
     "data": {
      "text/plain": [
       "None"
      ]
     },
     "metadata": {},
     "output_type": "display_data"
    }
   ],
   "source": [
    "# Проверим на наличие пользователей одновременно в 2х группах\n",
    "duplicated_users = orders.groupby('visitorId').agg({'group': ['nunique', 'unique']})\n",
    "duplicated_users.columns = ['groups', 'group_names']\n",
    "duplicated_users = duplicated_users.query('groups > 1')\n",
    "display(duplicated_users.head())\n",
    "display(duplicated_users.info())"
   ]
  },
  {
   "cell_type": "markdown",
   "metadata": {},
   "source": [
    "Вывод: 58 пользователей оказались одновременно в 2х группах. Не будем их удалять, тк на результаты исследования они не сильно повлияют."
   ]
  },
  {
   "cell_type": "code",
   "execution_count": 8,
   "metadata": {},
   "outputs": [],
   "source": [
    "# Создадим датафрейм datesGroups с уникальными парами значений 'date' и 'group' таблицы orders. \n",
    "# Избавимся от дубликатов методом drop_duplicates().\n",
    "datesGroups = orders[['date', 'group']].drop_duplicates()"
   ]
  },
  {
   "cell_type": "code",
   "execution_count": 9,
   "metadata": {},
   "outputs": [],
   "source": [
    "# Объявим переменную ordersAggregated, содержащую: дату; группу A/B-теста; число уникальных заказов в группе теста по указанную дату включительно;\n",
    "# число уникальных пользователей, совершивших хотя бы 1 заказ в группе теста по указанную дату включительно;\n",
    "# суммарную выручку заказов в группе теста по указанную дату включительно\n",
    "ordersAggregated = datesGroups.apply(lambda x: orders[np.logical_and(orders['date'] <= x['date'], orders['group'] == x['group'])]\\\n",
    ".agg({'date' : 'max', 'group' : 'max', 'transactionId' : 'nunique', 'visitorId' : 'nunique', 'revenue' : 'sum'}), axis=1).sort_values(by=['date','group'])"
   ]
  },
  {
   "cell_type": "code",
   "execution_count": 10,
   "metadata": {},
   "outputs": [],
   "source": [
    "#  Объявим переменную visitorsAggregated, содержащую: дату; группу A/B-теста; количество уникальных посетителей в группе теста по указанную дату включительно.\n",
    "visitorsAggregated = datesGroups.apply(lambda x: visitors[np.logical_and(visitors['date'] <= x['date'], visitors['group'] == x['group'])].agg({'date' : 'max', 'group' : 'max', 'visitors' : 'sum'}), axis=1).sort_values(by=['date','group'])"
   ]
  },
  {
   "cell_type": "code",
   "execution_count": 11,
   "metadata": {},
   "outputs": [
    {
     "data": {
      "text/html": [
       "<div>\n",
       "<style scoped>\n",
       "    .dataframe tbody tr th:only-of-type {\n",
       "        vertical-align: middle;\n",
       "    }\n",
       "\n",
       "    .dataframe tbody tr th {\n",
       "        vertical-align: top;\n",
       "    }\n",
       "\n",
       "    .dataframe thead th {\n",
       "        text-align: right;\n",
       "    }\n",
       "</style>\n",
       "<table border=\"1\" class=\"dataframe\">\n",
       "  <thead>\n",
       "    <tr style=\"text-align: right;\">\n",
       "      <th></th>\n",
       "      <th>date</th>\n",
       "      <th>group</th>\n",
       "      <th>orders</th>\n",
       "      <th>buyers</th>\n",
       "      <th>revenue</th>\n",
       "      <th>visitors</th>\n",
       "    </tr>\n",
       "  </thead>\n",
       "  <tbody>\n",
       "    <tr>\n",
       "      <th>0</th>\n",
       "      <td>2019-08-01</td>\n",
       "      <td>A</td>\n",
       "      <td>24</td>\n",
       "      <td>20</td>\n",
       "      <td>148579</td>\n",
       "      <td>719</td>\n",
       "    </tr>\n",
       "    <tr>\n",
       "      <th>1</th>\n",
       "      <td>2019-08-01</td>\n",
       "      <td>B</td>\n",
       "      <td>21</td>\n",
       "      <td>20</td>\n",
       "      <td>101217</td>\n",
       "      <td>713</td>\n",
       "    </tr>\n",
       "    <tr>\n",
       "      <th>2</th>\n",
       "      <td>2019-08-02</td>\n",
       "      <td>A</td>\n",
       "      <td>44</td>\n",
       "      <td>38</td>\n",
       "      <td>242401</td>\n",
       "      <td>1338</td>\n",
       "    </tr>\n",
       "    <tr>\n",
       "      <th>3</th>\n",
       "      <td>2019-08-02</td>\n",
       "      <td>B</td>\n",
       "      <td>45</td>\n",
       "      <td>43</td>\n",
       "      <td>266748</td>\n",
       "      <td>1294</td>\n",
       "    </tr>\n",
       "    <tr>\n",
       "      <th>4</th>\n",
       "      <td>2019-08-03</td>\n",
       "      <td>A</td>\n",
       "      <td>68</td>\n",
       "      <td>62</td>\n",
       "      <td>354874</td>\n",
       "      <td>1845</td>\n",
       "    </tr>\n",
       "  </tbody>\n",
       "</table>\n",
       "</div>"
      ],
      "text/plain": [
       "        date group  orders  buyers  revenue  visitors\n",
       "0 2019-08-01     A      24      20   148579       719\n",
       "1 2019-08-01     B      21      20   101217       713\n",
       "2 2019-08-02     A      44      38   242401      1338\n",
       "3 2019-08-02     B      45      43   266748      1294\n",
       "4 2019-08-03     A      68      62   354874      1845"
      ]
     },
     "metadata": {},
     "output_type": "display_data"
    }
   ],
   "source": [
    "# Определим переменную cumulativeData, объединив ordersAggregated и visitorsAggregated по колонкам 'date', 'group' методом merge()\n",
    "# Присвоим столбцам cumulativeData названия ['date', 'group', 'orders', 'buyers', 'revenue', 'visitors']\n",
    "cumulativeData = ordersAggregated.merge(visitorsAggregated, left_on=['date', 'group'], right_on=['date', 'group'])\n",
    "cumulativeData.columns = ['date', 'group', 'orders', 'buyers', 'revenue', 'visitors']\n",
    "display(cumulativeData.head(5)) "
   ]
  },
  {
   "cell_type": "code",
   "execution_count": 12,
   "metadata": {},
   "outputs": [],
   "source": [
    "# Объявим переменные cumulativeRevenueA и cumulativeRevenueB, в которых сохраним данные о датах, выручке и числе заказов в группах A и B.\n",
    "cumulativeRevenueA = cumulativeData[cumulativeData['group']=='A'][['date','revenue', 'orders']]\n",
    "cumulativeRevenueB = cumulativeData[cumulativeData['group']=='B'][['date','revenue', 'orders']]"
   ]
  },
  {
   "cell_type": "code",
   "execution_count": 13,
   "metadata": {},
   "outputs": [
    {
     "data": {
      "text/plain": [
       "<matplotlib.legend.Legend at 0x7f9523f27f10>"
      ]
     },
     "execution_count": 13,
     "metadata": {},
     "output_type": "execute_result"
    },
    {
     "data": {
      "image/png": "[encoded data removed]",
      "text/plain": [
       "<Figure size 432x288 with 1 Axes>"
      ]
     },
     "metadata": {
      "needs_background": "light"
     },
     "output_type": "display_data"
    }
   ],
   "source": [
    "# Построим графики кумулятивной выручки по дням по группам.\n",
    "plt.plot(cumulativeRevenueA['date'], cumulativeRevenueA['revenue'], label='A')\n",
    "plt.plot(cumulativeRevenueB['date'], cumulativeRevenueB['revenue'], label='B')\n",
    "plt.xticks(rotation='70')\n",
    "plt.xlabel('дата')\n",
    "plt.ylabel('выручка')\n",
    "plt.title('График кумулятивной выручки по дням')\n",
    "plt.legend()"
   ]
  },
  {
   "cell_type": "markdown",
   "metadata": {},
   "source": [
    "Вывод: почти сразу после начала теста сегмент В лидировал, с середины теста - значительно вырвался вперед. Похоже, аномально большие заказы влияют на результаты."
   ]
  },
  {
   "cell_type": "code",
   "execution_count": 14,
   "metadata": {},
   "outputs": [
    {
     "data": {
      "text/plain": [
       "<matplotlib.legend.Legend at 0x7f9523b98760>"
      ]
     },
     "execution_count": 14,
     "metadata": {},
     "output_type": "execute_result"
    },
    {
     "data": {
      "image/png": "[encoded data removed]",
      "text/plain": [
       "<Figure size 432x288 with 1 Axes>"
      ]
     },
     "metadata": {
      "needs_background": "light"
     },
     "output_type": "display_data"
    }
   ],
   "source": [
    "# Для каждой группы построим графики кумулятивного среднего чека по дням.\n",
    "plt.plot(cumulativeRevenueA['date'], cumulativeRevenueA['revenue']/cumulativeRevenueA['orders'], label='A')\n",
    "plt.plot(cumulativeRevenueB['date'], cumulativeRevenueB['revenue']/cumulativeRevenueB['orders'], label='B')\n",
    "plt.xticks(rotation='70')\n",
    "plt.xlabel('дата')\n",
    "plt.ylabel('средний чек')\n",
    "plt.title('График кумулятивного среднего чека по дням')\n",
    "plt.legend() "
   ]
  },
  {
   "cell_type": "markdown",
   "metadata": {},
   "source": [
    "Вывод: C середины теста кумулятивное значение среднего чека сегмента В значительно выше. "
   ]
  },
  {
   "cell_type": "code",
   "execution_count": 15,
   "metadata": {},
   "outputs": [
    {
     "data": {
      "image/png": "[encoded data removed]",
      "text/plain": [
       "<Figure size 432x288 with 1 Axes>"
      ]
     },
     "metadata": {
      "needs_background": "light"
     },
     "output_type": "display_data"
    }
   ],
   "source": [
    "# Объединим таблицы cumulativeRevenueA и cumulativeRevenueB методом merge() так, чтобы она содержала столбцы: ['date', 'revenueA', 'revenueB', 'ordersA', 'ordersB']. \n",
    "# Построим график относительного различия кумулятивного среднего чека группы B к группе A.\n",
    "mergedCumulativeRevenue = cumulativeRevenueA.merge(cumulativeRevenueB, left_on='date', right_on='date', how='left', suffixes=['A', 'B'])\n",
    "\n",
    "plt.plot(mergedCumulativeRevenue['date'], (mergedCumulativeRevenue['revenueB']/mergedCumulativeRevenue['ordersB'])/(mergedCumulativeRevenue['revenueA']/mergedCumulativeRevenue['ordersA'])-1)\n",
    "plt.axhline(y=0, color='black', linestyle='--') \n",
    "plt.xticks(rotation='70')\n",
    "plt.title('График относительного различия кумулятивного среднего чека группы B к группе A')\n",
    "plt.show()"
   ]
  },
  {
   "cell_type": "markdown",
   "metadata": {},
   "source": [
    "Вывод: Результаты теста значительно и резко менялись в несколько дат. Видимо, тогда были совершены аномальные заказы."
   ]
  },
  {
   "cell_type": "code",
   "execution_count": 16,
   "metadata": {},
   "outputs": [
    {
     "data": {
      "text/plain": [
       "(18109.0, 18140.0, 0.0, 0.05)"
      ]
     },
     "execution_count": 16,
     "metadata": {},
     "output_type": "execute_result"
    },
    {
     "data": {
      "image/png": "[encoded data removed]",
      "text/plain": [
       "<Figure size 432x288 with 1 Axes>"
      ]
     },
     "metadata": {
      "needs_background": "light"
     },
     "output_type": "display_data"
    }
   ],
   "source": [
    "# Добавим в cumulativeData столбец 'conversion' c отношением числа заказов к количеству пользователей в указанной группе в указанный день.\n",
    "# Объявим переменные cumulativeDataA и cumulativeDataB, в которых сохраним данные о заказах в сегментах A и B соответственно.\n",
    "# Построим графики кумулятивной конверсии по дням по группам.\n",
    "cumulativeData['conversion'] = cumulativeData['orders']/cumulativeData['visitors']\n",
    "cumulativeDataA = cumulativeData[cumulativeData['group']=='A']\n",
    "cumulativeDataB = cumulativeData[cumulativeData['group']=='B']\n",
    "plt.plot(cumulativeDataA['date'], cumulativeDataA['conversion'], label='A')\n",
    "plt.plot(cumulativeDataB['date'], cumulativeDataB['conversion'], label='B')\n",
    "plt.xticks(rotation='70')\n",
    "plt.title('График кумулятивной конверсии по дням по группам')\n",
    "plt.legend()\n",
    "plt.axis([dt.datetime(2019, 8, 1), dt.datetime(2019, 9, 1), 0, 0.05])"
   ]
  },
  {
   "cell_type": "markdown",
   "metadata": {},
   "source": [
    "Вывод: в начале теста сегмент А имел большую конверсию, но затем сегмент В выровнялся и зафиксировался примерно около одного значения, больше значения сегмента А."
   ]
  },
  {
   "cell_type": "code",
   "execution_count": 17,
   "metadata": {},
   "outputs": [
    {
     "data": {
      "text/plain": [
       "(18109.0, 18140.0, -0.5, 0.5)"
      ]
     },
     "execution_count": 17,
     "metadata": {},
     "output_type": "execute_result"
    },
    {
     "data": {
      "image/png": "[encoded data removed]",
      "text/plain": [
       "<Figure size 432x288 with 1 Axes>"
      ]
     },
     "metadata": {
      "needs_background": "light"
     },
     "output_type": "display_data"
    }
   ],
   "source": [
    "# Объединим таблицы cumulativeDataA и cumulativeDataB методом merge() так, чтобы она содержала столбцы: ['date', 'conversionA', 'conversionB'].\n",
    "# Построим график относительного различия кумулятивной конверсии группы B к группе A.\n",
    "mergedCumulativeConversions = cumulativeDataA[['date','conversion']].merge(cumulativeDataB[['date','conversion']], left_on='date', right_on='date', how='left', suffixes=['A', 'B'])\n",
    "plt.plot(mergedCumulativeConversions['date'], mergedCumulativeConversions['conversionB']/mergedCumulativeConversions['conversionA']-1, label=\"Относительный прирост конверсии группы B относительно группы A\")\n",
    "plt.xticks(rotation='70')\n",
    "plt.title('График относительного различия кумулятивной конверсии группы B к группе A')\n",
    "plt.legend()\n",
    "plt.axhline(y=0, color='black', linestyle='--')\n",
    "plt.axhline(y=0.2, color='grey', linestyle='--')\n",
    "plt.axis([dt.datetime(2019, 8, 1), dt.datetime(2019, 9, 1), -0.5, 0.5])"
   ]
  },
  {
   "cell_type": "markdown",
   "metadata": {},
   "source": [
    "Вывод: почти с самого начала теста группа В лидирует по конверсии: становится лучше и лучше, либо фиксировалась около прироста в 20% относительно группы А."
   ]
  },
  {
   "cell_type": "code",
   "execution_count": 18,
   "metadata": {},
   "outputs": [],
   "source": [
    "# создадим датафрейм c двумя столбцами: 'userId' и 'orders'\n",
    "ordersByUsers = (\n",
    "    orders.groupby('visitorId', as_index=False)\n",
    "    .agg({'transactionId': 'nunique'})\n",
    ")\n",
    "ordersByUsers.columns = ['userId', 'orders']"
   ]
  },
  {
   "cell_type": "code",
   "execution_count": 19,
   "metadata": {},
   "outputs": [
    {
     "data": {
      "text/plain": [
       "Text(0.5, 1.0, 'График количества заказов по пользователям')"
      ]
     },
     "execution_count": 19,
     "metadata": {},
     "output_type": "execute_result"
    },
    {
     "data": {
      "image/png": "[encoded data removed]",
      "text/plain": [
       "<Figure size 432x288 with 1 Axes>"
      ]
     },
     "metadata": {
      "needs_background": "light"
     },
     "output_type": "display_data"
    }
   ],
   "source": [
    "# Построим точечный график количества заказов по пользователям.\n",
    "x_values = pd.Series(range(0, len(ordersByUsers)))\n",
    "plt.scatter(x_values, ordersByUsers['orders']) \n",
    "plt.title('График количества заказов по пользователям')"
   ]
  },
  {
   "cell_type": "markdown",
   "metadata": {},
   "source": [
    "Вывод: пользователей, заказавших более 2х раз, мало. Они могут быть аномальными."
   ]
  },
  {
   "cell_type": "code",
   "execution_count": 20,
   "metadata": {},
   "outputs": [
    {
     "data": {
      "text/plain": [
       "array([2., 4.])"
      ]
     },
     "metadata": {},
     "output_type": "display_data"
    }
   ],
   "source": [
    "# Посчитаем 95-й и 99-й перцентили количества заказов на пользователя.\n",
    "display(np.percentile(ordersByUsers['orders'], [95, 99]))"
   ]
  },
  {
   "cell_type": "markdown",
   "metadata": {},
   "source": [
    "Вывод: не более 5% пользователей совершали более 2х заказов. И не более 1% пользователей - больше 4 заказов. Нижняя граница для определения аномальных пользователей - те, которые совершили более 2х заказов."
   ]
  },
  {
   "cell_type": "code",
   "execution_count": 21,
   "metadata": {},
   "outputs": [
    {
     "data": {
      "text/plain": [
       "Text(0.5, 1.0, 'График стоимостей заказов')"
      ]
     },
     "execution_count": 21,
     "metadata": {},
     "output_type": "execute_result"
    },
    {
     "data": {
      "image/png": "[encoded data removed]",
      "text/plain": [
       "<Figure size 432x288 with 1 Axes>"
      ]
     },
     "metadata": {
      "needs_background": "light"
     },
     "output_type": "display_data"
    }
   ],
   "source": [
    "# Построим точечный график стоимостей заказов. \n",
    "x_values = pd.Series(range(0, len(orders['revenue'])))\n",
    "\n",
    "plt.scatter(x_values, orders['revenue']) \n",
    "plt.title('График стоимостей заказов')"
   ]
  },
  {
   "cell_type": "code",
   "execution_count": 22,
   "metadata": {},
   "outputs": [
    {
     "data": {
      "text/plain": [
       "(0.0, 1200.0, 0.0, 200000.0)"
      ]
     },
     "execution_count": 22,
     "metadata": {},
     "output_type": "execute_result"
    },
    {
     "data": {
      "image/png": "[encoded data removed]",
      "text/plain": [
       "<Figure size 432x288 with 1 Axes>"
      ]
     },
     "metadata": {
      "needs_background": "light"
     },
     "output_type": "display_data"
    }
   ],
   "source": [
    "plt.scatter(x_values, orders['revenue']) \n",
    "plt.title('График стоимостей заказов')\n",
    "plt.axis([0, 1200, 0, 0.2e6])"
   ]
  },
  {
   "cell_type": "markdown",
   "metadata": {},
   "source": [
    "Вывод: заказов стоимостью более 150 000 руб мало. Имеются выбросы в районе 200 000руб и 1 300 000руб (они выглядят как аномальные заказы)."
   ]
  },
  {
   "cell_type": "code",
   "execution_count": 23,
   "metadata": {},
   "outputs": [
    {
     "data": {
      "text/plain": [
       "array([28000. , 58233.2])"
      ]
     },
     "metadata": {},
     "output_type": "display_data"
    }
   ],
   "source": [
    "# Посчитаем 95-й и 99-й перцентили стоимости заказов\n",
    "display(np.percentile(orders['revenue'], [95, 99])) "
   ]
  },
  {
   "cell_type": "markdown",
   "metadata": {},
   "source": [
    "Вывод: не более 5% заказов дороже 28 000 руб, не более 1% заказов дороже 58 233руб. Нижняя граница для определения аномальных заказов- 30 000 руб."
   ]
  },
  {
   "cell_type": "markdown",
   "metadata": {},
   "source": [
    "**Сформулируем гипотезы.** Нулевая: различий в конверсии между группами нет. Альтернативная: различия в конверсии между группами есть."
   ]
  },
  {
   "cell_type": "code",
   "execution_count": 24,
   "metadata": {},
   "outputs": [],
   "source": [
    "# Подготовим данные\n",
    "visitorsADaily = visitors[visitors['group'] == 'A'][['date', 'visitors']]\n",
    "visitorsADaily.columns = ['date', 'visitorsPerDateA']\n",
    "\n",
    "visitorsACummulative = visitorsADaily.apply(\n",
    "    lambda x: visitorsADaily[visitorsADaily['date'] <= x['date']].agg(\n",
    "        {'date': 'max', 'visitorsPerDateA': 'sum'}\n",
    "    ),\n",
    "    axis=1,\n",
    ")\n",
    "visitorsACummulative.columns = ['date', 'visitorsCummulativeA']\n",
    "\n",
    "visitorsBDaily = visitors[visitors['group'] == 'B'][['date', 'visitors']]\n",
    "visitorsBDaily.columns = ['date', 'visitorsPerDateB']\n",
    "\n",
    "visitorsBCummulative = visitorsBDaily.apply(\n",
    "    lambda x: visitorsBDaily[visitorsBDaily['date'] <= x['date']].agg(\n",
    "        {'date': 'max', 'visitorsPerDateB': 'sum'}\n",
    "    ),\n",
    "    axis=1,\n",
    ")\n",
    "visitorsBCummulative.columns = ['date', 'visitorsCummulativeB']\n",
    "\n",
    "ordersADaily = (\n",
    "    orders[orders['group'] == 'A'][['date', 'transactionId', 'visitorId', 'revenue']]\n",
    "    .groupby('date', as_index=False)\n",
    "    .agg({'transactionId': pd.Series.nunique, 'revenue': 'sum'})\n",
    ")\n",
    "ordersADaily.columns = ['date', 'ordersPerDateA', 'revenuePerDateA']\n",
    "\n",
    "ordersACummulative = ordersADaily.apply(\n",
    "    lambda x: ordersADaily[ordersADaily['date'] <= x['date']].agg(\n",
    "        {'date': 'max', 'ordersPerDateA': 'sum', 'revenuePerDateA': 'sum'}\n",
    "    ),\n",
    "    axis=1,\n",
    ").sort_values(by=['date'])\n",
    "ordersACummulative.columns = [\n",
    "    'date',\n",
    "    'ordersCummulativeA',\n",
    "    'revenueCummulativeA',\n",
    "]\n",
    "\n",
    "ordersBDaily = (\n",
    "    orders[orders['group'] == 'B'][['date', 'transactionId', 'visitorId', 'revenue']]\n",
    "    .groupby('date', as_index=False)\n",
    "    .agg({'transactionId': pd.Series.nunique, 'revenue': 'sum'})\n",
    ")\n",
    "ordersBDaily.columns = ['date', 'ordersPerDateB', 'revenuePerDateB']\n",
    "\n",
    "ordersBCummulative = ordersBDaily.apply(\n",
    "    lambda x: ordersBDaily[ordersBDaily['date'] <= x['date']].agg(\n",
    "        {'date': 'max', 'ordersPerDateB': 'sum', 'revenuePerDateB': 'sum'}\n",
    "    ),\n",
    "    axis=1,\n",
    ").sort_values(by=['date'])\n",
    "ordersBCummulative.columns = [\n",
    "    'date',\n",
    "    'ordersCummulativeB',\n",
    "    'revenueCummulativeB',\n",
    "]\n",
    "\n",
    "data = (\n",
    "    ordersADaily.merge(\n",
    "        ordersBDaily, left_on='date', right_on='date', how='left'\n",
    "    )\n",
    "    .merge(ordersACummulative, left_on='date', right_on='date', how='left')\n",
    "    .merge(ordersBCummulative, left_on='date', right_on='date', how='left')\n",
    "    .merge(visitorsADaily, left_on='date', right_on='date', how='left')\n",
    "    .merge(visitorsBDaily, left_on='date', right_on='date', how='left')\n",
    "    .merge(visitorsACummulative, left_on='date', right_on='date', how='left')\n",
    "    .merge(visitorsBCummulative, left_on='date', right_on='date', how='left')\n",
    ")"
   ]
  },
  {
   "cell_type": "code",
   "execution_count": 25,
   "metadata": {},
   "outputs": [],
   "source": [
    "# создадим переменные ordersByUsersA и ordersByUsersB со столбцами ['userId', 'orders'], \n",
    "# где для пользователей, совершивших хотя бы 1 заказ, будет указано число заказов.\n",
    "ordersByUsersA = (\n",
    "    orders[orders['group'] == 'A']\n",
    "    .groupby('visitorId', as_index=False)\n",
    "    .agg({'transactionId': pd.Series.nunique})\n",
    ")\n",
    "ordersByUsersA.columns = ['userId', 'orders']\n",
    "\n",
    "ordersByUsersB = (\n",
    "    orders[orders['group'] == 'B']\n",
    "    .groupby('visitorId', as_index=False)\n",
    "    .agg({'transactionId': pd.Series.nunique})\n",
    ")\n",
    "ordersByUsersB.columns = ['userId', 'orders'] "
   ]
  },
  {
   "cell_type": "code",
   "execution_count": 26,
   "metadata": {},
   "outputs": [],
   "source": [
    "# Объявим переменные sampleA и sampleB, \n",
    "# в которых пользователям с заказами будет соответствовать число заказов пользователя, а пользователям без заказов — нули. \n",
    "sampleA = pd.concat(\n",
    "    [\n",
    "        ordersByUsersA['orders'],\n",
    "        pd.Series(\n",
    "            0,\n",
    "            index=np.arange(\n",
    "                data['visitorsPerDateA'].sum() - len(ordersByUsersA['orders'])\n",
    "            ),\n",
    "            name='orders',\n",
    "        ),\n",
    "    ],\n",
    "    axis=0,\n",
    ")\n",
    "\n",
    "sampleB = pd.concat(\n",
    "    [\n",
    "        ordersByUsersB['orders'],\n",
    "        pd.Series(\n",
    "            0,\n",
    "            index=np.arange(\n",
    "                data['visitorsPerDateB'].sum() - len(ordersByUsersB['orders'])\n",
    "            ),\n",
    "            name='orders',\n",
    "        ),\n",
    "    ],\n",
    "    axis=0,\n",
    ")\n"
   ]
  },
  {
   "cell_type": "code",
   "execution_count": 27,
   "metadata": {},
   "outputs": [
    {
     "data": {
      "text/plain": [
       "'0.01679'"
      ]
     },
     "metadata": {},
     "output_type": "display_data"
    },
    {
     "data": {
      "text/plain": [
       "'0.138'"
      ]
     },
     "metadata": {},
     "output_type": "display_data"
    }
   ],
   "source": [
    "# Посчитаем статистическую значимость различий в конверсии между группами по «сырым» данным.\n",
    "# Выведем p-value для сравнения конверсии между группами\n",
    "display(\"{0:.5f}\".format(stats.mannwhitneyu(sampleA, sampleB)[1]))\n",
    "# Вычислим и выведем относительное различие в конверсии между группами. \n",
    "display(\"{0:.3f}\".format((data['ordersPerDateB'].sum()/data['visitorsPerDateB'].sum())/(data['ordersPerDateA'].sum()/data['visitorsPerDateA'].sum())-1))"
   ]
  },
  {
   "cell_type": "markdown",
   "metadata": {},
   "source": [
    "Вывод:  p-value меньше 0,05, потому нулевую гипотезу отвергаем. По анализу \"сырых данных\" видно, что в конверсии между группами есть статистически значимые различия. Относительный прирост конверсии группы В к конверсии группы А равен 13,8%."
   ]
  },
  {
   "cell_type": "markdown",
   "metadata": {},
   "source": [
    "**Сформулируем гипотезы.** Нулевая гипотеза: различий в среднем чеке между группами нет. Альтернативная гипотеза: различия в среднем чеке между группами есть."
   ]
  },
  {
   "cell_type": "code",
   "execution_count": 28,
   "metadata": {},
   "outputs": [
    {
     "data": {
      "text/plain": [
       "'0.729'"
      ]
     },
     "metadata": {},
     "output_type": "display_data"
    },
    {
     "data": {
      "text/plain": [
       "'0.259'"
      ]
     },
     "metadata": {},
     "output_type": "display_data"
    }
   ],
   "source": [
    "# Посчитаем статистическую значимость различий в среднем чеке заказа между группами по «сырым» данным.\n",
    "display('{0:.3f}'.format(stats.mannwhitneyu(orders[orders['group']=='A']['revenue'], orders[orders['group']=='B']['revenue'])[1]))\n",
    "display('{0:.3f}'.format(orders[orders['group']=='B']['revenue'].mean()/orders[orders['group']=='A']['revenue'].mean()-1)) "
   ]
  },
  {
   "cell_type": "markdown",
   "metadata": {},
   "source": [
    "Вывод: p-value больше 0,05, следовательно, статистически значимых отличий в среднем чеке между группами нет. Относительное различие среднего чека между сегментами 25,9%."
   ]
  },
  {
   "cell_type": "code",
   "execution_count": 29,
   "metadata": {},
   "outputs": [
    {
     "data": {
      "text/plain": [
       "1099    148427295\n",
       "18      199603092\n",
       "928     204675465\n",
       "23      237748145\n",
       "37      249864742\n",
       "dtype: int64"
      ]
     },
     "metadata": {},
     "output_type": "display_data"
    },
    {
     "data": {
      "text/plain": [
       "(68,)"
      ]
     },
     "metadata": {},
     "output_type": "display_data"
    }
   ],
   "source": [
    "# Подготовим очищенные от аномалий данные\n",
    "usersWithManyOrders = pd.concat(\n",
    "    [\n",
    "        ordersByUsersA[ordersByUsersA['orders'] > 2]['userId'],\n",
    "        ordersByUsersB[ordersByUsersB['orders'] > 2]['userId'],\n",
    "    ],\n",
    "    axis=0,\n",
    ")\n",
    "usersWithExpensiveOrders = orders[orders['revenue'] > 30000]['visitorId']\n",
    "abnormalUsers = (\n",
    "    pd.concat([usersWithManyOrders, usersWithExpensiveOrders], axis=0)\n",
    "    .drop_duplicates()\n",
    "    .sort_values()\n",
    ")\n",
    "display(abnormalUsers.head(5))\n",
    "display(abnormalUsers.shape) "
   ]
  },
  {
   "cell_type": "markdown",
   "metadata": {},
   "source": [
    "Вывод: всего 68 аномальных пользователей."
   ]
  },
  {
   "cell_type": "code",
   "execution_count": 30,
   "metadata": {},
   "outputs": [
    {
     "data": {
      "text/plain": [
       "'0.01334'"
      ]
     },
     "metadata": {},
     "output_type": "display_data"
    },
    {
     "data": {
      "text/plain": [
       "'0.172'"
      ]
     },
     "metadata": {},
     "output_type": "display_data"
    }
   ],
   "source": [
    "# Посчитаем статистическую значимость различий в конверсии между группами по «очищенным» данным. \n",
    "sampleAFiltered = pd.concat(\n",
    "    [\n",
    "        ordersByUsersA[\n",
    "            np.logical_not(ordersByUsersA['userId'].isin(abnormalUsers))\n",
    "        ]['orders'],\n",
    "        pd.Series(\n",
    "            0,\n",
    "            index=np.arange(\n",
    "                data['visitorsPerDateA'].sum() - len(ordersByUsersA['orders'])\n",
    "            ),\n",
    "            name='orders',\n",
    "        ),\n",
    "    ],\n",
    "    axis=0,\n",
    ")\n",
    "\n",
    "sampleBFiltered = pd.concat(\n",
    "    [\n",
    "        ordersByUsersB[\n",
    "            np.logical_not(ordersByUsersB['userId'].isin(abnormalUsers))\n",
    "        ]['orders'],\n",
    "        pd.Series(\n",
    "            0,\n",
    "            index=np.arange(\n",
    "                data['visitorsPerDateB'].sum() - len(ordersByUsersB['orders'])\n",
    "            ),\n",
    "            name='orders',\n",
    "        ),\n",
    "    ],\n",
    "    axis=0,\n",
    ") \n",
    "\n",
    "display('{0:.5f}'.format(stats.mannwhitneyu(sampleAFiltered, sampleBFiltered)[1]))\n",
    "display('{0:.3f}'.format(sampleBFiltered.mean()/sampleAFiltered.mean()-1)) "
   ]
  },
  {
   "cell_type": "markdown",
   "metadata": {},
   "source": [
    "Вывод: p-value меньше 0,05, потому нулевую гипотезу отвергаем. В конверсии между группами есть статистически значимые различия, что подтверждает выводы с \"сырыми данными\". Относительный прирост конверсии группы В к конверсии группы А равен 17,2%. "
   ]
  },
  {
   "cell_type": "code",
   "execution_count": 31,
   "metadata": {},
   "outputs": [
    {
     "data": {
      "text/plain": [
       "'0.720'"
      ]
     },
     "metadata": {},
     "output_type": "display_data"
    },
    {
     "data": {
      "text/plain": [
       "'-0.023'"
      ]
     },
     "metadata": {},
     "output_type": "display_data"
    }
   ],
   "source": [
    "# Посчитаем статистическую значимость различий в среднем чеке заказа между группами по «очищенным» данным\n",
    "display('{0:.3f}'.format(stats.mannwhitneyu(orders[np.logical_and(orders['group'] == 'A',np.logical_not(orders['visitorId'].isin(abnormalUsers)),)]['revenue'],\n",
    "orders[np.logical_and(orders['group'] == 'B',np.logical_not(orders['visitorId'].isin(abnormalUsers)),)]['revenue'],)[1]))\n",
    "\n",
    "display(\"{0:.3f}\".format(orders[np.logical_and(orders['group'] == 'B',np.logical_not(orders['visitorId'].isin(abnormalUsers)),)]['revenue'].mean()\n",
    "/ orders[np.logical_and(orders['group'] == 'A',np.logical_not(orders['visitorId'].isin(abnormalUsers)),)]['revenue'].mean()- 1)) "
   ]
  },
  {
   "cell_type": "markdown",
   "metadata": {},
   "source": [
    "Вывод: P-value примерно на том же уровне, но разница между сегментами сократилась с 25% до 2%."
   ]
  },
  {
   "cell_type": "markdown",
   "metadata": {},
   "source": [
    "**Выводы**:\n",
    "1. Есть статистически значимое различие по конверсии между группами как по сырым данным, так и после фильтрации аномалий.\n",
    "2. По сырым данным, как и после фильтрации аномалий, нет статистически значимого различия по среднему чеку между группами.\n",
    "3. График различия конверсии между группами сообщает, что результаты группы B лучше группы A: имеют тенденцию к росту, либо зафиксировались около среднего значения.\n",
    "4. График различия среднего чека колеблется: он позволил найти аномалии.\n",
    "\n",
    "Итого, имеем решение - Остановить тест, зафиксировать победу одной из групп (группы В). "
   ]
  },
  {
   "cell_type": "code",
   "execution_count": 32,
   "metadata": {},
   "outputs": [],
   "source": []
  }
 ],
 "metadata": {
  "ExecuteTimeLog": [
   {
    "duration": 1235,
    "start_time": "2022-03-29T10:34:31.921Z"
   },
   {
    "duration": 114,
    "start_time": "2022-03-29T10:34:33.160Z"
   },
   {
    "duration": 116,
    "start_time": "2022-03-29T10:35:51.752Z"
   },
   {
    "duration": 87,
    "start_time": "2022-03-29T10:36:26.192Z"
   },
   {
    "duration": 1670,
    "start_time": "2022-03-29T10:39:43.957Z"
   },
   {
    "duration": 8,
    "start_time": "2022-03-29T10:39:54.100Z"
   },
   {
    "duration": 21,
    "start_time": "2022-03-29T10:40:07.101Z"
   },
   {
    "duration": 11,
    "start_time": "2022-03-29T10:40:13.263Z"
   },
   {
    "duration": 19,
    "start_time": "2022-03-29T10:43:24.114Z"
   },
   {
    "duration": 13,
    "start_time": "2022-03-29T10:45:01.053Z"
   },
   {
    "duration": 5,
    "start_time": "2022-03-29T11:02:55.047Z"
   },
   {
    "duration": 4,
    "start_time": "2022-03-29T11:03:11.208Z"
   },
   {
    "duration": 95,
    "start_time": "2022-03-29T11:03:11.215Z"
   },
   {
    "duration": 12,
    "start_time": "2022-03-29T11:03:11.313Z"
   },
   {
    "duration": 15,
    "start_time": "2022-03-29T11:03:11.328Z"
   },
   {
    "duration": 4,
    "start_time": "2022-03-29T11:03:11.374Z"
   },
   {
    "duration": 11,
    "start_time": "2022-03-29T11:03:42.066Z"
   },
   {
    "duration": 387,
    "start_time": "2022-03-29T11:04:14.514Z"
   },
   {
    "duration": 4,
    "start_time": "2022-03-29T11:04:48.435Z"
   },
   {
    "duration": 104,
    "start_time": "2022-03-29T11:04:48.441Z"
   },
   {
    "duration": 27,
    "start_time": "2022-03-29T11:04:48.548Z"
   },
   {
    "duration": 11,
    "start_time": "2022-03-29T11:04:48.578Z"
   },
   {
    "duration": 385,
    "start_time": "2022-03-29T11:04:48.592Z"
   },
   {
    "duration": 23,
    "start_time": "2022-03-29T11:06:59.136Z"
   },
   {
    "duration": 9,
    "start_time": "2022-03-29T11:08:17.441Z"
   },
   {
    "duration": 33,
    "start_time": "2022-03-29T11:09:25.871Z"
   },
   {
    "duration": 276,
    "start_time": "2022-03-29T11:10:58.864Z"
   },
   {
    "duration": 201,
    "start_time": "2022-03-29T11:11:41.986Z"
   },
   {
    "duration": 14,
    "start_time": "2022-03-29T11:12:47.876Z"
   },
   {
    "duration": 13,
    "start_time": "2022-03-29T11:13:17.982Z"
   },
   {
    "duration": 10,
    "start_time": "2022-03-29T11:14:08.396Z"
   },
   {
    "duration": 553,
    "start_time": "2022-03-29T11:15:02.429Z"
   },
   {
    "duration": 405,
    "start_time": "2022-03-29T11:16:49.427Z"
   },
   {
    "duration": 313,
    "start_time": "2022-03-29T11:17:12.850Z"
   },
   {
    "duration": 358,
    "start_time": "2022-03-29T11:22:27.977Z"
   },
   {
    "duration": 295,
    "start_time": "2022-03-29T11:23:12.481Z"
   },
   {
    "duration": 428,
    "start_time": "2022-03-29T11:25:57.758Z"
   },
   {
    "duration": 373,
    "start_time": "2022-03-29T11:26:15.322Z"
   },
   {
    "duration": 430,
    "start_time": "2022-03-29T11:26:25.437Z"
   },
   {
    "duration": 423,
    "start_time": "2022-03-29T11:26:37.842Z"
   },
   {
    "duration": 278,
    "start_time": "2022-03-29T11:30:23.798Z"
   },
   {
    "duration": 301,
    "start_time": "2022-03-29T11:30:38.423Z"
   },
   {
    "duration": 279,
    "start_time": "2022-03-29T11:34:09.026Z"
   },
   {
    "duration": 400,
    "start_time": "2022-03-29T11:38:11.965Z"
   },
   {
    "duration": 12,
    "start_time": "2022-03-29T11:43:45.131Z"
   },
   {
    "duration": 10,
    "start_time": "2022-03-29T11:44:48.964Z"
   },
   {
    "duration": 9,
    "start_time": "2022-03-29T11:45:08.314Z"
   },
   {
    "duration": 173,
    "start_time": "2022-03-29T11:45:11.139Z"
   },
   {
    "duration": 6,
    "start_time": "2022-03-29T11:48:31.260Z"
   },
   {
    "duration": 57,
    "start_time": "2022-03-30T07:59:12.204Z"
   },
   {
    "duration": 920,
    "start_time": "2022-03-30T07:59:26.698Z"
   },
   {
    "duration": 90,
    "start_time": "2022-03-30T07:59:27.621Z"
   },
   {
    "duration": 12,
    "start_time": "2022-03-30T07:59:27.714Z"
   },
   {
    "duration": 9,
    "start_time": "2022-03-30T07:59:27.729Z"
   },
   {
    "duration": 19,
    "start_time": "2022-03-30T07:59:27.739Z"
   },
   {
    "duration": 9,
    "start_time": "2022-03-30T07:59:27.760Z"
   },
   {
    "duration": 218,
    "start_time": "2022-03-30T07:59:27.770Z"
   },
   {
    "duration": 134,
    "start_time": "2022-03-30T07:59:27.990Z"
   },
   {
    "duration": 10,
    "start_time": "2022-03-30T07:59:28.126Z"
   },
   {
    "duration": 7,
    "start_time": "2022-03-30T07:59:28.139Z"
   },
   {
    "duration": 268,
    "start_time": "2022-03-30T07:59:28.147Z"
   },
   {
    "duration": 188,
    "start_time": "2022-03-30T07:59:28.417Z"
   },
   {
    "duration": 321,
    "start_time": "2022-03-30T07:59:28.607Z"
   },
   {
    "duration": 242,
    "start_time": "2022-03-30T07:59:28.930Z"
   },
   {
    "duration": 374,
    "start_time": "2022-03-30T07:59:29.173Z"
   },
   {
    "duration": 0,
    "start_time": "2022-03-30T07:59:29.549Z"
   },
   {
    "duration": 0,
    "start_time": "2022-03-30T07:59:29.551Z"
   },
   {
    "duration": 0,
    "start_time": "2022-03-30T07:59:29.552Z"
   },
   {
    "duration": 0,
    "start_time": "2022-03-30T07:59:29.553Z"
   },
   {
    "duration": 306,
    "start_time": "2022-03-30T08:00:46.810Z"
   },
   {
    "duration": 451,
    "start_time": "2022-03-30T08:01:13.157Z"
   },
   {
    "duration": 277,
    "start_time": "2022-03-30T08:05:19.025Z"
   },
   {
    "duration": 4,
    "start_time": "2022-03-30T08:05:25.375Z"
   },
   {
    "duration": 82,
    "start_time": "2022-03-30T08:05:25.381Z"
   },
   {
    "duration": 9,
    "start_time": "2022-03-30T08:05:25.464Z"
   },
   {
    "duration": 16,
    "start_time": "2022-03-30T08:05:25.475Z"
   },
   {
    "duration": 34,
    "start_time": "2022-03-30T08:05:25.494Z"
   },
   {
    "duration": 11,
    "start_time": "2022-03-30T08:05:25.529Z"
   },
   {
    "duration": 177,
    "start_time": "2022-03-30T08:05:25.542Z"
   },
   {
    "duration": 137,
    "start_time": "2022-03-30T08:05:25.721Z"
   },
   {
    "duration": 10,
    "start_time": "2022-03-30T08:05:25.861Z"
   },
   {
    "duration": 27,
    "start_time": "2022-03-30T08:05:25.874Z"
   },
   {
    "duration": 239,
    "start_time": "2022-03-30T08:05:25.904Z"
   },
   {
    "duration": 200,
    "start_time": "2022-03-30T08:05:26.145Z"
   },
   {
    "duration": 286,
    "start_time": "2022-03-30T08:05:26.347Z"
   },
   {
    "duration": 192,
    "start_time": "2022-03-30T08:05:26.637Z"
   },
   {
    "duration": 272,
    "start_time": "2022-03-30T08:05:26.831Z"
   },
   {
    "duration": 8,
    "start_time": "2022-03-30T08:05:27.105Z"
   },
   {
    "duration": 125,
    "start_time": "2022-03-30T08:05:27.114Z"
   },
   {
    "duration": 5,
    "start_time": "2022-03-30T08:05:27.241Z"
   },
   {
    "duration": 195,
    "start_time": "2022-03-30T08:05:27.247Z"
   },
   {
    "duration": 132,
    "start_time": "2022-03-30T08:06:56.442Z"
   },
   {
    "duration": 6,
    "start_time": "2022-03-30T08:11:53.252Z"
   },
   {
    "duration": 18,
    "start_time": "2022-03-30T08:19:22.971Z"
   },
   {
    "duration": 141,
    "start_time": "2022-03-30T08:20:30.724Z"
   },
   {
    "duration": 2748,
    "start_time": "2022-03-30T08:21:19.762Z"
   },
   {
    "duration": 114,
    "start_time": "2022-03-30T08:25:48.545Z"
   },
   {
    "duration": 3090,
    "start_time": "2022-03-30T08:28:04.694Z"
   },
   {
    "duration": 130,
    "start_time": "2022-03-30T08:39:46.180Z"
   },
   {
    "duration": 1141,
    "start_time": "2022-03-30T08:40:18.161Z"
   },
   {
    "duration": 98,
    "start_time": "2022-03-30T08:40:19.306Z"
   },
   {
    "duration": 12,
    "start_time": "2022-03-30T08:40:19.406Z"
   },
   {
    "duration": 11,
    "start_time": "2022-03-30T08:40:19.420Z"
   },
   {
    "duration": 54,
    "start_time": "2022-03-30T08:40:19.434Z"
   },
   {
    "duration": 13,
    "start_time": "2022-03-30T08:40:19.490Z"
   },
   {
    "duration": 278,
    "start_time": "2022-03-30T08:40:19.505Z"
   },
   {
    "duration": 230,
    "start_time": "2022-03-30T08:40:19.785Z"
   },
   {
    "duration": 22,
    "start_time": "2022-03-30T08:40:20.017Z"
   },
   {
    "duration": 15,
    "start_time": "2022-03-30T08:40:20.041Z"
   },
   {
    "duration": 426,
    "start_time": "2022-03-30T08:40:20.058Z"
   },
   {
    "duration": 280,
    "start_time": "2022-03-30T08:40:20.486Z"
   },
   {
    "duration": 517,
    "start_time": "2022-03-30T08:40:20.768Z"
   },
   {
    "duration": 312,
    "start_time": "2022-03-30T08:40:21.288Z"
   },
   {
    "duration": 430,
    "start_time": "2022-03-30T08:40:21.603Z"
   },
   {
    "duration": 10,
    "start_time": "2022-03-30T08:40:22.036Z"
   },
   {
    "duration": 198,
    "start_time": "2022-03-30T08:40:22.048Z"
   },
   {
    "duration": 7,
    "start_time": "2022-03-30T08:40:22.249Z"
   },
   {
    "duration": 210,
    "start_time": "2022-03-30T08:40:22.274Z"
   },
   {
    "duration": 7,
    "start_time": "2022-03-30T08:40:22.486Z"
   },
   {
    "duration": 2209,
    "start_time": "2022-03-30T08:40:22.496Z"
   },
   {
    "duration": 615,
    "start_time": "2022-03-30T08:42:23.087Z"
   },
   {
    "duration": 600,
    "start_time": "2022-03-30T08:42:54.041Z"
   },
   {
    "duration": 96,
    "start_time": "2022-03-30T08:42:54.644Z"
   },
   {
    "duration": 11,
    "start_time": "2022-03-30T08:42:54.741Z"
   },
   {
    "duration": 28,
    "start_time": "2022-03-30T08:42:54.755Z"
   },
   {
    "duration": 34,
    "start_time": "2022-03-30T08:42:54.785Z"
   },
   {
    "duration": 18,
    "start_time": "2022-03-30T08:42:54.821Z"
   },
   {
    "duration": 272,
    "start_time": "2022-03-30T08:42:54.841Z"
   },
   {
    "duration": 210,
    "start_time": "2022-03-30T08:42:55.115Z"
   },
   {
    "duration": 14,
    "start_time": "2022-03-30T08:42:55.328Z"
   },
   {
    "duration": 30,
    "start_time": "2022-03-30T08:42:55.347Z"
   },
   {
    "duration": 289,
    "start_time": "2022-03-30T08:42:55.379Z"
   },
   {
    "duration": 282,
    "start_time": "2022-03-30T08:42:55.673Z"
   },
   {
    "duration": 396,
    "start_time": "2022-03-30T08:42:55.957Z"
   },
   {
    "duration": 315,
    "start_time": "2022-03-30T08:42:56.355Z"
   },
   {
    "duration": 479,
    "start_time": "2022-03-30T08:42:56.675Z"
   },
   {
    "duration": 16,
    "start_time": "2022-03-30T08:42:57.157Z"
   },
   {
    "duration": 210,
    "start_time": "2022-03-30T08:42:57.176Z"
   },
   {
    "duration": 6,
    "start_time": "2022-03-30T08:42:57.388Z"
   },
   {
    "duration": 216,
    "start_time": "2022-03-30T08:42:57.396Z"
   },
   {
    "duration": 6,
    "start_time": "2022-03-30T08:42:57.614Z"
   },
   {
    "duration": 628,
    "start_time": "2022-03-30T08:42:57.622Z"
   },
   {
    "duration": 17,
    "start_time": "2022-03-30T08:49:23.742Z"
   },
   {
    "duration": 1762,
    "start_time": "2022-03-30T09:09:46.170Z"
   },
   {
    "duration": 623,
    "start_time": "2022-03-30T09:10:02.697Z"
   },
   {
    "duration": 17,
    "start_time": "2022-03-30T09:10:04.692Z"
   },
   {
    "duration": 1448,
    "start_time": "2022-03-30T09:10:07.438Z"
   },
   {
    "duration": 1456,
    "start_time": "2022-03-30T09:13:44.333Z"
   },
   {
    "duration": 1980,
    "start_time": "2022-03-30T09:14:33.728Z"
   },
   {
    "duration": 4,
    "start_time": "2022-03-30T09:14:38.666Z"
   },
   {
    "duration": 97,
    "start_time": "2022-03-30T09:14:38.674Z"
   },
   {
    "duration": 11,
    "start_time": "2022-03-30T09:14:38.773Z"
   },
   {
    "duration": 11,
    "start_time": "2022-03-30T09:14:38.787Z"
   },
   {
    "duration": 21,
    "start_time": "2022-03-30T09:14:38.801Z"
   },
   {
    "duration": 8,
    "start_time": "2022-03-30T09:14:38.825Z"
   },
   {
    "duration": 315,
    "start_time": "2022-03-30T09:14:38.835Z"
   },
   {
    "duration": 230,
    "start_time": "2022-03-30T09:14:39.153Z"
   },
   {
    "duration": 14,
    "start_time": "2022-03-30T09:14:39.386Z"
   },
   {
    "duration": 31,
    "start_time": "2022-03-30T09:14:39.404Z"
   },
   {
    "duration": 284,
    "start_time": "2022-03-30T09:14:39.437Z"
   },
   {
    "duration": 278,
    "start_time": "2022-03-30T09:14:39.723Z"
   },
   {
    "duration": 360,
    "start_time": "2022-03-30T09:14:40.003Z"
   },
   {
    "duration": 283,
    "start_time": "2022-03-30T09:14:40.365Z"
   },
   {
    "duration": 477,
    "start_time": "2022-03-30T09:14:40.650Z"
   },
   {
    "duration": 9,
    "start_time": "2022-03-30T09:14:41.130Z"
   },
   {
    "duration": 190,
    "start_time": "2022-03-30T09:14:41.141Z"
   },
   {
    "duration": 7,
    "start_time": "2022-03-30T09:14:41.333Z"
   },
   {
    "duration": 214,
    "start_time": "2022-03-30T09:14:41.342Z"
   },
   {
    "duration": 16,
    "start_time": "2022-03-30T09:14:41.558Z"
   },
   {
    "duration": 643,
    "start_time": "2022-03-30T09:14:41.576Z"
   },
   {
    "duration": 19,
    "start_time": "2022-03-30T09:14:42.222Z"
   },
   {
    "duration": 1597,
    "start_time": "2022-03-30T09:14:42.243Z"
   },
   {
    "duration": 1,
    "start_time": "2022-03-30T09:14:43.842Z"
   },
   {
    "duration": 12,
    "start_time": "2022-03-30T09:19:18.985Z"
   },
   {
    "duration": 15,
    "start_time": "2022-03-30T09:19:57.167Z"
   },
   {
    "duration": 40,
    "start_time": "2022-03-30T09:23:38.220Z"
   },
   {
    "duration": 1518,
    "start_time": "2022-03-30T09:26:47.694Z"
   },
   {
    "duration": 22,
    "start_time": "2022-03-30T09:27:23.457Z"
   },
   {
    "duration": 1342,
    "start_time": "2022-03-30T11:36:57.171Z"
   },
   {
    "duration": 165,
    "start_time": "2022-03-30T11:36:58.516Z"
   },
   {
    "duration": 9,
    "start_time": "2022-03-30T11:36:58.682Z"
   },
   {
    "duration": 12,
    "start_time": "2022-03-30T11:36:58.693Z"
   },
   {
    "duration": 14,
    "start_time": "2022-03-30T11:36:58.706Z"
   },
   {
    "duration": 7,
    "start_time": "2022-03-30T11:36:58.721Z"
   },
   {
    "duration": 163,
    "start_time": "2022-03-30T11:36:58.729Z"
   },
   {
    "duration": 121,
    "start_time": "2022-03-30T11:36:58.893Z"
   },
   {
    "duration": 9,
    "start_time": "2022-03-30T11:36:59.015Z"
   },
   {
    "duration": 10,
    "start_time": "2022-03-30T11:36:59.027Z"
   },
   {
    "duration": 372,
    "start_time": "2022-03-30T11:36:59.039Z"
   },
   {
    "duration": 236,
    "start_time": "2022-03-30T11:36:59.413Z"
   },
   {
    "duration": 372,
    "start_time": "2022-03-30T11:36:59.650Z"
   },
   {
    "duration": 157,
    "start_time": "2022-03-30T11:37:00.023Z"
   },
   {
    "duration": 290,
    "start_time": "2022-03-30T11:37:00.182Z"
   },
   {
    "duration": 6,
    "start_time": "2022-03-30T11:37:00.480Z"
   },
   {
    "duration": 109,
    "start_time": "2022-03-30T11:37:00.488Z"
   },
   {
    "duration": 5,
    "start_time": "2022-03-30T11:37:00.599Z"
   },
   {
    "duration": 183,
    "start_time": "2022-03-30T11:37:00.605Z"
   },
   {
    "duration": 5,
    "start_time": "2022-03-30T11:37:00.790Z"
   },
   {
    "duration": 349,
    "start_time": "2022-03-30T11:37:00.797Z"
   },
   {
    "duration": 12,
    "start_time": "2022-03-30T11:37:01.148Z"
   },
   {
    "duration": 26,
    "start_time": "2022-03-30T11:37:01.161Z"
   },
   {
    "duration": 47,
    "start_time": "2022-03-30T11:37:01.188Z"
   },
   {
    "duration": 14,
    "start_time": "2022-03-30T11:37:01.237Z"
   },
   {
    "duration": 14,
    "start_time": "2022-03-30T11:42:51.833Z"
   },
   {
    "duration": 559,
    "start_time": "2022-03-30T11:43:38.161Z"
   },
   {
    "duration": 12,
    "start_time": "2022-03-30T11:44:01.653Z"
   },
   {
    "duration": 10,
    "start_time": "2022-03-30T11:44:12.254Z"
   },
   {
    "duration": 204,
    "start_time": "2022-03-30T11:52:09.597Z"
   },
   {
    "duration": 116,
    "start_time": "2022-03-30T11:52:10.488Z"
   },
   {
    "duration": 6,
    "start_time": "2022-03-30T11:52:11.300Z"
   },
   {
    "duration": 24,
    "start_time": "2022-03-30T11:52:12.121Z"
   },
   {
    "duration": 3,
    "start_time": "2022-03-30T11:52:40.308Z"
   },
   {
    "duration": 104,
    "start_time": "2022-03-30T11:52:40.313Z"
   },
   {
    "duration": 9,
    "start_time": "2022-03-30T11:52:40.419Z"
   },
   {
    "duration": 10,
    "start_time": "2022-03-30T11:52:40.431Z"
   },
   {
    "duration": 17,
    "start_time": "2022-03-30T11:52:40.443Z"
   },
   {
    "duration": 25,
    "start_time": "2022-03-30T11:52:40.461Z"
   },
   {
    "duration": 156,
    "start_time": "2022-03-30T11:52:40.488Z"
   },
   {
    "duration": 121,
    "start_time": "2022-03-30T11:52:40.645Z"
   },
   {
    "duration": 12,
    "start_time": "2022-03-30T11:52:40.780Z"
   },
   {
    "duration": 5,
    "start_time": "2022-03-30T11:52:40.795Z"
   },
   {
    "duration": 165,
    "start_time": "2022-03-30T11:52:40.802Z"
   },
   {
    "duration": 209,
    "start_time": "2022-03-30T11:52:40.969Z"
   },
   {
    "duration": 259,
    "start_time": "2022-03-30T11:52:41.181Z"
   },
   {
    "duration": 236,
    "start_time": "2022-03-30T11:52:41.442Z"
   },
   {
    "duration": 331,
    "start_time": "2022-03-30T11:52:41.681Z"
   },
   {
    "duration": 8,
    "start_time": "2022-03-30T11:52:42.014Z"
   },
   {
    "duration": 153,
    "start_time": "2022-03-30T11:52:42.024Z"
   },
   {
    "duration": 5,
    "start_time": "2022-03-30T11:52:42.180Z"
   },
   {
    "duration": 123,
    "start_time": "2022-03-30T11:52:42.187Z"
   },
   {
    "duration": 4,
    "start_time": "2022-03-30T11:52:42.312Z"
   },
   {
    "duration": 221,
    "start_time": "2022-03-30T11:52:42.318Z"
   },
   {
    "duration": 131,
    "start_time": "2022-03-30T11:52:42.540Z"
   },
   {
    "duration": 12,
    "start_time": "2022-03-30T11:52:42.672Z"
   },
   {
    "duration": 25,
    "start_time": "2022-03-30T11:52:42.685Z"
   },
   {
    "duration": 13,
    "start_time": "2022-03-30T11:52:42.711Z"
   },
   {
    "duration": 11,
    "start_time": "2022-03-30T11:52:42.726Z"
   },
   {
    "duration": 60,
    "start_time": "2022-03-30T11:52:42.738Z"
   },
   {
    "duration": 14,
    "start_time": "2022-03-30T11:52:42.802Z"
   },
   {
    "duration": 183,
    "start_time": "2022-03-30T11:56:48.231Z"
   },
   {
    "duration": 171,
    "start_time": "2022-03-30T11:56:58.300Z"
   },
   {
    "duration": 152,
    "start_time": "2022-03-30T11:57:25.627Z"
   },
   {
    "duration": 174,
    "start_time": "2022-03-30T11:57:32.749Z"
   },
   {
    "duration": 172,
    "start_time": "2022-03-30T11:58:01.685Z"
   },
   {
    "duration": 158,
    "start_time": "2022-03-30T11:59:03.210Z"
   },
   {
    "duration": 341,
    "start_time": "2022-03-30T11:59:31.314Z"
   },
   {
    "duration": 274,
    "start_time": "2022-03-30T12:02:28.435Z"
   },
   {
    "duration": 165,
    "start_time": "2022-03-30T12:03:14.920Z"
   },
   {
    "duration": 197,
    "start_time": "2022-03-30T12:03:28.352Z"
   },
   {
    "duration": 148,
    "start_time": "2022-03-30T12:04:13.916Z"
   },
   {
    "duration": 294,
    "start_time": "2022-03-30T12:04:48.330Z"
   },
   {
    "duration": 101,
    "start_time": "2022-03-30T12:05:26.894Z"
   },
   {
    "duration": 111,
    "start_time": "2022-03-30T12:05:48.900Z"
   },
   {
    "duration": 4,
    "start_time": "2022-03-30T12:07:30.695Z"
   },
   {
    "duration": 113,
    "start_time": "2022-03-30T12:07:30.701Z"
   },
   {
    "duration": 9,
    "start_time": "2022-03-30T12:07:30.815Z"
   },
   {
    "duration": 19,
    "start_time": "2022-03-30T12:07:30.826Z"
   },
   {
    "duration": 26,
    "start_time": "2022-03-30T12:07:30.847Z"
   },
   {
    "duration": 27,
    "start_time": "2022-03-30T12:07:30.875Z"
   },
   {
    "duration": 189,
    "start_time": "2022-03-30T12:07:30.904Z"
   },
   {
    "duration": 137,
    "start_time": "2022-03-30T12:07:31.096Z"
   },
   {
    "duration": 16,
    "start_time": "2022-03-30T12:07:31.235Z"
   },
   {
    "duration": 8,
    "start_time": "2022-03-30T12:07:31.253Z"
   },
   {
    "duration": 213,
    "start_time": "2022-03-30T12:07:31.263Z"
   },
   {
    "duration": 187,
    "start_time": "2022-03-30T12:07:31.478Z"
   },
   {
    "duration": 298,
    "start_time": "2022-03-30T12:07:31.666Z"
   },
   {
    "duration": 190,
    "start_time": "2022-03-30T12:07:31.967Z"
   },
   {
    "duration": 300,
    "start_time": "2022-03-30T12:07:32.159Z"
   },
   {
    "duration": 6,
    "start_time": "2022-03-30T12:07:32.461Z"
   },
   {
    "duration": 132,
    "start_time": "2022-03-30T12:07:32.468Z"
   },
   {
    "duration": 4,
    "start_time": "2022-03-30T12:07:32.602Z"
   },
   {
    "duration": 246,
    "start_time": "2022-03-30T12:07:32.607Z"
   },
   {
    "duration": 4,
    "start_time": "2022-03-30T12:07:32.854Z"
   },
   {
    "duration": 221,
    "start_time": "2022-03-30T12:07:32.860Z"
   },
   {
    "duration": 141,
    "start_time": "2022-03-30T12:07:33.083Z"
   },
   {
    "duration": 7,
    "start_time": "2022-03-30T12:07:33.226Z"
   },
   {
    "duration": 26,
    "start_time": "2022-03-30T12:07:33.234Z"
   },
   {
    "duration": 33,
    "start_time": "2022-03-30T12:07:33.261Z"
   },
   {
    "duration": 11,
    "start_time": "2022-03-30T12:07:33.297Z"
   },
   {
    "duration": 29,
    "start_time": "2022-03-30T12:07:33.309Z"
   },
   {
    "duration": 43,
    "start_time": "2022-03-30T12:07:33.339Z"
   },
   {
    "duration": 3,
    "start_time": "2022-03-30T12:12:09.976Z"
   },
   {
    "duration": 95,
    "start_time": "2022-03-30T12:12:09.982Z"
   },
   {
    "duration": 8,
    "start_time": "2022-03-30T12:12:10.079Z"
   },
   {
    "duration": 10,
    "start_time": "2022-03-30T12:12:10.090Z"
   },
   {
    "duration": 15,
    "start_time": "2022-03-30T12:12:10.101Z"
   },
   {
    "duration": 7,
    "start_time": "2022-03-30T12:12:10.118Z"
   },
   {
    "duration": 160,
    "start_time": "2022-03-30T12:12:10.126Z"
   },
   {
    "duration": 115,
    "start_time": "2022-03-30T12:12:10.288Z"
   },
   {
    "duration": 12,
    "start_time": "2022-03-30T12:12:10.405Z"
   },
   {
    "duration": 7,
    "start_time": "2022-03-30T12:12:10.418Z"
   },
   {
    "duration": 179,
    "start_time": "2022-03-30T12:12:10.427Z"
   },
   {
    "duration": 176,
    "start_time": "2022-03-30T12:12:10.608Z"
   },
   {
    "duration": 277,
    "start_time": "2022-03-30T12:12:10.786Z"
   },
   {
    "duration": 170,
    "start_time": "2022-03-30T12:12:11.065Z"
   },
   {
    "duration": 297,
    "start_time": "2022-03-30T12:12:11.237Z"
   },
   {
    "duration": 7,
    "start_time": "2022-03-30T12:12:11.536Z"
   },
   {
    "duration": 119,
    "start_time": "2022-03-30T12:12:11.545Z"
   },
   {
    "duration": 15,
    "start_time": "2022-03-30T12:12:11.666Z"
   },
   {
    "duration": 119,
    "start_time": "2022-03-30T12:12:11.682Z"
   },
   {
    "duration": 4,
    "start_time": "2022-03-30T12:12:11.803Z"
   },
   {
    "duration": 213,
    "start_time": "2022-03-30T12:12:11.808Z"
   },
   {
    "duration": 133,
    "start_time": "2022-03-30T12:12:12.023Z"
   },
   {
    "duration": 6,
    "start_time": "2022-03-30T12:12:12.157Z"
   },
   {
    "duration": 31,
    "start_time": "2022-03-30T12:12:12.166Z"
   },
   {
    "duration": 11,
    "start_time": "2022-03-30T12:12:12.198Z"
   },
   {
    "duration": 9,
    "start_time": "2022-03-30T12:12:12.211Z"
   },
   {
    "duration": 27,
    "start_time": "2022-03-30T12:12:12.221Z"
   },
   {
    "duration": 39,
    "start_time": "2022-03-30T12:12:12.249Z"
   },
   {
    "duration": 47,
    "start_time": "2022-03-30T17:52:20.676Z"
   },
   {
    "duration": 1207,
    "start_time": "2022-03-30T17:52:24.139Z"
   },
   {
    "duration": 3,
    "start_time": "2022-03-30T17:52:25.348Z"
   },
   {
    "duration": 137,
    "start_time": "2022-03-30T17:52:32.189Z"
   },
   {
    "duration": 4,
    "start_time": "2022-03-30T18:03:31.119Z"
   },
   {
    "duration": 17,
    "start_time": "2022-03-30T18:03:31.125Z"
   },
   {
    "duration": 79,
    "start_time": "2022-03-30T18:03:31.144Z"
   },
   {
    "duration": 11,
    "start_time": "2022-03-30T18:03:31.225Z"
   },
   {
    "duration": 28,
    "start_time": "2022-03-30T18:03:31.237Z"
   },
   {
    "duration": 33,
    "start_time": "2022-03-30T18:03:31.267Z"
   },
   {
    "duration": 64,
    "start_time": "2022-03-30T18:03:36.074Z"
   },
   {
    "duration": 89,
    "start_time": "2022-03-30T18:04:10.607Z"
   },
   {
    "duration": 72,
    "start_time": "2022-03-30T18:04:25.783Z"
   },
   {
    "duration": 48,
    "start_time": "2022-03-30T19:25:51.009Z"
   },
   {
    "duration": 1396,
    "start_time": "2022-03-30T19:25:57.644Z"
   },
   {
    "duration": 4,
    "start_time": "2022-03-30T19:25:59.042Z"
   },
   {
    "duration": 155,
    "start_time": "2022-03-30T19:25:59.049Z"
   },
   {
    "duration": 11,
    "start_time": "2022-03-30T19:25:59.206Z"
   },
   {
    "duration": 10,
    "start_time": "2022-03-30T19:25:59.219Z"
   },
   {
    "duration": 33,
    "start_time": "2022-03-30T19:25:59.230Z"
   },
   {
    "duration": 71,
    "start_time": "2022-03-30T19:25:59.264Z"
   },
   {
    "duration": 28,
    "start_time": "2022-03-30T19:25:59.337Z"
   },
   {
    "duration": 13,
    "start_time": "2022-03-30T19:26:03.761Z"
   },
   {
    "duration": 7,
    "start_time": "2022-03-30T19:27:41.107Z"
   },
   {
    "duration": 136,
    "start_time": "2022-03-30T19:32:11.069Z"
   },
   {
    "duration": 120,
    "start_time": "2022-03-30T19:32:32.607Z"
   },
   {
    "duration": 101,
    "start_time": "2022-03-30T19:33:58.042Z"
   },
   {
    "duration": 184,
    "start_time": "2022-03-30T19:34:21.465Z"
   },
   {
    "duration": 113,
    "start_time": "2022-03-30T19:34:37.731Z"
   },
   {
    "duration": 125,
    "start_time": "2022-03-30T19:35:12.978Z"
   },
   {
    "duration": 165,
    "start_time": "2022-03-30T19:35:16.298Z"
   },
   {
    "duration": 70,
    "start_time": "2022-03-30T19:40:36.201Z"
   },
   {
    "duration": 1979,
    "start_time": "2023-04-13T12:14:23.237Z"
   },
   {
    "duration": 4,
    "start_time": "2023-04-13T12:14:25.219Z"
   },
   {
    "duration": 428,
    "start_time": "2023-04-13T12:14:25.225Z"
   },
   {
    "duration": 21,
    "start_time": "2023-04-13T12:14:25.656Z"
   },
   {
    "duration": 33,
    "start_time": "2023-04-13T12:14:25.681Z"
   },
   {
    "duration": 33,
    "start_time": "2023-04-13T12:14:25.716Z"
   },
   {
    "duration": 139,
    "start_time": "2023-04-13T12:14:25.753Z"
   },
   {
    "duration": 10,
    "start_time": "2023-04-13T12:14:25.895Z"
   },
   {
    "duration": 306,
    "start_time": "2023-04-13T12:14:25.908Z"
   },
   {
    "duration": 246,
    "start_time": "2023-04-13T12:14:26.218Z"
   },
   {
    "duration": 16,
    "start_time": "2023-04-13T12:14:26.466Z"
   },
   {
    "duration": 18,
    "start_time": "2023-04-13T12:14:26.485Z"
   },
   {
    "duration": 484,
    "start_time": "2023-04-13T12:14:26.506Z"
   },
   {
    "duration": 288,
    "start_time": "2023-04-13T12:14:26.997Z"
   },
   {
    "duration": 460,
    "start_time": "2023-04-13T12:14:27.288Z"
   },
   {
    "duration": 332,
    "start_time": "2023-04-13T12:14:27.751Z"
   },
   {
    "duration": 501,
    "start_time": "2023-04-13T12:14:28.087Z"
   },
   {
    "duration": 19,
    "start_time": "2023-04-13T12:14:28.591Z"
   },
   {
    "duration": 246,
    "start_time": "2023-04-13T12:14:28.637Z"
   },
   {
    "duration": 12,
    "start_time": "2023-04-13T12:14:28.887Z"
   },
   {
    "duration": 230,
    "start_time": "2023-04-13T12:14:28.902Z"
   },
   {
    "duration": 182,
    "start_time": "2023-04-13T12:14:29.134Z"
   },
   {
    "duration": 16,
    "start_time": "2023-04-13T12:14:29.318Z"
   },
   {
    "duration": 250,
    "start_time": "2023-04-13T12:14:29.337Z"
   },
   {
    "duration": 158,
    "start_time": "2023-04-13T12:14:29.590Z"
   },
   {
    "duration": 8,
    "start_time": "2023-04-13T12:14:29.750Z"
   },
   {
    "duration": 43,
    "start_time": "2023-04-13T12:14:29.761Z"
   },
   {
    "duration": 28,
    "start_time": "2023-04-13T12:14:29.806Z"
   },
   {
    "duration": 13,
    "start_time": "2023-04-13T12:14:29.837Z"
   },
   {
    "duration": 59,
    "start_time": "2023-04-13T12:14:29.852Z"
   },
   {
    "duration": 22,
    "start_time": "2023-04-13T12:14:29.934Z"
   }
  ],
  "kernelspec": {
   "display_name": "Python 3 (ipykernel)",
   "language": "python",
   "name": "python3"
  },
  "language_info": {
   "codemirror_mode": {
    "name": "ipython",
    "version": 3
   },
   "file_extension": ".py",
   "mimetype": "text/x-python",
   "name": "python",
   "nbconvert_exporter": "python",
   "pygments_lexer": "ipython3",
   "version": "3.11.3"
  },
  "toc": {
   "base_numbering": 1,
   "nav_menu": {},
   "number_sections": true,
   "sideBar": true,
   "skip_h1_title": true,
   "title_cell": "Table of Contents",
   "title_sidebar": "Contents",
   "toc_cell": false,
   "toc_position": {},
   "toc_section_display": true,
   "toc_window_display": false
  }
 },
 "nbformat": 4,
 "nbformat_minor": 2
}
