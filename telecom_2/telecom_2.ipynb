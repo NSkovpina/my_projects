{
  "cells": [
    {
      "cell_type": "markdown",
      "metadata": {
        "toc": true
      },
      "source": [
        "<h1>Содержание<span class=\"tocSkip\"></span></h1>\n",
        "<div class=\"toc\"><ul class=\"toc-item\"><li><span><a href=\"#Материалы\" data-toc-modified-id=\"Материалы-1\"><span class=\"toc-item-num\">1&nbsp;&nbsp;</span>Материалы</a></span></li><li><span><a href=\"#Описание-проекта\" data-toc-modified-id=\"Описание-проекта-2\"><span class=\"toc-item-num\">2&nbsp;&nbsp;</span>Описание проекта</a></span></li><li><span><a href=\"#Изучение-данных-из-файла\" data-toc-modified-id=\"Изучение-данных-из-файла-3\"><span class=\"toc-item-num\">3&nbsp;&nbsp;</span>Изучение данных из файла</a></span></li><li><span><a href=\"#Предобработка-данных\" data-toc-modified-id=\"Предобработка-данных-4\"><span class=\"toc-item-num\">4&nbsp;&nbsp;</span>Предобработка данных</a></span></li><li><span><a href=\"#Исследовательский-анализ-данных\" data-toc-modified-id=\"Исследовательский-анализ-данных-5\"><span class=\"toc-item-num\">5&nbsp;&nbsp;</span>Исследовательский анализ данных</a></span></li><li><span><a href=\"#Проверка-гипотез\" data-toc-modified-id=\"Проверка-гипотез-6\"><span class=\"toc-item-num\">6&nbsp;&nbsp;</span>Проверка гипотез</a></span></li><li><span><a href=\"#Общий-вывод\" data-toc-modified-id=\"Общий-вывод-7\"><span class=\"toc-item-num\">7&nbsp;&nbsp;</span>Общий вывод</a></span></li></ul></div>"
      ]
    },
    {
      "cell_type": "markdown",
      "metadata": {},
      "source": [
        "# Поиск клиентов телеком-компании «Нупозвони» с неоптимальными тарифами"
      ]
    },
    {
      "cell_type": "markdown",
      "metadata": {},
      "source": [
        "## Материалы"
      ]
    },
    {
      "cell_type": "markdown",
      "metadata": {},
      "source": [
        "Дашборд - https://public.tableau.com/app/profile/natalys/viz/Final_project_16541114635600/Dashboard1?publish=yes\n",
        "\n",
        "Данные для менеджеров из коммерческого департамента - https://drive.google.com/file/d/1cwjn0wpWuEn8tm0R8dKlaclAnPjNNtVf/view?usp=sharing"
      ]
    },
    {
      "cell_type": "markdown",
      "metadata": {},
      "source": [
        "## Описание проекта"
      ]
    },
    {
      "cell_type": "markdown",
      "metadata": {},
      "source": [
        "Цель проекта – провести мониторинг клиентов, которые экономически неэффективно используют услуги на своих тарифах, и могут снизить свои расходы, если перейдут на другие тарифы. \n",
        "\n",
        "Заказчиком является коммерческий директор, который хочет увеличить свою прибыль за счет снижения оттока клиентов, переведя их на более выгодный для них тариф. Таким образом, во-первых, необходимо подготовить отчет Заказчику и предоставить данные, которые показывают сколько клиент тратил денег до перехода на новый тариф, сколько будет тратить при переходе на него, какой будет при этом потеря выручки Заказчиком, а также предложить пути решения проблемы потери выручки. Во-вторых, необходимо подготовить отчет с данными по клиентам, использующим неоптимально свой тариф, для менеджеров из коммерческого департамента, которые будут звонить этим клиентам и предлагать новый тариф.\n",
        "\n",
        "\n",
        "Задачи:\n",
        "1.\tизучить динамику работы клиентов Телекома и выделить активных клиентов, по которым будем проводить все расчеты\n",
        "\n",
        "2.\tизучить текущую выручку компании (в разрезе месяца), а также динамику за весь период, включая изучение среднего чека в разрезе тарифа\n",
        "\n",
        "3.\tопределить клиентов, которые неэффективно используют услуги Телекома (платят больше, чем могли бы платить на другом тарифе)\n",
        "\n",
        "4.\tизучить потери в выручке, если все клиенты перейдут на выгодные тарифы\n",
        "\n",
        "5.\tпредложить пути решения проблемы потери выручки\n"
      ]
    },
    {
      "cell_type": "markdown",
      "metadata": {},
      "source": [
        "## Изучение данных из файла"
      ]
    },
    {
      "cell_type": "code",
      "execution_count": 1,
      "metadata": {},
      "outputs": [],
      "source": [
        "# Импортируем библиотеки\n",
        "import pandas as pd\n",
        "import matplotlib.pyplot as plt\n",
        "from scipy import stats as st\n",
        "import numpy as np"
      ]
    },
    {
      "cell_type": "code",
      "execution_count": 2,
      "metadata": {},
      "outputs": [
        {
          "data": {
            "text/html": [
              "<div>\n",
              "<style scoped>\n",
              "    .dataframe tbody tr th:only-of-type {\n",
              "        vertical-align: middle;\n",
              "    }\n",
              "\n",
              "    .dataframe tbody tr th {\n",
              "        vertical-align: top;\n",
              "    }\n",
              "\n",
              "    .dataframe thead th {\n",
              "        text-align: right;\n",
              "    }\n",
              "</style>\n",
              "<table border=\"1\" class=\"dataframe\">\n",
              "  <thead>\n",
              "    <tr style=\"text-align: right;\">\n",
              "      <th></th>\n",
              "      <th>user_id</th>\n",
              "      <th>date</th>\n",
              "      <th>direction</th>\n",
              "      <th>internal</th>\n",
              "      <th>operator_id</th>\n",
              "      <th>is_missed_call</th>\n",
              "      <th>calls_count</th>\n",
              "      <th>call_duration</th>\n",
              "      <th>total_call_duration</th>\n",
              "    </tr>\n",
              "  </thead>\n",
              "  <tbody>\n",
              "    <tr>\n",
              "      <th>0</th>\n",
              "      <td>166377</td>\n",
              "      <td>2019-08-04 00:00:00+03:00</td>\n",
              "      <td>in</td>\n",
              "      <td>False</td>\n",
              "      <td>NaN</td>\n",
              "      <td>True</td>\n",
              "      <td>2</td>\n",
              "      <td>0</td>\n",
              "      <td>4</td>\n",
              "    </tr>\n",
              "    <tr>\n",
              "      <th>1</th>\n",
              "      <td>166377</td>\n",
              "      <td>2019-08-05 00:00:00+03:00</td>\n",
              "      <td>out</td>\n",
              "      <td>True</td>\n",
              "      <td>880022.0</td>\n",
              "      <td>True</td>\n",
              "      <td>3</td>\n",
              "      <td>0</td>\n",
              "      <td>5</td>\n",
              "    </tr>\n",
              "    <tr>\n",
              "      <th>2</th>\n",
              "      <td>166377</td>\n",
              "      <td>2019-08-05 00:00:00+03:00</td>\n",
              "      <td>out</td>\n",
              "      <td>True</td>\n",
              "      <td>880020.0</td>\n",
              "      <td>True</td>\n",
              "      <td>1</td>\n",
              "      <td>0</td>\n",
              "      <td>1</td>\n",
              "    </tr>\n",
              "    <tr>\n",
              "      <th>3</th>\n",
              "      <td>166377</td>\n",
              "      <td>2019-08-05 00:00:00+03:00</td>\n",
              "      <td>out</td>\n",
              "      <td>True</td>\n",
              "      <td>880020.0</td>\n",
              "      <td>False</td>\n",
              "      <td>1</td>\n",
              "      <td>10</td>\n",
              "      <td>18</td>\n",
              "    </tr>\n",
              "    <tr>\n",
              "      <th>4</th>\n",
              "      <td>166377</td>\n",
              "      <td>2019-08-05 00:00:00+03:00</td>\n",
              "      <td>out</td>\n",
              "      <td>False</td>\n",
              "      <td>880022.0</td>\n",
              "      <td>True</td>\n",
              "      <td>3</td>\n",
              "      <td>0</td>\n",
              "      <td>25</td>\n",
              "    </tr>\n",
              "  </tbody>\n",
              "</table>\n",
              "</div>"
            ],
            "text/plain": [
              "   user_id                       date direction internal  operator_id  \\\n",
              "0   166377  2019-08-04 00:00:00+03:00        in    False          NaN   \n",
              "1   166377  2019-08-05 00:00:00+03:00       out     True     880022.0   \n",
              "2   166377  2019-08-05 00:00:00+03:00       out     True     880020.0   \n",
              "3   166377  2019-08-05 00:00:00+03:00       out     True     880020.0   \n",
              "4   166377  2019-08-05 00:00:00+03:00       out    False     880022.0   \n",
              "\n",
              "   is_missed_call  calls_count  call_duration  total_call_duration  \n",
              "0            True            2              0                    4  \n",
              "1            True            3              0                    5  \n",
              "2            True            1              0                    1  \n",
              "3           False            1             10                   18  \n",
              "4            True            3              0                   25  "
            ]
          },
          "metadata": {},
          "output_type": "display_data"
        },
        {
          "name": "stdout",
          "output_type": "stream",
          "text": [
            "<class 'pandas.core.frame.DataFrame'>\n",
            "RangeIndex: 53902 entries, 0 to 53901\n",
            "Data columns (total 9 columns):\n",
            " #   Column               Non-Null Count  Dtype  \n",
            "---  ------               --------------  -----  \n",
            " 0   user_id              53902 non-null  int64  \n",
            " 1   date                 53902 non-null  object \n",
            " 2   direction            53902 non-null  object \n",
            " 3   internal             53785 non-null  object \n",
            " 4   operator_id          45730 non-null  float64\n",
            " 5   is_missed_call       53902 non-null  bool   \n",
            " 6   calls_count          53902 non-null  int64  \n",
            " 7   call_duration        53902 non-null  int64  \n",
            " 8   total_call_duration  53902 non-null  int64  \n",
            "dtypes: bool(1), float64(1), int64(4), object(3)\n",
            "memory usage: 3.3+ MB\n"
          ]
        },
        {
          "data": {
            "text/plain": [
              "None"
            ]
          },
          "metadata": {},
          "output_type": "display_data"
        },
        {
          "data": {
            "text/html": [
              "<div>\n",
              "<style scoped>\n",
              "    .dataframe tbody tr th:only-of-type {\n",
              "        vertical-align: middle;\n",
              "    }\n",
              "\n",
              "    .dataframe tbody tr th {\n",
              "        vertical-align: top;\n",
              "    }\n",
              "\n",
              "    .dataframe thead th {\n",
              "        text-align: right;\n",
              "    }\n",
              "</style>\n",
              "<table border=\"1\" class=\"dataframe\">\n",
              "  <thead>\n",
              "    <tr style=\"text-align: right;\">\n",
              "      <th></th>\n",
              "      <th>user_id</th>\n",
              "      <th>tariff_plan</th>\n",
              "      <th>date_start</th>\n",
              "    </tr>\n",
              "  </thead>\n",
              "  <tbody>\n",
              "    <tr>\n",
              "      <th>0</th>\n",
              "      <td>166713</td>\n",
              "      <td>A</td>\n",
              "      <td>2019-08-15</td>\n",
              "    </tr>\n",
              "    <tr>\n",
              "      <th>1</th>\n",
              "      <td>166901</td>\n",
              "      <td>A</td>\n",
              "      <td>2019-08-23</td>\n",
              "    </tr>\n",
              "    <tr>\n",
              "      <th>2</th>\n",
              "      <td>168527</td>\n",
              "      <td>A</td>\n",
              "      <td>2019-10-29</td>\n",
              "    </tr>\n",
              "    <tr>\n",
              "      <th>3</th>\n",
              "      <td>167097</td>\n",
              "      <td>A</td>\n",
              "      <td>2019-09-01</td>\n",
              "    </tr>\n",
              "    <tr>\n",
              "      <th>4</th>\n",
              "      <td>168193</td>\n",
              "      <td>A</td>\n",
              "      <td>2019-10-16</td>\n",
              "    </tr>\n",
              "  </tbody>\n",
              "</table>\n",
              "</div>"
            ],
            "text/plain": [
              "   user_id tariff_plan  date_start\n",
              "0   166713           A  2019-08-15\n",
              "1   166901           A  2019-08-23\n",
              "2   168527           A  2019-10-29\n",
              "3   167097           A  2019-09-01\n",
              "4   168193           A  2019-10-16"
            ]
          },
          "metadata": {},
          "output_type": "display_data"
        },
        {
          "name": "stdout",
          "output_type": "stream",
          "text": [
            "<class 'pandas.core.frame.DataFrame'>\n",
            "RangeIndex: 732 entries, 0 to 731\n",
            "Data columns (total 3 columns):\n",
            " #   Column       Non-Null Count  Dtype \n",
            "---  ------       --------------  ----- \n",
            " 0   user_id      732 non-null    int64 \n",
            " 1   tariff_plan  732 non-null    object\n",
            " 2   date_start   732 non-null    object\n",
            "dtypes: int64(1), object(2)\n",
            "memory usage: 17.3+ KB\n"
          ]
        },
        {
          "data": {
            "text/plain": [
              "None"
            ]
          },
          "metadata": {},
          "output_type": "display_data"
        }
      ],
      "source": [
        "# Откроем файл с данными и изучим общую информацию\n",
        "telecom_dataset = pd.read_csv('/datasets/telecom_dataset.csv')\n",
        "telecom_clients = pd.read_csv('/datasets/telecom_clients.csv')\n",
        "display(telecom_dataset.head())\n",
        "display(telecom_dataset.info())\n",
        "display(telecom_clients.head())\n",
        "display(telecom_clients.info())"
      ]
    },
    {
      "cell_type": "markdown",
      "metadata": {},
      "source": [
        "**Вывод:**\n",
        "1. Имеется несоответствие типов данных хранимым в них значениях. Необходимо привести столбцы date и date_start к формату времени, столбец internal к булевскому типу, столбец operator_id к int.\n",
        "2. Имеются пропуски в столбце operator_id.\n",
        "3. Имеются пропуски в столбце internal, однако, их менее 1% и, вероятно,не внесли данные из-за того, что они не True. Поэтому заменим их на False  во время изменения типа данных на булевский."
      ]
    },
    {
      "cell_type": "markdown",
      "metadata": {},
      "source": [
        "## Предобработка данных"
      ]
    },
    {
      "cell_type": "code",
      "execution_count": 3,
      "metadata": {},
      "outputs": [],
      "source": [
        "# Исследуем соответствие типов, приведем к нужным при необходимости\n",
        "telecom_dataset['date'] = pd.to_datetime(telecom_dataset['date']).dt.date\n",
        "telecom_clients['date_start'] = pd.to_datetime(telecom_clients['date_start']).dt.date\n",
        "telecom_dataset['internal'] = telecom_dataset['internal'].astype('bool')"
      ]
    },
    {
      "cell_type": "code",
      "execution_count": 4,
      "metadata": {},
      "outputs": [
        {
          "data": {
            "text/plain": [
              "datetime.date(2019, 11, 28)"
            ]
          },
          "metadata": {},
          "output_type": "display_data"
        },
        {
          "data": {
            "text/plain": [
              "datetime.date(2019, 8, 2)"
            ]
          },
          "metadata": {},
          "output_type": "display_data"
        }
      ],
      "source": [
        "# Найдем минимальную и максимальную даты\n",
        "display(telecom_dataset['date'].max())\n",
        "display(telecom_dataset['date'].min())"
      ]
    },
    {
      "cell_type": "code",
      "execution_count": 5,
      "metadata": {},
      "outputs": [
        {
          "data": {
            "text/plain": [
              "user_id                   0\n",
              "date                      0\n",
              "direction                 0\n",
              "internal                  0\n",
              "operator_id            8172\n",
              "is_missed_call            0\n",
              "calls_count               0\n",
              "call_duration             0\n",
              "total_call_duration       0\n",
              "dtype: int64"
            ]
          },
          "metadata": {},
          "output_type": "display_data"
        },
        {
          "data": {
            "text/html": [
              "<div>\n",
              "<style scoped>\n",
              "    .dataframe tbody tr th:only-of-type {\n",
              "        vertical-align: middle;\n",
              "    }\n",
              "\n",
              "    .dataframe tbody tr th {\n",
              "        vertical-align: top;\n",
              "    }\n",
              "\n",
              "    .dataframe thead th {\n",
              "        text-align: right;\n",
              "    }\n",
              "</style>\n",
              "<table border=\"1\" class=\"dataframe\">\n",
              "  <thead>\n",
              "    <tr style=\"text-align: right;\">\n",
              "      <th></th>\n",
              "      <th>user_id</th>\n",
              "      <th>date</th>\n",
              "      <th>direction</th>\n",
              "      <th>internal</th>\n",
              "      <th>operator_id</th>\n",
              "      <th>is_missed_call</th>\n",
              "      <th>calls_count</th>\n",
              "      <th>call_duration</th>\n",
              "      <th>total_call_duration</th>\n",
              "    </tr>\n",
              "  </thead>\n",
              "  <tbody>\n",
              "    <tr>\n",
              "      <th>0</th>\n",
              "      <td>166377</td>\n",
              "      <td>2019-08-04</td>\n",
              "      <td>in</td>\n",
              "      <td>False</td>\n",
              "      <td>NaN</td>\n",
              "      <td>True</td>\n",
              "      <td>2</td>\n",
              "      <td>0</td>\n",
              "      <td>4</td>\n",
              "    </tr>\n",
              "    <tr>\n",
              "      <th>7</th>\n",
              "      <td>166377</td>\n",
              "      <td>2019-08-05</td>\n",
              "      <td>in</td>\n",
              "      <td>False</td>\n",
              "      <td>NaN</td>\n",
              "      <td>True</td>\n",
              "      <td>6</td>\n",
              "      <td>0</td>\n",
              "      <td>35</td>\n",
              "    </tr>\n",
              "    <tr>\n",
              "      <th>9</th>\n",
              "      <td>166377</td>\n",
              "      <td>2019-08-06</td>\n",
              "      <td>in</td>\n",
              "      <td>False</td>\n",
              "      <td>NaN</td>\n",
              "      <td>True</td>\n",
              "      <td>4</td>\n",
              "      <td>0</td>\n",
              "      <td>62</td>\n",
              "    </tr>\n",
              "    <tr>\n",
              "      <th>17</th>\n",
              "      <td>166377</td>\n",
              "      <td>2019-08-07</td>\n",
              "      <td>in</td>\n",
              "      <td>False</td>\n",
              "      <td>NaN</td>\n",
              "      <td>True</td>\n",
              "      <td>2</td>\n",
              "      <td>0</td>\n",
              "      <td>24</td>\n",
              "    </tr>\n",
              "    <tr>\n",
              "      <th>27</th>\n",
              "      <td>166377</td>\n",
              "      <td>2019-08-12</td>\n",
              "      <td>in</td>\n",
              "      <td>False</td>\n",
              "      <td>NaN</td>\n",
              "      <td>True</td>\n",
              "      <td>2</td>\n",
              "      <td>0</td>\n",
              "      <td>34</td>\n",
              "    </tr>\n",
              "    <tr>\n",
              "      <th>...</th>\n",
              "      <td>...</td>\n",
              "      <td>...</td>\n",
              "      <td>...</td>\n",
              "      <td>...</td>\n",
              "      <td>...</td>\n",
              "      <td>...</td>\n",
              "      <td>...</td>\n",
              "      <td>...</td>\n",
              "      <td>...</td>\n",
              "    </tr>\n",
              "    <tr>\n",
              "      <th>53876</th>\n",
              "      <td>168601</td>\n",
              "      <td>2019-11-27</td>\n",
              "      <td>in</td>\n",
              "      <td>False</td>\n",
              "      <td>NaN</td>\n",
              "      <td>True</td>\n",
              "      <td>2</td>\n",
              "      <td>0</td>\n",
              "      <td>39</td>\n",
              "    </tr>\n",
              "    <tr>\n",
              "      <th>53880</th>\n",
              "      <td>168601</td>\n",
              "      <td>2019-11-28</td>\n",
              "      <td>in</td>\n",
              "      <td>False</td>\n",
              "      <td>NaN</td>\n",
              "      <td>True</td>\n",
              "      <td>1</td>\n",
              "      <td>0</td>\n",
              "      <td>19</td>\n",
              "    </tr>\n",
              "    <tr>\n",
              "      <th>53889</th>\n",
              "      <td>168603</td>\n",
              "      <td>2019-11-28</td>\n",
              "      <td>in</td>\n",
              "      <td>False</td>\n",
              "      <td>NaN</td>\n",
              "      <td>True</td>\n",
              "      <td>1</td>\n",
              "      <td>0</td>\n",
              "      <td>30</td>\n",
              "    </tr>\n",
              "    <tr>\n",
              "      <th>53893</th>\n",
              "      <td>168606</td>\n",
              "      <td>2019-11-08</td>\n",
              "      <td>in</td>\n",
              "      <td>False</td>\n",
              "      <td>NaN</td>\n",
              "      <td>True</td>\n",
              "      <td>6</td>\n",
              "      <td>0</td>\n",
              "      <td>121</td>\n",
              "    </tr>\n",
              "    <tr>\n",
              "      <th>53901</th>\n",
              "      <td>168606</td>\n",
              "      <td>2019-11-19</td>\n",
              "      <td>in</td>\n",
              "      <td>False</td>\n",
              "      <td>NaN</td>\n",
              "      <td>True</td>\n",
              "      <td>2</td>\n",
              "      <td>0</td>\n",
              "      <td>64</td>\n",
              "    </tr>\n",
              "  </tbody>\n",
              "</table>\n",
              "<p>8172 rows × 9 columns</p>\n",
              "</div>"
            ],
            "text/plain": [
              "       user_id        date direction  internal  operator_id  is_missed_call  \\\n",
              "0       166377  2019-08-04        in     False          NaN            True   \n",
              "7       166377  2019-08-05        in     False          NaN            True   \n",
              "9       166377  2019-08-06        in     False          NaN            True   \n",
              "17      166377  2019-08-07        in     False          NaN            True   \n",
              "27      166377  2019-08-12        in     False          NaN            True   \n",
              "...        ...         ...       ...       ...          ...             ...   \n",
              "53876   168601  2019-11-27        in     False          NaN            True   \n",
              "53880   168601  2019-11-28        in     False          NaN            True   \n",
              "53889   168603  2019-11-28        in     False          NaN            True   \n",
              "53893   168606  2019-11-08        in     False          NaN            True   \n",
              "53901   168606  2019-11-19        in     False          NaN            True   \n",
              "\n",
              "       calls_count  call_duration  total_call_duration  \n",
              "0                2              0                    4  \n",
              "7                6              0                   35  \n",
              "9                4              0                   62  \n",
              "17               2              0                   24  \n",
              "27               2              0                   34  \n",
              "...            ...            ...                  ...  \n",
              "53876            2              0                   39  \n",
              "53880            1              0                   19  \n",
              "53889            1              0                   30  \n",
              "53893            6              0                  121  \n",
              "53901            2              0                   64  \n",
              "\n",
              "[8172 rows x 9 columns]"
            ]
          },
          "metadata": {},
          "output_type": "display_data"
        },
        {
          "data": {
            "text/plain": [
              "True     8050\n",
              "False     122\n",
              "Name: is_missed_call, dtype: int64"
            ]
          },
          "metadata": {},
          "output_type": "display_data"
        },
        {
          "data": {
            "text/plain": [
              "in     7972\n",
              "out     200\n",
              "Name: direction, dtype: int64"
            ]
          },
          "metadata": {},
          "output_type": "display_data"
        },
        {
          "data": {
            "text/plain": [
              "False    7760\n",
              "True      412\n",
              "Name: internal, dtype: int64"
            ]
          },
          "metadata": {},
          "output_type": "display_data"
        },
        {
          "data": {
            "text/plain": [
              "168252    145\n",
              "166405    122\n",
              "166582    118\n",
              "166782    117\n",
              "166658    111\n",
              "         ... \n",
              "167113      1\n",
              "167183      1\n",
              "168578      1\n",
              "166554      1\n",
              "167139      1\n",
              "Name: user_id, Length: 305, dtype: int64"
            ]
          },
          "metadata": {},
          "output_type": "display_data"
        }
      ],
      "source": [
        "# Проверим наличие пропусков\n",
        "display(telecom_dataset.isna().sum())\n",
        "display(telecom_dataset[telecom_dataset.isna().any(1)])\n",
        "display(telecom_dataset[telecom_dataset.isna().any(1)]['is_missed_call'].value_counts())\n",
        "display(telecom_dataset[telecom_dataset.isna().any(1)]['direction'].value_counts())\n",
        "display(telecom_dataset[telecom_dataset.isna().any(1)]['internal'].value_counts())\n",
        "display(telecom_dataset[telecom_dataset.isna().any(1)]['user_id'].value_counts())"
      ]
    },
    {
      "cell_type": "markdown",
      "metadata": {},
      "source": [
        "Вывод: всего 7456 пропущенных значений в колонке 'operator_id'. В основном (в 95% случаев), эти пропущенные значения среди пропущенных вызовов,среди входящих вызовов, среди внешних вызовов. Можно предположить, что это пропущенные входящие звонки, на которые не был назначен оператор ввиду отсутствия свободных операторов. Поэтому заменять эти пропуски на что-либо будет некорректно, исключим их из исследования. 305 клиентов(41%) имеют пропуски в столбце 'operator_id', поэтому удалять целого клиента некорректно."
      ]
    },
    {
      "cell_type": "code",
      "execution_count": 6,
      "metadata": {},
      "outputs": [
        {
          "name": "stdout",
          "output_type": "stream",
          "text": [
            "<class 'pandas.core.frame.DataFrame'>\n",
            "Int64Index: 45730 entries, 1 to 53900\n",
            "Data columns (total 9 columns):\n",
            " #   Column               Non-Null Count  Dtype  \n",
            "---  ------               --------------  -----  \n",
            " 0   user_id              45730 non-null  int64  \n",
            " 1   date                 45730 non-null  object \n",
            " 2   direction            45730 non-null  object \n",
            " 3   internal             45730 non-null  bool   \n",
            " 4   operator_id          45730 non-null  float64\n",
            " 5   is_missed_call       45730 non-null  bool   \n",
            " 6   calls_count          45730 non-null  int64  \n",
            " 7   call_duration        45730 non-null  int64  \n",
            " 8   total_call_duration  45730 non-null  int64  \n",
            "dtypes: bool(2), float64(1), int64(4), object(2)\n",
            "memory usage: 2.9+ MB\n"
          ]
        },
        {
          "data": {
            "text/plain": [
              "None"
            ]
          },
          "metadata": {},
          "output_type": "display_data"
        }
      ],
      "source": [
        "telecom_dataset = telecom_dataset.query(\"operator_id == operator_id\")\n",
        "display(telecom_dataset.info())"
      ]
    },
    {
      "cell_type": "code",
      "execution_count": 7,
      "metadata": {},
      "outputs": [
        {
          "data": {
            "text/plain": [
              "4184"
            ]
          },
          "metadata": {},
          "output_type": "display_data"
        },
        {
          "data": {
            "text/plain": [
              "0"
            ]
          },
          "metadata": {},
          "output_type": "display_data"
        }
      ],
      "source": [
        "# Проверим наличие явных дубликатов\n",
        "display(telecom_dataset.duplicated().sum())\n",
        "display(telecom_clients.duplicated().sum())"
      ]
    },
    {
      "cell_type": "code",
      "execution_count": 8,
      "metadata": {},
      "outputs": [
        {
          "name": "stdout",
          "output_type": "stream",
          "text": [
            "<class 'pandas.core.frame.DataFrame'>\n",
            "RangeIndex: 41546 entries, 0 to 41545\n",
            "Data columns (total 9 columns):\n",
            " #   Column               Non-Null Count  Dtype  \n",
            "---  ------               --------------  -----  \n",
            " 0   user_id              41546 non-null  int64  \n",
            " 1   date                 41546 non-null  object \n",
            " 2   direction            41546 non-null  object \n",
            " 3   internal             41546 non-null  bool   \n",
            " 4   operator_id          41546 non-null  float64\n",
            " 5   is_missed_call       41546 non-null  bool   \n",
            " 6   calls_count          41546 non-null  int64  \n",
            " 7   call_duration        41546 non-null  int64  \n",
            " 8   total_call_duration  41546 non-null  int64  \n",
            "dtypes: bool(2), float64(1), int64(4), object(2)\n",
            "memory usage: 2.3+ MB\n"
          ]
        },
        {
          "data": {
            "text/plain": [
              "None"
            ]
          },
          "metadata": {},
          "output_type": "display_data"
        },
        {
          "data": {
            "text/html": [
              "<div>\n",
              "<style scoped>\n",
              "    .dataframe tbody tr th:only-of-type {\n",
              "        vertical-align: middle;\n",
              "    }\n",
              "\n",
              "    .dataframe tbody tr th {\n",
              "        vertical-align: top;\n",
              "    }\n",
              "\n",
              "    .dataframe thead th {\n",
              "        text-align: right;\n",
              "    }\n",
              "</style>\n",
              "<table border=\"1\" class=\"dataframe\">\n",
              "  <thead>\n",
              "    <tr style=\"text-align: right;\">\n",
              "      <th></th>\n",
              "      <th>user_id</th>\n",
              "      <th>date</th>\n",
              "      <th>direction</th>\n",
              "      <th>internal</th>\n",
              "      <th>operator_id</th>\n",
              "      <th>is_missed_call</th>\n",
              "      <th>calls_count</th>\n",
              "      <th>call_duration</th>\n",
              "      <th>total_call_duration</th>\n",
              "    </tr>\n",
              "  </thead>\n",
              "  <tbody>\n",
              "    <tr>\n",
              "      <th>0</th>\n",
              "      <td>166377</td>\n",
              "      <td>2019-08-05</td>\n",
              "      <td>out</td>\n",
              "      <td>True</td>\n",
              "      <td>880022.0</td>\n",
              "      <td>True</td>\n",
              "      <td>3</td>\n",
              "      <td>0</td>\n",
              "      <td>5</td>\n",
              "    </tr>\n",
              "    <tr>\n",
              "      <th>1</th>\n",
              "      <td>166377</td>\n",
              "      <td>2019-08-05</td>\n",
              "      <td>out</td>\n",
              "      <td>True</td>\n",
              "      <td>880020.0</td>\n",
              "      <td>True</td>\n",
              "      <td>1</td>\n",
              "      <td>0</td>\n",
              "      <td>1</td>\n",
              "    </tr>\n",
              "    <tr>\n",
              "      <th>2</th>\n",
              "      <td>166377</td>\n",
              "      <td>2019-08-05</td>\n",
              "      <td>out</td>\n",
              "      <td>True</td>\n",
              "      <td>880020.0</td>\n",
              "      <td>False</td>\n",
              "      <td>1</td>\n",
              "      <td>10</td>\n",
              "      <td>18</td>\n",
              "    </tr>\n",
              "    <tr>\n",
              "      <th>3</th>\n",
              "      <td>166377</td>\n",
              "      <td>2019-08-05</td>\n",
              "      <td>out</td>\n",
              "      <td>False</td>\n",
              "      <td>880022.0</td>\n",
              "      <td>True</td>\n",
              "      <td>3</td>\n",
              "      <td>0</td>\n",
              "      <td>25</td>\n",
              "    </tr>\n",
              "    <tr>\n",
              "      <th>4</th>\n",
              "      <td>166377</td>\n",
              "      <td>2019-08-05</td>\n",
              "      <td>out</td>\n",
              "      <td>False</td>\n",
              "      <td>880020.0</td>\n",
              "      <td>False</td>\n",
              "      <td>2</td>\n",
              "      <td>3</td>\n",
              "      <td>29</td>\n",
              "    </tr>\n",
              "  </tbody>\n",
              "</table>\n",
              "</div>"
            ],
            "text/plain": [
              "   user_id        date direction  internal  operator_id  is_missed_call  \\\n",
              "0   166377  2019-08-05       out      True     880022.0            True   \n",
              "1   166377  2019-08-05       out      True     880020.0            True   \n",
              "2   166377  2019-08-05       out      True     880020.0           False   \n",
              "3   166377  2019-08-05       out     False     880022.0            True   \n",
              "4   166377  2019-08-05       out     False     880020.0           False   \n",
              "\n",
              "   calls_count  call_duration  total_call_duration  \n",
              "0            3              0                    5  \n",
              "1            1              0                    1  \n",
              "2            1             10                   18  \n",
              "3            3              0                   25  \n",
              "4            2              3                   29  "
            ]
          },
          "metadata": {},
          "output_type": "display_data"
        }
      ],
      "source": [
        "# Удалим явные дубликаты\n",
        "telecom_dataset = telecom_dataset.drop_duplicates().reset_index(drop=True)\n",
        "display(telecom_dataset.info())\n",
        "display(telecom_dataset.head())"
      ]
    },
    {
      "cell_type": "code",
      "execution_count": 9,
      "metadata": {},
      "outputs": [],
      "source": [
        "# Приведем тип данных столбца operator_id к int\n",
        "telecom_dataset['operator_id'] = telecom_dataset['operator_id'].astype('int')"
      ]
    },
    {
      "cell_type": "code",
      "execution_count": 10,
      "metadata": {},
      "outputs": [
        {
          "data": {
            "text/html": [
              "<div>\n",
              "<style scoped>\n",
              "    .dataframe tbody tr th:only-of-type {\n",
              "        vertical-align: middle;\n",
              "    }\n",
              "\n",
              "    .dataframe tbody tr th {\n",
              "        vertical-align: top;\n",
              "    }\n",
              "\n",
              "    .dataframe thead th {\n",
              "        text-align: right;\n",
              "    }\n",
              "</style>\n",
              "<table border=\"1\" class=\"dataframe\">\n",
              "  <thead>\n",
              "    <tr style=\"text-align: right;\">\n",
              "      <th></th>\n",
              "      <th>user_id</th>\n",
              "      <th>date</th>\n",
              "      <th>direction</th>\n",
              "      <th>internal</th>\n",
              "      <th>operator_id</th>\n",
              "      <th>is_missed_call</th>\n",
              "      <th>calls_count</th>\n",
              "      <th>call_duration</th>\n",
              "      <th>total_call_duration</th>\n",
              "      <th>tariff_plan</th>\n",
              "      <th>date_start</th>\n",
              "    </tr>\n",
              "  </thead>\n",
              "  <tbody>\n",
              "    <tr>\n",
              "      <th>0</th>\n",
              "      <td>166377</td>\n",
              "      <td>2019-08-05</td>\n",
              "      <td>out</td>\n",
              "      <td>True</td>\n",
              "      <td>880022</td>\n",
              "      <td>True</td>\n",
              "      <td>3</td>\n",
              "      <td>0</td>\n",
              "      <td>5</td>\n",
              "      <td>B</td>\n",
              "      <td>2019-08-01</td>\n",
              "    </tr>\n",
              "    <tr>\n",
              "      <th>1</th>\n",
              "      <td>166377</td>\n",
              "      <td>2019-08-05</td>\n",
              "      <td>out</td>\n",
              "      <td>True</td>\n",
              "      <td>880020</td>\n",
              "      <td>True</td>\n",
              "      <td>1</td>\n",
              "      <td>0</td>\n",
              "      <td>1</td>\n",
              "      <td>B</td>\n",
              "      <td>2019-08-01</td>\n",
              "    </tr>\n",
              "    <tr>\n",
              "      <th>2</th>\n",
              "      <td>166377</td>\n",
              "      <td>2019-08-05</td>\n",
              "      <td>out</td>\n",
              "      <td>True</td>\n",
              "      <td>880020</td>\n",
              "      <td>False</td>\n",
              "      <td>1</td>\n",
              "      <td>10</td>\n",
              "      <td>18</td>\n",
              "      <td>B</td>\n",
              "      <td>2019-08-01</td>\n",
              "    </tr>\n",
              "    <tr>\n",
              "      <th>3</th>\n",
              "      <td>166377</td>\n",
              "      <td>2019-08-05</td>\n",
              "      <td>out</td>\n",
              "      <td>False</td>\n",
              "      <td>880022</td>\n",
              "      <td>True</td>\n",
              "      <td>3</td>\n",
              "      <td>0</td>\n",
              "      <td>25</td>\n",
              "      <td>B</td>\n",
              "      <td>2019-08-01</td>\n",
              "    </tr>\n",
              "    <tr>\n",
              "      <th>4</th>\n",
              "      <td>166377</td>\n",
              "      <td>2019-08-05</td>\n",
              "      <td>out</td>\n",
              "      <td>False</td>\n",
              "      <td>880020</td>\n",
              "      <td>False</td>\n",
              "      <td>2</td>\n",
              "      <td>3</td>\n",
              "      <td>29</td>\n",
              "      <td>B</td>\n",
              "      <td>2019-08-01</td>\n",
              "    </tr>\n",
              "  </tbody>\n",
              "</table>\n",
              "</div>"
            ],
            "text/plain": [
              "   user_id        date direction  internal  operator_id  is_missed_call  \\\n",
              "0   166377  2019-08-05       out      True       880022            True   \n",
              "1   166377  2019-08-05       out      True       880020            True   \n",
              "2   166377  2019-08-05       out      True       880020           False   \n",
              "3   166377  2019-08-05       out     False       880022            True   \n",
              "4   166377  2019-08-05       out     False       880020           False   \n",
              "\n",
              "   calls_count  call_duration  total_call_duration tariff_plan  date_start  \n",
              "0            3              0                    5           B  2019-08-01  \n",
              "1            1              0                    1           B  2019-08-01  \n",
              "2            1             10                   18           B  2019-08-01  \n",
              "3            3              0                   25           B  2019-08-01  \n",
              "4            2              3                   29           B  2019-08-01  "
            ]
          },
          "metadata": {},
          "output_type": "display_data"
        },
        {
          "name": "stdout",
          "output_type": "stream",
          "text": [
            "<class 'pandas.core.frame.DataFrame'>\n",
            "Int64Index: 41546 entries, 0 to 41545\n",
            "Data columns (total 11 columns):\n",
            " #   Column               Non-Null Count  Dtype \n",
            "---  ------               --------------  ----- \n",
            " 0   user_id              41546 non-null  int64 \n",
            " 1   date                 41546 non-null  object\n",
            " 2   direction            41546 non-null  object\n",
            " 3   internal             41546 non-null  bool  \n",
            " 4   operator_id          41546 non-null  int64 \n",
            " 5   is_missed_call       41546 non-null  bool  \n",
            " 6   calls_count          41546 non-null  int64 \n",
            " 7   call_duration        41546 non-null  int64 \n",
            " 8   total_call_duration  41546 non-null  int64 \n",
            " 9   tariff_plan          41546 non-null  object\n",
            " 10  date_start           41546 non-null  object\n",
            "dtypes: bool(2), int64(5), object(4)\n",
            "memory usage: 3.2+ MB\n"
          ]
        },
        {
          "data": {
            "text/plain": [
              "None"
            ]
          },
          "metadata": {},
          "output_type": "display_data"
        }
      ],
      "source": [
        "# Объединим две таблицы через 'inner', чтобы отбросить неактивных клиентов из второй таблицы, для которых нет данных в первой\n",
        "data_final = telecom_dataset.merge(telecom_clients, on='user_id',  how='inner')\n",
        "display(data_final.head())\n",
        "display(data_final.info())"
      ]
    },
    {
      "cell_type": "code",
      "execution_count": 11,
      "metadata": {
        "scrolled": true
      },
      "outputs": [
        {
          "data": {
            "text/html": [
              "<div>\n",
              "<style scoped>\n",
              "    .dataframe tbody tr th:only-of-type {\n",
              "        vertical-align: middle;\n",
              "    }\n",
              "\n",
              "    .dataframe tbody tr th {\n",
              "        vertical-align: top;\n",
              "    }\n",
              "\n",
              "    .dataframe thead th {\n",
              "        text-align: right;\n",
              "    }\n",
              "</style>\n",
              "<table border=\"1\" class=\"dataframe\">\n",
              "  <thead>\n",
              "    <tr style=\"text-align: right;\">\n",
              "      <th></th>\n",
              "      <th>user_id</th>\n",
              "      <th>date</th>\n",
              "      <th>direction</th>\n",
              "      <th>internal</th>\n",
              "      <th>operator_id</th>\n",
              "      <th>is_missed_call</th>\n",
              "      <th>calls_count</th>\n",
              "      <th>call_duration</th>\n",
              "      <th>total_call_duration</th>\n",
              "      <th>tariff_plan</th>\n",
              "      <th>date_start</th>\n",
              "      <th>month_year</th>\n",
              "      <th>month</th>\n",
              "    </tr>\n",
              "  </thead>\n",
              "  <tbody>\n",
              "    <tr>\n",
              "      <th>0</th>\n",
              "      <td>166377</td>\n",
              "      <td>2019-08-05</td>\n",
              "      <td>out</td>\n",
              "      <td>True</td>\n",
              "      <td>880022</td>\n",
              "      <td>True</td>\n",
              "      <td>3</td>\n",
              "      <td>0</td>\n",
              "      <td>5</td>\n",
              "      <td>B</td>\n",
              "      <td>2019-08-01</td>\n",
              "      <td>2019-08-01</td>\n",
              "      <td>8</td>\n",
              "    </tr>\n",
              "    <tr>\n",
              "      <th>1</th>\n",
              "      <td>166377</td>\n",
              "      <td>2019-08-05</td>\n",
              "      <td>out</td>\n",
              "      <td>True</td>\n",
              "      <td>880020</td>\n",
              "      <td>True</td>\n",
              "      <td>1</td>\n",
              "      <td>0</td>\n",
              "      <td>1</td>\n",
              "      <td>B</td>\n",
              "      <td>2019-08-01</td>\n",
              "      <td>2019-08-01</td>\n",
              "      <td>8</td>\n",
              "    </tr>\n",
              "    <tr>\n",
              "      <th>2</th>\n",
              "      <td>166377</td>\n",
              "      <td>2019-08-05</td>\n",
              "      <td>out</td>\n",
              "      <td>True</td>\n",
              "      <td>880020</td>\n",
              "      <td>False</td>\n",
              "      <td>1</td>\n",
              "      <td>10</td>\n",
              "      <td>18</td>\n",
              "      <td>B</td>\n",
              "      <td>2019-08-01</td>\n",
              "      <td>2019-08-01</td>\n",
              "      <td>8</td>\n",
              "    </tr>\n",
              "    <tr>\n",
              "      <th>3</th>\n",
              "      <td>166377</td>\n",
              "      <td>2019-08-05</td>\n",
              "      <td>out</td>\n",
              "      <td>False</td>\n",
              "      <td>880022</td>\n",
              "      <td>True</td>\n",
              "      <td>3</td>\n",
              "      <td>0</td>\n",
              "      <td>25</td>\n",
              "      <td>B</td>\n",
              "      <td>2019-08-01</td>\n",
              "      <td>2019-08-01</td>\n",
              "      <td>8</td>\n",
              "    </tr>\n",
              "    <tr>\n",
              "      <th>4</th>\n",
              "      <td>166377</td>\n",
              "      <td>2019-08-05</td>\n",
              "      <td>out</td>\n",
              "      <td>False</td>\n",
              "      <td>880020</td>\n",
              "      <td>False</td>\n",
              "      <td>2</td>\n",
              "      <td>3</td>\n",
              "      <td>29</td>\n",
              "      <td>B</td>\n",
              "      <td>2019-08-01</td>\n",
              "      <td>2019-08-01</td>\n",
              "      <td>8</td>\n",
              "    </tr>\n",
              "  </tbody>\n",
              "</table>\n",
              "</div>"
            ],
            "text/plain": [
              "   user_id        date direction  internal  operator_id  is_missed_call  \\\n",
              "0   166377  2019-08-05       out      True       880022            True   \n",
              "1   166377  2019-08-05       out      True       880020            True   \n",
              "2   166377  2019-08-05       out      True       880020           False   \n",
              "3   166377  2019-08-05       out     False       880022            True   \n",
              "4   166377  2019-08-05       out     False       880020           False   \n",
              "\n",
              "   calls_count  call_duration  total_call_duration tariff_plan  date_start  \\\n",
              "0            3              0                    5           B  2019-08-01   \n",
              "1            1              0                    1           B  2019-08-01   \n",
              "2            1             10                   18           B  2019-08-01   \n",
              "3            3              0                   25           B  2019-08-01   \n",
              "4            2              3                   29           B  2019-08-01   \n",
              "\n",
              "  month_year  month  \n",
              "0 2019-08-01      8  \n",
              "1 2019-08-01      8  \n",
              "2 2019-08-01      8  \n",
              "3 2019-08-01      8  \n",
              "4 2019-08-01      8  "
            ]
          },
          "metadata": {},
          "output_type": "display_data"
        }
      ],
      "source": [
        "# Вынесем столбец по месяцам отдельно \n",
        "data_final['month_year'] = data_final['date'].astype('datetime64[M]')\n",
        "data_final['month'] = pd.to_datetime(data_final['date']).dt.month\n",
        "display(data_final.head())"
      ]
    },
    {
      "cell_type": "code",
      "execution_count": 12,
      "metadata": {
        "scrolled": false
      },
      "outputs": [
        {
          "data": {
            "text/plain": [
              "189989"
            ]
          },
          "metadata": {},
          "output_type": "display_data"
        },
        {
          "data": {
            "text/html": [
              "<div>\n",
              "<style scoped>\n",
              "    .dataframe tbody tr th:only-of-type {\n",
              "        vertical-align: middle;\n",
              "    }\n",
              "\n",
              "    .dataframe tbody tr th {\n",
              "        vertical-align: top;\n",
              "    }\n",
              "\n",
              "    .dataframe thead th {\n",
              "        text-align: right;\n",
              "    }\n",
              "</style>\n",
              "<table border=\"1\" class=\"dataframe\">\n",
              "  <thead>\n",
              "    <tr style=\"text-align: right;\">\n",
              "      <th></th>\n",
              "      <th>operator_id</th>\n",
              "      <th>date</th>\n",
              "      <th>month</th>\n",
              "      <th>total_call_duration</th>\n",
              "      <th>calls_count</th>\n",
              "    </tr>\n",
              "  </thead>\n",
              "  <tbody>\n",
              "    <tr>\n",
              "      <th>847</th>\n",
              "      <td>885876</td>\n",
              "      <td>2019-09-25</td>\n",
              "      <td>9</td>\n",
              "      <td>189989</td>\n",
              "      <td>2039</td>\n",
              "    </tr>\n",
              "    <tr>\n",
              "      <th>848</th>\n",
              "      <td>885876</td>\n",
              "      <td>2019-09-26</td>\n",
              "      <td>9</td>\n",
              "      <td>172165</td>\n",
              "      <td>1603</td>\n",
              "    </tr>\n",
              "    <tr>\n",
              "      <th>831</th>\n",
              "      <td>885876</td>\n",
              "      <td>2019-09-09</td>\n",
              "      <td>9</td>\n",
              "      <td>160826</td>\n",
              "      <td>1700</td>\n",
              "    </tr>\n",
              "    <tr>\n",
              "      <th>840</th>\n",
              "      <td>885876</td>\n",
              "      <td>2019-09-18</td>\n",
              "      <td>9</td>\n",
              "      <td>159178</td>\n",
              "      <td>1638</td>\n",
              "    </tr>\n",
              "    <tr>\n",
              "      <th>854</th>\n",
              "      <td>885876</td>\n",
              "      <td>2019-10-02</td>\n",
              "      <td>10</td>\n",
              "      <td>155402</td>\n",
              "      <td>1570</td>\n",
              "    </tr>\n",
              "    <tr>\n",
              "      <th>834</th>\n",
              "      <td>885876</td>\n",
              "      <td>2019-09-12</td>\n",
              "      <td>9</td>\n",
              "      <td>153793</td>\n",
              "      <td>1104</td>\n",
              "    </tr>\n",
              "    <tr>\n",
              "      <th>845</th>\n",
              "      <td>885876</td>\n",
              "      <td>2019-09-23</td>\n",
              "      <td>9</td>\n",
              "      <td>153313</td>\n",
              "      <td>2186</td>\n",
              "    </tr>\n",
              "    <tr>\n",
              "      <th>839</th>\n",
              "      <td>885876</td>\n",
              "      <td>2019-09-17</td>\n",
              "      <td>9</td>\n",
              "      <td>150486</td>\n",
              "      <td>2206</td>\n",
              "    </tr>\n",
              "    <tr>\n",
              "      <th>853</th>\n",
              "      <td>885876</td>\n",
              "      <td>2019-10-01</td>\n",
              "      <td>10</td>\n",
              "      <td>150203</td>\n",
              "      <td>2767</td>\n",
              "    </tr>\n",
              "    <tr>\n",
              "      <th>849</th>\n",
              "      <td>885876</td>\n",
              "      <td>2019-09-27</td>\n",
              "      <td>9</td>\n",
              "      <td>149680</td>\n",
              "      <td>1487</td>\n",
              "    </tr>\n",
              "  </tbody>\n",
              "</table>\n",
              "</div>"
            ],
            "text/plain": [
              "     operator_id        date  month  total_call_duration  calls_count\n",
              "847       885876  2019-09-25      9               189989         2039\n",
              "848       885876  2019-09-26      9               172165         1603\n",
              "831       885876  2019-09-09      9               160826         1700\n",
              "840       885876  2019-09-18      9               159178         1638\n",
              "854       885876  2019-10-02     10               155402         1570\n",
              "834       885876  2019-09-12      9               153793         1104\n",
              "845       885876  2019-09-23      9               153313         2186\n",
              "839       885876  2019-09-17      9               150486         2206\n",
              "853       885876  2019-10-01     10               150203         2767\n",
              "849       885876  2019-09-27      9               149680         1487"
            ]
          },
          "metadata": {},
          "output_type": "display_data"
        }
      ],
      "source": [
        "# Предположим, что у оператора 8-часовой рабочий день (28 800сек) - т.е. сверх этого времени не мб продолжительность звонков в этот день\n",
        "# Сгруппируем данные по дням и операторам, посчитаем суммарно продолжительность звонков и количество звонков\n",
        "time = 8*60*60\n",
        "data_final_operator = data_final.groupby(['operator_id', 'date', 'month']).agg({'total_call_duration': 'sum', 'calls_count': 'sum'}).reset_index()\n",
        "display((data_final_operator['total_call_duration'].max()))\n",
        "display((data_final_operator[data_final_operator['total_call_duration'] > time]).sort_values(by='total_call_duration', ascending = False).head(10))"
      ]
    },
    {
      "cell_type": "markdown",
      "metadata": {},
      "source": [
        "**Вывод:** выявлены аномальные операторы (0,8%), у которых продолжительность звонков больше рабочего времени, а также большое количество самих звонков, вероятно, под одной учетной записью работали несколько операторов. Удалять эти записи не будем, чтобы не исказить результаты работы, тем более, процент аномальных операторов невелик."
      ]
    },
    {
      "cell_type": "code",
      "execution_count": 13,
      "metadata": {},
      "outputs": [],
      "source": [
        "# Напишем функцию для построения гистограмм распределения продолжительности звонков, количества звонков, распределения по месяцам\n",
        "def create_hist(column, title, xlabel, ylabel, x, y):\n",
        "    data_final[column].hist(bins=100, range = (x, y))\n",
        "    display(data_final[column].mean())\n",
        "    plt.title(title)\n",
        "    plt.xlabel(xlabel)\n",
        "    plt.ylabel(ylabel)\n",
        "    plt.show()"
      ]
    },
    {
      "cell_type": "code",
      "execution_count": 14,
      "metadata": {
        "scrolled": false
      },
      "outputs": [
        {
          "data": {
            "text/plain": [
              "1321.5928127858278"
            ]
          },
          "metadata": {},
          "output_type": "display_data"
        },
        {
          "data": {
            "image/png": "[encoded data removed]",
            "text/plain": [
              "<Figure size 432x288 with 1 Axes>"
            ]
          },
          "metadata": {
            "needs_background": "light"
          },
          "output_type": "display_data"
        },
        {
          "data": {
            "text/plain": [
              "16.90042362682328"
            ]
          },
          "metadata": {},
          "output_type": "display_data"
        },
        {
          "data": {
            "image/png": "[encoded data removed]",
            "text/plain": [
              "<Figure size 432x288 with 1 Axes>"
            ]
          },
          "metadata": {
            "needs_background": "light"
          },
          "output_type": "display_data"
        },
        {
          "data": {
            "text/plain": [
              "10.210995041640592"
            ]
          },
          "metadata": {},
          "output_type": "display_data"
        },
        {
          "data": {
            "image/png": "[encoded data removed]",
            "text/plain": [
              "<Figure size 432x288 with 1 Axes>"
            ]
          },
          "metadata": {
            "needs_background": "light"
          },
          "output_type": "display_data"
        }
      ],
      "source": [
        "create_hist('total_call_duration', 'График распределения продолжительности разговора', 'Секунды', 'Количество звонков',  0, 400)\n",
        "create_hist('calls_count', 'График распределения количества звонков', 'Количество звонков', 'Число записей', 0, 100)\n",
        "create_hist('month', 'График активности по месяцам', 'Номер месяца', 'Количество звонков', 8, 11)"
      ]
    },
    {
      "cell_type": "code",
      "execution_count": 15,
      "metadata": {
        "scrolled": true
      },
      "outputs": [
        {
          "data": {
            "text/html": [
              "<div>\n",
              "<style scoped>\n",
              "    .dataframe tbody tr th:only-of-type {\n",
              "        vertical-align: middle;\n",
              "    }\n",
              "\n",
              "    .dataframe tbody tr th {\n",
              "        vertical-align: top;\n",
              "    }\n",
              "\n",
              "    .dataframe thead th {\n",
              "        text-align: right;\n",
              "    }\n",
              "</style>\n",
              "<table border=\"1\" class=\"dataframe\">\n",
              "  <thead>\n",
              "    <tr style=\"text-align: right;\">\n",
              "      <th></th>\n",
              "      <th>operator_id</th>\n",
              "      <th>date</th>\n",
              "      <th>calls_count</th>\n",
              "    </tr>\n",
              "  </thead>\n",
              "  <tbody>\n",
              "    <tr>\n",
              "      <th>13774</th>\n",
              "      <td>929428</td>\n",
              "      <td>2019-11-11</td>\n",
              "      <td>5022</td>\n",
              "    </tr>\n",
              "    <tr>\n",
              "      <th>853</th>\n",
              "      <td>885876</td>\n",
              "      <td>2019-10-01</td>\n",
              "      <td>2767</td>\n",
              "    </tr>\n",
              "    <tr>\n",
              "      <th>13767</th>\n",
              "      <td>929428</td>\n",
              "      <td>2019-10-31</td>\n",
              "      <td>2730</td>\n",
              "    </tr>\n",
              "    <tr>\n",
              "      <th>846</th>\n",
              "      <td>885876</td>\n",
              "      <td>2019-09-24</td>\n",
              "      <td>2325</td>\n",
              "    </tr>\n",
              "    <tr>\n",
              "      <th>839</th>\n",
              "      <td>885876</td>\n",
              "      <td>2019-09-17</td>\n",
              "      <td>2206</td>\n",
              "    </tr>\n",
              "    <tr>\n",
              "      <th>845</th>\n",
              "      <td>885876</td>\n",
              "      <td>2019-09-23</td>\n",
              "      <td>2186</td>\n",
              "    </tr>\n",
              "    <tr>\n",
              "      <th>970</th>\n",
              "      <td>885890</td>\n",
              "      <td>2019-10-21</td>\n",
              "      <td>2148</td>\n",
              "    </tr>\n",
              "    <tr>\n",
              "      <th>847</th>\n",
              "      <td>885876</td>\n",
              "      <td>2019-09-25</td>\n",
              "      <td>2039</td>\n",
              "    </tr>\n",
              "    <tr>\n",
              "      <th>13271</th>\n",
              "      <td>925922</td>\n",
              "      <td>2019-10-22</td>\n",
              "      <td>2018</td>\n",
              "    </tr>\n",
              "    <tr>\n",
              "      <th>825</th>\n",
              "      <td>885876</td>\n",
              "      <td>2019-09-03</td>\n",
              "      <td>1897</td>\n",
              "    </tr>\n",
              "  </tbody>\n",
              "</table>\n",
              "</div>"
            ],
            "text/plain": [
              "       operator_id        date  calls_count\n",
              "13774       929428  2019-11-11         5022\n",
              "853         885876  2019-10-01         2767\n",
              "13767       929428  2019-10-31         2730\n",
              "846         885876  2019-09-24         2325\n",
              "839         885876  2019-09-17         2206\n",
              "845         885876  2019-09-23         2186\n",
              "970         885890  2019-10-21         2148\n",
              "847         885876  2019-09-25         2039\n",
              "13271       925922  2019-10-22         2018\n",
              "825         885876  2019-09-03         1897"
            ]
          },
          "metadata": {},
          "output_type": "display_data"
        },
        {
          "data": {
            "text/html": [
              "<div>\n",
              "<style scoped>\n",
              "    .dataframe tbody tr th:only-of-type {\n",
              "        vertical-align: middle;\n",
              "    }\n",
              "\n",
              "    .dataframe tbody tr th {\n",
              "        vertical-align: top;\n",
              "    }\n",
              "\n",
              "    .dataframe thead th {\n",
              "        text-align: right;\n",
              "    }\n",
              "</style>\n",
              "<table border=\"1\" class=\"dataframe\">\n",
              "  <thead>\n",
              "    <tr style=\"text-align: right;\">\n",
              "      <th></th>\n",
              "      <th>calls_count</th>\n",
              "    </tr>\n",
              "    <tr>\n",
              "      <th>operator_id</th>\n",
              "      <th></th>\n",
              "    </tr>\n",
              "  </thead>\n",
              "  <tbody>\n",
              "    <tr>\n",
              "      <th>879896</th>\n",
              "      <td>18.600000</td>\n",
              "    </tr>\n",
              "    <tr>\n",
              "      <th>879898</th>\n",
              "      <td>87.059524</td>\n",
              "    </tr>\n",
              "    <tr>\n",
              "      <th>880020</th>\n",
              "      <td>3.214286</td>\n",
              "    </tr>\n",
              "    <tr>\n",
              "      <th>880022</th>\n",
              "      <td>4.690476</td>\n",
              "    </tr>\n",
              "    <tr>\n",
              "      <th>880026</th>\n",
              "      <td>28.987013</td>\n",
              "    </tr>\n",
              "  </tbody>\n",
              "</table>\n",
              "</div>"
            ],
            "text/plain": [
              "             calls_count\n",
              "operator_id             \n",
              "879896         18.600000\n",
              "879898         87.059524\n",
              "880020          3.214286\n",
              "880022          4.690476\n",
              "880026         28.987013"
            ]
          },
          "metadata": {},
          "output_type": "display_data"
        },
        {
          "data": {
            "text/plain": [
              "calls_count    1.0\n",
              "dtype: float64"
            ]
          },
          "metadata": {},
          "output_type": "display_data"
        },
        {
          "data": {
            "text/plain": [
              "calls_count    834.208333\n",
              "dtype: float64"
            ]
          },
          "metadata": {},
          "output_type": "display_data"
        },
        {
          "data": {
            "image/png": "[encoded data removed]",
            "text/plain": [
              "<Figure size 432x288 with 1 Axes>"
            ]
          },
          "metadata": {
            "needs_background": "light"
          },
          "output_type": "display_data"
        }
      ],
      "source": [
        "# Посмотрим, сколько звонков приходится на одного оператора\n",
        "calls_oper = data_final.groupby(['operator_id', 'date']).agg({'calls_count': 'sum'}).reset_index().sort_values(by = 'calls_count', ascending = False)\n",
        "display(calls_oper.head(10))\n",
        "calls_oper['calls_count'].hist(bins = 100, range = (0, 500))\n",
        "plt.title('Распределение количества звонков')\n",
        "plt.xlabel('количество звонков')\n",
        "plt.ylabel('число записей')\n",
        "display(calls_oper.groupby('operator_id').agg({'calls_count': 'mean'}).head())\n",
        "display(calls_oper.groupby('operator_id').agg({'calls_count': 'mean'}).min())\n",
        "display(calls_oper.groupby('operator_id').agg({'calls_count': 'mean'}).max())"
      ]
    },
    {
      "cell_type": "markdown",
      "metadata": {},
      "source": [
        "Вывод: в среднем, от 1 до 834 звонков приходится на одного оператора в день."
      ]
    },
    {
      "cell_type": "code",
      "execution_count": 16,
      "metadata": {},
      "outputs": [
        {
          "data": {
            "text/html": [
              "<div>\n",
              "<style scoped>\n",
              "    .dataframe tbody tr th:only-of-type {\n",
              "        vertical-align: middle;\n",
              "    }\n",
              "\n",
              "    .dataframe tbody tr th {\n",
              "        vertical-align: top;\n",
              "    }\n",
              "\n",
              "    .dataframe thead th {\n",
              "        text-align: right;\n",
              "    }\n",
              "</style>\n",
              "<table border=\"1\" class=\"dataframe\">\n",
              "  <thead>\n",
              "    <tr style=\"text-align: right;\">\n",
              "      <th></th>\n",
              "      <th>operator_id</th>\n",
              "      <th>date</th>\n",
              "      <th>total_call_duration</th>\n",
              "    </tr>\n",
              "  </thead>\n",
              "  <tbody>\n",
              "    <tr>\n",
              "      <th>847</th>\n",
              "      <td>885876</td>\n",
              "      <td>2019-09-25</td>\n",
              "      <td>189989</td>\n",
              "    </tr>\n",
              "    <tr>\n",
              "      <th>848</th>\n",
              "      <td>885876</td>\n",
              "      <td>2019-09-26</td>\n",
              "      <td>172165</td>\n",
              "    </tr>\n",
              "    <tr>\n",
              "      <th>831</th>\n",
              "      <td>885876</td>\n",
              "      <td>2019-09-09</td>\n",
              "      <td>160826</td>\n",
              "    </tr>\n",
              "    <tr>\n",
              "      <th>840</th>\n",
              "      <td>885876</td>\n",
              "      <td>2019-09-18</td>\n",
              "      <td>159178</td>\n",
              "    </tr>\n",
              "    <tr>\n",
              "      <th>854</th>\n",
              "      <td>885876</td>\n",
              "      <td>2019-10-02</td>\n",
              "      <td>155402</td>\n",
              "    </tr>\n",
              "    <tr>\n",
              "      <th>834</th>\n",
              "      <td>885876</td>\n",
              "      <td>2019-09-12</td>\n",
              "      <td>153793</td>\n",
              "    </tr>\n",
              "    <tr>\n",
              "      <th>845</th>\n",
              "      <td>885876</td>\n",
              "      <td>2019-09-23</td>\n",
              "      <td>153313</td>\n",
              "    </tr>\n",
              "    <tr>\n",
              "      <th>839</th>\n",
              "      <td>885876</td>\n",
              "      <td>2019-09-17</td>\n",
              "      <td>150486</td>\n",
              "    </tr>\n",
              "    <tr>\n",
              "      <th>853</th>\n",
              "      <td>885876</td>\n",
              "      <td>2019-10-01</td>\n",
              "      <td>150203</td>\n",
              "    </tr>\n",
              "    <tr>\n",
              "      <th>849</th>\n",
              "      <td>885876</td>\n",
              "      <td>2019-09-27</td>\n",
              "      <td>149680</td>\n",
              "    </tr>\n",
              "  </tbody>\n",
              "</table>\n",
              "</div>"
            ],
            "text/plain": [
              "     operator_id        date  total_call_duration\n",
              "847       885876  2019-09-25               189989\n",
              "848       885876  2019-09-26               172165\n",
              "831       885876  2019-09-09               160826\n",
              "840       885876  2019-09-18               159178\n",
              "854       885876  2019-10-02               155402\n",
              "834       885876  2019-09-12               153793\n",
              "845       885876  2019-09-23               153313\n",
              "839       885876  2019-09-17               150486\n",
              "853       885876  2019-10-01               150203\n",
              "849       885876  2019-09-27               149680"
            ]
          },
          "metadata": {},
          "output_type": "display_data"
        },
        {
          "data": {
            "text/html": [
              "<div>\n",
              "<style scoped>\n",
              "    .dataframe tbody tr th:only-of-type {\n",
              "        vertical-align: middle;\n",
              "    }\n",
              "\n",
              "    .dataframe tbody tr th {\n",
              "        vertical-align: top;\n",
              "    }\n",
              "\n",
              "    .dataframe thead th {\n",
              "        text-align: right;\n",
              "    }\n",
              "</style>\n",
              "<table border=\"1\" class=\"dataframe\">\n",
              "  <thead>\n",
              "    <tr style=\"text-align: right;\">\n",
              "      <th></th>\n",
              "      <th>total_call_duration</th>\n",
              "    </tr>\n",
              "    <tr>\n",
              "      <th>operator_id</th>\n",
              "      <th></th>\n",
              "    </tr>\n",
              "  </thead>\n",
              "  <tbody>\n",
              "    <tr>\n",
              "      <th>879896</th>\n",
              "      <td>1522.740000</td>\n",
              "    </tr>\n",
              "    <tr>\n",
              "      <th>879898</th>\n",
              "      <td>4301.047619</td>\n",
              "    </tr>\n",
              "    <tr>\n",
              "      <th>880020</th>\n",
              "      <td>180.357143</td>\n",
              "    </tr>\n",
              "    <tr>\n",
              "      <th>880022</th>\n",
              "      <td>450.595238</td>\n",
              "    </tr>\n",
              "    <tr>\n",
              "      <th>880026</th>\n",
              "      <td>2279.558442</td>\n",
              "    </tr>\n",
              "    <tr>\n",
              "      <th>880028</th>\n",
              "      <td>2426.410256</td>\n",
              "    </tr>\n",
              "    <tr>\n",
              "      <th>880240</th>\n",
              "      <td>630.857143</td>\n",
              "    </tr>\n",
              "    <tr>\n",
              "      <th>881278</th>\n",
              "      <td>108.600000</td>\n",
              "    </tr>\n",
              "    <tr>\n",
              "      <th>882476</th>\n",
              "      <td>95.666667</td>\n",
              "    </tr>\n",
              "    <tr>\n",
              "      <th>882478</th>\n",
              "      <td>151.000000</td>\n",
              "    </tr>\n",
              "  </tbody>\n",
              "</table>\n",
              "</div>"
            ],
            "text/plain": [
              "             total_call_duration\n",
              "operator_id                     \n",
              "879896               1522.740000\n",
              "879898               4301.047619\n",
              "880020                180.357143\n",
              "880022                450.595238\n",
              "880026               2279.558442\n",
              "880028               2426.410256\n",
              "880240                630.857143\n",
              "881278                108.600000\n",
              "882476                 95.666667\n",
              "882478                151.000000"
            ]
          },
          "metadata": {},
          "output_type": "display_data"
        },
        {
          "data": {
            "text/plain": [
              "total_call_duration    0.0\n",
              "dtype: float64"
            ]
          },
          "metadata": {},
          "output_type": "display_data"
        },
        {
          "data": {
            "text/plain": [
              "total_call_duration    59797.4\n",
              "dtype: float64"
            ]
          },
          "metadata": {},
          "output_type": "display_data"
        }
      ],
      "source": [
        "# Посмотрим, сколько секунд приходится в среднем на оператора в день\n",
        "calls = data_final.groupby(['operator_id', 'date']).agg({'total_call_duration': 'sum'}).reset_index().sort_values(by = 'total_call_duration', ascending = False)\n",
        "display(calls.head(10))\n",
        "display(calls.groupby('operator_id').agg({'total_call_duration': 'mean'}).head(10))\n",
        "display(calls.groupby('operator_id').agg({'total_call_duration': 'mean'}).min())\n",
        "display(calls.groupby('operator_id').agg({'total_call_duration': 'mean'}).max())"
      ]
    },
    {
      "cell_type": "markdown",
      "metadata": {},
      "source": [
        "Вывод: в среднем, от 0 до 59797 секунд приходится на одного оператора в день. Дальше проверим эту информацию на наличие выбросов."
      ]
    },
    {
      "cell_type": "markdown",
      "metadata": {},
      "source": [
        "**Вывод:** На графиках распределения продолжительности звонков и количества звонков представлено распределение Пуассона. Пик у нуля и единицы соответственно, вероятно, связан с тем, что было много единичных пропущенных звонков."
      ]
    },
    {
      "cell_type": "markdown",
      "metadata": {},
      "source": [
        "**Определим активных клиентов исходя из полученных данных:**\n",
        "1. те, кто совершал звонки в ноябре\n",
        "2. те, у кого более одного звонка\n",
        "3. те, у кого продолжительность разговора больше 0"
      ]
    },
    {
      "cell_type": "code",
      "execution_count": 17,
      "metadata": {
        "scrolled": false
      },
      "outputs": [
        {
          "data": {
            "text/html": [
              "<div>\n",
              "<style scoped>\n",
              "    .dataframe tbody tr th:only-of-type {\n",
              "        vertical-align: middle;\n",
              "    }\n",
              "\n",
              "    .dataframe tbody tr th {\n",
              "        vertical-align: top;\n",
              "    }\n",
              "\n",
              "    .dataframe thead th {\n",
              "        text-align: right;\n",
              "    }\n",
              "</style>\n",
              "<table border=\"1\" class=\"dataframe\">\n",
              "  <thead>\n",
              "    <tr style=\"text-align: right;\">\n",
              "      <th></th>\n",
              "      <th>user_id</th>\n",
              "      <th>month</th>\n",
              "      <th>internal</th>\n",
              "      <th>tariff_plan</th>\n",
              "      <th>direction</th>\n",
              "      <th>total_call_duration</th>\n",
              "      <th>calls_count</th>\n",
              "      <th>operator_id</th>\n",
              "    </tr>\n",
              "  </thead>\n",
              "  <tbody>\n",
              "    <tr>\n",
              "      <th>0</th>\n",
              "      <td>166377</td>\n",
              "      <td>8</td>\n",
              "      <td>False</td>\n",
              "      <td>B</td>\n",
              "      <td>in</td>\n",
              "      <td>1441</td>\n",
              "      <td>15</td>\n",
              "      <td>3</td>\n",
              "    </tr>\n",
              "    <tr>\n",
              "      <th>1</th>\n",
              "      <td>166377</td>\n",
              "      <td>8</td>\n",
              "      <td>False</td>\n",
              "      <td>B</td>\n",
              "      <td>out</td>\n",
              "      <td>78029</td>\n",
              "      <td>912</td>\n",
              "      <td>5</td>\n",
              "    </tr>\n",
              "    <tr>\n",
              "      <th>2</th>\n",
              "      <td>166377</td>\n",
              "      <td>8</td>\n",
              "      <td>True</td>\n",
              "      <td>B</td>\n",
              "      <td>out</td>\n",
              "      <td>96</td>\n",
              "      <td>19</td>\n",
              "      <td>5</td>\n",
              "    </tr>\n",
              "    <tr>\n",
              "      <th>3</th>\n",
              "      <td>166377</td>\n",
              "      <td>9</td>\n",
              "      <td>False</td>\n",
              "      <td>B</td>\n",
              "      <td>in</td>\n",
              "      <td>1590</td>\n",
              "      <td>23</td>\n",
              "      <td>3</td>\n",
              "    </tr>\n",
              "    <tr>\n",
              "      <th>4</th>\n",
              "      <td>166377</td>\n",
              "      <td>9</td>\n",
              "      <td>False</td>\n",
              "      <td>B</td>\n",
              "      <td>out</td>\n",
              "      <td>105835</td>\n",
              "      <td>1393</td>\n",
              "      <td>4</td>\n",
              "    </tr>\n",
              "  </tbody>\n",
              "</table>\n",
              "</div>"
            ],
            "text/plain": [
              "   user_id  month  internal tariff_plan direction  total_call_duration  \\\n",
              "0   166377      8     False           B        in                 1441   \n",
              "1   166377      8     False           B       out                78029   \n",
              "2   166377      8      True           B       out                   96   \n",
              "3   166377      9     False           B        in                 1590   \n",
              "4   166377      9     False           B       out               105835   \n",
              "\n",
              "   calls_count  operator_id  \n",
              "0           15            3  \n",
              "1          912            5  \n",
              "2           19            5  \n",
              "3           23            3  \n",
              "4         1393            4  "
            ]
          },
          "metadata": {},
          "output_type": "display_data"
        },
        {
          "name": "stdout",
          "output_type": "stream",
          "text": [
            "<class 'pandas.core.frame.DataFrame'>\n",
            "RangeIndex: 1527 entries, 0 to 1526\n",
            "Data columns (total 8 columns):\n",
            " #   Column               Non-Null Count  Dtype \n",
            "---  ------               --------------  ----- \n",
            " 0   user_id              1527 non-null   int64 \n",
            " 1   month                1527 non-null   int64 \n",
            " 2   internal             1527 non-null   bool  \n",
            " 3   tariff_plan          1527 non-null   object\n",
            " 4   direction            1527 non-null   object\n",
            " 5   total_call_duration  1527 non-null   int64 \n",
            " 6   calls_count          1527 non-null   int64 \n",
            " 7   operator_id          1527 non-null   int64 \n",
            "dtypes: bool(1), int64(5), object(2)\n",
            "memory usage: 85.1+ KB\n"
          ]
        },
        {
          "data": {
            "text/plain": [
              "None"
            ]
          },
          "metadata": {},
          "output_type": "display_data"
        }
      ],
      "source": [
        "# Сгруппируем данные по клиентам\n",
        "data_final_client = data_final.groupby(['user_id', 'month', 'internal', 'tariff_plan', 'direction']).agg({'total_call_duration': 'sum', 'calls_count': 'sum', 'operator_id': 'nunique'}).reset_index()\n",
        "display(data_final_client.head())\n",
        "display(data_final_client.info())"
      ]
    },
    {
      "cell_type": "code",
      "execution_count": 18,
      "metadata": {},
      "outputs": [
        {
          "data": {
            "text/html": [
              "<div>\n",
              "<style scoped>\n",
              "    .dataframe tbody tr th:only-of-type {\n",
              "        vertical-align: middle;\n",
              "    }\n",
              "\n",
              "    .dataframe tbody tr th {\n",
              "        vertical-align: top;\n",
              "    }\n",
              "\n",
              "    .dataframe thead th {\n",
              "        text-align: right;\n",
              "    }\n",
              "</style>\n",
              "<table border=\"1\" class=\"dataframe\">\n",
              "  <thead>\n",
              "    <tr style=\"text-align: right;\">\n",
              "      <th></th>\n",
              "      <th>user_id</th>\n",
              "      <th>month</th>\n",
              "      <th>internal</th>\n",
              "      <th>tariff_plan</th>\n",
              "      <th>direction</th>\n",
              "      <th>total_call_duration</th>\n",
              "      <th>calls_count</th>\n",
              "      <th>operator_id</th>\n",
              "    </tr>\n",
              "  </thead>\n",
              "  <tbody>\n",
              "    <tr>\n",
              "      <th>9</th>\n",
              "      <td>166377</td>\n",
              "      <td>11</td>\n",
              "      <td>False</td>\n",
              "      <td>B</td>\n",
              "      <td>in</td>\n",
              "      <td>2774</td>\n",
              "      <td>35</td>\n",
              "      <td>3</td>\n",
              "    </tr>\n",
              "    <tr>\n",
              "      <th>10</th>\n",
              "      <td>166377</td>\n",
              "      <td>11</td>\n",
              "      <td>False</td>\n",
              "      <td>B</td>\n",
              "      <td>out</td>\n",
              "      <td>95383</td>\n",
              "      <td>1245</td>\n",
              "      <td>4</td>\n",
              "    </tr>\n",
              "    <tr>\n",
              "      <th>11</th>\n",
              "      <td>166377</td>\n",
              "      <td>11</td>\n",
              "      <td>True</td>\n",
              "      <td>B</td>\n",
              "      <td>out</td>\n",
              "      <td>127</td>\n",
              "      <td>16</td>\n",
              "      <td>4</td>\n",
              "    </tr>\n",
              "    <tr>\n",
              "      <th>20</th>\n",
              "      <td>166392</td>\n",
              "      <td>11</td>\n",
              "      <td>False</td>\n",
              "      <td>C</td>\n",
              "      <td>in</td>\n",
              "      <td>9430</td>\n",
              "      <td>43</td>\n",
              "      <td>2</td>\n",
              "    </tr>\n",
              "    <tr>\n",
              "      <th>32</th>\n",
              "      <td>166405</td>\n",
              "      <td>11</td>\n",
              "      <td>False</td>\n",
              "      <td>B</td>\n",
              "      <td>in</td>\n",
              "      <td>87800</td>\n",
              "      <td>585</td>\n",
              "      <td>8</td>\n",
              "    </tr>\n",
              "  </tbody>\n",
              "</table>\n",
              "</div>"
            ],
            "text/plain": [
              "    user_id  month  internal tariff_plan direction  total_call_duration  \\\n",
              "9    166377     11     False           B        in                 2774   \n",
              "10   166377     11     False           B       out                95383   \n",
              "11   166377     11      True           B       out                  127   \n",
              "20   166392     11     False           C        in                 9430   \n",
              "32   166405     11     False           B        in                87800   \n",
              "\n",
              "    calls_count  operator_id  \n",
              "9            35            3  \n",
              "10         1245            4  \n",
              "11           16            4  \n",
              "20           43            2  \n",
              "32          585            8  "
            ]
          },
          "metadata": {},
          "output_type": "display_data"
        },
        {
          "name": "stdout",
          "output_type": "stream",
          "text": [
            "<class 'pandas.core.frame.DataFrame'>\n",
            "Int64Index: 461 entries, 9 to 1526\n",
            "Data columns (total 8 columns):\n",
            " #   Column               Non-Null Count  Dtype \n",
            "---  ------               --------------  ----- \n",
            " 0   user_id              461 non-null    int64 \n",
            " 1   month                461 non-null    int64 \n",
            " 2   internal             461 non-null    bool  \n",
            " 3   tariff_plan          461 non-null    object\n",
            " 4   direction            461 non-null    object\n",
            " 5   total_call_duration  461 non-null    int64 \n",
            " 6   calls_count          461 non-null    int64 \n",
            " 7   operator_id          461 non-null    int64 \n",
            "dtypes: bool(1), int64(5), object(2)\n",
            "memory usage: 29.3+ KB\n"
          ]
        },
        {
          "data": {
            "text/plain": [
              "None"
            ]
          },
          "metadata": {},
          "output_type": "display_data"
        }
      ],
      "source": [
        "# Отфильтруем активных клиентов, по которым будем проводить дальнейшее исследование\n",
        "data_final_client = data_final_client[(data_final_client['month'] == 11) & (data_final_client['calls_count'] > 1) & (data_final_client['total_call_duration'] > 0)]\n",
        "display(data_final_client.head())\n",
        "display(data_final_client.info())"
      ]
    },
    {
      "cell_type": "code",
      "execution_count": 19,
      "metadata": {},
      "outputs": [
        {
          "data": {
            "text/html": [
              "<div>\n",
              "<style scoped>\n",
              "    .dataframe tbody tr th:only-of-type {\n",
              "        vertical-align: middle;\n",
              "    }\n",
              "\n",
              "    .dataframe tbody tr th {\n",
              "        vertical-align: top;\n",
              "    }\n",
              "\n",
              "    .dataframe thead th {\n",
              "        text-align: right;\n",
              "    }\n",
              "</style>\n",
              "<table border=\"1\" class=\"dataframe\">\n",
              "  <thead>\n",
              "    <tr style=\"text-align: right;\">\n",
              "      <th></th>\n",
              "      <th>user_id</th>\n",
              "      <th>month</th>\n",
              "      <th>internal</th>\n",
              "      <th>tariff_plan</th>\n",
              "      <th>direction</th>\n",
              "      <th>total_call_duration</th>\n",
              "      <th>calls_count</th>\n",
              "      <th>operator_id</th>\n",
              "    </tr>\n",
              "  </thead>\n",
              "  <tbody>\n",
              "    <tr>\n",
              "      <th>9</th>\n",
              "      <td>166377</td>\n",
              "      <td>11</td>\n",
              "      <td>False</td>\n",
              "      <td>B</td>\n",
              "      <td>in</td>\n",
              "      <td>46.233333</td>\n",
              "      <td>35</td>\n",
              "      <td>3</td>\n",
              "    </tr>\n",
              "    <tr>\n",
              "      <th>10</th>\n",
              "      <td>166377</td>\n",
              "      <td>11</td>\n",
              "      <td>False</td>\n",
              "      <td>B</td>\n",
              "      <td>out</td>\n",
              "      <td>1589.716667</td>\n",
              "      <td>1245</td>\n",
              "      <td>4</td>\n",
              "    </tr>\n",
              "    <tr>\n",
              "      <th>11</th>\n",
              "      <td>166377</td>\n",
              "      <td>11</td>\n",
              "      <td>True</td>\n",
              "      <td>B</td>\n",
              "      <td>out</td>\n",
              "      <td>2.116667</td>\n",
              "      <td>16</td>\n",
              "      <td>4</td>\n",
              "    </tr>\n",
              "    <tr>\n",
              "      <th>20</th>\n",
              "      <td>166392</td>\n",
              "      <td>11</td>\n",
              "      <td>False</td>\n",
              "      <td>C</td>\n",
              "      <td>in</td>\n",
              "      <td>157.166667</td>\n",
              "      <td>43</td>\n",
              "      <td>2</td>\n",
              "    </tr>\n",
              "    <tr>\n",
              "      <th>32</th>\n",
              "      <td>166405</td>\n",
              "      <td>11</td>\n",
              "      <td>False</td>\n",
              "      <td>B</td>\n",
              "      <td>in</td>\n",
              "      <td>1463.333333</td>\n",
              "      <td>585</td>\n",
              "      <td>8</td>\n",
              "    </tr>\n",
              "  </tbody>\n",
              "</table>\n",
              "</div>"
            ],
            "text/plain": [
              "    user_id  month  internal tariff_plan direction  total_call_duration  \\\n",
              "9    166377     11     False           B        in            46.233333   \n",
              "10   166377     11     False           B       out          1589.716667   \n",
              "11   166377     11      True           B       out             2.116667   \n",
              "20   166392     11     False           C        in           157.166667   \n",
              "32   166405     11     False           B        in          1463.333333   \n",
              "\n",
              "    calls_count  operator_id  \n",
              "9            35            3  \n",
              "10         1245            4  \n",
              "11           16            4  \n",
              "20           43            2  \n",
              "32          585            8  "
            ]
          },
          "metadata": {},
          "output_type": "display_data"
        }
      ],
      "source": [
        "# Переведем секунды total_call_duration в минуты для удобства дальнейших расчетов\n",
        "data_final_client['total_call_duration'] = data_final_client['total_call_duration']/60\n",
        "display(data_final_client.head())"
      ]
    },
    {
      "cell_type": "code",
      "execution_count": 20,
      "metadata": {
        "scrolled": false
      },
      "outputs": [
        {
          "name": "stdout",
          "output_type": "stream",
          "text": [
            "<class 'pandas.core.frame.DataFrame'>\n",
            "Int64Index: 0 entries\n",
            "Data columns (total 8 columns):\n",
            " #   Column               Non-Null Count  Dtype  \n",
            "---  ------               --------------  -----  \n",
            " 0   user_id              0 non-null      int64  \n",
            " 1   month                0 non-null      int64  \n",
            " 2   internal             0 non-null      bool   \n",
            " 3   tariff_plan          0 non-null      object \n",
            " 4   direction            0 non-null      object \n",
            " 5   total_call_duration  0 non-null      float64\n",
            " 6   calls_count          0 non-null      int64  \n",
            " 7   operator_id          0 non-null      int64  \n",
            "dtypes: bool(1), float64(1), int64(4), object(2)\n",
            "memory usage: 0.0+ bytes\n"
          ]
        },
        {
          "data": {
            "text/plain": [
              "None"
            ]
          },
          "metadata": {},
          "output_type": "display_data"
        }
      ],
      "source": [
        "# Выявим клиентов, у которых внутренние звонки более 2000мин\n",
        "display((data_final_client[(data_final_client['internal'] == True) & data_final_client['total_call_duration']>2000]).info())"
      ]
    },
    {
      "cell_type": "markdown",
      "metadata": {},
      "source": [
        "Вывод: В нашей выборке активных клиентов не выявлена продолжительность исходящих звонков внутри сети более 2000 мин."
      ]
    },
    {
      "cell_type": "code",
      "execution_count": 21,
      "metadata": {
        "scrolled": false
      },
      "outputs": [
        {
          "data": {
            "text/html": [
              "<div>\n",
              "<style scoped>\n",
              "    .dataframe tbody tr th:only-of-type {\n",
              "        vertical-align: middle;\n",
              "    }\n",
              "\n",
              "    .dataframe tbody tr th {\n",
              "        vertical-align: top;\n",
              "    }\n",
              "\n",
              "    .dataframe thead th {\n",
              "        text-align: right;\n",
              "    }\n",
              "</style>\n",
              "<table border=\"1\" class=\"dataframe\">\n",
              "  <thead>\n",
              "    <tr style=\"text-align: right;\">\n",
              "      <th></th>\n",
              "      <th>user_id</th>\n",
              "      <th>operator_id</th>\n",
              "    </tr>\n",
              "  </thead>\n",
              "  <tbody>\n",
              "    <tr>\n",
              "      <th>0</th>\n",
              "      <td>166377</td>\n",
              "      <td>5</td>\n",
              "    </tr>\n",
              "    <tr>\n",
              "      <th>1</th>\n",
              "      <td>166391</td>\n",
              "      <td>2</td>\n",
              "    </tr>\n",
              "    <tr>\n",
              "      <th>2</th>\n",
              "      <td>166392</td>\n",
              "      <td>3</td>\n",
              "    </tr>\n",
              "    <tr>\n",
              "      <th>3</th>\n",
              "      <td>166399</td>\n",
              "      <td>1</td>\n",
              "    </tr>\n",
              "    <tr>\n",
              "      <th>4</th>\n",
              "      <td>166405</td>\n",
              "      <td>10</td>\n",
              "    </tr>\n",
              "  </tbody>\n",
              "</table>\n",
              "</div>"
            ],
            "text/plain": [
              "   user_id  operator_id\n",
              "0   166377            5\n",
              "1   166391            2\n",
              "2   166392            3\n",
              "3   166399            1\n",
              "4   166405           10"
            ]
          },
          "metadata": {},
          "output_type": "display_data"
        }
      ],
      "source": [
        "# Сгруппируем данные по паре клиент-оператор\n",
        "data_operators = data_final.groupby('user_id').agg({'operator_id': 'nunique'}).reset_index()\n",
        "display(data_operators.head())"
      ]
    },
    {
      "cell_type": "code",
      "execution_count": 22,
      "metadata": {},
      "outputs": [
        {
          "data": {
            "text/plain": [
              "5"
            ]
          },
          "execution_count": 22,
          "metadata": {},
          "output_type": "execute_result"
        }
      ],
      "source": [
        "# ячейка тимлида\n",
        "data_final.query('user_id == 166377').operator_id.nunique()"
      ]
    },
    {
      "cell_type": "markdown",
      "metadata": {},
      "source": [
        "**Вывод:**\n",
        "1. Данные для исследования предоставлены за период с 02.08.2019г по 28.11.2019г.\n",
        "2. Всего 7456 пропущенных значений в колонке 'operator_id'. В основном (в 95% случаев), эти пропущенные значения среди пропущенных вызовов,среди входящих вызовов, среди внешних вызовов. Можно предположить, что это пропущенные входящие звонки, на которые не был назначен оператор ввиду отсутствия свободных операторов. Поэтому заменять эти пропуски на что-либо будет некорректно, исключим их из исследования. 305 клиентов(41%) имеют пропуски в столбце 'operator_id', поэтому удалять целого клиента некорректно.\n",
        "3. Определили активных клиентов (те, кто совершал звонки в ноябре, у кого более одного звонка и у кого продолжительность разговора больше 0), отфильтровали по ним данные.\n",
        "4. Выявили, что в нашей выборке активных клиентов не выявлена продолжительность исходящих звонков внутри сети более 2000 мин (таким образом, тарификация исходящих звонков внутри сети в дальнейших расчетах не будет учитываться)."
      ]
    },
    {
      "cell_type": "markdown",
      "metadata": {},
      "source": [
        "## Исследовательский анализ данных"
      ]
    },
    {
      "cell_type": "code",
      "execution_count": 23,
      "metadata": {},
      "outputs": [
        {
          "data": {
            "text/plain": [
              "Text(0.5, 1.0, 'Распределение тарифных планов во времени по количеству клиентов')"
            ]
          },
          "execution_count": 23,
          "metadata": {},
          "output_type": "execute_result"
        },
        {
          "data": {
            "image/png": "[encoded data removed]",
            "text/plain": [
              "<Figure size 1080x360 with 1 Axes>"
            ]
          },
          "metadata": {
            "needs_background": "light"
          },
          "output_type": "display_data"
        }
      ],
      "source": [
        "#Построим распределение по количеству клиентов тарифных планов по месяцам\n",
        "data_final.pivot_table(index = 'month', columns = 'tariff_plan', values = 'user_id', aggfunc = 'nunique' ).plot(figsize=(15,5))\n",
        "plt.xlabel('Месяц')\n",
        "plt.ylabel('Количество клиентов')\n",
        "plt.title('Распределение тарифных планов во времени по количеству клиентов')"
      ]
    },
    {
      "cell_type": "code",
      "execution_count": 24,
      "metadata": {},
      "outputs": [
        {
          "data": {
            "text/plain": [
              "Text(0.5, 1.0, 'Распределение тарифных планов во времени по количеству опреаторов')"
            ]
          },
          "execution_count": 24,
          "metadata": {},
          "output_type": "execute_result"
        },
        {
          "data": {
            "image/png": "[encoded data removed]",
            "text/plain": [
              "<Figure size 1080x360 with 1 Axes>"
            ]
          },
          "metadata": {
            "needs_background": "light"
          },
          "output_type": "display_data"
        }
      ],
      "source": [
        "#Построим распределение по количеству операторов в тарифных планов по месяцам\n",
        "data_final.pivot_table(index = 'month', columns = 'tariff_plan', values = 'operator_id', aggfunc = 'nunique' ).plot(figsize=(15,5))\n",
        "plt.xlabel('Месяц')\n",
        "plt.ylabel('Количество операторов')\n",
        "plt.title('Распределение тарифных планов во времени по количеству опреаторов')"
      ]
    },
    {
      "cell_type": "code",
      "execution_count": 25,
      "metadata": {
        "scrolled": true
      },
      "outputs": [
        {
          "data": {
            "text/plain": [
              "Text(0.5, 1.0, 'Распределение тарифных планов во времени по количеству звонков')"
            ]
          },
          "execution_count": 25,
          "metadata": {},
          "output_type": "execute_result"
        },
        {
          "data": {
            "image/png": "[encoded data removed]",
            "text/plain": [
              "<Figure size 1080x360 with 1 Axes>"
            ]
          },
          "metadata": {
            "needs_background": "light"
          },
          "output_type": "display_data"
        }
      ],
      "source": [
        "#Построим распределение звонков в тарифных планов по месяцам\n",
        "data_final.pivot_table(index = 'month', columns = 'tariff_plan', values = 'calls_count', aggfunc = 'sum' ).plot(figsize=(15,5))\n",
        "plt.xlabel('Месяц')\n",
        "plt.ylabel('Количество звонков')\n",
        "plt.title('Распределение тарифных планов во времени по количеству звонков')"
      ]
    },
    {
      "cell_type": "markdown",
      "metadata": {},
      "source": [
        "Вывод: \n",
        "1. при изучении распределения количества клиентов тарифных планов по месяцам мы видим, что больше всего клиентов тарифного плана С, меньше всего - тарифного плана А, рост клиентов на всех тарифах замедляется.\n",
        "2. при изучении распределения количества операторов мы видим рост на тарифных планах В и С, тогда как на тарифном плане А идет снижение.\n",
        "3. при изучении распределения количества звонков мы видим, что на тарифном плане А к ноябрю их становится меньше (больше всего было в октябре), на тарифных планах В и С количество звонков медленно увеличивается."
      ]
    },
    {
      "cell_type": "code",
      "execution_count": 26,
      "metadata": {
        "scrolled": false
      },
      "outputs": [
        {
          "data": {
            "text/plain": [
              "user_id                167557.573529\n",
              "month                      11.000000\n",
              "internal                    0.279412\n",
              "total_call_duration      2309.360539\n",
              "calls_count              1825.514706\n",
              "operator_id                 7.411765\n",
              "dtype: float64"
            ]
          },
          "metadata": {},
          "output_type": "display_data"
        },
        {
          "data": {
            "text/plain": [
              "user_id                167396.833333\n",
              "month                      11.000000\n",
              "internal                    0.166667\n",
              "total_call_duration       512.814980\n",
              "calls_count               352.130952\n",
              "operator_id                 2.970238\n",
              "dtype: float64"
            ]
          },
          "metadata": {},
          "output_type": "display_data"
        },
        {
          "data": {
            "text/plain": [
              "user_id                167510.560000\n",
              "month                      11.000000\n",
              "internal                    0.173333\n",
              "total_call_duration       384.298148\n",
              "calls_count               351.364444\n",
              "operator_id                 2.120000\n",
              "dtype: float64"
            ]
          },
          "metadata": {},
          "output_type": "display_data"
        }
      ],
      "source": [
        "# Посмотрим на средние показатели активных пользователей тарифов\n",
        "display((data_final_client[data_final_client['tariff_plan'] == 'A']).mean())\n",
        "display((data_final_client[data_final_client['tariff_plan'] == 'B']).mean())\n",
        "display((data_final_client[data_final_client['tariff_plan'] == 'C']).mean())"
      ]
    },
    {
      "cell_type": "code",
      "execution_count": 27,
      "metadata": {},
      "outputs": [],
      "source": [
        "# Напишем функцию для определения выручки от клиентов разных тарифов\n",
        "def tariffs(data, tariff, fee, k, k_internal, k_oper=100, internal_limit=2000, display_info=True):\n",
        "    # Отфильтруем клиентов с тарифом \n",
        "    data = data[data['tariff_plan'] == tariff]\n",
        "    # Сгруппируем данные по клиентам\n",
        "    data = data.groupby(['user_id', 'internal', 'direction']).agg({'total_call_duration': 'sum'}).reset_index()\n",
        "\n",
        "    # Оставим только исходящие вызовы\n",
        "    data = data[data['direction'] == 'out']\n",
        "    \n",
        "    # Пересчитаем внутренние исходящие вызовы с учетом бесплатного лимита    \n",
        "    data['total_call_duration'] = np.where(\n",
        "        data['internal'] == True,\n",
        "        np.where(data['total_call_duration'] < internal_limit, 0, data['total_call_duration'] - internal_limit),\n",
        "        data['total_call_duration'])\n",
        "    \n",
        "    # Посчитаем для тарифа частично выручку\n",
        "    data['income_without_oper'] = data['total_call_duration'] * np.where(data['internal'] == True, k_internal, k)\n",
        "    # Сгруппируем данные по клиентам\n",
        "    data = data.groupby(['user_id']).agg({'income_without_oper': 'sum'}).reset_index()\n",
        "    #Добавим абонентскую плату\n",
        "    data['income_without_oper'] += fee\n",
        "    # Объединим таблицы, прибавив столбец с операторами\n",
        "    data = data.merge(data_operators, on='user_id',  how='inner')\n",
        "    # Посчитаем для тарифа А полную выручку\n",
        "    data['income'] = data['income_without_oper'] + data['operator_id'] * k_oper\n",
        "    if display_info:\n",
        "        display(f'Данные по пользователям тарифа {tariff}',  data.head())\n",
        "    return data"
      ]
    },
    {
      "cell_type": "code",
      "execution_count": 28,
      "metadata": {
        "scrolled": true
      },
      "outputs": [
        {
          "data": {
            "text/plain": [
              "'Данные по пользователям тарифа A'"
            ]
          },
          "metadata": {},
          "output_type": "display_data"
        },
        {
          "data": {
            "text/html": [
              "<div>\n",
              "<style scoped>\n",
              "    .dataframe tbody tr th:only-of-type {\n",
              "        vertical-align: middle;\n",
              "    }\n",
              "\n",
              "    .dataframe tbody tr th {\n",
              "        vertical-align: top;\n",
              "    }\n",
              "\n",
              "    .dataframe thead th {\n",
              "        text-align: right;\n",
              "    }\n",
              "</style>\n",
              "<table border=\"1\" class=\"dataframe\">\n",
              "  <thead>\n",
              "    <tr style=\"text-align: right;\">\n",
              "      <th></th>\n",
              "      <th>user_id</th>\n",
              "      <th>income_without_oper</th>\n",
              "      <th>operator_id</th>\n",
              "      <th>income</th>\n",
              "    </tr>\n",
              "  </thead>\n",
              "  <tbody>\n",
              "    <tr>\n",
              "      <th>0</th>\n",
              "      <td>166407</td>\n",
              "      <td>5049.300000</td>\n",
              "      <td>8</td>\n",
              "      <td>5849.300000</td>\n",
              "    </tr>\n",
              "    <tr>\n",
              "      <th>1</th>\n",
              "      <td>166541</td>\n",
              "      <td>5053.473333</td>\n",
              "      <td>4</td>\n",
              "      <td>5453.473333</td>\n",
              "    </tr>\n",
              "    <tr>\n",
              "      <th>2</th>\n",
              "      <td>166582</td>\n",
              "      <td>5618.453333</td>\n",
              "      <td>3</td>\n",
              "      <td>5918.453333</td>\n",
              "    </tr>\n",
              "    <tr>\n",
              "      <th>3</th>\n",
              "      <td>166713</td>\n",
              "      <td>5001.100000</td>\n",
              "      <td>2</td>\n",
              "      <td>5201.100000</td>\n",
              "    </tr>\n",
              "    <tr>\n",
              "      <th>4</th>\n",
              "      <td>166725</td>\n",
              "      <td>5199.193333</td>\n",
              "      <td>1</td>\n",
              "      <td>5299.193333</td>\n",
              "    </tr>\n",
              "  </tbody>\n",
              "</table>\n",
              "</div>"
            ],
            "text/plain": [
              "   user_id  income_without_oper  operator_id       income\n",
              "0   166407          5049.300000            8  5849.300000\n",
              "1   166541          5053.473333            4  5453.473333\n",
              "2   166582          5618.453333            3  5918.453333\n",
              "3   166713          5001.100000            2  5201.100000\n",
              "4   166725          5199.193333            1  5299.193333"
            ]
          },
          "metadata": {},
          "output_type": "display_data"
        }
      ],
      "source": [
        "data_A = tariffs(data_final_client, 'A', 5000, 0.4, 0.1)"
      ]
    },
    {
      "cell_type": "code",
      "execution_count": 29,
      "metadata": {},
      "outputs": [
        {
          "data": {
            "text/plain": [
              "23"
            ]
          },
          "execution_count": 29,
          "metadata": {},
          "output_type": "execute_result"
        }
      ],
      "source": [
        "# Посмотрим, сколько всего клиентов тарифа А\n",
        "data_A['user_id'].count()"
      ]
    },
    {
      "cell_type": "code",
      "execution_count": 30,
      "metadata": {
        "scrolled": true
      },
      "outputs": [
        {
          "data": {
            "text/plain": [
              "'Данные по пользователям тарифа B'"
            ]
          },
          "metadata": {},
          "output_type": "display_data"
        },
        {
          "data": {
            "text/html": [
              "<div>\n",
              "<style scoped>\n",
              "    .dataframe tbody tr th:only-of-type {\n",
              "        vertical-align: middle;\n",
              "    }\n",
              "\n",
              "    .dataframe tbody tr th {\n",
              "        vertical-align: top;\n",
              "    }\n",
              "\n",
              "    .dataframe thead th {\n",
              "        text-align: right;\n",
              "    }\n",
              "</style>\n",
              "<table border=\"1\" class=\"dataframe\">\n",
              "  <thead>\n",
              "    <tr style=\"text-align: right;\">\n",
              "      <th></th>\n",
              "      <th>user_id</th>\n",
              "      <th>income_without_oper</th>\n",
              "      <th>operator_id</th>\n",
              "      <th>income</th>\n",
              "    </tr>\n",
              "  </thead>\n",
              "  <tbody>\n",
              "    <tr>\n",
              "      <th>0</th>\n",
              "      <td>166377</td>\n",
              "      <td>2794.858333</td>\n",
              "      <td>5</td>\n",
              "      <td>3294.858333</td>\n",
              "    </tr>\n",
              "    <tr>\n",
              "      <th>1</th>\n",
              "      <td>166405</td>\n",
              "      <td>5390.216667</td>\n",
              "      <td>10</td>\n",
              "      <td>6390.216667</td>\n",
              "    </tr>\n",
              "    <tr>\n",
              "      <th>2</th>\n",
              "      <td>166406</td>\n",
              "      <td>2394.116667</td>\n",
              "      <td>3</td>\n",
              "      <td>2694.116667</td>\n",
              "    </tr>\n",
              "    <tr>\n",
              "      <th>3</th>\n",
              "      <td>166485</td>\n",
              "      <td>3672.591667</td>\n",
              "      <td>6</td>\n",
              "      <td>4272.591667</td>\n",
              "    </tr>\n",
              "    <tr>\n",
              "      <th>4</th>\n",
              "      <td>166495</td>\n",
              "      <td>2237.308333</td>\n",
              "      <td>2</td>\n",
              "      <td>2437.308333</td>\n",
              "    </tr>\n",
              "  </tbody>\n",
              "</table>\n",
              "</div>"
            ],
            "text/plain": [
              "   user_id  income_without_oper  operator_id       income\n",
              "0   166377          2794.858333            5  3294.858333\n",
              "1   166405          5390.216667           10  6390.216667\n",
              "2   166406          2394.116667            3  2694.116667\n",
              "3   166485          3672.591667            6  4272.591667\n",
              "4   166495          2237.308333            2  2437.308333"
            ]
          },
          "metadata": {},
          "output_type": "display_data"
        }
      ],
      "source": [
        "data_B = tariffs(data_final_client, 'B', 2000, 0.5, 0.15)"
      ]
    },
    {
      "cell_type": "code",
      "execution_count": 31,
      "metadata": {},
      "outputs": [
        {
          "data": {
            "text/plain": [
              "66"
            ]
          },
          "execution_count": 31,
          "metadata": {},
          "output_type": "execute_result"
        }
      ],
      "source": [
        "# Посмотрим, сколько всего клиентов тарифа B\n",
        "data_B['user_id'].count()"
      ]
    },
    {
      "cell_type": "code",
      "execution_count": 32,
      "metadata": {},
      "outputs": [
        {
          "data": {
            "text/plain": [
              "'Данные по пользователям тарифа C'"
            ]
          },
          "metadata": {},
          "output_type": "display_data"
        },
        {
          "data": {
            "text/html": [
              "<div>\n",
              "<style scoped>\n",
              "    .dataframe tbody tr th:only-of-type {\n",
              "        vertical-align: middle;\n",
              "    }\n",
              "\n",
              "    .dataframe tbody tr th {\n",
              "        vertical-align: top;\n",
              "    }\n",
              "\n",
              "    .dataframe thead th {\n",
              "        text-align: right;\n",
              "    }\n",
              "</style>\n",
              "<table border=\"1\" class=\"dataframe\">\n",
              "  <thead>\n",
              "    <tr style=\"text-align: right;\">\n",
              "      <th></th>\n",
              "      <th>user_id</th>\n",
              "      <th>income_without_oper</th>\n",
              "      <th>operator_id</th>\n",
              "      <th>income</th>\n",
              "    </tr>\n",
              "  </thead>\n",
              "  <tbody>\n",
              "    <tr>\n",
              "      <th>0</th>\n",
              "      <td>166487</td>\n",
              "      <td>1079.590000</td>\n",
              "      <td>1</td>\n",
              "      <td>1179.590000</td>\n",
              "    </tr>\n",
              "    <tr>\n",
              "      <th>1</th>\n",
              "      <td>166511</td>\n",
              "      <td>2910.615000</td>\n",
              "      <td>3</td>\n",
              "      <td>3210.615000</td>\n",
              "    </tr>\n",
              "    <tr>\n",
              "      <th>2</th>\n",
              "      <td>166520</td>\n",
              "      <td>1853.463333</td>\n",
              "      <td>18</td>\n",
              "      <td>3653.463333</td>\n",
              "    </tr>\n",
              "    <tr>\n",
              "      <th>3</th>\n",
              "      <td>166604</td>\n",
              "      <td>1020.906667</td>\n",
              "      <td>3</td>\n",
              "      <td>1320.906667</td>\n",
              "    </tr>\n",
              "    <tr>\n",
              "      <th>4</th>\n",
              "      <td>166619</td>\n",
              "      <td>1013.253333</td>\n",
              "      <td>1</td>\n",
              "      <td>1113.253333</td>\n",
              "    </tr>\n",
              "  </tbody>\n",
              "</table>\n",
              "</div>"
            ],
            "text/plain": [
              "   user_id  income_without_oper  operator_id       income\n",
              "0   166487          1079.590000            1  1179.590000\n",
              "1   166511          2910.615000            3  3210.615000\n",
              "2   166520          1853.463333           18  3653.463333\n",
              "3   166604          1020.906667            3  1320.906667\n",
              "4   166619          1013.253333            1  1113.253333"
            ]
          },
          "metadata": {},
          "output_type": "display_data"
        }
      ],
      "source": [
        "data_C = tariffs(data_final_client, 'C', 1000, 0.7, 0.3)"
      ]
    },
    {
      "cell_type": "code",
      "execution_count": 33,
      "metadata": {},
      "outputs": [
        {
          "data": {
            "text/plain": [
              "75"
            ]
          },
          "execution_count": 33,
          "metadata": {},
          "output_type": "execute_result"
        }
      ],
      "source": [
        "# Посмотрим, сколько всего клиентов тарифа C\n",
        "data_C['user_id'].count()"
      ]
    },
    {
      "cell_type": "code",
      "execution_count": 34,
      "metadata": {},
      "outputs": [
        {
          "data": {
            "text/plain": [
              "'Количество переплачивающих клиентов:'"
            ]
          },
          "metadata": {},
          "output_type": "display_data"
        },
        {
          "data": {
            "text/plain": [
              "22"
            ]
          },
          "metadata": {},
          "output_type": "display_data"
        },
        {
          "data": {
            "text/html": [
              "<div>\n",
              "<style scoped>\n",
              "    .dataframe tbody tr th:only-of-type {\n",
              "        vertical-align: middle;\n",
              "    }\n",
              "\n",
              "    .dataframe tbody tr th {\n",
              "        vertical-align: top;\n",
              "    }\n",
              "\n",
              "    .dataframe thead th {\n",
              "        text-align: right;\n",
              "    }\n",
              "</style>\n",
              "<table border=\"1\" class=\"dataframe\">\n",
              "  <thead>\n",
              "    <tr style=\"text-align: right;\">\n",
              "      <th></th>\n",
              "      <th>user_id</th>\n",
              "      <th>income_without_oper</th>\n",
              "      <th>operator_id</th>\n",
              "      <th>income</th>\n",
              "      <th>if_B</th>\n",
              "      <th>over_B</th>\n",
              "    </tr>\n",
              "  </thead>\n",
              "  <tbody>\n",
              "    <tr>\n",
              "      <th>0</th>\n",
              "      <td>166407</td>\n",
              "      <td>5049.300000</td>\n",
              "      <td>8</td>\n",
              "      <td>5849.300000</td>\n",
              "      <td>2861.625000</td>\n",
              "      <td>2987.675000</td>\n",
              "    </tr>\n",
              "    <tr>\n",
              "      <th>1</th>\n",
              "      <td>166541</td>\n",
              "      <td>5053.473333</td>\n",
              "      <td>4</td>\n",
              "      <td>5453.473333</td>\n",
              "      <td>2466.841667</td>\n",
              "      <td>2986.631667</td>\n",
              "    </tr>\n",
              "    <tr>\n",
              "      <th>2</th>\n",
              "      <td>166582</td>\n",
              "      <td>5618.453333</td>\n",
              "      <td>3</td>\n",
              "      <td>5918.453333</td>\n",
              "      <td>3073.066667</td>\n",
              "      <td>2845.386667</td>\n",
              "    </tr>\n",
              "    <tr>\n",
              "      <th>3</th>\n",
              "      <td>166713</td>\n",
              "      <td>5001.100000</td>\n",
              "      <td>2</td>\n",
              "      <td>5201.100000</td>\n",
              "      <td>2201.375000</td>\n",
              "      <td>2999.725000</td>\n",
              "    </tr>\n",
              "    <tr>\n",
              "      <th>4</th>\n",
              "      <td>166725</td>\n",
              "      <td>5199.193333</td>\n",
              "      <td>1</td>\n",
              "      <td>5299.193333</td>\n",
              "      <td>2348.991667</td>\n",
              "      <td>2950.201667</td>\n",
              "    </tr>\n",
              "  </tbody>\n",
              "</table>\n",
              "</div>"
            ],
            "text/plain": [
              "   user_id  income_without_oper  operator_id       income         if_B  \\\n",
              "0   166407          5049.300000            8  5849.300000  2861.625000   \n",
              "1   166541          5053.473333            4  5453.473333  2466.841667   \n",
              "2   166582          5618.453333            3  5918.453333  3073.066667   \n",
              "3   166713          5001.100000            2  5201.100000  2201.375000   \n",
              "4   166725          5199.193333            1  5299.193333  2348.991667   \n",
              "\n",
              "        over_B  \n",
              "0  2987.675000  \n",
              "1  2986.631667  \n",
              "2  2845.386667  \n",
              "3  2999.725000  \n",
              "4  2950.201667  "
            ]
          },
          "metadata": {},
          "output_type": "display_data"
        }
      ],
      "source": [
        "# Посмотрим, сколько клиенты тарифа A платили, если б были на тарифе B, переплачивают ли они сейчас\n",
        "\n",
        "data_A['if_B'] = tariffs(data_final_client, 'A', 2000, 0.5, 0.15, display_info=False)['income']\n",
        "data_A['over_B'] = data_A['income'] - data_A['if_B']\n",
        "display(\"Количество переплачивающих клиентов:\", (data_A[data_A['over_B'] > 0])['user_id'].count())\n",
        "display((data_A[data_A['over_B'] > 0]).head())"
      ]
    },
    {
      "cell_type": "code",
      "execution_count": 35,
      "metadata": {},
      "outputs": [
        {
          "data": {
            "text/plain": [
              "'Количество переплачивающих клиентов:'"
            ]
          },
          "metadata": {},
          "output_type": "display_data"
        },
        {
          "data": {
            "text/plain": [
              "21"
            ]
          },
          "metadata": {},
          "output_type": "display_data"
        },
        {
          "data": {
            "text/html": [
              "<div>\n",
              "<style scoped>\n",
              "    .dataframe tbody tr th:only-of-type {\n",
              "        vertical-align: middle;\n",
              "    }\n",
              "\n",
              "    .dataframe tbody tr th {\n",
              "        vertical-align: top;\n",
              "    }\n",
              "\n",
              "    .dataframe thead th {\n",
              "        text-align: right;\n",
              "    }\n",
              "</style>\n",
              "<table border=\"1\" class=\"dataframe\">\n",
              "  <thead>\n",
              "    <tr style=\"text-align: right;\">\n",
              "      <th></th>\n",
              "      <th>user_id</th>\n",
              "      <th>income_without_oper</th>\n",
              "      <th>operator_id</th>\n",
              "      <th>income</th>\n",
              "      <th>if_B</th>\n",
              "      <th>over_B</th>\n",
              "      <th>if_C</th>\n",
              "      <th>over_C</th>\n",
              "    </tr>\n",
              "  </thead>\n",
              "  <tbody>\n",
              "    <tr>\n",
              "      <th>0</th>\n",
              "      <td>166407</td>\n",
              "      <td>5049.300000</td>\n",
              "      <td>8</td>\n",
              "      <td>5849.300000</td>\n",
              "      <td>2861.625000</td>\n",
              "      <td>2987.675000</td>\n",
              "      <td>1886.275000</td>\n",
              "      <td>3963.025</td>\n",
              "    </tr>\n",
              "    <tr>\n",
              "      <th>1</th>\n",
              "      <td>166541</td>\n",
              "      <td>5053.473333</td>\n",
              "      <td>4</td>\n",
              "      <td>5453.473333</td>\n",
              "      <td>2466.841667</td>\n",
              "      <td>2986.631667</td>\n",
              "      <td>1493.578333</td>\n",
              "      <td>3959.895</td>\n",
              "    </tr>\n",
              "    <tr>\n",
              "      <th>2</th>\n",
              "      <td>166582</td>\n",
              "      <td>5618.453333</td>\n",
              "      <td>3</td>\n",
              "      <td>5918.453333</td>\n",
              "      <td>3073.066667</td>\n",
              "      <td>2845.386667</td>\n",
              "      <td>2382.293333</td>\n",
              "      <td>3536.160</td>\n",
              "    </tr>\n",
              "    <tr>\n",
              "      <th>3</th>\n",
              "      <td>166713</td>\n",
              "      <td>5001.100000</td>\n",
              "      <td>2</td>\n",
              "      <td>5201.100000</td>\n",
              "      <td>2201.375000</td>\n",
              "      <td>2999.725000</td>\n",
              "      <td>1201.925000</td>\n",
              "      <td>3999.175</td>\n",
              "    </tr>\n",
              "    <tr>\n",
              "      <th>4</th>\n",
              "      <td>166725</td>\n",
              "      <td>5199.193333</td>\n",
              "      <td>1</td>\n",
              "      <td>5299.193333</td>\n",
              "      <td>2348.991667</td>\n",
              "      <td>2950.201667</td>\n",
              "      <td>1448.588333</td>\n",
              "      <td>3850.605</td>\n",
              "    </tr>\n",
              "  </tbody>\n",
              "</table>\n",
              "</div>"
            ],
            "text/plain": [
              "   user_id  income_without_oper  operator_id       income         if_B  \\\n",
              "0   166407          5049.300000            8  5849.300000  2861.625000   \n",
              "1   166541          5053.473333            4  5453.473333  2466.841667   \n",
              "2   166582          5618.453333            3  5918.453333  3073.066667   \n",
              "3   166713          5001.100000            2  5201.100000  2201.375000   \n",
              "4   166725          5199.193333            1  5299.193333  2348.991667   \n",
              "\n",
              "        over_B         if_C    over_C  \n",
              "0  2987.675000  1886.275000  3963.025  \n",
              "1  2986.631667  1493.578333  3959.895  \n",
              "2  2845.386667  2382.293333  3536.160  \n",
              "3  2999.725000  1201.925000  3999.175  \n",
              "4  2950.201667  1448.588333  3850.605  "
            ]
          },
          "metadata": {},
          "output_type": "display_data"
        }
      ],
      "source": [
        "# Посмотрим, сколько клиенты тарифа A платили, если б были на тарифе C, переплачивают ли они сейчас\n",
        "data_A['if_C'] = tariffs(data_final_client, 'A', 1000, 0.7, 0.3, display_info=False)['income']\n",
        "data_A['over_C'] = data_A['income'] - data_A['if_C']\n",
        "display(\"Количество переплачивающих клиентов:\", (data_A[data_A['over_C'] > 0])['user_id'].count())\n",
        "display((data_A[data_A['over_C'] > 0]).head())"
      ]
    },
    {
      "cell_type": "code",
      "execution_count": 36,
      "metadata": {},
      "outputs": [
        {
          "data": {
            "text/plain": [
              "21"
            ]
          },
          "metadata": {},
          "output_type": "display_data"
        },
        {
          "data": {
            "text/plain": [
              "1"
            ]
          },
          "metadata": {},
          "output_type": "display_data"
        }
      ],
      "source": [
        "# Проверим, совпадают ли клиенты, неоптимально использующие тариф А, в списках, предлагающих тариф В и С\n",
        "ac = list(data_A[data_A['over_C'] > 0]['user_id'])\n",
        "ab = list(data_A[data_A['over_B'] > 0]['user_id'])\n",
        "optimal_ac = [x for x in ac if x in ab]\n",
        "display(len(optimal_ac))\n",
        "\n",
        "optimal_ab = [x for x in ab if x not in ac]\n",
        "display(len(optimal_ab))"
      ]
    },
    {
      "cell_type": "code",
      "execution_count": 37,
      "metadata": {},
      "outputs": [
        {
          "data": {
            "text/plain": [
              "75703.36333333334"
            ]
          },
          "metadata": {},
          "output_type": "display_data"
        }
      ],
      "source": [
        "# Посчитаем потери Заказчика, если клиенты перейдут на более оптимальный тариф\n",
        "display(data_A.query('user_id in @optimal_ac')['over_C'].sum() + data_A.query('user_id in @optimal_ab')['over_B'].sum())"
      ]
    },
    {
      "cell_type": "code",
      "execution_count": 38,
      "metadata": {},
      "outputs": [
        {
          "data": {
            "text/plain": [
              "187789.37999999998"
            ]
          },
          "execution_count": 38,
          "metadata": {},
          "output_type": "execute_result"
        }
      ],
      "source": [
        "# Посчитаем выручку сейчас\n",
        "data_A['income'].sum()"
      ]
    },
    {
      "cell_type": "code",
      "execution_count": 39,
      "metadata": {},
      "outputs": [
        {
          "data": {
            "text/plain": [
              "'Количество переплачивающих клиентов:'"
            ]
          },
          "metadata": {},
          "output_type": "display_data"
        },
        {
          "data": {
            "text/plain": [
              "0"
            ]
          },
          "metadata": {},
          "output_type": "display_data"
        }
      ],
      "source": [
        "# Посмотрим, сколько клиенты тарифа В платили, если б были на тарифе А, переплачивают ли они сейчас\n",
        "data_B['if_A'] = tariffs(data_final_client, 'B', 5000, 0.4, 0.1, display_info=False)['income']\n",
        "data_B['over_A'] = data_B['income'] - data_B['if_A']\n",
        "display(\"Количество переплачивающих клиентов:\", (data_B[data_B['over_A'] > 0])['user_id'].count())"
      ]
    },
    {
      "cell_type": "code",
      "execution_count": 40,
      "metadata": {},
      "outputs": [
        {
          "data": {
            "text/plain": [
              "'Количество переплачивающих клиентов:'"
            ]
          },
          "metadata": {},
          "output_type": "display_data"
        },
        {
          "data": {
            "text/plain": [
              "64"
            ]
          },
          "metadata": {},
          "output_type": "display_data"
        },
        {
          "data": {
            "text/html": [
              "<div>\n",
              "<style scoped>\n",
              "    .dataframe tbody tr th:only-of-type {\n",
              "        vertical-align: middle;\n",
              "    }\n",
              "\n",
              "    .dataframe tbody tr th {\n",
              "        vertical-align: top;\n",
              "    }\n",
              "\n",
              "    .dataframe thead th {\n",
              "        text-align: right;\n",
              "    }\n",
              "</style>\n",
              "<table border=\"1\" class=\"dataframe\">\n",
              "  <thead>\n",
              "    <tr style=\"text-align: right;\">\n",
              "      <th></th>\n",
              "      <th>user_id</th>\n",
              "      <th>income_without_oper</th>\n",
              "      <th>operator_id</th>\n",
              "      <th>income</th>\n",
              "      <th>if_A</th>\n",
              "      <th>over_A</th>\n",
              "      <th>if_C</th>\n",
              "      <th>over_C</th>\n",
              "    </tr>\n",
              "  </thead>\n",
              "  <tbody>\n",
              "    <tr>\n",
              "      <th>0</th>\n",
              "      <td>166377</td>\n",
              "      <td>2794.858333</td>\n",
              "      <td>5</td>\n",
              "      <td>3294.858333</td>\n",
              "      <td>6135.886667</td>\n",
              "      <td>-2841.028333</td>\n",
              "      <td>2612.801667</td>\n",
              "      <td>682.056667</td>\n",
              "    </tr>\n",
              "    <tr>\n",
              "      <th>2</th>\n",
              "      <td>166406</td>\n",
              "      <td>2394.116667</td>\n",
              "      <td>3</td>\n",
              "      <td>2694.116667</td>\n",
              "      <td>5615.293333</td>\n",
              "      <td>-2921.176667</td>\n",
              "      <td>1851.763333</td>\n",
              "      <td>842.353333</td>\n",
              "    </tr>\n",
              "    <tr>\n",
              "      <th>3</th>\n",
              "      <td>166485</td>\n",
              "      <td>3672.591667</td>\n",
              "      <td>6</td>\n",
              "      <td>4272.591667</td>\n",
              "      <td>6938.073333</td>\n",
              "      <td>-2665.481667</td>\n",
              "      <td>3941.628333</td>\n",
              "      <td>330.963333</td>\n",
              "    </tr>\n",
              "    <tr>\n",
              "      <th>4</th>\n",
              "      <td>166495</td>\n",
              "      <td>2237.308333</td>\n",
              "      <td>2</td>\n",
              "      <td>2437.308333</td>\n",
              "      <td>5389.846667</td>\n",
              "      <td>-2952.538333</td>\n",
              "      <td>1532.231667</td>\n",
              "      <td>905.076667</td>\n",
              "    </tr>\n",
              "    <tr>\n",
              "      <th>5</th>\n",
              "      <td>166503</td>\n",
              "      <td>2060.216667</td>\n",
              "      <td>6</td>\n",
              "      <td>2660.216667</td>\n",
              "      <td>5648.173333</td>\n",
              "      <td>-2987.956667</td>\n",
              "      <td>1684.303333</td>\n",
              "      <td>975.913333</td>\n",
              "    </tr>\n",
              "  </tbody>\n",
              "</table>\n",
              "</div>"
            ],
            "text/plain": [
              "   user_id  income_without_oper  operator_id       income         if_A  \\\n",
              "0   166377          2794.858333            5  3294.858333  6135.886667   \n",
              "2   166406          2394.116667            3  2694.116667  5615.293333   \n",
              "3   166485          3672.591667            6  4272.591667  6938.073333   \n",
              "4   166495          2237.308333            2  2437.308333  5389.846667   \n",
              "5   166503          2060.216667            6  2660.216667  5648.173333   \n",
              "\n",
              "        over_A         if_C      over_C  \n",
              "0 -2841.028333  2612.801667  682.056667  \n",
              "2 -2921.176667  1851.763333  842.353333  \n",
              "3 -2665.481667  3941.628333  330.963333  \n",
              "4 -2952.538333  1532.231667  905.076667  \n",
              "5 -2987.956667  1684.303333  975.913333  "
            ]
          },
          "metadata": {},
          "output_type": "display_data"
        }
      ],
      "source": [
        "# Посмотрим, сколько клиенты тарифа В платили, если б были на тарифе С, переплачивают ли они сейчас\n",
        "data_B['if_C'] = tariffs(data_final_client, 'B', 1000, 0.7, 0.3, display_info=False)['income']\n",
        "data_B['over_C'] = data_B['income'] - data_B['if_C']\n",
        "bc = data_B[data_B['over_C'] > 0]\n",
        "display(\"Количество переплачивающих клиентов:\", bc['user_id'].count())\n",
        "\n",
        "optimal_bc = list(bc['user_id'])\n",
        "display(bc.head())"
      ]
    },
    {
      "cell_type": "code",
      "execution_count": 41,
      "metadata": {
        "scrolled": true
      },
      "outputs": [
        {
          "data": {
            "text/plain": [
              "56077.16"
            ]
          },
          "metadata": {},
          "output_type": "display_data"
        }
      ],
      "source": [
        "# Посчитаем потери Заказчика, если клиенты перейдут на более оптимальный тариф\n",
        "display(bc['over_C'].sum())"
      ]
    },
    {
      "cell_type": "code",
      "execution_count": 42,
      "metadata": {},
      "outputs": [
        {
          "data": {
            "text/plain": [
              "191580.45833333334"
            ]
          },
          "execution_count": 42,
          "metadata": {},
          "output_type": "execute_result"
        }
      ],
      "source": [
        "# Посчитаем выручку сейчас\n",
        "data_B['income'].sum()"
      ]
    },
    {
      "cell_type": "code",
      "execution_count": 43,
      "metadata": {},
      "outputs": [
        {
          "data": {
            "text/plain": [
              "'Количество переплачивающих клиентов:'"
            ]
          },
          "metadata": {},
          "output_type": "display_data"
        },
        {
          "data": {
            "text/plain": [
              "0"
            ]
          },
          "metadata": {},
          "output_type": "display_data"
        }
      ],
      "source": [
        "# Посмотрим, сколько клиенты тарифа C платили, если б были на тарифе А, переплачивают ли они сейчас\n",
        "data_C['if_A'] = tariffs(data_final_client, 'C', 5000, 0.4, 0.1, display_info=False)['income']\n",
        "data_C['over_A'] = data_C['income'] - data_C['if_A']\n",
        "display(\"Количество переплачивающих клиентов:\",(data_C[data_C['over_A'] > 0])['user_id'].count())"
      ]
    },
    {
      "cell_type": "code",
      "execution_count": 44,
      "metadata": {},
      "outputs": [
        {
          "data": {
            "text/plain": [
              "'Количество переплачивающих клиентов:'"
            ]
          },
          "metadata": {},
          "output_type": "display_data"
        },
        {
          "data": {
            "text/plain": [
              "1"
            ]
          },
          "metadata": {},
          "output_type": "display_data"
        },
        {
          "data": {
            "text/html": [
              "<div>\n",
              "<style scoped>\n",
              "    .dataframe tbody tr th:only-of-type {\n",
              "        vertical-align: middle;\n",
              "    }\n",
              "\n",
              "    .dataframe tbody tr th {\n",
              "        vertical-align: top;\n",
              "    }\n",
              "\n",
              "    .dataframe thead th {\n",
              "        text-align: right;\n",
              "    }\n",
              "</style>\n",
              "<table border=\"1\" class=\"dataframe\">\n",
              "  <thead>\n",
              "    <tr style=\"text-align: right;\">\n",
              "      <th></th>\n",
              "      <th>user_id</th>\n",
              "      <th>income_without_oper</th>\n",
              "      <th>operator_id</th>\n",
              "      <th>income</th>\n",
              "      <th>if_A</th>\n",
              "      <th>over_A</th>\n",
              "      <th>if_B</th>\n",
              "      <th>over_B</th>\n",
              "    </tr>\n",
              "  </thead>\n",
              "  <tbody>\n",
              "    <tr>\n",
              "      <th>51</th>\n",
              "      <td>167827</td>\n",
              "      <td>7748.42</td>\n",
              "      <td>3</td>\n",
              "      <td>8048.42</td>\n",
              "      <td>9156.24</td>\n",
              "      <td>-1107.82</td>\n",
              "      <td>7120.3</td>\n",
              "      <td>928.12</td>\n",
              "    </tr>\n",
              "  </tbody>\n",
              "</table>\n",
              "</div>"
            ],
            "text/plain": [
              "    user_id  income_without_oper  operator_id   income     if_A   over_A  \\\n",
              "51   167827              7748.42            3  8048.42  9156.24 -1107.82   \n",
              "\n",
              "      if_B  over_B  \n",
              "51  7120.3  928.12  "
            ]
          },
          "metadata": {},
          "output_type": "display_data"
        }
      ],
      "source": [
        "# Посмотрим, сколько клиенты тарифа C платили, если б были на тарифе В, переплачивают ли они сейчас\n",
        "data_C['if_B'] = tariffs(data_final_client, 'C', 2000, 0.5, 0.15, display_info=False)['income']\n",
        "data_C['over_B'] = data_C['income'] - data_C['if_B']\n",
        "cb = data_C[data_C['over_B'] > 0]\n",
        "display(\"Количество переплачивающих клиентов:\",cb['user_id'].count())\n",
        "optimal_cb = list(cb['user_id'])\n",
        "display(cb)"
      ]
    },
    {
      "cell_type": "code",
      "execution_count": 45,
      "metadata": {},
      "outputs": [
        {
          "data": {
            "text/plain": [
              "138609.905"
            ]
          },
          "execution_count": 45,
          "metadata": {},
          "output_type": "execute_result"
        }
      ],
      "source": [
        "# Посчитаем выручку сейчас\n",
        "data_C['income'].sum()"
      ]
    },
    {
      "cell_type": "code",
      "execution_count": 46,
      "metadata": {},
      "outputs": [
        {
          "data": {
            "text/plain": [
              "517979.7433333333"
            ]
          },
          "execution_count": 46,
          "metadata": {},
          "output_type": "execute_result"
        }
      ],
      "source": [
        "# Посчитаем выручку сейчас\n",
        "data_A['income'].sum() + data_B['income'].sum() + data_C['income'].sum()"
      ]
    },
    {
      "cell_type": "markdown",
      "metadata": {},
      "source": [
        "**Вывод:**\n",
        "1. При изучении данных в динамике мы видим, что больше всего клиентов на тарифном плане С, меньше всего - на тарифном плане А, рост клиентов на всех тарифах замедляется, также мы видим рост количества операторов на тарифных планах В и С, тогда как на тарифном плане А идет снижение, при изучении распределения количества звонков мы видим, что на тарифном плане А к ноябрю их становится меньше (больше всего было в октябре), на тарифных планах В и С количество звонков медленно увеличивается.\n",
        "2. Активные пользователи тарифа А, в среднем, тратят 2309 мин/мес, совершают 1825 звонков, используют 7 операторов, активные пользователи тарифа В - 512, 352 и 2 соответственно, активные пользователи тарифа С - 384, 351 и 2 соответственно.\n",
        "3. На тарифе А среди 23 клиентов переплачивают 22 клиента, сэкономят, если перейдут на более дешевые тарифы(21 клиент на тариф С и 1 клиент на тариф В). При этом убыток компании составит 75 703 руб в месяц.\n",
        "4. На тарифе В среди 66 клиентов переплачивают 64 клиента, сэкономят, если перейдут на более дешевый тариф С. При этом убыток компании составит 56 077 руб в месяц.\n",
        "5. На тарифе С среди 75 клиентов переплачивает 1 клиент, сэкономит, если перейдет на более дорогой тариф В. При этом убыток компании составит 928руб в месяц.\n",
        "6. Таким образом, среди тех, кто переплачивает (86 клиентов) в настоящее время, почти все (85 клиентов) сэкономят, если перейдут на более дешевые тарифы, при этом убыток компании составит 116 214 руб в месяц. Лишь 1 клиент сэкономит, если перейдет на более дорогой тариф, при этом убыток компании составит 928руб в месяц. Если все клиенты перейдут на более оптимальные для них тарифы, то убыток компании составит 132 708 руб в месяц при выручке сейчас 517 979 руб в месяц (25,6%)."
      ]
    },
    {
      "cell_type": "markdown",
      "metadata": {},
      "source": [
        "## Проверка гипотез"
      ]
    },
    {
      "cell_type": "markdown",
      "metadata": {},
      "source": [
        "Для проверки гипотез используем t-тест, т.к. у нас достаточно большие выборки (более 30 элементов) и нормальным распределением можно пренебречь, потому что выборочное среднее будет распределено нормально в любом случае. Определим критический уровень  alpha = 0.05 с допустимым уровнем ошибки в 5%."
      ]
    },
    {
      "cell_type": "markdown",
      "metadata": {},
      "source": [
        "Нулевая гипотеза 1: Средняя выручка до перехода на оптимальный тариф и после одинаковая.\n",
        "\n",
        "Альтернативная гипотеза 1: Средняя выручка до перехода на оптимальный тариф и после различается.\n",
        "\n"
      ]
    },
    {
      "cell_type": "code",
      "execution_count": 47,
      "metadata": {},
      "outputs": [],
      "source": [
        "# создадим сводную таблицу выручки на всех тарифах\n",
        "data_total = data_A.append(data_B).append(data_C)[['user_id','income']]\n",
        "\n",
        "# создадим таблицу выручки на тарифе А, если все клиенты перейдут на оптимальный тариф\n",
        "data_optimal_a = data_A.query('(user_id not in @optimal_ab) and (user_id not in @optimal_ac)')[['user_id','income']]\n",
        "data_optimal_a = data_optimal_a.append(data_A.query('user_id in @optimal_ab')[['user_id','if_B']].rename(columns = {'if_B':'income'}))\n",
        "data_optimal_a = data_optimal_a.append(data_A.query('user_id in @optimal_ac')[['user_id','if_C']].rename(columns = {'if_C':'income'}))\n",
        "\n",
        "# создадим таблицу выручки на тарифе В, если все клиенты перейдут на оптимальный тариф\n",
        "data_optimal_b = data_B.query('(user_id not in @optimal_bc)')[['user_id','income']]\n",
        "data_optimal_b = data_optimal_b.append(data_B.query('user_id in @optimal_bc')[['user_id','if_C']].rename(columns = {'if_C':'income'}))\n",
        "\n",
        "# создадим таблицу выручки на тарифе С, если все клиенты перейдут на оптимальный тариф\n",
        "data_optimal_c = data_C.query('(user_id not in @optimal_cb)')[['user_id','income']]\n",
        "data_optimal_c = data_optimal_c.append(data_C.query('user_id in @optimal_cb')[['user_id','if_B']].rename(columns = {'if_B':'income'}))\n",
        "\n",
        "# создадим сведную таблицу выручки на оптимальных тарифах\n",
        "optimal_total = data_optimal_a.append(data_optimal_b).append(data_optimal_c)"
      ]
    },
    {
      "cell_type": "code",
      "execution_count": 48,
      "metadata": {},
      "outputs": [
        {
          "data": {
            "text/plain": [
              "array([ 6503.46783333, 14038.32166667])"
            ]
          },
          "metadata": {},
          "output_type": "display_data"
        },
        {
          "data": {
            "text/plain": [
              "array([ 5348.4695    , 12857.17178333])"
            ]
          },
          "metadata": {},
          "output_type": "display_data"
        }
      ],
      "source": [
        "# Посчитаем 95-й и 99-й перцентили выручки, чтобы определить выбросы\n",
        "display(np.percentile(data_total['income'], [95, 99])) \n",
        "display(np.percentile(optimal_total['income'], [95, 99])) \n",
        "# Отфильтруем клиентов с выручкой более 10399 в data_total и более 9328 в optimal_total (тк их 1%)\n",
        "data_total = data_total[data_total['income'] < (np.percentile(data_total['income'], [99]))[0]]\n",
        "optimal_total = optimal_total[optimal_total['income'] < (np.percentile(optimal_total['income'], [99]))[0]]"
      ]
    },
    {
      "cell_type": "code",
      "execution_count": 49,
      "metadata": {},
      "outputs": [
        {
          "name": "stdout",
          "output_type": "stream",
          "text": [
            "p-значение:  6.176603544079844e-05\n",
            "Отвергаем нулевую гипотезу\n"
          ]
        }
      ],
      "source": [
        "alpha = .05\n",
        "results = st.ttest_ind(\n",
        "    data_total['income'], \n",
        "    optimal_total['income'])\n",
        "\n",
        "print('p-значение: ', results.pvalue)\n",
        "\n",
        "if results.pvalue < alpha:\n",
        "    print(\"Отвергаем нулевую гипотезу\")\n",
        "else:\n",
        "    print(\"Не получилось отвергнуть нулевую гипотезу\") "
      ]
    },
    {
      "cell_type": "markdown",
      "metadata": {},
      "source": [
        "Нулевая гипотеза 2: Средняя выручка от клиентов тарифа А и от клиентов тарифа С одинаковая.\n",
        "\n",
        "Альтернативная гипотеза 2: Средняя выручка от клиентов тарифа А и от клиентов тарифа С различается.\n"
      ]
    },
    {
      "cell_type": "code",
      "execution_count": 50,
      "metadata": {},
      "outputs": [
        {
          "name": "stdout",
          "output_type": "stream",
          "text": [
            "p-значение:  5.797758382370718e-12\n",
            "Отвергаем нулевую гипотезу\n"
          ]
        }
      ],
      "source": [
        "alpha = .05\n",
        "results = st.ttest_ind(\n",
        "    data_A['income'], \n",
        "    data_C['income'])\n",
        "\n",
        "print('p-значение: ', results.pvalue)\n",
        "\n",
        "if results.pvalue < alpha:\n",
        "    print(\"Отвергаем нулевую гипотезу\")\n",
        "else:\n",
        "    print(\"Не получилось отвергнуть нулевую гипотезу\") "
      ]
    },
    {
      "cell_type": "markdown",
      "metadata": {},
      "source": [
        "**Вывод:**\n",
        "1. Имеется статистически значимая разница в средних выручках до перехода на оптимальный тариф и после.\n",
        "2. Имеется статистически значимая разница в средних выручках от клиентов тарифа А и от клиентов тарифа С."
      ]
    },
    {
      "cell_type": "code",
      "execution_count": 51,
      "metadata": {},
      "outputs": [
        {
          "data": {
            "text/html": [
              "<div>\n",
              "<style scoped>\n",
              "    .dataframe tbody tr th:only-of-type {\n",
              "        vertical-align: middle;\n",
              "    }\n",
              "\n",
              "    .dataframe tbody tr th {\n",
              "        vertical-align: top;\n",
              "    }\n",
              "\n",
              "    .dataframe thead th {\n",
              "        text-align: right;\n",
              "    }\n",
              "</style>\n",
              "<table border=\"1\" class=\"dataframe\">\n",
              "  <thead>\n",
              "    <tr style=\"text-align: right;\">\n",
              "      <th></th>\n",
              "      <th>id</th>\n",
              "      <th>текущий тариф</th>\n",
              "      <th>текущие затраты</th>\n",
              "      <th>оптимальный тариф</th>\n",
              "      <th>оптимальные затраты</th>\n",
              "      <th>экономия</th>\n",
              "    </tr>\n",
              "  </thead>\n",
              "  <tbody>\n",
              "    <tr>\n",
              "      <th>15</th>\n",
              "      <td>168062</td>\n",
              "      <td>A</td>\n",
              "      <td>14284.546667</td>\n",
              "      <td>B</td>\n",
              "      <td>12930.683333</td>\n",
              "      <td>1353.863333</td>\n",
              "    </tr>\n",
              "    <tr>\n",
              "      <th>0</th>\n",
              "      <td>166407</td>\n",
              "      <td>A</td>\n",
              "      <td>5849.300000</td>\n",
              "      <td>C</td>\n",
              "      <td>1886.275000</td>\n",
              "      <td>3963.025000</td>\n",
              "    </tr>\n",
              "    <tr>\n",
              "      <th>1</th>\n",
              "      <td>166541</td>\n",
              "      <td>A</td>\n",
              "      <td>5453.473333</td>\n",
              "      <td>C</td>\n",
              "      <td>1493.578333</td>\n",
              "      <td>3959.895000</td>\n",
              "    </tr>\n",
              "    <tr>\n",
              "      <th>2</th>\n",
              "      <td>166582</td>\n",
              "      <td>A</td>\n",
              "      <td>5918.453333</td>\n",
              "      <td>C</td>\n",
              "      <td>2382.293333</td>\n",
              "      <td>3536.160000</td>\n",
              "    </tr>\n",
              "    <tr>\n",
              "      <th>3</th>\n",
              "      <td>166713</td>\n",
              "      <td>A</td>\n",
              "      <td>5201.100000</td>\n",
              "      <td>C</td>\n",
              "      <td>1201.925000</td>\n",
              "      <td>3999.175000</td>\n",
              "    </tr>\n",
              "    <tr>\n",
              "      <th>...</th>\n",
              "      <td>...</td>\n",
              "      <td>...</td>\n",
              "      <td>...</td>\n",
              "      <td>...</td>\n",
              "      <td>...</td>\n",
              "      <td>...</td>\n",
              "    </tr>\n",
              "    <tr>\n",
              "      <th>62</th>\n",
              "      <td>168225</td>\n",
              "      <td>B</td>\n",
              "      <td>2714.466667</td>\n",
              "      <td>C</td>\n",
              "      <td>1720.253333</td>\n",
              "      <td>994.213333</td>\n",
              "    </tr>\n",
              "    <tr>\n",
              "      <th>63</th>\n",
              "      <td>168307</td>\n",
              "      <td>B</td>\n",
              "      <td>2300.925000</td>\n",
              "      <td>C</td>\n",
              "      <td>1301.295000</td>\n",
              "      <td>999.630000</td>\n",
              "    </tr>\n",
              "    <tr>\n",
              "      <th>64</th>\n",
              "      <td>168481</td>\n",
              "      <td>B</td>\n",
              "      <td>2303.541667</td>\n",
              "      <td>C</td>\n",
              "      <td>1304.958333</td>\n",
              "      <td>998.583333</td>\n",
              "    </tr>\n",
              "    <tr>\n",
              "      <th>65</th>\n",
              "      <td>168603</td>\n",
              "      <td>B</td>\n",
              "      <td>2109.891667</td>\n",
              "      <td>C</td>\n",
              "      <td>1113.848333</td>\n",
              "      <td>996.043333</td>\n",
              "    </tr>\n",
              "    <tr>\n",
              "      <th>51</th>\n",
              "      <td>167827</td>\n",
              "      <td>C</td>\n",
              "      <td>8048.420000</td>\n",
              "      <td>B</td>\n",
              "      <td>7120.300000</td>\n",
              "      <td>928.120000</td>\n",
              "    </tr>\n",
              "  </tbody>\n",
              "</table>\n",
              "<p>87 rows × 6 columns</p>\n",
              "</div>"
            ],
            "text/plain": [
              "        id текущий тариф  текущие затраты оптимальный тариф  \\\n",
              "15  168062             A     14284.546667                 B   \n",
              "0   166407             A      5849.300000                 C   \n",
              "1   166541             A      5453.473333                 C   \n",
              "2   166582             A      5918.453333                 C   \n",
              "3   166713             A      5201.100000                 C   \n",
              "..     ...           ...              ...               ...   \n",
              "62  168225             B      2714.466667                 C   \n",
              "63  168307             B      2300.925000                 C   \n",
              "64  168481             B      2303.541667                 C   \n",
              "65  168603             B      2109.891667                 C   \n",
              "51  167827             C      8048.420000                 B   \n",
              "\n",
              "    оптимальные затраты     экономия  \n",
              "15         12930.683333  1353.863333  \n",
              "0           1886.275000  3963.025000  \n",
              "1           1493.578333  3959.895000  \n",
              "2           2382.293333  3536.160000  \n",
              "3           1201.925000  3999.175000  \n",
              "..                  ...          ...  \n",
              "62          1720.253333   994.213333  \n",
              "63          1301.295000   999.630000  \n",
              "64          1304.958333   998.583333  \n",
              "65          1113.848333   996.043333  \n",
              "51          7120.300000   928.120000  \n",
              "\n",
              "[87 rows x 6 columns]"
            ]
          },
          "metadata": {},
          "output_type": "display_data"
        }
      ],
      "source": [
        "# Подготовим таблицу с данными о клиентах с неоптимальными тарифами для менеджеров из коммерческого отдела\n",
        "opt_ab = data_A.query('user_id in @optimal_ab')[['user_id','income','if_B', 'over_B']].rename(columns = {'if_B':'optimal_in',\n",
        "                                                                                                       'over_B':'over',})\n",
        "opt_ab['optimal_tariff'] = 'B'\n",
        "opt_ac = data_A.query('user_id in @optimal_ac')[['user_id','income','if_C', 'over_C']].rename(columns = {'if_C':'optimal_in',\n",
        "                                                                                                       'over_C':'over',})\n",
        "opt_ac['optimal_tariff'] = 'C'\n",
        "opt_a = opt_ab.append(opt_ac)\n",
        "opt_a['tariff'] = 'A'\n",
        "\n",
        "opt_bc = data_B.query('user_id in @optimal_bc')[['user_id','income','if_C', 'over_C']].rename(columns = {'if_C':'optimal_in',\n",
        "                                                                                                          'over_C':'over'})\n",
        "opt_bc['optimal_tariff'] = 'C'\n",
        "opt_bc['tariff'] = 'B'\n",
        "\n",
        "opt_cb = data_C.query('user_id in @optimal_cb')[['user_id','income','if_B', 'over_B']].rename(columns = {'if_B':'optimal_in',\n",
        "                                                                                                         'over_B':'over',})\n",
        "opt_cb['optimal_tariff'] = 'B'\n",
        "opt_cb['tariff'] = 'C'\n",
        "          \n",
        "total = opt_a.append(opt_bc).append(opt_cb)\n",
        "total = total[['user_id', 'tariff', 'income', 'optimal_tariff', 'optimal_in', 'over']]\n",
        "total = total.rename(columns = {'user_id':'id',\n",
        "                                'tariff':'текущий тариф',\n",
        "                                'income':'текущие затраты',\n",
        "                                'optimal_tariff':'оптимальный тариф',\n",
        "                                'optimal_in':'оптимальные затраты',\n",
        "                                'over':'экономия'\n",
        "                       })\n",
        "# total.to_csv('optimal.csv', index=False)\n",
        "display(total)"
      ]
    },
    {
      "cell_type": "markdown",
      "metadata": {},
      "source": [
        "## Общий вывод"
      ]
    },
    {
      "cell_type": "markdown",
      "metadata": {},
      "source": [
        "**В ходе проведенного исследования выяснили:**\n",
        "1. Данные для исследования предоставлены за период с 02.08.2019г по 28.11.2019г.\n",
        "2. Определили активных клиентов (те, кто совершал звонки в ноябре, у кого более одного звонка и у кого продолжительность разговора больше 0).\n",
        "3. Выявили, что в нашей выборке активных клиентов не выявлена продолжительность исходящих звонков внутри сети более 2000 мин (таким образом, тарификация исходящих звонков внутри сети в дальнейших расчетах не будет учитываться).\n",
        "4. При изучении данных в динамике мы видим, что больше всего клиентов на тарифном плане С, меньше всего - на тарифном плане А, рост клиентов на всех тарифах замедляется, также мы видим рост количества операторов на тарифных планах В и С, тогда как на тарифном плане А идет снижение, при изучении распределения количества звонков мы видим, что на тарифном плане А к ноябрю их становится меньше (больше всего было в октябре), на тарифных планах В и С количество звонков медленно увеличивается.\n",
        "5. Активные пользователи тарифа А, в среднем, тратят 2309 мин/мес, совершают 1825 звонков, используют 7 операторов, активные пользователи тарифа В - 512, 352 и 2 соответственно, активные пользователи тарифа С - 384, 351 и 2 соответственно.\n",
        "6.  На тарифе А среди 23 клиентов переплачивают 22 клиента, сэкономят, если перейдут на более дешевые тарифы(21 клиент на тариф С и 1 клиент на тариф В). При этом убыток компании составит 75 703 руб в месяц.\n",
        "7. На тарифе В среди 66 клиентов переплачивают 64 клиента, сэкономят, если перейдут на более дешевый тариф С. При этом убыток компании составит 56 077 руб в месяц.\n",
        "8. На тарифе С среди 75 клиентов переплачивает 1 клиент, сэкономит, если перейдет на более дорогой тариф В. При этом убыток компании составит 928руб в месяц.\n",
        "9. Таким образом, среди тех, кто переплачивает (86 клиентов) в настоящее время, почти все (85 клиентов) сэкономят, если перейдут на более дешевые тарифы, при этом убыток компании составит 116 214 руб в месяц. Лишь 1 клиент сэкономит, если перейдет на более дорогой тариф, при этом убыток компании составит 928руб в месяц. Если все клиенты перейдут на более оптимальные для них тарифы, то убыток компании составит 132 708 руб в месяц при выручке сейчас 517 979 руб в месяц (25,6%).\n",
        "10. Имеется статистически значимая разница в средних выручках до перехода на оптимальный тариф и после.\n",
        "11. Имеется статистически значимая разница в средних выручках от клиентов тарифа А и от клиентов тарифа С."
      ]
    },
    {
      "cell_type": "markdown",
      "metadata": {},
      "source": [
        "**Рекомендации:**\n",
        "1. Мы выявили малое количество клиентов тарифа А относительно других тарифов, снижение количества звонков и операторов на нем. В связи с тем, что это самый дорогой тариф, то было бы выгодно привлекать больше клиентов на него (мб стоит рассмотреть более крупные организации в качестве клиентов).\n",
        "2. Для повышения прибыли можно пересмотреть тарификацию операторов (увеличить ее на тарифах В и С).\n",
        "3. Можно уменьшить количество бесплатных минут исходящих звонков внутри сети, тк в нашем исследовании никто не превысил настоящий лимит. "
      ]
    }
  ],
  "metadata": {
    "ExecuteTimeLog": [
      {
        "duration": 3,
        "start_time": "2022-05-30T08:54:58.573Z"
      },
      {
        "duration": 9,
        "start_time": "2022-05-30T08:54:58.579Z"
      },
      {
        "duration": 6,
        "start_time": "2022-05-30T08:54:58.589Z"
      },
      {
        "duration": 6,
        "start_time": "2022-05-30T08:54:58.598Z"
      },
      {
        "duration": 7,
        "start_time": "2022-05-30T08:54:58.606Z"
      },
      {
        "duration": 4,
        "start_time": "2022-05-30T08:54:58.614Z"
      },
      {
        "duration": 6,
        "start_time": "2022-05-30T08:54:58.620Z"
      },
      {
        "duration": 4,
        "start_time": "2022-05-30T08:54:58.628Z"
      },
      {
        "duration": 6,
        "start_time": "2022-05-30T08:54:58.633Z"
      },
      {
        "duration": 5,
        "start_time": "2022-05-30T08:54:58.641Z"
      },
      {
        "duration": 7,
        "start_time": "2022-05-30T08:54:58.647Z"
      },
      {
        "duration": 20,
        "start_time": "2022-05-30T08:54:58.655Z"
      },
      {
        "duration": 2,
        "start_time": "2022-05-30T08:54:58.677Z"
      },
      {
        "duration": 7,
        "start_time": "2022-05-30T08:54:58.681Z"
      },
      {
        "duration": 7,
        "start_time": "2022-05-30T08:54:58.689Z"
      },
      {
        "duration": 51,
        "start_time": "2022-05-30T08:55:56.781Z"
      },
      {
        "duration": 721,
        "start_time": "2022-05-30T08:56:29.962Z"
      },
      {
        "duration": 385,
        "start_time": "2022-05-30T08:56:30.685Z"
      },
      {
        "duration": 3,
        "start_time": "2022-05-30T08:58:57.285Z"
      },
      {
        "duration": 125,
        "start_time": "2022-05-30T08:58:57.290Z"
      },
      {
        "duration": 26,
        "start_time": "2022-05-30T08:58:57.416Z"
      },
      {
        "duration": 54,
        "start_time": "2022-05-30T08:58:57.444Z"
      },
      {
        "duration": 134,
        "start_time": "2022-05-30T08:58:57.499Z"
      },
      {
        "duration": 19,
        "start_time": "2022-05-30T08:58:57.635Z"
      },
      {
        "duration": 41,
        "start_time": "2022-05-30T08:58:57.656Z"
      },
      {
        "duration": 3,
        "start_time": "2022-05-30T08:58:57.698Z"
      },
      {
        "duration": 4,
        "start_time": "2022-05-30T08:58:57.704Z"
      },
      {
        "duration": 5,
        "start_time": "2022-05-30T08:58:57.710Z"
      },
      {
        "duration": 4,
        "start_time": "2022-05-30T08:58:57.717Z"
      },
      {
        "duration": 4,
        "start_time": "2022-05-30T08:58:57.723Z"
      },
      {
        "duration": 5,
        "start_time": "2022-05-30T08:58:57.728Z"
      },
      {
        "duration": 4,
        "start_time": "2022-05-30T08:58:57.734Z"
      },
      {
        "duration": 4,
        "start_time": "2022-05-30T08:58:57.740Z"
      },
      {
        "duration": 30,
        "start_time": "2022-05-30T08:58:57.745Z"
      },
      {
        "duration": 2,
        "start_time": "2022-05-30T08:58:57.776Z"
      },
      {
        "duration": 5,
        "start_time": "2022-05-30T08:58:57.780Z"
      },
      {
        "duration": 54,
        "start_time": "2022-05-30T09:24:00.917Z"
      },
      {
        "duration": 3,
        "start_time": "2022-05-30T09:24:07.808Z"
      },
      {
        "duration": 165,
        "start_time": "2022-05-30T09:24:07.813Z"
      },
      {
        "duration": 28,
        "start_time": "2022-05-30T09:24:07.980Z"
      },
      {
        "duration": 74,
        "start_time": "2022-05-30T09:24:08.009Z"
      },
      {
        "duration": 17,
        "start_time": "2022-05-30T09:24:08.085Z"
      },
      {
        "duration": 17,
        "start_time": "2022-05-30T09:24:08.103Z"
      },
      {
        "duration": 56,
        "start_time": "2022-05-30T09:24:08.121Z"
      },
      {
        "duration": 2,
        "start_time": "2022-05-30T09:24:08.179Z"
      },
      {
        "duration": 5,
        "start_time": "2022-05-30T09:24:08.182Z"
      },
      {
        "duration": 8,
        "start_time": "2022-05-30T09:24:08.188Z"
      },
      {
        "duration": 8,
        "start_time": "2022-05-30T09:24:08.197Z"
      },
      {
        "duration": 9,
        "start_time": "2022-05-30T09:24:08.206Z"
      },
      {
        "duration": 9,
        "start_time": "2022-05-30T09:24:08.216Z"
      },
      {
        "duration": 9,
        "start_time": "2022-05-30T09:24:08.227Z"
      },
      {
        "duration": 5,
        "start_time": "2022-05-30T09:24:08.237Z"
      },
      {
        "duration": 5,
        "start_time": "2022-05-30T09:24:08.243Z"
      },
      {
        "duration": 7,
        "start_time": "2022-05-30T09:24:08.249Z"
      },
      {
        "duration": 7,
        "start_time": "2022-05-30T09:24:08.257Z"
      },
      {
        "duration": 3,
        "start_time": "2022-05-30T09:34:07.354Z"
      },
      {
        "duration": 124,
        "start_time": "2022-05-30T09:34:07.358Z"
      },
      {
        "duration": 26,
        "start_time": "2022-05-30T09:34:07.483Z"
      },
      {
        "duration": 76,
        "start_time": "2022-05-30T09:34:07.511Z"
      },
      {
        "duration": 15,
        "start_time": "2022-05-30T09:34:07.589Z"
      },
      {
        "duration": 15,
        "start_time": "2022-05-30T09:34:07.606Z"
      },
      {
        "duration": 52,
        "start_time": "2022-05-30T09:34:07.623Z"
      },
      {
        "duration": 2,
        "start_time": "2022-05-30T09:34:07.677Z"
      },
      {
        "duration": 5,
        "start_time": "2022-05-30T09:34:07.680Z"
      },
      {
        "duration": 5,
        "start_time": "2022-05-30T09:34:07.686Z"
      },
      {
        "duration": 5,
        "start_time": "2022-05-30T09:34:07.692Z"
      },
      {
        "duration": 5,
        "start_time": "2022-05-30T09:34:07.698Z"
      },
      {
        "duration": 5,
        "start_time": "2022-05-30T09:34:07.704Z"
      },
      {
        "duration": 7,
        "start_time": "2022-05-30T09:34:07.711Z"
      },
      {
        "duration": 4,
        "start_time": "2022-05-30T09:34:07.719Z"
      },
      {
        "duration": 7,
        "start_time": "2022-05-30T09:34:07.725Z"
      },
      {
        "duration": 7,
        "start_time": "2022-05-30T09:34:07.733Z"
      },
      {
        "duration": 7,
        "start_time": "2022-05-30T09:34:07.742Z"
      },
      {
        "duration": 2,
        "start_time": "2022-05-30T09:47:53.031Z"
      },
      {
        "duration": 129,
        "start_time": "2022-05-30T09:47:53.035Z"
      },
      {
        "duration": 25,
        "start_time": "2022-05-30T09:47:53.166Z"
      },
      {
        "duration": 58,
        "start_time": "2022-05-30T09:47:53.193Z"
      },
      {
        "duration": 35,
        "start_time": "2022-05-30T09:47:53.253Z"
      },
      {
        "duration": 15,
        "start_time": "2022-05-30T09:47:53.289Z"
      },
      {
        "duration": 30,
        "start_time": "2022-05-30T09:47:53.305Z"
      },
      {
        "duration": 2,
        "start_time": "2022-05-30T09:47:53.336Z"
      },
      {
        "duration": 4,
        "start_time": "2022-05-30T09:47:53.340Z"
      },
      {
        "duration": 30,
        "start_time": "2022-05-30T09:47:53.345Z"
      },
      {
        "duration": 2,
        "start_time": "2022-05-30T09:47:53.376Z"
      },
      {
        "duration": 4,
        "start_time": "2022-05-30T09:47:53.380Z"
      },
      {
        "duration": 5,
        "start_time": "2022-05-30T09:47:53.385Z"
      },
      {
        "duration": 4,
        "start_time": "2022-05-30T09:47:53.392Z"
      },
      {
        "duration": 4,
        "start_time": "2022-05-30T09:47:53.397Z"
      },
      {
        "duration": 4,
        "start_time": "2022-05-30T09:47:53.402Z"
      },
      {
        "duration": 5,
        "start_time": "2022-05-30T09:47:53.407Z"
      },
      {
        "duration": 4,
        "start_time": "2022-05-30T09:47:53.413Z"
      },
      {
        "duration": 7,
        "start_time": "2022-05-30T09:51:13.273Z"
      },
      {
        "duration": 10,
        "start_time": "2022-05-30T09:51:28.547Z"
      },
      {
        "duration": 17,
        "start_time": "2022-05-30T09:51:44.545Z"
      },
      {
        "duration": 13,
        "start_time": "2022-05-30T09:52:14.403Z"
      },
      {
        "duration": 17,
        "start_time": "2022-05-30T09:52:52.069Z"
      },
      {
        "duration": 17,
        "start_time": "2022-05-30T09:53:05.704Z"
      },
      {
        "duration": 2,
        "start_time": "2022-05-30T10:14:52.545Z"
      },
      {
        "duration": 126,
        "start_time": "2022-05-30T10:14:52.548Z"
      },
      {
        "duration": 25,
        "start_time": "2022-05-30T10:14:52.676Z"
      },
      {
        "duration": 85,
        "start_time": "2022-05-30T10:14:52.703Z"
      },
      {
        "duration": 20,
        "start_time": "2022-05-30T10:14:52.790Z"
      },
      {
        "duration": 20,
        "start_time": "2022-05-30T10:14:52.812Z"
      },
      {
        "duration": 72,
        "start_time": "2022-05-30T10:14:52.834Z"
      },
      {
        "duration": 19,
        "start_time": "2022-05-30T10:14:52.907Z"
      },
      {
        "duration": 14,
        "start_time": "2022-05-30T10:14:52.928Z"
      },
      {
        "duration": 81,
        "start_time": "2022-05-30T10:14:52.944Z"
      },
      {
        "duration": 3,
        "start_time": "2022-05-30T10:14:53.027Z"
      },
      {
        "duration": 7,
        "start_time": "2022-05-30T10:14:53.033Z"
      },
      {
        "duration": 11,
        "start_time": "2022-05-30T10:14:53.042Z"
      },
      {
        "duration": 6,
        "start_time": "2022-05-30T10:14:53.054Z"
      },
      {
        "duration": 13,
        "start_time": "2022-05-30T10:14:53.062Z"
      },
      {
        "duration": 2,
        "start_time": "2022-05-30T10:14:53.076Z"
      },
      {
        "duration": 5,
        "start_time": "2022-05-30T10:14:53.080Z"
      },
      {
        "duration": 5,
        "start_time": "2022-05-30T10:14:53.087Z"
      },
      {
        "duration": 4,
        "start_time": "2022-05-30T10:14:53.093Z"
      },
      {
        "duration": 38,
        "start_time": "2022-05-30T10:15:08.352Z"
      },
      {
        "duration": 3,
        "start_time": "2022-05-30T10:15:37.469Z"
      },
      {
        "duration": 124,
        "start_time": "2022-05-30T10:15:37.473Z"
      },
      {
        "duration": 27,
        "start_time": "2022-05-30T10:15:37.599Z"
      },
      {
        "duration": 78,
        "start_time": "2022-05-30T10:15:37.628Z"
      },
      {
        "duration": 18,
        "start_time": "2022-05-30T10:15:37.707Z"
      },
      {
        "duration": 16,
        "start_time": "2022-05-30T10:15:37.726Z"
      },
      {
        "duration": 59,
        "start_time": "2022-05-30T10:15:37.743Z"
      },
      {
        "duration": 15,
        "start_time": "2022-05-30T10:15:37.803Z"
      },
      {
        "duration": 55,
        "start_time": "2022-05-30T10:15:37.820Z"
      },
      {
        "duration": 3,
        "start_time": "2022-05-30T10:15:37.877Z"
      },
      {
        "duration": 4,
        "start_time": "2022-05-30T10:15:37.881Z"
      },
      {
        "duration": 5,
        "start_time": "2022-05-30T10:15:37.887Z"
      },
      {
        "duration": 6,
        "start_time": "2022-05-30T10:15:37.893Z"
      },
      {
        "duration": 8,
        "start_time": "2022-05-30T10:15:37.900Z"
      },
      {
        "duration": 3,
        "start_time": "2022-05-30T10:15:37.910Z"
      },
      {
        "duration": 6,
        "start_time": "2022-05-30T10:15:37.915Z"
      },
      {
        "duration": 5,
        "start_time": "2022-05-30T10:15:37.922Z"
      },
      {
        "duration": 4,
        "start_time": "2022-05-30T10:15:37.928Z"
      },
      {
        "duration": 4,
        "start_time": "2022-05-30T10:15:37.933Z"
      },
      {
        "duration": 34,
        "start_time": "2022-05-30T10:17:31.214Z"
      },
      {
        "duration": 31,
        "start_time": "2022-05-30T10:20:47.082Z"
      },
      {
        "duration": 13,
        "start_time": "2022-05-30T10:22:05.768Z"
      },
      {
        "duration": 12,
        "start_time": "2022-05-30T10:22:29.037Z"
      },
      {
        "duration": 25,
        "start_time": "2022-05-30T10:24:06.196Z"
      },
      {
        "duration": 30,
        "start_time": "2022-05-30T10:24:44.863Z"
      },
      {
        "duration": 2,
        "start_time": "2022-05-30T10:25:00.034Z"
      },
      {
        "duration": 128,
        "start_time": "2022-05-30T10:25:00.037Z"
      },
      {
        "duration": 25,
        "start_time": "2022-05-30T10:25:00.167Z"
      },
      {
        "duration": 66,
        "start_time": "2022-05-30T10:25:00.194Z"
      },
      {
        "duration": 16,
        "start_time": "2022-05-30T10:25:00.274Z"
      },
      {
        "duration": 16,
        "start_time": "2022-05-30T10:25:00.291Z"
      },
      {
        "duration": 29,
        "start_time": "2022-05-30T10:25:00.308Z"
      },
      {
        "duration": 43,
        "start_time": "2022-05-30T10:25:00.338Z"
      },
      {
        "duration": 30,
        "start_time": "2022-05-30T10:25:00.382Z"
      },
      {
        "duration": 26,
        "start_time": "2022-05-30T10:25:00.413Z"
      },
      {
        "duration": 2,
        "start_time": "2022-05-30T10:25:00.440Z"
      },
      {
        "duration": 13,
        "start_time": "2022-05-30T10:25:00.444Z"
      },
      {
        "duration": 17,
        "start_time": "2022-05-30T10:25:00.458Z"
      },
      {
        "duration": 11,
        "start_time": "2022-05-30T10:25:00.478Z"
      },
      {
        "duration": 21,
        "start_time": "2022-05-30T10:25:00.490Z"
      },
      {
        "duration": 16,
        "start_time": "2022-05-30T10:25:00.512Z"
      },
      {
        "duration": 13,
        "start_time": "2022-05-30T10:25:00.529Z"
      },
      {
        "duration": 15,
        "start_time": "2022-05-30T10:25:00.544Z"
      },
      {
        "duration": 12,
        "start_time": "2022-05-30T10:25:00.561Z"
      },
      {
        "duration": 2,
        "start_time": "2022-05-30T10:26:42.315Z"
      },
      {
        "duration": 121,
        "start_time": "2022-05-30T10:26:42.319Z"
      },
      {
        "duration": 39,
        "start_time": "2022-05-30T10:26:42.442Z"
      },
      {
        "duration": 0,
        "start_time": "2022-05-30T10:26:42.483Z"
      },
      {
        "duration": 0,
        "start_time": "2022-05-30T10:26:42.484Z"
      },
      {
        "duration": 0,
        "start_time": "2022-05-30T10:26:42.485Z"
      },
      {
        "duration": 0,
        "start_time": "2022-05-30T10:26:42.486Z"
      },
      {
        "duration": 0,
        "start_time": "2022-05-30T10:26:42.486Z"
      },
      {
        "duration": 0,
        "start_time": "2022-05-30T10:26:42.487Z"
      },
      {
        "duration": 0,
        "start_time": "2022-05-30T10:26:42.488Z"
      },
      {
        "duration": 0,
        "start_time": "2022-05-30T10:26:42.489Z"
      },
      {
        "duration": 0,
        "start_time": "2022-05-30T10:26:42.490Z"
      },
      {
        "duration": 1,
        "start_time": "2022-05-30T10:26:42.491Z"
      },
      {
        "duration": 0,
        "start_time": "2022-05-30T10:26:42.492Z"
      },
      {
        "duration": 0,
        "start_time": "2022-05-30T10:26:42.493Z"
      },
      {
        "duration": 0,
        "start_time": "2022-05-30T10:26:42.495Z"
      },
      {
        "duration": 0,
        "start_time": "2022-05-30T10:26:42.496Z"
      },
      {
        "duration": 0,
        "start_time": "2022-05-30T10:26:42.497Z"
      },
      {
        "duration": 0,
        "start_time": "2022-05-30T10:26:42.497Z"
      },
      {
        "duration": 26,
        "start_time": "2022-05-30T10:27:13.638Z"
      },
      {
        "duration": 3,
        "start_time": "2022-05-30T10:27:16.552Z"
      },
      {
        "duration": 124,
        "start_time": "2022-05-30T10:27:16.557Z"
      },
      {
        "duration": 29,
        "start_time": "2022-05-30T10:27:16.683Z"
      },
      {
        "duration": 77,
        "start_time": "2022-05-30T10:27:16.714Z"
      },
      {
        "duration": 17,
        "start_time": "2022-05-30T10:27:16.793Z"
      },
      {
        "duration": 16,
        "start_time": "2022-05-30T10:27:16.811Z"
      },
      {
        "duration": 56,
        "start_time": "2022-05-30T10:27:16.828Z"
      },
      {
        "duration": 15,
        "start_time": "2022-05-30T10:27:16.885Z"
      },
      {
        "duration": 28,
        "start_time": "2022-05-30T10:27:16.901Z"
      },
      {
        "duration": 53,
        "start_time": "2022-05-30T10:27:16.930Z"
      },
      {
        "duration": 2,
        "start_time": "2022-05-30T10:27:16.985Z"
      },
      {
        "duration": 4,
        "start_time": "2022-05-30T10:27:16.988Z"
      },
      {
        "duration": 4,
        "start_time": "2022-05-30T10:27:16.994Z"
      },
      {
        "duration": 4,
        "start_time": "2022-05-30T10:27:17.000Z"
      },
      {
        "duration": 5,
        "start_time": "2022-05-30T10:27:17.005Z"
      },
      {
        "duration": 3,
        "start_time": "2022-05-30T10:27:17.012Z"
      },
      {
        "duration": 5,
        "start_time": "2022-05-30T10:27:17.016Z"
      },
      {
        "duration": 4,
        "start_time": "2022-05-30T10:27:17.022Z"
      },
      {
        "duration": 5,
        "start_time": "2022-05-30T10:27:17.028Z"
      },
      {
        "duration": 2,
        "start_time": "2022-05-30T10:28:04.620Z"
      },
      {
        "duration": 134,
        "start_time": "2022-05-30T10:28:04.631Z"
      },
      {
        "duration": 26,
        "start_time": "2022-05-30T10:28:04.767Z"
      },
      {
        "duration": 54,
        "start_time": "2022-05-30T10:28:04.794Z"
      },
      {
        "duration": 34,
        "start_time": "2022-05-30T10:28:04.849Z"
      },
      {
        "duration": 15,
        "start_time": "2022-05-30T10:28:04.885Z"
      },
      {
        "duration": 38,
        "start_time": "2022-05-30T10:28:04.901Z"
      },
      {
        "duration": 3,
        "start_time": "2022-05-30T10:28:04.940Z"
      },
      {
        "duration": 34,
        "start_time": "2022-05-30T10:28:04.944Z"
      },
      {
        "duration": 28,
        "start_time": "2022-05-30T10:28:04.979Z"
      },
      {
        "duration": 23,
        "start_time": "2022-05-30T10:28:05.008Z"
      },
      {
        "duration": 2,
        "start_time": "2022-05-30T10:28:05.033Z"
      },
      {
        "duration": 12,
        "start_time": "2022-05-30T10:28:05.036Z"
      },
      {
        "duration": 20,
        "start_time": "2022-05-30T10:28:05.050Z"
      },
      {
        "duration": 13,
        "start_time": "2022-05-30T10:28:05.074Z"
      },
      {
        "duration": 15,
        "start_time": "2022-05-30T10:28:05.088Z"
      },
      {
        "duration": 20,
        "start_time": "2022-05-30T10:28:05.104Z"
      },
      {
        "duration": 15,
        "start_time": "2022-05-30T10:28:05.126Z"
      },
      {
        "duration": 16,
        "start_time": "2022-05-30T10:28:05.142Z"
      },
      {
        "duration": 13,
        "start_time": "2022-05-30T10:28:05.159Z"
      },
      {
        "duration": 13,
        "start_time": "2022-05-30T10:29:44.506Z"
      },
      {
        "duration": 3,
        "start_time": "2022-05-30T10:29:51.203Z"
      },
      {
        "duration": 118,
        "start_time": "2022-05-30T10:29:51.208Z"
      },
      {
        "duration": 27,
        "start_time": "2022-05-30T10:29:51.327Z"
      },
      {
        "duration": 58,
        "start_time": "2022-05-30T10:29:51.356Z"
      },
      {
        "duration": 18,
        "start_time": "2022-05-30T10:29:51.416Z"
      },
      {
        "duration": 45,
        "start_time": "2022-05-30T10:29:51.436Z"
      },
      {
        "duration": 33,
        "start_time": "2022-05-30T10:29:51.483Z"
      },
      {
        "duration": 3,
        "start_time": "2022-05-30T10:29:51.518Z"
      },
      {
        "duration": 17,
        "start_time": "2022-05-30T10:29:51.524Z"
      },
      {
        "duration": 56,
        "start_time": "2022-05-30T10:29:51.543Z"
      },
      {
        "duration": 28,
        "start_time": "2022-05-30T10:29:51.600Z"
      },
      {
        "duration": 2,
        "start_time": "2022-05-30T10:29:51.629Z"
      },
      {
        "duration": 7,
        "start_time": "2022-05-30T10:29:51.632Z"
      },
      {
        "duration": 5,
        "start_time": "2022-05-30T10:29:51.640Z"
      },
      {
        "duration": 28,
        "start_time": "2022-05-30T10:29:51.646Z"
      },
      {
        "duration": 5,
        "start_time": "2022-05-30T10:29:51.676Z"
      },
      {
        "duration": 9,
        "start_time": "2022-05-30T10:29:51.682Z"
      },
      {
        "duration": 6,
        "start_time": "2022-05-30T10:29:51.692Z"
      },
      {
        "duration": 7,
        "start_time": "2022-05-30T10:29:51.700Z"
      },
      {
        "duration": 7,
        "start_time": "2022-05-30T10:29:51.709Z"
      },
      {
        "duration": 2,
        "start_time": "2022-05-30T11:08:44.377Z"
      },
      {
        "duration": 131,
        "start_time": "2022-05-30T11:08:44.380Z"
      },
      {
        "duration": 26,
        "start_time": "2022-05-30T11:08:44.512Z"
      },
      {
        "duration": 10,
        "start_time": "2022-05-30T11:08:44.539Z"
      },
      {
        "duration": 72,
        "start_time": "2022-05-30T11:08:44.550Z"
      },
      {
        "duration": 16,
        "start_time": "2022-05-30T11:08:44.624Z"
      },
      {
        "duration": 39,
        "start_time": "2022-05-30T11:08:44.642Z"
      },
      {
        "duration": 32,
        "start_time": "2022-05-30T11:08:44.682Z"
      },
      {
        "duration": 3,
        "start_time": "2022-05-30T11:08:44.715Z"
      },
      {
        "duration": 19,
        "start_time": "2022-05-30T11:08:44.719Z"
      },
      {
        "duration": 61,
        "start_time": "2022-05-30T11:08:44.740Z"
      },
      {
        "duration": 29,
        "start_time": "2022-05-30T11:08:44.802Z"
      },
      {
        "duration": 2,
        "start_time": "2022-05-30T11:08:44.832Z"
      },
      {
        "duration": 14,
        "start_time": "2022-05-30T11:08:44.837Z"
      },
      {
        "duration": 8,
        "start_time": "2022-05-30T11:08:44.852Z"
      },
      {
        "duration": 13,
        "start_time": "2022-05-30T11:08:44.862Z"
      },
      {
        "duration": 7,
        "start_time": "2022-05-30T11:08:44.876Z"
      },
      {
        "duration": 6,
        "start_time": "2022-05-30T11:08:44.884Z"
      },
      {
        "duration": 5,
        "start_time": "2022-05-30T11:08:44.892Z"
      },
      {
        "duration": 8,
        "start_time": "2022-05-30T11:08:44.898Z"
      },
      {
        "duration": 4,
        "start_time": "2022-05-30T11:08:44.907Z"
      },
      {
        "duration": 14,
        "start_time": "2022-05-30T11:10:12.840Z"
      },
      {
        "duration": 2,
        "start_time": "2022-05-30T11:11:26.805Z"
      },
      {
        "duration": 119,
        "start_time": "2022-05-30T11:11:26.809Z"
      },
      {
        "duration": 25,
        "start_time": "2022-05-30T11:11:26.929Z"
      },
      {
        "duration": 9,
        "start_time": "2022-05-30T11:11:26.956Z"
      },
      {
        "duration": 55,
        "start_time": "2022-05-30T11:11:26.967Z"
      },
      {
        "duration": 16,
        "start_time": "2022-05-30T11:11:27.024Z"
      },
      {
        "duration": 35,
        "start_time": "2022-05-30T11:11:27.042Z"
      },
      {
        "duration": 31,
        "start_time": "2022-05-30T11:11:27.078Z"
      },
      {
        "duration": 3,
        "start_time": "2022-05-30T11:11:27.110Z"
      },
      {
        "duration": 17,
        "start_time": "2022-05-30T11:11:27.115Z"
      },
      {
        "duration": 59,
        "start_time": "2022-05-30T11:11:27.134Z"
      },
      {
        "duration": 27,
        "start_time": "2022-05-30T11:11:27.194Z"
      },
      {
        "duration": 18,
        "start_time": "2022-05-30T11:11:27.222Z"
      },
      {
        "duration": 2,
        "start_time": "2022-05-30T11:11:27.241Z"
      },
      {
        "duration": 4,
        "start_time": "2022-05-30T11:11:27.245Z"
      },
      {
        "duration": 25,
        "start_time": "2022-05-30T11:11:27.250Z"
      },
      {
        "duration": 4,
        "start_time": "2022-05-30T11:11:27.277Z"
      },
      {
        "duration": 5,
        "start_time": "2022-05-30T11:11:27.283Z"
      },
      {
        "duration": 4,
        "start_time": "2022-05-30T11:11:27.289Z"
      },
      {
        "duration": 7,
        "start_time": "2022-05-30T11:11:27.294Z"
      },
      {
        "duration": 6,
        "start_time": "2022-05-30T11:11:27.302Z"
      },
      {
        "duration": 6,
        "start_time": "2022-05-30T11:11:27.309Z"
      },
      {
        "duration": 2,
        "start_time": "2022-05-30T11:11:50.582Z"
      },
      {
        "duration": 171,
        "start_time": "2022-05-30T11:11:50.585Z"
      },
      {
        "duration": 26,
        "start_time": "2022-05-30T11:11:50.757Z"
      },
      {
        "duration": 23,
        "start_time": "2022-05-30T11:11:50.785Z"
      },
      {
        "duration": 80,
        "start_time": "2022-05-30T11:11:50.810Z"
      },
      {
        "duration": 17,
        "start_time": "2022-05-30T11:11:50.891Z"
      },
      {
        "duration": 39,
        "start_time": "2022-05-30T11:11:50.910Z"
      },
      {
        "duration": 69,
        "start_time": "2022-05-30T11:11:50.951Z"
      },
      {
        "duration": 3,
        "start_time": "2022-05-30T11:11:51.021Z"
      },
      {
        "duration": 52,
        "start_time": "2022-05-30T11:11:51.026Z"
      },
      {
        "duration": 61,
        "start_time": "2022-05-30T11:11:51.080Z"
      },
      {
        "duration": 33,
        "start_time": "2022-05-30T11:11:51.142Z"
      },
      {
        "duration": 72,
        "start_time": "2022-05-30T11:11:51.177Z"
      },
      {
        "duration": 11,
        "start_time": "2022-05-30T11:11:51.251Z"
      },
      {
        "duration": 40,
        "start_time": "2022-05-30T11:11:51.264Z"
      },
      {
        "duration": 41,
        "start_time": "2022-05-30T11:11:51.306Z"
      },
      {
        "duration": 36,
        "start_time": "2022-05-30T11:11:51.348Z"
      },
      {
        "duration": 37,
        "start_time": "2022-05-30T11:11:51.385Z"
      },
      {
        "duration": 42,
        "start_time": "2022-05-30T11:11:51.424Z"
      },
      {
        "duration": 52,
        "start_time": "2022-05-30T11:11:51.467Z"
      },
      {
        "duration": 40,
        "start_time": "2022-05-30T11:11:51.520Z"
      },
      {
        "duration": 24,
        "start_time": "2022-05-30T11:11:51.562Z"
      },
      {
        "duration": 32,
        "start_time": "2022-05-30T11:12:27.937Z"
      },
      {
        "duration": 681,
        "start_time": "2022-05-30T11:16:08.299Z"
      },
      {
        "duration": 117,
        "start_time": "2022-05-30T11:16:08.981Z"
      },
      {
        "duration": 26,
        "start_time": "2022-05-30T11:16:09.100Z"
      },
      {
        "duration": 10,
        "start_time": "2022-05-30T11:16:09.128Z"
      },
      {
        "duration": 75,
        "start_time": "2022-05-30T11:16:09.139Z"
      },
      {
        "duration": 18,
        "start_time": "2022-05-30T11:16:09.215Z"
      },
      {
        "duration": 42,
        "start_time": "2022-05-30T11:16:09.234Z"
      },
      {
        "duration": 34,
        "start_time": "2022-05-30T11:16:09.277Z"
      },
      {
        "duration": 3,
        "start_time": "2022-05-30T11:16:09.312Z"
      },
      {
        "duration": 25,
        "start_time": "2022-05-30T11:16:09.317Z"
      },
      {
        "duration": 54,
        "start_time": "2022-05-30T11:16:09.343Z"
      },
      {
        "duration": 23,
        "start_time": "2022-05-30T11:16:09.399Z"
      },
      {
        "duration": 53,
        "start_time": "2022-05-30T11:16:09.423Z"
      },
      {
        "duration": 281,
        "start_time": "2022-05-30T11:16:09.477Z"
      },
      {
        "duration": 4,
        "start_time": "2022-05-30T11:16:09.760Z"
      },
      {
        "duration": 6,
        "start_time": "2022-05-30T11:16:09.765Z"
      },
      {
        "duration": 6,
        "start_time": "2022-05-30T11:16:09.775Z"
      },
      {
        "duration": 4,
        "start_time": "2022-05-30T11:16:09.782Z"
      },
      {
        "duration": 4,
        "start_time": "2022-05-30T11:16:09.788Z"
      },
      {
        "duration": 6,
        "start_time": "2022-05-30T11:16:09.793Z"
      },
      {
        "duration": 6,
        "start_time": "2022-05-30T11:16:09.800Z"
      },
      {
        "duration": 7,
        "start_time": "2022-05-30T11:16:09.807Z"
      },
      {
        "duration": 5,
        "start_time": "2022-05-30T11:16:09.815Z"
      },
      {
        "duration": 3,
        "start_time": "2022-05-30T11:18:02.099Z"
      },
      {
        "duration": 232,
        "start_time": "2022-05-30T11:18:02.639Z"
      },
      {
        "duration": 2,
        "start_time": "2022-05-30T11:18:13.409Z"
      },
      {
        "duration": 119,
        "start_time": "2022-05-30T11:18:13.414Z"
      },
      {
        "duration": 41,
        "start_time": "2022-05-30T11:18:13.535Z"
      },
      {
        "duration": 10,
        "start_time": "2022-05-30T11:18:13.577Z"
      },
      {
        "duration": 91,
        "start_time": "2022-05-30T11:18:13.588Z"
      },
      {
        "duration": 17,
        "start_time": "2022-05-30T11:18:13.681Z"
      },
      {
        "duration": 17,
        "start_time": "2022-05-30T11:18:13.700Z"
      },
      {
        "duration": 73,
        "start_time": "2022-05-30T11:18:13.718Z"
      },
      {
        "duration": 3,
        "start_time": "2022-05-30T11:18:13.793Z"
      },
      {
        "duration": 17,
        "start_time": "2022-05-30T11:18:13.797Z"
      },
      {
        "duration": 90,
        "start_time": "2022-05-30T11:18:13.816Z"
      },
      {
        "duration": 19,
        "start_time": "2022-05-30T11:18:13.907Z"
      },
      {
        "duration": 64,
        "start_time": "2022-05-30T11:18:13.928Z"
      },
      {
        "duration": 3,
        "start_time": "2022-05-30T11:18:13.994Z"
      },
      {
        "duration": 212,
        "start_time": "2022-05-30T11:18:13.999Z"
      },
      {
        "duration": 2,
        "start_time": "2022-05-30T11:18:14.213Z"
      },
      {
        "duration": 8,
        "start_time": "2022-05-30T11:18:14.217Z"
      },
      {
        "duration": 5,
        "start_time": "2022-05-30T11:18:14.226Z"
      },
      {
        "duration": 4,
        "start_time": "2022-05-30T11:18:14.233Z"
      },
      {
        "duration": 5,
        "start_time": "2022-05-30T11:18:14.238Z"
      },
      {
        "duration": 6,
        "start_time": "2022-05-30T11:18:14.244Z"
      },
      {
        "duration": 6,
        "start_time": "2022-05-30T11:18:14.251Z"
      },
      {
        "duration": 4,
        "start_time": "2022-05-30T11:18:14.259Z"
      },
      {
        "duration": 12,
        "start_time": "2022-05-30T11:18:14.264Z"
      },
      {
        "duration": 3,
        "start_time": "2022-05-30T11:19:15.345Z"
      },
      {
        "duration": 119,
        "start_time": "2022-05-30T11:19:15.350Z"
      },
      {
        "duration": 27,
        "start_time": "2022-05-30T11:19:15.470Z"
      },
      {
        "duration": 10,
        "start_time": "2022-05-30T11:19:15.498Z"
      },
      {
        "duration": 69,
        "start_time": "2022-05-30T11:19:15.510Z"
      },
      {
        "duration": 17,
        "start_time": "2022-05-30T11:19:15.581Z"
      },
      {
        "duration": 16,
        "start_time": "2022-05-30T11:19:15.600Z"
      },
      {
        "duration": 63,
        "start_time": "2022-05-30T11:19:15.618Z"
      },
      {
        "duration": 4,
        "start_time": "2022-05-30T11:19:15.682Z"
      },
      {
        "duration": 19,
        "start_time": "2022-05-30T11:19:15.687Z"
      },
      {
        "duration": 31,
        "start_time": "2022-05-30T11:19:15.708Z"
      },
      {
        "duration": 46,
        "start_time": "2022-05-30T11:19:15.741Z"
      },
      {
        "duration": 29,
        "start_time": "2022-05-30T11:19:15.788Z"
      },
      {
        "duration": 3,
        "start_time": "2022-05-30T11:19:15.819Z"
      },
      {
        "duration": 282,
        "start_time": "2022-05-30T11:19:15.823Z"
      },
      {
        "duration": 2,
        "start_time": "2022-05-30T11:19:16.106Z"
      },
      {
        "duration": 7,
        "start_time": "2022-05-30T11:19:16.110Z"
      },
      {
        "duration": 4,
        "start_time": "2022-05-30T11:19:16.119Z"
      },
      {
        "duration": 3,
        "start_time": "2022-05-30T11:19:16.125Z"
      },
      {
        "duration": 4,
        "start_time": "2022-05-30T11:19:16.130Z"
      },
      {
        "duration": 4,
        "start_time": "2022-05-30T11:19:16.136Z"
      },
      {
        "duration": 5,
        "start_time": "2022-05-30T11:19:16.141Z"
      },
      {
        "duration": 5,
        "start_time": "2022-05-30T11:19:16.147Z"
      },
      {
        "duration": 5,
        "start_time": "2022-05-30T11:19:16.153Z"
      },
      {
        "duration": 9,
        "start_time": "2022-05-30T11:20:01.500Z"
      },
      {
        "duration": 242,
        "start_time": "2022-05-30T11:20:59.709Z"
      },
      {
        "duration": 211,
        "start_time": "2022-05-30T11:21:10.677Z"
      },
      {
        "duration": 193,
        "start_time": "2022-05-30T11:21:19.335Z"
      },
      {
        "duration": 222,
        "start_time": "2022-05-30T11:21:28.575Z"
      },
      {
        "duration": 196,
        "start_time": "2022-05-30T11:21:38.740Z"
      },
      {
        "duration": 302,
        "start_time": "2022-05-30T11:22:14.736Z"
      },
      {
        "duration": 249,
        "start_time": "2022-05-30T11:23:11.311Z"
      },
      {
        "duration": 218,
        "start_time": "2022-05-30T11:29:05.754Z"
      },
      {
        "duration": 190,
        "start_time": "2022-05-30T11:29:17.300Z"
      },
      {
        "duration": 109,
        "start_time": "2022-05-30T11:29:24.882Z"
      },
      {
        "duration": 100,
        "start_time": "2022-05-30T11:29:32.943Z"
      },
      {
        "duration": 123,
        "start_time": "2022-05-30T11:29:44.683Z"
      },
      {
        "duration": 198,
        "start_time": "2022-05-30T11:30:20.671Z"
      },
      {
        "duration": 109,
        "start_time": "2022-05-30T11:30:29.390Z"
      },
      {
        "duration": 120,
        "start_time": "2022-05-30T11:30:38.034Z"
      },
      {
        "duration": 119,
        "start_time": "2022-05-30T11:30:44.690Z"
      },
      {
        "duration": 221,
        "start_time": "2022-05-30T11:35:27.778Z"
      },
      {
        "duration": 210,
        "start_time": "2022-05-30T11:35:36.609Z"
      },
      {
        "duration": 200,
        "start_time": "2022-05-30T11:35:44.923Z"
      },
      {
        "duration": 268,
        "start_time": "2022-05-30T11:35:53.360Z"
      },
      {
        "duration": 209,
        "start_time": "2022-05-30T11:36:01.966Z"
      },
      {
        "duration": 197,
        "start_time": "2022-05-30T11:38:35.789Z"
      },
      {
        "duration": 3,
        "start_time": "2022-05-30T11:42:09.156Z"
      },
      {
        "duration": 121,
        "start_time": "2022-05-30T11:42:09.160Z"
      },
      {
        "duration": 26,
        "start_time": "2022-05-30T11:42:09.282Z"
      },
      {
        "duration": 9,
        "start_time": "2022-05-30T11:42:09.310Z"
      },
      {
        "duration": 77,
        "start_time": "2022-05-30T11:42:09.321Z"
      },
      {
        "duration": 17,
        "start_time": "2022-05-30T11:42:09.400Z"
      },
      {
        "duration": 17,
        "start_time": "2022-05-30T11:42:09.419Z"
      },
      {
        "duration": 55,
        "start_time": "2022-05-30T11:42:09.438Z"
      },
      {
        "duration": 3,
        "start_time": "2022-05-30T11:42:09.495Z"
      },
      {
        "duration": 18,
        "start_time": "2022-05-30T11:42:09.500Z"
      },
      {
        "duration": 56,
        "start_time": "2022-05-30T11:42:09.520Z"
      },
      {
        "duration": 19,
        "start_time": "2022-05-30T11:42:09.578Z"
      },
      {
        "duration": 29,
        "start_time": "2022-05-30T11:42:09.600Z"
      },
      {
        "duration": 8,
        "start_time": "2022-05-30T11:42:09.630Z"
      },
      {
        "duration": 41,
        "start_time": "2022-05-30T11:42:09.639Z"
      },
      {
        "duration": 2,
        "start_time": "2022-05-30T11:42:09.682Z"
      },
      {
        "duration": 238,
        "start_time": "2022-05-30T11:42:09.686Z"
      },
      {
        "duration": 230,
        "start_time": "2022-05-30T11:42:09.925Z"
      },
      {
        "duration": 126,
        "start_time": "2022-05-30T11:42:10.156Z"
      },
      {
        "duration": 2,
        "start_time": "2022-05-30T11:42:10.284Z"
      },
      {
        "duration": 7,
        "start_time": "2022-05-30T11:42:10.287Z"
      },
      {
        "duration": 8,
        "start_time": "2022-05-30T11:42:10.295Z"
      },
      {
        "duration": 5,
        "start_time": "2022-05-30T11:42:10.305Z"
      },
      {
        "duration": 6,
        "start_time": "2022-05-30T11:42:10.311Z"
      },
      {
        "duration": 5,
        "start_time": "2022-05-30T11:42:10.318Z"
      },
      {
        "duration": 6,
        "start_time": "2022-05-30T11:42:10.324Z"
      },
      {
        "duration": 5,
        "start_time": "2022-05-30T11:42:10.331Z"
      },
      {
        "duration": 18,
        "start_time": "2022-05-30T11:42:51.156Z"
      },
      {
        "duration": 7,
        "start_time": "2022-05-30T11:43:10.059Z"
      },
      {
        "duration": 2,
        "start_time": "2022-05-30T11:43:10.673Z"
      },
      {
        "duration": 280,
        "start_time": "2022-05-30T11:43:11.152Z"
      },
      {
        "duration": 205,
        "start_time": "2022-05-30T11:43:11.664Z"
      },
      {
        "duration": 121,
        "start_time": "2022-05-30T11:43:12.157Z"
      },
      {
        "duration": 27,
        "start_time": "2022-05-30T11:44:08.365Z"
      },
      {
        "duration": 211,
        "start_time": "2022-05-30T11:46:57.577Z"
      },
      {
        "duration": 3,
        "start_time": "2022-05-30T12:03:28.282Z"
      },
      {
        "duration": 128,
        "start_time": "2022-05-30T12:03:28.287Z"
      },
      {
        "duration": 28,
        "start_time": "2022-05-30T12:03:28.416Z"
      },
      {
        "duration": 11,
        "start_time": "2022-05-30T12:03:28.445Z"
      },
      {
        "duration": 68,
        "start_time": "2022-05-30T12:03:28.458Z"
      },
      {
        "duration": 16,
        "start_time": "2022-05-30T12:03:28.528Z"
      },
      {
        "duration": 37,
        "start_time": "2022-05-30T12:03:28.546Z"
      },
      {
        "duration": 32,
        "start_time": "2022-05-30T12:03:28.585Z"
      },
      {
        "duration": 3,
        "start_time": "2022-05-30T12:03:28.618Z"
      },
      {
        "duration": 21,
        "start_time": "2022-05-30T12:03:28.622Z"
      },
      {
        "duration": 55,
        "start_time": "2022-05-30T12:03:28.644Z"
      },
      {
        "duration": 18,
        "start_time": "2022-05-30T12:03:28.700Z"
      },
      {
        "duration": 36,
        "start_time": "2022-05-30T12:03:28.720Z"
      },
      {
        "duration": 8,
        "start_time": "2022-05-30T12:03:28.775Z"
      },
      {
        "duration": 29,
        "start_time": "2022-05-30T12:03:28.785Z"
      },
      {
        "duration": 2,
        "start_time": "2022-05-30T12:03:28.816Z"
      },
      {
        "duration": 236,
        "start_time": "2022-05-30T12:03:28.819Z"
      },
      {
        "duration": 197,
        "start_time": "2022-05-30T12:03:29.056Z"
      },
      {
        "duration": 132,
        "start_time": "2022-05-30T12:03:29.254Z"
      },
      {
        "duration": 2,
        "start_time": "2022-05-30T12:03:29.387Z"
      },
      {
        "duration": 8,
        "start_time": "2022-05-30T12:03:29.390Z"
      },
      {
        "duration": 5,
        "start_time": "2022-05-30T12:03:29.400Z"
      },
      {
        "duration": 5,
        "start_time": "2022-05-30T12:03:29.406Z"
      },
      {
        "duration": 8,
        "start_time": "2022-05-30T12:03:29.413Z"
      },
      {
        "duration": 8,
        "start_time": "2022-05-30T12:03:29.422Z"
      },
      {
        "duration": 4,
        "start_time": "2022-05-30T12:03:29.432Z"
      },
      {
        "duration": 9,
        "start_time": "2022-05-30T12:03:29.438Z"
      },
      {
        "duration": 10,
        "start_time": "2022-05-30T12:10:30.039Z"
      },
      {
        "duration": 14,
        "start_time": "2022-05-30T12:10:54.976Z"
      },
      {
        "duration": 16,
        "start_time": "2022-05-30T12:11:24.206Z"
      },
      {
        "duration": 12,
        "start_time": "2022-05-30T12:13:44.448Z"
      },
      {
        "duration": 22,
        "start_time": "2022-05-30T12:14:15.985Z"
      },
      {
        "duration": 16,
        "start_time": "2022-05-30T12:14:24.752Z"
      },
      {
        "duration": 25,
        "start_time": "2022-05-30T12:16:18.818Z"
      },
      {
        "duration": 17,
        "start_time": "2022-05-30T12:20:57.980Z"
      },
      {
        "duration": 17,
        "start_time": "2022-05-30T12:21:22.280Z"
      },
      {
        "duration": 17,
        "start_time": "2022-05-30T12:21:40.967Z"
      },
      {
        "duration": 2,
        "start_time": "2022-05-30T12:22:22.719Z"
      },
      {
        "duration": 228,
        "start_time": "2022-05-30T12:22:22.723Z"
      },
      {
        "duration": 40,
        "start_time": "2022-05-30T12:22:22.953Z"
      },
      {
        "duration": 11,
        "start_time": "2022-05-30T12:22:22.994Z"
      },
      {
        "duration": 75,
        "start_time": "2022-05-30T12:22:23.006Z"
      },
      {
        "duration": 18,
        "start_time": "2022-05-30T12:22:23.083Z"
      },
      {
        "duration": 19,
        "start_time": "2022-05-30T12:22:23.102Z"
      },
      {
        "duration": 55,
        "start_time": "2022-05-30T12:22:23.123Z"
      },
      {
        "duration": 3,
        "start_time": "2022-05-30T12:22:23.181Z"
      },
      {
        "duration": 18,
        "start_time": "2022-05-30T12:22:23.186Z"
      },
      {
        "duration": 31,
        "start_time": "2022-05-30T12:22:23.206Z"
      },
      {
        "duration": 50,
        "start_time": "2022-05-30T12:22:23.239Z"
      },
      {
        "duration": 30,
        "start_time": "2022-05-30T12:22:23.291Z"
      },
      {
        "duration": 7,
        "start_time": "2022-05-30T12:22:23.322Z"
      },
      {
        "duration": 57,
        "start_time": "2022-05-30T12:22:23.330Z"
      },
      {
        "duration": 2,
        "start_time": "2022-05-30T12:22:23.388Z"
      },
      {
        "duration": 228,
        "start_time": "2022-05-30T12:22:23.392Z"
      },
      {
        "duration": 208,
        "start_time": "2022-05-30T12:22:23.622Z"
      },
      {
        "duration": 127,
        "start_time": "2022-05-30T12:22:23.832Z"
      },
      {
        "duration": 34,
        "start_time": "2022-05-30T12:22:23.961Z"
      },
      {
        "duration": 16,
        "start_time": "2022-05-30T12:22:23.997Z"
      },
      {
        "duration": 3,
        "start_time": "2022-05-30T12:22:24.014Z"
      },
      {
        "duration": 4,
        "start_time": "2022-05-30T12:22:24.018Z"
      },
      {
        "duration": 4,
        "start_time": "2022-05-30T12:22:24.024Z"
      },
      {
        "duration": 4,
        "start_time": "2022-05-30T12:22:24.029Z"
      },
      {
        "duration": 4,
        "start_time": "2022-05-30T12:22:24.035Z"
      },
      {
        "duration": 5,
        "start_time": "2022-05-30T12:22:24.040Z"
      },
      {
        "duration": 29,
        "start_time": "2022-05-30T12:22:24.046Z"
      },
      {
        "duration": 6,
        "start_time": "2022-05-30T12:22:24.076Z"
      },
      {
        "duration": 21,
        "start_time": "2022-05-30T12:22:48.581Z"
      },
      {
        "duration": 15,
        "start_time": "2022-05-30T12:22:49.525Z"
      },
      {
        "duration": 677,
        "start_time": "2022-05-30T12:25:42.369Z"
      },
      {
        "duration": 127,
        "start_time": "2022-05-30T12:25:43.048Z"
      },
      {
        "duration": 27,
        "start_time": "2022-05-30T12:25:43.176Z"
      },
      {
        "duration": 11,
        "start_time": "2022-05-30T12:25:43.205Z"
      },
      {
        "duration": 82,
        "start_time": "2022-05-30T12:25:43.217Z"
      },
      {
        "duration": 19,
        "start_time": "2022-05-30T12:25:43.301Z"
      },
      {
        "duration": 17,
        "start_time": "2022-05-30T12:25:43.321Z"
      },
      {
        "duration": 62,
        "start_time": "2022-05-30T12:25:43.339Z"
      },
      {
        "duration": 3,
        "start_time": "2022-05-30T12:25:43.402Z"
      },
      {
        "duration": 16,
        "start_time": "2022-05-30T12:25:43.407Z"
      },
      {
        "duration": 55,
        "start_time": "2022-05-30T12:25:43.424Z"
      },
      {
        "duration": 21,
        "start_time": "2022-05-30T12:25:43.481Z"
      },
      {
        "duration": 34,
        "start_time": "2022-05-30T12:25:43.503Z"
      },
      {
        "duration": 36,
        "start_time": "2022-05-30T12:25:43.539Z"
      },
      {
        "duration": 37,
        "start_time": "2022-05-30T12:25:43.577Z"
      },
      {
        "duration": 274,
        "start_time": "2022-05-30T12:25:43.616Z"
      },
      {
        "duration": 235,
        "start_time": "2022-05-30T12:25:43.891Z"
      },
      {
        "duration": 157,
        "start_time": "2022-05-30T12:25:44.128Z"
      },
      {
        "duration": 23,
        "start_time": "2022-05-30T12:25:44.287Z"
      },
      {
        "duration": 16,
        "start_time": "2022-05-30T12:25:44.312Z"
      },
      {
        "duration": 3,
        "start_time": "2022-05-30T12:25:44.329Z"
      },
      {
        "duration": 3,
        "start_time": "2022-05-30T12:25:44.334Z"
      },
      {
        "duration": 4,
        "start_time": "2022-05-30T12:25:44.339Z"
      },
      {
        "duration": 5,
        "start_time": "2022-05-30T12:25:44.375Z"
      },
      {
        "duration": 4,
        "start_time": "2022-05-30T12:25:44.382Z"
      },
      {
        "duration": 5,
        "start_time": "2022-05-30T12:25:44.387Z"
      },
      {
        "duration": 4,
        "start_time": "2022-05-30T12:25:44.393Z"
      },
      {
        "duration": 6,
        "start_time": "2022-05-30T12:25:44.400Z"
      },
      {
        "duration": 14,
        "start_time": "2022-05-30T12:35:43.874Z"
      },
      {
        "duration": 3,
        "start_time": "2022-05-30T12:35:49.635Z"
      },
      {
        "duration": 125,
        "start_time": "2022-05-30T12:35:49.639Z"
      },
      {
        "duration": 27,
        "start_time": "2022-05-30T12:35:49.765Z"
      },
      {
        "duration": 9,
        "start_time": "2022-05-30T12:35:49.793Z"
      },
      {
        "duration": 75,
        "start_time": "2022-05-30T12:35:49.804Z"
      },
      {
        "duration": 18,
        "start_time": "2022-05-30T12:35:49.880Z"
      },
      {
        "duration": 18,
        "start_time": "2022-05-30T12:35:49.900Z"
      },
      {
        "duration": 61,
        "start_time": "2022-05-30T12:35:49.919Z"
      },
      {
        "duration": 3,
        "start_time": "2022-05-30T12:35:49.982Z"
      },
      {
        "duration": 21,
        "start_time": "2022-05-30T12:35:49.987Z"
      },
      {
        "duration": 29,
        "start_time": "2022-05-30T12:35:50.010Z"
      },
      {
        "duration": 50,
        "start_time": "2022-05-30T12:35:50.040Z"
      },
      {
        "duration": 45,
        "start_time": "2022-05-30T12:35:50.091Z"
      },
      {
        "duration": 10,
        "start_time": "2022-05-30T12:35:50.138Z"
      },
      {
        "duration": 69,
        "start_time": "2022-05-30T12:35:50.149Z"
      },
      {
        "duration": 249,
        "start_time": "2022-05-30T12:35:50.220Z"
      },
      {
        "duration": 280,
        "start_time": "2022-05-30T12:35:50.474Z"
      },
      {
        "duration": 130,
        "start_time": "2022-05-30T12:35:50.755Z"
      },
      {
        "duration": 22,
        "start_time": "2022-05-30T12:35:50.887Z"
      },
      {
        "duration": 16,
        "start_time": "2022-05-30T12:35:50.910Z"
      },
      {
        "duration": 2,
        "start_time": "2022-05-30T12:35:50.928Z"
      },
      {
        "duration": 5,
        "start_time": "2022-05-30T12:35:50.931Z"
      },
      {
        "duration": 3,
        "start_time": "2022-05-30T12:35:50.938Z"
      },
      {
        "duration": 34,
        "start_time": "2022-05-30T12:35:50.942Z"
      },
      {
        "duration": 5,
        "start_time": "2022-05-30T12:35:50.977Z"
      },
      {
        "duration": 4,
        "start_time": "2022-05-30T12:35:50.984Z"
      },
      {
        "duration": 4,
        "start_time": "2022-05-30T12:35:50.990Z"
      },
      {
        "duration": 4,
        "start_time": "2022-05-30T12:35:50.996Z"
      },
      {
        "duration": 15,
        "start_time": "2022-05-30T12:36:13.111Z"
      },
      {
        "duration": 16,
        "start_time": "2022-05-30T12:36:20.078Z"
      },
      {
        "duration": 2,
        "start_time": "2022-05-30T12:36:39.271Z"
      },
      {
        "duration": 119,
        "start_time": "2022-05-30T12:36:39.275Z"
      },
      {
        "duration": 26,
        "start_time": "2022-05-30T12:36:39.395Z"
      },
      {
        "duration": 9,
        "start_time": "2022-05-30T12:36:39.422Z"
      },
      {
        "duration": 76,
        "start_time": "2022-05-30T12:36:39.433Z"
      },
      {
        "duration": 17,
        "start_time": "2022-05-30T12:36:39.511Z"
      },
      {
        "duration": 16,
        "start_time": "2022-05-30T12:36:39.529Z"
      },
      {
        "duration": 54,
        "start_time": "2022-05-30T12:36:39.546Z"
      },
      {
        "duration": 3,
        "start_time": "2022-05-30T12:36:39.601Z"
      },
      {
        "duration": 18,
        "start_time": "2022-05-30T12:36:39.606Z"
      },
      {
        "duration": 56,
        "start_time": "2022-05-30T12:36:39.626Z"
      },
      {
        "duration": 20,
        "start_time": "2022-05-30T12:36:39.684Z"
      },
      {
        "duration": 30,
        "start_time": "2022-05-30T12:36:39.705Z"
      },
      {
        "duration": 7,
        "start_time": "2022-05-30T12:36:39.737Z"
      },
      {
        "duration": 56,
        "start_time": "2022-05-30T12:36:39.745Z"
      },
      {
        "duration": 230,
        "start_time": "2022-05-30T12:36:39.803Z"
      },
      {
        "duration": 208,
        "start_time": "2022-05-30T12:36:40.035Z"
      },
      {
        "duration": 127,
        "start_time": "2022-05-30T12:36:40.245Z"
      },
      {
        "duration": 22,
        "start_time": "2022-05-30T12:36:40.374Z"
      },
      {
        "duration": 15,
        "start_time": "2022-05-30T12:36:40.398Z"
      },
      {
        "duration": 3,
        "start_time": "2022-05-30T12:36:40.414Z"
      },
      {
        "duration": 4,
        "start_time": "2022-05-30T12:36:40.418Z"
      },
      {
        "duration": 9,
        "start_time": "2022-05-30T12:36:40.424Z"
      },
      {
        "duration": 5,
        "start_time": "2022-05-30T12:36:40.435Z"
      },
      {
        "duration": 4,
        "start_time": "2022-05-30T12:36:40.442Z"
      },
      {
        "duration": 5,
        "start_time": "2022-05-30T12:36:40.447Z"
      },
      {
        "duration": 2,
        "start_time": "2022-05-30T12:36:40.474Z"
      },
      {
        "duration": 3,
        "start_time": "2022-05-30T12:36:40.479Z"
      },
      {
        "duration": 15,
        "start_time": "2022-05-30T12:37:24.649Z"
      },
      {
        "duration": 21,
        "start_time": "2022-05-30T12:37:35.778Z"
      },
      {
        "duration": 3,
        "start_time": "2022-05-30T12:37:43.678Z"
      },
      {
        "duration": 137,
        "start_time": "2022-05-30T12:37:43.683Z"
      },
      {
        "duration": 28,
        "start_time": "2022-05-30T12:37:43.822Z"
      },
      {
        "duration": 16,
        "start_time": "2022-05-30T12:37:43.852Z"
      },
      {
        "duration": 64,
        "start_time": "2022-05-30T12:37:43.870Z"
      },
      {
        "duration": 20,
        "start_time": "2022-05-30T12:37:43.935Z"
      },
      {
        "duration": 18,
        "start_time": "2022-05-30T12:37:43.974Z"
      },
      {
        "duration": 34,
        "start_time": "2022-05-30T12:37:43.993Z"
      },
      {
        "duration": 3,
        "start_time": "2022-05-30T12:37:44.029Z"
      },
      {
        "duration": 45,
        "start_time": "2022-05-30T12:37:44.035Z"
      },
      {
        "duration": 31,
        "start_time": "2022-05-30T12:37:44.081Z"
      },
      {
        "duration": 20,
        "start_time": "2022-05-30T12:37:44.114Z"
      },
      {
        "duration": 54,
        "start_time": "2022-05-30T12:37:44.135Z"
      },
      {
        "duration": 8,
        "start_time": "2022-05-30T12:37:44.191Z"
      },
      {
        "duration": 43,
        "start_time": "2022-05-30T12:37:44.200Z"
      },
      {
        "duration": 280,
        "start_time": "2022-05-30T12:37:44.245Z"
      },
      {
        "duration": 229,
        "start_time": "2022-05-30T12:37:44.527Z"
      },
      {
        "duration": 220,
        "start_time": "2022-05-30T12:37:44.757Z"
      },
      {
        "duration": 19,
        "start_time": "2022-05-30T12:37:44.979Z"
      },
      {
        "duration": 14,
        "start_time": "2022-05-30T12:37:45.000Z"
      },
      {
        "duration": 2,
        "start_time": "2022-05-30T12:37:45.015Z"
      },
      {
        "duration": 11,
        "start_time": "2022-05-30T12:37:45.018Z"
      },
      {
        "duration": 6,
        "start_time": "2022-05-30T12:37:45.031Z"
      },
      {
        "duration": 6,
        "start_time": "2022-05-30T12:37:45.038Z"
      },
      {
        "duration": 11,
        "start_time": "2022-05-30T12:37:45.045Z"
      },
      {
        "duration": 5,
        "start_time": "2022-05-30T12:37:45.058Z"
      },
      {
        "duration": 11,
        "start_time": "2022-05-30T12:37:45.064Z"
      },
      {
        "duration": 4,
        "start_time": "2022-05-30T12:37:45.077Z"
      },
      {
        "duration": 984,
        "start_time": "2022-05-30T20:03:12.492Z"
      },
      {
        "duration": 262,
        "start_time": "2022-05-30T20:03:13.479Z"
      },
      {
        "duration": 28,
        "start_time": "2022-05-30T20:03:13.743Z"
      },
      {
        "duration": 11,
        "start_time": "2022-05-30T20:03:13.773Z"
      },
      {
        "duration": 86,
        "start_time": "2022-05-30T20:03:13.785Z"
      },
      {
        "duration": 24,
        "start_time": "2022-05-30T20:03:13.873Z"
      },
      {
        "duration": 48,
        "start_time": "2022-05-30T20:03:13.899Z"
      },
      {
        "duration": 36,
        "start_time": "2022-05-30T20:03:13.949Z"
      },
      {
        "duration": 3,
        "start_time": "2022-05-30T20:03:13.987Z"
      },
      {
        "duration": 35,
        "start_time": "2022-05-30T20:03:13.992Z"
      },
      {
        "duration": 39,
        "start_time": "2022-05-30T20:03:14.029Z"
      },
      {
        "duration": 20,
        "start_time": "2022-05-30T20:03:14.070Z"
      },
      {
        "duration": 61,
        "start_time": "2022-05-30T20:03:14.092Z"
      },
      {
        "duration": 8,
        "start_time": "2022-05-30T20:03:14.154Z"
      },
      {
        "duration": 36,
        "start_time": "2022-05-30T20:03:14.163Z"
      },
      {
        "duration": 312,
        "start_time": "2022-05-30T20:03:14.201Z"
      },
      {
        "duration": 255,
        "start_time": "2022-05-30T20:03:14.515Z"
      },
      {
        "duration": 149,
        "start_time": "2022-05-30T20:03:14.771Z"
      },
      {
        "duration": 25,
        "start_time": "2022-05-30T20:03:19.192Z"
      },
      {
        "duration": 31,
        "start_time": "2022-05-30T20:03:25.999Z"
      },
      {
        "duration": 692,
        "start_time": "2022-05-30T20:32:08.556Z"
      },
      {
        "duration": 7,
        "start_time": "2022-05-30T20:32:46.444Z"
      },
      {
        "duration": 204,
        "start_time": "2022-05-30T20:32:46.453Z"
      },
      {
        "duration": 44,
        "start_time": "2022-05-30T20:32:46.660Z"
      },
      {
        "duration": 12,
        "start_time": "2022-05-30T20:32:46.706Z"
      },
      {
        "duration": 168,
        "start_time": "2022-05-30T20:32:46.728Z"
      },
      {
        "duration": 20,
        "start_time": "2022-05-30T20:32:46.898Z"
      },
      {
        "duration": 34,
        "start_time": "2022-05-30T20:32:46.920Z"
      },
      {
        "duration": 79,
        "start_time": "2022-05-30T20:32:46.957Z"
      },
      {
        "duration": 7,
        "start_time": "2022-05-30T20:32:47.041Z"
      },
      {
        "duration": 51,
        "start_time": "2022-05-30T20:32:47.051Z"
      },
      {
        "duration": 50,
        "start_time": "2022-05-30T20:32:47.104Z"
      },
      {
        "duration": 30,
        "start_time": "2022-05-30T20:32:47.156Z"
      },
      {
        "duration": 75,
        "start_time": "2022-05-30T20:32:47.188Z"
      },
      {
        "duration": 9,
        "start_time": "2022-05-30T20:32:47.265Z"
      },
      {
        "duration": 38,
        "start_time": "2022-05-30T20:32:47.276Z"
      },
      {
        "duration": 303,
        "start_time": "2022-05-30T20:32:47.316Z"
      },
      {
        "duration": 400,
        "start_time": "2022-05-30T20:32:47.626Z"
      },
      {
        "duration": 183,
        "start_time": "2022-05-30T20:32:48.032Z"
      },
      {
        "duration": 57,
        "start_time": "2022-05-30T20:32:48.217Z"
      },
      {
        "duration": 27,
        "start_time": "2022-05-30T20:32:48.275Z"
      },
      {
        "duration": 29,
        "start_time": "2022-05-30T20:32:50.158Z"
      },
      {
        "duration": 640,
        "start_time": "2022-05-30T20:32:52.246Z"
      },
      {
        "duration": 4,
        "start_time": "2022-05-30T20:35:12.573Z"
      },
      {
        "duration": 262,
        "start_time": "2022-05-30T20:35:12.581Z"
      },
      {
        "duration": 64,
        "start_time": "2022-05-30T20:35:12.854Z"
      },
      {
        "duration": 26,
        "start_time": "2022-05-30T20:35:12.920Z"
      },
      {
        "duration": 199,
        "start_time": "2022-05-30T20:35:12.949Z"
      },
      {
        "duration": 37,
        "start_time": "2022-05-30T20:35:13.149Z"
      },
      {
        "duration": 100,
        "start_time": "2022-05-30T20:35:13.188Z"
      },
      {
        "duration": 70,
        "start_time": "2022-05-30T20:35:13.289Z"
      },
      {
        "duration": 7,
        "start_time": "2022-05-30T20:35:13.372Z"
      },
      {
        "duration": 36,
        "start_time": "2022-05-30T20:35:13.384Z"
      },
      {
        "duration": 103,
        "start_time": "2022-05-30T20:35:13.422Z"
      },
      {
        "duration": 40,
        "start_time": "2022-05-30T20:35:13.534Z"
      },
      {
        "duration": 67,
        "start_time": "2022-05-30T20:35:13.577Z"
      },
      {
        "duration": 15,
        "start_time": "2022-05-30T20:35:13.649Z"
      },
      {
        "duration": 72,
        "start_time": "2022-05-30T20:35:13.669Z"
      },
      {
        "duration": 321,
        "start_time": "2022-05-30T20:35:13.752Z"
      },
      {
        "duration": 295,
        "start_time": "2022-05-30T20:35:14.075Z"
      },
      {
        "duration": 223,
        "start_time": "2022-05-30T20:35:14.372Z"
      },
      {
        "duration": 70,
        "start_time": "2022-05-30T20:35:14.599Z"
      },
      {
        "duration": 80,
        "start_time": "2022-05-30T20:35:14.675Z"
      },
      {
        "duration": 19,
        "start_time": "2022-05-30T20:35:14.770Z"
      },
      {
        "duration": 0,
        "start_time": "2022-05-30T20:35:14.791Z"
      },
      {
        "duration": 0,
        "start_time": "2022-05-30T20:35:14.793Z"
      },
      {
        "duration": 0,
        "start_time": "2022-05-30T20:35:14.794Z"
      },
      {
        "duration": 0,
        "start_time": "2022-05-30T20:35:14.797Z"
      },
      {
        "duration": 0,
        "start_time": "2022-05-30T20:35:14.798Z"
      },
      {
        "duration": 0,
        "start_time": "2022-05-30T20:35:14.800Z"
      },
      {
        "duration": 0,
        "start_time": "2022-05-30T20:35:14.801Z"
      },
      {
        "duration": 0,
        "start_time": "2022-05-30T20:35:14.803Z"
      },
      {
        "duration": 13,
        "start_time": "2022-05-30T20:35:29.679Z"
      },
      {
        "duration": 16,
        "start_time": "2022-05-30T20:35:32.192Z"
      },
      {
        "duration": 8,
        "start_time": "2022-05-30T20:45:13.720Z"
      },
      {
        "duration": 3,
        "start_time": "2022-05-30T20:45:25.472Z"
      },
      {
        "duration": 193,
        "start_time": "2022-05-30T20:45:25.477Z"
      },
      {
        "duration": 41,
        "start_time": "2022-05-30T20:45:25.672Z"
      },
      {
        "duration": 29,
        "start_time": "2022-05-30T20:45:25.715Z"
      },
      {
        "duration": 153,
        "start_time": "2022-05-30T20:45:25.747Z"
      },
      {
        "duration": 41,
        "start_time": "2022-05-30T20:45:25.902Z"
      },
      {
        "duration": 35,
        "start_time": "2022-05-30T20:45:25.946Z"
      },
      {
        "duration": 72,
        "start_time": "2022-05-30T20:45:25.983Z"
      },
      {
        "duration": 7,
        "start_time": "2022-05-30T20:45:26.057Z"
      },
      {
        "duration": 20,
        "start_time": "2022-05-30T20:45:26.068Z"
      },
      {
        "duration": 65,
        "start_time": "2022-05-30T20:45:26.090Z"
      },
      {
        "duration": 27,
        "start_time": "2022-05-30T20:45:26.156Z"
      },
      {
        "duration": 62,
        "start_time": "2022-05-30T20:45:26.184Z"
      },
      {
        "duration": 15,
        "start_time": "2022-05-30T20:45:26.250Z"
      },
      {
        "duration": 38,
        "start_time": "2022-05-30T20:45:26.268Z"
      },
      {
        "duration": 332,
        "start_time": "2022-05-30T20:45:26.307Z"
      },
      {
        "duration": 430,
        "start_time": "2022-05-30T20:45:26.641Z"
      },
      {
        "duration": 169,
        "start_time": "2022-05-30T20:45:27.073Z"
      },
      {
        "duration": 37,
        "start_time": "2022-05-30T20:45:27.244Z"
      },
      {
        "duration": 18,
        "start_time": "2022-05-30T20:45:27.282Z"
      },
      {
        "duration": 29,
        "start_time": "2022-05-30T20:45:29.759Z"
      },
      {
        "duration": 9,
        "start_time": "2022-05-30T20:45:37.878Z"
      },
      {
        "duration": 13,
        "start_time": "2022-05-30T20:45:50.074Z"
      },
      {
        "duration": 30,
        "start_time": "2022-05-30T20:47:41.429Z"
      },
      {
        "duration": 3,
        "start_time": "2022-05-30T20:51:58.636Z"
      },
      {
        "duration": 208,
        "start_time": "2022-05-30T20:51:58.641Z"
      },
      {
        "duration": 28,
        "start_time": "2022-05-30T20:51:58.852Z"
      },
      {
        "duration": 13,
        "start_time": "2022-05-30T20:51:58.882Z"
      },
      {
        "duration": 105,
        "start_time": "2022-05-30T20:51:58.898Z"
      },
      {
        "duration": 52,
        "start_time": "2022-05-30T20:51:59.005Z"
      },
      {
        "duration": 25,
        "start_time": "2022-05-30T20:51:59.059Z"
      },
      {
        "duration": 57,
        "start_time": "2022-05-30T20:51:59.086Z"
      },
      {
        "duration": 5,
        "start_time": "2022-05-30T20:51:59.145Z"
      },
      {
        "duration": 22,
        "start_time": "2022-05-30T20:51:59.152Z"
      },
      {
        "duration": 63,
        "start_time": "2022-05-30T20:51:59.177Z"
      },
      {
        "duration": 23,
        "start_time": "2022-05-30T20:51:59.241Z"
      },
      {
        "duration": 34,
        "start_time": "2022-05-30T20:51:59.266Z"
      },
      {
        "duration": 39,
        "start_time": "2022-05-30T20:51:59.302Z"
      },
      {
        "duration": 41,
        "start_time": "2022-05-30T20:51:59.343Z"
      },
      {
        "duration": 297,
        "start_time": "2022-05-30T20:51:59.385Z"
      },
      {
        "duration": 260,
        "start_time": "2022-05-30T20:51:59.684Z"
      },
      {
        "duration": 142,
        "start_time": "2022-05-30T20:51:59.946Z"
      },
      {
        "duration": 43,
        "start_time": "2022-05-30T20:52:00.090Z"
      },
      {
        "duration": 28,
        "start_time": "2022-05-30T20:52:00.137Z"
      },
      {
        "duration": 26,
        "start_time": "2022-05-30T20:52:02.459Z"
      },
      {
        "duration": 45,
        "start_time": "2022-05-30T20:52:06.424Z"
      },
      {
        "duration": 24,
        "start_time": "2022-05-30T20:52:40.450Z"
      },
      {
        "duration": 34,
        "start_time": "2022-05-30T20:55:18.217Z"
      },
      {
        "duration": 370,
        "start_time": "2022-05-30T20:55:36.947Z"
      },
      {
        "duration": 23,
        "start_time": "2022-05-30T20:55:48.355Z"
      },
      {
        "duration": 473,
        "start_time": "2022-05-30T20:56:53.088Z"
      },
      {
        "duration": 4,
        "start_time": "2022-05-30T20:57:25.539Z"
      },
      {
        "duration": 154,
        "start_time": "2022-05-30T20:57:25.546Z"
      },
      {
        "duration": 29,
        "start_time": "2022-05-30T20:57:25.702Z"
      },
      {
        "duration": 18,
        "start_time": "2022-05-30T20:57:25.733Z"
      },
      {
        "duration": 130,
        "start_time": "2022-05-30T20:57:25.754Z"
      },
      {
        "duration": 22,
        "start_time": "2022-05-30T20:57:25.885Z"
      },
      {
        "duration": 43,
        "start_time": "2022-05-30T20:57:25.909Z"
      },
      {
        "duration": 41,
        "start_time": "2022-05-30T20:57:25.953Z"
      },
      {
        "duration": 41,
        "start_time": "2022-05-30T20:57:25.996Z"
      },
      {
        "duration": 24,
        "start_time": "2022-05-30T20:57:26.044Z"
      },
      {
        "duration": 42,
        "start_time": "2022-05-30T20:57:26.070Z"
      },
      {
        "duration": 29,
        "start_time": "2022-05-30T20:57:26.127Z"
      },
      {
        "duration": 35,
        "start_time": "2022-05-30T20:57:26.157Z"
      },
      {
        "duration": 40,
        "start_time": "2022-05-30T20:57:26.193Z"
      },
      {
        "duration": 32,
        "start_time": "2022-05-30T20:57:26.241Z"
      },
      {
        "duration": 269,
        "start_time": "2022-05-30T20:57:26.275Z"
      },
      {
        "duration": 271,
        "start_time": "2022-05-30T20:57:26.549Z"
      },
      {
        "duration": 247,
        "start_time": "2022-05-30T20:57:26.822Z"
      },
      {
        "duration": 37,
        "start_time": "2022-05-30T20:57:27.071Z"
      },
      {
        "duration": 26,
        "start_time": "2022-05-30T20:57:27.129Z"
      },
      {
        "duration": 393,
        "start_time": "2022-05-30T20:57:27.156Z"
      },
      {
        "duration": 0,
        "start_time": "2022-05-30T20:57:27.551Z"
      },
      {
        "duration": 0,
        "start_time": "2022-05-30T20:57:27.553Z"
      },
      {
        "duration": 0,
        "start_time": "2022-05-30T20:57:27.555Z"
      },
      {
        "duration": 0,
        "start_time": "2022-05-30T20:57:27.556Z"
      },
      {
        "duration": 0,
        "start_time": "2022-05-30T20:57:27.557Z"
      },
      {
        "duration": 0,
        "start_time": "2022-05-30T20:57:27.558Z"
      },
      {
        "duration": 0,
        "start_time": "2022-05-30T20:57:27.560Z"
      },
      {
        "duration": 0,
        "start_time": "2022-05-30T20:57:27.561Z"
      },
      {
        "duration": 0,
        "start_time": "2022-05-30T20:57:27.562Z"
      },
      {
        "duration": 33,
        "start_time": "2022-05-30T21:04:36.611Z"
      },
      {
        "duration": 30,
        "start_time": "2022-05-30T21:04:49.231Z"
      },
      {
        "duration": 477,
        "start_time": "2022-05-30T21:04:50.143Z"
      },
      {
        "duration": 8,
        "start_time": "2022-05-30T21:15:53.383Z"
      },
      {
        "duration": 13,
        "start_time": "2022-05-30T21:16:16.540Z"
      },
      {
        "duration": 38,
        "start_time": "2022-05-30T21:20:32.845Z"
      },
      {
        "duration": 9,
        "start_time": "2022-05-30T21:20:47.805Z"
      },
      {
        "duration": 3,
        "start_time": "2022-05-30T21:22:37.575Z"
      },
      {
        "duration": 165,
        "start_time": "2022-05-30T21:22:37.580Z"
      },
      {
        "duration": 40,
        "start_time": "2022-05-30T21:22:37.747Z"
      },
      {
        "duration": 13,
        "start_time": "2022-05-30T21:22:37.788Z"
      },
      {
        "duration": 93,
        "start_time": "2022-05-30T21:22:37.803Z"
      },
      {
        "duration": 34,
        "start_time": "2022-05-30T21:22:37.897Z"
      },
      {
        "duration": 22,
        "start_time": "2022-05-30T21:22:37.938Z"
      },
      {
        "duration": 46,
        "start_time": "2022-05-30T21:22:37.961Z"
      },
      {
        "duration": 33,
        "start_time": "2022-05-30T21:22:38.009Z"
      },
      {
        "duration": 20,
        "start_time": "2022-05-30T21:22:38.044Z"
      },
      {
        "duration": 35,
        "start_time": "2022-05-30T21:22:38.066Z"
      },
      {
        "duration": 39,
        "start_time": "2022-05-30T21:22:38.102Z"
      },
      {
        "duration": 35,
        "start_time": "2022-05-30T21:22:38.142Z"
      },
      {
        "duration": 9,
        "start_time": "2022-05-30T21:22:38.180Z"
      },
      {
        "duration": 61,
        "start_time": "2022-05-30T21:22:38.191Z"
      },
      {
        "duration": 265,
        "start_time": "2022-05-30T21:22:38.254Z"
      },
      {
        "duration": 253,
        "start_time": "2022-05-30T21:22:38.526Z"
      },
      {
        "duration": 141,
        "start_time": "2022-05-30T21:22:38.781Z"
      },
      {
        "duration": 37,
        "start_time": "2022-05-30T21:22:38.926Z"
      },
      {
        "duration": 19,
        "start_time": "2022-05-30T21:22:38.964Z"
      },
      {
        "duration": 9,
        "start_time": "2022-05-30T21:22:38.985Z"
      },
      {
        "duration": 0,
        "start_time": "2022-05-30T21:22:38.996Z"
      },
      {
        "duration": 0,
        "start_time": "2022-05-30T21:22:38.997Z"
      },
      {
        "duration": 0,
        "start_time": "2022-05-30T21:22:38.997Z"
      },
      {
        "duration": 0,
        "start_time": "2022-05-30T21:22:38.998Z"
      },
      {
        "duration": 0,
        "start_time": "2022-05-30T21:22:38.998Z"
      },
      {
        "duration": 0,
        "start_time": "2022-05-30T21:22:38.999Z"
      },
      {
        "duration": 0,
        "start_time": "2022-05-30T21:22:39.028Z"
      },
      {
        "duration": 0,
        "start_time": "2022-05-30T21:22:39.029Z"
      },
      {
        "duration": 0,
        "start_time": "2022-05-30T21:22:39.029Z"
      },
      {
        "duration": 0,
        "start_time": "2022-05-30T21:22:39.032Z"
      },
      {
        "duration": 1009,
        "start_time": "2022-05-31T08:00:01.439Z"
      },
      {
        "duration": 221,
        "start_time": "2022-05-31T08:00:02.450Z"
      },
      {
        "duration": 29,
        "start_time": "2022-05-31T08:00:02.672Z"
      },
      {
        "duration": 30,
        "start_time": "2022-05-31T08:00:02.702Z"
      },
      {
        "duration": 74,
        "start_time": "2022-05-31T08:00:02.734Z"
      },
      {
        "duration": 36,
        "start_time": "2022-05-31T08:00:02.810Z"
      },
      {
        "duration": 23,
        "start_time": "2022-05-31T08:00:02.848Z"
      },
      {
        "duration": 65,
        "start_time": "2022-05-31T08:00:02.873Z"
      },
      {
        "duration": 4,
        "start_time": "2022-05-31T08:00:02.940Z"
      },
      {
        "duration": 36,
        "start_time": "2022-05-31T08:00:02.945Z"
      },
      {
        "duration": 51,
        "start_time": "2022-05-31T08:00:02.983Z"
      },
      {
        "duration": 19,
        "start_time": "2022-05-31T08:00:03.036Z"
      },
      {
        "duration": 34,
        "start_time": "2022-05-31T08:00:03.057Z"
      },
      {
        "duration": 36,
        "start_time": "2022-05-31T08:00:03.093Z"
      },
      {
        "duration": 35,
        "start_time": "2022-05-31T08:00:03.131Z"
      },
      {
        "duration": 294,
        "start_time": "2022-05-31T08:00:03.167Z"
      },
      {
        "duration": 269,
        "start_time": "2022-05-31T08:00:03.463Z"
      },
      {
        "duration": 161,
        "start_time": "2022-05-31T08:00:03.733Z"
      },
      {
        "duration": 42,
        "start_time": "2022-05-31T08:00:03.896Z"
      },
      {
        "duration": 88,
        "start_time": "2022-05-31T08:00:03.940Z"
      },
      {
        "duration": 22,
        "start_time": "2022-05-31T08:00:06.742Z"
      },
      {
        "duration": 3,
        "start_time": "2022-05-31T08:00:07.866Z"
      },
      {
        "duration": 133,
        "start_time": "2022-05-31T08:00:09.677Z"
      },
      {
        "duration": 473,
        "start_time": "2022-05-31T08:02:26.310Z"
      },
      {
        "duration": 439,
        "start_time": "2022-05-31T08:02:45.470Z"
      },
      {
        "duration": 699,
        "start_time": "2022-05-31T08:02:57.327Z"
      },
      {
        "duration": 444,
        "start_time": "2022-05-31T08:04:44.157Z"
      },
      {
        "duration": 621,
        "start_time": "2022-05-31T08:05:09.572Z"
      },
      {
        "duration": 354,
        "start_time": "2022-05-31T08:05:22.768Z"
      },
      {
        "duration": 430,
        "start_time": "2022-05-31T08:21:35.546Z"
      },
      {
        "duration": 431,
        "start_time": "2022-05-31T08:23:16.488Z"
      },
      {
        "duration": 3,
        "start_time": "2022-05-31T08:24:25.742Z"
      },
      {
        "duration": 129,
        "start_time": "2022-05-31T08:24:25.747Z"
      },
      {
        "duration": 31,
        "start_time": "2022-05-31T08:24:25.877Z"
      },
      {
        "duration": 17,
        "start_time": "2022-05-31T08:24:25.910Z"
      },
      {
        "duration": 79,
        "start_time": "2022-05-31T08:24:25.928Z"
      },
      {
        "duration": 25,
        "start_time": "2022-05-31T08:24:26.008Z"
      },
      {
        "duration": 22,
        "start_time": "2022-05-31T08:24:26.035Z"
      },
      {
        "duration": 40,
        "start_time": "2022-05-31T08:24:26.059Z"
      },
      {
        "duration": 27,
        "start_time": "2022-05-31T08:24:26.101Z"
      },
      {
        "duration": 27,
        "start_time": "2022-05-31T08:24:26.131Z"
      },
      {
        "duration": 46,
        "start_time": "2022-05-31T08:24:26.160Z"
      },
      {
        "duration": 32,
        "start_time": "2022-05-31T08:24:26.208Z"
      },
      {
        "duration": 50,
        "start_time": "2022-05-31T08:24:26.242Z"
      },
      {
        "duration": 9,
        "start_time": "2022-05-31T08:24:26.294Z"
      },
      {
        "duration": 51,
        "start_time": "2022-05-31T08:24:26.305Z"
      },
      {
        "duration": 258,
        "start_time": "2022-05-31T08:24:26.358Z"
      },
      {
        "duration": 316,
        "start_time": "2022-05-31T08:24:26.618Z"
      },
      {
        "duration": 155,
        "start_time": "2022-05-31T08:24:26.936Z"
      },
      {
        "duration": 39,
        "start_time": "2022-05-31T08:24:27.093Z"
      },
      {
        "duration": 19,
        "start_time": "2022-05-31T08:24:27.133Z"
      },
      {
        "duration": 8,
        "start_time": "2022-05-31T08:24:27.154Z"
      },
      {
        "duration": 466,
        "start_time": "2022-05-31T08:24:27.164Z"
      },
      {
        "duration": 0,
        "start_time": "2022-05-31T08:24:27.632Z"
      },
      {
        "duration": 0,
        "start_time": "2022-05-31T08:24:27.633Z"
      },
      {
        "duration": 0,
        "start_time": "2022-05-31T08:24:27.634Z"
      },
      {
        "duration": 0,
        "start_time": "2022-05-31T08:24:27.635Z"
      },
      {
        "duration": 0,
        "start_time": "2022-05-31T08:24:27.636Z"
      },
      {
        "duration": 0,
        "start_time": "2022-05-31T08:24:27.637Z"
      },
      {
        "duration": 0,
        "start_time": "2022-05-31T08:24:27.638Z"
      },
      {
        "duration": 0,
        "start_time": "2022-05-31T08:24:27.639Z"
      },
      {
        "duration": 0,
        "start_time": "2022-05-31T08:24:27.640Z"
      },
      {
        "duration": 3,
        "start_time": "2022-05-31T08:35:30.621Z"
      },
      {
        "duration": 131,
        "start_time": "2022-05-31T08:35:30.626Z"
      },
      {
        "duration": 30,
        "start_time": "2022-05-31T08:35:30.759Z"
      },
      {
        "duration": 11,
        "start_time": "2022-05-31T08:35:30.792Z"
      },
      {
        "duration": 91,
        "start_time": "2022-05-31T08:35:30.804Z"
      },
      {
        "duration": 49,
        "start_time": "2022-05-31T08:35:30.897Z"
      },
      {
        "duration": 22,
        "start_time": "2022-05-31T08:35:30.947Z"
      },
      {
        "duration": 67,
        "start_time": "2022-05-31T08:35:30.971Z"
      },
      {
        "duration": 4,
        "start_time": "2022-05-31T08:35:31.040Z"
      },
      {
        "duration": 36,
        "start_time": "2022-05-31T08:35:31.047Z"
      },
      {
        "duration": 71,
        "start_time": "2022-05-31T08:35:31.085Z"
      },
      {
        "duration": 23,
        "start_time": "2022-05-31T08:35:31.157Z"
      },
      {
        "duration": 69,
        "start_time": "2022-05-31T08:35:31.182Z"
      },
      {
        "duration": 15,
        "start_time": "2022-05-31T08:35:31.253Z"
      },
      {
        "duration": 77,
        "start_time": "2022-05-31T08:35:31.271Z"
      },
      {
        "duration": 278,
        "start_time": "2022-05-31T08:35:31.350Z"
      },
      {
        "duration": 262,
        "start_time": "2022-05-31T08:35:31.630Z"
      },
      {
        "duration": 159,
        "start_time": "2022-05-31T08:35:31.893Z"
      },
      {
        "duration": 32,
        "start_time": "2022-05-31T08:35:32.053Z"
      },
      {
        "duration": 39,
        "start_time": "2022-05-31T08:35:32.088Z"
      },
      {
        "duration": 19,
        "start_time": "2022-05-31T08:35:34.304Z"
      },
      {
        "duration": 12,
        "start_time": "2022-05-31T08:35:35.862Z"
      },
      {
        "duration": 8,
        "start_time": "2022-05-31T08:37:49.470Z"
      },
      {
        "duration": 11,
        "start_time": "2022-05-31T08:38:07.864Z"
      },
      {
        "duration": 14,
        "start_time": "2022-05-31T08:38:25.177Z"
      },
      {
        "duration": 4,
        "start_time": "2022-05-31T08:41:40.730Z"
      },
      {
        "duration": 139,
        "start_time": "2022-05-31T08:41:40.736Z"
      },
      {
        "duration": 49,
        "start_time": "2022-05-31T08:41:40.877Z"
      },
      {
        "duration": 13,
        "start_time": "2022-05-31T08:41:40.929Z"
      },
      {
        "duration": 135,
        "start_time": "2022-05-31T08:41:40.945Z"
      },
      {
        "duration": 45,
        "start_time": "2022-05-31T08:41:41.083Z"
      },
      {
        "duration": 31,
        "start_time": "2022-05-31T08:41:41.131Z"
      },
      {
        "duration": 63,
        "start_time": "2022-05-31T08:41:41.164Z"
      },
      {
        "duration": 4,
        "start_time": "2022-05-31T08:41:41.230Z"
      },
      {
        "duration": 28,
        "start_time": "2022-05-31T08:41:41.236Z"
      },
      {
        "duration": 62,
        "start_time": "2022-05-31T08:41:41.266Z"
      },
      {
        "duration": 23,
        "start_time": "2022-05-31T08:41:41.329Z"
      },
      {
        "duration": 44,
        "start_time": "2022-05-31T08:41:41.353Z"
      },
      {
        "duration": 36,
        "start_time": "2022-05-31T08:41:41.399Z"
      },
      {
        "duration": 36,
        "start_time": "2022-05-31T08:41:41.437Z"
      },
      {
        "duration": 298,
        "start_time": "2022-05-31T08:41:41.475Z"
      },
      {
        "duration": 256,
        "start_time": "2022-05-31T08:41:41.774Z"
      },
      {
        "duration": 274,
        "start_time": "2022-05-31T08:41:42.032Z"
      },
      {
        "duration": 45,
        "start_time": "2022-05-31T08:41:42.308Z"
      },
      {
        "duration": 21,
        "start_time": "2022-05-31T08:41:42.355Z"
      },
      {
        "duration": 12,
        "start_time": "2022-05-31T08:41:42.377Z"
      },
      {
        "duration": 41,
        "start_time": "2022-05-31T08:41:42.390Z"
      },
      {
        "duration": 4,
        "start_time": "2022-05-31T08:41:42.433Z"
      },
      {
        "duration": 585,
        "start_time": "2022-05-31T08:41:42.440Z"
      },
      {
        "duration": 0,
        "start_time": "2022-05-31T08:41:43.028Z"
      },
      {
        "duration": 0,
        "start_time": "2022-05-31T08:41:43.029Z"
      },
      {
        "duration": 0,
        "start_time": "2022-05-31T08:41:43.031Z"
      },
      {
        "duration": 0,
        "start_time": "2022-05-31T08:41:43.033Z"
      },
      {
        "duration": 0,
        "start_time": "2022-05-31T08:41:43.034Z"
      },
      {
        "duration": 0,
        "start_time": "2022-05-31T08:41:43.035Z"
      },
      {
        "duration": 0,
        "start_time": "2022-05-31T08:41:43.037Z"
      },
      {
        "duration": 0,
        "start_time": "2022-05-31T08:41:43.038Z"
      },
      {
        "duration": 0,
        "start_time": "2022-05-31T08:41:43.039Z"
      },
      {
        "duration": 9,
        "start_time": "2022-05-31T08:42:34.342Z"
      },
      {
        "duration": 15,
        "start_time": "2022-05-31T08:42:49.005Z"
      },
      {
        "duration": 8,
        "start_time": "2022-05-31T08:42:56.567Z"
      },
      {
        "duration": 3,
        "start_time": "2022-05-31T08:49:12.772Z"
      },
      {
        "duration": 130,
        "start_time": "2022-05-31T08:49:12.777Z"
      },
      {
        "duration": 30,
        "start_time": "2022-05-31T08:49:12.909Z"
      },
      {
        "duration": 12,
        "start_time": "2022-05-31T08:49:12.942Z"
      },
      {
        "duration": 95,
        "start_time": "2022-05-31T08:49:12.955Z"
      },
      {
        "duration": 21,
        "start_time": "2022-05-31T08:49:13.052Z"
      },
      {
        "duration": 20,
        "start_time": "2022-05-31T08:49:13.074Z"
      },
      {
        "duration": 62,
        "start_time": "2022-05-31T08:49:13.096Z"
      },
      {
        "duration": 4,
        "start_time": "2022-05-31T08:49:13.160Z"
      },
      {
        "duration": 20,
        "start_time": "2022-05-31T08:49:13.165Z"
      },
      {
        "duration": 60,
        "start_time": "2022-05-31T08:49:13.186Z"
      },
      {
        "duration": 20,
        "start_time": "2022-05-31T08:49:13.248Z"
      },
      {
        "duration": 35,
        "start_time": "2022-05-31T08:49:13.269Z"
      },
      {
        "duration": 29,
        "start_time": "2022-05-31T08:49:13.305Z"
      },
      {
        "duration": 32,
        "start_time": "2022-05-31T08:49:13.335Z"
      },
      {
        "duration": 274,
        "start_time": "2022-05-31T08:49:13.368Z"
      },
      {
        "duration": 230,
        "start_time": "2022-05-31T08:49:13.644Z"
      },
      {
        "duration": 143,
        "start_time": "2022-05-31T08:49:13.875Z"
      },
      {
        "duration": 35,
        "start_time": "2022-05-31T08:49:18.677Z"
      },
      {
        "duration": 20,
        "start_time": "2022-05-31T08:50:02.542Z"
      },
      {
        "duration": 14,
        "start_time": "2022-05-31T08:50:03.025Z"
      },
      {
        "duration": 12,
        "start_time": "2022-05-31T08:50:03.453Z"
      },
      {
        "duration": 4,
        "start_time": "2022-05-31T08:53:53.429Z"
      },
      {
        "duration": 2,
        "start_time": "2022-05-31T08:54:07.277Z"
      },
      {
        "duration": 2,
        "start_time": "2022-05-31T08:54:12.805Z"
      },
      {
        "duration": 15,
        "start_time": "2022-05-31T08:55:38.134Z"
      },
      {
        "duration": 11,
        "start_time": "2022-05-31T08:55:42.160Z"
      },
      {
        "duration": 17,
        "start_time": "2022-05-31T09:35:12.732Z"
      },
      {
        "duration": 35,
        "start_time": "2022-05-31T09:39:48.121Z"
      },
      {
        "duration": 31,
        "start_time": "2022-05-31T09:40:38.842Z"
      },
      {
        "duration": 46,
        "start_time": "2022-05-31T09:41:42.560Z"
      },
      {
        "duration": 3,
        "start_time": "2022-05-31T09:42:05.569Z"
      },
      {
        "duration": 145,
        "start_time": "2022-05-31T09:42:05.574Z"
      },
      {
        "duration": 31,
        "start_time": "2022-05-31T09:42:05.721Z"
      },
      {
        "duration": 12,
        "start_time": "2022-05-31T09:42:05.754Z"
      },
      {
        "duration": 91,
        "start_time": "2022-05-31T09:42:05.768Z"
      },
      {
        "duration": 22,
        "start_time": "2022-05-31T09:42:05.860Z"
      },
      {
        "duration": 51,
        "start_time": "2022-05-31T09:42:05.884Z"
      },
      {
        "duration": 44,
        "start_time": "2022-05-31T09:42:05.937Z"
      },
      {
        "duration": 4,
        "start_time": "2022-05-31T09:42:05.984Z"
      },
      {
        "duration": 61,
        "start_time": "2022-05-31T09:42:05.992Z"
      },
      {
        "duration": 79,
        "start_time": "2022-05-31T09:42:06.055Z"
      },
      {
        "duration": 34,
        "start_time": "2022-05-31T09:42:06.136Z"
      },
      {
        "duration": 2,
        "start_time": "2022-05-31T09:42:06.172Z"
      },
      {
        "duration": 9,
        "start_time": "2022-05-31T09:42:06.176Z"
      },
      {
        "duration": 9,
        "start_time": "2022-05-31T09:42:06.187Z"
      },
      {
        "duration": 297,
        "start_time": "2022-05-31T09:42:06.198Z"
      },
      {
        "duration": 254,
        "start_time": "2022-05-31T09:42:06.496Z"
      },
      {
        "duration": 153,
        "start_time": "2022-05-31T09:42:06.751Z"
      },
      {
        "duration": 57,
        "start_time": "2022-05-31T09:42:06.906Z"
      },
      {
        "duration": 20,
        "start_time": "2022-05-31T09:42:06.965Z"
      },
      {
        "duration": 42,
        "start_time": "2022-05-31T09:42:06.986Z"
      },
      {
        "duration": 29,
        "start_time": "2022-05-31T09:42:07.031Z"
      },
      {
        "duration": 69,
        "start_time": "2022-05-31T09:42:07.062Z"
      },
      {
        "duration": 0,
        "start_time": "2022-05-31T09:42:07.134Z"
      },
      {
        "duration": 1,
        "start_time": "2022-05-31T09:42:07.135Z"
      },
      {
        "duration": 0,
        "start_time": "2022-05-31T09:42:07.137Z"
      },
      {
        "duration": 0,
        "start_time": "2022-05-31T09:42:07.138Z"
      },
      {
        "duration": 0,
        "start_time": "2022-05-31T09:42:07.139Z"
      },
      {
        "duration": 0,
        "start_time": "2022-05-31T09:42:07.251Z"
      },
      {
        "duration": 0,
        "start_time": "2022-05-31T09:42:07.253Z"
      },
      {
        "duration": 0,
        "start_time": "2022-05-31T09:42:07.254Z"
      },
      {
        "duration": 0,
        "start_time": "2022-05-31T09:42:07.257Z"
      },
      {
        "duration": 0,
        "start_time": "2022-05-31T09:42:07.258Z"
      },
      {
        "duration": 0,
        "start_time": "2022-05-31T09:42:07.259Z"
      },
      {
        "duration": 0,
        "start_time": "2022-05-31T09:42:07.260Z"
      },
      {
        "duration": 0,
        "start_time": "2022-05-31T09:42:07.261Z"
      },
      {
        "duration": 38,
        "start_time": "2022-05-31T09:42:25.850Z"
      },
      {
        "duration": 37,
        "start_time": "2022-05-31T09:42:54.826Z"
      },
      {
        "duration": 29,
        "start_time": "2022-05-31T09:43:10.963Z"
      },
      {
        "duration": 34,
        "start_time": "2022-05-31T09:43:59.068Z"
      },
      {
        "duration": 38,
        "start_time": "2022-05-31T09:44:50.404Z"
      },
      {
        "duration": 12,
        "start_time": "2022-05-31T09:45:48.174Z"
      },
      {
        "duration": 13,
        "start_time": "2022-05-31T09:46:13.699Z"
      },
      {
        "duration": 38,
        "start_time": "2022-05-31T09:47:44.701Z"
      },
      {
        "duration": 26,
        "start_time": "2022-05-31T09:48:09.741Z"
      },
      {
        "duration": 28,
        "start_time": "2022-05-31T09:48:15.233Z"
      },
      {
        "duration": 15,
        "start_time": "2022-05-31T09:50:50.529Z"
      },
      {
        "duration": 13,
        "start_time": "2022-05-31T09:51:01.574Z"
      },
      {
        "duration": 20,
        "start_time": "2022-05-31T09:51:16.226Z"
      },
      {
        "duration": 19,
        "start_time": "2022-05-31T09:53:19.589Z"
      },
      {
        "duration": 22,
        "start_time": "2022-05-31T09:57:25.383Z"
      },
      {
        "duration": 3,
        "start_time": "2022-05-31T09:57:32.510Z"
      },
      {
        "duration": 137,
        "start_time": "2022-05-31T09:57:32.515Z"
      },
      {
        "duration": 33,
        "start_time": "2022-05-31T09:57:32.653Z"
      },
      {
        "duration": 44,
        "start_time": "2022-05-31T09:57:32.688Z"
      },
      {
        "duration": 100,
        "start_time": "2022-05-31T09:57:32.734Z"
      },
      {
        "duration": 26,
        "start_time": "2022-05-31T09:57:32.837Z"
      },
      {
        "duration": 22,
        "start_time": "2022-05-31T09:57:32.864Z"
      },
      {
        "duration": 68,
        "start_time": "2022-05-31T09:57:32.887Z"
      },
      {
        "duration": 4,
        "start_time": "2022-05-31T09:57:32.956Z"
      },
      {
        "duration": 21,
        "start_time": "2022-05-31T09:57:32.961Z"
      },
      {
        "duration": 69,
        "start_time": "2022-05-31T09:57:32.983Z"
      },
      {
        "duration": 22,
        "start_time": "2022-05-31T09:57:33.054Z"
      },
      {
        "duration": 2,
        "start_time": "2022-05-31T09:57:33.079Z"
      },
      {
        "duration": 9,
        "start_time": "2022-05-31T09:57:33.082Z"
      },
      {
        "duration": 5,
        "start_time": "2022-05-31T09:57:33.093Z"
      },
      {
        "duration": 294,
        "start_time": "2022-05-31T09:57:33.126Z"
      },
      {
        "duration": 254,
        "start_time": "2022-05-31T09:57:33.425Z"
      },
      {
        "duration": 146,
        "start_time": "2022-05-31T09:57:33.680Z"
      },
      {
        "duration": 34,
        "start_time": "2022-05-31T09:57:33.827Z"
      },
      {
        "duration": 19,
        "start_time": "2022-05-31T09:57:33.862Z"
      },
      {
        "duration": 10,
        "start_time": "2022-05-31T09:57:33.882Z"
      },
      {
        "duration": 8,
        "start_time": "2022-05-31T09:57:33.927Z"
      },
      {
        "duration": 33,
        "start_time": "2022-05-31T09:57:33.936Z"
      },
      {
        "duration": 11,
        "start_time": "2022-05-31T09:57:33.970Z"
      },
      {
        "duration": 51,
        "start_time": "2022-05-31T09:57:33.982Z"
      },
      {
        "duration": 16,
        "start_time": "2022-05-31T09:57:34.034Z"
      },
      {
        "duration": 17,
        "start_time": "2022-05-31T09:57:36.760Z"
      },
      {
        "duration": 21,
        "start_time": "2022-05-31T09:57:38.188Z"
      },
      {
        "duration": 25,
        "start_time": "2022-05-31T09:58:11.241Z"
      },
      {
        "duration": 32,
        "start_time": "2022-05-31T09:58:22.098Z"
      },
      {
        "duration": 10,
        "start_time": "2022-05-31T09:58:40.104Z"
      },
      {
        "duration": 17,
        "start_time": "2022-05-31T09:59:02.806Z"
      },
      {
        "duration": 3,
        "start_time": "2022-05-31T10:00:18.212Z"
      },
      {
        "duration": 134,
        "start_time": "2022-05-31T10:00:18.217Z"
      },
      {
        "duration": 32,
        "start_time": "2022-05-31T10:00:18.352Z"
      },
      {
        "duration": 41,
        "start_time": "2022-05-31T10:00:18.386Z"
      },
      {
        "duration": 106,
        "start_time": "2022-05-31T10:00:18.428Z"
      },
      {
        "duration": 21,
        "start_time": "2022-05-31T10:00:18.535Z"
      },
      {
        "duration": 20,
        "start_time": "2022-05-31T10:00:18.558Z"
      },
      {
        "duration": 73,
        "start_time": "2022-05-31T10:00:18.579Z"
      },
      {
        "duration": 4,
        "start_time": "2022-05-31T10:00:18.654Z"
      },
      {
        "duration": 29,
        "start_time": "2022-05-31T10:00:18.659Z"
      },
      {
        "duration": 61,
        "start_time": "2022-05-31T10:00:18.689Z"
      },
      {
        "duration": 21,
        "start_time": "2022-05-31T10:00:18.752Z"
      },
      {
        "duration": 3,
        "start_time": "2022-05-31T10:00:18.774Z"
      },
      {
        "duration": 7,
        "start_time": "2022-05-31T10:00:18.779Z"
      },
      {
        "duration": 12,
        "start_time": "2022-05-31T10:00:18.788Z"
      },
      {
        "duration": 290,
        "start_time": "2022-05-31T10:00:18.801Z"
      },
      {
        "duration": 242,
        "start_time": "2022-05-31T10:00:19.093Z"
      },
      {
        "duration": 173,
        "start_time": "2022-05-31T10:00:19.337Z"
      },
      {
        "duration": 44,
        "start_time": "2022-05-31T10:00:19.511Z"
      },
      {
        "duration": 26,
        "start_time": "2022-05-31T10:00:19.557Z"
      },
      {
        "duration": 10,
        "start_time": "2022-05-31T10:00:19.584Z"
      },
      {
        "duration": 35,
        "start_time": "2022-05-31T10:00:19.595Z"
      },
      {
        "duration": 28,
        "start_time": "2022-05-31T10:00:19.632Z"
      },
      {
        "duration": 11,
        "start_time": "2022-05-31T10:00:19.663Z"
      },
      {
        "duration": 57,
        "start_time": "2022-05-31T10:00:19.675Z"
      },
      {
        "duration": 17,
        "start_time": "2022-05-31T10:00:19.733Z"
      },
      {
        "duration": 7,
        "start_time": "2022-05-31T10:00:19.752Z"
      },
      {
        "duration": 18,
        "start_time": "2022-05-31T10:00:19.761Z"
      },
      {
        "duration": 5,
        "start_time": "2022-05-31T10:00:19.780Z"
      },
      {
        "duration": 40,
        "start_time": "2022-05-31T10:00:19.786Z"
      },
      {
        "duration": 603,
        "start_time": "2022-05-31T10:00:19.828Z"
      },
      {
        "duration": 0,
        "start_time": "2022-05-31T10:00:20.432Z"
      },
      {
        "duration": 0,
        "start_time": "2022-05-31T10:00:20.433Z"
      },
      {
        "duration": 0,
        "start_time": "2022-05-31T10:00:20.435Z"
      },
      {
        "duration": 0,
        "start_time": "2022-05-31T10:00:20.436Z"
      },
      {
        "duration": 0,
        "start_time": "2022-05-31T10:00:20.437Z"
      },
      {
        "duration": 0,
        "start_time": "2022-05-31T10:00:20.438Z"
      },
      {
        "duration": 0,
        "start_time": "2022-05-31T10:00:20.439Z"
      },
      {
        "duration": 0,
        "start_time": "2022-05-31T10:00:20.440Z"
      },
      {
        "duration": 0,
        "start_time": "2022-05-31T10:00:20.441Z"
      },
      {
        "duration": 4,
        "start_time": "2022-05-31T10:01:46.335Z"
      },
      {
        "duration": 134,
        "start_time": "2022-05-31T10:01:46.340Z"
      },
      {
        "duration": 33,
        "start_time": "2022-05-31T10:01:46.476Z"
      },
      {
        "duration": 23,
        "start_time": "2022-05-31T10:01:46.512Z"
      },
      {
        "duration": 108,
        "start_time": "2022-05-31T10:01:46.537Z"
      },
      {
        "duration": 22,
        "start_time": "2022-05-31T10:01:46.647Z"
      },
      {
        "duration": 21,
        "start_time": "2022-05-31T10:01:46.671Z"
      },
      {
        "duration": 41,
        "start_time": "2022-05-31T10:01:46.727Z"
      },
      {
        "duration": 4,
        "start_time": "2022-05-31T10:01:46.770Z"
      },
      {
        "duration": 51,
        "start_time": "2022-05-31T10:01:46.776Z"
      },
      {
        "duration": 37,
        "start_time": "2022-05-31T10:01:46.829Z"
      },
      {
        "duration": 23,
        "start_time": "2022-05-31T10:01:46.868Z"
      },
      {
        "duration": 34,
        "start_time": "2022-05-31T10:01:46.893Z"
      },
      {
        "duration": 3,
        "start_time": "2022-05-31T10:01:46.928Z"
      },
      {
        "duration": 8,
        "start_time": "2022-05-31T10:01:46.932Z"
      },
      {
        "duration": 392,
        "start_time": "2022-05-31T10:01:46.941Z"
      },
      {
        "duration": 255,
        "start_time": "2022-05-31T10:01:47.335Z"
      },
      {
        "duration": 159,
        "start_time": "2022-05-31T10:01:47.592Z"
      },
      {
        "duration": 37,
        "start_time": "2022-05-31T10:01:47.753Z"
      },
      {
        "duration": 46,
        "start_time": "2022-05-31T10:01:47.791Z"
      },
      {
        "duration": 10,
        "start_time": "2022-05-31T10:01:47.838Z"
      },
      {
        "duration": 10,
        "start_time": "2022-05-31T10:01:47.850Z"
      },
      {
        "duration": 4,
        "start_time": "2022-05-31T10:01:47.861Z"
      },
      {
        "duration": 22,
        "start_time": "2022-05-31T10:01:47.869Z"
      },
      {
        "duration": 6,
        "start_time": "2022-05-31T10:01:47.893Z"
      },
      {
        "duration": 25,
        "start_time": "2022-05-31T10:01:47.901Z"
      },
      {
        "duration": 11,
        "start_time": "2022-05-31T10:01:47.928Z"
      },
      {
        "duration": 18,
        "start_time": "2022-05-31T10:01:47.941Z"
      },
      {
        "duration": 5,
        "start_time": "2022-05-31T10:01:47.961Z"
      },
      {
        "duration": 7,
        "start_time": "2022-05-31T10:01:47.968Z"
      },
      {
        "duration": 539,
        "start_time": "2022-05-31T10:01:47.977Z"
      },
      {
        "duration": 0,
        "start_time": "2022-05-31T10:01:48.518Z"
      },
      {
        "duration": 0,
        "start_time": "2022-05-31T10:01:48.519Z"
      },
      {
        "duration": 0,
        "start_time": "2022-05-31T10:01:48.520Z"
      },
      {
        "duration": 0,
        "start_time": "2022-05-31T10:01:48.521Z"
      },
      {
        "duration": 0,
        "start_time": "2022-05-31T10:01:48.522Z"
      },
      {
        "duration": 0,
        "start_time": "2022-05-31T10:01:48.523Z"
      },
      {
        "duration": 0,
        "start_time": "2022-05-31T10:01:48.523Z"
      },
      {
        "duration": 0,
        "start_time": "2022-05-31T10:01:48.524Z"
      },
      {
        "duration": 0,
        "start_time": "2022-05-31T10:01:48.526Z"
      },
      {
        "duration": 15,
        "start_time": "2022-05-31T10:02:09.101Z"
      },
      {
        "duration": 30,
        "start_time": "2022-05-31T10:02:46.375Z"
      },
      {
        "duration": 29,
        "start_time": "2022-05-31T10:04:08.361Z"
      },
      {
        "duration": 2,
        "start_time": "2022-05-31T10:04:41.230Z"
      },
      {
        "duration": 131,
        "start_time": "2022-05-31T10:04:41.234Z"
      },
      {
        "duration": 39,
        "start_time": "2022-05-31T10:04:41.367Z"
      },
      {
        "duration": 17,
        "start_time": "2022-05-31T10:04:41.426Z"
      },
      {
        "duration": 95,
        "start_time": "2022-05-31T10:04:41.446Z"
      },
      {
        "duration": 23,
        "start_time": "2022-05-31T10:04:41.542Z"
      },
      {
        "duration": 21,
        "start_time": "2022-05-31T10:04:41.566Z"
      },
      {
        "duration": 73,
        "start_time": "2022-05-31T10:04:41.589Z"
      },
      {
        "duration": 5,
        "start_time": "2022-05-31T10:04:41.664Z"
      },
      {
        "duration": 57,
        "start_time": "2022-05-31T10:04:41.670Z"
      },
      {
        "duration": 33,
        "start_time": "2022-05-31T10:04:41.729Z"
      },
      {
        "duration": 22,
        "start_time": "2022-05-31T10:04:41.764Z"
      },
      {
        "duration": 2,
        "start_time": "2022-05-31T10:04:41.788Z"
      },
      {
        "duration": 3,
        "start_time": "2022-05-31T10:04:41.825Z"
      },
      {
        "duration": 7,
        "start_time": "2022-05-31T10:04:41.830Z"
      },
      {
        "duration": 273,
        "start_time": "2022-05-31T10:04:41.838Z"
      },
      {
        "duration": 267,
        "start_time": "2022-05-31T10:04:42.113Z"
      },
      {
        "duration": 154,
        "start_time": "2022-05-31T10:04:42.381Z"
      },
      {
        "duration": 34,
        "start_time": "2022-05-31T10:04:42.536Z"
      },
      {
        "duration": 19,
        "start_time": "2022-05-31T10:04:42.572Z"
      },
      {
        "duration": 41,
        "start_time": "2022-05-31T10:04:42.593Z"
      },
      {
        "duration": 11,
        "start_time": "2022-05-31T10:04:42.636Z"
      },
      {
        "duration": 12,
        "start_time": "2022-05-31T10:04:42.648Z"
      },
      {
        "duration": 5,
        "start_time": "2022-05-31T10:04:42.662Z"
      },
      {
        "duration": 11,
        "start_time": "2022-05-31T10:04:42.669Z"
      },
      {
        "duration": 57,
        "start_time": "2022-05-31T10:04:42.682Z"
      },
      {
        "duration": 34,
        "start_time": "2022-05-31T10:04:42.741Z"
      },
      {
        "duration": 70,
        "start_time": "2022-05-31T10:04:42.777Z"
      },
      {
        "duration": 3,
        "start_time": "2022-05-31T10:04:42.849Z"
      },
      {
        "duration": 13,
        "start_time": "2022-05-31T10:04:42.853Z"
      },
      {
        "duration": 63,
        "start_time": "2022-05-31T10:04:42.867Z"
      },
      {
        "duration": 0,
        "start_time": "2022-05-31T10:04:42.932Z"
      },
      {
        "duration": 0,
        "start_time": "2022-05-31T10:04:42.934Z"
      },
      {
        "duration": 0,
        "start_time": "2022-05-31T10:04:42.935Z"
      },
      {
        "duration": 0,
        "start_time": "2022-05-31T10:04:42.936Z"
      },
      {
        "duration": 0,
        "start_time": "2022-05-31T10:04:42.938Z"
      },
      {
        "duration": 0,
        "start_time": "2022-05-31T10:04:42.939Z"
      },
      {
        "duration": 0,
        "start_time": "2022-05-31T10:04:42.940Z"
      },
      {
        "duration": 0,
        "start_time": "2022-05-31T10:04:42.940Z"
      },
      {
        "duration": 0,
        "start_time": "2022-05-31T10:04:42.942Z"
      },
      {
        "duration": 58,
        "start_time": "2022-05-31T10:06:25.184Z"
      },
      {
        "duration": 37,
        "start_time": "2022-05-31T10:07:15.051Z"
      },
      {
        "duration": 62,
        "start_time": "2022-05-31T10:07:32.060Z"
      },
      {
        "duration": 2,
        "start_time": "2022-05-31T10:10:50.469Z"
      },
      {
        "duration": 136,
        "start_time": "2022-05-31T10:10:50.473Z"
      },
      {
        "duration": 37,
        "start_time": "2022-05-31T10:10:50.611Z"
      },
      {
        "duration": 16,
        "start_time": "2022-05-31T10:10:50.650Z"
      },
      {
        "duration": 99,
        "start_time": "2022-05-31T10:10:50.668Z"
      },
      {
        "duration": 23,
        "start_time": "2022-05-31T10:10:50.769Z"
      },
      {
        "duration": 52,
        "start_time": "2022-05-31T10:10:50.794Z"
      },
      {
        "duration": 39,
        "start_time": "2022-05-31T10:10:50.847Z"
      },
      {
        "duration": 3,
        "start_time": "2022-05-31T10:10:50.888Z"
      },
      {
        "duration": 20,
        "start_time": "2022-05-31T10:10:50.925Z"
      },
      {
        "duration": 40,
        "start_time": "2022-05-31T10:10:50.949Z"
      },
      {
        "duration": 54,
        "start_time": "2022-05-31T10:10:50.991Z"
      },
      {
        "duration": 2,
        "start_time": "2022-05-31T10:10:51.047Z"
      },
      {
        "duration": 15,
        "start_time": "2022-05-31T10:10:51.050Z"
      },
      {
        "duration": 12,
        "start_time": "2022-05-31T10:10:51.067Z"
      },
      {
        "duration": 289,
        "start_time": "2022-05-31T10:10:51.081Z"
      },
      {
        "duration": 350,
        "start_time": "2022-05-31T10:10:51.373Z"
      },
      {
        "duration": 152,
        "start_time": "2022-05-31T10:10:51.724Z"
      },
      {
        "duration": 48,
        "start_time": "2022-05-31T10:10:51.878Z"
      },
      {
        "duration": 19,
        "start_time": "2022-05-31T10:10:51.927Z"
      },
      {
        "duration": 10,
        "start_time": "2022-05-31T10:10:51.948Z"
      },
      {
        "duration": 7,
        "start_time": "2022-05-31T10:10:51.960Z"
      },
      {
        "duration": 16,
        "start_time": "2022-05-31T10:10:51.968Z"
      },
      {
        "duration": 41,
        "start_time": "2022-05-31T10:10:51.985Z"
      },
      {
        "duration": 6,
        "start_time": "2022-05-31T10:10:52.028Z"
      },
      {
        "duration": 22,
        "start_time": "2022-05-31T10:10:52.036Z"
      },
      {
        "duration": 27,
        "start_time": "2022-05-31T10:10:52.060Z"
      },
      {
        "duration": 29,
        "start_time": "2022-05-31T10:10:53.690Z"
      },
      {
        "duration": 29,
        "start_time": "2022-05-31T10:10:54.977Z"
      },
      {
        "duration": 22,
        "start_time": "2022-05-31T10:13:20.538Z"
      },
      {
        "duration": 34,
        "start_time": "2022-05-31T10:15:05.738Z"
      },
      {
        "duration": 53,
        "start_time": "2022-05-31T10:16:10.531Z"
      },
      {
        "duration": 55,
        "start_time": "2022-05-31T10:16:28.834Z"
      },
      {
        "duration": 15,
        "start_time": "2022-05-31T10:19:19.431Z"
      },
      {
        "duration": 19,
        "start_time": "2022-05-31T10:19:37.241Z"
      },
      {
        "duration": 13,
        "start_time": "2022-05-31T10:22:18.130Z"
      },
      {
        "duration": 20,
        "start_time": "2022-05-31T10:22:38.853Z"
      },
      {
        "duration": 2,
        "start_time": "2022-05-31T10:23:08.906Z"
      },
      {
        "duration": 169,
        "start_time": "2022-05-31T10:23:08.911Z"
      },
      {
        "duration": 55,
        "start_time": "2022-05-31T10:23:09.082Z"
      },
      {
        "duration": 15,
        "start_time": "2022-05-31T10:23:09.139Z"
      },
      {
        "duration": 127,
        "start_time": "2022-05-31T10:23:09.157Z"
      },
      {
        "duration": 53,
        "start_time": "2022-05-31T10:23:09.286Z"
      },
      {
        "duration": 35,
        "start_time": "2022-05-31T10:23:09.341Z"
      },
      {
        "duration": 75,
        "start_time": "2022-05-31T10:23:09.378Z"
      },
      {
        "duration": 5,
        "start_time": "2022-05-31T10:23:09.455Z"
      },
      {
        "duration": 32,
        "start_time": "2022-05-31T10:23:09.462Z"
      },
      {
        "duration": 81,
        "start_time": "2022-05-31T10:23:09.497Z"
      },
      {
        "duration": 51,
        "start_time": "2022-05-31T10:23:09.580Z"
      },
      {
        "duration": 2,
        "start_time": "2022-05-31T10:23:09.633Z"
      },
      {
        "duration": 8,
        "start_time": "2022-05-31T10:23:09.637Z"
      },
      {
        "duration": 23,
        "start_time": "2022-05-31T10:23:09.647Z"
      },
      {
        "duration": 336,
        "start_time": "2022-05-31T10:23:09.672Z"
      },
      {
        "duration": 323,
        "start_time": "2022-05-31T10:23:10.010Z"
      },
      {
        "duration": 159,
        "start_time": "2022-05-31T10:23:10.335Z"
      },
      {
        "duration": 65,
        "start_time": "2022-05-31T10:23:10.496Z"
      },
      {
        "duration": 24,
        "start_time": "2022-05-31T10:23:10.563Z"
      },
      {
        "duration": 45,
        "start_time": "2022-05-31T10:23:10.589Z"
      },
      {
        "duration": 38,
        "start_time": "2022-05-31T10:23:10.637Z"
      },
      {
        "duration": 29,
        "start_time": "2022-05-31T10:23:10.677Z"
      },
      {
        "duration": 14,
        "start_time": "2022-05-31T10:23:10.708Z"
      },
      {
        "duration": 17,
        "start_time": "2022-05-31T10:23:10.724Z"
      },
      {
        "duration": 28,
        "start_time": "2022-05-31T10:23:10.743Z"
      },
      {
        "duration": 23,
        "start_time": "2022-05-31T10:23:10.773Z"
      },
      {
        "duration": 63,
        "start_time": "2022-05-31T10:23:10.798Z"
      },
      {
        "duration": 40,
        "start_time": "2022-05-31T10:23:10.866Z"
      },
      {
        "duration": 56,
        "start_time": "2022-05-31T10:23:10.927Z"
      },
      {
        "duration": 3,
        "start_time": "2022-05-31T10:23:10.985Z"
      },
      {
        "duration": 6,
        "start_time": "2022-05-31T10:23:10.990Z"
      },
      {
        "duration": 52,
        "start_time": "2022-05-31T10:23:11.027Z"
      },
      {
        "duration": 0,
        "start_time": "2022-05-31T10:23:11.081Z"
      },
      {
        "duration": 0,
        "start_time": "2022-05-31T10:23:11.082Z"
      },
      {
        "duration": 0,
        "start_time": "2022-05-31T10:23:11.083Z"
      },
      {
        "duration": 0,
        "start_time": "2022-05-31T10:23:11.085Z"
      },
      {
        "duration": 0,
        "start_time": "2022-05-31T10:23:11.086Z"
      },
      {
        "duration": 0,
        "start_time": "2022-05-31T10:23:11.087Z"
      },
      {
        "duration": 0,
        "start_time": "2022-05-31T10:23:11.087Z"
      },
      {
        "duration": 0,
        "start_time": "2022-05-31T10:23:11.089Z"
      },
      {
        "duration": 0,
        "start_time": "2022-05-31T10:23:11.090Z"
      },
      {
        "duration": 2,
        "start_time": "2022-05-31T10:25:02.869Z"
      },
      {
        "duration": 140,
        "start_time": "2022-05-31T10:25:02.873Z"
      },
      {
        "duration": 35,
        "start_time": "2022-05-31T10:25:03.015Z"
      },
      {
        "duration": 14,
        "start_time": "2022-05-31T10:25:03.052Z"
      },
      {
        "duration": 99,
        "start_time": "2022-05-31T10:25:03.068Z"
      },
      {
        "duration": 21,
        "start_time": "2022-05-31T10:25:03.169Z"
      },
      {
        "duration": 52,
        "start_time": "2022-05-31T10:25:03.191Z"
      },
      {
        "duration": 48,
        "start_time": "2022-05-31T10:25:03.245Z"
      },
      {
        "duration": 6,
        "start_time": "2022-05-31T10:25:03.295Z"
      },
      {
        "duration": 39,
        "start_time": "2022-05-31T10:25:03.302Z"
      },
      {
        "duration": 88,
        "start_time": "2022-05-31T10:25:03.344Z"
      },
      {
        "duration": 44,
        "start_time": "2022-05-31T10:25:03.434Z"
      },
      {
        "duration": 3,
        "start_time": "2022-05-31T10:25:03.480Z"
      },
      {
        "duration": 10,
        "start_time": "2022-05-31T10:25:03.484Z"
      },
      {
        "duration": 8,
        "start_time": "2022-05-31T10:25:03.496Z"
      },
      {
        "duration": 252,
        "start_time": "2022-05-31T10:25:03.506Z"
      },
      {
        "duration": 347,
        "start_time": "2022-05-31T10:25:03.760Z"
      },
      {
        "duration": 152,
        "start_time": "2022-05-31T10:25:04.109Z"
      },
      {
        "duration": 38,
        "start_time": "2022-05-31T10:25:04.263Z"
      },
      {
        "duration": 45,
        "start_time": "2022-05-31T10:25:04.304Z"
      },
      {
        "duration": 20,
        "start_time": "2022-05-31T10:25:04.352Z"
      },
      {
        "duration": 29,
        "start_time": "2022-05-31T10:25:04.374Z"
      },
      {
        "duration": 17,
        "start_time": "2022-05-31T10:25:04.425Z"
      },
      {
        "duration": 29,
        "start_time": "2022-05-31T10:25:04.444Z"
      },
      {
        "duration": 37,
        "start_time": "2022-05-31T10:25:04.475Z"
      },
      {
        "duration": 37,
        "start_time": "2022-05-31T10:25:04.514Z"
      },
      {
        "duration": 40,
        "start_time": "2022-05-31T10:25:04.554Z"
      },
      {
        "duration": 63,
        "start_time": "2022-05-31T10:25:04.597Z"
      },
      {
        "duration": 36,
        "start_time": "2022-05-31T10:25:04.665Z"
      },
      {
        "duration": 59,
        "start_time": "2022-05-31T10:25:04.703Z"
      },
      {
        "duration": 65,
        "start_time": "2022-05-31T10:25:04.764Z"
      },
      {
        "duration": 2,
        "start_time": "2022-05-31T10:25:04.831Z"
      },
      {
        "duration": 7,
        "start_time": "2022-05-31T10:25:04.835Z"
      },
      {
        "duration": 41,
        "start_time": "2022-05-31T10:25:04.844Z"
      },
      {
        "duration": 0,
        "start_time": "2022-05-31T10:25:04.886Z"
      },
      {
        "duration": 0,
        "start_time": "2022-05-31T10:25:04.888Z"
      },
      {
        "duration": 0,
        "start_time": "2022-05-31T10:25:04.889Z"
      },
      {
        "duration": 0,
        "start_time": "2022-05-31T10:25:04.890Z"
      },
      {
        "duration": 0,
        "start_time": "2022-05-31T10:25:04.891Z"
      },
      {
        "duration": 0,
        "start_time": "2022-05-31T10:25:04.892Z"
      },
      {
        "duration": 0,
        "start_time": "2022-05-31T10:25:04.927Z"
      },
      {
        "duration": 0,
        "start_time": "2022-05-31T10:25:04.928Z"
      },
      {
        "duration": 0,
        "start_time": "2022-05-31T10:25:04.929Z"
      },
      {
        "duration": 4,
        "start_time": "2022-05-31T10:27:59.338Z"
      },
      {
        "duration": 188,
        "start_time": "2022-05-31T10:27:59.345Z"
      },
      {
        "duration": 39,
        "start_time": "2022-05-31T10:27:59.535Z"
      },
      {
        "duration": 49,
        "start_time": "2022-05-31T10:27:59.577Z"
      },
      {
        "duration": 114,
        "start_time": "2022-05-31T10:27:59.629Z"
      },
      {
        "duration": 24,
        "start_time": "2022-05-31T10:27:59.744Z"
      },
      {
        "duration": 70,
        "start_time": "2022-05-31T10:27:59.770Z"
      },
      {
        "duration": 55,
        "start_time": "2022-05-31T10:27:59.843Z"
      },
      {
        "duration": 5,
        "start_time": "2022-05-31T10:27:59.925Z"
      },
      {
        "duration": 25,
        "start_time": "2022-05-31T10:27:59.933Z"
      },
      {
        "duration": 91,
        "start_time": "2022-05-31T10:27:59.959Z"
      },
      {
        "duration": 39,
        "start_time": "2022-05-31T10:28:00.053Z"
      },
      {
        "duration": 4,
        "start_time": "2022-05-31T10:28:00.126Z"
      },
      {
        "duration": 81,
        "start_time": "2022-05-31T10:28:00.133Z"
      },
      {
        "duration": 10,
        "start_time": "2022-05-31T10:28:00.217Z"
      },
      {
        "duration": 453,
        "start_time": "2022-05-31T10:28:00.229Z"
      },
      {
        "duration": 400,
        "start_time": "2022-05-31T10:28:00.685Z"
      },
      {
        "duration": 165,
        "start_time": "2022-05-31T10:28:01.088Z"
      },
      {
        "duration": 57,
        "start_time": "2022-05-31T10:28:01.254Z"
      },
      {
        "duration": 40,
        "start_time": "2022-05-31T10:28:01.313Z"
      },
      {
        "duration": 78,
        "start_time": "2022-05-31T10:28:01.355Z"
      },
      {
        "duration": 27,
        "start_time": "2022-05-31T10:28:01.436Z"
      },
      {
        "duration": 42,
        "start_time": "2022-05-31T10:28:01.466Z"
      },
      {
        "duration": 29,
        "start_time": "2022-05-31T10:28:01.513Z"
      },
      {
        "duration": 33,
        "start_time": "2022-05-31T10:28:01.544Z"
      },
      {
        "duration": 39,
        "start_time": "2022-05-31T10:28:01.579Z"
      },
      {
        "duration": 91,
        "start_time": "2022-05-31T10:28:01.620Z"
      },
      {
        "duration": 45,
        "start_time": "2022-05-31T10:28:01.713Z"
      },
      {
        "duration": 43,
        "start_time": "2022-05-31T10:28:01.760Z"
      },
      {
        "duration": 57,
        "start_time": "2022-05-31T10:28:01.805Z"
      },
      {
        "duration": 99,
        "start_time": "2022-05-31T10:28:01.864Z"
      },
      {
        "duration": 14,
        "start_time": "2022-05-31T10:28:01.966Z"
      },
      {
        "duration": 11,
        "start_time": "2022-05-31T10:28:01.982Z"
      },
      {
        "duration": 769,
        "start_time": "2022-05-31T10:28:01.995Z"
      },
      {
        "duration": 0,
        "start_time": "2022-05-31T10:28:02.766Z"
      },
      {
        "duration": 0,
        "start_time": "2022-05-31T10:28:02.768Z"
      },
      {
        "duration": 0,
        "start_time": "2022-05-31T10:28:02.769Z"
      },
      {
        "duration": 0,
        "start_time": "2022-05-31T10:28:02.770Z"
      },
      {
        "duration": 0,
        "start_time": "2022-05-31T10:28:02.772Z"
      },
      {
        "duration": 0,
        "start_time": "2022-05-31T10:28:02.773Z"
      },
      {
        "duration": 0,
        "start_time": "2022-05-31T10:28:02.774Z"
      },
      {
        "duration": 0,
        "start_time": "2022-05-31T10:28:02.776Z"
      },
      {
        "duration": 0,
        "start_time": "2022-05-31T10:28:02.777Z"
      },
      {
        "duration": 47,
        "start_time": "2022-05-31T11:54:35.015Z"
      },
      {
        "duration": 32,
        "start_time": "2022-05-31T11:57:11.109Z"
      },
      {
        "duration": 4,
        "start_time": "2022-05-31T11:57:38.654Z"
      },
      {
        "duration": 136,
        "start_time": "2022-05-31T11:57:38.661Z"
      },
      {
        "duration": 38,
        "start_time": "2022-05-31T11:57:38.799Z"
      },
      {
        "duration": 13,
        "start_time": "2022-05-31T11:57:38.838Z"
      },
      {
        "duration": 122,
        "start_time": "2022-05-31T11:57:38.853Z"
      },
      {
        "duration": 52,
        "start_time": "2022-05-31T11:57:38.977Z"
      },
      {
        "duration": 37,
        "start_time": "2022-05-31T11:57:39.031Z"
      },
      {
        "duration": 97,
        "start_time": "2022-05-31T11:57:39.071Z"
      },
      {
        "duration": 5,
        "start_time": "2022-05-31T11:57:39.170Z"
      },
      {
        "duration": 54,
        "start_time": "2022-05-31T11:57:39.177Z"
      },
      {
        "duration": 39,
        "start_time": "2022-05-31T11:57:39.234Z"
      },
      {
        "duration": 61,
        "start_time": "2022-05-31T11:57:39.276Z"
      },
      {
        "duration": 3,
        "start_time": "2022-05-31T11:57:39.339Z"
      },
      {
        "duration": 16,
        "start_time": "2022-05-31T11:57:39.344Z"
      },
      {
        "duration": 5,
        "start_time": "2022-05-31T11:57:39.362Z"
      },
      {
        "duration": 303,
        "start_time": "2022-05-31T11:57:39.369Z"
      },
      {
        "duration": 256,
        "start_time": "2022-05-31T11:57:39.674Z"
      },
      {
        "duration": 264,
        "start_time": "2022-05-31T11:57:39.932Z"
      },
      {
        "duration": 68,
        "start_time": "2022-05-31T11:57:40.199Z"
      },
      {
        "duration": 31,
        "start_time": "2022-05-31T11:57:40.270Z"
      },
      {
        "duration": 40,
        "start_time": "2022-05-31T11:57:40.303Z"
      },
      {
        "duration": 53,
        "start_time": "2022-05-31T11:57:40.346Z"
      },
      {
        "duration": 20,
        "start_time": "2022-05-31T11:57:40.401Z"
      },
      {
        "duration": 54,
        "start_time": "2022-05-31T11:57:40.423Z"
      },
      {
        "duration": 22,
        "start_time": "2022-05-31T11:57:40.479Z"
      },
      {
        "duration": 25,
        "start_time": "2022-05-31T11:57:40.503Z"
      },
      {
        "duration": 24,
        "start_time": "2022-05-31T11:57:40.530Z"
      },
      {
        "duration": 57,
        "start_time": "2022-05-31T11:57:40.556Z"
      },
      {
        "duration": 47,
        "start_time": "2022-05-31T11:57:40.618Z"
      },
      {
        "duration": 59,
        "start_time": "2022-05-31T11:57:40.667Z"
      },
      {
        "duration": 56,
        "start_time": "2022-05-31T11:57:40.729Z"
      },
      {
        "duration": 3,
        "start_time": "2022-05-31T11:57:40.788Z"
      },
      {
        "duration": 37,
        "start_time": "2022-05-31T11:57:40.793Z"
      },
      {
        "duration": 52,
        "start_time": "2022-05-31T11:57:40.834Z"
      },
      {
        "duration": 0,
        "start_time": "2022-05-31T11:57:40.889Z"
      },
      {
        "duration": 0,
        "start_time": "2022-05-31T11:57:40.892Z"
      },
      {
        "duration": 0,
        "start_time": "2022-05-31T11:57:40.893Z"
      },
      {
        "duration": 0,
        "start_time": "2022-05-31T11:57:40.895Z"
      },
      {
        "duration": 0,
        "start_time": "2022-05-31T11:57:40.896Z"
      },
      {
        "duration": 0,
        "start_time": "2022-05-31T11:57:40.898Z"
      },
      {
        "duration": 0,
        "start_time": "2022-05-31T11:57:40.900Z"
      },
      {
        "duration": 0,
        "start_time": "2022-05-31T11:57:40.927Z"
      },
      {
        "duration": 0,
        "start_time": "2022-05-31T11:57:40.929Z"
      },
      {
        "duration": 66,
        "start_time": "2022-05-31T11:58:16.804Z"
      },
      {
        "duration": 3,
        "start_time": "2022-05-31T11:58:29.554Z"
      },
      {
        "duration": 136,
        "start_time": "2022-05-31T11:58:29.559Z"
      },
      {
        "duration": 45,
        "start_time": "2022-05-31T11:58:29.697Z"
      },
      {
        "duration": 16,
        "start_time": "2022-05-31T11:58:29.744Z"
      },
      {
        "duration": 91,
        "start_time": "2022-05-31T11:58:29.762Z"
      },
      {
        "duration": 20,
        "start_time": "2022-05-31T11:58:29.854Z"
      },
      {
        "duration": 53,
        "start_time": "2022-05-31T11:58:29.876Z"
      },
      {
        "duration": 43,
        "start_time": "2022-05-31T11:58:29.931Z"
      },
      {
        "duration": 4,
        "start_time": "2022-05-31T11:58:29.975Z"
      },
      {
        "duration": 55,
        "start_time": "2022-05-31T11:58:29.980Z"
      },
      {
        "duration": 40,
        "start_time": "2022-05-31T11:58:30.037Z"
      },
      {
        "duration": 56,
        "start_time": "2022-05-31T11:58:30.079Z"
      },
      {
        "duration": 2,
        "start_time": "2022-05-31T11:58:30.137Z"
      },
      {
        "duration": 22,
        "start_time": "2022-05-31T11:58:30.142Z"
      },
      {
        "duration": 22,
        "start_time": "2022-05-31T11:58:30.166Z"
      },
      {
        "duration": 280,
        "start_time": "2022-05-31T11:58:30.190Z"
      },
      {
        "duration": 248,
        "start_time": "2022-05-31T11:58:30.472Z"
      },
      {
        "duration": 149,
        "start_time": "2022-05-31T11:58:30.726Z"
      },
      {
        "duration": 64,
        "start_time": "2022-05-31T11:58:30.877Z"
      },
      {
        "duration": 25,
        "start_time": "2022-05-31T11:58:30.944Z"
      },
      {
        "duration": 52,
        "start_time": "2022-05-31T11:58:30.971Z"
      },
      {
        "duration": 70,
        "start_time": "2022-05-31T11:58:31.026Z"
      },
      {
        "duration": 32,
        "start_time": "2022-05-31T11:58:31.097Z"
      },
      {
        "duration": 27,
        "start_time": "2022-05-31T11:58:31.132Z"
      },
      {
        "duration": 46,
        "start_time": "2022-05-31T11:58:31.161Z"
      },
      {
        "duration": 50,
        "start_time": "2022-05-31T11:58:31.210Z"
      },
      {
        "duration": 23,
        "start_time": "2022-05-31T11:58:31.263Z"
      },
      {
        "duration": 62,
        "start_time": "2022-05-31T11:58:31.289Z"
      },
      {
        "duration": 108,
        "start_time": "2022-05-31T11:58:31.353Z"
      },
      {
        "duration": 36,
        "start_time": "2022-05-31T11:58:31.463Z"
      },
      {
        "duration": 49,
        "start_time": "2022-05-31T11:58:31.526Z"
      },
      {
        "duration": 6,
        "start_time": "2022-05-31T11:58:31.576Z"
      },
      {
        "duration": 19,
        "start_time": "2022-05-31T11:58:31.583Z"
      },
      {
        "duration": 78,
        "start_time": "2022-05-31T11:58:31.604Z"
      },
      {
        "duration": 0,
        "start_time": "2022-05-31T11:58:31.684Z"
      },
      {
        "duration": 0,
        "start_time": "2022-05-31T11:58:31.685Z"
      },
      {
        "duration": 0,
        "start_time": "2022-05-31T11:58:31.687Z"
      },
      {
        "duration": 0,
        "start_time": "2022-05-31T11:58:31.688Z"
      },
      {
        "duration": 0,
        "start_time": "2022-05-31T11:58:31.689Z"
      },
      {
        "duration": 0,
        "start_time": "2022-05-31T11:58:31.691Z"
      },
      {
        "duration": 0,
        "start_time": "2022-05-31T11:58:31.692Z"
      },
      {
        "duration": 0,
        "start_time": "2022-05-31T11:58:31.693Z"
      },
      {
        "duration": 0,
        "start_time": "2022-05-31T11:58:31.695Z"
      },
      {
        "duration": 4,
        "start_time": "2022-05-31T11:58:55.607Z"
      },
      {
        "duration": 175,
        "start_time": "2022-05-31T11:58:55.614Z"
      },
      {
        "duration": 61,
        "start_time": "2022-05-31T11:58:55.791Z"
      },
      {
        "duration": 22,
        "start_time": "2022-05-31T11:58:55.855Z"
      },
      {
        "duration": 103,
        "start_time": "2022-05-31T11:58:55.879Z"
      },
      {
        "duration": 56,
        "start_time": "2022-05-31T11:58:55.984Z"
      },
      {
        "duration": 30,
        "start_time": "2022-05-31T11:58:56.042Z"
      },
      {
        "duration": 64,
        "start_time": "2022-05-31T11:58:56.073Z"
      },
      {
        "duration": 4,
        "start_time": "2022-05-31T11:58:56.139Z"
      },
      {
        "duration": 28,
        "start_time": "2022-05-31T11:58:56.147Z"
      },
      {
        "duration": 85,
        "start_time": "2022-05-31T11:58:56.177Z"
      },
      {
        "duration": 35,
        "start_time": "2022-05-31T11:58:56.264Z"
      },
      {
        "duration": 25,
        "start_time": "2022-05-31T11:58:56.302Z"
      },
      {
        "duration": 13,
        "start_time": "2022-05-31T11:58:56.331Z"
      },
      {
        "duration": 10,
        "start_time": "2022-05-31T11:58:56.346Z"
      },
      {
        "duration": 350,
        "start_time": "2022-05-31T11:58:56.358Z"
      },
      {
        "duration": 256,
        "start_time": "2022-05-31T11:58:56.710Z"
      },
      {
        "duration": 164,
        "start_time": "2022-05-31T11:58:56.968Z"
      },
      {
        "duration": 48,
        "start_time": "2022-05-31T11:58:57.134Z"
      },
      {
        "duration": 48,
        "start_time": "2022-05-31T11:58:57.184Z"
      },
      {
        "duration": 14,
        "start_time": "2022-05-31T11:58:57.235Z"
      },
      {
        "duration": 16,
        "start_time": "2022-05-31T11:58:57.250Z"
      },
      {
        "duration": 18,
        "start_time": "2022-05-31T11:58:57.268Z"
      },
      {
        "duration": 51,
        "start_time": "2022-05-31T11:58:57.288Z"
      },
      {
        "duration": 24,
        "start_time": "2022-05-31T11:58:57.341Z"
      },
      {
        "duration": 34,
        "start_time": "2022-05-31T11:58:57.367Z"
      },
      {
        "duration": 35,
        "start_time": "2022-05-31T11:58:57.402Z"
      },
      {
        "duration": 45,
        "start_time": "2022-05-31T11:58:57.442Z"
      },
      {
        "duration": 168,
        "start_time": "2022-05-31T11:58:57.489Z"
      },
      {
        "duration": 41,
        "start_time": "2022-05-31T11:58:57.659Z"
      },
      {
        "duration": 37,
        "start_time": "2022-05-31T11:58:57.727Z"
      },
      {
        "duration": 69,
        "start_time": "2022-05-31T11:58:57.765Z"
      },
      {
        "duration": 3,
        "start_time": "2022-05-31T11:58:57.836Z"
      },
      {
        "duration": 13,
        "start_time": "2022-05-31T11:58:57.840Z"
      },
      {
        "duration": 73,
        "start_time": "2022-05-31T11:58:57.855Z"
      },
      {
        "duration": 0,
        "start_time": "2022-05-31T11:58:57.930Z"
      },
      {
        "duration": 0,
        "start_time": "2022-05-31T11:58:57.932Z"
      },
      {
        "duration": 0,
        "start_time": "2022-05-31T11:58:57.934Z"
      },
      {
        "duration": 0,
        "start_time": "2022-05-31T11:58:57.935Z"
      },
      {
        "duration": 0,
        "start_time": "2022-05-31T11:58:57.936Z"
      },
      {
        "duration": 0,
        "start_time": "2022-05-31T11:58:57.937Z"
      },
      {
        "duration": 0,
        "start_time": "2022-05-31T11:58:57.938Z"
      },
      {
        "duration": 0,
        "start_time": "2022-05-31T11:58:57.939Z"
      },
      {
        "duration": 0,
        "start_time": "2022-05-31T11:58:57.940Z"
      },
      {
        "duration": 3,
        "start_time": "2022-05-31T12:03:28.109Z"
      },
      {
        "duration": 161,
        "start_time": "2022-05-31T12:03:28.115Z"
      },
      {
        "duration": 63,
        "start_time": "2022-05-31T12:03:28.278Z"
      },
      {
        "duration": 20,
        "start_time": "2022-05-31T12:03:28.343Z"
      },
      {
        "duration": 106,
        "start_time": "2022-05-31T12:03:28.366Z"
      },
      {
        "duration": 53,
        "start_time": "2022-05-31T12:03:28.474Z"
      },
      {
        "duration": 32,
        "start_time": "2022-05-31T12:03:28.530Z"
      },
      {
        "duration": 88,
        "start_time": "2022-05-31T12:03:28.564Z"
      },
      {
        "duration": 4,
        "start_time": "2022-05-31T12:03:28.655Z"
      },
      {
        "duration": 29,
        "start_time": "2022-05-31T12:03:28.661Z"
      },
      {
        "duration": 72,
        "start_time": "2022-05-31T12:03:28.692Z"
      },
      {
        "duration": 24,
        "start_time": "2022-05-31T12:03:28.766Z"
      },
      {
        "duration": 3,
        "start_time": "2022-05-31T12:03:28.791Z"
      },
      {
        "duration": 4,
        "start_time": "2022-05-31T12:03:28.825Z"
      },
      {
        "duration": 16,
        "start_time": "2022-05-31T12:03:28.830Z"
      },
      {
        "duration": 282,
        "start_time": "2022-05-31T12:03:28.848Z"
      },
      {
        "duration": 265,
        "start_time": "2022-05-31T12:03:29.131Z"
      },
      {
        "duration": 165,
        "start_time": "2022-05-31T12:03:29.399Z"
      },
      {
        "duration": 37,
        "start_time": "2022-05-31T12:03:29.566Z"
      },
      {
        "duration": 40,
        "start_time": "2022-05-31T12:03:29.605Z"
      },
      {
        "duration": 10,
        "start_time": "2022-05-31T12:03:29.647Z"
      },
      {
        "duration": 11,
        "start_time": "2022-05-31T12:03:29.659Z"
      },
      {
        "duration": 16,
        "start_time": "2022-05-31T12:03:29.672Z"
      },
      {
        "duration": 13,
        "start_time": "2022-05-31T12:03:29.727Z"
      },
      {
        "duration": 19,
        "start_time": "2022-05-31T12:03:29.742Z"
      },
      {
        "duration": 21,
        "start_time": "2022-05-31T12:03:29.763Z"
      },
      {
        "duration": 15,
        "start_time": "2022-05-31T12:03:29.785Z"
      },
      {
        "duration": 36,
        "start_time": "2022-05-31T12:03:29.827Z"
      },
      {
        "duration": 72,
        "start_time": "2022-05-31T12:03:29.865Z"
      },
      {
        "duration": 34,
        "start_time": "2022-05-31T12:03:29.939Z"
      },
      {
        "duration": 59,
        "start_time": "2022-05-31T12:03:29.975Z"
      },
      {
        "duration": 42,
        "start_time": "2022-05-31T12:03:30.036Z"
      },
      {
        "duration": 60,
        "start_time": "2022-05-31T12:03:30.080Z"
      },
      {
        "duration": 45,
        "start_time": "2022-05-31T12:03:30.142Z"
      },
      {
        "duration": 2,
        "start_time": "2022-05-31T12:03:30.190Z"
      },
      {
        "duration": 34,
        "start_time": "2022-05-31T12:03:30.194Z"
      },
      {
        "duration": 62,
        "start_time": "2022-05-31T12:03:30.230Z"
      },
      {
        "duration": 0,
        "start_time": "2022-05-31T12:03:30.294Z"
      },
      {
        "duration": 0,
        "start_time": "2022-05-31T12:03:30.295Z"
      },
      {
        "duration": 0,
        "start_time": "2022-05-31T12:03:30.296Z"
      },
      {
        "duration": 0,
        "start_time": "2022-05-31T12:03:30.298Z"
      },
      {
        "duration": 0,
        "start_time": "2022-05-31T12:03:30.299Z"
      },
      {
        "duration": 0,
        "start_time": "2022-05-31T12:03:30.325Z"
      },
      {
        "duration": 0,
        "start_time": "2022-05-31T12:03:30.328Z"
      },
      {
        "duration": 0,
        "start_time": "2022-05-31T12:03:30.330Z"
      },
      {
        "duration": 0,
        "start_time": "2022-05-31T12:03:30.331Z"
      },
      {
        "duration": 756,
        "start_time": "2022-05-31T12:04:35.415Z"
      },
      {
        "duration": 163,
        "start_time": "2022-05-31T12:04:36.173Z"
      },
      {
        "duration": 35,
        "start_time": "2022-05-31T12:04:36.338Z"
      },
      {
        "duration": 11,
        "start_time": "2022-05-31T12:04:36.375Z"
      },
      {
        "duration": 99,
        "start_time": "2022-05-31T12:04:36.388Z"
      },
      {
        "duration": 54,
        "start_time": "2022-05-31T12:04:36.489Z"
      },
      {
        "duration": 20,
        "start_time": "2022-05-31T12:04:36.545Z"
      },
      {
        "duration": 76,
        "start_time": "2022-05-31T12:04:36.567Z"
      },
      {
        "duration": 4,
        "start_time": "2022-05-31T12:04:36.645Z"
      },
      {
        "duration": 28,
        "start_time": "2022-05-31T12:04:36.651Z"
      },
      {
        "duration": 73,
        "start_time": "2022-05-31T12:04:36.681Z"
      },
      {
        "duration": 21,
        "start_time": "2022-05-31T12:04:36.755Z"
      },
      {
        "duration": 2,
        "start_time": "2022-05-31T12:04:36.778Z"
      },
      {
        "duration": 43,
        "start_time": "2022-05-31T12:04:36.783Z"
      },
      {
        "duration": 8,
        "start_time": "2022-05-31T12:04:36.828Z"
      },
      {
        "duration": 315,
        "start_time": "2022-05-31T12:04:36.837Z"
      },
      {
        "duration": 285,
        "start_time": "2022-05-31T12:04:37.154Z"
      },
      {
        "duration": 159,
        "start_time": "2022-05-31T12:04:37.441Z"
      },
      {
        "duration": 63,
        "start_time": "2022-05-31T12:04:37.602Z"
      },
      {
        "duration": 31,
        "start_time": "2022-05-31T12:04:37.667Z"
      },
      {
        "duration": 15,
        "start_time": "2022-05-31T12:04:37.725Z"
      },
      {
        "duration": 14,
        "start_time": "2022-05-31T12:04:37.743Z"
      },
      {
        "duration": 28,
        "start_time": "2022-05-31T12:04:37.759Z"
      },
      {
        "duration": 12,
        "start_time": "2022-05-31T12:04:37.789Z"
      },
      {
        "duration": 36,
        "start_time": "2022-05-31T12:04:37.803Z"
      },
      {
        "duration": 45,
        "start_time": "2022-05-31T12:04:37.840Z"
      },
      {
        "duration": 17,
        "start_time": "2022-05-31T12:04:37.887Z"
      },
      {
        "duration": 52,
        "start_time": "2022-05-31T12:04:37.906Z"
      },
      {
        "duration": 45,
        "start_time": "2022-05-31T12:04:37.960Z"
      },
      {
        "duration": 31,
        "start_time": "2022-05-31T12:04:38.026Z"
      },
      {
        "duration": 27,
        "start_time": "2022-05-31T12:04:38.059Z"
      },
      {
        "duration": 54,
        "start_time": "2022-05-31T12:04:38.125Z"
      },
      {
        "duration": 63,
        "start_time": "2022-05-31T12:04:38.181Z"
      },
      {
        "duration": 53,
        "start_time": "2022-05-31T12:04:38.246Z"
      },
      {
        "duration": 4,
        "start_time": "2022-05-31T12:04:38.325Z"
      },
      {
        "duration": 13,
        "start_time": "2022-05-31T12:04:38.330Z"
      },
      {
        "duration": 133,
        "start_time": "2022-05-31T12:04:38.345Z"
      },
      {
        "duration": 0,
        "start_time": "2022-05-31T12:04:38.480Z"
      },
      {
        "duration": 0,
        "start_time": "2022-05-31T12:04:38.481Z"
      },
      {
        "duration": 0,
        "start_time": "2022-05-31T12:04:38.482Z"
      },
      {
        "duration": 0,
        "start_time": "2022-05-31T12:04:38.484Z"
      },
      {
        "duration": 0,
        "start_time": "2022-05-31T12:04:38.486Z"
      },
      {
        "duration": 0,
        "start_time": "2022-05-31T12:04:38.487Z"
      },
      {
        "duration": 0,
        "start_time": "2022-05-31T12:04:38.488Z"
      },
      {
        "duration": 0,
        "start_time": "2022-05-31T12:04:38.490Z"
      },
      {
        "duration": 0,
        "start_time": "2022-05-31T12:04:38.491Z"
      },
      {
        "duration": 11,
        "start_time": "2022-05-31T12:11:47.911Z"
      },
      {
        "duration": 4,
        "start_time": "2022-05-31T12:12:12.943Z"
      },
      {
        "duration": 15,
        "start_time": "2022-05-31T12:12:24.047Z"
      },
      {
        "duration": 12,
        "start_time": "2022-05-31T12:12:41.688Z"
      },
      {
        "duration": 28,
        "start_time": "2022-05-31T12:13:02.332Z"
      },
      {
        "duration": 29,
        "start_time": "2022-05-31T12:13:46.376Z"
      },
      {
        "duration": 45,
        "start_time": "2022-05-31T12:14:04.747Z"
      },
      {
        "duration": 34,
        "start_time": "2022-05-31T12:14:20.625Z"
      },
      {
        "duration": 27,
        "start_time": "2022-05-31T12:15:31.539Z"
      },
      {
        "duration": 3,
        "start_time": "2022-05-31T12:17:08.756Z"
      },
      {
        "duration": 197,
        "start_time": "2022-05-31T12:17:08.761Z"
      },
      {
        "duration": 31,
        "start_time": "2022-05-31T12:17:08.960Z"
      },
      {
        "duration": 49,
        "start_time": "2022-05-31T12:17:08.994Z"
      },
      {
        "duration": 108,
        "start_time": "2022-05-31T12:17:09.046Z"
      },
      {
        "duration": 29,
        "start_time": "2022-05-31T12:17:09.156Z"
      },
      {
        "duration": 54,
        "start_time": "2022-05-31T12:17:09.186Z"
      },
      {
        "duration": 44,
        "start_time": "2022-05-31T12:17:09.242Z"
      },
      {
        "duration": 4,
        "start_time": "2022-05-31T12:17:09.288Z"
      },
      {
        "duration": 64,
        "start_time": "2022-05-31T12:17:09.294Z"
      },
      {
        "duration": 46,
        "start_time": "2022-05-31T12:17:09.360Z"
      },
      {
        "duration": 36,
        "start_time": "2022-05-31T12:17:09.425Z"
      },
      {
        "duration": 9,
        "start_time": "2022-05-31T12:17:09.462Z"
      },
      {
        "duration": 22,
        "start_time": "2022-05-31T12:17:09.472Z"
      },
      {
        "duration": 13,
        "start_time": "2022-05-31T12:17:09.496Z"
      },
      {
        "duration": 302,
        "start_time": "2022-05-31T12:17:09.511Z"
      },
      {
        "duration": 377,
        "start_time": "2022-05-31T12:17:09.814Z"
      },
      {
        "duration": 189,
        "start_time": "2022-05-31T12:17:10.193Z"
      },
      {
        "duration": 49,
        "start_time": "2022-05-31T12:17:10.384Z"
      },
      {
        "duration": 32,
        "start_time": "2022-05-31T12:17:10.435Z"
      },
      {
        "duration": 20,
        "start_time": "2022-05-31T12:17:10.469Z"
      },
      {
        "duration": 25,
        "start_time": "2022-05-31T12:17:10.491Z"
      },
      {
        "duration": 40,
        "start_time": "2022-05-31T12:17:10.518Z"
      },
      {
        "duration": 19,
        "start_time": "2022-05-31T12:17:10.560Z"
      },
      {
        "duration": 12,
        "start_time": "2022-05-31T12:17:10.582Z"
      },
      {
        "duration": 36,
        "start_time": "2022-05-31T12:17:10.596Z"
      },
      {
        "duration": 40,
        "start_time": "2022-05-31T12:17:10.634Z"
      },
      {
        "duration": 28,
        "start_time": "2022-05-31T12:17:10.678Z"
      },
      {
        "duration": 49,
        "start_time": "2022-05-31T12:17:10.708Z"
      },
      {
        "duration": 41,
        "start_time": "2022-05-31T12:17:10.759Z"
      },
      {
        "duration": 70,
        "start_time": "2022-05-31T12:17:10.803Z"
      },
      {
        "duration": 46,
        "start_time": "2022-05-31T12:17:10.874Z"
      },
      {
        "duration": 40,
        "start_time": "2022-05-31T12:17:10.921Z"
      },
      {
        "duration": 63,
        "start_time": "2022-05-31T12:17:10.963Z"
      },
      {
        "duration": 3,
        "start_time": "2022-05-31T12:17:11.028Z"
      },
      {
        "duration": 32,
        "start_time": "2022-05-31T12:17:11.033Z"
      },
      {
        "duration": 16,
        "start_time": "2022-05-31T12:17:11.067Z"
      },
      {
        "duration": 11,
        "start_time": "2022-05-31T12:17:11.084Z"
      },
      {
        "duration": 6,
        "start_time": "2022-05-31T12:17:11.097Z"
      },
      {
        "duration": 20,
        "start_time": "2022-05-31T12:17:11.105Z"
      },
      {
        "duration": 23,
        "start_time": "2022-05-31T12:17:11.127Z"
      },
      {
        "duration": 23,
        "start_time": "2022-05-31T12:18:09.152Z"
      },
      {
        "duration": 36,
        "start_time": "2022-05-31T12:19:00.107Z"
      },
      {
        "duration": 2,
        "start_time": "2022-05-31T12:21:20.151Z"
      },
      {
        "duration": 150,
        "start_time": "2022-05-31T12:21:20.155Z"
      },
      {
        "duration": 36,
        "start_time": "2022-05-31T12:21:20.307Z"
      },
      {
        "duration": 12,
        "start_time": "2022-05-31T12:21:20.345Z"
      },
      {
        "duration": 100,
        "start_time": "2022-05-31T12:21:20.359Z"
      },
      {
        "duration": 21,
        "start_time": "2022-05-31T12:21:20.460Z"
      },
      {
        "duration": 49,
        "start_time": "2022-05-31T12:21:20.482Z"
      },
      {
        "duration": 38,
        "start_time": "2022-05-31T12:21:20.533Z"
      },
      {
        "duration": 4,
        "start_time": "2022-05-31T12:21:20.573Z"
      },
      {
        "duration": 56,
        "start_time": "2022-05-31T12:21:20.579Z"
      },
      {
        "duration": 35,
        "start_time": "2022-05-31T12:21:20.637Z"
      },
      {
        "duration": 54,
        "start_time": "2022-05-31T12:21:20.673Z"
      },
      {
        "duration": 2,
        "start_time": "2022-05-31T12:21:20.729Z"
      },
      {
        "duration": 18,
        "start_time": "2022-05-31T12:21:20.733Z"
      },
      {
        "duration": 24,
        "start_time": "2022-05-31T12:21:20.753Z"
      },
      {
        "duration": 279,
        "start_time": "2022-05-31T12:21:20.779Z"
      },
      {
        "duration": 244,
        "start_time": "2022-05-31T12:21:21.060Z"
      },
      {
        "duration": 175,
        "start_time": "2022-05-31T12:21:21.305Z"
      },
      {
        "duration": 46,
        "start_time": "2022-05-31T12:21:21.482Z"
      },
      {
        "duration": 20,
        "start_time": "2022-05-31T12:21:21.530Z"
      },
      {
        "duration": 11,
        "start_time": "2022-05-31T12:21:21.552Z"
      },
      {
        "duration": 19,
        "start_time": "2022-05-31T12:21:21.564Z"
      },
      {
        "duration": 42,
        "start_time": "2022-05-31T12:21:21.584Z"
      },
      {
        "duration": 12,
        "start_time": "2022-05-31T12:21:21.628Z"
      },
      {
        "duration": 15,
        "start_time": "2022-05-31T12:21:21.642Z"
      },
      {
        "duration": 31,
        "start_time": "2022-05-31T12:21:21.658Z"
      },
      {
        "duration": 23,
        "start_time": "2022-05-31T12:21:21.691Z"
      },
      {
        "duration": 37,
        "start_time": "2022-05-31T12:21:21.718Z"
      },
      {
        "duration": 28,
        "start_time": "2022-05-31T12:21:21.757Z"
      },
      {
        "duration": 45,
        "start_time": "2022-05-31T12:21:21.786Z"
      },
      {
        "duration": 21,
        "start_time": "2022-05-31T12:21:21.833Z"
      },
      {
        "duration": 41,
        "start_time": "2022-05-31T12:21:21.855Z"
      },
      {
        "duration": 28,
        "start_time": "2022-05-31T12:21:21.926Z"
      },
      {
        "duration": 20,
        "start_time": "2022-05-31T12:21:21.957Z"
      },
      {
        "duration": 61,
        "start_time": "2022-05-31T12:21:21.979Z"
      },
      {
        "duration": 12,
        "start_time": "2022-05-31T12:21:22.042Z"
      },
      {
        "duration": 16,
        "start_time": "2022-05-31T12:21:22.056Z"
      },
      {
        "duration": 29,
        "start_time": "2022-05-31T12:21:22.073Z"
      },
      {
        "duration": 24,
        "start_time": "2022-05-31T12:21:22.104Z"
      },
      {
        "duration": 12,
        "start_time": "2022-05-31T12:21:22.130Z"
      },
      {
        "duration": 17,
        "start_time": "2022-05-31T12:21:22.144Z"
      },
      {
        "duration": 18,
        "start_time": "2022-05-31T12:21:22.163Z"
      },
      {
        "duration": 14,
        "start_time": "2022-05-31T12:27:57.035Z"
      },
      {
        "duration": 686,
        "start_time": "2022-05-31T12:48:53.760Z"
      },
      {
        "duration": 161,
        "start_time": "2022-05-31T12:48:54.449Z"
      },
      {
        "duration": 39,
        "start_time": "2022-05-31T12:48:54.612Z"
      },
      {
        "duration": 13,
        "start_time": "2022-05-31T12:48:54.654Z"
      },
      {
        "duration": 84,
        "start_time": "2022-05-31T12:48:54.669Z"
      },
      {
        "duration": 22,
        "start_time": "2022-05-31T12:48:54.754Z"
      },
      {
        "duration": 49,
        "start_time": "2022-05-31T12:48:54.778Z"
      },
      {
        "duration": 41,
        "start_time": "2022-05-31T12:48:54.829Z"
      },
      {
        "duration": 3,
        "start_time": "2022-05-31T12:48:54.872Z"
      },
      {
        "duration": 53,
        "start_time": "2022-05-31T12:48:54.878Z"
      },
      {
        "duration": 34,
        "start_time": "2022-05-31T12:48:54.933Z"
      },
      {
        "duration": 24,
        "start_time": "2022-05-31T12:48:54.968Z"
      },
      {
        "duration": 32,
        "start_time": "2022-05-31T12:48:54.994Z"
      },
      {
        "duration": 12,
        "start_time": "2022-05-31T12:48:55.028Z"
      },
      {
        "duration": 11,
        "start_time": "2022-05-31T12:48:55.041Z"
      },
      {
        "duration": 289,
        "start_time": "2022-05-31T12:48:55.053Z"
      },
      {
        "duration": 253,
        "start_time": "2022-05-31T12:48:55.343Z"
      },
      {
        "duration": 147,
        "start_time": "2022-05-31T12:48:55.598Z"
      },
      {
        "duration": 33,
        "start_time": "2022-05-31T12:48:55.747Z"
      },
      {
        "duration": 18,
        "start_time": "2022-05-31T12:48:55.782Z"
      },
      {
        "duration": 9,
        "start_time": "2022-05-31T12:48:55.826Z"
      },
      {
        "duration": 15,
        "start_time": "2022-05-31T12:48:55.837Z"
      },
      {
        "duration": 14,
        "start_time": "2022-05-31T12:48:55.854Z"
      },
      {
        "duration": 105,
        "start_time": "2022-05-31T12:48:55.869Z"
      },
      {
        "duration": 0,
        "start_time": "2022-05-31T12:48:55.975Z"
      },
      {
        "duration": 0,
        "start_time": "2022-05-31T12:48:55.977Z"
      },
      {
        "duration": 0,
        "start_time": "2022-05-31T12:48:55.978Z"
      },
      {
        "duration": 0,
        "start_time": "2022-05-31T12:48:55.979Z"
      },
      {
        "duration": 0,
        "start_time": "2022-05-31T12:48:55.981Z"
      },
      {
        "duration": 0,
        "start_time": "2022-05-31T12:48:55.982Z"
      },
      {
        "duration": 0,
        "start_time": "2022-05-31T12:48:55.983Z"
      },
      {
        "duration": 0,
        "start_time": "2022-05-31T12:48:55.984Z"
      },
      {
        "duration": 0,
        "start_time": "2022-05-31T12:48:55.985Z"
      },
      {
        "duration": 0,
        "start_time": "2022-05-31T12:48:55.986Z"
      },
      {
        "duration": 12,
        "start_time": "2022-05-31T12:50:57.965Z"
      },
      {
        "duration": 4,
        "start_time": "2022-05-31T12:50:58.874Z"
      },
      {
        "duration": 15,
        "start_time": "2022-05-31T12:50:59.987Z"
      },
      {
        "duration": 12,
        "start_time": "2022-05-31T12:51:00.267Z"
      },
      {
        "duration": 3,
        "start_time": "2022-05-31T12:51:03.596Z"
      },
      {
        "duration": 132,
        "start_time": "2022-05-31T12:51:03.616Z"
      },
      {
        "duration": 31,
        "start_time": "2022-05-31T12:51:03.750Z"
      },
      {
        "duration": 11,
        "start_time": "2022-05-31T12:51:03.782Z"
      },
      {
        "duration": 101,
        "start_time": "2022-05-31T12:51:03.795Z"
      },
      {
        "duration": 49,
        "start_time": "2022-05-31T12:51:03.899Z"
      },
      {
        "duration": 24,
        "start_time": "2022-05-31T12:51:03.950Z"
      },
      {
        "duration": 81,
        "start_time": "2022-05-31T12:51:03.976Z"
      },
      {
        "duration": 4,
        "start_time": "2022-05-31T12:51:04.059Z"
      },
      {
        "duration": 20,
        "start_time": "2022-05-31T12:51:04.065Z"
      },
      {
        "duration": 69,
        "start_time": "2022-05-31T12:51:04.087Z"
      },
      {
        "duration": 22,
        "start_time": "2022-05-31T12:51:04.158Z"
      },
      {
        "duration": 3,
        "start_time": "2022-05-31T12:51:04.182Z"
      },
      {
        "duration": 7,
        "start_time": "2022-05-31T12:51:04.186Z"
      },
      {
        "duration": 30,
        "start_time": "2022-05-31T12:51:04.196Z"
      },
      {
        "duration": 316,
        "start_time": "2022-05-31T12:51:04.228Z"
      },
      {
        "duration": 358,
        "start_time": "2022-05-31T12:51:04.546Z"
      },
      {
        "duration": 166,
        "start_time": "2022-05-31T12:51:04.906Z"
      },
      {
        "duration": 36,
        "start_time": "2022-05-31T12:51:05.074Z"
      },
      {
        "duration": 33,
        "start_time": "2022-05-31T12:51:05.112Z"
      },
      {
        "duration": 11,
        "start_time": "2022-05-31T12:51:05.147Z"
      },
      {
        "duration": 21,
        "start_time": "2022-05-31T12:51:05.160Z"
      },
      {
        "duration": 45,
        "start_time": "2022-05-31T12:51:05.182Z"
      },
      {
        "duration": 16,
        "start_time": "2022-05-31T12:51:05.228Z"
      },
      {
        "duration": 10,
        "start_time": "2022-05-31T12:51:05.246Z"
      },
      {
        "duration": 17,
        "start_time": "2022-05-31T12:51:05.258Z"
      },
      {
        "duration": 16,
        "start_time": "2022-05-31T12:51:05.277Z"
      },
      {
        "duration": 53,
        "start_time": "2022-05-31T12:51:05.295Z"
      },
      {
        "duration": 34,
        "start_time": "2022-05-31T12:51:05.350Z"
      },
      {
        "duration": 55,
        "start_time": "2022-05-31T12:51:05.385Z"
      },
      {
        "duration": 19,
        "start_time": "2022-05-31T12:51:05.442Z"
      },
      {
        "duration": 40,
        "start_time": "2022-05-31T12:51:05.463Z"
      },
      {
        "duration": 31,
        "start_time": "2022-05-31T12:51:05.527Z"
      },
      {
        "duration": 20,
        "start_time": "2022-05-31T12:51:05.559Z"
      },
      {
        "duration": 57,
        "start_time": "2022-05-31T12:51:05.580Z"
      },
      {
        "duration": 25,
        "start_time": "2022-05-31T12:52:16.206Z"
      },
      {
        "duration": 11,
        "start_time": "2022-05-31T13:14:16.264Z"
      },
      {
        "duration": 41,
        "start_time": "2022-05-31T13:15:05.340Z"
      },
      {
        "duration": 30,
        "start_time": "2022-05-31T13:16:11.253Z"
      },
      {
        "duration": 35,
        "start_time": "2022-05-31T13:16:35.891Z"
      },
      {
        "duration": 3,
        "start_time": "2022-05-31T13:16:43.047Z"
      },
      {
        "duration": 144,
        "start_time": "2022-05-31T13:16:43.052Z"
      },
      {
        "duration": 30,
        "start_time": "2022-05-31T13:16:43.198Z"
      },
      {
        "duration": 11,
        "start_time": "2022-05-31T13:16:43.230Z"
      },
      {
        "duration": 90,
        "start_time": "2022-05-31T13:16:43.244Z"
      },
      {
        "duration": 21,
        "start_time": "2022-05-31T13:16:43.336Z"
      },
      {
        "duration": 22,
        "start_time": "2022-05-31T13:16:43.359Z"
      },
      {
        "duration": 67,
        "start_time": "2022-05-31T13:16:43.383Z"
      },
      {
        "duration": 3,
        "start_time": "2022-05-31T13:16:43.452Z"
      },
      {
        "duration": 23,
        "start_time": "2022-05-31T13:16:43.457Z"
      },
      {
        "duration": 76,
        "start_time": "2022-05-31T13:16:43.482Z"
      },
      {
        "duration": 23,
        "start_time": "2022-05-31T13:16:43.560Z"
      },
      {
        "duration": 28,
        "start_time": "2022-05-31T13:16:45.206Z"
      },
      {
        "duration": 45,
        "start_time": "2022-05-31T13:16:45.847Z"
      },
      {
        "duration": 33,
        "start_time": "2022-05-31T13:16:57.829Z"
      },
      {
        "duration": 34,
        "start_time": "2022-05-31T13:17:07.391Z"
      },
      {
        "duration": 35,
        "start_time": "2022-05-31T13:17:33.842Z"
      },
      {
        "duration": 38,
        "start_time": "2022-05-31T13:18:12.924Z"
      },
      {
        "duration": 36,
        "start_time": "2022-05-31T13:19:26.724Z"
      },
      {
        "duration": 41,
        "start_time": "2022-05-31T13:20:04.300Z"
      },
      {
        "duration": 37,
        "start_time": "2022-05-31T13:25:38.552Z"
      },
      {
        "duration": 5,
        "start_time": "2022-05-31T13:26:36.489Z"
      },
      {
        "duration": 36,
        "start_time": "2022-05-31T13:27:00.575Z"
      },
      {
        "duration": 44,
        "start_time": "2022-05-31T13:28:21.702Z"
      },
      {
        "duration": 51,
        "start_time": "2022-05-31T13:28:44.302Z"
      },
      {
        "duration": 44,
        "start_time": "2022-05-31T13:30:04.291Z"
      },
      {
        "duration": 41,
        "start_time": "2022-05-31T13:31:23.468Z"
      },
      {
        "duration": 2,
        "start_time": "2022-05-31T13:34:34.093Z"
      },
      {
        "duration": 136,
        "start_time": "2022-05-31T13:34:34.097Z"
      },
      {
        "duration": 32,
        "start_time": "2022-05-31T13:34:34.235Z"
      },
      {
        "duration": 13,
        "start_time": "2022-05-31T13:34:34.270Z"
      },
      {
        "duration": 104,
        "start_time": "2022-05-31T13:34:34.284Z"
      },
      {
        "duration": 59,
        "start_time": "2022-05-31T13:34:34.390Z"
      },
      {
        "duration": 28,
        "start_time": "2022-05-31T13:34:34.452Z"
      },
      {
        "duration": 76,
        "start_time": "2022-05-31T13:34:34.482Z"
      },
      {
        "duration": 5,
        "start_time": "2022-05-31T13:34:34.561Z"
      },
      {
        "duration": 62,
        "start_time": "2022-05-31T13:34:34.570Z"
      },
      {
        "duration": 42,
        "start_time": "2022-05-31T13:34:34.634Z"
      },
      {
        "duration": 22,
        "start_time": "2022-05-31T13:34:34.677Z"
      },
      {
        "duration": 41,
        "start_time": "2022-05-31T13:34:34.727Z"
      },
      {
        "duration": 2,
        "start_time": "2022-05-31T13:34:34.769Z"
      },
      {
        "duration": 8,
        "start_time": "2022-05-31T13:34:34.773Z"
      },
      {
        "duration": 322,
        "start_time": "2022-05-31T13:34:34.783Z"
      },
      {
        "duration": 247,
        "start_time": "2022-05-31T13:34:35.107Z"
      },
      {
        "duration": 159,
        "start_time": "2022-05-31T13:34:35.356Z"
      },
      {
        "duration": 39,
        "start_time": "2022-05-31T13:34:35.517Z"
      },
      {
        "duration": 21,
        "start_time": "2022-05-31T13:34:35.558Z"
      },
      {
        "duration": 11,
        "start_time": "2022-05-31T13:34:35.581Z"
      },
      {
        "duration": 12,
        "start_time": "2022-05-31T13:34:35.627Z"
      },
      {
        "duration": 12,
        "start_time": "2022-05-31T13:34:35.641Z"
      },
      {
        "duration": 13,
        "start_time": "2022-05-31T13:34:35.655Z"
      },
      {
        "duration": 4,
        "start_time": "2022-05-31T13:34:35.670Z"
      },
      {
        "duration": 19,
        "start_time": "2022-05-31T13:34:35.676Z"
      },
      {
        "duration": 13,
        "start_time": "2022-05-31T13:34:35.727Z"
      },
      {
        "duration": 32,
        "start_time": "2022-05-31T13:34:35.744Z"
      },
      {
        "duration": 57,
        "start_time": "2022-05-31T13:34:35.778Z"
      },
      {
        "duration": 25,
        "start_time": "2022-05-31T13:34:35.836Z"
      },
      {
        "duration": 33,
        "start_time": "2022-05-31T13:34:35.862Z"
      },
      {
        "duration": 34,
        "start_time": "2022-05-31T13:34:35.926Z"
      },
      {
        "duration": 31,
        "start_time": "2022-05-31T13:34:35.961Z"
      },
      {
        "duration": 48,
        "start_time": "2022-05-31T13:34:35.994Z"
      },
      {
        "duration": 24,
        "start_time": "2022-05-31T13:34:36.044Z"
      },
      {
        "duration": 751,
        "start_time": "2022-06-01T08:08:13.037Z"
      },
      {
        "duration": 236,
        "start_time": "2022-06-01T08:08:13.790Z"
      },
      {
        "duration": 27,
        "start_time": "2022-06-01T08:08:14.028Z"
      },
      {
        "duration": 19,
        "start_time": "2022-06-01T08:08:14.056Z"
      },
      {
        "duration": 58,
        "start_time": "2022-06-01T08:08:14.077Z"
      },
      {
        "duration": 39,
        "start_time": "2022-06-01T08:08:14.137Z"
      },
      {
        "duration": 17,
        "start_time": "2022-06-01T08:08:14.178Z"
      },
      {
        "duration": 34,
        "start_time": "2022-06-01T08:08:14.197Z"
      },
      {
        "duration": 3,
        "start_time": "2022-06-01T08:08:14.233Z"
      },
      {
        "duration": 53,
        "start_time": "2022-06-01T08:08:14.237Z"
      },
      {
        "duration": 17,
        "start_time": "2022-06-01T08:08:14.292Z"
      },
      {
        "duration": 34,
        "start_time": "2022-06-01T08:08:14.311Z"
      },
      {
        "duration": 245,
        "start_time": "2022-06-01T08:08:14.346Z"
      },
      {
        "duration": 207,
        "start_time": "2022-06-01T08:08:14.594Z"
      },
      {
        "duration": 126,
        "start_time": "2022-06-01T08:08:14.802Z"
      },
      {
        "duration": 32,
        "start_time": "2022-06-01T08:08:14.929Z"
      },
      {
        "duration": 17,
        "start_time": "2022-06-01T08:08:14.975Z"
      },
      {
        "duration": 9,
        "start_time": "2022-06-01T08:08:14.994Z"
      },
      {
        "duration": 29,
        "start_time": "2022-06-01T08:08:15.005Z"
      },
      {
        "duration": 24,
        "start_time": "2022-06-01T08:08:15.036Z"
      },
      {
        "duration": 16,
        "start_time": "2022-06-01T08:08:17.899Z"
      },
      {
        "duration": 2,
        "start_time": "2022-06-01T08:11:49.696Z"
      },
      {
        "duration": 124,
        "start_time": "2022-06-01T08:11:49.711Z"
      },
      {
        "duration": 27,
        "start_time": "2022-06-01T08:11:49.837Z"
      },
      {
        "duration": 10,
        "start_time": "2022-06-01T08:11:49.866Z"
      },
      {
        "duration": 88,
        "start_time": "2022-06-01T08:11:49.878Z"
      },
      {
        "duration": 16,
        "start_time": "2022-06-01T08:11:49.974Z"
      },
      {
        "duration": 17,
        "start_time": "2022-06-01T08:11:49.991Z"
      },
      {
        "duration": 34,
        "start_time": "2022-06-01T08:11:50.009Z"
      },
      {
        "duration": 2,
        "start_time": "2022-06-01T08:11:50.044Z"
      },
      {
        "duration": 28,
        "start_time": "2022-06-01T08:11:50.075Z"
      },
      {
        "duration": 17,
        "start_time": "2022-06-01T08:11:50.104Z"
      },
      {
        "duration": 64,
        "start_time": "2022-06-01T08:11:50.122Z"
      },
      {
        "duration": 220,
        "start_time": "2022-06-01T08:11:50.187Z"
      },
      {
        "duration": 267,
        "start_time": "2022-06-01T08:11:50.409Z"
      },
      {
        "duration": 127,
        "start_time": "2022-06-01T08:11:50.678Z"
      },
      {
        "duration": 30,
        "start_time": "2022-06-01T08:11:50.806Z"
      },
      {
        "duration": 37,
        "start_time": "2022-06-01T08:11:50.838Z"
      },
      {
        "duration": 9,
        "start_time": "2022-06-01T08:11:50.876Z"
      },
      {
        "duration": 15,
        "start_time": "2022-06-01T08:11:50.887Z"
      },
      {
        "duration": 14,
        "start_time": "2022-06-01T08:11:50.904Z"
      },
      {
        "duration": 96,
        "start_time": "2022-06-01T08:11:57.231Z"
      },
      {
        "duration": 24,
        "start_time": "2022-06-01T08:12:10.098Z"
      },
      {
        "duration": 71,
        "start_time": "2022-06-01T08:12:50.470Z"
      },
      {
        "duration": 47,
        "start_time": "2022-06-01T08:14:59.021Z"
      },
      {
        "duration": 15,
        "start_time": "2022-06-01T08:15:41.010Z"
      },
      {
        "duration": 6,
        "start_time": "2022-06-01T08:26:26.813Z"
      },
      {
        "duration": 3,
        "start_time": "2022-06-01T08:26:35.393Z"
      },
      {
        "duration": 134,
        "start_time": "2022-06-01T08:26:35.397Z"
      },
      {
        "duration": 26,
        "start_time": "2022-06-01T08:26:35.532Z"
      },
      {
        "duration": 11,
        "start_time": "2022-06-01T08:26:35.560Z"
      },
      {
        "duration": 56,
        "start_time": "2022-06-01T08:26:35.572Z"
      },
      {
        "duration": 18,
        "start_time": "2022-06-01T08:26:35.630Z"
      },
      {
        "duration": 41,
        "start_time": "2022-06-01T08:26:35.649Z"
      },
      {
        "duration": 37,
        "start_time": "2022-06-01T08:26:35.691Z"
      },
      {
        "duration": 3,
        "start_time": "2022-06-01T08:26:35.730Z"
      },
      {
        "duration": 48,
        "start_time": "2022-06-01T08:26:35.734Z"
      },
      {
        "duration": 22,
        "start_time": "2022-06-01T08:26:35.784Z"
      },
      {
        "duration": 67,
        "start_time": "2022-06-01T08:26:35.808Z"
      },
      {
        "duration": 233,
        "start_time": "2022-06-01T08:26:35.877Z"
      },
      {
        "duration": 201,
        "start_time": "2022-06-01T08:26:36.111Z"
      },
      {
        "duration": 126,
        "start_time": "2022-06-01T08:26:36.314Z"
      },
      {
        "duration": 40,
        "start_time": "2022-06-01T08:26:36.441Z"
      },
      {
        "duration": 18,
        "start_time": "2022-06-01T08:26:36.482Z"
      },
      {
        "duration": 9,
        "start_time": "2022-06-01T08:26:36.502Z"
      },
      {
        "duration": 28,
        "start_time": "2022-06-01T08:26:36.512Z"
      },
      {
        "duration": 11,
        "start_time": "2022-06-01T08:26:36.542Z"
      },
      {
        "duration": 24,
        "start_time": "2022-06-01T08:26:36.554Z"
      },
      {
        "duration": 15,
        "start_time": "2022-06-01T08:26:36.579Z"
      },
      {
        "duration": 8,
        "start_time": "2022-06-01T08:26:36.595Z"
      },
      {
        "duration": 22,
        "start_time": "2022-06-01T08:26:36.608Z"
      },
      {
        "duration": 12,
        "start_time": "2022-06-01T08:26:36.632Z"
      },
      {
        "duration": 33,
        "start_time": "2022-06-01T08:26:36.645Z"
      },
      {
        "duration": 23,
        "start_time": "2022-06-01T08:26:36.679Z"
      },
      {
        "duration": 8,
        "start_time": "2022-06-01T08:26:39.173Z"
      },
      {
        "duration": 9,
        "start_time": "2022-06-01T08:30:02.566Z"
      },
      {
        "duration": 7,
        "start_time": "2022-06-01T08:30:12.159Z"
      },
      {
        "duration": 9,
        "start_time": "2022-06-01T08:30:21.552Z"
      },
      {
        "duration": 7,
        "start_time": "2022-06-01T08:30:31.315Z"
      },
      {
        "duration": 7,
        "start_time": "2022-06-01T08:32:40.665Z"
      },
      {
        "duration": 3,
        "start_time": "2022-06-01T08:32:46.770Z"
      },
      {
        "duration": 150,
        "start_time": "2022-06-01T08:32:46.774Z"
      },
      {
        "duration": 26,
        "start_time": "2022-06-01T08:32:46.925Z"
      },
      {
        "duration": 10,
        "start_time": "2022-06-01T08:32:46.953Z"
      },
      {
        "duration": 83,
        "start_time": "2022-06-01T08:32:46.964Z"
      },
      {
        "duration": 46,
        "start_time": "2022-06-01T08:32:47.049Z"
      },
      {
        "duration": 17,
        "start_time": "2022-06-01T08:32:47.097Z"
      },
      {
        "duration": 33,
        "start_time": "2022-06-01T08:32:47.115Z"
      },
      {
        "duration": 4,
        "start_time": "2022-06-01T08:32:47.175Z"
      },
      {
        "duration": 40,
        "start_time": "2022-06-01T08:32:47.180Z"
      },
      {
        "duration": 19,
        "start_time": "2022-06-01T08:32:47.221Z"
      },
      {
        "duration": 52,
        "start_time": "2022-06-01T08:32:47.242Z"
      },
      {
        "duration": 222,
        "start_time": "2022-06-01T08:32:47.296Z"
      },
      {
        "duration": 237,
        "start_time": "2022-06-01T08:32:47.520Z"
      },
      {
        "duration": 219,
        "start_time": "2022-06-01T08:32:47.759Z"
      },
      {
        "duration": 30,
        "start_time": "2022-06-01T08:32:47.981Z"
      },
      {
        "duration": 17,
        "start_time": "2022-06-01T08:32:48.013Z"
      },
      {
        "duration": 9,
        "start_time": "2022-06-01T08:32:48.032Z"
      },
      {
        "duration": 11,
        "start_time": "2022-06-01T08:32:48.075Z"
      },
      {
        "duration": 9,
        "start_time": "2022-06-01T08:32:48.088Z"
      },
      {
        "duration": 15,
        "start_time": "2022-06-01T08:32:48.098Z"
      },
      {
        "duration": 12,
        "start_time": "2022-06-01T08:32:48.115Z"
      },
      {
        "duration": 4,
        "start_time": "2022-06-01T08:32:48.128Z"
      },
      {
        "duration": 53,
        "start_time": "2022-06-01T08:32:48.135Z"
      },
      {
        "duration": 16,
        "start_time": "2022-06-01T08:32:48.190Z"
      },
      {
        "duration": 23,
        "start_time": "2022-06-01T08:32:48.208Z"
      },
      {
        "duration": 49,
        "start_time": "2022-06-01T08:32:48.233Z"
      },
      {
        "duration": 8,
        "start_time": "2022-06-01T08:32:48.283Z"
      },
      {
        "duration": 23,
        "start_time": "2022-06-01T08:32:48.292Z"
      },
      {
        "duration": 17,
        "start_time": "2022-06-01T08:32:48.317Z"
      },
      {
        "duration": 58,
        "start_time": "2022-06-01T08:32:48.335Z"
      },
      {
        "duration": 30,
        "start_time": "2022-06-01T08:32:48.395Z"
      },
      {
        "duration": 19,
        "start_time": "2022-06-01T08:32:48.427Z"
      },
      {
        "duration": 45,
        "start_time": "2022-06-01T08:32:48.448Z"
      },
      {
        "duration": 6,
        "start_time": "2022-06-01T08:35:09.461Z"
      },
      {
        "duration": 2,
        "start_time": "2022-06-01T08:36:25.439Z"
      },
      {
        "duration": 120,
        "start_time": "2022-06-01T08:36:25.443Z"
      },
      {
        "duration": 32,
        "start_time": "2022-06-01T08:36:25.565Z"
      },
      {
        "duration": 10,
        "start_time": "2022-06-01T08:36:25.599Z"
      },
      {
        "duration": 70,
        "start_time": "2022-06-01T08:36:25.610Z"
      },
      {
        "duration": 17,
        "start_time": "2022-06-01T08:36:25.681Z"
      },
      {
        "duration": 16,
        "start_time": "2022-06-01T08:36:25.699Z"
      },
      {
        "duration": 30,
        "start_time": "2022-06-01T08:36:25.716Z"
      },
      {
        "duration": 27,
        "start_time": "2022-06-01T08:36:25.748Z"
      },
      {
        "duration": 32,
        "start_time": "2022-06-01T08:36:25.776Z"
      },
      {
        "duration": 24,
        "start_time": "2022-06-01T08:36:25.810Z"
      },
      {
        "duration": 69,
        "start_time": "2022-06-01T08:36:25.835Z"
      },
      {
        "duration": 226,
        "start_time": "2022-06-01T08:36:25.906Z"
      },
      {
        "duration": 190,
        "start_time": "2022-06-01T08:36:26.133Z"
      },
      {
        "duration": 122,
        "start_time": "2022-06-01T08:36:26.325Z"
      },
      {
        "duration": 36,
        "start_time": "2022-06-01T08:36:26.448Z"
      },
      {
        "duration": 16,
        "start_time": "2022-06-01T08:36:26.485Z"
      },
      {
        "duration": 8,
        "start_time": "2022-06-01T08:36:26.502Z"
      },
      {
        "duration": 12,
        "start_time": "2022-06-01T08:36:26.512Z"
      },
      {
        "duration": 10,
        "start_time": "2022-06-01T08:36:26.525Z"
      },
      {
        "duration": 42,
        "start_time": "2022-06-01T08:36:26.536Z"
      },
      {
        "duration": 11,
        "start_time": "2022-06-01T08:36:26.579Z"
      },
      {
        "duration": 4,
        "start_time": "2022-06-01T08:36:26.593Z"
      },
      {
        "duration": 21,
        "start_time": "2022-06-01T08:36:26.600Z"
      },
      {
        "duration": 9,
        "start_time": "2022-06-01T08:36:26.623Z"
      },
      {
        "duration": 42,
        "start_time": "2022-06-01T08:36:26.634Z"
      },
      {
        "duration": 21,
        "start_time": "2022-06-01T08:36:26.677Z"
      },
      {
        "duration": 5,
        "start_time": "2022-06-01T08:36:26.699Z"
      },
      {
        "duration": 7,
        "start_time": "2022-06-01T08:36:26.705Z"
      },
      {
        "duration": 18,
        "start_time": "2022-06-01T08:36:26.714Z"
      },
      {
        "duration": 46,
        "start_time": "2022-06-01T08:36:26.733Z"
      },
      {
        "duration": 26,
        "start_time": "2022-06-01T08:36:26.780Z"
      },
      {
        "duration": 27,
        "start_time": "2022-06-01T08:36:28.910Z"
      },
      {
        "duration": 6,
        "start_time": "2022-06-01T08:36:30.678Z"
      },
      {
        "duration": 2,
        "start_time": "2022-06-01T08:36:51.558Z"
      },
      {
        "duration": 125,
        "start_time": "2022-06-01T08:36:51.561Z"
      },
      {
        "duration": 25,
        "start_time": "2022-06-01T08:36:51.687Z"
      },
      {
        "duration": 10,
        "start_time": "2022-06-01T08:36:51.713Z"
      },
      {
        "duration": 72,
        "start_time": "2022-06-01T08:36:51.725Z"
      },
      {
        "duration": 17,
        "start_time": "2022-06-01T08:36:51.798Z"
      },
      {
        "duration": 17,
        "start_time": "2022-06-01T08:36:51.816Z"
      },
      {
        "duration": 59,
        "start_time": "2022-06-01T08:36:51.834Z"
      },
      {
        "duration": 4,
        "start_time": "2022-06-01T08:36:51.895Z"
      },
      {
        "duration": 34,
        "start_time": "2022-06-01T08:36:51.900Z"
      },
      {
        "duration": 18,
        "start_time": "2022-06-01T08:36:51.936Z"
      },
      {
        "duration": 51,
        "start_time": "2022-06-01T08:36:51.955Z"
      },
      {
        "duration": 223,
        "start_time": "2022-06-01T08:36:52.008Z"
      },
      {
        "duration": 204,
        "start_time": "2022-06-01T08:36:52.233Z"
      },
      {
        "duration": 162,
        "start_time": "2022-06-01T08:36:52.438Z"
      },
      {
        "duration": 40,
        "start_time": "2022-06-01T08:36:52.602Z"
      },
      {
        "duration": 41,
        "start_time": "2022-06-01T08:36:52.643Z"
      },
      {
        "duration": 8,
        "start_time": "2022-06-01T08:36:52.686Z"
      },
      {
        "duration": 10,
        "start_time": "2022-06-01T08:36:52.696Z"
      },
      {
        "duration": 8,
        "start_time": "2022-06-01T08:36:52.707Z"
      },
      {
        "duration": 14,
        "start_time": "2022-06-01T08:36:52.716Z"
      },
      {
        "duration": 44,
        "start_time": "2022-06-01T08:36:52.732Z"
      },
      {
        "duration": 3,
        "start_time": "2022-06-01T08:36:52.778Z"
      },
      {
        "duration": 12,
        "start_time": "2022-06-01T08:36:52.782Z"
      },
      {
        "duration": 10,
        "start_time": "2022-06-01T08:36:52.795Z"
      },
      {
        "duration": 109,
        "start_time": "2022-06-01T08:36:52.806Z"
      },
      {
        "duration": 21,
        "start_time": "2022-06-01T08:36:52.917Z"
      },
      {
        "duration": 5,
        "start_time": "2022-06-01T08:36:52.939Z"
      },
      {
        "duration": 29,
        "start_time": "2022-06-01T08:36:52.946Z"
      },
      {
        "duration": 20,
        "start_time": "2022-06-01T08:36:52.976Z"
      },
      {
        "duration": 15,
        "start_time": "2022-06-01T08:36:52.997Z"
      },
      {
        "duration": 23,
        "start_time": "2022-06-01T08:36:53.013Z"
      },
      {
        "duration": 4,
        "start_time": "2022-06-01T08:36:53.037Z"
      },
      {
        "duration": 52,
        "start_time": "2022-06-01T08:36:53.042Z"
      },
      {
        "duration": 15,
        "start_time": "2022-06-01T08:36:53.095Z"
      },
      {
        "duration": 18,
        "start_time": "2022-06-01T08:36:53.111Z"
      },
      {
        "duration": 4,
        "start_time": "2022-06-01T08:48:02.321Z"
      },
      {
        "duration": 266,
        "start_time": "2022-06-01T08:48:39.314Z"
      },
      {
        "duration": 701,
        "start_time": "2022-06-01T08:50:00.890Z"
      },
      {
        "duration": 3,
        "start_time": "2022-06-01T08:50:29.921Z"
      },
      {
        "duration": 146,
        "start_time": "2022-06-01T08:50:29.926Z"
      },
      {
        "duration": 48,
        "start_time": "2022-06-01T08:50:30.073Z"
      },
      {
        "duration": 13,
        "start_time": "2022-06-01T08:50:30.123Z"
      },
      {
        "duration": 90,
        "start_time": "2022-06-01T08:50:30.138Z"
      },
      {
        "duration": 21,
        "start_time": "2022-06-01T08:50:30.230Z"
      },
      {
        "duration": 38,
        "start_time": "2022-06-01T08:50:30.253Z"
      },
      {
        "duration": 48,
        "start_time": "2022-06-01T08:50:30.293Z"
      },
      {
        "duration": 34,
        "start_time": "2022-06-01T08:50:30.343Z"
      },
      {
        "duration": 63,
        "start_time": "2022-06-01T08:50:30.379Z"
      },
      {
        "duration": 27,
        "start_time": "2022-06-01T08:50:30.444Z"
      },
      {
        "duration": 70,
        "start_time": "2022-06-01T08:50:30.475Z"
      },
      {
        "duration": 3,
        "start_time": "2022-06-01T08:50:30.547Z"
      },
      {
        "duration": 821,
        "start_time": "2022-06-01T08:50:30.554Z"
      },
      {
        "duration": 34,
        "start_time": "2022-06-01T08:50:31.377Z"
      },
      {
        "duration": 19,
        "start_time": "2022-06-01T08:50:31.412Z"
      },
      {
        "duration": 16,
        "start_time": "2022-06-01T08:50:31.433Z"
      },
      {
        "duration": 13,
        "start_time": "2022-06-01T08:50:31.476Z"
      },
      {
        "duration": 18,
        "start_time": "2022-06-01T08:50:31.491Z"
      },
      {
        "duration": 16,
        "start_time": "2022-06-01T08:50:31.511Z"
      },
      {
        "duration": 23,
        "start_time": "2022-06-01T08:50:31.528Z"
      },
      {
        "duration": 31,
        "start_time": "2022-06-01T08:50:31.553Z"
      },
      {
        "duration": 23,
        "start_time": "2022-06-01T08:50:31.586Z"
      },
      {
        "duration": 14,
        "start_time": "2022-06-01T08:50:31.612Z"
      },
      {
        "duration": 25,
        "start_time": "2022-06-01T08:50:31.627Z"
      },
      {
        "duration": 36,
        "start_time": "2022-06-01T08:50:31.654Z"
      },
      {
        "duration": 6,
        "start_time": "2022-06-01T08:50:31.692Z"
      },
      {
        "duration": 24,
        "start_time": "2022-06-01T08:50:31.700Z"
      },
      {
        "duration": 32,
        "start_time": "2022-06-01T08:50:31.726Z"
      },
      {
        "duration": 23,
        "start_time": "2022-06-01T08:50:31.759Z"
      },
      {
        "duration": 34,
        "start_time": "2022-06-01T08:50:31.783Z"
      },
      {
        "duration": 6,
        "start_time": "2022-06-01T08:50:31.818Z"
      },
      {
        "duration": 55,
        "start_time": "2022-06-01T08:50:31.826Z"
      },
      {
        "duration": 24,
        "start_time": "2022-06-01T08:50:31.884Z"
      },
      {
        "duration": 35,
        "start_time": "2022-06-01T08:50:31.910Z"
      },
      {
        "duration": 41,
        "start_time": "2022-06-01T08:54:03.712Z"
      },
      {
        "duration": 28,
        "start_time": "2022-06-01T08:54:27.032Z"
      },
      {
        "duration": 4,
        "start_time": "2022-06-01T09:04:08.388Z"
      },
      {
        "duration": 4,
        "start_time": "2022-06-01T09:05:06.915Z"
      },
      {
        "duration": 24,
        "start_time": "2022-06-01T09:05:55.809Z"
      },
      {
        "duration": 4,
        "start_time": "2022-06-01T09:07:36.046Z"
      },
      {
        "duration": 23,
        "start_time": "2022-06-01T09:07:36.743Z"
      },
      {
        "duration": 5,
        "start_time": "2022-06-01T09:08:11.360Z"
      },
      {
        "duration": 22,
        "start_time": "2022-06-01T09:08:12.957Z"
      },
      {
        "duration": 4,
        "start_time": "2022-06-01T09:09:13.307Z"
      },
      {
        "duration": 23,
        "start_time": "2022-06-01T09:09:15.361Z"
      },
      {
        "duration": 7,
        "start_time": "2022-06-01T09:12:34.507Z"
      },
      {
        "duration": 3,
        "start_time": "2022-06-01T09:12:41.150Z"
      },
      {
        "duration": 131,
        "start_time": "2022-06-01T09:12:41.154Z"
      },
      {
        "duration": 28,
        "start_time": "2022-06-01T09:12:41.287Z"
      },
      {
        "duration": 12,
        "start_time": "2022-06-01T09:12:41.316Z"
      },
      {
        "duration": 91,
        "start_time": "2022-06-01T09:12:41.330Z"
      },
      {
        "duration": 20,
        "start_time": "2022-06-01T09:12:41.423Z"
      },
      {
        "duration": 46,
        "start_time": "2022-06-01T09:12:41.445Z"
      },
      {
        "duration": 38,
        "start_time": "2022-06-01T09:12:41.493Z"
      },
      {
        "duration": 4,
        "start_time": "2022-06-01T09:12:41.532Z"
      },
      {
        "duration": 61,
        "start_time": "2022-06-01T09:12:41.538Z"
      },
      {
        "duration": 26,
        "start_time": "2022-06-01T09:12:41.602Z"
      },
      {
        "duration": 59,
        "start_time": "2022-06-01T09:12:41.630Z"
      },
      {
        "duration": 4,
        "start_time": "2022-06-01T09:12:41.690Z"
      },
      {
        "duration": 841,
        "start_time": "2022-06-01T09:12:41.696Z"
      },
      {
        "duration": 54,
        "start_time": "2022-06-01T09:12:42.539Z"
      },
      {
        "duration": 37,
        "start_time": "2022-06-01T09:12:42.595Z"
      },
      {
        "duration": 29,
        "start_time": "2022-06-01T09:12:42.634Z"
      },
      {
        "duration": 21,
        "start_time": "2022-06-01T09:12:42.665Z"
      },
      {
        "duration": 14,
        "start_time": "2022-06-01T09:12:42.687Z"
      },
      {
        "duration": 22,
        "start_time": "2022-06-01T09:12:42.702Z"
      },
      {
        "duration": 9,
        "start_time": "2022-06-01T09:12:42.725Z"
      },
      {
        "duration": 44,
        "start_time": "2022-06-01T09:12:42.735Z"
      },
      {
        "duration": 8,
        "start_time": "2022-06-01T09:12:42.781Z"
      },
      {
        "duration": 0,
        "start_time": "2022-06-01T09:12:42.791Z"
      },
      {
        "duration": 0,
        "start_time": "2022-06-01T09:12:42.792Z"
      },
      {
        "duration": 0,
        "start_time": "2022-06-01T09:12:42.793Z"
      },
      {
        "duration": 0,
        "start_time": "2022-06-01T09:12:42.794Z"
      },
      {
        "duration": 0,
        "start_time": "2022-06-01T09:12:42.796Z"
      },
      {
        "duration": 0,
        "start_time": "2022-06-01T09:12:42.797Z"
      },
      {
        "duration": 0,
        "start_time": "2022-06-01T09:12:42.798Z"
      },
      {
        "duration": 0,
        "start_time": "2022-06-01T09:12:42.799Z"
      },
      {
        "duration": 0,
        "start_time": "2022-06-01T09:12:42.800Z"
      },
      {
        "duration": 0,
        "start_time": "2022-06-01T09:12:42.801Z"
      },
      {
        "duration": 0,
        "start_time": "2022-06-01T09:12:42.801Z"
      },
      {
        "duration": 0,
        "start_time": "2022-06-01T09:12:42.802Z"
      },
      {
        "duration": 0,
        "start_time": "2022-06-01T09:12:42.803Z"
      },
      {
        "duration": 0,
        "start_time": "2022-06-01T09:12:42.804Z"
      },
      {
        "duration": 0,
        "start_time": "2022-06-01T09:12:42.805Z"
      },
      {
        "duration": 3,
        "start_time": "2022-06-01T09:13:29.289Z"
      },
      {
        "duration": 139,
        "start_time": "2022-06-01T09:13:29.294Z"
      },
      {
        "duration": 29,
        "start_time": "2022-06-01T09:13:29.435Z"
      },
      {
        "duration": 14,
        "start_time": "2022-06-01T09:13:29.465Z"
      },
      {
        "duration": 60,
        "start_time": "2022-06-01T09:13:29.481Z"
      },
      {
        "duration": 42,
        "start_time": "2022-06-01T09:13:29.542Z"
      },
      {
        "duration": 19,
        "start_time": "2022-06-01T09:13:29.585Z"
      },
      {
        "duration": 34,
        "start_time": "2022-06-01T09:13:29.606Z"
      },
      {
        "duration": 3,
        "start_time": "2022-06-01T09:13:29.642Z"
      },
      {
        "duration": 61,
        "start_time": "2022-06-01T09:13:29.646Z"
      },
      {
        "duration": 20,
        "start_time": "2022-06-01T09:13:29.710Z"
      },
      {
        "duration": 57,
        "start_time": "2022-06-01T09:13:29.732Z"
      },
      {
        "duration": 4,
        "start_time": "2022-06-01T09:13:29.790Z"
      },
      {
        "duration": 841,
        "start_time": "2022-06-01T09:13:29.796Z"
      },
      {
        "duration": 44,
        "start_time": "2022-06-01T09:13:30.638Z"
      },
      {
        "duration": 20,
        "start_time": "2022-06-01T09:13:30.683Z"
      },
      {
        "duration": 10,
        "start_time": "2022-06-01T09:13:30.705Z"
      },
      {
        "duration": 15,
        "start_time": "2022-06-01T09:13:30.717Z"
      },
      {
        "duration": 12,
        "start_time": "2022-06-01T09:13:30.734Z"
      },
      {
        "duration": 47,
        "start_time": "2022-06-01T09:13:30.748Z"
      },
      {
        "duration": 5,
        "start_time": "2022-06-01T09:13:30.797Z"
      },
      {
        "duration": 38,
        "start_time": "2022-06-01T09:13:30.803Z"
      },
      {
        "duration": 11,
        "start_time": "2022-06-01T09:13:30.843Z"
      },
      {
        "duration": 0,
        "start_time": "2022-06-01T09:13:30.856Z"
      },
      {
        "duration": 0,
        "start_time": "2022-06-01T09:13:30.875Z"
      },
      {
        "duration": 0,
        "start_time": "2022-06-01T09:13:30.877Z"
      },
      {
        "duration": 0,
        "start_time": "2022-06-01T09:13:30.878Z"
      },
      {
        "duration": 0,
        "start_time": "2022-06-01T09:13:30.879Z"
      },
      {
        "duration": 0,
        "start_time": "2022-06-01T09:13:30.880Z"
      },
      {
        "duration": 0,
        "start_time": "2022-06-01T09:13:30.881Z"
      },
      {
        "duration": 0,
        "start_time": "2022-06-01T09:13:30.882Z"
      },
      {
        "duration": 0,
        "start_time": "2022-06-01T09:13:30.883Z"
      },
      {
        "duration": 0,
        "start_time": "2022-06-01T09:13:30.885Z"
      },
      {
        "duration": 0,
        "start_time": "2022-06-01T09:13:30.886Z"
      },
      {
        "duration": 0,
        "start_time": "2022-06-01T09:13:30.888Z"
      },
      {
        "duration": 0,
        "start_time": "2022-06-01T09:13:30.889Z"
      },
      {
        "duration": 0,
        "start_time": "2022-06-01T09:13:30.891Z"
      },
      {
        "duration": 0,
        "start_time": "2022-06-01T09:13:30.892Z"
      },
      {
        "duration": 678,
        "start_time": "2022-06-01T09:14:54.571Z"
      },
      {
        "duration": 133,
        "start_time": "2022-06-01T09:14:55.251Z"
      },
      {
        "duration": 29,
        "start_time": "2022-06-01T09:14:55.388Z"
      },
      {
        "duration": 10,
        "start_time": "2022-06-01T09:14:55.419Z"
      },
      {
        "duration": 86,
        "start_time": "2022-06-01T09:14:55.431Z"
      },
      {
        "duration": 27,
        "start_time": "2022-06-01T09:14:55.518Z"
      },
      {
        "duration": 36,
        "start_time": "2022-06-01T09:14:55.547Z"
      },
      {
        "duration": 34,
        "start_time": "2022-06-01T09:14:55.585Z"
      },
      {
        "duration": 3,
        "start_time": "2022-06-01T09:14:55.621Z"
      },
      {
        "duration": 59,
        "start_time": "2022-06-01T09:14:55.625Z"
      },
      {
        "duration": 21,
        "start_time": "2022-06-01T09:14:55.685Z"
      },
      {
        "duration": 31,
        "start_time": "2022-06-01T09:14:55.708Z"
      },
      {
        "duration": 3,
        "start_time": "2022-06-01T09:14:55.741Z"
      },
      {
        "duration": 744,
        "start_time": "2022-06-01T09:14:55.777Z"
      },
      {
        "duration": 38,
        "start_time": "2022-06-01T09:14:56.523Z"
      },
      {
        "duration": 19,
        "start_time": "2022-06-01T09:14:56.575Z"
      },
      {
        "duration": 12,
        "start_time": "2022-06-01T09:14:56.596Z"
      },
      {
        "duration": 12,
        "start_time": "2022-06-01T09:14:56.610Z"
      },
      {
        "duration": 13,
        "start_time": "2022-06-01T09:14:56.624Z"
      },
      {
        "duration": 43,
        "start_time": "2022-06-01T09:14:56.638Z"
      },
      {
        "duration": 4,
        "start_time": "2022-06-01T09:14:56.682Z"
      },
      {
        "duration": 90,
        "start_time": "2022-06-01T09:14:56.687Z"
      },
      {
        "duration": 0,
        "start_time": "2022-06-01T09:14:56.778Z"
      },
      {
        "duration": 0,
        "start_time": "2022-06-01T09:14:56.780Z"
      },
      {
        "duration": 0,
        "start_time": "2022-06-01T09:14:56.781Z"
      },
      {
        "duration": 0,
        "start_time": "2022-06-01T09:14:56.782Z"
      },
      {
        "duration": 0,
        "start_time": "2022-06-01T09:14:56.783Z"
      },
      {
        "duration": 0,
        "start_time": "2022-06-01T09:14:56.784Z"
      },
      {
        "duration": 0,
        "start_time": "2022-06-01T09:14:56.785Z"
      },
      {
        "duration": 0,
        "start_time": "2022-06-01T09:14:56.786Z"
      },
      {
        "duration": 0,
        "start_time": "2022-06-01T09:14:56.787Z"
      },
      {
        "duration": 0,
        "start_time": "2022-06-01T09:14:56.788Z"
      },
      {
        "duration": 0,
        "start_time": "2022-06-01T09:14:56.789Z"
      },
      {
        "duration": 0,
        "start_time": "2022-06-01T09:14:56.790Z"
      },
      {
        "duration": 0,
        "start_time": "2022-06-01T09:14:56.791Z"
      },
      {
        "duration": 0,
        "start_time": "2022-06-01T09:14:56.792Z"
      },
      {
        "duration": 0,
        "start_time": "2022-06-01T09:14:56.793Z"
      },
      {
        "duration": 0,
        "start_time": "2022-06-01T09:14:56.794Z"
      },
      {
        "duration": 5,
        "start_time": "2022-06-01T09:16:10.182Z"
      },
      {
        "duration": 22,
        "start_time": "2022-06-01T09:16:12.074Z"
      },
      {
        "duration": 22,
        "start_time": "2022-06-01T09:19:02.809Z"
      },
      {
        "duration": 35,
        "start_time": "2022-06-01T09:19:03.736Z"
      },
      {
        "duration": 24,
        "start_time": "2022-06-01T09:19:10.838Z"
      },
      {
        "duration": 21,
        "start_time": "2022-06-01T09:21:38.406Z"
      },
      {
        "duration": 3,
        "start_time": "2022-06-01T09:21:55.567Z"
      },
      {
        "duration": 155,
        "start_time": "2022-06-01T09:21:55.572Z"
      },
      {
        "duration": 32,
        "start_time": "2022-06-01T09:21:55.729Z"
      },
      {
        "duration": 17,
        "start_time": "2022-06-01T09:21:55.764Z"
      },
      {
        "duration": 121,
        "start_time": "2022-06-01T09:21:55.783Z"
      },
      {
        "duration": 28,
        "start_time": "2022-06-01T09:21:55.906Z"
      },
      {
        "duration": 43,
        "start_time": "2022-06-01T09:21:55.936Z"
      },
      {
        "duration": 42,
        "start_time": "2022-06-01T09:21:55.981Z"
      },
      {
        "duration": 4,
        "start_time": "2022-06-01T09:21:56.024Z"
      },
      {
        "duration": 64,
        "start_time": "2022-06-01T09:21:56.030Z"
      },
      {
        "duration": 22,
        "start_time": "2022-06-01T09:21:56.096Z"
      },
      {
        "duration": 64,
        "start_time": "2022-06-01T09:21:56.120Z"
      },
      {
        "duration": 5,
        "start_time": "2022-06-01T09:21:56.187Z"
      },
      {
        "duration": 862,
        "start_time": "2022-06-01T09:21:56.196Z"
      },
      {
        "duration": 49,
        "start_time": "2022-06-01T09:21:57.060Z"
      },
      {
        "duration": 18,
        "start_time": "2022-06-01T09:21:57.111Z"
      },
      {
        "duration": 10,
        "start_time": "2022-06-01T09:21:57.130Z"
      },
      {
        "duration": 38,
        "start_time": "2022-06-01T09:21:57.142Z"
      },
      {
        "duration": 24,
        "start_time": "2022-06-01T09:21:57.181Z"
      },
      {
        "duration": 24,
        "start_time": "2022-06-01T09:21:57.207Z"
      },
      {
        "duration": 19,
        "start_time": "2022-06-01T09:21:57.233Z"
      },
      {
        "duration": 40,
        "start_time": "2022-06-01T09:21:57.254Z"
      },
      {
        "duration": 26,
        "start_time": "2022-06-01T09:21:57.296Z"
      },
      {
        "duration": 22,
        "start_time": "2022-06-01T09:21:57.324Z"
      },
      {
        "duration": 7,
        "start_time": "2022-06-01T09:21:57.348Z"
      },
      {
        "duration": 0,
        "start_time": "2022-06-01T09:21:57.357Z"
      },
      {
        "duration": 0,
        "start_time": "2022-06-01T09:21:57.358Z"
      },
      {
        "duration": 0,
        "start_time": "2022-06-01T09:21:57.359Z"
      },
      {
        "duration": 0,
        "start_time": "2022-06-01T09:21:57.375Z"
      },
      {
        "duration": 0,
        "start_time": "2022-06-01T09:21:57.377Z"
      },
      {
        "duration": 0,
        "start_time": "2022-06-01T09:21:57.378Z"
      },
      {
        "duration": 0,
        "start_time": "2022-06-01T09:21:57.379Z"
      },
      {
        "duration": 0,
        "start_time": "2022-06-01T09:21:57.380Z"
      },
      {
        "duration": 27,
        "start_time": "2022-06-01T09:22:45.482Z"
      },
      {
        "duration": 6,
        "start_time": "2022-06-01T09:31:11.571Z"
      },
      {
        "duration": 26,
        "start_time": "2022-06-01T09:31:12.085Z"
      },
      {
        "duration": 10,
        "start_time": "2022-06-01T09:31:18.868Z"
      },
      {
        "duration": 24,
        "start_time": "2022-06-01T09:31:27.508Z"
      },
      {
        "duration": 10,
        "start_time": "2022-06-01T09:33:42.286Z"
      },
      {
        "duration": 6,
        "start_time": "2022-06-01T09:33:47.240Z"
      },
      {
        "duration": 24,
        "start_time": "2022-06-01T09:33:47.708Z"
      },
      {
        "duration": 24,
        "start_time": "2022-06-01T09:33:48.302Z"
      },
      {
        "duration": 4,
        "start_time": "2022-06-01T09:34:02.919Z"
      },
      {
        "duration": 23,
        "start_time": "2022-06-01T09:34:03.357Z"
      },
      {
        "duration": 23,
        "start_time": "2022-06-01T09:34:07.040Z"
      },
      {
        "duration": 26,
        "start_time": "2022-06-01T09:34:08.045Z"
      },
      {
        "duration": 3,
        "start_time": "2022-06-01T09:39:16.379Z"
      },
      {
        "duration": 7,
        "start_time": "2022-06-01T09:42:43.158Z"
      },
      {
        "duration": 3,
        "start_time": "2022-06-01T09:42:47.480Z"
      },
      {
        "duration": 142,
        "start_time": "2022-06-01T09:42:47.485Z"
      },
      {
        "duration": 27,
        "start_time": "2022-06-01T09:42:47.628Z"
      },
      {
        "duration": 10,
        "start_time": "2022-06-01T09:42:47.656Z"
      },
      {
        "duration": 59,
        "start_time": "2022-06-01T09:42:47.668Z"
      },
      {
        "duration": 18,
        "start_time": "2022-06-01T09:42:47.728Z"
      },
      {
        "duration": 46,
        "start_time": "2022-06-01T09:42:47.748Z"
      },
      {
        "duration": 38,
        "start_time": "2022-06-01T09:42:47.795Z"
      },
      {
        "duration": 3,
        "start_time": "2022-06-01T09:42:47.835Z"
      },
      {
        "duration": 60,
        "start_time": "2022-06-01T09:42:47.839Z"
      },
      {
        "duration": 19,
        "start_time": "2022-06-01T09:42:47.901Z"
      },
      {
        "duration": 28,
        "start_time": "2022-06-01T09:42:47.922Z"
      },
      {
        "duration": 25,
        "start_time": "2022-06-01T09:42:47.952Z"
      },
      {
        "duration": 712,
        "start_time": "2022-06-01T09:42:47.979Z"
      },
      {
        "duration": 31,
        "start_time": "2022-06-01T09:42:48.692Z"
      },
      {
        "duration": 51,
        "start_time": "2022-06-01T09:42:48.724Z"
      },
      {
        "duration": 14,
        "start_time": "2022-06-01T09:42:48.777Z"
      },
      {
        "duration": 12,
        "start_time": "2022-06-01T09:42:48.792Z"
      },
      {
        "duration": 9,
        "start_time": "2022-06-01T09:42:48.806Z"
      },
      {
        "duration": 13,
        "start_time": "2022-06-01T09:42:48.817Z"
      },
      {
        "duration": 2,
        "start_time": "2022-06-01T09:42:48.831Z"
      },
      {
        "duration": 7,
        "start_time": "2022-06-01T09:42:48.835Z"
      },
      {
        "duration": 34,
        "start_time": "2022-06-01T09:42:48.843Z"
      },
      {
        "duration": 0,
        "start_time": "2022-06-01T09:42:48.878Z"
      },
      {
        "duration": 0,
        "start_time": "2022-06-01T09:42:48.879Z"
      },
      {
        "duration": 0,
        "start_time": "2022-06-01T09:42:48.880Z"
      },
      {
        "duration": 0,
        "start_time": "2022-06-01T09:42:48.882Z"
      },
      {
        "duration": 0,
        "start_time": "2022-06-01T09:42:48.883Z"
      },
      {
        "duration": 0,
        "start_time": "2022-06-01T09:42:48.884Z"
      },
      {
        "duration": 0,
        "start_time": "2022-06-01T09:42:48.885Z"
      },
      {
        "duration": 0,
        "start_time": "2022-06-01T09:42:48.886Z"
      },
      {
        "duration": 0,
        "start_time": "2022-06-01T09:42:48.887Z"
      },
      {
        "duration": 0,
        "start_time": "2022-06-01T09:42:48.888Z"
      },
      {
        "duration": 0,
        "start_time": "2022-06-01T09:42:48.889Z"
      },
      {
        "duration": 5,
        "start_time": "2022-06-01T09:43:01.503Z"
      },
      {
        "duration": 25,
        "start_time": "2022-06-01T09:43:01.910Z"
      },
      {
        "duration": 35,
        "start_time": "2022-06-01T09:43:02.643Z"
      },
      {
        "duration": 22,
        "start_time": "2022-06-01T09:43:03.012Z"
      },
      {
        "duration": 3,
        "start_time": "2022-06-01T09:43:05.242Z"
      },
      {
        "duration": 128,
        "start_time": "2022-06-01T09:43:05.247Z"
      },
      {
        "duration": 29,
        "start_time": "2022-06-01T09:43:05.377Z"
      },
      {
        "duration": 11,
        "start_time": "2022-06-01T09:43:05.408Z"
      },
      {
        "duration": 87,
        "start_time": "2022-06-01T09:43:05.421Z"
      },
      {
        "duration": 23,
        "start_time": "2022-06-01T09:43:05.510Z"
      },
      {
        "duration": 54,
        "start_time": "2022-06-01T09:43:05.536Z"
      },
      {
        "duration": 48,
        "start_time": "2022-06-01T09:43:05.592Z"
      },
      {
        "duration": 4,
        "start_time": "2022-06-01T09:43:05.641Z"
      },
      {
        "duration": 59,
        "start_time": "2022-06-01T09:43:05.647Z"
      },
      {
        "duration": 18,
        "start_time": "2022-06-01T09:43:05.708Z"
      },
      {
        "duration": 48,
        "start_time": "2022-06-01T09:43:05.727Z"
      },
      {
        "duration": 4,
        "start_time": "2022-06-01T09:43:05.777Z"
      },
      {
        "duration": 885,
        "start_time": "2022-06-01T09:43:05.782Z"
      },
      {
        "duration": 39,
        "start_time": "2022-06-01T09:43:06.669Z"
      },
      {
        "duration": 21,
        "start_time": "2022-06-01T09:43:06.710Z"
      },
      {
        "duration": 10,
        "start_time": "2022-06-01T09:43:06.733Z"
      },
      {
        "duration": 16,
        "start_time": "2022-06-01T09:43:06.775Z"
      },
      {
        "duration": 14,
        "start_time": "2022-06-01T09:43:06.793Z"
      },
      {
        "duration": 20,
        "start_time": "2022-06-01T09:43:06.809Z"
      },
      {
        "duration": 6,
        "start_time": "2022-06-01T09:43:06.831Z"
      },
      {
        "duration": 12,
        "start_time": "2022-06-01T09:43:06.838Z"
      },
      {
        "duration": 39,
        "start_time": "2022-06-01T09:43:06.851Z"
      },
      {
        "duration": 20,
        "start_time": "2022-06-01T09:43:06.892Z"
      },
      {
        "duration": 21,
        "start_time": "2022-06-01T09:43:06.913Z"
      },
      {
        "duration": 49,
        "start_time": "2022-06-01T09:43:06.936Z"
      },
      {
        "duration": 8,
        "start_time": "2022-06-01T09:43:06.987Z"
      },
      {
        "duration": 0,
        "start_time": "2022-06-01T09:43:06.997Z"
      },
      {
        "duration": 0,
        "start_time": "2022-06-01T09:43:06.999Z"
      },
      {
        "duration": 0,
        "start_time": "2022-06-01T09:43:07.001Z"
      },
      {
        "duration": 0,
        "start_time": "2022-06-01T09:43:07.002Z"
      },
      {
        "duration": 0,
        "start_time": "2022-06-01T09:43:07.004Z"
      },
      {
        "duration": 0,
        "start_time": "2022-06-01T09:43:07.005Z"
      },
      {
        "duration": 0,
        "start_time": "2022-06-01T09:43:07.007Z"
      },
      {
        "duration": 17,
        "start_time": "2022-06-01T09:43:54.123Z"
      },
      {
        "duration": 9,
        "start_time": "2022-06-01T09:44:10.601Z"
      },
      {
        "duration": 18,
        "start_time": "2022-06-01T09:44:39.740Z"
      },
      {
        "duration": 7,
        "start_time": "2022-06-01T09:44:53.403Z"
      },
      {
        "duration": 5,
        "start_time": "2022-06-01T09:45:01.376Z"
      },
      {
        "duration": 8,
        "start_time": "2022-06-01T09:45:14.555Z"
      },
      {
        "duration": 9,
        "start_time": "2022-06-01T09:45:41.549Z"
      },
      {
        "duration": 3,
        "start_time": "2022-06-01T09:46:04.440Z"
      },
      {
        "duration": 146,
        "start_time": "2022-06-01T09:46:04.446Z"
      },
      {
        "duration": 32,
        "start_time": "2022-06-01T09:46:04.594Z"
      },
      {
        "duration": 12,
        "start_time": "2022-06-01T09:46:04.628Z"
      },
      {
        "duration": 102,
        "start_time": "2022-06-01T09:46:04.642Z"
      },
      {
        "duration": 39,
        "start_time": "2022-06-01T09:46:04.746Z"
      },
      {
        "duration": 22,
        "start_time": "2022-06-01T09:46:04.787Z"
      },
      {
        "duration": 65,
        "start_time": "2022-06-01T09:46:04.811Z"
      },
      {
        "duration": 4,
        "start_time": "2022-06-01T09:46:04.878Z"
      },
      {
        "duration": 48,
        "start_time": "2022-06-01T09:46:04.884Z"
      },
      {
        "duration": 43,
        "start_time": "2022-06-01T09:46:04.935Z"
      },
      {
        "duration": 34,
        "start_time": "2022-06-01T09:46:04.980Z"
      },
      {
        "duration": 4,
        "start_time": "2022-06-01T09:46:05.017Z"
      },
      {
        "duration": 802,
        "start_time": "2022-06-01T09:46:05.022Z"
      },
      {
        "duration": 56,
        "start_time": "2022-06-01T09:46:05.826Z"
      },
      {
        "duration": 27,
        "start_time": "2022-06-01T09:46:05.884Z"
      },
      {
        "duration": 35,
        "start_time": "2022-06-01T09:46:05.913Z"
      },
      {
        "duration": 19,
        "start_time": "2022-06-01T09:46:05.950Z"
      },
      {
        "duration": 11,
        "start_time": "2022-06-01T09:46:05.975Z"
      },
      {
        "duration": 20,
        "start_time": "2022-06-01T09:46:05.988Z"
      },
      {
        "duration": 3,
        "start_time": "2022-06-01T09:46:06.010Z"
      },
      {
        "duration": 9,
        "start_time": "2022-06-01T09:46:06.014Z"
      },
      {
        "duration": 150,
        "start_time": "2022-06-01T09:46:06.025Z"
      },
      {
        "duration": 31,
        "start_time": "2022-06-01T09:46:06.177Z"
      },
      {
        "duration": 26,
        "start_time": "2022-06-01T09:46:06.210Z"
      },
      {
        "duration": 46,
        "start_time": "2022-06-01T09:46:06.237Z"
      },
      {
        "duration": 20,
        "start_time": "2022-06-01T09:46:06.284Z"
      },
      {
        "duration": 9,
        "start_time": "2022-06-01T09:46:06.306Z"
      },
      {
        "duration": 8,
        "start_time": "2022-06-01T09:46:06.317Z"
      },
      {
        "duration": 5,
        "start_time": "2022-06-01T09:46:09.066Z"
      },
      {
        "duration": 9,
        "start_time": "2022-06-01T09:46:09.562Z"
      },
      {
        "duration": 23,
        "start_time": "2022-06-01T09:46:36.911Z"
      },
      {
        "duration": 23,
        "start_time": "2022-06-01T09:46:39.201Z"
      },
      {
        "duration": 18,
        "start_time": "2022-06-01T09:46:42.311Z"
      },
      {
        "duration": 18,
        "start_time": "2022-06-01T09:46:42.750Z"
      },
      {
        "duration": 7,
        "start_time": "2022-06-01T09:46:43.301Z"
      },
      {
        "duration": 6,
        "start_time": "2022-06-01T09:46:44.141Z"
      },
      {
        "duration": 8,
        "start_time": "2022-06-01T09:46:44.988Z"
      },
      {
        "duration": 9,
        "start_time": "2022-06-01T09:46:45.451Z"
      },
      {
        "duration": 20,
        "start_time": "2022-06-01T09:47:22.701Z"
      },
      {
        "duration": 12,
        "start_time": "2022-06-01T09:47:51.612Z"
      },
      {
        "duration": 7,
        "start_time": "2022-06-01T09:48:10.096Z"
      },
      {
        "duration": 18,
        "start_time": "2022-06-01T09:48:25.858Z"
      },
      {
        "duration": 6,
        "start_time": "2022-06-01T09:48:26.871Z"
      },
      {
        "duration": 6,
        "start_time": "2022-06-01T09:48:27.274Z"
      },
      {
        "duration": 7,
        "start_time": "2022-06-01T09:48:27.637Z"
      },
      {
        "duration": 31,
        "start_time": "2022-06-01T09:48:53.588Z"
      },
      {
        "duration": 17,
        "start_time": "2022-06-01T09:49:22.806Z"
      },
      {
        "duration": 19,
        "start_time": "2022-06-01T09:50:01.147Z"
      },
      {
        "duration": 14,
        "start_time": "2022-06-01T09:50:10.685Z"
      },
      {
        "duration": 18,
        "start_time": "2022-06-01T09:50:17.829Z"
      },
      {
        "duration": 20,
        "start_time": "2022-06-01T09:50:59.001Z"
      },
      {
        "duration": 19,
        "start_time": "2022-06-01T09:51:00.354Z"
      },
      {
        "duration": 7,
        "start_time": "2022-06-01T09:51:01.479Z"
      },
      {
        "duration": 7,
        "start_time": "2022-06-01T09:51:02.717Z"
      },
      {
        "duration": 8,
        "start_time": "2022-06-01T09:51:03.088Z"
      },
      {
        "duration": 19,
        "start_time": "2022-06-01T09:51:03.530Z"
      },
      {
        "duration": 22,
        "start_time": "2022-06-01T09:51:12.450Z"
      },
      {
        "duration": 5,
        "start_time": "2022-06-01T09:51:26.016Z"
      },
      {
        "duration": 20,
        "start_time": "2022-06-01T09:52:43.101Z"
      },
      {
        "duration": 24,
        "start_time": "2022-06-01T09:52:45.712Z"
      },
      {
        "duration": 53,
        "start_time": "2022-06-01T09:53:36.609Z"
      },
      {
        "duration": 9,
        "start_time": "2022-06-01T09:53:43.741Z"
      },
      {
        "duration": 17,
        "start_time": "2022-06-01T09:54:13.521Z"
      },
      {
        "duration": 3,
        "start_time": "2022-06-01T09:54:35.658Z"
      },
      {
        "duration": 138,
        "start_time": "2022-06-01T09:54:35.663Z"
      },
      {
        "duration": 35,
        "start_time": "2022-06-01T09:54:35.803Z"
      },
      {
        "duration": 13,
        "start_time": "2022-06-01T09:54:35.839Z"
      },
      {
        "duration": 103,
        "start_time": "2022-06-01T09:54:35.876Z"
      },
      {
        "duration": 20,
        "start_time": "2022-06-01T09:54:35.980Z"
      },
      {
        "duration": 21,
        "start_time": "2022-06-01T09:54:36.002Z"
      },
      {
        "duration": 60,
        "start_time": "2022-06-01T09:54:36.025Z"
      },
      {
        "duration": 5,
        "start_time": "2022-06-01T09:54:36.086Z"
      },
      {
        "duration": 38,
        "start_time": "2022-06-01T09:54:36.093Z"
      },
      {
        "duration": 49,
        "start_time": "2022-06-01T09:54:36.133Z"
      },
      {
        "duration": 32,
        "start_time": "2022-06-01T09:54:36.183Z"
      },
      {
        "duration": 3,
        "start_time": "2022-06-01T09:54:36.216Z"
      },
      {
        "duration": 777,
        "start_time": "2022-06-01T09:54:36.222Z"
      },
      {
        "duration": 34,
        "start_time": "2022-06-01T09:54:37.000Z"
      },
      {
        "duration": 20,
        "start_time": "2022-06-01T09:54:37.035Z"
      },
      {
        "duration": 10,
        "start_time": "2022-06-01T09:54:37.075Z"
      },
      {
        "duration": 12,
        "start_time": "2022-06-01T09:54:37.087Z"
      },
      {
        "duration": 14,
        "start_time": "2022-06-01T09:54:37.100Z"
      },
      {
        "duration": 28,
        "start_time": "2022-06-01T09:54:37.115Z"
      },
      {
        "duration": 12,
        "start_time": "2022-06-01T09:54:37.144Z"
      },
      {
        "duration": 18,
        "start_time": "2022-06-01T09:54:37.157Z"
      },
      {
        "duration": 45,
        "start_time": "2022-06-01T09:54:37.177Z"
      },
      {
        "duration": 21,
        "start_time": "2022-06-01T09:54:37.223Z"
      },
      {
        "duration": 22,
        "start_time": "2022-06-01T09:54:37.246Z"
      },
      {
        "duration": 21,
        "start_time": "2022-06-01T09:54:37.269Z"
      },
      {
        "duration": 19,
        "start_time": "2022-06-01T09:54:37.291Z"
      },
      {
        "duration": 15,
        "start_time": "2022-06-01T09:54:37.311Z"
      },
      {
        "duration": 16,
        "start_time": "2022-06-01T09:54:37.328Z"
      },
      {
        "duration": 29,
        "start_time": "2022-06-01T09:54:37.346Z"
      },
      {
        "duration": 27,
        "start_time": "2022-06-01T09:54:37.377Z"
      },
      {
        "duration": 5,
        "start_time": "2022-06-01T09:54:37.406Z"
      },
      {
        "duration": 29,
        "start_time": "2022-06-01T09:54:37.412Z"
      },
      {
        "duration": 29,
        "start_time": "2022-06-01T09:54:37.442Z"
      },
      {
        "duration": 8,
        "start_time": "2022-06-01T10:18:39.446Z"
      },
      {
        "duration": 3,
        "start_time": "2022-06-01T10:18:52.323Z"
      },
      {
        "duration": 168,
        "start_time": "2022-06-01T10:18:52.328Z"
      },
      {
        "duration": 39,
        "start_time": "2022-06-01T10:18:52.498Z"
      },
      {
        "duration": 39,
        "start_time": "2022-06-01T10:18:52.540Z"
      },
      {
        "duration": 69,
        "start_time": "2022-06-01T10:18:52.580Z"
      },
      {
        "duration": 31,
        "start_time": "2022-06-01T10:18:52.676Z"
      },
      {
        "duration": 18,
        "start_time": "2022-06-01T10:18:52.709Z"
      },
      {
        "duration": 58,
        "start_time": "2022-06-01T10:18:52.729Z"
      },
      {
        "duration": 4,
        "start_time": "2022-06-01T10:18:52.789Z"
      },
      {
        "duration": 35,
        "start_time": "2022-06-01T10:18:52.795Z"
      },
      {
        "duration": 47,
        "start_time": "2022-06-01T10:18:52.832Z"
      },
      {
        "duration": 22,
        "start_time": "2022-06-01T10:18:54.919Z"
      },
      {
        "duration": 193,
        "start_time": "2022-06-01T10:18:56.696Z"
      },
      {
        "duration": 199,
        "start_time": "2022-06-01T10:23:24.659Z"
      },
      {
        "duration": 190,
        "start_time": "2022-06-01T10:26:30.376Z"
      },
      {
        "duration": 214,
        "start_time": "2022-06-01T10:26:54.309Z"
      },
      {
        "duration": 3,
        "start_time": "2022-06-01T10:34:35.791Z"
      },
      {
        "duration": 143,
        "start_time": "2022-06-01T10:34:35.796Z"
      },
      {
        "duration": 33,
        "start_time": "2022-06-01T10:34:35.941Z"
      },
      {
        "duration": 13,
        "start_time": "2022-06-01T10:34:35.976Z"
      },
      {
        "duration": 85,
        "start_time": "2022-06-01T10:34:35.991Z"
      },
      {
        "duration": 20,
        "start_time": "2022-06-01T10:34:36.078Z"
      },
      {
        "duration": 20,
        "start_time": "2022-06-01T10:34:36.100Z"
      },
      {
        "duration": 65,
        "start_time": "2022-06-01T10:34:36.121Z"
      },
      {
        "duration": 4,
        "start_time": "2022-06-01T10:34:36.188Z"
      },
      {
        "duration": 38,
        "start_time": "2022-06-01T10:34:36.193Z"
      },
      {
        "duration": 52,
        "start_time": "2022-06-01T10:34:36.234Z"
      },
      {
        "duration": 202,
        "start_time": "2022-06-01T10:34:36.288Z"
      },
      {
        "duration": 294,
        "start_time": "2022-06-01T10:34:36.491Z"
      },
      {
        "duration": 207,
        "start_time": "2022-06-01T10:34:36.786Z"
      },
      {
        "duration": 31,
        "start_time": "2022-06-01T10:34:36.995Z"
      },
      {
        "duration": 3,
        "start_time": "2022-06-01T10:34:37.028Z"
      },
      {
        "duration": 730,
        "start_time": "2022-06-01T10:34:37.032Z"
      },
      {
        "duration": 41,
        "start_time": "2022-06-01T10:34:37.764Z"
      },
      {
        "duration": 20,
        "start_time": "2022-06-01T10:34:37.807Z"
      },
      {
        "duration": 10,
        "start_time": "2022-06-01T10:34:37.828Z"
      },
      {
        "duration": 39,
        "start_time": "2022-06-01T10:34:37.840Z"
      },
      {
        "duration": 11,
        "start_time": "2022-06-01T10:34:37.882Z"
      },
      {
        "duration": 192,
        "start_time": "2022-06-01T10:34:40.716Z"
      },
      {
        "duration": 199,
        "start_time": "2022-06-01T10:35:11.824Z"
      },
      {
        "duration": 191,
        "start_time": "2022-06-01T10:35:29.451Z"
      },
      {
        "duration": 277,
        "start_time": "2022-06-01T10:35:30.340Z"
      },
      {
        "duration": 184,
        "start_time": "2022-06-01T10:36:00.642Z"
      },
      {
        "duration": 677,
        "start_time": "2022-06-01T10:39:33.588Z"
      },
      {
        "duration": 136,
        "start_time": "2022-06-01T10:39:34.267Z"
      },
      {
        "duration": 30,
        "start_time": "2022-06-01T10:39:34.405Z"
      },
      {
        "duration": 13,
        "start_time": "2022-06-01T10:39:34.436Z"
      },
      {
        "duration": 64,
        "start_time": "2022-06-01T10:39:34.477Z"
      },
      {
        "duration": 47,
        "start_time": "2022-06-01T10:39:34.542Z"
      },
      {
        "duration": 21,
        "start_time": "2022-06-01T10:39:34.591Z"
      },
      {
        "duration": 40,
        "start_time": "2022-06-01T10:39:34.613Z"
      },
      {
        "duration": 4,
        "start_time": "2022-06-01T10:39:34.675Z"
      },
      {
        "duration": 42,
        "start_time": "2022-06-01T10:39:34.681Z"
      },
      {
        "duration": 22,
        "start_time": "2022-06-01T10:39:34.725Z"
      },
      {
        "duration": 54,
        "start_time": "2022-06-01T10:39:34.749Z"
      },
      {
        "duration": 3,
        "start_time": "2022-06-01T10:39:34.806Z"
      },
      {
        "duration": 790,
        "start_time": "2022-06-01T10:39:34.813Z"
      },
      {
        "duration": 37,
        "start_time": "2022-06-01T10:39:35.605Z"
      },
      {
        "duration": 41,
        "start_time": "2022-06-01T10:39:35.644Z"
      },
      {
        "duration": 11,
        "start_time": "2022-06-01T10:39:35.686Z"
      },
      {
        "duration": 13,
        "start_time": "2022-06-01T10:39:35.699Z"
      },
      {
        "duration": 17,
        "start_time": "2022-06-01T10:39:35.714Z"
      },
      {
        "duration": 266,
        "start_time": "2022-06-01T10:39:35.733Z"
      },
      {
        "duration": 202,
        "start_time": "2022-06-01T10:39:36.000Z"
      },
      {
        "duration": 273,
        "start_time": "2022-06-01T10:39:36.204Z"
      },
      {
        "duration": 19,
        "start_time": "2022-06-01T10:39:36.479Z"
      },
      {
        "duration": 4,
        "start_time": "2022-06-01T10:39:36.499Z"
      },
      {
        "duration": 7,
        "start_time": "2022-06-01T10:39:36.505Z"
      },
      {
        "duration": 62,
        "start_time": "2022-06-01T10:39:36.514Z"
      },
      {
        "duration": 36,
        "start_time": "2022-06-01T10:39:36.579Z"
      },
      {
        "duration": 32,
        "start_time": "2022-06-01T10:39:36.617Z"
      },
      {
        "duration": 19,
        "start_time": "2022-06-01T10:39:36.676Z"
      },
      {
        "duration": 21,
        "start_time": "2022-06-01T10:39:36.696Z"
      },
      {
        "duration": 7,
        "start_time": "2022-06-01T10:39:36.718Z"
      },
      {
        "duration": 6,
        "start_time": "2022-06-01T10:39:36.727Z"
      },
      {
        "duration": 46,
        "start_time": "2022-06-01T10:39:36.734Z"
      },
      {
        "duration": 21,
        "start_time": "2022-06-01T10:39:36.782Z"
      },
      {
        "duration": 5,
        "start_time": "2022-06-01T10:39:36.805Z"
      },
      {
        "duration": 13,
        "start_time": "2022-06-01T10:39:36.811Z"
      },
      {
        "duration": 57,
        "start_time": "2022-06-01T10:39:36.825Z"
      },
      {
        "duration": 17,
        "start_time": "2022-06-01T10:40:41.020Z"
      },
      {
        "duration": 79,
        "start_time": "2022-06-01T10:42:19.497Z"
      },
      {
        "duration": 9,
        "start_time": "2022-06-01T10:43:00.716Z"
      },
      {
        "duration": 4,
        "start_time": "2022-06-01T10:43:18.643Z"
      },
      {
        "duration": 18,
        "start_time": "2022-06-01T10:44:54.444Z"
      },
      {
        "duration": 18,
        "start_time": "2022-06-01T10:45:59.559Z"
      },
      {
        "duration": 18,
        "start_time": "2022-06-01T10:46:17.627Z"
      },
      {
        "duration": 21,
        "start_time": "2022-06-01T10:46:24.962Z"
      },
      {
        "duration": 28,
        "start_time": "2022-06-01T10:47:01.548Z"
      },
      {
        "duration": 207,
        "start_time": "2022-06-01T10:47:19.492Z"
      },
      {
        "duration": 21,
        "start_time": "2022-06-01T10:47:29.684Z"
      },
      {
        "duration": 26,
        "start_time": "2022-06-01T10:47:46.143Z"
      },
      {
        "duration": 196,
        "start_time": "2022-06-01T10:47:57.404Z"
      },
      {
        "duration": 177,
        "start_time": "2022-06-01T10:56:02.122Z"
      },
      {
        "duration": 177,
        "start_time": "2022-06-01T10:56:11.723Z"
      },
      {
        "duration": 183,
        "start_time": "2022-06-01T10:56:15.481Z"
      },
      {
        "duration": 634,
        "start_time": "2022-06-01T11:10:48.520Z"
      },
      {
        "duration": 140,
        "start_time": "2022-06-01T11:10:49.156Z"
      },
      {
        "duration": 30,
        "start_time": "2022-06-01T11:10:49.299Z"
      },
      {
        "duration": 11,
        "start_time": "2022-06-01T11:10:49.331Z"
      },
      {
        "duration": 86,
        "start_time": "2022-06-01T11:10:49.343Z"
      },
      {
        "duration": 21,
        "start_time": "2022-06-01T11:10:49.431Z"
      },
      {
        "duration": 21,
        "start_time": "2022-06-01T11:10:49.475Z"
      },
      {
        "duration": 50,
        "start_time": "2022-06-01T11:10:49.498Z"
      },
      {
        "duration": 3,
        "start_time": "2022-06-01T11:10:49.549Z"
      },
      {
        "duration": 49,
        "start_time": "2022-06-01T11:10:49.554Z"
      },
      {
        "duration": 23,
        "start_time": "2022-06-01T11:10:49.605Z"
      },
      {
        "duration": 49,
        "start_time": "2022-06-01T11:10:49.630Z"
      },
      {
        "duration": 3,
        "start_time": "2022-06-01T11:10:49.683Z"
      },
      {
        "duration": 759,
        "start_time": "2022-06-01T11:10:49.687Z"
      },
      {
        "duration": 40,
        "start_time": "2022-06-01T11:10:50.447Z"
      },
      {
        "duration": 19,
        "start_time": "2022-06-01T11:10:50.488Z"
      },
      {
        "duration": 42,
        "start_time": "2022-06-01T11:10:50.508Z"
      },
      {
        "duration": 26,
        "start_time": "2022-06-01T11:10:50.551Z"
      },
      {
        "duration": 44,
        "start_time": "2022-06-01T11:10:50.578Z"
      },
      {
        "duration": 216,
        "start_time": "2022-06-01T11:10:50.623Z"
      },
      {
        "duration": 198,
        "start_time": "2022-06-01T11:10:50.841Z"
      },
      {
        "duration": 274,
        "start_time": "2022-06-01T11:10:51.041Z"
      },
      {
        "duration": 17,
        "start_time": "2022-06-01T11:10:51.316Z"
      },
      {
        "duration": 26,
        "start_time": "2022-06-01T11:10:51.334Z"
      },
      {
        "duration": 44,
        "start_time": "2022-06-01T11:10:51.361Z"
      },
      {
        "duration": 29,
        "start_time": "2022-06-01T11:10:51.406Z"
      },
      {
        "duration": 25,
        "start_time": "2022-06-01T11:10:51.436Z"
      },
      {
        "duration": 18,
        "start_time": "2022-06-01T11:10:51.463Z"
      },
      {
        "duration": 51,
        "start_time": "2022-06-01T11:10:51.482Z"
      },
      {
        "duration": 7,
        "start_time": "2022-06-01T11:10:51.535Z"
      },
      {
        "duration": 33,
        "start_time": "2022-06-01T11:10:51.544Z"
      },
      {
        "duration": 23,
        "start_time": "2022-06-01T11:10:51.578Z"
      },
      {
        "duration": 50,
        "start_time": "2022-06-01T11:10:51.603Z"
      },
      {
        "duration": 35,
        "start_time": "2022-06-01T11:10:51.654Z"
      },
      {
        "duration": 24,
        "start_time": "2022-06-01T11:10:51.691Z"
      },
      {
        "duration": 56,
        "start_time": "2022-06-01T11:10:51.717Z"
      },
      {
        "duration": 70,
        "start_time": "2022-06-01T11:13:53.484Z"
      },
      {
        "duration": 527,
        "start_time": "2022-06-01T11:14:15.030Z"
      },
      {
        "duration": 124,
        "start_time": "2022-06-01T11:14:15.559Z"
      },
      {
        "duration": 26,
        "start_time": "2022-06-01T11:14:15.685Z"
      },
      {
        "duration": 9,
        "start_time": "2022-06-01T11:14:15.713Z"
      },
      {
        "duration": 77,
        "start_time": "2022-06-01T11:14:15.724Z"
      },
      {
        "duration": 19,
        "start_time": "2022-06-01T11:14:15.802Z"
      },
      {
        "duration": 26,
        "start_time": "2022-06-01T11:14:15.822Z"
      },
      {
        "duration": 72,
        "start_time": "2022-06-01T11:14:15.850Z"
      },
      {
        "duration": 4,
        "start_time": "2022-06-01T11:14:15.924Z"
      },
      {
        "duration": 52,
        "start_time": "2022-06-01T11:14:15.931Z"
      },
      {
        "duration": 21,
        "start_time": "2022-06-01T11:14:15.985Z"
      },
      {
        "duration": 26,
        "start_time": "2022-06-01T11:14:16.008Z"
      },
      {
        "duration": 3,
        "start_time": "2022-06-01T11:14:16.036Z"
      },
      {
        "duration": 712,
        "start_time": "2022-06-01T11:14:16.041Z"
      },
      {
        "duration": 36,
        "start_time": "2022-06-01T11:14:16.755Z"
      },
      {
        "duration": 17,
        "start_time": "2022-06-01T11:14:16.793Z"
      },
      {
        "duration": 10,
        "start_time": "2022-06-01T11:14:16.812Z"
      },
      {
        "duration": 13,
        "start_time": "2022-06-01T11:14:16.823Z"
      },
      {
        "duration": 44,
        "start_time": "2022-06-01T11:14:16.837Z"
      },
      {
        "duration": 174,
        "start_time": "2022-06-01T11:14:16.882Z"
      },
      {
        "duration": 174,
        "start_time": "2022-06-01T11:14:17.058Z"
      },
      {
        "duration": 176,
        "start_time": "2022-06-01T11:14:17.234Z"
      },
      {
        "duration": 15,
        "start_time": "2022-06-01T11:14:17.412Z"
      },
      {
        "duration": 5,
        "start_time": "2022-06-01T11:14:17.429Z"
      },
      {
        "duration": 44,
        "start_time": "2022-06-01T11:14:17.435Z"
      },
      {
        "duration": 20,
        "start_time": "2022-06-01T11:14:17.480Z"
      },
      {
        "duration": 19,
        "start_time": "2022-06-01T11:14:17.502Z"
      },
      {
        "duration": 16,
        "start_time": "2022-06-01T11:14:17.524Z"
      },
      {
        "duration": 47,
        "start_time": "2022-06-01T11:14:17.542Z"
      },
      {
        "duration": 6,
        "start_time": "2022-06-01T11:14:17.590Z"
      },
      {
        "duration": 4,
        "start_time": "2022-06-01T11:14:17.598Z"
      },
      {
        "duration": 8,
        "start_time": "2022-06-01T11:14:17.604Z"
      },
      {
        "duration": 20,
        "start_time": "2022-06-01T11:14:17.614Z"
      },
      {
        "duration": 43,
        "start_time": "2022-06-01T11:14:17.635Z"
      },
      {
        "duration": 9,
        "start_time": "2022-06-01T11:14:17.679Z"
      },
      {
        "duration": 16,
        "start_time": "2022-06-01T11:14:17.689Z"
      },
      {
        "duration": 3,
        "start_time": "2022-06-01T11:14:17.706Z"
      },
      {
        "duration": 5,
        "start_time": "2022-06-01T11:14:17.710Z"
      },
      {
        "duration": 5,
        "start_time": "2022-06-01T11:17:04.638Z"
      },
      {
        "duration": 3,
        "start_time": "2022-06-01T11:18:11.113Z"
      },
      {
        "duration": 135,
        "start_time": "2022-06-01T11:18:11.118Z"
      },
      {
        "duration": 42,
        "start_time": "2022-06-01T11:18:11.255Z"
      },
      {
        "duration": 16,
        "start_time": "2022-06-01T11:18:11.299Z"
      },
      {
        "duration": 93,
        "start_time": "2022-06-01T11:18:11.317Z"
      },
      {
        "duration": 27,
        "start_time": "2022-06-01T11:18:11.412Z"
      },
      {
        "duration": 47,
        "start_time": "2022-06-01T11:18:11.441Z"
      },
      {
        "duration": 57,
        "start_time": "2022-06-01T11:18:11.490Z"
      },
      {
        "duration": 4,
        "start_time": "2022-06-01T11:18:11.550Z"
      },
      {
        "duration": 55,
        "start_time": "2022-06-01T11:18:11.577Z"
      },
      {
        "duration": 51,
        "start_time": "2022-06-01T11:18:11.634Z"
      },
      {
        "duration": 35,
        "start_time": "2022-06-01T11:18:11.687Z"
      },
      {
        "duration": 5,
        "start_time": "2022-06-01T11:18:11.724Z"
      },
      {
        "duration": 969,
        "start_time": "2022-06-01T11:18:11.731Z"
      },
      {
        "duration": 51,
        "start_time": "2022-06-01T11:18:12.702Z"
      },
      {
        "duration": 37,
        "start_time": "2022-06-01T11:18:12.756Z"
      },
      {
        "duration": 15,
        "start_time": "2022-06-01T11:18:12.794Z"
      },
      {
        "duration": 16,
        "start_time": "2022-06-01T11:18:12.811Z"
      },
      {
        "duration": 45,
        "start_time": "2022-06-01T11:18:12.830Z"
      },
      {
        "duration": 307,
        "start_time": "2022-06-01T11:18:12.876Z"
      },
      {
        "duration": 201,
        "start_time": "2022-06-01T11:18:13.185Z"
      },
      {
        "duration": 212,
        "start_time": "2022-06-01T11:18:13.387Z"
      },
      {
        "duration": 18,
        "start_time": "2022-06-01T11:18:13.601Z"
      },
      {
        "duration": 5,
        "start_time": "2022-06-01T11:18:13.620Z"
      },
      {
        "duration": 50,
        "start_time": "2022-06-01T11:18:13.627Z"
      },
      {
        "duration": 24,
        "start_time": "2022-06-01T11:18:13.679Z"
      },
      {
        "duration": 32,
        "start_time": "2022-06-01T11:18:13.705Z"
      },
      {
        "duration": 49,
        "start_time": "2022-06-01T11:18:13.740Z"
      },
      {
        "duration": 26,
        "start_time": "2022-06-01T11:18:13.791Z"
      },
      {
        "duration": 7,
        "start_time": "2022-06-01T11:18:13.819Z"
      },
      {
        "duration": 8,
        "start_time": "2022-06-01T11:18:13.828Z"
      },
      {
        "duration": 45,
        "start_time": "2022-06-01T11:18:13.838Z"
      },
      {
        "duration": 37,
        "start_time": "2022-06-01T11:18:13.885Z"
      },
      {
        "duration": 22,
        "start_time": "2022-06-01T11:18:13.923Z"
      },
      {
        "duration": 11,
        "start_time": "2022-06-01T11:18:13.947Z"
      },
      {
        "duration": 37,
        "start_time": "2022-06-01T11:18:13.959Z"
      },
      {
        "duration": 2,
        "start_time": "2022-06-01T11:18:13.998Z"
      },
      {
        "duration": 11,
        "start_time": "2022-06-01T11:18:14.002Z"
      },
      {
        "duration": 11,
        "start_time": "2022-06-01T11:18:14.015Z"
      },
      {
        "duration": 28,
        "start_time": "2022-06-01T11:27:06.695Z"
      },
      {
        "duration": 9,
        "start_time": "2022-06-01T11:30:46.044Z"
      },
      {
        "duration": 8,
        "start_time": "2022-06-01T11:30:51.620Z"
      },
      {
        "duration": 7,
        "start_time": "2022-06-01T11:31:47.801Z"
      },
      {
        "duration": 6,
        "start_time": "2022-06-01T11:31:56.271Z"
      },
      {
        "duration": 8,
        "start_time": "2022-06-01T11:31:59.793Z"
      },
      {
        "duration": 14,
        "start_time": "2022-06-01T11:33:35.823Z"
      },
      {
        "duration": 27,
        "start_time": "2022-06-01T11:34:19.721Z"
      },
      {
        "duration": 27,
        "start_time": "2022-06-01T11:34:36.384Z"
      },
      {
        "duration": 27,
        "start_time": "2022-06-01T11:34:49.872Z"
      },
      {
        "duration": 37,
        "start_time": "2022-06-01T11:35:31.274Z"
      },
      {
        "duration": 3,
        "start_time": "2022-06-01T11:35:58.275Z"
      },
      {
        "duration": 138,
        "start_time": "2022-06-01T11:35:58.280Z"
      },
      {
        "duration": 30,
        "start_time": "2022-06-01T11:35:58.420Z"
      },
      {
        "duration": 30,
        "start_time": "2022-06-01T11:35:58.452Z"
      },
      {
        "duration": 91,
        "start_time": "2022-06-01T11:35:58.484Z"
      },
      {
        "duration": 28,
        "start_time": "2022-06-01T11:35:58.577Z"
      },
      {
        "duration": 21,
        "start_time": "2022-06-01T11:35:58.607Z"
      },
      {
        "duration": 63,
        "start_time": "2022-06-01T11:35:58.629Z"
      },
      {
        "duration": 4,
        "start_time": "2022-06-01T11:35:58.695Z"
      },
      {
        "duration": 37,
        "start_time": "2022-06-01T11:35:58.700Z"
      },
      {
        "duration": 51,
        "start_time": "2022-06-01T11:35:58.739Z"
      },
      {
        "duration": 43,
        "start_time": "2022-06-01T11:35:58.793Z"
      },
      {
        "duration": 3,
        "start_time": "2022-06-01T11:35:58.838Z"
      },
      {
        "duration": 746,
        "start_time": "2022-06-01T11:35:58.843Z"
      },
      {
        "duration": 34,
        "start_time": "2022-06-01T11:35:59.591Z"
      },
      {
        "duration": 20,
        "start_time": "2022-06-01T11:35:59.627Z"
      },
      {
        "duration": 34,
        "start_time": "2022-06-01T11:35:59.649Z"
      },
      {
        "duration": 12,
        "start_time": "2022-06-01T11:35:59.685Z"
      },
      {
        "duration": 11,
        "start_time": "2022-06-01T11:35:59.699Z"
      },
      {
        "duration": 220,
        "start_time": "2022-06-01T11:35:59.712Z"
      },
      {
        "duration": 202,
        "start_time": "2022-06-01T11:35:59.934Z"
      },
      {
        "duration": 316,
        "start_time": "2022-06-01T11:36:00.138Z"
      },
      {
        "duration": 27,
        "start_time": "2022-06-01T11:36:00.456Z"
      },
      {
        "duration": 4,
        "start_time": "2022-06-01T11:36:00.486Z"
      },
      {
        "duration": 43,
        "start_time": "2022-06-01T11:36:00.492Z"
      },
      {
        "duration": 25,
        "start_time": "2022-06-01T11:36:00.536Z"
      },
      {
        "duration": 29,
        "start_time": "2022-06-01T11:36:00.563Z"
      },
      {
        "duration": 20,
        "start_time": "2022-06-01T11:36:00.594Z"
      },
      {
        "duration": 27,
        "start_time": "2022-06-01T11:36:00.615Z"
      },
      {
        "duration": 33,
        "start_time": "2022-06-01T11:36:00.644Z"
      },
      {
        "duration": 10,
        "start_time": "2022-06-01T11:36:00.679Z"
      },
      {
        "duration": 19,
        "start_time": "2022-06-01T11:36:00.690Z"
      },
      {
        "duration": 33,
        "start_time": "2022-06-01T11:36:00.711Z"
      },
      {
        "duration": 4,
        "start_time": "2022-06-01T11:36:00.746Z"
      },
      {
        "duration": 25,
        "start_time": "2022-06-01T11:36:00.752Z"
      },
      {
        "duration": 20,
        "start_time": "2022-06-01T11:36:00.779Z"
      },
      {
        "duration": 3,
        "start_time": "2022-06-01T11:36:00.801Z"
      },
      {
        "duration": 78,
        "start_time": "2022-06-01T11:36:00.805Z"
      },
      {
        "duration": 5,
        "start_time": "2022-06-01T11:36:00.885Z"
      },
      {
        "duration": 14,
        "start_time": "2022-06-01T11:36:00.891Z"
      },
      {
        "duration": 4,
        "start_time": "2022-06-01T11:37:40.031Z"
      },
      {
        "duration": 26,
        "start_time": "2022-06-01T11:37:40.502Z"
      },
      {
        "duration": 26,
        "start_time": "2022-06-01T11:38:24.682Z"
      },
      {
        "duration": 5,
        "start_time": "2022-06-01T11:41:44.878Z"
      },
      {
        "duration": 32,
        "start_time": "2022-06-01T11:41:52.368Z"
      },
      {
        "duration": 2,
        "start_time": "2022-06-01T11:42:03.893Z"
      },
      {
        "duration": 140,
        "start_time": "2022-06-01T11:42:03.897Z"
      },
      {
        "duration": 31,
        "start_time": "2022-06-01T11:42:04.038Z"
      },
      {
        "duration": 13,
        "start_time": "2022-06-01T11:42:04.071Z"
      },
      {
        "duration": 97,
        "start_time": "2022-06-01T11:42:04.085Z"
      },
      {
        "duration": 22,
        "start_time": "2022-06-01T11:42:04.183Z"
      },
      {
        "duration": 20,
        "start_time": "2022-06-01T11:42:04.206Z"
      },
      {
        "duration": 69,
        "start_time": "2022-06-01T11:42:04.228Z"
      },
      {
        "duration": 3,
        "start_time": "2022-06-01T11:42:04.299Z"
      },
      {
        "duration": 40,
        "start_time": "2022-06-01T11:42:04.305Z"
      },
      {
        "duration": 44,
        "start_time": "2022-06-01T11:42:04.346Z"
      },
      {
        "duration": 37,
        "start_time": "2022-06-01T11:42:04.392Z"
      },
      {
        "duration": 4,
        "start_time": "2022-06-01T11:42:04.430Z"
      },
      {
        "duration": 768,
        "start_time": "2022-06-01T11:42:04.436Z"
      },
      {
        "duration": 37,
        "start_time": "2022-06-01T11:42:05.206Z"
      },
      {
        "duration": 45,
        "start_time": "2022-06-01T11:42:05.244Z"
      },
      {
        "duration": 11,
        "start_time": "2022-06-01T11:42:05.291Z"
      },
      {
        "duration": 17,
        "start_time": "2022-06-01T11:42:05.303Z"
      },
      {
        "duration": 13,
        "start_time": "2022-06-01T11:42:05.322Z"
      },
      {
        "duration": 226,
        "start_time": "2022-06-01T11:42:05.337Z"
      },
      {
        "duration": 202,
        "start_time": "2022-06-01T11:42:05.566Z"
      },
      {
        "duration": 237,
        "start_time": "2022-06-01T11:42:05.769Z"
      },
      {
        "duration": 19,
        "start_time": "2022-06-01T11:42:06.008Z"
      },
      {
        "duration": 6,
        "start_time": "2022-06-01T11:42:06.029Z"
      },
      {
        "duration": 46,
        "start_time": "2022-06-01T11:42:06.037Z"
      },
      {
        "duration": 25,
        "start_time": "2022-06-01T11:42:06.085Z"
      },
      {
        "duration": 28,
        "start_time": "2022-06-01T11:42:06.112Z"
      },
      {
        "duration": 47,
        "start_time": "2022-06-01T11:42:06.144Z"
      },
      {
        "duration": 21,
        "start_time": "2022-06-01T11:42:06.193Z"
      },
      {
        "duration": 8,
        "start_time": "2022-06-01T11:42:06.215Z"
      },
      {
        "duration": 8,
        "start_time": "2022-06-01T11:42:06.225Z"
      },
      {
        "duration": 57,
        "start_time": "2022-06-01T11:42:06.235Z"
      },
      {
        "duration": 28,
        "start_time": "2022-06-01T11:42:06.293Z"
      },
      {
        "duration": 5,
        "start_time": "2022-06-01T11:42:06.323Z"
      },
      {
        "duration": 14,
        "start_time": "2022-06-01T11:42:06.330Z"
      },
      {
        "duration": 39,
        "start_time": "2022-06-01T11:42:06.345Z"
      },
      {
        "duration": 3,
        "start_time": "2022-06-01T11:42:06.386Z"
      },
      {
        "duration": 50,
        "start_time": "2022-06-01T11:42:06.390Z"
      },
      {
        "duration": 5,
        "start_time": "2022-06-01T11:42:06.441Z"
      },
      {
        "duration": 30,
        "start_time": "2022-06-01T11:42:06.448Z"
      },
      {
        "duration": 5,
        "start_time": "2022-06-01T12:20:53.028Z"
      },
      {
        "duration": 42,
        "start_time": "2022-06-01T12:21:11.819Z"
      },
      {
        "duration": 69,
        "start_time": "2022-06-01T12:21:39.992Z"
      },
      {
        "duration": 51,
        "start_time": "2022-06-01T12:21:51.871Z"
      },
      {
        "duration": 5,
        "start_time": "2022-06-01T12:24:16.863Z"
      },
      {
        "duration": 5,
        "start_time": "2022-06-01T12:24:30.913Z"
      },
      {
        "duration": 44,
        "start_time": "2022-06-01T12:24:43.671Z"
      },
      {
        "duration": 20,
        "start_time": "2022-06-01T12:24:55.754Z"
      },
      {
        "duration": 21,
        "start_time": "2022-06-01T12:25:01.986Z"
      },
      {
        "duration": 19,
        "start_time": "2022-06-01T12:25:21.989Z"
      },
      {
        "duration": 19,
        "start_time": "2022-06-01T12:25:36.479Z"
      },
      {
        "duration": 22,
        "start_time": "2022-06-01T12:25:42.397Z"
      },
      {
        "duration": 19,
        "start_time": "2022-06-01T12:25:54.614Z"
      },
      {
        "duration": 57,
        "start_time": "2022-06-01T12:26:32.730Z"
      },
      {
        "duration": 19,
        "start_time": "2022-06-01T12:27:25.931Z"
      },
      {
        "duration": 18,
        "start_time": "2022-06-01T12:27:44.786Z"
      },
      {
        "duration": 68,
        "start_time": "2022-06-01T12:28:28.772Z"
      },
      {
        "duration": 34,
        "start_time": "2022-06-01T12:29:26.824Z"
      },
      {
        "duration": 5,
        "start_time": "2022-06-01T12:29:28.612Z"
      },
      {
        "duration": 34,
        "start_time": "2022-06-01T12:33:56.306Z"
      },
      {
        "duration": 4,
        "start_time": "2022-06-01T12:33:58.482Z"
      },
      {
        "duration": 40,
        "start_time": "2022-06-01T12:35:47.923Z"
      },
      {
        "duration": 6,
        "start_time": "2022-06-01T12:36:09.715Z"
      },
      {
        "duration": 6,
        "start_time": "2022-06-01T12:36:19.806Z"
      },
      {
        "duration": 43,
        "start_time": "2022-06-01T12:36:23.281Z"
      },
      {
        "duration": 19,
        "start_time": "2022-06-01T12:37:57.687Z"
      },
      {
        "duration": 5,
        "start_time": "2022-06-01T12:38:28.898Z"
      },
      {
        "duration": 8,
        "start_time": "2022-06-01T12:38:58.781Z"
      },
      {
        "duration": 17,
        "start_time": "2022-06-01T12:39:43.984Z"
      },
      {
        "duration": 21,
        "start_time": "2022-06-01T12:39:49.810Z"
      },
      {
        "duration": 17,
        "start_time": "2022-06-01T12:39:53.714Z"
      },
      {
        "duration": 17,
        "start_time": "2022-06-01T12:39:59.577Z"
      },
      {
        "duration": 9,
        "start_time": "2022-06-01T12:40:25.613Z"
      },
      {
        "duration": 5,
        "start_time": "2022-06-01T12:40:33.730Z"
      },
      {
        "duration": 5,
        "start_time": "2022-06-01T12:41:54.358Z"
      },
      {
        "duration": 2,
        "start_time": "2022-06-01T12:42:05.649Z"
      },
      {
        "duration": 142,
        "start_time": "2022-06-01T12:42:05.654Z"
      },
      {
        "duration": 43,
        "start_time": "2022-06-01T12:42:05.799Z"
      },
      {
        "duration": 45,
        "start_time": "2022-06-01T12:42:05.844Z"
      },
      {
        "duration": 108,
        "start_time": "2022-06-01T12:42:05.891Z"
      },
      {
        "duration": 23,
        "start_time": "2022-06-01T12:42:06.001Z"
      },
      {
        "duration": 49,
        "start_time": "2022-06-01T12:42:06.027Z"
      },
      {
        "duration": 43,
        "start_time": "2022-06-01T12:42:06.078Z"
      },
      {
        "duration": 4,
        "start_time": "2022-06-01T12:42:06.123Z"
      },
      {
        "duration": 66,
        "start_time": "2022-06-01T12:42:06.129Z"
      },
      {
        "duration": 24,
        "start_time": "2022-06-01T12:42:06.197Z"
      },
      {
        "duration": 53,
        "start_time": "2022-06-01T12:42:06.223Z"
      },
      {
        "duration": 3,
        "start_time": "2022-06-01T12:42:06.278Z"
      },
      {
        "duration": 903,
        "start_time": "2022-06-01T12:42:06.284Z"
      },
      {
        "duration": 35,
        "start_time": "2022-06-01T12:42:07.188Z"
      },
      {
        "duration": 21,
        "start_time": "2022-06-01T12:42:07.225Z"
      },
      {
        "duration": 35,
        "start_time": "2022-06-01T12:42:07.248Z"
      },
      {
        "duration": 15,
        "start_time": "2022-06-01T12:42:07.284Z"
      },
      {
        "duration": 11,
        "start_time": "2022-06-01T12:42:07.301Z"
      },
      {
        "duration": 225,
        "start_time": "2022-06-01T12:42:07.313Z"
      },
      {
        "duration": 222,
        "start_time": "2022-06-01T12:42:07.540Z"
      },
      {
        "duration": 230,
        "start_time": "2022-06-01T12:42:07.764Z"
      },
      {
        "duration": 18,
        "start_time": "2022-06-01T12:42:07.996Z"
      },
      {
        "duration": 5,
        "start_time": "2022-06-01T12:42:08.016Z"
      },
      {
        "duration": 30,
        "start_time": "2022-06-01T12:42:08.022Z"
      },
      {
        "duration": 25,
        "start_time": "2022-06-01T12:42:08.074Z"
      },
      {
        "duration": 24,
        "start_time": "2022-06-01T12:42:08.101Z"
      },
      {
        "duration": 52,
        "start_time": "2022-06-01T12:42:08.127Z"
      },
      {
        "duration": 20,
        "start_time": "2022-06-01T12:42:08.181Z"
      },
      {
        "duration": 7,
        "start_time": "2022-06-01T12:42:08.203Z"
      },
      {
        "duration": 6,
        "start_time": "2022-06-01T12:42:08.212Z"
      },
      {
        "duration": 10,
        "start_time": "2022-06-01T12:42:08.219Z"
      },
      {
        "duration": 58,
        "start_time": "2022-06-01T12:42:08.231Z"
      },
      {
        "duration": 4,
        "start_time": "2022-06-01T12:42:08.290Z"
      },
      {
        "duration": 13,
        "start_time": "2022-06-01T12:42:08.296Z"
      },
      {
        "duration": 24,
        "start_time": "2022-06-01T12:42:08.311Z"
      },
      {
        "duration": 67,
        "start_time": "2022-06-01T12:42:08.337Z"
      },
      {
        "duration": 6,
        "start_time": "2022-06-01T12:42:08.406Z"
      },
      {
        "duration": 8,
        "start_time": "2022-06-01T12:42:08.413Z"
      },
      {
        "duration": 1093,
        "start_time": "2022-06-01T12:44:17.647Z"
      },
      {
        "duration": 136,
        "start_time": "2022-06-01T12:44:18.742Z"
      },
      {
        "duration": 29,
        "start_time": "2022-06-01T12:44:18.880Z"
      },
      {
        "duration": 11,
        "start_time": "2022-06-01T12:44:18.912Z"
      },
      {
        "duration": 89,
        "start_time": "2022-06-01T12:44:18.924Z"
      },
      {
        "duration": 20,
        "start_time": "2022-06-01T12:44:19.014Z"
      },
      {
        "duration": 41,
        "start_time": "2022-06-01T12:44:19.036Z"
      },
      {
        "duration": 35,
        "start_time": "2022-06-01T12:44:19.079Z"
      },
      {
        "duration": 4,
        "start_time": "2022-06-01T12:44:19.115Z"
      },
      {
        "duration": 55,
        "start_time": "2022-06-01T12:44:19.121Z"
      },
      {
        "duration": 20,
        "start_time": "2022-06-01T12:44:19.177Z"
      },
      {
        "duration": 28,
        "start_time": "2022-06-01T12:44:19.198Z"
      },
      {
        "duration": 3,
        "start_time": "2022-06-01T12:44:19.227Z"
      },
      {
        "duration": 815,
        "start_time": "2022-06-01T12:44:19.232Z"
      },
      {
        "duration": 41,
        "start_time": "2022-06-01T12:44:20.049Z"
      },
      {
        "duration": 21,
        "start_time": "2022-06-01T12:44:20.092Z"
      },
      {
        "duration": 11,
        "start_time": "2022-06-01T12:44:20.115Z"
      },
      {
        "duration": 12,
        "start_time": "2022-06-01T12:44:20.128Z"
      },
      {
        "duration": 12,
        "start_time": "2022-06-01T12:44:20.176Z"
      },
      {
        "duration": 205,
        "start_time": "2022-06-01T12:44:20.189Z"
      },
      {
        "duration": 193,
        "start_time": "2022-06-01T12:44:20.396Z"
      },
      {
        "duration": 203,
        "start_time": "2022-06-01T12:44:20.591Z"
      },
      {
        "duration": 19,
        "start_time": "2022-06-01T12:44:20.796Z"
      },
      {
        "duration": 5,
        "start_time": "2022-06-01T12:44:20.817Z"
      },
      {
        "duration": 27,
        "start_time": "2022-06-01T12:44:20.824Z"
      },
      {
        "duration": 23,
        "start_time": "2022-06-01T12:44:20.876Z"
      },
      {
        "duration": 24,
        "start_time": "2022-06-01T12:44:20.901Z"
      },
      {
        "duration": 53,
        "start_time": "2022-06-01T12:44:20.928Z"
      },
      {
        "duration": 20,
        "start_time": "2022-06-01T12:44:20.982Z"
      },
      {
        "duration": 126,
        "start_time": "2022-06-01T12:44:21.004Z"
      },
      {
        "duration": 0,
        "start_time": "2022-06-01T12:44:21.131Z"
      },
      {
        "duration": 0,
        "start_time": "2022-06-01T12:44:21.133Z"
      },
      {
        "duration": 0,
        "start_time": "2022-06-01T12:44:21.134Z"
      },
      {
        "duration": 0,
        "start_time": "2022-06-01T12:44:21.135Z"
      },
      {
        "duration": 0,
        "start_time": "2022-06-01T12:44:21.136Z"
      },
      {
        "duration": 0,
        "start_time": "2022-06-01T12:44:21.137Z"
      },
      {
        "duration": 0,
        "start_time": "2022-06-01T12:44:21.138Z"
      },
      {
        "duration": 0,
        "start_time": "2022-06-01T12:44:21.139Z"
      },
      {
        "duration": 0,
        "start_time": "2022-06-01T12:44:21.141Z"
      },
      {
        "duration": 8,
        "start_time": "2022-06-01T12:45:30.846Z"
      },
      {
        "duration": 1057,
        "start_time": "2022-06-01T12:45:44.308Z"
      },
      {
        "duration": 132,
        "start_time": "2022-06-01T12:45:45.375Z"
      },
      {
        "duration": 28,
        "start_time": "2022-06-01T12:45:45.509Z"
      },
      {
        "duration": 10,
        "start_time": "2022-06-01T12:45:45.539Z"
      },
      {
        "duration": 82,
        "start_time": "2022-06-01T12:45:45.551Z"
      },
      {
        "duration": 40,
        "start_time": "2022-06-01T12:45:45.635Z"
      },
      {
        "duration": 19,
        "start_time": "2022-06-01T12:45:45.677Z"
      },
      {
        "duration": 34,
        "start_time": "2022-06-01T12:45:45.698Z"
      },
      {
        "duration": 3,
        "start_time": "2022-06-01T12:45:45.734Z"
      },
      {
        "duration": 64,
        "start_time": "2022-06-01T12:45:45.740Z"
      },
      {
        "duration": 20,
        "start_time": "2022-06-01T12:45:45.806Z"
      },
      {
        "duration": 59,
        "start_time": "2022-06-01T12:45:45.827Z"
      },
      {
        "duration": 4,
        "start_time": "2022-06-01T12:45:45.888Z"
      },
      {
        "duration": 806,
        "start_time": "2022-06-01T12:45:45.894Z"
      },
      {
        "duration": 32,
        "start_time": "2022-06-01T12:45:46.702Z"
      },
      {
        "duration": 18,
        "start_time": "2022-06-01T12:45:46.735Z"
      },
      {
        "duration": 10,
        "start_time": "2022-06-01T12:45:46.775Z"
      },
      {
        "duration": 12,
        "start_time": "2022-06-01T12:45:46.787Z"
      },
      {
        "duration": 10,
        "start_time": "2022-06-01T12:45:46.801Z"
      },
      {
        "duration": 211,
        "start_time": "2022-06-01T12:45:46.812Z"
      },
      {
        "duration": 180,
        "start_time": "2022-06-01T12:45:47.024Z"
      },
      {
        "duration": 198,
        "start_time": "2022-06-01T12:45:47.206Z"
      },
      {
        "duration": 15,
        "start_time": "2022-06-01T12:45:47.406Z"
      },
      {
        "duration": 6,
        "start_time": "2022-06-01T12:45:47.423Z"
      },
      {
        "duration": 45,
        "start_time": "2022-06-01T12:45:47.431Z"
      },
      {
        "duration": 21,
        "start_time": "2022-06-01T12:45:47.477Z"
      },
      {
        "duration": 22,
        "start_time": "2022-06-01T12:45:47.500Z"
      },
      {
        "duration": 17,
        "start_time": "2022-06-01T12:45:47.525Z"
      },
      {
        "duration": 19,
        "start_time": "2022-06-01T12:45:47.574Z"
      },
      {
        "duration": 6,
        "start_time": "2022-06-01T12:45:47.595Z"
      },
      {
        "duration": 5,
        "start_time": "2022-06-01T12:45:47.603Z"
      },
      {
        "duration": 12,
        "start_time": "2022-06-01T12:45:47.609Z"
      },
      {
        "duration": 22,
        "start_time": "2022-06-01T12:45:47.622Z"
      },
      {
        "duration": 4,
        "start_time": "2022-06-01T12:45:47.675Z"
      },
      {
        "duration": 11,
        "start_time": "2022-06-01T12:45:47.681Z"
      },
      {
        "duration": 19,
        "start_time": "2022-06-01T12:45:47.693Z"
      },
      {
        "duration": 33,
        "start_time": "2022-06-01T12:45:47.713Z"
      },
      {
        "duration": 5,
        "start_time": "2022-06-01T12:45:47.774Z"
      },
      {
        "duration": 9,
        "start_time": "2022-06-01T12:45:47.780Z"
      },
      {
        "duration": 1037,
        "start_time": "2022-06-01T12:48:52.823Z"
      },
      {
        "duration": 150,
        "start_time": "2022-06-01T12:48:53.861Z"
      },
      {
        "duration": 30,
        "start_time": "2022-06-01T12:48:54.015Z"
      },
      {
        "duration": 39,
        "start_time": "2022-06-01T12:48:54.046Z"
      },
      {
        "duration": 62,
        "start_time": "2022-06-01T12:48:54.087Z"
      },
      {
        "duration": 51,
        "start_time": "2022-06-01T12:48:54.151Z"
      },
      {
        "duration": 28,
        "start_time": "2022-06-01T12:48:54.204Z"
      },
      {
        "duration": 56,
        "start_time": "2022-06-01T12:48:54.234Z"
      },
      {
        "duration": 3,
        "start_time": "2022-06-01T12:48:54.293Z"
      },
      {
        "duration": 51,
        "start_time": "2022-06-01T12:48:54.297Z"
      },
      {
        "duration": 29,
        "start_time": "2022-06-01T12:48:54.350Z"
      },
      {
        "duration": 30,
        "start_time": "2022-06-01T12:48:54.380Z"
      },
      {
        "duration": 4,
        "start_time": "2022-06-01T12:48:54.411Z"
      },
      {
        "duration": 840,
        "start_time": "2022-06-01T12:48:54.416Z"
      },
      {
        "duration": 43,
        "start_time": "2022-06-01T12:48:55.258Z"
      },
      {
        "duration": 21,
        "start_time": "2022-06-01T12:48:55.303Z"
      },
      {
        "duration": 16,
        "start_time": "2022-06-01T12:48:55.326Z"
      },
      {
        "duration": 39,
        "start_time": "2022-06-01T12:48:55.344Z"
      },
      {
        "duration": 19,
        "start_time": "2022-06-01T12:48:55.385Z"
      },
      {
        "duration": 208,
        "start_time": "2022-06-01T12:48:55.406Z"
      },
      {
        "duration": 241,
        "start_time": "2022-06-01T12:48:55.616Z"
      },
      {
        "duration": 226,
        "start_time": "2022-06-01T12:48:55.859Z"
      },
      {
        "duration": 19,
        "start_time": "2022-06-01T12:48:56.087Z"
      },
      {
        "duration": 13,
        "start_time": "2022-06-01T12:48:56.107Z"
      },
      {
        "duration": 40,
        "start_time": "2022-06-01T12:48:56.121Z"
      },
      {
        "duration": 32,
        "start_time": "2022-06-01T12:48:56.163Z"
      },
      {
        "duration": 26,
        "start_time": "2022-06-01T12:48:56.198Z"
      },
      {
        "duration": 54,
        "start_time": "2022-06-01T12:48:56.226Z"
      },
      {
        "duration": 25,
        "start_time": "2022-06-01T12:48:56.281Z"
      },
      {
        "duration": 19,
        "start_time": "2022-06-01T12:48:56.307Z"
      },
      {
        "duration": 6,
        "start_time": "2022-06-01T12:48:56.328Z"
      },
      {
        "duration": 11,
        "start_time": "2022-06-01T12:48:56.336Z"
      },
      {
        "duration": 40,
        "start_time": "2022-06-01T12:48:56.348Z"
      },
      {
        "duration": 5,
        "start_time": "2022-06-01T12:48:56.389Z"
      },
      {
        "duration": 11,
        "start_time": "2022-06-01T12:48:56.396Z"
      },
      {
        "duration": 18,
        "start_time": "2022-06-01T12:48:56.409Z"
      },
      {
        "duration": 69,
        "start_time": "2022-06-01T12:48:56.429Z"
      },
      {
        "duration": 6,
        "start_time": "2022-06-01T12:48:56.499Z"
      },
      {
        "duration": 6,
        "start_time": "2022-06-01T12:48:56.506Z"
      },
      {
        "duration": 1132,
        "start_time": "2022-06-01T13:07:42.645Z"
      },
      {
        "duration": 160,
        "start_time": "2022-06-01T13:07:43.779Z"
      },
      {
        "duration": 44,
        "start_time": "2022-06-01T13:07:43.941Z"
      },
      {
        "duration": 12,
        "start_time": "2022-06-01T13:07:43.988Z"
      },
      {
        "duration": 89,
        "start_time": "2022-06-01T13:07:44.002Z"
      },
      {
        "duration": 22,
        "start_time": "2022-06-01T13:07:44.092Z"
      },
      {
        "duration": 19,
        "start_time": "2022-06-01T13:07:44.116Z"
      },
      {
        "duration": 61,
        "start_time": "2022-06-01T13:07:44.137Z"
      },
      {
        "duration": 3,
        "start_time": "2022-06-01T13:07:44.199Z"
      },
      {
        "duration": 34,
        "start_time": "2022-06-01T13:07:44.204Z"
      },
      {
        "duration": 38,
        "start_time": "2022-06-01T13:07:44.240Z"
      },
      {
        "duration": 29,
        "start_time": "2022-06-01T13:07:44.280Z"
      },
      {
        "duration": 4,
        "start_time": "2022-06-01T13:07:44.311Z"
      },
      {
        "duration": 812,
        "start_time": "2022-06-01T13:07:44.317Z"
      },
      {
        "duration": 45,
        "start_time": "2022-06-01T13:07:45.130Z"
      },
      {
        "duration": 20,
        "start_time": "2022-06-01T13:07:45.177Z"
      },
      {
        "duration": 10,
        "start_time": "2022-06-01T13:07:45.198Z"
      },
      {
        "duration": 14,
        "start_time": "2022-06-01T13:07:45.210Z"
      },
      {
        "duration": 15,
        "start_time": "2022-06-01T13:07:45.226Z"
      },
      {
        "duration": 224,
        "start_time": "2022-06-01T13:07:45.243Z"
      },
      {
        "duration": 183,
        "start_time": "2022-06-01T13:07:45.469Z"
      },
      {
        "duration": 224,
        "start_time": "2022-06-01T13:07:45.654Z"
      },
      {
        "duration": 21,
        "start_time": "2022-06-01T13:07:45.880Z"
      },
      {
        "duration": 5,
        "start_time": "2022-06-01T13:07:45.904Z"
      },
      {
        "duration": 33,
        "start_time": "2022-06-01T13:07:45.911Z"
      },
      {
        "duration": 46,
        "start_time": "2022-06-01T13:07:45.946Z"
      },
      {
        "duration": 23,
        "start_time": "2022-06-01T13:07:45.994Z"
      },
      {
        "duration": 19,
        "start_time": "2022-06-01T13:07:46.019Z"
      },
      {
        "duration": 53,
        "start_time": "2022-06-01T13:07:46.039Z"
      },
      {
        "duration": 9,
        "start_time": "2022-06-01T13:07:46.093Z"
      },
      {
        "duration": 8,
        "start_time": "2022-06-01T13:07:46.103Z"
      },
      {
        "duration": 11,
        "start_time": "2022-06-01T13:07:46.113Z"
      },
      {
        "duration": 51,
        "start_time": "2022-06-01T13:07:46.126Z"
      },
      {
        "duration": 5,
        "start_time": "2022-06-01T13:07:46.178Z"
      },
      {
        "duration": 13,
        "start_time": "2022-06-01T13:07:46.184Z"
      },
      {
        "duration": 21,
        "start_time": "2022-06-01T13:07:46.198Z"
      },
      {
        "duration": 64,
        "start_time": "2022-06-01T13:07:46.220Z"
      },
      {
        "duration": 5,
        "start_time": "2022-06-01T13:07:46.286Z"
      },
      {
        "duration": 5,
        "start_time": "2022-06-01T13:07:46.293Z"
      },
      {
        "duration": 1406,
        "start_time": "2022-06-01T17:44:12.049Z"
      },
      {
        "duration": 237,
        "start_time": "2022-06-01T17:44:13.457Z"
      },
      {
        "duration": 43,
        "start_time": "2022-06-01T17:44:16.991Z"
      },
      {
        "duration": 103,
        "start_time": "2022-06-01T19:56:31.319Z"
      },
      {
        "duration": 4,
        "start_time": "2022-06-01T19:56:40.682Z"
      },
      {
        "duration": 163,
        "start_time": "2022-06-01T19:56:40.688Z"
      },
      {
        "duration": 27,
        "start_time": "2022-06-01T19:56:40.852Z"
      },
      {
        "duration": 10,
        "start_time": "2022-06-01T19:56:40.881Z"
      },
      {
        "duration": 88,
        "start_time": "2022-06-01T19:56:40.893Z"
      },
      {
        "duration": 364,
        "start_time": "2022-06-01T19:56:40.982Z"
      },
      {
        "duration": 18,
        "start_time": "2022-06-01T19:56:41.348Z"
      },
      {
        "duration": 34,
        "start_time": "2022-06-01T19:56:41.368Z"
      },
      {
        "duration": 25,
        "start_time": "2022-06-01T19:56:41.403Z"
      },
      {
        "duration": 34,
        "start_time": "2022-06-01T19:56:41.429Z"
      },
      {
        "duration": 26,
        "start_time": "2022-06-01T19:56:41.465Z"
      },
      {
        "duration": 61,
        "start_time": "2022-06-01T19:56:41.493Z"
      },
      {
        "duration": 5,
        "start_time": "2022-06-01T19:56:41.555Z"
      },
      {
        "duration": 871,
        "start_time": "2022-06-01T19:56:41.564Z"
      },
      {
        "duration": 33,
        "start_time": "2022-06-01T19:56:42.436Z"
      },
      {
        "duration": 20,
        "start_time": "2022-06-01T19:56:42.471Z"
      },
      {
        "duration": 38,
        "start_time": "2022-06-01T19:56:42.493Z"
      },
      {
        "duration": 17,
        "start_time": "2022-06-01T19:56:42.533Z"
      },
      {
        "duration": 10,
        "start_time": "2022-06-01T19:56:42.552Z"
      },
      {
        "duration": 217,
        "start_time": "2022-06-01T19:56:42.564Z"
      },
      {
        "duration": 191,
        "start_time": "2022-06-01T19:56:42.783Z"
      },
      {
        "duration": 197,
        "start_time": "2022-06-01T19:56:42.975Z"
      },
      {
        "duration": 16,
        "start_time": "2022-06-01T19:56:43.173Z"
      },
      {
        "duration": 4,
        "start_time": "2022-06-01T19:56:43.190Z"
      },
      {
        "duration": 43,
        "start_time": "2022-06-01T19:56:43.196Z"
      },
      {
        "duration": 21,
        "start_time": "2022-06-01T19:56:43.241Z"
      },
      {
        "duration": 20,
        "start_time": "2022-06-01T19:56:43.264Z"
      },
      {
        "duration": 45,
        "start_time": "2022-06-01T19:56:43.285Z"
      },
      {
        "duration": 17,
        "start_time": "2022-06-01T19:56:43.332Z"
      },
      {
        "duration": 6,
        "start_time": "2022-06-01T19:56:43.351Z"
      },
      {
        "duration": 5,
        "start_time": "2022-06-01T19:56:43.359Z"
      },
      {
        "duration": 15,
        "start_time": "2022-06-01T19:56:43.365Z"
      },
      {
        "duration": 52,
        "start_time": "2022-06-01T19:56:43.381Z"
      },
      {
        "duration": 4,
        "start_time": "2022-06-01T19:56:43.435Z"
      },
      {
        "duration": 11,
        "start_time": "2022-06-01T19:56:43.441Z"
      },
      {
        "duration": 19,
        "start_time": "2022-06-01T19:56:43.453Z"
      },
      {
        "duration": 75,
        "start_time": "2022-06-01T19:56:43.474Z"
      },
      {
        "duration": 16,
        "start_time": "2022-06-01T19:56:43.551Z"
      },
      {
        "duration": 7,
        "start_time": "2022-06-01T19:56:43.568Z"
      },
      {
        "duration": 6,
        "start_time": "2022-06-01T19:56:43.577Z"
      },
      {
        "duration": 10,
        "start_time": "2022-06-01T19:59:30.389Z"
      },
      {
        "duration": 13,
        "start_time": "2022-06-01T20:00:33.155Z"
      },
      {
        "duration": 24,
        "start_time": "2022-06-01T20:02:25.821Z"
      },
      {
        "duration": 20,
        "start_time": "2022-06-01T20:02:33.789Z"
      },
      {
        "duration": 37,
        "start_time": "2022-06-01T20:07:19.786Z"
      },
      {
        "duration": 47,
        "start_time": "2022-06-01T20:07:46.197Z"
      },
      {
        "duration": 54,
        "start_time": "2022-06-01T20:08:01.992Z"
      },
      {
        "duration": 30,
        "start_time": "2022-06-01T20:08:35.435Z"
      },
      {
        "duration": 5,
        "start_time": "2022-06-01T20:08:36.335Z"
      },
      {
        "duration": 5,
        "start_time": "2022-06-01T20:08:36.639Z"
      },
      {
        "duration": 32,
        "start_time": "2022-06-01T20:08:52.974Z"
      },
      {
        "duration": 38,
        "start_time": "2022-06-01T20:09:01.069Z"
      },
      {
        "duration": 37,
        "start_time": "2022-06-01T20:09:09.367Z"
      },
      {
        "duration": 39,
        "start_time": "2022-06-01T20:09:58.987Z"
      },
      {
        "duration": 46,
        "start_time": "2022-06-01T20:10:08.768Z"
      },
      {
        "duration": 21,
        "start_time": "2022-06-01T20:10:19.241Z"
      },
      {
        "duration": 31,
        "start_time": "2022-06-01T20:10:42.311Z"
      },
      {
        "duration": 37,
        "start_time": "2022-06-01T20:11:19.036Z"
      },
      {
        "duration": 34,
        "start_time": "2022-06-01T20:12:20.045Z"
      },
      {
        "duration": 54,
        "start_time": "2022-06-01T20:15:46.975Z"
      },
      {
        "duration": 49,
        "start_time": "2022-06-01T20:15:57.603Z"
      },
      {
        "duration": 41,
        "start_time": "2022-06-01T20:16:06.073Z"
      },
      {
        "duration": 39,
        "start_time": "2022-06-01T20:16:34.882Z"
      },
      {
        "duration": 32,
        "start_time": "2022-06-01T20:18:34.378Z"
      },
      {
        "duration": 37,
        "start_time": "2022-06-01T20:18:39.804Z"
      },
      {
        "duration": 1230,
        "start_time": "2022-06-01T20:19:33.779Z"
      },
      {
        "duration": 161,
        "start_time": "2022-06-01T20:19:35.012Z"
      },
      {
        "duration": 58,
        "start_time": "2022-06-01T20:19:35.175Z"
      },
      {
        "duration": 14,
        "start_time": "2022-06-01T20:19:35.235Z"
      },
      {
        "duration": 100,
        "start_time": "2022-06-01T20:19:35.253Z"
      },
      {
        "duration": 29,
        "start_time": "2022-06-01T20:19:35.357Z"
      },
      {
        "duration": 64,
        "start_time": "2022-06-01T20:19:35.388Z"
      },
      {
        "duration": 59,
        "start_time": "2022-06-01T20:19:35.454Z"
      },
      {
        "duration": 5,
        "start_time": "2022-06-01T20:19:35.528Z"
      },
      {
        "duration": 61,
        "start_time": "2022-06-01T20:19:35.535Z"
      },
      {
        "duration": 52,
        "start_time": "2022-06-01T20:19:35.598Z"
      },
      {
        "duration": 45,
        "start_time": "2022-06-01T20:19:35.652Z"
      },
      {
        "duration": 11,
        "start_time": "2022-06-01T20:19:35.699Z"
      },
      {
        "duration": 1062,
        "start_time": "2022-06-01T20:19:35.712Z"
      },
      {
        "duration": 61,
        "start_time": "2022-06-01T20:19:36.776Z"
      },
      {
        "duration": 28,
        "start_time": "2022-06-01T20:19:36.839Z"
      },
      {
        "duration": 13,
        "start_time": "2022-06-01T20:19:36.869Z"
      },
      {
        "duration": 50,
        "start_time": "2022-06-01T20:19:36.884Z"
      },
      {
        "duration": 19,
        "start_time": "2022-06-01T20:19:36.936Z"
      },
      {
        "duration": 224,
        "start_time": "2022-06-01T20:19:36.957Z"
      },
      {
        "duration": 235,
        "start_time": "2022-06-01T20:19:37.183Z"
      },
      {
        "duration": 275,
        "start_time": "2022-06-01T20:19:37.420Z"
      },
      {
        "duration": 33,
        "start_time": "2022-06-01T20:19:37.698Z"
      },
      {
        "duration": 5,
        "start_time": "2022-06-01T20:19:37.733Z"
      },
      {
        "duration": 44,
        "start_time": "2022-06-01T20:19:37.740Z"
      },
      {
        "duration": 54,
        "start_time": "2022-06-01T20:19:37.786Z"
      },
      {
        "duration": 26,
        "start_time": "2022-06-01T20:19:37.842Z"
      },
      {
        "duration": 24,
        "start_time": "2022-06-01T20:19:37.872Z"
      },
      {
        "duration": 48,
        "start_time": "2022-06-01T20:19:37.929Z"
      },
      {
        "duration": 16,
        "start_time": "2022-06-01T20:19:37.979Z"
      },
      {
        "duration": 6,
        "start_time": "2022-06-01T20:19:38.000Z"
      },
      {
        "duration": 32,
        "start_time": "2022-06-01T20:19:38.008Z"
      },
      {
        "duration": 23,
        "start_time": "2022-06-01T20:19:38.043Z"
      },
      {
        "duration": 4,
        "start_time": "2022-06-01T20:19:38.068Z"
      },
      {
        "duration": 15,
        "start_time": "2022-06-01T20:19:38.074Z"
      },
      {
        "duration": 50,
        "start_time": "2022-06-01T20:19:38.090Z"
      },
      {
        "duration": 43,
        "start_time": "2022-06-01T20:19:38.142Z"
      },
      {
        "duration": 6,
        "start_time": "2022-06-01T20:19:38.188Z"
      },
      {
        "duration": 32,
        "start_time": "2022-06-01T20:19:38.196Z"
      },
      {
        "duration": 47,
        "start_time": "2022-06-01T20:19:38.230Z"
      },
      {
        "duration": 1182,
        "start_time": "2022-06-02T16:21:48.459Z"
      },
      {
        "duration": 233,
        "start_time": "2022-06-02T16:21:49.644Z"
      },
      {
        "duration": 31,
        "start_time": "2022-06-02T16:21:49.878Z"
      },
      {
        "duration": 10,
        "start_time": "2022-06-02T16:21:49.911Z"
      },
      {
        "duration": 78,
        "start_time": "2022-06-02T16:21:49.924Z"
      },
      {
        "duration": 22,
        "start_time": "2022-06-02T16:21:50.003Z"
      },
      {
        "duration": 42,
        "start_time": "2022-06-02T16:21:50.026Z"
      },
      {
        "duration": 40,
        "start_time": "2022-06-02T16:21:50.070Z"
      },
      {
        "duration": 4,
        "start_time": "2022-06-02T16:21:50.112Z"
      },
      {
        "duration": 63,
        "start_time": "2022-06-02T16:21:50.119Z"
      },
      {
        "duration": 22,
        "start_time": "2022-06-02T16:21:50.184Z"
      },
      {
        "duration": 59,
        "start_time": "2022-06-02T16:21:50.208Z"
      },
      {
        "duration": 3,
        "start_time": "2022-06-02T16:21:50.269Z"
      },
      {
        "duration": 806,
        "start_time": "2022-06-02T16:21:50.275Z"
      },
      {
        "duration": 35,
        "start_time": "2022-06-02T16:21:51.082Z"
      },
      {
        "duration": 40,
        "start_time": "2022-06-02T16:21:51.119Z"
      },
      {
        "duration": 11,
        "start_time": "2022-06-02T16:21:51.161Z"
      },
      {
        "duration": 15,
        "start_time": "2022-06-02T16:21:51.174Z"
      },
      {
        "duration": 12,
        "start_time": "2022-06-02T16:21:51.191Z"
      },
      {
        "duration": 227,
        "start_time": "2022-06-02T16:21:51.205Z"
      },
      {
        "duration": 188,
        "start_time": "2022-06-02T16:21:51.433Z"
      },
      {
        "duration": 201,
        "start_time": "2022-06-02T16:21:51.623Z"
      },
      {
        "duration": 30,
        "start_time": "2022-06-02T16:21:51.825Z"
      },
      {
        "duration": 5,
        "start_time": "2022-06-02T16:21:51.857Z"
      },
      {
        "duration": 28,
        "start_time": "2022-06-02T16:21:51.864Z"
      },
      {
        "duration": 25,
        "start_time": "2022-06-02T16:21:51.893Z"
      },
      {
        "duration": 51,
        "start_time": "2022-06-02T16:21:51.919Z"
      },
      {
        "duration": 20,
        "start_time": "2022-06-02T16:21:51.971Z"
      },
      {
        "duration": 21,
        "start_time": "2022-06-02T16:21:51.993Z"
      },
      {
        "duration": 42,
        "start_time": "2022-06-02T16:21:52.015Z"
      },
      {
        "duration": 18,
        "start_time": "2022-06-02T16:21:52.058Z"
      },
      {
        "duration": 17,
        "start_time": "2022-06-02T16:21:52.077Z"
      },
      {
        "duration": 26,
        "start_time": "2022-06-02T16:21:52.096Z"
      },
      {
        "duration": 5,
        "start_time": "2022-06-02T16:21:52.123Z"
      },
      {
        "duration": 26,
        "start_time": "2022-06-02T16:21:52.129Z"
      },
      {
        "duration": 19,
        "start_time": "2022-06-02T16:21:52.157Z"
      },
      {
        "duration": 36,
        "start_time": "2022-06-02T16:21:52.178Z"
      },
      {
        "duration": 5,
        "start_time": "2022-06-02T16:21:52.215Z"
      },
      {
        "duration": 33,
        "start_time": "2022-06-02T16:21:52.222Z"
      },
      {
        "duration": 40,
        "start_time": "2022-06-02T16:21:52.257Z"
      },
      {
        "duration": 10,
        "start_time": "2022-06-02T17:30:44.308Z"
      },
      {
        "duration": 1221,
        "start_time": "2022-06-04T07:59:31.945Z"
      },
      {
        "duration": 271,
        "start_time": "2022-06-04T07:59:33.168Z"
      },
      {
        "duration": 38,
        "start_time": "2022-06-04T07:59:33.441Z"
      },
      {
        "duration": 14,
        "start_time": "2022-06-04T07:59:33.481Z"
      },
      {
        "duration": 103,
        "start_time": "2022-06-04T07:59:33.498Z"
      },
      {
        "duration": 26,
        "start_time": "2022-06-04T07:59:33.605Z"
      },
      {
        "duration": 45,
        "start_time": "2022-06-04T07:59:33.633Z"
      },
      {
        "duration": 48,
        "start_time": "2022-06-04T07:59:33.680Z"
      },
      {
        "duration": 4,
        "start_time": "2022-06-04T07:59:33.730Z"
      },
      {
        "duration": 78,
        "start_time": "2022-06-04T07:59:33.735Z"
      },
      {
        "duration": 133,
        "start_time": "2022-06-04T07:59:36.919Z"
      },
      {
        "duration": 24,
        "start_time": "2022-06-04T07:59:52.049Z"
      },
      {
        "duration": 2,
        "start_time": "2022-06-04T08:02:09.515Z"
      },
      {
        "duration": 136,
        "start_time": "2022-06-04T08:02:09.519Z"
      },
      {
        "duration": 30,
        "start_time": "2022-06-04T08:02:09.656Z"
      },
      {
        "duration": 10,
        "start_time": "2022-06-04T08:02:09.688Z"
      },
      {
        "duration": 79,
        "start_time": "2022-06-04T08:02:09.700Z"
      },
      {
        "duration": 19,
        "start_time": "2022-06-04T08:02:09.780Z"
      },
      {
        "duration": 18,
        "start_time": "2022-06-04T08:02:09.800Z"
      },
      {
        "duration": 61,
        "start_time": "2022-06-04T08:02:09.820Z"
      },
      {
        "duration": 3,
        "start_time": "2022-06-04T08:02:09.883Z"
      },
      {
        "duration": 48,
        "start_time": "2022-06-04T08:02:09.888Z"
      },
      {
        "duration": 33,
        "start_time": "2022-06-04T08:02:09.938Z"
      },
      {
        "duration": 34,
        "start_time": "2022-06-04T08:02:13.362Z"
      },
      {
        "duration": 31,
        "start_time": "2022-06-04T08:02:19.146Z"
      },
      {
        "duration": 3,
        "start_time": "2022-06-04T08:12:28.040Z"
      },
      {
        "duration": 135,
        "start_time": "2022-06-04T08:12:28.050Z"
      },
      {
        "duration": 30,
        "start_time": "2022-06-04T08:12:28.186Z"
      },
      {
        "duration": 11,
        "start_time": "2022-06-04T08:12:28.217Z"
      },
      {
        "duration": 87,
        "start_time": "2022-06-04T08:12:28.229Z"
      },
      {
        "duration": 20,
        "start_time": "2022-06-04T08:12:28.318Z"
      },
      {
        "duration": 44,
        "start_time": "2022-06-04T08:12:28.339Z"
      },
      {
        "duration": 41,
        "start_time": "2022-06-04T08:12:28.385Z"
      },
      {
        "duration": 3,
        "start_time": "2022-06-04T08:12:28.428Z"
      },
      {
        "duration": 64,
        "start_time": "2022-06-04T08:12:28.432Z"
      },
      {
        "duration": 21,
        "start_time": "2022-06-04T08:12:28.498Z"
      },
      {
        "duration": 54,
        "start_time": "2022-06-04T08:12:28.521Z"
      },
      {
        "duration": 3,
        "start_time": "2022-06-04T08:12:28.577Z"
      },
      {
        "duration": 4,
        "start_time": "2022-06-04T08:12:30.118Z"
      },
      {
        "duration": 985,
        "start_time": "2022-06-04T08:12:30.770Z"
      },
      {
        "duration": 3,
        "start_time": "2022-06-04T08:13:42.946Z"
      },
      {
        "duration": 154,
        "start_time": "2022-06-04T08:13:42.951Z"
      },
      {
        "duration": 31,
        "start_time": "2022-06-04T08:13:43.107Z"
      },
      {
        "duration": 31,
        "start_time": "2022-06-04T08:13:43.140Z"
      },
      {
        "duration": 97,
        "start_time": "2022-06-04T08:13:43.173Z"
      },
      {
        "duration": 20,
        "start_time": "2022-06-04T08:13:43.272Z"
      },
      {
        "duration": 21,
        "start_time": "2022-06-04T08:13:43.294Z"
      },
      {
        "duration": 73,
        "start_time": "2022-06-04T08:13:43.317Z"
      },
      {
        "duration": 4,
        "start_time": "2022-06-04T08:13:43.391Z"
      },
      {
        "duration": 40,
        "start_time": "2022-06-04T08:13:43.397Z"
      },
      {
        "duration": 35,
        "start_time": "2022-06-04T08:13:43.466Z"
      },
      {
        "duration": 29,
        "start_time": "2022-06-04T08:13:43.503Z"
      },
      {
        "duration": 3,
        "start_time": "2022-06-04T08:13:43.533Z"
      },
      {
        "duration": 4,
        "start_time": "2022-06-04T08:13:46.406Z"
      },
      {
        "duration": 797,
        "start_time": "2022-06-04T08:13:50.733Z"
      },
      {
        "duration": 23,
        "start_time": "2022-06-04T08:14:57.110Z"
      },
      {
        "duration": 4,
        "start_time": "2022-06-04T08:18:40.012Z"
      },
      {
        "duration": 142,
        "start_time": "2022-06-04T08:18:40.018Z"
      },
      {
        "duration": 31,
        "start_time": "2022-06-04T08:18:40.163Z"
      },
      {
        "duration": 13,
        "start_time": "2022-06-04T08:18:40.197Z"
      },
      {
        "duration": 190,
        "start_time": "2022-06-04T08:18:40.212Z"
      },
      {
        "duration": 26,
        "start_time": "2022-06-04T08:18:40.404Z"
      },
      {
        "duration": 56,
        "start_time": "2022-06-04T08:18:40.432Z"
      },
      {
        "duration": 38,
        "start_time": "2022-06-04T08:18:40.489Z"
      },
      {
        "duration": 4,
        "start_time": "2022-06-04T08:18:40.528Z"
      },
      {
        "duration": 66,
        "start_time": "2022-06-04T08:18:40.534Z"
      },
      {
        "duration": 64,
        "start_time": "2022-06-04T08:18:40.602Z"
      },
      {
        "duration": 33,
        "start_time": "2022-06-04T08:18:40.668Z"
      },
      {
        "duration": 5,
        "start_time": "2022-06-04T08:18:40.703Z"
      },
      {
        "duration": 834,
        "start_time": "2022-06-04T08:18:40.709Z"
      },
      {
        "duration": 36,
        "start_time": "2022-06-04T08:18:45.553Z"
      },
      {
        "duration": 4,
        "start_time": "2022-06-04T08:19:25.930Z"
      },
      {
        "duration": 155,
        "start_time": "2022-06-04T08:19:25.936Z"
      },
      {
        "duration": 30,
        "start_time": "2022-06-04T08:19:26.093Z"
      },
      {
        "duration": 13,
        "start_time": "2022-06-04T08:19:26.125Z"
      },
      {
        "duration": 133,
        "start_time": "2022-06-04T08:19:26.140Z"
      },
      {
        "duration": 21,
        "start_time": "2022-06-04T08:19:26.275Z"
      },
      {
        "duration": 26,
        "start_time": "2022-06-04T08:19:26.298Z"
      },
      {
        "duration": 60,
        "start_time": "2022-06-04T08:19:26.325Z"
      },
      {
        "duration": 3,
        "start_time": "2022-06-04T08:19:26.388Z"
      },
      {
        "duration": 59,
        "start_time": "2022-06-04T08:19:26.393Z"
      },
      {
        "duration": 54,
        "start_time": "2022-06-04T08:19:26.454Z"
      },
      {
        "duration": 29,
        "start_time": "2022-06-04T08:19:26.510Z"
      },
      {
        "duration": 27,
        "start_time": "2022-06-04T08:19:26.541Z"
      },
      {
        "duration": 909,
        "start_time": "2022-06-04T08:19:26.571Z"
      },
      {
        "duration": 40,
        "start_time": "2022-06-04T08:19:27.482Z"
      },
      {
        "duration": 52,
        "start_time": "2022-06-04T08:19:27.524Z"
      },
      {
        "duration": 10,
        "start_time": "2022-06-04T08:19:27.578Z"
      },
      {
        "duration": 33,
        "start_time": "2022-06-04T08:19:27.590Z"
      },
      {
        "duration": 58,
        "start_time": "2022-06-04T08:19:27.625Z"
      },
      {
        "duration": 212,
        "start_time": "2022-06-04T08:19:27.686Z"
      },
      {
        "duration": 191,
        "start_time": "2022-06-04T08:19:27.900Z"
      },
      {
        "duration": 201,
        "start_time": "2022-06-04T08:19:28.093Z"
      },
      {
        "duration": 16,
        "start_time": "2022-06-04T08:19:28.296Z"
      },
      {
        "duration": 5,
        "start_time": "2022-06-04T08:19:28.315Z"
      },
      {
        "duration": 50,
        "start_time": "2022-06-04T08:19:28.321Z"
      },
      {
        "duration": 30,
        "start_time": "2022-06-04T08:19:28.373Z"
      },
      {
        "duration": 43,
        "start_time": "2022-06-04T08:19:28.405Z"
      },
      {
        "duration": 28,
        "start_time": "2022-06-04T08:19:28.450Z"
      },
      {
        "duration": 20,
        "start_time": "2022-06-04T08:19:28.479Z"
      },
      {
        "duration": 34,
        "start_time": "2022-06-04T08:19:28.500Z"
      },
      {
        "duration": 16,
        "start_time": "2022-06-04T08:19:28.535Z"
      },
      {
        "duration": 39,
        "start_time": "2022-06-04T08:19:28.552Z"
      },
      {
        "duration": 35,
        "start_time": "2022-06-04T08:19:28.593Z"
      },
      {
        "duration": 23,
        "start_time": "2022-06-04T08:19:28.630Z"
      },
      {
        "duration": 39,
        "start_time": "2022-06-04T08:19:28.655Z"
      },
      {
        "duration": 42,
        "start_time": "2022-06-04T08:19:28.696Z"
      },
      {
        "duration": 60,
        "start_time": "2022-06-04T08:19:28.740Z"
      },
      {
        "duration": 6,
        "start_time": "2022-06-04T08:19:28.802Z"
      },
      {
        "duration": 15,
        "start_time": "2022-06-04T08:19:28.810Z"
      },
      {
        "duration": 60,
        "start_time": "2022-06-04T08:19:28.827Z"
      },
      {
        "duration": 4,
        "start_time": "2022-06-04T08:23:58.558Z"
      },
      {
        "duration": 153,
        "start_time": "2022-06-04T08:23:58.564Z"
      },
      {
        "duration": 61,
        "start_time": "2022-06-04T08:23:58.719Z"
      },
      {
        "duration": 18,
        "start_time": "2022-06-04T08:23:58.784Z"
      },
      {
        "duration": 119,
        "start_time": "2022-06-04T08:23:58.803Z"
      },
      {
        "duration": 46,
        "start_time": "2022-06-04T08:23:58.924Z"
      },
      {
        "duration": 25,
        "start_time": "2022-06-04T08:23:58.973Z"
      },
      {
        "duration": 81,
        "start_time": "2022-06-04T08:23:59.001Z"
      },
      {
        "duration": 4,
        "start_time": "2022-06-04T08:23:59.085Z"
      },
      {
        "duration": 74,
        "start_time": "2022-06-04T08:23:59.091Z"
      },
      {
        "duration": 37,
        "start_time": "2022-06-04T08:23:59.167Z"
      },
      {
        "duration": 32,
        "start_time": "2022-06-04T08:23:59.206Z"
      },
      {
        "duration": 27,
        "start_time": "2022-06-04T08:23:59.240Z"
      },
      {
        "duration": 809,
        "start_time": "2022-06-04T08:23:59.269Z"
      },
      {
        "duration": 40,
        "start_time": "2022-06-04T08:24:00.079Z"
      },
      {
        "duration": 49,
        "start_time": "2022-06-04T08:24:00.121Z"
      },
      {
        "duration": 14,
        "start_time": "2022-06-04T08:24:00.172Z"
      },
      {
        "duration": 16,
        "start_time": "2022-06-04T08:24:00.188Z"
      },
      {
        "duration": 20,
        "start_time": "2022-06-04T08:24:00.206Z"
      },
      {
        "duration": 248,
        "start_time": "2022-06-04T08:24:00.228Z"
      },
      {
        "duration": 330,
        "start_time": "2022-06-04T08:24:00.478Z"
      },
      {
        "duration": 228,
        "start_time": "2022-06-04T08:24:00.810Z"
      },
      {
        "duration": 36,
        "start_time": "2022-06-04T08:24:01.040Z"
      },
      {
        "duration": 6,
        "start_time": "2022-06-04T08:24:01.080Z"
      },
      {
        "duration": 66,
        "start_time": "2022-06-04T08:24:01.088Z"
      },
      {
        "duration": 27,
        "start_time": "2022-06-04T08:24:01.156Z"
      },
      {
        "duration": 30,
        "start_time": "2022-06-04T08:24:01.185Z"
      },
      {
        "duration": 52,
        "start_time": "2022-06-04T08:24:01.217Z"
      },
      {
        "duration": 26,
        "start_time": "2022-06-04T08:24:01.271Z"
      },
      {
        "duration": 32,
        "start_time": "2022-06-04T08:24:01.299Z"
      },
      {
        "duration": 11,
        "start_time": "2022-06-04T08:24:01.332Z"
      },
      {
        "duration": 22,
        "start_time": "2022-06-04T08:24:01.345Z"
      },
      {
        "duration": 30,
        "start_time": "2022-06-04T08:24:01.369Z"
      },
      {
        "duration": 6,
        "start_time": "2022-06-04T08:24:01.401Z"
      },
      {
        "duration": 25,
        "start_time": "2022-06-04T08:24:01.409Z"
      },
      {
        "duration": 49,
        "start_time": "2022-06-04T08:24:01.436Z"
      },
      {
        "duration": 37,
        "start_time": "2022-06-04T08:24:01.487Z"
      },
      {
        "duration": 5,
        "start_time": "2022-06-04T08:24:01.526Z"
      },
      {
        "duration": 34,
        "start_time": "2022-06-04T08:24:01.534Z"
      },
      {
        "duration": 44,
        "start_time": "2022-06-04T08:24:01.571Z"
      },
      {
        "duration": 27,
        "start_time": "2022-06-04T08:35:07.301Z"
      },
      {
        "duration": 11,
        "start_time": "2022-06-04T08:38:30.845Z"
      },
      {
        "duration": 27,
        "start_time": "2022-06-04T08:38:38.709Z"
      },
      {
        "duration": 10,
        "start_time": "2022-06-04T08:38:39.437Z"
      },
      {
        "duration": 8,
        "start_time": "2022-06-04T08:38:57.548Z"
      },
      {
        "duration": 4,
        "start_time": "2022-06-04T08:39:03.901Z"
      },
      {
        "duration": 5,
        "start_time": "2022-06-04T08:39:56.389Z"
      },
      {
        "duration": 4,
        "start_time": "2022-06-04T08:40:05.140Z"
      },
      {
        "duration": 3,
        "start_time": "2022-06-04T08:40:32.914Z"
      },
      {
        "duration": 134,
        "start_time": "2022-06-04T08:40:32.919Z"
      },
      {
        "duration": 36,
        "start_time": "2022-06-04T08:40:33.055Z"
      },
      {
        "duration": 12,
        "start_time": "2022-06-04T08:40:33.092Z"
      },
      {
        "duration": 96,
        "start_time": "2022-06-04T08:40:33.107Z"
      },
      {
        "duration": 20,
        "start_time": "2022-06-04T08:40:33.204Z"
      },
      {
        "duration": 44,
        "start_time": "2022-06-04T08:40:33.226Z"
      },
      {
        "duration": 49,
        "start_time": "2022-06-04T08:40:33.271Z"
      },
      {
        "duration": 3,
        "start_time": "2022-06-04T08:40:33.322Z"
      },
      {
        "duration": 68,
        "start_time": "2022-06-04T08:40:33.327Z"
      },
      {
        "duration": 37,
        "start_time": "2022-06-04T08:40:33.397Z"
      },
      {
        "duration": 58,
        "start_time": "2022-06-04T08:40:33.436Z"
      },
      {
        "duration": 4,
        "start_time": "2022-06-04T08:40:33.496Z"
      },
      {
        "duration": 863,
        "start_time": "2022-06-04T08:40:33.504Z"
      },
      {
        "duration": 40,
        "start_time": "2022-06-04T08:40:34.370Z"
      },
      {
        "duration": 26,
        "start_time": "2022-06-04T08:40:34.411Z"
      },
      {
        "duration": 11,
        "start_time": "2022-06-04T08:40:34.464Z"
      },
      {
        "duration": 14,
        "start_time": "2022-06-04T08:40:34.477Z"
      },
      {
        "duration": 15,
        "start_time": "2022-06-04T08:40:34.493Z"
      },
      {
        "duration": 237,
        "start_time": "2022-06-04T08:40:34.510Z"
      },
      {
        "duration": 213,
        "start_time": "2022-06-04T08:40:34.748Z"
      },
      {
        "duration": 238,
        "start_time": "2022-06-04T08:40:34.965Z"
      },
      {
        "duration": 17,
        "start_time": "2022-06-04T08:40:35.204Z"
      },
      {
        "duration": 5,
        "start_time": "2022-06-04T08:40:35.222Z"
      },
      {
        "duration": 54,
        "start_time": "2022-06-04T08:40:35.228Z"
      },
      {
        "duration": 4,
        "start_time": "2022-06-04T08:40:35.284Z"
      },
      {
        "duration": 25,
        "start_time": "2022-06-04T08:40:35.289Z"
      },
      {
        "duration": 4,
        "start_time": "2022-06-04T08:40:35.316Z"
      },
      {
        "duration": 171,
        "start_time": "2022-06-04T08:40:35.322Z"
      },
      {
        "duration": 5,
        "start_time": "2022-06-04T08:40:35.495Z"
      },
      {
        "duration": 28,
        "start_time": "2022-06-04T08:40:35.502Z"
      },
      {
        "duration": 45,
        "start_time": "2022-06-04T08:40:35.534Z"
      },
      {
        "duration": 7,
        "start_time": "2022-06-04T08:40:35.581Z"
      },
      {
        "duration": 7,
        "start_time": "2022-06-04T08:40:35.590Z"
      },
      {
        "duration": 12,
        "start_time": "2022-06-04T08:40:35.598Z"
      },
      {
        "duration": 53,
        "start_time": "2022-06-04T08:40:35.613Z"
      },
      {
        "duration": 5,
        "start_time": "2022-06-04T08:40:35.668Z"
      },
      {
        "duration": 19,
        "start_time": "2022-06-04T08:40:35.675Z"
      },
      {
        "duration": 30,
        "start_time": "2022-06-04T08:40:35.695Z"
      },
      {
        "duration": 47,
        "start_time": "2022-06-04T08:40:35.727Z"
      },
      {
        "duration": 21,
        "start_time": "2022-06-04T08:40:35.778Z"
      },
      {
        "duration": 14,
        "start_time": "2022-06-04T08:40:35.801Z"
      },
      {
        "duration": 38,
        "start_time": "2022-06-04T08:40:35.817Z"
      },
      {
        "duration": 4,
        "start_time": "2022-06-04T08:47:36.641Z"
      },
      {
        "duration": 4,
        "start_time": "2022-06-04T08:48:56.408Z"
      },
      {
        "duration": 5,
        "start_time": "2022-06-04T08:49:18.138Z"
      },
      {
        "duration": 7,
        "start_time": "2022-06-04T08:50:01.690Z"
      },
      {
        "duration": 14,
        "start_time": "2022-06-04T08:53:56.665Z"
      },
      {
        "duration": 8,
        "start_time": "2022-06-04T08:54:15.415Z"
      },
      {
        "duration": 15,
        "start_time": "2022-06-04T08:54:59.011Z"
      },
      {
        "duration": 31,
        "start_time": "2022-06-04T08:55:14.487Z"
      },
      {
        "duration": 13,
        "start_time": "2022-06-04T08:55:22.410Z"
      },
      {
        "duration": 9,
        "start_time": "2022-06-04T08:55:32.524Z"
      },
      {
        "duration": 2,
        "start_time": "2022-06-04T08:57:27.000Z"
      },
      {
        "duration": 137,
        "start_time": "2022-06-04T08:57:27.004Z"
      },
      {
        "duration": 37,
        "start_time": "2022-06-04T08:57:27.143Z"
      },
      {
        "duration": 13,
        "start_time": "2022-06-04T08:57:27.182Z"
      },
      {
        "duration": 98,
        "start_time": "2022-06-04T08:57:27.197Z"
      },
      {
        "duration": 20,
        "start_time": "2022-06-04T08:57:27.296Z"
      },
      {
        "duration": 19,
        "start_time": "2022-06-04T08:57:27.318Z"
      },
      {
        "duration": 76,
        "start_time": "2022-06-04T08:57:27.338Z"
      },
      {
        "duration": 4,
        "start_time": "2022-06-04T08:57:27.416Z"
      },
      {
        "duration": 72,
        "start_time": "2022-06-04T08:57:27.422Z"
      },
      {
        "duration": 39,
        "start_time": "2022-06-04T08:57:27.496Z"
      },
      {
        "duration": 61,
        "start_time": "2022-06-04T08:57:27.536Z"
      },
      {
        "duration": 4,
        "start_time": "2022-06-04T08:57:27.598Z"
      },
      {
        "duration": 810,
        "start_time": "2022-06-04T08:57:27.605Z"
      },
      {
        "duration": 38,
        "start_time": "2022-06-04T08:57:28.416Z"
      },
      {
        "duration": 26,
        "start_time": "2022-06-04T08:57:28.465Z"
      },
      {
        "duration": 13,
        "start_time": "2022-06-04T08:57:28.493Z"
      },
      {
        "duration": 19,
        "start_time": "2022-06-04T08:57:28.508Z"
      },
      {
        "duration": 45,
        "start_time": "2022-06-04T08:57:28.528Z"
      },
      {
        "duration": 209,
        "start_time": "2022-06-04T08:57:28.575Z"
      },
      {
        "duration": 251,
        "start_time": "2022-06-04T08:57:28.786Z"
      },
      {
        "duration": 306,
        "start_time": "2022-06-04T08:57:29.039Z"
      },
      {
        "duration": 25,
        "start_time": "2022-06-04T08:57:29.347Z"
      },
      {
        "duration": 5,
        "start_time": "2022-06-04T08:57:29.373Z"
      },
      {
        "duration": 30,
        "start_time": "2022-06-04T08:57:29.380Z"
      },
      {
        "duration": 5,
        "start_time": "2022-06-04T08:57:29.411Z"
      },
      {
        "duration": 50,
        "start_time": "2022-06-04T08:57:29.418Z"
      },
      {
        "duration": 5,
        "start_time": "2022-06-04T08:57:29.469Z"
      },
      {
        "duration": 23,
        "start_time": "2022-06-04T08:57:29.476Z"
      },
      {
        "duration": 4,
        "start_time": "2022-06-04T08:57:29.501Z"
      },
      {
        "duration": 30,
        "start_time": "2022-06-04T08:57:29.507Z"
      },
      {
        "duration": 28,
        "start_time": "2022-06-04T08:57:29.564Z"
      },
      {
        "duration": 9,
        "start_time": "2022-06-04T08:57:29.594Z"
      },
      {
        "duration": 17,
        "start_time": "2022-06-04T08:57:29.605Z"
      },
      {
        "duration": 6,
        "start_time": "2022-06-04T08:57:29.624Z"
      },
      {
        "duration": 41,
        "start_time": "2022-06-04T08:57:29.632Z"
      },
      {
        "duration": 27,
        "start_time": "2022-06-04T08:57:29.676Z"
      },
      {
        "duration": 4,
        "start_time": "2022-06-04T08:57:29.704Z"
      },
      {
        "duration": 5,
        "start_time": "2022-06-04T08:57:29.710Z"
      },
      {
        "duration": 12,
        "start_time": "2022-06-04T08:57:29.717Z"
      },
      {
        "duration": 19,
        "start_time": "2022-06-04T08:57:29.764Z"
      },
      {
        "duration": 6,
        "start_time": "2022-06-04T08:57:29.785Z"
      },
      {
        "duration": 6,
        "start_time": "2022-06-04T08:57:29.793Z"
      },
      {
        "duration": 35,
        "start_time": "2022-06-04T08:57:29.801Z"
      },
      {
        "duration": 6,
        "start_time": "2022-06-04T08:57:29.864Z"
      },
      {
        "duration": 6,
        "start_time": "2022-06-04T08:57:29.873Z"
      },
      {
        "duration": 62,
        "start_time": "2022-06-04T08:57:29.881Z"
      },
      {
        "duration": 40,
        "start_time": "2022-06-04T08:59:31.811Z"
      },
      {
        "duration": 5,
        "start_time": "2022-06-04T08:59:57.247Z"
      },
      {
        "duration": 3,
        "start_time": "2022-06-04T09:00:23.732Z"
      },
      {
        "duration": 135,
        "start_time": "2022-06-04T09:00:23.737Z"
      },
      {
        "duration": 32,
        "start_time": "2022-06-04T09:00:23.874Z"
      },
      {
        "duration": 12,
        "start_time": "2022-06-04T09:00:23.908Z"
      },
      {
        "duration": 101,
        "start_time": "2022-06-04T09:00:23.922Z"
      },
      {
        "duration": 47,
        "start_time": "2022-06-04T09:00:24.025Z"
      },
      {
        "duration": 21,
        "start_time": "2022-06-04T09:00:24.073Z"
      },
      {
        "duration": 40,
        "start_time": "2022-06-04T09:00:24.095Z"
      },
      {
        "duration": 31,
        "start_time": "2022-06-04T09:00:24.136Z"
      },
      {
        "duration": 40,
        "start_time": "2022-06-04T09:00:24.169Z"
      },
      {
        "duration": 83,
        "start_time": "2022-06-04T09:00:24.212Z"
      },
      {
        "duration": 32,
        "start_time": "2022-06-04T09:00:24.297Z"
      },
      {
        "duration": 4,
        "start_time": "2022-06-04T09:00:24.331Z"
      },
      {
        "duration": 978,
        "start_time": "2022-06-04T09:00:24.337Z"
      },
      {
        "duration": 49,
        "start_time": "2022-06-04T09:00:25.317Z"
      },
      {
        "duration": 29,
        "start_time": "2022-06-04T09:00:25.369Z"
      },
      {
        "duration": 15,
        "start_time": "2022-06-04T09:00:25.400Z"
      },
      {
        "duration": 16,
        "start_time": "2022-06-04T09:00:25.417Z"
      },
      {
        "duration": 15,
        "start_time": "2022-06-04T09:00:25.465Z"
      },
      {
        "duration": 251,
        "start_time": "2022-06-04T09:00:25.482Z"
      },
      {
        "duration": 278,
        "start_time": "2022-06-04T09:00:25.736Z"
      },
      {
        "duration": 230,
        "start_time": "2022-06-04T09:00:26.017Z"
      },
      {
        "duration": 26,
        "start_time": "2022-06-04T09:00:26.249Z"
      },
      {
        "duration": 5,
        "start_time": "2022-06-04T09:00:26.277Z"
      },
      {
        "duration": 37,
        "start_time": "2022-06-04T09:00:26.284Z"
      },
      {
        "duration": 5,
        "start_time": "2022-06-04T09:00:26.323Z"
      },
      {
        "duration": 48,
        "start_time": "2022-06-04T09:00:26.330Z"
      },
      {
        "duration": 5,
        "start_time": "2022-06-04T09:00:26.380Z"
      },
      {
        "duration": 30,
        "start_time": "2022-06-04T09:00:26.391Z"
      },
      {
        "duration": 8,
        "start_time": "2022-06-04T09:00:26.423Z"
      },
      {
        "duration": 50,
        "start_time": "2022-06-04T09:00:26.433Z"
      },
      {
        "duration": 27,
        "start_time": "2022-06-04T09:00:26.485Z"
      },
      {
        "duration": 10,
        "start_time": "2022-06-04T09:00:26.515Z"
      },
      {
        "duration": 42,
        "start_time": "2022-06-04T09:00:26.528Z"
      },
      {
        "duration": 50,
        "start_time": "2022-06-04T09:00:26.573Z"
      },
      {
        "duration": 13,
        "start_time": "2022-06-04T09:00:26.625Z"
      },
      {
        "duration": 25,
        "start_time": "2022-06-04T09:00:26.640Z"
      },
      {
        "duration": 4,
        "start_time": "2022-06-04T09:00:26.666Z"
      },
      {
        "duration": 10,
        "start_time": "2022-06-04T09:00:26.672Z"
      },
      {
        "duration": 11,
        "start_time": "2022-06-04T09:00:26.683Z"
      },
      {
        "duration": 27,
        "start_time": "2022-06-04T09:00:26.696Z"
      },
      {
        "duration": 40,
        "start_time": "2022-06-04T09:00:26.725Z"
      },
      {
        "duration": 6,
        "start_time": "2022-06-04T09:00:26.767Z"
      },
      {
        "duration": 42,
        "start_time": "2022-06-04T09:00:26.775Z"
      },
      {
        "duration": 6,
        "start_time": "2022-06-04T09:00:26.820Z"
      },
      {
        "duration": 10,
        "start_time": "2022-06-04T09:00:26.828Z"
      },
      {
        "duration": 49,
        "start_time": "2022-06-04T09:00:26.865Z"
      },
      {
        "duration": 5,
        "start_time": "2022-06-04T09:00:26.916Z"
      },
      {
        "duration": 5,
        "start_time": "2022-06-04T09:01:46.919Z"
      },
      {
        "duration": 218,
        "start_time": "2022-06-04T09:08:19.537Z"
      },
      {
        "duration": 288,
        "start_time": "2022-06-04T09:08:26.927Z"
      },
      {
        "duration": 418,
        "start_time": "2022-06-04T09:08:48.871Z"
      },
      {
        "duration": 107,
        "start_time": "2022-06-04T09:15:20.303Z"
      },
      {
        "duration": 9,
        "start_time": "2022-06-04T09:15:49.849Z"
      },
      {
        "duration": 3,
        "start_time": "2022-06-04T09:17:24.857Z"
      },
      {
        "duration": 6,
        "start_time": "2022-06-04T09:17:48.159Z"
      },
      {
        "duration": 17,
        "start_time": "2022-06-04T09:19:15.846Z"
      },
      {
        "duration": 10,
        "start_time": "2022-06-04T09:21:12.864Z"
      },
      {
        "duration": 6,
        "start_time": "2022-06-04T09:21:13.541Z"
      },
      {
        "duration": 24,
        "start_time": "2022-06-04T09:23:09.237Z"
      },
      {
        "duration": 23,
        "start_time": "2022-06-04T09:23:38.230Z"
      },
      {
        "duration": 19,
        "start_time": "2022-06-04T09:24:23.256Z"
      },
      {
        "duration": 20,
        "start_time": "2022-06-04T09:24:40.652Z"
      },
      {
        "duration": 12,
        "start_time": "2022-06-04T09:24:55.355Z"
      },
      {
        "duration": 5,
        "start_time": "2022-06-04T09:25:03.447Z"
      },
      {
        "duration": 150,
        "start_time": "2022-06-04T09:25:03.455Z"
      },
      {
        "duration": 75,
        "start_time": "2022-06-04T09:25:03.608Z"
      },
      {
        "duration": 19,
        "start_time": "2022-06-04T09:25:03.685Z"
      },
      {
        "duration": 114,
        "start_time": "2022-06-04T09:25:03.706Z"
      },
      {
        "duration": 53,
        "start_time": "2022-06-04T09:25:03.822Z"
      },
      {
        "duration": 35,
        "start_time": "2022-06-04T09:25:03.878Z"
      },
      {
        "duration": 89,
        "start_time": "2022-06-04T09:25:03.915Z"
      },
      {
        "duration": 5,
        "start_time": "2022-06-04T09:25:04.007Z"
      },
      {
        "duration": 59,
        "start_time": "2022-06-04T09:25:04.014Z"
      },
      {
        "duration": 40,
        "start_time": "2022-06-04T09:25:04.075Z"
      },
      {
        "duration": 51,
        "start_time": "2022-06-04T09:25:04.117Z"
      },
      {
        "duration": 4,
        "start_time": "2022-06-04T09:25:04.170Z"
      },
      {
        "duration": 822,
        "start_time": "2022-06-04T09:25:04.179Z"
      },
      {
        "duration": 39,
        "start_time": "2022-06-04T09:25:05.004Z"
      },
      {
        "duration": 39,
        "start_time": "2022-06-04T09:25:05.045Z"
      },
      {
        "duration": 11,
        "start_time": "2022-06-04T09:25:05.087Z"
      },
      {
        "duration": 13,
        "start_time": "2022-06-04T09:25:05.100Z"
      },
      {
        "duration": 53,
        "start_time": "2022-06-04T09:25:05.116Z"
      },
      {
        "duration": 249,
        "start_time": "2022-06-04T09:25:05.171Z"
      },
      {
        "duration": 216,
        "start_time": "2022-06-04T09:25:05.422Z"
      },
      {
        "duration": 356,
        "start_time": "2022-06-04T09:25:05.640Z"
      },
      {
        "duration": 22,
        "start_time": "2022-06-04T09:25:05.998Z"
      },
      {
        "duration": 6,
        "start_time": "2022-06-04T09:25:06.022Z"
      },
      {
        "duration": 50,
        "start_time": "2022-06-04T09:25:06.030Z"
      },
      {
        "duration": 6,
        "start_time": "2022-06-04T09:25:06.082Z"
      },
      {
        "duration": 34,
        "start_time": "2022-06-04T09:25:06.089Z"
      },
      {
        "duration": 5,
        "start_time": "2022-06-04T09:25:06.125Z"
      },
      {
        "duration": 53,
        "start_time": "2022-06-04T09:25:06.132Z"
      },
      {
        "duration": 4,
        "start_time": "2022-06-04T09:25:06.187Z"
      },
      {
        "duration": 23,
        "start_time": "2022-06-04T09:25:06.192Z"
      },
      {
        "duration": 49,
        "start_time": "2022-06-04T09:25:06.216Z"
      },
      {
        "duration": 9,
        "start_time": "2022-06-04T09:25:06.266Z"
      },
      {
        "duration": 14,
        "start_time": "2022-06-04T09:25:06.278Z"
      },
      {
        "duration": 6,
        "start_time": "2022-06-04T09:25:06.294Z"
      },
      {
        "duration": 16,
        "start_time": "2022-06-04T09:25:06.302Z"
      },
      {
        "duration": 56,
        "start_time": "2022-06-04T09:25:06.320Z"
      },
      {
        "duration": 4,
        "start_time": "2022-06-04T09:25:06.378Z"
      },
      {
        "duration": 7,
        "start_time": "2022-06-04T09:25:06.384Z"
      },
      {
        "duration": 12,
        "start_time": "2022-06-04T09:25:06.393Z"
      },
      {
        "duration": 58,
        "start_time": "2022-06-04T09:25:06.411Z"
      },
      {
        "duration": 5,
        "start_time": "2022-06-04T09:25:06.471Z"
      },
      {
        "duration": 11,
        "start_time": "2022-06-04T09:25:06.478Z"
      },
      {
        "duration": 46,
        "start_time": "2022-06-04T09:25:06.491Z"
      },
      {
        "duration": 34,
        "start_time": "2022-06-04T09:25:06.539Z"
      },
      {
        "duration": 6,
        "start_time": "2022-06-04T09:25:06.575Z"
      },
      {
        "duration": 13,
        "start_time": "2022-06-04T09:25:06.583Z"
      },
      {
        "duration": 46,
        "start_time": "2022-06-04T09:25:06.599Z"
      },
      {
        "duration": 22,
        "start_time": "2022-06-04T09:25:06.647Z"
      },
      {
        "duration": 34,
        "start_time": "2022-06-04T09:38:17.594Z"
      },
      {
        "duration": 1193,
        "start_time": "2022-06-04T09:39:06.779Z"
      },
      {
        "duration": 146,
        "start_time": "2022-06-04T09:39:07.975Z"
      },
      {
        "duration": 30,
        "start_time": "2022-06-04T09:39:08.123Z"
      },
      {
        "duration": 23,
        "start_time": "2022-06-04T09:39:08.155Z"
      },
      {
        "duration": 98,
        "start_time": "2022-06-04T09:39:08.181Z"
      },
      {
        "duration": 33,
        "start_time": "2022-06-04T09:39:08.282Z"
      },
      {
        "duration": 21,
        "start_time": "2022-06-04T09:39:08.317Z"
      },
      {
        "duration": 75,
        "start_time": "2022-06-04T09:39:08.339Z"
      },
      {
        "duration": 5,
        "start_time": "2022-06-04T09:39:08.416Z"
      },
      {
        "duration": 80,
        "start_time": "2022-06-04T09:39:08.424Z"
      },
      {
        "duration": 33,
        "start_time": "2022-06-04T09:39:08.506Z"
      },
      {
        "duration": 66,
        "start_time": "2022-06-04T09:39:08.541Z"
      },
      {
        "duration": 5,
        "start_time": "2022-06-04T09:39:08.610Z"
      },
      {
        "duration": 1163,
        "start_time": "2022-06-04T09:39:08.618Z"
      },
      {
        "duration": 48,
        "start_time": "2022-06-04T09:39:09.784Z"
      },
      {
        "duration": 48,
        "start_time": "2022-06-04T09:39:09.834Z"
      },
      {
        "duration": 13,
        "start_time": "2022-06-04T09:39:09.884Z"
      },
      {
        "duration": 16,
        "start_time": "2022-06-04T09:39:09.899Z"
      },
      {
        "duration": 25,
        "start_time": "2022-06-04T09:39:09.918Z"
      },
      {
        "duration": 245,
        "start_time": "2022-06-04T09:39:09.964Z"
      },
      {
        "duration": 232,
        "start_time": "2022-06-04T09:39:10.211Z"
      },
      {
        "duration": 263,
        "start_time": "2022-06-04T09:39:10.445Z"
      },
      {
        "duration": 17,
        "start_time": "2022-06-04T09:39:10.710Z"
      },
      {
        "duration": 4,
        "start_time": "2022-06-04T09:39:10.729Z"
      },
      {
        "duration": 47,
        "start_time": "2022-06-04T09:39:10.735Z"
      },
      {
        "duration": 8,
        "start_time": "2022-06-04T09:39:10.784Z"
      },
      {
        "duration": 29,
        "start_time": "2022-06-04T09:39:10.794Z"
      },
      {
        "duration": 4,
        "start_time": "2022-06-04T09:39:10.827Z"
      },
      {
        "duration": 80,
        "start_time": "2022-06-04T09:39:10.833Z"
      },
      {
        "duration": 5,
        "start_time": "2022-06-04T09:39:10.915Z"
      },
      {
        "duration": 22,
        "start_time": "2022-06-04T09:39:10.922Z"
      },
      {
        "duration": 46,
        "start_time": "2022-06-04T09:39:10.946Z"
      },
      {
        "duration": 11,
        "start_time": "2022-06-04T09:39:10.994Z"
      },
      {
        "duration": 13,
        "start_time": "2022-06-04T09:39:11.007Z"
      },
      {
        "duration": 6,
        "start_time": "2022-06-04T09:39:11.022Z"
      },
      {
        "duration": 38,
        "start_time": "2022-06-04T09:39:11.030Z"
      },
      {
        "duration": 36,
        "start_time": "2022-06-04T09:39:11.071Z"
      },
      {
        "duration": 4,
        "start_time": "2022-06-04T09:39:11.108Z"
      },
      {
        "duration": 7,
        "start_time": "2022-06-04T09:39:11.114Z"
      },
      {
        "duration": 12,
        "start_time": "2022-06-04T09:39:11.123Z"
      },
      {
        "duration": 51,
        "start_time": "2022-06-04T09:39:11.137Z"
      },
      {
        "duration": 24,
        "start_time": "2022-06-04T09:39:11.190Z"
      },
      {
        "duration": 14,
        "start_time": "2022-06-04T09:39:11.217Z"
      },
      {
        "duration": 55,
        "start_time": "2022-06-04T09:39:11.235Z"
      },
      {
        "duration": 11,
        "start_time": "2022-06-04T09:39:11.292Z"
      },
      {
        "duration": 13,
        "start_time": "2022-06-04T09:39:11.305Z"
      },
      {
        "duration": 11,
        "start_time": "2022-06-04T09:39:11.320Z"
      },
      {
        "duration": 72,
        "start_time": "2022-06-04T09:39:11.333Z"
      },
      {
        "duration": 8,
        "start_time": "2022-06-04T09:39:11.407Z"
      },
      {
        "duration": 4,
        "start_time": "2022-06-04T09:42:55.821Z"
      },
      {
        "duration": 22,
        "start_time": "2022-06-04T09:42:57.611Z"
      },
      {
        "duration": 5,
        "start_time": "2022-06-04T09:44:15.503Z"
      },
      {
        "duration": 37,
        "start_time": "2022-06-04T09:44:17.323Z"
      },
      {
        "duration": 5,
        "start_time": "2022-06-04T09:46:12.678Z"
      },
      {
        "duration": 49,
        "start_time": "2022-06-04T09:46:14.686Z"
      },
      {
        "duration": 6,
        "start_time": "2022-06-04T09:46:25.113Z"
      },
      {
        "duration": 31,
        "start_time": "2022-06-04T09:46:27.081Z"
      },
      {
        "duration": 8,
        "start_time": "2022-06-04T09:48:43.214Z"
      },
      {
        "duration": 133,
        "start_time": "2022-06-04T09:48:45.029Z"
      },
      {
        "duration": 7,
        "start_time": "2022-06-04T09:48:54.379Z"
      },
      {
        "duration": 41,
        "start_time": "2022-06-04T09:48:56.411Z"
      },
      {
        "duration": 9,
        "start_time": "2022-06-04T09:49:07.478Z"
      },
      {
        "duration": 38,
        "start_time": "2022-06-04T09:49:09.883Z"
      },
      {
        "duration": 7,
        "start_time": "2022-06-04T09:49:18.118Z"
      },
      {
        "duration": 40,
        "start_time": "2022-06-04T09:49:20.050Z"
      },
      {
        "duration": 9,
        "start_time": "2022-06-04T09:49:39.815Z"
      },
      {
        "duration": 20,
        "start_time": "2022-06-04T09:49:42.010Z"
      },
      {
        "duration": 5,
        "start_time": "2022-06-04T09:51:08.620Z"
      },
      {
        "duration": 31,
        "start_time": "2022-06-04T09:51:10.481Z"
      },
      {
        "duration": 5,
        "start_time": "2022-06-04T09:51:54.740Z"
      },
      {
        "duration": 35,
        "start_time": "2022-06-04T09:51:57.317Z"
      },
      {
        "duration": 7,
        "start_time": "2022-06-04T09:53:49.017Z"
      },
      {
        "duration": 110,
        "start_time": "2022-06-04T09:53:51.201Z"
      },
      {
        "duration": 6,
        "start_time": "2022-06-04T09:54:14.525Z"
      },
      {
        "duration": 30,
        "start_time": "2022-06-04T09:54:18.653Z"
      },
      {
        "duration": 6,
        "start_time": "2022-06-04T09:54:29.677Z"
      },
      {
        "duration": 36,
        "start_time": "2022-06-04T09:54:31.917Z"
      },
      {
        "duration": 6,
        "start_time": "2022-06-04T09:54:51.286Z"
      },
      {
        "duration": 31,
        "start_time": "2022-06-04T09:54:53.485Z"
      },
      {
        "duration": 6,
        "start_time": "2022-06-04T09:57:55.708Z"
      },
      {
        "duration": 34,
        "start_time": "2022-06-04T09:57:58.130Z"
      },
      {
        "duration": 8,
        "start_time": "2022-06-04T09:58:09.244Z"
      },
      {
        "duration": 31,
        "start_time": "2022-06-04T09:58:11.562Z"
      },
      {
        "duration": 6,
        "start_time": "2022-06-04T09:58:22.025Z"
      },
      {
        "duration": 32,
        "start_time": "2022-06-04T09:58:23.980Z"
      },
      {
        "duration": 5,
        "start_time": "2022-06-04T09:58:30.318Z"
      },
      {
        "duration": 5,
        "start_time": "2022-06-04T10:01:12.626Z"
      },
      {
        "duration": 28,
        "start_time": "2022-06-04T10:01:15.087Z"
      },
      {
        "duration": 3,
        "start_time": "2022-06-04T10:02:02.462Z"
      },
      {
        "duration": 155,
        "start_time": "2022-06-04T10:02:02.475Z"
      },
      {
        "duration": 28,
        "start_time": "2022-06-04T10:02:02.632Z"
      },
      {
        "duration": 11,
        "start_time": "2022-06-04T10:02:02.662Z"
      },
      {
        "duration": 63,
        "start_time": "2022-06-04T10:02:02.674Z"
      },
      {
        "duration": 28,
        "start_time": "2022-06-04T10:02:02.764Z"
      },
      {
        "duration": 25,
        "start_time": "2022-06-04T10:02:02.795Z"
      },
      {
        "duration": 62,
        "start_time": "2022-06-04T10:02:02.822Z"
      },
      {
        "duration": 5,
        "start_time": "2022-06-04T10:02:02.886Z"
      },
      {
        "duration": 44,
        "start_time": "2022-06-04T10:02:02.893Z"
      },
      {
        "duration": 65,
        "start_time": "2022-06-04T10:02:02.939Z"
      },
      {
        "duration": 60,
        "start_time": "2022-06-04T10:02:03.006Z"
      },
      {
        "duration": 4,
        "start_time": "2022-06-04T10:02:03.068Z"
      },
      {
        "duration": 955,
        "start_time": "2022-06-04T10:02:03.074Z"
      },
      {
        "duration": 49,
        "start_time": "2022-06-04T10:02:04.033Z"
      },
      {
        "duration": 20,
        "start_time": "2022-06-04T10:02:04.084Z"
      },
      {
        "duration": 11,
        "start_time": "2022-06-04T10:02:04.106Z"
      },
      {
        "duration": 16,
        "start_time": "2022-06-04T10:02:04.118Z"
      },
      {
        "duration": 37,
        "start_time": "2022-06-04T10:02:04.136Z"
      },
      {
        "duration": 228,
        "start_time": "2022-06-04T10:02:04.174Z"
      },
      {
        "duration": 207,
        "start_time": "2022-06-04T10:02:04.404Z"
      },
      {
        "duration": 222,
        "start_time": "2022-06-04T10:02:04.613Z"
      },
      {
        "duration": 28,
        "start_time": "2022-06-04T10:02:04.837Z"
      },
      {
        "duration": 5,
        "start_time": "2022-06-04T10:02:04.867Z"
      },
      {
        "duration": 31,
        "start_time": "2022-06-04T10:02:04.874Z"
      },
      {
        "duration": 5,
        "start_time": "2022-06-04T10:02:04.906Z"
      },
      {
        "duration": 58,
        "start_time": "2022-06-04T10:02:04.913Z"
      },
      {
        "duration": 5,
        "start_time": "2022-06-04T10:02:04.973Z"
      },
      {
        "duration": 33,
        "start_time": "2022-06-04T10:02:04.980Z"
      },
      {
        "duration": 5,
        "start_time": "2022-06-04T10:02:05.015Z"
      },
      {
        "duration": 57,
        "start_time": "2022-06-04T10:02:05.022Z"
      },
      {
        "duration": 26,
        "start_time": "2022-06-04T10:02:05.081Z"
      },
      {
        "duration": 10,
        "start_time": "2022-06-04T10:02:05.109Z"
      },
      {
        "duration": 42,
        "start_time": "2022-06-04T10:02:05.122Z"
      },
      {
        "duration": 9,
        "start_time": "2022-06-04T10:02:05.167Z"
      },
      {
        "duration": 16,
        "start_time": "2022-06-04T10:02:05.178Z"
      },
      {
        "duration": 24,
        "start_time": "2022-06-04T10:02:05.197Z"
      },
      {
        "duration": 4,
        "start_time": "2022-06-04T10:02:05.222Z"
      },
      {
        "duration": 10,
        "start_time": "2022-06-04T10:02:05.227Z"
      },
      {
        "duration": 34,
        "start_time": "2022-06-04T10:02:05.239Z"
      },
      {
        "duration": 18,
        "start_time": "2022-06-04T10:02:05.274Z"
      },
      {
        "duration": 4,
        "start_time": "2022-06-04T10:02:05.296Z"
      },
      {
        "duration": 6,
        "start_time": "2022-06-04T10:02:05.302Z"
      },
      {
        "duration": 66,
        "start_time": "2022-06-04T10:02:05.310Z"
      },
      {
        "duration": 10,
        "start_time": "2022-06-04T10:02:05.377Z"
      },
      {
        "duration": 5,
        "start_time": "2022-06-04T10:02:05.388Z"
      },
      {
        "duration": 6,
        "start_time": "2022-06-04T10:02:05.395Z"
      },
      {
        "duration": 63,
        "start_time": "2022-06-04T10:02:05.403Z"
      },
      {
        "duration": 4,
        "start_time": "2022-06-04T10:02:05.468Z"
      },
      {
        "duration": 3,
        "start_time": "2022-06-04T10:02:29.183Z"
      },
      {
        "duration": 132,
        "start_time": "2022-06-04T10:02:29.188Z"
      },
      {
        "duration": 28,
        "start_time": "2022-06-04T10:02:29.322Z"
      },
      {
        "duration": 12,
        "start_time": "2022-06-04T10:02:29.352Z"
      },
      {
        "duration": 62,
        "start_time": "2022-06-04T10:02:29.366Z"
      },
      {
        "duration": 36,
        "start_time": "2022-06-04T10:02:29.429Z"
      },
      {
        "duration": 20,
        "start_time": "2022-06-04T10:02:29.467Z"
      },
      {
        "duration": 36,
        "start_time": "2022-06-04T10:02:29.489Z"
      },
      {
        "duration": 4,
        "start_time": "2022-06-04T10:02:29.527Z"
      },
      {
        "duration": 63,
        "start_time": "2022-06-04T10:02:29.532Z"
      },
      {
        "duration": 30,
        "start_time": "2022-06-04T10:02:29.597Z"
      },
      {
        "duration": 46,
        "start_time": "2022-06-04T10:02:29.629Z"
      },
      {
        "duration": 3,
        "start_time": "2022-06-04T10:02:29.677Z"
      },
      {
        "duration": 906,
        "start_time": "2022-06-04T10:02:29.682Z"
      },
      {
        "duration": 43,
        "start_time": "2022-06-04T10:02:30.590Z"
      },
      {
        "duration": 41,
        "start_time": "2022-06-04T10:02:30.635Z"
      },
      {
        "duration": 11,
        "start_time": "2022-06-04T10:02:30.678Z"
      },
      {
        "duration": 33,
        "start_time": "2022-06-04T10:02:30.691Z"
      },
      {
        "duration": 21,
        "start_time": "2022-06-04T10:02:30.725Z"
      },
      {
        "duration": 219,
        "start_time": "2022-06-04T10:02:30.748Z"
      },
      {
        "duration": 217,
        "start_time": "2022-06-04T10:02:30.969Z"
      },
      {
        "duration": 223,
        "start_time": "2022-06-04T10:02:31.188Z"
      },
      {
        "duration": 17,
        "start_time": "2022-06-04T10:02:31.412Z"
      },
      {
        "duration": 12,
        "start_time": "2022-06-04T10:02:31.431Z"
      },
      {
        "duration": 39,
        "start_time": "2022-06-04T10:02:31.445Z"
      },
      {
        "duration": 3,
        "start_time": "2022-06-04T10:02:31.486Z"
      },
      {
        "duration": 33,
        "start_time": "2022-06-04T10:02:31.491Z"
      },
      {
        "duration": 4,
        "start_time": "2022-06-04T10:02:31.527Z"
      },
      {
        "duration": 41,
        "start_time": "2022-06-04T10:02:31.532Z"
      },
      {
        "duration": 8,
        "start_time": "2022-06-04T10:02:31.575Z"
      },
      {
        "duration": 41,
        "start_time": "2022-06-04T10:02:31.584Z"
      },
      {
        "duration": 29,
        "start_time": "2022-06-04T10:02:31.627Z"
      },
      {
        "duration": 22,
        "start_time": "2022-06-04T10:02:31.657Z"
      },
      {
        "duration": 28,
        "start_time": "2022-06-04T10:02:31.680Z"
      },
      {
        "duration": 23,
        "start_time": "2022-06-04T10:02:31.710Z"
      },
      {
        "duration": 32,
        "start_time": "2022-06-04T10:02:31.735Z"
      },
      {
        "duration": 35,
        "start_time": "2022-06-04T10:02:31.770Z"
      },
      {
        "duration": 4,
        "start_time": "2022-06-04T10:02:31.806Z"
      },
      {
        "duration": 9,
        "start_time": "2022-06-04T10:02:31.811Z"
      },
      {
        "duration": 15,
        "start_time": "2022-06-04T10:02:31.821Z"
      },
      {
        "duration": 32,
        "start_time": "2022-06-04T10:02:31.838Z"
      },
      {
        "duration": 13,
        "start_time": "2022-06-04T10:02:31.872Z"
      },
      {
        "duration": 25,
        "start_time": "2022-06-04T10:02:31.887Z"
      },
      {
        "duration": 40,
        "start_time": "2022-06-04T10:02:31.914Z"
      },
      {
        "duration": 36,
        "start_time": "2022-06-04T10:02:31.956Z"
      },
      {
        "duration": 33,
        "start_time": "2022-06-04T10:02:31.994Z"
      },
      {
        "duration": 15,
        "start_time": "2022-06-04T10:02:32.030Z"
      },
      {
        "duration": 50,
        "start_time": "2022-06-04T10:02:32.047Z"
      },
      {
        "duration": 21,
        "start_time": "2022-06-04T10:02:32.099Z"
      },
      {
        "duration": 5,
        "start_time": "2022-06-04T10:07:41.275Z"
      },
      {
        "duration": 30,
        "start_time": "2022-06-04T10:07:43.178Z"
      },
      {
        "duration": 6,
        "start_time": "2022-06-04T10:09:17.282Z"
      },
      {
        "duration": 32,
        "start_time": "2022-06-04T10:09:19.143Z"
      },
      {
        "duration": 7,
        "start_time": "2022-06-04T10:11:24.849Z"
      },
      {
        "duration": 29,
        "start_time": "2022-06-04T10:11:26.733Z"
      },
      {
        "duration": 39,
        "start_time": "2022-06-04T10:12:34.966Z"
      },
      {
        "duration": 29,
        "start_time": "2022-06-04T10:13:05.795Z"
      },
      {
        "duration": 6,
        "start_time": "2022-06-04T10:13:23.706Z"
      },
      {
        "duration": 3,
        "start_time": "2022-06-04T10:13:26.587Z"
      },
      {
        "duration": 148,
        "start_time": "2022-06-04T10:13:26.592Z"
      },
      {
        "duration": 39,
        "start_time": "2022-06-04T10:13:26.741Z"
      },
      {
        "duration": 12,
        "start_time": "2022-06-04T10:13:26.782Z"
      },
      {
        "duration": 90,
        "start_time": "2022-06-04T10:13:26.797Z"
      },
      {
        "duration": 23,
        "start_time": "2022-06-04T10:13:26.888Z"
      },
      {
        "duration": 19,
        "start_time": "2022-06-04T10:13:26.913Z"
      },
      {
        "duration": 69,
        "start_time": "2022-06-04T10:13:26.934Z"
      },
      {
        "duration": 4,
        "start_time": "2022-06-04T10:13:27.005Z"
      },
      {
        "duration": 59,
        "start_time": "2022-06-04T10:13:27.011Z"
      },
      {
        "duration": 41,
        "start_time": "2022-06-04T10:13:27.071Z"
      },
      {
        "duration": 67,
        "start_time": "2022-06-04T10:13:27.114Z"
      },
      {
        "duration": 6,
        "start_time": "2022-06-04T10:13:27.182Z"
      },
      {
        "duration": 826,
        "start_time": "2022-06-04T10:13:27.192Z"
      },
      {
        "duration": 50,
        "start_time": "2022-06-04T10:13:28.019Z"
      },
      {
        "duration": 25,
        "start_time": "2022-06-04T10:13:28.070Z"
      },
      {
        "duration": 10,
        "start_time": "2022-06-04T10:13:28.097Z"
      },
      {
        "duration": 15,
        "start_time": "2022-06-04T10:13:28.109Z"
      },
      {
        "duration": 10,
        "start_time": "2022-06-04T10:13:28.125Z"
      },
      {
        "duration": 229,
        "start_time": "2022-06-04T10:13:28.166Z"
      },
      {
        "duration": 345,
        "start_time": "2022-06-04T10:13:28.397Z"
      },
      {
        "duration": 261,
        "start_time": "2022-06-04T10:13:28.744Z"
      },
      {
        "duration": 24,
        "start_time": "2022-06-04T10:13:29.010Z"
      },
      {
        "duration": 23,
        "start_time": "2022-06-04T10:13:29.035Z"
      },
      {
        "duration": 67,
        "start_time": "2022-06-04T10:13:29.060Z"
      },
      {
        "duration": 5,
        "start_time": "2022-06-04T10:13:29.129Z"
      },
      {
        "duration": 58,
        "start_time": "2022-06-04T10:13:29.136Z"
      },
      {
        "duration": 14,
        "start_time": "2022-06-04T10:13:29.199Z"
      },
      {
        "duration": 32,
        "start_time": "2022-06-04T10:13:29.215Z"
      },
      {
        "duration": 14,
        "start_time": "2022-06-04T10:13:29.250Z"
      },
      {
        "duration": 447,
        "start_time": "2022-06-04T10:13:29.267Z"
      },
      {
        "duration": 0,
        "start_time": "2022-06-04T10:13:29.717Z"
      },
      {
        "duration": 0,
        "start_time": "2022-06-04T10:13:29.718Z"
      },
      {
        "duration": 0,
        "start_time": "2022-06-04T10:13:29.720Z"
      },
      {
        "duration": 0,
        "start_time": "2022-06-04T10:13:29.721Z"
      },
      {
        "duration": 0,
        "start_time": "2022-06-04T10:13:29.723Z"
      },
      {
        "duration": 0,
        "start_time": "2022-06-04T10:13:29.724Z"
      },
      {
        "duration": 0,
        "start_time": "2022-06-04T10:13:29.725Z"
      },
      {
        "duration": 0,
        "start_time": "2022-06-04T10:13:29.727Z"
      },
      {
        "duration": 0,
        "start_time": "2022-06-04T10:13:29.729Z"
      },
      {
        "duration": 0,
        "start_time": "2022-06-04T10:13:29.730Z"
      },
      {
        "duration": 0,
        "start_time": "2022-06-04T10:13:29.732Z"
      },
      {
        "duration": 0,
        "start_time": "2022-06-04T10:13:29.733Z"
      },
      {
        "duration": 0,
        "start_time": "2022-06-04T10:13:29.735Z"
      },
      {
        "duration": 0,
        "start_time": "2022-06-04T10:13:29.736Z"
      },
      {
        "duration": 0,
        "start_time": "2022-06-04T10:13:29.737Z"
      },
      {
        "duration": 0,
        "start_time": "2022-06-04T10:13:29.739Z"
      },
      {
        "duration": 0,
        "start_time": "2022-06-04T10:13:29.740Z"
      },
      {
        "duration": 0,
        "start_time": "2022-06-04T10:13:29.741Z"
      },
      {
        "duration": 37,
        "start_time": "2022-06-04T10:17:03.295Z"
      },
      {
        "duration": 10,
        "start_time": "2022-06-04T10:18:31.729Z"
      },
      {
        "duration": 7,
        "start_time": "2022-06-04T10:18:39.007Z"
      },
      {
        "duration": 31,
        "start_time": "2022-06-04T10:18:42.488Z"
      },
      {
        "duration": 52,
        "start_time": "2022-06-04T10:19:18.971Z"
      },
      {
        "duration": 35,
        "start_time": "2022-06-04T10:19:32.179Z"
      },
      {
        "duration": 8,
        "start_time": "2022-06-04T10:19:41.443Z"
      },
      {
        "duration": 23,
        "start_time": "2022-06-04T10:21:14.023Z"
      },
      {
        "duration": 28,
        "start_time": "2022-06-04T10:21:40.638Z"
      },
      {
        "duration": 30,
        "start_time": "2022-06-04T10:23:00.631Z"
      },
      {
        "duration": 37,
        "start_time": "2022-06-04T10:23:57.635Z"
      },
      {
        "duration": 50,
        "start_time": "2022-06-04T10:23:59.329Z"
      },
      {
        "duration": 3,
        "start_time": "2022-06-04T10:24:06.983Z"
      },
      {
        "duration": 146,
        "start_time": "2022-06-04T10:24:06.990Z"
      },
      {
        "duration": 32,
        "start_time": "2022-06-04T10:24:07.138Z"
      },
      {
        "duration": 16,
        "start_time": "2022-06-04T10:24:07.172Z"
      },
      {
        "duration": 121,
        "start_time": "2022-06-04T10:24:07.191Z"
      },
      {
        "duration": 27,
        "start_time": "2022-06-04T10:24:07.314Z"
      },
      {
        "duration": 25,
        "start_time": "2022-06-04T10:24:07.366Z"
      },
      {
        "duration": 73,
        "start_time": "2022-06-04T10:24:07.394Z"
      },
      {
        "duration": 6,
        "start_time": "2022-06-04T10:24:07.469Z"
      },
      {
        "duration": 63,
        "start_time": "2022-06-04T10:24:07.476Z"
      },
      {
        "duration": 58,
        "start_time": "2022-06-04T10:24:07.542Z"
      },
      {
        "duration": 33,
        "start_time": "2022-06-04T10:24:07.601Z"
      },
      {
        "duration": 4,
        "start_time": "2022-06-04T10:24:07.635Z"
      },
      {
        "duration": 816,
        "start_time": "2022-06-04T10:24:07.666Z"
      },
      {
        "duration": 43,
        "start_time": "2022-06-04T10:24:08.484Z"
      },
      {
        "duration": 46,
        "start_time": "2022-06-04T10:24:08.529Z"
      },
      {
        "duration": 12,
        "start_time": "2022-06-04T10:24:08.577Z"
      },
      {
        "duration": 28,
        "start_time": "2022-06-04T10:24:08.591Z"
      },
      {
        "duration": 25,
        "start_time": "2022-06-04T10:24:08.621Z"
      },
      {
        "duration": 246,
        "start_time": "2022-06-04T10:24:08.648Z"
      },
      {
        "duration": 280,
        "start_time": "2022-06-04T10:24:08.896Z"
      },
      {
        "duration": 287,
        "start_time": "2022-06-04T10:24:09.178Z"
      },
      {
        "duration": 18,
        "start_time": "2022-06-04T10:24:09.466Z"
      },
      {
        "duration": 142,
        "start_time": "2022-06-04T10:24:09.485Z"
      },
      {
        "duration": 36,
        "start_time": "2022-06-04T10:24:09.629Z"
      },
      {
        "duration": 5,
        "start_time": "2022-06-04T10:24:09.667Z"
      },
      {
        "duration": 39,
        "start_time": "2022-06-04T10:24:09.674Z"
      },
      {
        "duration": 5,
        "start_time": "2022-06-04T10:24:09.715Z"
      },
      {
        "duration": 54,
        "start_time": "2022-06-04T10:24:09.721Z"
      },
      {
        "duration": 5,
        "start_time": "2022-06-04T10:24:09.777Z"
      },
      {
        "duration": 32,
        "start_time": "2022-06-04T10:24:09.784Z"
      },
      {
        "duration": 68,
        "start_time": "2022-06-04T10:24:09.818Z"
      },
      {
        "duration": 8,
        "start_time": "2022-06-04T10:24:09.888Z"
      },
      {
        "duration": 14,
        "start_time": "2022-06-04T10:24:09.897Z"
      },
      {
        "duration": 9,
        "start_time": "2022-06-04T10:24:09.913Z"
      },
      {
        "duration": 54,
        "start_time": "2022-06-04T10:24:09.923Z"
      },
      {
        "duration": 33,
        "start_time": "2022-06-04T10:24:09.979Z"
      },
      {
        "duration": 5,
        "start_time": "2022-06-04T10:24:10.014Z"
      },
      {
        "duration": 10,
        "start_time": "2022-06-04T10:24:10.020Z"
      },
      {
        "duration": 54,
        "start_time": "2022-06-04T10:24:10.031Z"
      },
      {
        "duration": 39,
        "start_time": "2022-06-04T10:24:10.089Z"
      },
      {
        "duration": 5,
        "start_time": "2022-06-04T10:24:10.130Z"
      },
      {
        "duration": 31,
        "start_time": "2022-06-04T10:24:10.137Z"
      },
      {
        "duration": 44,
        "start_time": "2022-06-04T10:24:10.171Z"
      },
      {
        "duration": 11,
        "start_time": "2022-06-04T10:24:10.217Z"
      },
      {
        "duration": 37,
        "start_time": "2022-06-04T10:24:10.230Z"
      },
      {
        "duration": 11,
        "start_time": "2022-06-04T10:24:10.269Z"
      },
      {
        "duration": 41,
        "start_time": "2022-06-04T10:24:10.282Z"
      },
      {
        "duration": 16,
        "start_time": "2022-06-04T10:24:10.325Z"
      },
      {
        "duration": 2,
        "start_time": "2022-06-04T10:26:08.784Z"
      },
      {
        "duration": 155,
        "start_time": "2022-06-04T10:26:08.788Z"
      },
      {
        "duration": 39,
        "start_time": "2022-06-04T10:26:08.945Z"
      },
      {
        "duration": 15,
        "start_time": "2022-06-04T10:26:08.986Z"
      },
      {
        "duration": 114,
        "start_time": "2022-06-04T10:26:09.004Z"
      },
      {
        "duration": 47,
        "start_time": "2022-06-04T10:26:09.119Z"
      },
      {
        "duration": 21,
        "start_time": "2022-06-04T10:26:09.167Z"
      },
      {
        "duration": 37,
        "start_time": "2022-06-04T10:26:09.190Z"
      },
      {
        "duration": 4,
        "start_time": "2022-06-04T10:26:09.229Z"
      },
      {
        "duration": 63,
        "start_time": "2022-06-04T10:26:09.234Z"
      },
      {
        "duration": 33,
        "start_time": "2022-06-04T10:26:09.299Z"
      },
      {
        "duration": 55,
        "start_time": "2022-06-04T10:26:09.334Z"
      },
      {
        "duration": 4,
        "start_time": "2022-06-04T10:26:09.390Z"
      },
      {
        "duration": 796,
        "start_time": "2022-06-04T10:26:09.396Z"
      },
      {
        "duration": 36,
        "start_time": "2022-06-04T10:26:10.193Z"
      },
      {
        "duration": 37,
        "start_time": "2022-06-04T10:26:10.231Z"
      },
      {
        "duration": 11,
        "start_time": "2022-06-04T10:26:10.270Z"
      },
      {
        "duration": 17,
        "start_time": "2022-06-04T10:26:10.282Z"
      },
      {
        "duration": 11,
        "start_time": "2022-06-04T10:26:10.301Z"
      },
      {
        "duration": 246,
        "start_time": "2022-06-04T10:26:10.314Z"
      },
      {
        "duration": 207,
        "start_time": "2022-06-04T10:26:10.564Z"
      },
      {
        "duration": 231,
        "start_time": "2022-06-04T10:26:10.773Z"
      },
      {
        "duration": 19,
        "start_time": "2022-06-04T10:26:11.006Z"
      },
      {
        "duration": 7,
        "start_time": "2022-06-04T10:26:11.026Z"
      },
      {
        "duration": 49,
        "start_time": "2022-06-04T10:26:11.035Z"
      },
      {
        "duration": 4,
        "start_time": "2022-06-04T10:26:11.086Z"
      },
      {
        "duration": 29,
        "start_time": "2022-06-04T10:26:11.091Z"
      },
      {
        "duration": 4,
        "start_time": "2022-06-04T10:26:11.123Z"
      },
      {
        "duration": 49,
        "start_time": "2022-06-04T10:26:11.129Z"
      },
      {
        "duration": 4,
        "start_time": "2022-06-04T10:26:11.179Z"
      },
      {
        "duration": 28,
        "start_time": "2022-06-04T10:26:11.185Z"
      },
      {
        "duration": 56,
        "start_time": "2022-06-04T10:26:11.214Z"
      },
      {
        "duration": 7,
        "start_time": "2022-06-04T10:26:11.271Z"
      },
      {
        "duration": 9,
        "start_time": "2022-06-04T10:26:11.280Z"
      },
      {
        "duration": 10,
        "start_time": "2022-06-04T10:26:11.291Z"
      },
      {
        "duration": 21,
        "start_time": "2022-06-04T10:26:11.303Z"
      },
      {
        "duration": 56,
        "start_time": "2022-06-04T10:26:11.326Z"
      },
      {
        "duration": 3,
        "start_time": "2022-06-04T10:26:11.384Z"
      },
      {
        "duration": 5,
        "start_time": "2022-06-04T10:26:11.389Z"
      },
      {
        "duration": 21,
        "start_time": "2022-06-04T10:26:11.396Z"
      },
      {
        "duration": 54,
        "start_time": "2022-06-04T10:26:11.420Z"
      },
      {
        "duration": 3,
        "start_time": "2022-06-04T10:26:11.476Z"
      },
      {
        "duration": 7,
        "start_time": "2022-06-04T10:26:11.481Z"
      },
      {
        "duration": 40,
        "start_time": "2022-06-04T10:26:11.489Z"
      },
      {
        "duration": 40,
        "start_time": "2022-06-04T10:26:11.531Z"
      },
      {
        "duration": 6,
        "start_time": "2022-06-04T10:26:11.572Z"
      },
      {
        "duration": 11,
        "start_time": "2022-06-04T10:26:11.579Z"
      },
      {
        "duration": 46,
        "start_time": "2022-06-04T10:26:11.592Z"
      },
      {
        "duration": 25,
        "start_time": "2022-06-04T10:26:11.640Z"
      },
      {
        "duration": 4,
        "start_time": "2022-06-04T10:31:00.876Z"
      },
      {
        "duration": 155,
        "start_time": "2022-06-04T10:31:00.882Z"
      },
      {
        "duration": 36,
        "start_time": "2022-06-04T10:31:01.039Z"
      },
      {
        "duration": 14,
        "start_time": "2022-06-04T10:31:01.077Z"
      },
      {
        "duration": 98,
        "start_time": "2022-06-04T10:31:01.093Z"
      },
      {
        "duration": 21,
        "start_time": "2022-06-04T10:31:01.192Z"
      },
      {
        "duration": 26,
        "start_time": "2022-06-04T10:31:01.215Z"
      },
      {
        "duration": 40,
        "start_time": "2022-06-04T10:31:01.265Z"
      },
      {
        "duration": 3,
        "start_time": "2022-06-04T10:31:01.307Z"
      },
      {
        "duration": 73,
        "start_time": "2022-06-04T10:31:01.312Z"
      },
      {
        "duration": 35,
        "start_time": "2022-06-04T10:31:01.387Z"
      },
      {
        "duration": 53,
        "start_time": "2022-06-04T10:31:01.424Z"
      },
      {
        "duration": 4,
        "start_time": "2022-06-04T10:31:01.480Z"
      },
      {
        "duration": 1000,
        "start_time": "2022-06-04T10:31:01.485Z"
      },
      {
        "duration": 36,
        "start_time": "2022-06-04T10:31:02.487Z"
      },
      {
        "duration": 51,
        "start_time": "2022-06-04T10:31:02.525Z"
      },
      {
        "duration": 13,
        "start_time": "2022-06-04T10:31:02.578Z"
      },
      {
        "duration": 25,
        "start_time": "2022-06-04T10:31:02.592Z"
      },
      {
        "duration": 21,
        "start_time": "2022-06-04T10:31:02.618Z"
      },
      {
        "duration": 216,
        "start_time": "2022-06-04T10:31:02.640Z"
      },
      {
        "duration": 217,
        "start_time": "2022-06-04T10:31:02.858Z"
      },
      {
        "duration": 235,
        "start_time": "2022-06-04T10:31:03.077Z"
      },
      {
        "duration": 19,
        "start_time": "2022-06-04T10:31:03.314Z"
      },
      {
        "duration": 8,
        "start_time": "2022-06-04T10:31:03.335Z"
      },
      {
        "duration": 32,
        "start_time": "2022-06-04T10:31:03.365Z"
      },
      {
        "duration": 7,
        "start_time": "2022-06-04T10:31:03.399Z"
      },
      {
        "duration": 33,
        "start_time": "2022-06-04T10:31:03.408Z"
      },
      {
        "duration": 24,
        "start_time": "2022-06-04T10:31:03.443Z"
      },
      {
        "duration": 29,
        "start_time": "2022-06-04T10:31:03.469Z"
      },
      {
        "duration": 4,
        "start_time": "2022-06-04T10:31:03.499Z"
      },
      {
        "duration": 29,
        "start_time": "2022-06-04T10:31:03.505Z"
      },
      {
        "duration": 51,
        "start_time": "2022-06-04T10:31:03.535Z"
      },
      {
        "duration": 7,
        "start_time": "2022-06-04T10:31:03.588Z"
      },
      {
        "duration": 14,
        "start_time": "2022-06-04T10:31:03.596Z"
      },
      {
        "duration": 11,
        "start_time": "2022-06-04T10:31:03.611Z"
      },
      {
        "duration": 56,
        "start_time": "2022-06-04T10:31:03.623Z"
      },
      {
        "duration": 34,
        "start_time": "2022-06-04T10:31:03.684Z"
      },
      {
        "duration": 4,
        "start_time": "2022-06-04T10:31:03.720Z"
      },
      {
        "duration": 7,
        "start_time": "2022-06-04T10:31:03.725Z"
      },
      {
        "duration": 52,
        "start_time": "2022-06-04T10:31:03.734Z"
      },
      {
        "duration": 29,
        "start_time": "2022-06-04T10:31:03.788Z"
      },
      {
        "duration": 4,
        "start_time": "2022-06-04T10:31:03.819Z"
      },
      {
        "duration": 12,
        "start_time": "2022-06-04T10:31:03.825Z"
      },
      {
        "duration": 54,
        "start_time": "2022-06-04T10:31:03.839Z"
      },
      {
        "duration": 10,
        "start_time": "2022-06-04T10:31:03.895Z"
      },
      {
        "duration": 4,
        "start_time": "2022-06-04T10:31:03.907Z"
      },
      {
        "duration": 8,
        "start_time": "2022-06-04T10:31:03.912Z"
      },
      {
        "duration": 60,
        "start_time": "2022-06-04T10:31:03.922Z"
      },
      {
        "duration": 7,
        "start_time": "2022-06-04T10:31:03.983Z"
      },
      {
        "duration": 12,
        "start_time": "2022-06-04T10:34:05.975Z"
      },
      {
        "duration": 466,
        "start_time": "2022-06-04T10:35:03.079Z"
      },
      {
        "duration": 378,
        "start_time": "2022-06-04T10:35:38.235Z"
      },
      {
        "duration": 261,
        "start_time": "2022-06-04T10:36:03.442Z"
      },
      {
        "duration": 237,
        "start_time": "2022-06-04T10:36:41.422Z"
      },
      {
        "duration": 257,
        "start_time": "2022-06-04T10:36:58.646Z"
      },
      {
        "duration": 256,
        "start_time": "2022-06-04T10:38:23.106Z"
      },
      {
        "duration": 413,
        "start_time": "2022-06-04T10:38:47.003Z"
      },
      {
        "duration": 271,
        "start_time": "2022-06-04T10:39:02.483Z"
      },
      {
        "duration": 394,
        "start_time": "2022-06-04T10:40:40.443Z"
      },
      {
        "duration": 234,
        "start_time": "2022-06-04T10:40:53.403Z"
      },
      {
        "duration": 244,
        "start_time": "2022-06-04T10:41:00.379Z"
      },
      {
        "duration": 13,
        "start_time": "2022-06-04T10:41:50.523Z"
      },
      {
        "duration": 274,
        "start_time": "2022-06-04T10:42:34.595Z"
      },
      {
        "duration": 28,
        "start_time": "2022-06-04T10:43:30.508Z"
      },
      {
        "duration": 34,
        "start_time": "2022-06-04T10:44:32.925Z"
      },
      {
        "duration": 36,
        "start_time": "2022-06-04T10:51:23.579Z"
      },
      {
        "duration": 305,
        "start_time": "2022-06-04T10:55:16.111Z"
      },
      {
        "duration": 438,
        "start_time": "2022-06-04T10:55:38.246Z"
      },
      {
        "duration": 291,
        "start_time": "2022-06-04T10:56:30.649Z"
      },
      {
        "duration": 46,
        "start_time": "2022-06-04T10:57:04.510Z"
      },
      {
        "duration": 41,
        "start_time": "2022-06-04T10:58:24.507Z"
      },
      {
        "duration": 1091,
        "start_time": "2022-06-04T11:00:30.287Z"
      },
      {
        "duration": 151,
        "start_time": "2022-06-04T11:00:31.380Z"
      },
      {
        "duration": 29,
        "start_time": "2022-06-04T11:00:31.532Z"
      },
      {
        "duration": 23,
        "start_time": "2022-06-04T11:00:31.562Z"
      },
      {
        "duration": 60,
        "start_time": "2022-06-04T11:00:31.587Z"
      },
      {
        "duration": 37,
        "start_time": "2022-06-04T11:00:31.649Z"
      },
      {
        "duration": 19,
        "start_time": "2022-06-04T11:00:31.688Z"
      },
      {
        "duration": 58,
        "start_time": "2022-06-04T11:00:31.708Z"
      },
      {
        "duration": 6,
        "start_time": "2022-06-04T11:00:31.768Z"
      },
      {
        "duration": 63,
        "start_time": "2022-06-04T11:00:31.778Z"
      },
      {
        "duration": 40,
        "start_time": "2022-06-04T11:00:31.843Z"
      },
      {
        "duration": 36,
        "start_time": "2022-06-04T11:00:31.885Z"
      },
      {
        "duration": 3,
        "start_time": "2022-06-04T11:00:31.923Z"
      },
      {
        "duration": 910,
        "start_time": "2022-06-04T11:00:31.930Z"
      },
      {
        "duration": 289,
        "start_time": "2022-06-04T11:00:32.842Z"
      },
      {
        "duration": 61,
        "start_time": "2022-06-04T11:00:33.133Z"
      },
      {
        "duration": 37,
        "start_time": "2022-06-04T11:00:33.196Z"
      },
      {
        "duration": 38,
        "start_time": "2022-06-04T11:00:33.234Z"
      },
      {
        "duration": 13,
        "start_time": "2022-06-04T11:00:33.274Z"
      },
      {
        "duration": 16,
        "start_time": "2022-06-04T11:00:33.288Z"
      },
      {
        "duration": 11,
        "start_time": "2022-06-04T11:00:33.306Z"
      },
      {
        "duration": 231,
        "start_time": "2022-06-04T11:00:33.319Z"
      },
      {
        "duration": 230,
        "start_time": "2022-06-04T11:00:33.552Z"
      },
      {
        "duration": 223,
        "start_time": "2022-06-04T11:00:33.784Z"
      },
      {
        "duration": 16,
        "start_time": "2022-06-04T11:00:34.009Z"
      },
      {
        "duration": 6,
        "start_time": "2022-06-04T11:00:34.026Z"
      },
      {
        "duration": 51,
        "start_time": "2022-06-04T11:00:34.034Z"
      },
      {
        "duration": 3,
        "start_time": "2022-06-04T11:00:34.087Z"
      },
      {
        "duration": 25,
        "start_time": "2022-06-04T11:00:34.092Z"
      },
      {
        "duration": 4,
        "start_time": "2022-06-04T11:00:34.118Z"
      },
      {
        "duration": 28,
        "start_time": "2022-06-04T11:00:34.123Z"
      },
      {
        "duration": 4,
        "start_time": "2022-06-04T11:00:34.178Z"
      },
      {
        "duration": 39,
        "start_time": "2022-06-04T11:00:34.184Z"
      },
      {
        "duration": 54,
        "start_time": "2022-06-04T11:00:34.224Z"
      },
      {
        "duration": 8,
        "start_time": "2022-06-04T11:00:34.279Z"
      },
      {
        "duration": 17,
        "start_time": "2022-06-04T11:00:34.288Z"
      },
      {
        "duration": 10,
        "start_time": "2022-06-04T11:00:34.307Z"
      },
      {
        "duration": 24,
        "start_time": "2022-06-04T11:00:34.319Z"
      },
      {
        "duration": 54,
        "start_time": "2022-06-04T11:00:34.345Z"
      },
      {
        "duration": 4,
        "start_time": "2022-06-04T11:00:34.401Z"
      },
      {
        "duration": 10,
        "start_time": "2022-06-04T11:00:34.409Z"
      },
      {
        "duration": 26,
        "start_time": "2022-06-04T11:00:34.421Z"
      },
      {
        "duration": 36,
        "start_time": "2022-06-04T11:00:34.466Z"
      },
      {
        "duration": 5,
        "start_time": "2022-06-04T11:00:34.504Z"
      },
      {
        "duration": 7,
        "start_time": "2022-06-04T11:00:34.510Z"
      },
      {
        "duration": 62,
        "start_time": "2022-06-04T11:00:34.519Z"
      },
      {
        "duration": 20,
        "start_time": "2022-06-04T11:00:34.583Z"
      },
      {
        "duration": 5,
        "start_time": "2022-06-04T11:00:34.605Z"
      },
      {
        "duration": 22,
        "start_time": "2022-06-04T11:00:34.612Z"
      },
      {
        "duration": 46,
        "start_time": "2022-06-04T11:00:34.636Z"
      },
      {
        "duration": 6,
        "start_time": "2022-06-04T11:00:34.683Z"
      },
      {
        "duration": 300,
        "start_time": "2022-06-04T11:02:20.783Z"
      },
      {
        "duration": 1241,
        "start_time": "2022-06-04T13:30:50.239Z"
      },
      {
        "duration": 225,
        "start_time": "2022-06-04T13:30:51.482Z"
      },
      {
        "duration": 30,
        "start_time": "2022-06-04T13:30:51.709Z"
      },
      {
        "duration": 26,
        "start_time": "2022-06-04T13:30:51.741Z"
      },
      {
        "duration": 65,
        "start_time": "2022-06-04T13:30:51.769Z"
      },
      {
        "duration": 43,
        "start_time": "2022-06-04T13:30:51.836Z"
      },
      {
        "duration": 19,
        "start_time": "2022-06-04T13:30:51.881Z"
      },
      {
        "duration": 34,
        "start_time": "2022-06-04T13:30:51.901Z"
      },
      {
        "duration": 4,
        "start_time": "2022-06-04T13:30:51.936Z"
      },
      {
        "duration": 38,
        "start_time": "2022-06-04T13:30:51.965Z"
      },
      {
        "duration": 31,
        "start_time": "2022-06-04T13:30:52.005Z"
      },
      {
        "duration": 52,
        "start_time": "2022-06-04T13:30:52.037Z"
      },
      {
        "duration": 3,
        "start_time": "2022-06-04T13:30:52.091Z"
      },
      {
        "duration": 870,
        "start_time": "2022-06-04T13:30:52.095Z"
      },
      {
        "duration": 334,
        "start_time": "2022-06-04T13:30:52.967Z"
      },
      {
        "duration": 43,
        "start_time": "2022-06-04T13:30:53.303Z"
      },
      {
        "duration": 51,
        "start_time": "2022-06-04T13:30:53.348Z"
      },
      {
        "duration": 20,
        "start_time": "2022-06-04T13:30:53.401Z"
      },
      {
        "duration": 10,
        "start_time": "2022-06-04T13:30:53.423Z"
      },
      {
        "duration": 12,
        "start_time": "2022-06-04T13:30:53.465Z"
      },
      {
        "duration": 9,
        "start_time": "2022-06-04T13:30:53.479Z"
      },
      {
        "duration": 232,
        "start_time": "2022-06-04T13:30:53.490Z"
      },
      {
        "duration": 215,
        "start_time": "2022-06-04T13:30:53.724Z"
      },
      {
        "duration": 219,
        "start_time": "2022-06-04T13:30:53.941Z"
      },
      {
        "duration": 16,
        "start_time": "2022-06-04T13:30:54.161Z"
      },
      {
        "duration": 5,
        "start_time": "2022-06-04T13:30:54.179Z"
      },
      {
        "duration": 27,
        "start_time": "2022-06-04T13:30:54.186Z"
      },
      {
        "duration": 3,
        "start_time": "2022-06-04T13:30:54.217Z"
      },
      {
        "duration": 50,
        "start_time": "2022-06-04T13:30:54.222Z"
      },
      {
        "duration": 4,
        "start_time": "2022-06-04T13:30:54.274Z"
      },
      {
        "duration": 25,
        "start_time": "2022-06-04T13:30:54.279Z"
      },
      {
        "duration": 4,
        "start_time": "2022-06-04T13:30:54.306Z"
      },
      {
        "duration": 55,
        "start_time": "2022-06-04T13:30:54.311Z"
      },
      {
        "duration": 28,
        "start_time": "2022-06-04T13:30:54.368Z"
      },
      {
        "duration": 7,
        "start_time": "2022-06-04T13:30:54.398Z"
      },
      {
        "duration": 11,
        "start_time": "2022-06-04T13:30:54.407Z"
      },
      {
        "duration": 8,
        "start_time": "2022-06-04T13:30:54.419Z"
      },
      {
        "duration": 51,
        "start_time": "2022-06-04T13:30:54.429Z"
      },
      {
        "duration": 26,
        "start_time": "2022-06-04T13:30:54.481Z"
      },
      {
        "duration": 4,
        "start_time": "2022-06-04T13:30:54.508Z"
      },
      {
        "duration": 11,
        "start_time": "2022-06-04T13:30:54.513Z"
      },
      {
        "duration": 46,
        "start_time": "2022-06-04T13:30:54.525Z"
      },
      {
        "duration": 32,
        "start_time": "2022-06-04T13:30:54.573Z"
      },
      {
        "duration": 5,
        "start_time": "2022-06-04T13:30:54.606Z"
      },
      {
        "duration": 9,
        "start_time": "2022-06-04T13:30:54.613Z"
      },
      {
        "duration": 57,
        "start_time": "2022-06-04T13:30:54.624Z"
      },
      {
        "duration": 11,
        "start_time": "2022-06-04T13:30:54.683Z"
      },
      {
        "duration": 5,
        "start_time": "2022-06-04T13:30:54.696Z"
      },
      {
        "duration": 6,
        "start_time": "2022-06-04T13:30:54.702Z"
      },
      {
        "duration": 61,
        "start_time": "2022-06-04T13:30:54.710Z"
      },
      {
        "duration": 62,
        "start_time": "2022-06-04T18:46:14.987Z"
      },
      {
        "duration": 1133,
        "start_time": "2022-06-04T18:46:19.144Z"
      },
      {
        "duration": 161,
        "start_time": "2022-06-04T18:46:20.279Z"
      },
      {
        "duration": 30,
        "start_time": "2022-06-04T18:46:20.442Z"
      },
      {
        "duration": 12,
        "start_time": "2022-06-04T18:46:20.475Z"
      },
      {
        "duration": 82,
        "start_time": "2022-06-04T18:46:20.489Z"
      },
      {
        "duration": 31,
        "start_time": "2022-06-04T18:46:20.574Z"
      },
      {
        "duration": 27,
        "start_time": "2022-06-04T18:46:20.607Z"
      },
      {
        "duration": 57,
        "start_time": "2022-06-04T18:46:20.635Z"
      },
      {
        "duration": 3,
        "start_time": "2022-06-04T18:46:20.693Z"
      },
      {
        "duration": 37,
        "start_time": "2022-06-04T18:46:20.699Z"
      },
      {
        "duration": 55,
        "start_time": "2022-06-04T18:46:20.738Z"
      },
      {
        "duration": 43,
        "start_time": "2022-06-04T18:46:20.795Z"
      },
      {
        "duration": 3,
        "start_time": "2022-06-04T18:46:20.841Z"
      },
      {
        "duration": 850,
        "start_time": "2022-06-04T18:46:20.864Z"
      },
      {
        "duration": 295,
        "start_time": "2022-06-04T18:46:21.715Z"
      },
      {
        "duration": 53,
        "start_time": "2022-06-04T18:46:22.012Z"
      },
      {
        "duration": 36,
        "start_time": "2022-06-04T18:46:22.066Z"
      },
      {
        "duration": 19,
        "start_time": "2022-06-04T18:46:22.104Z"
      },
      {
        "duration": 10,
        "start_time": "2022-06-04T18:46:22.125Z"
      },
      {
        "duration": 19,
        "start_time": "2022-06-04T18:46:22.164Z"
      },
      {
        "duration": 16,
        "start_time": "2022-06-04T18:46:22.185Z"
      },
      {
        "duration": 13,
        "start_time": "2022-06-04T18:46:22.203Z"
      },
      {
        "duration": 237,
        "start_time": "2022-06-04T18:46:22.218Z"
      },
      {
        "duration": 203,
        "start_time": "2022-06-04T18:46:22.457Z"
      },
      {
        "duration": 219,
        "start_time": "2022-06-04T18:46:22.664Z"
      },
      {
        "duration": 15,
        "start_time": "2022-06-04T18:46:22.885Z"
      },
      {
        "duration": 5,
        "start_time": "2022-06-04T18:46:22.902Z"
      },
      {
        "duration": 28,
        "start_time": "2022-06-04T18:46:22.911Z"
      },
      {
        "duration": 4,
        "start_time": "2022-06-04T18:46:22.965Z"
      },
      {
        "duration": 26,
        "start_time": "2022-06-04T18:46:22.971Z"
      },
      {
        "duration": 3,
        "start_time": "2022-06-04T18:46:22.999Z"
      },
      {
        "duration": 27,
        "start_time": "2022-06-04T18:46:23.004Z"
      },
      {
        "duration": 35,
        "start_time": "2022-06-04T18:46:23.032Z"
      },
      {
        "duration": 29,
        "start_time": "2022-06-04T18:46:23.069Z"
      },
      {
        "duration": 65,
        "start_time": "2022-06-04T18:46:23.100Z"
      },
      {
        "duration": 7,
        "start_time": "2022-06-04T18:46:23.167Z"
      },
      {
        "duration": 8,
        "start_time": "2022-06-04T18:46:23.176Z"
      },
      {
        "duration": 8,
        "start_time": "2022-06-04T18:46:23.185Z"
      },
      {
        "duration": 28,
        "start_time": "2022-06-04T18:46:23.195Z"
      },
      {
        "duration": 62,
        "start_time": "2022-06-04T18:46:23.224Z"
      },
      {
        "duration": 3,
        "start_time": "2022-06-04T18:46:23.288Z"
      },
      {
        "duration": 16,
        "start_time": "2022-06-04T18:46:23.293Z"
      },
      {
        "duration": 27,
        "start_time": "2022-06-04T18:46:23.310Z"
      },
      {
        "duration": 48,
        "start_time": "2022-06-04T18:46:23.339Z"
      },
      {
        "duration": 4,
        "start_time": "2022-06-04T18:46:23.389Z"
      },
      {
        "duration": 8,
        "start_time": "2022-06-04T18:46:23.395Z"
      },
      {
        "duration": 60,
        "start_time": "2022-06-04T18:46:23.405Z"
      },
      {
        "duration": 13,
        "start_time": "2022-06-04T18:46:23.467Z"
      },
      {
        "duration": 10,
        "start_time": "2022-06-04T18:46:23.482Z"
      },
      {
        "duration": 13,
        "start_time": "2022-06-04T18:46:23.494Z"
      },
      {
        "duration": 58,
        "start_time": "2022-06-04T18:46:23.509Z"
      },
      {
        "duration": 24,
        "start_time": "2022-06-04T18:48:01.803Z"
      },
      {
        "duration": 7,
        "start_time": "2022-06-04T18:48:14.241Z"
      },
      {
        "duration": 4,
        "start_time": "2022-06-04T18:52:54.880Z"
      },
      {
        "duration": 9,
        "start_time": "2022-06-04T18:53:12.989Z"
      },
      {
        "duration": 12,
        "start_time": "2022-06-04T18:53:31.583Z"
      },
      {
        "duration": 54,
        "start_time": "2022-06-04T20:05:35.711Z"
      },
      {
        "duration": 1245,
        "start_time": "2022-06-04T20:05:39.920Z"
      },
      {
        "duration": 266,
        "start_time": "2022-06-04T20:05:41.167Z"
      },
      {
        "duration": 30,
        "start_time": "2022-06-04T20:05:41.435Z"
      },
      {
        "duration": 14,
        "start_time": "2022-06-04T20:05:41.467Z"
      },
      {
        "duration": 83,
        "start_time": "2022-06-04T20:05:41.483Z"
      },
      {
        "duration": 20,
        "start_time": "2022-06-04T20:05:41.568Z"
      },
      {
        "duration": 44,
        "start_time": "2022-06-04T20:05:41.590Z"
      },
      {
        "duration": 33,
        "start_time": "2022-06-04T20:05:41.635Z"
      },
      {
        "duration": 3,
        "start_time": "2022-06-04T20:05:41.669Z"
      },
      {
        "duration": 58,
        "start_time": "2022-06-04T20:05:41.674Z"
      },
      {
        "duration": 28,
        "start_time": "2022-06-04T20:05:41.734Z"
      },
      {
        "duration": 30,
        "start_time": "2022-06-04T20:05:41.763Z"
      },
      {
        "duration": 4,
        "start_time": "2022-06-04T20:05:41.794Z"
      },
      {
        "duration": 803,
        "start_time": "2022-06-04T20:05:41.826Z"
      },
      {
        "duration": 291,
        "start_time": "2022-06-04T20:05:42.630Z"
      },
      {
        "duration": 39,
        "start_time": "2022-06-04T20:05:42.926Z"
      },
      {
        "duration": 35,
        "start_time": "2022-06-04T20:05:42.966Z"
      },
      {
        "duration": 21,
        "start_time": "2022-06-04T20:05:43.027Z"
      },
      {
        "duration": 13,
        "start_time": "2022-06-04T20:05:43.050Z"
      },
      {
        "duration": 19,
        "start_time": "2022-06-04T20:05:43.064Z"
      },
      {
        "duration": 16,
        "start_time": "2022-06-04T20:05:43.085Z"
      },
      {
        "duration": 35,
        "start_time": "2022-06-04T20:05:43.102Z"
      },
      {
        "duration": 220,
        "start_time": "2022-06-04T20:05:43.139Z"
      },
      {
        "duration": 214,
        "start_time": "2022-06-04T20:05:43.361Z"
      },
      {
        "duration": 213,
        "start_time": "2022-06-04T20:05:43.577Z"
      },
      {
        "duration": 21,
        "start_time": "2022-06-04T20:05:43.792Z"
      },
      {
        "duration": 7,
        "start_time": "2022-06-04T20:05:43.828Z"
      },
      {
        "duration": 41,
        "start_time": "2022-06-04T20:05:43.838Z"
      },
      {
        "duration": 5,
        "start_time": "2022-06-04T20:05:43.881Z"
      },
      {
        "duration": 45,
        "start_time": "2022-06-04T20:05:43.888Z"
      },
      {
        "duration": 5,
        "start_time": "2022-06-04T20:05:43.934Z"
      },
      {
        "duration": 32,
        "start_time": "2022-06-04T20:05:43.941Z"
      },
      {
        "duration": 4,
        "start_time": "2022-06-04T20:05:43.975Z"
      },
      {
        "duration": 59,
        "start_time": "2022-06-04T20:05:43.981Z"
      },
      {
        "duration": 29,
        "start_time": "2022-06-04T20:05:44.042Z"
      },
      {
        "duration": 6,
        "start_time": "2022-06-04T20:05:44.073Z"
      },
      {
        "duration": 9,
        "start_time": "2022-06-04T20:05:44.081Z"
      },
      {
        "duration": 39,
        "start_time": "2022-06-04T20:05:44.091Z"
      },
      {
        "duration": 37,
        "start_time": "2022-06-04T20:05:44.132Z"
      },
      {
        "duration": 34,
        "start_time": "2022-06-04T20:05:44.171Z"
      },
      {
        "duration": 4,
        "start_time": "2022-06-04T20:05:44.231Z"
      },
      {
        "duration": 7,
        "start_time": "2022-06-04T20:05:44.237Z"
      },
      {
        "duration": 32,
        "start_time": "2022-06-04T20:05:44.245Z"
      },
      {
        "duration": 49,
        "start_time": "2022-06-04T20:05:44.279Z"
      },
      {
        "duration": 4,
        "start_time": "2022-06-04T20:05:44.329Z"
      },
      {
        "duration": 8,
        "start_time": "2022-06-04T20:05:44.335Z"
      },
      {
        "duration": 28,
        "start_time": "2022-06-04T20:05:44.344Z"
      },
      {
        "duration": 9,
        "start_time": "2022-06-04T20:05:44.374Z"
      },
      {
        "duration": 6,
        "start_time": "2022-06-04T20:05:44.385Z"
      },
      {
        "duration": 35,
        "start_time": "2022-06-04T20:05:44.393Z"
      },
      {
        "duration": 37,
        "start_time": "2022-06-04T20:05:44.430Z"
      },
      {
        "duration": 3,
        "start_time": "2022-06-04T20:09:28.920Z"
      },
      {
        "duration": 128,
        "start_time": "2022-06-04T20:09:28.924Z"
      },
      {
        "duration": 26,
        "start_time": "2022-06-04T20:09:29.054Z"
      },
      {
        "duration": 9,
        "start_time": "2022-06-04T20:09:29.082Z"
      },
      {
        "duration": 72,
        "start_time": "2022-06-04T20:09:29.094Z"
      },
      {
        "duration": 17,
        "start_time": "2022-06-04T20:09:29.168Z"
      },
      {
        "duration": 44,
        "start_time": "2022-06-04T20:09:29.187Z"
      },
      {
        "duration": 34,
        "start_time": "2022-06-04T20:09:29.232Z"
      },
      {
        "duration": 3,
        "start_time": "2022-06-04T20:09:29.267Z"
      },
      {
        "duration": 61,
        "start_time": "2022-06-04T20:09:29.274Z"
      },
      {
        "duration": 32,
        "start_time": "2022-06-04T20:09:29.336Z"
      },
      {
        "duration": 28,
        "start_time": "2022-06-04T20:09:29.369Z"
      },
      {
        "duration": 4,
        "start_time": "2022-06-04T20:09:29.398Z"
      },
      {
        "duration": 775,
        "start_time": "2022-06-04T20:09:29.427Z"
      },
      {
        "duration": 287,
        "start_time": "2022-06-04T20:09:30.203Z"
      },
      {
        "duration": 49,
        "start_time": "2022-06-04T20:09:30.492Z"
      },
      {
        "duration": 34,
        "start_time": "2022-06-04T20:09:30.543Z"
      },
      {
        "duration": 30,
        "start_time": "2022-06-04T20:09:30.578Z"
      },
      {
        "duration": 22,
        "start_time": "2022-06-04T20:09:30.627Z"
      },
      {
        "duration": 37,
        "start_time": "2022-06-04T20:09:30.650Z"
      },
      {
        "duration": 36,
        "start_time": "2022-06-04T20:09:30.689Z"
      },
      {
        "duration": 40,
        "start_time": "2022-06-04T20:09:30.728Z"
      },
      {
        "duration": 193,
        "start_time": "2022-06-04T20:09:30.770Z"
      },
      {
        "duration": 191,
        "start_time": "2022-06-04T20:09:30.964Z"
      },
      {
        "duration": 214,
        "start_time": "2022-06-04T20:09:31.156Z"
      },
      {
        "duration": 15,
        "start_time": "2022-06-04T20:09:31.371Z"
      },
      {
        "duration": 18,
        "start_time": "2022-06-04T20:09:31.387Z"
      },
      {
        "duration": 42,
        "start_time": "2022-06-04T20:09:31.406Z"
      },
      {
        "duration": 17,
        "start_time": "2022-06-04T20:09:31.449Z"
      },
      {
        "duration": 38,
        "start_time": "2022-06-04T20:09:31.468Z"
      },
      {
        "duration": 4,
        "start_time": "2022-06-04T20:09:31.507Z"
      },
      {
        "duration": 46,
        "start_time": "2022-06-04T20:09:31.512Z"
      },
      {
        "duration": 8,
        "start_time": "2022-06-04T20:09:31.560Z"
      },
      {
        "duration": 35,
        "start_time": "2022-06-04T20:09:31.569Z"
      },
      {
        "duration": 35,
        "start_time": "2022-06-04T20:09:31.606Z"
      },
      {
        "duration": 7,
        "start_time": "2022-06-04T20:09:31.642Z"
      },
      {
        "duration": 33,
        "start_time": "2022-06-04T20:09:31.650Z"
      },
      {
        "duration": 36,
        "start_time": "2022-06-04T20:09:31.685Z"
      },
      {
        "duration": 28,
        "start_time": "2022-06-04T20:09:31.723Z"
      },
      {
        "duration": 28,
        "start_time": "2022-06-04T20:09:31.752Z"
      },
      {
        "duration": 5,
        "start_time": "2022-06-04T20:09:31.783Z"
      },
      {
        "duration": 28,
        "start_time": "2022-06-04T20:09:31.790Z"
      },
      {
        "duration": 38,
        "start_time": "2022-06-04T20:09:31.820Z"
      },
      {
        "duration": 50,
        "start_time": "2022-06-04T20:09:31.860Z"
      },
      {
        "duration": 5,
        "start_time": "2022-06-04T20:09:31.912Z"
      },
      {
        "duration": 35,
        "start_time": "2022-06-04T20:09:31.918Z"
      },
      {
        "duration": 44,
        "start_time": "2022-06-04T20:09:31.955Z"
      },
      {
        "duration": 46,
        "start_time": "2022-06-04T20:09:32.001Z"
      },
      {
        "duration": 32,
        "start_time": "2022-06-04T20:09:32.049Z"
      },
      {
        "duration": 24,
        "start_time": "2022-06-04T20:09:32.083Z"
      },
      {
        "duration": 57,
        "start_time": "2022-06-04T20:09:32.110Z"
      },
      {
        "duration": 49,
        "start_time": "2022-06-04T20:21:03.348Z"
      },
      {
        "duration": 1094,
        "start_time": "2022-06-04T20:23:17.012Z"
      },
      {
        "duration": 136,
        "start_time": "2022-06-04T20:23:18.108Z"
      },
      {
        "duration": 30,
        "start_time": "2022-06-04T20:23:18.246Z"
      },
      {
        "duration": 10,
        "start_time": "2022-06-04T20:23:18.279Z"
      },
      {
        "duration": 94,
        "start_time": "2022-06-04T20:23:18.291Z"
      },
      {
        "duration": 22,
        "start_time": "2022-06-04T20:23:18.387Z"
      },
      {
        "duration": 20,
        "start_time": "2022-06-04T20:23:18.427Z"
      },
      {
        "duration": 33,
        "start_time": "2022-06-04T20:23:18.449Z"
      },
      {
        "duration": 3,
        "start_time": "2022-06-04T20:23:18.484Z"
      },
      {
        "duration": 57,
        "start_time": "2022-06-04T20:23:18.489Z"
      },
      {
        "duration": 30,
        "start_time": "2022-06-04T20:23:18.547Z"
      },
      {
        "duration": 49,
        "start_time": "2022-06-04T20:23:18.578Z"
      },
      {
        "duration": 4,
        "start_time": "2022-06-04T20:23:18.628Z"
      },
      {
        "duration": 810,
        "start_time": "2022-06-04T20:23:18.634Z"
      },
      {
        "duration": 285,
        "start_time": "2022-06-04T20:23:19.446Z"
      },
      {
        "duration": 50,
        "start_time": "2022-06-04T20:23:19.733Z"
      },
      {
        "duration": 58,
        "start_time": "2022-06-04T20:23:19.784Z"
      },
      {
        "duration": 19,
        "start_time": "2022-06-04T20:23:19.843Z"
      },
      {
        "duration": 9,
        "start_time": "2022-06-04T20:23:19.864Z"
      },
      {
        "duration": 13,
        "start_time": "2022-06-04T20:23:19.875Z"
      },
      {
        "duration": 43,
        "start_time": "2022-06-04T20:23:19.890Z"
      },
      {
        "duration": 14,
        "start_time": "2022-06-04T20:23:19.935Z"
      },
      {
        "duration": 209,
        "start_time": "2022-06-04T20:23:19.951Z"
      },
      {
        "duration": 197,
        "start_time": "2022-06-04T20:23:20.162Z"
      },
      {
        "duration": 210,
        "start_time": "2022-06-04T20:23:20.361Z"
      },
      {
        "duration": 16,
        "start_time": "2022-06-04T20:23:20.572Z"
      },
      {
        "duration": 5,
        "start_time": "2022-06-04T20:23:20.589Z"
      },
      {
        "duration": 41,
        "start_time": "2022-06-04T20:23:20.597Z"
      },
      {
        "duration": 4,
        "start_time": "2022-06-04T20:23:20.640Z"
      },
      {
        "duration": 29,
        "start_time": "2022-06-04T20:23:20.645Z"
      },
      {
        "duration": 5,
        "start_time": "2022-06-04T20:23:20.676Z"
      },
      {
        "duration": 48,
        "start_time": "2022-06-04T20:23:20.682Z"
      },
      {
        "duration": 4,
        "start_time": "2022-06-04T20:23:20.732Z"
      },
      {
        "duration": 31,
        "start_time": "2022-06-04T20:23:20.738Z"
      },
      {
        "duration": 64,
        "start_time": "2022-06-04T20:23:20.770Z"
      },
      {
        "duration": 9,
        "start_time": "2022-06-04T20:23:20.835Z"
      },
      {
        "duration": 23,
        "start_time": "2022-06-04T20:23:20.846Z"
      },
      {
        "duration": 19,
        "start_time": "2022-06-04T20:23:20.871Z"
      },
      {
        "duration": 30,
        "start_time": "2022-06-04T20:23:20.892Z"
      },
      {
        "duration": 33,
        "start_time": "2022-06-04T20:23:20.923Z"
      },
      {
        "duration": 4,
        "start_time": "2022-06-04T20:23:20.958Z"
      },
      {
        "duration": 9,
        "start_time": "2022-06-04T20:23:20.964Z"
      },
      {
        "duration": 21,
        "start_time": "2022-06-04T20:23:20.975Z"
      },
      {
        "duration": 51,
        "start_time": "2022-06-04T20:23:20.998Z"
      },
      {
        "duration": 6,
        "start_time": "2022-06-04T20:23:21.051Z"
      },
      {
        "duration": 9,
        "start_time": "2022-06-04T20:23:21.058Z"
      },
      {
        "duration": 37,
        "start_time": "2022-06-04T20:23:21.068Z"
      },
      {
        "duration": 28,
        "start_time": "2022-06-04T20:23:21.107Z"
      },
      {
        "duration": 6,
        "start_time": "2022-06-04T20:23:21.137Z"
      },
      {
        "duration": 13,
        "start_time": "2022-06-04T20:23:21.145Z"
      },
      {
        "duration": 45,
        "start_time": "2022-06-04T20:23:21.160Z"
      },
      {
        "duration": 1172,
        "start_time": "2022-06-05T08:11:46.342Z"
      },
      {
        "duration": 378,
        "start_time": "2022-06-05T08:11:47.516Z"
      },
      {
        "duration": 28,
        "start_time": "2022-06-05T08:11:47.896Z"
      },
      {
        "duration": 10,
        "start_time": "2022-06-05T08:11:47.926Z"
      },
      {
        "duration": 56,
        "start_time": "2022-06-05T08:11:47.937Z"
      },
      {
        "duration": 38,
        "start_time": "2022-06-05T08:11:47.994Z"
      },
      {
        "duration": 19,
        "start_time": "2022-06-05T08:11:48.034Z"
      },
      {
        "duration": 33,
        "start_time": "2022-06-05T08:11:48.055Z"
      },
      {
        "duration": 4,
        "start_time": "2022-06-05T08:11:48.090Z"
      },
      {
        "duration": 33,
        "start_time": "2022-06-05T08:11:48.128Z"
      },
      {
        "duration": 31,
        "start_time": "2022-06-05T08:11:48.163Z"
      },
      {
        "duration": 56,
        "start_time": "2022-06-05T08:11:48.196Z"
      },
      {
        "duration": 3,
        "start_time": "2022-06-05T08:11:48.254Z"
      },
      {
        "duration": 837,
        "start_time": "2022-06-05T08:11:48.258Z"
      },
      {
        "duration": 288,
        "start_time": "2022-06-05T08:11:49.096Z"
      },
      {
        "duration": 45,
        "start_time": "2022-06-05T08:11:49.385Z"
      },
      {
        "duration": 32,
        "start_time": "2022-06-05T08:11:49.432Z"
      },
      {
        "duration": 17,
        "start_time": "2022-06-05T08:11:49.466Z"
      },
      {
        "duration": 9,
        "start_time": "2022-06-05T08:11:49.484Z"
      },
      {
        "duration": 39,
        "start_time": "2022-06-05T08:11:49.495Z"
      },
      {
        "duration": 11,
        "start_time": "2022-06-05T08:11:49.536Z"
      },
      {
        "duration": 10,
        "start_time": "2022-06-05T08:11:49.548Z"
      },
      {
        "duration": 216,
        "start_time": "2022-06-05T08:11:49.559Z"
      },
      {
        "duration": 224,
        "start_time": "2022-06-05T08:11:49.776Z"
      },
      {
        "duration": 213,
        "start_time": "2022-06-05T08:11:50.002Z"
      },
      {
        "duration": 24,
        "start_time": "2022-06-05T08:11:50.217Z"
      },
      {
        "duration": 6,
        "start_time": "2022-06-05T08:11:50.242Z"
      },
      {
        "duration": 25,
        "start_time": "2022-06-05T08:11:50.251Z"
      },
      {
        "duration": 3,
        "start_time": "2022-06-05T08:11:50.277Z"
      },
      {
        "duration": 48,
        "start_time": "2022-06-05T08:11:50.282Z"
      },
      {
        "duration": 4,
        "start_time": "2022-06-05T08:11:50.331Z"
      },
      {
        "duration": 22,
        "start_time": "2022-06-05T08:11:50.336Z"
      },
      {
        "duration": 6,
        "start_time": "2022-06-05T08:11:50.359Z"
      },
      {
        "duration": 33,
        "start_time": "2022-06-05T08:11:50.366Z"
      },
      {
        "duration": 42,
        "start_time": "2022-06-05T08:11:50.401Z"
      },
      {
        "duration": 7,
        "start_time": "2022-06-05T08:11:50.445Z"
      },
      {
        "duration": 8,
        "start_time": "2022-06-05T08:11:50.453Z"
      },
      {
        "duration": 15,
        "start_time": "2022-06-05T08:11:50.462Z"
      },
      {
        "duration": 23,
        "start_time": "2022-06-05T08:11:50.478Z"
      },
      {
        "duration": 44,
        "start_time": "2022-06-05T08:11:50.503Z"
      },
      {
        "duration": 3,
        "start_time": "2022-06-05T08:11:50.549Z"
      },
      {
        "duration": 15,
        "start_time": "2022-06-05T08:11:50.553Z"
      },
      {
        "duration": 21,
        "start_time": "2022-06-05T08:11:50.572Z"
      },
      {
        "duration": 38,
        "start_time": "2022-06-05T08:11:50.595Z"
      },
      {
        "duration": 4,
        "start_time": "2022-06-05T08:11:50.634Z"
      },
      {
        "duration": 11,
        "start_time": "2022-06-05T08:11:50.639Z"
      },
      {
        "duration": 30,
        "start_time": "2022-06-05T08:11:50.652Z"
      },
      {
        "duration": 9,
        "start_time": "2022-06-05T08:11:50.684Z"
      },
      {
        "duration": 6,
        "start_time": "2022-06-05T08:11:50.694Z"
      },
      {
        "duration": 30,
        "start_time": "2022-06-05T08:11:50.701Z"
      },
      {
        "duration": 36,
        "start_time": "2022-06-05T08:11:50.732Z"
      }
    ],
    "kernelspec": {
      "display_name": "Python 3 (ipykernel)",
      "language": "python",
      "name": "python3"
    },
    "language_info": {
      "codemirror_mode": {
        "name": "ipython",
        "version": 3
      },
      "file_extension": ".py",
      "mimetype": "text/x-python",
      "name": "python",
      "nbconvert_exporter": "python",
      "pygments_lexer": "ipython3",
      "version": "3.9.16"
    },
    "toc": {
      "base_numbering": 1,
      "nav_menu": {},
      "number_sections": true,
      "sideBar": true,
      "skip_h1_title": true,
      "title_cell": "Содержание",
      "title_sidebar": "Contents",
      "toc_cell": true,
      "toc_position": {},
      "toc_section_display": true,
      "toc_window_display": false
    }
  },
  "nbformat": 4,
  "nbformat_minor": 2
}