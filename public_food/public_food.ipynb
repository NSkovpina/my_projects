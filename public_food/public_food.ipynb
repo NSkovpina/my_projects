{
 "cells": [
  {
   "cell_type": "markdown",
   "metadata": {},
   "source": [
    "# Рынок заведений общественного питания Москвы\n",
    "Вы решили открыть небольшое кафе в Москве. Оно оригинальное — гостей должны обслуживать роботы. Проект многообещающий, но дорогой. Вместе с партнёрами вы решились обратиться к инвесторам. Их интересует текущее положение дел на рынке — сможете ли вы снискать популярность на долгое время, когда все зеваки насмотрятся на роботов-официантов?\n",
    "Вы — гуру аналитики, и партнёры просят вас подготовить исследование рынка. У вас есть открытые данные о заведениях общественного питания в Москве."
   ]
  },
  {
   "cell_type": "markdown",
   "metadata": {},
   "source": [
    "# 1 Изучение данных из файла"
   ]
  },
  {
   "cell_type": "code",
   "execution_count": 1,
   "metadata": {},
   "outputs": [],
   "source": [
    "# Импортируем библиотеки\n",
    "import pandas as pd\n",
    "import matplotlib.pyplot as plt\n",
    "import plotly.express as px\n",
    "from plotly import graph_objects as go\n",
    "import seaborn as sns\n",
    "from io import BytesIO\n",
    "import requests"
   ]
  },
  {
   "cell_type": "code",
   "execution_count": 2,
   "metadata": {},
   "outputs": [
    {
     "data": {
      "text/html": [
       "<div>\n",
       "<style scoped>\n",
       "    .dataframe tbody tr th:only-of-type {\n",
       "        vertical-align: middle;\n",
       "    }\n",
       "\n",
       "    .dataframe tbody tr th {\n",
       "        vertical-align: top;\n",
       "    }\n",
       "\n",
       "    .dataframe thead th {\n",
       "        text-align: right;\n",
       "    }\n",
       "</style>\n",
       "<table border=\"1\" class=\"dataframe\">\n",
       "  <thead>\n",
       "    <tr style=\"text-align: right;\">\n",
       "      <th></th>\n",
       "      <th>id</th>\n",
       "      <th>object_name</th>\n",
       "      <th>chain</th>\n",
       "      <th>object_type</th>\n",
       "      <th>address</th>\n",
       "      <th>number</th>\n",
       "    </tr>\n",
       "  </thead>\n",
       "  <tbody>\n",
       "    <tr>\n",
       "      <th>0</th>\n",
       "      <td>151635</td>\n",
       "      <td>СМЕТАНА</td>\n",
       "      <td>нет</td>\n",
       "      <td>кафе</td>\n",
       "      <td>город Москва, улица Егора Абакумова, дом 9</td>\n",
       "      <td>48</td>\n",
       "    </tr>\n",
       "    <tr>\n",
       "      <th>1</th>\n",
       "      <td>77874</td>\n",
       "      <td>Родник</td>\n",
       "      <td>нет</td>\n",
       "      <td>кафе</td>\n",
       "      <td>город Москва, улица Талалихина, дом 2/1, корпус 1</td>\n",
       "      <td>35</td>\n",
       "    </tr>\n",
       "    <tr>\n",
       "      <th>2</th>\n",
       "      <td>24309</td>\n",
       "      <td>Кафе «Академия»</td>\n",
       "      <td>нет</td>\n",
       "      <td>кафе</td>\n",
       "      <td>город Москва, Абельмановская улица, дом 6</td>\n",
       "      <td>95</td>\n",
       "    </tr>\n",
       "    <tr>\n",
       "      <th>3</th>\n",
       "      <td>21894</td>\n",
       "      <td>ПИЦЦЕТОРИЯ</td>\n",
       "      <td>да</td>\n",
       "      <td>кафе</td>\n",
       "      <td>город Москва, Абрамцевская улица, дом 1</td>\n",
       "      <td>40</td>\n",
       "    </tr>\n",
       "    <tr>\n",
       "      <th>4</th>\n",
       "      <td>119365</td>\n",
       "      <td>Кафе «Вишневая метель»</td>\n",
       "      <td>нет</td>\n",
       "      <td>кафе</td>\n",
       "      <td>город Москва, Абрамцевская улица, дом 9, корпус 1</td>\n",
       "      <td>50</td>\n",
       "    </tr>\n",
       "    <tr>\n",
       "      <th>5</th>\n",
       "      <td>27429</td>\n",
       "      <td>СТОЛ. ПРИ ГОУ СОШ № 1051</td>\n",
       "      <td>нет</td>\n",
       "      <td>столовая</td>\n",
       "      <td>город Москва, Абрамцевская улица, дом 15, корп...</td>\n",
       "      <td>240</td>\n",
       "    </tr>\n",
       "    <tr>\n",
       "      <th>6</th>\n",
       "      <td>148815</td>\n",
       "      <td>Брусника</td>\n",
       "      <td>да</td>\n",
       "      <td>кафе</td>\n",
       "      <td>город Москва, переулок Сивцев Вражек, дом 6/2</td>\n",
       "      <td>10</td>\n",
       "    </tr>\n",
       "    <tr>\n",
       "      <th>7</th>\n",
       "      <td>20957</td>\n",
       "      <td>Буфет МТУСИ</td>\n",
       "      <td>нет</td>\n",
       "      <td>столовая</td>\n",
       "      <td>город Москва, Авиамоторная улица, дом 8, строе...</td>\n",
       "      <td>90</td>\n",
       "    </tr>\n",
       "    <tr>\n",
       "      <th>8</th>\n",
       "      <td>20958</td>\n",
       "      <td>КПФ СЕМЬЯ-1</td>\n",
       "      <td>нет</td>\n",
       "      <td>столовая</td>\n",
       "      <td>город Москва, Авиамоторная улица, дом 8, строе...</td>\n",
       "      <td>150</td>\n",
       "    </tr>\n",
       "    <tr>\n",
       "      <th>9</th>\n",
       "      <td>28858</td>\n",
       "      <td>Столовая МТУСИ</td>\n",
       "      <td>нет</td>\n",
       "      <td>столовая</td>\n",
       "      <td>город Москва, Авиамоторная улица, дом 8, строе...</td>\n",
       "      <td>120</td>\n",
       "    </tr>\n",
       "  </tbody>\n",
       "</table>\n",
       "</div>"
      ],
      "text/plain": [
       "       id               object_name chain object_type  \\\n",
       "0  151635                   СМЕТАНА   нет        кафе   \n",
       "1   77874                    Родник   нет        кафе   \n",
       "2   24309           Кафе «Академия»   нет        кафе   \n",
       "3   21894                ПИЦЦЕТОРИЯ    да        кафе   \n",
       "4  119365    Кафе «Вишневая метель»   нет        кафе   \n",
       "5   27429  СТОЛ. ПРИ ГОУ СОШ № 1051   нет    столовая   \n",
       "6  148815                  Брусника    да        кафе   \n",
       "7   20957               Буфет МТУСИ   нет    столовая   \n",
       "8   20958               КПФ СЕМЬЯ-1   нет    столовая   \n",
       "9   28858            Столовая МТУСИ   нет    столовая   \n",
       "\n",
       "                                             address  number  \n",
       "0         город Москва, улица Егора Абакумова, дом 9      48  \n",
       "1  город Москва, улица Талалихина, дом 2/1, корпус 1      35  \n",
       "2          город Москва, Абельмановская улица, дом 6      95  \n",
       "3            город Москва, Абрамцевская улица, дом 1      40  \n",
       "4  город Москва, Абрамцевская улица, дом 9, корпус 1      50  \n",
       "5  город Москва, Абрамцевская улица, дом 15, корп...     240  \n",
       "6      город Москва, переулок Сивцев Вражек, дом 6/2      10  \n",
       "7  город Москва, Авиамоторная улица, дом 8, строе...      90  \n",
       "8  город Москва, Авиамоторная улица, дом 8, строе...     150  \n",
       "9  город Москва, Авиамоторная улица, дом 8, строе...     120  "
      ]
     },
     "metadata": {},
     "output_type": "display_data"
    },
    {
     "name": "stdout",
     "output_type": "stream",
     "text": [
      "<class 'pandas.core.frame.DataFrame'>\n",
      "RangeIndex: 15366 entries, 0 to 15365\n",
      "Data columns (total 6 columns):\n",
      " #   Column       Non-Null Count  Dtype \n",
      "---  ------       --------------  ----- \n",
      " 0   id           15366 non-null  int64 \n",
      " 1   object_name  15366 non-null  object\n",
      " 2   chain        15366 non-null  object\n",
      " 3   object_type  15366 non-null  object\n",
      " 4   address      15366 non-null  object\n",
      " 5   number       15366 non-null  int64 \n",
      "dtypes: int64(2), object(4)\n",
      "memory usage: 720.4+ KB\n"
     ]
    }
   ],
   "source": [
    "# Открываем файл и выводим первые 10 строк\n",
    "data = pd.read_csv('/datasets/rest_data.csv')\n",
    "display(data.head(10))\n",
    "# Вызываем функцию info() для оценки заполненности таблицы, соответствия типов данных столбцов хранимым в них значениях\n",
    "data.info()"
   ]
  },
  {
   "cell_type": "code",
   "execution_count": 3,
   "metadata": {},
   "outputs": [
    {
     "data": {
      "text/plain": [
       "Столовая                               267\n",
       "Кафе                                   236\n",
       "Шаурма                                 234\n",
       "KFC                                    155\n",
       "Шоколадница                            142\n",
       "                                      ... \n",
       "Лангуст                                  1\n",
       "Пилпили                                  1\n",
       "Стрит. Еда.                              1\n",
       "Кафе Вьетнамской кухни «Дядюшка Хо»      1\n",
       "Кафейня Musetti                          1\n",
       "Name: object_name, Length: 10393, dtype: int64"
      ]
     },
     "metadata": {},
     "output_type": "display_data"
    },
    {
     "data": {
      "text/plain": [
       "кафе                                 6099\n",
       "столовая                             2587\n",
       "ресторан                             2285\n",
       "предприятие быстрого обслуживания    1923\n",
       "бар                                   856\n",
       "буфет                                 585\n",
       "кафетерий                             398\n",
       "закусочная                            360\n",
       "магазин (отдел кулинарии)             273\n",
       "Name: object_type, dtype: int64"
      ]
     },
     "metadata": {},
     "output_type": "display_data"
    }
   ],
   "source": [
    "# проверим содержимое столбцов с категориальными значениями\n",
    "columns = ['object_name', 'object_type']\n",
    "for column in columns:\n",
    "    display(data[column].value_counts())"
   ]
  },
  {
   "cell_type": "code",
   "execution_count": 4,
   "metadata": {},
   "outputs": [
    {
     "data": {
      "text/plain": [
       "0"
      ]
     },
     "metadata": {},
     "output_type": "display_data"
    }
   ],
   "source": [
    "# Найдем количество явных дубликатов, используя методод duplicated, тк нужно найти дубликаты по строкам \n",
    "display(data.duplicated().sum())"
   ]
  },
  {
   "cell_type": "code",
   "execution_count": 5,
   "metadata": {},
   "outputs": [
    {
     "data": {
      "text/plain": [
       "82"
      ]
     },
     "metadata": {},
     "output_type": "display_data"
    },
    {
     "name": "stdout",
     "output_type": "stream",
     "text": [
      "<class 'pandas.core.frame.DataFrame'>\n",
      "RangeIndex: 15284 entries, 0 to 15283\n",
      "Data columns (total 7 columns):\n",
      " #   Column       Non-Null Count  Dtype \n",
      "---  ------       --------------  ----- \n",
      " 0   index        15284 non-null  int64 \n",
      " 1   id           15284 non-null  int64 \n",
      " 2   object_name  15284 non-null  object\n",
      " 3   chain        15284 non-null  object\n",
      " 4   object_type  15284 non-null  object\n",
      " 5   address      15284 non-null  object\n",
      " 6   number       15284 non-null  int64 \n",
      "dtypes: int64(3), object(4)\n",
      "memory usage: 836.0+ KB\n"
     ]
    },
    {
     "data": {
      "text/plain": [
       "None"
      ]
     },
     "metadata": {},
     "output_type": "display_data"
    }
   ],
   "source": [
    "# Проверим дубликаты без колонки 'id' и удалим их\n",
    "display(data.duplicated(subset=['object_name', 'chain', 'object_type', 'address', 'number']).sum())\n",
    "data = data.drop_duplicates(subset=['object_name', 'chain', 'object_type', 'address', 'number']).reset_index()\n",
    "display(data.info())"
   ]
  },
  {
   "cell_type": "code",
   "execution_count": 6,
   "metadata": {
    "scrolled": true
   },
   "outputs": [
    {
     "data": {
      "text/plain": [
       "Столовая                    267\n",
       "Шаурма                      226\n",
       "Кафе                        222\n",
       "KFC                         155\n",
       "Шоколадница                 142\n",
       "                           ... \n",
       "ID Cafe здоровое питание      1\n",
       "Столовая ЦО 1402              1\n",
       "Рестран PERFECT               1\n",
       "Лангуст                       1\n",
       "Кафейня Musetti               1\n",
       "Name: object_name, Length: 10393, dtype: int64"
      ]
     },
     "metadata": {},
     "output_type": "display_data"
    },
    {
     "data": {
      "text/plain": [
       "кафе                                 6071\n",
       "столовая                             2584\n",
       "ресторан                             2282\n",
       "предприятие быстрого обслуживания    1898\n",
       "бар                                   855\n",
       "буфет                                 577\n",
       "кафетерий                             395\n",
       "закусочная                            349\n",
       "магазин (отдел кулинарии)             273\n",
       "Name: object_type, dtype: int64"
      ]
     },
     "metadata": {},
     "output_type": "display_data"
    },
    {
     "data": {
      "text/plain": [
       "без названия    617\n",
       "Шаурма          226\n",
       "KFC             155\n",
       "Шоколадница     142\n",
       "Бургер Кинг     122\n",
       "               ... \n",
       "Стрит. Еда.       1\n",
       "САМАРКАНД         1\n",
       "Вино и гады       1\n",
       "Токмакоff         1\n",
       " Прогресс         1\n",
       "Name: object_name_new, Length: 10234, dtype: int64"
      ]
     },
     "metadata": {},
     "output_type": "display_data"
    }
   ],
   "source": [
    "# Создадим столбец object_name_new на основе столбца object_name, в котором уберем из названий слова типа \"кафе\", \"ресторан\" и тд\n",
    "# если в названиях есть только эти слова, обозначим их как \"без названия\"\n",
    "data['object_name_new'] = data['object_name'].str.replace('кафе|ресторан|столовая|пиццерия|«|»', '', regex=True, case=False)\n",
    "data.loc[data['object_name_new'] == '', 'object_name_new'] = 'без названия'\n",
    "columns = ['object_name', 'object_type', 'object_name_new']\n",
    "for column in columns:\n",
    "    display(data[column].value_counts())"
   ]
  },
  {
   "cell_type": "code",
   "execution_count": 7,
   "metadata": {},
   "outputs": [
    {
     "data": {
      "text/html": [
       "<div>\n",
       "<style scoped>\n",
       "    .dataframe tbody tr th:only-of-type {\n",
       "        vertical-align: middle;\n",
       "    }\n",
       "\n",
       "    .dataframe tbody tr th {\n",
       "        vertical-align: top;\n",
       "    }\n",
       "\n",
       "    .dataframe thead th {\n",
       "        text-align: right;\n",
       "    }\n",
       "</style>\n",
       "<table border=\"1\" class=\"dataframe\">\n",
       "  <thead>\n",
       "    <tr style=\"text-align: right;\">\n",
       "      <th></th>\n",
       "      <th>object_name</th>\n",
       "      <th>object_name_new</th>\n",
       "    </tr>\n",
       "  </thead>\n",
       "  <tbody>\n",
       "    <tr>\n",
       "      <th>685</th>\n",
       "      <td>Krispy Creme</td>\n",
       "      <td>Krispy Creme</td>\n",
       "    </tr>\n",
       "    <tr>\n",
       "      <th>1274</th>\n",
       "      <td>Krispy Kreme</td>\n",
       "      <td>Krispy Creme</td>\n",
       "    </tr>\n",
       "    <tr>\n",
       "      <th>1851</th>\n",
       "      <td>Krispy Creme</td>\n",
       "      <td>Krispy Creme</td>\n",
       "    </tr>\n",
       "    <tr>\n",
       "      <th>5203</th>\n",
       "      <td>Krispy Krem</td>\n",
       "      <td>Krispy Creme</td>\n",
       "    </tr>\n",
       "    <tr>\n",
       "      <th>5323</th>\n",
       "      <td>Krispy Creme</td>\n",
       "      <td>Krispy Creme</td>\n",
       "    </tr>\n",
       "    <tr>\n",
       "      <th>6637</th>\n",
       "      <td>Krispy Krem</td>\n",
       "      <td>Krispy Creme</td>\n",
       "    </tr>\n",
       "    <tr>\n",
       "      <th>8138</th>\n",
       "      <td>Krispy Creme</td>\n",
       "      <td>Krispy Creme</td>\n",
       "    </tr>\n",
       "    <tr>\n",
       "      <th>8458</th>\n",
       "      <td>Krispy Creme</td>\n",
       "      <td>Krispy Creme</td>\n",
       "    </tr>\n",
       "    <tr>\n",
       "      <th>14864</th>\n",
       "      <td>Krispy Kreme</td>\n",
       "      <td>Krispy Creme</td>\n",
       "    </tr>\n",
       "    <tr>\n",
       "      <th>14996</th>\n",
       "      <td>Krispy Creme</td>\n",
       "      <td>Krispy Creme</td>\n",
       "    </tr>\n",
       "  </tbody>\n",
       "</table>\n",
       "</div>"
      ],
      "text/plain": [
       "        object_name object_name_new\n",
       "685    Krispy Creme    Krispy Creme\n",
       "1274   Krispy Kreme    Krispy Creme\n",
       "1851   Krispy Creme    Krispy Creme\n",
       "5203    Krispy Krem    Krispy Creme\n",
       "5323   Krispy Creme    Krispy Creme\n",
       "6637    Krispy Krem    Krispy Creme\n",
       "8138   Krispy Creme    Krispy Creme\n",
       "8458   Krispy Creme    Krispy Creme\n",
       "14864  Krispy Kreme    Krispy Creme\n",
       "14996  Krispy Creme    Krispy Creme"
      ]
     },
     "execution_count": 7,
     "metadata": {},
     "output_type": "execute_result"
    }
   ],
   "source": [
    "# Приведем разные варианты одного названия (для основных сетей) к единому\n",
    "synonyms = {'McDonalds': ['МАКДОНАЛДС','Макдоналдс'],\n",
    "            'KFC' : ['KFC Волгоградский', 'КФС АмРест', 'KFC.', 'kfc'],\n",
    "            'Krispy Creme' : ['Krispy Krem','Krispy Kreme'],\n",
    "            'Dominos Pizza' : ['Domino-s Pizza', \"Домино'с Пицца\", \"ДОМИНО'С ПИЦЦА\", \"Домино'с Пицца Domino,s Pizza\"],\n",
    "            'Якитория' : ['ЯКИТОРИЯ'],\n",
    "            'Шоколадница' : ['ШОКОЛАДНИЦА']\n",
    "           }\n",
    "def chek_synonyms(cell):\n",
    "    for name, syn in synonyms.items():\n",
    "        if cell in syn:\n",
    "            return name\n",
    "    return cell \n",
    "data['object_name_new'] = data['object_name_new'].apply(chek_synonyms)\n",
    "data[['object_name', 'object_name_new']].query('object_name_new == \"Krispy Creme\"').head(10)"
   ]
  },
  {
   "cell_type": "code",
   "execution_count": 8,
   "metadata": {},
   "outputs": [
    {
     "data": {
      "text/plain": [
       "без названия       617\n",
       "Шаурма             226\n",
       "KFC                158\n",
       "Шоколадница        158\n",
       "McDonalds          152\n",
       "                  ... \n",
       "True Pho             1\n",
       "Рестран PERFECT      1\n",
       "Лангуст              1\n",
       "Пилпили              1\n",
       " Прогресс            1\n",
       "Name: object_name_new, Length: 10221, dtype: int64"
      ]
     },
     "execution_count": 8,
     "metadata": {},
     "output_type": "execute_result"
    }
   ],
   "source": [
    "data['object_name_new'].value_counts()"
   ]
  },
  {
   "cell_type": "markdown",
   "metadata": {},
   "source": [
    "**Вывод:**\n",
    "1. Столбцы таблицы заполнены полностью, пропусков нет.\n",
    "2. Явных дубликатов нет.\n",
    "3. Замену типа данных столбца \"chain\" на булевский производить не стали ввиду нецелесообразности.\n",
    "4. Для основных сетей привели разные варианты названий к единому."
   ]
  },
  {
   "cell_type": "markdown",
   "metadata": {},
   "source": [
    "# 2 Анализ данных"
   ]
  },
  {
   "cell_type": "code",
   "execution_count": 9,
   "metadata": {},
   "outputs": [
    {
     "data": {
      "text/html": [
       "<div>\n",
       "<style scoped>\n",
       "    .dataframe tbody tr th:only-of-type {\n",
       "        vertical-align: middle;\n",
       "    }\n",
       "\n",
       "    .dataframe tbody tr th {\n",
       "        vertical-align: top;\n",
       "    }\n",
       "\n",
       "    .dataframe thead th {\n",
       "        text-align: right;\n",
       "    }\n",
       "</style>\n",
       "<table border=\"1\" class=\"dataframe\">\n",
       "  <thead>\n",
       "    <tr style=\"text-align: right;\">\n",
       "      <th></th>\n",
       "      <th>object_type</th>\n",
       "      <th>id</th>\n",
       "    </tr>\n",
       "  </thead>\n",
       "  <tbody>\n",
       "    <tr>\n",
       "      <th>3</th>\n",
       "      <td>кафе</td>\n",
       "      <td>6071</td>\n",
       "    </tr>\n",
       "    <tr>\n",
       "      <th>8</th>\n",
       "      <td>столовая</td>\n",
       "      <td>2584</td>\n",
       "    </tr>\n",
       "    <tr>\n",
       "      <th>7</th>\n",
       "      <td>ресторан</td>\n",
       "      <td>2282</td>\n",
       "    </tr>\n",
       "    <tr>\n",
       "      <th>6</th>\n",
       "      <td>предприятие быстрого обслуживания</td>\n",
       "      <td>1898</td>\n",
       "    </tr>\n",
       "    <tr>\n",
       "      <th>0</th>\n",
       "      <td>бар</td>\n",
       "      <td>855</td>\n",
       "    </tr>\n",
       "    <tr>\n",
       "      <th>1</th>\n",
       "      <td>буфет</td>\n",
       "      <td>577</td>\n",
       "    </tr>\n",
       "    <tr>\n",
       "      <th>4</th>\n",
       "      <td>кафетерий</td>\n",
       "      <td>395</td>\n",
       "    </tr>\n",
       "    <tr>\n",
       "      <th>2</th>\n",
       "      <td>закусочная</td>\n",
       "      <td>349</td>\n",
       "    </tr>\n",
       "    <tr>\n",
       "      <th>5</th>\n",
       "      <td>магазин (отдел кулинарии)</td>\n",
       "      <td>273</td>\n",
       "    </tr>\n",
       "  </tbody>\n",
       "</table>\n",
       "</div>"
      ],
      "text/plain": [
       "                         object_type    id\n",
       "3                               кафе  6071\n",
       "8                           столовая  2584\n",
       "7                           ресторан  2282\n",
       "6  предприятие быстрого обслуживания  1898\n",
       "0                                бар   855\n",
       "1                              буфет   577\n",
       "4                          кафетерий   395\n",
       "2                         закусочная   349\n",
       "5          магазин (отдел кулинарии)   273"
      ]
     },
     "metadata": {},
     "output_type": "display_data"
    }
   ],
   "source": [
    "# Исследуем соотношение видов объектов общественного питания по количеству\n",
    "data_object = data.groupby('object_type')['id'].count().reset_index().sort_values(by = 'id', ascending = False)\n",
    "display(data_object)"
   ]
  },
  {
   "cell_type": "code",
   "execution_count": 10,
   "metadata": {},
   "outputs": [
    {
     "data": {
      "text/plain": [
       "Text(0.5, 1.0, 'Cоотношение видов объектов общественного питания по количеству')"
      ]
     },
     "execution_count": 10,
     "metadata": {},
     "output_type": "execute_result"
    },
    {
     "data": {
      "image/png": "[encoded data removed]",
      "text/plain": [
       "<Figure size 432x288 with 1 Axes>"
      ]
     },
     "metadata": {
      "needs_background": "light"
     },
     "output_type": "display_data"
    }
   ],
   "source": [
    "sns.barplot(x='object_type', y='id', data=data_object)\n",
    "plt.xticks(rotation=75)\n",
    "plt.xlabel('объекты питания')\n",
    "plt.ylabel('количество объектов питания')\n",
    "plt.title('Cоотношение видов объектов общественного питания по количеству')"
   ]
  },
  {
   "cell_type": "markdown",
   "metadata": {},
   "source": [
    "Вывод: больше всего по количеству - кафе, меньше всего - отделов кулинарии в магазинах."
   ]
  },
  {
   "cell_type": "code",
   "execution_count": 11,
   "metadata": {
    "scrolled": true
   },
   "outputs": [
    {
     "data": {
      "text/plain": [
       "Text(0.5, 1.0, 'Cоотношение сетевых и несетевых заведений по количеству')"
      ]
     },
     "execution_count": 11,
     "metadata": {},
     "output_type": "execute_result"
    },
    {
     "data": {
      "image/png": "[encoded data removed]",
      "text/plain": [
       "<Figure size 432x288 with 1 Axes>"
      ]
     },
     "metadata": {
      "needs_background": "light"
     },
     "output_type": "display_data"
    }
   ],
   "source": [
    "# Исследуем соотношение сетевых и несетевых заведений по количеству.\n",
    "data_chain = data.groupby('chain')['id'].count().reset_index()\n",
    "sns.barplot(x='chain', y='id', data=data_chain)\n",
    "plt.xlabel('сетевой ресторан')\n",
    "plt.ylabel('количество ресторанов')\n",
    "plt.title('Cоотношение сетевых и несетевых заведений по количеству')\n",
    "\n"
   ]
  },
  {
   "cell_type": "markdown",
   "metadata": {},
   "source": [
    "Вывод: Преобладают несетевые заведения (их больше в 4 раза)."
   ]
  },
  {
   "cell_type": "code",
   "execution_count": 12,
   "metadata": {
    "scrolled": true
   },
   "outputs": [
    {
     "data": {
      "text/plain": [
       "Text(0.5, 1.0, 'Cоотношение видов сетевых объектов общественного питания по количеству')"
      ]
     },
     "execution_count": 12,
     "metadata": {},
     "output_type": "execute_result"
    },
    {
     "data": {
      "image/png": "[encoded data removed]",
      "text/plain": [
       "<Figure size 432x288 with 1 Axes>"
      ]
     },
     "metadata": {
      "needs_background": "light"
     },
     "output_type": "display_data"
    }
   ],
   "source": [
    "# Отберем сетевые рестораны\n",
    "rest_group = data.query('chain == \"да\"')\n",
    "# Посчитаем количество заведений для каждого вида сетевого объекта общественного питания\n",
    "rest_group_object = rest_group.groupby('object_type')['id'].count().reset_index().sort_values(by = 'id', ascending = False)\n",
    "sns.barplot(x='object_type', y='id', data=rest_group_object)\n",
    "plt.xticks(rotation=75)\n",
    "plt.xlabel('объекты питания')\n",
    "plt.ylabel('количество объектов питания в сети')\n",
    "plt.title('Cоотношение видов сетевых объектов общественного питания по количеству')"
   ]
  },
  {
   "cell_type": "markdown",
   "metadata": {},
   "source": [
    "Вывод: среди сетевых заведений больше всего кафе, меньше всего -столовых."
   ]
  },
  {
   "cell_type": "code",
   "execution_count": 13,
   "metadata": {},
   "outputs": [
    {
     "data": {
      "text/plain": [
       "Text(0.5, 1.0, 'Cоотношение видов сетевых объектов общественного питания по количеству')"
      ]
     },
     "execution_count": 13,
     "metadata": {},
     "output_type": "execute_result"
    },
    {
     "data": {
      "image/png": "[encoded data removed]",
      "text/plain": [
       "<Figure size 432x288 with 1 Axes>"
      ]
     },
     "metadata": {
      "needs_background": "light"
     },
     "output_type": "display_data"
    }
   ],
   "source": [
    "sns.barplot(\n",
    "           x='object_type',\n",
    "            y='id',\n",
    "            hue='chain',\n",
    "            data=data\n",
    ")\n",
    "plt.xticks(rotation=75)\n",
    "plt.xlabel('объекты питания')\n",
    "plt.ylabel('количество объектов питания в сети')\n",
    "plt.title('Cоотношение видов сетевых объектов общественного питания по количеству')"
   ]
  },
  {
   "cell_type": "markdown",
   "metadata": {},
   "source": [
    "Вывод: для кафе, закусочных, предприятий быстрого обслуживания, ресторанов, баров сетевое распространение не характерно. Сетевые заведения чаще встречаются среди, столовых, кафетерий, буфетов, для отделов кулинарии одинаково характерны и сетевые, и несетевые заведения."
   ]
  },
  {
   "cell_type": "code",
   "execution_count": 14,
   "metadata": {},
   "outputs": [
    {
     "data": {
      "text/html": [
       "<div>\n",
       "<style scoped>\n",
       "    .dataframe tbody tr th:only-of-type {\n",
       "        vertical-align: middle;\n",
       "    }\n",
       "\n",
       "    .dataframe tbody tr th {\n",
       "        vertical-align: top;\n",
       "    }\n",
       "\n",
       "    .dataframe thead th {\n",
       "        text-align: right;\n",
       "    }\n",
       "</style>\n",
       "<table border=\"1\" class=\"dataframe\">\n",
       "  <thead>\n",
       "    <tr style=\"text-align: right;\">\n",
       "      <th></th>\n",
       "      <th>id</th>\n",
       "      <th>number</th>\n",
       "    </tr>\n",
       "    <tr>\n",
       "      <th>object_name_new</th>\n",
       "      <th></th>\n",
       "      <th></th>\n",
       "    </tr>\n",
       "  </thead>\n",
       "  <tbody>\n",
       "    <tr>\n",
       "      <th>Costa coffee</th>\n",
       "      <td>2</td>\n",
       "      <td>20.500000</td>\n",
       "    </tr>\n",
       "    <tr>\n",
       "      <th>Florentini</th>\n",
       "      <td>1</td>\n",
       "      <td>95.000000</td>\n",
       "    </tr>\n",
       "    <tr>\n",
       "      <th>KFC</th>\n",
       "      <td>15</td>\n",
       "      <td>52.266667</td>\n",
       "    </tr>\n",
       "    <tr>\n",
       "      <th>PRIME Прайм стар</th>\n",
       "      <td>2</td>\n",
       "      <td>22.500000</td>\n",
       "    </tr>\n",
       "    <tr>\n",
       "      <th>Prime (Прайм стар)</th>\n",
       "      <td>1</td>\n",
       "      <td>2.000000</td>\n",
       "    </tr>\n",
       "    <tr>\n",
       "      <th>...</th>\n",
       "      <td>...</td>\n",
       "      <td>...</td>\n",
       "    </tr>\n",
       "    <tr>\n",
       "      <th>Якитория</th>\n",
       "      <td>38</td>\n",
       "      <td>117.157895</td>\n",
       "    </tr>\n",
       "    <tr>\n",
       "      <th>Якитория и Ян Примус</th>\n",
       "      <td>1</td>\n",
       "      <td>282.000000</td>\n",
       "    </tr>\n",
       "    <tr>\n",
       "      <th>Ян Примус</th>\n",
       "      <td>1</td>\n",
       "      <td>300.000000</td>\n",
       "    </tr>\n",
       "    <tr>\n",
       "      <th>Японский  Ваби-Саби</th>\n",
       "      <td>1</td>\n",
       "      <td>155.000000</td>\n",
       "    </tr>\n",
       "    <tr>\n",
       "      <th>Япоша</th>\n",
       "      <td>1</td>\n",
       "      <td>60.000000</td>\n",
       "    </tr>\n",
       "  </tbody>\n",
       "</table>\n",
       "<p>657 rows × 2 columns</p>\n",
       "</div>"
      ],
      "text/plain": [
       "                      id      number\n",
       "object_name_new                     \n",
       " Costa coffee          2   20.500000\n",
       " Florentini            1   95.000000\n",
       " KFC                  15   52.266667\n",
       " PRIME Прайм стар      2   22.500000\n",
       " Prime (Прайм стар)    1    2.000000\n",
       "...                   ..         ...\n",
       "Якитория              38  117.157895\n",
       "Якитория и Ян Примус   1  282.000000\n",
       "Ян Примус              1  300.000000\n",
       "Японский  Ваби-Саби    1  155.000000\n",
       "Япоша                  1   60.000000\n",
       "\n",
       "[657 rows x 2 columns]"
      ]
     },
     "metadata": {},
     "output_type": "display_data"
    }
   ],
   "source": [
    "# Посчитаем для каждой сети число заведений и среднее число посадочних мест в ее заведениях\n",
    "rest_group = rest_group.groupby('object_name_new').agg({'id' : 'count', 'number' : 'mean'})\n",
    "display(rest_group)\n"
   ]
  },
  {
   "cell_type": "code",
   "execution_count": 15,
   "metadata": {},
   "outputs": [
    {
     "data": {
      "text/html": [
       "<div>\n",
       "<style scoped>\n",
       "    .dataframe tbody tr th:only-of-type {\n",
       "        vertical-align: middle;\n",
       "    }\n",
       "\n",
       "    .dataframe tbody tr th {\n",
       "        vertical-align: top;\n",
       "    }\n",
       "\n",
       "    .dataframe thead th {\n",
       "        text-align: right;\n",
       "    }\n",
       "</style>\n",
       "<table border=\"1\" class=\"dataframe\">\n",
       "  <thead>\n",
       "    <tr style=\"text-align: right;\">\n",
       "      <th></th>\n",
       "      <th>id</th>\n",
       "      <th>number</th>\n",
       "    </tr>\n",
       "    <tr>\n",
       "      <th>object_name_new</th>\n",
       "      <th></th>\n",
       "      <th></th>\n",
       "    </tr>\n",
       "  </thead>\n",
       "  <tbody>\n",
       "    <tr>\n",
       "      <th>Costa coffee</th>\n",
       "      <td>2</td>\n",
       "      <td>20.500000</td>\n",
       "    </tr>\n",
       "    <tr>\n",
       "      <th>KFC</th>\n",
       "      <td>15</td>\n",
       "      <td>52.266667</td>\n",
       "    </tr>\n",
       "    <tr>\n",
       "      <th>PRIME Прайм стар</th>\n",
       "      <td>2</td>\n",
       "      <td>22.500000</td>\n",
       "    </tr>\n",
       "    <tr>\n",
       "      <th>Starbucks</th>\n",
       "      <td>2</td>\n",
       "      <td>29.500000</td>\n",
       "    </tr>\n",
       "    <tr>\n",
       "      <th>Subway</th>\n",
       "      <td>2</td>\n",
       "      <td>39.000000</td>\n",
       "    </tr>\n",
       "    <tr>\n",
       "      <th>...</th>\n",
       "      <td>...</td>\n",
       "      <td>...</td>\n",
       "    </tr>\n",
       "    <tr>\n",
       "      <th>Чебуречная СССР</th>\n",
       "      <td>6</td>\n",
       "      <td>45.666667</td>\n",
       "    </tr>\n",
       "    <tr>\n",
       "      <th>Шантимель</th>\n",
       "      <td>5</td>\n",
       "      <td>19.600000</td>\n",
       "    </tr>\n",
       "    <tr>\n",
       "      <th>Шоколадница</th>\n",
       "      <td>157</td>\n",
       "      <td>57.184713</td>\n",
       "    </tr>\n",
       "    <tr>\n",
       "      <th>Штолле</th>\n",
       "      <td>12</td>\n",
       "      <td>31.416667</td>\n",
       "    </tr>\n",
       "    <tr>\n",
       "      <th>Якитория</th>\n",
       "      <td>38</td>\n",
       "      <td>117.157895</td>\n",
       "    </tr>\n",
       "  </tbody>\n",
       "</table>\n",
       "<p>274 rows × 2 columns</p>\n",
       "</div>"
      ],
      "text/plain": [
       "                    id      number\n",
       "object_name_new                   \n",
       " Costa coffee        2   20.500000\n",
       " KFC                15   52.266667\n",
       " PRIME Прайм стар    2   22.500000\n",
       " Starbucks           2   29.500000\n",
       " Subway              2   39.000000\n",
       "...                ...         ...\n",
       "Чебуречная СССР      6   45.666667\n",
       "Шантимель            5   19.600000\n",
       "Шоколадница        157   57.184713\n",
       "Штолле              12   31.416667\n",
       "Якитория            38  117.157895\n",
       "\n",
       "[274 rows x 2 columns]"
      ]
     },
     "metadata": {},
     "output_type": "display_data"
    }
   ],
   "source": [
    "# Отсортируем те заведения, у которых в сети по 1 ресторану (что странно для сети)\n",
    "rest_group = rest_group[rest_group['id'] > 1]\n",
    "display(rest_group)"
   ]
  },
  {
   "cell_type": "code",
   "execution_count": 16,
   "metadata": {},
   "outputs": [
    {
     "data": {
      "text/plain": [
       "44.79153005464481"
      ]
     },
     "metadata": {},
     "output_type": "display_data"
    }
   ],
   "source": [
    "# Найдем медиану по посадочным местам для дальнейших расчетов\n",
    "display(rest_group['number'].median())"
   ]
  },
  {
   "cell_type": "code",
   "execution_count": 17,
   "metadata": {},
   "outputs": [],
   "source": [
    "# Будем считать, что много заведений - это более 5 в сети\n",
    "rest_group['rest_num_group'] = 'Мало заведений'\n",
    "rest_group.loc[rest_group['id'] > 5, 'rest_num_group'] = 'Много заведений'"
   ]
  },
  {
   "cell_type": "code",
   "execution_count": 18,
   "metadata": {},
   "outputs": [],
   "source": [
    "# Будем считать, что много посадочных мест - это больше медианы\n",
    "rest_group['seat_num_group'] = 'Мало посадочных мест'\n",
    "rest_group.loc[rest_group['number'] > 45, 'seat_num_group'] = 'Много посадочных мест'"
   ]
  },
  {
   "cell_type": "code",
   "execution_count": 19,
   "metadata": {},
   "outputs": [],
   "source": [
    "# Cоздадим группы по признакам мало/много заведений и мало/много посадочных мест\n",
    "rest_group['Группа'] = rest_group['rest_num_group'].astype('str') + ' - ' + rest_group['seat_num_group'].astype('str')"
   ]
  },
  {
   "cell_type": "code",
   "execution_count": 20,
   "metadata": {},
   "outputs": [
    {
     "data": {
      "text/html": [
       "<div>\n",
       "<style scoped>\n",
       "    .dataframe tbody tr th:only-of-type {\n",
       "        vertical-align: middle;\n",
       "    }\n",
       "\n",
       "    .dataframe tbody tr th {\n",
       "        vertical-align: top;\n",
       "    }\n",
       "\n",
       "    .dataframe thead th {\n",
       "        text-align: right;\n",
       "    }\n",
       "</style>\n",
       "<table border=\"1\" class=\"dataframe\">\n",
       "  <thead>\n",
       "    <tr style=\"text-align: right;\">\n",
       "      <th></th>\n",
       "      <th>Число сетей</th>\n",
       "      <th>Медианное число заведений</th>\n",
       "      <th>Медианное число посадочных мест</th>\n",
       "    </tr>\n",
       "    <tr>\n",
       "      <th>Группа</th>\n",
       "      <th></th>\n",
       "      <th></th>\n",
       "      <th></th>\n",
       "    </tr>\n",
       "  </thead>\n",
       "  <tbody>\n",
       "    <tr>\n",
       "      <th>Мало заведений - Мало посадочных мест</th>\n",
       "      <td>91</td>\n",
       "      <td>2</td>\n",
       "      <td>19.600000</td>\n",
       "    </tr>\n",
       "    <tr>\n",
       "      <th>Мало заведений - Много посадочных мест</th>\n",
       "      <td>95</td>\n",
       "      <td>3</td>\n",
       "      <td>83.500000</td>\n",
       "    </tr>\n",
       "    <tr>\n",
       "      <th>Много заведений - Мало посадочных мест</th>\n",
       "      <td>46</td>\n",
       "      <td>12</td>\n",
       "      <td>20.915441</td>\n",
       "    </tr>\n",
       "    <tr>\n",
       "      <th>Много заведений - Много посадочных мест</th>\n",
       "      <td>42</td>\n",
       "      <td>10</td>\n",
       "      <td>83.309524</td>\n",
       "    </tr>\n",
       "  </tbody>\n",
       "</table>\n",
       "</div>"
      ],
      "text/plain": [
       "                                         Число сетей  \\\n",
       "Группа                                                 \n",
       "Мало заведений - Мало посадочных мест             91   \n",
       "Мало заведений - Много посадочных мест            95   \n",
       "Много заведений - Мало посадочных мест            46   \n",
       "Много заведений - Много посадочных мест           42   \n",
       "\n",
       "                                         Медианное число заведений  \\\n",
       "Группа                                                               \n",
       "Мало заведений - Мало посадочных мест                            2   \n",
       "Мало заведений - Много посадочных мест                           3   \n",
       "Много заведений - Мало посадочных мест                          12   \n",
       "Много заведений - Много посадочных мест                         10   \n",
       "\n",
       "                                         Медианное число посадочных мест  \n",
       "Группа                                                                    \n",
       "Мало заведений - Мало посадочных мест                          19.600000  \n",
       "Мало заведений - Много посадочных мест                         83.500000  \n",
       "Много заведений - Мало посадочных мест                         20.915441  \n",
       "Много заведений - Много посадочных мест                        83.309524  "
      ]
     },
     "execution_count": 20,
     "metadata": {},
     "output_type": "execute_result"
    },
    {
     "data": {
      "image/png": "[encoded data removed]",
      "text/plain": [
       "<Figure size 432x288 with 1 Axes>"
      ]
     },
     "metadata": {
      "needs_background": "light"
     },
     "output_type": "display_data"
    }
   ],
   "source": [
    "sns.scatterplot(data = rest_group, x = 'id', y = 'number', hue = 'Группа')\n",
    "plt.xlabel('Число заведений'), plt.ylabel('Среднее число посадочных мест')\n",
    "rest_group.reset_index().groupby('Группа').agg({'object_name_new': 'nunique', 'id': 'median', 'number': 'median'})\\\n",
    "                                          .rename(columns = {'object_name_new': 'Число сетей',\n",
    "                                                             'id': 'Медианное число заведений',\n",
    "                                                             'number': 'Медианное число посадочных мест'})"
   ]
  },
  {
   "cell_type": "markdown",
   "metadata": {},
   "source": [
    "Вывод: Для сетевых заведений больше характерно мало заведений с большим количеством посадочных мест."
   ]
  },
  {
   "cell_type": "code",
   "execution_count": 21,
   "metadata": {
    "scrolled": true
   },
   "outputs": [
    {
     "data": {
      "text/plain": [
       "object_type\n",
       "бар                                   43.533333\n",
       "буфет                                 51.509532\n",
       "закусочная                             7.825215\n",
       "кафе                                  39.785703\n",
       "кафетерий                              9.184810\n",
       "магазин (отдел кулинарии)              5.589744\n",
       "предприятие быстрого обслуживания     20.808219\n",
       "ресторан                              96.884750\n",
       "столовая                             130.337848\n",
       "Name: number, dtype: float64"
      ]
     },
     "metadata": {},
     "output_type": "display_data"
    },
    {
     "data": {
      "text/plain": [
       "<AxesSubplot:xlabel='object_type'>"
      ]
     },
     "execution_count": 21,
     "metadata": {},
     "output_type": "execute_result"
    },
    {
     "data": {
      "image/png": "[encoded data removed]",
      "text/plain": [
       "<Figure size 720x360 with 1 Axes>"
      ]
     },
     "metadata": {
      "needs_background": "light"
     },
     "output_type": "display_data"
    }
   ],
   "source": [
    "# Найдем среднее количество посадочных мест для каждого вида объекта общественного питания \n",
    "numbers = data.groupby('object_type')['number'].mean()\n",
    "display(numbers)\n",
    "numbers.plot(kind='bar', rot=75, figsize=(10,5))"
   ]
  },
  {
   "cell_type": "markdown",
   "metadata": {},
   "source": [
    "Вывод: в среднем, больше всего посадочных мест в столовых. Меньше всего - в отделах кулинарии, закусочных, кафетериях."
   ]
  },
  {
   "cell_type": "code",
   "execution_count": 22,
   "metadata": {},
   "outputs": [
    {
     "data": {
      "text/html": [
       "<div>\n",
       "<style scoped>\n",
       "    .dataframe tbody tr th:only-of-type {\n",
       "        vertical-align: middle;\n",
       "    }\n",
       "\n",
       "    .dataframe tbody tr th {\n",
       "        vertical-align: top;\n",
       "    }\n",
       "\n",
       "    .dataframe thead th {\n",
       "        text-align: right;\n",
       "    }\n",
       "</style>\n",
       "<table border=\"1\" class=\"dataframe\">\n",
       "  <thead>\n",
       "    <tr style=\"text-align: right;\">\n",
       "      <th></th>\n",
       "      <th>index</th>\n",
       "      <th>id</th>\n",
       "      <th>object_name</th>\n",
       "      <th>chain</th>\n",
       "      <th>object_type</th>\n",
       "      <th>address</th>\n",
       "      <th>number</th>\n",
       "      <th>object_name_new</th>\n",
       "      <th>streetname</th>\n",
       "    </tr>\n",
       "  </thead>\n",
       "  <tbody>\n",
       "    <tr>\n",
       "      <th>15279</th>\n",
       "      <td>15361</td>\n",
       "      <td>208537</td>\n",
       "      <td>Шоколадница</td>\n",
       "      <td>да</td>\n",
       "      <td>кафе</td>\n",
       "      <td>город Москва, 3-й Крутицкий переулок, дом 18</td>\n",
       "      <td>50</td>\n",
       "      <td>Шоколадница</td>\n",
       "      <td>3-й Крутицкий переулок</td>\n",
       "    </tr>\n",
       "    <tr>\n",
       "      <th>15280</th>\n",
       "      <td>15362</td>\n",
       "      <td>209264</td>\n",
       "      <td>Шоколадница</td>\n",
       "      <td>да</td>\n",
       "      <td>кафе</td>\n",
       "      <td>город Москва, улица Земляной Вал, дом 33</td>\n",
       "      <td>10</td>\n",
       "      <td>Шоколадница</td>\n",
       "      <td>улица Земляной Вал</td>\n",
       "    </tr>\n",
       "    <tr>\n",
       "      <th>15281</th>\n",
       "      <td>15363</td>\n",
       "      <td>209186</td>\n",
       "      <td>Шоколадница</td>\n",
       "      <td>да</td>\n",
       "      <td>кафе</td>\n",
       "      <td>город Москва, улица Земляной Вал, дом 33</td>\n",
       "      <td>20</td>\n",
       "      <td>Шоколадница</td>\n",
       "      <td>улица Земляной Вал</td>\n",
       "    </tr>\n",
       "    <tr>\n",
       "      <th>15282</th>\n",
       "      <td>15364</td>\n",
       "      <td>221900</td>\n",
       "      <td>Шоколадница</td>\n",
       "      <td>да</td>\n",
       "      <td>кафе</td>\n",
       "      <td>город Москва, поселение Московский, Киевское ш...</td>\n",
       "      <td>36</td>\n",
       "      <td>Шоколадница</td>\n",
       "      <td>поселение Московский</td>\n",
       "    </tr>\n",
       "    <tr>\n",
       "      <th>15283</th>\n",
       "      <td>15365</td>\n",
       "      <td>222535</td>\n",
       "      <td>Шоколадница</td>\n",
       "      <td>да</td>\n",
       "      <td>кафе</td>\n",
       "      <td>город Москва, Ходынский бульвар, дом 4</td>\n",
       "      <td>10</td>\n",
       "      <td>Шоколадница</td>\n",
       "      <td>Ходынский бульвар</td>\n",
       "    </tr>\n",
       "  </tbody>\n",
       "</table>\n",
       "</div>"
      ],
      "text/plain": [
       "       index      id  object_name chain object_type  \\\n",
       "15279  15361  208537  Шоколадница    да        кафе   \n",
       "15280  15362  209264  Шоколадница    да        кафе   \n",
       "15281  15363  209186  Шоколадница    да        кафе   \n",
       "15282  15364  221900  Шоколадница    да        кафе   \n",
       "15283  15365  222535  Шоколадница    да        кафе   \n",
       "\n",
       "                                                 address  number  \\\n",
       "15279       город Москва, 3-й Крутицкий переулок, дом 18      50   \n",
       "15280           город Москва, улица Земляной Вал, дом 33      10   \n",
       "15281           город Москва, улица Земляной Вал, дом 33      20   \n",
       "15282  город Москва, поселение Московский, Киевское ш...      36   \n",
       "15283             город Москва, Ходынский бульвар, дом 4      10   \n",
       "\n",
       "      object_name_new              streetname  \n",
       "15279     Шоколадница  3-й Крутицкий переулок  \n",
       "15280     Шоколадница      улица Земляной Вал  \n",
       "15281     Шоколадница      улица Земляной Вал  \n",
       "15282     Шоколадница    поселение Московский  \n",
       "15283     Шоколадница       Ходынский бульвар  "
      ]
     },
     "metadata": {},
     "output_type": "display_data"
    }
   ],
   "source": [
    "# Выделим в отдельный столбец информацию об улице из столбца address\n",
    "def get_streetname(cell):\n",
    "  for part in cell.split(','):\n",
    "    for s_type in ['улица', 'шоссе', 'переулок','проспект', 'бульвар', 'площадь']:\n",
    "        if s_type in part: return part\n",
    "    return cell.split(',')[1]\n",
    "data['streetname'] = data['address'].apply(get_streetname)\n",
    "data['streetname'] = data['streetname'].str.strip()\n",
    "display(data.tail())"
   ]
  },
  {
   "cell_type": "code",
   "execution_count": 23,
   "metadata": {
    "scrolled": true
   },
   "outputs": [
    {
     "data": {
      "text/html": [
       "<div>\n",
       "<style scoped>\n",
       "    .dataframe tbody tr th:only-of-type {\n",
       "        vertical-align: middle;\n",
       "    }\n",
       "\n",
       "    .dataframe tbody tr th {\n",
       "        vertical-align: top;\n",
       "    }\n",
       "\n",
       "    .dataframe thead th {\n",
       "        text-align: right;\n",
       "    }\n",
       "</style>\n",
       "<table border=\"1\" class=\"dataframe\">\n",
       "  <thead>\n",
       "    <tr style=\"text-align: right;\">\n",
       "      <th></th>\n",
       "      <th>streetname</th>\n",
       "      <th>object_name_new</th>\n",
       "    </tr>\n",
       "  </thead>\n",
       "  <tbody>\n",
       "    <tr>\n",
       "      <th>1417</th>\n",
       "      <td>проспект Мира</td>\n",
       "      <td>204</td>\n",
       "    </tr>\n",
       "    <tr>\n",
       "      <th>995</th>\n",
       "      <td>Профсоюзная улица</td>\n",
       "      <td>182</td>\n",
       "    </tr>\n",
       "    <tr>\n",
       "      <th>684</th>\n",
       "      <td>Ленинградский проспект</td>\n",
       "      <td>172</td>\n",
       "    </tr>\n",
       "    <tr>\n",
       "      <th>981</th>\n",
       "      <td>Пресненская набережная</td>\n",
       "      <td>167</td>\n",
       "    </tr>\n",
       "    <tr>\n",
       "      <th>407</th>\n",
       "      <td>Варшавское шоссе</td>\n",
       "      <td>162</td>\n",
       "    </tr>\n",
       "    <tr>\n",
       "      <th>687</th>\n",
       "      <td>Ленинский проспект</td>\n",
       "      <td>148</td>\n",
       "    </tr>\n",
       "    <tr>\n",
       "      <th>1384</th>\n",
       "      <td>поселение Сосенское</td>\n",
       "      <td>137</td>\n",
       "    </tr>\n",
       "    <tr>\n",
       "      <th>1414</th>\n",
       "      <td>проспект Вернадского</td>\n",
       "      <td>128</td>\n",
       "    </tr>\n",
       "    <tr>\n",
       "      <th>675</th>\n",
       "      <td>Кутузовский проспект</td>\n",
       "      <td>114</td>\n",
       "    </tr>\n",
       "  </tbody>\n",
       "</table>\n",
       "</div>"
      ],
      "text/plain": [
       "                  streetname  object_name_new\n",
       "1417           проспект Мира              204\n",
       "995        Профсоюзная улица              182\n",
       "684   Ленинградский проспект              172\n",
       "981   Пресненская набережная              167\n",
       "407         Варшавское шоссе              162\n",
       "687       Ленинский проспект              148\n",
       "1384     поселение Сосенское              137\n",
       "1414    проспект Вернадского              128\n",
       "675     Кутузовский проспект              114"
      ]
     },
     "metadata": {},
     "output_type": "display_data"
    }
   ],
   "source": [
    "# Найдем топ-10 улиц по количеству объектов общественного питания\n",
    "top_10 = data.groupby('streetname')['object_name_new'].count().reset_index().sort_values(by = 'object_name_new', ascending = False).head(10)\n",
    "top_10 = top_10.query('streetname != \"город Зеленоград\"')\n",
    "display(top_10)"
   ]
  },
  {
   "cell_type": "code",
   "execution_count": 24,
   "metadata": {},
   "outputs": [
    {
     "data": {
      "text/plain": [
       "Text(0.5, 1.0, 'Топ-10 улиц по количеству объектов общественного питания')"
      ]
     },
     "execution_count": 24,
     "metadata": {},
     "output_type": "execute_result"
    },
    {
     "data": {
      "image/png": "[encoded data removed]",
      "text/plain": [
       "<Figure size 432x288 with 1 Axes>"
      ]
     },
     "metadata": {
      "needs_background": "light"
     },
     "output_type": "display_data"
    }
   ],
   "source": [
    "# Построим диаграмму топ-10 улиц по количеству объектов общественного питания.\n",
    "sns.barplot(\n",
    "           x='streetname',\n",
    "            y='object_name_new',\n",
    "            data=top_10\n",
    ")\n",
    "plt.xticks(rotation=75)\n",
    "plt.xlabel('улицы')\n",
    "plt.ylabel('количество объектов питания')\n",
    "plt.title('Топ-10 улиц по количеству объектов общественного питания')"
   ]
  },
  {
   "cell_type": "markdown",
   "metadata": {},
   "source": [
    "Вывод: в топ-10 улиц по количеству объектов общественного питания входят: проспект Мира, Профсоюзная улица, Ленинградский проспект, Пресненская набережная, Варшавское шоссе, Ленинский проспект, поселение Сосенское, проспект Вернадского\tи Кутузовский проспект."
   ]
  },
  {
   "cell_type": "code",
   "execution_count": 25,
   "metadata": {},
   "outputs": [
    {
     "data": {
      "text/html": [
       "<div>\n",
       "<style scoped>\n",
       "    .dataframe tbody tr th:only-of-type {\n",
       "        vertical-align: middle;\n",
       "    }\n",
       "\n",
       "    .dataframe tbody tr th {\n",
       "        vertical-align: top;\n",
       "    }\n",
       "\n",
       "    .dataframe thead th {\n",
       "        text-align: right;\n",
       "    }\n",
       "</style>\n",
       "<table border=\"1\" class=\"dataframe\">\n",
       "  <thead>\n",
       "    <tr style=\"text-align: right;\">\n",
       "      <th></th>\n",
       "      <th>streetname</th>\n",
       "      <th>areaid</th>\n",
       "      <th>okrug</th>\n",
       "      <th>area</th>\n",
       "    </tr>\n",
       "  </thead>\n",
       "  <tbody>\n",
       "    <tr>\n",
       "      <th>0</th>\n",
       "      <td>Выставочный переулок</td>\n",
       "      <td>17</td>\n",
       "      <td>ЦАО</td>\n",
       "      <td>Пресненский район</td>\n",
       "    </tr>\n",
       "    <tr>\n",
       "      <th>1</th>\n",
       "      <td>улица Гашека</td>\n",
       "      <td>17</td>\n",
       "      <td>ЦАО</td>\n",
       "      <td>Пресненский район</td>\n",
       "    </tr>\n",
       "    <tr>\n",
       "      <th>2</th>\n",
       "      <td>Большая Никитская улица</td>\n",
       "      <td>17</td>\n",
       "      <td>ЦАО</td>\n",
       "      <td>Пресненский район</td>\n",
       "    </tr>\n",
       "    <tr>\n",
       "      <th>3</th>\n",
       "      <td>Глубокий переулок</td>\n",
       "      <td>17</td>\n",
       "      <td>ЦАО</td>\n",
       "      <td>Пресненский район</td>\n",
       "    </tr>\n",
       "    <tr>\n",
       "      <th>4</th>\n",
       "      <td>Большой Гнездниковский переулок</td>\n",
       "      <td>17</td>\n",
       "      <td>ЦАО</td>\n",
       "      <td>Пресненский район</td>\n",
       "    </tr>\n",
       "    <tr>\n",
       "      <th>...</th>\n",
       "      <td>...</td>\n",
       "      <td>...</td>\n",
       "      <td>...</td>\n",
       "      <td>...</td>\n",
       "    </tr>\n",
       "    <tr>\n",
       "      <th>4393</th>\n",
       "      <td>Вознесенский проезд</td>\n",
       "      <td>17</td>\n",
       "      <td>ЦАО</td>\n",
       "      <td>Пресненский район</td>\n",
       "    </tr>\n",
       "    <tr>\n",
       "      <th>4394</th>\n",
       "      <td>Волков переулок</td>\n",
       "      <td>17</td>\n",
       "      <td>ЦАО</td>\n",
       "      <td>Пресненский район</td>\n",
       "    </tr>\n",
       "    <tr>\n",
       "      <th>4395</th>\n",
       "      <td>Поварская улица</td>\n",
       "      <td>17</td>\n",
       "      <td>ЦАО</td>\n",
       "      <td>Пресненский район</td>\n",
       "    </tr>\n",
       "    <tr>\n",
       "      <th>4396</th>\n",
       "      <td>Кудринская площадь</td>\n",
       "      <td>17</td>\n",
       "      <td>ЦАО</td>\n",
       "      <td>Пресненский район</td>\n",
       "    </tr>\n",
       "    <tr>\n",
       "      <th>4397</th>\n",
       "      <td>Вспольный переулок</td>\n",
       "      <td>17</td>\n",
       "      <td>ЦАО</td>\n",
       "      <td>Пресненский район</td>\n",
       "    </tr>\n",
       "  </tbody>\n",
       "</table>\n",
       "<p>4398 rows × 4 columns</p>\n",
       "</div>"
      ],
      "text/plain": [
       "                           streetname  areaid okrug               area\n",
       "0                Выставочный переулок      17   ЦАО  Пресненский район\n",
       "1                        улица Гашека      17   ЦАО  Пресненский район\n",
       "2             Большая Никитская улица      17   ЦАО  Пресненский район\n",
       "3                   Глубокий переулок      17   ЦАО  Пресненский район\n",
       "4     Большой Гнездниковский переулок      17   ЦАО  Пресненский район\n",
       "...                               ...     ...   ...                ...\n",
       "4393              Вознесенский проезд      17   ЦАО  Пресненский район\n",
       "4394                  Волков переулок      17   ЦАО  Пресненский район\n",
       "4395                  Поварская улица      17   ЦАО  Пресненский район\n",
       "4396               Кудринская площадь      17   ЦАО  Пресненский район\n",
       "4397               Вспольный переулок      17   ЦАО  Пресненский район\n",
       "\n",
       "[4398 rows x 4 columns]"
      ]
     },
     "execution_count": 25,
     "metadata": {},
     "output_type": "execute_result"
    }
   ],
   "source": [
    "# Встроим сторонний файл с данными улиц и районов в проект\n",
    "spreadsheet_id = '15lzoJi1E_MO1yTHcjXBjrwx1mJWfSrUht6aZc36h52E'\n",
    "file_name = 'https://docs.google.com/spreadsheets/d/{}/export?format=csv'.format(spreadsheet_id)\n",
    "r = requests.get(file_name)\n",
    "df = pd.read_csv(BytesIO(r.content))\n",
    "df "
   ]
  },
  {
   "cell_type": "code",
   "execution_count": 26,
   "metadata": {
    "scrolled": true
   },
   "outputs": [
    {
     "data": {
      "text/html": [
       "<div>\n",
       "<style scoped>\n",
       "    .dataframe tbody tr th:only-of-type {\n",
       "        vertical-align: middle;\n",
       "    }\n",
       "\n",
       "    .dataframe tbody tr th {\n",
       "        vertical-align: top;\n",
       "    }\n",
       "\n",
       "    .dataframe thead th {\n",
       "        text-align: right;\n",
       "    }\n",
       "</style>\n",
       "<table border=\"1\" class=\"dataframe\">\n",
       "  <thead>\n",
       "    <tr style=\"text-align: right;\">\n",
       "      <th></th>\n",
       "      <th>streetname</th>\n",
       "      <th>object_name_new</th>\n",
       "      <th>areaid</th>\n",
       "      <th>okrug</th>\n",
       "      <th>area</th>\n",
       "    </tr>\n",
       "  </thead>\n",
       "  <tbody>\n",
       "    <tr>\n",
       "      <th>0</th>\n",
       "      <td>проспект Мира</td>\n",
       "      <td>204</td>\n",
       "      <td>70.0</td>\n",
       "      <td>СВАО</td>\n",
       "      <td>Алексеевский район</td>\n",
       "    </tr>\n",
       "    <tr>\n",
       "      <th>1</th>\n",
       "      <td>проспект Мира</td>\n",
       "      <td>204</td>\n",
       "      <td>86.0</td>\n",
       "      <td>СВАО</td>\n",
       "      <td>Ярославский Район</td>\n",
       "    </tr>\n",
       "    <tr>\n",
       "      <th>2</th>\n",
       "      <td>проспект Мира</td>\n",
       "      <td>204</td>\n",
       "      <td>78.0</td>\n",
       "      <td>СВАО</td>\n",
       "      <td>Район Марьина роща</td>\n",
       "    </tr>\n",
       "    <tr>\n",
       "      <th>3</th>\n",
       "      <td>проспект Мира</td>\n",
       "      <td>204</td>\n",
       "      <td>79.0</td>\n",
       "      <td>СВАО</td>\n",
       "      <td>Останкинский район</td>\n",
       "    </tr>\n",
       "    <tr>\n",
       "      <th>4</th>\n",
       "      <td>проспект Мира</td>\n",
       "      <td>204</td>\n",
       "      <td>81.0</td>\n",
       "      <td>СВАО</td>\n",
       "      <td>Район Ростокино</td>\n",
       "    </tr>\n",
       "    <tr>\n",
       "      <th>5</th>\n",
       "      <td>проспект Мира</td>\n",
       "      <td>204</td>\n",
       "      <td>82.0</td>\n",
       "      <td>СВАО</td>\n",
       "      <td>Район Свиблово</td>\n",
       "    </tr>\n",
       "    <tr>\n",
       "      <th>6</th>\n",
       "      <td>проспект Мира</td>\n",
       "      <td>204</td>\n",
       "      <td>16.0</td>\n",
       "      <td>ЦАО</td>\n",
       "      <td>Мещанский район</td>\n",
       "    </tr>\n",
       "    <tr>\n",
       "      <th>7</th>\n",
       "      <td>Профсоюзная улица</td>\n",
       "      <td>182</td>\n",
       "      <td>123.0</td>\n",
       "      <td>ЮЗАО</td>\n",
       "      <td>Академический район</td>\n",
       "    </tr>\n",
       "    <tr>\n",
       "      <th>8</th>\n",
       "      <td>Профсоюзная улица</td>\n",
       "      <td>182</td>\n",
       "      <td>132.0</td>\n",
       "      <td>ЮЗАО</td>\n",
       "      <td>Район Черемушки</td>\n",
       "    </tr>\n",
       "    <tr>\n",
       "      <th>9</th>\n",
       "      <td>Профсоюзная улица</td>\n",
       "      <td>182</td>\n",
       "      <td>134.0</td>\n",
       "      <td>ЮЗАО</td>\n",
       "      <td>Район Ясенево</td>\n",
       "    </tr>\n",
       "    <tr>\n",
       "      <th>10</th>\n",
       "      <td>Профсоюзная улица</td>\n",
       "      <td>182</td>\n",
       "      <td>126.0</td>\n",
       "      <td>ЮЗАО</td>\n",
       "      <td>Район Коньково</td>\n",
       "    </tr>\n",
       "    <tr>\n",
       "      <th>11</th>\n",
       "      <td>Профсоюзная улица</td>\n",
       "      <td>182</td>\n",
       "      <td>129.0</td>\n",
       "      <td>ЮЗАО</td>\n",
       "      <td>Обручевский район</td>\n",
       "    </tr>\n",
       "    <tr>\n",
       "      <th>12</th>\n",
       "      <td>Профсоюзная улица</td>\n",
       "      <td>182</td>\n",
       "      <td>131.0</td>\n",
       "      <td>ЮЗАО</td>\n",
       "      <td>Район Теплый Стан</td>\n",
       "    </tr>\n",
       "    <tr>\n",
       "      <th>13</th>\n",
       "      <td>Ленинградский проспект</td>\n",
       "      <td>172</td>\n",
       "      <td>54.0</td>\n",
       "      <td>САО</td>\n",
       "      <td>Район Аэропорт</td>\n",
       "    </tr>\n",
       "    <tr>\n",
       "      <th>14</th>\n",
       "      <td>Ленинградский проспект</td>\n",
       "      <td>172</td>\n",
       "      <td>55.0</td>\n",
       "      <td>САО</td>\n",
       "      <td>Район Беговой</td>\n",
       "    </tr>\n",
       "    <tr>\n",
       "      <th>15</th>\n",
       "      <td>Ленинградский проспект</td>\n",
       "      <td>172</td>\n",
       "      <td>69.0</td>\n",
       "      <td>САО</td>\n",
       "      <td>Хорошевский район</td>\n",
       "    </tr>\n",
       "    <tr>\n",
       "      <th>16</th>\n",
       "      <td>Ленинградский проспект</td>\n",
       "      <td>172</td>\n",
       "      <td>66.0</td>\n",
       "      <td>САО</td>\n",
       "      <td>Район Сокол</td>\n",
       "    </tr>\n",
       "    <tr>\n",
       "      <th>17</th>\n",
       "      <td>Пресненская набережная</td>\n",
       "      <td>167</td>\n",
       "      <td>17.0</td>\n",
       "      <td>ЦАО</td>\n",
       "      <td>Пресненский район</td>\n",
       "    </tr>\n",
       "    <tr>\n",
       "      <th>18</th>\n",
       "      <td>Варшавское шоссе</td>\n",
       "      <td>162</td>\n",
       "      <td>109.0</td>\n",
       "      <td>ЮАО</td>\n",
       "      <td>Район Чертаново Центральное</td>\n",
       "    </tr>\n",
       "    <tr>\n",
       "      <th>19</th>\n",
       "      <td>Варшавское шоссе</td>\n",
       "      <td>162</td>\n",
       "      <td>108.0</td>\n",
       "      <td>ЮАО</td>\n",
       "      <td>Район Чертаново Северное</td>\n",
       "    </tr>\n",
       "    <tr>\n",
       "      <th>20</th>\n",
       "      <td>Варшавское шоссе</td>\n",
       "      <td>162</td>\n",
       "      <td>110.0</td>\n",
       "      <td>ЮАО</td>\n",
       "      <td>Район Чертаново Южное</td>\n",
       "    </tr>\n",
       "    <tr>\n",
       "      <th>21</th>\n",
       "      <td>Варшавское шоссе</td>\n",
       "      <td>162</td>\n",
       "      <td>99.0</td>\n",
       "      <td>ЮАО</td>\n",
       "      <td>Донской район</td>\n",
       "    </tr>\n",
       "    <tr>\n",
       "      <th>22</th>\n",
       "      <td>Варшавское шоссе</td>\n",
       "      <td>162</td>\n",
       "      <td>102.0</td>\n",
       "      <td>ЮАО</td>\n",
       "      <td>Район Нагатино-Садовники</td>\n",
       "    </tr>\n",
       "    <tr>\n",
       "      <th>23</th>\n",
       "      <td>Варшавское шоссе</td>\n",
       "      <td>162</td>\n",
       "      <td>104.0</td>\n",
       "      <td>ЮАО</td>\n",
       "      <td>Нагорный район</td>\n",
       "    </tr>\n",
       "    <tr>\n",
       "      <th>24</th>\n",
       "      <td>Варшавское шоссе</td>\n",
       "      <td>162</td>\n",
       "      <td>130.0</td>\n",
       "      <td>ЮЗАО</td>\n",
       "      <td>Район Северное Бутово</td>\n",
       "    </tr>\n",
       "    <tr>\n",
       "      <th>25</th>\n",
       "      <td>Варшавское шоссе</td>\n",
       "      <td>162</td>\n",
       "      <td>133.0</td>\n",
       "      <td>ЮЗАО</td>\n",
       "      <td>Район Южное Бутово</td>\n",
       "    </tr>\n",
       "    <tr>\n",
       "      <th>26</th>\n",
       "      <td>Ленинский проспект</td>\n",
       "      <td>148</td>\n",
       "      <td>44.0</td>\n",
       "      <td>ЗАО</td>\n",
       "      <td>Район Проспект Вернадского</td>\n",
       "    </tr>\n",
       "    <tr>\n",
       "      <th>27</th>\n",
       "      <td>Ленинский проспект</td>\n",
       "      <td>148</td>\n",
       "      <td>47.0</td>\n",
       "      <td>ЗАО</td>\n",
       "      <td>Район Тропарево-Никулино</td>\n",
       "    </tr>\n",
       "    <tr>\n",
       "      <th>28</th>\n",
       "      <td>Ленинский проспект</td>\n",
       "      <td>148</td>\n",
       "      <td>99.0</td>\n",
       "      <td>ЮАО</td>\n",
       "      <td>Донской район</td>\n",
       "    </tr>\n",
       "    <tr>\n",
       "      <th>29</th>\n",
       "      <td>Ленинский проспект</td>\n",
       "      <td>148</td>\n",
       "      <td>124.0</td>\n",
       "      <td>ЮЗАО</td>\n",
       "      <td>Район Гагаринский</td>\n",
       "    </tr>\n",
       "    <tr>\n",
       "      <th>30</th>\n",
       "      <td>Ленинский проспект</td>\n",
       "      <td>148</td>\n",
       "      <td>128.0</td>\n",
       "      <td>ЮЗАО</td>\n",
       "      <td>Ломоносовский район</td>\n",
       "    </tr>\n",
       "    <tr>\n",
       "      <th>31</th>\n",
       "      <td>Ленинский проспект</td>\n",
       "      <td>148</td>\n",
       "      <td>129.0</td>\n",
       "      <td>ЮЗАО</td>\n",
       "      <td>Обручевский район</td>\n",
       "    </tr>\n",
       "    <tr>\n",
       "      <th>32</th>\n",
       "      <td>Ленинский проспект</td>\n",
       "      <td>148</td>\n",
       "      <td>131.0</td>\n",
       "      <td>ЮЗАО</td>\n",
       "      <td>Район Теплый Стан</td>\n",
       "    </tr>\n",
       "    <tr>\n",
       "      <th>33</th>\n",
       "      <td>Ленинский проспект</td>\n",
       "      <td>148</td>\n",
       "      <td>21.0</td>\n",
       "      <td>ЦАО</td>\n",
       "      <td>Район Якиманка</td>\n",
       "    </tr>\n",
       "    <tr>\n",
       "      <th>34</th>\n",
       "      <td>поселение Сосенское</td>\n",
       "      <td>137</td>\n",
       "      <td>NaN</td>\n",
       "      <td>NaN</td>\n",
       "      <td>NaN</td>\n",
       "    </tr>\n",
       "    <tr>\n",
       "      <th>35</th>\n",
       "      <td>проспект Вернадского</td>\n",
       "      <td>128</td>\n",
       "      <td>44.0</td>\n",
       "      <td>ЗАО</td>\n",
       "      <td>Район Проспект Вернадского</td>\n",
       "    </tr>\n",
       "    <tr>\n",
       "      <th>36</th>\n",
       "      <td>проспект Вернадского</td>\n",
       "      <td>128</td>\n",
       "      <td>45.0</td>\n",
       "      <td>ЗАО</td>\n",
       "      <td>Район Раменки</td>\n",
       "    </tr>\n",
       "    <tr>\n",
       "      <th>37</th>\n",
       "      <td>проспект Вернадского</td>\n",
       "      <td>128</td>\n",
       "      <td>47.0</td>\n",
       "      <td>ЗАО</td>\n",
       "      <td>Район Тропарево-Никулино</td>\n",
       "    </tr>\n",
       "    <tr>\n",
       "      <th>38</th>\n",
       "      <td>проспект Вернадского</td>\n",
       "      <td>128</td>\n",
       "      <td>124.0</td>\n",
       "      <td>ЮЗАО</td>\n",
       "      <td>Район Гагаринский</td>\n",
       "    </tr>\n",
       "    <tr>\n",
       "      <th>39</th>\n",
       "      <td>проспект Вернадского</td>\n",
       "      <td>128</td>\n",
       "      <td>128.0</td>\n",
       "      <td>ЮЗАО</td>\n",
       "      <td>Ломоносовский район</td>\n",
       "    </tr>\n",
       "    <tr>\n",
       "      <th>40</th>\n",
       "      <td>Кутузовский проспект</td>\n",
       "      <td>114</td>\n",
       "      <td>38.0</td>\n",
       "      <td>ЗАО</td>\n",
       "      <td>Район Дорогомилово</td>\n",
       "    </tr>\n",
       "    <tr>\n",
       "      <th>41</th>\n",
       "      <td>Кутузовский проспект</td>\n",
       "      <td>114</td>\n",
       "      <td>49.0</td>\n",
       "      <td>ЗАО</td>\n",
       "      <td>Район Фили-Давыдково</td>\n",
       "    </tr>\n",
       "  </tbody>\n",
       "</table>\n",
       "</div>"
      ],
      "text/plain": [
       "                streetname  object_name_new  areaid okrug  \\\n",
       "0            проспект Мира              204    70.0  СВАО   \n",
       "1            проспект Мира              204    86.0  СВАО   \n",
       "2            проспект Мира              204    78.0  СВАО   \n",
       "3            проспект Мира              204    79.0  СВАО   \n",
       "4            проспект Мира              204    81.0  СВАО   \n",
       "5            проспект Мира              204    82.0  СВАО   \n",
       "6            проспект Мира              204    16.0   ЦАО   \n",
       "7        Профсоюзная улица              182   123.0  ЮЗАО   \n",
       "8        Профсоюзная улица              182   132.0  ЮЗАО   \n",
       "9        Профсоюзная улица              182   134.0  ЮЗАО   \n",
       "10       Профсоюзная улица              182   126.0  ЮЗАО   \n",
       "11       Профсоюзная улица              182   129.0  ЮЗАО   \n",
       "12       Профсоюзная улица              182   131.0  ЮЗАО   \n",
       "13  Ленинградский проспект              172    54.0   САО   \n",
       "14  Ленинградский проспект              172    55.0   САО   \n",
       "15  Ленинградский проспект              172    69.0   САО   \n",
       "16  Ленинградский проспект              172    66.0   САО   \n",
       "17  Пресненская набережная              167    17.0   ЦАО   \n",
       "18        Варшавское шоссе              162   109.0   ЮАО   \n",
       "19        Варшавское шоссе              162   108.0   ЮАО   \n",
       "20        Варшавское шоссе              162   110.0   ЮАО   \n",
       "21        Варшавское шоссе              162    99.0   ЮАО   \n",
       "22        Варшавское шоссе              162   102.0   ЮАО   \n",
       "23        Варшавское шоссе              162   104.0   ЮАО   \n",
       "24        Варшавское шоссе              162   130.0  ЮЗАО   \n",
       "25        Варшавское шоссе              162   133.0  ЮЗАО   \n",
       "26      Ленинский проспект              148    44.0   ЗАО   \n",
       "27      Ленинский проспект              148    47.0   ЗАО   \n",
       "28      Ленинский проспект              148    99.0   ЮАО   \n",
       "29      Ленинский проспект              148   124.0  ЮЗАО   \n",
       "30      Ленинский проспект              148   128.0  ЮЗАО   \n",
       "31      Ленинский проспект              148   129.0  ЮЗАО   \n",
       "32      Ленинский проспект              148   131.0  ЮЗАО   \n",
       "33      Ленинский проспект              148    21.0   ЦАО   \n",
       "34     поселение Сосенское              137     NaN   NaN   \n",
       "35    проспект Вернадского              128    44.0   ЗАО   \n",
       "36    проспект Вернадского              128    45.0   ЗАО   \n",
       "37    проспект Вернадского              128    47.0   ЗАО   \n",
       "38    проспект Вернадского              128   124.0  ЮЗАО   \n",
       "39    проспект Вернадского              128   128.0  ЮЗАО   \n",
       "40    Кутузовский проспект              114    38.0   ЗАО   \n",
       "41    Кутузовский проспект              114    49.0   ЗАО   \n",
       "\n",
       "                           area  \n",
       "0            Алексеевский район  \n",
       "1             Ярославский Район  \n",
       "2            Район Марьина роща  \n",
       "3            Останкинский район  \n",
       "4               Район Ростокино  \n",
       "5                Район Свиблово  \n",
       "6               Мещанский район  \n",
       "7           Академический район  \n",
       "8               Район Черемушки  \n",
       "9                 Район Ясенево  \n",
       "10               Район Коньково  \n",
       "11            Обручевский район  \n",
       "12            Район Теплый Стан  \n",
       "13               Район Аэропорт  \n",
       "14                Район Беговой  \n",
       "15            Хорошевский район  \n",
       "16                  Район Сокол  \n",
       "17            Пресненский район  \n",
       "18  Район Чертаново Центральное  \n",
       "19     Район Чертаново Северное  \n",
       "20        Район Чертаново Южное  \n",
       "21                Донской район  \n",
       "22     Район Нагатино-Садовники  \n",
       "23               Нагорный район  \n",
       "24        Район Северное Бутово  \n",
       "25           Район Южное Бутово  \n",
       "26   Район Проспект Вернадского  \n",
       "27     Район Тропарево-Никулино  \n",
       "28                Донской район  \n",
       "29            Район Гагаринский  \n",
       "30          Ломоносовский район  \n",
       "31            Обручевский район  \n",
       "32            Район Теплый Стан  \n",
       "33               Район Якиманка  \n",
       "34                          NaN  \n",
       "35   Район Проспект Вернадского  \n",
       "36                Район Раменки  \n",
       "37     Район Тропарево-Никулино  \n",
       "38            Район Гагаринский  \n",
       "39          Ломоносовский район  \n",
       "40           Район Дорогомилово  \n",
       "41         Район Фили-Давыдково  "
      ]
     },
     "metadata": {},
     "output_type": "display_data"
    }
   ],
   "source": [
    "# Объединим две таблицы\n",
    "top_10_area = top_10.merge(df, on = 'streetname', how ='left')\n",
    "display(top_10_area)"
   ]
  },
  {
   "cell_type": "markdown",
   "metadata": {},
   "source": [
    "Вывод: одна улица находится в нескольких районах, поэтому сгруппируем датасет по районам и посчитаем, сколько улиц из топ-10 находятся в этих районах"
   ]
  },
  {
   "cell_type": "code",
   "execution_count": 27,
   "metadata": {
    "scrolled": false
   },
   "outputs": [
    {
     "data": {
      "text/html": [
       "<div>\n",
       "<style scoped>\n",
       "    .dataframe tbody tr th:only-of-type {\n",
       "        vertical-align: middle;\n",
       "    }\n",
       "\n",
       "    .dataframe tbody tr th {\n",
       "        vertical-align: top;\n",
       "    }\n",
       "\n",
       "    .dataframe thead th {\n",
       "        text-align: right;\n",
       "    }\n",
       "</style>\n",
       "<table border=\"1\" class=\"dataframe\">\n",
       "  <thead>\n",
       "    <tr style=\"text-align: right;\">\n",
       "      <th></th>\n",
       "      <th>area</th>\n",
       "      <th>streetname</th>\n",
       "    </tr>\n",
       "  </thead>\n",
       "  <tbody>\n",
       "    <tr>\n",
       "      <th>11</th>\n",
       "      <td>Район Гагаринский</td>\n",
       "      <td>2</td>\n",
       "    </tr>\n",
       "    <tr>\n",
       "      <th>2</th>\n",
       "      <td>Донской район</td>\n",
       "      <td>2</td>\n",
       "    </tr>\n",
       "    <tr>\n",
       "      <th>3</th>\n",
       "      <td>Ломоносовский район</td>\n",
       "      <td>2</td>\n",
       "    </tr>\n",
       "    <tr>\n",
       "      <th>22</th>\n",
       "      <td>Район Теплый Стан</td>\n",
       "      <td>2</td>\n",
       "    </tr>\n",
       "    <tr>\n",
       "      <th>16</th>\n",
       "      <td>Район Проспект Вернадского</td>\n",
       "      <td>2</td>\n",
       "    </tr>\n",
       "    <tr>\n",
       "      <th>6</th>\n",
       "      <td>Обручевский район</td>\n",
       "      <td>2</td>\n",
       "    </tr>\n",
       "    <tr>\n",
       "      <th>23</th>\n",
       "      <td>Район Тропарево-Никулино</td>\n",
       "      <td>2</td>\n",
       "    </tr>\n",
       "    <tr>\n",
       "      <th>0</th>\n",
       "      <td>Академический район</td>\n",
       "      <td>1</td>\n",
       "    </tr>\n",
       "    <tr>\n",
       "      <th>24</th>\n",
       "      <td>Район Фили-Давыдково</td>\n",
       "      <td>1</td>\n",
       "    </tr>\n",
       "    <tr>\n",
       "      <th>25</th>\n",
       "      <td>Район Черемушки</td>\n",
       "      <td>1</td>\n",
       "    </tr>\n",
       "    <tr>\n",
       "      <th>26</th>\n",
       "      <td>Район Чертаново Северное</td>\n",
       "      <td>1</td>\n",
       "    </tr>\n",
       "    <tr>\n",
       "      <th>28</th>\n",
       "      <td>Район Чертаново Южное</td>\n",
       "      <td>1</td>\n",
       "    </tr>\n",
       "    <tr>\n",
       "      <th>27</th>\n",
       "      <td>Район Чертаново Центральное</td>\n",
       "      <td>1</td>\n",
       "    </tr>\n",
       "    <tr>\n",
       "      <th>20</th>\n",
       "      <td>Район Северное Бутово</td>\n",
       "      <td>1</td>\n",
       "    </tr>\n",
       "    <tr>\n",
       "      <th>29</th>\n",
       "      <td>Район Южное Бутово</td>\n",
       "      <td>1</td>\n",
       "    </tr>\n",
       "    <tr>\n",
       "      <th>30</th>\n",
       "      <td>Район Якиманка</td>\n",
       "      <td>1</td>\n",
       "    </tr>\n",
       "    <tr>\n",
       "      <th>31</th>\n",
       "      <td>Район Ясенево</td>\n",
       "      <td>1</td>\n",
       "    </tr>\n",
       "    <tr>\n",
       "      <th>32</th>\n",
       "      <td>Хорошевский район</td>\n",
       "      <td>1</td>\n",
       "    </tr>\n",
       "    <tr>\n",
       "      <th>21</th>\n",
       "      <td>Район Сокол</td>\n",
       "      <td>1</td>\n",
       "    </tr>\n",
       "    <tr>\n",
       "      <th>17</th>\n",
       "      <td>Район Раменки</td>\n",
       "      <td>1</td>\n",
       "    </tr>\n",
       "    <tr>\n",
       "      <th>19</th>\n",
       "      <td>Район Свиблово</td>\n",
       "      <td>1</td>\n",
       "    </tr>\n",
       "    <tr>\n",
       "      <th>18</th>\n",
       "      <td>Район Ростокино</td>\n",
       "      <td>1</td>\n",
       "    </tr>\n",
       "    <tr>\n",
       "      <th>1</th>\n",
       "      <td>Алексеевский район</td>\n",
       "      <td>1</td>\n",
       "    </tr>\n",
       "    <tr>\n",
       "      <th>15</th>\n",
       "      <td>Район Нагатино-Садовники</td>\n",
       "      <td>1</td>\n",
       "    </tr>\n",
       "    <tr>\n",
       "      <th>14</th>\n",
       "      <td>Район Марьина роща</td>\n",
       "      <td>1</td>\n",
       "    </tr>\n",
       "    <tr>\n",
       "      <th>13</th>\n",
       "      <td>Район Коньково</td>\n",
       "      <td>1</td>\n",
       "    </tr>\n",
       "    <tr>\n",
       "      <th>12</th>\n",
       "      <td>Район Дорогомилово</td>\n",
       "      <td>1</td>\n",
       "    </tr>\n",
       "    <tr>\n",
       "      <th>10</th>\n",
       "      <td>Район Беговой</td>\n",
       "      <td>1</td>\n",
       "    </tr>\n",
       "    <tr>\n",
       "      <th>9</th>\n",
       "      <td>Район Аэропорт</td>\n",
       "      <td>1</td>\n",
       "    </tr>\n",
       "    <tr>\n",
       "      <th>8</th>\n",
       "      <td>Пресненский район</td>\n",
       "      <td>1</td>\n",
       "    </tr>\n",
       "    <tr>\n",
       "      <th>7</th>\n",
       "      <td>Останкинский район</td>\n",
       "      <td>1</td>\n",
       "    </tr>\n",
       "    <tr>\n",
       "      <th>5</th>\n",
       "      <td>Нагорный район</td>\n",
       "      <td>1</td>\n",
       "    </tr>\n",
       "    <tr>\n",
       "      <th>4</th>\n",
       "      <td>Мещанский район</td>\n",
       "      <td>1</td>\n",
       "    </tr>\n",
       "    <tr>\n",
       "      <th>33</th>\n",
       "      <td>Ярославский Район</td>\n",
       "      <td>1</td>\n",
       "    </tr>\n",
       "  </tbody>\n",
       "</table>\n",
       "</div>"
      ],
      "text/plain": [
       "                           area  streetname\n",
       "11            Район Гагаринский           2\n",
       "2                 Донской район           2\n",
       "3           Ломоносовский район           2\n",
       "22            Район Теплый Стан           2\n",
       "16   Район Проспект Вернадского           2\n",
       "6             Обручевский район           2\n",
       "23     Район Тропарево-Никулино           2\n",
       "0           Академический район           1\n",
       "24         Район Фили-Давыдково           1\n",
       "25              Район Черемушки           1\n",
       "26     Район Чертаново Северное           1\n",
       "28        Район Чертаново Южное           1\n",
       "27  Район Чертаново Центральное           1\n",
       "20        Район Северное Бутово           1\n",
       "29           Район Южное Бутово           1\n",
       "30               Район Якиманка           1\n",
       "31                Район Ясенево           1\n",
       "32            Хорошевский район           1\n",
       "21                  Район Сокол           1\n",
       "17                Район Раменки           1\n",
       "19               Район Свиблово           1\n",
       "18              Район Ростокино           1\n",
       "1            Алексеевский район           1\n",
       "15     Район Нагатино-Садовники           1\n",
       "14           Район Марьина роща           1\n",
       "13               Район Коньково           1\n",
       "12           Район Дорогомилово           1\n",
       "10                Район Беговой           1\n",
       "9                Район Аэропорт           1\n",
       "8             Пресненский район           1\n",
       "7            Останкинский район           1\n",
       "5                Нагорный район           1\n",
       "4               Мещанский район           1\n",
       "33            Ярославский Район           1"
      ]
     },
     "metadata": {},
     "output_type": "display_data"
    }
   ],
   "source": [
    "display(top_10_area.groupby('area')['streetname'].count().reset_index().sort_values(by = 'streetname', ascending = False))"
   ]
  },
  {
   "cell_type": "markdown",
   "metadata": {},
   "source": [
    "Вывод: таким образом, самыми \"богатыми\" на заведения общественного питания районами являются: район Гагаринский, Донской район, Ломоносовский район, район Теплый Стан, район Проспект Вернадского, Обручевский район, район Тропарево-Никулино."
   ]
  },
  {
   "cell_type": "code",
   "execution_count": 28,
   "metadata": {},
   "outputs": [
    {
     "data": {
      "text/html": [
       "<div>\n",
       "<style scoped>\n",
       "    .dataframe tbody tr th:only-of-type {\n",
       "        vertical-align: middle;\n",
       "    }\n",
       "\n",
       "    .dataframe tbody tr th {\n",
       "        vertical-align: top;\n",
       "    }\n",
       "\n",
       "    .dataframe thead th {\n",
       "        text-align: right;\n",
       "    }\n",
       "</style>\n",
       "<table border=\"1\" class=\"dataframe\">\n",
       "  <thead>\n",
       "    <tr style=\"text-align: right;\">\n",
       "      <th></th>\n",
       "      <th>streetname</th>\n",
       "      <th>object_name_new</th>\n",
       "    </tr>\n",
       "  </thead>\n",
       "  <tbody>\n",
       "    <tr>\n",
       "      <th>2</th>\n",
       "      <td>1-й Балтийский переулок</td>\n",
       "      <td>1</td>\n",
       "    </tr>\n",
       "    <tr>\n",
       "      <th>3</th>\n",
       "      <td>1-й Басманный переулок</td>\n",
       "      <td>1</td>\n",
       "    </tr>\n",
       "    <tr>\n",
       "      <th>4</th>\n",
       "      <td>1-й Ботанический проезд</td>\n",
       "      <td>1</td>\n",
       "    </tr>\n",
       "    <tr>\n",
       "      <th>7</th>\n",
       "      <td>1-й Вешняковский проезд</td>\n",
       "      <td>1</td>\n",
       "    </tr>\n",
       "    <tr>\n",
       "      <th>9</th>\n",
       "      <td>1-й Голутвинский переулок</td>\n",
       "      <td>1</td>\n",
       "    </tr>\n",
       "    <tr>\n",
       "      <th>...</th>\n",
       "      <td>...</td>\n",
       "      <td>...</td>\n",
       "    </tr>\n",
       "    <tr>\n",
       "      <th>1851</th>\n",
       "      <td>улица Шеногина</td>\n",
       "      <td>1</td>\n",
       "    </tr>\n",
       "    <tr>\n",
       "      <th>1854</th>\n",
       "      <td>улица Шумилова</td>\n",
       "      <td>1</td>\n",
       "    </tr>\n",
       "    <tr>\n",
       "      <th>1855</th>\n",
       "      <td>улица Шумкина</td>\n",
       "      <td>1</td>\n",
       "    </tr>\n",
       "    <tr>\n",
       "      <th>1859</th>\n",
       "      <td>улица Щорса</td>\n",
       "      <td>1</td>\n",
       "    </tr>\n",
       "    <tr>\n",
       "      <th>1864</th>\n",
       "      <td>шоссе Фрезер</td>\n",
       "      <td>1</td>\n",
       "    </tr>\n",
       "  </tbody>\n",
       "</table>\n",
       "<p>553 rows × 2 columns</p>\n",
       "</div>"
      ],
      "text/plain": [
       "                     streetname  object_name_new\n",
       "2       1-й Балтийский переулок                1\n",
       "3        1-й Басманный переулок                1\n",
       "4       1-й Ботанический проезд                1\n",
       "7       1-й Вешняковский проезд                1\n",
       "9     1-й Голутвинский переулок                1\n",
       "...                         ...              ...\n",
       "1851             улица Шеногина                1\n",
       "1854             улица Шумилова                1\n",
       "1855              улица Шумкина                1\n",
       "1859                улица Щорса                1\n",
       "1864               шоссе Фрезер                1\n",
       "\n",
       "[553 rows x 2 columns]"
      ]
     },
     "metadata": {},
     "output_type": "display_data"
    }
   ],
   "source": [
    "# Найдем число улиц с одним объектом общественного питания\n",
    "aut_1 = data.groupby('streetname')['object_name_new'].count().reset_index()\n",
    "aut_1 = aut_1.query('object_name_new == 1')\n",
    "display(aut_1)"
   ]
  },
  {
   "cell_type": "markdown",
   "metadata": {},
   "source": [
    "Вывод: улиц с одним заведением общественного питания - 553"
   ]
  },
  {
   "cell_type": "code",
   "execution_count": 29,
   "metadata": {
    "scrolled": true
   },
   "outputs": [
    {
     "data": {
      "text/html": [
       "<div>\n",
       "<style scoped>\n",
       "    .dataframe tbody tr th:only-of-type {\n",
       "        vertical-align: middle;\n",
       "    }\n",
       "\n",
       "    .dataframe tbody tr th {\n",
       "        vertical-align: top;\n",
       "    }\n",
       "\n",
       "    .dataframe thead th {\n",
       "        text-align: right;\n",
       "    }\n",
       "</style>\n",
       "<table border=\"1\" class=\"dataframe\">\n",
       "  <thead>\n",
       "    <tr style=\"text-align: right;\">\n",
       "      <th></th>\n",
       "      <th>streetname</th>\n",
       "      <th>object_name_new</th>\n",
       "      <th>areaid</th>\n",
       "      <th>okrug</th>\n",
       "      <th>area</th>\n",
       "    </tr>\n",
       "  </thead>\n",
       "  <tbody>\n",
       "    <tr>\n",
       "      <th>0</th>\n",
       "      <td>1-й Балтийский переулок</td>\n",
       "      <td>1</td>\n",
       "      <td>54.0</td>\n",
       "      <td>САО</td>\n",
       "      <td>Район Аэропорт</td>\n",
       "    </tr>\n",
       "    <tr>\n",
       "      <th>1</th>\n",
       "      <td>1-й Басманный переулок</td>\n",
       "      <td>1</td>\n",
       "      <td>13.0</td>\n",
       "      <td>ЦАО</td>\n",
       "      <td>Басманный район</td>\n",
       "    </tr>\n",
       "    <tr>\n",
       "      <th>2</th>\n",
       "      <td>1-й Басманный переулок</td>\n",
       "      <td>1</td>\n",
       "      <td>15.0</td>\n",
       "      <td>ЦАО</td>\n",
       "      <td>Красносельский район</td>\n",
       "    </tr>\n",
       "    <tr>\n",
       "      <th>3</th>\n",
       "      <td>1-й Ботанический проезд</td>\n",
       "      <td>1</td>\n",
       "      <td>82.0</td>\n",
       "      <td>СВАО</td>\n",
       "      <td>Район Свиблово</td>\n",
       "    </tr>\n",
       "    <tr>\n",
       "      <th>4</th>\n",
       "      <td>1-й Вешняковский проезд</td>\n",
       "      <td>1</td>\n",
       "      <td>120.0</td>\n",
       "      <td>ЮВАО</td>\n",
       "      <td>Рязанский район</td>\n",
       "    </tr>\n",
       "    <tr>\n",
       "      <th>...</th>\n",
       "      <td>...</td>\n",
       "      <td>...</td>\n",
       "      <td>...</td>\n",
       "      <td>...</td>\n",
       "      <td>...</td>\n",
       "    </tr>\n",
       "    <tr>\n",
       "      <th>594</th>\n",
       "      <td>улица Шеногина</td>\n",
       "      <td>1</td>\n",
       "      <td>92.0</td>\n",
       "      <td>СЗАО</td>\n",
       "      <td>Район Хорошево-Мневники</td>\n",
       "    </tr>\n",
       "    <tr>\n",
       "      <th>595</th>\n",
       "      <td>улица Шумилова</td>\n",
       "      <td>1</td>\n",
       "      <td>113.0</td>\n",
       "      <td>ЮВАО</td>\n",
       "      <td>Район Кузьминки</td>\n",
       "    </tr>\n",
       "    <tr>\n",
       "      <th>596</th>\n",
       "      <td>улица Шумкина</td>\n",
       "      <td>1</td>\n",
       "      <td>26.0</td>\n",
       "      <td>ВАО</td>\n",
       "      <td>Район Сокольники</td>\n",
       "    </tr>\n",
       "    <tr>\n",
       "      <th>597</th>\n",
       "      <td>улица Щорса</td>\n",
       "      <td>1</td>\n",
       "      <td>46.0</td>\n",
       "      <td>ЗАО</td>\n",
       "      <td>Район Солнцево</td>\n",
       "    </tr>\n",
       "    <tr>\n",
       "      <th>598</th>\n",
       "      <td>шоссе Фрезер</td>\n",
       "      <td>1</td>\n",
       "      <td>117.0</td>\n",
       "      <td>ЮВАО</td>\n",
       "      <td>Нижегородский район</td>\n",
       "    </tr>\n",
       "  </tbody>\n",
       "</table>\n",
       "<p>599 rows × 5 columns</p>\n",
       "</div>"
      ],
      "text/plain": [
       "                  streetname  object_name_new  areaid okrug  \\\n",
       "0    1-й Балтийский переулок                1    54.0   САО   \n",
       "1     1-й Басманный переулок                1    13.0   ЦАО   \n",
       "2     1-й Басманный переулок                1    15.0   ЦАО   \n",
       "3    1-й Ботанический проезд                1    82.0  СВАО   \n",
       "4    1-й Вешняковский проезд                1   120.0  ЮВАО   \n",
       "..                       ...              ...     ...   ...   \n",
       "594           улица Шеногина                1    92.0  СЗАО   \n",
       "595           улица Шумилова                1   113.0  ЮВАО   \n",
       "596            улица Шумкина                1    26.0   ВАО   \n",
       "597              улица Щорса                1    46.0   ЗАО   \n",
       "598             шоссе Фрезер                1   117.0  ЮВАО   \n",
       "\n",
       "                        area  \n",
       "0             Район Аэропорт  \n",
       "1            Басманный район  \n",
       "2       Красносельский район  \n",
       "3             Район Свиблово  \n",
       "4            Рязанский район  \n",
       "..                       ...  \n",
       "594  Район Хорошево-Мневники  \n",
       "595          Район Кузьминки  \n",
       "596         Район Сокольники  \n",
       "597           Район Солнцево  \n",
       "598      Нижегородский район  \n",
       "\n",
       "[599 rows x 5 columns]"
      ]
     },
     "metadata": {},
     "output_type": "display_data"
    }
   ],
   "source": [
    "# Объединим две таблицы\n",
    "aut_1_area = aut_1.merge(df, on = 'streetname', how ='left')\n",
    "display(aut_1_area)"
   ]
  },
  {
   "cell_type": "markdown",
   "metadata": {},
   "source": [
    "Вывод: одна улица находится в нескольких районах, поэтому сгруппируем датасет по районам и посчитаем, сколько улиц-аутсайдеров находятся в этих районах"
   ]
  },
  {
   "cell_type": "code",
   "execution_count": 30,
   "metadata": {},
   "outputs": [
    {
     "data": {
      "text/html": [
       "<div>\n",
       "<style scoped>\n",
       "    .dataframe tbody tr th:only-of-type {\n",
       "        vertical-align: middle;\n",
       "    }\n",
       "\n",
       "    .dataframe tbody tr th {\n",
       "        vertical-align: top;\n",
       "    }\n",
       "\n",
       "    .dataframe thead th {\n",
       "        text-align: right;\n",
       "    }\n",
       "</style>\n",
       "<table border=\"1\" class=\"dataframe\">\n",
       "  <thead>\n",
       "    <tr style=\"text-align: right;\">\n",
       "      <th></th>\n",
       "      <th>area</th>\n",
       "      <th>streetname</th>\n",
       "    </tr>\n",
       "  </thead>\n",
       "  <tbody>\n",
       "    <tr>\n",
       "      <th>50</th>\n",
       "      <td>Район Марфино</td>\n",
       "      <td>1</td>\n",
       "    </tr>\n",
       "    <tr>\n",
       "      <th>54</th>\n",
       "      <td>Район Метрогородок</td>\n",
       "      <td>1</td>\n",
       "    </tr>\n",
       "    <tr>\n",
       "      <th>61</th>\n",
       "      <td>Район Очаково-Матвеевское</td>\n",
       "      <td>1</td>\n",
       "    </tr>\n",
       "    <tr>\n",
       "      <th>53</th>\n",
       "      <td>Район Матушкино-Савелки</td>\n",
       "      <td>1</td>\n",
       "    </tr>\n",
       "    <tr>\n",
       "      <th>18</th>\n",
       "      <td>Обручевский район</td>\n",
       "      <td>1</td>\n",
       "    </tr>\n",
       "    <tr>\n",
       "      <th>52</th>\n",
       "      <td>Район Марьино</td>\n",
       "      <td>1</td>\n",
       "    </tr>\n",
       "    <tr>\n",
       "      <th>15</th>\n",
       "      <td>Молжаниновский район</td>\n",
       "      <td>1</td>\n",
       "    </tr>\n",
       "    <tr>\n",
       "      <th>30</th>\n",
       "      <td>Район Гагаринский</td>\n",
       "      <td>1</td>\n",
       "    </tr>\n",
       "    <tr>\n",
       "      <th>48</th>\n",
       "      <td>Район Лианозово</td>\n",
       "      <td>1</td>\n",
       "    </tr>\n",
       "    <tr>\n",
       "      <th>57</th>\n",
       "      <td>Район Нагатино-Садовники</td>\n",
       "      <td>1</td>\n",
       "    </tr>\n",
       "    <tr>\n",
       "      <th>46</th>\n",
       "      <td>Район Левобережный</td>\n",
       "      <td>1</td>\n",
       "    </tr>\n",
       "    <tr>\n",
       "      <th>77</th>\n",
       "      <td>Район Строгино</td>\n",
       "      <td>1</td>\n",
       "    </tr>\n",
       "    <tr>\n",
       "      <th>83</th>\n",
       "      <td>Район Царицыно</td>\n",
       "      <td>1</td>\n",
       "    </tr>\n",
       "    <tr>\n",
       "      <th>34</th>\n",
       "      <td>Район Западное Дегунино</td>\n",
       "      <td>1</td>\n",
       "    </tr>\n",
       "    <tr>\n",
       "      <th>42</th>\n",
       "      <td>Район Крюково</td>\n",
       "      <td>1</td>\n",
       "    </tr>\n",
       "    <tr>\n",
       "      <th>85</th>\n",
       "      <td>Район Чертаново Северное</td>\n",
       "      <td>1</td>\n",
       "    </tr>\n",
       "    <tr>\n",
       "      <th>36</th>\n",
       "      <td>Район Ивановское</td>\n",
       "      <td>1</td>\n",
       "    </tr>\n",
       "    <tr>\n",
       "      <th>86</th>\n",
       "      <td>Район Чертаново Южное</td>\n",
       "      <td>1</td>\n",
       "    </tr>\n",
       "    <tr>\n",
       "      <th>89</th>\n",
       "      <td>Район Южное Медведково</td>\n",
       "      <td>1</td>\n",
       "    </tr>\n",
       "    <tr>\n",
       "      <th>1</th>\n",
       "      <td>Алтуфьевский район</td>\n",
       "      <td>1</td>\n",
       "    </tr>\n",
       "  </tbody>\n",
       "</table>\n",
       "</div>"
      ],
      "text/plain": [
       "                         area  streetname\n",
       "50              Район Марфино           1\n",
       "54         Район Метрогородок           1\n",
       "61  Район Очаково-Матвеевское           1\n",
       "53    Район Матушкино-Савелки           1\n",
       "18          Обручевский район           1\n",
       "52              Район Марьино           1\n",
       "15       Молжаниновский район           1\n",
       "30          Район Гагаринский           1\n",
       "48            Район Лианозово           1\n",
       "57   Район Нагатино-Садовники           1\n",
       "46         Район Левобережный           1\n",
       "77             Район Строгино           1\n",
       "83             Район Царицыно           1\n",
       "34    Район Западное Дегунино           1\n",
       "42              Район Крюково           1\n",
       "85   Район Чертаново Северное           1\n",
       "36           Район Ивановское           1\n",
       "86      Район Чертаново Южное           1\n",
       "89     Район Южное Медведково           1\n",
       "1          Алтуфьевский район           1"
      ]
     },
     "metadata": {},
     "output_type": "display_data"
    }
   ],
   "source": [
    "display(aut_1_area.groupby('area')['streetname'].count().reset_index().sort_values(by = 'streetname').head(20))"
   ]
  },
  {
   "cell_type": "markdown",
   "metadata": {},
   "source": [
    "Вывод: исходя из полученных данных, улицы с одним объектом общественного питания находятся преимущественно в районах на окраине г.Москва."
   ]
  },
  {
   "cell_type": "code",
   "execution_count": 31,
   "metadata": {
    "scrolled": true
   },
   "outputs": [
    {
     "data": {
      "text/html": [
       "<div>\n",
       "<style scoped>\n",
       "    .dataframe tbody tr th:only-of-type {\n",
       "        vertical-align: middle;\n",
       "    }\n",
       "\n",
       "    .dataframe tbody tr th {\n",
       "        vertical-align: top;\n",
       "    }\n",
       "\n",
       "    .dataframe thead th {\n",
       "        text-align: right;\n",
       "    }\n",
       "</style>\n",
       "<table border=\"1\" class=\"dataframe\">\n",
       "  <thead>\n",
       "    <tr style=\"text-align: right;\">\n",
       "      <th></th>\n",
       "      <th>streetname</th>\n",
       "      <th>object_name_new</th>\n",
       "      <th>areaid</th>\n",
       "      <th>okrug</th>\n",
       "      <th>area</th>\n",
       "    </tr>\n",
       "  </thead>\n",
       "  <tbody>\n",
       "    <tr>\n",
       "      <th>39</th>\n",
       "      <td>104-й километр Московской Кольцевой Автодороги</td>\n",
       "      <td>1</td>\n",
       "      <td>NaN</td>\n",
       "      <td>NaN</td>\n",
       "      <td>NaN</td>\n",
       "    </tr>\n",
       "    <tr>\n",
       "      <th>80</th>\n",
       "      <td>26-й километр Московской Кольцевой Автодороги</td>\n",
       "      <td>1</td>\n",
       "      <td>NaN</td>\n",
       "      <td>NaN</td>\n",
       "      <td>NaN</td>\n",
       "    </tr>\n",
       "    <tr>\n",
       "      <th>94</th>\n",
       "      <td>3-я Подрезковская улица</td>\n",
       "      <td>1</td>\n",
       "      <td>NaN</td>\n",
       "      <td>NaN</td>\n",
       "      <td>NaN</td>\n",
       "    </tr>\n",
       "    <tr>\n",
       "      <th>97</th>\n",
       "      <td>30-й километр Московской Кольцевой Автодороги</td>\n",
       "      <td>1</td>\n",
       "      <td>NaN</td>\n",
       "      <td>NaN</td>\n",
       "      <td>NaN</td>\n",
       "    </tr>\n",
       "    <tr>\n",
       "      <th>98</th>\n",
       "      <td>31-й километр Московской Кольцевой Автодороги</td>\n",
       "      <td>1</td>\n",
       "      <td>NaN</td>\n",
       "      <td>NaN</td>\n",
       "      <td>NaN</td>\n",
       "    </tr>\n",
       "    <tr>\n",
       "      <th>99</th>\n",
       "      <td>34-й километр Московской Кольцевой Автодороги</td>\n",
       "      <td>1</td>\n",
       "      <td>NaN</td>\n",
       "      <td>NaN</td>\n",
       "      <td>NaN</td>\n",
       "    </tr>\n",
       "    <tr>\n",
       "      <th>100</th>\n",
       "      <td>38-й километр Московской Кольцевой Автодороги</td>\n",
       "      <td>1</td>\n",
       "      <td>NaN</td>\n",
       "      <td>NaN</td>\n",
       "      <td>NaN</td>\n",
       "    </tr>\n",
       "    <tr>\n",
       "      <th>107</th>\n",
       "      <td>42-й километр Калужского шоссе</td>\n",
       "      <td>1</td>\n",
       "      <td>NaN</td>\n",
       "      <td>NaN</td>\n",
       "      <td>NaN</td>\n",
       "    </tr>\n",
       "    <tr>\n",
       "      <th>108</th>\n",
       "      <td>42-й километр Московской Кольцевой Автодороги</td>\n",
       "      <td>1</td>\n",
       "      <td>NaN</td>\n",
       "      <td>NaN</td>\n",
       "      <td>NaN</td>\n",
       "    </tr>\n",
       "    <tr>\n",
       "      <th>113</th>\n",
       "      <td>56-й километр Московской Кольцевой Автодороги</td>\n",
       "      <td>1</td>\n",
       "      <td>NaN</td>\n",
       "      <td>NaN</td>\n",
       "      <td>NaN</td>\n",
       "    </tr>\n",
       "    <tr>\n",
       "      <th>118</th>\n",
       "      <td>65-й километр Московской Кольцевой Автодороги</td>\n",
       "      <td>1</td>\n",
       "      <td>NaN</td>\n",
       "      <td>NaN</td>\n",
       "      <td>NaN</td>\n",
       "    </tr>\n",
       "    <tr>\n",
       "      <th>119</th>\n",
       "      <td>67-й километр Московской Кольцевой Автодороги</td>\n",
       "      <td>1</td>\n",
       "      <td>NaN</td>\n",
       "      <td>NaN</td>\n",
       "      <td>NaN</td>\n",
       "    </tr>\n",
       "    <tr>\n",
       "      <th>123</th>\n",
       "      <td>78-й километр Московской Кольцевой Автодороги</td>\n",
       "      <td>1</td>\n",
       "      <td>NaN</td>\n",
       "      <td>NaN</td>\n",
       "      <td>NaN</td>\n",
       "    </tr>\n",
       "    <tr>\n",
       "      <th>127</th>\n",
       "      <td>80-й километр Московской Кольцевой Автодороги</td>\n",
       "      <td>1</td>\n",
       "      <td>NaN</td>\n",
       "      <td>NaN</td>\n",
       "      <td>NaN</td>\n",
       "    </tr>\n",
       "    <tr>\n",
       "      <th>319</th>\n",
       "      <td>Новобутовский проезд</td>\n",
       "      <td>1</td>\n",
       "      <td>NaN</td>\n",
       "      <td>NaN</td>\n",
       "      <td>NaN</td>\n",
       "    </tr>\n",
       "    <tr>\n",
       "      <th>326</th>\n",
       "      <td>Новохорошёвский проезд</td>\n",
       "      <td>1</td>\n",
       "      <td>NaN</td>\n",
       "      <td>NaN</td>\n",
       "      <td>NaN</td>\n",
       "    </tr>\n",
       "    <tr>\n",
       "      <th>364</th>\n",
       "      <td>Пыжёвский переулок</td>\n",
       "      <td>1</td>\n",
       "      <td>NaN</td>\n",
       "      <td>NaN</td>\n",
       "      <td>NaN</td>\n",
       "    </tr>\n",
       "    <tr>\n",
       "      <th>471</th>\n",
       "      <td>деревня Давыдково</td>\n",
       "      <td>1</td>\n",
       "      <td>NaN</td>\n",
       "      <td>NaN</td>\n",
       "      <td>NaN</td>\n",
       "    </tr>\n",
       "    <tr>\n",
       "      <th>472</th>\n",
       "      <td>деревня Дудкино</td>\n",
       "      <td>1</td>\n",
       "      <td>NaN</td>\n",
       "      <td>NaN</td>\n",
       "      <td>NaN</td>\n",
       "    </tr>\n",
       "    <tr>\n",
       "      <th>473</th>\n",
       "      <td>деревня Сенькино-Секерино</td>\n",
       "      <td>1</td>\n",
       "      <td>NaN</td>\n",
       "      <td>NaN</td>\n",
       "      <td>NaN</td>\n",
       "    </tr>\n",
       "    <tr>\n",
       "      <th>474</th>\n",
       "      <td>деревня Столбово</td>\n",
       "      <td>1</td>\n",
       "      <td>NaN</td>\n",
       "      <td>NaN</td>\n",
       "      <td>NaN</td>\n",
       "    </tr>\n",
       "    <tr>\n",
       "      <th>475</th>\n",
       "      <td>дом 10</td>\n",
       "      <td>1</td>\n",
       "      <td>NaN</td>\n",
       "      <td>NaN</td>\n",
       "      <td>NaN</td>\n",
       "    </tr>\n",
       "    <tr>\n",
       "      <th>476</th>\n",
       "      <td>дом 2</td>\n",
       "      <td>1</td>\n",
       "      <td>NaN</td>\n",
       "      <td>NaN</td>\n",
       "      <td>NaN</td>\n",
       "    </tr>\n",
       "    <tr>\n",
       "      <th>477</th>\n",
       "      <td>дом 26/1</td>\n",
       "      <td>1</td>\n",
       "      <td>NaN</td>\n",
       "      <td>NaN</td>\n",
       "      <td>NaN</td>\n",
       "    </tr>\n",
       "    <tr>\n",
       "      <th>478</th>\n",
       "      <td>дом 3</td>\n",
       "      <td>1</td>\n",
       "      <td>NaN</td>\n",
       "      <td>NaN</td>\n",
       "      <td>NaN</td>\n",
       "    </tr>\n",
       "    <tr>\n",
       "      <th>479</th>\n",
       "      <td>дом 6</td>\n",
       "      <td>1</td>\n",
       "      <td>NaN</td>\n",
       "      <td>NaN</td>\n",
       "      <td>NaN</td>\n",
       "    </tr>\n",
       "    <tr>\n",
       "      <th>480</th>\n",
       "      <td>дом 8</td>\n",
       "      <td>1</td>\n",
       "      <td>NaN</td>\n",
       "      <td>NaN</td>\n",
       "      <td>NaN</td>\n",
       "    </tr>\n",
       "    <tr>\n",
       "      <th>488</th>\n",
       "      <td>поселение Филимонковское</td>\n",
       "      <td>1</td>\n",
       "      <td>NaN</td>\n",
       "      <td>NaN</td>\n",
       "      <td>NaN</td>\n",
       "    </tr>\n",
       "    <tr>\n",
       "      <th>496</th>\n",
       "      <td>проектируемый проезд № 1980</td>\n",
       "      <td>1</td>\n",
       "      <td>NaN</td>\n",
       "      <td>NaN</td>\n",
       "      <td>NaN</td>\n",
       "    </tr>\n",
       "    <tr>\n",
       "      <th>521</th>\n",
       "      <td>улица Высоцкого</td>\n",
       "      <td>1</td>\n",
       "      <td>NaN</td>\n",
       "      <td>NaN</td>\n",
       "      <td>NaN</td>\n",
       "    </tr>\n",
       "    <tr>\n",
       "      <th>539</th>\n",
       "      <td>улица Капотня</td>\n",
       "      <td>1</td>\n",
       "      <td>NaN</td>\n",
       "      <td>NaN</td>\n",
       "      <td>NaN</td>\n",
       "    </tr>\n",
       "    <tr>\n",
       "      <th>551</th>\n",
       "      <td>улица Льва Яшина</td>\n",
       "      <td>1</td>\n",
       "      <td>NaN</td>\n",
       "      <td>NaN</td>\n",
       "      <td>NaN</td>\n",
       "    </tr>\n",
       "    <tr>\n",
       "      <th>560</th>\n",
       "      <td>улица Недорубова</td>\n",
       "      <td>1</td>\n",
       "      <td>NaN</td>\n",
       "      <td>NaN</td>\n",
       "      <td>NaN</td>\n",
       "    </tr>\n",
       "    <tr>\n",
       "      <th>586</th>\n",
       "      <td>улица Старые Кузьминки</td>\n",
       "      <td>1</td>\n",
       "      <td>NaN</td>\n",
       "      <td>NaN</td>\n",
       "      <td>NaN</td>\n",
       "    </tr>\n",
       "    <tr>\n",
       "      <th>593</th>\n",
       "      <td>улица Хабарова</td>\n",
       "      <td>1</td>\n",
       "      <td>NaN</td>\n",
       "      <td>NaN</td>\n",
       "      <td>NaN</td>\n",
       "    </tr>\n",
       "  </tbody>\n",
       "</table>\n",
       "</div>"
      ],
      "text/plain": [
       "                                         streetname  object_name_new  areaid  \\\n",
       "39   104-й километр Московской Кольцевой Автодороги                1     NaN   \n",
       "80    26-й километр Московской Кольцевой Автодороги                1     NaN   \n",
       "94                          3-я Подрезковская улица                1     NaN   \n",
       "97    30-й километр Московской Кольцевой Автодороги                1     NaN   \n",
       "98    31-й километр Московской Кольцевой Автодороги                1     NaN   \n",
       "99    34-й километр Московской Кольцевой Автодороги                1     NaN   \n",
       "100   38-й километр Московской Кольцевой Автодороги                1     NaN   \n",
       "107                  42-й километр Калужского шоссе                1     NaN   \n",
       "108   42-й километр Московской Кольцевой Автодороги                1     NaN   \n",
       "113   56-й километр Московской Кольцевой Автодороги                1     NaN   \n",
       "118   65-й километр Московской Кольцевой Автодороги                1     NaN   \n",
       "119   67-й километр Московской Кольцевой Автодороги                1     NaN   \n",
       "123   78-й километр Московской Кольцевой Автодороги                1     NaN   \n",
       "127   80-й километр Московской Кольцевой Автодороги                1     NaN   \n",
       "319                            Новобутовский проезд                1     NaN   \n",
       "326                          Новохорошёвский проезд                1     NaN   \n",
       "364                              Пыжёвский переулок                1     NaN   \n",
       "471                               деревня Давыдково                1     NaN   \n",
       "472                                 деревня Дудкино                1     NaN   \n",
       "473                       деревня Сенькино-Секерино                1     NaN   \n",
       "474                                деревня Столбово                1     NaN   \n",
       "475                                          дом 10                1     NaN   \n",
       "476                                           дом 2                1     NaN   \n",
       "477                                        дом 26/1                1     NaN   \n",
       "478                                           дом 3                1     NaN   \n",
       "479                                           дом 6                1     NaN   \n",
       "480                                           дом 8                1     NaN   \n",
       "488                        поселение Филимонковское                1     NaN   \n",
       "496                     проектируемый проезд № 1980                1     NaN   \n",
       "521                                 улица Высоцкого                1     NaN   \n",
       "539                                   улица Капотня                1     NaN   \n",
       "551                                улица Льва Яшина                1     NaN   \n",
       "560                                улица Недорубова                1     NaN   \n",
       "586                          улица Старые Кузьминки                1     NaN   \n",
       "593                                  улица Хабарова                1     NaN   \n",
       "\n",
       "    okrug area  \n",
       "39    NaN  NaN  \n",
       "80    NaN  NaN  \n",
       "94    NaN  NaN  \n",
       "97    NaN  NaN  \n",
       "98    NaN  NaN  \n",
       "99    NaN  NaN  \n",
       "100   NaN  NaN  \n",
       "107   NaN  NaN  \n",
       "108   NaN  NaN  \n",
       "113   NaN  NaN  \n",
       "118   NaN  NaN  \n",
       "119   NaN  NaN  \n",
       "123   NaN  NaN  \n",
       "127   NaN  NaN  \n",
       "319   NaN  NaN  \n",
       "326   NaN  NaN  \n",
       "364   NaN  NaN  \n",
       "471   NaN  NaN  \n",
       "472   NaN  NaN  \n",
       "473   NaN  NaN  \n",
       "474   NaN  NaN  \n",
       "475   NaN  NaN  \n",
       "476   NaN  NaN  \n",
       "477   NaN  NaN  \n",
       "478   NaN  NaN  \n",
       "479   NaN  NaN  \n",
       "480   NaN  NaN  \n",
       "488   NaN  NaN  \n",
       "496   NaN  NaN  \n",
       "521   NaN  NaN  \n",
       "539   NaN  NaN  \n",
       "551   NaN  NaN  \n",
       "560   NaN  NaN  \n",
       "586   NaN  NaN  \n",
       "593   NaN  NaN  "
      ]
     },
     "metadata": {},
     "output_type": "display_data"
    }
   ],
   "source": [
    "# Проверим, насколько корректно соединились датасеты\n",
    "display(aut_1_area[aut_1_area['area'].isnull()])"
   ]
  },
  {
   "cell_type": "code",
   "execution_count": 32,
   "metadata": {},
   "outputs": [
    {
     "data": {
      "text/plain": [
       "['проспект Мира',\n",
       " 'Профсоюзная улица',\n",
       " 'Ленинградский проспект',\n",
       " 'Пресненская набережная',\n",
       " 'Варшавское шоссе',\n",
       " 'Ленинский проспект',\n",
       " 'поселение Сосенское',\n",
       " 'проспект Вернадского',\n",
       " 'Кутузовский проспект']"
      ]
     },
     "metadata": {},
     "output_type": "display_data"
    },
    {
     "data": {
      "text/html": [
       "<div>\n",
       "<style scoped>\n",
       "    .dataframe tbody tr th:only-of-type {\n",
       "        vertical-align: middle;\n",
       "    }\n",
       "\n",
       "    .dataframe tbody tr th {\n",
       "        vertical-align: top;\n",
       "    }\n",
       "\n",
       "    .dataframe thead th {\n",
       "        text-align: right;\n",
       "    }\n",
       "</style>\n",
       "<table border=\"1\" class=\"dataframe\">\n",
       "  <thead>\n",
       "    <tr style=\"text-align: right;\">\n",
       "      <th></th>\n",
       "      <th>index</th>\n",
       "      <th>id</th>\n",
       "      <th>object_name</th>\n",
       "      <th>chain</th>\n",
       "      <th>object_type</th>\n",
       "      <th>address</th>\n",
       "      <th>number</th>\n",
       "      <th>object_name_new</th>\n",
       "      <th>streetname</th>\n",
       "    </tr>\n",
       "  </thead>\n",
       "  <tbody>\n",
       "    <tr>\n",
       "      <th>151</th>\n",
       "      <td>151</td>\n",
       "      <td>155973</td>\n",
       "      <td>Кафе «Андерсон»</td>\n",
       "      <td>да</td>\n",
       "      <td>кафе</td>\n",
       "      <td>город Москва, Варшавское шоссе, дом 2</td>\n",
       "      <td>150</td>\n",
       "      <td>Андерсон</td>\n",
       "      <td>Варшавское шоссе</td>\n",
       "    </tr>\n",
       "    <tr>\n",
       "      <th>152</th>\n",
       "      <td>152</td>\n",
       "      <td>23618</td>\n",
       "      <td>Кафе «Subway»</td>\n",
       "      <td>да</td>\n",
       "      <td>кафе</td>\n",
       "      <td>город Москва, Варшавское шоссе, дом 7, корпус 1</td>\n",
       "      <td>36</td>\n",
       "      <td>Subway</td>\n",
       "      <td>Варшавское шоссе</td>\n",
       "    </tr>\n",
       "    <tr>\n",
       "      <th>153</th>\n",
       "      <td>153</td>\n",
       "      <td>155852</td>\n",
       "      <td>Кафе «Ламаджо»</td>\n",
       "      <td>нет</td>\n",
       "      <td>кафе</td>\n",
       "      <td>город Москва, Варшавское шоссе, дом 29</td>\n",
       "      <td>30</td>\n",
       "      <td>Ламаджо</td>\n",
       "      <td>Варшавское шоссе</td>\n",
       "    </tr>\n",
       "    <tr>\n",
       "      <th>154</th>\n",
       "      <td>154</td>\n",
       "      <td>152556</td>\n",
       "      <td>Шаурма в пите</td>\n",
       "      <td>нет</td>\n",
       "      <td>предприятие быстрого обслуживания</td>\n",
       "      <td>город Москва, Варшавское шоссе, дом 72, корпус 2</td>\n",
       "      <td>0</td>\n",
       "      <td>Шаурма в пите</td>\n",
       "      <td>Варшавское шоссе</td>\n",
       "    </tr>\n",
       "    <tr>\n",
       "      <th>155</th>\n",
       "      <td>155</td>\n",
       "      <td>120658</td>\n",
       "      <td>Выпечка</td>\n",
       "      <td>нет</td>\n",
       "      <td>кафетерий</td>\n",
       "      <td>город Москва, Варшавское шоссе, дом 100</td>\n",
       "      <td>2</td>\n",
       "      <td>Выпечка</td>\n",
       "      <td>Варшавское шоссе</td>\n",
       "    </tr>\n",
       "  </tbody>\n",
       "</table>\n",
       "</div>"
      ],
      "text/plain": [
       "     index      id      object_name chain                        object_type  \\\n",
       "151    151  155973  Кафе «Андерсон»    да                               кафе   \n",
       "152    152   23618    Кафе «Subway»    да                               кафе   \n",
       "153    153  155852   Кафе «Ламаджо»   нет                               кафе   \n",
       "154    154  152556    Шаурма в пите   нет  предприятие быстрого обслуживания   \n",
       "155    155  120658          Выпечка   нет                          кафетерий   \n",
       "\n",
       "                                              address  number object_name_new  \\\n",
       "151             город Москва, Варшавское шоссе, дом 2     150        Андерсон   \n",
       "152   город Москва, Варшавское шоссе, дом 7, корпус 1      36          Subway   \n",
       "153            город Москва, Варшавское шоссе, дом 29      30         Ламаджо   \n",
       "154  город Москва, Варшавское шоссе, дом 72, корпус 2       0   Шаурма в пите   \n",
       "155           город Москва, Варшавское шоссе, дом 100       2         Выпечка   \n",
       "\n",
       "           streetname  \n",
       "151  Варшавское шоссе  \n",
       "152  Варшавское шоссе  \n",
       "153  Варшавское шоссе  \n",
       "154  Варшавское шоссе  \n",
       "155  Варшавское шоссе  "
      ]
     },
     "metadata": {},
     "output_type": "display_data"
    },
    {
     "data": {
      "text/plain": [
       "35.0"
      ]
     },
     "metadata": {},
     "output_type": "display_data"
    },
    {
     "data": {
      "image/png": "[encoded data removed]",
      "text/plain": [
       "<Figure size 360x360 with 1 Axes>"
      ]
     },
     "metadata": {
      "needs_background": "light"
     },
     "output_type": "display_data"
    }
   ],
   "source": [
    "# Создадим отфильтрованный датафрейм с улицами их топ-10\n",
    "streets = list(top_10[\"streetname\"])\n",
    "display(streets)\n",
    "data_top = data.query('streetname in @streets')\n",
    "display(data_top.head())\n",
    "# Посмотрим на распределение количества посадочных мест для улиц с большим количеством объектов общественного питания\n",
    "sns.displot(data_top['number'], bins=100) \n",
    "display(data_top['number'].median())"
   ]
  },
  {
   "cell_type": "markdown",
   "metadata": {},
   "source": [
    "Вывод: В среднем, на долю улиц с большим количеством объектов общественного питания приходится около 35 посадочных мест в одном объекте."
   ]
  },
  {
   "cell_type": "markdown",
   "metadata": {},
   "source": [
    "**ВЫВОДЫ:**\n",
    "В ходе исследования мы выяснили:\n",
    "1. В г.Москве по количеству заведений преобладают кафе, меньше всего - отделов кулинарии в магазинах.\n",
    "2. Преобладают несетевые заведения (их больше в 4 раза).\n",
    "3. Для кафе, закусочных, предприятий быстрого обслуживания, ресторанов, баров сетевое распространение не характерно. Сетевые заведения чаще встречаются среди, столовых, кафетерий, буфетов, для отделов кулинарии одинаково характерны и сетевые, и несетевые заведения.\n",
    "4. Для сетевых заведений больше характерно мало заведений с большим количеством посадочных мест.\n",
    "5. В среднем, больше всего посадочных мест в столовых. Меньше всего - в отделах кулинарии, закусочных, кафетериях.\n",
    "6. В топ-10 улиц по количеству объектов общественного питания входят: проспект Мира, Профсоюзная улица, Ленинградский проспект, Пресненская набережная, Варшавское шоссе, Ленинский проспект, поселение Сосенское, проспект Вернадского\tи Кутузовский проспект.\n",
    "7. Самыми \"богатыми\" на заведения общественного питания районами являются: район Гагаринский, Донской район, Ломоносовский район, район Теплый Стан, район Проспект Вернадского, Обручевский район, район Тропарево-Никулино (больше на юге и юго-западе Москвы).\n",
    "8. Улиц с одним заведением общественного питания - 553, они находятся преимущественно в районах на окраине г.Москвы.\n",
    "10. В среднем, на долю улиц с большим количеством объектов общественного питания приходится около 35 посадочных мест в одном объекте.\n",
    "\n",
    "В качестве рекомендации можно сказать, что выгоднее всего открывать:\n",
    "- небольшое заведение (около 35 посадочных мест)\n",
    "- категория - кафе\n",
    "- на юге и юго-западе Москвы(раз там много кафе, предположительно, там высокая проходимость и высокий спрос, а за счет уникальной идеи про роботов-официантов наше кафе может привлечь больше посетителей, а также за счет роботизации и автоматизации можно сократить расходы на зарплаты)\n",
    "- относительно вопроса развития сети - можно остановиться на одном заведении, либо развивать в дальнейшем небольшую сеть"
   ]
  },
  {
   "cell_type": "code",
   "execution_count": 33,
   "metadata": {},
   "outputs": [],
   "source": []
  }
 ],
 "metadata": {
  "ExecuteTimeLog": [
   {
    "duration": 401,
    "start_time": "2022-04-04T09:48:52.094Z"
   },
   {
    "duration": 82,
    "start_time": "2022-04-04T09:48:53.700Z"
   },
   {
    "duration": 16,
    "start_time": "2022-04-04T09:50:22.296Z"
   },
   {
    "duration": 76,
    "start_time": "2022-04-04T09:51:19.277Z"
   },
   {
    "duration": 76,
    "start_time": "2022-04-04T09:51:45.026Z"
   },
   {
    "duration": 9,
    "start_time": "2022-04-04T09:52:19.857Z"
   },
   {
    "duration": 18,
    "start_time": "2022-04-04T09:54:28.402Z"
   },
   {
    "duration": 12,
    "start_time": "2022-04-04T09:56:30.121Z"
   },
   {
    "duration": 18,
    "start_time": "2022-04-04T09:58:04.402Z"
   },
   {
    "duration": 20,
    "start_time": "2022-04-04T09:58:09.063Z"
   },
   {
    "duration": 2,
    "start_time": "2022-04-04T09:58:15.496Z"
   },
   {
    "duration": 92,
    "start_time": "2022-04-04T09:58:15.500Z"
   },
   {
    "duration": 16,
    "start_time": "2022-04-04T09:58:15.593Z"
   },
   {
    "duration": 21,
    "start_time": "2022-04-04T09:58:15.611Z"
   },
   {
    "duration": 21,
    "start_time": "2022-04-04T09:58:15.634Z"
   },
   {
    "duration": 18,
    "start_time": "2022-04-04T09:58:15.656Z"
   },
   {
    "duration": 26,
    "start_time": "2022-04-04T09:58:35.386Z"
   },
   {
    "duration": 36,
    "start_time": "2022-04-04T09:59:14.413Z"
   },
   {
    "duration": 49,
    "start_time": "2022-04-04T09:59:56.668Z"
   },
   {
    "duration": 16,
    "start_time": "2022-04-04T10:48:08.263Z"
   },
   {
    "duration": 8,
    "start_time": "2022-04-04T10:50:24.963Z"
   },
   {
    "duration": 79,
    "start_time": "2022-04-04T10:50:44.436Z"
   },
   {
    "duration": 47,
    "start_time": "2022-04-04T10:57:13.829Z"
   },
   {
    "duration": 50,
    "start_time": "2022-04-04T10:59:51.561Z"
   },
   {
    "duration": 171,
    "start_time": "2022-04-04T11:05:07.015Z"
   },
   {
    "duration": 58,
    "start_time": "2022-04-04T11:05:26.644Z"
   },
   {
    "duration": 53,
    "start_time": "2022-04-04T11:05:54.084Z"
   },
   {
    "duration": 82,
    "start_time": "2022-04-04T11:29:52.822Z"
   },
   {
    "duration": 3,
    "start_time": "2022-04-04T11:30:30.551Z"
   },
   {
    "duration": 98,
    "start_time": "2022-04-04T11:30:30.557Z"
   },
   {
    "duration": 18,
    "start_time": "2022-04-04T11:30:30.657Z"
   },
   {
    "duration": 20,
    "start_time": "2022-04-04T11:30:30.677Z"
   },
   {
    "duration": 4,
    "start_time": "2022-04-04T11:30:30.700Z"
   },
   {
    "duration": 53,
    "start_time": "2022-04-04T11:30:30.731Z"
   },
   {
    "duration": 47,
    "start_time": "2022-04-04T11:30:30.785Z"
   },
   {
    "duration": 21,
    "start_time": "2022-04-04T11:30:43.781Z"
   },
   {
    "duration": 22,
    "start_time": "2022-04-04T11:30:46.400Z"
   },
   {
    "duration": 27,
    "start_time": "2022-04-04T11:32:03.093Z"
   },
   {
    "duration": 22,
    "start_time": "2022-04-04T11:32:24.097Z"
   },
   {
    "duration": 25,
    "start_time": "2022-04-04T11:32:52.435Z"
   },
   {
    "duration": 25,
    "start_time": "2022-04-04T11:33:03.078Z"
   },
   {
    "duration": 2,
    "start_time": "2022-04-04T11:33:24.208Z"
   },
   {
    "duration": 79,
    "start_time": "2022-04-04T11:33:24.212Z"
   },
   {
    "duration": 18,
    "start_time": "2022-04-04T11:33:24.292Z"
   },
   {
    "duration": 33,
    "start_time": "2022-04-04T11:33:24.311Z"
   },
   {
    "duration": 5,
    "start_time": "2022-04-04T11:33:24.346Z"
   },
   {
    "duration": 58,
    "start_time": "2022-04-04T11:33:24.352Z"
   },
   {
    "duration": 43,
    "start_time": "2022-04-04T11:33:24.411Z"
   },
   {
    "duration": 3,
    "start_time": "2022-04-04T11:33:33.993Z"
   },
   {
    "duration": 87,
    "start_time": "2022-04-04T11:33:33.998Z"
   },
   {
    "duration": 15,
    "start_time": "2022-04-04T11:33:34.087Z"
   },
   {
    "duration": 36,
    "start_time": "2022-04-04T11:33:34.104Z"
   },
   {
    "duration": 4,
    "start_time": "2022-04-04T11:33:34.142Z"
   },
   {
    "duration": 59,
    "start_time": "2022-04-04T11:33:34.148Z"
   },
   {
    "duration": 42,
    "start_time": "2022-04-04T11:33:34.209Z"
   },
   {
    "duration": 23,
    "start_time": "2022-04-04T11:33:53.907Z"
   },
   {
    "duration": 3,
    "start_time": "2022-04-04T11:34:05.607Z"
   },
   {
    "duration": 72,
    "start_time": "2022-04-04T11:34:05.615Z"
   },
   {
    "duration": 15,
    "start_time": "2022-04-04T11:34:05.689Z"
   },
   {
    "duration": 31,
    "start_time": "2022-04-04T11:34:05.706Z"
   },
   {
    "duration": 5,
    "start_time": "2022-04-04T11:34:05.738Z"
   },
   {
    "duration": 56,
    "start_time": "2022-04-04T11:34:05.745Z"
   },
   {
    "duration": 44,
    "start_time": "2022-04-04T11:34:05.803Z"
   },
   {
    "duration": 21,
    "start_time": "2022-04-04T11:37:05.816Z"
   },
   {
    "duration": 3,
    "start_time": "2022-04-04T11:37:19.312Z"
   },
   {
    "duration": 86,
    "start_time": "2022-04-04T11:37:19.317Z"
   },
   {
    "duration": 17,
    "start_time": "2022-04-04T11:37:19.405Z"
   },
   {
    "duration": 19,
    "start_time": "2022-04-04T11:37:19.424Z"
   },
   {
    "duration": 4,
    "start_time": "2022-04-04T11:37:19.445Z"
   },
   {
    "duration": 83,
    "start_time": "2022-04-04T11:37:19.451Z"
   },
   {
    "duration": 25,
    "start_time": "2022-04-04T11:37:21.213Z"
   },
   {
    "duration": 32,
    "start_time": "2022-04-04T11:37:37.379Z"
   },
   {
    "duration": 30,
    "start_time": "2022-04-04T11:38:46.454Z"
   },
   {
    "duration": 28,
    "start_time": "2022-04-04T11:42:34.923Z"
   },
   {
    "duration": 21,
    "start_time": "2022-04-04T11:42:41.302Z"
   },
   {
    "duration": 22,
    "start_time": "2022-04-04T11:43:05.859Z"
   },
   {
    "duration": 21,
    "start_time": "2022-04-04T11:43:59.253Z"
   },
   {
    "duration": 22,
    "start_time": "2022-04-04T11:44:20.695Z"
   },
   {
    "duration": 23,
    "start_time": "2022-04-04T11:44:44.624Z"
   },
   {
    "duration": 36,
    "start_time": "2022-04-04T11:46:21.836Z"
   },
   {
    "duration": 23,
    "start_time": "2022-04-04T11:46:28.472Z"
   },
   {
    "duration": 50,
    "start_time": "2022-04-04T11:46:50.727Z"
   },
   {
    "duration": 41,
    "start_time": "2022-04-04T11:47:01.482Z"
   },
   {
    "duration": 51,
    "start_time": "2022-04-04T11:51:54.663Z"
   },
   {
    "duration": 81,
    "start_time": "2022-04-04T11:52:18.225Z"
   },
   {
    "duration": 57,
    "start_time": "2022-04-04T11:52:35.406Z"
   },
   {
    "duration": 32,
    "start_time": "2022-04-04T11:53:05.461Z"
   },
   {
    "duration": 51,
    "start_time": "2022-04-04T11:53:14.288Z"
   },
   {
    "duration": 30,
    "start_time": "2022-04-04T11:53:18.113Z"
   },
   {
    "duration": 51,
    "start_time": "2022-04-04T11:53:55.462Z"
   },
   {
    "duration": 40,
    "start_time": "2022-04-04T11:54:12.145Z"
   },
   {
    "duration": 30,
    "start_time": "2022-04-04T11:54:17.906Z"
   },
   {
    "duration": 28,
    "start_time": "2022-04-04T11:54:24.726Z"
   },
   {
    "duration": 52,
    "start_time": "2022-04-04T11:54:33.847Z"
   },
   {
    "duration": 43,
    "start_time": "2022-04-04T11:54:47.842Z"
   },
   {
    "duration": 28,
    "start_time": "2022-04-04T11:54:50.791Z"
   },
   {
    "duration": 3,
    "start_time": "2022-04-04T11:55:03.233Z"
   },
   {
    "duration": 78,
    "start_time": "2022-04-04T11:55:03.238Z"
   },
   {
    "duration": 18,
    "start_time": "2022-04-04T11:55:03.318Z"
   },
   {
    "duration": 21,
    "start_time": "2022-04-04T11:55:03.337Z"
   },
   {
    "duration": 5,
    "start_time": "2022-04-04T11:55:03.360Z"
   },
   {
    "duration": 3,
    "start_time": "2022-04-04T11:55:04.819Z"
   },
   {
    "duration": 3354,
    "start_time": "2022-04-04T11:55:11.403Z"
   },
   {
    "duration": 55,
    "start_time": "2022-04-04T11:55:56.074Z"
   },
   {
    "duration": 3,
    "start_time": "2022-04-04T11:56:00.458Z"
   },
   {
    "duration": 88,
    "start_time": "2022-04-04T11:56:00.464Z"
   },
   {
    "duration": 17,
    "start_time": "2022-04-04T11:56:00.555Z"
   },
   {
    "duration": 23,
    "start_time": "2022-04-04T11:56:00.575Z"
   },
   {
    "duration": 6,
    "start_time": "2022-04-04T11:56:00.601Z"
   },
   {
    "duration": 2798,
    "start_time": "2022-04-04T11:56:03.669Z"
   },
   {
    "duration": 2663,
    "start_time": "2022-04-04T11:56:32.637Z"
   },
   {
    "duration": 54,
    "start_time": "2022-04-04T11:56:54.645Z"
   },
   {
    "duration": 32,
    "start_time": "2022-04-04T11:56:58.344Z"
   },
   {
    "duration": 29,
    "start_time": "2022-04-04T11:57:25.850Z"
   },
   {
    "duration": 23,
    "start_time": "2022-04-04T11:57:30.743Z"
   },
   {
    "duration": 36,
    "start_time": "2022-04-04T11:59:24.505Z"
   },
   {
    "duration": 58,
    "start_time": "2022-04-04T11:59:35.869Z"
   },
   {
    "duration": 29,
    "start_time": "2022-04-04T11:59:46.983Z"
   },
   {
    "duration": 23,
    "start_time": "2022-04-04T11:59:55.904Z"
   },
   {
    "duration": 28,
    "start_time": "2022-04-04T12:00:35.515Z"
   },
   {
    "duration": 24,
    "start_time": "2022-04-04T12:01:18.255Z"
   },
   {
    "duration": 22,
    "start_time": "2022-04-04T12:03:54.856Z"
   },
   {
    "duration": 23,
    "start_time": "2022-04-04T12:04:26.469Z"
   },
   {
    "duration": 23,
    "start_time": "2022-04-04T12:05:20.143Z"
   },
   {
    "duration": 53,
    "start_time": "2022-04-04T12:05:28.794Z"
   },
   {
    "duration": 24,
    "start_time": "2022-04-04T12:05:30.561Z"
   },
   {
    "duration": 24,
    "start_time": "2022-04-04T12:08:14.206Z"
   },
   {
    "duration": 25,
    "start_time": "2022-04-04T12:08:21.406Z"
   },
   {
    "duration": 25,
    "start_time": "2022-04-04T12:08:40.608Z"
   },
   {
    "duration": 25,
    "start_time": "2022-04-04T12:08:45.278Z"
   },
   {
    "duration": 23,
    "start_time": "2022-04-04T12:08:59.756Z"
   },
   {
    "duration": 20,
    "start_time": "2022-04-04T12:22:19.583Z"
   },
   {
    "duration": 31,
    "start_time": "2022-04-04T12:25:17.606Z"
   },
   {
    "duration": 12,
    "start_time": "2022-04-04T12:26:02.504Z"
   },
   {
    "duration": 3,
    "start_time": "2022-04-04T12:26:52.455Z"
   },
   {
    "duration": 77,
    "start_time": "2022-04-04T12:26:52.460Z"
   },
   {
    "duration": 15,
    "start_time": "2022-04-04T12:26:52.539Z"
   },
   {
    "duration": 22,
    "start_time": "2022-04-04T12:26:52.556Z"
   },
   {
    "duration": 4,
    "start_time": "2022-04-04T12:26:52.580Z"
   },
   {
    "duration": 73,
    "start_time": "2022-04-04T12:26:52.586Z"
   },
   {
    "duration": 24,
    "start_time": "2022-04-04T12:26:52.660Z"
   },
   {
    "duration": 11,
    "start_time": "2022-04-04T12:26:52.686Z"
   },
   {
    "duration": 52,
    "start_time": "2022-04-04T12:28:58.793Z"
   },
   {
    "duration": 24,
    "start_time": "2022-04-04T12:29:01.719Z"
   },
   {
    "duration": 11,
    "start_time": "2022-04-04T12:29:03.181Z"
   },
   {
    "duration": 480,
    "start_time": "2022-04-05T08:04:53.328Z"
   },
   {
    "duration": 103,
    "start_time": "2022-04-05T08:04:53.810Z"
   },
   {
    "duration": 22,
    "start_time": "2022-04-05T08:04:53.915Z"
   },
   {
    "duration": 51,
    "start_time": "2022-04-05T08:04:53.939Z"
   },
   {
    "duration": 6,
    "start_time": "2022-04-05T08:04:53.993Z"
   },
   {
    "duration": 98,
    "start_time": "2022-04-05T08:04:54.001Z"
   },
   {
    "duration": 38,
    "start_time": "2022-04-05T08:04:54.101Z"
   },
   {
    "duration": 16,
    "start_time": "2022-04-05T08:04:54.140Z"
   },
   {
    "duration": 20,
    "start_time": "2022-04-05T08:08:09.274Z"
   },
   {
    "duration": 19,
    "start_time": "2022-04-05T08:09:08.860Z"
   },
   {
    "duration": 21,
    "start_time": "2022-04-05T08:10:10.892Z"
   },
   {
    "duration": 21,
    "start_time": "2022-04-05T08:10:22.366Z"
   },
   {
    "duration": 104,
    "start_time": "2022-04-05T08:13:23.684Z"
   },
   {
    "duration": 13,
    "start_time": "2022-04-05T08:13:32.753Z"
   },
   {
    "duration": 21,
    "start_time": "2022-04-05T08:13:51.156Z"
   },
   {
    "duration": 12,
    "start_time": "2022-04-05T08:14:58.468Z"
   },
   {
    "duration": 15,
    "start_time": "2022-04-05T08:15:13.405Z"
   },
   {
    "duration": 10,
    "start_time": "2022-04-05T08:15:48.866Z"
   },
   {
    "duration": 16,
    "start_time": "2022-04-05T08:15:57.731Z"
   },
   {
    "duration": 193,
    "start_time": "2022-04-05T08:18:44.240Z"
   },
   {
    "duration": 92,
    "start_time": "2022-04-05T08:18:44.435Z"
   },
   {
    "duration": 24,
    "start_time": "2022-04-05T08:18:44.529Z"
   },
   {
    "duration": 51,
    "start_time": "2022-04-05T08:18:44.555Z"
   },
   {
    "duration": 6,
    "start_time": "2022-04-05T08:18:44.609Z"
   },
   {
    "duration": 93,
    "start_time": "2022-04-05T08:18:44.617Z"
   },
   {
    "duration": 37,
    "start_time": "2022-04-05T08:18:44.712Z"
   },
   {
    "duration": 43,
    "start_time": "2022-04-05T08:18:44.751Z"
   },
   {
    "duration": 16,
    "start_time": "2022-04-05T08:18:44.796Z"
   },
   {
    "duration": 73,
    "start_time": "2022-04-05T08:18:44.815Z"
   },
   {
    "duration": 17,
    "start_time": "2022-04-05T08:19:57.104Z"
   },
   {
    "duration": 15,
    "start_time": "2022-04-05T08:20:03.309Z"
   },
   {
    "duration": 15,
    "start_time": "2022-04-05T08:20:15.201Z"
   },
   {
    "duration": 3,
    "start_time": "2022-04-05T08:20:21.435Z"
   },
   {
    "duration": 94,
    "start_time": "2022-04-05T08:20:21.441Z"
   },
   {
    "duration": 21,
    "start_time": "2022-04-05T08:20:21.538Z"
   },
   {
    "duration": 48,
    "start_time": "2022-04-05T08:20:21.562Z"
   },
   {
    "duration": 7,
    "start_time": "2022-04-05T08:20:21.612Z"
   },
   {
    "duration": 95,
    "start_time": "2022-04-05T08:20:21.621Z"
   },
   {
    "duration": 35,
    "start_time": "2022-04-05T08:20:21.718Z"
   },
   {
    "duration": 40,
    "start_time": "2022-04-05T08:20:21.756Z"
   },
   {
    "duration": 19,
    "start_time": "2022-04-05T08:20:21.799Z"
   },
   {
    "duration": 24,
    "start_time": "2022-04-05T08:20:21.821Z"
   },
   {
    "duration": 568,
    "start_time": "2022-04-05T08:23:02.466Z"
   },
   {
    "duration": 93,
    "start_time": "2022-04-05T08:23:03.038Z"
   },
   {
    "duration": 22,
    "start_time": "2022-04-05T08:23:03.133Z"
   },
   {
    "duration": 48,
    "start_time": "2022-04-05T08:23:03.158Z"
   },
   {
    "duration": 12,
    "start_time": "2022-04-05T08:23:03.208Z"
   },
   {
    "duration": 92,
    "start_time": "2022-04-05T08:23:03.222Z"
   },
   {
    "duration": 36,
    "start_time": "2022-04-05T08:23:03.316Z"
   },
   {
    "duration": 39,
    "start_time": "2022-04-05T08:23:03.354Z"
   },
   {
    "duration": 348,
    "start_time": "2022-04-05T08:23:03.395Z"
   },
   {
    "duration": 48,
    "start_time": "2022-04-05T08:23:03.747Z"
   },
   {
    "duration": 17,
    "start_time": "2022-04-05T08:23:18.532Z"
   },
   {
    "duration": 15,
    "start_time": "2022-04-05T08:23:31.753Z"
   },
   {
    "duration": 17,
    "start_time": "2022-04-05T08:23:41.538Z"
   },
   {
    "duration": 4,
    "start_time": "2022-04-05T08:23:47.054Z"
   },
   {
    "duration": 115,
    "start_time": "2022-04-05T08:23:47.062Z"
   },
   {
    "duration": 27,
    "start_time": "2022-04-05T08:23:47.180Z"
   },
   {
    "duration": 37,
    "start_time": "2022-04-05T08:23:47.209Z"
   },
   {
    "duration": 7,
    "start_time": "2022-04-05T08:23:47.250Z"
   },
   {
    "duration": 103,
    "start_time": "2022-04-05T08:23:47.259Z"
   },
   {
    "duration": 45,
    "start_time": "2022-04-05T08:23:47.364Z"
   },
   {
    "duration": 23,
    "start_time": "2022-04-05T08:23:47.412Z"
   },
   {
    "duration": 348,
    "start_time": "2022-04-05T08:23:47.438Z"
   },
   {
    "duration": 337,
    "start_time": "2022-04-05T08:24:01.913Z"
   },
   {
    "duration": 258,
    "start_time": "2022-04-05T08:24:20.812Z"
   },
   {
    "duration": 275,
    "start_time": "2022-04-05T08:24:28.552Z"
   },
   {
    "duration": 307,
    "start_time": "2022-04-05T08:29:13.298Z"
   },
   {
    "duration": 308,
    "start_time": "2022-04-05T08:31:21.059Z"
   },
   {
    "duration": 464,
    "start_time": "2022-04-05T08:31:49.759Z"
   },
   {
    "duration": 310,
    "start_time": "2022-04-05T08:32:04.767Z"
   },
   {
    "duration": 322,
    "start_time": "2022-04-05T08:33:24.901Z"
   },
   {
    "duration": 451,
    "start_time": "2022-04-05T08:34:08.336Z"
   },
   {
    "duration": 474,
    "start_time": "2022-04-05T08:34:19.253Z"
   },
   {
    "duration": 471,
    "start_time": "2022-04-05T08:34:31.918Z"
   },
   {
    "duration": 22,
    "start_time": "2022-04-05T08:38:42.727Z"
   },
   {
    "duration": 12,
    "start_time": "2022-04-05T08:39:14.925Z"
   },
   {
    "duration": 21,
    "start_time": "2022-04-05T08:39:32.465Z"
   },
   {
    "duration": 24,
    "start_time": "2022-04-05T08:40:47.008Z"
   },
   {
    "duration": 21,
    "start_time": "2022-04-05T08:41:13.097Z"
   },
   {
    "duration": 25,
    "start_time": "2022-04-05T08:41:19.237Z"
   },
   {
    "duration": 17,
    "start_time": "2022-04-05T08:41:34.072Z"
   },
   {
    "duration": 18,
    "start_time": "2022-04-05T08:41:59.371Z"
   },
   {
    "duration": 19,
    "start_time": "2022-04-05T08:42:06.004Z"
   },
   {
    "duration": 24,
    "start_time": "2022-04-05T08:43:24.981Z"
   },
   {
    "duration": 22,
    "start_time": "2022-04-05T08:43:33.839Z"
   },
   {
    "duration": 14,
    "start_time": "2022-04-05T08:43:46.941Z"
   },
   {
    "duration": 23,
    "start_time": "2022-04-05T08:43:57.294Z"
   },
   {
    "duration": 16,
    "start_time": "2022-04-05T08:44:25.763Z"
   },
   {
    "duration": 16,
    "start_time": "2022-04-05T08:44:29.284Z"
   },
   {
    "duration": 15,
    "start_time": "2022-04-05T08:44:42.573Z"
   },
   {
    "duration": 15,
    "start_time": "2022-04-05T08:44:49.199Z"
   },
   {
    "duration": 345,
    "start_time": "2022-04-05T08:45:05.207Z"
   },
   {
    "duration": 257,
    "start_time": "2022-04-05T08:45:12.600Z"
   },
   {
    "duration": 257,
    "start_time": "2022-04-05T08:45:27.361Z"
   },
   {
    "duration": 4,
    "start_time": "2022-04-05T08:45:31.603Z"
   },
   {
    "duration": 130,
    "start_time": "2022-04-05T08:45:31.609Z"
   },
   {
    "duration": 22,
    "start_time": "2022-04-05T08:45:31.741Z"
   },
   {
    "duration": 35,
    "start_time": "2022-04-05T08:45:31.784Z"
   },
   {
    "duration": 73,
    "start_time": "2022-04-05T08:45:31.822Z"
   },
   {
    "duration": 95,
    "start_time": "2022-04-05T08:45:31.898Z"
   },
   {
    "duration": 37,
    "start_time": "2022-04-05T08:45:31.995Z"
   },
   {
    "duration": 51,
    "start_time": "2022-04-05T08:45:32.035Z"
   },
   {
    "duration": 326,
    "start_time": "2022-04-05T08:45:32.088Z"
   },
   {
    "duration": 402,
    "start_time": "2022-04-05T08:45:35.102Z"
   },
   {
    "duration": 131,
    "start_time": "2022-04-05T08:45:50.864Z"
   },
   {
    "duration": 85,
    "start_time": "2022-04-05T08:46:01.616Z"
   },
   {
    "duration": 97,
    "start_time": "2022-04-05T08:47:05.348Z"
   },
   {
    "duration": 18,
    "start_time": "2022-04-05T08:47:15.879Z"
   },
   {
    "duration": 77,
    "start_time": "2022-04-05T08:47:29.536Z"
   },
   {
    "duration": 23,
    "start_time": "2022-04-05T08:48:52.721Z"
   },
   {
    "duration": 210,
    "start_time": "2022-04-05T08:50:44.229Z"
   },
   {
    "duration": 4,
    "start_time": "2022-04-05T08:51:08.713Z"
   },
   {
    "duration": 110,
    "start_time": "2022-04-05T08:51:08.719Z"
   },
   {
    "duration": 20,
    "start_time": "2022-04-05T08:51:08.831Z"
   },
   {
    "duration": 53,
    "start_time": "2022-04-05T08:51:08.853Z"
   },
   {
    "duration": 3,
    "start_time": "2022-04-05T08:51:08.909Z"
   },
   {
    "duration": 99,
    "start_time": "2022-04-05T08:51:08.915Z"
   },
   {
    "duration": 37,
    "start_time": "2022-04-05T08:51:09.016Z"
   },
   {
    "duration": 38,
    "start_time": "2022-04-05T08:51:09.055Z"
   },
   {
    "duration": 324,
    "start_time": "2022-04-05T08:51:09.095Z"
   },
   {
    "duration": 23,
    "start_time": "2022-04-05T08:51:09.423Z"
   },
   {
    "duration": 0,
    "start_time": "2022-04-05T08:51:09.449Z"
   },
   {
    "duration": 216,
    "start_time": "2022-04-05T08:51:14.413Z"
   },
   {
    "duration": 212,
    "start_time": "2022-04-05T08:51:59.864Z"
   },
   {
    "duration": 28,
    "start_time": "2022-04-05T08:55:59.456Z"
   },
   {
    "duration": 14,
    "start_time": "2022-04-05T08:58:05.233Z"
   },
   {
    "duration": 20,
    "start_time": "2022-04-05T08:59:38.721Z"
   },
   {
    "duration": 14,
    "start_time": "2022-04-05T09:00:37.740Z"
   },
   {
    "duration": 21,
    "start_time": "2022-04-05T09:02:12.824Z"
   },
   {
    "duration": 14,
    "start_time": "2022-04-05T09:02:20.700Z"
   },
   {
    "duration": 281,
    "start_time": "2022-04-05T09:35:27.422Z"
   },
   {
    "duration": 4,
    "start_time": "2022-04-05T09:38:21.443Z"
   },
   {
    "duration": 104,
    "start_time": "2022-04-05T09:38:21.450Z"
   },
   {
    "duration": 36,
    "start_time": "2022-04-05T09:38:21.556Z"
   },
   {
    "duration": 27,
    "start_time": "2022-04-05T09:38:21.594Z"
   },
   {
    "duration": 3,
    "start_time": "2022-04-05T09:38:21.624Z"
   },
   {
    "duration": 104,
    "start_time": "2022-04-05T09:38:21.629Z"
   },
   {
    "duration": 54,
    "start_time": "2022-04-05T09:38:21.735Z"
   },
   {
    "duration": 22,
    "start_time": "2022-04-05T09:38:21.791Z"
   },
   {
    "duration": 326,
    "start_time": "2022-04-05T09:38:21.815Z"
   },
   {
    "duration": 23,
    "start_time": "2022-04-05T09:38:22.144Z"
   },
   {
    "duration": 0,
    "start_time": "2022-04-05T09:38:22.184Z"
   },
   {
    "duration": 1,
    "start_time": "2022-04-05T09:38:22.185Z"
   },
   {
    "duration": 0,
    "start_time": "2022-04-05T09:38:22.187Z"
   },
   {
    "duration": 223,
    "start_time": "2022-04-05T09:38:26.186Z"
   },
   {
    "duration": 15,
    "start_time": "2022-04-05T09:38:29.550Z"
   },
   {
    "duration": 14,
    "start_time": "2022-04-05T09:38:32.632Z"
   },
   {
    "duration": 26,
    "start_time": "2022-04-05T09:39:27.702Z"
   },
   {
    "duration": 13,
    "start_time": "2022-04-05T09:39:45.139Z"
   },
   {
    "duration": 291,
    "start_time": "2022-04-05T10:35:49.697Z"
   },
   {
    "duration": 10,
    "start_time": "2022-04-05T10:42:11.255Z"
   },
   {
    "duration": 131,
    "start_time": "2022-04-05T10:42:36.006Z"
   },
   {
    "duration": 11,
    "start_time": "2022-04-05T10:43:06.572Z"
   },
   {
    "duration": 23,
    "start_time": "2022-04-05T10:47:58.534Z"
   },
   {
    "duration": 11,
    "start_time": "2022-04-05T10:48:49.755Z"
   },
   {
    "duration": 17,
    "start_time": "2022-04-05T10:49:02.164Z"
   },
   {
    "duration": 85,
    "start_time": "2022-04-05T10:49:19.243Z"
   },
   {
    "duration": 13,
    "start_time": "2022-04-05T10:50:11.262Z"
   },
   {
    "duration": 305,
    "start_time": "2022-04-05T10:50:38.409Z"
   },
   {
    "duration": 23,
    "start_time": "2022-04-05T10:51:06.276Z"
   },
   {
    "duration": 17,
    "start_time": "2022-04-05T10:51:12.531Z"
   },
   {
    "duration": 20,
    "start_time": "2022-04-05T10:51:24.523Z"
   },
   {
    "duration": 17,
    "start_time": "2022-04-05T10:51:29.451Z"
   },
   {
    "duration": 14,
    "start_time": "2022-04-05T10:51:35.754Z"
   },
   {
    "duration": 278,
    "start_time": "2022-04-05T10:51:42.299Z"
   },
   {
    "duration": 12,
    "start_time": "2022-04-05T10:51:44.637Z"
   },
   {
    "duration": 15,
    "start_time": "2022-04-05T10:51:51.804Z"
   },
   {
    "duration": 297,
    "start_time": "2022-04-05T10:51:55.989Z"
   },
   {
    "duration": 11,
    "start_time": "2022-04-05T10:51:58.228Z"
   },
   {
    "duration": 334,
    "start_time": "2022-04-05T10:52:10.423Z"
   },
   {
    "duration": 22,
    "start_time": "2022-04-05T10:52:12.941Z"
   },
   {
    "duration": 295,
    "start_time": "2022-04-05T10:52:24.621Z"
   },
   {
    "duration": 19,
    "start_time": "2022-04-05T10:52:26.353Z"
   },
   {
    "duration": 401,
    "start_time": "2022-04-05T10:53:18.246Z"
   },
   {
    "duration": 20,
    "start_time": "2022-04-05T10:53:20.510Z"
   },
   {
    "duration": 290,
    "start_time": "2022-04-05T10:58:18.696Z"
   },
   {
    "duration": 23,
    "start_time": "2022-04-05T10:58:21.294Z"
   },
   {
    "duration": 16,
    "start_time": "2022-04-05T10:59:56.424Z"
   },
   {
    "duration": 5,
    "start_time": "2022-04-05T11:01:30.511Z"
   },
   {
    "duration": 108,
    "start_time": "2022-04-05T11:01:30.519Z"
   },
   {
    "duration": 22,
    "start_time": "2022-04-05T11:01:30.629Z"
   },
   {
    "duration": 56,
    "start_time": "2022-04-05T11:01:30.654Z"
   },
   {
    "duration": 4,
    "start_time": "2022-04-05T11:01:30.714Z"
   },
   {
    "duration": 102,
    "start_time": "2022-04-05T11:01:30.721Z"
   },
   {
    "duration": 59,
    "start_time": "2022-04-05T11:01:30.825Z"
   },
   {
    "duration": 22,
    "start_time": "2022-04-05T11:01:30.887Z"
   },
   {
    "duration": 327,
    "start_time": "2022-04-05T11:01:30.912Z"
   },
   {
    "duration": 99,
    "start_time": "2022-04-05T11:01:31.241Z"
   },
   {
    "duration": 241,
    "start_time": "2022-04-05T11:01:31.342Z"
   },
   {
    "duration": 304,
    "start_time": "2022-04-05T11:01:31.586Z"
   },
   {
    "duration": 19,
    "start_time": "2022-04-05T11:01:31.892Z"
   },
   {
    "duration": 15,
    "start_time": "2022-04-05T11:01:31.915Z"
   },
   {
    "duration": 3,
    "start_time": "2022-04-05T11:02:18.553Z"
   },
   {
    "duration": 107,
    "start_time": "2022-04-05T11:02:18.560Z"
   },
   {
    "duration": 31,
    "start_time": "2022-04-05T11:02:18.670Z"
   },
   {
    "duration": 30,
    "start_time": "2022-04-05T11:02:18.703Z"
   },
   {
    "duration": 3,
    "start_time": "2022-04-05T11:02:18.736Z"
   },
   {
    "duration": 121,
    "start_time": "2022-04-05T11:02:18.741Z"
   },
   {
    "duration": 45,
    "start_time": "2022-04-05T11:02:18.864Z"
   },
   {
    "duration": 25,
    "start_time": "2022-04-05T11:02:18.911Z"
   },
   {
    "duration": 319,
    "start_time": "2022-04-05T11:02:18.938Z"
   },
   {
    "duration": 93,
    "start_time": "2022-04-05T11:02:19.259Z"
   },
   {
    "duration": 275,
    "start_time": "2022-04-05T11:02:19.354Z"
   },
   {
    "duration": 332,
    "start_time": "2022-04-05T11:02:19.631Z"
   },
   {
    "duration": 28,
    "start_time": "2022-04-05T11:02:19.965Z"
   },
   {
    "duration": 26,
    "start_time": "2022-04-05T11:02:19.996Z"
   },
   {
    "duration": 18,
    "start_time": "2022-04-05T11:06:44.288Z"
   },
   {
    "duration": 21,
    "start_time": "2022-04-05T11:07:24.509Z"
   },
   {
    "duration": 7,
    "start_time": "2022-04-05T11:07:41.323Z"
   },
   {
    "duration": 21,
    "start_time": "2022-04-05T11:08:16.773Z"
   },
   {
    "duration": 6,
    "start_time": "2022-04-05T11:08:38.579Z"
   },
   {
    "duration": 5,
    "start_time": "2022-04-05T11:08:41.163Z"
   },
   {
    "duration": 103,
    "start_time": "2022-04-05T11:08:41.174Z"
   },
   {
    "duration": 21,
    "start_time": "2022-04-05T11:08:41.280Z"
   },
   {
    "duration": 39,
    "start_time": "2022-04-05T11:08:41.303Z"
   },
   {
    "duration": 3,
    "start_time": "2022-04-05T11:08:41.344Z"
   },
   {
    "duration": 104,
    "start_time": "2022-04-05T11:08:41.351Z"
   },
   {
    "duration": 56,
    "start_time": "2022-04-05T11:08:41.458Z"
   },
   {
    "duration": 19,
    "start_time": "2022-04-05T11:08:41.517Z"
   },
   {
    "duration": 452,
    "start_time": "2022-04-05T11:08:41.539Z"
   },
   {
    "duration": 107,
    "start_time": "2022-04-05T11:08:41.994Z"
   },
   {
    "duration": 241,
    "start_time": "2022-04-05T11:08:42.103Z"
   },
   {
    "duration": 310,
    "start_time": "2022-04-05T11:08:42.347Z"
   },
   {
    "duration": 33,
    "start_time": "2022-04-05T11:08:42.659Z"
   },
   {
    "duration": 15,
    "start_time": "2022-04-05T11:08:42.694Z"
   },
   {
    "duration": 23,
    "start_time": "2022-04-05T11:08:42.712Z"
   },
   {
    "duration": 7,
    "start_time": "2022-04-05T11:12:26.637Z"
   },
   {
    "duration": 7,
    "start_time": "2022-04-05T11:14:57.276Z"
   },
   {
    "duration": 11,
    "start_time": "2022-04-05T11:17:37.590Z"
   },
   {
    "duration": 15,
    "start_time": "2022-04-05T11:20:08.703Z"
   },
   {
    "duration": 769,
    "start_time": "2022-04-05T11:22:09.191Z"
   },
   {
    "duration": 5,
    "start_time": "2022-04-05T11:22:17.814Z"
   },
   {
    "duration": 136,
    "start_time": "2022-04-05T11:22:17.823Z"
   },
   {
    "duration": 37,
    "start_time": "2022-04-05T11:22:17.961Z"
   },
   {
    "duration": 35,
    "start_time": "2022-04-05T11:22:18.001Z"
   },
   {
    "duration": 7,
    "start_time": "2022-04-05T11:22:18.039Z"
   },
   {
    "duration": 108,
    "start_time": "2022-04-05T11:22:18.048Z"
   },
   {
    "duration": 52,
    "start_time": "2022-04-05T11:22:18.159Z"
   },
   {
    "duration": 16,
    "start_time": "2022-04-05T11:22:18.213Z"
   },
   {
    "duration": 334,
    "start_time": "2022-04-05T11:22:18.231Z"
   },
   {
    "duration": 92,
    "start_time": "2022-04-05T11:22:18.567Z"
   },
   {
    "duration": 329,
    "start_time": "2022-04-05T11:22:18.662Z"
   },
   {
    "duration": 412,
    "start_time": "2022-04-05T11:22:18.994Z"
   },
   {
    "duration": 27,
    "start_time": "2022-04-05T11:22:19.409Z"
   },
   {
    "duration": 27,
    "start_time": "2022-04-05T11:22:19.440Z"
   },
   {
    "duration": 11,
    "start_time": "2022-04-05T11:22:19.471Z"
   },
   {
    "duration": 14,
    "start_time": "2022-04-05T11:22:19.484Z"
   },
   {
    "duration": 11,
    "start_time": "2022-04-05T11:22:19.501Z"
   },
   {
    "duration": 12,
    "start_time": "2022-04-05T11:22:19.514Z"
   },
   {
    "duration": 602,
    "start_time": "2022-04-05T11:22:19.528Z"
   },
   {
    "duration": 415,
    "start_time": "2022-04-05T11:29:15.278Z"
   },
   {
    "duration": 10,
    "start_time": "2022-04-05T11:35:33.268Z"
   },
   {
    "duration": 864,
    "start_time": "2022-04-05T11:36:24.097Z"
   },
   {
    "duration": 9,
    "start_time": "2022-04-05T11:36:43.662Z"
   },
   {
    "duration": 1222,
    "start_time": "2022-04-06T10:42:34.166Z"
   },
   {
    "duration": 60,
    "start_time": "2022-04-06T10:42:35.390Z"
   },
   {
    "duration": 13,
    "start_time": "2022-04-06T10:42:35.451Z"
   },
   {
    "duration": 17,
    "start_time": "2022-04-06T10:42:35.465Z"
   },
   {
    "duration": 2,
    "start_time": "2022-04-06T10:42:35.484Z"
   },
   {
    "duration": 61,
    "start_time": "2022-04-06T10:42:35.487Z"
   },
   {
    "duration": 21,
    "start_time": "2022-04-06T10:42:35.549Z"
   },
   {
    "duration": 9,
    "start_time": "2022-04-06T10:42:35.571Z"
   },
   {
    "duration": 204,
    "start_time": "2022-04-06T10:42:35.581Z"
   },
   {
    "duration": 354,
    "start_time": "2022-04-06T10:42:35.787Z"
   },
   {
    "duration": 242,
    "start_time": "2022-04-06T10:42:36.143Z"
   },
   {
    "duration": 157,
    "start_time": "2022-04-06T10:42:36.387Z"
   },
   {
    "duration": 13,
    "start_time": "2022-04-06T10:42:36.546Z"
   },
   {
    "duration": 9,
    "start_time": "2022-04-06T10:42:36.561Z"
   },
   {
    "duration": 3,
    "start_time": "2022-04-06T10:42:36.572Z"
   },
   {
    "duration": 6,
    "start_time": "2022-04-06T10:42:36.576Z"
   },
   {
    "duration": 7,
    "start_time": "2022-04-06T10:42:36.583Z"
   },
   {
    "duration": 7,
    "start_time": "2022-04-06T10:42:36.591Z"
   },
   {
    "duration": 235,
    "start_time": "2022-04-06T10:42:36.599Z"
   },
   {
    "duration": 150,
    "start_time": "2022-04-06T10:42:36.836Z"
   },
   {
    "duration": 132,
    "start_time": "2022-04-06T10:43:05.911Z"
   },
   {
    "duration": 129,
    "start_time": "2022-04-06T10:43:13.077Z"
   },
   {
    "duration": 139,
    "start_time": "2022-04-06T10:43:22.544Z"
   },
   {
    "duration": 141,
    "start_time": "2022-04-06T10:43:34.755Z"
   },
   {
    "duration": 137,
    "start_time": "2022-04-06T10:44:06.661Z"
   },
   {
    "duration": 140,
    "start_time": "2022-04-06T10:44:17.889Z"
   },
   {
    "duration": 12,
    "start_time": "2022-04-06T10:46:58.134Z"
   },
   {
    "duration": 23,
    "start_time": "2022-04-06T10:47:14.679Z"
   },
   {
    "duration": 18,
    "start_time": "2022-04-06T10:48:20.624Z"
   },
   {
    "duration": 873,
    "start_time": "2022-04-06T11:12:06.509Z"
   },
   {
    "duration": 3,
    "start_time": "2022-04-06T11:12:48.806Z"
   },
   {
    "duration": 64,
    "start_time": "2022-04-06T11:12:48.811Z"
   },
   {
    "duration": 12,
    "start_time": "2022-04-06T11:12:48.877Z"
   },
   {
    "duration": 14,
    "start_time": "2022-04-06T11:12:48.890Z"
   },
   {
    "duration": 2,
    "start_time": "2022-04-06T11:12:48.906Z"
   },
   {
    "duration": 42,
    "start_time": "2022-04-06T11:12:48.930Z"
   },
   {
    "duration": 20,
    "start_time": "2022-04-06T11:12:48.973Z"
   },
   {
    "duration": 9,
    "start_time": "2022-04-06T11:12:48.994Z"
   },
   {
    "duration": 179,
    "start_time": "2022-04-06T11:12:49.005Z"
   },
   {
    "duration": 55,
    "start_time": "2022-04-06T11:12:49.185Z"
   },
   {
    "duration": 118,
    "start_time": "2022-04-06T11:12:49.242Z"
   },
   {
    "duration": 147,
    "start_time": "2022-04-06T11:12:49.362Z"
   },
   {
    "duration": 18,
    "start_time": "2022-04-06T11:12:49.511Z"
   },
   {
    "duration": 9,
    "start_time": "2022-04-06T11:12:49.532Z"
   },
   {
    "duration": 7,
    "start_time": "2022-04-06T11:12:49.542Z"
   },
   {
    "duration": 7,
    "start_time": "2022-04-06T11:12:49.551Z"
   },
   {
    "duration": 6,
    "start_time": "2022-04-06T11:12:49.559Z"
   },
   {
    "duration": 6,
    "start_time": "2022-04-06T11:12:49.567Z"
   },
   {
    "duration": 318,
    "start_time": "2022-04-06T11:12:49.574Z"
   },
   {
    "duration": 154,
    "start_time": "2022-04-06T11:12:49.893Z"
   },
   {
    "duration": 20,
    "start_time": "2022-04-06T11:12:50.048Z"
   },
   {
    "duration": 757,
    "start_time": "2022-04-06T11:12:50.069Z"
   },
   {
    "duration": 130,
    "start_time": "2022-04-06T11:17:36.905Z"
   },
   {
    "duration": 3,
    "start_time": "2022-04-06T11:17:45.896Z"
   },
   {
    "duration": 65,
    "start_time": "2022-04-06T11:17:45.901Z"
   },
   {
    "duration": 13,
    "start_time": "2022-04-06T11:17:45.968Z"
   },
   {
    "duration": 16,
    "start_time": "2022-04-06T11:17:45.982Z"
   },
   {
    "duration": 2,
    "start_time": "2022-04-06T11:17:46.000Z"
   },
   {
    "duration": 45,
    "start_time": "2022-04-06T11:17:46.029Z"
   },
   {
    "duration": 22,
    "start_time": "2022-04-06T11:17:46.076Z"
   },
   {
    "duration": 30,
    "start_time": "2022-04-06T11:17:46.100Z"
   },
   {
    "duration": 174,
    "start_time": "2022-04-06T11:17:46.132Z"
   },
   {
    "duration": 56,
    "start_time": "2022-04-06T11:17:46.308Z"
   },
   {
    "duration": 118,
    "start_time": "2022-04-06T11:17:46.366Z"
   },
   {
    "duration": 161,
    "start_time": "2022-04-06T11:17:46.486Z"
   },
   {
    "duration": 13,
    "start_time": "2022-04-06T11:17:46.649Z"
   },
   {
    "duration": 10,
    "start_time": "2022-04-06T11:17:46.664Z"
   },
   {
    "duration": 6,
    "start_time": "2022-04-06T11:17:46.675Z"
   },
   {
    "duration": 7,
    "start_time": "2022-04-06T11:17:46.682Z"
   },
   {
    "duration": 6,
    "start_time": "2022-04-06T11:17:46.691Z"
   },
   {
    "duration": 31,
    "start_time": "2022-04-06T11:17:46.699Z"
   },
   {
    "duration": 222,
    "start_time": "2022-04-06T11:17:46.731Z"
   },
   {
    "duration": 152,
    "start_time": "2022-04-06T11:17:46.955Z"
   },
   {
    "duration": 21,
    "start_time": "2022-04-06T11:17:47.109Z"
   },
   {
    "duration": 125,
    "start_time": "2022-04-06T11:17:47.132Z"
   },
   {
    "duration": 0,
    "start_time": "2022-04-06T11:17:47.258Z"
   },
   {
    "duration": 23,
    "start_time": "2022-04-06T11:18:37.600Z"
   },
   {
    "duration": 10,
    "start_time": "2022-04-06T11:20:17.084Z"
   },
   {
    "duration": 15,
    "start_time": "2022-04-06T11:20:36.233Z"
   },
   {
    "duration": 13,
    "start_time": "2022-04-06T11:20:45.180Z"
   },
   {
    "duration": 13,
    "start_time": "2022-04-06T11:21:31.101Z"
   },
   {
    "duration": 14,
    "start_time": "2022-04-06T11:23:23.826Z"
   },
   {
    "duration": 15,
    "start_time": "2022-04-06T11:23:32.355Z"
   },
   {
    "duration": 3,
    "start_time": "2022-04-06T11:23:36.235Z"
   },
   {
    "duration": 68,
    "start_time": "2022-04-06T11:23:36.240Z"
   },
   {
    "duration": 11,
    "start_time": "2022-04-06T11:23:36.310Z"
   },
   {
    "duration": 16,
    "start_time": "2022-04-06T11:23:36.329Z"
   },
   {
    "duration": 2,
    "start_time": "2022-04-06T11:23:36.347Z"
   },
   {
    "duration": 51,
    "start_time": "2022-04-06T11:23:36.350Z"
   },
   {
    "duration": 33,
    "start_time": "2022-04-06T11:23:36.403Z"
   },
   {
    "duration": 8,
    "start_time": "2022-04-06T11:23:36.438Z"
   },
   {
    "duration": 161,
    "start_time": "2022-04-06T11:23:36.448Z"
   },
   {
    "duration": 56,
    "start_time": "2022-04-06T11:23:36.611Z"
   },
   {
    "duration": 113,
    "start_time": "2022-04-06T11:23:36.668Z"
   },
   {
    "duration": 151,
    "start_time": "2022-04-06T11:23:36.782Z"
   },
   {
    "duration": 13,
    "start_time": "2022-04-06T11:23:36.935Z"
   },
   {
    "duration": 11,
    "start_time": "2022-04-06T11:23:36.950Z"
   },
   {
    "duration": 7,
    "start_time": "2022-04-06T11:23:36.962Z"
   },
   {
    "duration": 6,
    "start_time": "2022-04-06T11:23:36.970Z"
   },
   {
    "duration": 6,
    "start_time": "2022-04-06T11:23:36.978Z"
   },
   {
    "duration": 7,
    "start_time": "2022-04-06T11:23:36.985Z"
   },
   {
    "duration": 234,
    "start_time": "2022-04-06T11:23:36.993Z"
   },
   {
    "duration": 152,
    "start_time": "2022-04-06T11:23:37.228Z"
   },
   {
    "duration": 17,
    "start_time": "2022-04-06T11:23:37.382Z"
   },
   {
    "duration": 29,
    "start_time": "2022-04-06T11:23:37.401Z"
   },
   {
    "duration": 876,
    "start_time": "2022-04-06T11:23:37.431Z"
   },
   {
    "duration": 19,
    "start_time": "2022-04-06T11:24:22.540Z"
   },
   {
    "duration": 19,
    "start_time": "2022-04-06T11:24:45.973Z"
   },
   {
    "duration": 3,
    "start_time": "2022-04-06T11:24:49.209Z"
   },
   {
    "duration": 63,
    "start_time": "2022-04-06T11:24:49.261Z"
   },
   {
    "duration": 13,
    "start_time": "2022-04-06T11:24:49.326Z"
   },
   {
    "duration": 18,
    "start_time": "2022-04-06T11:24:49.340Z"
   },
   {
    "duration": 3,
    "start_time": "2022-04-06T11:24:49.359Z"
   },
   {
    "duration": 40,
    "start_time": "2022-04-06T11:24:49.364Z"
   },
   {
    "duration": 41,
    "start_time": "2022-04-06T11:24:49.405Z"
   },
   {
    "duration": 8,
    "start_time": "2022-04-06T11:24:49.448Z"
   },
   {
    "duration": 168,
    "start_time": "2022-04-06T11:24:49.458Z"
   },
   {
    "duration": 45,
    "start_time": "2022-04-06T11:24:49.627Z"
   },
   {
    "duration": 121,
    "start_time": "2022-04-06T11:24:49.673Z"
   },
   {
    "duration": 265,
    "start_time": "2022-04-06T11:24:49.795Z"
   },
   {
    "duration": 12,
    "start_time": "2022-04-06T11:24:50.062Z"
   },
   {
    "duration": 9,
    "start_time": "2022-04-06T11:24:50.076Z"
   },
   {
    "duration": 8,
    "start_time": "2022-04-06T11:24:50.087Z"
   },
   {
    "duration": 8,
    "start_time": "2022-04-06T11:24:50.096Z"
   },
   {
    "duration": 26,
    "start_time": "2022-04-06T11:24:50.105Z"
   },
   {
    "duration": 10,
    "start_time": "2022-04-06T11:24:50.133Z"
   },
   {
    "duration": 219,
    "start_time": "2022-04-06T11:24:50.144Z"
   },
   {
    "duration": 154,
    "start_time": "2022-04-06T11:24:50.365Z"
   },
   {
    "duration": 18,
    "start_time": "2022-04-06T11:24:50.520Z"
   },
   {
    "duration": 21,
    "start_time": "2022-04-06T11:24:50.539Z"
   },
   {
    "duration": 736,
    "start_time": "2022-04-06T11:24:50.562Z"
   },
   {
    "duration": 17,
    "start_time": "2022-04-06T11:27:32.206Z"
   },
   {
    "duration": 20,
    "start_time": "2022-04-06T11:27:41.846Z"
   },
   {
    "duration": 19,
    "start_time": "2022-04-06T11:27:42.521Z"
   },
   {
    "duration": 17,
    "start_time": "2022-04-06T11:28:00.196Z"
   },
   {
    "duration": 749,
    "start_time": "2022-04-06T11:28:01.061Z"
   },
   {
    "duration": 24,
    "start_time": "2022-04-06T11:28:28.949Z"
   },
   {
    "duration": 25,
    "start_time": "2022-04-06T11:28:43.507Z"
   },
   {
    "duration": 25,
    "start_time": "2022-04-06T11:29:05.850Z"
   },
   {
    "duration": 24,
    "start_time": "2022-04-06T11:30:02.102Z"
   },
   {
    "duration": 3,
    "start_time": "2022-04-06T11:30:15.481Z"
   },
   {
    "duration": 67,
    "start_time": "2022-04-06T11:30:15.486Z"
   },
   {
    "duration": 13,
    "start_time": "2022-04-06T11:30:15.554Z"
   },
   {
    "duration": 16,
    "start_time": "2022-04-06T11:30:15.568Z"
   },
   {
    "duration": 2,
    "start_time": "2022-04-06T11:30:15.585Z"
   },
   {
    "duration": 69,
    "start_time": "2022-04-06T11:30:15.589Z"
   },
   {
    "duration": 23,
    "start_time": "2022-04-06T11:30:15.660Z"
   },
   {
    "duration": 10,
    "start_time": "2022-04-06T11:30:15.684Z"
   },
   {
    "duration": 174,
    "start_time": "2022-04-06T11:30:15.696Z"
   },
   {
    "duration": 45,
    "start_time": "2022-04-06T11:30:15.873Z"
   },
   {
    "duration": 122,
    "start_time": "2022-04-06T11:30:15.929Z"
   },
   {
    "duration": 149,
    "start_time": "2022-04-06T11:30:16.053Z"
   },
   {
    "duration": 14,
    "start_time": "2022-04-06T11:30:16.204Z"
   },
   {
    "duration": 10,
    "start_time": "2022-04-06T11:30:16.229Z"
   },
   {
    "duration": 6,
    "start_time": "2022-04-06T11:30:16.240Z"
   },
   {
    "duration": 8,
    "start_time": "2022-04-06T11:30:16.247Z"
   },
   {
    "duration": 11,
    "start_time": "2022-04-06T11:30:16.257Z"
   },
   {
    "duration": 9,
    "start_time": "2022-04-06T11:30:16.269Z"
   },
   {
    "duration": 228,
    "start_time": "2022-04-06T11:30:16.279Z"
   },
   {
    "duration": 152,
    "start_time": "2022-04-06T11:30:16.509Z"
   },
   {
    "duration": 20,
    "start_time": "2022-04-06T11:30:16.662Z"
   },
   {
    "duration": 29,
    "start_time": "2022-04-06T11:30:21.385Z"
   },
   {
    "duration": 25,
    "start_time": "2022-04-06T11:30:57.104Z"
   },
   {
    "duration": 19,
    "start_time": "2022-04-06T11:31:15.576Z"
   },
   {
    "duration": 26,
    "start_time": "2022-04-06T11:31:22.945Z"
   },
   {
    "duration": 25,
    "start_time": "2022-04-06T11:31:31.026Z"
   },
   {
    "duration": 16,
    "start_time": "2022-04-06T11:31:56.426Z"
   },
   {
    "duration": 15,
    "start_time": "2022-04-06T11:32:14.391Z"
   },
   {
    "duration": 18,
    "start_time": "2022-04-06T11:34:42.004Z"
   },
   {
    "duration": 14,
    "start_time": "2022-04-06T11:38:29.088Z"
   },
   {
    "duration": 15,
    "start_time": "2022-04-06T11:38:48.157Z"
   },
   {
    "duration": 23,
    "start_time": "2022-04-06T11:39:15.147Z"
   },
   {
    "duration": 17,
    "start_time": "2022-04-06T11:39:47.670Z"
   },
   {
    "duration": 10,
    "start_time": "2022-04-06T11:39:48.214Z"
   },
   {
    "duration": 9,
    "start_time": "2022-04-06T11:47:23.095Z"
   },
   {
    "duration": 15,
    "start_time": "2022-04-06T11:47:29.473Z"
   },
   {
    "duration": 17,
    "start_time": "2022-04-06T11:48:12.405Z"
   },
   {
    "duration": 26,
    "start_time": "2022-04-06T11:48:22.057Z"
   },
   {
    "duration": 19,
    "start_time": "2022-04-06T11:50:30.262Z"
   },
   {
    "duration": 14,
    "start_time": "2022-04-06T11:50:54.026Z"
   },
   {
    "duration": 12,
    "start_time": "2022-04-06T11:52:42.113Z"
   },
   {
    "duration": 10,
    "start_time": "2022-04-06T11:53:08.800Z"
   },
   {
    "duration": 15,
    "start_time": "2022-04-06T11:54:54.717Z"
   },
   {
    "duration": 11,
    "start_time": "2022-04-06T11:55:33.003Z"
   },
   {
    "duration": 12,
    "start_time": "2022-04-06T12:03:44.586Z"
   },
   {
    "duration": 3,
    "start_time": "2022-04-06T12:03:58.573Z"
   },
   {
    "duration": 101,
    "start_time": "2022-04-06T12:03:58.578Z"
   },
   {
    "duration": 22,
    "start_time": "2022-04-06T12:03:58.681Z"
   },
   {
    "duration": 41,
    "start_time": "2022-04-06T12:03:58.705Z"
   },
   {
    "duration": 3,
    "start_time": "2022-04-06T12:03:58.749Z"
   },
   {
    "duration": 50,
    "start_time": "2022-04-06T12:03:58.754Z"
   },
   {
    "duration": 57,
    "start_time": "2022-04-06T12:03:58.806Z"
   },
   {
    "duration": 10,
    "start_time": "2022-04-06T12:03:58.865Z"
   },
   {
    "duration": 260,
    "start_time": "2022-04-06T12:03:58.876Z"
   },
   {
    "duration": 53,
    "start_time": "2022-04-06T12:03:59.138Z"
   },
   {
    "duration": 147,
    "start_time": "2022-04-06T12:03:59.195Z"
   },
   {
    "duration": 166,
    "start_time": "2022-04-06T12:03:59.344Z"
   },
   {
    "duration": 27,
    "start_time": "2022-04-06T12:03:59.511Z"
   },
   {
    "duration": 15,
    "start_time": "2022-04-06T12:03:59.540Z"
   },
   {
    "duration": 8,
    "start_time": "2022-04-06T12:03:59.556Z"
   },
   {
    "duration": 6,
    "start_time": "2022-04-06T12:03:59.565Z"
   },
   {
    "duration": 7,
    "start_time": "2022-04-06T12:03:59.573Z"
   },
   {
    "duration": 7,
    "start_time": "2022-04-06T12:03:59.582Z"
   },
   {
    "duration": 253,
    "start_time": "2022-04-06T12:03:59.590Z"
   },
   {
    "duration": 238,
    "start_time": "2022-04-06T12:03:59.844Z"
   },
   {
    "duration": 31,
    "start_time": "2022-04-06T12:04:00.084Z"
   },
   {
    "duration": 28,
    "start_time": "2022-04-06T12:04:00.130Z"
   },
   {
    "duration": 13,
    "start_time": "2022-04-06T12:04:00.161Z"
   },
   {
    "duration": 0,
    "start_time": "2022-04-06T12:04:00.176Z"
   },
   {
    "duration": 0,
    "start_time": "2022-04-06T12:04:00.177Z"
   },
   {
    "duration": 0,
    "start_time": "2022-04-06T12:04:00.179Z"
   },
   {
    "duration": 0,
    "start_time": "2022-04-06T12:04:00.180Z"
   },
   {
    "duration": 0,
    "start_time": "2022-04-06T12:04:00.181Z"
   },
   {
    "duration": 0,
    "start_time": "2022-04-06T12:04:00.183Z"
   },
   {
    "duration": 15,
    "start_time": "2022-04-06T12:04:28.024Z"
   },
   {
    "duration": 22,
    "start_time": "2022-04-06T12:05:00.425Z"
   },
   {
    "duration": 10,
    "start_time": "2022-04-06T12:05:11.217Z"
   },
   {
    "duration": 1011,
    "start_time": "2022-04-06T12:06:55.602Z"
   },
   {
    "duration": 17,
    "start_time": "2022-04-06T12:06:56.615Z"
   },
   {
    "duration": 11,
    "start_time": "2022-04-06T12:06:56.883Z"
   },
   {
    "duration": 3,
    "start_time": "2022-04-06T12:07:01.753Z"
   },
   {
    "duration": 80,
    "start_time": "2022-04-06T12:07:01.758Z"
   },
   {
    "duration": 17,
    "start_time": "2022-04-06T12:07:01.846Z"
   },
   {
    "duration": 43,
    "start_time": "2022-04-06T12:07:01.865Z"
   },
   {
    "duration": 42,
    "start_time": "2022-04-06T12:07:01.910Z"
   },
   {
    "duration": 60,
    "start_time": "2022-04-06T12:07:01.955Z"
   },
   {
    "duration": 37,
    "start_time": "2022-04-06T12:07:02.017Z"
   },
   {
    "duration": 59,
    "start_time": "2022-04-06T12:07:02.056Z"
   },
   {
    "duration": 201,
    "start_time": "2022-04-06T12:07:02.117Z"
   },
   {
    "duration": 59,
    "start_time": "2022-04-06T12:07:02.319Z"
   },
   {
    "duration": 125,
    "start_time": "2022-04-06T12:07:02.381Z"
   },
   {
    "duration": 168,
    "start_time": "2022-04-06T12:07:02.508Z"
   },
   {
    "duration": 14,
    "start_time": "2022-04-06T12:07:02.678Z"
   },
   {
    "duration": 19,
    "start_time": "2022-04-06T12:07:02.694Z"
   },
   {
    "duration": 42,
    "start_time": "2022-04-06T12:07:02.714Z"
   },
   {
    "duration": 17,
    "start_time": "2022-04-06T12:07:02.758Z"
   },
   {
    "duration": 31,
    "start_time": "2022-04-06T12:07:02.776Z"
   },
   {
    "duration": 17,
    "start_time": "2022-04-06T12:07:02.808Z"
   },
   {
    "duration": 386,
    "start_time": "2022-04-06T12:07:02.826Z"
   },
   {
    "duration": 177,
    "start_time": "2022-04-06T12:07:03.214Z"
   },
   {
    "duration": 20,
    "start_time": "2022-04-06T12:07:03.393Z"
   },
   {
    "duration": 43,
    "start_time": "2022-04-06T12:07:03.415Z"
   },
   {
    "duration": 29,
    "start_time": "2022-04-06T12:07:03.460Z"
   },
   {
    "duration": 1378,
    "start_time": "2022-04-06T12:07:03.490Z"
   },
   {
    "duration": 18,
    "start_time": "2022-04-06T12:07:04.869Z"
   },
   {
    "duration": 10,
    "start_time": "2022-04-06T12:07:04.888Z"
   },
   {
    "duration": 17,
    "start_time": "2022-04-06T12:07:04.900Z"
   },
   {
    "duration": 30,
    "start_time": "2022-04-06T12:07:04.918Z"
   },
   {
    "duration": 11,
    "start_time": "2022-04-06T12:07:04.951Z"
   },
   {
    "duration": 51,
    "start_time": "2022-04-06T12:09:20.843Z"
   },
   {
    "duration": 164,
    "start_time": "2022-04-06T12:10:09.904Z"
   },
   {
    "duration": 46,
    "start_time": "2022-04-06T12:10:52.980Z"
   },
   {
    "duration": 143,
    "start_time": "2022-04-06T12:12:53.616Z"
   },
   {
    "duration": 45,
    "start_time": "2022-04-06T12:13:09.871Z"
   },
   {
    "duration": 12,
    "start_time": "2022-04-06T12:19:46.111Z"
   },
   {
    "duration": 12,
    "start_time": "2022-04-06T12:20:10.309Z"
   },
   {
    "duration": 2293,
    "start_time": "2022-04-06T12:20:34.970Z"
   },
   {
    "duration": 2234,
    "start_time": "2022-04-06T12:21:06.549Z"
   },
   {
    "duration": 213,
    "start_time": "2022-04-06T12:21:21.706Z"
   },
   {
    "duration": 199,
    "start_time": "2022-04-06T12:24:53.318Z"
   },
   {
    "duration": 216,
    "start_time": "2022-04-06T12:25:09.720Z"
   },
   {
    "duration": 22,
    "start_time": "2022-04-06T12:25:27.839Z"
   },
   {
    "duration": 9,
    "start_time": "2022-04-06T12:26:19.550Z"
   },
   {
    "duration": 9,
    "start_time": "2022-04-06T12:26:28.549Z"
   },
   {
    "duration": 10,
    "start_time": "2022-04-06T12:26:37.798Z"
   },
   {
    "duration": 11,
    "start_time": "2022-04-06T12:27:02.097Z"
   },
   {
    "duration": 3,
    "start_time": "2022-04-06T12:27:22.147Z"
   },
   {
    "duration": 74,
    "start_time": "2022-04-06T12:27:22.152Z"
   },
   {
    "duration": 18,
    "start_time": "2022-04-06T12:27:22.228Z"
   },
   {
    "duration": 17,
    "start_time": "2022-04-06T12:27:22.247Z"
   },
   {
    "duration": 2,
    "start_time": "2022-04-06T12:27:22.266Z"
   },
   {
    "duration": 83,
    "start_time": "2022-04-06T12:27:22.269Z"
   },
   {
    "duration": 24,
    "start_time": "2022-04-06T12:27:22.353Z"
   },
   {
    "duration": 15,
    "start_time": "2022-04-06T12:27:22.379Z"
   },
   {
    "duration": 192,
    "start_time": "2022-04-06T12:27:22.396Z"
   },
   {
    "duration": 128,
    "start_time": "2022-04-06T12:27:22.590Z"
   },
   {
    "duration": 163,
    "start_time": "2022-04-06T12:27:22.733Z"
   },
   {
    "duration": 14,
    "start_time": "2022-04-06T12:27:22.898Z"
   },
   {
    "duration": 25,
    "start_time": "2022-04-06T12:27:22.914Z"
   },
   {
    "duration": 9,
    "start_time": "2022-04-06T12:27:22.941Z"
   },
   {
    "duration": 7,
    "start_time": "2022-04-06T12:27:22.952Z"
   },
   {
    "duration": 17,
    "start_time": "2022-04-06T12:27:22.961Z"
   },
   {
    "duration": 11,
    "start_time": "2022-04-06T12:27:22.979Z"
   },
   {
    "duration": 233,
    "start_time": "2022-04-06T12:27:22.991Z"
   },
   {
    "duration": 166,
    "start_time": "2022-04-06T12:27:23.226Z"
   },
   {
    "duration": 19,
    "start_time": "2022-04-06T12:27:23.393Z"
   },
   {
    "duration": 31,
    "start_time": "2022-04-06T12:27:23.413Z"
   },
   {
    "duration": 9,
    "start_time": "2022-04-06T12:27:23.447Z"
   },
   {
    "duration": 1071,
    "start_time": "2022-04-06T12:27:23.458Z"
   },
   {
    "duration": 20,
    "start_time": "2022-04-06T12:27:24.531Z"
   },
   {
    "duration": 12,
    "start_time": "2022-04-06T12:27:24.552Z"
   },
   {
    "duration": 18,
    "start_time": "2022-04-06T12:27:24.566Z"
   },
   {
    "duration": 61,
    "start_time": "2022-04-06T12:27:24.586Z"
   },
   {
    "duration": 11,
    "start_time": "2022-04-06T12:27:24.650Z"
   },
   {
    "duration": 28,
    "start_time": "2022-04-06T12:27:26.825Z"
   },
   {
    "duration": 399,
    "start_time": "2022-04-06T12:27:44.439Z"
   },
   {
    "duration": 17,
    "start_time": "2022-04-06T12:30:56.494Z"
   },
   {
    "duration": 47,
    "start_time": "2022-04-07T09:04:55.080Z"
   },
   {
    "duration": 1477,
    "start_time": "2022-04-07T09:05:06.364Z"
   },
   {
    "duration": 85,
    "start_time": "2022-04-07T09:05:07.843Z"
   },
   {
    "duration": 14,
    "start_time": "2022-04-07T09:05:07.929Z"
   },
   {
    "duration": 16,
    "start_time": "2022-04-07T09:05:07.945Z"
   },
   {
    "duration": 3,
    "start_time": "2022-04-07T09:05:07.963Z"
   },
   {
    "duration": 68,
    "start_time": "2022-04-07T09:05:07.967Z"
   },
   {
    "duration": 27,
    "start_time": "2022-04-07T09:05:08.036Z"
   },
   {
    "duration": 12,
    "start_time": "2022-04-07T09:05:08.064Z"
   },
   {
    "duration": 192,
    "start_time": "2022-04-07T09:05:08.102Z"
   },
   {
    "duration": 831,
    "start_time": "2022-04-07T09:05:08.296Z"
   },
   {
    "duration": 0,
    "start_time": "2022-04-07T09:05:09.129Z"
   },
   {
    "duration": 0,
    "start_time": "2022-04-07T09:05:09.130Z"
   },
   {
    "duration": 0,
    "start_time": "2022-04-07T09:05:09.131Z"
   },
   {
    "duration": 0,
    "start_time": "2022-04-07T09:05:09.132Z"
   },
   {
    "duration": 0,
    "start_time": "2022-04-07T09:05:09.134Z"
   },
   {
    "duration": 0,
    "start_time": "2022-04-07T09:05:09.135Z"
   },
   {
    "duration": 0,
    "start_time": "2022-04-07T09:05:09.136Z"
   },
   {
    "duration": 0,
    "start_time": "2022-04-07T09:05:09.137Z"
   },
   {
    "duration": 0,
    "start_time": "2022-04-07T09:05:09.138Z"
   },
   {
    "duration": 0,
    "start_time": "2022-04-07T09:05:09.139Z"
   },
   {
    "duration": 0,
    "start_time": "2022-04-07T09:05:09.140Z"
   },
   {
    "duration": 0,
    "start_time": "2022-04-07T09:05:09.141Z"
   },
   {
    "duration": 0,
    "start_time": "2022-04-07T09:05:09.142Z"
   },
   {
    "duration": 0,
    "start_time": "2022-04-07T09:05:09.143Z"
   },
   {
    "duration": 0,
    "start_time": "2022-04-07T09:05:09.144Z"
   },
   {
    "duration": 0,
    "start_time": "2022-04-07T09:05:09.145Z"
   },
   {
    "duration": 0,
    "start_time": "2022-04-07T09:05:09.146Z"
   },
   {
    "duration": 0,
    "start_time": "2022-04-07T09:05:09.147Z"
   },
   {
    "duration": 0,
    "start_time": "2022-04-07T09:05:09.148Z"
   },
   {
    "duration": 0,
    "start_time": "2022-04-07T09:05:09.149Z"
   },
   {
    "duration": 384,
    "start_time": "2022-04-07T09:05:30.521Z"
   },
   {
    "duration": 374,
    "start_time": "2022-04-07T09:05:50.375Z"
   },
   {
    "duration": 343,
    "start_time": "2022-04-07T09:06:20.269Z"
   },
   {
    "duration": 359,
    "start_time": "2022-04-07T09:06:27.217Z"
   },
   {
    "duration": 3,
    "start_time": "2022-04-07T09:10:05.559Z"
   },
   {
    "duration": 90,
    "start_time": "2022-04-07T09:10:05.564Z"
   },
   {
    "duration": 13,
    "start_time": "2022-04-07T09:10:05.655Z"
   },
   {
    "duration": 15,
    "start_time": "2022-04-07T09:10:05.670Z"
   },
   {
    "duration": 2,
    "start_time": "2022-04-07T09:10:05.700Z"
   },
   {
    "duration": 48,
    "start_time": "2022-04-07T09:10:05.704Z"
   },
   {
    "duration": 24,
    "start_time": "2022-04-07T09:10:05.754Z"
   },
   {
    "duration": 32,
    "start_time": "2022-04-07T09:10:05.779Z"
   },
   {
    "duration": 181,
    "start_time": "2022-04-07T09:10:05.812Z"
   },
   {
    "duration": 457,
    "start_time": "2022-04-07T09:10:05.994Z"
   },
   {
    "duration": 126,
    "start_time": "2022-04-07T09:10:06.453Z"
   },
   {
    "duration": 167,
    "start_time": "2022-04-07T09:10:06.581Z"
   },
   {
    "duration": 14,
    "start_time": "2022-04-07T09:10:06.750Z"
   },
   {
    "duration": 10,
    "start_time": "2022-04-07T09:10:06.767Z"
   },
   {
    "duration": 25,
    "start_time": "2022-04-07T09:10:06.779Z"
   },
   {
    "duration": 8,
    "start_time": "2022-04-07T09:10:06.806Z"
   },
   {
    "duration": 11,
    "start_time": "2022-04-07T09:10:06.816Z"
   },
   {
    "duration": 8,
    "start_time": "2022-04-07T09:10:06.828Z"
   },
   {
    "duration": 255,
    "start_time": "2022-04-07T09:10:06.838Z"
   },
   {
    "duration": 163,
    "start_time": "2022-04-07T09:10:07.094Z"
   },
   {
    "duration": 21,
    "start_time": "2022-04-07T09:10:07.258Z"
   },
   {
    "duration": 45,
    "start_time": "2022-04-07T09:10:07.280Z"
   },
   {
    "duration": 173,
    "start_time": "2022-04-07T09:10:07.327Z"
   },
   {
    "duration": 1228,
    "start_time": "2022-04-07T09:10:07.502Z"
   },
   {
    "duration": 18,
    "start_time": "2022-04-07T09:10:08.731Z"
   },
   {
    "duration": 14,
    "start_time": "2022-04-07T09:10:08.750Z"
   },
   {
    "duration": 24,
    "start_time": "2022-04-07T09:10:08.766Z"
   },
   {
    "duration": 16,
    "start_time": "2022-04-07T09:10:08.791Z"
   },
   {
    "duration": 11,
    "start_time": "2022-04-07T09:10:08.808Z"
   },
   {
    "duration": 31,
    "start_time": "2022-04-07T09:10:08.821Z"
   },
   {
    "duration": 7,
    "start_time": "2022-04-07T09:11:38.868Z"
   },
   {
    "duration": 25,
    "start_time": "2022-04-07T09:12:42.110Z"
   },
   {
    "duration": 11,
    "start_time": "2022-04-07T09:12:53.494Z"
   },
   {
    "duration": 10,
    "start_time": "2022-04-07T09:13:01.714Z"
   },
   {
    "duration": 157,
    "start_time": "2022-04-07T09:13:10.174Z"
   },
   {
    "duration": 11,
    "start_time": "2022-04-07T09:14:07.234Z"
   },
   {
    "duration": 10,
    "start_time": "2022-04-07T09:14:23.986Z"
   },
   {
    "duration": 143,
    "start_time": "2022-04-07T09:14:26.236Z"
   },
   {
    "duration": 148,
    "start_time": "2022-04-07T09:15:20.375Z"
   },
   {
    "duration": 143,
    "start_time": "2022-04-07T09:15:32.411Z"
   },
   {
    "duration": 239,
    "start_time": "2022-04-07T09:16:23.383Z"
   },
   {
    "duration": 159,
    "start_time": "2022-04-07T09:17:46.162Z"
   },
   {
    "duration": 108,
    "start_time": "2022-04-07T09:18:12.679Z"
   },
   {
    "duration": 171,
    "start_time": "2022-04-07T09:18:19.980Z"
   },
   {
    "duration": 239,
    "start_time": "2022-04-07T09:21:25.463Z"
   },
   {
    "duration": 252,
    "start_time": "2022-04-07T09:21:31.792Z"
   },
   {
    "duration": 309,
    "start_time": "2022-04-07T09:21:41.254Z"
   },
   {
    "duration": 177,
    "start_time": "2022-04-07T09:21:49.442Z"
   },
   {
    "duration": 175,
    "start_time": "2022-04-07T09:22:01.494Z"
   },
   {
    "duration": 301,
    "start_time": "2022-04-07T09:22:20.226Z"
   },
   {
    "duration": 264,
    "start_time": "2022-04-07T09:22:35.256Z"
   },
   {
    "duration": 184,
    "start_time": "2022-04-07T09:25:23.960Z"
   },
   {
    "duration": 201,
    "start_time": "2022-04-07T09:25:37.607Z"
   },
   {
    "duration": 180,
    "start_time": "2022-04-07T09:25:47.701Z"
   },
   {
    "duration": 160,
    "start_time": "2022-04-07T09:27:01.847Z"
   },
   {
    "duration": 182,
    "start_time": "2022-04-07T09:27:26.574Z"
   },
   {
    "duration": 276,
    "start_time": "2022-04-07T09:27:45.813Z"
   },
   {
    "duration": 3,
    "start_time": "2022-04-07T09:27:54.217Z"
   },
   {
    "duration": 69,
    "start_time": "2022-04-07T09:27:54.222Z"
   },
   {
    "duration": 14,
    "start_time": "2022-04-07T09:27:54.292Z"
   },
   {
    "duration": 15,
    "start_time": "2022-04-07T09:27:54.307Z"
   },
   {
    "duration": 2,
    "start_time": "2022-04-07T09:27:54.324Z"
   },
   {
    "duration": 45,
    "start_time": "2022-04-07T09:27:54.327Z"
   },
   {
    "duration": 42,
    "start_time": "2022-04-07T09:27:54.373Z"
   },
   {
    "duration": 11,
    "start_time": "2022-04-07T09:27:54.416Z"
   },
   {
    "duration": 198,
    "start_time": "2022-04-07T09:27:54.429Z"
   },
   {
    "duration": 10,
    "start_time": "2022-04-07T09:27:54.629Z"
   },
   {
    "duration": 207,
    "start_time": "2022-04-07T09:27:56.725Z"
   },
   {
    "duration": 341,
    "start_time": "2022-04-07T09:28:22.319Z"
   },
   {
    "duration": 649,
    "start_time": "2022-04-07T09:28:27.763Z"
   },
   {
    "duration": 353,
    "start_time": "2022-04-07T09:28:39.026Z"
   },
   {
    "duration": 202,
    "start_time": "2022-04-07T09:28:47.013Z"
   },
   {
    "duration": 3,
    "start_time": "2022-04-07T09:28:58.316Z"
   },
   {
    "duration": 73,
    "start_time": "2022-04-07T09:28:58.321Z"
   },
   {
    "duration": 14,
    "start_time": "2022-04-07T09:28:58.396Z"
   },
   {
    "duration": 18,
    "start_time": "2022-04-07T09:28:58.412Z"
   },
   {
    "duration": 2,
    "start_time": "2022-04-07T09:28:58.432Z"
   },
   {
    "duration": 75,
    "start_time": "2022-04-07T09:28:58.436Z"
   },
   {
    "duration": 25,
    "start_time": "2022-04-07T09:28:58.513Z"
   },
   {
    "duration": 11,
    "start_time": "2022-04-07T09:28:58.539Z"
   },
   {
    "duration": 215,
    "start_time": "2022-04-07T09:28:58.552Z"
   },
   {
    "duration": 12,
    "start_time": "2022-04-07T09:28:58.768Z"
   },
   {
    "duration": 224,
    "start_time": "2022-04-07T09:28:58.782Z"
   },
   {
    "duration": 132,
    "start_time": "2022-04-07T09:28:59.007Z"
   },
   {
    "duration": 177,
    "start_time": "2022-04-07T09:28:59.141Z"
   },
   {
    "duration": 12,
    "start_time": "2022-04-07T09:28:59.321Z"
   },
   {
    "duration": 8,
    "start_time": "2022-04-07T09:28:59.335Z"
   },
   {
    "duration": 7,
    "start_time": "2022-04-07T09:28:59.345Z"
   },
   {
    "duration": 6,
    "start_time": "2022-04-07T09:28:59.353Z"
   },
   {
    "duration": 9,
    "start_time": "2022-04-07T09:28:59.360Z"
   },
   {
    "duration": 5,
    "start_time": "2022-04-07T09:28:59.371Z"
   },
   {
    "duration": 303,
    "start_time": "2022-04-07T09:28:59.401Z"
   },
   {
    "duration": 195,
    "start_time": "2022-04-07T09:28:59.706Z"
   },
   {
    "duration": 21,
    "start_time": "2022-04-07T09:28:59.903Z"
   },
   {
    "duration": 17,
    "start_time": "2022-04-07T09:28:59.926Z"
   },
   {
    "duration": 9,
    "start_time": "2022-04-07T09:28:59.944Z"
   },
   {
    "duration": 1079,
    "start_time": "2022-04-07T09:28:59.955Z"
   },
   {
    "duration": 18,
    "start_time": "2022-04-07T09:29:01.036Z"
   },
   {
    "duration": 31,
    "start_time": "2022-04-07T09:29:01.056Z"
   },
   {
    "duration": 28,
    "start_time": "2022-04-07T09:29:01.088Z"
   },
   {
    "duration": 16,
    "start_time": "2022-04-07T09:29:01.118Z"
   },
   {
    "duration": 10,
    "start_time": "2022-04-07T09:29:01.136Z"
   },
   {
    "duration": 31,
    "start_time": "2022-04-07T09:29:01.148Z"
   },
   {
    "duration": 318,
    "start_time": "2022-04-07T09:29:31.992Z"
   },
   {
    "duration": 212,
    "start_time": "2022-04-07T09:30:36.725Z"
   },
   {
    "duration": 10,
    "start_time": "2022-04-07T09:34:31.616Z"
   },
   {
    "duration": 222,
    "start_time": "2022-04-07T09:34:35.582Z"
   },
   {
    "duration": 260,
    "start_time": "2022-04-07T09:35:22.050Z"
   },
   {
    "duration": 142,
    "start_time": "2022-04-07T09:36:07.127Z"
   },
   {
    "duration": 15,
    "start_time": "2022-04-07T09:36:31.835Z"
   },
   {
    "duration": 134,
    "start_time": "2022-04-07T09:36:49.834Z"
   },
   {
    "duration": 223,
    "start_time": "2022-04-07T09:41:16.552Z"
   },
   {
    "duration": 224,
    "start_time": "2022-04-07T09:42:06.569Z"
   },
   {
    "duration": 340,
    "start_time": "2022-04-07T09:42:37.427Z"
   },
   {
    "duration": 231,
    "start_time": "2022-04-07T09:42:50.515Z"
   },
   {
    "duration": 327,
    "start_time": "2022-04-07T09:58:52.112Z"
   },
   {
    "duration": 12,
    "start_time": "2022-04-07T10:00:41.733Z"
   },
   {
    "duration": 0,
    "start_time": "2022-04-07T10:09:32.539Z"
   },
   {
    "duration": 0,
    "start_time": "2022-04-07T10:09:32.540Z"
   },
   {
    "duration": 0,
    "start_time": "2022-04-07T10:09:32.541Z"
   },
   {
    "duration": 0,
    "start_time": "2022-04-07T10:09:32.542Z"
   },
   {
    "duration": 0,
    "start_time": "2022-04-07T10:09:32.544Z"
   },
   {
    "duration": 0,
    "start_time": "2022-04-07T10:09:32.545Z"
   },
   {
    "duration": 0,
    "start_time": "2022-04-07T10:09:32.546Z"
   },
   {
    "duration": 0,
    "start_time": "2022-04-07T10:09:32.602Z"
   },
   {
    "duration": 0,
    "start_time": "2022-04-07T10:09:32.605Z"
   },
   {
    "duration": 0,
    "start_time": "2022-04-07T10:09:32.606Z"
   },
   {
    "duration": 0,
    "start_time": "2022-04-07T10:09:32.607Z"
   },
   {
    "duration": 0,
    "start_time": "2022-04-07T10:09:32.608Z"
   },
   {
    "duration": 0,
    "start_time": "2022-04-07T10:09:32.610Z"
   },
   {
    "duration": 0,
    "start_time": "2022-04-07T10:09:32.612Z"
   },
   {
    "duration": 0,
    "start_time": "2022-04-07T10:09:32.616Z"
   },
   {
    "duration": 0,
    "start_time": "2022-04-07T10:09:32.617Z"
   },
   {
    "duration": 0,
    "start_time": "2022-04-07T10:09:32.618Z"
   },
   {
    "duration": 0,
    "start_time": "2022-04-07T10:09:32.619Z"
   },
   {
    "duration": 0,
    "start_time": "2022-04-07T10:09:32.621Z"
   },
   {
    "duration": 0,
    "start_time": "2022-04-07T10:09:32.622Z"
   },
   {
    "duration": 0,
    "start_time": "2022-04-07T10:09:32.623Z"
   },
   {
    "duration": 0,
    "start_time": "2022-04-07T10:09:32.624Z"
   },
   {
    "duration": 0,
    "start_time": "2022-04-07T10:09:32.625Z"
   },
   {
    "duration": 0,
    "start_time": "2022-04-07T10:09:32.626Z"
   },
   {
    "duration": 0,
    "start_time": "2022-04-07T10:09:32.627Z"
   },
   {
    "duration": 0,
    "start_time": "2022-04-07T10:09:32.628Z"
   },
   {
    "duration": 0,
    "start_time": "2022-04-07T10:09:32.629Z"
   },
   {
    "duration": 0,
    "start_time": "2022-04-07T10:09:32.630Z"
   },
   {
    "duration": 0,
    "start_time": "2022-04-07T10:09:32.631Z"
   },
   {
    "duration": 0,
    "start_time": "2022-04-07T10:09:32.632Z"
   },
   {
    "duration": 0,
    "start_time": "2022-04-07T10:09:32.633Z"
   },
   {
    "duration": 0,
    "start_time": "2022-04-07T10:09:32.634Z"
   },
   {
    "duration": 3,
    "start_time": "2022-04-07T10:56:29.339Z"
   },
   {
    "duration": 81,
    "start_time": "2022-04-07T10:56:29.344Z"
   },
   {
    "duration": 23,
    "start_time": "2022-04-07T10:56:29.426Z"
   },
   {
    "duration": 18,
    "start_time": "2022-04-07T10:56:29.451Z"
   },
   {
    "duration": 2,
    "start_time": "2022-04-07T10:56:29.472Z"
   },
   {
    "duration": 78,
    "start_time": "2022-04-07T10:56:29.476Z"
   },
   {
    "duration": 25,
    "start_time": "2022-04-07T10:56:29.557Z"
   },
   {
    "duration": 30,
    "start_time": "2022-04-07T10:56:29.585Z"
   },
   {
    "duration": 10,
    "start_time": "2022-04-07T10:56:29.618Z"
   },
   {
    "duration": 239,
    "start_time": "2022-04-07T10:56:29.630Z"
   },
   {
    "duration": 152,
    "start_time": "2022-04-07T10:56:29.871Z"
   },
   {
    "duration": 241,
    "start_time": "2022-04-07T10:56:30.025Z"
   },
   {
    "duration": 12,
    "start_time": "2022-04-07T10:56:30.267Z"
   },
   {
    "duration": 25,
    "start_time": "2022-04-07T10:56:30.282Z"
   },
   {
    "duration": 13,
    "start_time": "2022-04-07T10:56:30.309Z"
   },
   {
    "duration": 23,
    "start_time": "2022-04-07T10:56:30.323Z"
   },
   {
    "duration": 15,
    "start_time": "2022-04-07T10:56:30.347Z"
   },
   {
    "duration": 11,
    "start_time": "2022-04-07T10:56:30.364Z"
   },
   {
    "duration": 322,
    "start_time": "2022-04-07T10:56:30.376Z"
   },
   {
    "duration": 197,
    "start_time": "2022-04-07T10:56:30.701Z"
   },
   {
    "duration": 27,
    "start_time": "2022-04-07T10:56:30.900Z"
   },
   {
    "duration": 18,
    "start_time": "2022-04-07T10:56:30.929Z"
   },
   {
    "duration": 10,
    "start_time": "2022-04-07T10:56:30.948Z"
   },
   {
    "duration": 1256,
    "start_time": "2022-04-07T10:56:30.960Z"
   },
   {
    "duration": 17,
    "start_time": "2022-04-07T10:56:32.218Z"
   },
   {
    "duration": 9,
    "start_time": "2022-04-07T10:56:32.237Z"
   },
   {
    "duration": 17,
    "start_time": "2022-04-07T10:56:32.248Z"
   },
   {
    "duration": 44,
    "start_time": "2022-04-07T10:56:32.266Z"
   },
   {
    "duration": 11,
    "start_time": "2022-04-07T10:56:32.311Z"
   },
   {
    "duration": 21,
    "start_time": "2022-04-07T10:56:32.323Z"
   },
   {
    "duration": 0,
    "start_time": "2022-04-07T10:56:32.345Z"
   },
   {
    "duration": 0,
    "start_time": "2022-04-07T10:56:32.346Z"
   },
   {
    "duration": 25,
    "start_time": "2022-04-07T10:57:16.406Z"
   },
   {
    "duration": 664,
    "start_time": "2022-04-07T10:58:35.205Z"
   },
   {
    "duration": 296,
    "start_time": "2022-04-07T10:59:13.678Z"
   },
   {
    "duration": 602,
    "start_time": "2022-04-07T11:00:22.067Z"
   },
   {
    "duration": 475,
    "start_time": "2022-04-07T11:01:28.814Z"
   },
   {
    "duration": 646,
    "start_time": "2022-04-07T11:16:27.292Z"
   },
   {
    "duration": 382,
    "start_time": "2022-04-07T11:20:23.186Z"
   },
   {
    "duration": 456,
    "start_time": "2022-04-07T11:20:52.626Z"
   },
   {
    "duration": 426,
    "start_time": "2022-04-07T11:21:02.649Z"
   },
   {
    "duration": 392,
    "start_time": "2022-04-07T11:21:16.994Z"
   },
   {
    "duration": 395,
    "start_time": "2022-04-07T11:21:24.092Z"
   },
   {
    "duration": 387,
    "start_time": "2022-04-07T11:21:38.439Z"
   },
   {
    "duration": 359,
    "start_time": "2022-04-07T11:21:49.800Z"
   },
   {
    "duration": 352,
    "start_time": "2022-04-07T11:21:59.013Z"
   },
   {
    "duration": 478,
    "start_time": "2022-04-07T11:22:05.853Z"
   },
   {
    "duration": 1540,
    "start_time": "2022-04-07T11:22:30.331Z"
   },
   {
    "duration": 419,
    "start_time": "2022-04-07T11:22:42.426Z"
   },
   {
    "duration": 439,
    "start_time": "2022-04-07T11:22:49.350Z"
   },
   {
    "duration": 557,
    "start_time": "2022-04-07T11:22:57.873Z"
   },
   {
    "duration": 467,
    "start_time": "2022-04-07T11:23:13.297Z"
   },
   {
    "duration": 474,
    "start_time": "2022-04-07T11:31:00.880Z"
   },
   {
    "duration": 10,
    "start_time": "2022-04-07T11:56:26.093Z"
   },
   {
    "duration": 12,
    "start_time": "2022-04-07T11:56:48.323Z"
   },
   {
    "duration": 46,
    "start_time": "2022-04-07T19:52:46.829Z"
   },
   {
    "duration": 1386,
    "start_time": "2022-04-07T19:52:51.403Z"
   },
   {
    "duration": 71,
    "start_time": "2022-04-07T19:52:52.791Z"
   },
   {
    "duration": 15,
    "start_time": "2022-04-07T19:52:52.863Z"
   },
   {
    "duration": 17,
    "start_time": "2022-04-07T19:52:52.880Z"
   },
   {
    "duration": 71,
    "start_time": "2022-04-07T19:52:52.899Z"
   },
   {
    "duration": 26,
    "start_time": "2022-04-07T19:52:52.972Z"
   },
   {
    "duration": 36,
    "start_time": "2022-04-07T19:52:52.999Z"
   },
   {
    "duration": 10,
    "start_time": "2022-04-07T19:52:53.037Z"
   },
   {
    "duration": 197,
    "start_time": "2022-04-07T19:52:53.049Z"
   },
   {
    "duration": 117,
    "start_time": "2022-04-07T19:52:53.247Z"
   },
   {
    "duration": 190,
    "start_time": "2022-04-07T19:52:53.365Z"
   },
   {
    "duration": 13,
    "start_time": "2022-04-07T19:52:53.557Z"
   },
   {
    "duration": 9,
    "start_time": "2022-04-07T19:52:53.572Z"
   },
   {
    "duration": 5,
    "start_time": "2022-04-07T19:52:53.583Z"
   },
   {
    "duration": 8,
    "start_time": "2022-04-07T19:52:53.589Z"
   },
   {
    "duration": 35,
    "start_time": "2022-04-07T19:52:53.599Z"
   },
   {
    "duration": 6,
    "start_time": "2022-04-07T19:52:53.636Z"
   },
   {
    "duration": 239,
    "start_time": "2022-04-07T19:52:53.643Z"
   },
   {
    "duration": 169,
    "start_time": "2022-04-07T19:52:53.883Z"
   },
   {
    "duration": 20,
    "start_time": "2022-04-07T19:52:54.054Z"
   },
   {
    "duration": 23,
    "start_time": "2022-04-07T19:52:54.076Z"
   },
   {
    "duration": 249,
    "start_time": "2022-04-07T19:52:54.100Z"
   },
   {
    "duration": 1093,
    "start_time": "2022-04-07T19:52:54.351Z"
   },
   {
    "duration": 18,
    "start_time": "2022-04-07T19:52:55.446Z"
   },
   {
    "duration": 13,
    "start_time": "2022-04-07T19:52:55.466Z"
   },
   {
    "duration": 16,
    "start_time": "2022-04-07T19:52:55.480Z"
   },
   {
    "duration": 41,
    "start_time": "2022-04-07T19:52:55.498Z"
   },
   {
    "duration": 10,
    "start_time": "2022-04-07T19:52:55.541Z"
   },
   {
    "duration": 443,
    "start_time": "2022-04-07T19:52:55.553Z"
   },
   {
    "duration": 1893,
    "start_time": "2022-04-08T09:55:08.108Z"
   },
   {
    "duration": 100,
    "start_time": "2022-04-08T09:55:10.003Z"
   },
   {
    "duration": 22,
    "start_time": "2022-04-08T09:55:10.105Z"
   },
   {
    "duration": 54,
    "start_time": "2022-04-08T09:55:10.130Z"
   },
   {
    "duration": 95,
    "start_time": "2022-04-08T09:55:10.186Z"
   },
   {
    "duration": 50,
    "start_time": "2022-04-08T09:55:10.283Z"
   },
   {
    "duration": 37,
    "start_time": "2022-04-08T09:55:10.336Z"
   },
   {
    "duration": 15,
    "start_time": "2022-04-08T09:55:10.376Z"
   },
   {
    "duration": 327,
    "start_time": "2022-04-08T09:55:10.394Z"
   },
   {
    "duration": 192,
    "start_time": "2022-04-08T09:55:10.727Z"
   },
   {
    "duration": 328,
    "start_time": "2022-04-08T09:55:10.922Z"
   },
   {
    "duration": 32,
    "start_time": "2022-04-08T09:55:11.252Z"
   },
   {
    "duration": 20,
    "start_time": "2022-04-08T09:55:11.287Z"
   },
   {
    "duration": 8,
    "start_time": "2022-04-08T09:55:11.310Z"
   },
   {
    "duration": 8,
    "start_time": "2022-04-08T09:55:11.321Z"
   },
   {
    "duration": 43,
    "start_time": "2022-04-08T09:55:11.331Z"
   },
   {
    "duration": 9,
    "start_time": "2022-04-08T09:55:11.376Z"
   },
   {
    "duration": 510,
    "start_time": "2022-04-08T09:55:11.388Z"
   },
   {
    "duration": 303,
    "start_time": "2022-04-08T09:55:11.901Z"
   },
   {
    "duration": 29,
    "start_time": "2022-04-08T09:55:12.207Z"
   },
   {
    "duration": 58,
    "start_time": "2022-04-08T09:55:12.239Z"
   },
   {
    "duration": 362,
    "start_time": "2022-04-08T09:55:12.299Z"
   },
   {
    "duration": 1362,
    "start_time": "2022-04-08T09:55:12.663Z"
   },
   {
    "duration": 30,
    "start_time": "2022-04-08T09:55:14.028Z"
   },
   {
    "duration": 22,
    "start_time": "2022-04-08T09:55:14.060Z"
   },
   {
    "duration": 31,
    "start_time": "2022-04-08T09:55:14.085Z"
   },
   {
    "duration": 58,
    "start_time": "2022-04-08T09:55:14.119Z"
   },
   {
    "duration": 17,
    "start_time": "2022-04-08T09:55:14.183Z"
   },
   {
    "duration": 709,
    "start_time": "2022-04-08T09:55:14.203Z"
   },
   {
    "duration": 1431,
    "start_time": "2022-04-08T19:16:30.415Z"
   },
   {
    "duration": 74,
    "start_time": "2022-04-08T19:16:31.849Z"
   },
   {
    "duration": 15,
    "start_time": "2022-04-08T19:16:31.925Z"
   },
   {
    "duration": 19,
    "start_time": "2022-04-08T19:16:31.941Z"
   },
   {
    "duration": 56,
    "start_time": "2022-04-08T19:16:31.963Z"
   },
   {
    "duration": 47,
    "start_time": "2022-04-08T19:16:32.020Z"
   },
   {
    "duration": 20,
    "start_time": "2022-04-08T19:16:32.069Z"
   },
   {
    "duration": 14,
    "start_time": "2022-04-08T19:16:32.091Z"
   },
   {
    "duration": 187,
    "start_time": "2022-04-08T19:16:32.107Z"
   },
   {
    "duration": 125,
    "start_time": "2022-04-08T19:16:32.295Z"
   },
   {
    "duration": 264,
    "start_time": "2022-04-08T19:16:32.422Z"
   },
   {
    "duration": 72,
    "start_time": "2022-04-08T19:16:32.688Z"
   },
   {
    "duration": 11,
    "start_time": "2022-04-08T19:16:32.762Z"
   },
   {
    "duration": 5,
    "start_time": "2022-04-08T19:16:32.776Z"
   },
   {
    "duration": 7,
    "start_time": "2022-04-08T19:16:32.782Z"
   },
   {
    "duration": 15,
    "start_time": "2022-04-08T19:16:32.791Z"
   },
   {
    "duration": 6,
    "start_time": "2022-04-08T19:16:32.808Z"
   },
   {
    "duration": 362,
    "start_time": "2022-04-08T19:16:32.816Z"
   },
   {
    "duration": 165,
    "start_time": "2022-04-08T19:16:33.180Z"
   },
   {
    "duration": 20,
    "start_time": "2022-04-08T19:16:33.347Z"
   },
   {
    "duration": 18,
    "start_time": "2022-04-08T19:16:33.368Z"
   },
   {
    "duration": 1107,
    "start_time": "2022-04-08T19:16:33.388Z"
   },
   {
    "duration": 1961,
    "start_time": "2022-04-08T19:16:34.497Z"
   },
   {
    "duration": 19,
    "start_time": "2022-04-08T19:16:36.459Z"
   },
   {
    "duration": 11,
    "start_time": "2022-04-08T19:16:36.480Z"
   },
   {
    "duration": 65,
    "start_time": "2022-04-08T19:16:36.493Z"
   },
   {
    "duration": 17,
    "start_time": "2022-04-08T19:16:36.559Z"
   },
   {
    "duration": 12,
    "start_time": "2022-04-08T19:16:36.578Z"
   },
   {
    "duration": 519,
    "start_time": "2022-04-08T19:16:36.592Z"
   },
   {
    "duration": 1514,
    "start_time": "2022-04-11T09:54:03.582Z"
   },
   {
    "duration": 79,
    "start_time": "2022-04-11T09:54:05.098Z"
   },
   {
    "duration": 18,
    "start_time": "2022-04-11T09:54:05.179Z"
   },
   {
    "duration": 19,
    "start_time": "2022-04-11T09:54:05.199Z"
   },
   {
    "duration": 7,
    "start_time": "2022-04-11T09:54:08.791Z"
   },
   {
    "duration": 114,
    "start_time": "2022-04-11T09:54:36.934Z"
   },
   {
    "duration": 3,
    "start_time": "2022-04-11T09:54:48.451Z"
   },
   {
    "duration": 70,
    "start_time": "2022-04-11T09:54:48.456Z"
   },
   {
    "duration": 14,
    "start_time": "2022-04-11T09:54:48.527Z"
   },
   {
    "duration": 21,
    "start_time": "2022-04-11T09:54:48.543Z"
   },
   {
    "duration": 16,
    "start_time": "2022-04-11T09:54:51.812Z"
   },
   {
    "duration": 14,
    "start_time": "2022-04-11T09:54:54.252Z"
   },
   {
    "duration": 27,
    "start_time": "2022-04-11T09:55:14.740Z"
   },
   {
    "duration": 13,
    "start_time": "2022-04-11T09:59:58.929Z"
   },
   {
    "duration": 16,
    "start_time": "2022-04-11T10:00:19.808Z"
   },
   {
    "duration": 14,
    "start_time": "2022-04-11T10:01:06.768Z"
   },
   {
    "duration": 35,
    "start_time": "2022-04-11T10:03:20.760Z"
   },
   {
    "duration": 4,
    "start_time": "2022-04-11T10:04:37.134Z"
   },
   {
    "duration": 88,
    "start_time": "2022-04-11T10:04:37.139Z"
   },
   {
    "duration": 14,
    "start_time": "2022-04-11T10:04:37.229Z"
   },
   {
    "duration": 21,
    "start_time": "2022-04-11T10:04:37.245Z"
   },
   {
    "duration": 45,
    "start_time": "2022-04-11T10:04:37.268Z"
   },
   {
    "duration": 65,
    "start_time": "2022-04-11T10:04:37.314Z"
   },
   {
    "duration": 34,
    "start_time": "2022-04-11T10:04:37.381Z"
   },
   {
    "duration": 43,
    "start_time": "2022-04-11T10:04:37.417Z"
   },
   {
    "duration": 24,
    "start_time": "2022-04-11T10:04:37.462Z"
   },
   {
    "duration": 189,
    "start_time": "2022-04-11T10:04:37.488Z"
   },
   {
    "duration": 117,
    "start_time": "2022-04-11T10:04:37.679Z"
   },
   {
    "duration": 188,
    "start_time": "2022-04-11T10:04:37.798Z"
   },
   {
    "duration": 14,
    "start_time": "2022-04-11T10:04:37.988Z"
   },
   {
    "duration": 19,
    "start_time": "2022-04-11T10:04:38.005Z"
   },
   {
    "duration": 15,
    "start_time": "2022-04-11T10:04:38.026Z"
   },
   {
    "duration": 28,
    "start_time": "2022-04-11T10:04:38.043Z"
   },
   {
    "duration": 36,
    "start_time": "2022-04-11T10:04:38.072Z"
   },
   {
    "duration": 23,
    "start_time": "2022-04-11T10:04:38.110Z"
   },
   {
    "duration": 252,
    "start_time": "2022-04-11T10:04:38.135Z"
   },
   {
    "duration": 174,
    "start_time": "2022-04-11T10:04:38.389Z"
   },
   {
    "duration": 22,
    "start_time": "2022-04-11T10:04:38.565Z"
   },
   {
    "duration": 34,
    "start_time": "2022-04-11T10:04:38.589Z"
   },
   {
    "duration": 294,
    "start_time": "2022-04-11T10:04:38.625Z"
   },
   {
    "duration": 981,
    "start_time": "2022-04-11T10:04:38.921Z"
   },
   {
    "duration": 17,
    "start_time": "2022-04-11T10:04:39.903Z"
   },
   {
    "duration": 13,
    "start_time": "2022-04-11T10:04:39.921Z"
   },
   {
    "duration": 32,
    "start_time": "2022-04-11T10:04:39.935Z"
   },
   {
    "duration": 17,
    "start_time": "2022-04-11T10:04:39.968Z"
   },
   {
    "duration": 9,
    "start_time": "2022-04-11T10:04:39.986Z"
   },
   {
    "duration": 478,
    "start_time": "2022-04-11T10:04:39.997Z"
   },
   {
    "duration": 4,
    "start_time": "2022-04-11T10:17:17.193Z"
   },
   {
    "duration": 599,
    "start_time": "2022-04-11T10:17:40.661Z"
   },
   {
    "duration": 597,
    "start_time": "2022-04-11T10:18:01.255Z"
   },
   {
    "duration": 606,
    "start_time": "2022-04-11T10:19:40.762Z"
   },
   {
    "duration": 1481,
    "start_time": "2022-04-11T14:06:34.588Z"
   },
   {
    "duration": 235,
    "start_time": "2022-04-11T14:06:36.071Z"
   },
   {
    "duration": 17,
    "start_time": "2022-04-11T14:06:36.308Z"
   },
   {
    "duration": 19,
    "start_time": "2022-04-11T14:06:36.327Z"
   },
   {
    "duration": 69,
    "start_time": "2022-04-11T14:06:36.348Z"
   },
   {
    "duration": 58,
    "start_time": "2022-04-11T14:06:36.419Z"
   },
   {
    "duration": 53,
    "start_time": "2022-04-11T14:06:36.479Z"
   },
   {
    "duration": 16,
    "start_time": "2022-04-11T14:06:36.534Z"
   },
   {
    "duration": 15,
    "start_time": "2022-04-11T14:06:36.552Z"
   },
   {
    "duration": 257,
    "start_time": "2022-04-11T14:06:36.569Z"
   },
   {
    "duration": 132,
    "start_time": "2022-04-11T14:06:36.827Z"
   },
   {
    "duration": 211,
    "start_time": "2022-04-11T14:06:36.961Z"
   },
   {
    "duration": 707,
    "start_time": "2022-04-11T14:06:37.175Z"
   },
   {
    "duration": 24,
    "start_time": "2022-04-11T14:06:37.886Z"
   },
   {
    "duration": 11,
    "start_time": "2022-04-11T14:06:37.911Z"
   },
   {
    "duration": 5,
    "start_time": "2022-04-11T14:06:37.924Z"
   },
   {
    "duration": 6,
    "start_time": "2022-04-11T14:06:37.931Z"
   },
   {
    "duration": 8,
    "start_time": "2022-04-11T14:06:37.938Z"
   },
   {
    "duration": 8,
    "start_time": "2022-04-11T14:06:37.948Z"
   },
   {
    "duration": 299,
    "start_time": "2022-04-11T14:06:37.957Z"
   },
   {
    "duration": 212,
    "start_time": "2022-04-11T14:06:38.258Z"
   },
   {
    "duration": 55,
    "start_time": "2022-04-11T14:06:42.391Z"
   },
   {
    "duration": 38,
    "start_time": "2022-04-11T14:07:08.285Z"
   },
   {
    "duration": 36,
    "start_time": "2022-04-11T14:07:19.950Z"
   },
   {
    "duration": 34,
    "start_time": "2022-04-11T14:07:39.583Z"
   },
   {
    "duration": 37,
    "start_time": "2022-04-11T14:08:17.057Z"
   },
   {
    "duration": 2,
    "start_time": "2022-04-11T14:08:17.765Z"
   },
   {
    "duration": 18,
    "start_time": "2022-04-11T14:08:50.756Z"
   },
   {
    "duration": 280,
    "start_time": "2022-04-11T14:11:29.428Z"
   },
   {
    "duration": 172,
    "start_time": "2022-04-11T14:11:41.843Z"
   },
   {
    "duration": 121,
    "start_time": "2022-04-11T14:12:11.684Z"
   },
   {
    "duration": 192,
    "start_time": "2022-04-11T14:12:55.282Z"
   },
   {
    "duration": 3,
    "start_time": "2022-04-11T14:14:00.358Z"
   },
   {
    "duration": 87,
    "start_time": "2022-04-11T14:14:00.363Z"
   },
   {
    "duration": 14,
    "start_time": "2022-04-11T14:14:00.452Z"
   },
   {
    "duration": 23,
    "start_time": "2022-04-11T14:14:00.468Z"
   },
   {
    "duration": 37,
    "start_time": "2022-04-11T14:14:00.508Z"
   },
   {
    "duration": 68,
    "start_time": "2022-04-11T14:14:00.547Z"
   },
   {
    "duration": 25,
    "start_time": "2022-04-11T14:14:00.617Z"
   },
   {
    "duration": 19,
    "start_time": "2022-04-11T14:14:00.644Z"
   },
   {
    "duration": 32,
    "start_time": "2022-04-11T14:14:00.665Z"
   },
   {
    "duration": 192,
    "start_time": "2022-04-11T14:14:00.698Z"
   },
   {
    "duration": 126,
    "start_time": "2022-04-11T14:14:00.892Z"
   },
   {
    "duration": 210,
    "start_time": "2022-04-11T14:14:01.020Z"
   },
   {
    "duration": 669,
    "start_time": "2022-04-11T14:14:01.232Z"
   },
   {
    "duration": 14,
    "start_time": "2022-04-11T14:14:01.908Z"
   },
   {
    "duration": 23,
    "start_time": "2022-04-11T14:14:01.924Z"
   },
   {
    "duration": 9,
    "start_time": "2022-04-11T14:14:01.949Z"
   },
   {
    "duration": 18,
    "start_time": "2022-04-11T14:14:01.959Z"
   },
   {
    "duration": 19,
    "start_time": "2022-04-11T14:14:01.979Z"
   },
   {
    "duration": 11,
    "start_time": "2022-04-11T14:14:02.000Z"
   },
   {
    "duration": 255,
    "start_time": "2022-04-11T14:14:02.013Z"
   },
   {
    "duration": 183,
    "start_time": "2022-04-11T14:14:02.270Z"
   },
   {
    "duration": 37,
    "start_time": "2022-04-11T14:14:02.455Z"
   },
   {
    "duration": 16,
    "start_time": "2022-04-11T14:14:02.493Z"
   },
   {
    "duration": 18,
    "start_time": "2022-04-11T14:14:02.512Z"
   },
   {
    "duration": 217,
    "start_time": "2022-04-11T14:14:02.532Z"
   },
   {
    "duration": 3,
    "start_time": "2022-04-11T14:14:02.750Z"
   },
   {
    "duration": 1202,
    "start_time": "2022-04-11T14:14:02.754Z"
   },
   {
    "duration": 18,
    "start_time": "2022-04-11T14:14:03.958Z"
   },
   {
    "duration": 11,
    "start_time": "2022-04-11T14:14:03.978Z"
   },
   {
    "duration": 18,
    "start_time": "2022-04-11T14:14:03.991Z"
   },
   {
    "duration": 16,
    "start_time": "2022-04-11T14:14:04.011Z"
   },
   {
    "duration": 12,
    "start_time": "2022-04-11T14:14:04.029Z"
   },
   {
    "duration": 525,
    "start_time": "2022-04-11T14:14:04.043Z"
   },
   {
    "duration": 12,
    "start_time": "2022-04-11T14:15:52.050Z"
   },
   {
    "duration": 1133,
    "start_time": "2022-04-11T14:16:09.333Z"
   },
   {
    "duration": 1085,
    "start_time": "2022-04-11T14:16:16.300Z"
   },
   {
    "duration": 12,
    "start_time": "2022-04-11T14:16:29.194Z"
   },
   {
    "duration": 3,
    "start_time": "2022-04-11T14:20:35.058Z"
   },
   {
    "duration": 90,
    "start_time": "2022-04-11T14:20:35.064Z"
   },
   {
    "duration": 17,
    "start_time": "2022-04-11T14:20:35.157Z"
   },
   {
    "duration": 39,
    "start_time": "2022-04-11T14:20:35.176Z"
   },
   {
    "duration": 43,
    "start_time": "2022-04-11T14:20:35.218Z"
   },
   {
    "duration": 80,
    "start_time": "2022-04-11T14:20:35.263Z"
   },
   {
    "duration": 27,
    "start_time": "2022-04-11T14:20:35.345Z"
   },
   {
    "duration": 41,
    "start_time": "2022-04-11T14:20:35.374Z"
   },
   {
    "duration": 12,
    "start_time": "2022-04-11T14:20:35.417Z"
   },
   {
    "duration": 228,
    "start_time": "2022-04-11T14:20:35.432Z"
   },
   {
    "duration": 130,
    "start_time": "2022-04-11T14:20:35.662Z"
   },
   {
    "duration": 225,
    "start_time": "2022-04-11T14:20:35.795Z"
   },
   {
    "duration": 696,
    "start_time": "2022-04-11T14:20:36.021Z"
   },
   {
    "duration": 16,
    "start_time": "2022-04-11T14:20:36.721Z"
   },
   {
    "duration": 11,
    "start_time": "2022-04-11T14:20:36.739Z"
   },
   {
    "duration": 10,
    "start_time": "2022-04-11T14:20:36.752Z"
   },
   {
    "duration": 6,
    "start_time": "2022-04-11T14:20:36.764Z"
   },
   {
    "duration": 37,
    "start_time": "2022-04-11T14:20:36.772Z"
   },
   {
    "duration": 5,
    "start_time": "2022-04-11T14:20:36.811Z"
   },
   {
    "duration": 299,
    "start_time": "2022-04-11T14:20:36.819Z"
   },
   {
    "duration": 186,
    "start_time": "2022-04-11T14:20:37.120Z"
   },
   {
    "duration": 39,
    "start_time": "2022-04-11T14:20:37.309Z"
   },
   {
    "duration": 3,
    "start_time": "2022-04-11T14:20:37.350Z"
   },
   {
    "duration": 28,
    "start_time": "2022-04-11T14:20:37.354Z"
   },
   {
    "duration": 222,
    "start_time": "2022-04-11T14:20:37.408Z"
   },
   {
    "duration": 3,
    "start_time": "2022-04-11T14:20:37.632Z"
   },
   {
    "duration": 1125,
    "start_time": "2022-04-11T14:20:37.637Z"
   },
   {
    "duration": 20,
    "start_time": "2022-04-11T14:20:38.765Z"
   },
   {
    "duration": 12,
    "start_time": "2022-04-11T14:20:38.787Z"
   },
   {
    "duration": 24,
    "start_time": "2022-04-11T14:20:38.801Z"
   },
   {
    "duration": 18,
    "start_time": "2022-04-11T14:20:38.827Z"
   },
   {
    "duration": 12,
    "start_time": "2022-04-11T14:20:38.847Z"
   },
   {
    "duration": 460,
    "start_time": "2022-04-11T14:20:38.861Z"
   },
   {
    "duration": 14,
    "start_time": "2022-04-11T14:21:16.823Z"
   },
   {
    "duration": 4,
    "start_time": "2022-04-11T14:26:41.920Z"
   },
   {
    "duration": 72,
    "start_time": "2022-04-11T14:26:41.925Z"
   },
   {
    "duration": 20,
    "start_time": "2022-04-11T14:26:41.999Z"
   },
   {
    "duration": 16,
    "start_time": "2022-04-11T14:26:42.020Z"
   },
   {
    "duration": 35,
    "start_time": "2022-04-11T14:26:42.038Z"
   },
   {
    "duration": 81,
    "start_time": "2022-04-11T14:26:42.075Z"
   },
   {
    "duration": 137,
    "start_time": "2022-04-11T14:26:42.158Z"
   },
   {
    "duration": 18,
    "start_time": "2022-04-11T14:26:42.296Z"
   },
   {
    "duration": 9,
    "start_time": "2022-04-11T14:26:42.316Z"
   },
   {
    "duration": 200,
    "start_time": "2022-04-11T14:26:42.326Z"
   },
   {
    "duration": 124,
    "start_time": "2022-04-11T14:26:42.527Z"
   },
   {
    "duration": 198,
    "start_time": "2022-04-11T14:26:42.652Z"
   },
   {
    "duration": 667,
    "start_time": "2022-04-11T14:26:42.852Z"
   },
   {
    "duration": 14,
    "start_time": "2022-04-11T14:26:43.523Z"
   },
   {
    "duration": 10,
    "start_time": "2022-04-11T14:26:43.539Z"
   },
   {
    "duration": 3,
    "start_time": "2022-04-11T14:26:43.551Z"
   },
   {
    "duration": 5,
    "start_time": "2022-04-11T14:26:43.556Z"
   },
   {
    "duration": 6,
    "start_time": "2022-04-11T14:26:43.562Z"
   },
   {
    "duration": 6,
    "start_time": "2022-04-11T14:26:43.569Z"
   },
   {
    "duration": 296,
    "start_time": "2022-04-11T14:26:43.577Z"
   },
   {
    "duration": 181,
    "start_time": "2022-04-11T14:26:43.875Z"
   },
   {
    "duration": 52,
    "start_time": "2022-04-11T14:26:44.057Z"
   },
   {
    "duration": 3,
    "start_time": "2022-04-11T14:26:44.110Z"
   },
   {
    "duration": 20,
    "start_time": "2022-04-11T14:26:44.114Z"
   },
   {
    "duration": 223,
    "start_time": "2022-04-11T14:26:44.135Z"
   },
   {
    "duration": 2,
    "start_time": "2022-04-11T14:26:44.359Z"
   },
   {
    "duration": 1101,
    "start_time": "2022-04-11T14:26:44.363Z"
   },
   {
    "duration": 19,
    "start_time": "2022-04-11T14:26:45.465Z"
   },
   {
    "duration": 10,
    "start_time": "2022-04-11T14:26:45.486Z"
   },
   {
    "duration": 27,
    "start_time": "2022-04-11T14:26:45.498Z"
   },
   {
    "duration": 22,
    "start_time": "2022-04-11T14:26:45.527Z"
   },
   {
    "duration": 13,
    "start_time": "2022-04-11T14:26:45.551Z"
   },
   {
    "duration": 18,
    "start_time": "2022-04-11T14:26:45.565Z"
   },
   {
    "duration": 454,
    "start_time": "2022-04-11T14:26:45.585Z"
   }
  ],
  "kernelspec": {
   "display_name": "Python 3 (ipykernel)",
   "language": "python",
   "name": "python3"
  },
  "language_info": {
   "codemirror_mode": {
    "name": "ipython",
    "version": 3
   },
   "file_extension": ".py",
   "mimetype": "text/x-python",
   "name": "python",
   "nbconvert_exporter": "python",
   "pygments_lexer": "ipython3",
   "version": "3.11.3"
  },
  "toc": {
   "base_numbering": 1,
   "nav_menu": {},
   "number_sections": true,
   "sideBar": true,
   "skip_h1_title": true,
   "title_cell": "Table of Contents",
   "title_sidebar": "Contents",
   "toc_cell": false,
   "toc_position": {},
   "toc_section_display": true,
   "toc_window_display": false
  }
 },
 "nbformat": 4,
 "nbformat_minor": 2
}
