{
 "cells": [
  {
   "cell_type": "markdown",
   "metadata": {},
   "source": [
    "# A/A/B тестирование среди пользователей дейтингового приложения"
   ]
  },
  {
   "cell_type": "markdown",
   "metadata": {},
   "source": [
    "## Описание проекта"
   ]
  },
  {
   "cell_type": "markdown",
   "metadata": {},
   "source": [
    "Представьте, что вы работаете в крупном дейтинговом приложении.\n",
    "Помимо базовых функций, в приложении также имеется премиум-подписка, которая дает доступ к ряду важных дополнительных возможностей. Был проведен A/B тест, в рамках которого для новых пользователей из нескольких стран была изменена стоимость премиум-подписки* при покупке через две новые платежные системы. При этом стоимость пробного периода оставалась прежней.\n",
    "\n",
    "Проверьте:\n",
    "\n",
    "1. Был ли эксперимент успешен в целом.\n",
    "2. Проанализируйте, имеет ли нововведение смысл среди каких-либо конкретных групп пользователей.\n",
    "\n",
    "*Деньги за подписку списываются ежемесячно до тех пор, пока пользователь её не отменит."
   ]
  },
  {
   "cell_type": "markdown",
   "metadata": {},
   "source": [
    "## Изучение данных и исследовательский анализ данных"
   ]
  },
  {
   "cell_type": "code",
   "execution_count": 1,
   "metadata": {},
   "outputs": [],
   "source": [
    "# Импортируем библиотеки\n",
    "from IPython.display import display\n",
    "import pandas as pd\n",
    "from scipy import stats\n",
    "import scipy.stats as ss\n",
    "import numpy as np\n",
    "import matplotlib.pyplot as plt\n",
    "from scipy.stats import ttest_ind\n",
    "from tqdm.auto import tqdm\n",
    "import seaborn as sns\n",
    "from io import BytesIO\n",
    "import requests\n",
    "from scipy.stats import norm\n",
    "\n",
    "import warnings\n",
    "warnings.filterwarnings(\"ignore\")"
   ]
  },
  {
   "cell_type": "code",
   "execution_count": 2,
   "metadata": {},
   "outputs": [],
   "source": [
    "# Загрузка данных из Яндекс.Диска\n",
    "def get_disk_data(data_url):\n",
    "    api_url = 'https://cloud-api.yandex.net/v1/disk/public/resources/download?'\n",
    "    response = requests.get(api_url + 'public_key=' + data_url)\n",
    "    request = requests.get(response.json()['href'])\n",
    "    data = request.content\n",
    "    df = pd.read_csv(BytesIO(data), sep=';')\n",
    "    return df"
   ]
  },
  {
   "cell_type": "code",
   "execution_count": 3,
   "metadata": {},
   "outputs": [],
   "source": [
    "# Прочитаем файлы\n",
    "users_test = get_disk_data('https://disk.yandex.ru/d/4XXIME4osGrMRA')\n",
    "users_control_1 = get_disk_data('https://disk.yandex.ru/d/yJFydMNNGkEKfg')\n",
    "users_control_2 = get_disk_data('https://disk.yandex.ru/d/br6KkQupzzTGoQ')\n",
    "transactions_test = get_disk_data('https://disk.yandex.ru/d/gvCWpZ55ODzs2g')\n",
    "transactions_control_1 = get_disk_data('https://disk.yandex.ru/d/VY5W0keMX5TZBQ')\n",
    "transactions_control_2 = get_disk_data('https://disk.yandex.ru/d/th5GL0mGOc-qzg')"
   ]
  },
  {
   "cell_type": "code",
   "execution_count": 4,
   "metadata": {},
   "outputs": [],
   "source": [
    "# Напишем функцию для извлечения однотипной информации из датасетов\n",
    "def get_info(data):\n",
    "    display(\"Общая информация по датасету\", data.info())\n",
    "    display(\"Наличие пропусков в датасете\", data.isna().sum())\n",
    "    display(\"Наличие дубликатов в датасете\", data.duplicated().sum())"
   ]
  },
  {
   "cell_type": "code",
   "execution_count": 5,
   "metadata": {
    "scrolled": true
   },
   "outputs": [
    {
     "name": "stdout",
     "output_type": "stream",
     "text": [
      "<class 'pandas.core.frame.DataFrame'>\n",
      "RangeIndex: 4308 entries, 0 to 4307\n",
      "Data columns (total 13 columns):\n",
      " #   Column            Non-Null Count  Dtype  \n",
      "---  ------            --------------  -----  \n",
      " 0   uid               4308 non-null   int64  \n",
      " 1   age               4308 non-null   int64  \n",
      " 2   attraction_coeff  4308 non-null   int64  \n",
      " 3   coins             49 non-null     float64\n",
      " 4   country           4308 non-null   object \n",
      " 5   visit_days        2978 non-null   object \n",
      " 6   gender            4308 non-null   int64  \n",
      " 7   age_filter_start  4308 non-null   int64  \n",
      " 8   age_filter_end    4308 non-null   int64  \n",
      " 9   views_count       4308 non-null   int64  \n",
      " 10  was_premium       408 non-null    float64\n",
      " 11  is_premium        157 non-null    float64\n",
      " 12  total_revenue     4308 non-null   int64  \n",
      "dtypes: float64(3), int64(8), object(2)\n",
      "memory usage: 437.7+ KB\n"
     ]
    },
    {
     "data": {
      "text/plain": [
       "'Общая информация по датасету'"
      ]
     },
     "metadata": {},
     "output_type": "display_data"
    },
    {
     "data": {
      "text/plain": [
       "None"
      ]
     },
     "metadata": {},
     "output_type": "display_data"
    },
    {
     "data": {
      "text/plain": [
       "'Наличие пропусков в датасете'"
      ]
     },
     "metadata": {},
     "output_type": "display_data"
    },
    {
     "data": {
      "text/plain": [
       "uid                    0\n",
       "age                    0\n",
       "attraction_coeff       0\n",
       "coins               4259\n",
       "country                0\n",
       "visit_days          1330\n",
       "gender                 0\n",
       "age_filter_start       0\n",
       "age_filter_end         0\n",
       "views_count            0\n",
       "was_premium         3900\n",
       "is_premium          4151\n",
       "total_revenue          0\n",
       "dtype: int64"
      ]
     },
     "metadata": {},
     "output_type": "display_data"
    },
    {
     "data": {
      "text/plain": [
       "'Наличие дубликатов в датасете'"
      ]
     },
     "metadata": {},
     "output_type": "display_data"
    },
    {
     "data": {
      "text/plain": [
       "0"
      ]
     },
     "metadata": {},
     "output_type": "display_data"
    }
   ],
   "source": [
    "# Посмотрим на таблицу с пользователями тестовой группы\n",
    "get_info(users_test)"
   ]
  },
  {
   "cell_type": "code",
   "execution_count": 6,
   "metadata": {},
   "outputs": [
    {
     "name": "stdout",
     "output_type": "stream",
     "text": [
      "<class 'pandas.core.frame.DataFrame'>\n",
      "RangeIndex: 4340 entries, 0 to 4339\n",
      "Data columns (total 13 columns):\n",
      " #   Column            Non-Null Count  Dtype  \n",
      "---  ------            --------------  -----  \n",
      " 0   uid               4340 non-null   int64  \n",
      " 1   age               4340 non-null   int64  \n",
      " 2   attraction_coeff  4340 non-null   int64  \n",
      " 3   coins             60 non-null     float64\n",
      " 4   country           4340 non-null   object \n",
      " 5   visit_days        3016 non-null   object \n",
      " 6   gender            4340 non-null   int64  \n",
      " 7   age_filter_start  4340 non-null   int64  \n",
      " 8   age_filter_end    4340 non-null   int64  \n",
      " 9   views_count       4340 non-null   int64  \n",
      " 10  was_premium       436 non-null    float64\n",
      " 11  is_premium        192 non-null    float64\n",
      " 12  total_revenue     4340 non-null   int64  \n",
      "dtypes: float64(3), int64(8), object(2)\n",
      "memory usage: 440.9+ KB\n"
     ]
    },
    {
     "data": {
      "text/plain": [
       "'Общая информация по датасету'"
      ]
     },
     "metadata": {},
     "output_type": "display_data"
    },
    {
     "data": {
      "text/plain": [
       "None"
      ]
     },
     "metadata": {},
     "output_type": "display_data"
    },
    {
     "data": {
      "text/plain": [
       "'Наличие пропусков в датасете'"
      ]
     },
     "metadata": {},
     "output_type": "display_data"
    },
    {
     "data": {
      "text/plain": [
       "uid                    0\n",
       "age                    0\n",
       "attraction_coeff       0\n",
       "coins               4280\n",
       "country                0\n",
       "visit_days          1324\n",
       "gender                 0\n",
       "age_filter_start       0\n",
       "age_filter_end         0\n",
       "views_count            0\n",
       "was_premium         3904\n",
       "is_premium          4148\n",
       "total_revenue          0\n",
       "dtype: int64"
      ]
     },
     "metadata": {},
     "output_type": "display_data"
    },
    {
     "data": {
      "text/plain": [
       "'Наличие дубликатов в датасете'"
      ]
     },
     "metadata": {},
     "output_type": "display_data"
    },
    {
     "data": {
      "text/plain": [
       "0"
      ]
     },
     "metadata": {},
     "output_type": "display_data"
    }
   ],
   "source": [
    "# Посмотрим на таблицу с пользователями первой контрольной группы\n",
    "get_info(users_control_1)"
   ]
  },
  {
   "cell_type": "code",
   "execution_count": 7,
   "metadata": {
    "scrolled": true
   },
   "outputs": [
    {
     "name": "stdout",
     "output_type": "stream",
     "text": [
      "<class 'pandas.core.frame.DataFrame'>\n",
      "RangeIndex: 4264 entries, 0 to 4263\n",
      "Data columns (total 13 columns):\n",
      " #   Column            Non-Null Count  Dtype  \n",
      "---  ------            --------------  -----  \n",
      " 0   uid               4264 non-null   int64  \n",
      " 1   age               4264 non-null   int64  \n",
      " 2   attraction_coeff  4264 non-null   int64  \n",
      " 3   coins             61 non-null     float64\n",
      " 4   country           4264 non-null   object \n",
      " 5   visit_days        2900 non-null   object \n",
      " 6   gender            4264 non-null   int64  \n",
      " 7   age_filter_start  4264 non-null   int64  \n",
      " 8   age_filter_end    4264 non-null   int64  \n",
      " 9   views_count       4264 non-null   int64  \n",
      " 10  was_premium       411 non-null    float64\n",
      " 11  is_premium        191 non-null    float64\n",
      " 12  total_revenue     4264 non-null   int64  \n",
      "dtypes: float64(3), int64(8), object(2)\n",
      "memory usage: 433.2+ KB\n"
     ]
    },
    {
     "data": {
      "text/plain": [
       "'Общая информация по датасету'"
      ]
     },
     "metadata": {},
     "output_type": "display_data"
    },
    {
     "data": {
      "text/plain": [
       "None"
      ]
     },
     "metadata": {},
     "output_type": "display_data"
    },
    {
     "data": {
      "text/plain": [
       "'Наличие пропусков в датасете'"
      ]
     },
     "metadata": {},
     "output_type": "display_data"
    },
    {
     "data": {
      "text/plain": [
       "uid                    0\n",
       "age                    0\n",
       "attraction_coeff       0\n",
       "coins               4203\n",
       "country                0\n",
       "visit_days          1364\n",
       "gender                 0\n",
       "age_filter_start       0\n",
       "age_filter_end         0\n",
       "views_count            0\n",
       "was_premium         3853\n",
       "is_premium          4073\n",
       "total_revenue          0\n",
       "dtype: int64"
      ]
     },
     "metadata": {},
     "output_type": "display_data"
    },
    {
     "data": {
      "text/plain": [
       "'Наличие дубликатов в датасете'"
      ]
     },
     "metadata": {},
     "output_type": "display_data"
    },
    {
     "data": {
      "text/plain": [
       "0"
      ]
     },
     "metadata": {},
     "output_type": "display_data"
    }
   ],
   "source": [
    "# Посмотрим на таблицу с пользователями второй контрольной группы\n",
    "get_info(users_control_2)"
   ]
  },
  {
   "cell_type": "code",
   "execution_count": 8,
   "metadata": {},
   "outputs": [
    {
     "name": "stdout",
     "output_type": "stream",
     "text": [
      "<class 'pandas.core.frame.DataFrame'>\n",
      "RangeIndex: 273 entries, 0 to 272\n",
      "Data columns (total 8 columns):\n",
      " #   Column        Non-Null Count  Dtype \n",
      "---  ------        --------------  ----- \n",
      " 0   uid           273 non-null    int64 \n",
      " 1   country       273 non-null    object\n",
      " 2   joined_at     273 non-null    object\n",
      " 3   paid_at       273 non-null    object\n",
      " 4   revenue       273 non-null    int64 \n",
      " 5   payment_id    273 non-null    int64 \n",
      " 6   from_page     273 non-null    object\n",
      " 7   product_type  273 non-null    object\n",
      "dtypes: int64(3), object(5)\n",
      "memory usage: 17.2+ KB\n"
     ]
    },
    {
     "data": {
      "text/plain": [
       "'Общая информация по датасету'"
      ]
     },
     "metadata": {},
     "output_type": "display_data"
    },
    {
     "data": {
      "text/plain": [
       "None"
      ]
     },
     "metadata": {},
     "output_type": "display_data"
    },
    {
     "data": {
      "text/plain": [
       "'Наличие пропусков в датасете'"
      ]
     },
     "metadata": {},
     "output_type": "display_data"
    },
    {
     "data": {
      "text/plain": [
       "uid             0\n",
       "country         0\n",
       "joined_at       0\n",
       "paid_at         0\n",
       "revenue         0\n",
       "payment_id      0\n",
       "from_page       0\n",
       "product_type    0\n",
       "dtype: int64"
      ]
     },
     "metadata": {},
     "output_type": "display_data"
    },
    {
     "data": {
      "text/plain": [
       "'Наличие дубликатов в датасете'"
      ]
     },
     "metadata": {},
     "output_type": "display_data"
    },
    {
     "data": {
      "text/plain": [
       "7"
      ]
     },
     "metadata": {},
     "output_type": "display_data"
    }
   ],
   "source": [
    "# Посмотрим на таблицу с платежами тестовой группы\n",
    "get_info(transactions_test)"
   ]
  },
  {
   "cell_type": "code",
   "execution_count": 9,
   "metadata": {},
   "outputs": [
    {
     "name": "stdout",
     "output_type": "stream",
     "text": [
      "<class 'pandas.core.frame.DataFrame'>\n",
      "RangeIndex: 1007 entries, 0 to 1006\n",
      "Data columns (total 8 columns):\n",
      " #   Column        Non-Null Count  Dtype  \n",
      "---  ------        --------------  -----  \n",
      " 0   uid           377 non-null    float64\n",
      " 1   country       377 non-null    object \n",
      " 2   joined_at     1007 non-null   object \n",
      " 3   paid_at       1007 non-null   object \n",
      " 4   revenue       377 non-null    float64\n",
      " 5   payment_id    377 non-null    float64\n",
      " 6   from_page     377 non-null    object \n",
      " 7   product_type  377 non-null    object \n",
      "dtypes: float64(3), object(5)\n",
      "memory usage: 63.1+ KB\n"
     ]
    },
    {
     "data": {
      "text/plain": [
       "'Общая информация по датасету'"
      ]
     },
     "metadata": {},
     "output_type": "display_data"
    },
    {
     "data": {
      "text/plain": [
       "None"
      ]
     },
     "metadata": {},
     "output_type": "display_data"
    },
    {
     "data": {
      "text/plain": [
       "'Наличие пропусков в датасете'"
      ]
     },
     "metadata": {},
     "output_type": "display_data"
    },
    {
     "data": {
      "text/plain": [
       "uid             630\n",
       "country         630\n",
       "joined_at         0\n",
       "paid_at           0\n",
       "revenue         630\n",
       "payment_id      630\n",
       "from_page       630\n",
       "product_type    630\n",
       "dtype: int64"
      ]
     },
     "metadata": {},
     "output_type": "display_data"
    },
    {
     "data": {
      "text/plain": [
       "'Наличие дубликатов в датасете'"
      ]
     },
     "metadata": {},
     "output_type": "display_data"
    },
    {
     "data": {
      "text/plain": [
       "650"
      ]
     },
     "metadata": {},
     "output_type": "display_data"
    }
   ],
   "source": [
    "# Посмотрим на таблицу с платежами первой контрольной группы\n",
    "get_info(transactions_control_1)"
   ]
  },
  {
   "cell_type": "code",
   "execution_count": 10,
   "metadata": {},
   "outputs": [
    {
     "name": "stdout",
     "output_type": "stream",
     "text": [
      "<class 'pandas.core.frame.DataFrame'>\n",
      "RangeIndex: 328 entries, 0 to 327\n",
      "Data columns (total 8 columns):\n",
      " #   Column        Non-Null Count  Dtype \n",
      "---  ------        --------------  ----- \n",
      " 0   uid           328 non-null    int64 \n",
      " 1   country       328 non-null    object\n",
      " 2   joined_at     328 non-null    object\n",
      " 3   paid_at       328 non-null    object\n",
      " 4   revenue       328 non-null    int64 \n",
      " 5   payment_id    328 non-null    int64 \n",
      " 6   from_page     328 non-null    object\n",
      " 7   product_type  328 non-null    object\n",
      "dtypes: int64(3), object(5)\n",
      "memory usage: 20.6+ KB\n"
     ]
    },
    {
     "data": {
      "text/plain": [
       "'Общая информация по датасету'"
      ]
     },
     "metadata": {},
     "output_type": "display_data"
    },
    {
     "data": {
      "text/plain": [
       "None"
      ]
     },
     "metadata": {},
     "output_type": "display_data"
    },
    {
     "data": {
      "text/plain": [
       "'Наличие пропусков в датасете'"
      ]
     },
     "metadata": {},
     "output_type": "display_data"
    },
    {
     "data": {
      "text/plain": [
       "uid             0\n",
       "country         0\n",
       "joined_at       0\n",
       "paid_at         0\n",
       "revenue         0\n",
       "payment_id      0\n",
       "from_page       0\n",
       "product_type    0\n",
       "dtype: int64"
      ]
     },
     "metadata": {},
     "output_type": "display_data"
    },
    {
     "data": {
      "text/plain": [
       "'Наличие дубликатов в датасете'"
      ]
     },
     "metadata": {},
     "output_type": "display_data"
    },
    {
     "data": {
      "text/plain": [
       "5"
      ]
     },
     "metadata": {},
     "output_type": "display_data"
    }
   ],
   "source": [
    "# Посмотрим на таблицу с платежами второй контрольной группы\n",
    "get_info(transactions_control_2)"
   ]
  },
  {
   "cell_type": "markdown",
   "metadata": {},
   "source": [
    "**Вывод**: \n",
    "1. в таблицах с платежами столбцы с датами типа object, необходимо привести их к формату даты. В таблице с платежами первой контрольной группы столбец uid формата float, позже приведем его к int 64.\n",
    "2. в таблицах по пользователям  имеются пропуски в столбцах coins(скорей всего, нет внутренней валюты у пользователя), visit_days(вероятно, не посещал приложение после регистрации), was_premium (вероятно, не был премиальным) ,is_premium (вероятно, не премиальный сейчас). Заменим эти пропуски на 0.\n",
    "3. в таблице по платежам у первой контрольной группы имеется много пропусков в столбцах uid, country, revenue, payment_id, from_page, product_type (вероятно, произошла техническая ошибка при сборе данных). Чтобы дальнейший анализ был возможен - удалим строки, в которых пропущены uid."
   ]
  },
  {
   "cell_type": "code",
   "execution_count": 11,
   "metadata": {},
   "outputs": [],
   "source": [
    "# Заменим пропуски в таблицах о пользователях на нули\n",
    "users_test = users_test.fillna(0)\n",
    "users_control_1 = users_control_1.fillna(0)\n",
    "users_control_2 = users_control_2.fillna(0)"
   ]
  },
  {
   "cell_type": "code",
   "execution_count": 12,
   "metadata": {
    "scrolled": true
   },
   "outputs": [],
   "source": [
    "# Удалим строки, в которых пропущены uid\n",
    "transactions_control_1 = transactions_control_1.dropna(subset=['uid'])"
   ]
  },
  {
   "cell_type": "code",
   "execution_count": 13,
   "metadata": {},
   "outputs": [
    {
     "data": {
      "text/plain": [
       "uid                      int64\n",
       "country                 object\n",
       "joined_at       datetime64[ns]\n",
       "paid_at         datetime64[ns]\n",
       "revenue                  int64\n",
       "payment_id               int64\n",
       "from_page               object\n",
       "product_type            object\n",
       "dtype: object"
      ]
     },
     "metadata": {},
     "output_type": "display_data"
    },
    {
     "data": {
      "text/plain": [
       "uid                      int64\n",
       "country                 object\n",
       "joined_at       datetime64[ns]\n",
       "paid_at         datetime64[ns]\n",
       "revenue                float64\n",
       "payment_id             float64\n",
       "from_page               object\n",
       "product_type            object\n",
       "dtype: object"
      ]
     },
     "metadata": {},
     "output_type": "display_data"
    },
    {
     "data": {
      "text/plain": [
       "uid                      int64\n",
       "country                 object\n",
       "joined_at       datetime64[ns]\n",
       "paid_at         datetime64[ns]\n",
       "revenue                  int64\n",
       "payment_id               int64\n",
       "from_page               object\n",
       "product_type            object\n",
       "dtype: object"
      ]
     },
     "metadata": {},
     "output_type": "display_data"
    }
   ],
   "source": [
    "# Приведем столбцы с датой к формату даты, столбец с uid к int64\n",
    "transactions_test['paid_at'] = pd.to_datetime(transactions_test['paid_at'], format='%Y-%m-%d %H:%M:%S.%f')\n",
    "transactions_test['joined_at'] = pd.to_datetime(transactions_test['joined_at'], format='%Y-%m-%d %H:%M:%S.%f')\n",
    "transactions_control_1['paid_at'] = pd.to_datetime(transactions_control_1['paid_at'], format='%Y-%m-%d %H:%M:%S.%f')\n",
    "transactions_control_1['joined_at'] = pd.to_datetime(transactions_control_1['joined_at'], format='%Y-%m-%d %H:%M:%S.%f')\n",
    "transactions_control_2['paid_at'] = pd.to_datetime(transactions_control_2['paid_at'], format='%Y-%m-%d %H:%M:%S.%f')\n",
    "transactions_control_2['joined_at'] = pd.to_datetime(transactions_control_2['joined_at'], format='%Y-%m-%d %H:%M:%S.%f')\n",
    "transactions_control_1['uid'] = transactions_control_1['uid'].astype('int64')\n",
    "display(transactions_test.dtypes, transactions_control_1.dtypes, transactions_control_2.dtypes)"
   ]
  },
  {
   "cell_type": "code",
   "execution_count": 14,
   "metadata": {},
   "outputs": [
    {
     "data": {
      "text/plain": [
       "0"
      ]
     },
     "metadata": {},
     "output_type": "display_data"
    },
    {
     "data": {
      "text/plain": [
       "0"
      ]
     },
     "metadata": {},
     "output_type": "display_data"
    },
    {
     "data": {
      "text/plain": [
       "0"
      ]
     },
     "metadata": {},
     "output_type": "display_data"
    },
    {
     "data": {
      "text/plain": [
       "7"
      ]
     },
     "metadata": {},
     "output_type": "display_data"
    },
    {
     "data": {
      "text/plain": [
       "21"
      ]
     },
     "metadata": {},
     "output_type": "display_data"
    },
    {
     "data": {
      "text/plain": [
       "5"
      ]
     },
     "metadata": {},
     "output_type": "display_data"
    }
   ],
   "source": [
    "# Еще раз проверим на наличие дубликатов\n",
    "display(users_test.duplicated().sum())\n",
    "display(users_control_1.duplicated().sum())\n",
    "display(users_control_2.duplicated().sum())\n",
    "display(transactions_test.duplicated().sum())\n",
    "display(transactions_control_1.duplicated().sum())\n",
    "display(transactions_control_2.duplicated().sum())"
   ]
  },
  {
   "cell_type": "markdown",
   "metadata": {},
   "source": [
    "**Вывод**: в таблицах с платежами имеются дубликаты, пока не будем удалять их, попробуем разобраться."
   ]
  },
  {
   "cell_type": "markdown",
   "metadata": {},
   "source": [
    "## Проверка выборок"
   ]
  },
  {
   "cell_type": "code",
   "execution_count": 15,
   "metadata": {},
   "outputs": [
    {
     "data": {
      "text/plain": [
       "4308"
      ]
     },
     "metadata": {},
     "output_type": "display_data"
    },
    {
     "data": {
      "text/plain": [
       "4340"
      ]
     },
     "metadata": {},
     "output_type": "display_data"
    },
    {
     "data": {
      "text/plain": [
       "4264"
      ]
     },
     "metadata": {},
     "output_type": "display_data"
    }
   ],
   "source": [
    "# Посмотрим на количество уникальных пользователей в группах\n",
    "display(users_test.uid.nunique())\n",
    "display(users_control_1.uid.nunique())\n",
    "display(users_control_2.uid.nunique())"
   ]
  },
  {
   "cell_type": "code",
   "execution_count": 16,
   "metadata": {
    "scrolled": true
   },
   "outputs": [
    {
     "data": {
      "text/plain": [
       "146"
      ]
     },
     "metadata": {},
     "output_type": "display_data"
    },
    {
     "data": {
      "text/plain": [
       "193"
      ]
     },
     "metadata": {},
     "output_type": "display_data"
    },
    {
     "data": {
      "text/plain": [
       "187"
      ]
     },
     "metadata": {},
     "output_type": "display_data"
    }
   ],
   "source": [
    "# Проверим, сколько уникальных пользователей в таблицах по платежам\n",
    "display(transactions_test.uid.nunique())\n",
    "display(transactions_control_1.uid.nunique())\n",
    "display(transactions_control_2.uid.nunique())"
   ]
  },
  {
   "cell_type": "markdown",
   "metadata": {},
   "source": [
    "Теперь найдем период проведения теста, ориентируясь на даты платежей."
   ]
  },
  {
   "cell_type": "code",
   "execution_count": 17,
   "metadata": {},
   "outputs": [
    {
     "data": {
      "text/plain": [
       "Timestamp('2017-01-11 04:37:00')"
      ]
     },
     "metadata": {},
     "output_type": "display_data"
    },
    {
     "data": {
      "text/plain": [
       "Timestamp('2017-12-11 22:06:00')"
      ]
     },
     "metadata": {},
     "output_type": "display_data"
    }
   ],
   "source": [
    "# Найдем минимальную и максимальную даты покупок в тестовой группе\n",
    "display(transactions_test.paid_at.min(), transactions_test.paid_at.max())"
   ]
  },
  {
   "cell_type": "code",
   "execution_count": 18,
   "metadata": {},
   "outputs": [
    {
     "data": {
      "text/plain": [
       "Timestamp('2016-12-14 16:16:00')"
      ]
     },
     "metadata": {},
     "output_type": "display_data"
    },
    {
     "data": {
      "text/plain": [
       "Timestamp('2017-12-11 21:57:00')"
      ]
     },
     "metadata": {},
     "output_type": "display_data"
    }
   ],
   "source": [
    "# Найдем минимальную и максимальную даты покупок в контрольной группе 1\n",
    "display(transactions_control_1.paid_at.min(), transactions_control_1.paid_at.max())"
   ]
  },
  {
   "cell_type": "code",
   "execution_count": 19,
   "metadata": {
    "scrolled": true
   },
   "outputs": [
    {
     "data": {
      "text/plain": [
       "Timestamp('2017-01-11 05:34:00')"
      ]
     },
     "metadata": {},
     "output_type": "display_data"
    },
    {
     "data": {
      "text/plain": [
       "Timestamp('2017-12-11 23:28:00')"
      ]
     },
     "metadata": {},
     "output_type": "display_data"
    }
   ],
   "source": [
    "# Найдем минимальную и максимальную даты покупок в контрольной группе 2\n",
    "display(transactions_control_2.paid_at.min(), transactions_control_2.paid_at.max())"
   ]
  },
  {
   "cell_type": "markdown",
   "metadata": {},
   "source": [
    "**Вывод**: Даты проведения теста в тестовой группе и в контрольной группе 2 совпадают (с 11.01.2017 по 11.12.2017), в контрольной группе 1 есть данные о платежах, совершенных ранее 11.01.2017."
   ]
  },
  {
   "cell_type": "code",
   "execution_count": 20,
   "metadata": {
    "scrolled": false
   },
   "outputs": [
    {
     "data": {
      "text/html": [
       "<div>\n",
       "<style scoped>\n",
       "    .dataframe tbody tr th:only-of-type {\n",
       "        vertical-align: middle;\n",
       "    }\n",
       "\n",
       "    .dataframe tbody tr th {\n",
       "        vertical-align: top;\n",
       "    }\n",
       "\n",
       "    .dataframe thead th {\n",
       "        text-align: right;\n",
       "    }\n",
       "</style>\n",
       "<table border=\"1\" class=\"dataframe\">\n",
       "  <thead>\n",
       "    <tr style=\"text-align: right;\">\n",
       "      <th></th>\n",
       "      <th>uid</th>\n",
       "      <th>country</th>\n",
       "      <th>joined_at</th>\n",
       "      <th>paid_at</th>\n",
       "      <th>revenue</th>\n",
       "      <th>payment_id</th>\n",
       "      <th>from_page</th>\n",
       "      <th>product_type</th>\n",
       "    </tr>\n",
       "  </thead>\n",
       "  <tbody>\n",
       "    <tr>\n",
       "      <th>65</th>\n",
       "      <td>960936960</td>\n",
       "      <td>Russian Federation</td>\n",
       "      <td>2015-01-19 11:49:00</td>\n",
       "      <td>2016-12-14 17:30:00</td>\n",
       "      <td>26.0</td>\n",
       "      <td>0.0</td>\n",
       "      <td>refund_VP</td>\n",
       "      <td>other_type</td>\n",
       "    </tr>\n",
       "    <tr>\n",
       "      <th>101</th>\n",
       "      <td>960936960</td>\n",
       "      <td>Russian Federation</td>\n",
       "      <td>2015-01-19 11:49:00</td>\n",
       "      <td>2016-12-14 17:35:00</td>\n",
       "      <td>637.0</td>\n",
       "      <td>0.0</td>\n",
       "      <td>refung_AP</td>\n",
       "      <td>other_type</td>\n",
       "    </tr>\n",
       "    <tr>\n",
       "      <th>224</th>\n",
       "      <td>960936960</td>\n",
       "      <td>Russian Federation</td>\n",
       "      <td>2015-01-19 11:49:00</td>\n",
       "      <td>2016-12-14 16:16:00</td>\n",
       "      <td>143.0</td>\n",
       "      <td>0.0</td>\n",
       "      <td>refund_WP</td>\n",
       "      <td>other_type</td>\n",
       "    </tr>\n",
       "  </tbody>\n",
       "</table>\n",
       "</div>"
      ],
      "text/plain": [
       "           uid             country           joined_at             paid_at  \\\n",
       "65   960936960  Russian Federation 2015-01-19 11:49:00 2016-12-14 17:30:00   \n",
       "101  960936960  Russian Federation 2015-01-19 11:49:00 2016-12-14 17:35:00   \n",
       "224  960936960  Russian Federation 2015-01-19 11:49:00 2016-12-14 16:16:00   \n",
       "\n",
       "     revenue  payment_id  from_page product_type  \n",
       "65      26.0         0.0  refund_VP   other_type  \n",
       "101    637.0         0.0  refung_AP   other_type  \n",
       "224    143.0         0.0  refund_WP   other_type  "
      ]
     },
     "execution_count": 20,
     "metadata": {},
     "output_type": "execute_result"
    }
   ],
   "source": [
    "# Посмотрим, сколько платежей совершено ранее 11.01.2017 в контрольной группе 1\n",
    "transactions_control_1.query('paid_at < \"2017-01-11 00:00:00\"')"
   ]
  },
  {
   "cell_type": "code",
   "execution_count": 21,
   "metadata": {},
   "outputs": [],
   "source": [
    "# Поскольку таких платежей всего 3 и у одного и того же пользователя, то исключим его из обеих таблиц\n",
    "transactions_control_1 = transactions_control_1.query('uid != 960936960')\n",
    "users_control_1 = users_control_1.query('uid != 960936960')"
   ]
  },
  {
   "cell_type": "code",
   "execution_count": 22,
   "metadata": {},
   "outputs": [
    {
     "data": {
      "text/plain": [
       "False"
      ]
     },
     "metadata": {},
     "output_type": "display_data"
    },
    {
     "data": {
      "text/plain": [
       "False"
      ]
     },
     "metadata": {},
     "output_type": "display_data"
    },
    {
     "data": {
      "text/plain": [
       "True"
      ]
     },
     "metadata": {},
     "output_type": "display_data"
    }
   ],
   "source": [
    "# Посмотрим, соответствует ли выручка в таблицах с пользователями выручке в таблицах с платежами\n",
    "display(users_test.total_revenue.sum() == transactions_test.revenue.sum())\n",
    "display(users_control_1.total_revenue.sum() == transactions_control_1.revenue.sum())\n",
    "display(users_control_2.total_revenue.sum() == transactions_control_2.revenue.sum())"
   ]
  },
  {
   "cell_type": "code",
   "execution_count": 23,
   "metadata": {},
   "outputs": [
    {
     "data": {
      "text/html": [
       "<div>\n",
       "<style scoped>\n",
       "    .dataframe tbody tr th:only-of-type {\n",
       "        vertical-align: middle;\n",
       "    }\n",
       "\n",
       "    .dataframe tbody tr th {\n",
       "        vertical-align: top;\n",
       "    }\n",
       "\n",
       "    .dataframe thead th {\n",
       "        text-align: right;\n",
       "    }\n",
       "</style>\n",
       "<table border=\"1\" class=\"dataframe\">\n",
       "  <thead>\n",
       "    <tr style=\"text-align: right;\">\n",
       "      <th></th>\n",
       "      <th>uid</th>\n",
       "      <th>age</th>\n",
       "      <th>attraction_coeff</th>\n",
       "      <th>coins</th>\n",
       "      <th>country</th>\n",
       "      <th>visit_days</th>\n",
       "      <th>gender</th>\n",
       "      <th>age_filter_start</th>\n",
       "      <th>age_filter_end</th>\n",
       "      <th>views_count</th>\n",
       "      <th>was_premium</th>\n",
       "      <th>is_premium</th>\n",
       "      <th>total_revenue</th>\n",
       "      <th>revenue</th>\n",
       "    </tr>\n",
       "  </thead>\n",
       "  <tbody>\n",
       "    <tr>\n",
       "      <th>2070</th>\n",
       "      <td>892275462</td>\n",
       "      <td>31</td>\n",
       "      <td>310</td>\n",
       "      <td>0.0</td>\n",
       "      <td>France</td>\n",
       "      <td>1,2,3,4,5,9,13,15,16</td>\n",
       "      <td>1</td>\n",
       "      <td>36</td>\n",
       "      <td>68</td>\n",
       "      <td>58</td>\n",
       "      <td>1.0</td>\n",
       "      <td>1.0</td>\n",
       "      <td>14885</td>\n",
       "      <td>58968.0</td>\n",
       "    </tr>\n",
       "  </tbody>\n",
       "</table>\n",
       "</div>"
      ],
      "text/plain": [
       "            uid  age  attraction_coeff  coins country            visit_days  \\\n",
       "2070  892275462   31               310    0.0  France  1,2,3,4,5,9,13,15,16   \n",
       "\n",
       "      gender  age_filter_start  age_filter_end  views_count  was_premium  \\\n",
       "2070       1                36              68           58          1.0   \n",
       "\n",
       "      is_premium  total_revenue  revenue  \n",
       "2070         1.0          14885  58968.0  "
      ]
     },
     "execution_count": 23,
     "metadata": {},
     "output_type": "execute_result"
    }
   ],
   "source": [
    "# Найдем пользователей, у которых не сошлась выручка\n",
    "# для этого сначала проведем группировку по пользователям из таблицы с платежами и посчитаем общую выручку\n",
    "# далее соединим эти данные с таблицей пользователй по uid и отсортируем тех, у кого не сошлась выручка, \n",
    "# отбросив данные без выручки\n",
    "revenue_test = transactions_test.groupby('uid', as_index=False).revenue.sum()\n",
    "users_test_revenue = users_test.merge(revenue_test, on='uid', how='left') \n",
    "users_test_revenue.query('(total_revenue != revenue) & (revenue >0)')"
   ]
  },
  {
   "cell_type": "code",
   "execution_count": 24,
   "metadata": {},
   "outputs": [
    {
     "data": {
      "text/html": [
       "<div>\n",
       "<style scoped>\n",
       "    .dataframe tbody tr th:only-of-type {\n",
       "        vertical-align: middle;\n",
       "    }\n",
       "\n",
       "    .dataframe tbody tr th {\n",
       "        vertical-align: top;\n",
       "    }\n",
       "\n",
       "    .dataframe thead th {\n",
       "        text-align: right;\n",
       "    }\n",
       "</style>\n",
       "<table border=\"1\" class=\"dataframe\">\n",
       "  <thead>\n",
       "    <tr style=\"text-align: right;\">\n",
       "      <th></th>\n",
       "      <th>uid</th>\n",
       "      <th>country</th>\n",
       "      <th>joined_at</th>\n",
       "      <th>paid_at</th>\n",
       "      <th>revenue</th>\n",
       "      <th>payment_id</th>\n",
       "      <th>from_page</th>\n",
       "      <th>product_type</th>\n",
       "    </tr>\n",
       "  </thead>\n",
       "  <tbody>\n",
       "    <tr>\n",
       "      <th>64</th>\n",
       "      <td>892275462</td>\n",
       "      <td>France</td>\n",
       "      <td>2017-10-17 05:56:00</td>\n",
       "      <td>2017-02-11 18:24:00</td>\n",
       "      <td>44083</td>\n",
       "      <td>19</td>\n",
       "      <td>coins_popup</td>\n",
       "      <td>other_type</td>\n",
       "    </tr>\n",
       "    <tr>\n",
       "      <th>154</th>\n",
       "      <td>892275462</td>\n",
       "      <td>France</td>\n",
       "      <td>2017-10-17 05:56:00</td>\n",
       "      <td>2017-10-20 17:00:00</td>\n",
       "      <td>14885</td>\n",
       "      <td>68</td>\n",
       "      <td>super_popup</td>\n",
       "      <td>other_type</td>\n",
       "    </tr>\n",
       "  </tbody>\n",
       "</table>\n",
       "</div>"
      ],
      "text/plain": [
       "           uid country           joined_at             paid_at  revenue  \\\n",
       "64   892275462  France 2017-10-17 05:56:00 2017-02-11 18:24:00    44083   \n",
       "154  892275462  France 2017-10-17 05:56:00 2017-10-20 17:00:00    14885   \n",
       "\n",
       "     payment_id    from_page product_type  \n",
       "64           19  coins_popup   other_type  \n",
       "154          68  super_popup   other_type  "
      ]
     },
     "execution_count": 24,
     "metadata": {},
     "output_type": "execute_result"
    }
   ],
   "source": [
    "# Посмотрим подробнее данные о платежах данного пользователя\n",
    "transactions_test.query('uid == 892275462')"
   ]
  },
  {
   "cell_type": "code",
   "execution_count": 25,
   "metadata": {},
   "outputs": [
    {
     "data": {
      "text/html": [
       "<div>\n",
       "<style scoped>\n",
       "    .dataframe tbody tr th:only-of-type {\n",
       "        vertical-align: middle;\n",
       "    }\n",
       "\n",
       "    .dataframe tbody tr th {\n",
       "        vertical-align: top;\n",
       "    }\n",
       "\n",
       "    .dataframe thead th {\n",
       "        text-align: right;\n",
       "    }\n",
       "</style>\n",
       "<table border=\"1\" class=\"dataframe\">\n",
       "  <thead>\n",
       "    <tr style=\"text-align: right;\">\n",
       "      <th></th>\n",
       "      <th>uid</th>\n",
       "      <th>age</th>\n",
       "      <th>attraction_coeff</th>\n",
       "      <th>coins</th>\n",
       "      <th>country</th>\n",
       "      <th>visit_days</th>\n",
       "      <th>gender</th>\n",
       "      <th>age_filter_start</th>\n",
       "      <th>age_filter_end</th>\n",
       "      <th>views_count</th>\n",
       "      <th>was_premium</th>\n",
       "      <th>is_premium</th>\n",
       "      <th>total_revenue</th>\n",
       "      <th>revenue</th>\n",
       "    </tr>\n",
       "  </thead>\n",
       "  <tbody>\n",
       "    <tr>\n",
       "      <th>3369</th>\n",
       "      <td>892355163</td>\n",
       "      <td>40</td>\n",
       "      <td>640</td>\n",
       "      <td>0.0</td>\n",
       "      <td>United States of America</td>\n",
       "      <td>1,2,3,4,5,6,7,8,9,10,11,12,13,14,15,16,17,18,1...</td>\n",
       "      <td>1</td>\n",
       "      <td>25</td>\n",
       "      <td>60</td>\n",
       "      <td>700</td>\n",
       "      <td>1.0</td>\n",
       "      <td>0.0</td>\n",
       "      <td>0</td>\n",
       "      <td>30264.0</td>\n",
       "    </tr>\n",
       "  </tbody>\n",
       "</table>\n",
       "</div>"
      ],
      "text/plain": [
       "            uid  age  attraction_coeff  coins                   country  \\\n",
       "3369  892355163   40               640    0.0  United States of America   \n",
       "\n",
       "                                             visit_days  gender  \\\n",
       "3369  1,2,3,4,5,6,7,8,9,10,11,12,13,14,15,16,17,18,1...       1   \n",
       "\n",
       "      age_filter_start  age_filter_end  views_count  was_premium  is_premium  \\\n",
       "3369                25              60          700          1.0         0.0   \n",
       "\n",
       "      total_revenue  revenue  \n",
       "3369              0  30264.0  "
      ]
     },
     "execution_count": 25,
     "metadata": {},
     "output_type": "execute_result"
    }
   ],
   "source": [
    "# Проделаем то же самое с контрольной группой\n",
    "revenue_control_1 = transactions_control_1.groupby('uid', as_index=False).revenue.sum()\n",
    "users_c_1_revenue = users_control_1.merge(revenue_control_1, on='uid', how='left')\n",
    "users_c_1_revenue.query('(total_revenue != revenue) & (revenue >0)')"
   ]
  },
  {
   "cell_type": "code",
   "execution_count": 26,
   "metadata": {
    "scrolled": true
   },
   "outputs": [
    {
     "data": {
      "text/html": [
       "<div>\n",
       "<style scoped>\n",
       "    .dataframe tbody tr th:only-of-type {\n",
       "        vertical-align: middle;\n",
       "    }\n",
       "\n",
       "    .dataframe tbody tr th {\n",
       "        vertical-align: top;\n",
       "    }\n",
       "\n",
       "    .dataframe thead th {\n",
       "        text-align: right;\n",
       "    }\n",
       "</style>\n",
       "<table border=\"1\" class=\"dataframe\">\n",
       "  <thead>\n",
       "    <tr style=\"text-align: right;\">\n",
       "      <th></th>\n",
       "      <th>uid</th>\n",
       "      <th>country</th>\n",
       "      <th>joined_at</th>\n",
       "      <th>paid_at</th>\n",
       "      <th>revenue</th>\n",
       "      <th>payment_id</th>\n",
       "      <th>from_page</th>\n",
       "      <th>product_type</th>\n",
       "    </tr>\n",
       "  </thead>\n",
       "  <tbody>\n",
       "    <tr>\n",
       "      <th>303</th>\n",
       "      <td>892355163</td>\n",
       "      <td>United States of America</td>\n",
       "      <td>2017-10-15 18:45:00</td>\n",
       "      <td>2017-10-16 09:52:00</td>\n",
       "      <td>30264.0</td>\n",
       "      <td>68.0</td>\n",
       "      <td>super_popup</td>\n",
       "      <td>other_type</td>\n",
       "    </tr>\n",
       "  </tbody>\n",
       "</table>\n",
       "</div>"
      ],
      "text/plain": [
       "           uid                   country           joined_at  \\\n",
       "303  892355163  United States of America 2017-10-15 18:45:00   \n",
       "\n",
       "                paid_at  revenue  payment_id    from_page product_type  \n",
       "303 2017-10-16 09:52:00  30264.0        68.0  super_popup   other_type  "
      ]
     },
     "execution_count": 26,
     "metadata": {},
     "output_type": "execute_result"
    }
   ],
   "source": [
    "transactions_control_1.query('uid == 892355163')"
   ]
  },
  {
   "cell_type": "markdown",
   "metadata": {},
   "source": [
    "**Вывод**: изучив данные пользователей, у которых не сошлась выручка мы можем предположить о том, что в таблицах с пользователями (судя по сумме) не были учтены некоторые платежи. Оставим выручку, которую посчитали в таблицах с платежами."
   ]
  },
  {
   "cell_type": "code",
   "execution_count": 27,
   "metadata": {},
   "outputs": [],
   "source": [
    "users_test.loc[users_test['uid'] == 892275462, 'total_revenue'] = 58968\n",
    "users_control_1.loc[users_control_1['uid'] == 892355163, 'total_revenue'] = 30264"
   ]
  },
  {
   "cell_type": "code",
   "execution_count": 28,
   "metadata": {},
   "outputs": [
    {
     "data": {
      "text/plain": [
       "True"
      ]
     },
     "metadata": {},
     "output_type": "display_data"
    },
    {
     "data": {
      "text/plain": [
       "True"
      ]
     },
     "metadata": {},
     "output_type": "display_data"
    }
   ],
   "source": [
    "# Проверяем\n",
    "display(users_test.total_revenue.sum() == transactions_test.revenue.sum(),\n",
    "        users_control_1.total_revenue.sum() == transactions_control_1.revenue.sum())"
   ]
  },
  {
   "cell_type": "markdown",
   "metadata": {},
   "source": [
    "**Вывод**: теперь выручка пользователей сходится, поэтому несмотря на наличие дубликатов не будем их удалять. Они могут быть связаны с тем, что во времени оплаты не учтены секунды или с тем, что оплата производилась с разных устройств одновременно."
   ]
  },
  {
   "cell_type": "code",
   "execution_count": 29,
   "metadata": {},
   "outputs": [
    {
     "data": {
      "text/plain": [
       "0"
      ]
     },
     "metadata": {},
     "output_type": "display_data"
    },
    {
     "data": {
      "text/plain": [
       "0"
      ]
     },
     "metadata": {},
     "output_type": "display_data"
    },
    {
     "data": {
      "text/plain": [
       "0"
      ]
     },
     "metadata": {},
     "output_type": "display_data"
    }
   ],
   "source": [
    "# Проверим на наличие пользователей одновременно в нескольких тестах среди таблиц с пользователями\n",
    "users_t = users_test.uid.unique()\n",
    "users_c_1 = users_control_1.uid.unique()\n",
    "\n",
    "# Сравним группы тестовую и контрольную 1\n",
    "display(users_control_1.query('uid in @users_t').uid.count())\n",
    "# Сравним группы тестовую и контрольную 2\n",
    "display(users_control_2.query('uid in @users_t').uid.count())\n",
    "# Сравним две контрольные группы\n",
    "display(users_control_2.query('uid in @users_c_1').uid.count())"
   ]
  },
  {
   "cell_type": "code",
   "execution_count": 30,
   "metadata": {},
   "outputs": [
    {
     "data": {
      "text/plain": [
       "0"
      ]
     },
     "metadata": {},
     "output_type": "display_data"
    },
    {
     "data": {
      "text/plain": [
       "0"
      ]
     },
     "metadata": {},
     "output_type": "display_data"
    },
    {
     "data": {
      "text/plain": [
       "0"
      ]
     },
     "metadata": {},
     "output_type": "display_data"
    }
   ],
   "source": [
    "# Проверим на наличие пользователей одновременно в нескольких тестах среди таблиц с платежами\n",
    "a = transactions_test.uid.unique()\n",
    "b = transactions_control_1.uid.unique()\n",
    "\n",
    "# Сравним группы тестовую и контрольную 1\n",
    "display(transactions_control_1.query('uid in @a').uid.count())\n",
    "# Сравним группы тестовую и контрольную 2\n",
    "display(transactions_control_2.query('uid in @a').uid.count())\n",
    "# Сравним две контрольные группы\n",
    "display(transactions_control_2.query('uid in @b').uid.count())"
   ]
  },
  {
   "cell_type": "markdown",
   "metadata": {},
   "source": [
    "**Вывод:** пользователи во всех трех группах не перекликаются, как и должно быть в эксперименте."
   ]
  },
  {
   "cell_type": "code",
   "execution_count": 31,
   "metadata": {},
   "outputs": [
    {
     "data": {
      "text/plain": [
       "51"
      ]
     },
     "metadata": {},
     "output_type": "display_data"
    },
    {
     "data": {
      "text/plain": [
       "40"
      ]
     },
     "metadata": {},
     "output_type": "display_data"
    },
    {
     "data": {
      "text/plain": [
       "45"
      ]
     },
     "metadata": {},
     "output_type": "display_data"
    }
   ],
   "source": [
    "# Посчитаем, из скольких уникальных стран пользователи в разных группах\n",
    "display(users_test.country.nunique())\n",
    "display(users_control_1.country.nunique())\n",
    "display(users_control_2.country.nunique())"
   ]
  },
  {
   "cell_type": "code",
   "execution_count": 32,
   "metadata": {},
   "outputs": [
    {
     "data": {
      "text/plain": [
       "25"
      ]
     },
     "metadata": {},
     "output_type": "display_data"
    }
   ],
   "source": [
    "# Посчитаем, из скольких стран есть пользователи во всех группах\n",
    "countries_test = users_test.country.unique()\n",
    "countries_control_1 = users_control_1.country.unique()\n",
    "\n",
    "display(users_control_2.query('country in @countries_test & country in @countries_control_1').country.nunique())\n"
   ]
  },
  {
   "cell_type": "markdown",
   "metadata": {},
   "source": [
    "**Вывод**: в задании указано, что для новых пользователей из нескольких стран была изменена стоимость премиум-подписки, однако, не указано из каких именно. Мы выявили, что пользователи из 25 стран есть во всех трех группах, тогда как в разных группах пользователи из более чем 40 стран. Чтобы группы были однородные, оставим только те страны, пользователи из которых есть во всех группах."
   ]
  },
  {
   "cell_type": "code",
   "execution_count": 33,
   "metadata": {},
   "outputs": [],
   "source": [
    "# Cоздадим список этих 25 стран\n",
    "countries_in_all_groups = list(users_control_2.query('country in @countries_test & country in @countries_control_1')\n",
    "                               .country.unique())"
   ]
  },
  {
   "cell_type": "code",
   "execution_count": 34,
   "metadata": {},
   "outputs": [],
   "source": [
    "# Оставим пользователй из этих стран\n",
    "users_test = users_test.query('country in @countries_in_all_groups')\n",
    "users_control_1 = users_control_1.query('country in @countries_in_all_groups')\n",
    "users_control_2 = users_control_2.query('country in @countries_in_all_groups')"
   ]
  },
  {
   "cell_type": "code",
   "execution_count": 35,
   "metadata": {},
   "outputs": [
    {
     "data": {
      "text/plain": [
       "4271"
      ]
     },
     "metadata": {},
     "output_type": "display_data"
    },
    {
     "data": {
      "text/plain": [
       "4318"
      ]
     },
     "metadata": {},
     "output_type": "display_data"
    },
    {
     "data": {
      "text/plain": [
       "4238"
      ]
     },
     "metadata": {},
     "output_type": "display_data"
    }
   ],
   "source": [
    "# Посмотрим теперь на количество оставшихся уникальных пользователей в группах\n",
    "display(users_test.uid.nunique())\n",
    "display(users_control_1.uid.nunique())\n",
    "display(users_control_2.uid.nunique())"
   ]
  },
  {
   "cell_type": "markdown",
   "metadata": {},
   "source": [
    "**Вывод**: в тестовой группе остались 4271 пользователя (было 4308), в контрольной группе 1 стало 4318 пользователей (было 4346), в контрольной группе 2 стало 4238 пользователей (было 4264). Таким образом, из неперекликающихся стран мало пользователей, которыми можно пренебречь. Получившиеся данные пригодны для дальнейшего анализа."
   ]
  },
  {
   "cell_type": "code",
   "execution_count": 36,
   "metadata": {},
   "outputs": [
    {
     "data": {
      "text/plain": [
       "(273, 8)"
      ]
     },
     "metadata": {},
     "output_type": "display_data"
    },
    {
     "data": {
      "text/plain": [
       "(374, 8)"
      ]
     },
     "metadata": {},
     "output_type": "display_data"
    },
    {
     "data": {
      "text/plain": [
       "(328, 8)"
      ]
     },
     "metadata": {},
     "output_type": "display_data"
    }
   ],
   "source": [
    "# Посчитаем, сколько новых пользователей, исходя из того, что их дата регистрации будет позже даты начала эксперимента\n",
    "display(transactions_test.query('joined_at > \"2017-01-11 00:00:00\"').shape)\n",
    "display(transactions_control_1.query('joined_at > \"2017-01-11 00:00:00\"').shape)\n",
    "display(transactions_control_2.query('joined_at > \"2017-01-11 00:00:00\"').shape)"
   ]
  },
  {
   "cell_type": "markdown",
   "metadata": {},
   "source": [
    "**Вывод:** в тестовой группе 273 новых пользователя, в контрольной группе 1 - 374 пользователя, в контрольной группе 2 - 328 пользователей. Данные сопоставимы для проведения эксперимента."
   ]
  },
  {
   "cell_type": "code",
   "execution_count": 37,
   "metadata": {},
   "outputs": [
    {
     "data": {
      "text/plain": [
       "16"
      ]
     },
     "metadata": {},
     "output_type": "display_data"
    },
    {
     "data": {
      "text/plain": [
       "16"
      ]
     },
     "metadata": {},
     "output_type": "display_data"
    },
    {
     "data": {
      "text/plain": [
       "16"
      ]
     },
     "metadata": {},
     "output_type": "display_data"
    }
   ],
   "source": [
    "# посмотрим, минимальный возраст пользователей\n",
    "display(users_test.age.min())\n",
    "display(users_control_1.age.min())\n",
    "display(users_control_2.age.min())"
   ]
  },
  {
   "cell_type": "code",
   "execution_count": 38,
   "metadata": {
    "scrolled": true
   },
   "outputs": [
    {
     "data": {
      "text/plain": [
       "99"
      ]
     },
     "metadata": {},
     "output_type": "display_data"
    },
    {
     "data": {
      "text/plain": [
       "99"
      ]
     },
     "metadata": {},
     "output_type": "display_data"
    },
    {
     "data": {
      "text/plain": [
       "99"
      ]
     },
     "metadata": {},
     "output_type": "display_data"
    }
   ],
   "source": [
    "# посмотрим, максимальный возраст пользователей\n",
    "display(users_test.age.max())\n",
    "display(users_control_1.age.max())\n",
    "display(users_control_2.age.max())"
   ]
  },
  {
   "cell_type": "code",
   "execution_count": 39,
   "metadata": {},
   "outputs": [
    {
     "data": {
      "text/plain": [
       "0.0    3866\n",
       "1.0     405\n",
       "Name: was_premium, dtype: int64"
      ]
     },
     "metadata": {},
     "output_type": "display_data"
    },
    {
     "data": {
      "text/plain": [
       "0.0    3884\n",
       "1.0     434\n",
       "Name: was_premium, dtype: int64"
      ]
     },
     "metadata": {},
     "output_type": "display_data"
    },
    {
     "data": {
      "text/plain": [
       "0.0    3829\n",
       "1.0     409\n",
       "Name: was_premium, dtype: int64"
      ]
     },
     "metadata": {},
     "output_type": "display_data"
    }
   ],
   "source": [
    "# посмотрим, сколько премиальных клиентов было\n",
    "display(users_test.was_premium.value_counts())\n",
    "display(users_control_1.was_premium.value_counts())\n",
    "display(users_control_2.was_premium.value_counts())"
   ]
  },
  {
   "cell_type": "code",
   "execution_count": 40,
   "metadata": {},
   "outputs": [
    {
     "data": {
      "text/plain": [
       "0.0    4115\n",
       "1.0     156\n",
       "Name: is_premium, dtype: int64"
      ]
     },
     "metadata": {},
     "output_type": "display_data"
    },
    {
     "data": {
      "text/plain": [
       "0.0    4127\n",
       "1.0     191\n",
       "Name: is_premium, dtype: int64"
      ]
     },
     "metadata": {},
     "output_type": "display_data"
    },
    {
     "data": {
      "text/plain": [
       "0.0    4049\n",
       "1.0     189\n",
       "Name: is_premium, dtype: int64"
      ]
     },
     "metadata": {},
     "output_type": "display_data"
    }
   ],
   "source": [
    "# посмотрим, сколько премиальных клиентов сейчас\n",
    "display(users_test.is_premium.value_counts())\n",
    "display(users_control_1.is_premium.value_counts())\n",
    "display(users_control_2.is_premium.value_counts())"
   ]
  },
  {
   "cell_type": "markdown",
   "metadata": {},
   "source": [
    "**Вывод:** \n",
    "1. Минимальный возраст во всех группах -16 лет, максимальный во всех группах -99.\n",
    "2. Премиальных клиентов было в тестовой группе 405, в контрольной группе 1 - 434, в контрольной 2 - 409. Данные сопоставимы.\n",
    "3. Премиальных клиентов сейчас в тестовой группе 156, в контрольной группе 1 - 191, в контрольной 2 - 189. Данные сопоставимы."
   ]
  },
  {
   "cell_type": "code",
   "execution_count": 41,
   "metadata": {},
   "outputs": [
    {
     "data": {
      "text/plain": [
       "coins               106\n",
       "premium_no_trial     76\n",
       "trial_premium        62\n",
       "other_type           29\n",
       "Name: product_type, dtype: int64"
      ]
     },
     "metadata": {},
     "output_type": "display_data"
    },
    {
     "data": {
      "text/plain": [
       "coins               149\n",
       "premium_no_trial    106\n",
       "trial_premium        67\n",
       "other_type           52\n",
       "Name: product_type, dtype: int64"
      ]
     },
     "metadata": {},
     "output_type": "display_data"
    },
    {
     "data": {
      "text/plain": [
       "coins               124\n",
       "premium_no_trial    107\n",
       "trial_premium        53\n",
       "other_type           44\n",
       "Name: product_type, dtype: int64"
      ]
     },
     "metadata": {},
     "output_type": "display_data"
    }
   ],
   "source": [
    "# Посмотрим на распределение платежей по типу продукта\n",
    "display(transactions_test.product_type.value_counts())\n",
    "display(transactions_control_1.product_type.value_counts())\n",
    "display(transactions_control_2.product_type.value_counts())"
   ]
  },
  {
   "cell_type": "markdown",
   "metadata": {},
   "source": [
    "**Вывод**: из данных видно, что распределение платежей по типу продукта во всех группах однородно."
   ]
  },
  {
   "cell_type": "code",
   "execution_count": 42,
   "metadata": {},
   "outputs": [],
   "source": [
    "# Объединим таблицы пользователей и платежей\n",
    "# Перед объединением таблиц добавим колонку, определяющую к какой группе относится пользователь\n",
    "users_test['group'] = 'test'\n",
    "users_control_1['group'] = 'control_1'\n",
    "users_control_2['group'] = 'control_2'\n",
    "transactions_test['group'] = 'test'\n",
    "transactions_control_1['group'] = 'control_1'\n",
    "transactions_control_2['group'] = 'control_2'"
   ]
  },
  {
   "cell_type": "code",
   "execution_count": 43,
   "metadata": {},
   "outputs": [],
   "source": [
    "# Соединим по отдельности всех пользователей и все платежи\n",
    "all_users = pd.concat([users_test, users_control_1, users_control_2], ignore_index=True)\n",
    "all_transactions = pd.concat([transactions_test, transactions_control_1, transactions_control_2], ignore_index=True)\n",
    "# Вынесем отдельно столбец с подпиской premium_no_trial, где 0 -другая подписка, 1- premium_no_trial\n",
    "all_transactions['premium_no_trial'] = np.where(all_transactions['product_type'] == 'premium_no_trial', 1, 0)"
   ]
  },
  {
   "cell_type": "code",
   "execution_count": 44,
   "metadata": {},
   "outputs": [],
   "source": [
    "# Отберем данные из таблицы с платежами \n",
    "# Сгруппируем по пользователям и premium_no_trial, посчитаем выручку\n",
    "transactions_uid_revenue = all_transactions.groupby(['uid', 'premium_no_trial'], as_index=False) \\\n",
    "                                           .agg({'revenue': 'sum'})"
   ]
  },
  {
   "cell_type": "code",
   "execution_count": 45,
   "metadata": {
    "scrolled": false
   },
   "outputs": [
    {
     "data": {
      "text/html": [
       "<div>\n",
       "<style scoped>\n",
       "    .dataframe tbody tr th:only-of-type {\n",
       "        vertical-align: middle;\n",
       "    }\n",
       "\n",
       "    .dataframe tbody tr th {\n",
       "        vertical-align: top;\n",
       "    }\n",
       "\n",
       "    .dataframe thead th {\n",
       "        text-align: right;\n",
       "    }\n",
       "</style>\n",
       "<table border=\"1\" class=\"dataframe\">\n",
       "  <thead>\n",
       "    <tr style=\"text-align: right;\">\n",
       "      <th></th>\n",
       "      <th>uid</th>\n",
       "      <th>age</th>\n",
       "      <th>attraction_coeff</th>\n",
       "      <th>coins</th>\n",
       "      <th>country</th>\n",
       "      <th>visit_days</th>\n",
       "      <th>gender</th>\n",
       "      <th>age_filter_start</th>\n",
       "      <th>age_filter_end</th>\n",
       "      <th>views_count</th>\n",
       "      <th>was_premium</th>\n",
       "      <th>is_premium</th>\n",
       "      <th>total_revenue</th>\n",
       "      <th>group</th>\n",
       "      <th>premium_no_trial</th>\n",
       "      <th>revenue</th>\n",
       "    </tr>\n",
       "  </thead>\n",
       "  <tbody>\n",
       "    <tr>\n",
       "      <th>0</th>\n",
       "      <td>892309896</td>\n",
       "      <td>27</td>\n",
       "      <td>685</td>\n",
       "      <td>0.0</td>\n",
       "      <td>United States of America</td>\n",
       "      <td>1,2,3,4,5,6,7,8,9,10,11,12,16,17</td>\n",
       "      <td>1</td>\n",
       "      <td>24</td>\n",
       "      <td>30</td>\n",
       "      <td>89</td>\n",
       "      <td>0.0</td>\n",
       "      <td>0.0</td>\n",
       "      <td>0</td>\n",
       "      <td>test</td>\n",
       "      <td>0.0</td>\n",
       "      <td>0.0</td>\n",
       "    </tr>\n",
       "    <tr>\n",
       "      <th>1</th>\n",
       "      <td>892044516</td>\n",
       "      <td>27</td>\n",
       "      <td>0</td>\n",
       "      <td>0.0</td>\n",
       "      <td>Germany</td>\n",
       "      <td>0</td>\n",
       "      <td>1</td>\n",
       "      <td>24</td>\n",
       "      <td>30</td>\n",
       "      <td>0</td>\n",
       "      <td>0.0</td>\n",
       "      <td>0.0</td>\n",
       "      <td>0</td>\n",
       "      <td>test</td>\n",
       "      <td>0.0</td>\n",
       "      <td>0.0</td>\n",
       "    </tr>\n",
       "    <tr>\n",
       "      <th>2</th>\n",
       "      <td>892185708</td>\n",
       "      <td>45</td>\n",
       "      <td>44</td>\n",
       "      <td>0.0</td>\n",
       "      <td>Israel</td>\n",
       "      <td>1,3,4,6,7,8,10,11,12,13,14,15,16,17,18,19,20,2...</td>\n",
       "      <td>1</td>\n",
       "      <td>42</td>\n",
       "      <td>48</td>\n",
       "      <td>68</td>\n",
       "      <td>0.0</td>\n",
       "      <td>0.0</td>\n",
       "      <td>0</td>\n",
       "      <td>test</td>\n",
       "      <td>0.0</td>\n",
       "      <td>0.0</td>\n",
       "    </tr>\n",
       "    <tr>\n",
       "      <th>3</th>\n",
       "      <td>892130292</td>\n",
       "      <td>32</td>\n",
       "      <td>0</td>\n",
       "      <td>0.0</td>\n",
       "      <td>United States of America</td>\n",
       "      <td>1,2,3,4,5,6,7,8,9,10,11,12</td>\n",
       "      <td>1</td>\n",
       "      <td>29</td>\n",
       "      <td>35</td>\n",
       "      <td>0</td>\n",
       "      <td>0.0</td>\n",
       "      <td>0.0</td>\n",
       "      <td>0</td>\n",
       "      <td>test</td>\n",
       "      <td>0.0</td>\n",
       "      <td>0.0</td>\n",
       "    </tr>\n",
       "    <tr>\n",
       "      <th>4</th>\n",
       "      <td>891406035</td>\n",
       "      <td>27</td>\n",
       "      <td>1000</td>\n",
       "      <td>0.0</td>\n",
       "      <td>France</td>\n",
       "      <td>0</td>\n",
       "      <td>1</td>\n",
       "      <td>24</td>\n",
       "      <td>30</td>\n",
       "      <td>1</td>\n",
       "      <td>1.0</td>\n",
       "      <td>0.0</td>\n",
       "      <td>0</td>\n",
       "      <td>test</td>\n",
       "      <td>0.0</td>\n",
       "      <td>0.0</td>\n",
       "    </tr>\n",
       "  </tbody>\n",
       "</table>\n",
       "</div>"
      ],
      "text/plain": [
       "         uid  age  attraction_coeff  coins                   country  \\\n",
       "0  892309896   27               685    0.0  United States of America   \n",
       "1  892044516   27                 0    0.0                   Germany   \n",
       "2  892185708   45                44    0.0                    Israel   \n",
       "3  892130292   32                 0    0.0  United States of America   \n",
       "4  891406035   27              1000    0.0                    France   \n",
       "\n",
       "                                          visit_days  gender  \\\n",
       "0                   1,2,3,4,5,6,7,8,9,10,11,12,16,17       1   \n",
       "1                                                  0       1   \n",
       "2  1,3,4,6,7,8,10,11,12,13,14,15,16,17,18,19,20,2...       1   \n",
       "3                         1,2,3,4,5,6,7,8,9,10,11,12       1   \n",
       "4                                                  0       1   \n",
       "\n",
       "   age_filter_start  age_filter_end  views_count  was_premium  is_premium  \\\n",
       "0                24              30           89          0.0         0.0   \n",
       "1                24              30            0          0.0         0.0   \n",
       "2                42              48           68          0.0         0.0   \n",
       "3                29              35            0          0.0         0.0   \n",
       "4                24              30            1          1.0         0.0   \n",
       "\n",
       "   total_revenue group  premium_no_trial  revenue  \n",
       "0              0  test               0.0      0.0  \n",
       "1              0  test               0.0      0.0  \n",
       "2              0  test               0.0      0.0  \n",
       "3              0  test               0.0      0.0  \n",
       "4              0  test               0.0      0.0  "
      ]
     },
     "execution_count": 45,
     "metadata": {},
     "output_type": "execute_result"
    }
   ],
   "source": [
    "# Объединим получившиеся таблицы\n",
    "data = all_users.merge(transactions_uid_revenue, how='left', on='uid').fillna(0)\n",
    "data.head()"
   ]
  },
  {
   "cell_type": "code",
   "execution_count": 46,
   "metadata": {},
   "outputs": [
    {
     "data": {
      "text/plain": [
       "Text(0.5, 1.0, 'Распределение пользователей в группах по возрасту')"
      ]
     },
     "execution_count": 46,
     "metadata": {},
     "output_type": "execute_result"
    },
    {
     "data": {
      "image/png": "[encoded data removed]",
      "text/plain": [
       "<Figure size 1080x360 with 1 Axes>"
      ]
     },
     "metadata": {
      "needs_background": "light"
     },
     "output_type": "display_data"
    }
   ],
   "source": [
    "# Посмотрим на распределение пользователей в группах по возрасту\n",
    "data.pivot_table(index='age', columns='group', values='uid', aggfunc='nunique').plot(figsize=(15, 5))\n",
    "plt.xlabel('Возраст')\n",
    "plt.ylabel('Количество пользователей')\n",
    "plt.title('Распределение пользователей в группах по возрасту')"
   ]
  },
  {
   "cell_type": "code",
   "execution_count": 47,
   "metadata": {},
   "outputs": [],
   "source": [
    "# Разобьем возраст пользователей на категории (у нас пользователи от 16 до 99 лет) \n",
    "def age_category(row):\n",
    "    age = row['age']\n",
    "    if 16 <= age <= 25:\n",
    "        return \"юные\"\n",
    "    elif 26 <= age <= 35:\n",
    "        return \"молодые\"\n",
    "    elif 36 <= age <= 45:\n",
    "        return \"средний возраст\"\n",
    "    elif 46 <= age <= 60:\n",
    "        return \"зрелые\"\n",
    "    else:\n",
    "        return \"пожилые\" \n",
    "data['age_category'] = data.apply(age_category, axis=1) "
   ]
  },
  {
   "cell_type": "code",
   "execution_count": 48,
   "metadata": {},
   "outputs": [
    {
     "data": {
      "text/plain": [
       "Text(0.5, 1.0, 'Распределение пользователей в группах по коэффициенту привлекательности')"
      ]
     },
     "execution_count": 48,
     "metadata": {},
     "output_type": "execute_result"
    },
    {
     "data": {
      "image/png": "[encoded data removed]",
      "text/plain": [
       "<Figure size 1080x360 with 1 Axes>"
      ]
     },
     "metadata": {
      "needs_background": "light"
     },
     "output_type": "display_data"
    }
   ],
   "source": [
    "# Посмотрим на распределение пользователей в группах по коэффициенту привлекательности\n",
    "data.pivot_table(index='attraction_coeff', columns='group', values='uid', aggfunc='nunique').plot(figsize=(15, 5))\n",
    "plt.xlabel('Коэффициент привлекательности')\n",
    "plt.ylabel('Количество пользователей')\n",
    "plt.title('Распределение пользователей в группах по коэффициенту привлекательности')"
   ]
  },
  {
   "cell_type": "code",
   "execution_count": 49,
   "metadata": {},
   "outputs": [
    {
     "data": {
      "text/plain": [
       "Text(0.5, 1.0, 'Распределение пользователей в группах по полу')"
      ]
     },
     "execution_count": 49,
     "metadata": {},
     "output_type": "execute_result"
    },
    {
     "data": {
      "image/png": "[encoded data removed]",
      "text/plain": [
       "<Figure size 432x288 with 1 Axes>"
      ]
     },
     "metadata": {
      "needs_background": "light"
     },
     "output_type": "display_data"
    }
   ],
   "source": [
    "# Посмотрим на распределение пользователей в группах по полу\n",
    "data_gender = data.groupby(['gender', 'group'], as_index=False).agg({'uid': 'nunique'})\n",
    "sns.barplot(x='gender',\n",
    "            y='uid',\n",
    "            hue='group',\n",
    "            data=data_gender)\n",
    "plt.xlabel('Пол')\n",
    "plt.ylabel('количество пользователей')\n",
    "plt.title('Распределение пользователей в группах по полу')"
   ]
  },
  {
   "cell_type": "code",
   "execution_count": 50,
   "metadata": {
    "scrolled": false
   },
   "outputs": [
    {
     "data": {
      "text/plain": [
       "Text(0.5, 1.0, 'Распределение пользователей в группах по странам')"
      ]
     },
     "execution_count": 50,
     "metadata": {},
     "output_type": "execute_result"
    },
    {
     "data": {
      "image/png": "[encoded data removed]",
      "text/plain": [
       "<Figure size 1440x576 with 1 Axes>"
      ]
     },
     "metadata": {},
     "output_type": "display_data"
    }
   ],
   "source": [
    "# Посмотрим на распределение пользователей в группах по странам\n",
    "data_country = data.groupby(['country', 'group'], as_index=False).agg({'uid': 'nunique'})\n",
    "sns.set(rc={\"figure.figsize\": (20, 8)})\n",
    "sns.barplot(x='country',\n",
    "            y='uid',\n",
    "            hue='group',\n",
    "            data=data_country)\n",
    "plt.xticks(rotation=75)\n",
    "plt.xlabel('Страна')\n",
    "plt.ylabel('количество пользователей')\n",
    "plt.title('Распределение пользователей в группах по странам')"
   ]
  },
  {
   "cell_type": "markdown",
   "metadata": {},
   "source": [
    "**Вывод:** распределение пользователей в разбивке по возрасту, полу, странам, в целом, сопоставимо. В распределении пользователей в группах по коэффициенту привлекательности видим бОльшее количество пользователей с коэффициентом 0 во второй контрольной группе, с коэффициентом около 1000 - больше в первой контрольной группе, что может сказаться на результатах проведения теста."
   ]
  },
  {
   "cell_type": "markdown",
   "metadata": {},
   "source": [
    "**Общий вывод:**\n",
    "1. Привели данные к нужным типам, обработали пропуски.\n",
    "2. Выяснили, что тест проводился с 11.01.2017 по 11.12.2017.\n",
    "3. Изучив данные пользователей, у которых не сошлась выручка мы предположили о том, что в таблицах с пользователями (судя по сумме) не были учтены некоторые платежи. Оставили выручку, которую посчитали в таблицах с платежами.\n",
    "4. Выручка пользователей сошлась, поэтому несмотря на наличие дубликатов не стали их удалять. \n",
    "5. Проверили, что пользователи во всех трех группах не перекликаются.\n",
    "6. Выявили, что пользователи из 25 стран есть во всех трех группах, тогда как в разных группах пользователи из более чем 40 стран. Чтобы группы были однородные, оставили только те страны, пользователи из которых есть во всех группах.\n",
    "7. Посмотрели, что в тестовой группе 273 новых пользователя, в контрольной группе 1 - 374 пользователя, в контрольной группе 2 - 328 пользователей. Данные сопоставимы.\n",
    "8. Минимальный возраст во всех группах -16 лет, максимальный во всех группах -99.\n",
    "9. Премиальных клиентов было в тестовой группе 405, в контрольной группе 1 - 434, в контрольной 2 - 409. Данные сопоставимы.\n",
    "10. Премиальных клиентов сейчас в тестовой группе 156, в контрольной группе 1 - 191, в контрольной 2 - 189. Данные сопоставимы.\n",
    "11. Посмотрели, что распределение платежей по типу продукта во всех группах однородно.\n",
    "12. Распределение пользователей в разбивке по возрасту, полу, странам, в целом, сопоставимо. В распределении пользователей в группах по коэффициенту привлекательности видим бОльшее количество пользователей с коэффициентом 0 во второй контрольной группе, с коэффициентом около 1000 - больше в первой контрольной группе, что может сказаться на результатах проведения теста.\n",
    "13. Для дальнейшего анализа объединили все таблицы."
   ]
  },
  {
   "cell_type": "markdown",
   "metadata": {},
   "source": [
    "## А/А тест\n"
   ]
  },
  {
   "cell_type": "markdown",
   "metadata": {},
   "source": [
    "Будем исследовать данные пользователей с подпиской premium_no_trial, т.к. именно сней произошли изменения согласно заданию.\n",
    "В качестве целевых метрик будем использовать ARPU(средний доход на всех пользователей), ARPPU(доход на одного платящего пользователя) и CR (за конверсию принимаем покупку премиум-подписки)."
   ]
  },
  {
   "cell_type": "code",
   "execution_count": 51,
   "metadata": {
    "scrolled": true
   },
   "outputs": [
    {
     "data": {
      "text/plain": [
       "4318"
      ]
     },
     "metadata": {},
     "output_type": "display_data"
    },
    {
     "data": {
      "text/plain": [
       "4238"
      ]
     },
     "metadata": {},
     "output_type": "display_data"
    }
   ],
   "source": [
    "# Посмотрим на количество наблюдений в двух группах\n",
    "display(data[data['group'] == \"control_1\"].uid.nunique(),\n",
    "        data[data['group'] == \"control_2\"].uid.nunique())"
   ]
  },
  {
   "cell_type": "markdown",
   "metadata": {},
   "source": [
    "**ARPU**"
   ]
  },
  {
   "cell_type": "code",
   "execution_count": 52,
   "metadata": {
    "scrolled": true
   },
   "outputs": [
    {
     "data": {
      "text/plain": [
       "<matplotlib.axes._subplots.AxesSubplot at 0x7f0a0a9d5208>"
      ]
     },
     "execution_count": 52,
     "metadata": {},
     "output_type": "execute_result"
    },
    {
     "data": {
      "image/png": "[encoded data removed]",
      "text/plain": [
       "<Figure size 1440x576 with 1 Axes>"
      ]
     },
     "metadata": {},
     "output_type": "display_data"
    }
   ],
   "source": [
    "# Посмотрим на распределение в 1 контрольной группе\n",
    "sns.distplot(data[data['group'] == \"control_1\"].revenue, kde=False)"
   ]
  },
  {
   "cell_type": "code",
   "execution_count": 53,
   "metadata": {
    "scrolled": true
   },
   "outputs": [
    {
     "data": {
      "text/plain": [
       "<matplotlib.axes._subplots.AxesSubplot at 0x7f0a0a931dd8>"
      ]
     },
     "execution_count": 53,
     "metadata": {},
     "output_type": "execute_result"
    },
    {
     "data": {
      "image/png": "[encoded data removed]",
      "text/plain": [
       "<Figure size 1440x576 with 1 Axes>"
      ]
     },
     "metadata": {},
     "output_type": "display_data"
    }
   ],
   "source": [
    "# Посмотрим на распределение во 2 контрольной группе\n",
    "sns.distplot(data[data['group'] == \"control_2\"].revenue, kde=False)"
   ]
  },
  {
   "cell_type": "markdown",
   "metadata": {},
   "source": [
    "**Вывод**: по графикам видно, что распределения в обеих контрольных группах ненормальны за счет наличия выбросов."
   ]
  },
  {
   "cell_type": "code",
   "execution_count": 54,
   "metadata": {},
   "outputs": [
    {
     "data": {
      "text/plain": [
       "<matplotlib.axes._subplots.AxesSubplot at 0x7f0a0a781e80>"
      ]
     },
     "execution_count": 54,
     "metadata": {},
     "output_type": "execute_result"
    },
    {
     "data": {
      "image/png": "[encoded data removed]",
      "text/plain": [
       "<Figure size 1440x576 with 1 Axes>"
      ]
     },
     "metadata": {},
     "output_type": "display_data"
    }
   ],
   "source": [
    "# Построим боксплот\n",
    "sns.boxplot(x=\"group\", y=\"total_revenue\", data=data)"
   ]
  },
  {
   "cell_type": "markdown",
   "metadata": {},
   "source": [
    "**Вывод**: мы видим наличие выбросов во всех группах. Однако, удалять их не будем в связи с возможной их большой значимостью."
   ]
  },
  {
   "cell_type": "markdown",
   "metadata": {},
   "source": [
    "Проверим гомогенность дисперсий при помощи критерия Левена.\n",
    "\n",
    "Нулевая гипотеза - дисперсии двух групп не отличаются.\n",
    "Альтернативная гипотеза - дисперсии двух групп статистически значимо отличаются."
   ]
  },
  {
   "cell_type": "code",
   "execution_count": 55,
   "metadata": {
    "scrolled": true
   },
   "outputs": [
    {
     "data": {
      "text/plain": [
       "LeveneResult(statistic=1.8231884520795034, pvalue=0.1769695950167344)"
      ]
     },
     "execution_count": 55,
     "metadata": {},
     "output_type": "execute_result"
    }
   ],
   "source": [
    "ss.levene(data[data['group'] == \"control_1\"].revenue, data[data['group'] == \"control_2\"].revenue)"
   ]
  },
  {
   "cell_type": "markdown",
   "metadata": {},
   "source": [
    "**Вывод**: при проверке гомогенности дисперсий при помощи критерия Левена pvalue>0.05, что говорит о том, что мы не можем отклонить нулевую гипотезу, т.е. дисперсии двух групп не отличаются."
   ]
  },
  {
   "cell_type": "markdown",
   "metadata": {},
   "source": [
    "Таким образом, при проведении A/А теста будем использовать Т-критерий Стьюдента, т.к. мы подтвердили требование гомогенности дисперсий и у нас большое число наблюдений (несмотря на то, что распределения ненормальны). Оценивать сплит-систему будем при помощи FPR."
   ]
  },
  {
   "cell_type": "code",
   "execution_count": 56,
   "metadata": {
    "scrolled": true
   },
   "outputs": [
    {
     "data": {
      "application/vnd.jupyter.widget-view+json": {
       "model_id": "2c3d2abe951b430cb1d47ae89d36c886",
       "version_major": 2,
       "version_minor": 0
      },
      "text/plain": [
       "HBox(children=(FloatProgress(value=0.0, max=1000.0), HTML(value='')))"
      ]
     },
     "metadata": {},
     "output_type": "display_data"
    },
    {
     "name": "stdout",
     "output_type": "stream",
     "text": [
      "\n"
     ]
    },
    {
     "data": {
      "image/png": "[encoded data removed]",
      "text/plain": [
       "<Figure size 1440x576 with 1 Axes>"
      ]
     },
     "metadata": {},
     "output_type": "display_data"
    },
    {
     "data": {
      "text/plain": [
       "0.035"
      ]
     },
     "execution_count": 56,
     "metadata": {},
     "output_type": "execute_result"
    }
   ],
   "source": [
    "# Проведем  A/A тест\n",
    "\n",
    "n = 100000\n",
    "simulations = 1000\n",
    "n_s = 1000\n",
    "res = []\n",
    "\n",
    "# Запуск симуляций A/A теста\n",
    "for i in tqdm(range(simulations)):\n",
    "    s1 = data[data['group'] == \"control_1\"].sample(n_s, replace=False).revenue.values\n",
    "    s2 = data[data['group'] == \"control_2\"].sample(n_s, replace=False).revenue.values\n",
    "    res.append(stats.ttest_ind(s1, s2, equal_var=False)[1])  # сохраняем pvalue\n",
    "\n",
    "plt.hist(res, bins=50)\n",
    "plt.style.use('ggplot')\n",
    "plt.xlabel('pvalues')\n",
    "plt.ylabel('frequency')\n",
    "plt.title(\"Histogram of ttest A/A simulations \")\n",
    "plt.show()\n",
    "\n",
    "# Проверяем, превышает ли количество ложноположительных случаев альфа\n",
    "sum(np.array(res) < 0.05) / simulations"
   ]
  },
  {
   "cell_type": "markdown",
   "metadata": {},
   "source": [
    "**Вывод:** FPR не превышает заданный уровень альфа(0,05). Сплит-система работает корректно. "
   ]
  },
  {
   "cell_type": "markdown",
   "metadata": {},
   "source": [
    "**ARPPU по подписке premium_no_trial**"
   ]
  },
  {
   "cell_type": "code",
   "execution_count": 57,
   "metadata": {},
   "outputs": [],
   "source": [
    "# ARPPU\n",
    "data_arppu = data.query(\"(total_revenue>0) & (premium_no_trial==1)\")"
   ]
  },
  {
   "cell_type": "code",
   "execution_count": 58,
   "metadata": {},
   "outputs": [
    {
     "data": {
      "application/vnd.jupyter.widget-view+json": {
       "model_id": "67ee3d419f4f49538b17a255a85c96c0",
       "version_major": 2,
       "version_minor": 0
      },
      "text/plain": [
       "HBox(children=(FloatProgress(value=0.0, max=1000.0), HTML(value='')))"
      ]
     },
     "metadata": {},
     "output_type": "display_data"
    },
    {
     "name": "stdout",
     "output_type": "stream",
     "text": [
      "\n"
     ]
    },
    {
     "data": {
      "image/png": "[encoded data removed]",
      "text/plain": [
       "<Figure size 1440x576 with 1 Axes>"
      ]
     },
     "metadata": {},
     "output_type": "display_data"
    },
    {
     "data": {
      "text/plain": [
       "0.001"
      ]
     },
     "execution_count": 58,
     "metadata": {},
     "output_type": "execute_result"
    }
   ],
   "source": [
    "# Проведем  A/A тест\n",
    "\n",
    "n = 100000\n",
    "simulations = 1000\n",
    "n_s = 50\n",
    "res = []\n",
    "\n",
    "# Запуск симуляций A/A теста\n",
    "for i in tqdm(range(simulations)):\n",
    "    s1 = data_arppu[data_arppu['group'] == \"control_1\"].sample(n_s, replace=False).revenue.values\n",
    "    s2 = data_arppu[data_arppu['group'] == \"control_2\"].sample(n_s, replace=False).revenue.values\n",
    "    res.append(stats.ttest_ind(s1, s2, equal_var=False)[1])  # сохраняем pvalue\n",
    "\n",
    "plt.hist(res, bins=50)\n",
    "plt.style.use('ggplot')\n",
    "plt.xlabel('pvalues')\n",
    "plt.ylabel('frequency')\n",
    "plt.title(\"Histogram of ttest A/A simulations \")\n",
    "plt.show()\n",
    "\n",
    "# Проверяем, превышает ли количество ложноположительных случаев альфа\n",
    "sum(np.array(res) < 0.05) / simulations"
   ]
  },
  {
   "cell_type": "markdown",
   "metadata": {},
   "source": [
    "**Вывод:** FPR не превышает заданный уровень альфа(0,05). Сплит-система работает корректно. "
   ]
  },
  {
   "cell_type": "markdown",
   "metadata": {},
   "source": [
    "**CR**"
   ]
  },
  {
   "cell_type": "markdown",
   "metadata": {},
   "source": [
    "В связи с тем, что конверсия - категориальная переменаая, воспользуемся критерием Хи-квадрат.\n",
    "\n",
    "Нулевая гипотеза - две иконтрольные группы статистически значимо не отличаются по CR.\n",
    "\n",
    "Альтернативная гипотеза - две контрольные группы статистически значимо отличаются по CR."
   ]
  },
  {
   "cell_type": "code",
   "execution_count": 59,
   "metadata": {},
   "outputs": [
    {
     "data": {
      "application/vnd.jupyter.widget-view+json": {
       "model_id": "aab759e96a9d47278020da7f3b95c5fc",
       "version_major": 2,
       "version_minor": 0
      },
      "text/plain": [
       "HBox(children=(FloatProgress(value=0.0, max=1000.0), HTML(value='')))"
      ]
     },
     "metadata": {},
     "output_type": "display_data"
    },
    {
     "name": "stdout",
     "output_type": "stream",
     "text": [
      "\n"
     ]
    },
    {
     "data": {
      "image/png": "[encoded data removed]",
      "text/plain": [
       "<Figure size 1440x576 with 1 Axes>"
      ]
     },
     "metadata": {},
     "output_type": "display_data"
    },
    {
     "data": {
      "text/plain": [
       "0.023"
      ]
     },
     "execution_count": 59,
     "metadata": {},
     "output_type": "execute_result"
    }
   ],
   "source": [
    "# Проведем  A/A тест\n",
    "\n",
    "n = 100000\n",
    "simulations = 1000\n",
    "n_s = 1000\n",
    "res = []\n",
    "\n",
    "# Запуск симуляций A/A теста\n",
    "for i in tqdm(range(simulations)):\n",
    "    s1 = data[data['group'] == \"control_1\"].premium_no_trial.sample(n_s, replace=False).values\n",
    "    s2 = data[data['group'] == \"control_2\"].premium_no_trial.sample(n_s, replace=False).values\n",
    "    ab = np.array([[s1.sum(), s1.shape[0] - s1.sum()], [s2.sum(), s2.shape[0] - s2.sum()]]) \n",
    "    res.append(stats.chi2_contingency(ab, correction=False)[1])  # сохраняем pvalue\n",
    "\n",
    "plt.hist(res, bins=50)\n",
    "plt.style.use('ggplot')\n",
    "plt.xlabel('pvalues')\n",
    "plt.ylabel('frequency')\n",
    "plt.title(\"Histogram of ttest A/A simulations \")\n",
    "plt.show()\n",
    "\n",
    "# Проверяем, превышает ли количество ложноположительных случаев альфа\n",
    "sum(np.array(res) < 0.05) / simulations"
   ]
  },
  {
   "cell_type": "markdown",
   "metadata": {},
   "source": [
    "**Вывод:** FPR не превышает заданный уровень альфа(0,05). Сплит-система работает корректно. "
   ]
  },
  {
   "cell_type": "markdown",
   "metadata": {},
   "source": [
    "**Вывод по А/А тесту**\n",
    "1. В качестве целевых метрик использовали ARPU, ARPPU и CR (за конверсию принимаем покупку премиум-подписки).\n",
    "2. В обеих контрольных группах и в тестовой группе имеются выбросы.\n",
    "2. При помощи критерия Левена подтвердили, что дисперсии гомогенны.\n",
    "3. Для оценки ARPU и ARPPU выбрали t-тест.\n",
    "4. Для оценки СR (категориальная переменная) выбрали Хи-квадрат.\n",
    "5. Оценивали сплит-систему при помощи FPR.\n",
    "6. Убедились, что сплит-система работает корректно."
   ]
  },
  {
   "cell_type": "markdown",
   "metadata": {},
   "source": [
    "## A/B тест"
   ]
  },
  {
   "cell_type": "code",
   "execution_count": 60,
   "metadata": {
    "scrolled": true
   },
   "outputs": [
    {
     "data": {
      "text/plain": [
       "<matplotlib.axes._subplots.AxesSubplot at 0x7f09edadfe48>"
      ]
     },
     "execution_count": 60,
     "metadata": {},
     "output_type": "execute_result"
    },
    {
     "data": {
      "image/png": "[encoded data removed]",
      "text/plain": [
       "<Figure size 1440x576 with 1 Axes>"
      ]
     },
     "metadata": {},
     "output_type": "display_data"
    }
   ],
   "source": [
    "# Посмотрим на распределение в тестовой группе\n",
    "sns.distplot(data[data['group'] == \"test\"].total_revenue, kde=False)"
   ]
  },
  {
   "cell_type": "markdown",
   "metadata": {},
   "source": [
    "**Вывод**: по графику видно, что распределение в тестовой группе ненормальное, с наличием выбросов. Для дальнейшего сравнения объединим 2 контрольные группы в одну, т.к. мы доказали, что сплит-система сработала корректно."
   ]
  },
  {
   "cell_type": "code",
   "execution_count": 61,
   "metadata": {},
   "outputs": [],
   "source": [
    "# Напишем функции для подсчета ARPU, ARPPU и CR\n",
    "def group_arpu(df):\n",
    "    arpu_control = df[df.group != 'test'].revenue.sum() / df[df.group != 'test'].uid.nunique()\n",
    "    arpu_test = df[df.group == 'test'].revenue.sum() / df[df.group == 'test'].uid.nunique()\n",
    "    display(\"ARPU для контрольных групп:\", arpu_control)\n",
    "    display(\"ARPU для тестовой группы:\", arpu_test)\n",
    "    \n",
    "def group_arppu(df):\n",
    "    df_arppu = df.query(\"premium_no_trial==1\")\n",
    "    arppu_control = df[df.group != 'test'].revenue.sum() / (\n",
    "        df_arppu[df_arppu.group != 'test'].uid.nunique())\n",
    "    arppu_test = df_arppu[df_arppu.group == 'test'].revenue.sum() / (df_arppu[df_arppu.group == 'test'].uid.nunique())\n",
    "    display(\"ARPPU для контрольных групп:\", arppu_control)\n",
    "    display(\"ARPPU для тестовой группы:\", arppu_test)\n",
    "    \n",
    "def group_cr(df):\n",
    "    cr_control = df[(df.group != 'test') & (df.premium_no_trial == 1)].uid.nunique() / (\n",
    "        df[df.group != 'test'].uid.nunique())\n",
    "    cr_test = df[(df.group == 'test') & (df.premium_no_trial == 1)].uid.nunique() / df[df.group == 'test'].uid.nunique()\n",
    "    display(\"CR для контрольных групп:\", cr_control)\n",
    "    display(\"CR для тестовой группы:\", cr_test)"
   ]
  },
  {
   "cell_type": "markdown",
   "metadata": {},
   "source": [
    "**ARPU**"
   ]
  },
  {
   "cell_type": "code",
   "execution_count": 62,
   "metadata": {},
   "outputs": [
    {
     "data": {
      "text/plain": [
       "'ARPU для контрольных групп:'"
      ]
     },
     "metadata": {},
     "output_type": "display_data"
    },
    {
     "data": {
      "text/plain": [
       "526.7658952781674"
      ]
     },
     "metadata": {},
     "output_type": "display_data"
    },
    {
     "data": {
      "text/plain": [
       "'ARPU для тестовой группы:'"
      ]
     },
     "metadata": {},
     "output_type": "display_data"
    },
    {
     "data": {
      "text/plain": [
       "546.6635448372747"
      ]
     },
     "metadata": {},
     "output_type": "display_data"
    }
   ],
   "source": [
    "# Посчитаем ARPU для контрольных и тестовой группы\n",
    "group_arpu(data)"
   ]
  },
  {
   "cell_type": "markdown",
   "metadata": {},
   "source": [
    "Мы видим, что ARPU несколько увеличился в тестовой группе, посмотрим, насколько это статистически значимо.\n",
    "\n",
    "Нулевая гипотеза - тестовая и контрольные группы статистически значимо не отличаются по ARPU.\n",
    "\n",
    "Альтернативная гипотеза - тестовая и контрольные группы статистически значимо отличаются по ARPU."
   ]
  },
  {
   "cell_type": "code",
   "execution_count": 63,
   "metadata": {},
   "outputs": [
    {
     "data": {
      "text/plain": [
       "Ttest_indResult(statistic=-0.23465337599060304, pvalue=0.814481492619434)"
      ]
     },
     "execution_count": 63,
     "metadata": {},
     "output_type": "execute_result"
    }
   ],
   "source": [
    "# Проведем Т-тест\n",
    "ttest_ind(data[data.group != 'test'].revenue, data[data.group == 'test'].revenue)"
   ]
  },
  {
   "cell_type": "markdown",
   "metadata": {},
   "source": [
    "**Вывод**: pvalue>0.05, следовательно, мы не можем отклонить нулевую гипотезу, т.е. тестовая и контрольные группы статистически значимо не отличаются по ARPU."
   ]
  },
  {
   "cell_type": "markdown",
   "metadata": {},
   "source": [
    "**ARPPU по подписке premium_no_trial**"
   ]
  },
  {
   "cell_type": "code",
   "execution_count": 64,
   "metadata": {},
   "outputs": [
    {
     "data": {
      "text/plain": [
       "'ARPPU для контрольных групп:'"
      ]
     },
     "metadata": {},
     "output_type": "display_data"
    },
    {
     "data": {
      "text/plain": [
       "22535.045"
      ]
     },
     "metadata": {},
     "output_type": "display_data"
    },
    {
     "data": {
      "text/plain": [
       "'ARPPU для тестовой группы:'"
      ]
     },
     "metadata": {},
     "output_type": "display_data"
    },
    {
     "data": {
      "text/plain": [
       "12187.10606060606"
      ]
     },
     "metadata": {},
     "output_type": "display_data"
    }
   ],
   "source": [
    "# Посчитаем ARPPU по подписке premium_no_trial для контрольных и тестовой группы\n",
    "group_arppu(data)"
   ]
  },
  {
   "cell_type": "markdown",
   "metadata": {},
   "source": [
    "Мы видим, что ARPPU увеличился в тестовой группе, посмотрим, насколько это статистически значимо.\n",
    "\n",
    "Нулевая гипотеза - тестовая и контрольные группы статистически значимо не отличаются по ARPPU.\n",
    "\n",
    "Альтернативная гипотеза - тестовая и контрольные группы статистически значимо отличаются по ARPPU."
   ]
  },
  {
   "cell_type": "code",
   "execution_count": 65,
   "metadata": {
    "scrolled": true
   },
   "outputs": [
    {
     "data": {
      "text/plain": [
       "Ttest_indResult(statistic=-2.532507206884283, pvalue=0.011905017482852612)"
      ]
     },
     "execution_count": 65,
     "metadata": {},
     "output_type": "execute_result"
    }
   ],
   "source": [
    "# Проведем Т-тест\n",
    "ttest_ind(data_arppu[data_arppu.group != 'test'].revenue, data_arppu[data_arppu.group == 'test'].revenue)"
   ]
  },
  {
   "cell_type": "markdown",
   "metadata": {},
   "source": [
    "**Вывод**: pvalue<0.05, следовательно, мы можем отклонить нулевую гипотезу, т.е. тестовая и контрольные группы статистически значимо отличаются по ARPPU."
   ]
  },
  {
   "cell_type": "markdown",
   "metadata": {},
   "source": [
    "**CR**"
   ]
  },
  {
   "cell_type": "code",
   "execution_count": 66,
   "metadata": {},
   "outputs": [
    {
     "data": {
      "text/plain": [
       "'CR для контрольных групп:'"
      ]
     },
     "metadata": {},
     "output_type": "display_data"
    },
    {
     "data": {
      "text/plain": [
       "0.02337540906965872"
      ]
     },
     "metadata": {},
     "output_type": "display_data"
    },
    {
     "data": {
      "text/plain": [
       "'CR для тестовой группы:'"
      ]
     },
     "metadata": {},
     "output_type": "display_data"
    },
    {
     "data": {
      "text/plain": [
       "0.015453055490517443"
      ]
     },
     "metadata": {},
     "output_type": "display_data"
    }
   ],
   "source": [
    "# Посчитаем конверсию в контрольных и тестовой группах\n",
    "group_cr(data)"
   ]
  },
  {
   "cell_type": "markdown",
   "metadata": {},
   "source": [
    "Мы видим, что конверсия в подписку premium_no_trial уменьшилась в тестовой группе. Посмотрим, насколько это статистически значимо.\n",
    "\n",
    "\n",
    "Для оценки конверсии воспользуемся критерием Хи-квадрат."
   ]
  },
  {
   "cell_type": "markdown",
   "metadata": {},
   "source": [
    "Нулевая гипотеза - тестовая и контрольные группы статистически значимо не отличаются по CR.\n",
    "\n",
    "Альтернативная гипотеза - тестовая и контрольные группы статистически значимо отличаются по CR."
   ]
  },
  {
   "cell_type": "code",
   "execution_count": 67,
   "metadata": {},
   "outputs": [
    {
     "data": {
      "text/plain": [
       "0.003289519509343992"
      ]
     },
     "execution_count": 67,
     "metadata": {},
     "output_type": "execute_result"
    }
   ],
   "source": [
    "a = data[data['group'] != 'test'].premium_no_trial\n",
    "b = data[data['group'] == 'test'].premium_no_trial\n",
    "ab = np.array([[a.sum(), a.shape[0] - a.sum()], [b.sum(), b.shape[0] - b.sum()]]) \n",
    "stats.chi2_contingency(ab, correction=False)[1]"
   ]
  },
  {
   "cell_type": "markdown",
   "metadata": {},
   "source": [
    "**Вывод**: pvalue<0.05, следовательно, мы можем отклонить нулевую гипотезу, т.е. тестовая и контрольные группы статистически значимо отличаются по CR."
   ]
  },
  {
   "cell_type": "markdown",
   "metadata": {},
   "source": [
    "**Вывод по A/B тесту**: \n",
    "1. Распределение выручки в тестовой группе, как и в обеих контрольных группах, ненормально за счет наличия выбросов.\n",
    "2. Оценивали так же ARPU и ARPPU при помощи t-теста и СR при помощи Хи-квадрата.\n",
    "3. Выяснили, что тестовая и контрольные группы статистически значимо не отличаются по ARPU, при этом имеется ститастически значимая разница групп по ARPPU (ARPPU увеличился) и по CR(конверсия снизилась). Можем предположить, что подписка подорожала, т.к. произошло снижение конверсии, компенсируемое выручкой.\n",
    "4. Считаю, что для всей аудитории приложения эксперимент по изменению стоимости подписки Premium_no_trial оказался неуспешным."
   ]
  },
  {
   "cell_type": "markdown",
   "metadata": {},
   "source": [
    "## Анализ конкретных групп пользователей"
   ]
  },
  {
   "cell_type": "markdown",
   "metadata": {},
   "source": [
    "Проанализируем, имеет ли нововведение смысл среди каких-либо конкретных групп пользователей.\n",
    "\n",
    "Сначала посмотрим, в каких группах пользователей мы видим прирост выручки и далее проверим стат значимость изменений ARPU и ARPPU при помощи bootstrap (он более устойчив к выбросам и небольшому числу наблюдений, а при выборе конкретной группы пользователей количество наблюдений снижается), CR в подписку premium_no_trial при помощи Хи-квадрата."
   ]
  },
  {
   "cell_type": "code",
   "execution_count": 68,
   "metadata": {},
   "outputs": [
    {
     "data": {
      "text/html": [
       "<div>\n",
       "<style scoped>\n",
       "    .dataframe tbody tr th:only-of-type {\n",
       "        vertical-align: middle;\n",
       "    }\n",
       "\n",
       "    .dataframe tbody tr th {\n",
       "        vertical-align: top;\n",
       "    }\n",
       "\n",
       "    .dataframe thead th {\n",
       "        text-align: right;\n",
       "    }\n",
       "</style>\n",
       "<table border=\"1\" class=\"dataframe\">\n",
       "  <thead>\n",
       "    <tr style=\"text-align: right;\">\n",
       "      <th></th>\n",
       "      <th>country</th>\n",
       "      <th>group</th>\n",
       "      <th>revenue</th>\n",
       "    </tr>\n",
       "  </thead>\n",
       "  <tbody>\n",
       "    <tr>\n",
       "      <th>0</th>\n",
       "      <td>Argentina</td>\n",
       "      <td>control_1</td>\n",
       "      <td>144690.0</td>\n",
       "    </tr>\n",
       "    <tr>\n",
       "      <th>1</th>\n",
       "      <td>Argentina</td>\n",
       "      <td>control_2</td>\n",
       "      <td>121017.0</td>\n",
       "    </tr>\n",
       "    <tr>\n",
       "      <th>2</th>\n",
       "      <td>Argentina</td>\n",
       "      <td>test</td>\n",
       "      <td>188019.0</td>\n",
       "    </tr>\n",
       "    <tr>\n",
       "      <th>3</th>\n",
       "      <td>Australia</td>\n",
       "      <td>control_1</td>\n",
       "      <td>18304.0</td>\n",
       "    </tr>\n",
       "    <tr>\n",
       "      <th>4</th>\n",
       "      <td>Australia</td>\n",
       "      <td>control_2</td>\n",
       "      <td>22646.0</td>\n",
       "    </tr>\n",
       "  </tbody>\n",
       "</table>\n",
       "</div>"
      ],
      "text/plain": [
       "     country      group   revenue\n",
       "0  Argentina  control_1  144690.0\n",
       "1  Argentina  control_2  121017.0\n",
       "2  Argentina       test  188019.0\n",
       "3  Australia  control_1   18304.0\n",
       "4  Australia  control_2   22646.0"
      ]
     },
     "execution_count": 68,
     "metadata": {},
     "output_type": "execute_result"
    }
   ],
   "source": [
    "# Посмотрим на выручку в различных странах во всех группах\n",
    "data_countries = data.groupby(['country', 'group'], as_index=False) \\\n",
    "    .agg({'revenue': 'sum'}) \\\n",
    "    .query(\"revenue>0\") \n",
    "data_countries_pivot = data_countries.pivot(index='country', columns='group', values='revenue')\n",
    "    \n",
    "data_countries.head()"
   ]
  },
  {
   "cell_type": "code",
   "execution_count": 69,
   "metadata": {},
   "outputs": [
    {
     "data": {
      "text/html": [
       "<div>\n",
       "<style scoped>\n",
       "    .dataframe tbody tr th:only-of-type {\n",
       "        vertical-align: middle;\n",
       "    }\n",
       "\n",
       "    .dataframe tbody tr th {\n",
       "        vertical-align: top;\n",
       "    }\n",
       "\n",
       "    .dataframe thead th {\n",
       "        text-align: right;\n",
       "    }\n",
       "</style>\n",
       "<table border=\"1\" class=\"dataframe\">\n",
       "  <thead>\n",
       "    <tr style=\"text-align: right;\">\n",
       "      <th>group</th>\n",
       "      <th>control_1</th>\n",
       "      <th>control_2</th>\n",
       "      <th>test</th>\n",
       "      <th>test_control_1</th>\n",
       "      <th>test_control_2</th>\n",
       "    </tr>\n",
       "    <tr>\n",
       "      <th>country</th>\n",
       "      <th></th>\n",
       "      <th></th>\n",
       "      <th></th>\n",
       "      <th></th>\n",
       "      <th></th>\n",
       "    </tr>\n",
       "  </thead>\n",
       "  <tbody>\n",
       "    <tr>\n",
       "      <th>Spain</th>\n",
       "      <td>99060.0</td>\n",
       "      <td>193778.0</td>\n",
       "      <td>285428.0</td>\n",
       "      <td>186368.0</td>\n",
       "      <td>91650.0</td>\n",
       "    </tr>\n",
       "    <tr>\n",
       "      <th>United Arab Emirates</th>\n",
       "      <td>75543.0</td>\n",
       "      <td>117143.0</td>\n",
       "      <td>213785.0</td>\n",
       "      <td>138242.0</td>\n",
       "      <td>96642.0</td>\n",
       "    </tr>\n",
       "    <tr>\n",
       "      <th>France</th>\n",
       "      <td>184353.0</td>\n",
       "      <td>149071.0</td>\n",
       "      <td>297700.0</td>\n",
       "      <td>113347.0</td>\n",
       "      <td>148629.0</td>\n",
       "    </tr>\n",
       "    <tr>\n",
       "      <th>Germany</th>\n",
       "      <td>23998.0</td>\n",
       "      <td>71409.0</td>\n",
       "      <td>96096.0</td>\n",
       "      <td>72098.0</td>\n",
       "      <td>24687.0</td>\n",
       "    </tr>\n",
       "    <tr>\n",
       "      <th>Argentina</th>\n",
       "      <td>144690.0</td>\n",
       "      <td>121017.0</td>\n",
       "      <td>188019.0</td>\n",
       "      <td>43329.0</td>\n",
       "      <td>67002.0</td>\n",
       "    </tr>\n",
       "  </tbody>\n",
       "</table>\n",
       "</div>"
      ],
      "text/plain": [
       "group                 control_1  control_2      test  test_control_1  \\\n",
       "country                                                                \n",
       "Spain                   99060.0   193778.0  285428.0        186368.0   \n",
       "United Arab Emirates    75543.0   117143.0  213785.0        138242.0   \n",
       "France                 184353.0   149071.0  297700.0        113347.0   \n",
       "Germany                 23998.0    71409.0   96096.0         72098.0   \n",
       "Argentina              144690.0   121017.0  188019.0         43329.0   \n",
       "\n",
       "group                 test_control_2  \n",
       "country                               \n",
       "Spain                        91650.0  \n",
       "United Arab Emirates         96642.0  \n",
       "France                      148629.0  \n",
       "Germany                      24687.0  \n",
       "Argentina                    67002.0  "
      ]
     },
     "execution_count": 69,
     "metadata": {},
     "output_type": "execute_result"
    }
   ],
   "source": [
    "# Найдем разницу в выручке между контрольными группами и тестовой\n",
    "# Отсортируем сначала по убыванию разницы в выручке между тестовой и первой контрольной группой\n",
    "data_countries_pivot['test_control_1'] = data_countries_pivot.test - data_countries_pivot.control_1\n",
    "data_countries_pivot['test_control_2'] = data_countries_pivot.test - data_countries_pivot.control_2\n",
    "data_countries_pivot.sort_values(by='test_control_1', ascending=False).head()"
   ]
  },
  {
   "cell_type": "code",
   "execution_count": 70,
   "metadata": {
    "scrolled": true
   },
   "outputs": [
    {
     "data": {
      "text/html": [
       "<div>\n",
       "<style scoped>\n",
       "    .dataframe tbody tr th:only-of-type {\n",
       "        vertical-align: middle;\n",
       "    }\n",
       "\n",
       "    .dataframe tbody tr th {\n",
       "        vertical-align: top;\n",
       "    }\n",
       "\n",
       "    .dataframe thead th {\n",
       "        text-align: right;\n",
       "    }\n",
       "</style>\n",
       "<table border=\"1\" class=\"dataframe\">\n",
       "  <thead>\n",
       "    <tr style=\"text-align: right;\">\n",
       "      <th>group</th>\n",
       "      <th>control_1</th>\n",
       "      <th>control_2</th>\n",
       "      <th>test</th>\n",
       "      <th>test_control_1</th>\n",
       "      <th>test_control_2</th>\n",
       "    </tr>\n",
       "    <tr>\n",
       "      <th>country</th>\n",
       "      <th></th>\n",
       "      <th></th>\n",
       "      <th></th>\n",
       "      <th></th>\n",
       "      <th></th>\n",
       "    </tr>\n",
       "  </thead>\n",
       "  <tbody>\n",
       "    <tr>\n",
       "      <th>France</th>\n",
       "      <td>184353.0</td>\n",
       "      <td>149071.0</td>\n",
       "      <td>297700.0</td>\n",
       "      <td>113347.0</td>\n",
       "      <td>148629.0</td>\n",
       "    </tr>\n",
       "    <tr>\n",
       "      <th>United States of America</th>\n",
       "      <td>743951.0</td>\n",
       "      <td>584207.0</td>\n",
       "      <td>721838.0</td>\n",
       "      <td>-22113.0</td>\n",
       "      <td>137631.0</td>\n",
       "    </tr>\n",
       "    <tr>\n",
       "      <th>United Arab Emirates</th>\n",
       "      <td>75543.0</td>\n",
       "      <td>117143.0</td>\n",
       "      <td>213785.0</td>\n",
       "      <td>138242.0</td>\n",
       "      <td>96642.0</td>\n",
       "    </tr>\n",
       "    <tr>\n",
       "      <th>Spain</th>\n",
       "      <td>99060.0</td>\n",
       "      <td>193778.0</td>\n",
       "      <td>285428.0</td>\n",
       "      <td>186368.0</td>\n",
       "      <td>91650.0</td>\n",
       "    </tr>\n",
       "    <tr>\n",
       "      <th>Argentina</th>\n",
       "      <td>144690.0</td>\n",
       "      <td>121017.0</td>\n",
       "      <td>188019.0</td>\n",
       "      <td>43329.0</td>\n",
       "      <td>67002.0</td>\n",
       "    </tr>\n",
       "  </tbody>\n",
       "</table>\n",
       "</div>"
      ],
      "text/plain": [
       "group                     control_1  control_2      test  test_control_1  \\\n",
       "country                                                                    \n",
       "France                     184353.0   149071.0  297700.0        113347.0   \n",
       "United States of America   743951.0   584207.0  721838.0        -22113.0   \n",
       "United Arab Emirates        75543.0   117143.0  213785.0        138242.0   \n",
       "Spain                       99060.0   193778.0  285428.0        186368.0   \n",
       "Argentina                  144690.0   121017.0  188019.0         43329.0   \n",
       "\n",
       "group                     test_control_2  \n",
       "country                                   \n",
       "France                          148629.0  \n",
       "United States of America        137631.0  \n",
       "United Arab Emirates             96642.0  \n",
       "Spain                            91650.0  \n",
       "Argentina                        67002.0  "
      ]
     },
     "execution_count": 70,
     "metadata": {},
     "output_type": "execute_result"
    }
   ],
   "source": [
    "# Отсортируем по убыванию разницы в выручке между тестовой и второй контрольной группой\n",
    "data_countries_pivot.sort_values(by='test_control_2', ascending=False).head()"
   ]
  },
  {
   "cell_type": "markdown",
   "metadata": {},
   "source": [
    "**Вывод:** мы видим, что в некоторых странах выручка выросла (особенно ОАЭ, Испании, Франции), а в некоторых странах даже стала отрицательной. \n"
   ]
  },
  {
   "cell_type": "code",
   "execution_count": 71,
   "metadata": {},
   "outputs": [],
   "source": [
    "# Отберем отдельно Францию, ОАЭ и Испанию\n",
    "data_France = data.query('country == \"France\"')\n",
    "data_OAE = data.query('country == \"United Arab Emirates\"')\n",
    "data_Spain = data.query('country == \"Spain\"')"
   ]
  },
  {
   "cell_type": "code",
   "execution_count": 72,
   "metadata": {},
   "outputs": [
    {
     "data": {
      "text/plain": [
       "'ARPU для контрольных групп:'"
      ]
     },
     "metadata": {},
     "output_type": "display_data"
    },
    {
     "data": {
      "text/plain": [
       "446.9490616621984"
      ]
     },
     "metadata": {},
     "output_type": "display_data"
    },
    {
     "data": {
      "text/plain": [
       "'ARPU для тестовой группы:'"
      ]
     },
     "metadata": {},
     "output_type": "display_data"
    },
    {
     "data": {
      "text/plain": [
       "829.2479108635098"
      ]
     },
     "metadata": {},
     "output_type": "display_data"
    },
    {
     "data": {
      "text/plain": [
       "'ARPPU для контрольных групп:'"
      ]
     },
     "metadata": {},
     "output_type": "display_data"
    },
    {
     "data": {
      "text/plain": [
       "16671.2"
      ]
     },
     "metadata": {},
     "output_type": "display_data"
    },
    {
     "data": {
      "text/plain": [
       "'ARPPU для тестовой группы:'"
      ]
     },
     "metadata": {},
     "output_type": "display_data"
    },
    {
     "data": {
      "text/plain": [
       "10016.5"
      ]
     },
     "metadata": {},
     "output_type": "display_data"
    },
    {
     "data": {
      "text/plain": [
       "'CR для контрольных групп:'"
      ]
     },
     "metadata": {},
     "output_type": "display_data"
    },
    {
     "data": {
      "text/plain": [
       "0.02680965147453083"
      ]
     },
     "metadata": {},
     "output_type": "display_data"
    },
    {
     "data": {
      "text/plain": [
       "'CR для тестовой группы:'"
      ]
     },
     "metadata": {},
     "output_type": "display_data"
    },
    {
     "data": {
      "text/plain": [
       "0.011142061281337047"
      ]
     },
     "metadata": {},
     "output_type": "display_data"
    }
   ],
   "source": [
    "# Посмотрим на метрики во Франции\n",
    "group_arpu(data_France)\n",
    "group_arppu(data_France)\n",
    "group_cr(data_France)"
   ]
  },
  {
   "cell_type": "markdown",
   "metadata": {},
   "source": [
    "**Вывод:** Мы видим, что в тестовой группе во Франции ARPU, ARPPU выросли, CR снизился."
   ]
  },
  {
   "cell_type": "code",
   "execution_count": 73,
   "metadata": {},
   "outputs": [
    {
     "data": {
      "text/plain": [
       "'ARPU для контрольных групп:'"
      ]
     },
     "metadata": {},
     "output_type": "display_data"
    },
    {
     "data": {
      "text/plain": [
       "460.9712918660287"
      ]
     },
     "metadata": {},
     "output_type": "display_data"
    },
    {
     "data": {
      "text/plain": [
       "'ARPU для тестовой группы:'"
      ]
     },
     "metadata": {},
     "output_type": "display_data"
    },
    {
     "data": {
      "text/plain": [
       "945.9513274336283"
      ]
     },
     "metadata": {},
     "output_type": "display_data"
    },
    {
     "data": {
      "text/plain": [
       "'ARPPU для контрольных групп:'"
      ]
     },
     "metadata": {},
     "output_type": "display_data"
    },
    {
     "data": {
      "text/plain": [
       "27526.571428571428"
      ]
     },
     "metadata": {},
     "output_type": "display_data"
    },
    {
     "data": {
      "text/plain": [
       "'ARPPU для тестовой группы:'"
      ]
     },
     "metadata": {},
     "output_type": "display_data"
    },
    {
     "data": {
      "text/plain": [
       "27326.0"
      ]
     },
     "metadata": {},
     "output_type": "display_data"
    },
    {
     "data": {
      "text/plain": [
       "'CR для контрольных групп:'"
      ]
     },
     "metadata": {},
     "output_type": "display_data"
    },
    {
     "data": {
      "text/plain": [
       "0.01674641148325359"
      ]
     },
     "metadata": {},
     "output_type": "display_data"
    },
    {
     "data": {
      "text/plain": [
       "'CR для тестовой группы:'"
      ]
     },
     "metadata": {},
     "output_type": "display_data"
    },
    {
     "data": {
      "text/plain": [
       "0.02654867256637168"
      ]
     },
     "metadata": {},
     "output_type": "display_data"
    }
   ],
   "source": [
    "# Посмотрим на метрики в ОАЭ\n",
    "group_arpu(data_OAE)\n",
    "group_arppu(data_OAE)\n",
    "group_cr(data_OAE)"
   ]
  },
  {
   "cell_type": "markdown",
   "metadata": {},
   "source": [
    "**Вывод:** Мы видим, что в тестовой группе в ОАЭ ARPU, ARPPU и CR выросли."
   ]
  },
  {
   "cell_type": "code",
   "execution_count": 74,
   "metadata": {},
   "outputs": [
    {
     "data": {
      "text/plain": [
       "'ARPU для контрольных групп:'"
      ]
     },
     "metadata": {},
     "output_type": "display_data"
    },
    {
     "data": {
      "text/plain": [
       "449.13803680981596"
      ]
     },
     "metadata": {},
     "output_type": "display_data"
    },
    {
     "data": {
      "text/plain": [
       "'ARPU для тестовой группы:'"
      ]
     },
     "metadata": {},
     "output_type": "display_data"
    },
    {
     "data": {
      "text/plain": [
       "948.2657807308971"
      ]
     },
     "metadata": {},
     "output_type": "display_data"
    },
    {
     "data": {
      "text/plain": [
       "'ARPPU для контрольных групп:'"
      ]
     },
     "metadata": {},
     "output_type": "display_data"
    },
    {
     "data": {
      "text/plain": [
       "19522.533333333333"
      ]
     },
     "metadata": {},
     "output_type": "display_data"
    },
    {
     "data": {
      "text/plain": [
       "'ARPPU для тестовой группы:'"
      ]
     },
     "metadata": {},
     "output_type": "display_data"
    },
    {
     "data": {
      "text/plain": [
       "24918.833333333332"
      ]
     },
     "metadata": {},
     "output_type": "display_data"
    },
    {
     "data": {
      "text/plain": [
       "'CR для контрольных групп:'"
      ]
     },
     "metadata": {},
     "output_type": "display_data"
    },
    {
     "data": {
      "text/plain": [
       "0.023006134969325152"
      ]
     },
     "metadata": {},
     "output_type": "display_data"
    },
    {
     "data": {
      "text/plain": [
       "'CR для тестовой группы:'"
      ]
     },
     "metadata": {},
     "output_type": "display_data"
    },
    {
     "data": {
      "text/plain": [
       "0.019933554817275746"
      ]
     },
     "metadata": {},
     "output_type": "display_data"
    }
   ],
   "source": [
    "# Посмотрим на метрики в Испании\n",
    "group_arpu(data_Spain)\n",
    "group_arppu(data_Spain)\n",
    "group_cr(data_Spain)"
   ]
  },
  {
   "cell_type": "markdown",
   "metadata": {},
   "source": [
    "**Вывод:** Мы видим, что в тестовой группе в Испании ARPU, ARPPU выросли, CR снизился."
   ]
  },
  {
   "cell_type": "markdown",
   "metadata": {},
   "source": [
    "Проверим изменения метрик в ОАЭ, Испании, Франции на стат. значимость."
   ]
  },
  {
   "cell_type": "code",
   "execution_count": 75,
   "metadata": {},
   "outputs": [],
   "source": [
    "# Объявим функцию, которая позволит проверять гипотезы с помощью бутстрапа\n",
    "def get_bootstrap(\n",
    "    data_column_1,  # числовые значения первой выборки\n",
    "    data_column_2,  # числовые значения второй выборки\n",
    "    boot_it=1000,  # количество бутстрэп-подвыборок\n",
    "    statistic=np.mean,  # интересующая нас статистика\n",
    "    bootstrap_conf_level=0.95  # уровень значимости\n",
    "):\n",
    "    boot_data = []\n",
    "    for i in tqdm(range(boot_it)):  # извлекаем подвыборки\n",
    "        samples_1 = data_column_1.sample(\n",
    "            len(data_column_1), \n",
    "            replace=True  # параметр возвращения\n",
    "        ).values\n",
    "        \n",
    "        samples_2 = data_column_2.sample(\n",
    "            len(data_column_1), \n",
    "            replace=True\n",
    "        ).values\n",
    "        \n",
    "        boot_data.append(statistic(samples_1) - statistic(samples_2))  # mean() - применяем статистику\n",
    "\n",
    "    \n",
    "    p_1 = norm.cdf(\n",
    "        x=0, \n",
    "        loc=np.mean(boot_data), \n",
    "        scale=np.std(boot_data)\n",
    "    )\n",
    "    p_2 = norm.cdf(\n",
    "        x=0, \n",
    "        loc=-np.mean(boot_data), \n",
    "        scale=np.std(boot_data)\n",
    "    )\n",
    "    p_value = min(p_1, p_2) * 2\n",
    "       \n",
    "    return p_value"
   ]
  },
  {
   "cell_type": "markdown",
   "metadata": {},
   "source": [
    "Нулевая гипотеза - тестовая и контрольные группы во Франции статистически значимо не отличаются по ARPU.\n",
    "\n",
    "Альтернативная гипотеза - тестовая и контрольные группы во Франции статистически значимо отличаются по ARPU."
   ]
  },
  {
   "cell_type": "code",
   "execution_count": 76,
   "metadata": {},
   "outputs": [
    {
     "data": {
      "application/vnd.jupyter.widget-view+json": {
       "model_id": "f3b48bfd34ca4b25a62a01658e1ed2ad",
       "version_major": 2,
       "version_minor": 0
      },
      "text/plain": [
       "HBox(children=(FloatProgress(value=0.0, max=1000.0), HTML(value='')))"
      ]
     },
     "metadata": {},
     "output_type": "display_data"
    },
    {
     "name": "stdout",
     "output_type": "stream",
     "text": [
      "\n"
     ]
    },
    {
     "data": {
      "text/plain": [
       "0.048762064616731216"
      ]
     },
     "execution_count": 76,
     "metadata": {},
     "output_type": "execute_result"
    }
   ],
   "source": [
    "get_bootstrap(\n",
    "    data_France[data_France.group != 'test'].revenue,\n",
    "    data_France[data_France.group == 'test'].revenue,\n",
    "    boot_it=1000,  # количество бутстрэп-подвыборок\n",
    "    statistic=np.mean,  # интересующая нас статистика\n",
    "    bootstrap_conf_level=0.95  # уровень значимости\n",
    ")"
   ]
  },
  {
   "cell_type": "markdown",
   "metadata": {},
   "source": [
    "Нулевая гипотеза - тестовая и контрольные группы во Франции статистически значимо не отличаются по ARPPU.\n",
    "\n",
    "Альтернативная гипотеза - тестовая и контрольные группы во Франции статистически значимо отличаются по ARPPU."
   ]
  },
  {
   "cell_type": "code",
   "execution_count": 77,
   "metadata": {},
   "outputs": [
    {
     "data": {
      "application/vnd.jupyter.widget-view+json": {
       "model_id": "a68f47f17440400c95c72b4c9b7839df",
       "version_major": 2,
       "version_minor": 0
      },
      "text/plain": [
       "HBox(children=(FloatProgress(value=0.0, max=1000.0), HTML(value='')))"
      ]
     },
     "metadata": {},
     "output_type": "display_data"
    },
    {
     "name": "stdout",
     "output_type": "stream",
     "text": [
      "\n"
     ]
    },
    {
     "data": {
      "text/plain": [
       "0.005864682216348145"
      ]
     },
     "execution_count": 77,
     "metadata": {},
     "output_type": "execute_result"
    }
   ],
   "source": [
    "get_bootstrap(\n",
    "    data_arppu[(data_arppu.country == \"France\") & (data_arppu.group != 'test')].revenue,\n",
    "    data_arppu[(data_arppu.country == \"France\") & (data_arppu.group == 'test')].revenue,\n",
    "    boot_it=1000,  # количество бутстрэп-подвыборок\n",
    "    statistic=np.mean,  # интересующая нас статистика\n",
    "    bootstrap_conf_level=0.95  # уровень значимости\n",
    ")"
   ]
  },
  {
   "cell_type": "markdown",
   "metadata": {},
   "source": [
    "Нулевая гипотеза - тестовая и контрольные группы во Франции статистически значимо не отличаются по конверсии в покупку подписки premium_no_trial.\n",
    "\n",
    "Альтернативная гипотеза - тестовая и контрольные группы во Франции статистически значимо отличаются по конверсии в покупку подписки premium_no_trial."
   ]
  },
  {
   "cell_type": "code",
   "execution_count": 78,
   "metadata": {},
   "outputs": [
    {
     "data": {
      "text/plain": [
       "0.0947346679690594"
      ]
     },
     "execution_count": 78,
     "metadata": {},
     "output_type": "execute_result"
    }
   ],
   "source": [
    "a = data_France[data_France['group'] != 'test'].premium_no_trial\n",
    "b = data_France[data_France['group'] == 'test'].premium_no_trial\n",
    "ab = np.array([[a.sum(), a.shape[0] - a.sum()], [b.sum(), b.shape[0] - b.sum()]]) \n",
    "stats.chi2_contingency(ab, correction=False)[1]"
   ]
  },
  {
   "cell_type": "markdown",
   "metadata": {},
   "source": [
    "Нулевая гипотеза - тестовая и контрольные группы в ОАЭ статистически значимо не отличаются по ARPU.\n",
    "\n",
    "Альтернативная гипотеза - тестовая и контрольные группы в ОАЭ статистически значимо отличаются по ARPU."
   ]
  },
  {
   "cell_type": "code",
   "execution_count": 79,
   "metadata": {},
   "outputs": [
    {
     "data": {
      "application/vnd.jupyter.widget-view+json": {
       "model_id": "130ade3a3bc84581a4fd20e0f56ef6f0",
       "version_major": 2,
       "version_minor": 0
      },
      "text/plain": [
       "HBox(children=(FloatProgress(value=0.0, max=1000.0), HTML(value='')))"
      ]
     },
     "metadata": {},
     "output_type": "display_data"
    },
    {
     "name": "stdout",
     "output_type": "stream",
     "text": [
      "\n"
     ]
    },
    {
     "data": {
      "text/plain": [
       "0.2920326866144982"
      ]
     },
     "execution_count": 79,
     "metadata": {},
     "output_type": "execute_result"
    }
   ],
   "source": [
    "get_bootstrap(\n",
    "    data_OAE[data_OAE.group != 'test'].revenue,\n",
    "    data_OAE[data_OAE.group == 'test'].revenue,\n",
    "    boot_it=1000,  # количество бутстрэп-подвыборок\n",
    "    statistic=np.mean,  # интересующая нас статистика\n",
    "    bootstrap_conf_level=0.95  # уровень значимости\n",
    ")"
   ]
  },
  {
   "cell_type": "markdown",
   "metadata": {},
   "source": [
    "Нулевая гипотеза - тестовая и контрольные группы в ОАЭ статистически значимо не отличаются по ARPPU.\n",
    "\n",
    "Альтернативная гипотеза - тестовая и контрольные группы в ОАЭ статистически значимо отличаются по ARPPU."
   ]
  },
  {
   "cell_type": "code",
   "execution_count": 80,
   "metadata": {},
   "outputs": [
    {
     "data": {
      "application/vnd.jupyter.widget-view+json": {
       "model_id": "bd75014a1c8842d7a065e6320247407c",
       "version_major": 2,
       "version_minor": 0
      },
      "text/plain": [
       "HBox(children=(FloatProgress(value=0.0, max=1000.0), HTML(value='')))"
      ]
     },
     "metadata": {},
     "output_type": "display_data"
    },
    {
     "name": "stdout",
     "output_type": "stream",
     "text": [
      "\n"
     ]
    },
    {
     "data": {
      "text/plain": [
       "0.5236329739662124"
      ]
     },
     "execution_count": 80,
     "metadata": {},
     "output_type": "execute_result"
    }
   ],
   "source": [
    "get_bootstrap(\n",
    "    data_arppu[(data_arppu.country == \"United Arab Emirates\") & (data_arppu.group != 'test')].revenue,\n",
    "    data_arppu[(data_arppu.country == \"United Arab Emirates\") & (data_arppu.group == 'test')].revenue,\n",
    "    boot_it=1000,  # количество бутстрэп-подвыборок\n",
    "    statistic=np.mean,  # интересующая нас статистика\n",
    "    bootstrap_conf_level=0.95  # уровень значимости\n",
    ")"
   ]
  },
  {
   "cell_type": "markdown",
   "metadata": {},
   "source": [
    "Нулевая гипотеза - тестовая и контрольные группы в ОАЭ статистически значимо не отличаются по конверсии в покупку подписки premium_no_trial.\n",
    "\n",
    "Альтернативная гипотеза - тестовая и контрольные группы в ОАЭ статистически значимо отличаются по конверсии в покупку подписки premium_no_trial."
   ]
  },
  {
   "cell_type": "code",
   "execution_count": 81,
   "metadata": {},
   "outputs": [
    {
     "data": {
      "text/plain": [
       "0.39822899172693005"
      ]
     },
     "execution_count": 81,
     "metadata": {},
     "output_type": "execute_result"
    }
   ],
   "source": [
    "a = data_OAE[data_OAE['group'] != 'test'].premium_no_trial\n",
    "b = data_OAE[data_OAE['group'] == 'test'].premium_no_trial\n",
    "ab = np.array([[a.sum(), a.shape[0] - a.sum()], [b.sum(), b.shape[0] - b.sum()]]) \n",
    "stats.chi2_contingency(ab, correction=False)[1]"
   ]
  },
  {
   "cell_type": "markdown",
   "metadata": {},
   "source": [
    "Нулевая гипотеза - тестовая и контрольные группы в Испании статистически значимо не отличаются по ARPU.\n",
    "\n",
    "Альтернативная гипотеза - тестовая и контрольные группы в Испании статистически значимо отличаются по ARPU."
   ]
  },
  {
   "cell_type": "code",
   "execution_count": 82,
   "metadata": {},
   "outputs": [
    {
     "data": {
      "application/vnd.jupyter.widget-view+json": {
       "model_id": "905d4d8182da461ab7a913927bd4e33e",
       "version_major": 2,
       "version_minor": 0
      },
      "text/plain": [
       "HBox(children=(FloatProgress(value=0.0, max=1000.0), HTML(value='')))"
      ]
     },
     "metadata": {},
     "output_type": "display_data"
    },
    {
     "name": "stdout",
     "output_type": "stream",
     "text": [
      "\n"
     ]
    },
    {
     "data": {
      "text/plain": [
       "0.09082603960787757"
      ]
     },
     "execution_count": 82,
     "metadata": {},
     "output_type": "execute_result"
    }
   ],
   "source": [
    "get_bootstrap(\n",
    "    data_Spain[data_Spain.group != 'test'].revenue,\n",
    "    data_Spain[data_Spain.group == 'test'].revenue,\n",
    "    boot_it=1000,  # количество бутстрэп-подвыборок\n",
    "    statistic=np.mean,  # интересующая нас статистика\n",
    "    bootstrap_conf_level=0.95  # уровень значимости\n",
    ")"
   ]
  },
  {
   "cell_type": "markdown",
   "metadata": {},
   "source": [
    "Нулевая гипотеза - тестовая и контрольные группы в Испании статистически значимо не отличаются по ARPPU.\n",
    "\n",
    "Альтернативная гипотеза - тестовая и контрольные группы в Испании статистически значимо отличаются по ARPPU."
   ]
  },
  {
   "cell_type": "code",
   "execution_count": 83,
   "metadata": {},
   "outputs": [
    {
     "data": {
      "application/vnd.jupyter.widget-view+json": {
       "model_id": "a5cc4d622ea1469fbd08bfe350750dc5",
       "version_major": 2,
       "version_minor": 0
      },
      "text/plain": [
       "HBox(children=(FloatProgress(value=0.0, max=1000.0), HTML(value='')))"
      ]
     },
     "metadata": {},
     "output_type": "display_data"
    },
    {
     "name": "stdout",
     "output_type": "stream",
     "text": [
      "\n"
     ]
    },
    {
     "data": {
      "text/plain": [
       "0.1769842865418485"
      ]
     },
     "execution_count": 83,
     "metadata": {},
     "output_type": "execute_result"
    }
   ],
   "source": [
    "get_bootstrap(\n",
    "    data_arppu[(data_arppu.country == \"Spain\") & (data_arppu.group != 'test')].revenue,\n",
    "    data_arppu[(data_arppu.country == \"Spain\") & (data_arppu.group == 'test')].revenue,\n",
    "    boot_it=1000,  # количество бутстрэп-подвыборок\n",
    "    statistic=np.mean,  # интересующая нас статистика\n",
    "    bootstrap_conf_level=0.95  # уровень значимости\n",
    ")"
   ]
  },
  {
   "cell_type": "markdown",
   "metadata": {},
   "source": [
    "Нулевая гипотеза - тестовая и контрольные группы в Испании статистически значимо не отличаются по конверсии в покупку подписки premium_no_trial.\n",
    "\n",
    "Альтернативная гипотеза - тестовая и контрольные группы в Испании статистически значимо отличаются по конверсии в покупку подписки premium_no_trial."
   ]
  },
  {
   "cell_type": "code",
   "execution_count": 84,
   "metadata": {},
   "outputs": [
    {
     "data": {
      "text/plain": [
       "0.7704286284753816"
      ]
     },
     "execution_count": 84,
     "metadata": {},
     "output_type": "execute_result"
    }
   ],
   "source": [
    "a = data_Spain[data_Spain['group'] != 'test'].premium_no_trial\n",
    "b = data_Spain[data_Spain['group'] == 'test'].premium_no_trial\n",
    "ab = np.array([[a.sum(), a.shape[0] - a.sum()], [b.sum(), b.shape[0] - b.sum()]]) \n",
    "stats.chi2_contingency(ab, correction=False)[1]"
   ]
  },
  {
   "cell_type": "markdown",
   "metadata": {},
   "source": [
    "**Вывод по странам**:\n",
    "1. Во Франции статистически значимо повышение ARPU и ARPPU, снижение конверсии статистически не значимо.\n",
    "2. В ОАЭ и в Испании изменения метрик статистически незначимы.\n",
    "\n",
    "Таким образом, можно попробовать распространить нововведение среди французов."
   ]
  },
  {
   "cell_type": "markdown",
   "metadata": {},
   "source": [
    "**Посмотрим, изменения метрик в распределении по полу.**"
   ]
  },
  {
   "cell_type": "code",
   "execution_count": 85,
   "metadata": {},
   "outputs": [
    {
     "data": {
      "text/plain": [
       "1    12359\n",
       "0      576\n",
       "Name: gender, dtype: int64"
      ]
     },
     "execution_count": 85,
     "metadata": {},
     "output_type": "execute_result"
    }
   ],
   "source": [
    "data.gender.value_counts()"
   ]
  },
  {
   "cell_type": "code",
   "execution_count": 86,
   "metadata": {},
   "outputs": [],
   "source": [
    "# Отберем пользователей по полу\n",
    "gender_0 = data.query('gender == 0')\n",
    "gender_1 = data.query('gender == 1')"
   ]
  },
  {
   "cell_type": "code",
   "execution_count": 87,
   "metadata": {},
   "outputs": [
    {
     "data": {
      "text/plain": [
       "'ARPU для контрольных групп:'"
      ]
     },
     "metadata": {},
     "output_type": "display_data"
    },
    {
     "data": {
      "text/plain": [
       "229.43617021276594"
      ]
     },
     "metadata": {},
     "output_type": "display_data"
    },
    {
     "data": {
      "text/plain": [
       "'ARPU для тестовой группы:'"
      ]
     },
     "metadata": {},
     "output_type": "display_data"
    },
    {
     "data": {
      "text/plain": [
       "135.395"
      ]
     },
     "metadata": {},
     "output_type": "display_data"
    },
    {
     "data": {
      "text/plain": [
       "'ARPPU для контрольных групп:'"
      ]
     },
     "metadata": {},
     "output_type": "display_data"
    },
    {
     "data": {
      "text/plain": [
       "17253.6"
      ]
     },
     "metadata": {},
     "output_type": "display_data"
    },
    {
     "data": {
      "text/plain": [
       "'ARPPU для тестовой группы:'"
      ]
     },
     "metadata": {},
     "output_type": "display_data"
    },
    {
     "data": {
      "text/plain": [
       "nan"
      ]
     },
     "metadata": {},
     "output_type": "display_data"
    },
    {
     "data": {
      "text/plain": [
       "'CR для контрольных групп:'"
      ]
     },
     "metadata": {},
     "output_type": "display_data"
    },
    {
     "data": {
      "text/plain": [
       "0.013297872340425532"
      ]
     },
     "metadata": {},
     "output_type": "display_data"
    },
    {
     "data": {
      "text/plain": [
       "'CR для тестовой группы:'"
      ]
     },
     "metadata": {},
     "output_type": "display_data"
    },
    {
     "data": {
      "text/plain": [
       "0.0"
      ]
     },
     "metadata": {},
     "output_type": "display_data"
    }
   ],
   "source": [
    "# Посмотрим на метрики среди пола 0\n",
    "group_arpu(gender_0)\n",
    "group_arppu(gender_0)\n",
    "group_cr(gender_0)"
   ]
  },
  {
   "cell_type": "code",
   "execution_count": 88,
   "metadata": {
    "scrolled": true
   },
   "outputs": [
    {
     "data": {
      "text/plain": [
       "'ARPU для контрольных групп:'"
      ]
     },
     "metadata": {},
     "output_type": "display_data"
    },
    {
     "data": {
      "text/plain": [
       "540.4328850855745"
      ]
     },
     "metadata": {},
     "output_type": "display_data"
    },
    {
     "data": {
      "text/plain": [
       "'ARPU для тестовой группы:'"
      ]
     },
     "metadata": {},
     "output_type": "display_data"
    },
    {
     "data": {
      "text/plain": [
       "566.8683370179317"
      ]
     },
     "metadata": {},
     "output_type": "display_data"
    },
    {
     "data": {
      "text/plain": [
       "'ARPPU для контрольных групп:'"
      ]
     },
     "metadata": {},
     "output_type": "display_data"
    },
    {
     "data": {
      "text/plain": [
       "22670.466666666667"
      ]
     },
     "metadata": {},
     "output_type": "display_data"
    },
    {
     "data": {
      "text/plain": [
       "'ARPPU для тестовой группы:'"
      ]
     },
     "metadata": {},
     "output_type": "display_data"
    },
    {
     "data": {
      "text/plain": [
       "12187.10606060606"
      ]
     },
     "metadata": {},
     "output_type": "display_data"
    },
    {
     "data": {
      "text/plain": [
       "'CR для контрольных групп:'"
      ]
     },
     "metadata": {},
     "output_type": "display_data"
    },
    {
     "data": {
      "text/plain": [
       "0.023838630806845965"
      ]
     },
     "metadata": {},
     "output_type": "display_data"
    },
    {
     "data": {
      "text/plain": [
       "'CR для тестовой группы:'"
      ]
     },
     "metadata": {},
     "output_type": "display_data"
    },
    {
     "data": {
      "text/plain": [
       "0.016212232866617538"
      ]
     },
     "metadata": {},
     "output_type": "display_data"
    }
   ],
   "source": [
    "# Посмотрим на метрики среди пола 1\n",
    "group_arpu(gender_1)\n",
    "group_arppu(gender_1)\n",
    "group_cr(gender_1)"
   ]
  },
  {
   "cell_type": "markdown",
   "metadata": {},
   "source": [
    "Мы видим, что: \n",
    "1. среди пола 0 ARPU и СR несколько снизились. ARPPU в тестовой группе не определяется, следовательно, среди пола 0 в тестовой группе никто не купил подписку premium_no_trial.\n",
    "2. среди пола 1 ARPU и ARPPU увеличились, конверсия снизилась."
   ]
  },
  {
   "cell_type": "markdown",
   "metadata": {},
   "source": [
    "Нулевая гипотеза - тестовая и контрольные группы среди пола 0 статистически значимо не отличаются по ARPU.\n",
    "\n",
    "Альтернативная гипотеза - тестовая и контрольные группы среди пола 0 статистически значимо отличаются по ARPU."
   ]
  },
  {
   "cell_type": "code",
   "execution_count": 89,
   "metadata": {},
   "outputs": [
    {
     "data": {
      "application/vnd.jupyter.widget-view+json": {
       "model_id": "95deeab30749414c84a9cf35be3a759e",
       "version_major": 2,
       "version_minor": 0
      },
      "text/plain": [
       "HBox(children=(FloatProgress(value=0.0, max=1000.0), HTML(value='')))"
      ]
     },
     "metadata": {},
     "output_type": "display_data"
    },
    {
     "name": "stdout",
     "output_type": "stream",
     "text": [
      "\n"
     ]
    },
    {
     "data": {
      "text/plain": [
       "0.3842255824965821"
      ]
     },
     "execution_count": 89,
     "metadata": {},
     "output_type": "execute_result"
    }
   ],
   "source": [
    "get_bootstrap(\n",
    "    gender_0[gender_0.group != 'test'].revenue,\n",
    "    gender_0[gender_0.group == 'test'].revenue,\n",
    "    boot_it=1000,  # количество бутстрэп-подвыборок\n",
    "    statistic=np.mean,  # интересующая нас статистика\n",
    "    bootstrap_conf_level=0.95  # уровень значимости\n",
    ")"
   ]
  },
  {
   "cell_type": "markdown",
   "metadata": {},
   "source": [
    "Нулевая гипотеза - тестовая и контрольные группы среди пола 0 статистически значимо не отличаются по конверсии в покупку подписки premium_no_trial.\n",
    "\n",
    "Альтернативная гипотеза - тестовая и контрольные группы среди пола 0 статистически значимо отличаются по конверсии в покупку подписки premium_no_trial."
   ]
  },
  {
   "cell_type": "code",
   "execution_count": 90,
   "metadata": {},
   "outputs": [
    {
     "data": {
      "text/plain": [
       "0.10143320652914367"
      ]
     },
     "execution_count": 90,
     "metadata": {},
     "output_type": "execute_result"
    }
   ],
   "source": [
    "a = gender_0[gender_0['group'] != 'test'].premium_no_trial\n",
    "b = gender_0[gender_0['group'] == 'test'].premium_no_trial\n",
    "ab = np.array([[a.sum(), a.shape[0] - a.sum()], [b.sum(), b.shape[0] - b.sum()]]) \n",
    "stats.chi2_contingency(ab, correction=False)[1]"
   ]
  },
  {
   "cell_type": "markdown",
   "metadata": {},
   "source": [
    "Нулевая гипотеза - тестовая и контрольные группы среди пола 1 статистически значимо не отличаются по ARPU.\n",
    "\n",
    "Альтернативная гипотеза - тестовая и контрольные группы среди пола 1 статистически значимо отличаются по ARPU."
   ]
  },
  {
   "cell_type": "code",
   "execution_count": 91,
   "metadata": {},
   "outputs": [
    {
     "data": {
      "application/vnd.jupyter.widget-view+json": {
       "model_id": "5499d907fcc247e69742616bfd37fad9",
       "version_major": 2,
       "version_minor": 0
      },
      "text/plain": [
       "HBox(children=(FloatProgress(value=0.0, max=1000.0), HTML(value='')))"
      ]
     },
     "metadata": {},
     "output_type": "display_data"
    },
    {
     "name": "stdout",
     "output_type": "stream",
     "text": [
      "\n"
     ]
    },
    {
     "data": {
      "text/plain": [
       "0.6731170427614278"
      ]
     },
     "execution_count": 91,
     "metadata": {},
     "output_type": "execute_result"
    }
   ],
   "source": [
    "get_bootstrap(\n",
    "    gender_1[gender_1.group != 'test'].revenue,\n",
    "    gender_1[gender_1.group == 'test'].revenue,\n",
    "    boot_it=1000,  # количество бутстрэп-подвыборок\n",
    "    statistic=np.mean,  # интересующая нас статистика\n",
    "    bootstrap_conf_level=0.95  # уровень значимости\n",
    ")"
   ]
  },
  {
   "cell_type": "markdown",
   "metadata": {},
   "source": [
    "Нулевая гипотеза - тестовая и контрольные группы среди пола 1 статистически значимо не отличаются по ARPPU.\n",
    "\n",
    "Альтернативная гипотеза - тестовая и контрольные группы среди пола 1 статистически значимо отличаются по ARPPU."
   ]
  },
  {
   "cell_type": "code",
   "execution_count": 92,
   "metadata": {},
   "outputs": [
    {
     "data": {
      "application/vnd.jupyter.widget-view+json": {
       "model_id": "e051484d884043c8ac256782e0e0f853",
       "version_major": 2,
       "version_minor": 0
      },
      "text/plain": [
       "HBox(children=(FloatProgress(value=0.0, max=1000.0), HTML(value='')))"
      ]
     },
     "metadata": {},
     "output_type": "display_data"
    },
    {
     "name": "stdout",
     "output_type": "stream",
     "text": [
      "\n"
     ]
    },
    {
     "data": {
      "text/plain": [
       "0.004039609849791206"
      ]
     },
     "execution_count": 92,
     "metadata": {},
     "output_type": "execute_result"
    }
   ],
   "source": [
    "get_bootstrap(\n",
    "    data_arppu[(data_arppu.gender == 1) & (data_arppu.group != 'test')].revenue,\n",
    "    data_arppu[(data_arppu.gender == 1) & (data_arppu.group == 'test')].revenue,\n",
    "    boot_it=1000,  # количество бутстрэп-подвыборок\n",
    "    statistic=np.mean,  # интересующая нас статистика\n",
    "    bootstrap_conf_level=0.95  # уровень значимости\n",
    ")"
   ]
  },
  {
   "cell_type": "markdown",
   "metadata": {},
   "source": [
    "Нулевая гипотеза - тестовая и контрольные группы среди пола 1 статистически значимо не отличаются по конверсии в покупку подписки premium_no_trial.\n",
    "\n",
    "Альтернативная гипотеза - тестовая и контрольные группы среди пола 1 статистически значимо отличаются по конверсии в покупку подписки premium_no_trial."
   ]
  },
  {
   "cell_type": "code",
   "execution_count": 93,
   "metadata": {},
   "outputs": [
    {
     "data": {
      "text/plain": [
       "0.006437392913578089"
      ]
     },
     "execution_count": 93,
     "metadata": {},
     "output_type": "execute_result"
    }
   ],
   "source": [
    "a = gender_1[gender_1['group'] != 'test'].premium_no_trial\n",
    "b = gender_1[gender_1['group'] == 'test'].premium_no_trial\n",
    "ab = np.array([[a.sum(), a.shape[0] - a.sum()], [b.sum(), b.shape[0] - b.sum()]]) \n",
    "stats.chi2_contingency(ab, correction=False)[1]"
   ]
  },
  {
   "cell_type": "markdown",
   "metadata": {},
   "source": [
    "**Вывод по полу**:\n",
    "1. Среди пола 0 изменения метрик статистически незначимы.\n",
    "2. Среди пола 1 статистически значимо повышение ARPPU и снижение конверсии.\n",
    "\n",
    "Таким образом, распространять нововведение среди какого-либо пола не стоит."
   ]
  },
  {
   "cell_type": "markdown",
   "metadata": {},
   "source": [
    "**Посмотрим на изменения метрик в распределении по возрасту**"
   ]
  },
  {
   "cell_type": "code",
   "execution_count": 94,
   "metadata": {
    "scrolled": true
   },
   "outputs": [
    {
     "data": {
      "text/plain": [
       "молодые            4887\n",
       "юные               3934\n",
       "средний возраст    2656\n",
       "зрелые             1388\n",
       "пожилые              70\n",
       "Name: age_category, dtype: int64"
      ]
     },
     "execution_count": 94,
     "metadata": {},
     "output_type": "execute_result"
    }
   ],
   "source": [
    "# Посмотрим, сколько пользователей в каждой категории\n",
    "data.age_category.value_counts()"
   ]
  },
  {
   "cell_type": "code",
   "execution_count": 95,
   "metadata": {},
   "outputs": [],
   "source": [
    "# Отберем пользователей по возрасту\n",
    "data_16_25 = data.query('age_category == \"юные\"')\n",
    "data_26_35 = data.query('age_category == \"молодые\"')\n",
    "data_36_45 = data.query('age_category == \"средний возраст\"')\n",
    "data_46_60 = data.query('age_category == \"зрелые\"')\n",
    "data_61_99 = data.query('age_category == \"пожилые\"')"
   ]
  },
  {
   "cell_type": "code",
   "execution_count": 96,
   "metadata": {},
   "outputs": [
    {
     "data": {
      "text/plain": [
       "'ARPU для контрольных групп:'"
      ]
     },
     "metadata": {},
     "output_type": "display_data"
    },
    {
     "data": {
      "text/plain": [
       "626.5940138142747"
      ]
     },
     "metadata": {},
     "output_type": "display_data"
    },
    {
     "data": {
      "text/plain": [
       "'ARPU для тестовой группы:'"
      ]
     },
     "metadata": {},
     "output_type": "display_data"
    },
    {
     "data": {
      "text/plain": [
       "451.55409582689333"
      ]
     },
     "metadata": {},
     "output_type": "display_data"
    },
    {
     "data": {
      "text/plain": [
       "'ARPPU для контрольных групп:'"
      ]
     },
     "metadata": {},
     "output_type": "display_data"
    },
    {
     "data": {
      "text/plain": [
       "23665.27536231884"
      ]
     },
     "metadata": {},
     "output_type": "display_data"
    },
    {
     "data": {
      "text/plain": [
       "'ARPPU для тестовой группы:'"
      ]
     },
     "metadata": {},
     "output_type": "display_data"
    },
    {
     "data": {
      "text/plain": [
       "8817.545454545454"
      ]
     },
     "metadata": {},
     "output_type": "display_data"
    },
    {
     "data": {
      "text/plain": [
       "'CR для контрольных групп:'"
      ]
     },
     "metadata": {},
     "output_type": "display_data"
    },
    {
     "data": {
      "text/plain": [
       "0.026477359938603222"
      ]
     },
     "metadata": {},
     "output_type": "display_data"
    },
    {
     "data": {
      "text/plain": [
       "'CR для тестовой группы:'"
      ]
     },
     "metadata": {},
     "output_type": "display_data"
    },
    {
     "data": {
      "text/plain": [
       "0.017001545595054096"
      ]
     },
     "metadata": {},
     "output_type": "display_data"
    }
   ],
   "source": [
    "# Посмотрим на метрики среди юных\n",
    "group_arpu(data_16_25)\n",
    "group_arppu(data_16_25)\n",
    "group_cr(data_16_25)"
   ]
  },
  {
   "cell_type": "code",
   "execution_count": 97,
   "metadata": {},
   "outputs": [
    {
     "data": {
      "text/plain": [
       "'ARPU для контрольных групп:'"
      ]
     },
     "metadata": {},
     "output_type": "display_data"
    },
    {
     "data": {
      "text/plain": [
       "505.55195007800313"
      ]
     },
     "metadata": {},
     "output_type": "display_data"
    },
    {
     "data": {
      "text/plain": [
       "'ARPU для тестовой группы:'"
      ]
     },
     "metadata": {},
     "output_type": "display_data"
    },
    {
     "data": {
      "text/plain": [
       "573.1011578305911"
      ]
     },
     "metadata": {},
     "output_type": "display_data"
    },
    {
     "data": {
      "text/plain": [
       "'ARPPU для контрольных групп:'"
      ]
     },
     "metadata": {},
     "output_type": "display_data"
    },
    {
     "data": {
      "text/plain": [
       "20003.62962962963"
      ]
     },
     "metadata": {},
     "output_type": "display_data"
    },
    {
     "data": {
      "text/plain": [
       "'ARPPU для тестовой группы:'"
      ]
     },
     "metadata": {},
     "output_type": "display_data"
    },
    {
     "data": {
      "text/plain": [
       "13940.333333333334"
      ]
     },
     "metadata": {},
     "output_type": "display_data"
    },
    {
     "data": {
      "text/plain": [
       "'CR для контрольных групп:'"
      ]
     },
     "metadata": {},
     "output_type": "display_data"
    },
    {
     "data": {
      "text/plain": [
       "0.02527301092043682"
      ]
     },
     "metadata": {},
     "output_type": "display_data"
    },
    {
     "data": {
      "text/plain": [
       "'CR для тестовой группы:'"
      ]
     },
     "metadata": {},
     "output_type": "display_data"
    },
    {
     "data": {
      "text/plain": [
       "0.012797074954296161"
      ]
     },
     "metadata": {},
     "output_type": "display_data"
    }
   ],
   "source": [
    "# Посмотрим на метрики среди молодых\n",
    "group_arpu(data_26_35)\n",
    "group_arppu(data_26_35)\n",
    "group_cr(data_26_35)"
   ]
  },
  {
   "cell_type": "code",
   "execution_count": 98,
   "metadata": {},
   "outputs": [
    {
     "data": {
      "text/plain": [
       "'ARPU для контрольных групп:'"
      ]
     },
     "metadata": {},
     "output_type": "display_data"
    },
    {
     "data": {
      "text/plain": [
       "444.45506257110355"
      ]
     },
     "metadata": {},
     "output_type": "display_data"
    },
    {
     "data": {
      "text/plain": [
       "'ARPU для тестовой группы:'"
      ]
     },
     "metadata": {},
     "output_type": "display_data"
    },
    {
     "data": {
      "text/plain": [
       "692.62100456621"
      ]
     },
     "metadata": {},
     "output_type": "display_data"
    },
    {
     "data": {
      "text/plain": [
       "'ARPPU для контрольных групп:'"
      ]
     },
     "metadata": {},
     "output_type": "display_data"
    },
    {
     "data": {
      "text/plain": [
       "23677.333333333332"
      ]
     },
     "metadata": {},
     "output_type": "display_data"
    },
    {
     "data": {
      "text/plain": [
       "'ARPPU для тестовой группы:'"
      ]
     },
     "metadata": {},
     "output_type": "display_data"
    },
    {
     "data": {
      "text/plain": [
       "13812.117647058823"
      ]
     },
     "metadata": {},
     "output_type": "display_data"
    },
    {
     "data": {
      "text/plain": [
       "'CR для контрольных групп:'"
      ]
     },
     "metadata": {},
     "output_type": "display_data"
    },
    {
     "data": {
      "text/plain": [
       "0.01877133105802048"
      ]
     },
     "metadata": {},
     "output_type": "display_data"
    },
    {
     "data": {
      "text/plain": [
       "'CR для тестовой группы:'"
      ]
     },
     "metadata": {},
     "output_type": "display_data"
    },
    {
     "data": {
      "text/plain": [
       "0.019406392694063926"
      ]
     },
     "metadata": {},
     "output_type": "display_data"
    }
   ],
   "source": [
    "# Посмотрим на метрики среди среднего возраста\n",
    "group_arpu(data_36_45)\n",
    "group_arppu(data_36_45)\n",
    "group_cr(data_36_45)"
   ]
  },
  {
   "cell_type": "code",
   "execution_count": 99,
   "metadata": {},
   "outputs": [
    {
     "data": {
      "text/plain": [
       "'ARPU для контрольных групп:'"
      ]
     },
     "metadata": {},
     "output_type": "display_data"
    },
    {
     "data": {
      "text/plain": [
       "482.29175475687106"
      ]
     },
     "metadata": {},
     "output_type": "display_data"
    },
    {
     "data": {
      "text/plain": [
       "'ARPU для тестовой группы:'"
      ]
     },
     "metadata": {},
     "output_type": "display_data"
    },
    {
     "data": {
      "text/plain": [
       "360.3972286374134"
      ]
     },
     "metadata": {},
     "output_type": "display_data"
    },
    {
     "data": {
      "text/plain": [
       "'ARPPU для контрольных групп:'"
      ]
     },
     "metadata": {},
     "output_type": "display_data"
    },
    {
     "data": {
      "text/plain": [
       "30416.533333333333"
      ]
     },
     "metadata": {},
     "output_type": "display_data"
    },
    {
     "data": {
      "text/plain": [
       "'ARPPU для тестовой группы:'"
      ]
     },
     "metadata": {},
     "output_type": "display_data"
    },
    {
     "data": {
      "text/plain": [
       "12300.6"
      ]
     },
     "metadata": {},
     "output_type": "display_data"
    },
    {
     "data": {
      "text/plain": [
       "'CR для контрольных групп:'"
      ]
     },
     "metadata": {},
     "output_type": "display_data"
    },
    {
     "data": {
      "text/plain": [
       "0.015856236786469344"
      ]
     },
     "metadata": {},
     "output_type": "display_data"
    },
    {
     "data": {
      "text/plain": [
       "'CR для тестовой группы:'"
      ]
     },
     "metadata": {},
     "output_type": "display_data"
    },
    {
     "data": {
      "text/plain": [
       "0.011547344110854504"
      ]
     },
     "metadata": {},
     "output_type": "display_data"
    }
   ],
   "source": [
    "# Посмотрим на метрики среди зрелых\n",
    "group_arpu(data_46_60)\n",
    "group_arppu(data_46_60)\n",
    "group_cr(data_46_60)"
   ]
  },
  {
   "cell_type": "code",
   "execution_count": 100,
   "metadata": {},
   "outputs": [
    {
     "data": {
      "text/plain": [
       "'ARPU для контрольных групп:'"
      ]
     },
     "metadata": {},
     "output_type": "display_data"
    },
    {
     "data": {
      "text/plain": [
       "395.390243902439"
      ]
     },
     "metadata": {},
     "output_type": "display_data"
    },
    {
     "data": {
      "text/plain": [
       "'ARPU для тестовой группы:'"
      ]
     },
     "metadata": {},
     "output_type": "display_data"
    },
    {
     "data": {
      "text/plain": [
       "1749.7037037037037"
      ]
     },
     "metadata": {},
     "output_type": "display_data"
    },
    {
     "data": {
      "text/plain": [
       "'ARPPU для контрольных групп:'"
      ]
     },
     "metadata": {},
     "output_type": "display_data"
    },
    {
     "data": {
      "text/plain": [
       "8105.5"
      ]
     },
     "metadata": {},
     "output_type": "display_data"
    },
    {
     "data": {
      "text/plain": [
       "'ARPPU для тестовой группы:'"
      ]
     },
     "metadata": {},
     "output_type": "display_data"
    },
    {
     "data": {
      "text/plain": [
       "21307.0"
      ]
     },
     "metadata": {},
     "output_type": "display_data"
    },
    {
     "data": {
      "text/plain": [
       "'CR для контрольных групп:'"
      ]
     },
     "metadata": {},
     "output_type": "display_data"
    },
    {
     "data": {
      "text/plain": [
       "0.04878048780487805"
      ]
     },
     "metadata": {},
     "output_type": "display_data"
    },
    {
     "data": {
      "text/plain": [
       "'CR для тестовой группы:'"
      ]
     },
     "metadata": {},
     "output_type": "display_data"
    },
    {
     "data": {
      "text/plain": [
       "0.037037037037037035"
      ]
     },
     "metadata": {},
     "output_type": "display_data"
    }
   ],
   "source": [
    "# Посмотрим на метрики среди пожилых\n",
    "group_arpu(data_61_99)\n",
    "group_arppu(data_61_99)\n",
    "group_cr(data_61_99)"
   ]
  },
  {
   "cell_type": "markdown",
   "metadata": {},
   "source": [
    "**Вывод:**\n",
    "1. Среди юных все показатели снизились.\n",
    "2. Среди молодых ARPU, ARPPU увеличились, а конверсия снизилась.\n",
    "3. Среди пользователей среднего возраста все показатели увеличились (конвесрия незначительно).\n",
    "4. Среди пользователей зрелого возраста конверсия не изменилась, ARPU снизился, ARPPU увеличился.\n",
    "5. Среди пожилых ARPU, ARPPU увеличились, а конверсия снизилась."
   ]
  },
  {
   "cell_type": "markdown",
   "metadata": {},
   "source": [
    "Нулевая гипотеза - тестовая и контрольные группы среди юных статистически значимо не отличаются по ARPU.\n",
    "\n",
    "Альтернативная гипотеза - тестовая и контрольные группы среди юных статистически значимо отличаются по ARPU."
   ]
  },
  {
   "cell_type": "code",
   "execution_count": 101,
   "metadata": {},
   "outputs": [
    {
     "data": {
      "application/vnd.jupyter.widget-view+json": {
       "model_id": "6830417cdbce4b8ab78647a35d5f919f",
       "version_major": 2,
       "version_minor": 0
      },
      "text/plain": [
       "HBox(children=(FloatProgress(value=0.0, max=1000.0), HTML(value='')))"
      ]
     },
     "metadata": {},
     "output_type": "display_data"
    },
    {
     "name": "stdout",
     "output_type": "stream",
     "text": [
      "\n"
     ]
    },
    {
     "data": {
      "text/plain": [
       "0.3735451548120411"
      ]
     },
     "execution_count": 101,
     "metadata": {},
     "output_type": "execute_result"
    }
   ],
   "source": [
    "get_bootstrap(\n",
    "    data_16_25[data_16_25.group != 'test'].revenue,\n",
    "    data_16_25[data_16_25.group == 'test'].revenue,\n",
    "    boot_it=1000,  # количество бутстрэп-подвыборок\n",
    "    statistic=np.mean,  # интересующая нас статистика\n",
    "    bootstrap_conf_level=0.95  # уровень значимости\n",
    ")"
   ]
  },
  {
   "cell_type": "markdown",
   "metadata": {},
   "source": [
    "Нулевая гипотеза - тестовая и контрольные группы среди юных статистически значимо не отличаются по ARPPU.\n",
    "\n",
    "Альтернативная гипотеза - тестовая и контрольные группы среди юных статистически значимо отличаются по ARPPU."
   ]
  },
  {
   "cell_type": "code",
   "execution_count": 102,
   "metadata": {},
   "outputs": [
    {
     "data": {
      "application/vnd.jupyter.widget-view+json": {
       "model_id": "16be63fb905749e9b2fe27743a04bad0",
       "version_major": 2,
       "version_minor": 0
      },
      "text/plain": [
       "HBox(children=(FloatProgress(value=0.0, max=1000.0), HTML(value='')))"
      ]
     },
     "metadata": {},
     "output_type": "display_data"
    },
    {
     "name": "stdout",
     "output_type": "stream",
     "text": [
      "\n"
     ]
    },
    {
     "data": {
      "text/plain": [
       "0.7956823230396866"
      ]
     },
     "execution_count": 102,
     "metadata": {},
     "output_type": "execute_result"
    }
   ],
   "source": [
    "get_bootstrap(\n",
    "    data_arppu[(data_arppu.age_category == \"юные\") & (data_arppu.group != 'test')].revenue,\n",
    "    data_arppu[(data_arppu.age_category == \"юные\") & (data_arppu.group == 'test')].revenue,\n",
    "    boot_it=1000,  # количество бутстрэп-подвыборок\n",
    "    statistic=np.mean,  # интересующая нас статистика\n",
    "    bootstrap_conf_level=0.95  # уровень значимости\n",
    ")"
   ]
  },
  {
   "cell_type": "markdown",
   "metadata": {},
   "source": [
    "Нулевая гипотеза - тестовая и контрольные группы среди юных статистически значимо не отличаются по конверсии в покупку подписки premium_no_trial.\n",
    "\n",
    "Альтернативная гипотеза - тестовая и контрольные группы среди юных статистически значимо отличаются по конверсии в покупку подписки premium_no_trial."
   ]
  },
  {
   "cell_type": "code",
   "execution_count": 103,
   "metadata": {},
   "outputs": [
    {
     "data": {
      "text/plain": [
       "0.06657975778938208"
      ]
     },
     "execution_count": 103,
     "metadata": {},
     "output_type": "execute_result"
    }
   ],
   "source": [
    "a = data_16_25[data_16_25['group'] != 'test'].premium_no_trial\n",
    "b = data_16_25[data_16_25['group'] == 'test'].premium_no_trial\n",
    "ab = np.array([[a.sum(), a.shape[0] - a.sum()], [b.sum(), b.shape[0] - b.sum()]]) \n",
    "stats.chi2_contingency(ab, correction=False)[1]"
   ]
  },
  {
   "cell_type": "markdown",
   "metadata": {},
   "source": [
    "Нулевая гипотеза - тестовая и контрольные группы среди молодых статистически значимо не отличаются по ARPU.\n",
    "\n",
    "Альтернативная гипотеза - тестовая и контрольные группы среди молодых статистически значимо отличаются по ARPU."
   ]
  },
  {
   "cell_type": "code",
   "execution_count": 104,
   "metadata": {},
   "outputs": [
    {
     "data": {
      "application/vnd.jupyter.widget-view+json": {
       "model_id": "71d1c754d14e41568f13ea4dee9faa42",
       "version_major": 2,
       "version_minor": 0
      },
      "text/plain": [
       "HBox(children=(FloatProgress(value=0.0, max=1000.0), HTML(value='')))"
      ]
     },
     "metadata": {},
     "output_type": "display_data"
    },
    {
     "name": "stdout",
     "output_type": "stream",
     "text": [
      "\n"
     ]
    },
    {
     "data": {
      "text/plain": [
       "0.43616721141824355"
      ]
     },
     "execution_count": 104,
     "metadata": {},
     "output_type": "execute_result"
    }
   ],
   "source": [
    "get_bootstrap(\n",
    "    data_26_35[data_26_35.group != 'test'].revenue,\n",
    "    data_26_35[data_26_35.group == 'test'].revenue,\n",
    "    boot_it=1000,  # количество бутстрэп-подвыборок\n",
    "    statistic=np.mean,  # интересующая нас статистика\n",
    "    bootstrap_conf_level=0.95  # уровень значимости\n",
    ")"
   ]
  },
  {
   "cell_type": "markdown",
   "metadata": {},
   "source": [
    "Нулевая гипотеза - тестовая и контрольные группы среди молодых статистически значимо не отличаются по ARPPU.\n",
    "\n",
    "Альтернативная гипотеза - тестовая и контрольные группы среди молодых  статистически значимо отличаются по ARPPU."
   ]
  },
  {
   "cell_type": "code",
   "execution_count": 105,
   "metadata": {},
   "outputs": [
    {
     "data": {
      "application/vnd.jupyter.widget-view+json": {
       "model_id": "887f0f7358be4fb892044755384b638a",
       "version_major": 2,
       "version_minor": 0
      },
      "text/plain": [
       "HBox(children=(FloatProgress(value=0.0, max=1000.0), HTML(value='')))"
      ]
     },
     "metadata": {},
     "output_type": "display_data"
    },
    {
     "name": "stdout",
     "output_type": "stream",
     "text": [
      "\n"
     ]
    },
    {
     "data": {
      "text/plain": [
       "0.01548860214472227"
      ]
     },
     "execution_count": 105,
     "metadata": {},
     "output_type": "execute_result"
    }
   ],
   "source": [
    "get_bootstrap(\n",
    "    data_arppu[(data_arppu.age_category == \"молодые\") & (data_arppu.group != 'test')].revenue,\n",
    "    data_arppu[(data_arppu.age_category == \"молодые\") & (data_arppu.group == 'test')].revenue,\n",
    "    boot_it=1000,  # количество бутстрэп-подвыборок\n",
    "    statistic=np.mean,  # интересующая нас статистика\n",
    "    bootstrap_conf_level=0.95  # уровень значимости\n",
    ")"
   ]
  },
  {
   "cell_type": "markdown",
   "metadata": {},
   "source": [
    "Нулевая гипотеза - тестовая и контрольные группы среди молодых статистически значимо не отличаются по конверсии в покупку подписки premium_no_trial.\n",
    "\n",
    "Альтернативная гипотеза - тестовая и контрольные группы среди молодых статистически значимо отличаются по конверсии в покупку подписки premium_no_trial."
   ]
  },
  {
   "cell_type": "code",
   "execution_count": 106,
   "metadata": {},
   "outputs": [
    {
     "data": {
      "text/plain": [
       "0.004575205991097552"
      ]
     },
     "execution_count": 106,
     "metadata": {},
     "output_type": "execute_result"
    }
   ],
   "source": [
    "a = data_26_35[data_26_35['group'] != 'test'].premium_no_trial\n",
    "b = data_26_35[data_26_35['group'] == 'test'].premium_no_trial\n",
    "ab = np.array([[a.sum(), a.shape[0] - a.sum()], [b.sum(), b.shape[0] - b.sum()]]) \n",
    "stats.chi2_contingency(ab, correction=False)[1]"
   ]
  },
  {
   "cell_type": "markdown",
   "metadata": {},
   "source": [
    "Нулевая гипотеза - тестовая и контрольные группы среди пользователей среднего возраста статистически значимо не отличаются по ARPU.\n",
    "\n",
    "Альтернативная гипотеза - тестовая и контрольные группы среди пользователей среднего возраста статистически значимо отличаются по ARPU."
   ]
  },
  {
   "cell_type": "code",
   "execution_count": 107,
   "metadata": {},
   "outputs": [
    {
     "data": {
      "application/vnd.jupyter.widget-view+json": {
       "model_id": "b3b8e9ce3b3d46b9a2be645170adc816",
       "version_major": 2,
       "version_minor": 0
      },
      "text/plain": [
       "HBox(children=(FloatProgress(value=0.0, max=1000.0), HTML(value='')))"
      ]
     },
     "metadata": {},
     "output_type": "display_data"
    },
    {
     "name": "stdout",
     "output_type": "stream",
     "text": [
      "\n"
     ]
    },
    {
     "data": {
      "text/plain": [
       "0.049264520271078124"
      ]
     },
     "execution_count": 107,
     "metadata": {},
     "output_type": "execute_result"
    }
   ],
   "source": [
    "get_bootstrap(\n",
    "    data_36_45[data_36_45.group != 'test'].revenue,\n",
    "    data_36_45[data_36_45.group == 'test'].revenue,\n",
    "    boot_it=1000,  # количество бутстрэп-подвыборок\n",
    "    statistic=np.mean,  # интересующая нас статистика\n",
    "    bootstrap_conf_level=0.95  # уровень значимости\n",
    ")"
   ]
  },
  {
   "cell_type": "markdown",
   "metadata": {},
   "source": [
    "Нулевая гипотеза - тестовая и контрольные группы среди пользователей среднего возраста статистически значимо не отличаются по ARPPU.\n",
    "\n",
    "Альтернативная гипотеза - тестовая и контрольные группы среди пользователей среднего возраста статистически значимо отличаются по ARPPU."
   ]
  },
  {
   "cell_type": "code",
   "execution_count": 108,
   "metadata": {},
   "outputs": [
    {
     "data": {
      "application/vnd.jupyter.widget-view+json": {
       "model_id": "caaaac6bf4724d299c7d43ec94fb5efe",
       "version_major": 2,
       "version_minor": 0
      },
      "text/plain": [
       "HBox(children=(FloatProgress(value=0.0, max=1000.0), HTML(value='')))"
      ]
     },
     "metadata": {},
     "output_type": "display_data"
    },
    {
     "name": "stdout",
     "output_type": "stream",
     "text": [
      "\n"
     ]
    },
    {
     "data": {
      "text/plain": [
       "0.09173166190061235"
      ]
     },
     "execution_count": 108,
     "metadata": {},
     "output_type": "execute_result"
    }
   ],
   "source": [
    "get_bootstrap(\n",
    "    data_arppu[(data_arppu.age_category == \"средний возраст\") & (data_arppu.group != 'test')].revenue,\n",
    "    data_arppu[(data_arppu.age_category == \"средний возраст\") & (data_arppu.group == 'test')].revenue,\n",
    "    boot_it=1000,  # количество бутстрэп-подвыборок\n",
    "    statistic=np.mean,  # интересующая нас статистика\n",
    "    bootstrap_conf_level=0.95  # уровень значимости\n",
    ")"
   ]
  },
  {
   "cell_type": "markdown",
   "metadata": {},
   "source": [
    "Нулевая гипотеза - тестовая и контрольные группы среди пользователей среднего возраста статистически значимо не отличаются по конверсии в покупку подписки premium_no_trial.\n",
    "\n",
    "Альтернативная гипотеза - тестовая и контрольные группы среди пользователей среднего возраста статистически значимо отличаются по конверсии в покупку подписки premium_no_trial."
   ]
  },
  {
   "cell_type": "code",
   "execution_count": 109,
   "metadata": {},
   "outputs": [
    {
     "data": {
      "text/plain": [
       "0.9089731496845921"
      ]
     },
     "execution_count": 109,
     "metadata": {},
     "output_type": "execute_result"
    }
   ],
   "source": [
    "a = data_36_45[data_36_45['group'] != 'test'].premium_no_trial\n",
    "b = data_36_45[data_36_45['group'] == 'test'].premium_no_trial\n",
    "ab = np.array([[a.sum(), a.shape[0] - a.sum()], [b.sum(), b.shape[0] - b.sum()]]) \n",
    "stats.chi2_contingency(ab, correction=False)[1]"
   ]
  },
  {
   "cell_type": "markdown",
   "metadata": {},
   "source": [
    "Нулевая гипотеза - тестовая и контрольные группы среди зрелых статистически значимо не отличаются по ARPU.\n",
    "\n",
    "Альтернативная гипотеза - тестовая и контрольные группы среди зрелых  статистически значимо отличаются по ARPU."
   ]
  },
  {
   "cell_type": "code",
   "execution_count": 110,
   "metadata": {},
   "outputs": [
    {
     "data": {
      "application/vnd.jupyter.widget-view+json": {
       "model_id": "6487f512219e4052a14fc3ea56d5ccda",
       "version_major": 2,
       "version_minor": 0
      },
      "text/plain": [
       "HBox(children=(FloatProgress(value=0.0, max=1000.0), HTML(value='')))"
      ]
     },
     "metadata": {},
     "output_type": "display_data"
    },
    {
     "name": "stdout",
     "output_type": "stream",
     "text": [
      "\n"
     ]
    },
    {
     "data": {
      "text/plain": [
       "0.3261035825079869"
      ]
     },
     "execution_count": 110,
     "metadata": {},
     "output_type": "execute_result"
    }
   ],
   "source": [
    "get_bootstrap(\n",
    "    data_46_60[data_46_60.group != 'test'].revenue,\n",
    "    data_46_60[data_46_60.group == 'test'].revenue,\n",
    "    boot_it=1000,  # количество бутстрэп-подвыборок\n",
    "    statistic=np.mean,  # интересующая нас статистика\n",
    "    bootstrap_conf_level=0.95  # уровень значимости\n",
    ")"
   ]
  },
  {
   "cell_type": "markdown",
   "metadata": {},
   "source": [
    "Нулевая гипотеза - тестовая и контрольные группы среди зрелых статистически значимо не отличаются по ARPPU.\n",
    "\n",
    "Альтернативная гипотеза - тестовая и контрольные группы среди зрелых статистически значимо отличаются по ARPPU."
   ]
  },
  {
   "cell_type": "code",
   "execution_count": 111,
   "metadata": {},
   "outputs": [
    {
     "data": {
      "application/vnd.jupyter.widget-view+json": {
       "model_id": "8df95bfc20614e899ad65e1d8b2c88e8",
       "version_major": 2,
       "version_minor": 0
      },
      "text/plain": [
       "HBox(children=(FloatProgress(value=0.0, max=1000.0), HTML(value='')))"
      ]
     },
     "metadata": {},
     "output_type": "display_data"
    },
    {
     "name": "stdout",
     "output_type": "stream",
     "text": [
      "\n"
     ]
    },
    {
     "data": {
      "text/plain": [
       "1.011094495726359e-118"
      ]
     },
     "execution_count": 111,
     "metadata": {},
     "output_type": "execute_result"
    }
   ],
   "source": [
    "get_bootstrap(\n",
    "    data_arppu[(data_arppu.age_category == \"зрелые\") & (data_arppu.group != 'test')].revenue,\n",
    "    data_arppu[(data_arppu.age_category == \"зрелые\") & (data_arppu.group == 'test')].revenue,\n",
    "    boot_it=1000,  # количество бутстрэп-подвыборок\n",
    "    statistic=np.mean,  # интересующая нас статистика\n",
    "    bootstrap_conf_level=0.95  # уровень значимости\n",
    ")"
   ]
  },
  {
   "cell_type": "markdown",
   "metadata": {},
   "source": [
    "Нулевая гипотеза - тестовая и контрольные группы среди зрелых статистически значимо не отличаются по конверсии в покупку подписки premium_no_trial.\n",
    "\n",
    "Альтернативная гипотеза - тестовая и контрольные группы среди зрелых статистически значимо отличаются по конверсии в покупку подписки premium_no_trial."
   ]
  },
  {
   "cell_type": "code",
   "execution_count": 112,
   "metadata": {},
   "outputs": [
    {
     "data": {
      "text/plain": [
       "0.542478344554232"
      ]
     },
     "execution_count": 112,
     "metadata": {},
     "output_type": "execute_result"
    }
   ],
   "source": [
    "a = data_46_60[data_46_60['group'] != 'test'].premium_no_trial\n",
    "b = data_46_60[data_46_60['group'] == 'test'].premium_no_trial\n",
    "ab = np.array([[a.sum(), a.shape[0] - a.sum()], [b.sum(), b.shape[0] - b.sum()]]) \n",
    "stats.chi2_contingency(ab, correction=False)[1]"
   ]
  },
  {
   "cell_type": "markdown",
   "metadata": {},
   "source": [
    "Нулевая гипотеза - тестовая и контрольные группы среди пожилых статистически значимо не отличаются по ARPU.\n",
    "\n",
    "Альтернативная гипотеза - тестовая и контрольные группы среди пожилых статистически значимо отличаются по ARPU."
   ]
  },
  {
   "cell_type": "code",
   "execution_count": 113,
   "metadata": {},
   "outputs": [
    {
     "data": {
      "application/vnd.jupyter.widget-view+json": {
       "model_id": "17ccc00aa0904c1b9031caf78c8c6dbc",
       "version_major": 2,
       "version_minor": 0
      },
      "text/plain": [
       "HBox(children=(FloatProgress(value=0.0, max=1000.0), HTML(value='')))"
      ]
     },
     "metadata": {},
     "output_type": "display_data"
    },
    {
     "name": "stdout",
     "output_type": "stream",
     "text": [
      "\n"
     ]
    },
    {
     "data": {
      "text/plain": [
       "0.19640632273636016"
      ]
     },
     "execution_count": 113,
     "metadata": {},
     "output_type": "execute_result"
    }
   ],
   "source": [
    "get_bootstrap(\n",
    "    data_61_99[data_61_99.group != 'test'].revenue,\n",
    "    data_61_99[data_61_99.group == 'test'].revenue,\n",
    "    boot_it=1000,  # количество бутстрэп-подвыборок\n",
    "    statistic=np.mean,  # интересующая нас статистика\n",
    "    bootstrap_conf_level=0.95  # уровень значимости\n",
    ")"
   ]
  },
  {
   "cell_type": "markdown",
   "metadata": {},
   "source": [
    "Нулевая гипотеза - тестовая и контрольные группы среди пожилых статистически значимо не отличаются по ARPPU.\n",
    "\n",
    "Альтернативная гипотеза - тестовая и контрольные группы среди пожилых статистически значимо отличаются по ARPPU."
   ]
  },
  {
   "cell_type": "code",
   "execution_count": 114,
   "metadata": {},
   "outputs": [
    {
     "data": {
      "application/vnd.jupyter.widget-view+json": {
       "model_id": "31b7278e3c434894bda262f38315bc73",
       "version_major": 2,
       "version_minor": 0
      },
      "text/plain": [
       "HBox(children=(FloatProgress(value=0.0, max=1000.0), HTML(value='')))"
      ]
     },
     "metadata": {},
     "output_type": "display_data"
    },
    {
     "name": "stdout",
     "output_type": "stream",
     "text": [
      "\n"
     ]
    },
    {
     "data": {
      "text/plain": [
       "0.0"
      ]
     },
     "execution_count": 114,
     "metadata": {},
     "output_type": "execute_result"
    }
   ],
   "source": [
    "get_bootstrap(\n",
    "    data_arppu[(data_arppu.age_category == \"пожилые\") & (data_arppu.group != 'test')].revenue,\n",
    "    data_arppu[(data_arppu.age_category == \"пожилые\") & (data_arppu.group == 'test')].revenue,\n",
    "    boot_it=1000,  # количество бутстрэп-подвыборок\n",
    "    statistic=np.mean,  # интересующая нас статистика\n",
    "    bootstrap_conf_level=0.95  # уровень значимости\n",
    ")"
   ]
  },
  {
   "cell_type": "markdown",
   "metadata": {},
   "source": [
    "Нулевая гипотеза - тестовая и контрольные группы среди пожилых статистически значимо не отличаются по конверсии в покупку подписки premium_no_trial.\n",
    "\n",
    "Альтернативная гипотеза - тестовая и контрольные группы среди пожилых статистически значимо отличаются по конверсии в покупку подписки premium_no_trial."
   ]
  },
  {
   "cell_type": "code",
   "execution_count": 115,
   "metadata": {},
   "outputs": [
    {
     "data": {
      "text/plain": [
       "0.8096160409809592"
      ]
     },
     "execution_count": 115,
     "metadata": {},
     "output_type": "execute_result"
    }
   ],
   "source": [
    "a = data_61_99[data_61_99['group'] != 'test'].premium_no_trial\n",
    "b = data_61_99[data_61_99['group'] == 'test'].premium_no_trial\n",
    "ab = np.array([[a.sum(), a.shape[0] - a.sum()], [b.sum(), b.shape[0] - b.sum()]]) \n",
    "stats.chi2_contingency(ab, correction=False)[1]"
   ]
  },
  {
   "cell_type": "markdown",
   "metadata": {},
   "source": [
    "**Вывод по возрасту**:\n",
    "1. Среди юных(16-25лет) изменения метрик статистически незначимы.\n",
    "2. Среди молодых(26-35 лет) статистически значимо повышение ARPPU.\n",
    "3. Среди пользователей среднего возраста(36-45 лет) изменения метрик статистически незначимы.\n",
    "4. Среди зрелых(46-60 лет) статистически значимо повышение ARPPU.\n",
    "5. Среди пожилых (61-99 лет) статистически значимо повышение ARPPU. Однако, к этому возрасту стоит относиться осторожно, тк зрелых пользователей меньше, чем других возрастов, некоторые пользователи могли ошибочно указать возраст, например, 99 лет, к тому же вряд ли приложение знакомств пользуется популярностью среди пожилых людей.\n",
    "\n",
    "Таким образом, нововведение можно пробовать распространять среди пользователей 26-35 лет и 46-60 лет."
   ]
  },
  {
   "cell_type": "markdown",
   "metadata": {},
   "source": [
    "**Вывод по оценке отдельных групп пользователей:**\n",
    "1. Рассмотрели изменения ARPU, ARPPU, CR в разбивке по странам, полу и возрасту. \n",
    "2. Проверили, насколько статистически значимы эти изменения.\n",
    "3. Выяснили, что среди отдельных групп пользователей нововведение может быть успешным.\n",
    "4. В разбивке по возрасту выяснили, что нововведение имеет смысл распространять среди пользователей 26-35 лет и 46-60 лет.\n",
    "5. Также новвоведение может иметь смысл во Франции."
   ]
  },
  {
   "cell_type": "markdown",
   "metadata": {},
   "source": [
    "## Итоговый вывод"
   ]
  },
  {
   "cell_type": "markdown",
   "metadata": {},
   "source": [
    "1. При проведении А/А теста убедились, что сплит-система работает корректно.\n",
    "2. Выяснили, что тестовая и контрольные группы статистически значимо не отличаются по ARPU, при этом имеется ститастически значимая разница групп по ARPPU (ARPPU увеличился) и по CR(конверсия снизилась). Можем предположить, что подписка подорожала, т.к. произошло снижение конверсии, компенсируемое выручкой. Считаю, что для всей аудитории приложения эксперимент по изменению стоимости подписки Premium_no_trial оказался неуспешным.\n",
    "3. Проанализировали, что среди отдельных групп пользователей (пользователи 26-35 лет и 46-60 лет, пользователи Франции) нововведение можно применить."
   ]
  },
  {
   "cell_type": "code",
   "execution_count": 116,
   "metadata": {},
   "outputs": [],
   "source": []
  }
 ],
 "metadata": {
  "kernelspec": {
   "display_name": "Python 3 (ipykernel)",
   "language": "python",
   "name": "python3"
  },
  "language_info": {
   "codemirror_mode": {
    "name": "ipython",
    "version": 3
   },
   "file_extension": ".py",
   "mimetype": "text/x-python",
   "name": "python",
   "nbconvert_exporter": "python",
   "pygments_lexer": "ipython3",
   "version": "3.11.3"
  }
 },
 "nbformat": 4,
 "nbformat_minor": 4
}
