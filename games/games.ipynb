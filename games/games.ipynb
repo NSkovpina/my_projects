{
 "cells": [
  {
   "cell_type": "markdown",
   "metadata": {},
   "source": [
    "# Исследование компьютерных игр\n",
    "Вы работаете в интернет-магазине «Стримчик», который продаёт по всему миру\n",
    "компьютерные игры. Из открытых источников доступны исторические данные о\n",
    "продажах игр, оценки пользователей и экспертов, жанры и платформы\n",
    "(например, Xboxили PlayStation). Вам нужно выявить определяющие успешность\n",
    "игры закономерности. Это позволит сделать ставку на потенциально популярный\n",
    "продукт и спланировать рекламные кампании."
   ]
  },
  {
   "cell_type": "markdown",
   "metadata": {},
   "source": [
    "# 1 Изучение данных из файла"
   ]
  },
  {
   "cell_type": "code",
   "execution_count": 1,
   "metadata": {},
   "outputs": [],
   "source": [
    "# Импортируем библиотеки\n",
    "import pandas as pd\n",
    "import matplotlib.pyplot as plt\n",
    "import seaborn\n",
    "from scipy import stats as st"
   ]
  },
  {
   "cell_type": "code",
   "execution_count": 2,
   "metadata": {},
   "outputs": [],
   "source": [
    "import warnings \n",
    "    \n",
    "warnings.simplefilter('ignore')"
   ]
  },
  {
   "cell_type": "code",
   "execution_count": 3,
   "metadata": {
    "scrolled": true
   },
   "outputs": [
    {
     "data": {
      "text/html": [
       "<div>\n",
       "<style scoped>\n",
       "    .dataframe tbody tr th:only-of-type {\n",
       "        vertical-align: middle;\n",
       "    }\n",
       "\n",
       "    .dataframe tbody tr th {\n",
       "        vertical-align: top;\n",
       "    }\n",
       "\n",
       "    .dataframe thead th {\n",
       "        text-align: right;\n",
       "    }\n",
       "</style>\n",
       "<table border=\"1\" class=\"dataframe\">\n",
       "  <thead>\n",
       "    <tr style=\"text-align: right;\">\n",
       "      <th></th>\n",
       "      <th>Name</th>\n",
       "      <th>Platform</th>\n",
       "      <th>Year_of_Release</th>\n",
       "      <th>Genre</th>\n",
       "      <th>NA_sales</th>\n",
       "      <th>EU_sales</th>\n",
       "      <th>JP_sales</th>\n",
       "      <th>Other_sales</th>\n",
       "      <th>Critic_Score</th>\n",
       "      <th>User_Score</th>\n",
       "      <th>Rating</th>\n",
       "    </tr>\n",
       "  </thead>\n",
       "  <tbody>\n",
       "    <tr>\n",
       "      <th>0</th>\n",
       "      <td>Wii Sports</td>\n",
       "      <td>Wii</td>\n",
       "      <td>2006.0</td>\n",
       "      <td>Sports</td>\n",
       "      <td>41.36</td>\n",
       "      <td>28.96</td>\n",
       "      <td>3.77</td>\n",
       "      <td>8.45</td>\n",
       "      <td>76.0</td>\n",
       "      <td>8</td>\n",
       "      <td>E</td>\n",
       "    </tr>\n",
       "    <tr>\n",
       "      <th>1</th>\n",
       "      <td>Super Mario Bros.</td>\n",
       "      <td>NES</td>\n",
       "      <td>1985.0</td>\n",
       "      <td>Platform</td>\n",
       "      <td>29.08</td>\n",
       "      <td>3.58</td>\n",
       "      <td>6.81</td>\n",
       "      <td>0.77</td>\n",
       "      <td>NaN</td>\n",
       "      <td>NaN</td>\n",
       "      <td>NaN</td>\n",
       "    </tr>\n",
       "    <tr>\n",
       "      <th>2</th>\n",
       "      <td>Mario Kart Wii</td>\n",
       "      <td>Wii</td>\n",
       "      <td>2008.0</td>\n",
       "      <td>Racing</td>\n",
       "      <td>15.68</td>\n",
       "      <td>12.76</td>\n",
       "      <td>3.79</td>\n",
       "      <td>3.29</td>\n",
       "      <td>82.0</td>\n",
       "      <td>8.3</td>\n",
       "      <td>E</td>\n",
       "    </tr>\n",
       "    <tr>\n",
       "      <th>3</th>\n",
       "      <td>Wii Sports Resort</td>\n",
       "      <td>Wii</td>\n",
       "      <td>2009.0</td>\n",
       "      <td>Sports</td>\n",
       "      <td>15.61</td>\n",
       "      <td>10.93</td>\n",
       "      <td>3.28</td>\n",
       "      <td>2.95</td>\n",
       "      <td>80.0</td>\n",
       "      <td>8</td>\n",
       "      <td>E</td>\n",
       "    </tr>\n",
       "    <tr>\n",
       "      <th>4</th>\n",
       "      <td>Pokemon Red/Pokemon Blue</td>\n",
       "      <td>GB</td>\n",
       "      <td>1996.0</td>\n",
       "      <td>Role-Playing</td>\n",
       "      <td>11.27</td>\n",
       "      <td>8.89</td>\n",
       "      <td>10.22</td>\n",
       "      <td>1.00</td>\n",
       "      <td>NaN</td>\n",
       "      <td>NaN</td>\n",
       "      <td>NaN</td>\n",
       "    </tr>\n",
       "    <tr>\n",
       "      <th>5</th>\n",
       "      <td>Tetris</td>\n",
       "      <td>GB</td>\n",
       "      <td>1989.0</td>\n",
       "      <td>Puzzle</td>\n",
       "      <td>23.20</td>\n",
       "      <td>2.26</td>\n",
       "      <td>4.22</td>\n",
       "      <td>0.58</td>\n",
       "      <td>NaN</td>\n",
       "      <td>NaN</td>\n",
       "      <td>NaN</td>\n",
       "    </tr>\n",
       "    <tr>\n",
       "      <th>6</th>\n",
       "      <td>New Super Mario Bros.</td>\n",
       "      <td>DS</td>\n",
       "      <td>2006.0</td>\n",
       "      <td>Platform</td>\n",
       "      <td>11.28</td>\n",
       "      <td>9.14</td>\n",
       "      <td>6.50</td>\n",
       "      <td>2.88</td>\n",
       "      <td>89.0</td>\n",
       "      <td>8.5</td>\n",
       "      <td>E</td>\n",
       "    </tr>\n",
       "    <tr>\n",
       "      <th>7</th>\n",
       "      <td>Wii Play</td>\n",
       "      <td>Wii</td>\n",
       "      <td>2006.0</td>\n",
       "      <td>Misc</td>\n",
       "      <td>13.96</td>\n",
       "      <td>9.18</td>\n",
       "      <td>2.93</td>\n",
       "      <td>2.84</td>\n",
       "      <td>58.0</td>\n",
       "      <td>6.6</td>\n",
       "      <td>E</td>\n",
       "    </tr>\n",
       "    <tr>\n",
       "      <th>8</th>\n",
       "      <td>New Super Mario Bros. Wii</td>\n",
       "      <td>Wii</td>\n",
       "      <td>2009.0</td>\n",
       "      <td>Platform</td>\n",
       "      <td>14.44</td>\n",
       "      <td>6.94</td>\n",
       "      <td>4.70</td>\n",
       "      <td>2.24</td>\n",
       "      <td>87.0</td>\n",
       "      <td>8.4</td>\n",
       "      <td>E</td>\n",
       "    </tr>\n",
       "    <tr>\n",
       "      <th>9</th>\n",
       "      <td>Duck Hunt</td>\n",
       "      <td>NES</td>\n",
       "      <td>1984.0</td>\n",
       "      <td>Shooter</td>\n",
       "      <td>26.93</td>\n",
       "      <td>0.63</td>\n",
       "      <td>0.28</td>\n",
       "      <td>0.47</td>\n",
       "      <td>NaN</td>\n",
       "      <td>NaN</td>\n",
       "      <td>NaN</td>\n",
       "    </tr>\n",
       "  </tbody>\n",
       "</table>\n",
       "</div>"
      ],
      "text/plain": [
       "                        Name Platform  Year_of_Release         Genre  \\\n",
       "0                 Wii Sports      Wii           2006.0        Sports   \n",
       "1          Super Mario Bros.      NES           1985.0      Platform   \n",
       "2             Mario Kart Wii      Wii           2008.0        Racing   \n",
       "3          Wii Sports Resort      Wii           2009.0        Sports   \n",
       "4   Pokemon Red/Pokemon Blue       GB           1996.0  Role-Playing   \n",
       "5                     Tetris       GB           1989.0        Puzzle   \n",
       "6      New Super Mario Bros.       DS           2006.0      Platform   \n",
       "7                   Wii Play      Wii           2006.0          Misc   \n",
       "8  New Super Mario Bros. Wii      Wii           2009.0      Platform   \n",
       "9                  Duck Hunt      NES           1984.0       Shooter   \n",
       "\n",
       "   NA_sales  EU_sales  JP_sales  Other_sales  Critic_Score User_Score Rating  \n",
       "0     41.36     28.96      3.77         8.45          76.0          8      E  \n",
       "1     29.08      3.58      6.81         0.77           NaN        NaN    NaN  \n",
       "2     15.68     12.76      3.79         3.29          82.0        8.3      E  \n",
       "3     15.61     10.93      3.28         2.95          80.0          8      E  \n",
       "4     11.27      8.89     10.22         1.00           NaN        NaN    NaN  \n",
       "5     23.20      2.26      4.22         0.58           NaN        NaN    NaN  \n",
       "6     11.28      9.14      6.50         2.88          89.0        8.5      E  \n",
       "7     13.96      9.18      2.93         2.84          58.0        6.6      E  \n",
       "8     14.44      6.94      4.70         2.24          87.0        8.4      E  \n",
       "9     26.93      0.63      0.28         0.47           NaN        NaN    NaN  "
      ]
     },
     "metadata": {},
     "output_type": "display_data"
    },
    {
     "name": "stdout",
     "output_type": "stream",
     "text": [
      "<class 'pandas.core.frame.DataFrame'>\n",
      "RangeIndex: 16715 entries, 0 to 16714\n",
      "Data columns (total 11 columns):\n",
      " #   Column           Non-Null Count  Dtype  \n",
      "---  ------           --------------  -----  \n",
      " 0   Name             16713 non-null  object \n",
      " 1   Platform         16715 non-null  object \n",
      " 2   Year_of_Release  16446 non-null  float64\n",
      " 3   Genre            16713 non-null  object \n",
      " 4   NA_sales         16715 non-null  float64\n",
      " 5   EU_sales         16715 non-null  float64\n",
      " 6   JP_sales         16715 non-null  float64\n",
      " 7   Other_sales      16715 non-null  float64\n",
      " 8   Critic_Score     8137 non-null   float64\n",
      " 9   User_Score       10014 non-null  object \n",
      " 10  Rating           9949 non-null   object \n",
      "dtypes: float64(6), object(5)\n",
      "memory usage: 1.4+ MB\n"
     ]
    }
   ],
   "source": [
    "# Открываем файл и выводим первые 10 строк\n",
    "data = pd.read_csv('/datasets/games.csv')\n",
    "display(data.head(10))\n",
    "# Вызываем функцию info() для оценки заполненности таблицы, соответствия типов данных столбцов хранимым в них значениях\n",
    "data.info()"
   ]
  },
  {
   "cell_type": "code",
   "execution_count": 4,
   "metadata": {},
   "outputs": [
    {
     "data": {
      "text/plain": [
       "Need for Speed: Most Wanted               12\n",
       "LEGO Marvel Super Heroes                   9\n",
       "FIFA 14                                    9\n",
       "Ratatouille                                9\n",
       "Madden NFL 07                              9\n",
       "                                          ..\n",
       "Pirates: Legend of the Black Buccaneer     1\n",
       "Capcom Classics Collection Reloaded        1\n",
       "Starry ? Sky: In Summer                    1\n",
       "Fighting Vipers 2                          1\n",
       "Cold Stone Creamery: Scoop It Up           1\n",
       "Name: Name, Length: 11559, dtype: int64"
      ]
     },
     "metadata": {},
     "output_type": "display_data"
    },
    {
     "data": {
      "text/plain": [
       "PS2     2161\n",
       "DS      2151\n",
       "PS3     1331\n",
       "Wii     1320\n",
       "X360    1262\n",
       "PSP     1209\n",
       "PS      1197\n",
       "PC       974\n",
       "XB       824\n",
       "GBA      822\n",
       "GC       556\n",
       "3DS      520\n",
       "PSV      430\n",
       "PS4      392\n",
       "N64      319\n",
       "XOne     247\n",
       "SNES     239\n",
       "SAT      173\n",
       "WiiU     147\n",
       "2600     133\n",
       "NES       98\n",
       "GB        98\n",
       "DC        52\n",
       "GEN       29\n",
       "NG        12\n",
       "WS         6\n",
       "SCD        6\n",
       "3DO        3\n",
       "TG16       2\n",
       "GG         1\n",
       "PCFX       1\n",
       "Name: Platform, dtype: int64"
      ]
     },
     "metadata": {},
     "output_type": "display_data"
    },
    {
     "data": {
      "text/plain": [
       "Action          3369\n",
       "Sports          2348\n",
       "Misc            1750\n",
       "Role-Playing    1498\n",
       "Shooter         1323\n",
       "Adventure       1303\n",
       "Racing          1249\n",
       "Platform         888\n",
       "Simulation       873\n",
       "Fighting         849\n",
       "Strategy         683\n",
       "Puzzle           580\n",
       "Name: Genre, dtype: int64"
      ]
     },
     "metadata": {},
     "output_type": "display_data"
    },
    {
     "data": {
      "text/plain": [
       "E       3990\n",
       "T       2961\n",
       "M       1563\n",
       "E10+    1420\n",
       "EC         8\n",
       "RP         3\n",
       "K-A        3\n",
       "AO         1\n",
       "Name: Rating, dtype: int64"
      ]
     },
     "metadata": {},
     "output_type": "display_data"
    },
    {
     "data": {
      "text/plain": [
       "tbd    2424\n",
       "7.8     324\n",
       "8       290\n",
       "8.2     282\n",
       "8.3     254\n",
       "       ... \n",
       "1.3       2\n",
       "0.2       2\n",
       "9.6       2\n",
       "9.7       1\n",
       "0         1\n",
       "Name: User_Score, Length: 96, dtype: int64"
      ]
     },
     "metadata": {},
     "output_type": "display_data"
    }
   ],
   "source": [
    "# проверим содержимое столбцов с категориальными значениями\n",
    "columns = ['Name', 'Platform', 'Genre', 'Rating', 'User_Score']\n",
    "for column in columns:\n",
    "    display(data[column].value_counts())"
   ]
  },
  {
   "cell_type": "markdown",
   "metadata": {},
   "source": [
    "**Вывод**:\n",
    "1. Пропуски имеются в столбцах Name(2 пропуска), Year_of_Release, Genre(2 пропуска), Critic_Score, User_Score, Rating.\n",
    "2. Столбец Year_of_Release имеет тип float64 (привести к int),  User_Score имеет тип object (привести к float)."
   ]
  },
  {
   "cell_type": "markdown",
   "metadata": {},
   "source": [
    "# 2 Предобработка данных"
   ]
  },
  {
   "cell_type": "code",
   "execution_count": 5,
   "metadata": {},
   "outputs": [
    {
     "data": {
      "text/plain": [
       "Index(['name', 'platform', 'year_of_release', 'genre', 'na_sales', 'eu_sales',\n",
       "       'jp_sales', 'other_sales', 'critic_score', 'user_score', 'rating'],\n",
       "      dtype='object')"
      ]
     },
     "metadata": {},
     "output_type": "display_data"
    }
   ],
   "source": [
    "#Заменим названия столбцов (\n",
    "data = data.rename(columns={'Name': 'name', 'Platform': 'platform', 'Year_of_Release': 'year_of_release', 'Genre':'genre',\n",
    "                'NA_sales': 'na_sales',\n",
    "                'EU_sales': 'eu_sales',\n",
    "                'JP_sales': 'jp_sales',\n",
    "                'Other_sales': 'other_sales',\n",
    "                'Critic_Score': 'critic_score',\n",
    "                'User_Score': 'user_score',\n",
    "                'Rating': 'rating'}) \n",
    "display(data.columns)"
   ]
  },
  {
   "cell_type": "code",
   "execution_count": 6,
   "metadata": {},
   "outputs": [
    {
     "data": {
      "text/plain": [
       "name                  2\n",
       "platform              0\n",
       "year_of_release     269\n",
       "genre                 2\n",
       "na_sales              0\n",
       "eu_sales              0\n",
       "jp_sales              0\n",
       "other_sales           0\n",
       "critic_score       8578\n",
       "user_score         6701\n",
       "rating             6766\n",
       "dtype: int64"
      ]
     },
     "execution_count": 6,
     "metadata": {},
     "output_type": "execute_result"
    }
   ],
   "source": [
    "# Посчитаем количество пропусков\n",
    "data.isna().sum()"
   ]
  },
  {
   "cell_type": "markdown",
   "metadata": {},
   "source": [
    "Пропусками в столбцах name, year_of_release, genre можно пренебречь, тк их менее 2%. Пропуски в столбцах critic_score, user_score лучше не заполнять, чтобы не исказить данные. Эти пропуски связаны, видимо, с недостаточным количеством оценок, либо с ошибкой при выгрузке данных, либо игры новые и у них еще нет оценок. Пропуски в столбце rating заполним значением \"не определен\""
   ]
  },
  {
   "cell_type": "code",
   "execution_count": 7,
   "metadata": {
    "scrolled": true
   },
   "outputs": [],
   "source": [
    "data['rating'] = data['rating'].fillna('не определен')"
   ]
  },
  {
   "cell_type": "code",
   "execution_count": 8,
   "metadata": {},
   "outputs": [
    {
     "data": {
      "text/plain": [
       "9125"
      ]
     },
     "execution_count": 8,
     "metadata": {},
     "output_type": "execute_result"
    }
   ],
   "source": [
    "#tbd в столбце user_score= To Be Determined, т.е.рейтинг еще не определен, заменим эти значения на NaN\n",
    "data.loc[data['user_score'] == 'tbd', 'user_score'] = float('nan')\n",
    "data['user_score'].isna().sum()"
   ]
  },
  {
   "cell_type": "code",
   "execution_count": 9,
   "metadata": {},
   "outputs": [
    {
     "name": "stdout",
     "output_type": "stream",
     "text": [
      "<class 'pandas.core.frame.DataFrame'>\n",
      "RangeIndex: 16715 entries, 0 to 16714\n",
      "Data columns (total 11 columns):\n",
      " #   Column           Non-Null Count  Dtype  \n",
      "---  ------           --------------  -----  \n",
      " 0   name             16713 non-null  object \n",
      " 1   platform         16715 non-null  object \n",
      " 2   year_of_release  16446 non-null  float64\n",
      " 3   genre            16713 non-null  object \n",
      " 4   na_sales         16715 non-null  float64\n",
      " 5   eu_sales         16715 non-null  float64\n",
      " 6   jp_sales         16715 non-null  float64\n",
      " 7   other_sales      16715 non-null  float64\n",
      " 8   critic_score     8137 non-null   float64\n",
      " 9   user_score       7590 non-null   float64\n",
      " 10  rating           16715 non-null  object \n",
      "dtypes: float64(7), object(4)\n",
      "memory usage: 1.4+ MB\n"
     ]
    },
    {
     "data": {
      "text/plain": [
       "None"
      ]
     },
     "metadata": {},
     "output_type": "display_data"
    }
   ],
   "source": [
    "# В столбце year_of_release менять тип данных не целесообразно, тк он ни на что не повлияет. Изменим тип данных столбца user_score\n",
    "#Преобразуем данные в нужные типы\n",
    "data['user_score'] = data['user_score'].astype('float64')\n",
    "display(data.info())"
   ]
  },
  {
   "cell_type": "code",
   "execution_count": 10,
   "metadata": {},
   "outputs": [
    {
     "data": {
      "text/html": [
       "<div>\n",
       "<style scoped>\n",
       "    .dataframe tbody tr th:only-of-type {\n",
       "        vertical-align: middle;\n",
       "    }\n",
       "\n",
       "    .dataframe tbody tr th {\n",
       "        vertical-align: top;\n",
       "    }\n",
       "\n",
       "    .dataframe thead th {\n",
       "        text-align: right;\n",
       "    }\n",
       "</style>\n",
       "<table border=\"1\" class=\"dataframe\">\n",
       "  <thead>\n",
       "    <tr style=\"text-align: right;\">\n",
       "      <th></th>\n",
       "      <th>name</th>\n",
       "      <th>platform</th>\n",
       "      <th>year_of_release</th>\n",
       "      <th>genre</th>\n",
       "      <th>na_sales</th>\n",
       "      <th>eu_sales</th>\n",
       "      <th>jp_sales</th>\n",
       "      <th>other_sales</th>\n",
       "      <th>critic_score</th>\n",
       "      <th>user_score</th>\n",
       "      <th>rating</th>\n",
       "      <th>total_sales</th>\n",
       "    </tr>\n",
       "  </thead>\n",
       "  <tbody>\n",
       "    <tr>\n",
       "      <th>0</th>\n",
       "      <td>Wii Sports</td>\n",
       "      <td>Wii</td>\n",
       "      <td>2006.0</td>\n",
       "      <td>Sports</td>\n",
       "      <td>41.36</td>\n",
       "      <td>28.96</td>\n",
       "      <td>3.77</td>\n",
       "      <td>8.45</td>\n",
       "      <td>76.0</td>\n",
       "      <td>8.0</td>\n",
       "      <td>E</td>\n",
       "      <td>82.54</td>\n",
       "    </tr>\n",
       "    <tr>\n",
       "      <th>1</th>\n",
       "      <td>Super Mario Bros.</td>\n",
       "      <td>NES</td>\n",
       "      <td>1985.0</td>\n",
       "      <td>Platform</td>\n",
       "      <td>29.08</td>\n",
       "      <td>3.58</td>\n",
       "      <td>6.81</td>\n",
       "      <td>0.77</td>\n",
       "      <td>NaN</td>\n",
       "      <td>NaN</td>\n",
       "      <td>не определен</td>\n",
       "      <td>40.24</td>\n",
       "    </tr>\n",
       "    <tr>\n",
       "      <th>2</th>\n",
       "      <td>Mario Kart Wii</td>\n",
       "      <td>Wii</td>\n",
       "      <td>2008.0</td>\n",
       "      <td>Racing</td>\n",
       "      <td>15.68</td>\n",
       "      <td>12.76</td>\n",
       "      <td>3.79</td>\n",
       "      <td>3.29</td>\n",
       "      <td>82.0</td>\n",
       "      <td>8.3</td>\n",
       "      <td>E</td>\n",
       "      <td>35.52</td>\n",
       "    </tr>\n",
       "    <tr>\n",
       "      <th>3</th>\n",
       "      <td>Wii Sports Resort</td>\n",
       "      <td>Wii</td>\n",
       "      <td>2009.0</td>\n",
       "      <td>Sports</td>\n",
       "      <td>15.61</td>\n",
       "      <td>10.93</td>\n",
       "      <td>3.28</td>\n",
       "      <td>2.95</td>\n",
       "      <td>80.0</td>\n",
       "      <td>8.0</td>\n",
       "      <td>E</td>\n",
       "      <td>32.77</td>\n",
       "    </tr>\n",
       "    <tr>\n",
       "      <th>4</th>\n",
       "      <td>Pokemon Red/Pokemon Blue</td>\n",
       "      <td>GB</td>\n",
       "      <td>1996.0</td>\n",
       "      <td>Role-Playing</td>\n",
       "      <td>11.27</td>\n",
       "      <td>8.89</td>\n",
       "      <td>10.22</td>\n",
       "      <td>1.00</td>\n",
       "      <td>NaN</td>\n",
       "      <td>NaN</td>\n",
       "      <td>не определен</td>\n",
       "      <td>31.38</td>\n",
       "    </tr>\n",
       "  </tbody>\n",
       "</table>\n",
       "</div>"
      ],
      "text/plain": [
       "                       name platform  year_of_release         genre  na_sales  \\\n",
       "0                Wii Sports      Wii           2006.0        Sports     41.36   \n",
       "1         Super Mario Bros.      NES           1985.0      Platform     29.08   \n",
       "2            Mario Kart Wii      Wii           2008.0        Racing     15.68   \n",
       "3         Wii Sports Resort      Wii           2009.0        Sports     15.61   \n",
       "4  Pokemon Red/Pokemon Blue       GB           1996.0  Role-Playing     11.27   \n",
       "\n",
       "   eu_sales  jp_sales  other_sales  critic_score  user_score        rating  \\\n",
       "0     28.96      3.77         8.45          76.0         8.0             E   \n",
       "1      3.58      6.81         0.77           NaN         NaN  не определен   \n",
       "2     12.76      3.79         3.29          82.0         8.3             E   \n",
       "3     10.93      3.28         2.95          80.0         8.0             E   \n",
       "4      8.89     10.22         1.00           NaN         NaN  не определен   \n",
       "\n",
       "   total_sales  \n",
       "0        82.54  \n",
       "1        40.24  \n",
       "2        35.52  \n",
       "3        32.77  \n",
       "4        31.38  "
      ]
     },
     "metadata": {},
     "output_type": "display_data"
    }
   ],
   "source": [
    "#Посчитаем суммарные продажи во всех регионах и запишем их в отдельный столбец.\n",
    "data['total_sales'] = data['na_sales'] + data['eu_sales'] + data['jp_sales'] + data['other_sales']\n",
    "display(data.head())"
   ]
  },
  {
   "cell_type": "markdown",
   "metadata": {},
   "source": [
    "**Вывод**: обработали пропуски в столбце 'rating' - заменили на значение \"не определен\", проанализировали пропуски в столбцах name, year_of_release, genre, заменили значения \"tbd\" из столбца 'user_score' на NaN, данные по оценкам пользователей и критиков отфильтруем позже, изменили тип данных, где было целесообразно, добавили столбец с суммарными продажами. Таким образом, мы подготовили датасет к дальнейшему анализу."
   ]
  },
  {
   "cell_type": "markdown",
   "metadata": {},
   "source": [
    "# 3 Исследовательский анализ данных"
   ]
  },
  {
   "cell_type": "code",
   "execution_count": 11,
   "metadata": {
    "scrolled": true
   },
   "outputs": [
    {
     "data": {
      "text/plain": [
       "<AxesSubplot:xlabel='year_of_release'>"
      ]
     },
     "execution_count": 11,
     "metadata": {},
     "output_type": "execute_result"
    },
    {
     "data": {
      "image/png": "[encoded data removed]",
      "text/plain": [
       "<Figure size 1080x360 with 1 Axes>"
      ]
     },
     "metadata": {
      "needs_background": "light"
     },
     "output_type": "display_data"
    }
   ],
   "source": [
    "#Посмотрим, сколько игр выпускалось в разные годы\n",
    "data.groupby('year_of_release')['year_of_release'].count().plot(kind='bar', rot=100, figsize=(15,5))"
   ]
  },
  {
   "cell_type": "markdown",
   "metadata": {},
   "source": [
    "Вывод: до 1995 года количество игр небольшое, поэтому анализ этих годов не показателен для прогнозирования."
   ]
  },
  {
   "cell_type": "code",
   "execution_count": 12,
   "metadata": {},
   "outputs": [],
   "source": [
    "# отбросим данные до 1995 года\n",
    "data=data[data['year_of_release'] >= 1995]"
   ]
  },
  {
   "cell_type": "code",
   "execution_count": 13,
   "metadata": {},
   "outputs": [
    {
     "data": {
      "text/plain": [
       "Index(['3DS', 'PSP', 'GBA', 'PS4', 'PS', 'DS', 'Wii', 'PS3', 'X360', 'PS2'], dtype='object', name='platform')"
      ]
     },
     "metadata": {},
     "output_type": "display_data"
    }
   ],
   "source": [
    "#Посмотрим платформы с наибольшими суммарными продажами\n",
    "top_10 = data.groupby('platform').agg({'total_sales': 'sum'}).sort_values(by = 'total_sales').tail(10).index\n",
    "display(top_10)"
   ]
  },
  {
   "cell_type": "code",
   "execution_count": 14,
   "metadata": {
    "scrolled": true
   },
   "outputs": [
    {
     "data": {
      "text/plain": [
       "<AxesSubplot:xlabel='year_of_release'>"
      ]
     },
     "execution_count": 14,
     "metadata": {},
     "output_type": "execute_result"
    },
    {
     "data": {
      "image/png": "[encoded data removed]",
      "text/plain": [
       "<Figure size 1080x360 with 1 Axes>"
      ]
     },
     "metadata": {
      "needs_background": "light"
     },
     "output_type": "display_data"
    }
   ],
   "source": [
    "#Построим распределение по годам\n",
    "data.pivot_table(index = 'year_of_release', columns = 'platform', values = 'total_sales', aggfunc = 'sum' ).plot(figsize=(15,5))"
   ]
  },
  {
   "cell_type": "code",
   "execution_count": 15,
   "metadata": {},
   "outputs": [
    {
     "data": {
      "text/html": [
       "<div>\n",
       "<style scoped>\n",
       "    .dataframe tbody tr th:only-of-type {\n",
       "        vertical-align: middle;\n",
       "    }\n",
       "\n",
       "    .dataframe tbody tr th {\n",
       "        vertical-align: top;\n",
       "    }\n",
       "\n",
       "    .dataframe thead th {\n",
       "        text-align: right;\n",
       "    }\n",
       "</style>\n",
       "<table border=\"1\" class=\"dataframe\">\n",
       "  <thead>\n",
       "    <tr style=\"text-align: right;\">\n",
       "      <th></th>\n",
       "      <th>year_of_release</th>\n",
       "    </tr>\n",
       "    <tr>\n",
       "      <th>platform</th>\n",
       "      <th></th>\n",
       "    </tr>\n",
       "  </thead>\n",
       "  <tbody>\n",
       "    <tr>\n",
       "      <th>3DS</th>\n",
       "      <td>6</td>\n",
       "    </tr>\n",
       "    <tr>\n",
       "      <th>DS</th>\n",
       "      <td>9</td>\n",
       "    </tr>\n",
       "    <tr>\n",
       "      <th>GB</th>\n",
       "      <td>4</td>\n",
       "    </tr>\n",
       "    <tr>\n",
       "      <th>GBA</th>\n",
       "      <td>5</td>\n",
       "    </tr>\n",
       "    <tr>\n",
       "      <th>GC</th>\n",
       "      <td>6</td>\n",
       "    </tr>\n",
       "    <tr>\n",
       "      <th>N64</th>\n",
       "      <td>5</td>\n",
       "    </tr>\n",
       "    <tr>\n",
       "      <th>PC</th>\n",
       "      <td>10</td>\n",
       "    </tr>\n",
       "    <tr>\n",
       "      <th>PS</th>\n",
       "      <td>7</td>\n",
       "    </tr>\n",
       "    <tr>\n",
       "      <th>PS2</th>\n",
       "      <td>10</td>\n",
       "    </tr>\n",
       "    <tr>\n",
       "      <th>PS3</th>\n",
       "      <td>10</td>\n",
       "    </tr>\n",
       "    <tr>\n",
       "      <th>PS4</th>\n",
       "      <td>4</td>\n",
       "    </tr>\n",
       "    <tr>\n",
       "      <th>PSP</th>\n",
       "      <td>7</td>\n",
       "    </tr>\n",
       "    <tr>\n",
       "      <th>PSV</th>\n",
       "      <td>3</td>\n",
       "    </tr>\n",
       "    <tr>\n",
       "      <th>SAT</th>\n",
       "      <td>1</td>\n",
       "    </tr>\n",
       "    <tr>\n",
       "      <th>SNES</th>\n",
       "      <td>2</td>\n",
       "    </tr>\n",
       "    <tr>\n",
       "      <th>Wii</th>\n",
       "      <td>7</td>\n",
       "    </tr>\n",
       "    <tr>\n",
       "      <th>WiiU</th>\n",
       "      <td>4</td>\n",
       "    </tr>\n",
       "    <tr>\n",
       "      <th>X360</th>\n",
       "      <td>10</td>\n",
       "    </tr>\n",
       "    <tr>\n",
       "      <th>XB</th>\n",
       "      <td>6</td>\n",
       "    </tr>\n",
       "    <tr>\n",
       "      <th>XOne</th>\n",
       "      <td>4</td>\n",
       "    </tr>\n",
       "  </tbody>\n",
       "</table>\n",
       "</div>"
      ],
      "text/plain": [
       "          year_of_release\n",
       "platform                 \n",
       "3DS                     6\n",
       "DS                      9\n",
       "GB                      4\n",
       "GBA                     5\n",
       "GC                      6\n",
       "N64                     5\n",
       "PC                     10\n",
       "PS                      7\n",
       "PS2                    10\n",
       "PS3                    10\n",
       "PS4                     4\n",
       "PSP                     7\n",
       "PSV                     3\n",
       "SAT                     1\n",
       "SNES                    2\n",
       "Wii                     7\n",
       "WiiU                    4\n",
       "X360                   10\n",
       "XB                      6\n",
       "XOne                    4"
      ]
     },
     "metadata": {},
     "output_type": "display_data"
    },
    {
     "data": {
      "text/plain": [
       "year_of_release    3.0\n",
       "dtype: float64"
      ]
     },
     "execution_count": 15,
     "metadata": {},
     "output_type": "execute_result"
    }
   ],
   "source": [
    "# Установим минимальные значения продажи в миллионах, чтобы отбросить данные с медленным угасанием продаж по платформе\n",
    "min_sales = 10\n",
    "# суммарные продажи в год выше порога\n",
    "report = data.groupby(['platform', 'year_of_release']).agg({'total_sales':'sum'}).query('total_sales > @min_sales')\n",
    "# посмотрим время жизни каждой платформы\n",
    "report = report.reset_index().groupby('platform').agg({'year_of_release': 'nunique'})\n",
    "display(report)\n",
    "# определим средний период актуальности платформы - среднее число лет выше порога продаж, деленное на 2,\n",
    "# т.к. половину жизни платформа падает\n",
    "report.mean()/2"
   ]
  },
  {
   "cell_type": "markdown",
   "metadata": {},
   "source": [
    "Вывод: Средний жиненный цикл платформы - 6 лет. Половину из этого срока продажи по платформе падают, таким образом, актуальным периодом для прогноза на 2017 год следует считать период с 2013 по 2016гг."
   ]
  },
  {
   "cell_type": "code",
   "execution_count": 16,
   "metadata": {
    "scrolled": true
   },
   "outputs": [
    {
     "name": "stdout",
     "output_type": "stream",
     "text": [
      "<class 'pandas.core.frame.DataFrame'>\n",
      "Int64Index: 2233 entries, 16 to 16714\n",
      "Data columns (total 12 columns):\n",
      " #   Column           Non-Null Count  Dtype  \n",
      "---  ------           --------------  -----  \n",
      " 0   name             2233 non-null   object \n",
      " 1   platform         2233 non-null   object \n",
      " 2   year_of_release  2233 non-null   float64\n",
      " 3   genre            2233 non-null   object \n",
      " 4   na_sales         2233 non-null   float64\n",
      " 5   eu_sales         2233 non-null   float64\n",
      " 6   jp_sales         2233 non-null   float64\n",
      " 7   other_sales      2233 non-null   float64\n",
      " 8   critic_score     991 non-null    float64\n",
      " 9   user_score       1192 non-null   float64\n",
      " 10  rating           2233 non-null   object \n",
      " 11  total_sales      2233 non-null   float64\n",
      "dtypes: float64(8), object(4)\n",
      "memory usage: 226.8+ KB\n"
     ]
    },
    {
     "data": {
      "text/plain": [
       "None"
      ]
     },
     "metadata": {},
     "output_type": "display_data"
    }
   ],
   "source": [
    "# Сделаем срез по актуальному периоду\n",
    "data = data.query('year_of_release >= 2013')\n",
    "display(data.info())"
   ]
  },
  {
   "cell_type": "code",
   "execution_count": 17,
   "metadata": {
    "scrolled": true
   },
   "outputs": [
    {
     "data": {
      "text/plain": [
       "['X360', '3DS', 'XOne', 'PS3', 'PS4']"
      ]
     },
     "metadata": {},
     "output_type": "display_data"
    },
    {
     "data": {
      "text/plain": [
       "<AxesSubplot:xlabel='year_of_release'>"
      ]
     },
     "execution_count": 17,
     "metadata": {},
     "output_type": "execute_result"
    },
    {
     "data": {
      "image/png": "[encoded data removed]",
      "text/plain": [
       "<Figure size 720x720 with 1 Axes>"
      ]
     },
     "metadata": {
      "needs_background": "light"
     },
     "output_type": "display_data"
    }
   ],
   "source": [
    "# Выберем пять наиболее прибыльных платформ\n",
    "top_5 = list(data.groupby('platform').agg({'total_sales': 'sum'}).sort_values(by = 'total_sales').tail(5).index)\n",
    "display(top_5)\n",
    "data_top_5 = data.query('platform in @top_5')\n",
    "#Построим распределение по годам\n",
    "data_top_5.pivot_table(index = 'year_of_release', columns = 'platform', values = 'total_sales', aggfunc = 'sum' ).plot(figsize=(10,10))"
   ]
  },
  {
   "cell_type": "markdown",
   "metadata": {},
   "source": [
    "Вывод: таким образом, исходя из графика, потенциально прибыльные платформы - PS4, XOne, 3DS."
   ]
  },
  {
   "cell_type": "code",
   "execution_count": 18,
   "metadata": {},
   "outputs": [],
   "source": [
    "top_3 = ['PS4', 'XOne', '3DS']\n",
    "data_top_3 = data.query('platform in @top_3')"
   ]
  },
  {
   "cell_type": "code",
   "execution_count": 19,
   "metadata": {
    "scrolled": true
   },
   "outputs": [
    {
     "data": {
      "text/plain": [
       "Text(0.5, 0.98, '')"
      ]
     },
     "execution_count": 19,
     "metadata": {},
     "output_type": "execute_result"
    },
    {
     "data": {
      "image/png": "[encoded data removed]",
      "text/plain": [
       "<Figure size 504x504 with 1 Axes>"
      ]
     },
     "metadata": {
      "needs_background": "light"
     },
     "output_type": "display_data"
    }
   ],
   "source": [
    "#Построим график «ящик с усами» по глобальным продажам игр в разбивке по платформам\n",
    "\n",
    "data_top_3.boxplot(column = 'total_sales', by = 'platform', figsize=(7,7));\n",
    "plt.ylim(0, 2)\n",
    "plt.suptitle('')"
   ]
  },
  {
   "cell_type": "markdown",
   "metadata": {},
   "source": [
    "**Вывод**: Судя по медианным продажам выбранных потенциально прибыльных платформ, больше всего продаж у XOne (0.25), меньше - у 3DS (0.075)."
   ]
  },
  {
   "cell_type": "code",
   "execution_count": 20,
   "metadata": {
    "scrolled": false
   },
   "outputs": [
    {
     "data": {
      "text/plain": [
       "<matplotlib.legend.Legend at 0x7fccc780c790>"
      ]
     },
     "execution_count": 20,
     "metadata": {},
     "output_type": "execute_result"
    },
    {
     "data": {
      "image/png": "[encoded data removed]",
      "text/plain": [
       "<Figure size 432x288 with 1 Axes>"
      ]
     },
     "metadata": {
      "needs_background": "light"
     },
     "output_type": "display_data"
    }
   ],
   "source": [
    "#Посмотрим, как соотносятся отзывы пользователей и критиков\n",
    "data_filtered = data.dropna()\n",
    "data_XOne = data_filtered[data_filtered['platform'] == 'XOne']\n",
    "data_PS4 = data_filtered[data_filtered['platform'] == 'PS4']\n",
    "data_3DS = data_filtered[data_filtered['platform'] == '3DS']\n",
    "ax = data_XOne.plot(x='critic_score', y='user_score', style='o', label='XOne')\n",
    "data_PS4.plot(x='critic_score', y='user_score', style='x', ax=ax, label='PS4')\n",
    "data_3DS.plot(kind='scatter', x='critic_score', y='user_score', color='green', ax=ax, label='3DS')\n",
    "plt.legend()"
   ]
  },
  {
   "cell_type": "markdown",
   "metadata": {},
   "source": [
    "Вывод: имеется тенденция к совпадению оценок пользователей и критиков."
   ]
  },
  {
   "cell_type": "code",
   "execution_count": 21,
   "metadata": {},
   "outputs": [
    {
     "data": {
      "image/png": "[encoded data removed]",
      "text/plain": [
       "<Figure size 432x288 with 1 Axes>"
      ]
     },
     "metadata": {
      "needs_background": "light"
     },
     "output_type": "display_data"
    },
    {
     "data": {
      "image/png": "[encoded data removed]",
      "text/plain": [
       "<Figure size 432x288 with 1 Axes>"
      ]
     },
     "metadata": {
      "needs_background": "light"
     },
     "output_type": "display_data"
    },
    {
     "name": "stdout",
     "output_type": "stream",
     "text": [
      "0.40589480145836687\n",
      "-0.03362497596528878\n"
     ]
    },
    {
     "data": {
      "image/png": "[encoded data removed]",
      "text/plain": [
       "<Figure size 432x288 with 1 Axes>"
      ]
     },
     "metadata": {
      "needs_background": "light"
     },
     "output_type": "display_data"
    },
    {
     "data": {
      "image/png": "[encoded data removed]",
      "text/plain": [
       "<Figure size 432x288 with 1 Axes>"
      ]
     },
     "metadata": {
      "needs_background": "light"
     },
     "output_type": "display_data"
    },
    {
     "name": "stdout",
     "output_type": "stream",
     "text": [
      "0.41042203561296375\n",
      "-0.09400318326920852\n"
     ]
    },
    {
     "data": {
      "image/png": "[encoded data removed]",
      "text/plain": [
       "<Figure size 432x288 with 1 Axes>"
      ]
     },
     "metadata": {
      "needs_background": "light"
     },
     "output_type": "display_data"
    },
    {
     "data": {
      "image/png": "[encoded data removed]",
      "text/plain": [
       "<Figure size 432x288 with 1 Axes>"
      ]
     },
     "metadata": {
      "needs_background": "light"
     },
     "output_type": "display_data"
    },
    {
     "name": "stdout",
     "output_type": "stream",
     "text": [
      "0.3392349287853147\n",
      "0.2729904366942444\n"
     ]
    }
   ],
   "source": [
    "# Посмотрим зависимость продаж от оценок на трех платформах\n",
    "for platform in top_3:\n",
    "    data_filtered.query('platform == @platform').plot(kind='scatter', x='critic_score', y='total_sales')\n",
    "    plt.title(platform)\n",
    "    plt.show()\n",
    "    data_filtered.query('platform == @platform').plot(kind='scatter', x='user_score', y='total_sales')\n",
    "    plt.title(platform)\n",
    "    plt.show()\n",
    "    print(data_filtered.query('platform == @platform')['critic_score'].corr(data_filtered.query('platform == @platform')['total_sales']))\n",
    "    print(data_filtered.query('platform == @platform')['user_score'].corr(data_filtered.query('platform == @platform')['total_sales']))"
   ]
  },
  {
   "cell_type": "markdown",
   "metadata": {},
   "source": [
    "Вывод: Коэффициент корреляции между оценками пользователей на платформах PS4 и XOne стремится к нулю, что говорит о нелинейном характере связи. Оценки критиков на выбранных платформах сильнее влияют на успешность игр - коэффициенты корреляции более значимы."
   ]
  },
  {
   "cell_type": "code",
   "execution_count": 22,
   "metadata": {
    "scrolled": true
   },
   "outputs": [
    {
     "data": {
      "text/plain": [
       "(array([ 1,  2,  3,  4,  5,  6,  7,  8,  9, 10, 11]),\n",
       " [Text(1, 0, 'Action'),\n",
       "  Text(2, 0, 'Adventure'),\n",
       "  Text(3, 0, 'Fighting'),\n",
       "  Text(4, 0, 'Misc'),\n",
       "  Text(5, 0, 'Platform'),\n",
       "  Text(6, 0, 'Racing'),\n",
       "  Text(7, 0, 'Role-Playing'),\n",
       "  Text(8, 0, 'Shooter'),\n",
       "  Text(9, 0, 'Simulation'),\n",
       "  Text(10, 0, 'Sports'),\n",
       "  Text(11, 0, 'Strategy')])"
      ]
     },
     "execution_count": 22,
     "metadata": {},
     "output_type": "execute_result"
    },
    {
     "data": {
      "image/png": "[encoded data removed]",
      "text/plain": [
       "<Figure size 432x288 with 1 Axes>"
      ]
     },
     "metadata": {
      "needs_background": "light"
     },
     "output_type": "display_data"
    }
   ],
   "source": [
    "#Построим диаграмму размаха по глобальным продажам игр в разбивке по жанрам\n",
    "\n",
    "data_XOne.boxplot(column = 'total_sales', by = 'genre');\n",
    "plt.ylim(0, 3)\n",
    "plt.suptitle('')\n",
    "plt.xticks(rotation='70')"
   ]
  },
  {
   "cell_type": "markdown",
   "metadata": {},
   "source": [
    "Вывод: наиболее прибыльный жанр - Shooter, наименее - adventure, simulation."
   ]
  },
  {
   "cell_type": "code",
   "execution_count": 23,
   "metadata": {
    "scrolled": true
   },
   "outputs": [
    {
     "data": {
      "text/plain": [
       "(array([ 1,  2,  3,  4,  5,  6,  7,  8,  9, 10, 11, 12]),\n",
       " [Text(1, 0, 'Action'),\n",
       "  Text(2, 0, 'Adventure'),\n",
       "  Text(3, 0, 'Fighting'),\n",
       "  Text(4, 0, 'Misc'),\n",
       "  Text(5, 0, 'Platform'),\n",
       "  Text(6, 0, 'Puzzle'),\n",
       "  Text(7, 0, 'Racing'),\n",
       "  Text(8, 0, 'Role-Playing'),\n",
       "  Text(9, 0, 'Shooter'),\n",
       "  Text(10, 0, 'Simulation'),\n",
       "  Text(11, 0, 'Sports'),\n",
       "  Text(12, 0, 'Strategy')])"
      ]
     },
     "execution_count": 23,
     "metadata": {},
     "output_type": "execute_result"
    },
    {
     "data": {
      "image/png": "[encoded data removed]",
      "text/plain": [
       "<Figure size 432x288 with 1 Axes>"
      ]
     },
     "metadata": {
      "needs_background": "light"
     },
     "output_type": "display_data"
    }
   ],
   "source": [
    "data_PS4.boxplot(column = 'total_sales', by = 'genre');\n",
    "plt.ylim(0, 3)\n",
    "plt.suptitle('')\n",
    "plt.xticks(rotation='70')"
   ]
  },
  {
   "cell_type": "markdown",
   "metadata": {},
   "source": [
    "Вывод: наиболее прибыльный жанр - так же Shooter, наименее - adventure, puzzle."
   ]
  },
  {
   "cell_type": "code",
   "execution_count": 24,
   "metadata": {
    "scrolled": true
   },
   "outputs": [
    {
     "data": {
      "text/plain": [
       "(array([ 1,  2,  3,  4,  5,  6,  7,  8,  9, 10]),\n",
       " [Text(1, 0, 'Action'),\n",
       "  Text(2, 0, 'Adventure'),\n",
       "  Text(3, 0, 'Fighting'),\n",
       "  Text(4, 0, 'Misc'),\n",
       "  Text(5, 0, 'Platform'),\n",
       "  Text(6, 0, 'Puzzle'),\n",
       "  Text(7, 0, 'Role-Playing'),\n",
       "  Text(8, 0, 'Simulation'),\n",
       "  Text(9, 0, 'Sports'),\n",
       "  Text(10, 0, 'Strategy')])"
      ]
     },
     "execution_count": 24,
     "metadata": {},
     "output_type": "execute_result"
    },
    {
     "data": {
      "image/png": "[encoded data removed]",
      "text/plain": [
       "<Figure size 432x288 with 1 Axes>"
      ]
     },
     "metadata": {
      "needs_background": "light"
     },
     "output_type": "display_data"
    }
   ],
   "source": [
    "data_3DS.boxplot(column = 'total_sales', by = 'genre');\n",
    "plt.ylim(0, 3)\n",
    "plt.suptitle('')\n",
    "plt.xticks(rotation='70')"
   ]
  },
  {
   "cell_type": "markdown",
   "metadata": {},
   "source": [
    "Вывод: наиболее прибыльный жанр - misc, simulation, наименее - puzzle."
   ]
  },
  {
   "cell_type": "markdown",
   "metadata": {},
   "source": [
    "Таким образом, у каждой платформы имеются жанры с высокими и низкими продажами, однако, у каждой они свои."
   ]
  },
  {
   "cell_type": "markdown",
   "metadata": {},
   "source": [
    "**Вывод**:\n",
    "1. Выяснили, что актуальным периодом для прогноза на 2017 год следует считать период с 2013 по 2016гг. \n",
    "2. Потенциально прибыльные платформы - PS4, XOne, 3DS.\n",
    "3. Имеется тенденция к совпадению оценок пользователей и критиков.\n",
    "4. Оценки критиков на выбранных платформах сильнее влияют на успешность игр - коэффициенты корреляции более значимы.\n",
    "5. У каждой платформы имеются жанры с высокими и низкими продажами, однако, у каждой они свои."
   ]
  },
  {
   "cell_type": "markdown",
   "metadata": {},
   "source": [
    "# 4 Составление портрета пользователя каждого региона"
   ]
  },
  {
   "cell_type": "code",
   "execution_count": 25,
   "metadata": {
    "scrolled": true
   },
   "outputs": [
    {
     "data": {
      "text/html": [
       "<div>\n",
       "<style scoped>\n",
       "    .dataframe tbody tr th:only-of-type {\n",
       "        vertical-align: middle;\n",
       "    }\n",
       "\n",
       "    .dataframe tbody tr th {\n",
       "        vertical-align: top;\n",
       "    }\n",
       "\n",
       "    .dataframe thead th {\n",
       "        text-align: right;\n",
       "    }\n",
       "</style>\n",
       "<table border=\"1\" class=\"dataframe\">\n",
       "  <thead>\n",
       "    <tr style=\"text-align: right;\">\n",
       "      <th></th>\n",
       "      <th>na_sales</th>\n",
       "      <th>% of total</th>\n",
       "    </tr>\n",
       "    <tr>\n",
       "      <th>platform</th>\n",
       "      <th></th>\n",
       "      <th></th>\n",
       "    </tr>\n",
       "  </thead>\n",
       "  <tbody>\n",
       "    <tr>\n",
       "      <th>PS4</th>\n",
       "      <td>108.74</td>\n",
       "      <td>0.248429</td>\n",
       "    </tr>\n",
       "    <tr>\n",
       "      <th>XOne</th>\n",
       "      <td>93.12</td>\n",
       "      <td>0.212744</td>\n",
       "    </tr>\n",
       "    <tr>\n",
       "      <th>X360</th>\n",
       "      <td>81.66</td>\n",
       "      <td>0.186562</td>\n",
       "    </tr>\n",
       "    <tr>\n",
       "      <th>PS3</th>\n",
       "      <td>63.50</td>\n",
       "      <td>0.145073</td>\n",
       "    </tr>\n",
       "    <tr>\n",
       "      <th>3DS</th>\n",
       "      <td>38.20</td>\n",
       "      <td>0.087272</td>\n",
       "    </tr>\n",
       "  </tbody>\n",
       "</table>\n",
       "</div>"
      ],
      "text/plain": [
       "          na_sales  % of total\n",
       "platform                      \n",
       "PS4         108.74    0.248429\n",
       "XOne         93.12    0.212744\n",
       "X360         81.66    0.186562\n",
       "PS3          63.50    0.145073\n",
       "3DS          38.20    0.087272"
      ]
     },
     "metadata": {},
     "output_type": "display_data"
    },
    {
     "data": {
      "text/html": [
       "<div>\n",
       "<style scoped>\n",
       "    .dataframe tbody tr th:only-of-type {\n",
       "        vertical-align: middle;\n",
       "    }\n",
       "\n",
       "    .dataframe tbody tr th {\n",
       "        vertical-align: top;\n",
       "    }\n",
       "\n",
       "    .dataframe thead th {\n",
       "        text-align: right;\n",
       "    }\n",
       "</style>\n",
       "<table border=\"1\" class=\"dataframe\">\n",
       "  <thead>\n",
       "    <tr style=\"text-align: right;\">\n",
       "      <th></th>\n",
       "      <th>eu_sales</th>\n",
       "      <th>% of total</th>\n",
       "    </tr>\n",
       "    <tr>\n",
       "      <th>platform</th>\n",
       "      <th></th>\n",
       "      <th></th>\n",
       "    </tr>\n",
       "  </thead>\n",
       "  <tbody>\n",
       "    <tr>\n",
       "      <th>PS4</th>\n",
       "      <td>141.09</td>\n",
       "      <td>0.359712</td>\n",
       "    </tr>\n",
       "    <tr>\n",
       "      <th>PS3</th>\n",
       "      <td>67.81</td>\n",
       "      <td>0.172883</td>\n",
       "    </tr>\n",
       "    <tr>\n",
       "      <th>XOne</th>\n",
       "      <td>51.59</td>\n",
       "      <td>0.131530</td>\n",
       "    </tr>\n",
       "    <tr>\n",
       "      <th>X360</th>\n",
       "      <td>42.52</td>\n",
       "      <td>0.108406</td>\n",
       "    </tr>\n",
       "    <tr>\n",
       "      <th>3DS</th>\n",
       "      <td>30.96</td>\n",
       "      <td>0.078933</td>\n",
       "    </tr>\n",
       "  </tbody>\n",
       "</table>\n",
       "</div>"
      ],
      "text/plain": [
       "          eu_sales  % of total\n",
       "platform                      \n",
       "PS4         141.09    0.359712\n",
       "PS3          67.81    0.172883\n",
       "XOne         51.59    0.131530\n",
       "X360         42.52    0.108406\n",
       "3DS          30.96    0.078933"
      ]
     },
     "metadata": {},
     "output_type": "display_data"
    },
    {
     "data": {
      "text/html": [
       "<div>\n",
       "<style scoped>\n",
       "    .dataframe tbody tr th:only-of-type {\n",
       "        vertical-align: middle;\n",
       "    }\n",
       "\n",
       "    .dataframe tbody tr th {\n",
       "        vertical-align: top;\n",
       "    }\n",
       "\n",
       "    .dataframe thead th {\n",
       "        text-align: right;\n",
       "    }\n",
       "</style>\n",
       "<table border=\"1\" class=\"dataframe\">\n",
       "  <thead>\n",
       "    <tr style=\"text-align: right;\">\n",
       "      <th></th>\n",
       "      <th>jp_sales</th>\n",
       "      <th>% of total</th>\n",
       "    </tr>\n",
       "    <tr>\n",
       "      <th>platform</th>\n",
       "      <th></th>\n",
       "      <th></th>\n",
       "    </tr>\n",
       "  </thead>\n",
       "  <tbody>\n",
       "    <tr>\n",
       "      <th>3DS</th>\n",
       "      <td>67.81</td>\n",
       "      <td>0.481674</td>\n",
       "    </tr>\n",
       "    <tr>\n",
       "      <th>PS3</th>\n",
       "      <td>23.35</td>\n",
       "      <td>0.165862</td>\n",
       "    </tr>\n",
       "    <tr>\n",
       "      <th>PSV</th>\n",
       "      <td>18.59</td>\n",
       "      <td>0.132050</td>\n",
       "    </tr>\n",
       "    <tr>\n",
       "      <th>PS4</th>\n",
       "      <td>15.96</td>\n",
       "      <td>0.113368</td>\n",
       "    </tr>\n",
       "    <tr>\n",
       "      <th>WiiU</th>\n",
       "      <td>10.88</td>\n",
       "      <td>0.077284</td>\n",
       "    </tr>\n",
       "  </tbody>\n",
       "</table>\n",
       "</div>"
      ],
      "text/plain": [
       "          jp_sales  % of total\n",
       "platform                      \n",
       "3DS          67.81    0.481674\n",
       "PS3          23.35    0.165862\n",
       "PSV          18.59    0.132050\n",
       "PS4          15.96    0.113368\n",
       "WiiU         10.88    0.077284"
      ]
     },
     "metadata": {},
     "output_type": "display_data"
    }
   ],
   "source": [
    "# Определим самые популярные платформы для пользователей каждого региона\n",
    "def get_top_5(region):\n",
    "    report = data.groupby('platform').agg({region: 'sum'})\n",
    "    report['% of total'] = report[region] / report[region].sum()\n",
    "    return report.sort_values(by = region, ascending=False).head(5)\n",
    "    \n",
    "display(get_top_5('na_sales'))\n",
    "display(get_top_5('eu_sales'))\n",
    "display(get_top_5('jp_sales'))"
   ]
  },
  {
   "cell_type": "markdown",
   "metadata": {},
   "source": [
    "Вывод: В Северной Америке и в Европе в продажах преобладает платформа PS4, а в Японии - платформа 3DS (PS4 лишь на 4-ом месте). В Северной Америке на втором месте - платформа XOne (уступает PS4 всего лишь 4%), тогда как в Европе на втором месте платформа PS3 с отрывом уже в 19%."
   ]
  },
  {
   "cell_type": "code",
   "execution_count": 26,
   "metadata": {
    "scrolled": true
   },
   "outputs": [
    {
     "data": {
      "text/plain": [
       "['Misc', 'Role-Playing', 'Sports', 'Shooter', 'Action']"
      ]
     },
     "metadata": {},
     "output_type": "display_data"
    },
    {
     "data": {
      "text/plain": [
       "['Racing', 'Role-Playing', 'Sports', 'Shooter', 'Action']"
      ]
     },
     "metadata": {},
     "output_type": "display_data"
    },
    {
     "data": {
      "text/plain": [
       "['Shooter', 'Fighting', 'Misc', 'Action', 'Role-Playing']"
      ]
     },
     "metadata": {},
     "output_type": "display_data"
    }
   ],
   "source": [
    "# Определим самые популярные жанры для пользователей каждого региона\n",
    "\n",
    "def get_top_5(region):\n",
    "    top_5 = list(data.groupby('genre').agg({region: 'sum'}).sort_values(by = region).tail(5).index) \n",
    "    display(top_5)\n",
    "    \n",
    "get_top_5('na_sales')\n",
    "get_top_5('eu_sales')\n",
    "get_top_5('jp_sales')"
   ]
  },
  {
   "cell_type": "markdown",
   "metadata": {},
   "source": [
    "Вывод: В Северной Америке на первом месте по популярности жанр Misc, в Европе - Racing, далее на 2-5 местах жанры одинаковые.В Японии популярные жанры значимо отличаются."
   ]
  },
  {
   "cell_type": "code",
   "execution_count": 27,
   "metadata": {
    "scrolled": true
   },
   "outputs": [
    {
     "data": {
      "text/html": [
       "<div>\n",
       "<style scoped>\n",
       "    .dataframe tbody tr th:only-of-type {\n",
       "        vertical-align: middle;\n",
       "    }\n",
       "\n",
       "    .dataframe tbody tr th {\n",
       "        vertical-align: top;\n",
       "    }\n",
       "\n",
       "    .dataframe thead th {\n",
       "        text-align: right;\n",
       "    }\n",
       "</style>\n",
       "<table border=\"1\" class=\"dataframe\">\n",
       "  <thead>\n",
       "    <tr style=\"text-align: right;\">\n",
       "      <th></th>\n",
       "      <th>na_sales</th>\n",
       "      <th>% of total</th>\n",
       "    </tr>\n",
       "    <tr>\n",
       "      <th>rating</th>\n",
       "      <th></th>\n",
       "      <th></th>\n",
       "    </tr>\n",
       "  </thead>\n",
       "  <tbody>\n",
       "    <tr>\n",
       "      <th>M</th>\n",
       "      <td>165.21</td>\n",
       "      <td>0.377442</td>\n",
       "    </tr>\n",
       "    <tr>\n",
       "      <th>не определен</th>\n",
       "      <td>89.42</td>\n",
       "      <td>0.204291</td>\n",
       "    </tr>\n",
       "    <tr>\n",
       "      <th>E</th>\n",
       "      <td>79.05</td>\n",
       "      <td>0.180599</td>\n",
       "    </tr>\n",
       "    <tr>\n",
       "      <th>E10+</th>\n",
       "      <td>54.24</td>\n",
       "      <td>0.123918</td>\n",
       "    </tr>\n",
       "    <tr>\n",
       "      <th>T</th>\n",
       "      <td>49.79</td>\n",
       "      <td>0.113751</td>\n",
       "    </tr>\n",
       "  </tbody>\n",
       "</table>\n",
       "</div>"
      ],
      "text/plain": [
       "              na_sales  % of total\n",
       "rating                            \n",
       "M               165.21    0.377442\n",
       "не определен     89.42    0.204291\n",
       "E                79.05    0.180599\n",
       "E10+             54.24    0.123918\n",
       "T                49.79    0.113751"
      ]
     },
     "metadata": {},
     "output_type": "display_data"
    },
    {
     "data": {
      "text/html": [
       "<div>\n",
       "<style scoped>\n",
       "    .dataframe tbody tr th:only-of-type {\n",
       "        vertical-align: middle;\n",
       "    }\n",
       "\n",
       "    .dataframe tbody tr th {\n",
       "        vertical-align: top;\n",
       "    }\n",
       "\n",
       "    .dataframe thead th {\n",
       "        text-align: right;\n",
       "    }\n",
       "</style>\n",
       "<table border=\"1\" class=\"dataframe\">\n",
       "  <thead>\n",
       "    <tr style=\"text-align: right;\">\n",
       "      <th></th>\n",
       "      <th>eu_sales</th>\n",
       "      <th>% of total</th>\n",
       "    </tr>\n",
       "    <tr>\n",
       "      <th>rating</th>\n",
       "      <th></th>\n",
       "      <th></th>\n",
       "    </tr>\n",
       "  </thead>\n",
       "  <tbody>\n",
       "    <tr>\n",
       "      <th>M</th>\n",
       "      <td>145.32</td>\n",
       "      <td>0.370497</td>\n",
       "    </tr>\n",
       "    <tr>\n",
       "      <th>E</th>\n",
       "      <td>83.36</td>\n",
       "      <td>0.212528</td>\n",
       "    </tr>\n",
       "    <tr>\n",
       "      <th>не определен</th>\n",
       "      <td>78.91</td>\n",
       "      <td>0.201183</td>\n",
       "    </tr>\n",
       "    <tr>\n",
       "      <th>E10+</th>\n",
       "      <td>42.69</td>\n",
       "      <td>0.108839</td>\n",
       "    </tr>\n",
       "    <tr>\n",
       "      <th>T</th>\n",
       "      <td>41.95</td>\n",
       "      <td>0.106953</td>\n",
       "    </tr>\n",
       "  </tbody>\n",
       "</table>\n",
       "</div>"
      ],
      "text/plain": [
       "              eu_sales  % of total\n",
       "rating                            \n",
       "M               145.32    0.370497\n",
       "E                83.36    0.212528\n",
       "не определен     78.91    0.201183\n",
       "E10+             42.69    0.108839\n",
       "T                41.95    0.106953"
      ]
     },
     "metadata": {},
     "output_type": "display_data"
    },
    {
     "data": {
      "text/html": [
       "<div>\n",
       "<style scoped>\n",
       "    .dataframe tbody tr th:only-of-type {\n",
       "        vertical-align: middle;\n",
       "    }\n",
       "\n",
       "    .dataframe tbody tr th {\n",
       "        vertical-align: top;\n",
       "    }\n",
       "\n",
       "    .dataframe thead th {\n",
       "        text-align: right;\n",
       "    }\n",
       "</style>\n",
       "<table border=\"1\" class=\"dataframe\">\n",
       "  <thead>\n",
       "    <tr style=\"text-align: right;\">\n",
       "      <th></th>\n",
       "      <th>jp_sales</th>\n",
       "      <th>% of total</th>\n",
       "    </tr>\n",
       "    <tr>\n",
       "      <th>rating</th>\n",
       "      <th></th>\n",
       "      <th></th>\n",
       "    </tr>\n",
       "  </thead>\n",
       "  <tbody>\n",
       "    <tr>\n",
       "      <th>не определен</th>\n",
       "      <td>85.05</td>\n",
       "      <td>0.604134</td>\n",
       "    </tr>\n",
       "    <tr>\n",
       "      <th>T</th>\n",
       "      <td>20.59</td>\n",
       "      <td>0.146257</td>\n",
       "    </tr>\n",
       "    <tr>\n",
       "      <th>E</th>\n",
       "      <td>15.14</td>\n",
       "      <td>0.107544</td>\n",
       "    </tr>\n",
       "    <tr>\n",
       "      <th>M</th>\n",
       "      <td>14.11</td>\n",
       "      <td>0.100227</td>\n",
       "    </tr>\n",
       "    <tr>\n",
       "      <th>E10+</th>\n",
       "      <td>5.89</td>\n",
       "      <td>0.041838</td>\n",
       "    </tr>\n",
       "  </tbody>\n",
       "</table>\n",
       "</div>"
      ],
      "text/plain": [
       "              jp_sales  % of total\n",
       "rating                            \n",
       "не определен     85.05    0.604134\n",
       "T                20.59    0.146257\n",
       "E                15.14    0.107544\n",
       "M                14.11    0.100227\n",
       "E10+              5.89    0.041838"
      ]
     },
     "metadata": {},
     "output_type": "display_data"
    }
   ],
   "source": [
    "# Определим, какой рейтинг ESRB преобладает для пользователей каждого региона\n",
    "\n",
    "def get_top_5(region):\n",
    "    report = data.groupby('rating').agg({region: 'sum'})\n",
    "    report['% of total'] = report[region] / report[region].sum()\n",
    "    return report.sort_values(by = region, ascending=False).head(5)\n",
    "    \n",
    "display(get_top_5('na_sales'))\n",
    "display(get_top_5('eu_sales'))\n",
    "display(get_top_5('jp_sales'))"
   ]
  },
  {
   "cell_type": "markdown",
   "metadata": {},
   "source": [
    "Вывод: В Северной Америке и в Европе на продажи значимо влияет категория М(старше 17 лет) системы рейтинга ESRB, в Японии невозможно это оценить ввиду того, что на первом месте рейтинг \"не определен\"."
   ]
  },
  {
   "cell_type": "markdown",
   "metadata": {},
   "source": [
    "**Вывод**:\n",
    "1. В Северной Америке и в Европе схожий портрет пользователя: в продажах преобладает платформа PS4, в жанрах преобладают 'Role-Playing', 'Sports', 'Shooter', 'Action' (однако, в Северной Америке на первом месте по популярности жанр Misc, в Европе - Racing), на продажи значимо влияет категория М(старше 17 лет) системы рейтинга ESRB.\n",
    "2. В Японии преобладает в продажах платформа 3DS, самые популярные жанры - 'Shooter', 'Fighting'. Такие отличия связаны, видимо, с разницей культур."
   ]
  },
  {
   "cell_type": "markdown",
   "metadata": {},
   "source": [
    "# 5 Проверка гипотез"
   ]
  },
  {
   "cell_type": "markdown",
   "metadata": {},
   "source": [
    "Формулируем нулевую гипотезу для условия равенства. Для проверки двусторонних гипотез используем t-тест."
   ]
  },
  {
   "cell_type": "markdown",
   "metadata": {},
   "source": [
    "Нулевая гипотеза 1: Средние пользовательские рейтинги платформ Xbox One и PC одинаковые.\n",
    "\n",
    "Альтернативная гипотеза 1: Средние пользовательские рейтинги платформ Xbox One и PC различаются."
   ]
  },
  {
   "cell_type": "code",
   "execution_count": 28,
   "metadata": {},
   "outputs": [],
   "source": [
    "# Подготовим датасеты с данными по платформам Xbox One и PC.\n",
    "data_XOne = data_filtered[data_filtered['platform'] == 'XOne']\n",
    "data_PC = data_filtered[data_filtered['platform'] == 'PC']"
   ]
  },
  {
   "cell_type": "code",
   "execution_count": 29,
   "metadata": {},
   "outputs": [
    {
     "name": "stdout",
     "output_type": "stream",
     "text": [
      "p-значение:  0.17306926618147322\n",
      "Не получилось отвергнуть нулевую гипотезу\n"
     ]
    }
   ],
   "source": [
    "alpha = .05\n",
    "results = st.ttest_ind(\n",
    "    data_XOne['user_score'], \n",
    "    data_PC['user_score'])\n",
    "\n",
    "print('p-значение: ', results.pvalue)\n",
    "\n",
    "if results.pvalue < alpha:\n",
    "    print(\"Отвергаем нулевую гипотезу\")\n",
    "else:\n",
    "    print(\"Не получилось отвергнуть нулевую гипотезу\") "
   ]
  },
  {
   "cell_type": "markdown",
   "metadata": {},
   "source": [
    "Нулевая гипотеза 2: Средние пользовательские рейтинги жанров Action (англ. «действие», экшенигры) и Sports (англ. «спортивные соревнования») одинаковые.\n",
    "\n",
    "Альтернативная гипотеза 2: Средние пользовательские рейтинги жанров Action (англ. «действие», экшенигры) и Sports (англ. «спортиные соревнования») разные."
   ]
  },
  {
   "cell_type": "code",
   "execution_count": 30,
   "metadata": {},
   "outputs": [],
   "source": [
    "# Подготовим датасеты с данными по жанрам Action и Sports.\n",
    "data_action = data_filtered[data_filtered['genre'] == 'Action']\n",
    "data_sports = data_filtered[data_filtered['genre'] == 'Sports']"
   ]
  },
  {
   "cell_type": "code",
   "execution_count": 31,
   "metadata": {},
   "outputs": [
    {
     "name": "stdout",
     "output_type": "stream",
     "text": [
      "p-значение:  1.684099430689953e-16\n",
      "Отвергаем нулевую гипотезу\n"
     ]
    }
   ],
   "source": [
    "alpha = .05\n",
    "results = st.ttest_ind(\n",
    "    data_action['user_score'], \n",
    "    data_sports['user_score'])\n",
    "\n",
    "print('p-значение: ', results.pvalue)\n",
    "\n",
    "if results.pvalue < alpha:\n",
    "    print(\"Отвергаем нулевую гипотезу\")\n",
    "else:\n",
    "    print(\"Не получилось отвергнуть нулевую гипотезу\") "
   ]
  },
  {
   "cell_type": "markdown",
   "metadata": {},
   "source": [
    "**Вывод**: \n",
    "1. Нет оснований считать средние пользовательские рейтинги платформ Xbox One и PC разными.\n",
    "2. Разница средних пользовательских рейтингов жанров Action (англ. «действие», экшенигры) и Sports (англ. «спортиные соревнования») статистически значима."
   ]
  },
  {
   "cell_type": "markdown",
   "metadata": {},
   "source": [
    "# 6 Общий вывод "
   ]
  },
  {
   "cell_type": "markdown",
   "metadata": {},
   "source": [
    "В ходе исследования мы выяснили, что:\n",
    "1. Примерно 6 лет составляет жизненный цикл платформы, а 3 года - актуальный период для анализа. Таким образом, актуальным периодом для прогноза на 2017 год следует считать период с 2013 по 2016гг.\n",
    "2. Наиболее потенциально прибыльные платформы - PS4, XOne, 3DS. Из выбранных потенциально прибыльных платформ больше всего продаж у XOne, меньше - у 3DS.\n",
    "3. Оценки критиков на выбранных платформах сильнее влияют на успешность игр - коэффициенты корреляции более значимы, в отличии от корреляции между оценками пользователей, которая стремится к нулю.\n",
    "4. У каждой платформы имеются жанры с высокими и низкими продажами. Жанр Shooter наиболее прибылен на платформах PS4 и XOne, на 3DS это жанры Misc и Simulation, в аутсайдерах на PS4 и 3DS жанр Puzzle, на XOne - Adventure и Simulation.\n",
    "5. В Северной Америке и в Европе (в отличие от Японии) схожий портрет пользователя: в продажах преобладает платформа PS4, в жанрах преобладают 'Role-Playing', 'Sports', 'Shooter', 'Action' (однако, в Северной Америке на первом месте по популярности жанр 'Misc', в Европе - 'Racing'), на продажи значимо влияет категория М(старше 17 лет) системы рейтинга ESRB.\n",
    "\n",
    "Таким образом, наиболее прибыльными оказались платформы PS4 и XOne, на них стоит обратить внимание отделу маркетинга. А среди жанров игр наиболее перспективными являются 'Misc', 'Racing', 'Role-Playing', 'Sports', 'Shooter', 'Action'."
   ]
  }
 ],
 "metadata": {
  "ExecuteTimeLog": [
   {
    "duration": 1732,
    "start_time": "2022-02-18T14:05:54.005Z"
   },
   {
    "duration": 2231,
    "start_time": "2022-02-18T14:07:01.650Z"
   },
   {
    "duration": 4,
    "start_time": "2022-02-18T14:07:25.727Z"
   },
   {
    "duration": 2115,
    "start_time": "2022-02-18T14:07:25.733Z"
   },
   {
    "duration": 89,
    "start_time": "2022-02-18T14:09:24.819Z"
   },
   {
    "duration": 32,
    "start_time": "2022-02-18T14:23:31.508Z"
   },
   {
    "duration": 358,
    "start_time": "2022-02-18T14:29:34.257Z"
   },
   {
    "duration": 38,
    "start_time": "2022-02-18T14:29:42.041Z"
   },
   {
    "duration": 27,
    "start_time": "2022-02-18T14:32:29.845Z"
   },
   {
    "duration": 289,
    "start_time": "2022-02-18T14:34:28.750Z"
   },
   {
    "duration": 457,
    "start_time": "2022-02-18T14:34:50.433Z"
   },
   {
    "duration": 290,
    "start_time": "2022-02-18T14:36:25.181Z"
   },
   {
    "duration": 4,
    "start_time": "2022-02-18T14:37:20.960Z"
   },
   {
    "duration": 4,
    "start_time": "2022-02-18T14:37:24.098Z"
   },
   {
    "duration": 27,
    "start_time": "2022-02-18T14:37:24.734Z"
   },
   {
    "duration": 7,
    "start_time": "2022-02-18T14:42:57.148Z"
   },
   {
    "duration": 284,
    "start_time": "2022-02-18T14:43:53.729Z"
   },
   {
    "duration": 5,
    "start_time": "2022-02-18T14:44:04.501Z"
   },
   {
    "duration": 21,
    "start_time": "2022-02-18T14:44:07.579Z"
   },
   {
    "duration": 334,
    "start_time": "2022-02-18T14:44:34.177Z"
   },
   {
    "duration": 4,
    "start_time": "2022-02-18T14:45:18.106Z"
   },
   {
    "duration": 86,
    "start_time": "2022-02-18T14:45:18.113Z"
   },
   {
    "duration": 51,
    "start_time": "2022-02-18T14:45:18.202Z"
   },
   {
    "duration": 5,
    "start_time": "2022-02-18T14:45:18.257Z"
   },
   {
    "duration": 322,
    "start_time": "2022-02-18T14:45:18.265Z"
   },
   {
    "duration": -60924,
    "start_time": "2022-02-18T14:46:19.513Z"
   },
   {
    "duration": 298,
    "start_time": "2022-02-18T14:45:52.309Z"
   },
   {
    "duration": 430,
    "start_time": "2022-02-18T14:46:04.259Z"
   },
   {
    "duration": 383,
    "start_time": "2022-02-18T14:47:01.938Z"
   },
   {
    "duration": 300,
    "start_time": "2022-02-18T14:47:29.315Z"
   },
   {
    "duration": 300,
    "start_time": "2022-02-18T14:48:31.928Z"
   },
   {
    "duration": 321,
    "start_time": "2022-02-18T14:48:48.161Z"
   },
   {
    "duration": 308,
    "start_time": "2022-02-18T14:49:26.570Z"
   },
   {
    "duration": 300,
    "start_time": "2022-02-18T14:58:49.781Z"
   },
   {
    "duration": 7,
    "start_time": "2022-02-18T15:06:35.787Z"
   },
   {
    "duration": 27,
    "start_time": "2022-02-18T15:06:43.443Z"
   },
   {
    "duration": 10,
    "start_time": "2022-02-18T15:07:17.465Z"
   },
   {
    "duration": 14,
    "start_time": "2022-02-18T15:10:42.139Z"
   },
   {
    "duration": 310,
    "start_time": "2022-02-18T15:12:09.788Z"
   },
   {
    "duration": 4,
    "start_time": "2022-02-18T15:12:22.590Z"
   },
   {
    "duration": 80,
    "start_time": "2022-02-18T15:12:22.596Z"
   },
   {
    "duration": 33,
    "start_time": "2022-02-18T15:12:22.680Z"
   },
   {
    "duration": 39,
    "start_time": "2022-02-18T15:12:22.716Z"
   },
   {
    "duration": 308,
    "start_time": "2022-02-18T15:12:22.758Z"
   },
   {
    "duration": -61019,
    "start_time": "2022-02-18T15:13:24.088Z"
   },
   {
    "duration": 8625,
    "start_time": "2022-02-18T15:15:08.153Z"
   },
   {
    "duration": 4,
    "start_time": "2022-02-18T15:15:25.777Z"
   },
   {
    "duration": 67,
    "start_time": "2022-02-18T15:15:25.784Z"
   },
   {
    "duration": 45,
    "start_time": "2022-02-18T15:15:25.855Z"
   },
   {
    "duration": 45,
    "start_time": "2022-02-18T15:15:25.903Z"
   },
   {
    "duration": 293,
    "start_time": "2022-02-18T15:15:25.951Z"
   },
   {
    "duration": -61034,
    "start_time": "2022-02-18T15:16:27.281Z"
   },
   {
    "duration": 1560,
    "start_time": "2022-02-21T09:19:50.177Z"
   },
   {
    "duration": 82,
    "start_time": "2022-02-21T09:19:51.740Z"
   },
   {
    "duration": 42,
    "start_time": "2022-02-21T09:19:51.825Z"
   },
   {
    "duration": 11,
    "start_time": "2022-02-21T09:19:51.894Z"
   },
   {
    "duration": 19,
    "start_time": "2022-02-21T09:19:51.908Z"
   },
   {
    "duration": 408,
    "start_time": "2022-02-21T09:19:51.929Z"
   },
   {
    "duration": 14,
    "start_time": "2022-02-21T11:54:32.201Z"
   },
   {
    "duration": 10,
    "start_time": "2022-02-21T11:55:11.913Z"
   },
   {
    "duration": 12,
    "start_time": "2022-02-21T11:55:59.124Z"
   },
   {
    "duration": 10,
    "start_time": "2022-02-21T11:57:09.769Z"
   },
   {
    "duration": 6207,
    "start_time": "2022-02-21T11:57:21.728Z"
   },
   {
    "duration": 6970,
    "start_time": "2022-02-21T11:58:12.113Z"
   },
   {
    "duration": 4,
    "start_time": "2022-02-21T11:58:50.789Z"
   },
   {
    "duration": 82,
    "start_time": "2022-02-21T11:58:50.795Z"
   },
   {
    "duration": 41,
    "start_time": "2022-02-21T11:58:50.880Z"
   },
   {
    "duration": 11,
    "start_time": "2022-02-21T11:58:50.924Z"
   },
   {
    "duration": 18,
    "start_time": "2022-02-21T11:58:50.937Z"
   },
   {
    "duration": 47,
    "start_time": "2022-02-21T11:58:50.957Z"
   },
   {
    "duration": 261,
    "start_time": "2022-02-21T11:58:51.006Z"
   },
   {
    "duration": 236,
    "start_time": "2022-02-21T11:59:55.989Z"
   },
   {
    "duration": 1862,
    "start_time": "2022-02-22T13:22:14.897Z"
   },
   {
    "duration": 2023,
    "start_time": "2022-02-22T13:22:21.290Z"
   },
   {
    "duration": 108,
    "start_time": "2022-02-22T13:22:23.316Z"
   },
   {
    "duration": 69,
    "start_time": "2022-02-22T13:22:23.427Z"
   },
   {
    "duration": 13,
    "start_time": "2022-02-22T13:22:23.499Z"
   },
   {
    "duration": 16,
    "start_time": "2022-02-22T13:22:23.514Z"
   },
   {
    "duration": 22,
    "start_time": "2022-02-22T13:22:23.533Z"
   },
   {
    "duration": 364,
    "start_time": "2022-02-22T13:22:23.595Z"
   },
   {
    "duration": 22,
    "start_time": "2022-02-22T13:30:06.260Z"
   },
   {
    "duration": 43,
    "start_time": "2022-02-22T13:30:45.921Z"
   },
   {
    "duration": 27,
    "start_time": "2022-02-22T13:31:23.990Z"
   },
   {
    "duration": 2215,
    "start_time": "2022-02-22T13:34:02.056Z"
   },
   {
    "duration": 9,
    "start_time": "2022-02-22T13:55:48.804Z"
   },
   {
    "duration": 20,
    "start_time": "2022-02-22T13:56:05.306Z"
   },
   {
    "duration": 18,
    "start_time": "2022-02-22T14:02:12.019Z"
   },
   {
    "duration": 4,
    "start_time": "2022-02-22T14:03:18.323Z"
   },
   {
    "duration": 96,
    "start_time": "2022-02-22T14:03:18.330Z"
   },
   {
    "duration": 66,
    "start_time": "2022-02-22T14:03:18.429Z"
   },
   {
    "duration": 18,
    "start_time": "2022-02-22T14:03:18.500Z"
   },
   {
    "duration": 23,
    "start_time": "2022-02-22T14:03:18.526Z"
   },
   {
    "duration": 58,
    "start_time": "2022-02-22T14:03:18.552Z"
   },
   {
    "duration": 16,
    "start_time": "2022-02-22T14:03:18.613Z"
   },
   {
    "duration": 17,
    "start_time": "2022-02-22T14:03:18.632Z"
   },
   {
    "duration": 301,
    "start_time": "2022-03-01T14:02:45.798Z"
   },
   {
    "duration": 1448,
    "start_time": "2022-03-01T14:03:18.363Z"
   },
   {
    "duration": 77,
    "start_time": "2022-03-01T14:03:19.814Z"
   },
   {
    "duration": 57,
    "start_time": "2022-03-01T14:03:19.894Z"
   },
   {
    "duration": 11,
    "start_time": "2022-03-01T14:03:19.954Z"
   },
   {
    "duration": 15,
    "start_time": "2022-03-01T14:03:19.968Z"
   },
   {
    "duration": 65,
    "start_time": "2022-03-01T14:03:19.986Z"
   },
   {
    "duration": 15,
    "start_time": "2022-03-01T14:03:20.054Z"
   },
   {
    "duration": 18,
    "start_time": "2022-03-01T14:03:20.074Z"
   },
   {
    "duration": 310,
    "start_time": "2022-03-01T14:03:20.095Z"
   },
   {
    "duration": 24,
    "start_time": "2022-03-01T14:03:45.249Z"
   },
   {
    "duration": 412,
    "start_time": "2022-03-01T14:25:53.225Z"
   },
   {
    "duration": 434,
    "start_time": "2022-03-01T14:26:12.289Z"
   },
   {
    "duration": 404,
    "start_time": "2022-03-01T14:27:14.337Z"
   },
   {
    "duration": 8,
    "start_time": "2022-03-01T14:48:40.586Z"
   },
   {
    "duration": 9,
    "start_time": "2022-03-01T14:48:56.909Z"
   },
   {
    "duration": 213,
    "start_time": "2022-03-01T14:50:56.565Z"
   },
   {
    "duration": 1040,
    "start_time": "2022-03-01T14:51:02.967Z"
   },
   {
    "duration": 481,
    "start_time": "2022-03-01T14:52:13.662Z"
   },
   {
    "duration": 611,
    "start_time": "2022-03-01T14:55:17.859Z"
   },
   {
    "duration": 294,
    "start_time": "2022-03-03T13:33:22.818Z"
   },
   {
    "duration": 1387,
    "start_time": "2022-03-03T13:33:26.625Z"
   },
   {
    "duration": 77,
    "start_time": "2022-03-03T13:33:28.014Z"
   },
   {
    "duration": 57,
    "start_time": "2022-03-03T13:33:28.094Z"
   },
   {
    "duration": 10,
    "start_time": "2022-03-03T13:33:28.154Z"
   },
   {
    "duration": 15,
    "start_time": "2022-03-03T13:33:28.166Z"
   },
   {
    "duration": 26,
    "start_time": "2022-03-03T13:33:28.184Z"
   },
   {
    "duration": 46,
    "start_time": "2022-03-03T13:33:28.212Z"
   },
   {
    "duration": 15,
    "start_time": "2022-03-03T13:33:28.261Z"
   },
   {
    "duration": 23,
    "start_time": "2022-03-03T13:33:28.279Z"
   },
   {
    "duration": 436,
    "start_time": "2022-03-03T13:33:28.304Z"
   },
   {
    "duration": 15,
    "start_time": "2022-03-03T13:33:28.742Z"
   },
   {
    "duration": 592,
    "start_time": "2022-03-03T13:33:28.760Z"
   },
   {
    "duration": 23,
    "start_time": "2022-03-03T13:33:29.355Z"
   },
   {
    "duration": 1092,
    "start_time": "2022-03-07T08:38:40.327Z"
   },
   {
    "duration": 64,
    "start_time": "2022-03-07T08:38:41.421Z"
   },
   {
    "duration": 21,
    "start_time": "2022-03-07T08:38:41.487Z"
   },
   {
    "duration": 6,
    "start_time": "2022-03-07T08:38:41.509Z"
   },
   {
    "duration": 8,
    "start_time": "2022-03-07T08:38:41.517Z"
   },
   {
    "duration": 16,
    "start_time": "2022-03-07T08:38:41.527Z"
   },
   {
    "duration": 10,
    "start_time": "2022-03-07T08:38:41.544Z"
   },
   {
    "duration": 9,
    "start_time": "2022-03-07T08:38:41.555Z"
   },
   {
    "duration": 49,
    "start_time": "2022-03-07T08:38:41.566Z"
   },
   {
    "duration": 282,
    "start_time": "2022-03-07T08:38:41.616Z"
   },
   {
    "duration": 9,
    "start_time": "2022-03-07T08:38:41.900Z"
   },
   {
    "duration": 426,
    "start_time": "2022-03-07T08:38:41.910Z"
   },
   {
    "duration": 15,
    "start_time": "2022-03-07T08:38:42.338Z"
   },
   {
    "duration": 266,
    "start_time": "2022-03-07T08:57:51.273Z"
   },
   {
    "duration": 267,
    "start_time": "2022-03-07T08:57:59.272Z"
   },
   {
    "duration": 511,
    "start_time": "2022-03-07T09:08:03.154Z"
   },
   {
    "duration": 290,
    "start_time": "2022-03-07T09:08:13.983Z"
   },
   {
    "duration": 4,
    "start_time": "2022-03-07T09:09:02.455Z"
   },
   {
    "duration": 54,
    "start_time": "2022-03-07T09:09:02.461Z"
   },
   {
    "duration": 25,
    "start_time": "2022-03-07T09:09:02.518Z"
   },
   {
    "duration": 7,
    "start_time": "2022-03-07T09:09:02.545Z"
   },
   {
    "duration": 7,
    "start_time": "2022-03-07T09:09:02.554Z"
   },
   {
    "duration": 102,
    "start_time": "2022-03-07T09:09:02.562Z"
   },
   {
    "duration": 11,
    "start_time": "2022-03-07T09:09:02.666Z"
   },
   {
    "duration": 11,
    "start_time": "2022-03-07T09:09:02.678Z"
   },
   {
    "duration": 12,
    "start_time": "2022-03-07T09:09:02.706Z"
   },
   {
    "duration": 393,
    "start_time": "2022-03-07T09:09:02.720Z"
   },
   {
    "duration": 8,
    "start_time": "2022-03-07T09:09:03.115Z"
   },
   {
    "duration": 491,
    "start_time": "2022-03-07T09:09:03.124Z"
   },
   {
    "duration": 14,
    "start_time": "2022-03-07T09:09:03.616Z"
   },
   {
    "duration": 301,
    "start_time": "2022-03-07T09:09:03.632Z"
   },
   {
    "duration": 6,
    "start_time": "2022-03-07T09:10:05.972Z"
   },
   {
    "duration": 10,
    "start_time": "2022-03-07T09:10:25.806Z"
   },
   {
    "duration": 267,
    "start_time": "2022-03-07T09:35:14.411Z"
   },
   {
    "duration": 246,
    "start_time": "2022-03-07T09:37:01.771Z"
   },
   {
    "duration": 331,
    "start_time": "2022-03-07T09:37:17.341Z"
   },
   {
    "duration": 307,
    "start_time": "2022-03-07T09:37:34.621Z"
   },
   {
    "duration": 1145,
    "start_time": "2022-03-07T09:37:47.569Z"
   },
   {
    "duration": 317,
    "start_time": "2022-03-07T09:37:58.706Z"
   },
   {
    "duration": 219,
    "start_time": "2022-03-07T09:38:08.023Z"
   },
   {
    "duration": 693,
    "start_time": "2022-03-07T09:38:19.216Z"
   },
   {
    "duration": 299,
    "start_time": "2022-03-07T09:38:32.109Z"
   },
   {
    "duration": 366,
    "start_time": "2022-03-07T09:45:14.968Z"
   },
   {
    "duration": 307,
    "start_time": "2022-03-07T09:45:23.989Z"
   },
   {
    "duration": 288,
    "start_time": "2022-03-07T09:45:48.288Z"
   },
   {
    "duration": 295,
    "start_time": "2022-03-07T09:46:47.194Z"
   },
   {
    "duration": 304,
    "start_time": "2022-03-07T09:51:08.706Z"
   },
   {
    "duration": 301,
    "start_time": "2022-03-07T09:52:32.963Z"
   },
   {
    "duration": 301,
    "start_time": "2022-03-07T09:52:41.300Z"
   },
   {
    "duration": 309,
    "start_time": "2022-03-07T09:53:11.596Z"
   },
   {
    "duration": 328,
    "start_time": "2022-03-07T09:55:20.016Z"
   },
   {
    "duration": 307,
    "start_time": "2022-03-07T09:58:24.186Z"
   },
   {
    "duration": 264,
    "start_time": "2022-03-07T09:58:35.826Z"
   },
   {
    "duration": 10,
    "start_time": "2022-03-07T11:05:49.514Z"
   },
   {
    "duration": 267,
    "start_time": "2022-03-07T11:05:53.370Z"
   },
   {
    "duration": 355,
    "start_time": "2022-03-07T11:06:06.473Z"
   },
   {
    "duration": 263,
    "start_time": "2022-03-07T11:06:13.519Z"
   },
   {
    "duration": 263,
    "start_time": "2022-03-07T11:06:23.967Z"
   },
   {
    "duration": 259,
    "start_time": "2022-03-07T11:06:39.447Z"
   },
   {
    "duration": 263,
    "start_time": "2022-03-07T11:06:55.951Z"
   },
   {
    "duration": 3,
    "start_time": "2022-03-07T11:08:34.030Z"
   },
   {
    "duration": 5,
    "start_time": "2022-03-07T11:08:34.034Z"
   },
   {
    "duration": 52,
    "start_time": "2022-03-07T11:08:34.040Z"
   },
   {
    "duration": 22,
    "start_time": "2022-03-07T11:08:34.093Z"
   },
   {
    "duration": 5,
    "start_time": "2022-03-07T11:08:34.116Z"
   },
   {
    "duration": 9,
    "start_time": "2022-03-07T11:08:34.122Z"
   },
   {
    "duration": 19,
    "start_time": "2022-03-07T11:08:34.132Z"
   },
   {
    "duration": 10,
    "start_time": "2022-03-07T11:08:34.152Z"
   },
   {
    "duration": 10,
    "start_time": "2022-03-07T11:08:34.163Z"
   },
   {
    "duration": 41,
    "start_time": "2022-03-07T11:08:34.174Z"
   },
   {
    "duration": 281,
    "start_time": "2022-03-07T11:08:34.216Z"
   },
   {
    "duration": 8,
    "start_time": "2022-03-07T11:08:34.498Z"
   },
   {
    "duration": 415,
    "start_time": "2022-03-07T11:08:34.507Z"
   },
   {
    "duration": 14,
    "start_time": "2022-03-07T11:08:34.924Z"
   },
   {
    "duration": 9,
    "start_time": "2022-03-07T11:08:34.939Z"
   },
   {
    "duration": 288,
    "start_time": "2022-03-07T11:08:34.949Z"
   },
   {
    "duration": 507,
    "start_time": "2022-03-07T11:08:35.239Z"
   },
   {
    "duration": 3,
    "start_time": "2022-03-07T11:17:45.739Z"
   },
   {
    "duration": 6,
    "start_time": "2022-03-07T11:17:45.743Z"
   },
   {
    "duration": 51,
    "start_time": "2022-03-07T11:17:45.750Z"
   },
   {
    "duration": 22,
    "start_time": "2022-03-07T11:17:45.803Z"
   },
   {
    "duration": 5,
    "start_time": "2022-03-07T11:17:45.826Z"
   },
   {
    "duration": 8,
    "start_time": "2022-03-07T11:17:45.833Z"
   },
   {
    "duration": 19,
    "start_time": "2022-03-07T11:17:45.843Z"
   },
   {
    "duration": 9,
    "start_time": "2022-03-07T11:17:45.863Z"
   },
   {
    "duration": 34,
    "start_time": "2022-03-07T11:17:45.874Z"
   },
   {
    "duration": 12,
    "start_time": "2022-03-07T11:17:45.910Z"
   },
   {
    "duration": 292,
    "start_time": "2022-03-07T11:17:45.923Z"
   },
   {
    "duration": 7,
    "start_time": "2022-03-07T11:17:46.217Z"
   },
   {
    "duration": 683,
    "start_time": "2022-03-07T11:17:46.226Z"
   },
   {
    "duration": 19,
    "start_time": "2022-03-07T11:17:46.911Z"
   },
   {
    "duration": 10,
    "start_time": "2022-03-07T11:17:46.932Z"
   },
   {
    "duration": 290,
    "start_time": "2022-03-07T11:17:46.943Z"
   },
   {
    "duration": 4,
    "start_time": "2022-03-07T11:17:47.235Z"
   },
   {
    "duration": 436,
    "start_time": "2022-03-07T11:17:47.241Z"
   },
   {
    "duration": 153,
    "start_time": "2022-03-07T11:18:19.895Z"
   },
   {
    "duration": 290,
    "start_time": "2022-03-07T11:33:15.179Z"
   },
   {
    "duration": 4,
    "start_time": "2022-03-07T11:33:22.148Z"
   },
   {
    "duration": 7037,
    "start_time": "2022-03-07T11:33:22.766Z"
   },
   {
    "duration": 3,
    "start_time": "2022-03-07T11:33:55.348Z"
   },
   {
    "duration": 6,
    "start_time": "2022-03-07T11:33:55.352Z"
   },
   {
    "duration": 47,
    "start_time": "2022-03-07T11:33:55.367Z"
   },
   {
    "duration": 23,
    "start_time": "2022-03-07T11:33:55.415Z"
   },
   {
    "duration": 6,
    "start_time": "2022-03-07T11:33:55.439Z"
   },
   {
    "duration": 10,
    "start_time": "2022-03-07T11:33:55.446Z"
   },
   {
    "duration": 16,
    "start_time": "2022-03-07T11:33:55.458Z"
   },
   {
    "duration": 39,
    "start_time": "2022-03-07T11:33:55.475Z"
   },
   {
    "duration": 10,
    "start_time": "2022-03-07T11:33:55.515Z"
   },
   {
    "duration": 12,
    "start_time": "2022-03-07T11:33:55.526Z"
   },
   {
    "duration": 287,
    "start_time": "2022-03-07T11:33:55.540Z"
   },
   {
    "duration": 8,
    "start_time": "2022-03-07T11:33:55.829Z"
   },
   {
    "duration": 425,
    "start_time": "2022-03-07T11:33:55.838Z"
   },
   {
    "duration": 14,
    "start_time": "2022-03-07T11:33:56.265Z"
   },
   {
    "duration": 8,
    "start_time": "2022-03-07T11:33:56.280Z"
   },
   {
    "duration": 267,
    "start_time": "2022-03-07T11:33:56.305Z"
   },
   {
    "duration": 5,
    "start_time": "2022-03-07T11:33:56.573Z"
   },
   {
    "duration": 168,
    "start_time": "2022-03-07T11:33:56.579Z"
   },
   {
    "duration": 3,
    "start_time": "2022-03-07T11:33:56.749Z"
   },
   {
    "duration": 7765,
    "start_time": "2022-03-07T11:33:56.753Z"
   },
   {
    "duration": 18,
    "start_time": "2022-03-07T11:34:24.834Z"
   },
   {
    "duration": 26,
    "start_time": "2022-03-07T11:35:27.554Z"
   },
   {
    "duration": 265,
    "start_time": "2022-03-07T11:35:32.413Z"
   },
   {
    "duration": 284,
    "start_time": "2022-03-07T11:38:47.376Z"
   },
   {
    "duration": 282,
    "start_time": "2022-03-07T11:41:16.454Z"
   },
   {
    "duration": 269,
    "start_time": "2022-03-07T11:41:41.117Z"
   },
   {
    "duration": 275,
    "start_time": "2022-03-07T11:42:52.815Z"
   },
   {
    "duration": 285,
    "start_time": "2022-03-07T11:43:35.098Z"
   },
   {
    "duration": 492,
    "start_time": "2022-03-07T11:44:42.936Z"
   },
   {
    "duration": 107,
    "start_time": "2022-03-07T11:55:45.320Z"
   },
   {
    "duration": 107,
    "start_time": "2022-03-07T11:56:06.864Z"
   },
   {
    "duration": 582,
    "start_time": "2022-03-07T11:56:17.303Z"
   },
   {
    "duration": 347,
    "start_time": "2022-03-07T11:56:27.880Z"
   },
   {
    "duration": 319,
    "start_time": "2022-03-07T11:56:31.794Z"
   },
   {
    "duration": 352,
    "start_time": "2022-03-07T11:56:47.162Z"
   },
   {
    "duration": 309,
    "start_time": "2022-03-07T11:56:50.706Z"
   },
   {
    "duration": 298,
    "start_time": "2022-03-07T11:57:19.117Z"
   },
   {
    "duration": 8,
    "start_time": "2022-03-07T11:58:13.911Z"
   },
   {
    "duration": 342,
    "start_time": "2022-03-07T11:58:14.553Z"
   },
   {
    "duration": 160,
    "start_time": "2022-03-07T12:02:10.209Z"
   },
   {
    "duration": 329,
    "start_time": "2022-03-07T12:02:11.568Z"
   },
   {
    "duration": 7,
    "start_time": "2022-03-07T12:02:15.248Z"
   },
   {
    "duration": 6,
    "start_time": "2022-03-07T12:03:24.032Z"
   },
   {
    "duration": 263,
    "start_time": "2022-03-07T12:14:02.216Z"
   },
   {
    "duration": 273,
    "start_time": "2022-03-07T12:14:17.767Z"
   },
   {
    "duration": 264,
    "start_time": "2022-03-07T12:14:28.958Z"
   },
   {
    "duration": 272,
    "start_time": "2022-03-07T12:15:37.381Z"
   },
   {
    "duration": 244,
    "start_time": "2022-03-07T12:15:38.607Z"
   },
   {
    "duration": 273,
    "start_time": "2022-03-07T12:17:16.995Z"
   },
   {
    "duration": 284,
    "start_time": "2022-03-07T12:17:33.134Z"
   },
   {
    "duration": 421,
    "start_time": "2022-03-07T12:17:38.984Z"
   },
   {
    "duration": 249,
    "start_time": "2022-03-07T12:19:13.114Z"
   },
   {
    "duration": 247,
    "start_time": "2022-03-07T12:19:23.252Z"
   },
   {
    "duration": 4,
    "start_time": "2022-03-07T12:25:29.937Z"
   },
   {
    "duration": 2,
    "start_time": "2022-03-07T12:43:37.857Z"
   },
   {
    "duration": 6,
    "start_time": "2022-03-07T12:43:37.861Z"
   },
   {
    "duration": 59,
    "start_time": "2022-03-07T12:43:37.869Z"
   },
   {
    "duration": 24,
    "start_time": "2022-03-07T12:43:37.930Z"
   },
   {
    "duration": 7,
    "start_time": "2022-03-07T12:43:37.955Z"
   },
   {
    "duration": 17,
    "start_time": "2022-03-07T12:43:37.963Z"
   },
   {
    "duration": 25,
    "start_time": "2022-03-07T12:43:37.982Z"
   },
   {
    "duration": 15,
    "start_time": "2022-03-07T12:43:38.008Z"
   },
   {
    "duration": 11,
    "start_time": "2022-03-07T12:43:38.025Z"
   },
   {
    "duration": 13,
    "start_time": "2022-03-07T12:43:38.038Z"
   },
   {
    "duration": 321,
    "start_time": "2022-03-07T12:43:38.054Z"
   },
   {
    "duration": 8,
    "start_time": "2022-03-07T12:43:38.376Z"
   },
   {
    "duration": 450,
    "start_time": "2022-03-07T12:43:38.385Z"
   },
   {
    "duration": 14,
    "start_time": "2022-03-07T12:43:38.837Z"
   },
   {
    "duration": 11,
    "start_time": "2022-03-07T12:43:38.852Z"
   },
   {
    "duration": 315,
    "start_time": "2022-03-07T12:43:38.865Z"
   },
   {
    "duration": 5,
    "start_time": "2022-03-07T12:43:39.182Z"
   },
   {
    "duration": 189,
    "start_time": "2022-03-07T12:43:39.189Z"
   },
   {
    "duration": 188,
    "start_time": "2022-03-07T12:43:39.380Z"
   },
   {
    "duration": 7,
    "start_time": "2022-03-07T12:43:39.570Z"
   },
   {
    "duration": 348,
    "start_time": "2022-03-07T12:43:39.578Z"
   },
   {
    "duration": 314,
    "start_time": "2022-03-07T12:43:39.929Z"
   },
   {
    "duration": 334,
    "start_time": "2022-03-07T12:43:40.245Z"
   },
   {
    "duration": 286,
    "start_time": "2022-03-07T12:43:40.581Z"
   },
   {
    "duration": 225,
    "start_time": "2022-03-09T08:48:26.028Z"
   },
   {
    "duration": 1147,
    "start_time": "2022-03-09T08:48:30.830Z"
   },
   {
    "duration": 3,
    "start_time": "2022-03-09T08:48:31.978Z"
   },
   {
    "duration": 63,
    "start_time": "2022-03-09T08:48:31.982Z"
   },
   {
    "duration": 24,
    "start_time": "2022-03-09T08:48:32.047Z"
   },
   {
    "duration": 11,
    "start_time": "2022-03-09T08:48:32.072Z"
   },
   {
    "duration": 12,
    "start_time": "2022-03-09T08:48:32.085Z"
   },
   {
    "duration": 5,
    "start_time": "2022-03-09T08:48:32.099Z"
   },
   {
    "duration": 38,
    "start_time": "2022-03-09T08:48:32.106Z"
   },
   {
    "duration": 14,
    "start_time": "2022-03-09T08:48:32.147Z"
   },
   {
    "duration": 14,
    "start_time": "2022-03-09T08:48:32.163Z"
   },
   {
    "duration": 312,
    "start_time": "2022-03-09T08:48:32.178Z"
   },
   {
    "duration": 7,
    "start_time": "2022-03-09T08:48:32.492Z"
   },
   {
    "duration": 466,
    "start_time": "2022-03-09T08:48:32.501Z"
   },
   {
    "duration": 14,
    "start_time": "2022-03-09T08:48:32.969Z"
   },
   {
    "duration": 12,
    "start_time": "2022-03-09T08:48:32.984Z"
   },
   {
    "duration": 314,
    "start_time": "2022-03-09T08:48:32.997Z"
   },
   {
    "duration": 5,
    "start_time": "2022-03-09T08:48:33.313Z"
   },
   {
    "duration": 186,
    "start_time": "2022-03-09T08:48:33.319Z"
   },
   {
    "duration": 184,
    "start_time": "2022-03-09T08:48:33.506Z"
   },
   {
    "duration": 6,
    "start_time": "2022-03-09T08:48:33.691Z"
   },
   {
    "duration": 383,
    "start_time": "2022-03-09T08:48:33.699Z"
   },
   {
    "duration": 305,
    "start_time": "2022-03-09T08:48:34.083Z"
   },
   {
    "duration": 316,
    "start_time": "2022-03-09T08:48:34.390Z"
   },
   {
    "duration": 277,
    "start_time": "2022-03-09T08:48:34.707Z"
   },
   {
    "duration": 242,
    "start_time": "2022-03-09T08:48:34.985Z"
   },
   {
    "duration": 7,
    "start_time": "2022-03-09T08:49:17.644Z"
   },
   {
    "duration": 6,
    "start_time": "2022-03-09T08:49:35.448Z"
   },
   {
    "duration": 7,
    "start_time": "2022-03-09T08:49:53.605Z"
   },
   {
    "duration": 8,
    "start_time": "2022-03-09T08:50:38.493Z"
   },
   {
    "duration": 7,
    "start_time": "2022-03-09T08:50:52.747Z"
   },
   {
    "duration": 7,
    "start_time": "2022-03-09T08:53:31.487Z"
   },
   {
    "duration": 7,
    "start_time": "2022-03-09T08:55:57.057Z"
   },
   {
    "duration": 17,
    "start_time": "2022-03-09T08:56:22.925Z"
   },
   {
    "duration": 15,
    "start_time": "2022-03-09T09:00:58.265Z"
   },
   {
    "duration": 15,
    "start_time": "2022-03-09T09:01:02.928Z"
   },
   {
    "duration": 16,
    "start_time": "2022-03-09T09:01:26.306Z"
   },
   {
    "duration": 14,
    "start_time": "2022-03-09T09:01:28.928Z"
   },
   {
    "duration": 12,
    "start_time": "2022-03-09T09:01:29.885Z"
   },
   {
    "duration": 13,
    "start_time": "2022-03-09T09:01:32.394Z"
   },
   {
    "duration": 22,
    "start_time": "2022-03-09T09:01:51.932Z"
   },
   {
    "duration": 17,
    "start_time": "2022-03-09T09:02:03.230Z"
   },
   {
    "duration": 25,
    "start_time": "2022-03-09T09:04:51.137Z"
   },
   {
    "duration": 13,
    "start_time": "2022-03-09T09:14:31.908Z"
   },
   {
    "duration": 13,
    "start_time": "2022-03-09T09:14:58.341Z"
   },
   {
    "duration": 14,
    "start_time": "2022-03-09T09:16:02.069Z"
   },
   {
    "duration": 16,
    "start_time": "2022-03-09T09:16:48.890Z"
   },
   {
    "duration": 15,
    "start_time": "2022-03-09T09:37:16.263Z"
   },
   {
    "duration": 25,
    "start_time": "2022-03-09T09:38:53.279Z"
   },
   {
    "duration": 5,
    "start_time": "2022-03-09T11:28:50.595Z"
   },
   {
    "duration": 6,
    "start_time": "2022-03-09T11:29:44.068Z"
   },
   {
    "duration": 893,
    "start_time": "2022-03-09T11:29:44.742Z"
   },
   {
    "duration": 3,
    "start_time": "2022-03-09T11:30:28.828Z"
   },
   {
    "duration": 17,
    "start_time": "2022-03-09T11:30:28.834Z"
   },
   {
    "duration": 53,
    "start_time": "2022-03-09T11:30:28.853Z"
   },
   {
    "duration": 49,
    "start_time": "2022-03-09T11:30:28.908Z"
   },
   {
    "duration": 8,
    "start_time": "2022-03-09T11:30:28.959Z"
   },
   {
    "duration": 11,
    "start_time": "2022-03-09T11:30:28.969Z"
   },
   {
    "duration": 5,
    "start_time": "2022-03-09T11:30:28.982Z"
   },
   {
    "duration": 16,
    "start_time": "2022-03-09T11:30:28.989Z"
   },
   {
    "duration": 43,
    "start_time": "2022-03-09T11:30:29.007Z"
   },
   {
    "duration": 16,
    "start_time": "2022-03-09T11:30:29.052Z"
   },
   {
    "duration": 352,
    "start_time": "2022-03-09T11:30:29.069Z"
   },
   {
    "duration": 17,
    "start_time": "2022-03-09T11:30:29.423Z"
   },
   {
    "duration": 480,
    "start_time": "2022-03-09T11:30:29.442Z"
   },
   {
    "duration": 27,
    "start_time": "2022-03-09T11:30:29.923Z"
   },
   {
    "duration": 12,
    "start_time": "2022-03-09T11:30:29.952Z"
   },
   {
    "duration": 415,
    "start_time": "2022-03-09T11:30:29.965Z"
   },
   {
    "duration": 4,
    "start_time": "2022-03-09T11:30:30.382Z"
   },
   {
    "duration": 199,
    "start_time": "2022-03-09T11:30:30.388Z"
   },
   {
    "duration": 201,
    "start_time": "2022-03-09T11:30:30.589Z"
   },
   {
    "duration": 7,
    "start_time": "2022-03-09T11:30:30.791Z"
   },
   {
    "duration": 377,
    "start_time": "2022-03-09T11:30:30.799Z"
   },
   {
    "duration": 322,
    "start_time": "2022-03-09T11:30:31.178Z"
   },
   {
    "duration": 351,
    "start_time": "2022-03-09T11:30:31.502Z"
   },
   {
    "duration": 308,
    "start_time": "2022-03-09T11:30:31.855Z"
   },
   {
    "duration": 26,
    "start_time": "2022-03-09T11:30:32.165Z"
   },
   {
    "duration": 43,
    "start_time": "2022-03-09T11:30:32.193Z"
   },
   {
    "duration": 28,
    "start_time": "2022-03-09T11:30:32.240Z"
   },
   {
    "duration": 4,
    "start_time": "2022-03-09T11:30:32.270Z"
   },
   {
    "duration": 7,
    "start_time": "2022-03-09T11:30:32.276Z"
   },
   {
    "duration": 5,
    "start_time": "2022-03-09T11:35:13.710Z"
   },
   {
    "duration": 5,
    "start_time": "2022-03-09T11:35:14.313Z"
   },
   {
    "duration": 3,
    "start_time": "2022-03-09T11:40:04.402Z"
   },
   {
    "duration": 6,
    "start_time": "2022-03-09T11:40:04.407Z"
   },
   {
    "duration": 59,
    "start_time": "2022-03-09T11:40:04.415Z"
   },
   {
    "duration": 26,
    "start_time": "2022-03-09T11:40:04.476Z"
   },
   {
    "duration": 31,
    "start_time": "2022-03-09T11:40:04.504Z"
   },
   {
    "duration": 13,
    "start_time": "2022-03-09T11:40:04.537Z"
   },
   {
    "duration": 6,
    "start_time": "2022-03-09T11:40:04.552Z"
   },
   {
    "duration": 21,
    "start_time": "2022-03-09T11:40:04.560Z"
   },
   {
    "duration": 20,
    "start_time": "2022-03-09T11:40:04.583Z"
   },
   {
    "duration": 30,
    "start_time": "2022-03-09T11:40:04.605Z"
   },
   {
    "duration": 376,
    "start_time": "2022-03-09T11:40:04.637Z"
   },
   {
    "duration": 21,
    "start_time": "2022-03-09T11:40:05.015Z"
   },
   {
    "duration": 660,
    "start_time": "2022-03-09T11:40:05.038Z"
   },
   {
    "duration": 14,
    "start_time": "2022-03-09T11:40:05.700Z"
   },
   {
    "duration": 29,
    "start_time": "2022-03-09T11:40:05.716Z"
   },
   {
    "duration": 331,
    "start_time": "2022-03-09T11:40:05.747Z"
   },
   {
    "duration": 5,
    "start_time": "2022-03-09T11:40:06.080Z"
   },
   {
    "duration": 200,
    "start_time": "2022-03-09T11:40:06.086Z"
   },
   {
    "duration": 194,
    "start_time": "2022-03-09T11:40:06.288Z"
   },
   {
    "duration": 6,
    "start_time": "2022-03-09T11:40:06.484Z"
   },
   {
    "duration": 380,
    "start_time": "2022-03-09T11:40:06.491Z"
   },
   {
    "duration": 319,
    "start_time": "2022-03-09T11:40:06.873Z"
   },
   {
    "duration": 335,
    "start_time": "2022-03-09T11:40:07.194Z"
   },
   {
    "duration": 367,
    "start_time": "2022-03-09T11:40:07.532Z"
   },
   {
    "duration": 46,
    "start_time": "2022-03-09T11:40:07.901Z"
   },
   {
    "duration": 19,
    "start_time": "2022-03-09T11:40:07.949Z"
   },
   {
    "duration": 66,
    "start_time": "2022-03-09T11:40:07.971Z"
   },
   {
    "duration": 7,
    "start_time": "2022-03-09T11:40:08.039Z"
   },
   {
    "duration": 10,
    "start_time": "2022-03-09T11:40:08.048Z"
   },
   {
    "duration": 8,
    "start_time": "2022-03-09T11:40:08.061Z"
   },
   {
    "duration": 9,
    "start_time": "2022-03-09T11:40:08.072Z"
   },
   {
    "duration": 2040,
    "start_time": "2022-03-17T14:36:41.998Z"
   },
   {
    "duration": 4,
    "start_time": "2022-03-17T14:36:44.041Z"
   },
   {
    "duration": 119,
    "start_time": "2022-03-17T14:36:44.046Z"
   },
   {
    "duration": 47,
    "start_time": "2022-03-17T14:36:44.168Z"
   },
   {
    "duration": 10,
    "start_time": "2022-03-17T14:36:44.217Z"
   },
   {
    "duration": 25,
    "start_time": "2022-03-17T14:36:44.229Z"
   },
   {
    "duration": 6,
    "start_time": "2022-03-17T14:36:44.285Z"
   },
   {
    "duration": 41,
    "start_time": "2022-03-17T14:36:44.294Z"
   },
   {
    "duration": 24,
    "start_time": "2022-03-17T14:36:44.338Z"
   },
   {
    "duration": 45,
    "start_time": "2022-03-17T14:36:44.366Z"
   },
   {
    "duration": 692,
    "start_time": "2022-03-17T14:36:44.414Z"
   },
   {
    "duration": 14,
    "start_time": "2022-03-17T14:36:45.109Z"
   },
   {
    "duration": 902,
    "start_time": "2022-03-17T14:36:45.126Z"
   },
   {
    "duration": 24,
    "start_time": "2022-03-17T14:36:46.031Z"
   },
   {
    "duration": 23,
    "start_time": "2022-03-17T14:36:46.058Z"
   },
   {
    "duration": 468,
    "start_time": "2022-03-17T14:36:46.083Z"
   },
   {
    "duration": 8,
    "start_time": "2022-03-17T14:36:46.553Z"
   },
   {
    "duration": 255,
    "start_time": "2022-03-17T14:36:46.563Z"
   },
   {
    "duration": 253,
    "start_time": "2022-03-17T14:36:46.820Z"
   },
   {
    "duration": 15,
    "start_time": "2022-03-17T14:36:47.076Z"
   },
   {
    "duration": 373,
    "start_time": "2022-03-17T14:36:47.093Z"
   },
   {
    "duration": 488,
    "start_time": "2022-03-17T14:36:47.469Z"
   },
   {
    "duration": 419,
    "start_time": "2022-03-17T14:36:47.959Z"
   },
   {
    "duration": 392,
    "start_time": "2022-03-17T14:36:48.383Z"
   },
   {
    "duration": 45,
    "start_time": "2022-03-17T14:36:48.784Z"
   },
   {
    "duration": 57,
    "start_time": "2022-03-17T14:36:48.832Z"
   },
   {
    "duration": 45,
    "start_time": "2022-03-17T14:36:48.891Z"
   },
   {
    "duration": 7,
    "start_time": "2022-03-17T14:36:48.940Z"
   },
   {
    "duration": 8,
    "start_time": "2022-03-17T14:36:48.984Z"
   },
   {
    "duration": 30,
    "start_time": "2022-03-17T14:36:48.994Z"
   },
   {
    "duration": 28,
    "start_time": "2022-03-17T14:36:49.027Z"
   },
   {
    "duration": 117,
    "start_time": "2022-03-17T19:21:32.153Z"
   },
   {
    "duration": 43,
    "start_time": "2022-03-17T19:24:26.099Z"
   },
   {
    "duration": 7,
    "start_time": "2022-03-17T19:24:44.882Z"
   },
   {
    "duration": 1225,
    "start_time": "2022-03-17T19:24:50.791Z"
   },
   {
    "duration": 3,
    "start_time": "2022-03-17T19:24:52.018Z"
   },
   {
    "duration": 118,
    "start_time": "2022-03-17T19:24:52.023Z"
   },
   {
    "duration": 25,
    "start_time": "2022-03-17T19:24:52.143Z"
   },
   {
    "duration": 18,
    "start_time": "2022-03-17T19:24:52.170Z"
   },
   {
    "duration": 16,
    "start_time": "2022-03-17T19:24:52.190Z"
   },
   {
    "duration": 24,
    "start_time": "2022-03-17T19:24:52.207Z"
   },
   {
    "duration": 90,
    "start_time": "2022-03-17T19:24:52.233Z"
   },
   {
    "duration": 8,
    "start_time": "2022-03-17T19:24:56.036Z"
   },
   {
    "duration": 16,
    "start_time": "2022-03-17T19:25:01.774Z"
   },
   {
    "duration": 12,
    "start_time": "2022-03-17T19:25:35.096Z"
   },
   {
    "duration": 8,
    "start_time": "2022-03-17T19:25:48.058Z"
   },
   {
    "duration": 8,
    "start_time": "2022-03-17T19:25:52.724Z"
   },
   {
    "duration": 17,
    "start_time": "2022-03-17T19:26:21.750Z"
   },
   {
    "duration": 3,
    "start_time": "2022-03-17T19:28:35.589Z"
   },
   {
    "duration": 11,
    "start_time": "2022-03-17T19:28:35.594Z"
   },
   {
    "duration": 62,
    "start_time": "2022-03-17T19:28:35.607Z"
   },
   {
    "duration": 27,
    "start_time": "2022-03-17T19:28:35.671Z"
   },
   {
    "duration": 7,
    "start_time": "2022-03-17T19:28:35.700Z"
   },
   {
    "duration": 33,
    "start_time": "2022-03-17T19:28:35.708Z"
   },
   {
    "duration": 4,
    "start_time": "2022-03-17T19:28:35.743Z"
   },
   {
    "duration": 10,
    "start_time": "2022-03-17T19:28:35.749Z"
   },
   {
    "duration": 16,
    "start_time": "2022-03-17T19:28:35.761Z"
   },
   {
    "duration": 17,
    "start_time": "2022-03-17T19:28:35.778Z"
   },
   {
    "duration": 15,
    "start_time": "2022-03-17T19:29:39.661Z"
   },
   {
    "duration": 16,
    "start_time": "2022-03-17T19:29:47.481Z"
   },
   {
    "duration": 286,
    "start_time": "2022-03-17T19:40:36.284Z"
   },
   {
    "duration": 295,
    "start_time": "2022-03-17T19:40:45.026Z"
   },
   {
    "duration": 298,
    "start_time": "2022-03-17T19:40:56.049Z"
   },
   {
    "duration": 295,
    "start_time": "2022-03-17T19:41:13.600Z"
   },
   {
    "duration": 7,
    "start_time": "2022-03-17T19:44:37.102Z"
   },
   {
    "duration": 9,
    "start_time": "2022-03-17T19:44:41.310Z"
   },
   {
    "duration": 496,
    "start_time": "2022-03-17T19:44:46.418Z"
   },
   {
    "duration": 5,
    "start_time": "2022-03-17T19:45:26.131Z"
   },
   {
    "duration": 5,
    "start_time": "2022-03-17T19:46:07.699Z"
   },
   {
    "duration": 9,
    "start_time": "2022-03-17T19:46:10.047Z"
   },
   {
    "duration": 418,
    "start_time": "2022-03-17T19:46:11.322Z"
   },
   {
    "duration": 17,
    "start_time": "2022-03-17T19:46:21.098Z"
   },
   {
    "duration": 22,
    "start_time": "2022-03-17T20:01:42.155Z"
   },
   {
    "duration": 17,
    "start_time": "2022-03-17T20:02:06.165Z"
   },
   {
    "duration": 16,
    "start_time": "2022-03-17T20:05:12.372Z"
   },
   {
    "duration": 17,
    "start_time": "2022-03-17T20:05:21.686Z"
   },
   {
    "duration": 20,
    "start_time": "2022-03-17T20:09:55.907Z"
   },
   {
    "duration": 3,
    "start_time": "2022-03-17T20:17:56.255Z"
   },
   {
    "duration": 17,
    "start_time": "2022-03-17T20:17:56.260Z"
   },
   {
    "duration": 67,
    "start_time": "2022-03-17T20:17:56.279Z"
   },
   {
    "duration": 25,
    "start_time": "2022-03-17T20:17:56.348Z"
   },
   {
    "duration": 7,
    "start_time": "2022-03-17T20:17:56.374Z"
   },
   {
    "duration": 10,
    "start_time": "2022-03-17T20:17:56.382Z"
   },
   {
    "duration": 5,
    "start_time": "2022-03-17T20:17:56.394Z"
   },
   {
    "duration": 42,
    "start_time": "2022-03-17T20:17:56.400Z"
   },
   {
    "duration": 17,
    "start_time": "2022-03-17T20:17:56.444Z"
   },
   {
    "duration": 17,
    "start_time": "2022-03-17T20:17:56.464Z"
   },
   {
    "duration": 335,
    "start_time": "2022-03-17T20:17:56.483Z"
   },
   {
    "duration": 7,
    "start_time": "2022-03-17T20:17:56.821Z"
   },
   {
    "duration": 9,
    "start_time": "2022-03-17T20:17:56.837Z"
   },
   {
    "duration": 429,
    "start_time": "2022-03-17T20:17:56.848Z"
   },
   {
    "duration": 20,
    "start_time": "2022-03-17T20:17:57.279Z"
   },
   {
    "duration": 13,
    "start_time": "2022-03-17T20:17:57.301Z"
   },
   {
    "duration": 238,
    "start_time": "2022-03-17T20:17:57.316Z"
   },
   {
    "duration": 6,
    "start_time": "2022-03-17T20:17:57.555Z"
   },
   {
    "duration": 153,
    "start_time": "2022-03-17T20:17:57.563Z"
   },
   {
    "duration": 149,
    "start_time": "2022-03-17T20:17:57.718Z"
   },
   {
    "duration": 7,
    "start_time": "2022-03-17T20:17:57.869Z"
   },
   {
    "duration": 228,
    "start_time": "2022-03-17T20:17:57.877Z"
   },
   {
    "duration": 331,
    "start_time": "2022-03-17T20:17:58.106Z"
   },
   {
    "duration": 244,
    "start_time": "2022-03-17T20:17:58.439Z"
   },
   {
    "duration": 221,
    "start_time": "2022-03-17T20:17:58.685Z"
   },
   {
    "duration": 37,
    "start_time": "2022-03-17T20:17:58.907Z"
   },
   {
    "duration": 15,
    "start_time": "2022-03-17T20:17:58.946Z"
   },
   {
    "duration": 28,
    "start_time": "2022-03-17T20:17:58.964Z"
   },
   {
    "duration": 4,
    "start_time": "2022-03-17T20:17:58.993Z"
   },
   {
    "duration": 10,
    "start_time": "2022-03-17T20:17:58.999Z"
   },
   {
    "duration": 5,
    "start_time": "2022-03-17T20:17:59.038Z"
   },
   {
    "duration": 19,
    "start_time": "2022-03-17T20:17:59.044Z"
   },
   {
    "duration": 161,
    "start_time": "2022-03-17T20:23:11.317Z"
   },
   {
    "duration": 153,
    "start_time": "2022-03-17T20:23:41.461Z"
   },
   {
    "duration": 143,
    "start_time": "2022-03-17T20:25:39.508Z"
   },
   {
    "duration": 165,
    "start_time": "2022-03-17T20:27:47.029Z"
   },
   {
    "duration": 133,
    "start_time": "2022-03-17T20:27:54.465Z"
   },
   {
    "duration": 141,
    "start_time": "2022-03-17T20:28:03.083Z"
   },
   {
    "duration": 3,
    "start_time": "2022-03-17T20:45:12.536Z"
   },
   {
    "duration": 6,
    "start_time": "2022-03-17T20:45:12.541Z"
   },
   {
    "duration": 67,
    "start_time": "2022-03-17T20:45:12.549Z"
   },
   {
    "duration": 41,
    "start_time": "2022-03-17T20:45:12.618Z"
   },
   {
    "duration": 6,
    "start_time": "2022-03-17T20:45:12.661Z"
   },
   {
    "duration": 9,
    "start_time": "2022-03-17T20:45:12.668Z"
   },
   {
    "duration": 4,
    "start_time": "2022-03-17T20:45:12.679Z"
   },
   {
    "duration": 10,
    "start_time": "2022-03-17T20:45:12.684Z"
   },
   {
    "duration": 54,
    "start_time": "2022-03-17T20:45:12.696Z"
   },
   {
    "duration": 16,
    "start_time": "2022-03-17T20:45:12.751Z"
   },
   {
    "duration": 464,
    "start_time": "2022-03-17T20:45:12.768Z"
   },
   {
    "duration": 9,
    "start_time": "2022-03-17T20:45:13.234Z"
   },
   {
    "duration": 10,
    "start_time": "2022-03-17T20:45:13.245Z"
   },
   {
    "duration": 452,
    "start_time": "2022-03-17T20:45:13.256Z"
   },
   {
    "duration": 35,
    "start_time": "2022-03-17T20:45:13.710Z"
   },
   {
    "duration": 17,
    "start_time": "2022-03-17T20:45:13.747Z"
   },
   {
    "duration": 253,
    "start_time": "2022-03-17T20:45:13.766Z"
   },
   {
    "duration": 18,
    "start_time": "2022-03-17T20:45:14.021Z"
   },
   {
    "duration": 171,
    "start_time": "2022-03-17T20:45:14.041Z"
   },
   {
    "duration": 233,
    "start_time": "2022-03-17T20:45:14.214Z"
   },
   {
    "duration": 1408,
    "start_time": "2022-03-17T20:45:17.892Z"
   },
   {
    "duration": 448,
    "start_time": "2022-03-17T20:46:16.422Z"
   },
   {
    "duration": 590,
    "start_time": "2022-03-17T20:46:51.242Z"
   },
   {
    "duration": 852,
    "start_time": "2022-03-17T20:53:36.981Z"
   },
   {
    "duration": 863,
    "start_time": "2022-03-17T20:53:55.233Z"
   },
   {
    "duration": 1109,
    "start_time": "2022-03-18T04:55:36.637Z"
   },
   {
    "duration": 3,
    "start_time": "2022-03-18T04:55:37.747Z"
   },
   {
    "duration": 64,
    "start_time": "2022-03-18T04:55:37.752Z"
   },
   {
    "duration": 24,
    "start_time": "2022-03-18T04:55:37.818Z"
   },
   {
    "duration": 6,
    "start_time": "2022-03-18T04:55:37.844Z"
   },
   {
    "duration": 11,
    "start_time": "2022-03-18T04:55:37.852Z"
   },
   {
    "duration": 4,
    "start_time": "2022-03-18T04:55:37.864Z"
   },
   {
    "duration": 35,
    "start_time": "2022-03-18T04:55:37.870Z"
   },
   {
    "duration": 14,
    "start_time": "2022-03-18T04:55:37.906Z"
   },
   {
    "duration": 14,
    "start_time": "2022-03-18T04:55:37.923Z"
   },
   {
    "duration": 300,
    "start_time": "2022-03-18T04:55:37.938Z"
   },
   {
    "duration": 6,
    "start_time": "2022-03-18T04:55:38.239Z"
   },
   {
    "duration": 11,
    "start_time": "2022-03-18T04:55:38.246Z"
   },
   {
    "duration": 498,
    "start_time": "2022-03-18T04:55:38.259Z"
   },
   {
    "duration": 18,
    "start_time": "2022-03-18T04:55:38.759Z"
   },
   {
    "duration": 12,
    "start_time": "2022-03-18T04:55:38.779Z"
   },
   {
    "duration": 195,
    "start_time": "2022-03-18T04:55:38.792Z"
   },
   {
    "duration": 14,
    "start_time": "2022-03-18T04:55:38.988Z"
   },
   {
    "duration": 131,
    "start_time": "2022-03-18T04:55:39.003Z"
   },
   {
    "duration": 92,
    "start_time": "2022-03-18T04:55:39.136Z"
   },
   {
    "duration": 0,
    "start_time": "2022-03-18T04:55:39.230Z"
   },
   {
    "duration": 0,
    "start_time": "2022-03-18T04:55:39.231Z"
   },
   {
    "duration": 0,
    "start_time": "2022-03-18T04:55:39.232Z"
   },
   {
    "duration": 0,
    "start_time": "2022-03-18T04:55:39.233Z"
   },
   {
    "duration": 0,
    "start_time": "2022-03-18T04:55:39.234Z"
   },
   {
    "duration": 0,
    "start_time": "2022-03-18T04:55:39.235Z"
   },
   {
    "duration": 0,
    "start_time": "2022-03-18T04:55:39.236Z"
   },
   {
    "duration": 0,
    "start_time": "2022-03-18T04:55:39.237Z"
   },
   {
    "duration": 0,
    "start_time": "2022-03-18T04:55:39.238Z"
   },
   {
    "duration": 0,
    "start_time": "2022-03-18T04:55:39.239Z"
   },
   {
    "duration": 0,
    "start_time": "2022-03-18T04:55:39.240Z"
   },
   {
    "duration": 15,
    "start_time": "2022-03-18T04:57:13.411Z"
   },
   {
    "duration": 171,
    "start_time": "2022-03-18T04:58:10.654Z"
   },
   {
    "duration": 1171,
    "start_time": "2022-03-18T04:58:56.170Z"
   },
   {
    "duration": 2,
    "start_time": "2022-03-18T04:58:57.343Z"
   },
   {
    "duration": 70,
    "start_time": "2022-03-18T04:58:57.346Z"
   },
   {
    "duration": 24,
    "start_time": "2022-03-18T04:58:57.418Z"
   },
   {
    "duration": 5,
    "start_time": "2022-03-18T04:58:57.444Z"
   },
   {
    "duration": 8,
    "start_time": "2022-03-18T04:58:57.451Z"
   },
   {
    "duration": 12,
    "start_time": "2022-03-18T04:58:57.461Z"
   },
   {
    "duration": 28,
    "start_time": "2022-03-18T04:58:57.474Z"
   },
   {
    "duration": 21,
    "start_time": "2022-03-18T04:58:57.503Z"
   },
   {
    "duration": 19,
    "start_time": "2022-03-18T04:58:57.526Z"
   },
   {
    "duration": 293,
    "start_time": "2022-03-18T04:58:57.546Z"
   },
   {
    "duration": 6,
    "start_time": "2022-03-18T04:58:57.840Z"
   },
   {
    "duration": 11,
    "start_time": "2022-03-18T04:58:57.847Z"
   },
   {
    "duration": 406,
    "start_time": "2022-03-18T04:58:57.860Z"
   },
   {
    "duration": 19,
    "start_time": "2022-03-18T04:58:58.267Z"
   },
   {
    "duration": 15,
    "start_time": "2022-03-18T04:58:58.288Z"
   },
   {
    "duration": 198,
    "start_time": "2022-03-18T04:58:58.305Z"
   },
   {
    "duration": 5,
    "start_time": "2022-03-18T04:58:58.505Z"
   },
   {
    "duration": 144,
    "start_time": "2022-03-18T04:58:58.511Z"
   },
   {
    "duration": 178,
    "start_time": "2022-03-18T04:58:58.656Z"
   },
   {
    "duration": 754,
    "start_time": "2022-03-18T04:58:58.836Z"
   },
   {
    "duration": 175,
    "start_time": "2022-03-18T04:58:59.591Z"
   },
   {
    "duration": 0,
    "start_time": "2022-03-18T04:58:59.767Z"
   },
   {
    "duration": 0,
    "start_time": "2022-03-18T04:58:59.768Z"
   },
   {
    "duration": 0,
    "start_time": "2022-03-18T04:58:59.769Z"
   },
   {
    "duration": 0,
    "start_time": "2022-03-18T04:58:59.770Z"
   },
   {
    "duration": 0,
    "start_time": "2022-03-18T04:58:59.771Z"
   },
   {
    "duration": 0,
    "start_time": "2022-03-18T04:58:59.772Z"
   },
   {
    "duration": 0,
    "start_time": "2022-03-18T04:58:59.773Z"
   },
   {
    "duration": 0,
    "start_time": "2022-03-18T04:58:59.773Z"
   },
   {
    "duration": 0,
    "start_time": "2022-03-18T04:58:59.774Z"
   },
   {
    "duration": 1280,
    "start_time": "2022-03-18T04:59:25.955Z"
   },
   {
    "duration": 3,
    "start_time": "2022-03-18T04:59:27.237Z"
   },
   {
    "duration": 95,
    "start_time": "2022-03-18T04:59:27.241Z"
   },
   {
    "duration": 30,
    "start_time": "2022-03-18T04:59:27.339Z"
   },
   {
    "duration": 5,
    "start_time": "2022-03-18T04:59:27.371Z"
   },
   {
    "duration": 25,
    "start_time": "2022-03-18T04:59:27.378Z"
   },
   {
    "duration": 5,
    "start_time": "2022-03-18T04:59:27.405Z"
   },
   {
    "duration": 8,
    "start_time": "2022-03-18T04:59:27.412Z"
   },
   {
    "duration": 16,
    "start_time": "2022-03-18T04:59:27.422Z"
   },
   {
    "duration": 19,
    "start_time": "2022-03-18T04:59:27.441Z"
   },
   {
    "duration": 309,
    "start_time": "2022-03-18T04:59:27.462Z"
   },
   {
    "duration": 6,
    "start_time": "2022-03-18T04:59:27.772Z"
   },
   {
    "duration": 25,
    "start_time": "2022-03-18T04:59:27.779Z"
   },
   {
    "duration": 416,
    "start_time": "2022-03-18T04:59:27.806Z"
   },
   {
    "duration": 18,
    "start_time": "2022-03-18T04:59:28.224Z"
   },
   {
    "duration": 23,
    "start_time": "2022-03-18T04:59:28.244Z"
   },
   {
    "duration": 208,
    "start_time": "2022-03-18T04:59:28.268Z"
   },
   {
    "duration": 5,
    "start_time": "2022-03-18T04:59:28.478Z"
   },
   {
    "duration": 148,
    "start_time": "2022-03-18T04:59:28.484Z"
   },
   {
    "duration": 102,
    "start_time": "2022-03-18T04:59:28.634Z"
   },
   {
    "duration": 0,
    "start_time": "2022-03-18T04:59:28.738Z"
   },
   {
    "duration": 0,
    "start_time": "2022-03-18T04:59:28.740Z"
   },
   {
    "duration": 0,
    "start_time": "2022-03-18T04:59:28.741Z"
   },
   {
    "duration": 0,
    "start_time": "2022-03-18T04:59:28.742Z"
   },
   {
    "duration": 0,
    "start_time": "2022-03-18T04:59:28.743Z"
   },
   {
    "duration": 0,
    "start_time": "2022-03-18T04:59:28.745Z"
   },
   {
    "duration": 0,
    "start_time": "2022-03-18T04:59:28.746Z"
   },
   {
    "duration": 0,
    "start_time": "2022-03-18T04:59:28.747Z"
   },
   {
    "duration": 0,
    "start_time": "2022-03-18T04:59:28.749Z"
   },
   {
    "duration": 0,
    "start_time": "2022-03-18T04:59:28.750Z"
   },
   {
    "duration": 0,
    "start_time": "2022-03-18T04:59:28.751Z"
   },
   {
    "duration": 47,
    "start_time": "2022-03-18T05:31:05.374Z"
   },
   {
    "duration": 8,
    "start_time": "2022-03-18T05:31:08.947Z"
   },
   {
    "duration": 1245,
    "start_time": "2022-03-18T05:31:15.078Z"
   },
   {
    "duration": 3,
    "start_time": "2022-03-18T05:31:16.325Z"
   },
   {
    "duration": 92,
    "start_time": "2022-03-18T05:31:16.329Z"
   },
   {
    "duration": 25,
    "start_time": "2022-03-18T05:31:16.422Z"
   },
   {
    "duration": 7,
    "start_time": "2022-03-18T05:31:16.449Z"
   },
   {
    "duration": 50,
    "start_time": "2022-03-18T05:31:16.457Z"
   },
   {
    "duration": 12,
    "start_time": "2022-03-18T05:31:16.509Z"
   },
   {
    "duration": 32,
    "start_time": "2022-03-18T05:31:16.523Z"
   },
   {
    "duration": 26,
    "start_time": "2022-03-18T05:31:16.556Z"
   },
   {
    "duration": 22,
    "start_time": "2022-03-18T05:31:16.584Z"
   },
   {
    "duration": 316,
    "start_time": "2022-03-18T05:31:16.607Z"
   },
   {
    "duration": 14,
    "start_time": "2022-03-18T05:31:16.925Z"
   },
   {
    "duration": 11,
    "start_time": "2022-03-18T05:31:16.940Z"
   },
   {
    "duration": 436,
    "start_time": "2022-03-18T05:31:16.954Z"
   },
   {
    "duration": 19,
    "start_time": "2022-03-18T05:31:17.392Z"
   },
   {
    "duration": 13,
    "start_time": "2022-03-18T05:31:17.413Z"
   },
   {
    "duration": 225,
    "start_time": "2022-03-18T05:31:17.427Z"
   },
   {
    "duration": 5,
    "start_time": "2022-03-18T05:31:17.654Z"
   },
   {
    "duration": 156,
    "start_time": "2022-03-18T05:31:17.661Z"
   },
   {
    "duration": 213,
    "start_time": "2022-03-18T05:31:17.819Z"
   },
   {
    "duration": 872,
    "start_time": "2022-03-18T05:31:18.034Z"
   },
   {
    "duration": 236,
    "start_time": "2022-03-18T05:31:18.908Z"
   },
   {
    "duration": 243,
    "start_time": "2022-03-18T05:31:19.146Z"
   },
   {
    "duration": 222,
    "start_time": "2022-03-18T05:31:19.390Z"
   },
   {
    "duration": 37,
    "start_time": "2022-03-18T05:31:19.613Z"
   },
   {
    "duration": 14,
    "start_time": "2022-03-18T05:31:19.652Z"
   },
   {
    "duration": 41,
    "start_time": "2022-03-18T05:31:19.667Z"
   },
   {
    "duration": 16,
    "start_time": "2022-03-18T05:31:19.709Z"
   },
   {
    "duration": 15,
    "start_time": "2022-03-18T05:31:19.727Z"
   },
   {
    "duration": 9,
    "start_time": "2022-03-18T05:31:19.744Z"
   },
   {
    "duration": 29,
    "start_time": "2022-03-18T05:31:19.755Z"
   },
   {
    "duration": 115,
    "start_time": "2022-03-18T05:32:13.247Z"
   },
   {
    "duration": 113,
    "start_time": "2022-03-18T05:32:44.105Z"
   },
   {
    "duration": 3,
    "start_time": "2022-03-18T05:33:20.264Z"
   },
   {
    "duration": 8,
    "start_time": "2022-03-18T05:33:20.268Z"
   },
   {
    "duration": 60,
    "start_time": "2022-03-18T05:33:20.278Z"
   },
   {
    "duration": 25,
    "start_time": "2022-03-18T05:33:20.340Z"
   },
   {
    "duration": 6,
    "start_time": "2022-03-18T05:33:20.367Z"
   },
   {
    "duration": 19,
    "start_time": "2022-03-18T05:33:20.374Z"
   },
   {
    "duration": 4,
    "start_time": "2022-03-18T05:33:20.395Z"
   },
   {
    "duration": 10,
    "start_time": "2022-03-18T05:33:20.401Z"
   },
   {
    "duration": 36,
    "start_time": "2022-03-18T05:33:20.413Z"
   },
   {
    "duration": 14,
    "start_time": "2022-03-18T05:33:20.451Z"
   },
   {
    "duration": 407,
    "start_time": "2022-03-18T05:33:20.467Z"
   },
   {
    "duration": 6,
    "start_time": "2022-03-18T05:33:20.876Z"
   },
   {
    "duration": 21,
    "start_time": "2022-03-18T05:33:20.885Z"
   },
   {
    "duration": 404,
    "start_time": "2022-03-18T05:33:20.907Z"
   },
   {
    "duration": 34,
    "start_time": "2022-03-18T05:33:21.313Z"
   },
   {
    "duration": 14,
    "start_time": "2022-03-18T05:33:21.349Z"
   },
   {
    "duration": 238,
    "start_time": "2022-03-18T05:33:21.365Z"
   },
   {
    "duration": 6,
    "start_time": "2022-03-18T05:33:21.605Z"
   },
   {
    "duration": 157,
    "start_time": "2022-03-18T05:33:21.612Z"
   },
   {
    "duration": 212,
    "start_time": "2022-03-18T05:33:21.770Z"
   },
   {
    "duration": 792,
    "start_time": "2022-03-18T05:33:21.983Z"
   },
   {
    "duration": 343,
    "start_time": "2022-03-18T05:33:22.777Z"
   },
   {
    "duration": 237,
    "start_time": "2022-03-18T05:33:23.122Z"
   },
   {
    "duration": 212,
    "start_time": "2022-03-18T05:33:23.361Z"
   },
   {
    "duration": 26,
    "start_time": "2022-03-18T05:33:23.575Z"
   },
   {
    "duration": 35,
    "start_time": "2022-03-18T05:33:23.603Z"
   },
   {
    "duration": 29,
    "start_time": "2022-03-18T05:33:23.640Z"
   },
   {
    "duration": 5,
    "start_time": "2022-03-18T05:33:23.670Z"
   },
   {
    "duration": 7,
    "start_time": "2022-03-18T05:33:23.676Z"
   },
   {
    "duration": 6,
    "start_time": "2022-03-18T05:33:23.685Z"
   },
   {
    "duration": 9,
    "start_time": "2022-03-18T05:33:23.692Z"
   }
  ],
  "kernelspec": {
   "display_name": "Python 3 (ipykernel)",
   "language": "python",
   "name": "python3"
  },
  "language_info": {
   "codemirror_mode": {
    "name": "ipython",
    "version": 3
   },
   "file_extension": ".py",
   "mimetype": "text/x-python",
   "name": "python",
   "nbconvert_exporter": "python",
   "pygments_lexer": "ipython3",
   "version": "3.11.3"
  },
  "toc": {
   "base_numbering": 1,
   "nav_menu": {},
   "number_sections": true,
   "sideBar": true,
   "skip_h1_title": true,
   "title_cell": "Table of Contents",
   "title_sidebar": "Contents",
   "toc_cell": false,
   "toc_position": {},
   "toc_section_display": true,
   "toc_window_display": false
  }
 },
 "nbformat": 4,
 "nbformat_minor": 2
}
