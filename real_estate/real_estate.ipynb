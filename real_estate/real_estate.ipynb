{
  "cells": [
    {
      "cell_type": "markdown",
      "metadata": {
        "toc": true
      },
      "source": [
        "<h1>Содержание<span class=\"tocSkip\"></span></h1>\n",
        "<div class=\"toc\"><ul class=\"toc-item\"><li><span><a href=\"#Изучение-данных-из-файла\" data-toc-modified-id=\"Изучение-данных-из-файла-1\"><span class=\"toc-item-num\">1&nbsp;&nbsp;</span>Изучение данных из файла</a></span><ul class=\"toc-item\"><li><span><a href=\"#Вывод\" data-toc-modified-id=\"Вывод-1.1\"><span class=\"toc-item-num\">1.1&nbsp;&nbsp;</span>Вывод</a></span></li></ul></li><li><span><a href=\"#Предобработка-данных\" data-toc-modified-id=\"Предобработка-данных-2\"><span class=\"toc-item-num\">2&nbsp;&nbsp;</span>Предобработка данных</a></span></li><li><span><a href=\"#Расчёты-и-добавление-результатов-в-таблицу\" data-toc-modified-id=\"Расчёты-и-добавление-результатов-в-таблицу-3\"><span class=\"toc-item-num\">3&nbsp;&nbsp;</span>Расчёты и добавление результатов в таблицу</a></span></li><li><span><a href=\"#Исследовательский-анализ-данных\" data-toc-modified-id=\"Исследовательский-анализ-данных-4\"><span class=\"toc-item-num\">4&nbsp;&nbsp;</span>Исследовательский анализ данных</a></span></li><li><span><a href=\"#Общий-вывод\" data-toc-modified-id=\"Общий-вывод-5\"><span class=\"toc-item-num\">5&nbsp;&nbsp;</span>Общий вывод</a></span></li><li><span><a href=\"#Чек-лист-готовности-проекта\" data-toc-modified-id=\"Чек-лист-готовности-проекта-6\"><span class=\"toc-item-num\">6&nbsp;&nbsp;</span>Чек-лист готовности проекта</a></span></li></ul></div>"
      ]
    },
    {
      "cell_type": "markdown",
      "metadata": {},
      "source": [
        "# Исследование объявлений о продаже квартир\n",
        "\n",
        "В вашем распоряжении данные сервиса Яндекс.Недвижимость — архив объявлений о продаже квартир в Санкт-Петербурге и соседних населённых пунктах за несколько лет. Нужно научиться определять рыночную стоимость объектов недвижимости. Ваша задача — установить параметры. Это позволит построить автоматизированную систему: она отследит аномалии и мошенническую деятельность. \n",
        "\n",
        "По каждой квартире на продажу доступны два вида данных. Первые вписаны пользователем, вторые получены автоматически на основе картографических данных. Например, расстояние до центра, аэропорта, ближайшего парка и водоёма. "
      ]
    },
    {
      "cell_type": "markdown",
      "metadata": {},
      "source": [
        "## Изучение данных из файла"
      ]
    },
    {
      "cell_type": "code",
      "execution_count": 1,
      "metadata": {},
      "outputs": [],
      "source": [
        "# Импортируем библиотеки\n",
        "import pandas as pd\n",
        "import matplotlib.pyplot as plt\n",
        "import seaborn"
      ]
    },
    {
      "cell_type": "code",
      "execution_count": 2,
      "metadata": {},
      "outputs": [],
      "source": [
        "import warnings \n",
        "    \n",
        "warnings.simplefilter('ignore')"
      ]
    },
    {
      "cell_type": "code",
      "execution_count": 3,
      "metadata": {},
      "outputs": [
        {
          "data": {
            "text/html": [
              "<div>\n",
              "<style scoped>\n",
              "    .dataframe tbody tr th:only-of-type {\n",
              "        vertical-align: middle;\n",
              "    }\n",
              "\n",
              "    .dataframe tbody tr th {\n",
              "        vertical-align: top;\n",
              "    }\n",
              "\n",
              "    .dataframe thead th {\n",
              "        text-align: right;\n",
              "    }\n",
              "</style>\n",
              "<table border=\"1\" class=\"dataframe\">\n",
              "  <thead>\n",
              "    <tr style=\"text-align: right;\">\n",
              "      <th></th>\n",
              "      <th>total_images</th>\n",
              "      <th>last_price</th>\n",
              "      <th>total_area</th>\n",
              "      <th>first_day_exposition</th>\n",
              "      <th>rooms</th>\n",
              "      <th>ceiling_height</th>\n",
              "      <th>floors_total</th>\n",
              "      <th>living_area</th>\n",
              "      <th>floor</th>\n",
              "      <th>is_apartment</th>\n",
              "      <th>...</th>\n",
              "      <th>kitchen_area</th>\n",
              "      <th>balcony</th>\n",
              "      <th>locality_name</th>\n",
              "      <th>airports_nearest</th>\n",
              "      <th>cityCenters_nearest</th>\n",
              "      <th>parks_around3000</th>\n",
              "      <th>parks_nearest</th>\n",
              "      <th>ponds_around3000</th>\n",
              "      <th>ponds_nearest</th>\n",
              "      <th>days_exposition</th>\n",
              "    </tr>\n",
              "  </thead>\n",
              "  <tbody>\n",
              "    <tr>\n",
              "      <td>0</td>\n",
              "      <td>20</td>\n",
              "      <td>13000000.0</td>\n",
              "      <td>108.00</td>\n",
              "      <td>2019-03-07T00:00:00</td>\n",
              "      <td>3</td>\n",
              "      <td>2.70</td>\n",
              "      <td>16.0</td>\n",
              "      <td>51.00</td>\n",
              "      <td>8</td>\n",
              "      <td>NaN</td>\n",
              "      <td>...</td>\n",
              "      <td>25.00</td>\n",
              "      <td>NaN</td>\n",
              "      <td>Санкт-Петербург</td>\n",
              "      <td>18863.0</td>\n",
              "      <td>16028.0</td>\n",
              "      <td>1.0</td>\n",
              "      <td>482.0</td>\n",
              "      <td>2.0</td>\n",
              "      <td>755.0</td>\n",
              "      <td>NaN</td>\n",
              "    </tr>\n",
              "    <tr>\n",
              "      <td>1</td>\n",
              "      <td>7</td>\n",
              "      <td>3350000.0</td>\n",
              "      <td>40.40</td>\n",
              "      <td>2018-12-04T00:00:00</td>\n",
              "      <td>1</td>\n",
              "      <td>NaN</td>\n",
              "      <td>11.0</td>\n",
              "      <td>18.60</td>\n",
              "      <td>1</td>\n",
              "      <td>NaN</td>\n",
              "      <td>...</td>\n",
              "      <td>11.00</td>\n",
              "      <td>2.0</td>\n",
              "      <td>посёлок Шушары</td>\n",
              "      <td>12817.0</td>\n",
              "      <td>18603.0</td>\n",
              "      <td>0.0</td>\n",
              "      <td>NaN</td>\n",
              "      <td>0.0</td>\n",
              "      <td>NaN</td>\n",
              "      <td>81.0</td>\n",
              "    </tr>\n",
              "    <tr>\n",
              "      <td>2</td>\n",
              "      <td>10</td>\n",
              "      <td>5196000.0</td>\n",
              "      <td>56.00</td>\n",
              "      <td>2015-08-20T00:00:00</td>\n",
              "      <td>2</td>\n",
              "      <td>NaN</td>\n",
              "      <td>5.0</td>\n",
              "      <td>34.30</td>\n",
              "      <td>4</td>\n",
              "      <td>NaN</td>\n",
              "      <td>...</td>\n",
              "      <td>8.30</td>\n",
              "      <td>0.0</td>\n",
              "      <td>Санкт-Петербург</td>\n",
              "      <td>21741.0</td>\n",
              "      <td>13933.0</td>\n",
              "      <td>1.0</td>\n",
              "      <td>90.0</td>\n",
              "      <td>2.0</td>\n",
              "      <td>574.0</td>\n",
              "      <td>558.0</td>\n",
              "    </tr>\n",
              "    <tr>\n",
              "      <td>3</td>\n",
              "      <td>0</td>\n",
              "      <td>64900000.0</td>\n",
              "      <td>159.00</td>\n",
              "      <td>2015-07-24T00:00:00</td>\n",
              "      <td>3</td>\n",
              "      <td>NaN</td>\n",
              "      <td>14.0</td>\n",
              "      <td>NaN</td>\n",
              "      <td>9</td>\n",
              "      <td>NaN</td>\n",
              "      <td>...</td>\n",
              "      <td>NaN</td>\n",
              "      <td>0.0</td>\n",
              "      <td>Санкт-Петербург</td>\n",
              "      <td>28098.0</td>\n",
              "      <td>6800.0</td>\n",
              "      <td>2.0</td>\n",
              "      <td>84.0</td>\n",
              "      <td>3.0</td>\n",
              "      <td>234.0</td>\n",
              "      <td>424.0</td>\n",
              "    </tr>\n",
              "    <tr>\n",
              "      <td>4</td>\n",
              "      <td>2</td>\n",
              "      <td>10000000.0</td>\n",
              "      <td>100.00</td>\n",
              "      <td>2018-06-19T00:00:00</td>\n",
              "      <td>2</td>\n",
              "      <td>3.03</td>\n",
              "      <td>14.0</td>\n",
              "      <td>32.00</td>\n",
              "      <td>13</td>\n",
              "      <td>NaN</td>\n",
              "      <td>...</td>\n",
              "      <td>41.00</td>\n",
              "      <td>NaN</td>\n",
              "      <td>Санкт-Петербург</td>\n",
              "      <td>31856.0</td>\n",
              "      <td>8098.0</td>\n",
              "      <td>2.0</td>\n",
              "      <td>112.0</td>\n",
              "      <td>1.0</td>\n",
              "      <td>48.0</td>\n",
              "      <td>121.0</td>\n",
              "    </tr>\n",
              "    <tr>\n",
              "      <td>5</td>\n",
              "      <td>10</td>\n",
              "      <td>2890000.0</td>\n",
              "      <td>30.40</td>\n",
              "      <td>2018-09-10T00:00:00</td>\n",
              "      <td>1</td>\n",
              "      <td>NaN</td>\n",
              "      <td>12.0</td>\n",
              "      <td>14.40</td>\n",
              "      <td>5</td>\n",
              "      <td>NaN</td>\n",
              "      <td>...</td>\n",
              "      <td>9.10</td>\n",
              "      <td>NaN</td>\n",
              "      <td>городской посёлок Янино-1</td>\n",
              "      <td>NaN</td>\n",
              "      <td>NaN</td>\n",
              "      <td>NaN</td>\n",
              "      <td>NaN</td>\n",
              "      <td>NaN</td>\n",
              "      <td>NaN</td>\n",
              "      <td>55.0</td>\n",
              "    </tr>\n",
              "    <tr>\n",
              "      <td>6</td>\n",
              "      <td>6</td>\n",
              "      <td>3700000.0</td>\n",
              "      <td>37.30</td>\n",
              "      <td>2017-11-02T00:00:00</td>\n",
              "      <td>1</td>\n",
              "      <td>NaN</td>\n",
              "      <td>26.0</td>\n",
              "      <td>10.60</td>\n",
              "      <td>6</td>\n",
              "      <td>NaN</td>\n",
              "      <td>...</td>\n",
              "      <td>14.40</td>\n",
              "      <td>1.0</td>\n",
              "      <td>посёлок Парголово</td>\n",
              "      <td>52996.0</td>\n",
              "      <td>19143.0</td>\n",
              "      <td>0.0</td>\n",
              "      <td>NaN</td>\n",
              "      <td>0.0</td>\n",
              "      <td>NaN</td>\n",
              "      <td>155.0</td>\n",
              "    </tr>\n",
              "    <tr>\n",
              "      <td>7</td>\n",
              "      <td>5</td>\n",
              "      <td>7915000.0</td>\n",
              "      <td>71.60</td>\n",
              "      <td>2019-04-18T00:00:00</td>\n",
              "      <td>2</td>\n",
              "      <td>NaN</td>\n",
              "      <td>24.0</td>\n",
              "      <td>NaN</td>\n",
              "      <td>22</td>\n",
              "      <td>NaN</td>\n",
              "      <td>...</td>\n",
              "      <td>18.90</td>\n",
              "      <td>2.0</td>\n",
              "      <td>Санкт-Петербург</td>\n",
              "      <td>23982.0</td>\n",
              "      <td>11634.0</td>\n",
              "      <td>0.0</td>\n",
              "      <td>NaN</td>\n",
              "      <td>0.0</td>\n",
              "      <td>NaN</td>\n",
              "      <td>NaN</td>\n",
              "    </tr>\n",
              "    <tr>\n",
              "      <td>8</td>\n",
              "      <td>20</td>\n",
              "      <td>2900000.0</td>\n",
              "      <td>33.16</td>\n",
              "      <td>2018-05-23T00:00:00</td>\n",
              "      <td>1</td>\n",
              "      <td>NaN</td>\n",
              "      <td>27.0</td>\n",
              "      <td>15.43</td>\n",
              "      <td>26</td>\n",
              "      <td>NaN</td>\n",
              "      <td>...</td>\n",
              "      <td>8.81</td>\n",
              "      <td>NaN</td>\n",
              "      <td>посёлок Мурино</td>\n",
              "      <td>NaN</td>\n",
              "      <td>NaN</td>\n",
              "      <td>NaN</td>\n",
              "      <td>NaN</td>\n",
              "      <td>NaN</td>\n",
              "      <td>NaN</td>\n",
              "      <td>189.0</td>\n",
              "    </tr>\n",
              "    <tr>\n",
              "      <td>9</td>\n",
              "      <td>18</td>\n",
              "      <td>5400000.0</td>\n",
              "      <td>61.00</td>\n",
              "      <td>2017-02-26T00:00:00</td>\n",
              "      <td>3</td>\n",
              "      <td>2.50</td>\n",
              "      <td>9.0</td>\n",
              "      <td>43.60</td>\n",
              "      <td>7</td>\n",
              "      <td>NaN</td>\n",
              "      <td>...</td>\n",
              "      <td>6.50</td>\n",
              "      <td>2.0</td>\n",
              "      <td>Санкт-Петербург</td>\n",
              "      <td>50898.0</td>\n",
              "      <td>15008.0</td>\n",
              "      <td>0.0</td>\n",
              "      <td>NaN</td>\n",
              "      <td>0.0</td>\n",
              "      <td>NaN</td>\n",
              "      <td>289.0</td>\n",
              "    </tr>\n",
              "  </tbody>\n",
              "</table>\n",
              "<p>10 rows × 22 columns</p>\n",
              "</div>"
            ],
            "text/plain": [
              "   total_images  last_price  total_area first_day_exposition  rooms  \\\n",
              "0            20  13000000.0      108.00  2019-03-07T00:00:00      3   \n",
              "1             7   3350000.0       40.40  2018-12-04T00:00:00      1   \n",
              "2            10   5196000.0       56.00  2015-08-20T00:00:00      2   \n",
              "3             0  64900000.0      159.00  2015-07-24T00:00:00      3   \n",
              "4             2  10000000.0      100.00  2018-06-19T00:00:00      2   \n",
              "5            10   2890000.0       30.40  2018-09-10T00:00:00      1   \n",
              "6             6   3700000.0       37.30  2017-11-02T00:00:00      1   \n",
              "7             5   7915000.0       71.60  2019-04-18T00:00:00      2   \n",
              "8            20   2900000.0       33.16  2018-05-23T00:00:00      1   \n",
              "9            18   5400000.0       61.00  2017-02-26T00:00:00      3   \n",
              "\n",
              "   ceiling_height  floors_total  living_area  floor is_apartment  ...  \\\n",
              "0            2.70          16.0        51.00      8          NaN  ...   \n",
              "1             NaN          11.0        18.60      1          NaN  ...   \n",
              "2             NaN           5.0        34.30      4          NaN  ...   \n",
              "3             NaN          14.0          NaN      9          NaN  ...   \n",
              "4            3.03          14.0        32.00     13          NaN  ...   \n",
              "5             NaN          12.0        14.40      5          NaN  ...   \n",
              "6             NaN          26.0        10.60      6          NaN  ...   \n",
              "7             NaN          24.0          NaN     22          NaN  ...   \n",
              "8             NaN          27.0        15.43     26          NaN  ...   \n",
              "9            2.50           9.0        43.60      7          NaN  ...   \n",
              "\n",
              "   kitchen_area  balcony              locality_name  airports_nearest  \\\n",
              "0         25.00      NaN            Санкт-Петербург           18863.0   \n",
              "1         11.00      2.0             посёлок Шушары           12817.0   \n",
              "2          8.30      0.0            Санкт-Петербург           21741.0   \n",
              "3           NaN      0.0            Санкт-Петербург           28098.0   \n",
              "4         41.00      NaN            Санкт-Петербург           31856.0   \n",
              "5          9.10      NaN  городской посёлок Янино-1               NaN   \n",
              "6         14.40      1.0          посёлок Парголово           52996.0   \n",
              "7         18.90      2.0            Санкт-Петербург           23982.0   \n",
              "8          8.81      NaN             посёлок Мурино               NaN   \n",
              "9          6.50      2.0            Санкт-Петербург           50898.0   \n",
              "\n",
              "  cityCenters_nearest  parks_around3000  parks_nearest  ponds_around3000  \\\n",
              "0             16028.0               1.0          482.0               2.0   \n",
              "1             18603.0               0.0            NaN               0.0   \n",
              "2             13933.0               1.0           90.0               2.0   \n",
              "3              6800.0               2.0           84.0               3.0   \n",
              "4              8098.0               2.0          112.0               1.0   \n",
              "5                 NaN               NaN            NaN               NaN   \n",
              "6             19143.0               0.0            NaN               0.0   \n",
              "7             11634.0               0.0            NaN               0.0   \n",
              "8                 NaN               NaN            NaN               NaN   \n",
              "9             15008.0               0.0            NaN               0.0   \n",
              "\n",
              "   ponds_nearest  days_exposition  \n",
              "0          755.0              NaN  \n",
              "1            NaN             81.0  \n",
              "2          574.0            558.0  \n",
              "3          234.0            424.0  \n",
              "4           48.0            121.0  \n",
              "5            NaN             55.0  \n",
              "6            NaN            155.0  \n",
              "7            NaN              NaN  \n",
              "8            NaN            189.0  \n",
              "9            NaN            289.0  \n",
              "\n",
              "[10 rows x 22 columns]"
            ]
          },
          "metadata": {},
          "output_type": "display_data"
        },
        {
          "name": "stdout",
          "output_type": "stream",
          "text": [
            "<class 'pandas.core.frame.DataFrame'>\n",
            "RangeIndex: 23699 entries, 0 to 23698\n",
            "Data columns (total 22 columns):\n",
            "total_images            23699 non-null int64\n",
            "last_price              23699 non-null float64\n",
            "total_area              23699 non-null float64\n",
            "first_day_exposition    23699 non-null object\n",
            "rooms                   23699 non-null int64\n",
            "ceiling_height          14504 non-null float64\n",
            "floors_total            23613 non-null float64\n",
            "living_area             21796 non-null float64\n",
            "floor                   23699 non-null int64\n",
            "is_apartment            2775 non-null object\n",
            "studio                  23699 non-null bool\n",
            "open_plan               23699 non-null bool\n",
            "kitchen_area            21421 non-null float64\n",
            "balcony                 12180 non-null float64\n",
            "locality_name           23650 non-null object\n",
            "airports_nearest        18157 non-null float64\n",
            "cityCenters_nearest     18180 non-null float64\n",
            "parks_around3000        18181 non-null float64\n",
            "parks_nearest           8079 non-null float64\n",
            "ponds_around3000        18181 non-null float64\n",
            "ponds_nearest           9110 non-null float64\n",
            "days_exposition         20518 non-null float64\n",
            "dtypes: bool(2), float64(14), int64(3), object(3)\n",
            "memory usage: 3.7+ MB\n"
          ]
        },
        {
          "data": {
            "text/plain": [
              "Санкт-Петербург                  15721\n",
              "посёлок Мурино                     522\n",
              "посёлок Шушары                     440\n",
              "Всеволожск                         398\n",
              "Пушкин                             369\n",
              "                                 ...  \n",
              "поселок Севастьяново                 1\n",
              "деревня Хапо-Ое                      1\n",
              "поселок Семиозерье                   1\n",
              "поселок Коробицыно                   1\n",
              "поселок Пансионат Зелёный Бор        1\n",
              "Name: locality_name, Length: 364, dtype: int64"
            ]
          },
          "metadata": {},
          "output_type": "display_data"
        },
        {
          "data": {
            "text/plain": [
              "10    1798\n",
              "9     1725\n",
              "20    1694\n",
              "8     1585\n",
              "7     1521\n",
              "6     1482\n",
              "11    1362\n",
              "5     1301\n",
              "12    1225\n",
              "0     1059\n",
              "13    1015\n",
              "14     986\n",
              "4      986\n",
              "15     948\n",
              "1      872\n",
              "3      769\n",
              "16     761\n",
              "17     650\n",
              "18     642\n",
              "2      640\n",
              "19     603\n",
              "23      16\n",
              "21      12\n",
              "24       8\n",
              "22       8\n",
              "26       5\n",
              "28       4\n",
              "32       4\n",
              "50       3\n",
              "29       3\n",
              "31       2\n",
              "35       2\n",
              "30       2\n",
              "27       2\n",
              "37       1\n",
              "39       1\n",
              "25       1\n",
              "42       1\n",
              "Name: total_images, dtype: int64"
            ]
          },
          "metadata": {},
          "output_type": "display_data"
        },
        {
          "data": {
            "text/plain": [
              "4500000.0     342\n",
              "3500000.0     291\n",
              "4000000.0     260\n",
              "4300000.0     260\n",
              "4200000.0     259\n",
              "             ... \n",
              "4412094.0       1\n",
              "6416000.0       1\n",
              "4581000.0       1\n",
              "34551000.0      1\n",
              "6029433.0       1\n",
              "Name: last_price, Length: 2978, dtype: int64"
            ]
          },
          "metadata": {},
          "output_type": "display_data"
        },
        {
          "data": {
            "text/plain": [
              "45.00     419\n",
              "42.00     383\n",
              "60.00     347\n",
              "31.00     346\n",
              "44.00     345\n",
              "         ... \n",
              "45.85       1\n",
              "44.18       1\n",
              "59.83       1\n",
              "127.20      1\n",
              "23.55       1\n",
              "Name: total_area, Length: 2182, dtype: int64"
            ]
          },
          "metadata": {},
          "output_type": "display_data"
        },
        {
          "data": {
            "text/plain": [
              "1     8047\n",
              "2     7940\n",
              "3     5814\n",
              "4     1180\n",
              "5      326\n",
              "0      197\n",
              "6      105\n",
              "7       59\n",
              "8       12\n",
              "9        8\n",
              "10       3\n",
              "14       2\n",
              "11       2\n",
              "19       1\n",
              "12       1\n",
              "16       1\n",
              "15       1\n",
              "Name: rooms, dtype: int64"
            ]
          },
          "metadata": {},
          "output_type": "display_data"
        },
        {
          "data": {
            "text/plain": [
              "5.0     5788\n",
              "9.0     3761\n",
              "16.0    1376\n",
              "12.0    1362\n",
              "4.0     1200\n",
              "10.0    1174\n",
              "25.0    1075\n",
              "6.0      914\n",
              "17.0     833\n",
              "3.0      668\n",
              "7.0      592\n",
              "14.0     553\n",
              "18.0     505\n",
              "24.0     469\n",
              "8.0      390\n",
              "2.0      383\n",
              "15.0     365\n",
              "23.0     352\n",
              "19.0     339\n",
              "22.0     286\n",
              "20.0     271\n",
              "13.0     229\n",
              "11.0     203\n",
              "27.0     164\n",
              "21.0     158\n",
              "26.0     124\n",
              "1.0       25\n",
              "35.0      24\n",
              "28.0      21\n",
              "36.0       3\n",
              "29.0       1\n",
              "60.0       1\n",
              "33.0       1\n",
              "52.0       1\n",
              "37.0       1\n",
              "34.0       1\n",
              "Name: floors_total, dtype: int64"
            ]
          },
          "metadata": {},
          "output_type": "display_data"
        },
        {
          "data": {
            "text/plain": [
              "18.00    882\n",
              "17.00    675\n",
              "30.00    598\n",
              "16.00    486\n",
              "20.00    481\n",
              "        ... \n",
              "20.03      1\n",
              "10.55      1\n",
              "24.83      1\n",
              "20.97      1\n",
              "15.55      1\n",
              "Name: living_area, Length: 1782, dtype: int64"
            ]
          },
          "metadata": {},
          "output_type": "display_data"
        },
        {
          "data": {
            "text/plain": [
              "2     3368\n",
              "3     3073\n",
              "1     2917\n",
              "4     2804\n",
              "5     2621\n",
              "6     1305\n",
              "7     1218\n",
              "8     1083\n",
              "9     1051\n",
              "10     687\n",
              "12     526\n",
              "11     523\n",
              "13     379\n",
              "15     343\n",
              "14     337\n",
              "16     315\n",
              "17     227\n",
              "18     178\n",
              "19     147\n",
              "21     125\n",
              "22     113\n",
              "20     110\n",
              "23     100\n",
              "24      63\n",
              "25      46\n",
              "26      24\n",
              "27      10\n",
              "28       1\n",
              "33       1\n",
              "29       1\n",
              "30       1\n",
              "32       1\n",
              "31       1\n",
              "Name: floor, dtype: int64"
            ]
          },
          "metadata": {},
          "output_type": "display_data"
        },
        {
          "data": {
            "text/plain": [
              "6.00     1300\n",
              "10.00    1262\n",
              "8.00     1110\n",
              "9.00     1101\n",
              "7.00     1062\n",
              "         ... \n",
              "18.07       1\n",
              "28.20       1\n",
              "37.90       1\n",
              "9.51        1\n",
              "35.40       1\n",
              "Name: kitchen_area, Length: 971, dtype: int64"
            ]
          },
          "metadata": {},
          "output_type": "display_data"
        },
        {
          "data": {
            "text/plain": [
              "1.0    4195\n",
              "0.0    3758\n",
              "2.0    3659\n",
              "5.0     304\n",
              "4.0     183\n",
              "3.0      81\n",
              "Name: balcony, dtype: int64"
            ]
          },
          "metadata": {},
          "output_type": "display_data"
        },
        {
          "data": {
            "text/plain": [
              "0.0    10106\n",
              "1.0     5681\n",
              "2.0     1747\n",
              "3.0      647\n",
              "Name: parks_around3000, dtype: int64"
            ]
          },
          "metadata": {},
          "output_type": "display_data"
        },
        {
          "data": {
            "text/plain": [
              "0.0    9071\n",
              "1.0    5717\n",
              "2.0    1892\n",
              "3.0    1501\n",
              "Name: ponds_around3000, dtype: int64"
            ]
          },
          "metadata": {},
          "output_type": "display_data"
        },
        {
          "data": {
            "text/plain": [
              "45.0      880\n",
              "60.0      538\n",
              "7.0       234\n",
              "30.0      208\n",
              "90.0      204\n",
              "         ... \n",
              "1110.0      1\n",
              "1049.0      1\n",
              "951.0       1\n",
              "693.0       1\n",
              "773.0       1\n",
              "Name: days_exposition, Length: 1141, dtype: int64"
            ]
          },
          "metadata": {},
          "output_type": "display_data"
        },
        {
          "data": {
            "text/plain": [
              "False    2725\n",
              "True       50\n",
              "Name: is_apartment, dtype: int64"
            ]
          },
          "metadata": {},
          "output_type": "display_data"
        }
      ],
      "source": [
        "# Открываем файл и выводим первые 10 строк\n",
        "data = pd.read_csv('/datasets/real_estate_data.csv', sep ='\\t')\n",
        "display(data.head(10))\n",
        "# Вызываем функцию info() для оценки заполненности таблицы, соответствия типов данных столбцов хранимым в них значениях\n",
        "data.info()\n",
        "# Проверим содержимое столбцов с категориальными значениями\n",
        "columns = ['locality_name', 'total_images', 'last_price', 'total_area', 'rooms', 'floors_total', 'living_area', 'floor', 'kitchen_area', 'balcony', 'parks_around3000', 'ponds_around3000', 'days_exposition', 'is_apartment']\n",
        "for column in columns:\n",
        "    display(data[column].value_counts())\n"
      ]
    },
    {
      "cell_type": "markdown",
      "metadata": {},
      "source": [
        "### Вывод\n",
        "1. Столбец first_day_exposition имеет тип object, лучше поменять на формат даты \n",
        "2. Столбец floors_total имеет тип float64, лучше поменять на int (т.к. этажи не измеряются в вещественных числах)\n",
        "3. Столбец is_apartment имеет тип object, лучше поменять на bool (т.к. там значения True/False)\n",
        "4. Столбец balcony имеет тип float64, лучше поменять на int (т.к. балконы не измеряются в вещественных числах)\n",
        "5. Столбец parks_around3000 имеет тип float64, лучше поменять на int (т.к. парки не измеряются в вещественных числах)\n",
        "6. Столбец ponds_around3000 имеет тип float64, лучше поменять на int (т.к. водоемы не измеряются в вещественных числах)\n",
        "7. Столбец days_exposition имеет тип float64, лучше поменять на int (т.к. дни не измеряются в вещественных числах)\n",
        "8. Пропуски имеются в столбцах: ceiling_height, floors_total, living_area, is_apartment, kitchen_area, balcony, locality_name, airports_nearest, cityCenters_nearest, parks_around3000, parks_nearest, ponds_around3000, ponds_nearest, days_exposition"
      ]
    },
    {
      "cell_type": "markdown",
      "metadata": {},
      "source": [
        "## Предобработка данных"
      ]
    },
    {
      "cell_type": "code",
      "execution_count": 4,
      "metadata": {
        "scrolled": true
      },
      "outputs": [
        {
          "data": {
            "text/plain": [
              "9195"
            ]
          },
          "metadata": {},
          "output_type": "display_data"
        },
        {
          "data": {
            "text/plain": [
              "86"
            ]
          },
          "metadata": {},
          "output_type": "display_data"
        },
        {
          "data": {
            "text/plain": [
              "1903"
            ]
          },
          "metadata": {},
          "output_type": "display_data"
        },
        {
          "data": {
            "text/plain": [
              "20924"
            ]
          },
          "metadata": {},
          "output_type": "display_data"
        },
        {
          "data": {
            "text/plain": [
              "2278"
            ]
          },
          "metadata": {},
          "output_type": "display_data"
        },
        {
          "data": {
            "text/plain": [
              "11519"
            ]
          },
          "metadata": {},
          "output_type": "display_data"
        },
        {
          "data": {
            "text/plain": [
              "49"
            ]
          },
          "metadata": {},
          "output_type": "display_data"
        },
        {
          "data": {
            "text/plain": [
              "5542"
            ]
          },
          "metadata": {},
          "output_type": "display_data"
        },
        {
          "data": {
            "text/plain": [
              "5519"
            ]
          },
          "metadata": {},
          "output_type": "display_data"
        },
        {
          "data": {
            "text/plain": [
              "5518"
            ]
          },
          "metadata": {},
          "output_type": "display_data"
        },
        {
          "data": {
            "text/plain": [
              "15620"
            ]
          },
          "metadata": {},
          "output_type": "display_data"
        },
        {
          "data": {
            "text/plain": [
              "5518"
            ]
          },
          "metadata": {},
          "output_type": "display_data"
        },
        {
          "data": {
            "text/plain": [
              "14589"
            ]
          },
          "metadata": {},
          "output_type": "display_data"
        },
        {
          "data": {
            "text/plain": [
              "3181"
            ]
          },
          "metadata": {},
          "output_type": "display_data"
        }
      ],
      "source": [
        "# Посчитаем количество пропусков в колонках\n",
        "display(len(data[data['ceiling_height'].isna()]))\n",
        "display(len(data[data['floors_total'].isna()]))\n",
        "display(len(data[data['living_area'].isna()]))\n",
        "display(len(data[data['is_apartment'].isna()]))\n",
        "display(len(data[data['kitchen_area'].isna()]))\n",
        "display(len(data[data['balcony'].isna()]))\n",
        "display(len(data[data['locality_name'].isna()]))\n",
        "display(len(data[data['airports_nearest'].isna()]))\n",
        "display(len(data[data['cityCenters_nearest'].isna()]))\n",
        "display(len(data[data['parks_around3000'].isna()]))\n",
        "display(len(data[data['parks_nearest'].isna()]))\n",
        "display(len(data[data['ponds_around3000'].isna()]))\n",
        "display(len(data[data['ponds_nearest'].isna()]))\n",
        "display(len(data[data['days_exposition'].isna()]))"
      ]
    },
    {
      "cell_type": "markdown",
      "metadata": {},
      "source": [
        "**Вывод**: Пропуски в колонке 'is_apartment', вероятно, они связаны с тем, что это не апартаменты, в колонке 'balcony' - в связи с их отсутствием. В остальных колоноках, вероятно, либо ошибка при выгрузке данных, либо отстутствие информации."
      ]
    },
    {
      "cell_type": "code",
      "execution_count": 5,
      "metadata": {
        "scrolled": true
      },
      "outputs": [
        {
          "data": {
            "text/plain": [
              "total_images                0\n",
              "last_price                  0\n",
              "total_area                  0\n",
              "first_day_exposition        0\n",
              "rooms                       0\n",
              "ceiling_height           9195\n",
              "floors_total               86\n",
              "living_area              1903\n",
              "floor                       0\n",
              "is_apartment            20924\n",
              "studio                      0\n",
              "open_plan                   0\n",
              "kitchen_area             2278\n",
              "balcony                 11519\n",
              "locality_name              49\n",
              "airports_nearest         5542\n",
              "cityCenters_nearest      5519\n",
              "parks_around3000         5518\n",
              "parks_nearest           15620\n",
              "ponds_around3000         5518\n",
              "ponds_nearest           14589\n",
              "days_exposition          3181\n",
              "dtype: int64"
            ]
          },
          "execution_count": 5,
          "metadata": {},
          "output_type": "execute_result"
        }
      ],
      "source": [
        "data.isna().sum()"
      ]
    },
    {
      "cell_type": "code",
      "execution_count": 6,
      "metadata": {
        "scrolled": true
      },
      "outputs": [],
      "source": [
        "#Заменим пропуски в столбце балконы на 0 и в столбце апартаменты на  False (вероятно, если ничего не указано, то их нет) \n",
        "data['balcony'] = data['balcony'].fillna(0)\n",
        "data['is_apartment'] = data['is_apartment'].fillna(False)"
      ]
    },
    {
      "cell_type": "code",
      "execution_count": 7,
      "metadata": {},
      "outputs": [],
      "source": [
        "#Заполним пропуски с площадями медианой с группировкой по числу комнат\n",
        "for rooms in data['rooms'].unique():\n",
        "    median = data.loc[data['rooms'] == rooms , 'living_area'].median()\n",
        "    data.loc[(data['living_area'].isna()) & (data['rooms'] == rooms ), 'living_area'] = median\n",
        "    median = data.loc[data['rooms'] == rooms , 'kitchen_area'].median()\n",
        "    data.loc[(data['kitchen_area'].isna()) & (data['rooms'] == rooms ), 'kitchen_area'] = median"
      ]
    },
    {
      "cell_type": "code",
      "execution_count": 8,
      "metadata": {},
      "outputs": [],
      "source": [
        "#Заполним расстояния до центра, аэропорта, водоемов и парков медианой с группировкой по населенному пункту\n",
        "for locality_name in data['locality_name'].unique():\n",
        "    median = data.loc[data['locality_name'] == locality_name, 'cityCenters_nearest'].median()\n",
        "    data.loc[(data['cityCenters_nearest'].isna()) & (data['locality_name'] == locality_name), 'cityCenters_nearest'] = median\n",
        "    \n",
        "    median = data.loc[data['locality_name'] == locality_name, 'parks_nearest'].median()\n",
        "    data.loc[(data['parks_nearest'].isna()) & (data['locality_name'] == locality_name), 'parks_nearest'] = median\n",
        "    \n",
        "    median = data.loc[data['locality_name'] == locality_name, 'ponds_nearest'].median()\n",
        "    data.loc[(data['ponds_nearest'].isna()) & (data['locality_name'] == locality_name), 'ponds_nearest'] = median\n",
        "    \n",
        "    median = data.loc[data['locality_name'] == locality_name, 'airports_nearest'].median()\n",
        "    data.loc[(data['airports_nearest'].isna()) & (data['locality_name'] == locality_name), 'airports_nearest'] = median"
      ]
    },
    {
      "cell_type": "code",
      "execution_count": 9,
      "metadata": {},
      "outputs": [
        {
          "name": "stdout",
          "output_type": "stream",
          "text": [
            "<class 'pandas.core.frame.DataFrame'>\n",
            "RangeIndex: 23699 entries, 0 to 23698\n",
            "Data columns (total 22 columns):\n",
            "total_images            23699 non-null int64\n",
            "last_price              23699 non-null float64\n",
            "total_area              23699 non-null float64\n",
            "first_day_exposition    23699 non-null object\n",
            "rooms                   23699 non-null int64\n",
            "ceiling_height          23699 non-null float64\n",
            "floors_total            23613 non-null float64\n",
            "living_area             23699 non-null float64\n",
            "floor                   23699 non-null int64\n",
            "is_apartment            23699 non-null bool\n",
            "studio                  23699 non-null bool\n",
            "open_plan               23699 non-null bool\n",
            "kitchen_area            23502 non-null float64\n",
            "balcony                 23699 non-null float64\n",
            "locality_name           23650 non-null object\n",
            "airports_nearest        18305 non-null float64\n",
            "cityCenters_nearest     18305 non-null float64\n",
            "parks_around3000        18181 non-null float64\n",
            "parks_nearest           17667 non-null float64\n",
            "ponds_around3000        18181 non-null float64\n",
            "ponds_nearest           18181 non-null float64\n",
            "days_exposition         20518 non-null float64\n",
            "dtypes: bool(3), float64(14), int64(3), object(2)\n",
            "memory usage: 3.5+ MB\n"
          ]
        },
        {
          "data": {
            "text/plain": [
              "None"
            ]
          },
          "metadata": {},
          "output_type": "display_data"
        }
      ],
      "source": [
        "#Заполним высоту потолков медианой по всему набору данных (т.к. есть строительные стандарты для высоты потолков)\n",
        "ceiling_height_median = data['ceiling_height'].median()\n",
        "data['ceiling_height'] = data['ceiling_height'].fillna(ceiling_height_median)\n",
        "display(data.info())"
      ]
    },
    {
      "cell_type": "code",
      "execution_count": 10,
      "metadata": {
        "scrolled": true
      },
      "outputs": [
        {
          "name": "stdout",
          "output_type": "stream",
          "text": [
            "<class 'pandas.core.frame.DataFrame'>\n",
            "RangeIndex: 23699 entries, 0 to 23698\n",
            "Data columns (total 22 columns):\n",
            "total_images            23699 non-null int64\n",
            "last_price              23699 non-null float64\n",
            "total_area              23699 non-null float64\n",
            "first_day_exposition    23699 non-null object\n",
            "rooms                   23699 non-null int64\n",
            "ceiling_height          23699 non-null float64\n",
            "floors_total            23699 non-null float64\n",
            "living_area             23699 non-null float64\n",
            "floor                   23699 non-null int64\n",
            "is_apartment            23699 non-null bool\n",
            "studio                  23699 non-null bool\n",
            "open_plan               23699 non-null bool\n",
            "kitchen_area            23699 non-null float64\n",
            "balcony                 23699 non-null float64\n",
            "locality_name           23650 non-null object\n",
            "airports_nearest        23699 non-null float64\n",
            "cityCenters_nearest     23699 non-null float64\n",
            "parks_around3000        23699 non-null float64\n",
            "parks_nearest           23699 non-null float64\n",
            "ponds_around3000        23699 non-null float64\n",
            "ponds_nearest           23699 non-null float64\n",
            "days_exposition         20518 non-null float64\n",
            "dtypes: bool(3), float64(14), int64(3), object(2)\n",
            "memory usage: 3.5+ MB\n"
          ]
        },
        {
          "data": {
            "text/plain": [
              "None"
            ]
          },
          "metadata": {},
          "output_type": "display_data"
        }
      ],
      "source": [
        "#Оставшиеся пропуски заполним по общей медиане \n",
        "#(кроме названий населенных пунктов и 'days_exposition', тк это может сильно искажать данные, которые нужны в дальнейшем для анализа)\n",
        "names = ['floors_total', 'kitchen_area', 'airports_nearest', 'cityCenters_nearest',\n",
        "         'parks_around3000', 'ponds_nearest', 'ponds_around3000', 'parks_nearest'] \n",
        "for name in names:\n",
        "    median = data[name].median()\n",
        "    data[name] = data[name].fillna(median)\n",
        "\n",
        "display(data.info())"
      ]
    },
    {
      "cell_type": "markdown",
      "metadata": {},
      "source": [
        "**Вывод**: Пропуски заполнены, кроме указанных выше столбцов. Скоро можно приступать к анализу."
      ]
    },
    {
      "cell_type": "code",
      "execution_count": 11,
      "metadata": {
        "scrolled": true
      },
      "outputs": [],
      "source": [
        "# Заменим типы данных \n",
        "\n",
        "data['is_apartment'] = data['is_apartment'].astype('bool')\n",
        "\n",
        "data['first_day_exposition'] = pd.to_datetime(data['first_day_exposition'], format ='%Y.%m.%dT%H:%M:%S')\n"
      ]
    },
    {
      "cell_type": "code",
      "execution_count": 12,
      "metadata": {},
      "outputs": [
        {
          "name": "stdout",
          "output_type": "stream",
          "text": [
            "<class 'pandas.core.frame.DataFrame'>\n",
            "RangeIndex: 23699 entries, 0 to 23698\n",
            "Data columns (total 22 columns):\n",
            "total_images            23699 non-null int64\n",
            "last_price              23699 non-null float64\n",
            "total_area              23699 non-null float64\n",
            "first_day_exposition    23699 non-null datetime64[ns]\n",
            "rooms                   23699 non-null int64\n",
            "ceiling_height          23699 non-null float64\n",
            "floors_total            23699 non-null int64\n",
            "living_area             23699 non-null float64\n",
            "floor                   23699 non-null int64\n",
            "is_apartment            23699 non-null bool\n",
            "studio                  23699 non-null bool\n",
            "open_plan               23699 non-null bool\n",
            "kitchen_area            23699 non-null float64\n",
            "balcony                 23699 non-null int64\n",
            "locality_name           23650 non-null object\n",
            "airports_nearest        23699 non-null float64\n",
            "cityCenters_nearest     23699 non-null float64\n",
            "parks_around3000        23699 non-null int64\n",
            "parks_nearest           23699 non-null float64\n",
            "ponds_around3000        23699 non-null int64\n",
            "ponds_nearest           23699 non-null float64\n",
            "days_exposition         20518 non-null float64\n",
            "dtypes: bool(3), datetime64[ns](1), float64(10), int64(7), object(1)\n",
            "memory usage: 3.5+ MB\n"
          ]
        },
        {
          "data": {
            "text/plain": [
              "None"
            ]
          },
          "metadata": {},
          "output_type": "display_data"
        }
      ],
      "source": [
        "columns = ['floors_total', 'balcony', 'parks_around3000', 'ponds_around3000']\n",
        "for column in columns:\n",
        "    data[column] = data[column].astype('int')\n",
        "display(data.info())"
      ]
    },
    {
      "cell_type": "markdown",
      "metadata": {},
      "source": [
        "**Вывод**: Типы данных приведены к нужным значениям. Начинаем анализировать."
      ]
    },
    {
      "cell_type": "markdown",
      "metadata": {},
      "source": [
        "## Расчёты и добавление результатов в таблицу"
      ]
    },
    {
      "cell_type": "code",
      "execution_count": 13,
      "metadata": {},
      "outputs": [
        {
          "data": {
            "text/html": [
              "<div>\n",
              "<style scoped>\n",
              "    .dataframe tbody tr th:only-of-type {\n",
              "        vertical-align: middle;\n",
              "    }\n",
              "\n",
              "    .dataframe tbody tr th {\n",
              "        vertical-align: top;\n",
              "    }\n",
              "\n",
              "    .dataframe thead th {\n",
              "        text-align: right;\n",
              "    }\n",
              "</style>\n",
              "<table border=\"1\" class=\"dataframe\">\n",
              "  <thead>\n",
              "    <tr style=\"text-align: right;\">\n",
              "      <th></th>\n",
              "      <th>total_images</th>\n",
              "      <th>last_price</th>\n",
              "      <th>total_area</th>\n",
              "      <th>first_day_exposition</th>\n",
              "      <th>rooms</th>\n",
              "      <th>ceiling_height</th>\n",
              "      <th>floors_total</th>\n",
              "      <th>living_area</th>\n",
              "      <th>floor</th>\n",
              "      <th>is_apartment</th>\n",
              "      <th>...</th>\n",
              "      <th>balcony</th>\n",
              "      <th>locality_name</th>\n",
              "      <th>airports_nearest</th>\n",
              "      <th>cityCenters_nearest</th>\n",
              "      <th>parks_around3000</th>\n",
              "      <th>parks_nearest</th>\n",
              "      <th>ponds_around3000</th>\n",
              "      <th>ponds_nearest</th>\n",
              "      <th>days_exposition</th>\n",
              "      <th>price_meter</th>\n",
              "    </tr>\n",
              "  </thead>\n",
              "  <tbody>\n",
              "    <tr>\n",
              "      <td>0</td>\n",
              "      <td>20</td>\n",
              "      <td>13000000.0</td>\n",
              "      <td>108.0</td>\n",
              "      <td>2019-03-07</td>\n",
              "      <td>3</td>\n",
              "      <td>2.70</td>\n",
              "      <td>16</td>\n",
              "      <td>51.0</td>\n",
              "      <td>8</td>\n",
              "      <td>False</td>\n",
              "      <td>...</td>\n",
              "      <td>0</td>\n",
              "      <td>Санкт-Петербург</td>\n",
              "      <td>18863.0</td>\n",
              "      <td>16028.0</td>\n",
              "      <td>1</td>\n",
              "      <td>482.0</td>\n",
              "      <td>2</td>\n",
              "      <td>755.0</td>\n",
              "      <td>NaN</td>\n",
              "      <td>120370.370370</td>\n",
              "    </tr>\n",
              "    <tr>\n",
              "      <td>1</td>\n",
              "      <td>7</td>\n",
              "      <td>3350000.0</td>\n",
              "      <td>40.4</td>\n",
              "      <td>2018-12-04</td>\n",
              "      <td>1</td>\n",
              "      <td>2.65</td>\n",
              "      <td>11</td>\n",
              "      <td>18.6</td>\n",
              "      <td>1</td>\n",
              "      <td>False</td>\n",
              "      <td>...</td>\n",
              "      <td>2</td>\n",
              "      <td>посёлок Шушары</td>\n",
              "      <td>12817.0</td>\n",
              "      <td>18603.0</td>\n",
              "      <td>0</td>\n",
              "      <td>460.0</td>\n",
              "      <td>0</td>\n",
              "      <td>584.5</td>\n",
              "      <td>81.0</td>\n",
              "      <td>82920.792079</td>\n",
              "    </tr>\n",
              "    <tr>\n",
              "      <td>2</td>\n",
              "      <td>10</td>\n",
              "      <td>5196000.0</td>\n",
              "      <td>56.0</td>\n",
              "      <td>2015-08-20</td>\n",
              "      <td>2</td>\n",
              "      <td>2.65</td>\n",
              "      <td>5</td>\n",
              "      <td>34.3</td>\n",
              "      <td>4</td>\n",
              "      <td>False</td>\n",
              "      <td>...</td>\n",
              "      <td>0</td>\n",
              "      <td>Санкт-Петербург</td>\n",
              "      <td>21741.0</td>\n",
              "      <td>13933.0</td>\n",
              "      <td>1</td>\n",
              "      <td>90.0</td>\n",
              "      <td>2</td>\n",
              "      <td>574.0</td>\n",
              "      <td>558.0</td>\n",
              "      <td>92785.714286</td>\n",
              "    </tr>\n",
              "    <tr>\n",
              "      <td>3</td>\n",
              "      <td>0</td>\n",
              "      <td>64900000.0</td>\n",
              "      <td>159.0</td>\n",
              "      <td>2015-07-24</td>\n",
              "      <td>3</td>\n",
              "      <td>2.65</td>\n",
              "      <td>14</td>\n",
              "      <td>45.0</td>\n",
              "      <td>9</td>\n",
              "      <td>False</td>\n",
              "      <td>...</td>\n",
              "      <td>0</td>\n",
              "      <td>Санкт-Петербург</td>\n",
              "      <td>28098.0</td>\n",
              "      <td>6800.0</td>\n",
              "      <td>2</td>\n",
              "      <td>84.0</td>\n",
              "      <td>3</td>\n",
              "      <td>234.0</td>\n",
              "      <td>424.0</td>\n",
              "      <td>408176.100629</td>\n",
              "    </tr>\n",
              "    <tr>\n",
              "      <td>4</td>\n",
              "      <td>2</td>\n",
              "      <td>10000000.0</td>\n",
              "      <td>100.0</td>\n",
              "      <td>2018-06-19</td>\n",
              "      <td>2</td>\n",
              "      <td>3.03</td>\n",
              "      <td>14</td>\n",
              "      <td>32.0</td>\n",
              "      <td>13</td>\n",
              "      <td>False</td>\n",
              "      <td>...</td>\n",
              "      <td>0</td>\n",
              "      <td>Санкт-Петербург</td>\n",
              "      <td>31856.0</td>\n",
              "      <td>8098.0</td>\n",
              "      <td>2</td>\n",
              "      <td>112.0</td>\n",
              "      <td>1</td>\n",
              "      <td>48.0</td>\n",
              "      <td>121.0</td>\n",
              "      <td>100000.000000</td>\n",
              "    </tr>\n",
              "  </tbody>\n",
              "</table>\n",
              "<p>5 rows × 23 columns</p>\n",
              "</div>"
            ],
            "text/plain": [
              "   total_images  last_price  total_area first_day_exposition  rooms  \\\n",
              "0            20  13000000.0       108.0           2019-03-07      3   \n",
              "1             7   3350000.0        40.4           2018-12-04      1   \n",
              "2            10   5196000.0        56.0           2015-08-20      2   \n",
              "3             0  64900000.0       159.0           2015-07-24      3   \n",
              "4             2  10000000.0       100.0           2018-06-19      2   \n",
              "\n",
              "   ceiling_height  floors_total  living_area  floor  is_apartment  ...  \\\n",
              "0            2.70            16         51.0      8         False  ...   \n",
              "1            2.65            11         18.6      1         False  ...   \n",
              "2            2.65             5         34.3      4         False  ...   \n",
              "3            2.65            14         45.0      9         False  ...   \n",
              "4            3.03            14         32.0     13         False  ...   \n",
              "\n",
              "   balcony    locality_name  airports_nearest  cityCenters_nearest  \\\n",
              "0        0  Санкт-Петербург           18863.0              16028.0   \n",
              "1        2   посёлок Шушары           12817.0              18603.0   \n",
              "2        0  Санкт-Петербург           21741.0              13933.0   \n",
              "3        0  Санкт-Петербург           28098.0               6800.0   \n",
              "4        0  Санкт-Петербург           31856.0               8098.0   \n",
              "\n",
              "  parks_around3000  parks_nearest  ponds_around3000  ponds_nearest  \\\n",
              "0                1          482.0                 2          755.0   \n",
              "1                0          460.0                 0          584.5   \n",
              "2                1           90.0                 2          574.0   \n",
              "3                2           84.0                 3          234.0   \n",
              "4                2          112.0                 1           48.0   \n",
              "\n",
              "   days_exposition    price_meter  \n",
              "0              NaN  120370.370370  \n",
              "1             81.0   82920.792079  \n",
              "2            558.0   92785.714286  \n",
              "3            424.0  408176.100629  \n",
              "4            121.0  100000.000000  \n",
              "\n",
              "[5 rows x 23 columns]"
            ]
          },
          "metadata": {},
          "output_type": "display_data"
        }
      ],
      "source": [
        "#Посчитаем и добавим в таблицу цену квадратного метра\n",
        "data['price_meter'] = data['last_price']/data['total_area']\n",
        "display(data.head())"
      ]
    },
    {
      "cell_type": "code",
      "execution_count": 14,
      "metadata": {},
      "outputs": [
        {
          "data": {
            "text/html": [
              "<div>\n",
              "<style scoped>\n",
              "    .dataframe tbody tr th:only-of-type {\n",
              "        vertical-align: middle;\n",
              "    }\n",
              "\n",
              "    .dataframe tbody tr th {\n",
              "        vertical-align: top;\n",
              "    }\n",
              "\n",
              "    .dataframe thead th {\n",
              "        text-align: right;\n",
              "    }\n",
              "</style>\n",
              "<table border=\"1\" class=\"dataframe\">\n",
              "  <thead>\n",
              "    <tr style=\"text-align: right;\">\n",
              "      <th></th>\n",
              "      <th>total_images</th>\n",
              "      <th>last_price</th>\n",
              "      <th>total_area</th>\n",
              "      <th>first_day_exposition</th>\n",
              "      <th>rooms</th>\n",
              "      <th>ceiling_height</th>\n",
              "      <th>floors_total</th>\n",
              "      <th>living_area</th>\n",
              "      <th>floor</th>\n",
              "      <th>is_apartment</th>\n",
              "      <th>...</th>\n",
              "      <th>cityCenters_nearest</th>\n",
              "      <th>parks_around3000</th>\n",
              "      <th>parks_nearest</th>\n",
              "      <th>ponds_around3000</th>\n",
              "      <th>ponds_nearest</th>\n",
              "      <th>days_exposition</th>\n",
              "      <th>price_meter</th>\n",
              "      <th>year</th>\n",
              "      <th>month</th>\n",
              "      <th>weekday</th>\n",
              "    </tr>\n",
              "  </thead>\n",
              "  <tbody>\n",
              "    <tr>\n",
              "      <td>0</td>\n",
              "      <td>20</td>\n",
              "      <td>13000000.0</td>\n",
              "      <td>108.0</td>\n",
              "      <td>2019-03-07</td>\n",
              "      <td>3</td>\n",
              "      <td>2.70</td>\n",
              "      <td>16</td>\n",
              "      <td>51.0</td>\n",
              "      <td>8</td>\n",
              "      <td>False</td>\n",
              "      <td>...</td>\n",
              "      <td>16028.0</td>\n",
              "      <td>1</td>\n",
              "      <td>482.0</td>\n",
              "      <td>2</td>\n",
              "      <td>755.0</td>\n",
              "      <td>NaN</td>\n",
              "      <td>120370.370370</td>\n",
              "      <td>2019</td>\n",
              "      <td>3</td>\n",
              "      <td>3</td>\n",
              "    </tr>\n",
              "    <tr>\n",
              "      <td>1</td>\n",
              "      <td>7</td>\n",
              "      <td>3350000.0</td>\n",
              "      <td>40.4</td>\n",
              "      <td>2018-12-04</td>\n",
              "      <td>1</td>\n",
              "      <td>2.65</td>\n",
              "      <td>11</td>\n",
              "      <td>18.6</td>\n",
              "      <td>1</td>\n",
              "      <td>False</td>\n",
              "      <td>...</td>\n",
              "      <td>18603.0</td>\n",
              "      <td>0</td>\n",
              "      <td>460.0</td>\n",
              "      <td>0</td>\n",
              "      <td>584.5</td>\n",
              "      <td>81.0</td>\n",
              "      <td>82920.792079</td>\n",
              "      <td>2018</td>\n",
              "      <td>12</td>\n",
              "      <td>1</td>\n",
              "    </tr>\n",
              "    <tr>\n",
              "      <td>2</td>\n",
              "      <td>10</td>\n",
              "      <td>5196000.0</td>\n",
              "      <td>56.0</td>\n",
              "      <td>2015-08-20</td>\n",
              "      <td>2</td>\n",
              "      <td>2.65</td>\n",
              "      <td>5</td>\n",
              "      <td>34.3</td>\n",
              "      <td>4</td>\n",
              "      <td>False</td>\n",
              "      <td>...</td>\n",
              "      <td>13933.0</td>\n",
              "      <td>1</td>\n",
              "      <td>90.0</td>\n",
              "      <td>2</td>\n",
              "      <td>574.0</td>\n",
              "      <td>558.0</td>\n",
              "      <td>92785.714286</td>\n",
              "      <td>2015</td>\n",
              "      <td>8</td>\n",
              "      <td>3</td>\n",
              "    </tr>\n",
              "    <tr>\n",
              "      <td>3</td>\n",
              "      <td>0</td>\n",
              "      <td>64900000.0</td>\n",
              "      <td>159.0</td>\n",
              "      <td>2015-07-24</td>\n",
              "      <td>3</td>\n",
              "      <td>2.65</td>\n",
              "      <td>14</td>\n",
              "      <td>45.0</td>\n",
              "      <td>9</td>\n",
              "      <td>False</td>\n",
              "      <td>...</td>\n",
              "      <td>6800.0</td>\n",
              "      <td>2</td>\n",
              "      <td>84.0</td>\n",
              "      <td>3</td>\n",
              "      <td>234.0</td>\n",
              "      <td>424.0</td>\n",
              "      <td>408176.100629</td>\n",
              "      <td>2015</td>\n",
              "      <td>7</td>\n",
              "      <td>4</td>\n",
              "    </tr>\n",
              "    <tr>\n",
              "      <td>4</td>\n",
              "      <td>2</td>\n",
              "      <td>10000000.0</td>\n",
              "      <td>100.0</td>\n",
              "      <td>2018-06-19</td>\n",
              "      <td>2</td>\n",
              "      <td>3.03</td>\n",
              "      <td>14</td>\n",
              "      <td>32.0</td>\n",
              "      <td>13</td>\n",
              "      <td>False</td>\n",
              "      <td>...</td>\n",
              "      <td>8098.0</td>\n",
              "      <td>2</td>\n",
              "      <td>112.0</td>\n",
              "      <td>1</td>\n",
              "      <td>48.0</td>\n",
              "      <td>121.0</td>\n",
              "      <td>100000.000000</td>\n",
              "      <td>2018</td>\n",
              "      <td>6</td>\n",
              "      <td>1</td>\n",
              "    </tr>\n",
              "  </tbody>\n",
              "</table>\n",
              "<p>5 rows × 26 columns</p>\n",
              "</div>"
            ],
            "text/plain": [
              "   total_images  last_price  total_area first_day_exposition  rooms  \\\n",
              "0            20  13000000.0       108.0           2019-03-07      3   \n",
              "1             7   3350000.0        40.4           2018-12-04      1   \n",
              "2            10   5196000.0        56.0           2015-08-20      2   \n",
              "3             0  64900000.0       159.0           2015-07-24      3   \n",
              "4             2  10000000.0       100.0           2018-06-19      2   \n",
              "\n",
              "   ceiling_height  floors_total  living_area  floor  is_apartment  ...  \\\n",
              "0            2.70            16         51.0      8         False  ...   \n",
              "1            2.65            11         18.6      1         False  ...   \n",
              "2            2.65             5         34.3      4         False  ...   \n",
              "3            2.65            14         45.0      9         False  ...   \n",
              "4            3.03            14         32.0     13         False  ...   \n",
              "\n",
              "   cityCenters_nearest  parks_around3000  parks_nearest  ponds_around3000  \\\n",
              "0              16028.0                 1          482.0                 2   \n",
              "1              18603.0                 0          460.0                 0   \n",
              "2              13933.0                 1           90.0                 2   \n",
              "3               6800.0                 2           84.0                 3   \n",
              "4               8098.0                 2          112.0                 1   \n",
              "\n",
              "  ponds_nearest  days_exposition    price_meter  year  month  weekday  \n",
              "0         755.0              NaN  120370.370370  2019      3        3  \n",
              "1         584.5             81.0   82920.792079  2018     12        1  \n",
              "2         574.0            558.0   92785.714286  2015      8        3  \n",
              "3         234.0            424.0  408176.100629  2015      7        4  \n",
              "4          48.0            121.0  100000.000000  2018      6        1  \n",
              "\n",
              "[5 rows x 26 columns]"
            ]
          },
          "metadata": {},
          "output_type": "display_data"
        }
      ],
      "source": [
        "#Посчитаем и добавим в таблицу день недели, месяц и год публикации объявления\n",
        "data['year'] = pd.to_datetime(data['first_day_exposition']).dt.year\n",
        "data['month'] = pd.to_datetime(data['first_day_exposition']).dt.month\n",
        "data['weekday'] = pd.to_datetime(data['first_day_exposition']).dt.weekday\n",
        "display(data.head())"
      ]
    },
    {
      "cell_type": "code",
      "execution_count": 15,
      "metadata": {},
      "outputs": [
        {
          "data": {
            "text/html": [
              "<div>\n",
              "<style scoped>\n",
              "    .dataframe tbody tr th:only-of-type {\n",
              "        vertical-align: middle;\n",
              "    }\n",
              "\n",
              "    .dataframe tbody tr th {\n",
              "        vertical-align: top;\n",
              "    }\n",
              "\n",
              "    .dataframe thead th {\n",
              "        text-align: right;\n",
              "    }\n",
              "</style>\n",
              "<table border=\"1\" class=\"dataframe\">\n",
              "  <thead>\n",
              "    <tr style=\"text-align: right;\">\n",
              "      <th></th>\n",
              "      <th>total_images</th>\n",
              "      <th>last_price</th>\n",
              "      <th>total_area</th>\n",
              "      <th>first_day_exposition</th>\n",
              "      <th>rooms</th>\n",
              "      <th>ceiling_height</th>\n",
              "      <th>floors_total</th>\n",
              "      <th>living_area</th>\n",
              "      <th>floor</th>\n",
              "      <th>is_apartment</th>\n",
              "      <th>...</th>\n",
              "      <th>parks_around3000</th>\n",
              "      <th>parks_nearest</th>\n",
              "      <th>ponds_around3000</th>\n",
              "      <th>ponds_nearest</th>\n",
              "      <th>days_exposition</th>\n",
              "      <th>price_meter</th>\n",
              "      <th>year</th>\n",
              "      <th>month</th>\n",
              "      <th>weekday</th>\n",
              "      <th>floor_category</th>\n",
              "    </tr>\n",
              "  </thead>\n",
              "  <tbody>\n",
              "    <tr>\n",
              "      <td>0</td>\n",
              "      <td>20</td>\n",
              "      <td>13000000.0</td>\n",
              "      <td>108.0</td>\n",
              "      <td>2019-03-07</td>\n",
              "      <td>3</td>\n",
              "      <td>2.70</td>\n",
              "      <td>16</td>\n",
              "      <td>51.0</td>\n",
              "      <td>8</td>\n",
              "      <td>False</td>\n",
              "      <td>...</td>\n",
              "      <td>1</td>\n",
              "      <td>482.0</td>\n",
              "      <td>2</td>\n",
              "      <td>755.0</td>\n",
              "      <td>NaN</td>\n",
              "      <td>120370.370370</td>\n",
              "      <td>2019</td>\n",
              "      <td>3</td>\n",
              "      <td>3</td>\n",
              "      <td>другой</td>\n",
              "    </tr>\n",
              "    <tr>\n",
              "      <td>1</td>\n",
              "      <td>7</td>\n",
              "      <td>3350000.0</td>\n",
              "      <td>40.4</td>\n",
              "      <td>2018-12-04</td>\n",
              "      <td>1</td>\n",
              "      <td>2.65</td>\n",
              "      <td>11</td>\n",
              "      <td>18.6</td>\n",
              "      <td>1</td>\n",
              "      <td>False</td>\n",
              "      <td>...</td>\n",
              "      <td>0</td>\n",
              "      <td>460.0</td>\n",
              "      <td>0</td>\n",
              "      <td>584.5</td>\n",
              "      <td>81.0</td>\n",
              "      <td>82920.792079</td>\n",
              "      <td>2018</td>\n",
              "      <td>12</td>\n",
              "      <td>1</td>\n",
              "      <td>первый</td>\n",
              "    </tr>\n",
              "    <tr>\n",
              "      <td>2</td>\n",
              "      <td>10</td>\n",
              "      <td>5196000.0</td>\n",
              "      <td>56.0</td>\n",
              "      <td>2015-08-20</td>\n",
              "      <td>2</td>\n",
              "      <td>2.65</td>\n",
              "      <td>5</td>\n",
              "      <td>34.3</td>\n",
              "      <td>4</td>\n",
              "      <td>False</td>\n",
              "      <td>...</td>\n",
              "      <td>1</td>\n",
              "      <td>90.0</td>\n",
              "      <td>2</td>\n",
              "      <td>574.0</td>\n",
              "      <td>558.0</td>\n",
              "      <td>92785.714286</td>\n",
              "      <td>2015</td>\n",
              "      <td>8</td>\n",
              "      <td>3</td>\n",
              "      <td>другой</td>\n",
              "    </tr>\n",
              "    <tr>\n",
              "      <td>3</td>\n",
              "      <td>0</td>\n",
              "      <td>64900000.0</td>\n",
              "      <td>159.0</td>\n",
              "      <td>2015-07-24</td>\n",
              "      <td>3</td>\n",
              "      <td>2.65</td>\n",
              "      <td>14</td>\n",
              "      <td>45.0</td>\n",
              "      <td>9</td>\n",
              "      <td>False</td>\n",
              "      <td>...</td>\n",
              "      <td>2</td>\n",
              "      <td>84.0</td>\n",
              "      <td>3</td>\n",
              "      <td>234.0</td>\n",
              "      <td>424.0</td>\n",
              "      <td>408176.100629</td>\n",
              "      <td>2015</td>\n",
              "      <td>7</td>\n",
              "      <td>4</td>\n",
              "      <td>другой</td>\n",
              "    </tr>\n",
              "    <tr>\n",
              "      <td>4</td>\n",
              "      <td>2</td>\n",
              "      <td>10000000.0</td>\n",
              "      <td>100.0</td>\n",
              "      <td>2018-06-19</td>\n",
              "      <td>2</td>\n",
              "      <td>3.03</td>\n",
              "      <td>14</td>\n",
              "      <td>32.0</td>\n",
              "      <td>13</td>\n",
              "      <td>False</td>\n",
              "      <td>...</td>\n",
              "      <td>2</td>\n",
              "      <td>112.0</td>\n",
              "      <td>1</td>\n",
              "      <td>48.0</td>\n",
              "      <td>121.0</td>\n",
              "      <td>100000.000000</td>\n",
              "      <td>2018</td>\n",
              "      <td>6</td>\n",
              "      <td>1</td>\n",
              "      <td>другой</td>\n",
              "    </tr>\n",
              "  </tbody>\n",
              "</table>\n",
              "<p>5 rows × 27 columns</p>\n",
              "</div>"
            ],
            "text/plain": [
              "   total_images  last_price  total_area first_day_exposition  rooms  \\\n",
              "0            20  13000000.0       108.0           2019-03-07      3   \n",
              "1             7   3350000.0        40.4           2018-12-04      1   \n",
              "2            10   5196000.0        56.0           2015-08-20      2   \n",
              "3             0  64900000.0       159.0           2015-07-24      3   \n",
              "4             2  10000000.0       100.0           2018-06-19      2   \n",
              "\n",
              "   ceiling_height  floors_total  living_area  floor  is_apartment  ...  \\\n",
              "0            2.70            16         51.0      8         False  ...   \n",
              "1            2.65            11         18.6      1         False  ...   \n",
              "2            2.65             5         34.3      4         False  ...   \n",
              "3            2.65            14         45.0      9         False  ...   \n",
              "4            3.03            14         32.0     13         False  ...   \n",
              "\n",
              "   parks_around3000  parks_nearest  ponds_around3000  ponds_nearest  \\\n",
              "0                 1          482.0                 2          755.0   \n",
              "1                 0          460.0                 0          584.5   \n",
              "2                 1           90.0                 2          574.0   \n",
              "3                 2           84.0                 3          234.0   \n",
              "4                 2          112.0                 1           48.0   \n",
              "\n",
              "  days_exposition    price_meter  year  month  weekday  floor_category  \n",
              "0             NaN  120370.370370  2019      3        3          другой  \n",
              "1            81.0   82920.792079  2018     12        1          первый  \n",
              "2           558.0   92785.714286  2015      8        3          другой  \n",
              "3           424.0  408176.100629  2015      7        4          другой  \n",
              "4           121.0  100000.000000  2018      6        1          другой  \n",
              "\n",
              "[5 rows x 27 columns]"
            ]
          },
          "metadata": {},
          "output_type": "display_data"
        }
      ],
      "source": [
        "#Разобьем на категории и добавим в таблицу этаж квартиры (варианты — первый, последний, другой)\n",
        "def floor_category(row):\n",
        "    if row['floor'] == 1: return 'первый'\n",
        "    if row['floor'] == row['floors_total']: return 'последний'\n",
        "    return 'другой'\n",
        "data['floor_category'] = data.apply(floor_category, axis = 1) \n",
        "display(data.head())"
      ]
    },
    {
      "cell_type": "code",
      "execution_count": 16,
      "metadata": {},
      "outputs": [
        {
          "data": {
            "text/html": [
              "<div>\n",
              "<style scoped>\n",
              "    .dataframe tbody tr th:only-of-type {\n",
              "        vertical-align: middle;\n",
              "    }\n",
              "\n",
              "    .dataframe tbody tr th {\n",
              "        vertical-align: top;\n",
              "    }\n",
              "\n",
              "    .dataframe thead th {\n",
              "        text-align: right;\n",
              "    }\n",
              "</style>\n",
              "<table border=\"1\" class=\"dataframe\">\n",
              "  <thead>\n",
              "    <tr style=\"text-align: right;\">\n",
              "      <th></th>\n",
              "      <th>total_images</th>\n",
              "      <th>last_price</th>\n",
              "      <th>total_area</th>\n",
              "      <th>first_day_exposition</th>\n",
              "      <th>rooms</th>\n",
              "      <th>ceiling_height</th>\n",
              "      <th>floors_total</th>\n",
              "      <th>living_area</th>\n",
              "      <th>floor</th>\n",
              "      <th>is_apartment</th>\n",
              "      <th>...</th>\n",
              "      <th>parks_nearest</th>\n",
              "      <th>ponds_around3000</th>\n",
              "      <th>ponds_nearest</th>\n",
              "      <th>days_exposition</th>\n",
              "      <th>price_meter</th>\n",
              "      <th>year</th>\n",
              "      <th>month</th>\n",
              "      <th>weekday</th>\n",
              "      <th>floor_category</th>\n",
              "      <th>living_total_area</th>\n",
              "    </tr>\n",
              "  </thead>\n",
              "  <tbody>\n",
              "    <tr>\n",
              "      <td>0</td>\n",
              "      <td>20</td>\n",
              "      <td>13000000.0</td>\n",
              "      <td>108.0</td>\n",
              "      <td>2019-03-07</td>\n",
              "      <td>3</td>\n",
              "      <td>2.70</td>\n",
              "      <td>16</td>\n",
              "      <td>51.0</td>\n",
              "      <td>8</td>\n",
              "      <td>False</td>\n",
              "      <td>...</td>\n",
              "      <td>482.0</td>\n",
              "      <td>2</td>\n",
              "      <td>755.0</td>\n",
              "      <td>NaN</td>\n",
              "      <td>120370.370370</td>\n",
              "      <td>2019</td>\n",
              "      <td>3</td>\n",
              "      <td>3</td>\n",
              "      <td>другой</td>\n",
              "      <td>0.472222</td>\n",
              "    </tr>\n",
              "    <tr>\n",
              "      <td>1</td>\n",
              "      <td>7</td>\n",
              "      <td>3350000.0</td>\n",
              "      <td>40.4</td>\n",
              "      <td>2018-12-04</td>\n",
              "      <td>1</td>\n",
              "      <td>2.65</td>\n",
              "      <td>11</td>\n",
              "      <td>18.6</td>\n",
              "      <td>1</td>\n",
              "      <td>False</td>\n",
              "      <td>...</td>\n",
              "      <td>460.0</td>\n",
              "      <td>0</td>\n",
              "      <td>584.5</td>\n",
              "      <td>81.0</td>\n",
              "      <td>82920.792079</td>\n",
              "      <td>2018</td>\n",
              "      <td>12</td>\n",
              "      <td>1</td>\n",
              "      <td>первый</td>\n",
              "      <td>0.460396</td>\n",
              "    </tr>\n",
              "    <tr>\n",
              "      <td>2</td>\n",
              "      <td>10</td>\n",
              "      <td>5196000.0</td>\n",
              "      <td>56.0</td>\n",
              "      <td>2015-08-20</td>\n",
              "      <td>2</td>\n",
              "      <td>2.65</td>\n",
              "      <td>5</td>\n",
              "      <td>34.3</td>\n",
              "      <td>4</td>\n",
              "      <td>False</td>\n",
              "      <td>...</td>\n",
              "      <td>90.0</td>\n",
              "      <td>2</td>\n",
              "      <td>574.0</td>\n",
              "      <td>558.0</td>\n",
              "      <td>92785.714286</td>\n",
              "      <td>2015</td>\n",
              "      <td>8</td>\n",
              "      <td>3</td>\n",
              "      <td>другой</td>\n",
              "      <td>0.612500</td>\n",
              "    </tr>\n",
              "    <tr>\n",
              "      <td>3</td>\n",
              "      <td>0</td>\n",
              "      <td>64900000.0</td>\n",
              "      <td>159.0</td>\n",
              "      <td>2015-07-24</td>\n",
              "      <td>3</td>\n",
              "      <td>2.65</td>\n",
              "      <td>14</td>\n",
              "      <td>45.0</td>\n",
              "      <td>9</td>\n",
              "      <td>False</td>\n",
              "      <td>...</td>\n",
              "      <td>84.0</td>\n",
              "      <td>3</td>\n",
              "      <td>234.0</td>\n",
              "      <td>424.0</td>\n",
              "      <td>408176.100629</td>\n",
              "      <td>2015</td>\n",
              "      <td>7</td>\n",
              "      <td>4</td>\n",
              "      <td>другой</td>\n",
              "      <td>0.283019</td>\n",
              "    </tr>\n",
              "    <tr>\n",
              "      <td>4</td>\n",
              "      <td>2</td>\n",
              "      <td>10000000.0</td>\n",
              "      <td>100.0</td>\n",
              "      <td>2018-06-19</td>\n",
              "      <td>2</td>\n",
              "      <td>3.03</td>\n",
              "      <td>14</td>\n",
              "      <td>32.0</td>\n",
              "      <td>13</td>\n",
              "      <td>False</td>\n",
              "      <td>...</td>\n",
              "      <td>112.0</td>\n",
              "      <td>1</td>\n",
              "      <td>48.0</td>\n",
              "      <td>121.0</td>\n",
              "      <td>100000.000000</td>\n",
              "      <td>2018</td>\n",
              "      <td>6</td>\n",
              "      <td>1</td>\n",
              "      <td>другой</td>\n",
              "      <td>0.320000</td>\n",
              "    </tr>\n",
              "  </tbody>\n",
              "</table>\n",
              "<p>5 rows × 28 columns</p>\n",
              "</div>"
            ],
            "text/plain": [
              "   total_images  last_price  total_area first_day_exposition  rooms  \\\n",
              "0            20  13000000.0       108.0           2019-03-07      3   \n",
              "1             7   3350000.0        40.4           2018-12-04      1   \n",
              "2            10   5196000.0        56.0           2015-08-20      2   \n",
              "3             0  64900000.0       159.0           2015-07-24      3   \n",
              "4             2  10000000.0       100.0           2018-06-19      2   \n",
              "\n",
              "   ceiling_height  floors_total  living_area  floor  is_apartment  ...  \\\n",
              "0            2.70            16         51.0      8         False  ...   \n",
              "1            2.65            11         18.6      1         False  ...   \n",
              "2            2.65             5         34.3      4         False  ...   \n",
              "3            2.65            14         45.0      9         False  ...   \n",
              "4            3.03            14         32.0     13         False  ...   \n",
              "\n",
              "   parks_nearest  ponds_around3000  ponds_nearest  days_exposition  \\\n",
              "0          482.0                 2          755.0              NaN   \n",
              "1          460.0                 0          584.5             81.0   \n",
              "2           90.0                 2          574.0            558.0   \n",
              "3           84.0                 3          234.0            424.0   \n",
              "4          112.0                 1           48.0            121.0   \n",
              "\n",
              "     price_meter  year  month  weekday  floor_category  living_total_area  \n",
              "0  120370.370370  2019      3        3          другой           0.472222  \n",
              "1   82920.792079  2018     12        1          первый           0.460396  \n",
              "2   92785.714286  2015      8        3          другой           0.612500  \n",
              "3  408176.100629  2015      7        4          другой           0.283019  \n",
              "4  100000.000000  2018      6        1          другой           0.320000  \n",
              "\n",
              "[5 rows x 28 columns]"
            ]
          },
          "metadata": {},
          "output_type": "display_data"
        }
      ],
      "source": [
        "#Посчитаем и добавим в таблицу соотношение жилой и общей площади\n",
        "data['living_total_area'] = data['living_area']/data['total_area']\n",
        "display(data.head())"
      ]
    },
    {
      "cell_type": "code",
      "execution_count": 17,
      "metadata": {},
      "outputs": [
        {
          "data": {
            "text/html": [
              "<div>\n",
              "<style scoped>\n",
              "    .dataframe tbody tr th:only-of-type {\n",
              "        vertical-align: middle;\n",
              "    }\n",
              "\n",
              "    .dataframe tbody tr th {\n",
              "        vertical-align: top;\n",
              "    }\n",
              "\n",
              "    .dataframe thead th {\n",
              "        text-align: right;\n",
              "    }\n",
              "</style>\n",
              "<table border=\"1\" class=\"dataframe\">\n",
              "  <thead>\n",
              "    <tr style=\"text-align: right;\">\n",
              "      <th></th>\n",
              "      <th>total_images</th>\n",
              "      <th>last_price</th>\n",
              "      <th>total_area</th>\n",
              "      <th>first_day_exposition</th>\n",
              "      <th>rooms</th>\n",
              "      <th>ceiling_height</th>\n",
              "      <th>floors_total</th>\n",
              "      <th>living_area</th>\n",
              "      <th>floor</th>\n",
              "      <th>is_apartment</th>\n",
              "      <th>...</th>\n",
              "      <th>ponds_around3000</th>\n",
              "      <th>ponds_nearest</th>\n",
              "      <th>days_exposition</th>\n",
              "      <th>price_meter</th>\n",
              "      <th>year</th>\n",
              "      <th>month</th>\n",
              "      <th>weekday</th>\n",
              "      <th>floor_category</th>\n",
              "      <th>living_total_area</th>\n",
              "      <th>kitchen_total_area</th>\n",
              "    </tr>\n",
              "  </thead>\n",
              "  <tbody>\n",
              "    <tr>\n",
              "      <td>0</td>\n",
              "      <td>20</td>\n",
              "      <td>13000000.0</td>\n",
              "      <td>108.0</td>\n",
              "      <td>2019-03-07</td>\n",
              "      <td>3</td>\n",
              "      <td>2.70</td>\n",
              "      <td>16</td>\n",
              "      <td>51.0</td>\n",
              "      <td>8</td>\n",
              "      <td>False</td>\n",
              "      <td>...</td>\n",
              "      <td>2</td>\n",
              "      <td>755.0</td>\n",
              "      <td>NaN</td>\n",
              "      <td>120370.370370</td>\n",
              "      <td>2019</td>\n",
              "      <td>3</td>\n",
              "      <td>3</td>\n",
              "      <td>другой</td>\n",
              "      <td>0.472222</td>\n",
              "      <td>0.231481</td>\n",
              "    </tr>\n",
              "    <tr>\n",
              "      <td>1</td>\n",
              "      <td>7</td>\n",
              "      <td>3350000.0</td>\n",
              "      <td>40.4</td>\n",
              "      <td>2018-12-04</td>\n",
              "      <td>1</td>\n",
              "      <td>2.65</td>\n",
              "      <td>11</td>\n",
              "      <td>18.6</td>\n",
              "      <td>1</td>\n",
              "      <td>False</td>\n",
              "      <td>...</td>\n",
              "      <td>0</td>\n",
              "      <td>584.5</td>\n",
              "      <td>81.0</td>\n",
              "      <td>82920.792079</td>\n",
              "      <td>2018</td>\n",
              "      <td>12</td>\n",
              "      <td>1</td>\n",
              "      <td>первый</td>\n",
              "      <td>0.460396</td>\n",
              "      <td>0.272277</td>\n",
              "    </tr>\n",
              "    <tr>\n",
              "      <td>2</td>\n",
              "      <td>10</td>\n",
              "      <td>5196000.0</td>\n",
              "      <td>56.0</td>\n",
              "      <td>2015-08-20</td>\n",
              "      <td>2</td>\n",
              "      <td>2.65</td>\n",
              "      <td>5</td>\n",
              "      <td>34.3</td>\n",
              "      <td>4</td>\n",
              "      <td>False</td>\n",
              "      <td>...</td>\n",
              "      <td>2</td>\n",
              "      <td>574.0</td>\n",
              "      <td>558.0</td>\n",
              "      <td>92785.714286</td>\n",
              "      <td>2015</td>\n",
              "      <td>8</td>\n",
              "      <td>3</td>\n",
              "      <td>другой</td>\n",
              "      <td>0.612500</td>\n",
              "      <td>0.148214</td>\n",
              "    </tr>\n",
              "    <tr>\n",
              "      <td>3</td>\n",
              "      <td>0</td>\n",
              "      <td>64900000.0</td>\n",
              "      <td>159.0</td>\n",
              "      <td>2015-07-24</td>\n",
              "      <td>3</td>\n",
              "      <td>2.65</td>\n",
              "      <td>14</td>\n",
              "      <td>45.0</td>\n",
              "      <td>9</td>\n",
              "      <td>False</td>\n",
              "      <td>...</td>\n",
              "      <td>3</td>\n",
              "      <td>234.0</td>\n",
              "      <td>424.0</td>\n",
              "      <td>408176.100629</td>\n",
              "      <td>2015</td>\n",
              "      <td>7</td>\n",
              "      <td>4</td>\n",
              "      <td>другой</td>\n",
              "      <td>0.283019</td>\n",
              "      <td>0.059748</td>\n",
              "    </tr>\n",
              "    <tr>\n",
              "      <td>4</td>\n",
              "      <td>2</td>\n",
              "      <td>10000000.0</td>\n",
              "      <td>100.0</td>\n",
              "      <td>2018-06-19</td>\n",
              "      <td>2</td>\n",
              "      <td>3.03</td>\n",
              "      <td>14</td>\n",
              "      <td>32.0</td>\n",
              "      <td>13</td>\n",
              "      <td>False</td>\n",
              "      <td>...</td>\n",
              "      <td>1</td>\n",
              "      <td>48.0</td>\n",
              "      <td>121.0</td>\n",
              "      <td>100000.000000</td>\n",
              "      <td>2018</td>\n",
              "      <td>6</td>\n",
              "      <td>1</td>\n",
              "      <td>другой</td>\n",
              "      <td>0.320000</td>\n",
              "      <td>0.410000</td>\n",
              "    </tr>\n",
              "  </tbody>\n",
              "</table>\n",
              "<p>5 rows × 29 columns</p>\n",
              "</div>"
            ],
            "text/plain": [
              "   total_images  last_price  total_area first_day_exposition  rooms  \\\n",
              "0            20  13000000.0       108.0           2019-03-07      3   \n",
              "1             7   3350000.0        40.4           2018-12-04      1   \n",
              "2            10   5196000.0        56.0           2015-08-20      2   \n",
              "3             0  64900000.0       159.0           2015-07-24      3   \n",
              "4             2  10000000.0       100.0           2018-06-19      2   \n",
              "\n",
              "   ceiling_height  floors_total  living_area  floor  is_apartment  ...  \\\n",
              "0            2.70            16         51.0      8         False  ...   \n",
              "1            2.65            11         18.6      1         False  ...   \n",
              "2            2.65             5         34.3      4         False  ...   \n",
              "3            2.65            14         45.0      9         False  ...   \n",
              "4            3.03            14         32.0     13         False  ...   \n",
              "\n",
              "   ponds_around3000  ponds_nearest  days_exposition    price_meter  year  \\\n",
              "0                 2          755.0              NaN  120370.370370  2019   \n",
              "1                 0          584.5             81.0   82920.792079  2018   \n",
              "2                 2          574.0            558.0   92785.714286  2015   \n",
              "3                 3          234.0            424.0  408176.100629  2015   \n",
              "4                 1           48.0            121.0  100000.000000  2018   \n",
              "\n",
              "   month  weekday  floor_category  living_total_area  kitchen_total_area  \n",
              "0      3        3          другой           0.472222            0.231481  \n",
              "1     12        1          первый           0.460396            0.272277  \n",
              "2      8        3          другой           0.612500            0.148214  \n",
              "3      7        4          другой           0.283019            0.059748  \n",
              "4      6        1          другой           0.320000            0.410000  \n",
              "\n",
              "[5 rows x 29 columns]"
            ]
          },
          "metadata": {},
          "output_type": "display_data"
        }
      ],
      "source": [
        "#Посчитаем и добавим в таблицу отношение площади кухни к общей площади\n",
        "data['kitchen_total_area'] = data['kitchen_area']/data['total_area']\n",
        "display(data.head())"
      ]
    },
    {
      "cell_type": "markdown",
      "metadata": {},
      "source": [
        "**Вывод**: В таблицу для дальнейшего анализа добавлены следующие столбцы:\n",
        "1. Цена за квадратный метр\n",
        "2. Дата публикации разбита отдельно на день, месяц, год\n",
        "3. Этажи разбиты на категории - первый, последний, другой\n",
        "4. Добавлено соотношение жилой и общей площади\n",
        "5. Добавлено соотношение площади кухни и общей площади"
      ]
    },
    {
      "cell_type": "markdown",
      "metadata": {},
      "source": [
        "## Исследовательский анализ данных"
      ]
    },
    {
      "cell_type": "code",
      "execution_count": 18,
      "metadata": {},
      "outputs": [],
      "source": [
        "def calculate_range(column):\n",
        "    \n",
        "    q1 = data[column].quantile(0.25)\n",
        "    q3 = data[column].quantile(0.75)\n",
        "    iqr = q3 - q1\n",
        "    return (q1 - 1.5 * iqr, q3 + 1.5 * iqr)\n"
      ]
    },
    {
      "cell_type": "code",
      "execution_count": 19,
      "metadata": {},
      "outputs": [],
      "source": [
        "def create_hist(column, title):\n",
        "    data[column].hist(bins=100, range = calculate_range(column))\n",
        "    display(data[column].mean())\n",
        "    display(data[column].median())\n",
        "    plt.title(title)\n",
        "    plt.show()"
      ]
    },
    {
      "cell_type": "code",
      "execution_count": 20,
      "metadata": {
        "scrolled": true
      },
      "outputs": [
        {
          "data": {
            "text/plain": [
              "60.34865099793241"
            ]
          },
          "metadata": {},
          "output_type": "display_data"
        },
        {
          "data": {
            "text/plain": [
              "52.0"
            ]
          },
          "metadata": {},
          "output_type": "display_data"
        },
        {
          "data": {
            "image/png": "[encoded data removed]",
            "text/plain": [
              "<Figure size 432x288 with 1 Axes>"
            ]
          },
          "metadata": {
            "needs_background": "light"
          },
          "output_type": "display_data"
        }
      ],
      "source": [
        "#Построим гистограмму для общей площади\n",
        "create_hist('total_area', 'Общая площадь')\n"
      ]
    },
    {
      "cell_type": "markdown",
      "metadata": {},
      "source": [
        "**Вывод**: Площади продаваемых квартир примерно около 52м2"
      ]
    },
    {
      "cell_type": "code",
      "execution_count": 21,
      "metadata": {},
      "outputs": [
        {
          "data": {
            "text/plain": [
              "34.32198158200768"
            ]
          },
          "metadata": {},
          "output_type": "display_data"
        },
        {
          "data": {
            "text/plain": [
              "30.3"
            ]
          },
          "metadata": {},
          "output_type": "display_data"
        },
        {
          "data": {
            "image/png": "[encoded data removed]",
            "text/plain": [
              "<Figure size 432x288 with 1 Axes>"
            ]
          },
          "metadata": {
            "needs_background": "light"
          },
          "output_type": "display_data"
        }
      ],
      "source": [
        "#Построим гистограмму для жилой площади\n",
        "create_hist('living_area', 'Жилая площадь')\n"
      ]
    },
    {
      "cell_type": "markdown",
      "metadata": {},
      "source": [
        "**Вывод**:Жилая площадь продаваемых квартир около 30м2"
      ]
    },
    {
      "cell_type": "code",
      "execution_count": 22,
      "metadata": {},
      "outputs": [
        {
          "data": {
            "text/plain": [
              "10.452659605890545"
            ]
          },
          "metadata": {},
          "output_type": "display_data"
        },
        {
          "data": {
            "text/plain": [
              "9.04"
            ]
          },
          "metadata": {},
          "output_type": "display_data"
        },
        {
          "data": {
            "image/png": "[encoded data removed]",
            "text/plain": [
              "<Figure size 432x288 with 1 Axes>"
            ]
          },
          "metadata": {
            "needs_background": "light"
          },
          "output_type": "display_data"
        }
      ],
      "source": [
        "#Построим гистограмму для площади кухни\n",
        "create_hist('kitchen_area', 'Жилая площадь')\n"
      ]
    },
    {
      "cell_type": "markdown",
      "metadata": {},
      "source": [
        "**Вывод**: Площадь кухни продаваемых квартир около 9м2"
      ]
    },
    {
      "cell_type": "code",
      "execution_count": 23,
      "metadata": {},
      "outputs": [
        {
          "data": {
            "text/plain": [
              "6541548.771551542"
            ]
          },
          "metadata": {},
          "output_type": "display_data"
        },
        {
          "data": {
            "text/plain": [
              "4650000.0"
            ]
          },
          "metadata": {},
          "output_type": "display_data"
        },
        {
          "data": {
            "image/png": "[encoded data removed]",
            "text/plain": [
              "<Figure size 432x288 with 1 Axes>"
            ]
          },
          "metadata": {
            "needs_background": "light"
          },
          "output_type": "display_data"
        }
      ],
      "source": [
        "#Построим гистограмму для цены\n",
        "create_hist('last_price', 'Стоимость квартиры')\n"
      ]
    },
    {
      "cell_type": "markdown",
      "metadata": {},
      "source": [
        "**Вывод**:Цена продаваемых квартир около 4,5млн руб."
      ]
    },
    {
      "cell_type": "code",
      "execution_count": 24,
      "metadata": {},
      "outputs": [
        {
          "data": {
            "text/plain": [
              "2.070635891809781"
            ]
          },
          "metadata": {},
          "output_type": "display_data"
        },
        {
          "data": {
            "text/plain": [
              "2.0"
            ]
          },
          "metadata": {},
          "output_type": "display_data"
        },
        {
          "data": {
            "image/png": "[encoded data removed]",
            "text/plain": [
              "<Figure size 432x288 with 1 Axes>"
            ]
          },
          "metadata": {
            "needs_background": "light"
          },
          "output_type": "display_data"
        }
      ],
      "source": [
        "#Построим гистограмму для числа комнат\n",
        "create_hist('rooms', 'Число комнат')\n"
      ]
    },
    {
      "cell_type": "markdown",
      "metadata": {},
      "source": [
        "**Вывод**:Чаще продают двухкомнатные квартиры."
      ]
    },
    {
      "cell_type": "code",
      "execution_count": 25,
      "metadata": {},
      "outputs": [
        {
          "data": {
            "text/plain": [
              "2.724358411747331"
            ]
          },
          "metadata": {},
          "output_type": "display_data"
        },
        {
          "data": {
            "text/plain": [
              "2.65"
            ]
          },
          "metadata": {},
          "output_type": "display_data"
        },
        {
          "data": {
            "image/png": "[encoded data removed]",
            "text/plain": [
              "<Figure size 432x288 with 1 Axes>"
            ]
          },
          "metadata": {
            "needs_background": "light"
          },
          "output_type": "display_data"
        }
      ],
      "source": [
        "#Построим гистограмму для высоты потолка\n",
        "create_hist('ceiling_height', 'Высота потолка')\n"
      ]
    },
    {
      "cell_type": "markdown",
      "metadata": {},
      "source": [
        "**Вывод**:Высота потолков продаваемых квартир составляет около 2,65м."
      ]
    },
    {
      "cell_type": "code",
      "execution_count": 26,
      "metadata": {},
      "outputs": [
        {
          "data": {
            "text/html": [
              "<div>\n",
              "<style scoped>\n",
              "    .dataframe tbody tr th:only-of-type {\n",
              "        vertical-align: middle;\n",
              "    }\n",
              "\n",
              "    .dataframe tbody tr th {\n",
              "        vertical-align: top;\n",
              "    }\n",
              "\n",
              "    .dataframe thead th {\n",
              "        text-align: right;\n",
              "    }\n",
              "</style>\n",
              "<table border=\"1\" class=\"dataframe\">\n",
              "  <thead>\n",
              "    <tr style=\"text-align: right;\">\n",
              "      <th></th>\n",
              "      <th>total_images</th>\n",
              "      <th>last_price</th>\n",
              "      <th>total_area</th>\n",
              "      <th>rooms</th>\n",
              "      <th>ceiling_height</th>\n",
              "      <th>floors_total</th>\n",
              "      <th>living_area</th>\n",
              "      <th>floor</th>\n",
              "      <th>kitchen_area</th>\n",
              "      <th>balcony</th>\n",
              "      <th>...</th>\n",
              "      <th>parks_nearest</th>\n",
              "      <th>ponds_around3000</th>\n",
              "      <th>ponds_nearest</th>\n",
              "      <th>days_exposition</th>\n",
              "      <th>price_meter</th>\n",
              "      <th>year</th>\n",
              "      <th>month</th>\n",
              "      <th>weekday</th>\n",
              "      <th>living_total_area</th>\n",
              "      <th>kitchen_total_area</th>\n",
              "    </tr>\n",
              "  </thead>\n",
              "  <tbody>\n",
              "    <tr>\n",
              "      <td>count</td>\n",
              "      <td>23699.000000</td>\n",
              "      <td>2.369900e+04</td>\n",
              "      <td>23699.000000</td>\n",
              "      <td>23699.000000</td>\n",
              "      <td>23699.000000</td>\n",
              "      <td>23699.000000</td>\n",
              "      <td>23699.000000</td>\n",
              "      <td>23699.000000</td>\n",
              "      <td>23699.000000</td>\n",
              "      <td>23699.000000</td>\n",
              "      <td>...</td>\n",
              "      <td>23699.000000</td>\n",
              "      <td>23699.000000</td>\n",
              "      <td>23699.000000</td>\n",
              "      <td>20518.000000</td>\n",
              "      <td>2.369900e+04</td>\n",
              "      <td>23699.000000</td>\n",
              "      <td>23699.000000</td>\n",
              "      <td>23699.000000</td>\n",
              "      <td>23699.000000</td>\n",
              "      <td>23699.000000</td>\n",
              "    </tr>\n",
              "    <tr>\n",
              "      <td>mean</td>\n",
              "      <td>9.858475</td>\n",
              "      <td>6.541549e+06</td>\n",
              "      <td>60.348651</td>\n",
              "      <td>2.070636</td>\n",
              "      <td>2.724358</td>\n",
              "      <td>10.667750</td>\n",
              "      <td>34.321982</td>\n",
              "      <td>5.892358</td>\n",
              "      <td>10.452660</td>\n",
              "      <td>0.591080</td>\n",
              "      <td>...</td>\n",
              "      <td>471.902971</td>\n",
              "      <td>0.823748</td>\n",
              "      <td>507.903751</td>\n",
              "      <td>180.888634</td>\n",
              "      <td>9.942166e+04</td>\n",
              "      <td>2017.367146</td>\n",
              "      <td>6.400101</td>\n",
              "      <td>2.569307</td>\n",
              "      <td>0.563845</td>\n",
              "      <td>0.189530</td>\n",
              "    </tr>\n",
              "    <tr>\n",
              "      <td>std</td>\n",
              "      <td>5.682529</td>\n",
              "      <td>1.088701e+07</td>\n",
              "      <td>35.654083</td>\n",
              "      <td>1.078405</td>\n",
              "      <td>0.988298</td>\n",
              "      <td>6.585961</td>\n",
              "      <td>21.700627</td>\n",
              "      <td>4.885249</td>\n",
              "      <td>5.642179</td>\n",
              "      <td>0.959298</td>\n",
              "      <td>...</td>\n",
              "      <td>203.540202</td>\n",
              "      <td>0.827588</td>\n",
              "      <td>175.543671</td>\n",
              "      <td>219.727988</td>\n",
              "      <td>5.030680e+04</td>\n",
              "      <td>1.039771</td>\n",
              "      <td>3.491561</td>\n",
              "      <td>1.789082</td>\n",
              "      <td>0.110933</td>\n",
              "      <td>0.075411</td>\n",
              "    </tr>\n",
              "    <tr>\n",
              "      <td>min</td>\n",
              "      <td>0.000000</td>\n",
              "      <td>1.219000e+04</td>\n",
              "      <td>12.000000</td>\n",
              "      <td>0.000000</td>\n",
              "      <td>1.000000</td>\n",
              "      <td>1.000000</td>\n",
              "      <td>2.000000</td>\n",
              "      <td>1.000000</td>\n",
              "      <td>1.300000</td>\n",
              "      <td>0.000000</td>\n",
              "      <td>...</td>\n",
              "      <td>1.000000</td>\n",
              "      <td>0.000000</td>\n",
              "      <td>13.000000</td>\n",
              "      <td>1.000000</td>\n",
              "      <td>1.118349e+02</td>\n",
              "      <td>2014.000000</td>\n",
              "      <td>1.000000</td>\n",
              "      <td>0.000000</td>\n",
              "      <td>0.021583</td>\n",
              "      <td>0.018296</td>\n",
              "    </tr>\n",
              "    <tr>\n",
              "      <td>25%</td>\n",
              "      <td>6.000000</td>\n",
              "      <td>3.400000e+06</td>\n",
              "      <td>40.000000</td>\n",
              "      <td>1.000000</td>\n",
              "      <td>2.600000</td>\n",
              "      <td>5.000000</td>\n",
              "      <td>18.400000</td>\n",
              "      <td>2.000000</td>\n",
              "      <td>7.400000</td>\n",
              "      <td>0.000000</td>\n",
              "      <td>...</td>\n",
              "      <td>460.000000</td>\n",
              "      <td>0.000000</td>\n",
              "      <td>503.000000</td>\n",
              "      <td>45.000000</td>\n",
              "      <td>7.658547e+04</td>\n",
              "      <td>2017.000000</td>\n",
              "      <td>3.000000</td>\n",
              "      <td>1.000000</td>\n",
              "      <td>0.490326</td>\n",
              "      <td>0.133906</td>\n",
              "    </tr>\n",
              "    <tr>\n",
              "      <td>50%</td>\n",
              "      <td>9.000000</td>\n",
              "      <td>4.650000e+06</td>\n",
              "      <td>52.000000</td>\n",
              "      <td>2.000000</td>\n",
              "      <td>2.650000</td>\n",
              "      <td>9.000000</td>\n",
              "      <td>30.300000</td>\n",
              "      <td>4.000000</td>\n",
              "      <td>9.040000</td>\n",
              "      <td>0.000000</td>\n",
              "      <td>...</td>\n",
              "      <td>460.000000</td>\n",
              "      <td>1.000000</td>\n",
              "      <td>503.000000</td>\n",
              "      <td>95.000000</td>\n",
              "      <td>9.500000e+04</td>\n",
              "      <td>2017.000000</td>\n",
              "      <td>6.000000</td>\n",
              "      <td>3.000000</td>\n",
              "      <td>0.566596</td>\n",
              "      <td>0.173611</td>\n",
              "    </tr>\n",
              "    <tr>\n",
              "      <td>75%</td>\n",
              "      <td>14.000000</td>\n",
              "      <td>6.800000e+06</td>\n",
              "      <td>69.900000</td>\n",
              "      <td>3.000000</td>\n",
              "      <td>2.700000</td>\n",
              "      <td>16.000000</td>\n",
              "      <td>42.700000</td>\n",
              "      <td>8.000000</td>\n",
              "      <td>11.500000</td>\n",
              "      <td>1.000000</td>\n",
              "      <td>...</td>\n",
              "      <td>460.000000</td>\n",
              "      <td>1.000000</td>\n",
              "      <td>503.000000</td>\n",
              "      <td>232.000000</td>\n",
              "      <td>1.142563e+05</td>\n",
              "      <td>2018.000000</td>\n",
              "      <td>10.000000</td>\n",
              "      <td>4.000000</td>\n",
              "      <td>0.638298</td>\n",
              "      <td>0.234507</td>\n",
              "    </tr>\n",
              "    <tr>\n",
              "      <td>max</td>\n",
              "      <td>50.000000</td>\n",
              "      <td>7.630000e+08</td>\n",
              "      <td>900.000000</td>\n",
              "      <td>19.000000</td>\n",
              "      <td>100.000000</td>\n",
              "      <td>60.000000</td>\n",
              "      <td>409.700000</td>\n",
              "      <td>33.000000</td>\n",
              "      <td>112.000000</td>\n",
              "      <td>5.000000</td>\n",
              "      <td>...</td>\n",
              "      <td>3190.000000</td>\n",
              "      <td>3.000000</td>\n",
              "      <td>1344.000000</td>\n",
              "      <td>1580.000000</td>\n",
              "      <td>1.907500e+06</td>\n",
              "      <td>2019.000000</td>\n",
              "      <td>12.000000</td>\n",
              "      <td>6.000000</td>\n",
              "      <td>1.514286</td>\n",
              "      <td>0.787879</td>\n",
              "    </tr>\n",
              "  </tbody>\n",
              "</table>\n",
              "<p>8 rows × 23 columns</p>\n",
              "</div>"
            ],
            "text/plain": [
              "       total_images    last_price    total_area         rooms  ceiling_height  \\\n",
              "count  23699.000000  2.369900e+04  23699.000000  23699.000000    23699.000000   \n",
              "mean       9.858475  6.541549e+06     60.348651      2.070636        2.724358   \n",
              "std        5.682529  1.088701e+07     35.654083      1.078405        0.988298   \n",
              "min        0.000000  1.219000e+04     12.000000      0.000000        1.000000   \n",
              "25%        6.000000  3.400000e+06     40.000000      1.000000        2.600000   \n",
              "50%        9.000000  4.650000e+06     52.000000      2.000000        2.650000   \n",
              "75%       14.000000  6.800000e+06     69.900000      3.000000        2.700000   \n",
              "max       50.000000  7.630000e+08    900.000000     19.000000      100.000000   \n",
              "\n",
              "       floors_total   living_area         floor  kitchen_area       balcony  \\\n",
              "count  23699.000000  23699.000000  23699.000000  23699.000000  23699.000000   \n",
              "mean      10.667750     34.321982      5.892358     10.452660      0.591080   \n",
              "std        6.585961     21.700627      4.885249      5.642179      0.959298   \n",
              "min        1.000000      2.000000      1.000000      1.300000      0.000000   \n",
              "25%        5.000000     18.400000      2.000000      7.400000      0.000000   \n",
              "50%        9.000000     30.300000      4.000000      9.040000      0.000000   \n",
              "75%       16.000000     42.700000      8.000000     11.500000      1.000000   \n",
              "max       60.000000    409.700000     33.000000    112.000000      5.000000   \n",
              "\n",
              "       ...  parks_nearest  ponds_around3000  ponds_nearest  days_exposition  \\\n",
              "count  ...   23699.000000      23699.000000   23699.000000     20518.000000   \n",
              "mean   ...     471.902971          0.823748     507.903751       180.888634   \n",
              "std    ...     203.540202          0.827588     175.543671       219.727988   \n",
              "min    ...       1.000000          0.000000      13.000000         1.000000   \n",
              "25%    ...     460.000000          0.000000     503.000000        45.000000   \n",
              "50%    ...     460.000000          1.000000     503.000000        95.000000   \n",
              "75%    ...     460.000000          1.000000     503.000000       232.000000   \n",
              "max    ...    3190.000000          3.000000    1344.000000      1580.000000   \n",
              "\n",
              "        price_meter          year         month       weekday  \\\n",
              "count  2.369900e+04  23699.000000  23699.000000  23699.000000   \n",
              "mean   9.942166e+04   2017.367146      6.400101      2.569307   \n",
              "std    5.030680e+04      1.039771      3.491561      1.789082   \n",
              "min    1.118349e+02   2014.000000      1.000000      0.000000   \n",
              "25%    7.658547e+04   2017.000000      3.000000      1.000000   \n",
              "50%    9.500000e+04   2017.000000      6.000000      3.000000   \n",
              "75%    1.142563e+05   2018.000000     10.000000      4.000000   \n",
              "max    1.907500e+06   2019.000000     12.000000      6.000000   \n",
              "\n",
              "       living_total_area  kitchen_total_area  \n",
              "count       23699.000000        23699.000000  \n",
              "mean            0.563845            0.189530  \n",
              "std             0.110933            0.075411  \n",
              "min             0.021583            0.018296  \n",
              "25%             0.490326            0.133906  \n",
              "50%             0.566596            0.173611  \n",
              "75%             0.638298            0.234507  \n",
              "max             1.514286            0.787879  \n",
              "\n",
              "[8 rows x 23 columns]"
            ]
          },
          "execution_count": 26,
          "metadata": {},
          "output_type": "execute_result"
        }
      ],
      "source": [
        "#Помотрим описание распределений по всем столбцам\n",
        "data.describe()"
      ]
    },
    {
      "cell_type": "code",
      "execution_count": 27,
      "metadata": {
        "scrolled": true
      },
      "outputs": [
        {
          "data": {
            "text/plain": [
              "180.88863436982163"
            ]
          },
          "metadata": {},
          "output_type": "display_data"
        },
        {
          "data": {
            "text/plain": [
              "95.0"
            ]
          },
          "metadata": {},
          "output_type": "display_data"
        },
        {
          "data": {
            "text/plain": [
              "count    20518.000000\n",
              "mean       180.888634\n",
              "std        219.727988\n",
              "min          1.000000\n",
              "25%         45.000000\n",
              "50%         95.000000\n",
              "75%        232.000000\n",
              "max       1580.000000\n",
              "Name: days_exposition, dtype: float64"
            ]
          },
          "execution_count": 27,
          "metadata": {},
          "output_type": "execute_result"
        },
        {
          "data": {
            "image/png": "[encoded data removed]",
            "text/plain": [
              "<Figure size 432x288 with 1 Axes>"
            ]
          },
          "metadata": {
            "needs_background": "light"
          },
          "output_type": "display_data"
        }
      ],
      "source": [
        "#Изучим время продажи квартиры. Построим гистограмму. Посчитаем среднее и медиану. \n",
        "data['days_exposition'].hist(bins=100, range = (0,600))\n",
        "display(data['days_exposition'].mean())\n",
        "display(data['days_exposition'].median())\n",
        "data['days_exposition'].describe()"
      ]
    },
    {
      "cell_type": "markdown",
      "metadata": {},
      "source": [
        "**Выводы**:\n",
        "1. Обычно продажа происходит в течение 95 дней\n",
        "2. Продажи проходят очень быстро - в течение 45 дней, очень долго - больше 232 дней"
      ]
    },
    {
      "cell_type": "code",
      "execution_count": 28,
      "metadata": {},
      "outputs": [],
      "source": [
        "def create_boxplot(column, y1, y2):\n",
        "    data.boxplot(column, figsize=(8, 8));\n",
        "    plt.ylim(y1, y2)\n",
        "    data[column].describe()"
      ]
    },
    {
      "cell_type": "code",
      "execution_count": 29,
      "metadata": {
        "scrolled": true
      },
      "outputs": [
        {
          "data": {
            "image/png": "[encoded data removed]",
            "text/plain": [
              "<Figure size 576x576 with 1 Axes>"
            ]
          },
          "metadata": {
            "needs_background": "light"
          },
          "output_type": "display_data"
        }
      ],
      "source": [
        "#Построим диаграмму размаха цены \n",
        "create_boxplot('last_price', -3e6, 1.5e7)\n"
      ]
    },
    {
      "cell_type": "code",
      "execution_count": 30,
      "metadata": {},
      "outputs": [],
      "source": [
        "def filter_data(data, column):\n",
        "    r = calculate_range(column)\n",
        "    return data[(data[column] < r[1]) & (data[column] > r[0])]\n"
      ]
    },
    {
      "cell_type": "code",
      "execution_count": 31,
      "metadata": {
        "scrolled": true
      },
      "outputs": [
        {
          "name": "stdout",
          "output_type": "stream",
          "text": [
            "<class 'pandas.core.frame.DataFrame'>\n",
            "Int64Index: 21638 entries, 1 to 23698\n",
            "Data columns (total 29 columns):\n",
            "total_images            21638 non-null int64\n",
            "last_price              21638 non-null float64\n",
            "total_area              21638 non-null float64\n",
            "first_day_exposition    21638 non-null datetime64[ns]\n",
            "rooms                   21638 non-null int64\n",
            "ceiling_height          21638 non-null float64\n",
            "floors_total            21638 non-null int64\n",
            "living_area             21638 non-null float64\n",
            "floor                   21638 non-null int64\n",
            "is_apartment            21638 non-null bool\n",
            "studio                  21638 non-null bool\n",
            "open_plan               21638 non-null bool\n",
            "kitchen_area            21638 non-null float64\n",
            "balcony                 21638 non-null int64\n",
            "locality_name           21595 non-null object\n",
            "airports_nearest        21638 non-null float64\n",
            "cityCenters_nearest     21638 non-null float64\n",
            "parks_around3000        21638 non-null int64\n",
            "parks_nearest           21638 non-null float64\n",
            "ponds_around3000        21638 non-null int64\n",
            "ponds_nearest           21638 non-null float64\n",
            "days_exposition         19001 non-null float64\n",
            "price_meter             21638 non-null float64\n",
            "year                    21638 non-null int64\n",
            "month                   21638 non-null int64\n",
            "weekday                 21638 non-null int64\n",
            "floor_category          21638 non-null object\n",
            "living_total_area       21638 non-null float64\n",
            "kitchen_total_area      21638 non-null float64\n",
            "dtypes: bool(3), datetime64[ns](1), float64(13), int64(10), object(2)\n",
            "memory usage: 4.5+ MB\n"
          ]
        }
      ],
      "source": [
        "#Уберем редкие и выбивающиеся значения\n",
        "data = filter_data(data, 'last_price')\n",
        "\n",
        "data.info()"
      ]
    },
    {
      "cell_type": "code",
      "execution_count": 32,
      "metadata": {
        "scrolled": true
      },
      "outputs": [
        {
          "data": {
            "image/png": "[encoded data removed]",
            "text/plain": [
              "<Figure size 576x576 with 1 Axes>"
            ]
          },
          "metadata": {
            "needs_background": "light"
          },
          "output_type": "display_data"
        }
      ],
      "source": [
        "#Построим диаграмму размаха общей площади\n",
        "create_boxplot('total_area', -5, 200)\n"
      ]
    },
    {
      "cell_type": "code",
      "execution_count": 33,
      "metadata": {},
      "outputs": [
        {
          "name": "stdout",
          "output_type": "stream",
          "text": [
            "<class 'pandas.core.frame.DataFrame'>\n",
            "Int64Index: 21186 entries, 1 to 23698\n",
            "Data columns (total 29 columns):\n",
            "total_images            21186 non-null int64\n",
            "last_price              21186 non-null float64\n",
            "total_area              21186 non-null float64\n",
            "first_day_exposition    21186 non-null datetime64[ns]\n",
            "rooms                   21186 non-null int64\n",
            "ceiling_height          21186 non-null float64\n",
            "floors_total            21186 non-null int64\n",
            "living_area             21186 non-null float64\n",
            "floor                   21186 non-null int64\n",
            "is_apartment            21186 non-null bool\n",
            "studio                  21186 non-null bool\n",
            "open_plan               21186 non-null bool\n",
            "kitchen_area            21186 non-null float64\n",
            "balcony                 21186 non-null int64\n",
            "locality_name           21145 non-null object\n",
            "airports_nearest        21186 non-null float64\n",
            "cityCenters_nearest     21186 non-null float64\n",
            "parks_around3000        21186 non-null int64\n",
            "parks_nearest           21186 non-null float64\n",
            "ponds_around3000        21186 non-null int64\n",
            "ponds_nearest           21186 non-null float64\n",
            "days_exposition         18625 non-null float64\n",
            "price_meter             21186 non-null float64\n",
            "year                    21186 non-null int64\n",
            "month                   21186 non-null int64\n",
            "weekday                 21186 non-null int64\n",
            "floor_category          21186 non-null object\n",
            "living_total_area       21186 non-null float64\n",
            "kitchen_total_area      21186 non-null float64\n",
            "dtypes: bool(3), datetime64[ns](1), float64(13), int64(10), object(2)\n",
            "memory usage: 4.4+ MB\n"
          ]
        }
      ],
      "source": [
        "#Уберем редкие и выбивающиеся значения\n",
        "data = filter_data(data, 'total_area')\n",
        "\n",
        "data.info()"
      ]
    },
    {
      "cell_type": "code",
      "execution_count": 34,
      "metadata": {},
      "outputs": [
        {
          "data": {
            "image/png": "[encoded data removed]",
            "text/plain": [
              "<Figure size 576x576 with 1 Axes>"
            ]
          },
          "metadata": {
            "needs_background": "light"
          },
          "output_type": "display_data"
        }
      ],
      "source": [
        "#Построим диаграмму размаха числа комнат \n",
        "create_boxplot('rooms', -5, 20)\n"
      ]
    },
    {
      "cell_type": "code",
      "execution_count": 35,
      "metadata": {},
      "outputs": [
        {
          "name": "stdout",
          "output_type": "stream",
          "text": [
            "<class 'pandas.core.frame.DataFrame'>\n",
            "Int64Index: 21184 entries, 1 to 23698\n",
            "Data columns (total 29 columns):\n",
            "total_images            21184 non-null int64\n",
            "last_price              21184 non-null float64\n",
            "total_area              21184 non-null float64\n",
            "first_day_exposition    21184 non-null datetime64[ns]\n",
            "rooms                   21184 non-null int64\n",
            "ceiling_height          21184 non-null float64\n",
            "floors_total            21184 non-null int64\n",
            "living_area             21184 non-null float64\n",
            "floor                   21184 non-null int64\n",
            "is_apartment            21184 non-null bool\n",
            "studio                  21184 non-null bool\n",
            "open_plan               21184 non-null bool\n",
            "kitchen_area            21184 non-null float64\n",
            "balcony                 21184 non-null int64\n",
            "locality_name           21143 non-null object\n",
            "airports_nearest        21184 non-null float64\n",
            "cityCenters_nearest     21184 non-null float64\n",
            "parks_around3000        21184 non-null int64\n",
            "parks_nearest           21184 non-null float64\n",
            "ponds_around3000        21184 non-null int64\n",
            "ponds_nearest           21184 non-null float64\n",
            "days_exposition         18624 non-null float64\n",
            "price_meter             21184 non-null float64\n",
            "year                    21184 non-null int64\n",
            "month                   21184 non-null int64\n",
            "weekday                 21184 non-null int64\n",
            "floor_category          21184 non-null object\n",
            "living_total_area       21184 non-null float64\n",
            "kitchen_total_area      21184 non-null float64\n",
            "dtypes: bool(3), datetime64[ns](1), float64(13), int64(10), object(2)\n",
            "memory usage: 4.4+ MB\n"
          ]
        }
      ],
      "source": [
        "#Уберем редкие и выбивающиеся значения\n",
        "data = filter_data(data, 'rooms')\n",
        "\n",
        "data.info()"
      ]
    },
    {
      "cell_type": "code",
      "execution_count": 36,
      "metadata": {},
      "outputs": [
        {
          "data": {
            "image/png": "[encoded data removed]",
            "text/plain": [
              "<Figure size 576x576 with 1 Axes>"
            ]
          },
          "metadata": {
            "needs_background": "light"
          },
          "output_type": "display_data"
        }
      ],
      "source": [
        "#Построим диаграмму размаха высоты потолка\n",
        "create_boxplot('ceiling_height', 2, 4)\n"
      ]
    },
    {
      "cell_type": "code",
      "execution_count": 37,
      "metadata": {},
      "outputs": [
        {
          "name": "stdout",
          "output_type": "stream",
          "text": [
            "<class 'pandas.core.frame.DataFrame'>\n",
            "Int64Index: 18333 entries, 1 to 23698\n",
            "Data columns (total 29 columns):\n",
            "total_images            18333 non-null int64\n",
            "last_price              18333 non-null float64\n",
            "total_area              18333 non-null float64\n",
            "first_day_exposition    18333 non-null datetime64[ns]\n",
            "rooms                   18333 non-null int64\n",
            "ceiling_height          18333 non-null float64\n",
            "floors_total            18333 non-null int64\n",
            "living_area             18333 non-null float64\n",
            "floor                   18333 non-null int64\n",
            "is_apartment            18333 non-null bool\n",
            "studio                  18333 non-null bool\n",
            "open_plan               18333 non-null bool\n",
            "kitchen_area            18333 non-null float64\n",
            "balcony                 18333 non-null int64\n",
            "locality_name           18297 non-null object\n",
            "airports_nearest        18333 non-null float64\n",
            "cityCenters_nearest     18333 non-null float64\n",
            "parks_around3000        18333 non-null int64\n",
            "parks_nearest           18333 non-null float64\n",
            "ponds_around3000        18333 non-null int64\n",
            "ponds_nearest           18333 non-null float64\n",
            "days_exposition         16266 non-null float64\n",
            "price_meter             18333 non-null float64\n",
            "year                    18333 non-null int64\n",
            "month                   18333 non-null int64\n",
            "weekday                 18333 non-null int64\n",
            "floor_category          18333 non-null object\n",
            "living_total_area       18333 non-null float64\n",
            "kitchen_total_area      18333 non-null float64\n",
            "dtypes: bool(3), datetime64[ns](1), float64(13), int64(10), object(2)\n",
            "memory usage: 3.8+ MB\n"
          ]
        }
      ],
      "source": [
        "#Уберем редкие и выбивающиеся значения\n",
        "data = filter_data(data, 'ceiling_height')\n",
        "\n",
        "data.info()"
      ]
    },
    {
      "cell_type": "code",
      "execution_count": 38,
      "metadata": {},
      "outputs": [
        {
          "data": {
            "image/png": "[encoded data removed]",
            "text/plain": [
              "<Figure size 576x576 with 1 Axes>"
            ]
          },
          "metadata": {
            "needs_background": "light"
          },
          "output_type": "display_data"
        }
      ],
      "source": [
        "#Построим диаграмму размаха жилой площади\n",
        "create_boxplot('living_area', -6, 100)\n"
      ]
    },
    {
      "cell_type": "code",
      "execution_count": 39,
      "metadata": {},
      "outputs": [
        {
          "name": "stdout",
          "output_type": "stream",
          "text": [
            "<class 'pandas.core.frame.DataFrame'>\n",
            "Int64Index: 18292 entries, 1 to 23698\n",
            "Data columns (total 29 columns):\n",
            "total_images            18292 non-null int64\n",
            "last_price              18292 non-null float64\n",
            "total_area              18292 non-null float64\n",
            "first_day_exposition    18292 non-null datetime64[ns]\n",
            "rooms                   18292 non-null int64\n",
            "ceiling_height          18292 non-null float64\n",
            "floors_total            18292 non-null int64\n",
            "living_area             18292 non-null float64\n",
            "floor                   18292 non-null int64\n",
            "is_apartment            18292 non-null bool\n",
            "studio                  18292 non-null bool\n",
            "open_plan               18292 non-null bool\n",
            "kitchen_area            18292 non-null float64\n",
            "balcony                 18292 non-null int64\n",
            "locality_name           18256 non-null object\n",
            "airports_nearest        18292 non-null float64\n",
            "cityCenters_nearest     18292 non-null float64\n",
            "parks_around3000        18292 non-null int64\n",
            "parks_nearest           18292 non-null float64\n",
            "ponds_around3000        18292 non-null int64\n",
            "ponds_nearest           18292 non-null float64\n",
            "days_exposition         16232 non-null float64\n",
            "price_meter             18292 non-null float64\n",
            "year                    18292 non-null int64\n",
            "month                   18292 non-null int64\n",
            "weekday                 18292 non-null int64\n",
            "floor_category          18292 non-null object\n",
            "living_total_area       18292 non-null float64\n",
            "kitchen_total_area      18292 non-null float64\n",
            "dtypes: bool(3), datetime64[ns](1), float64(13), int64(10), object(2)\n",
            "memory usage: 3.8+ MB\n"
          ]
        }
      ],
      "source": [
        "#Уберем редкие и выбивающиеся значения\n",
        "data = filter_data(data, 'living_area')\n",
        "\n",
        "data.info()"
      ]
    },
    {
      "cell_type": "code",
      "execution_count": 40,
      "metadata": {},
      "outputs": [
        {
          "data": {
            "image/png": "[encoded data removed]",
            "text/plain": [
              "<Figure size 576x576 with 1 Axes>"
            ]
          },
          "metadata": {
            "needs_background": "light"
          },
          "output_type": "display_data"
        }
      ],
      "source": [
        "#Построим диаграмму размаха площади кухни\n",
        "create_boxplot('kitchen_area', -6, 50)\n"
      ]
    },
    {
      "cell_type": "code",
      "execution_count": 41,
      "metadata": {},
      "outputs": [
        {
          "name": "stdout",
          "output_type": "stream",
          "text": [
            "<class 'pandas.core.frame.DataFrame'>\n",
            "Int64Index: 17545 entries, 1 to 23698\n",
            "Data columns (total 29 columns):\n",
            "total_images            17545 non-null int64\n",
            "last_price              17545 non-null float64\n",
            "total_area              17545 non-null float64\n",
            "first_day_exposition    17545 non-null datetime64[ns]\n",
            "rooms                   17545 non-null int64\n",
            "ceiling_height          17545 non-null float64\n",
            "floors_total            17545 non-null int64\n",
            "living_area             17545 non-null float64\n",
            "floor                   17545 non-null int64\n",
            "is_apartment            17545 non-null bool\n",
            "studio                  17545 non-null bool\n",
            "open_plan               17545 non-null bool\n",
            "kitchen_area            17545 non-null float64\n",
            "balcony                 17545 non-null int64\n",
            "locality_name           17512 non-null object\n",
            "airports_nearest        17545 non-null float64\n",
            "cityCenters_nearest     17545 non-null float64\n",
            "parks_around3000        17545 non-null int64\n",
            "parks_nearest           17545 non-null float64\n",
            "ponds_around3000        17545 non-null int64\n",
            "ponds_nearest           17545 non-null float64\n",
            "days_exposition         15562 non-null float64\n",
            "price_meter             17545 non-null float64\n",
            "year                    17545 non-null int64\n",
            "month                   17545 non-null int64\n",
            "weekday                 17545 non-null int64\n",
            "floor_category          17545 non-null object\n",
            "living_total_area       17545 non-null float64\n",
            "kitchen_total_area      17545 non-null float64\n",
            "dtypes: bool(3), datetime64[ns](1), float64(13), int64(10), object(2)\n",
            "memory usage: 3.7+ MB\n"
          ]
        }
      ],
      "source": [
        "#Уберем редкие и выбивающиеся значения\n",
        "data = filter_data(data, 'kitchen_area')\n",
        "\n",
        "data.info()"
      ]
    },
    {
      "cell_type": "code",
      "execution_count": 42,
      "metadata": {},
      "outputs": [
        {
          "data": {
            "image/png": "[encoded data removed]",
            "text/plain": [
              "<Figure size 576x576 with 1 Axes>"
            ]
          },
          "metadata": {
            "needs_background": "light"
          },
          "output_type": "display_data"
        }
      ],
      "source": [
        "#Построим диаграмму размаха дней продажи\n",
        "create_boxplot('days_exposition', 0, 1500)\n"
      ]
    },
    {
      "cell_type": "code",
      "execution_count": 43,
      "metadata": {
        "scrolled": true
      },
      "outputs": [
        {
          "name": "stdout",
          "output_type": "stream",
          "text": [
            "<class 'pandas.core.frame.DataFrame'>\n",
            "Int64Index: 14232 entries, 1 to 23695\n",
            "Data columns (total 29 columns):\n",
            "total_images            14232 non-null int64\n",
            "last_price              14232 non-null float64\n",
            "total_area              14232 non-null float64\n",
            "first_day_exposition    14232 non-null datetime64[ns]\n",
            "rooms                   14232 non-null int64\n",
            "ceiling_height          14232 non-null float64\n",
            "floors_total            14232 non-null int64\n",
            "living_area             14232 non-null float64\n",
            "floor                   14232 non-null int64\n",
            "is_apartment            14232 non-null bool\n",
            "studio                  14232 non-null bool\n",
            "open_plan               14232 non-null bool\n",
            "kitchen_area            14232 non-null float64\n",
            "balcony                 14232 non-null int64\n",
            "locality_name           14206 non-null object\n",
            "airports_nearest        14232 non-null float64\n",
            "cityCenters_nearest     14232 non-null float64\n",
            "parks_around3000        14232 non-null int64\n",
            "parks_nearest           14232 non-null float64\n",
            "ponds_around3000        14232 non-null int64\n",
            "ponds_nearest           14232 non-null float64\n",
            "days_exposition         14232 non-null float64\n",
            "price_meter             14232 non-null float64\n",
            "year                    14232 non-null int64\n",
            "month                   14232 non-null int64\n",
            "weekday                 14232 non-null int64\n",
            "floor_category          14232 non-null object\n",
            "living_total_area       14232 non-null float64\n",
            "kitchen_total_area      14232 non-null float64\n",
            "dtypes: bool(3), datetime64[ns](1), float64(13), int64(10), object(2)\n",
            "memory usage: 3.0+ MB\n"
          ]
        }
      ],
      "source": [
        "#Уберем редкие и выбивающиеся значения\n",
        "data = filter_data(data, 'days_exposition')\n",
        "\n",
        "data.info()"
      ]
    },
    {
      "cell_type": "markdown",
      "metadata": {},
      "source": [
        "**Вывод**: Больше всего выбивающихся значений в категориях:\n",
        "1. цена, общая площадь - возможно, проставлены лишние нули в конце\n",
        "2. площадь кухни - возможно, погрешности измерения в квартирах-студиях\n",
        "3. количество дней продажи - возможно, квартиры еще находятся в продаже, либо случайно не были сняты с продажи "
      ]
    },
    {
      "cell_type": "code",
      "execution_count": 44,
      "metadata": {},
      "outputs": [
        {
          "data": {
            "text/html": [
              "<div>\n",
              "<style scoped>\n",
              "    .dataframe tbody tr th:only-of-type {\n",
              "        vertical-align: middle;\n",
              "    }\n",
              "\n",
              "    .dataframe tbody tr th {\n",
              "        vertical-align: top;\n",
              "    }\n",
              "\n",
              "    .dataframe thead th {\n",
              "        text-align: right;\n",
              "    }\n",
              "</style>\n",
              "<table border=\"1\" class=\"dataframe\">\n",
              "  <thead>\n",
              "    <tr style=\"text-align: right;\">\n",
              "      <th></th>\n",
              "      <th>total_images</th>\n",
              "      <th>last_price</th>\n",
              "      <th>total_area</th>\n",
              "      <th>first_day_exposition</th>\n",
              "      <th>rooms</th>\n",
              "      <th>ceiling_height</th>\n",
              "      <th>floors_total</th>\n",
              "      <th>living_area</th>\n",
              "      <th>floor</th>\n",
              "      <th>is_apartment</th>\n",
              "      <th>...</th>\n",
              "      <th>ponds_nearest</th>\n",
              "      <th>days_exposition</th>\n",
              "      <th>price_meter</th>\n",
              "      <th>year</th>\n",
              "      <th>month</th>\n",
              "      <th>weekday</th>\n",
              "      <th>floor_category</th>\n",
              "      <th>living_total_area</th>\n",
              "      <th>kitchen_total_area</th>\n",
              "      <th>area_categories</th>\n",
              "    </tr>\n",
              "  </thead>\n",
              "  <tbody>\n",
              "    <tr>\n",
              "      <td>1</td>\n",
              "      <td>7</td>\n",
              "      <td>3350000.0</td>\n",
              "      <td>40.40</td>\n",
              "      <td>2018-12-04</td>\n",
              "      <td>1</td>\n",
              "      <td>2.65</td>\n",
              "      <td>11</td>\n",
              "      <td>18.60</td>\n",
              "      <td>1</td>\n",
              "      <td>False</td>\n",
              "      <td>...</td>\n",
              "      <td>584.5</td>\n",
              "      <td>81.0</td>\n",
              "      <td>82920.792079</td>\n",
              "      <td>2018</td>\n",
              "      <td>12</td>\n",
              "      <td>1</td>\n",
              "      <td>первый</td>\n",
              "      <td>0.460396</td>\n",
              "      <td>0.272277</td>\n",
              "      <td>средняя</td>\n",
              "    </tr>\n",
              "    <tr>\n",
              "      <td>5</td>\n",
              "      <td>10</td>\n",
              "      <td>2890000.0</td>\n",
              "      <td>30.40</td>\n",
              "      <td>2018-09-10</td>\n",
              "      <td>1</td>\n",
              "      <td>2.65</td>\n",
              "      <td>12</td>\n",
              "      <td>14.40</td>\n",
              "      <td>5</td>\n",
              "      <td>False</td>\n",
              "      <td>...</td>\n",
              "      <td>503.0</td>\n",
              "      <td>55.0</td>\n",
              "      <td>95065.789474</td>\n",
              "      <td>2018</td>\n",
              "      <td>9</td>\n",
              "      <td>0</td>\n",
              "      <td>другой</td>\n",
              "      <td>0.473684</td>\n",
              "      <td>0.299342</td>\n",
              "      <td>средняя</td>\n",
              "    </tr>\n",
              "    <tr>\n",
              "      <td>6</td>\n",
              "      <td>6</td>\n",
              "      <td>3700000.0</td>\n",
              "      <td>37.30</td>\n",
              "      <td>2017-11-02</td>\n",
              "      <td>1</td>\n",
              "      <td>2.65</td>\n",
              "      <td>26</td>\n",
              "      <td>10.60</td>\n",
              "      <td>6</td>\n",
              "      <td>False</td>\n",
              "      <td>...</td>\n",
              "      <td>593.0</td>\n",
              "      <td>155.0</td>\n",
              "      <td>99195.710456</td>\n",
              "      <td>2017</td>\n",
              "      <td>11</td>\n",
              "      <td>3</td>\n",
              "      <td>другой</td>\n",
              "      <td>0.284182</td>\n",
              "      <td>0.386059</td>\n",
              "      <td>средняя</td>\n",
              "    </tr>\n",
              "    <tr>\n",
              "      <td>8</td>\n",
              "      <td>20</td>\n",
              "      <td>2900000.0</td>\n",
              "      <td>33.16</td>\n",
              "      <td>2018-05-23</td>\n",
              "      <td>1</td>\n",
              "      <td>2.65</td>\n",
              "      <td>27</td>\n",
              "      <td>15.43</td>\n",
              "      <td>26</td>\n",
              "      <td>False</td>\n",
              "      <td>...</td>\n",
              "      <td>503.0</td>\n",
              "      <td>189.0</td>\n",
              "      <td>87454.764777</td>\n",
              "      <td>2018</td>\n",
              "      <td>5</td>\n",
              "      <td>2</td>\n",
              "      <td>другой</td>\n",
              "      <td>0.465320</td>\n",
              "      <td>0.265682</td>\n",
              "      <td>средняя</td>\n",
              "    </tr>\n",
              "    <tr>\n",
              "      <td>9</td>\n",
              "      <td>18</td>\n",
              "      <td>5400000.0</td>\n",
              "      <td>61.00</td>\n",
              "      <td>2017-02-26</td>\n",
              "      <td>3</td>\n",
              "      <td>2.50</td>\n",
              "      <td>9</td>\n",
              "      <td>43.60</td>\n",
              "      <td>7</td>\n",
              "      <td>False</td>\n",
              "      <td>...</td>\n",
              "      <td>503.0</td>\n",
              "      <td>289.0</td>\n",
              "      <td>88524.590164</td>\n",
              "      <td>2017</td>\n",
              "      <td>2</td>\n",
              "      <td>6</td>\n",
              "      <td>другой</td>\n",
              "      <td>0.714754</td>\n",
              "      <td>0.106557</td>\n",
              "      <td>средняя</td>\n",
              "    </tr>\n",
              "  </tbody>\n",
              "</table>\n",
              "<p>5 rows × 30 columns</p>\n",
              "</div>"
            ],
            "text/plain": [
              "   total_images  last_price  total_area first_day_exposition  rooms  \\\n",
              "1             7   3350000.0       40.40           2018-12-04      1   \n",
              "5            10   2890000.0       30.40           2018-09-10      1   \n",
              "6             6   3700000.0       37.30           2017-11-02      1   \n",
              "8            20   2900000.0       33.16           2018-05-23      1   \n",
              "9            18   5400000.0       61.00           2017-02-26      3   \n",
              "\n",
              "   ceiling_height  floors_total  living_area  floor  is_apartment  ...  \\\n",
              "1            2.65            11        18.60      1         False  ...   \n",
              "5            2.65            12        14.40      5         False  ...   \n",
              "6            2.65            26        10.60      6         False  ...   \n",
              "8            2.65            27        15.43     26         False  ...   \n",
              "9            2.50             9        43.60      7         False  ...   \n",
              "\n",
              "   ponds_nearest  days_exposition   price_meter  year month  weekday  \\\n",
              "1          584.5             81.0  82920.792079  2018    12        1   \n",
              "5          503.0             55.0  95065.789474  2018     9        0   \n",
              "6          593.0            155.0  99195.710456  2017    11        3   \n",
              "8          503.0            189.0  87454.764777  2018     5        2   \n",
              "9          503.0            289.0  88524.590164  2017     2        6   \n",
              "\n",
              "   floor_category  living_total_area  kitchen_total_area  area_categories  \n",
              "1          первый           0.460396            0.272277          средняя  \n",
              "5          другой           0.473684            0.299342          средняя  \n",
              "6          другой           0.284182            0.386059          средняя  \n",
              "8          другой           0.465320            0.265682          средняя  \n",
              "9          другой           0.714754            0.106557          средняя  \n",
              "\n",
              "[5 rows x 30 columns]"
            ]
          },
          "metadata": {},
          "output_type": "display_data"
        }
      ],
      "source": [
        "# Напишем функцию для разделения общей площади на категории\n",
        "def area_categories(area):\n",
        "    if area <= 30:\n",
        "        return \"маленькая\"\n",
        "    if area <= 80:\n",
        "        return \"средняя\"\n",
        "    return \"большая\"\n",
        "data['area_categories'] = data['total_area'].apply(area_categories)\n",
        "display(data.head())"
      ]
    },
    {
      "cell_type": "code",
      "execution_count": 45,
      "metadata": {},
      "outputs": [
        {
          "data": {
            "text/plain": [
              "Text(0.5, 0.98, '')"
            ]
          },
          "execution_count": 45,
          "metadata": {},
          "output_type": "execute_result"
        },
        {
          "data": {
            "image/png": "[encoded data removed]",
            "text/plain": [
              "<Figure size 432x288 with 1 Axes>"
            ]
          },
          "metadata": {
            "needs_background": "light"
          },
          "output_type": "display_data"
        }
      ],
      "source": [
        "#Выясним, зависит ли цена от площади\n",
        "data.boxplot(column = 'price_meter', by = 'area_categories');\n",
        "plt.ylim(1, 170000)\n",
        "plt.suptitle('')"
      ]
    },
    {
      "cell_type": "markdown",
      "metadata": {},
      "source": [
        "**Вывод**: Квадратный метр дороже у квартир с небольшой площадью"
      ]
    },
    {
      "cell_type": "code",
      "execution_count": 46,
      "metadata": {},
      "outputs": [
        {
          "data": {
            "text/plain": [
              "Text(0.5, 0.98, '')"
            ]
          },
          "execution_count": 46,
          "metadata": {},
          "output_type": "execute_result"
        },
        {
          "data": {
            "image/png": "[encoded data removed]",
            "text/plain": [
              "<Figure size 432x288 with 1 Axes>"
            ]
          },
          "metadata": {
            "needs_background": "light"
          },
          "output_type": "display_data"
        }
      ],
      "source": [
        "#Выясним, зависит ли цена от числа комнат\n",
        "data.boxplot(column = 'price_meter', by = 'rooms');\n",
        "plt.ylim(1, 170000)\n",
        "plt.suptitle('')"
      ]
    },
    {
      "cell_type": "markdown",
      "metadata": {},
      "source": [
        "**Вывод**: Чем больше комнат, тем дешевле квадратный метр"
      ]
    },
    {
      "cell_type": "code",
      "execution_count": 47,
      "metadata": {},
      "outputs": [
        {
          "data": {
            "text/html": [
              "<div>\n",
              "<style scoped>\n",
              "    .dataframe tbody tr th:only-of-type {\n",
              "        vertical-align: middle;\n",
              "    }\n",
              "\n",
              "    .dataframe tbody tr th {\n",
              "        vertical-align: top;\n",
              "    }\n",
              "\n",
              "    .dataframe thead th {\n",
              "        text-align: right;\n",
              "    }\n",
              "</style>\n",
              "<table border=\"1\" class=\"dataframe\">\n",
              "  <thead>\n",
              "    <tr style=\"text-align: right;\">\n",
              "      <th></th>\n",
              "      <th>total_images</th>\n",
              "      <th>last_price</th>\n",
              "      <th>total_area</th>\n",
              "      <th>first_day_exposition</th>\n",
              "      <th>rooms</th>\n",
              "      <th>ceiling_height</th>\n",
              "      <th>floors_total</th>\n",
              "      <th>living_area</th>\n",
              "      <th>floor</th>\n",
              "      <th>is_apartment</th>\n",
              "      <th>...</th>\n",
              "      <th>days_exposition</th>\n",
              "      <th>price_meter</th>\n",
              "      <th>year</th>\n",
              "      <th>month</th>\n",
              "      <th>weekday</th>\n",
              "      <th>floor_category</th>\n",
              "      <th>living_total_area</th>\n",
              "      <th>kitchen_total_area</th>\n",
              "      <th>area_categories</th>\n",
              "      <th>cityCenters_nearest_categories</th>\n",
              "    </tr>\n",
              "  </thead>\n",
              "  <tbody>\n",
              "    <tr>\n",
              "      <td>1</td>\n",
              "      <td>7</td>\n",
              "      <td>3350000.0</td>\n",
              "      <td>40.40</td>\n",
              "      <td>2018-12-04</td>\n",
              "      <td>1</td>\n",
              "      <td>2.65</td>\n",
              "      <td>11</td>\n",
              "      <td>18.60</td>\n",
              "      <td>1</td>\n",
              "      <td>False</td>\n",
              "      <td>...</td>\n",
              "      <td>81.0</td>\n",
              "      <td>82920.792079</td>\n",
              "      <td>2018</td>\n",
              "      <td>12</td>\n",
              "      <td>1</td>\n",
              "      <td>первый</td>\n",
              "      <td>0.460396</td>\n",
              "      <td>0.272277</td>\n",
              "      <td>средняя</td>\n",
              "      <td>далеко от центра</td>\n",
              "    </tr>\n",
              "    <tr>\n",
              "      <td>5</td>\n",
              "      <td>10</td>\n",
              "      <td>2890000.0</td>\n",
              "      <td>30.40</td>\n",
              "      <td>2018-09-10</td>\n",
              "      <td>1</td>\n",
              "      <td>2.65</td>\n",
              "      <td>12</td>\n",
              "      <td>14.40</td>\n",
              "      <td>5</td>\n",
              "      <td>False</td>\n",
              "      <td>...</td>\n",
              "      <td>55.0</td>\n",
              "      <td>95065.789474</td>\n",
              "      <td>2018</td>\n",
              "      <td>9</td>\n",
              "      <td>0</td>\n",
              "      <td>другой</td>\n",
              "      <td>0.473684</td>\n",
              "      <td>0.299342</td>\n",
              "      <td>средняя</td>\n",
              "      <td>далеко от центра</td>\n",
              "    </tr>\n",
              "    <tr>\n",
              "      <td>6</td>\n",
              "      <td>6</td>\n",
              "      <td>3700000.0</td>\n",
              "      <td>37.30</td>\n",
              "      <td>2017-11-02</td>\n",
              "      <td>1</td>\n",
              "      <td>2.65</td>\n",
              "      <td>26</td>\n",
              "      <td>10.60</td>\n",
              "      <td>6</td>\n",
              "      <td>False</td>\n",
              "      <td>...</td>\n",
              "      <td>155.0</td>\n",
              "      <td>99195.710456</td>\n",
              "      <td>2017</td>\n",
              "      <td>11</td>\n",
              "      <td>3</td>\n",
              "      <td>другой</td>\n",
              "      <td>0.284182</td>\n",
              "      <td>0.386059</td>\n",
              "      <td>средняя</td>\n",
              "      <td>далеко от центра</td>\n",
              "    </tr>\n",
              "    <tr>\n",
              "      <td>8</td>\n",
              "      <td>20</td>\n",
              "      <td>2900000.0</td>\n",
              "      <td>33.16</td>\n",
              "      <td>2018-05-23</td>\n",
              "      <td>1</td>\n",
              "      <td>2.65</td>\n",
              "      <td>27</td>\n",
              "      <td>15.43</td>\n",
              "      <td>26</td>\n",
              "      <td>False</td>\n",
              "      <td>...</td>\n",
              "      <td>189.0</td>\n",
              "      <td>87454.764777</td>\n",
              "      <td>2018</td>\n",
              "      <td>5</td>\n",
              "      <td>2</td>\n",
              "      <td>другой</td>\n",
              "      <td>0.465320</td>\n",
              "      <td>0.265682</td>\n",
              "      <td>средняя</td>\n",
              "      <td>далеко от центра</td>\n",
              "    </tr>\n",
              "    <tr>\n",
              "      <td>9</td>\n",
              "      <td>18</td>\n",
              "      <td>5400000.0</td>\n",
              "      <td>61.00</td>\n",
              "      <td>2017-02-26</td>\n",
              "      <td>3</td>\n",
              "      <td>2.50</td>\n",
              "      <td>9</td>\n",
              "      <td>43.60</td>\n",
              "      <td>7</td>\n",
              "      <td>False</td>\n",
              "      <td>...</td>\n",
              "      <td>289.0</td>\n",
              "      <td>88524.590164</td>\n",
              "      <td>2017</td>\n",
              "      <td>2</td>\n",
              "      <td>6</td>\n",
              "      <td>другой</td>\n",
              "      <td>0.714754</td>\n",
              "      <td>0.106557</td>\n",
              "      <td>средняя</td>\n",
              "      <td>далеко от центра</td>\n",
              "    </tr>\n",
              "  </tbody>\n",
              "</table>\n",
              "<p>5 rows × 31 columns</p>\n",
              "</div>"
            ],
            "text/plain": [
              "   total_images  last_price  total_area first_day_exposition  rooms  \\\n",
              "1             7   3350000.0       40.40           2018-12-04      1   \n",
              "5            10   2890000.0       30.40           2018-09-10      1   \n",
              "6             6   3700000.0       37.30           2017-11-02      1   \n",
              "8            20   2900000.0       33.16           2018-05-23      1   \n",
              "9            18   5400000.0       61.00           2017-02-26      3   \n",
              "\n",
              "   ceiling_height  floors_total  living_area  floor  is_apartment  ...  \\\n",
              "1            2.65            11        18.60      1         False  ...   \n",
              "5            2.65            12        14.40      5         False  ...   \n",
              "6            2.65            26        10.60      6         False  ...   \n",
              "8            2.65            27        15.43     26         False  ...   \n",
              "9            2.50             9        43.60      7         False  ...   \n",
              "\n",
              "   days_exposition   price_meter  year  month weekday  floor_category  \\\n",
              "1             81.0  82920.792079  2018     12       1          первый   \n",
              "5             55.0  95065.789474  2018      9       0          другой   \n",
              "6            155.0  99195.710456  2017     11       3          другой   \n",
              "8            189.0  87454.764777  2018      5       2          другой   \n",
              "9            289.0  88524.590164  2017      2       6          другой   \n",
              "\n",
              "   living_total_area  kitchen_total_area  area_categories  \\\n",
              "1           0.460396            0.272277          средняя   \n",
              "5           0.473684            0.299342          средняя   \n",
              "6           0.284182            0.386059          средняя   \n",
              "8           0.465320            0.265682          средняя   \n",
              "9           0.714754            0.106557          средняя   \n",
              "\n",
              "   cityCenters_nearest_categories  \n",
              "1                далеко от центра  \n",
              "5                далеко от центра  \n",
              "6                далеко от центра  \n",
              "8                далеко от центра  \n",
              "9                далеко от центра  \n",
              "\n",
              "[5 rows x 31 columns]"
            ]
          },
          "metadata": {},
          "output_type": "display_data"
        }
      ],
      "source": [
        "# Напишем функцию для разделения на категории степень удаленности от центра\n",
        "def cityCenters_nearest_categories(cityCenters_nearest):\n",
        "    if cityCenters_nearest <= 4000:\n",
        "        return \"близко к центру\"\n",
        "    if cityCenters_nearest <= 7000:\n",
        "        return \"среднее расстояние до центра\"\n",
        "    return \"далеко от центра\"\n",
        "data['cityCenters_nearest_categories'] = data['cityCenters_nearest'].apply(cityCenters_nearest_categories)\n",
        "display(data.head())"
      ]
    },
    {
      "cell_type": "code",
      "execution_count": 48,
      "metadata": {},
      "outputs": [
        {
          "data": {
            "text/plain": [
              "Text(0.5, 0.98, '')"
            ]
          },
          "execution_count": 48,
          "metadata": {},
          "output_type": "execute_result"
        },
        {
          "data": {
            "image/png": "[encoded data removed]",
            "text/plain": [
              "<Figure size 432x288 with 1 Axes>"
            ]
          },
          "metadata": {
            "needs_background": "light"
          },
          "output_type": "display_data"
        }
      ],
      "source": [
        "#Выясним, зависит ли цена от удалённости от центра\n",
        "data.boxplot(column = 'price_meter', by = 'cityCenters_nearest_categories');\n",
        "plt.ylim(1, 170000)\n",
        "plt.suptitle('')"
      ]
    },
    {
      "cell_type": "markdown",
      "metadata": {},
      "source": [
        "**Вывод**: чем дальше от центра, тем дешевле квадратный метр"
      ]
    },
    {
      "cell_type": "code",
      "execution_count": 49,
      "metadata": {},
      "outputs": [
        {
          "data": {
            "text/plain": [
              "Text(0.5, 0.98, '')"
            ]
          },
          "execution_count": 49,
          "metadata": {},
          "output_type": "execute_result"
        },
        {
          "data": {
            "image/png": "[encoded data removed]",
            "text/plain": [
              "<Figure size 432x288 with 1 Axes>"
            ]
          },
          "metadata": {
            "needs_background": "light"
          },
          "output_type": "display_data"
        }
      ],
      "source": [
        "#Выясним, зависит ли цена от того, на каком этаже расположена квартира: первом, последнем или другом\n",
        "data.boxplot(column = 'price_meter', by = 'floor_category');\n",
        "plt.ylim(1, 250000)\n",
        "plt.suptitle('')"
      ]
    },
    {
      "cell_type": "markdown",
      "metadata": {},
      "source": [
        "**Вывод**: на первом и последнем этажах стоимость квадратного метра дешевле"
      ]
    },
    {
      "cell_type": "code",
      "execution_count": 50,
      "metadata": {},
      "outputs": [
        {
          "data": {
            "text/plain": [
              "Text(0.5, 0.98, '')"
            ]
          },
          "execution_count": 50,
          "metadata": {},
          "output_type": "execute_result"
        },
        {
          "data": {
            "image/png": "[encoded data removed]",
            "text/plain": [
              "<Figure size 432x288 with 1 Axes>"
            ]
          },
          "metadata": {
            "needs_background": "light"
          },
          "output_type": "display_data"
        }
      ],
      "source": [
        "#зависимость от даты размещения: дня недели, месяца и года\n",
        "data.boxplot(column = 'price_meter', by = 'weekday');\n",
        "plt.ylim(1, 250000)   \n",
        "plt.suptitle('')"
      ]
    },
    {
      "cell_type": "markdown",
      "metadata": {},
      "source": [
        "**Вывод**: особой зависимости цены от дня недели не выявлено"
      ]
    },
    {
      "cell_type": "code",
      "execution_count": 51,
      "metadata": {},
      "outputs": [
        {
          "data": {
            "text/plain": [
              "Text(0.5, 0.98, '')"
            ]
          },
          "execution_count": 51,
          "metadata": {},
          "output_type": "execute_result"
        },
        {
          "data": {
            "image/png": "[encoded data removed]",
            "text/plain": [
              "<Figure size 432x288 with 1 Axes>"
            ]
          },
          "metadata": {
            "needs_background": "light"
          },
          "output_type": "display_data"
        }
      ],
      "source": [
        "#зависимость от даты размещения: дня недели, месяца и года\n",
        "data.boxplot(column = 'price_meter', by = 'month');\n",
        "plt.ylim(1, 250000)   \n",
        "plt.suptitle('')"
      ]
    },
    {
      "cell_type": "markdown",
      "metadata": {},
      "source": [
        "**Вывод**: особой зависимости цены от месяца не выявлено"
      ]
    },
    {
      "cell_type": "code",
      "execution_count": 52,
      "metadata": {},
      "outputs": [
        {
          "data": {
            "text/plain": [
              "Text(0.5, 0.98, '')"
            ]
          },
          "execution_count": 52,
          "metadata": {},
          "output_type": "execute_result"
        },
        {
          "data": {
            "image/png": "[encoded data removed]",
            "text/plain": [
              "<Figure size 432x288 with 1 Axes>"
            ]
          },
          "metadata": {
            "needs_background": "light"
          },
          "output_type": "display_data"
        }
      ],
      "source": [
        "#зависимость от даты размещения: дня недели, месяца и года\n",
        "data.boxplot(column = 'price_meter', by = 'year');\n",
        "plt.ylim(1, 250000) \n",
        "plt.suptitle('')"
      ]
    },
    {
      "cell_type": "markdown",
      "metadata": {},
      "source": [
        "**Вывод**: В 2019 году цены на квартиры выросли!"
      ]
    },
    {
      "cell_type": "code",
      "execution_count": 53,
      "metadata": {},
      "outputs": [
        {
          "data": {
            "text/html": [
              "<div>\n",
              "<style scoped>\n",
              "    .dataframe tbody tr th:only-of-type {\n",
              "        vertical-align: middle;\n",
              "    }\n",
              "\n",
              "    .dataframe tbody tr th {\n",
              "        vertical-align: top;\n",
              "    }\n",
              "\n",
              "    .dataframe thead th {\n",
              "        text-align: right;\n",
              "    }\n",
              "</style>\n",
              "<table border=\"1\" class=\"dataframe\">\n",
              "  <thead>\n",
              "    <tr style=\"text-align: right;\">\n",
              "      <th></th>\n",
              "      <th>locality_name</th>\n",
              "      <th>locality_name_new</th>\n",
              "    </tr>\n",
              "  </thead>\n",
              "  <tbody>\n",
              "    <tr>\n",
              "      <td>1</td>\n",
              "      <td>посёлок Шушары</td>\n",
              "      <td>Шушары</td>\n",
              "    </tr>\n",
              "    <tr>\n",
              "      <td>5</td>\n",
              "      <td>городской посёлок Янино-1</td>\n",
              "      <td>Янино-1</td>\n",
              "    </tr>\n",
              "    <tr>\n",
              "      <td>6</td>\n",
              "      <td>посёлок Парголово</td>\n",
              "      <td>Парголово</td>\n",
              "    </tr>\n",
              "    <tr>\n",
              "      <td>8</td>\n",
              "      <td>посёлок Мурино</td>\n",
              "      <td>Мурино</td>\n",
              "    </tr>\n",
              "    <tr>\n",
              "      <td>9</td>\n",
              "      <td>Санкт-Петербург</td>\n",
              "      <td>Санкт-Петербург</td>\n",
              "    </tr>\n",
              "    <tr>\n",
              "      <td>...</td>\n",
              "      <td>...</td>\n",
              "      <td>...</td>\n",
              "    </tr>\n",
              "    <tr>\n",
              "      <td>23048</td>\n",
              "      <td>коттеджный посёлок Лесное</td>\n",
              "      <td>Лесное</td>\n",
              "    </tr>\n",
              "    <tr>\n",
              "      <td>23297</td>\n",
              "      <td>Высоцк</td>\n",
              "      <td>Высоцк</td>\n",
              "    </tr>\n",
              "    <tr>\n",
              "      <td>23354</td>\n",
              "      <td>деревня Тихковицы</td>\n",
              "      <td>Тихковицы</td>\n",
              "    </tr>\n",
              "    <tr>\n",
              "      <td>23391</td>\n",
              "      <td>поселок Любань</td>\n",
              "      <td>Любань</td>\n",
              "    </tr>\n",
              "    <tr>\n",
              "      <td>23411</td>\n",
              "      <td>деревня Борисова Грива</td>\n",
              "      <td>Борисова Грива</td>\n",
              "    </tr>\n",
              "  </tbody>\n",
              "</table>\n",
              "<p>314 rows × 2 columns</p>\n",
              "</div>"
            ],
            "text/plain": [
              "                   locality_name locality_name_new\n",
              "1                 посёлок Шушары            Шушары\n",
              "5      городской посёлок Янино-1           Янино-1\n",
              "6              посёлок Парголово         Парголово\n",
              "8                 посёлок Мурино            Мурино\n",
              "9                Санкт-Петербург   Санкт-Петербург\n",
              "...                          ...               ...\n",
              "23048  коттеджный посёлок Лесное            Лесное\n",
              "23297                     Высоцк            Высоцк\n",
              "23354          деревня Тихковицы         Тихковицы\n",
              "23391             поселок Любань            Любань\n",
              "23411     деревня Борисова Грива    Борисова Грива\n",
              "\n",
              "[314 rows x 2 columns]"
            ]
          },
          "execution_count": 53,
          "metadata": {},
          "output_type": "execute_result"
        }
      ],
      "source": [
        "#В связи с тем, что некоторые населенные пункты могут содержать село, поселок(посёлок) и тд, оставим только сами названия населенных пунктов\n",
        "data['locality_name_new'] = data['locality_name']\n",
        "for repl in ['поселок', 'деревня', 'посёлок', 'городской', 'коттеджный']:\n",
        "    data['locality_name_new'] = data['locality_name_new'].str.replace(repl, '')\n",
        "\n",
        "data[['locality_name', 'locality_name_new']].drop_duplicates()"
      ]
    },
    {
      "cell_type": "code",
      "execution_count": 54,
      "metadata": {},
      "outputs": [
        {
          "data": {
            "text/html": [
              "<div>\n",
              "<style scoped>\n",
              "    .dataframe tbody tr th:only-of-type {\n",
              "        vertical-align: middle;\n",
              "    }\n",
              "\n",
              "    .dataframe tbody tr th {\n",
              "        vertical-align: top;\n",
              "    }\n",
              "\n",
              "    .dataframe thead th {\n",
              "        text-align: right;\n",
              "    }\n",
              "</style>\n",
              "<table border=\"1\" class=\"dataframe\">\n",
              "  <thead>\n",
              "    <tr style=\"text-align: right;\">\n",
              "      <th></th>\n",
              "      <th>locality_name_new</th>\n",
              "      <th>rooms</th>\n",
              "      <th>price_meter</th>\n",
              "    </tr>\n",
              "  </thead>\n",
              "  <tbody>\n",
              "    <tr>\n",
              "      <td>0</td>\n",
              "      <td>Санкт-Петербург</td>\n",
              "      <td>8729</td>\n",
              "      <td>102580.225104</td>\n",
              "    </tr>\n",
              "    <tr>\n",
              "      <td>1</td>\n",
              "      <td>Мурино</td>\n",
              "      <td>474</td>\n",
              "      <td>85836.358019</td>\n",
              "    </tr>\n",
              "    <tr>\n",
              "      <td>2</td>\n",
              "      <td>Шушары</td>\n",
              "      <td>346</td>\n",
              "      <td>77730.177504</td>\n",
              "    </tr>\n",
              "    <tr>\n",
              "      <td>3</td>\n",
              "      <td>Всеволожск</td>\n",
              "      <td>263</td>\n",
              "      <td>66269.401265</td>\n",
              "    </tr>\n",
              "    <tr>\n",
              "      <td>4</td>\n",
              "      <td>Колпино</td>\n",
              "      <td>258</td>\n",
              "      <td>74537.270793</td>\n",
              "    </tr>\n",
              "    <tr>\n",
              "      <td>5</td>\n",
              "      <td>Парголово</td>\n",
              "      <td>253</td>\n",
              "      <td>89792.480115</td>\n",
              "    </tr>\n",
              "    <tr>\n",
              "      <td>6</td>\n",
              "      <td>Кудрово</td>\n",
              "      <td>221</td>\n",
              "      <td>93328.379809</td>\n",
              "    </tr>\n",
              "    <tr>\n",
              "      <td>7</td>\n",
              "      <td>Гатчина</td>\n",
              "      <td>214</td>\n",
              "      <td>67806.569853</td>\n",
              "    </tr>\n",
              "    <tr>\n",
              "      <td>8</td>\n",
              "      <td>Пушкин</td>\n",
              "      <td>209</td>\n",
              "      <td>97952.837800</td>\n",
              "    </tr>\n",
              "    <tr>\n",
              "      <td>9</td>\n",
              "      <td>Выборг</td>\n",
              "      <td>164</td>\n",
              "      <td>56640.167012</td>\n",
              "    </tr>\n",
              "  </tbody>\n",
              "</table>\n",
              "</div>"
            ],
            "text/plain": [
              "  locality_name_new  rooms    price_meter\n",
              "0   Санкт-Петербург   8729  102580.225104\n",
              "1            Мурино    474   85836.358019\n",
              "2            Шушары    346   77730.177504\n",
              "3        Всеволожск    263   66269.401265\n",
              "4           Колпино    258   74537.270793\n",
              "5         Парголово    253   89792.480115\n",
              "6           Кудрово    221   93328.379809\n",
              "7           Гатчина    214   67806.569853\n",
              "8            Пушкин    209   97952.837800\n",
              "9            Выборг    164   56640.167012"
            ]
          },
          "metadata": {},
          "output_type": "display_data"
        },
        {
          "name": "stdout",
          "output_type": "stream",
          "text": [
            "<class 'pandas.core.frame.DataFrame'>\n",
            "RangeIndex: 10 entries, 0 to 9\n",
            "Data columns (total 3 columns):\n",
            "locality_name_new    10 non-null object\n",
            "rooms                10 non-null int64\n",
            "price_meter          10 non-null float64\n",
            "dtypes: float64(1), int64(1), object(1)\n",
            "memory usage: 368.0+ bytes\n"
          ]
        }
      ],
      "source": [
        "#Выберем 10 населённых пунктов с наибольшим числом объявлений и посчитаем среднюю цену квадратного метра в этих населённых пунктах. \n",
        "\n",
        "top_city = data.groupby('locality_name_new').agg({'rooms':'count', 'price_meter':'mean'}).sort_values(by='rooms', ascending = False).head(10)\n",
        "top_city = top_city.reset_index()\n",
        "display(top_city)\n",
        "top_city.info()"
      ]
    },
    {
      "cell_type": "code",
      "execution_count": 55,
      "metadata": {
        "scrolled": true
      },
      "outputs": [
        {
          "data": {
            "text/plain": [
              "(array([0, 1, 2, 3, 4, 5, 6, 7, 8, 9]), <a list of 10 Text xticklabel objects>)"
            ]
          },
          "execution_count": 55,
          "metadata": {},
          "output_type": "execute_result"
        },
        {
          "data": {
            "image/png": "[encoded data removed]",
            "text/plain": [
              "<Figure size 432x288 with 1 Axes>"
            ]
          },
          "metadata": {
            "needs_background": "light"
          },
          "output_type": "display_data"
        }
      ],
      "source": [
        "seaborn.barplot(x = top_city['locality_name_new'], y = top_city['price_meter'])\n",
        "plt.xticks(rotation='70')"
      ]
    },
    {
      "cell_type": "code",
      "execution_count": 56,
      "metadata": {
        "scrolled": false
      },
      "outputs": [
        {
          "data": {
            "text/html": [
              "<div>\n",
              "<style scoped>\n",
              "    .dataframe tbody tr th:only-of-type {\n",
              "        vertical-align: middle;\n",
              "    }\n",
              "\n",
              "    .dataframe tbody tr th {\n",
              "        vertical-align: top;\n",
              "    }\n",
              "\n",
              "    .dataframe thead th {\n",
              "        text-align: right;\n",
              "    }\n",
              "</style>\n",
              "<table border=\"1\" class=\"dataframe\">\n",
              "  <thead>\n",
              "    <tr style=\"text-align: right;\">\n",
              "      <th></th>\n",
              "      <th>rooms</th>\n",
              "      <th>price_meter</th>\n",
              "    </tr>\n",
              "    <tr>\n",
              "      <th>locality_name_new</th>\n",
              "      <th></th>\n",
              "      <th></th>\n",
              "    </tr>\n",
              "  </thead>\n",
              "  <tbody>\n",
              "    <tr>\n",
              "      <td>Санкт-Петербург</td>\n",
              "      <td>8729</td>\n",
              "      <td>102580.225104</td>\n",
              "    </tr>\n",
              "  </tbody>\n",
              "</table>\n",
              "</div>"
            ],
            "text/plain": [
              "                   rooms    price_meter\n",
              "locality_name_new                      \n",
              "Санкт-Петербург     8729  102580.225104"
            ]
          },
          "metadata": {},
          "output_type": "display_data"
        }
      ],
      "source": [
        "#Выделим населённые пункты с самой высокой стоимостью жилья. \n",
        "display(data.groupby('locality_name_new').agg({'rooms':'count', \n",
        "                                              'price_meter':'mean'}).sort_values(by='rooms', ascending = False).head(1))\n",
        "\n"
      ]
    },
    {
      "cell_type": "markdown",
      "metadata": {},
      "source": [
        "**Вывод**: В Санкт-Петербурге самая высокая цена на квартиры."
      ]
    },
    {
      "cell_type": "code",
      "execution_count": 57,
      "metadata": {},
      "outputs": [
        {
          "data": {
            "text/html": [
              "<div>\n",
              "<style scoped>\n",
              "    .dataframe tbody tr th:only-of-type {\n",
              "        vertical-align: middle;\n",
              "    }\n",
              "\n",
              "    .dataframe tbody tr th {\n",
              "        vertical-align: top;\n",
              "    }\n",
              "\n",
              "    .dataframe thead th {\n",
              "        text-align: right;\n",
              "    }\n",
              "</style>\n",
              "<table border=\"1\" class=\"dataframe\">\n",
              "  <thead>\n",
              "    <tr style=\"text-align: right;\">\n",
              "      <th></th>\n",
              "      <th>rooms</th>\n",
              "      <th>price_meter</th>\n",
              "    </tr>\n",
              "    <tr>\n",
              "      <th>locality_name_new</th>\n",
              "      <th></th>\n",
              "      <th></th>\n",
              "    </tr>\n",
              "  </thead>\n",
              "  <tbody>\n",
              "    <tr>\n",
              "      <td>Выборг</td>\n",
              "      <td>164</td>\n",
              "      <td>56640.167012</td>\n",
              "    </tr>\n",
              "  </tbody>\n",
              "</table>\n",
              "</div>"
            ],
            "text/plain": [
              "                   rooms   price_meter\n",
              "locality_name_new                     \n",
              "Выборг               164  56640.167012"
            ]
          },
          "metadata": {},
          "output_type": "display_data"
        }
      ],
      "source": [
        "#Выделим населённые пункты с самой низкой стоимостью жилья. \n",
        "display(data.groupby('locality_name_new').agg({'rooms':'count', \n",
        "                                              'price_meter':'mean'}).sort_values(by='rooms', ascending = False).head(10).tail(1))"
      ]
    },
    {
      "cell_type": "markdown",
      "metadata": {},
      "source": [
        "**Вывод**: Из 9 ближайших населенных пунктов с наибольшим числом объявлений самая низкая цена на квартиры в Выборге."
      ]
    },
    {
      "cell_type": "code",
      "execution_count": 58,
      "metadata": {
        "scrolled": true
      },
      "outputs": [
        {
          "data": {
            "text/html": [
              "<div>\n",
              "<style scoped>\n",
              "    .dataframe tbody tr th:only-of-type {\n",
              "        vertical-align: middle;\n",
              "    }\n",
              "\n",
              "    .dataframe tbody tr th {\n",
              "        vertical-align: top;\n",
              "    }\n",
              "\n",
              "    .dataframe thead th {\n",
              "        text-align: right;\n",
              "    }\n",
              "</style>\n",
              "<table border=\"1\" class=\"dataframe\">\n",
              "  <thead>\n",
              "    <tr style=\"text-align: right;\">\n",
              "      <th></th>\n",
              "      <th>total_images</th>\n",
              "      <th>last_price</th>\n",
              "      <th>total_area</th>\n",
              "      <th>first_day_exposition</th>\n",
              "      <th>rooms</th>\n",
              "      <th>ceiling_height</th>\n",
              "      <th>floors_total</th>\n",
              "      <th>living_area</th>\n",
              "      <th>floor</th>\n",
              "      <th>is_apartment</th>\n",
              "      <th>...</th>\n",
              "      <th>price_meter</th>\n",
              "      <th>year</th>\n",
              "      <th>month</th>\n",
              "      <th>weekday</th>\n",
              "      <th>floor_category</th>\n",
              "      <th>living_total_area</th>\n",
              "      <th>kitchen_total_area</th>\n",
              "      <th>area_categories</th>\n",
              "      <th>cityCenters_nearest_categories</th>\n",
              "      <th>locality_name_new</th>\n",
              "    </tr>\n",
              "  </thead>\n",
              "  <tbody>\n",
              "    <tr>\n",
              "      <td>9</td>\n",
              "      <td>18</td>\n",
              "      <td>5400000.0</td>\n",
              "      <td>61.0</td>\n",
              "      <td>2017-02-26</td>\n",
              "      <td>3</td>\n",
              "      <td>2.50</td>\n",
              "      <td>9</td>\n",
              "      <td>43.6</td>\n",
              "      <td>7</td>\n",
              "      <td>False</td>\n",
              "      <td>...</td>\n",
              "      <td>88524.590164</td>\n",
              "      <td>2017</td>\n",
              "      <td>2</td>\n",
              "      <td>6</td>\n",
              "      <td>другой</td>\n",
              "      <td>0.714754</td>\n",
              "      <td>0.106557</td>\n",
              "      <td>средняя</td>\n",
              "      <td>далеко от центра</td>\n",
              "      <td>Санкт-Петербург</td>\n",
              "    </tr>\n",
              "    <tr>\n",
              "      <td>10</td>\n",
              "      <td>5</td>\n",
              "      <td>5050000.0</td>\n",
              "      <td>39.6</td>\n",
              "      <td>2017-11-16</td>\n",
              "      <td>1</td>\n",
              "      <td>2.67</td>\n",
              "      <td>12</td>\n",
              "      <td>20.3</td>\n",
              "      <td>3</td>\n",
              "      <td>False</td>\n",
              "      <td>...</td>\n",
              "      <td>127525.252525</td>\n",
              "      <td>2017</td>\n",
              "      <td>11</td>\n",
              "      <td>3</td>\n",
              "      <td>другой</td>\n",
              "      <td>0.512626</td>\n",
              "      <td>0.214646</td>\n",
              "      <td>средняя</td>\n",
              "      <td>далеко от центра</td>\n",
              "      <td>Санкт-Петербург</td>\n",
              "    </tr>\n",
              "    <tr>\n",
              "      <td>15</td>\n",
              "      <td>16</td>\n",
              "      <td>4650000.0</td>\n",
              "      <td>39.0</td>\n",
              "      <td>2017-11-18</td>\n",
              "      <td>1</td>\n",
              "      <td>2.65</td>\n",
              "      <td>14</td>\n",
              "      <td>20.5</td>\n",
              "      <td>5</td>\n",
              "      <td>False</td>\n",
              "      <td>...</td>\n",
              "      <td>119230.769231</td>\n",
              "      <td>2017</td>\n",
              "      <td>11</td>\n",
              "      <td>5</td>\n",
              "      <td>другой</td>\n",
              "      <td>0.525641</td>\n",
              "      <td>0.194872</td>\n",
              "      <td>средняя</td>\n",
              "      <td>далеко от центра</td>\n",
              "      <td>Санкт-Петербург</td>\n",
              "    </tr>\n",
              "    <tr>\n",
              "      <td>18</td>\n",
              "      <td>8</td>\n",
              "      <td>3250000.0</td>\n",
              "      <td>31.0</td>\n",
              "      <td>2017-01-27</td>\n",
              "      <td>1</td>\n",
              "      <td>2.50</td>\n",
              "      <td>5</td>\n",
              "      <td>19.4</td>\n",
              "      <td>2</td>\n",
              "      <td>False</td>\n",
              "      <td>...</td>\n",
              "      <td>104838.709677</td>\n",
              "      <td>2017</td>\n",
              "      <td>1</td>\n",
              "      <td>4</td>\n",
              "      <td>другой</td>\n",
              "      <td>0.625806</td>\n",
              "      <td>0.180645</td>\n",
              "      <td>средняя</td>\n",
              "      <td>далеко от центра</td>\n",
              "      <td>Санкт-Петербург</td>\n",
              "    </tr>\n",
              "    <tr>\n",
              "      <td>21</td>\n",
              "      <td>13</td>\n",
              "      <td>3200000.0</td>\n",
              "      <td>31.6</td>\n",
              "      <td>2018-03-14</td>\n",
              "      <td>1</td>\n",
              "      <td>2.65</td>\n",
              "      <td>5</td>\n",
              "      <td>16.9</td>\n",
              "      <td>2</td>\n",
              "      <td>False</td>\n",
              "      <td>...</td>\n",
              "      <td>101265.822785</td>\n",
              "      <td>2018</td>\n",
              "      <td>3</td>\n",
              "      <td>2</td>\n",
              "      <td>другой</td>\n",
              "      <td>0.534810</td>\n",
              "      <td>0.180380</td>\n",
              "      <td>средняя</td>\n",
              "      <td>далеко от центра</td>\n",
              "      <td>Санкт-Петербург</td>\n",
              "    </tr>\n",
              "  </tbody>\n",
              "</table>\n",
              "<p>5 rows × 32 columns</p>\n",
              "</div>"
            ],
            "text/plain": [
              "    total_images  last_price  total_area first_day_exposition  rooms  \\\n",
              "9             18   5400000.0        61.0           2017-02-26      3   \n",
              "10             5   5050000.0        39.6           2017-11-16      1   \n",
              "15            16   4650000.0        39.0           2017-11-18      1   \n",
              "18             8   3250000.0        31.0           2017-01-27      1   \n",
              "21            13   3200000.0        31.6           2018-03-14      1   \n",
              "\n",
              "    ceiling_height  floors_total  living_area  floor  is_apartment  ...  \\\n",
              "9             2.50             9         43.6      7         False  ...   \n",
              "10            2.67            12         20.3      3         False  ...   \n",
              "15            2.65            14         20.5      5         False  ...   \n",
              "18            2.50             5         19.4      2         False  ...   \n",
              "21            2.65             5         16.9      2         False  ...   \n",
              "\n",
              "      price_meter  year  month  weekday floor_category  living_total_area  \\\n",
              "9    88524.590164  2017      2        6         другой           0.714754   \n",
              "10  127525.252525  2017     11        3         другой           0.512626   \n",
              "15  119230.769231  2017     11        5         другой           0.525641   \n",
              "18  104838.709677  2017      1        4         другой           0.625806   \n",
              "21  101265.822785  2018      3        2         другой           0.534810   \n",
              "\n",
              "    kitchen_total_area  area_categories  cityCenters_nearest_categories  \\\n",
              "9             0.106557          средняя                далеко от центра   \n",
              "10            0.214646          средняя                далеко от центра   \n",
              "15            0.194872          средняя                далеко от центра   \n",
              "18            0.180645          средняя                далеко от центра   \n",
              "21            0.180380          средняя                далеко от центра   \n",
              "\n",
              "    locality_name_new  \n",
              "9     Санкт-Петербург  \n",
              "10    Санкт-Петербург  \n",
              "15    Санкт-Петербург  \n",
              "18    Санкт-Петербург  \n",
              "21    Санкт-Петербург  \n",
              "\n",
              "[5 rows x 32 columns]"
            ]
          },
          "metadata": {},
          "output_type": "display_data"
        }
      ],
      "source": [
        "#Выделим квартиры в Санкт-Петербурге  \n",
        "data_spb = data.query('locality_name_new == \"Санкт-Петербург\"')\n",
        "display(data_spb.head())"
      ]
    },
    {
      "cell_type": "code",
      "execution_count": 59,
      "metadata": {},
      "outputs": [
        {
          "data": {
            "text/html": [
              "<div>\n",
              "<style scoped>\n",
              "    .dataframe tbody tr th:only-of-type {\n",
              "        vertical-align: middle;\n",
              "    }\n",
              "\n",
              "    .dataframe tbody tr th {\n",
              "        vertical-align: top;\n",
              "    }\n",
              "\n",
              "    .dataframe thead th {\n",
              "        text-align: right;\n",
              "    }\n",
              "</style>\n",
              "<table border=\"1\" class=\"dataframe\">\n",
              "  <thead>\n",
              "    <tr style=\"text-align: right;\">\n",
              "      <th></th>\n",
              "      <th>total_images</th>\n",
              "      <th>last_price</th>\n",
              "      <th>total_area</th>\n",
              "      <th>first_day_exposition</th>\n",
              "      <th>rooms</th>\n",
              "      <th>ceiling_height</th>\n",
              "      <th>floors_total</th>\n",
              "      <th>living_area</th>\n",
              "      <th>floor</th>\n",
              "      <th>is_apartment</th>\n",
              "      <th>...</th>\n",
              "      <th>year</th>\n",
              "      <th>month</th>\n",
              "      <th>weekday</th>\n",
              "      <th>floor_category</th>\n",
              "      <th>living_total_area</th>\n",
              "      <th>kitchen_total_area</th>\n",
              "      <th>area_categories</th>\n",
              "      <th>cityCenters_nearest_categories</th>\n",
              "      <th>locality_name_new</th>\n",
              "      <th>cityCenters_km</th>\n",
              "    </tr>\n",
              "  </thead>\n",
              "  <tbody>\n",
              "    <tr>\n",
              "      <td>9</td>\n",
              "      <td>18</td>\n",
              "      <td>5400000.0</td>\n",
              "      <td>61.0</td>\n",
              "      <td>2017-02-26</td>\n",
              "      <td>3</td>\n",
              "      <td>2.50</td>\n",
              "      <td>9</td>\n",
              "      <td>43.6</td>\n",
              "      <td>7</td>\n",
              "      <td>False</td>\n",
              "      <td>...</td>\n",
              "      <td>2017</td>\n",
              "      <td>2</td>\n",
              "      <td>6</td>\n",
              "      <td>другой</td>\n",
              "      <td>0.714754</td>\n",
              "      <td>0.106557</td>\n",
              "      <td>средняя</td>\n",
              "      <td>далеко от центра</td>\n",
              "      <td>Санкт-Петербург</td>\n",
              "      <td>15</td>\n",
              "    </tr>\n",
              "    <tr>\n",
              "      <td>10</td>\n",
              "      <td>5</td>\n",
              "      <td>5050000.0</td>\n",
              "      <td>39.6</td>\n",
              "      <td>2017-11-16</td>\n",
              "      <td>1</td>\n",
              "      <td>2.67</td>\n",
              "      <td>12</td>\n",
              "      <td>20.3</td>\n",
              "      <td>3</td>\n",
              "      <td>False</td>\n",
              "      <td>...</td>\n",
              "      <td>2017</td>\n",
              "      <td>11</td>\n",
              "      <td>3</td>\n",
              "      <td>другой</td>\n",
              "      <td>0.512626</td>\n",
              "      <td>0.214646</td>\n",
              "      <td>средняя</td>\n",
              "      <td>далеко от центра</td>\n",
              "      <td>Санкт-Петербург</td>\n",
              "      <td>13</td>\n",
              "    </tr>\n",
              "    <tr>\n",
              "      <td>15</td>\n",
              "      <td>16</td>\n",
              "      <td>4650000.0</td>\n",
              "      <td>39.0</td>\n",
              "      <td>2017-11-18</td>\n",
              "      <td>1</td>\n",
              "      <td>2.65</td>\n",
              "      <td>14</td>\n",
              "      <td>20.5</td>\n",
              "      <td>5</td>\n",
              "      <td>False</td>\n",
              "      <td>...</td>\n",
              "      <td>2017</td>\n",
              "      <td>11</td>\n",
              "      <td>5</td>\n",
              "      <td>другой</td>\n",
              "      <td>0.525641</td>\n",
              "      <td>0.194872</td>\n",
              "      <td>средняя</td>\n",
              "      <td>далеко от центра</td>\n",
              "      <td>Санкт-Петербург</td>\n",
              "      <td>14</td>\n",
              "    </tr>\n",
              "    <tr>\n",
              "      <td>18</td>\n",
              "      <td>8</td>\n",
              "      <td>3250000.0</td>\n",
              "      <td>31.0</td>\n",
              "      <td>2017-01-27</td>\n",
              "      <td>1</td>\n",
              "      <td>2.50</td>\n",
              "      <td>5</td>\n",
              "      <td>19.4</td>\n",
              "      <td>2</td>\n",
              "      <td>False</td>\n",
              "      <td>...</td>\n",
              "      <td>2017</td>\n",
              "      <td>1</td>\n",
              "      <td>4</td>\n",
              "      <td>другой</td>\n",
              "      <td>0.625806</td>\n",
              "      <td>0.180645</td>\n",
              "      <td>средняя</td>\n",
              "      <td>далеко от центра</td>\n",
              "      <td>Санкт-Петербург</td>\n",
              "      <td>10</td>\n",
              "    </tr>\n",
              "    <tr>\n",
              "      <td>21</td>\n",
              "      <td>13</td>\n",
              "      <td>3200000.0</td>\n",
              "      <td>31.6</td>\n",
              "      <td>2018-03-14</td>\n",
              "      <td>1</td>\n",
              "      <td>2.65</td>\n",
              "      <td>5</td>\n",
              "      <td>16.9</td>\n",
              "      <td>2</td>\n",
              "      <td>False</td>\n",
              "      <td>...</td>\n",
              "      <td>2018</td>\n",
              "      <td>3</td>\n",
              "      <td>2</td>\n",
              "      <td>другой</td>\n",
              "      <td>0.534810</td>\n",
              "      <td>0.180380</td>\n",
              "      <td>средняя</td>\n",
              "      <td>далеко от центра</td>\n",
              "      <td>Санкт-Петербург</td>\n",
              "      <td>9</td>\n",
              "    </tr>\n",
              "  </tbody>\n",
              "</table>\n",
              "<p>5 rows × 33 columns</p>\n",
              "</div>"
            ],
            "text/plain": [
              "    total_images  last_price  total_area first_day_exposition  rooms  \\\n",
              "9             18   5400000.0        61.0           2017-02-26      3   \n",
              "10             5   5050000.0        39.6           2017-11-16      1   \n",
              "15            16   4650000.0        39.0           2017-11-18      1   \n",
              "18             8   3250000.0        31.0           2017-01-27      1   \n",
              "21            13   3200000.0        31.6           2018-03-14      1   \n",
              "\n",
              "    ceiling_height  floors_total  living_area  floor  is_apartment  ...  year  \\\n",
              "9             2.50             9         43.6      7         False  ...  2017   \n",
              "10            2.67            12         20.3      3         False  ...  2017   \n",
              "15            2.65            14         20.5      5         False  ...  2017   \n",
              "18            2.50             5         19.4      2         False  ...  2017   \n",
              "21            2.65             5         16.9      2         False  ...  2018   \n",
              "\n",
              "    month  weekday  floor_category living_total_area  kitchen_total_area  \\\n",
              "9       2        6          другой          0.714754            0.106557   \n",
              "10     11        3          другой          0.512626            0.214646   \n",
              "15     11        5          другой          0.525641            0.194872   \n",
              "18      1        4          другой          0.625806            0.180645   \n",
              "21      3        2          другой          0.534810            0.180380   \n",
              "\n",
              "    area_categories  cityCenters_nearest_categories  locality_name_new  \\\n",
              "9           средняя                далеко от центра    Санкт-Петербург   \n",
              "10          средняя                далеко от центра    Санкт-Петербург   \n",
              "15          средняя                далеко от центра    Санкт-Петербург   \n",
              "18          средняя                далеко от центра    Санкт-Петербург   \n",
              "21          средняя                далеко от центра    Санкт-Петербург   \n",
              "\n",
              "    cityCenters_km  \n",
              "9               15  \n",
              "10              13  \n",
              "15              14  \n",
              "18              10  \n",
              "21               9  \n",
              "\n",
              "[5 rows x 33 columns]"
            ]
          },
          "metadata": {},
          "output_type": "display_data"
        }
      ],
      "source": [
        "#Создадим столбец с расстоянием до центра в километрах: округлим до целых значений. \n",
        "data_spb['cityCenters_km'] = (data_spb['cityCenters_nearest']/1000).astype('int')\n",
        "display(data_spb.head())"
      ]
    },
    {
      "cell_type": "code",
      "execution_count": 60,
      "metadata": {
        "scrolled": true
      },
      "outputs": [
        {
          "data": {
            "text/html": [
              "<div>\n",
              "<style scoped>\n",
              "    .dataframe tbody tr th:only-of-type {\n",
              "        vertical-align: middle;\n",
              "    }\n",
              "\n",
              "    .dataframe tbody tr th {\n",
              "        vertical-align: top;\n",
              "    }\n",
              "\n",
              "    .dataframe thead th {\n",
              "        text-align: right;\n",
              "    }\n",
              "</style>\n",
              "<table border=\"1\" class=\"dataframe\">\n",
              "  <thead>\n",
              "    <tr style=\"text-align: right;\">\n",
              "      <th></th>\n",
              "      <th>price_meter</th>\n",
              "    </tr>\n",
              "    <tr>\n",
              "      <th>cityCenters_km</th>\n",
              "      <th></th>\n",
              "    </tr>\n",
              "  </thead>\n",
              "  <tbody>\n",
              "    <tr>\n",
              "      <td>0</td>\n",
              "      <td>125195.648442</td>\n",
              "    </tr>\n",
              "    <tr>\n",
              "      <td>1</td>\n",
              "      <td>125679.421146</td>\n",
              "    </tr>\n",
              "    <tr>\n",
              "      <td>2</td>\n",
              "      <td>117776.739440</td>\n",
              "    </tr>\n",
              "    <tr>\n",
              "      <td>3</td>\n",
              "      <td>111695.425340</td>\n",
              "    </tr>\n",
              "    <tr>\n",
              "      <td>4</td>\n",
              "      <td>126650.744269</td>\n",
              "    </tr>\n",
              "    <tr>\n",
              "      <td>5</td>\n",
              "      <td>119046.493581</td>\n",
              "    </tr>\n",
              "    <tr>\n",
              "      <td>6</td>\n",
              "      <td>121773.823291</td>\n",
              "    </tr>\n",
              "    <tr>\n",
              "      <td>7</td>\n",
              "      <td>115690.162183</td>\n",
              "    </tr>\n",
              "    <tr>\n",
              "      <td>8</td>\n",
              "      <td>107273.946248</td>\n",
              "    </tr>\n",
              "    <tr>\n",
              "      <td>9</td>\n",
              "      <td>105194.846801</td>\n",
              "    </tr>\n",
              "    <tr>\n",
              "      <td>10</td>\n",
              "      <td>104019.052026</td>\n",
              "    </tr>\n",
              "    <tr>\n",
              "      <td>11</td>\n",
              "      <td>102305.118054</td>\n",
              "    </tr>\n",
              "    <tr>\n",
              "      <td>12</td>\n",
              "      <td>104272.705827</td>\n",
              "    </tr>\n",
              "    <tr>\n",
              "      <td>13</td>\n",
              "      <td>103313.569820</td>\n",
              "    </tr>\n",
              "    <tr>\n",
              "      <td>14</td>\n",
              "      <td>101701.306302</td>\n",
              "    </tr>\n",
              "    <tr>\n",
              "      <td>15</td>\n",
              "      <td>97792.435441</td>\n",
              "    </tr>\n",
              "    <tr>\n",
              "      <td>16</td>\n",
              "      <td>96238.450930</td>\n",
              "    </tr>\n",
              "    <tr>\n",
              "      <td>17</td>\n",
              "      <td>93139.621418</td>\n",
              "    </tr>\n",
              "    <tr>\n",
              "      <td>18</td>\n",
              "      <td>91750.104205</td>\n",
              "    </tr>\n",
              "    <tr>\n",
              "      <td>19</td>\n",
              "      <td>95118.235358</td>\n",
              "    </tr>\n",
              "    <tr>\n",
              "      <td>20</td>\n",
              "      <td>99951.911636</td>\n",
              "    </tr>\n",
              "    <tr>\n",
              "      <td>21</td>\n",
              "      <td>89066.915709</td>\n",
              "    </tr>\n",
              "    <tr>\n",
              "      <td>22</td>\n",
              "      <td>86622.507912</td>\n",
              "    </tr>\n",
              "    <tr>\n",
              "      <td>23</td>\n",
              "      <td>90771.770555</td>\n",
              "    </tr>\n",
              "    <tr>\n",
              "      <td>24</td>\n",
              "      <td>81792.688510</td>\n",
              "    </tr>\n",
              "    <tr>\n",
              "      <td>25</td>\n",
              "      <td>92543.045981</td>\n",
              "    </tr>\n",
              "    <tr>\n",
              "      <td>26</td>\n",
              "      <td>85899.758454</td>\n",
              "    </tr>\n",
              "    <tr>\n",
              "      <td>27</td>\n",
              "      <td>70312.500000</td>\n",
              "    </tr>\n",
              "    <tr>\n",
              "      <td>28</td>\n",
              "      <td>82555.820746</td>\n",
              "    </tr>\n",
              "    <tr>\n",
              "      <td>29</td>\n",
              "      <td>56976.744186</td>\n",
              "    </tr>\n",
              "  </tbody>\n",
              "</table>\n",
              "</div>"
            ],
            "text/plain": [
              "                  price_meter\n",
              "cityCenters_km               \n",
              "0               125195.648442\n",
              "1               125679.421146\n",
              "2               117776.739440\n",
              "3               111695.425340\n",
              "4               126650.744269\n",
              "5               119046.493581\n",
              "6               121773.823291\n",
              "7               115690.162183\n",
              "8               107273.946248\n",
              "9               105194.846801\n",
              "10              104019.052026\n",
              "11              102305.118054\n",
              "12              104272.705827\n",
              "13              103313.569820\n",
              "14              101701.306302\n",
              "15               97792.435441\n",
              "16               96238.450930\n",
              "17               93139.621418\n",
              "18               91750.104205\n",
              "19               95118.235358\n",
              "20               99951.911636\n",
              "21               89066.915709\n",
              "22               86622.507912\n",
              "23               90771.770555\n",
              "24               81792.688510\n",
              "25               92543.045981\n",
              "26               85899.758454\n",
              "27               70312.500000\n",
              "28               82555.820746\n",
              "29               56976.744186"
            ]
          },
          "metadata": {},
          "output_type": "display_data"
        }
      ],
      "source": [
        "#Посчитаем среднюю цену для каждого километра\n",
        "price_mean_km = data_spb.pivot_table(index='cityCenters_km', values='price_meter', aggfunc='mean')\n",
        "display(price_mean_km)"
      ]
    },
    {
      "cell_type": "code",
      "execution_count": 61,
      "metadata": {},
      "outputs": [
        {
          "data": {
            "image/png": "[encoded data removed]",
            "text/plain": [
              "<Figure size 432x288 with 1 Axes>"
            ]
          },
          "metadata": {
            "needs_background": "light"
          },
          "output_type": "display_data"
        }
      ],
      "source": [
        "#Построим график: он должен показывать, как цена зависит от удалённости от центра\n",
        "data_spb.plot(x='cityCenters_km', y='price_meter', kind='scatter');"
      ]
    },
    {
      "cell_type": "markdown",
      "metadata": {},
      "source": [
        "**Вывод**:\n",
        "1. По графику видно, что чем дальше от центра, тем стоимость квадратного метра меньше\n",
        "2. После отметки 15км график изменяется, следовательно, в радиусе 15 км и будет центральная зона"
      ]
    },
    {
      "cell_type": "code",
      "execution_count": 62,
      "metadata": {
        "scrolled": true
      },
      "outputs": [
        {
          "data": {
            "text/html": [
              "<div>\n",
              "<style scoped>\n",
              "    .dataframe tbody tr th:only-of-type {\n",
              "        vertical-align: middle;\n",
              "    }\n",
              "\n",
              "    .dataframe tbody tr th {\n",
              "        vertical-align: top;\n",
              "    }\n",
              "\n",
              "    .dataframe thead th {\n",
              "        text-align: right;\n",
              "    }\n",
              "</style>\n",
              "<table border=\"1\" class=\"dataframe\">\n",
              "  <thead>\n",
              "    <tr style=\"text-align: right;\">\n",
              "      <th></th>\n",
              "      <th>total_images</th>\n",
              "      <th>last_price</th>\n",
              "      <th>total_area</th>\n",
              "      <th>first_day_exposition</th>\n",
              "      <th>rooms</th>\n",
              "      <th>ceiling_height</th>\n",
              "      <th>floors_total</th>\n",
              "      <th>living_area</th>\n",
              "      <th>floor</th>\n",
              "      <th>is_apartment</th>\n",
              "      <th>...</th>\n",
              "      <th>year</th>\n",
              "      <th>month</th>\n",
              "      <th>weekday</th>\n",
              "      <th>floor_category</th>\n",
              "      <th>living_total_area</th>\n",
              "      <th>kitchen_total_area</th>\n",
              "      <th>area_categories</th>\n",
              "      <th>cityCenters_nearest_categories</th>\n",
              "      <th>locality_name_new</th>\n",
              "      <th>cityCenters_km</th>\n",
              "    </tr>\n",
              "  </thead>\n",
              "  <tbody>\n",
              "    <tr>\n",
              "      <td>9</td>\n",
              "      <td>18</td>\n",
              "      <td>5400000.0</td>\n",
              "      <td>61.0</td>\n",
              "      <td>2017-02-26</td>\n",
              "      <td>3</td>\n",
              "      <td>2.50</td>\n",
              "      <td>9</td>\n",
              "      <td>43.6</td>\n",
              "      <td>7</td>\n",
              "      <td>False</td>\n",
              "      <td>...</td>\n",
              "      <td>2017</td>\n",
              "      <td>2</td>\n",
              "      <td>6</td>\n",
              "      <td>другой</td>\n",
              "      <td>0.714754</td>\n",
              "      <td>0.106557</td>\n",
              "      <td>средняя</td>\n",
              "      <td>далеко от центра</td>\n",
              "      <td>Санкт-Петербург</td>\n",
              "      <td>15</td>\n",
              "    </tr>\n",
              "    <tr>\n",
              "      <td>10</td>\n",
              "      <td>5</td>\n",
              "      <td>5050000.0</td>\n",
              "      <td>39.6</td>\n",
              "      <td>2017-11-16</td>\n",
              "      <td>1</td>\n",
              "      <td>2.67</td>\n",
              "      <td>12</td>\n",
              "      <td>20.3</td>\n",
              "      <td>3</td>\n",
              "      <td>False</td>\n",
              "      <td>...</td>\n",
              "      <td>2017</td>\n",
              "      <td>11</td>\n",
              "      <td>3</td>\n",
              "      <td>другой</td>\n",
              "      <td>0.512626</td>\n",
              "      <td>0.214646</td>\n",
              "      <td>средняя</td>\n",
              "      <td>далеко от центра</td>\n",
              "      <td>Санкт-Петербург</td>\n",
              "      <td>13</td>\n",
              "    </tr>\n",
              "    <tr>\n",
              "      <td>15</td>\n",
              "      <td>16</td>\n",
              "      <td>4650000.0</td>\n",
              "      <td>39.0</td>\n",
              "      <td>2017-11-18</td>\n",
              "      <td>1</td>\n",
              "      <td>2.65</td>\n",
              "      <td>14</td>\n",
              "      <td>20.5</td>\n",
              "      <td>5</td>\n",
              "      <td>False</td>\n",
              "      <td>...</td>\n",
              "      <td>2017</td>\n",
              "      <td>11</td>\n",
              "      <td>5</td>\n",
              "      <td>другой</td>\n",
              "      <td>0.525641</td>\n",
              "      <td>0.194872</td>\n",
              "      <td>средняя</td>\n",
              "      <td>далеко от центра</td>\n",
              "      <td>Санкт-Петербург</td>\n",
              "      <td>14</td>\n",
              "    </tr>\n",
              "    <tr>\n",
              "      <td>18</td>\n",
              "      <td>8</td>\n",
              "      <td>3250000.0</td>\n",
              "      <td>31.0</td>\n",
              "      <td>2017-01-27</td>\n",
              "      <td>1</td>\n",
              "      <td>2.50</td>\n",
              "      <td>5</td>\n",
              "      <td>19.4</td>\n",
              "      <td>2</td>\n",
              "      <td>False</td>\n",
              "      <td>...</td>\n",
              "      <td>2017</td>\n",
              "      <td>1</td>\n",
              "      <td>4</td>\n",
              "      <td>другой</td>\n",
              "      <td>0.625806</td>\n",
              "      <td>0.180645</td>\n",
              "      <td>средняя</td>\n",
              "      <td>далеко от центра</td>\n",
              "      <td>Санкт-Петербург</td>\n",
              "      <td>10</td>\n",
              "    </tr>\n",
              "    <tr>\n",
              "      <td>21</td>\n",
              "      <td>13</td>\n",
              "      <td>3200000.0</td>\n",
              "      <td>31.6</td>\n",
              "      <td>2018-03-14</td>\n",
              "      <td>1</td>\n",
              "      <td>2.65</td>\n",
              "      <td>5</td>\n",
              "      <td>16.9</td>\n",
              "      <td>2</td>\n",
              "      <td>False</td>\n",
              "      <td>...</td>\n",
              "      <td>2018</td>\n",
              "      <td>3</td>\n",
              "      <td>2</td>\n",
              "      <td>другой</td>\n",
              "      <td>0.534810</td>\n",
              "      <td>0.180380</td>\n",
              "      <td>средняя</td>\n",
              "      <td>далеко от центра</td>\n",
              "      <td>Санкт-Петербург</td>\n",
              "      <td>9</td>\n",
              "    </tr>\n",
              "    <tr>\n",
              "      <td>...</td>\n",
              "      <td>...</td>\n",
              "      <td>...</td>\n",
              "      <td>...</td>\n",
              "      <td>...</td>\n",
              "      <td>...</td>\n",
              "      <td>...</td>\n",
              "      <td>...</td>\n",
              "      <td>...</td>\n",
              "      <td>...</td>\n",
              "      <td>...</td>\n",
              "      <td>...</td>\n",
              "      <td>...</td>\n",
              "      <td>...</td>\n",
              "      <td>...</td>\n",
              "      <td>...</td>\n",
              "      <td>...</td>\n",
              "      <td>...</td>\n",
              "      <td>...</td>\n",
              "      <td>...</td>\n",
              "      <td>...</td>\n",
              "      <td>...</td>\n",
              "    </tr>\n",
              "    <tr>\n",
              "      <td>23671</td>\n",
              "      <td>3</td>\n",
              "      <td>3450000.0</td>\n",
              "      <td>35.3</td>\n",
              "      <td>2017-04-14</td>\n",
              "      <td>1</td>\n",
              "      <td>2.50</td>\n",
              "      <td>9</td>\n",
              "      <td>17.5</td>\n",
              "      <td>4</td>\n",
              "      <td>False</td>\n",
              "      <td>...</td>\n",
              "      <td>2017</td>\n",
              "      <td>4</td>\n",
              "      <td>4</td>\n",
              "      <td>другой</td>\n",
              "      <td>0.495751</td>\n",
              "      <td>0.212465</td>\n",
              "      <td>средняя</td>\n",
              "      <td>далеко от центра</td>\n",
              "      <td>Санкт-Петербург</td>\n",
              "      <td>15</td>\n",
              "    </tr>\n",
              "    <tr>\n",
              "      <td>23676</td>\n",
              "      <td>19</td>\n",
              "      <td>3550000.0</td>\n",
              "      <td>36.4</td>\n",
              "      <td>2016-06-08</td>\n",
              "      <td>1</td>\n",
              "      <td>2.65</td>\n",
              "      <td>16</td>\n",
              "      <td>14.9</td>\n",
              "      <td>13</td>\n",
              "      <td>False</td>\n",
              "      <td>...</td>\n",
              "      <td>2016</td>\n",
              "      <td>6</td>\n",
              "      <td>2</td>\n",
              "      <td>другой</td>\n",
              "      <td>0.409341</td>\n",
              "      <td>0.255495</td>\n",
              "      <td>средняя</td>\n",
              "      <td>далеко от центра</td>\n",
              "      <td>Санкт-Петербург</td>\n",
              "      <td>11</td>\n",
              "    </tr>\n",
              "    <tr>\n",
              "      <td>23681</td>\n",
              "      <td>13</td>\n",
              "      <td>5250000.0</td>\n",
              "      <td>43.0</td>\n",
              "      <td>2018-05-11</td>\n",
              "      <td>2</td>\n",
              "      <td>2.50</td>\n",
              "      <td>5</td>\n",
              "      <td>29.0</td>\n",
              "      <td>2</td>\n",
              "      <td>False</td>\n",
              "      <td>...</td>\n",
              "      <td>2018</td>\n",
              "      <td>5</td>\n",
              "      <td>4</td>\n",
              "      <td>другой</td>\n",
              "      <td>0.674419</td>\n",
              "      <td>0.139535</td>\n",
              "      <td>средняя</td>\n",
              "      <td>далеко от центра</td>\n",
              "      <td>Санкт-Петербург</td>\n",
              "      <td>7</td>\n",
              "    </tr>\n",
              "    <tr>\n",
              "      <td>23686</td>\n",
              "      <td>8</td>\n",
              "      <td>3300000.0</td>\n",
              "      <td>31.0</td>\n",
              "      <td>2017-04-29</td>\n",
              "      <td>1</td>\n",
              "      <td>2.55</td>\n",
              "      <td>9</td>\n",
              "      <td>18.0</td>\n",
              "      <td>6</td>\n",
              "      <td>False</td>\n",
              "      <td>...</td>\n",
              "      <td>2017</td>\n",
              "      <td>4</td>\n",
              "      <td>5</td>\n",
              "      <td>другой</td>\n",
              "      <td>0.580645</td>\n",
              "      <td>0.209677</td>\n",
              "      <td>средняя</td>\n",
              "      <td>далеко от центра</td>\n",
              "      <td>Санкт-Петербург</td>\n",
              "      <td>11</td>\n",
              "    </tr>\n",
              "    <tr>\n",
              "      <td>23690</td>\n",
              "      <td>3</td>\n",
              "      <td>5500000.0</td>\n",
              "      <td>52.0</td>\n",
              "      <td>2018-07-19</td>\n",
              "      <td>2</td>\n",
              "      <td>2.65</td>\n",
              "      <td>5</td>\n",
              "      <td>31.0</td>\n",
              "      <td>2</td>\n",
              "      <td>False</td>\n",
              "      <td>...</td>\n",
              "      <td>2018</td>\n",
              "      <td>7</td>\n",
              "      <td>3</td>\n",
              "      <td>другой</td>\n",
              "      <td>0.596154</td>\n",
              "      <td>0.115385</td>\n",
              "      <td>средняя</td>\n",
              "      <td>среднее расстояние до центра</td>\n",
              "      <td>Санкт-Петербург</td>\n",
              "      <td>6</td>\n",
              "    </tr>\n",
              "  </tbody>\n",
              "</table>\n",
              "<p>7050 rows × 33 columns</p>\n",
              "</div>"
            ],
            "text/plain": [
              "       total_images  last_price  total_area first_day_exposition  rooms  \\\n",
              "9                18   5400000.0        61.0           2017-02-26      3   \n",
              "10                5   5050000.0        39.6           2017-11-16      1   \n",
              "15               16   4650000.0        39.0           2017-11-18      1   \n",
              "18                8   3250000.0        31.0           2017-01-27      1   \n",
              "21               13   3200000.0        31.6           2018-03-14      1   \n",
              "...             ...         ...         ...                  ...    ...   \n",
              "23671             3   3450000.0        35.3           2017-04-14      1   \n",
              "23676            19   3550000.0        36.4           2016-06-08      1   \n",
              "23681            13   5250000.0        43.0           2018-05-11      2   \n",
              "23686             8   3300000.0        31.0           2017-04-29      1   \n",
              "23690             3   5500000.0        52.0           2018-07-19      2   \n",
              "\n",
              "       ceiling_height  floors_total  living_area  floor  is_apartment  ...  \\\n",
              "9                2.50             9         43.6      7         False  ...   \n",
              "10               2.67            12         20.3      3         False  ...   \n",
              "15               2.65            14         20.5      5         False  ...   \n",
              "18               2.50             5         19.4      2         False  ...   \n",
              "21               2.65             5         16.9      2         False  ...   \n",
              "...               ...           ...          ...    ...           ...  ...   \n",
              "23671            2.50             9         17.5      4         False  ...   \n",
              "23676            2.65            16         14.9     13         False  ...   \n",
              "23681            2.50             5         29.0      2         False  ...   \n",
              "23686            2.55             9         18.0      6         False  ...   \n",
              "23690            2.65             5         31.0      2         False  ...   \n",
              "\n",
              "       year  month  weekday  floor_category living_total_area  \\\n",
              "9      2017      2        6          другой          0.714754   \n",
              "10     2017     11        3          другой          0.512626   \n",
              "15     2017     11        5          другой          0.525641   \n",
              "18     2017      1        4          другой          0.625806   \n",
              "21     2018      3        2          другой          0.534810   \n",
              "...     ...    ...      ...             ...               ...   \n",
              "23671  2017      4        4          другой          0.495751   \n",
              "23676  2016      6        2          другой          0.409341   \n",
              "23681  2018      5        4          другой          0.674419   \n",
              "23686  2017      4        5          другой          0.580645   \n",
              "23690  2018      7        3          другой          0.596154   \n",
              "\n",
              "       kitchen_total_area  area_categories  cityCenters_nearest_categories  \\\n",
              "9                0.106557          средняя                далеко от центра   \n",
              "10               0.214646          средняя                далеко от центра   \n",
              "15               0.194872          средняя                далеко от центра   \n",
              "18               0.180645          средняя                далеко от центра   \n",
              "21               0.180380          средняя                далеко от центра   \n",
              "...                   ...              ...                             ...   \n",
              "23671            0.212465          средняя                далеко от центра   \n",
              "23676            0.255495          средняя                далеко от центра   \n",
              "23681            0.139535          средняя                далеко от центра   \n",
              "23686            0.209677          средняя                далеко от центра   \n",
              "23690            0.115385          средняя    среднее расстояние до центра   \n",
              "\n",
              "       locality_name_new  cityCenters_km  \n",
              "9        Санкт-Петербург              15  \n",
              "10       Санкт-Петербург              13  \n",
              "15       Санкт-Петербург              14  \n",
              "18       Санкт-Петербург              10  \n",
              "21       Санкт-Петербург               9  \n",
              "...                  ...             ...  \n",
              "23671    Санкт-Петербург              15  \n",
              "23676    Санкт-Петербург              11  \n",
              "23681    Санкт-Петербург               7  \n",
              "23686    Санкт-Петербург              11  \n",
              "23690    Санкт-Петербург               6  \n",
              "\n",
              "[7050 rows x 33 columns]"
            ]
          },
          "metadata": {},
          "output_type": "display_data"
        }
      ],
      "source": [
        "#Выделим сегмент квартир в центре. \n",
        "spb_centr = data_spb.query('cityCenters_km <= 15')\n",
        "display(spb_centr)"
      ]
    },
    {
      "cell_type": "code",
      "execution_count": 63,
      "metadata": {},
      "outputs": [
        {
          "data": {
            "text/plain": [
              "50.06557446808511"
            ]
          },
          "metadata": {},
          "output_type": "display_data"
        },
        {
          "data": {
            "text/plain": [
              "46.0"
            ]
          },
          "metadata": {},
          "output_type": "display_data"
        },
        {
          "data": {
            "image/png": "[encoded data removed]",
            "text/plain": [
              "<Figure size 432x288 with 1 Axes>"
            ]
          },
          "metadata": {
            "needs_background": "light"
          },
          "output_type": "display_data"
        }
      ],
      "source": [
        "#Построим гистограмму для общей площади квартир в центре Санкт-Петербурга\n",
        "spb_centr['total_area'].hist(bins=100, range = (0,100))\n",
        "display(spb_centr['total_area'].mean())\n",
        "display(spb_centr['total_area'].median())"
      ]
    },
    {
      "cell_type": "code",
      "execution_count": 64,
      "metadata": {},
      "outputs": [
        {
          "data": {
            "text/plain": [
              "28.94440730609929"
            ]
          },
          "metadata": {},
          "output_type": "display_data"
        },
        {
          "data": {
            "text/plain": [
              "28.575000000000003"
            ]
          },
          "metadata": {},
          "output_type": "display_data"
        },
        {
          "data": {
            "image/png": "[encoded data removed]",
            "text/plain": [
              "<Figure size 432x288 with 1 Axes>"
            ]
          },
          "metadata": {
            "needs_background": "light"
          },
          "output_type": "display_data"
        }
      ],
      "source": [
        "#Построим гистограмму для жилой площади квартир в центре Санкт-Петербурга\n",
        "spb_centr['living_area'].hist(bins=100, range = (0,70))\n",
        "display(spb_centr['living_area'].mean())\n",
        "display(spb_centr['living_area'].median())"
      ]
    },
    {
      "cell_type": "code",
      "execution_count": 65,
      "metadata": {},
      "outputs": [
        {
          "data": {
            "text/plain": [
              "8.770378723404255"
            ]
          },
          "metadata": {},
          "output_type": "display_data"
        },
        {
          "data": {
            "text/plain": [
              "8.7"
            ]
          },
          "metadata": {},
          "output_type": "display_data"
        },
        {
          "data": {
            "image/png": "[encoded data removed]",
            "text/plain": [
              "<Figure size 432x288 with 1 Axes>"
            ]
          },
          "metadata": {
            "needs_background": "light"
          },
          "output_type": "display_data"
        }
      ],
      "source": [
        "#Построим гистограмму для площади кухни квартир в центре Санкт-Петербурга\n",
        "spb_centr['kitchen_area'].hist(bins=100, range = (0,17))\n",
        "display(spb_centr['kitchen_area'].mean())\n",
        "display(spb_centr['kitchen_area'].median())"
      ]
    },
    {
      "cell_type": "code",
      "execution_count": 66,
      "metadata": {},
      "outputs": [
        {
          "data": {
            "text/plain": [
              "5172175.540992908"
            ]
          },
          "metadata": {},
          "output_type": "display_data"
        },
        {
          "data": {
            "text/plain": [
              "4700000.0"
            ]
          },
          "metadata": {},
          "output_type": "display_data"
        },
        {
          "data": {
            "image/png": "[encoded data removed]",
            "text/plain": [
              "<Figure size 432x288 with 1 Axes>"
            ]
          },
          "metadata": {
            "needs_background": "light"
          },
          "output_type": "display_data"
        }
      ],
      "source": [
        "#Построим гистограмму для цены квартир в центре Санкт-Петербурга\n",
        "spb_centr['last_price'].hist(bins=100, range = (0,7000000))\n",
        "display(spb_centr['last_price'].mean())\n",
        "display(spb_centr['last_price'].median())"
      ]
    },
    {
      "cell_type": "code",
      "execution_count": 67,
      "metadata": {},
      "outputs": [
        {
          "data": {
            "text/plain": [
              "1.865531914893617"
            ]
          },
          "metadata": {},
          "output_type": "display_data"
        },
        {
          "data": {
            "text/plain": [
              "2.0"
            ]
          },
          "metadata": {},
          "output_type": "display_data"
        },
        {
          "data": {
            "image/png": "[encoded data removed]",
            "text/plain": [
              "<Figure size 432x288 with 1 Axes>"
            ]
          },
          "metadata": {
            "needs_background": "light"
          },
          "output_type": "display_data"
        }
      ],
      "source": [
        "#Построим гистограмму для числа комнат в квартирах в центре Санкт-Петербурга\n",
        "spb_centr['rooms'].hist(bins=100, range = (0,6))\n",
        "display(spb_centr['rooms'].mean())\n",
        "display(spb_centr['rooms'].median())"
      ]
    },
    {
      "cell_type": "code",
      "execution_count": 68,
      "metadata": {
        "scrolled": true
      },
      "outputs": [
        {
          "data": {
            "text/plain": [
              "2.6185900709219854"
            ]
          },
          "metadata": {},
          "output_type": "display_data"
        },
        {
          "data": {
            "text/plain": [
              "2.65"
            ]
          },
          "metadata": {},
          "output_type": "display_data"
        },
        {
          "data": {
            "image/png": "[encoded data removed]",
            "text/plain": [
              "<Figure size 432x288 with 1 Axes>"
            ]
          },
          "metadata": {
            "needs_background": "light"
          },
          "output_type": "display_data"
        }
      ],
      "source": [
        "#Построим гистограмму для высоты потолка в квартирах в центре Санкт-Петербурга\n",
        "spb_centr['ceiling_height'].hist(bins=100, range = (2,3))\n",
        "display(spb_centr['ceiling_height'].mean())\n",
        "display(spb_centr['ceiling_height'].median())"
      ]
    },
    {
      "cell_type": "markdown",
      "metadata": {},
      "source": [
        "**Вывод**: \n",
        "1. Общая площадь продаваемых в центре Санкт-Петербурга квартир, в среднем, около 46м2\n",
        "2. Жилая площадь продаваемых в центре Санкт-Петербурга квартир, в среднем, около 28,5м2\n",
        "3. Площадь кухни продаваемых в центре Санкт-Петербурга квартир, в среднем, около 8,7м2\n",
        "4. Цена продаваемых в центре Санкт-Петербурга квартир, в среднем, около 4,7млн руб\n",
        "5. Число комнат продаваемых в центре Санкт-Петербурга квартир, в среднем, 2\n",
        "6. Высота потолка продаваемых в центре Санкт-Петербурга квартир, в среднем, около 2,65м"
      ]
    },
    {
      "cell_type": "code",
      "execution_count": 69,
      "metadata": {},
      "outputs": [
        {
          "data": {
            "text/plain": [
              "Text(0.5, 0.98, '')"
            ]
          },
          "execution_count": 69,
          "metadata": {},
          "output_type": "execute_result"
        },
        {
          "data": {
            "image/png": "[encoded data removed]",
            "text/plain": [
              "<Figure size 432x288 with 1 Axes>"
            ]
          },
          "metadata": {
            "needs_background": "light"
          },
          "output_type": "display_data"
        }
      ],
      "source": [
        "#Выясним, зависит ли цена от числа комнат\n",
        "spb_centr.boxplot(column = 'price_meter', by = 'rooms');\n",
        "plt.ylim(1, 170000)\n",
        "plt.suptitle('')"
      ]
    },
    {
      "cell_type": "markdown",
      "metadata": {},
      "source": [
        "**Вывод**: Чем больше комнат, тем стоимость квадратного метра ниже"
      ]
    },
    {
      "cell_type": "code",
      "execution_count": 70,
      "metadata": {
        "scrolled": true
      },
      "outputs": [
        {
          "data": {
            "text/plain": [
              "Text(0.5, 0.98, '')"
            ]
          },
          "execution_count": 70,
          "metadata": {},
          "output_type": "execute_result"
        },
        {
          "data": {
            "image/png": "[encoded data removed]",
            "text/plain": [
              "<Figure size 432x288 with 1 Axes>"
            ]
          },
          "metadata": {
            "needs_background": "light"
          },
          "output_type": "display_data"
        }
      ],
      "source": [
        "#Выясним, зависит ли цена от этажа\n",
        "spb_centr.boxplot(column = 'price_meter', by = 'floor_category');\n",
        "plt.ylim(1, 170000)\n",
        "plt.suptitle('')"
      ]
    },
    {
      "cell_type": "markdown",
      "metadata": {},
      "source": [
        "**Вывод**: На первом и последнем этажах стоимость квадратного метра ниже."
      ]
    },
    {
      "cell_type": "code",
      "execution_count": 71,
      "metadata": {},
      "outputs": [
        {
          "data": {
            "text/plain": [
              "Text(0.5, 0.98, '')"
            ]
          },
          "execution_count": 71,
          "metadata": {},
          "output_type": "execute_result"
        },
        {
          "data": {
            "image/png": "[encoded data removed]",
            "text/plain": [
              "<Figure size 432x288 with 1 Axes>"
            ]
          },
          "metadata": {
            "needs_background": "light"
          },
          "output_type": "display_data"
        }
      ],
      "source": [
        "#Выясним, зависит ли цена от удалённости от центра\n",
        "spb_centr.boxplot(column = 'price_meter', by = 'cityCenters_nearest_categories');\n",
        "plt.ylim(1, 170000)\n",
        "plt.suptitle('')"
      ]
    },
    {
      "cell_type": "markdown",
      "metadata": {},
      "source": [
        "**Вывод**:Квартиры дороже на средней удаленности от центра и близко к центру."
      ]
    },
    {
      "cell_type": "code",
      "execution_count": 72,
      "metadata": {
        "scrolled": true
      },
      "outputs": [
        {
          "data": {
            "text/plain": [
              "Text(0.5, 0.98, '')"
            ]
          },
          "execution_count": 72,
          "metadata": {},
          "output_type": "execute_result"
        },
        {
          "data": {
            "image/png": "[encoded data removed]",
            "text/plain": [
              "<Figure size 432x288 with 1 Axes>"
            ]
          },
          "metadata": {
            "needs_background": "light"
          },
          "output_type": "display_data"
        }
      ],
      "source": [
        "#Выясним, зависит ли цена от дня размещения объявления\n",
        "spb_centr.boxplot(column = 'price_meter', by = 'weekday');\n",
        "plt.ylim(1, 170000)\n",
        "plt.suptitle('')"
      ]
    },
    {
      "cell_type": "markdown",
      "metadata": {},
      "source": [
        "**Вывод**: Цена квадратного метра не зависит от дня недели размещения объявления."
      ]
    },
    {
      "cell_type": "code",
      "execution_count": 73,
      "metadata": {},
      "outputs": [
        {
          "data": {
            "text/plain": [
              "Text(0.5, 0.98, '')"
            ]
          },
          "execution_count": 73,
          "metadata": {},
          "output_type": "execute_result"
        },
        {
          "data": {
            "image/png": "[encoded data removed]",
            "text/plain": [
              "<Figure size 432x288 with 1 Axes>"
            ]
          },
          "metadata": {
            "needs_background": "light"
          },
          "output_type": "display_data"
        }
      ],
      "source": [
        "#Выясним, зависит ли цена от месяца размещения объявления\n",
        "spb_centr.boxplot(column = 'price_meter', by = 'month');\n",
        "plt.ylim(1, 170000)\n",
        "plt.suptitle('')"
      ]
    },
    {
      "cell_type": "markdown",
      "metadata": {},
      "source": [
        "**Вывод**:Стоимость квадратного метра немного выше зимой, в марте, августе, сентябре."
      ]
    },
    {
      "cell_type": "code",
      "execution_count": 74,
      "metadata": {},
      "outputs": [
        {
          "data": {
            "text/plain": [
              "Text(0.5, 0.98, '')"
            ]
          },
          "execution_count": 74,
          "metadata": {},
          "output_type": "execute_result"
        },
        {
          "data": {
            "image/png": "[encoded data removed]",
            "text/plain": [
              "<Figure size 432x288 with 1 Axes>"
            ]
          },
          "metadata": {
            "needs_background": "light"
          },
          "output_type": "display_data"
        }
      ],
      "source": [
        "#Выясним, зависит ли цена от года размещения объявления\n",
        "spb_centr.boxplot(column = 'price_meter', by = 'year');\n",
        "plt.ylim(1, 170000)\n",
        "plt.suptitle('')"
      ]
    },
    {
      "cell_type": "markdown",
      "metadata": {},
      "source": [
        "**Вывод**:Стоимость квартир в центральной части Санкт-Петербурга растет с каждым годом, в 2019г произошел более явный скачок."
      ]
    },
    {
      "cell_type": "markdown",
      "metadata": {},
      "source": [
        "**Вывод**: По сравнению с общими выводами по всему городу в центральной части Санкт-Петербурга:\n",
        "1. квартиры дороже на средней удаленности от центра и близко к самому центру.\n",
        "2. прослеживается связь с месяцем размещения объявления - стоимость квадратного метра немного выше зимой, в марте, августе, сентябре\n",
        "3. В отличие от города в целом рост цен в центральной части Санкт-Петербурга идет все время наблюдения,но так же скачок произошел в 2019году."
      ]
    },
    {
      "cell_type": "markdown",
      "metadata": {},
      "source": [
        "## Общий вывод"
      ]
    },
    {
      "cell_type": "markdown",
      "metadata": {},
      "source": [
        "В ходе исследования и анализа объявлений о продаже квартир в Санкт-Петербурге и соседних населённых пунктах за несколько лет мы выяснили:\n",
        "1. Дороже всего квартиры в Санкт-Петербурге\n",
        "2. Определили, что центральная зона Санкт-Петербурга находится в радиусе 15км.\n",
        "3. Цена квадратного метра выше у квартир с маленькой площадью.\n",
        "4. Чем больше комнат в квартире, тем дешевле цена квадратного метра.\n",
        "5. Чем дальше от центра, тем цена квадратного метра дешевле.\n",
        "6. На первом и последнем этажах цена квадратного метра ниже.\n",
        "7. Цена квартир не зависит от дня недели размещения объявления.\n",
        "8. Чаще продают двухкомнатные квартиры.\n",
        "9. Высота потолков продаваемых квартир, в среднем, 2,65м.\n",
        "10. Продажа обычно занимает около 95 дней. Быстрые продажи происходят в первые 45 дней, долгие - больше 232 дней.\n",
        "11. Площади продаваемых квартир примерно около 52м2 в городе и области, около 46м2 - в центральной части Санкт-Петербурга.\n",
        "12. Стоимость квартир в городе и области , в среднем, около 4,5млн руб, в центральной части Санкт-Петербурга - в среднем, 4,7млн руб.\n",
        "13. В центральной части Санкт-Петербурга прослеживается связь с месяцем размещения объявления - стоимость квадратного метра немного выше зимой, в марте, августе, сентябре.\n",
        "14. В отличие от города  и области рост цен в центральной части Санкт-Петербурга идет все время наблюдения,но так же скачок произошел в 2019году."
      ]
    }
  ],
  "metadata": {
    "ExecuteTimeLog": [
      {
        "duration": 255,
        "start_time": "2022-01-17T10:52:20.015Z"
      },
      {
        "duration": 560,
        "start_time": "2022-01-17T10:52:28.731Z"
      },
      {
        "duration": 56,
        "start_time": "2022-01-17T10:52:31.062Z"
      },
      {
        "duration": 69,
        "start_time": "2022-01-17T10:52:47.224Z"
      },
      {
        "duration": 56,
        "start_time": "2022-01-17T10:53:12.825Z"
      },
      {
        "duration": 78,
        "start_time": "2022-01-17T10:55:30.655Z"
      },
      {
        "duration": 3,
        "start_time": "2022-01-17T10:55:43.040Z"
      },
      {
        "duration": 76,
        "start_time": "2022-01-17T10:55:47.360Z"
      },
      {
        "duration": 106,
        "start_time": "2022-01-17T10:55:49.825Z"
      },
      {
        "duration": 2,
        "start_time": "2022-01-17T10:56:08.053Z"
      },
      {
        "duration": 78,
        "start_time": "2022-01-17T10:56:08.057Z"
      },
      {
        "duration": 61,
        "start_time": "2022-01-17T10:56:29.435Z"
      },
      {
        "duration": 2,
        "start_time": "2022-01-17T10:56:41.272Z"
      },
      {
        "duration": 73,
        "start_time": "2022-01-17T10:56:41.276Z"
      },
      {
        "duration": 83,
        "start_time": "2022-01-17T10:58:13.142Z"
      },
      {
        "duration": 90,
        "start_time": "2022-01-17T10:59:44.304Z"
      },
      {
        "duration": 135,
        "start_time": "2022-01-17T11:13:49.541Z"
      },
      {
        "duration": 3,
        "start_time": "2022-01-17T11:20:41.878Z"
      },
      {
        "duration": 6087,
        "start_time": "2022-01-17T11:20:41.883Z"
      },
      {
        "duration": 3,
        "start_time": "2022-01-17T11:22:09.229Z"
      },
      {
        "duration": 132,
        "start_time": "2022-01-17T11:22:09.233Z"
      },
      {
        "duration": 2,
        "start_time": "2022-01-17T11:30:30.861Z"
      },
      {
        "duration": 135,
        "start_time": "2022-01-17T11:30:30.865Z"
      },
      {
        "duration": 65,
        "start_time": "2022-01-17T11:30:31.002Z"
      },
      {
        "duration": 2,
        "start_time": "2022-01-17T11:31:47.577Z"
      },
      {
        "duration": 164,
        "start_time": "2022-01-17T11:31:47.583Z"
      },
      {
        "duration": 44,
        "start_time": "2022-01-17T11:31:47.748Z"
      },
      {
        "duration": 3,
        "start_time": "2022-01-17T11:32:19.526Z"
      },
      {
        "duration": 150,
        "start_time": "2022-01-17T11:32:19.531Z"
      },
      {
        "duration": 87,
        "start_time": "2022-01-17T11:32:19.682Z"
      },
      {
        "duration": 2,
        "start_time": "2022-01-17T11:33:36.343Z"
      },
      {
        "duration": 155,
        "start_time": "2022-01-17T11:33:36.347Z"
      },
      {
        "duration": 70,
        "start_time": "2022-01-17T11:33:36.504Z"
      },
      {
        "duration": 4,
        "start_time": "2022-01-17T11:43:50.901Z"
      },
      {
        "duration": 6,
        "start_time": "2022-01-17T11:44:28.211Z"
      },
      {
        "duration": 13,
        "start_time": "2022-01-17T12:14:57.385Z"
      },
      {
        "duration": 5,
        "start_time": "2022-01-17T12:15:28.454Z"
      },
      {
        "duration": 2,
        "start_time": "2022-01-17T12:34:49.919Z"
      },
      {
        "duration": 159,
        "start_time": "2022-01-17T12:34:49.923Z"
      },
      {
        "duration": 78,
        "start_time": "2022-01-17T12:34:50.084Z"
      },
      {
        "duration": 5,
        "start_time": "2022-01-17T12:34:50.164Z"
      },
      {
        "duration": 6220,
        "start_time": "2022-01-17T12:34:50.171Z"
      },
      {
        "duration": 3,
        "start_time": "2022-01-17T12:35:16.395Z"
      },
      {
        "duration": 165,
        "start_time": "2022-01-17T12:35:16.400Z"
      },
      {
        "duration": 78,
        "start_time": "2022-01-17T12:35:16.567Z"
      },
      {
        "duration": 5,
        "start_time": "2022-01-17T12:35:16.647Z"
      },
      {
        "duration": 4388,
        "start_time": "2022-01-17T12:35:16.654Z"
      },
      {
        "duration": 2,
        "start_time": "2022-01-17T12:36:35.126Z"
      },
      {
        "duration": 150,
        "start_time": "2022-01-17T12:36:35.130Z"
      },
      {
        "duration": 79,
        "start_time": "2022-01-17T12:36:35.282Z"
      },
      {
        "duration": 6,
        "start_time": "2022-01-17T12:36:35.362Z"
      },
      {
        "duration": 4481,
        "start_time": "2022-01-17T12:36:35.370Z"
      },
      {
        "duration": 3,
        "start_time": "2022-01-17T12:47:00.708Z"
      },
      {
        "duration": 176,
        "start_time": "2022-01-17T12:47:00.712Z"
      },
      {
        "duration": 82,
        "start_time": "2022-01-17T12:47:00.890Z"
      },
      {
        "duration": 6,
        "start_time": "2022-01-17T12:47:00.973Z"
      },
      {
        "duration": 4787,
        "start_time": "2022-01-17T12:47:00.981Z"
      },
      {
        "duration": 380,
        "start_time": "2022-01-17T12:47:05.769Z"
      },
      {
        "duration": 2,
        "start_time": "2022-01-17T12:47:39.838Z"
      },
      {
        "duration": 149,
        "start_time": "2022-01-17T12:47:39.843Z"
      },
      {
        "duration": 76,
        "start_time": "2022-01-17T12:47:39.994Z"
      },
      {
        "duration": 5,
        "start_time": "2022-01-17T12:47:40.072Z"
      },
      {
        "duration": 4553,
        "start_time": "2022-01-17T12:47:40.079Z"
      },
      {
        "duration": 299,
        "start_time": "2022-01-17T12:47:44.641Z"
      },
      {
        "duration": 12152,
        "start_time": "2022-01-17T12:57:04.726Z"
      },
      {
        "duration": 15111,
        "start_time": "2022-01-17T12:59:04.268Z"
      },
      {
        "duration": 7003,
        "start_time": "2022-01-17T13:00:06.668Z"
      },
      {
        "duration": 6806,
        "start_time": "2022-01-17T13:00:51.975Z"
      },
      {
        "duration": 241,
        "start_time": "2022-01-17T13:00:58.783Z"
      },
      {
        "duration": 7213,
        "start_time": "2022-01-17T13:01:21.404Z"
      },
      {
        "duration": 305,
        "start_time": "2022-01-17T13:02:28.351Z"
      },
      {
        "duration": 6333,
        "start_time": "2022-01-17T13:02:42.335Z"
      },
      {
        "duration": 3,
        "start_time": "2022-01-17T13:03:22.881Z"
      },
      {
        "duration": 164,
        "start_time": "2022-01-17T13:03:22.886Z"
      },
      {
        "duration": 37,
        "start_time": "2022-01-17T13:03:23.052Z"
      },
      {
        "duration": 5,
        "start_time": "2022-01-17T13:03:23.090Z"
      },
      {
        "duration": 4499,
        "start_time": "2022-01-17T13:03:23.097Z"
      },
      {
        "duration": 240,
        "start_time": "2022-01-17T13:03:27.598Z"
      },
      {
        "duration": 679,
        "start_time": "2022-01-17T18:45:04.597Z"
      },
      {
        "duration": 151,
        "start_time": "2022-01-17T18:45:05.278Z"
      },
      {
        "duration": 78,
        "start_time": "2022-01-17T18:45:05.431Z"
      },
      {
        "duration": 5,
        "start_time": "2022-01-17T18:45:05.511Z"
      },
      {
        "duration": 6140,
        "start_time": "2022-01-17T18:45:05.518Z"
      },
      {
        "duration": 232,
        "start_time": "2022-01-17T18:45:11.660Z"
      },
      {
        "duration": 695,
        "start_time": "2022-01-18T10:58:44.169Z"
      },
      {
        "duration": 260,
        "start_time": "2022-01-18T10:58:44.866Z"
      },
      {
        "duration": 115,
        "start_time": "2022-01-18T10:58:45.129Z"
      },
      {
        "duration": 8,
        "start_time": "2022-01-18T10:58:45.247Z"
      },
      {
        "duration": 10125,
        "start_time": "2022-01-18T10:58:45.258Z"
      },
      {
        "duration": 58,
        "start_time": "2022-01-18T10:58:55.386Z"
      },
      {
        "duration": 24,
        "start_time": "2022-01-18T10:58:55.446Z"
      },
      {
        "duration": 3,
        "start_time": "2022-01-18T11:08:57.216Z"
      },
      {
        "duration": 238,
        "start_time": "2022-01-18T11:08:57.222Z"
      },
      {
        "duration": 104,
        "start_time": "2022-01-18T11:08:57.463Z"
      },
      {
        "duration": 10,
        "start_time": "2022-01-18T11:08:57.569Z"
      },
      {
        "duration": 10072,
        "start_time": "2022-01-18T11:08:57.581Z"
      },
      {
        "duration": 34,
        "start_time": "2022-01-18T11:09:07.655Z"
      },
      {
        "duration": 54,
        "start_time": "2022-01-18T11:09:07.692Z"
      },
      {
        "duration": 432,
        "start_time": "2022-01-18T11:14:24.886Z"
      },
      {
        "duration": 31,
        "start_time": "2022-01-18T11:14:42.508Z"
      },
      {
        "duration": 23,
        "start_time": "2022-01-18T11:14:57.937Z"
      },
      {
        "duration": 22,
        "start_time": "2022-01-18T11:15:15.642Z"
      },
      {
        "duration": 50,
        "start_time": "2022-01-18T11:23:51.905Z"
      },
      {
        "duration": 59,
        "start_time": "2022-01-18T11:26:38.905Z"
      },
      {
        "duration": 1040,
        "start_time": "2022-01-18T11:27:58.645Z"
      },
      {
        "duration": 38,
        "start_time": "2022-01-18T11:34:48.846Z"
      },
      {
        "duration": 4,
        "start_time": "2022-01-18T11:35:23.187Z"
      },
      {
        "duration": 257,
        "start_time": "2022-01-18T11:35:23.195Z"
      },
      {
        "duration": 108,
        "start_time": "2022-01-18T11:35:23.456Z"
      },
      {
        "duration": 10,
        "start_time": "2022-01-18T11:35:23.567Z"
      },
      {
        "duration": 9981,
        "start_time": "2022-01-18T11:35:23.580Z"
      },
      {
        "duration": 36,
        "start_time": "2022-01-18T11:35:33.564Z"
      },
      {
        "duration": 37,
        "start_time": "2022-01-18T11:35:33.623Z"
      },
      {
        "duration": 63,
        "start_time": "2022-01-18T11:35:33.662Z"
      },
      {
        "duration": 54,
        "start_time": "2022-01-18T11:35:33.730Z"
      },
      {
        "duration": 1060,
        "start_time": "2022-01-18T11:35:33.786Z"
      },
      {
        "duration": 38,
        "start_time": "2022-01-18T11:35:34.848Z"
      },
      {
        "duration": 68,
        "start_time": "2022-01-18T11:35:34.888Z"
      },
      {
        "duration": 4,
        "start_time": "2022-01-18T11:43:14.356Z"
      },
      {
        "duration": 229,
        "start_time": "2022-01-18T11:43:14.363Z"
      },
      {
        "duration": 113,
        "start_time": "2022-01-18T11:43:14.625Z"
      },
      {
        "duration": 8,
        "start_time": "2022-01-18T11:43:14.742Z"
      },
      {
        "duration": 10627,
        "start_time": "2022-01-18T11:43:14.753Z"
      },
      {
        "duration": 47,
        "start_time": "2022-01-18T11:43:25.382Z"
      },
      {
        "duration": 34,
        "start_time": "2022-01-18T11:43:25.432Z"
      },
      {
        "duration": 67,
        "start_time": "2022-01-18T11:43:25.468Z"
      },
      {
        "duration": 51,
        "start_time": "2022-01-18T11:43:25.539Z"
      },
      {
        "duration": 1078,
        "start_time": "2022-01-18T11:43:25.592Z"
      },
      {
        "duration": 36,
        "start_time": "2022-01-18T11:43:26.673Z"
      },
      {
        "duration": 51,
        "start_time": "2022-01-18T11:43:26.711Z"
      },
      {
        "duration": 406,
        "start_time": "2022-01-18T11:49:32.063Z"
      },
      {
        "duration": 3,
        "start_time": "2022-01-18T11:52:23.361Z"
      },
      {
        "duration": 220,
        "start_time": "2022-01-18T11:52:23.367Z"
      },
      {
        "duration": 111,
        "start_time": "2022-01-18T11:52:23.626Z"
      },
      {
        "duration": 9,
        "start_time": "2022-01-18T11:52:23.740Z"
      },
      {
        "duration": 9934,
        "start_time": "2022-01-18T11:52:23.752Z"
      },
      {
        "duration": 46,
        "start_time": "2022-01-18T11:52:33.688Z"
      },
      {
        "duration": 34,
        "start_time": "2022-01-18T11:52:33.737Z"
      },
      {
        "duration": 73,
        "start_time": "2022-01-18T11:52:33.773Z"
      },
      {
        "duration": 51,
        "start_time": "2022-01-18T11:52:33.849Z"
      },
      {
        "duration": 1130,
        "start_time": "2022-01-18T11:52:33.903Z"
      },
      {
        "duration": 47,
        "start_time": "2022-01-18T11:52:35.037Z"
      },
      {
        "duration": 62,
        "start_time": "2022-01-18T11:52:35.086Z"
      },
      {
        "duration": 313,
        "start_time": "2022-01-18T11:52:35.150Z"
      },
      {
        "duration": 397,
        "start_time": "2022-01-18T11:52:35.466Z"
      },
      {
        "duration": 318,
        "start_time": "2022-01-18T11:52:35.865Z"
      },
      {
        "duration": 342,
        "start_time": "2022-01-18T11:52:36.185Z"
      },
      {
        "duration": 360,
        "start_time": "2022-01-18T11:52:36.530Z"
      },
      {
        "duration": 311,
        "start_time": "2022-01-18T11:52:36.892Z"
      },
      {
        "duration": 553,
        "start_time": "2022-01-18T11:53:42.336Z"
      },
      {
        "duration": 584,
        "start_time": "2022-01-18T11:53:57.846Z"
      },
      {
        "duration": 577,
        "start_time": "2022-01-18T11:54:07.259Z"
      },
      {
        "duration": 652,
        "start_time": "2022-01-18T11:54:20.143Z"
      },
      {
        "duration": 443,
        "start_time": "2022-01-18T11:54:29.683Z"
      },
      {
        "duration": 603,
        "start_time": "2022-01-18T11:54:39.404Z"
      },
      {
        "duration": 578,
        "start_time": "2022-01-18T11:54:47.572Z"
      },
      {
        "duration": 568,
        "start_time": "2022-01-18T11:54:54.186Z"
      },
      {
        "duration": 340,
        "start_time": "2022-01-18T11:55:02.062Z"
      },
      {
        "duration": 435,
        "start_time": "2022-01-18T11:55:09.879Z"
      },
      {
        "duration": 558,
        "start_time": "2022-01-18T11:55:17.418Z"
      },
      {
        "duration": 461,
        "start_time": "2022-01-18T11:55:28.151Z"
      },
      {
        "duration": 425,
        "start_time": "2022-01-18T11:55:39.998Z"
      },
      {
        "duration": 407,
        "start_time": "2022-01-18T11:56:12.396Z"
      },
      {
        "duration": 549,
        "start_time": "2022-01-18T11:56:25.871Z"
      },
      {
        "duration": 584,
        "start_time": "2022-01-18T11:59:19.510Z"
      },
      {
        "duration": 3,
        "start_time": "2022-01-18T12:00:25.104Z"
      },
      {
        "duration": 349,
        "start_time": "2022-01-18T12:00:25.110Z"
      },
      {
        "duration": 105,
        "start_time": "2022-01-18T12:00:25.464Z"
      },
      {
        "duration": 53,
        "start_time": "2022-01-18T12:00:25.572Z"
      },
      {
        "duration": 10370,
        "start_time": "2022-01-18T12:00:25.628Z"
      },
      {
        "duration": 42,
        "start_time": "2022-01-18T12:00:36.001Z"
      },
      {
        "duration": 37,
        "start_time": "2022-01-18T12:00:36.047Z"
      },
      {
        "duration": 87,
        "start_time": "2022-01-18T12:00:36.087Z"
      },
      {
        "duration": 63,
        "start_time": "2022-01-18T12:00:36.177Z"
      },
      {
        "duration": 1362,
        "start_time": "2022-01-18T12:00:36.243Z"
      },
      {
        "duration": 53,
        "start_time": "2022-01-18T12:00:37.608Z"
      },
      {
        "duration": 37,
        "start_time": "2022-01-18T12:00:37.664Z"
      },
      {
        "duration": 670,
        "start_time": "2022-01-18T12:00:37.703Z"
      },
      {
        "duration": 602,
        "start_time": "2022-01-18T12:00:38.375Z"
      },
      {
        "duration": 694,
        "start_time": "2022-01-18T12:00:38.980Z"
      },
      {
        "duration": 452,
        "start_time": "2022-01-18T12:00:39.677Z"
      },
      {
        "duration": 469,
        "start_time": "2022-01-18T12:00:40.132Z"
      },
      {
        "duration": 458,
        "start_time": "2022-01-18T12:00:40.604Z"
      },
      {
        "duration": 136,
        "start_time": "2022-01-18T12:01:05.945Z"
      },
      {
        "duration": 4,
        "start_time": "2022-01-18T12:42:03.541Z"
      },
      {
        "duration": 221,
        "start_time": "2022-01-18T12:42:03.548Z"
      },
      {
        "duration": 103,
        "start_time": "2022-01-18T12:42:03.772Z"
      },
      {
        "duration": 51,
        "start_time": "2022-01-18T12:42:03.878Z"
      },
      {
        "duration": 167,
        "start_time": "2022-01-18T12:42:03.933Z"
      },
      {
        "duration": 9961,
        "start_time": "2022-01-18T12:42:04.102Z"
      },
      {
        "duration": 19,
        "start_time": "2022-01-18T12:42:14.065Z"
      },
      {
        "duration": 60,
        "start_time": "2022-01-18T12:42:14.086Z"
      },
      {
        "duration": 31,
        "start_time": "2022-01-18T12:42:14.150Z"
      },
      {
        "duration": 68,
        "start_time": "2022-01-18T12:42:14.183Z"
      },
      {
        "duration": 52,
        "start_time": "2022-01-18T12:42:14.253Z"
      },
      {
        "duration": 1192,
        "start_time": "2022-01-18T12:42:14.324Z"
      },
      {
        "duration": 42,
        "start_time": "2022-01-18T12:42:15.523Z"
      },
      {
        "duration": 58,
        "start_time": "2022-01-18T12:42:15.567Z"
      },
      {
        "duration": 568,
        "start_time": "2022-01-18T12:42:15.627Z"
      },
      {
        "duration": 588,
        "start_time": "2022-01-18T12:42:16.198Z"
      },
      {
        "duration": 682,
        "start_time": "2022-01-18T12:42:16.789Z"
      },
      {
        "duration": 455,
        "start_time": "2022-01-18T12:42:17.473Z"
      },
      {
        "duration": 480,
        "start_time": "2022-01-18T12:42:17.935Z"
      },
      {
        "duration": 439,
        "start_time": "2022-01-18T12:42:18.423Z"
      },
      {
        "duration": 153,
        "start_time": "2022-01-18T12:42:18.865Z"
      },
      {
        "duration": 479,
        "start_time": "2022-01-18T12:48:36.384Z"
      },
      {
        "duration": 4,
        "start_time": "2022-01-18T12:49:37.414Z"
      },
      {
        "duration": 416,
        "start_time": "2022-01-18T12:49:37.421Z"
      },
      {
        "duration": 98,
        "start_time": "2022-01-18T12:49:37.840Z"
      },
      {
        "duration": 9,
        "start_time": "2022-01-18T12:49:37.940Z"
      },
      {
        "duration": 178,
        "start_time": "2022-01-18T12:49:37.952Z"
      },
      {
        "duration": 9845,
        "start_time": "2022-01-18T12:49:38.133Z"
      },
      {
        "duration": 20,
        "start_time": "2022-01-18T12:49:47.980Z"
      },
      {
        "duration": 54,
        "start_time": "2022-01-18T12:49:48.003Z"
      },
      {
        "duration": 503,
        "start_time": "2022-01-18T12:49:48.062Z"
      },
      {
        "duration": -36892,
        "start_time": "2022-01-18T12:50:25.460Z"
      },
      {
        "duration": -36894,
        "start_time": "2022-01-18T12:50:25.463Z"
      },
      {
        "duration": -36893,
        "start_time": "2022-01-18T12:50:25.464Z"
      },
      {
        "duration": -36894,
        "start_time": "2022-01-18T12:50:25.466Z"
      },
      {
        "duration": -36894,
        "start_time": "2022-01-18T12:50:25.468Z"
      },
      {
        "duration": -36894,
        "start_time": "2022-01-18T12:50:25.469Z"
      },
      {
        "duration": -36902,
        "start_time": "2022-01-18T12:50:25.478Z"
      },
      {
        "duration": -36907,
        "start_time": "2022-01-18T12:50:25.484Z"
      },
      {
        "duration": -36906,
        "start_time": "2022-01-18T12:50:25.485Z"
      },
      {
        "duration": -36907,
        "start_time": "2022-01-18T12:50:25.487Z"
      },
      {
        "duration": -36907,
        "start_time": "2022-01-18T12:50:25.489Z"
      },
      {
        "duration": -36908,
        "start_time": "2022-01-18T12:50:25.491Z"
      },
      {
        "duration": -36908,
        "start_time": "2022-01-18T12:50:25.492Z"
      },
      {
        "duration": 5,
        "start_time": "2022-01-18T12:50:24.776Z"
      },
      {
        "duration": 248,
        "start_time": "2022-01-18T12:50:24.784Z"
      },
      {
        "duration": 111,
        "start_time": "2022-01-18T12:50:25.037Z"
      },
      {
        "duration": 9,
        "start_time": "2022-01-18T12:50:25.151Z"
      },
      {
        "duration": 181,
        "start_time": "2022-01-18T12:50:25.163Z"
      },
      {
        "duration": 10014,
        "start_time": "2022-01-18T12:50:25.346Z"
      },
      {
        "duration": 17,
        "start_time": "2022-01-18T12:50:35.363Z"
      },
      {
        "duration": 50,
        "start_time": "2022-01-18T12:50:35.383Z"
      },
      {
        "duration": 31,
        "start_time": "2022-01-18T12:50:35.436Z"
      },
      {
        "duration": 65,
        "start_time": "2022-01-18T12:50:35.470Z"
      },
      {
        "duration": 53,
        "start_time": "2022-01-18T12:50:35.538Z"
      },
      {
        "duration": 1093,
        "start_time": "2022-01-18T12:50:35.594Z"
      },
      {
        "duration": 52,
        "start_time": "2022-01-18T12:50:36.690Z"
      },
      {
        "duration": 38,
        "start_time": "2022-01-18T12:50:36.745Z"
      },
      {
        "duration": 576,
        "start_time": "2022-01-18T12:50:36.785Z"
      },
      {
        "duration": 594,
        "start_time": "2022-01-18T12:50:37.364Z"
      },
      {
        "duration": 591,
        "start_time": "2022-01-18T12:50:37.961Z"
      },
      {
        "duration": 440,
        "start_time": "2022-01-18T12:50:38.555Z"
      },
      {
        "duration": 473,
        "start_time": "2022-01-18T12:50:38.997Z"
      },
      {
        "duration": 617,
        "start_time": "2022-01-18T12:50:39.473Z"
      },
      {
        "duration": 154,
        "start_time": "2022-01-18T12:50:40.093Z"
      },
      {
        "duration": 465,
        "start_time": "2022-01-18T12:50:40.250Z"
      },
      {
        "duration": 564,
        "start_time": "2022-01-18T12:51:07.500Z"
      },
      {
        "duration": 3306,
        "start_time": "2022-01-18T12:51:23.970Z"
      },
      {
        "duration": 1858,
        "start_time": "2022-01-18T12:51:38.460Z"
      },
      {
        "duration": 827,
        "start_time": "2022-01-18T12:55:05.609Z"
      },
      {
        "duration": 3,
        "start_time": "2022-01-18T12:56:20.312Z"
      },
      {
        "duration": 258,
        "start_time": "2022-01-18T12:56:20.318Z"
      },
      {
        "duration": 148,
        "start_time": "2022-01-18T12:56:20.580Z"
      },
      {
        "duration": 13,
        "start_time": "2022-01-18T12:56:20.731Z"
      },
      {
        "duration": 200,
        "start_time": "2022-01-18T12:56:20.747Z"
      },
      {
        "duration": 10897,
        "start_time": "2022-01-18T12:56:20.949Z"
      },
      {
        "duration": 20,
        "start_time": "2022-01-18T12:56:31.848Z"
      },
      {
        "duration": 61,
        "start_time": "2022-01-18T12:56:31.872Z"
      },
      {
        "duration": 34,
        "start_time": "2022-01-18T12:56:31.938Z"
      },
      {
        "duration": 79,
        "start_time": "2022-01-18T12:56:31.975Z"
      },
      {
        "duration": 68,
        "start_time": "2022-01-18T12:56:32.057Z"
      },
      {
        "duration": 1098,
        "start_time": "2022-01-18T12:56:32.127Z"
      },
      {
        "duration": 48,
        "start_time": "2022-01-18T12:56:33.228Z"
      },
      {
        "duration": 73,
        "start_time": "2022-01-18T12:56:33.279Z"
      },
      {
        "duration": 572,
        "start_time": "2022-01-18T12:56:33.355Z"
      },
      {
        "duration": 606,
        "start_time": "2022-01-18T12:56:33.931Z"
      },
      {
        "duration": 585,
        "start_time": "2022-01-18T12:56:34.541Z"
      },
      {
        "duration": 455,
        "start_time": "2022-01-18T12:56:35.129Z"
      },
      {
        "duration": 613,
        "start_time": "2022-01-18T12:56:35.587Z"
      },
      {
        "duration": 489,
        "start_time": "2022-01-18T12:56:36.203Z"
      },
      {
        "duration": 164,
        "start_time": "2022-01-18T12:56:36.695Z"
      },
      {
        "duration": 601,
        "start_time": "2022-01-18T12:56:36.861Z"
      },
      {
        "duration": 640,
        "start_time": "2022-01-18T13:07:21.326Z"
      },
      {
        "duration": 616,
        "start_time": "2022-01-18T13:07:41.024Z"
      },
      {
        "duration": 606,
        "start_time": "2022-01-18T13:07:52.865Z"
      },
      {
        "duration": 1101,
        "start_time": "2022-01-18T13:08:00.136Z"
      },
      {
        "duration": 419,
        "start_time": "2022-01-18T13:08:16.675Z"
      },
      {
        "duration": 452,
        "start_time": "2022-01-18T13:08:22.796Z"
      },
      {
        "duration": 430,
        "start_time": "2022-01-18T13:08:33.115Z"
      },
      {
        "duration": 434,
        "start_time": "2022-01-18T13:08:37.722Z"
      },
      {
        "duration": 429,
        "start_time": "2022-01-18T13:08:44.954Z"
      },
      {
        "duration": 431,
        "start_time": "2022-01-18T13:08:49.100Z"
      },
      {
        "duration": 145,
        "start_time": "2022-01-18T13:08:59.493Z"
      },
      {
        "duration": 453,
        "start_time": "2022-01-18T13:09:05.143Z"
      },
      {
        "duration": 656,
        "start_time": "2022-01-18T13:09:29.872Z"
      },
      {
        "duration": 449,
        "start_time": "2022-01-18T13:09:39.962Z"
      },
      {
        "duration": 454,
        "start_time": "2022-01-18T13:10:06.759Z"
      },
      {
        "duration": 919,
        "start_time": "2022-01-18T13:10:39.788Z"
      },
      {
        "duration": 650,
        "start_time": "2022-01-18T13:11:13.644Z"
      },
      {
        "duration": 690,
        "start_time": "2022-01-18T13:11:25.412Z"
      },
      {
        "duration": 660,
        "start_time": "2022-01-18T13:11:39.691Z"
      },
      {
        "duration": 446,
        "start_time": "2022-01-18T13:11:48.157Z"
      },
      {
        "duration": 772,
        "start_time": "2022-01-19T09:45:46.659Z"
      },
      {
        "duration": 249,
        "start_time": "2022-01-19T09:45:47.434Z"
      },
      {
        "duration": 103,
        "start_time": "2022-01-19T09:45:47.686Z"
      },
      {
        "duration": 9,
        "start_time": "2022-01-19T09:45:47.791Z"
      },
      {
        "duration": 186,
        "start_time": "2022-01-19T09:45:47.802Z"
      },
      {
        "duration": 9919,
        "start_time": "2022-01-19T09:45:47.990Z"
      },
      {
        "duration": 17,
        "start_time": "2022-01-19T09:45:57.911Z"
      },
      {
        "duration": 53,
        "start_time": "2022-01-19T09:45:57.932Z"
      },
      {
        "duration": 32,
        "start_time": "2022-01-19T09:45:57.988Z"
      },
      {
        "duration": 64,
        "start_time": "2022-01-19T09:45:58.022Z"
      },
      {
        "duration": 51,
        "start_time": "2022-01-19T09:45:58.088Z"
      },
      {
        "duration": 1132,
        "start_time": "2022-01-19T09:45:58.141Z"
      },
      {
        "duration": 37,
        "start_time": "2022-01-19T09:45:59.275Z"
      },
      {
        "duration": 62,
        "start_time": "2022-01-19T09:45:59.315Z"
      },
      {
        "duration": 711,
        "start_time": "2022-01-19T09:45:59.379Z"
      },
      {
        "duration": 596,
        "start_time": "2022-01-19T09:46:00.093Z"
      },
      {
        "duration": 628,
        "start_time": "2022-01-19T09:46:00.692Z"
      },
      {
        "duration": 446,
        "start_time": "2022-01-19T09:46:01.323Z"
      },
      {
        "duration": 440,
        "start_time": "2022-01-19T09:46:01.771Z"
      },
      {
        "duration": 443,
        "start_time": "2022-01-19T09:46:02.213Z"
      },
      {
        "duration": 146,
        "start_time": "2022-01-19T09:46:02.658Z"
      },
      {
        "duration": 590,
        "start_time": "2022-01-19T09:46:02.807Z"
      },
      {
        "duration": 3,
        "start_time": "2022-01-19T09:46:03.402Z"
      },
      {
        "duration": 12,
        "start_time": "2022-01-19T09:46:03.408Z"
      },
      {
        "duration": 12,
        "start_time": "2022-01-19T09:46:03.422Z"
      },
      {
        "duration": 11,
        "start_time": "2022-01-19T09:46:03.437Z"
      },
      {
        "duration": 21,
        "start_time": "2022-01-19T09:46:03.450Z"
      },
      {
        "duration": 108,
        "start_time": "2022-01-19T09:46:41.051Z"
      },
      {
        "duration": 25,
        "start_time": "2022-01-19T09:47:57.761Z"
      },
      {
        "duration": 421,
        "start_time": "2022-01-19T09:48:43.368Z"
      },
      {
        "duration": 330,
        "start_time": "2022-01-19T09:49:44.974Z"
      },
      {
        "duration": 547,
        "start_time": "2022-01-19T09:49:55.943Z"
      },
      {
        "duration": 405,
        "start_time": "2022-01-19T09:50:48.789Z"
      },
      {
        "duration": 446,
        "start_time": "2022-01-19T09:50:58.504Z"
      },
      {
        "duration": 446,
        "start_time": "2022-01-19T09:51:07.384Z"
      },
      {
        "duration": 564,
        "start_time": "2022-01-19T09:51:16.212Z"
      },
      {
        "duration": 439,
        "start_time": "2022-01-19T09:51:25.234Z"
      },
      {
        "duration": 420,
        "start_time": "2022-01-19T09:51:43.556Z"
      },
      {
        "duration": 449,
        "start_time": "2022-01-19T09:51:54.552Z"
      },
      {
        "duration": 400,
        "start_time": "2022-01-19T09:52:02.259Z"
      },
      {
        "duration": 501,
        "start_time": "2022-01-19T09:52:12.170Z"
      },
      {
        "duration": 401,
        "start_time": "2022-01-19T09:52:24.083Z"
      },
      {
        "duration": 444,
        "start_time": "2022-01-19T09:52:34.771Z"
      },
      {
        "duration": 405,
        "start_time": "2022-01-19T09:52:46.335Z"
      },
      {
        "duration": 24,
        "start_time": "2022-01-19T09:53:27.714Z"
      },
      {
        "duration": 3,
        "start_time": "2022-01-19T09:53:36.748Z"
      },
      {
        "duration": 233,
        "start_time": "2022-01-19T09:53:36.754Z"
      },
      {
        "duration": 105,
        "start_time": "2022-01-19T09:53:36.989Z"
      },
      {
        "duration": 8,
        "start_time": "2022-01-19T09:53:37.097Z"
      },
      {
        "duration": 173,
        "start_time": "2022-01-19T09:53:37.107Z"
      },
      {
        "duration": 9710,
        "start_time": "2022-01-19T09:53:37.283Z"
      },
      {
        "duration": 17,
        "start_time": "2022-01-19T09:53:46.996Z"
      },
      {
        "duration": 28,
        "start_time": "2022-01-19T09:53:47.016Z"
      },
      {
        "duration": 31,
        "start_time": "2022-01-19T09:53:47.070Z"
      },
      {
        "duration": 38,
        "start_time": "2022-01-19T09:53:47.103Z"
      },
      {
        "duration": 51,
        "start_time": "2022-01-19T09:53:47.170Z"
      },
      {
        "duration": 1022,
        "start_time": "2022-01-19T09:53:47.223Z"
      },
      {
        "duration": 53,
        "start_time": "2022-01-19T09:53:48.247Z"
      },
      {
        "duration": 37,
        "start_time": "2022-01-19T09:53:48.303Z"
      },
      {
        "duration": 594,
        "start_time": "2022-01-19T09:53:48.343Z"
      },
      {
        "duration": 582,
        "start_time": "2022-01-19T09:53:48.939Z"
      },
      {
        "duration": 641,
        "start_time": "2022-01-19T09:53:49.524Z"
      },
      {
        "duration": 555,
        "start_time": "2022-01-19T09:53:50.169Z"
      },
      {
        "duration": 452,
        "start_time": "2022-01-19T09:53:50.726Z"
      },
      {
        "duration": 439,
        "start_time": "2022-01-19T09:53:51.180Z"
      },
      {
        "duration": 147,
        "start_time": "2022-01-19T09:53:51.622Z"
      },
      {
        "duration": 592,
        "start_time": "2022-01-19T09:53:51.772Z"
      },
      {
        "duration": 3,
        "start_time": "2022-01-19T09:53:52.371Z"
      },
      {
        "duration": 7,
        "start_time": "2022-01-19T09:53:52.377Z"
      },
      {
        "duration": 6,
        "start_time": "2022-01-19T09:53:52.386Z"
      },
      {
        "duration": 6,
        "start_time": "2022-01-19T09:53:52.395Z"
      },
      {
        "duration": 7,
        "start_time": "2022-01-19T09:53:52.404Z"
      },
      {
        "duration": 583,
        "start_time": "2022-01-19T09:55:38.193Z"
      },
      {
        "duration": 583,
        "start_time": "2022-01-19T09:57:12.097Z"
      },
      {
        "duration": 677,
        "start_time": "2022-01-19T09:57:43.401Z"
      },
      {
        "duration": 4,
        "start_time": "2022-01-19T10:05:43.820Z"
      },
      {
        "duration": 246,
        "start_time": "2022-01-19T10:05:43.827Z"
      },
      {
        "duration": 108,
        "start_time": "2022-01-19T10:05:44.076Z"
      },
      {
        "duration": 8,
        "start_time": "2022-01-19T10:05:44.187Z"
      },
      {
        "duration": 176,
        "start_time": "2022-01-19T10:05:44.198Z"
      },
      {
        "duration": 9680,
        "start_time": "2022-01-19T10:05:44.377Z"
      },
      {
        "duration": 20,
        "start_time": "2022-01-19T10:05:54.060Z"
      },
      {
        "duration": 32,
        "start_time": "2022-01-19T10:05:54.086Z"
      },
      {
        "duration": 75,
        "start_time": "2022-01-19T10:05:54.122Z"
      },
      {
        "duration": 41,
        "start_time": "2022-01-19T10:05:54.200Z"
      },
      {
        "duration": 53,
        "start_time": "2022-01-19T10:05:54.270Z"
      },
      {
        "duration": 995,
        "start_time": "2022-01-19T10:05:54.325Z"
      },
      {
        "duration": 51,
        "start_time": "2022-01-19T10:05:55.322Z"
      },
      {
        "duration": 37,
        "start_time": "2022-01-19T10:05:55.375Z"
      },
      {
        "duration": 580,
        "start_time": "2022-01-19T10:05:55.414Z"
      },
      {
        "duration": 579,
        "start_time": "2022-01-19T10:05:55.997Z"
      },
      {
        "duration": 561,
        "start_time": "2022-01-19T10:05:56.579Z"
      },
      {
        "duration": 487,
        "start_time": "2022-01-19T10:05:57.142Z"
      },
      {
        "duration": 455,
        "start_time": "2022-01-19T10:05:57.631Z"
      },
      {
        "duration": 433,
        "start_time": "2022-01-19T10:05:58.088Z"
      },
      {
        "duration": 148,
        "start_time": "2022-01-19T10:05:58.523Z"
      },
      {
        "duration": 594,
        "start_time": "2022-01-19T10:05:58.673Z"
      },
      {
        "duration": 83,
        "start_time": "2022-01-19T10:05:59.271Z"
      },
      {
        "duration": -37798,
        "start_time": "2022-01-19T10:06:37.155Z"
      },
      {
        "duration": -37798,
        "start_time": "2022-01-19T10:06:37.156Z"
      },
      {
        "duration": -37797,
        "start_time": "2022-01-19T10:06:37.157Z"
      },
      {
        "duration": -37797,
        "start_time": "2022-01-19T10:06:37.158Z"
      },
      {
        "duration": 1574,
        "start_time": "2022-01-19T10:06:24.186Z"
      },
      {
        "duration": 925,
        "start_time": "2022-01-19T10:16:05.713Z"
      },
      {
        "duration": 1140,
        "start_time": "2022-01-19T10:16:43.581Z"
      },
      {
        "duration": 1074,
        "start_time": "2022-01-19T10:17:09.921Z"
      },
      {
        "duration": 965,
        "start_time": "2022-01-19T10:17:44.452Z"
      },
      {
        "duration": 943,
        "start_time": "2022-01-19T10:18:06.810Z"
      },
      {
        "duration": 970,
        "start_time": "2022-01-19T10:19:15.718Z"
      },
      {
        "duration": 882,
        "start_time": "2022-01-19T10:20:30.125Z"
      },
      {
        "duration": 88,
        "start_time": "2022-01-19T10:21:10.434Z"
      },
      {
        "duration": 117,
        "start_time": "2022-01-19T10:21:34.126Z"
      },
      {
        "duration": 352,
        "start_time": "2022-01-19T10:21:44.398Z"
      },
      {
        "duration": 1538,
        "start_time": "2022-01-19T10:22:09.419Z"
      },
      {
        "duration": 882,
        "start_time": "2022-01-19T10:25:04.763Z"
      },
      {
        "duration": 873,
        "start_time": "2022-01-19T10:25:19.218Z"
      },
      {
        "duration": 975,
        "start_time": "2022-01-19T10:25:39.211Z"
      },
      {
        "duration": 3,
        "start_time": "2022-01-19T10:27:45.960Z"
      },
      {
        "duration": 238,
        "start_time": "2022-01-19T10:27:45.967Z"
      },
      {
        "duration": 102,
        "start_time": "2022-01-19T10:27:46.208Z"
      },
      {
        "duration": 9,
        "start_time": "2022-01-19T10:27:46.312Z"
      },
      {
        "duration": 190,
        "start_time": "2022-01-19T10:27:46.323Z"
      },
      {
        "duration": 10116,
        "start_time": "2022-01-19T10:27:46.516Z"
      },
      {
        "duration": 16,
        "start_time": "2022-01-19T10:27:56.635Z"
      },
      {
        "duration": 28,
        "start_time": "2022-01-19T10:27:56.669Z"
      },
      {
        "duration": 32,
        "start_time": "2022-01-19T10:27:56.701Z"
      },
      {
        "duration": 64,
        "start_time": "2022-01-19T10:27:56.736Z"
      },
      {
        "duration": 68,
        "start_time": "2022-01-19T10:27:56.803Z"
      },
      {
        "duration": 1085,
        "start_time": "2022-01-19T10:27:56.873Z"
      },
      {
        "duration": 38,
        "start_time": "2022-01-19T10:27:57.969Z"
      },
      {
        "duration": 42,
        "start_time": "2022-01-19T10:27:58.009Z"
      },
      {
        "duration": 586,
        "start_time": "2022-01-19T10:27:58.069Z"
      },
      {
        "duration": 588,
        "start_time": "2022-01-19T10:27:58.657Z"
      },
      {
        "duration": 549,
        "start_time": "2022-01-19T10:27:59.247Z"
      },
      {
        "duration": 537,
        "start_time": "2022-01-19T10:27:59.798Z"
      },
      {
        "duration": 459,
        "start_time": "2022-01-19T10:28:00.338Z"
      },
      {
        "duration": 554,
        "start_time": "2022-01-19T10:28:00.800Z"
      },
      {
        "duration": 254,
        "start_time": "2022-01-19T10:28:01.357Z"
      },
      {
        "duration": 596,
        "start_time": "2022-01-19T10:28:01.613Z"
      },
      {
        "duration": 260,
        "start_time": "2022-01-19T10:28:02.212Z"
      },
      {
        "duration": 225,
        "start_time": "2022-01-19T10:28:02.475Z"
      },
      {
        "duration": 250,
        "start_time": "2022-01-19T10:28:02.703Z"
      },
      {
        "duration": 241,
        "start_time": "2022-01-19T10:28:02.955Z"
      },
      {
        "duration": 245,
        "start_time": "2022-01-19T10:28:03.202Z"
      },
      {
        "duration": 243,
        "start_time": "2022-01-19T10:28:03.450Z"
      },
      {
        "duration": 242,
        "start_time": "2022-01-19T10:28:03.695Z"
      },
      {
        "duration": 239,
        "start_time": "2022-01-19T10:28:03.940Z"
      },
      {
        "duration": 239,
        "start_time": "2022-01-19T10:28:04.182Z"
      },
      {
        "duration": 233,
        "start_time": "2022-01-19T10:28:04.424Z"
      },
      {
        "duration": 319,
        "start_time": "2022-01-19T10:28:04.660Z"
      },
      {
        "duration": 254,
        "start_time": "2022-01-19T10:28:04.982Z"
      },
      {
        "duration": 314,
        "start_time": "2022-01-19T10:28:05.238Z"
      },
      {
        "duration": 258,
        "start_time": "2022-01-19T10:28:05.554Z"
      },
      {
        "duration": 245,
        "start_time": "2022-01-19T10:28:05.815Z"
      },
      {
        "duration": 263,
        "start_time": "2022-01-19T10:28:06.063Z"
      },
      {
        "duration": 3,
        "start_time": "2022-01-19T10:28:06.329Z"
      },
      {
        "duration": 20,
        "start_time": "2022-01-19T10:28:06.335Z"
      },
      {
        "duration": 12,
        "start_time": "2022-01-19T10:28:06.357Z"
      },
      {
        "duration": 18,
        "start_time": "2022-01-19T10:28:06.371Z"
      },
      {
        "duration": 4,
        "start_time": "2022-01-19T10:37:01.272Z"
      },
      {
        "duration": 250,
        "start_time": "2022-01-19T10:37:01.279Z"
      },
      {
        "duration": 93,
        "start_time": "2022-01-19T10:37:01.532Z"
      },
      {
        "duration": 48,
        "start_time": "2022-01-19T10:37:01.627Z"
      },
      {
        "duration": 161,
        "start_time": "2022-01-19T10:37:01.678Z"
      },
      {
        "duration": 9613,
        "start_time": "2022-01-19T10:37:01.842Z"
      },
      {
        "duration": 22,
        "start_time": "2022-01-19T10:37:11.457Z"
      },
      {
        "duration": 29,
        "start_time": "2022-01-19T10:37:11.482Z"
      },
      {
        "duration": 65,
        "start_time": "2022-01-19T10:37:11.514Z"
      },
      {
        "duration": 39,
        "start_time": "2022-01-19T10:37:11.582Z"
      },
      {
        "duration": 82,
        "start_time": "2022-01-19T10:37:11.624Z"
      },
      {
        "duration": 1022,
        "start_time": "2022-01-19T10:37:11.708Z"
      },
      {
        "duration": 52,
        "start_time": "2022-01-19T10:37:12.732Z"
      },
      {
        "duration": 37,
        "start_time": "2022-01-19T10:37:12.786Z"
      },
      {
        "duration": 687,
        "start_time": "2022-01-19T10:37:12.825Z"
      },
      {
        "duration": 693,
        "start_time": "2022-01-19T10:37:13.515Z"
      },
      {
        "duration": 567,
        "start_time": "2022-01-19T10:37:14.211Z"
      },
      {
        "duration": 426,
        "start_time": "2022-01-19T10:37:14.781Z"
      },
      {
        "duration": 450,
        "start_time": "2022-01-19T10:37:15.210Z"
      },
      {
        "duration": 454,
        "start_time": "2022-01-19T10:37:15.664Z"
      },
      {
        "duration": 142,
        "start_time": "2022-01-19T10:37:16.120Z"
      },
      {
        "duration": 585,
        "start_time": "2022-01-19T10:37:16.264Z"
      },
      {
        "duration": 580,
        "start_time": "2022-01-19T10:37:16.854Z"
      },
      {
        "duration": -37885,
        "start_time": "2022-01-19T10:37:55.322Z"
      },
      {
        "duration": -37885,
        "start_time": "2022-01-19T10:37:55.323Z"
      },
      {
        "duration": -37886,
        "start_time": "2022-01-19T10:37:55.325Z"
      },
      {
        "duration": -37885,
        "start_time": "2022-01-19T10:37:55.326Z"
      },
      {
        "duration": -37888,
        "start_time": "2022-01-19T10:37:55.330Z"
      },
      {
        "duration": -37888,
        "start_time": "2022-01-19T10:37:55.331Z"
      },
      {
        "duration": -37891,
        "start_time": "2022-01-19T10:37:55.336Z"
      },
      {
        "duration": -37891,
        "start_time": "2022-01-19T10:37:55.337Z"
      },
      {
        "duration": -37893,
        "start_time": "2022-01-19T10:37:55.340Z"
      },
      {
        "duration": -37892,
        "start_time": "2022-01-19T10:37:55.341Z"
      },
      {
        "duration": -37892,
        "start_time": "2022-01-19T10:37:55.342Z"
      },
      {
        "duration": -37899,
        "start_time": "2022-01-19T10:37:55.350Z"
      },
      {
        "duration": -37899,
        "start_time": "2022-01-19T10:37:55.351Z"
      },
      {
        "duration": -37899,
        "start_time": "2022-01-19T10:37:55.352Z"
      },
      {
        "duration": -37899,
        "start_time": "2022-01-19T10:37:55.353Z"
      },
      {
        "duration": -37899,
        "start_time": "2022-01-19T10:37:55.354Z"
      },
      {
        "duration": -37886,
        "start_time": "2022-01-19T10:37:55.355Z"
      },
      {
        "duration": -37886,
        "start_time": "2022-01-19T10:37:55.356Z"
      },
      {
        "duration": -37889,
        "start_time": "2022-01-19T10:37:55.360Z"
      },
      {
        "duration": 539,
        "start_time": "2022-01-19T10:38:10.244Z"
      },
      {
        "duration": 433,
        "start_time": "2022-01-19T10:38:40.979Z"
      },
      {
        "duration": 5,
        "start_time": "2022-01-19T10:39:48.841Z"
      },
      {
        "duration": 237,
        "start_time": "2022-01-19T10:39:48.849Z"
      },
      {
        "duration": 97,
        "start_time": "2022-01-19T10:39:49.089Z"
      },
      {
        "duration": 9,
        "start_time": "2022-01-19T10:39:49.189Z"
      },
      {
        "duration": 176,
        "start_time": "2022-01-19T10:39:49.200Z"
      },
      {
        "duration": 9791,
        "start_time": "2022-01-19T10:39:49.378Z"
      },
      {
        "duration": 22,
        "start_time": "2022-01-19T10:39:59.172Z"
      },
      {
        "duration": 29,
        "start_time": "2022-01-19T10:39:59.198Z"
      },
      {
        "duration": 63,
        "start_time": "2022-01-19T10:39:59.230Z"
      },
      {
        "duration": 38,
        "start_time": "2022-01-19T10:39:59.296Z"
      },
      {
        "duration": 79,
        "start_time": "2022-01-19T10:39:59.336Z"
      },
      {
        "duration": 1000,
        "start_time": "2022-01-19T10:39:59.417Z"
      },
      {
        "duration": 53,
        "start_time": "2022-01-19T10:40:00.419Z"
      },
      {
        "duration": 39,
        "start_time": "2022-01-19T10:40:00.474Z"
      },
      {
        "duration": 591,
        "start_time": "2022-01-19T10:40:00.516Z"
      },
      {
        "duration": 604,
        "start_time": "2022-01-19T10:40:01.110Z"
      },
      {
        "duration": 575,
        "start_time": "2022-01-19T10:40:01.718Z"
      },
      {
        "duration": 457,
        "start_time": "2022-01-19T10:40:02.296Z"
      },
      {
        "duration": 592,
        "start_time": "2022-01-19T10:40:02.756Z"
      },
      {
        "duration": 548,
        "start_time": "2022-01-19T10:40:03.351Z"
      },
      {
        "duration": 144,
        "start_time": "2022-01-19T10:40:03.901Z"
      },
      {
        "duration": 588,
        "start_time": "2022-01-19T10:40:04.047Z"
      },
      {
        "duration": 338,
        "start_time": "2022-01-19T10:40:04.640Z"
      },
      {
        "duration": 328,
        "start_time": "2022-01-19T10:40:04.981Z"
      },
      {
        "duration": 368,
        "start_time": "2022-01-19T10:40:05.313Z"
      },
      {
        "duration": 304,
        "start_time": "2022-01-19T10:40:05.684Z"
      },
      {
        "duration": 308,
        "start_time": "2022-01-19T10:40:05.990Z"
      },
      {
        "duration": 307,
        "start_time": "2022-01-19T10:40:06.300Z"
      },
      {
        "duration": 306,
        "start_time": "2022-01-19T10:40:06.609Z"
      },
      {
        "duration": 403,
        "start_time": "2022-01-19T10:40:06.918Z"
      },
      {
        "duration": 401,
        "start_time": "2022-01-19T10:40:07.323Z"
      },
      {
        "duration": 314,
        "start_time": "2022-01-19T10:40:07.727Z"
      },
      {
        "duration": 434,
        "start_time": "2022-01-19T10:40:08.043Z"
      },
      {
        "duration": 316,
        "start_time": "2022-01-19T10:40:08.480Z"
      },
      {
        "duration": 297,
        "start_time": "2022-01-19T10:40:08.799Z"
      },
      {
        "duration": 322,
        "start_time": "2022-01-19T10:40:09.099Z"
      },
      {
        "duration": 307,
        "start_time": "2022-01-19T10:40:09.423Z"
      },
      {
        "duration": 322,
        "start_time": "2022-01-19T10:40:09.733Z"
      },
      {
        "duration": 11,
        "start_time": "2022-01-19T10:40:10.058Z"
      },
      {
        "duration": 14,
        "start_time": "2022-01-19T10:40:10.073Z"
      },
      {
        "duration": 7,
        "start_time": "2022-01-19T10:40:10.090Z"
      },
      {
        "duration": 7,
        "start_time": "2022-01-19T10:40:10.099Z"
      },
      {
        "duration": 288,
        "start_time": "2022-01-19T10:40:36.622Z"
      },
      {
        "duration": 451,
        "start_time": "2022-01-19T10:40:49.546Z"
      },
      {
        "duration": 311,
        "start_time": "2022-01-19T10:41:12.958Z"
      },
      {
        "duration": 302,
        "start_time": "2022-01-19T10:41:19.324Z"
      },
      {
        "duration": 322,
        "start_time": "2022-01-19T10:41:25.894Z"
      },
      {
        "duration": 301,
        "start_time": "2022-01-19T10:41:39.303Z"
      },
      {
        "duration": 319,
        "start_time": "2022-01-19T10:42:05.168Z"
      },
      {
        "duration": 289,
        "start_time": "2022-01-19T10:42:11.716Z"
      },
      {
        "duration": 286,
        "start_time": "2022-01-19T10:42:21.188Z"
      },
      {
        "duration": 285,
        "start_time": "2022-01-19T10:42:27.478Z"
      },
      {
        "duration": 362,
        "start_time": "2022-01-19T10:42:39.043Z"
      },
      {
        "duration": 295,
        "start_time": "2022-01-19T10:42:46.377Z"
      },
      {
        "duration": 306,
        "start_time": "2022-01-19T10:42:53.543Z"
      },
      {
        "duration": 429,
        "start_time": "2022-01-19T10:43:01.610Z"
      },
      {
        "duration": 278,
        "start_time": "2022-01-19T10:43:13.333Z"
      },
      {
        "duration": 300,
        "start_time": "2022-01-19T10:43:26.327Z"
      },
      {
        "duration": 282,
        "start_time": "2022-01-19T10:43:33.987Z"
      },
      {
        "duration": 338,
        "start_time": "2022-01-19T10:43:40.727Z"
      },
      {
        "duration": 327,
        "start_time": "2022-01-19T10:43:52.877Z"
      },
      {
        "duration": 317,
        "start_time": "2022-01-19T10:44:06.838Z"
      },
      {
        "duration": 305,
        "start_time": "2022-01-19T10:45:01.930Z"
      },
      {
        "duration": 318,
        "start_time": "2022-01-19T10:46:13.797Z"
      },
      {
        "duration": 321,
        "start_time": "2022-01-19T10:46:23.448Z"
      },
      {
        "duration": 326,
        "start_time": "2022-01-19T10:46:30.850Z"
      },
      {
        "duration": 327,
        "start_time": "2022-01-19T10:46:58.773Z"
      },
      {
        "duration": 372,
        "start_time": "2022-01-19T10:47:10.305Z"
      },
      {
        "duration": 350,
        "start_time": "2022-01-19T10:47:34.796Z"
      },
      {
        "duration": 356,
        "start_time": "2022-01-19T10:47:43.336Z"
      },
      {
        "duration": 338,
        "start_time": "2022-01-19T10:47:54.124Z"
      },
      {
        "duration": 338,
        "start_time": "2022-01-19T10:48:10.235Z"
      },
      {
        "duration": 363,
        "start_time": "2022-01-19T10:48:23.588Z"
      },
      {
        "duration": 449,
        "start_time": "2022-01-19T10:55:21.731Z"
      },
      {
        "duration": 309,
        "start_time": "2022-01-19T10:55:42.263Z"
      },
      {
        "duration": 306,
        "start_time": "2022-01-19T10:58:40.375Z"
      },
      {
        "duration": 430,
        "start_time": "2022-01-19T11:01:47.733Z"
      },
      {
        "duration": 4,
        "start_time": "2022-01-19T12:19:38.619Z"
      },
      {
        "duration": 252,
        "start_time": "2022-01-19T12:19:38.626Z"
      },
      {
        "duration": 101,
        "start_time": "2022-01-19T12:19:38.882Z"
      },
      {
        "duration": 9,
        "start_time": "2022-01-19T12:19:38.986Z"
      },
      {
        "duration": 177,
        "start_time": "2022-01-19T12:19:38.997Z"
      },
      {
        "duration": 9703,
        "start_time": "2022-01-19T12:19:39.177Z"
      },
      {
        "duration": 19,
        "start_time": "2022-01-19T12:19:48.882Z"
      },
      {
        "duration": 29,
        "start_time": "2022-01-19T12:19:48.904Z"
      },
      {
        "duration": 61,
        "start_time": "2022-01-19T12:19:48.936Z"
      },
      {
        "duration": 70,
        "start_time": "2022-01-19T12:19:49.000Z"
      },
      {
        "duration": 55,
        "start_time": "2022-01-19T12:19:49.073Z"
      },
      {
        "duration": 1014,
        "start_time": "2022-01-19T12:19:49.131Z"
      },
      {
        "duration": 46,
        "start_time": "2022-01-19T12:19:50.147Z"
      },
      {
        "duration": 42,
        "start_time": "2022-01-19T12:19:50.195Z"
      },
      {
        "duration": 620,
        "start_time": "2022-01-19T12:19:50.239Z"
      },
      {
        "duration": 589,
        "start_time": "2022-01-19T12:19:50.861Z"
      },
      {
        "duration": 686,
        "start_time": "2022-01-19T12:19:51.452Z"
      },
      {
        "duration": 430,
        "start_time": "2022-01-19T12:19:52.140Z"
      },
      {
        "duration": 464,
        "start_time": "2022-01-19T12:19:52.573Z"
      },
      {
        "duration": 444,
        "start_time": "2022-01-19T12:19:53.040Z"
      },
      {
        "duration": 144,
        "start_time": "2022-01-19T12:19:53.487Z"
      },
      {
        "duration": 610,
        "start_time": "2022-01-19T12:19:53.634Z"
      },
      {
        "duration": 334,
        "start_time": "2022-01-19T12:19:54.249Z"
      },
      {
        "duration": 322,
        "start_time": "2022-01-19T12:19:54.586Z"
      },
      {
        "duration": -37045,
        "start_time": "2022-01-19T12:20:31.955Z"
      },
      {
        "duration": -37043,
        "start_time": "2022-01-19T12:20:31.956Z"
      },
      {
        "duration": -37043,
        "start_time": "2022-01-19T12:20:31.957Z"
      },
      {
        "duration": -37042,
        "start_time": "2022-01-19T12:20:31.958Z"
      },
      {
        "duration": -37042,
        "start_time": "2022-01-19T12:20:31.959Z"
      },
      {
        "duration": -37059,
        "start_time": "2022-01-19T12:20:31.977Z"
      },
      {
        "duration": -37060,
        "start_time": "2022-01-19T12:20:31.980Z"
      },
      {
        "duration": -37060,
        "start_time": "2022-01-19T12:20:31.981Z"
      },
      {
        "duration": -37060,
        "start_time": "2022-01-19T12:20:31.982Z"
      },
      {
        "duration": -37060,
        "start_time": "2022-01-19T12:20:31.983Z"
      },
      {
        "duration": 261,
        "start_time": "2022-01-19T12:21:56.139Z"
      },
      {
        "duration": 291,
        "start_time": "2022-01-19T12:22:00.203Z"
      },
      {
        "duration": 159,
        "start_time": "2022-01-19T12:22:38.114Z"
      },
      {
        "duration": 3,
        "start_time": "2022-01-19T12:23:16.952Z"
      },
      {
        "duration": 279,
        "start_time": "2022-01-19T12:23:16.958Z"
      },
      {
        "duration": 151,
        "start_time": "2022-01-19T12:23:17.241Z"
      },
      {
        "duration": 13,
        "start_time": "2022-01-19T12:23:17.395Z"
      },
      {
        "duration": 216,
        "start_time": "2022-01-19T12:23:17.411Z"
      },
      {
        "duration": 9999,
        "start_time": "2022-01-19T12:23:17.629Z"
      },
      {
        "duration": 17,
        "start_time": "2022-01-19T12:23:27.631Z"
      },
      {
        "duration": 45,
        "start_time": "2022-01-19T12:23:27.651Z"
      },
      {
        "duration": 29,
        "start_time": "2022-01-19T12:23:27.699Z"
      },
      {
        "duration": 68,
        "start_time": "2022-01-19T12:23:27.731Z"
      },
      {
        "duration": 71,
        "start_time": "2022-01-19T12:23:27.803Z"
      },
      {
        "duration": 1109,
        "start_time": "2022-01-19T12:23:27.876Z"
      },
      {
        "duration": 38,
        "start_time": "2022-01-19T12:23:28.987Z"
      },
      {
        "duration": 61,
        "start_time": "2022-01-19T12:23:29.028Z"
      },
      {
        "duration": 584,
        "start_time": "2022-01-19T12:23:29.091Z"
      },
      {
        "duration": 594,
        "start_time": "2022-01-19T12:23:29.678Z"
      },
      {
        "duration": 582,
        "start_time": "2022-01-19T12:23:30.275Z"
      },
      {
        "duration": 461,
        "start_time": "2022-01-19T12:23:30.859Z"
      },
      {
        "duration": 466,
        "start_time": "2022-01-19T12:23:31.326Z"
      },
      {
        "duration": 450,
        "start_time": "2022-01-19T12:23:31.794Z"
      },
      {
        "duration": 144,
        "start_time": "2022-01-19T12:23:32.246Z"
      },
      {
        "duration": 720,
        "start_time": "2022-01-19T12:23:32.393Z"
      },
      {
        "duration": 327,
        "start_time": "2022-01-19T12:23:33.115Z"
      },
      {
        "duration": 163,
        "start_time": "2022-01-19T12:23:33.444Z"
      },
      {
        "duration": 330,
        "start_time": "2022-01-19T12:23:33.609Z"
      },
      {
        "duration": 305,
        "start_time": "2022-01-19T12:23:33.941Z"
      },
      {
        "duration": 312,
        "start_time": "2022-01-19T12:23:34.248Z"
      },
      {
        "duration": 300,
        "start_time": "2022-01-19T12:23:34.569Z"
      },
      {
        "duration": 328,
        "start_time": "2022-01-19T12:23:34.871Z"
      },
      {
        "duration": 419,
        "start_time": "2022-01-19T12:23:35.201Z"
      },
      {
        "duration": 3,
        "start_time": "2022-01-19T12:23:35.623Z"
      },
      {
        "duration": 11,
        "start_time": "2022-01-19T12:23:35.629Z"
      },
      {
        "duration": 26,
        "start_time": "2022-01-19T12:23:35.643Z"
      },
      {
        "duration": 4,
        "start_time": "2022-01-19T12:23:35.672Z"
      },
      {
        "duration": 27,
        "start_time": "2022-01-19T12:23:57.321Z"
      },
      {
        "duration": 99,
        "start_time": "2022-01-19T12:26:02.214Z"
      },
      {
        "duration": 102,
        "start_time": "2022-01-19T12:26:20.707Z"
      },
      {
        "duration": 97,
        "start_time": "2022-01-19T12:26:31.634Z"
      },
      {
        "duration": 281,
        "start_time": "2022-01-19T12:26:46.516Z"
      },
      {
        "duration": 305,
        "start_time": "2022-01-19T12:27:05.619Z"
      },
      {
        "duration": 14,
        "start_time": "2022-01-19T12:28:30.670Z"
      },
      {
        "duration": 13,
        "start_time": "2022-01-19T12:29:33.940Z"
      },
      {
        "duration": 13,
        "start_time": "2022-01-19T12:29:46.653Z"
      },
      {
        "duration": 14,
        "start_time": "2022-01-19T12:30:13.269Z"
      },
      {
        "duration": 3,
        "start_time": "2022-01-19T12:30:22.621Z"
      },
      {
        "duration": 202,
        "start_time": "2022-01-19T12:30:22.627Z"
      },
      {
        "duration": 93,
        "start_time": "2022-01-19T12:30:22.831Z"
      },
      {
        "duration": 50,
        "start_time": "2022-01-19T12:30:22.926Z"
      },
      {
        "duration": 158,
        "start_time": "2022-01-19T12:30:22.979Z"
      },
      {
        "duration": 9817,
        "start_time": "2022-01-19T12:30:23.140Z"
      },
      {
        "duration": 24,
        "start_time": "2022-01-19T12:30:32.960Z"
      },
      {
        "duration": 30,
        "start_time": "2022-01-19T12:30:32.988Z"
      },
      {
        "duration": 96,
        "start_time": "2022-01-19T12:30:33.021Z"
      },
      {
        "duration": 73,
        "start_time": "2022-01-19T12:30:33.120Z"
      },
      {
        "duration": 74,
        "start_time": "2022-01-19T12:30:33.202Z"
      },
      {
        "duration": 1136,
        "start_time": "2022-01-19T12:30:33.279Z"
      },
      {
        "duration": 61,
        "start_time": "2022-01-19T12:30:34.418Z"
      },
      {
        "duration": 39,
        "start_time": "2022-01-19T12:30:34.481Z"
      },
      {
        "duration": 597,
        "start_time": "2022-01-19T12:30:34.522Z"
      },
      {
        "duration": 695,
        "start_time": "2022-01-19T12:30:35.122Z"
      },
      {
        "duration": 570,
        "start_time": "2022-01-19T12:30:35.819Z"
      },
      {
        "duration": 428,
        "start_time": "2022-01-19T12:30:36.392Z"
      },
      {
        "duration": 449,
        "start_time": "2022-01-19T12:30:36.823Z"
      },
      {
        "duration": 423,
        "start_time": "2022-01-19T12:30:37.275Z"
      },
      {
        "duration": 145,
        "start_time": "2022-01-19T12:30:37.700Z"
      },
      {
        "duration": 600,
        "start_time": "2022-01-19T12:30:37.849Z"
      },
      {
        "duration": 469,
        "start_time": "2022-01-19T12:30:38.453Z"
      },
      {
        "duration": 19,
        "start_time": "2022-01-19T12:30:38.925Z"
      },
      {
        "duration": 335,
        "start_time": "2022-01-19T12:30:38.947Z"
      },
      {
        "duration": 297,
        "start_time": "2022-01-19T12:30:39.285Z"
      },
      {
        "duration": 313,
        "start_time": "2022-01-19T12:30:39.584Z"
      },
      {
        "duration": 306,
        "start_time": "2022-01-19T12:30:39.899Z"
      },
      {
        "duration": 331,
        "start_time": "2022-01-19T12:30:40.208Z"
      },
      {
        "duration": 322,
        "start_time": "2022-01-19T12:30:40.542Z"
      },
      {
        "duration": 3,
        "start_time": "2022-01-19T12:30:40.870Z"
      },
      {
        "duration": 7,
        "start_time": "2022-01-19T12:30:40.875Z"
      },
      {
        "duration": 8,
        "start_time": "2022-01-19T12:30:40.885Z"
      },
      {
        "duration": 6,
        "start_time": "2022-01-19T12:30:40.895Z"
      },
      {
        "duration": 19,
        "start_time": "2022-01-19T12:31:09.558Z"
      },
      {
        "duration": 7054,
        "start_time": "2022-01-19T12:31:49.268Z"
      },
      {
        "duration": 119,
        "start_time": "2022-01-19T12:32:49.207Z"
      },
      {
        "duration": 313,
        "start_time": "2022-01-19T12:33:44.063Z"
      },
      {
        "duration": 91,
        "start_time": "2022-01-19T12:33:58.913Z"
      },
      {
        "duration": 4,
        "start_time": "2022-01-19T12:34:14.383Z"
      },
      {
        "duration": 222,
        "start_time": "2022-01-19T12:34:14.390Z"
      },
      {
        "duration": 96,
        "start_time": "2022-01-19T12:34:14.615Z"
      },
      {
        "duration": 9,
        "start_time": "2022-01-19T12:34:14.714Z"
      },
      {
        "duration": 195,
        "start_time": "2022-01-19T12:34:14.725Z"
      },
      {
        "duration": 9841,
        "start_time": "2022-01-19T12:34:14.922Z"
      },
      {
        "duration": 19,
        "start_time": "2022-01-19T12:34:24.765Z"
      },
      {
        "duration": 30,
        "start_time": "2022-01-19T12:34:24.787Z"
      },
      {
        "duration": 67,
        "start_time": "2022-01-19T12:34:24.820Z"
      },
      {
        "duration": 41,
        "start_time": "2022-01-19T12:34:24.890Z"
      },
      {
        "duration": 80,
        "start_time": "2022-01-19T12:34:24.934Z"
      },
      {
        "duration": 1177,
        "start_time": "2022-01-19T12:34:25.016Z"
      },
      {
        "duration": 38,
        "start_time": "2022-01-19T12:34:26.196Z"
      },
      {
        "duration": 58,
        "start_time": "2022-01-19T12:34:26.237Z"
      },
      {
        "duration": 580,
        "start_time": "2022-01-19T12:34:26.298Z"
      },
      {
        "duration": 583,
        "start_time": "2022-01-19T12:34:26.880Z"
      },
      {
        "duration": 562,
        "start_time": "2022-01-19T12:34:27.469Z"
      },
      {
        "duration": 447,
        "start_time": "2022-01-19T12:34:28.033Z"
      },
      {
        "duration": 451,
        "start_time": "2022-01-19T12:34:28.482Z"
      },
      {
        "duration": 437,
        "start_time": "2022-01-19T12:34:28.935Z"
      },
      {
        "duration": 141,
        "start_time": "2022-01-19T12:34:29.375Z"
      },
      {
        "duration": 737,
        "start_time": "2022-01-19T12:34:29.519Z"
      },
      {
        "duration": 337,
        "start_time": "2022-01-19T12:34:30.262Z"
      },
      {
        "duration": 156,
        "start_time": "2022-01-19T12:34:30.602Z"
      },
      {
        "duration": 340,
        "start_time": "2022-01-19T12:34:30.760Z"
      },
      {
        "duration": 324,
        "start_time": "2022-01-19T12:34:31.103Z"
      },
      {
        "duration": 312,
        "start_time": "2022-01-19T12:34:31.430Z"
      },
      {
        "duration": 310,
        "start_time": "2022-01-19T12:34:31.744Z"
      },
      {
        "duration": 336,
        "start_time": "2022-01-19T12:34:32.056Z"
      },
      {
        "duration": 325,
        "start_time": "2022-01-19T12:34:32.394Z"
      },
      {
        "duration": 2,
        "start_time": "2022-01-19T12:34:32.722Z"
      },
      {
        "duration": 12,
        "start_time": "2022-01-19T12:34:32.726Z"
      },
      {
        "duration": 6,
        "start_time": "2022-01-19T12:34:32.740Z"
      },
      {
        "duration": 6,
        "start_time": "2022-01-19T12:34:32.749Z"
      },
      {
        "duration": 19,
        "start_time": "2022-01-19T12:40:07.410Z"
      },
      {
        "duration": 4,
        "start_time": "2022-01-19T12:40:14.273Z"
      },
      {
        "duration": 247,
        "start_time": "2022-01-19T12:40:14.279Z"
      },
      {
        "duration": 93,
        "start_time": "2022-01-19T12:40:14.529Z"
      },
      {
        "duration": 46,
        "start_time": "2022-01-19T12:40:14.625Z"
      },
      {
        "duration": 160,
        "start_time": "2022-01-19T12:40:14.674Z"
      },
      {
        "duration": 9672,
        "start_time": "2022-01-19T12:40:14.836Z"
      },
      {
        "duration": 19,
        "start_time": "2022-01-19T12:40:24.511Z"
      },
      {
        "duration": 54,
        "start_time": "2022-01-19T12:40:24.533Z"
      },
      {
        "duration": 30,
        "start_time": "2022-01-19T12:40:24.590Z"
      },
      {
        "duration": 65,
        "start_time": "2022-01-19T12:40:24.623Z"
      },
      {
        "duration": 53,
        "start_time": "2022-01-19T12:40:24.690Z"
      },
      {
        "duration": 1153,
        "start_time": "2022-01-19T12:40:24.745Z"
      },
      {
        "duration": 37,
        "start_time": "2022-01-19T12:40:25.900Z"
      },
      {
        "duration": 59,
        "start_time": "2022-01-19T12:40:25.939Z"
      },
      {
        "duration": 580,
        "start_time": "2022-01-19T12:40:26.001Z"
      },
      {
        "duration": 595,
        "start_time": "2022-01-19T12:40:26.585Z"
      },
      {
        "duration": 679,
        "start_time": "2022-01-19T12:40:27.183Z"
      },
      {
        "duration": 449,
        "start_time": "2022-01-19T12:40:27.865Z"
      },
      {
        "duration": 458,
        "start_time": "2022-01-19T12:40:28.320Z"
      },
      {
        "duration": 449,
        "start_time": "2022-01-19T12:40:28.780Z"
      },
      {
        "duration": 146,
        "start_time": "2022-01-19T12:40:29.231Z"
      },
      {
        "duration": 611,
        "start_time": "2022-01-19T12:40:29.379Z"
      },
      {
        "duration": 469,
        "start_time": "2022-01-19T12:40:29.993Z"
      },
      {
        "duration": 22,
        "start_time": "2022-01-19T12:40:30.468Z"
      },
      {
        "duration": 340,
        "start_time": "2022-01-19T12:40:30.493Z"
      },
      {
        "duration": 312,
        "start_time": "2022-01-19T12:40:30.836Z"
      },
      {
        "duration": 319,
        "start_time": "2022-01-19T12:40:31.151Z"
      },
      {
        "duration": 320,
        "start_time": "2022-01-19T12:40:31.472Z"
      },
      {
        "duration": 320,
        "start_time": "2022-01-19T12:40:31.794Z"
      },
      {
        "duration": 335,
        "start_time": "2022-01-19T12:40:32.116Z"
      },
      {
        "duration": 4,
        "start_time": "2022-01-19T12:40:32.453Z"
      },
      {
        "duration": 4,
        "start_time": "2022-01-19T12:40:32.470Z"
      },
      {
        "duration": 13,
        "start_time": "2022-01-19T12:40:32.478Z"
      },
      {
        "duration": 10,
        "start_time": "2022-01-19T12:40:32.493Z"
      },
      {
        "duration": 3,
        "start_time": "2022-01-19T12:43:04.185Z"
      },
      {
        "duration": 240,
        "start_time": "2022-01-19T12:43:04.191Z"
      },
      {
        "duration": 92,
        "start_time": "2022-01-19T12:43:04.433Z"
      },
      {
        "duration": 45,
        "start_time": "2022-01-19T12:43:04.528Z"
      },
      {
        "duration": 162,
        "start_time": "2022-01-19T12:43:04.575Z"
      },
      {
        "duration": 9693,
        "start_time": "2022-01-19T12:43:04.739Z"
      },
      {
        "duration": 35,
        "start_time": "2022-01-19T12:43:14.435Z"
      },
      {
        "duration": 28,
        "start_time": "2022-01-19T12:43:14.473Z"
      },
      {
        "duration": 30,
        "start_time": "2022-01-19T12:43:14.504Z"
      },
      {
        "duration": 39,
        "start_time": "2022-01-19T12:43:14.570Z"
      },
      {
        "duration": 73,
        "start_time": "2022-01-19T12:43:14.612Z"
      },
      {
        "duration": 1034,
        "start_time": "2022-01-19T12:43:14.688Z"
      },
      {
        "duration": 51,
        "start_time": "2022-01-19T12:43:15.725Z"
      },
      {
        "duration": 39,
        "start_time": "2022-01-19T12:43:15.779Z"
      },
      {
        "duration": 804,
        "start_time": "2022-01-19T12:43:15.820Z"
      },
      {
        "duration": 579,
        "start_time": "2022-01-19T12:43:16.626Z"
      },
      {
        "duration": 570,
        "start_time": "2022-01-19T12:43:17.207Z"
      },
      {
        "duration": 439,
        "start_time": "2022-01-19T12:43:17.779Z"
      },
      {
        "duration": 451,
        "start_time": "2022-01-19T12:43:18.221Z"
      },
      {
        "duration": 431,
        "start_time": "2022-01-19T12:43:18.675Z"
      },
      {
        "duration": 142,
        "start_time": "2022-01-19T12:43:19.109Z"
      },
      {
        "duration": 601,
        "start_time": "2022-01-19T12:43:19.253Z"
      },
      {
        "duration": 328,
        "start_time": "2022-01-19T12:43:19.861Z"
      },
      {
        "duration": 25,
        "start_time": "2022-01-19T12:43:20.192Z"
      },
      {
        "duration": 584,
        "start_time": "2022-01-19T12:43:20.220Z"
      },
      {
        "duration": 20,
        "start_time": "2022-01-19T12:43:20.807Z"
      },
      {
        "duration": 314,
        "start_time": "2022-01-19T12:43:20.830Z"
      },
      {
        "duration": 307,
        "start_time": "2022-01-19T12:43:21.147Z"
      },
      {
        "duration": 304,
        "start_time": "2022-01-19T12:43:21.456Z"
      },
      {
        "duration": 312,
        "start_time": "2022-01-19T12:43:21.762Z"
      },
      {
        "duration": 328,
        "start_time": "2022-01-19T12:43:22.077Z"
      },
      {
        "duration": 4,
        "start_time": "2022-01-19T12:43:22.408Z"
      },
      {
        "duration": 11,
        "start_time": "2022-01-19T12:43:22.415Z"
      },
      {
        "duration": 7,
        "start_time": "2022-01-19T12:43:22.429Z"
      },
      {
        "duration": 31,
        "start_time": "2022-01-19T12:43:22.438Z"
      },
      {
        "duration": 27,
        "start_time": "2022-01-19T12:44:12.167Z"
      },
      {
        "duration": 4,
        "start_time": "2022-01-19T12:46:32.503Z"
      },
      {
        "duration": 216,
        "start_time": "2022-01-19T12:46:32.510Z"
      },
      {
        "duration": 96,
        "start_time": "2022-01-19T12:46:32.728Z"
      },
      {
        "duration": 50,
        "start_time": "2022-01-19T12:46:32.827Z"
      },
      {
        "duration": 164,
        "start_time": "2022-01-19T12:46:32.879Z"
      },
      {
        "duration": 9989,
        "start_time": "2022-01-19T12:46:33.046Z"
      },
      {
        "duration": 32,
        "start_time": "2022-01-19T12:46:43.038Z"
      },
      {
        "duration": 29,
        "start_time": "2022-01-19T12:46:43.074Z"
      },
      {
        "duration": 31,
        "start_time": "2022-01-19T12:46:43.107Z"
      },
      {
        "duration": 69,
        "start_time": "2022-01-19T12:46:43.141Z"
      },
      {
        "duration": 80,
        "start_time": "2022-01-19T12:46:43.212Z"
      },
      {
        "duration": 1009,
        "start_time": "2022-01-19T12:46:43.294Z"
      },
      {
        "duration": 39,
        "start_time": "2022-01-19T12:46:44.305Z"
      },
      {
        "duration": 55,
        "start_time": "2022-01-19T12:46:44.347Z"
      },
      {
        "duration": 597,
        "start_time": "2022-01-19T12:46:44.405Z"
      },
      {
        "duration": 756,
        "start_time": "2022-01-19T12:46:45.005Z"
      },
      {
        "duration": 658,
        "start_time": "2022-01-19T12:46:45.763Z"
      },
      {
        "duration": 446,
        "start_time": "2022-01-19T12:46:46.423Z"
      },
      {
        "duration": 463,
        "start_time": "2022-01-19T12:46:46.872Z"
      },
      {
        "duration": 499,
        "start_time": "2022-01-19T12:46:47.338Z"
      },
      {
        "duration": 150,
        "start_time": "2022-01-19T12:46:47.839Z"
      },
      {
        "duration": 595,
        "start_time": "2022-01-19T12:46:47.991Z"
      },
      {
        "duration": 336,
        "start_time": "2022-01-19T12:46:48.593Z"
      },
      {
        "duration": 42,
        "start_time": "2022-01-19T12:46:48.932Z"
      },
      {
        "duration": 396,
        "start_time": "2022-01-19T12:46:48.978Z"
      },
      {
        "duration": 29,
        "start_time": "2022-01-19T12:46:49.376Z"
      },
      {
        "duration": 464,
        "start_time": "2022-01-19T12:46:49.407Z"
      },
      {
        "duration": 25,
        "start_time": "2022-01-19T12:46:49.873Z"
      },
      {
        "duration": 311,
        "start_time": "2022-01-19T12:46:49.901Z"
      },
      {
        "duration": 24,
        "start_time": "2022-01-19T12:46:50.214Z"
      },
      {
        "duration": 454,
        "start_time": "2022-01-19T12:46:50.241Z"
      },
      {
        "duration": 33,
        "start_time": "2022-01-19T12:46:50.698Z"
      },
      {
        "duration": 371,
        "start_time": "2022-01-19T12:46:50.734Z"
      },
      {
        "duration": 24,
        "start_time": "2022-01-19T12:46:51.107Z"
      },
      {
        "duration": 344,
        "start_time": "2022-01-19T12:46:51.133Z"
      },
      {
        "duration": 24,
        "start_time": "2022-01-19T12:46:51.479Z"
      },
      {
        "duration": 4,
        "start_time": "2022-01-19T12:46:51.506Z"
      },
      {
        "duration": 9,
        "start_time": "2022-01-19T12:46:51.512Z"
      },
      {
        "duration": 18,
        "start_time": "2022-01-19T12:46:51.523Z"
      },
      {
        "duration": 32,
        "start_time": "2022-01-19T12:46:51.544Z"
      },
      {
        "duration": 321,
        "start_time": "2022-01-19T12:56:59.066Z"
      },
      {
        "duration": 303,
        "start_time": "2022-01-19T12:57:13.001Z"
      },
      {
        "duration": -37341,
        "start_time": "2022-01-19T13:02:10.612Z"
      },
      {
        "duration": -37340,
        "start_time": "2022-01-19T13:02:10.613Z"
      },
      {
        "duration": -37343,
        "start_time": "2022-01-19T13:02:10.617Z"
      },
      {
        "duration": -37343,
        "start_time": "2022-01-19T13:02:10.619Z"
      },
      {
        "duration": -37343,
        "start_time": "2022-01-19T13:02:10.620Z"
      },
      {
        "duration": -37346,
        "start_time": "2022-01-19T13:02:10.624Z"
      },
      {
        "duration": -37346,
        "start_time": "2022-01-19T13:02:10.626Z"
      },
      {
        "duration": -37346,
        "start_time": "2022-01-19T13:02:10.627Z"
      },
      {
        "duration": -37346,
        "start_time": "2022-01-19T13:02:10.628Z"
      },
      {
        "duration": -37347,
        "start_time": "2022-01-19T13:02:10.631Z"
      },
      {
        "duration": -37347,
        "start_time": "2022-01-19T13:02:10.632Z"
      },
      {
        "duration": -37349,
        "start_time": "2022-01-19T13:02:10.636Z"
      },
      {
        "duration": -37349,
        "start_time": "2022-01-19T13:02:10.637Z"
      },
      {
        "duration": -37349,
        "start_time": "2022-01-19T13:02:10.638Z"
      },
      {
        "duration": -37350,
        "start_time": "2022-01-19T13:02:10.641Z"
      },
      {
        "duration": -37351,
        "start_time": "2022-01-19T13:02:10.643Z"
      },
      {
        "duration": -37350,
        "start_time": "2022-01-19T13:02:10.644Z"
      },
      {
        "duration": -37354,
        "start_time": "2022-01-19T13:02:10.649Z"
      },
      {
        "duration": -37355,
        "start_time": "2022-01-19T13:02:10.651Z"
      },
      {
        "duration": -37353,
        "start_time": "2022-01-19T13:02:10.651Z"
      },
      {
        "duration": -37356,
        "start_time": "2022-01-19T13:02:10.655Z"
      },
      {
        "duration": -37356,
        "start_time": "2022-01-19T13:02:10.656Z"
      },
      {
        "duration": -37358,
        "start_time": "2022-01-19T13:02:10.660Z"
      },
      {
        "duration": -37358,
        "start_time": "2022-01-19T13:02:10.661Z"
      },
      {
        "duration": -37358,
        "start_time": "2022-01-19T13:02:10.662Z"
      },
      {
        "duration": -37292,
        "start_time": "2022-01-19T13:02:10.666Z"
      },
      {
        "duration": -37291,
        "start_time": "2022-01-19T13:02:10.667Z"
      },
      {
        "duration": -37292,
        "start_time": "2022-01-19T13:02:10.669Z"
      },
      {
        "duration": -37293,
        "start_time": "2022-01-19T13:02:10.672Z"
      },
      {
        "duration": -37298,
        "start_time": "2022-01-19T13:02:10.678Z"
      },
      {
        "duration": -37297,
        "start_time": "2022-01-19T13:02:10.679Z"
      },
      {
        "duration": -37297,
        "start_time": "2022-01-19T13:02:10.680Z"
      },
      {
        "duration": -37296,
        "start_time": "2022-01-19T13:02:10.681Z"
      },
      {
        "duration": -37298,
        "start_time": "2022-01-19T13:02:10.684Z"
      },
      {
        "duration": -37298,
        "start_time": "2022-01-19T13:02:10.686Z"
      },
      {
        "duration": -37297,
        "start_time": "2022-01-19T13:02:10.686Z"
      },
      {
        "duration": -37299,
        "start_time": "2022-01-19T13:02:10.690Z"
      },
      {
        "duration": -37299,
        "start_time": "2022-01-19T13:02:10.691Z"
      },
      {
        "duration": -37301,
        "start_time": "2022-01-19T13:02:10.695Z"
      },
      {
        "duration": -37302,
        "start_time": "2022-01-19T13:02:10.697Z"
      },
      {
        "duration": -37302,
        "start_time": "2022-01-19T13:02:10.698Z"
      },
      {
        "duration": -37304,
        "start_time": "2022-01-19T13:02:10.702Z"
      },
      {
        "duration": 4,
        "start_time": "2022-01-19T13:01:59.411Z"
      },
      {
        "duration": 262,
        "start_time": "2022-01-19T13:01:59.418Z"
      },
      {
        "duration": 116,
        "start_time": "2022-01-19T13:01:59.684Z"
      },
      {
        "duration": 9,
        "start_time": "2022-01-19T13:01:59.804Z"
      },
      {
        "duration": 196,
        "start_time": "2022-01-19T13:01:59.816Z"
      },
      {
        "duration": 9745,
        "start_time": "2022-01-19T13:02:00.015Z"
      },
      {
        "duration": 23,
        "start_time": "2022-01-19T13:02:09.762Z"
      },
      {
        "duration": 30,
        "start_time": "2022-01-19T13:02:09.787Z"
      },
      {
        "duration": 65,
        "start_time": "2022-01-19T13:02:09.823Z"
      },
      {
        "duration": 39,
        "start_time": "2022-01-19T13:02:09.893Z"
      },
      {
        "duration": 78,
        "start_time": "2022-01-19T13:02:09.935Z"
      },
      {
        "duration": 1017,
        "start_time": "2022-01-19T13:02:10.015Z"
      },
      {
        "duration": 51,
        "start_time": "2022-01-19T13:02:11.035Z"
      },
      {
        "duration": 37,
        "start_time": "2022-01-19T13:02:11.088Z"
      },
      {
        "duration": 624,
        "start_time": "2022-01-19T13:02:11.127Z"
      },
      {
        "duration": 602,
        "start_time": "2022-01-19T13:02:11.753Z"
      },
      {
        "duration": 627,
        "start_time": "2022-01-19T13:02:12.358Z"
      },
      {
        "duration": 454,
        "start_time": "2022-01-19T13:02:12.987Z"
      },
      {
        "duration": 449,
        "start_time": "2022-01-19T13:02:13.444Z"
      },
      {
        "duration": 432,
        "start_time": "2022-01-19T13:02:13.896Z"
      },
      {
        "duration": 152,
        "start_time": "2022-01-19T13:02:14.330Z"
      },
      {
        "duration": 600,
        "start_time": "2022-01-19T13:02:14.485Z"
      },
      {
        "duration": 335,
        "start_time": "2022-01-19T13:02:15.087Z"
      },
      {
        "duration": 30,
        "start_time": "2022-01-19T13:02:15.424Z"
      },
      {
        "duration": 326,
        "start_time": "2022-01-19T13:02:15.470Z"
      },
      {
        "duration": 28,
        "start_time": "2022-01-19T13:02:15.799Z"
      },
      {
        "duration": 307,
        "start_time": "2022-01-19T13:02:15.832Z"
      },
      {
        "duration": 39,
        "start_time": "2022-01-19T13:02:16.143Z"
      },
      {
        "duration": 319,
        "start_time": "2022-01-19T13:02:16.185Z"
      },
      {
        "duration": 27,
        "start_time": "2022-01-19T13:02:16.506Z"
      },
      {
        "duration": 322,
        "start_time": "2022-01-19T13:02:16.536Z"
      },
      {
        "duration": 32,
        "start_time": "2022-01-19T13:02:16.861Z"
      },
      {
        "duration": 325,
        "start_time": "2022-01-19T13:02:16.896Z"
      },
      {
        "duration": 24,
        "start_time": "2022-01-19T13:02:17.224Z"
      },
      {
        "duration": 334,
        "start_time": "2022-01-19T13:02:17.251Z"
      },
      {
        "duration": 25,
        "start_time": "2022-01-19T13:02:17.588Z"
      },
      {
        "duration": 4,
        "start_time": "2022-01-19T13:02:17.616Z"
      },
      {
        "duration": 127,
        "start_time": "2022-01-19T13:02:17.623Z"
      },
      {
        "duration": -37146,
        "start_time": "2022-01-19T13:02:54.899Z"
      },
      {
        "duration": -37148,
        "start_time": "2022-01-19T13:02:54.903Z"
      },
      {
        "duration": -37151,
        "start_time": "2022-01-19T13:02:54.908Z"
      },
      {
        "duration": -37150,
        "start_time": "2022-01-19T13:02:54.909Z"
      },
      {
        "duration": 32,
        "start_time": "2022-01-19T13:15:56.937Z"
      },
      {
        "duration": 232,
        "start_time": "2022-01-19T13:15:56.973Z"
      },
      {
        "duration": 103,
        "start_time": "2022-01-19T13:15:57.208Z"
      },
      {
        "duration": 8,
        "start_time": "2022-01-19T13:15:57.314Z"
      },
      {
        "duration": 186,
        "start_time": "2022-01-19T13:15:57.325Z"
      },
      {
        "duration": 10268,
        "start_time": "2022-01-19T13:15:57.513Z"
      },
      {
        "duration": 18,
        "start_time": "2022-01-19T13:16:07.785Z"
      },
      {
        "duration": 33,
        "start_time": "2022-01-19T13:16:07.805Z"
      },
      {
        "duration": 63,
        "start_time": "2022-01-19T13:16:07.841Z"
      },
      {
        "duration": 64,
        "start_time": "2022-01-19T13:16:07.907Z"
      },
      {
        "duration": 55,
        "start_time": "2022-01-19T13:16:07.978Z"
      },
      {
        "duration": 1048,
        "start_time": "2022-01-19T13:16:08.037Z"
      },
      {
        "duration": 40,
        "start_time": "2022-01-19T13:16:09.088Z"
      },
      {
        "duration": 63,
        "start_time": "2022-01-19T13:16:09.130Z"
      },
      {
        "duration": 603,
        "start_time": "2022-01-19T13:16:09.196Z"
      },
      {
        "duration": 624,
        "start_time": "2022-01-19T13:16:09.802Z"
      },
      {
        "duration": 579,
        "start_time": "2022-01-19T13:16:10.429Z"
      },
      {
        "duration": 616,
        "start_time": "2022-01-19T13:16:11.011Z"
      },
      {
        "duration": 710,
        "start_time": "2022-01-19T13:16:11.630Z"
      },
      {
        "duration": 488,
        "start_time": "2022-01-19T13:16:12.343Z"
      },
      {
        "duration": 154,
        "start_time": "2022-01-19T13:16:12.834Z"
      },
      {
        "duration": 715,
        "start_time": "2022-01-19T13:16:12.990Z"
      },
      {
        "duration": 341,
        "start_time": "2022-01-19T13:16:13.708Z"
      },
      {
        "duration": 36,
        "start_time": "2022-01-19T13:16:14.052Z"
      },
      {
        "duration": 333,
        "start_time": "2022-01-19T13:16:14.090Z"
      },
      {
        "duration": 25,
        "start_time": "2022-01-19T13:16:14.426Z"
      },
      {
        "duration": 301,
        "start_time": "2022-01-19T13:16:14.470Z"
      },
      {
        "duration": 27,
        "start_time": "2022-01-19T13:16:14.777Z"
      },
      {
        "duration": 434,
        "start_time": "2022-01-19T13:16:14.806Z"
      },
      {
        "duration": 46,
        "start_time": "2022-01-19T13:16:15.243Z"
      },
      {
        "duration": 321,
        "start_time": "2022-01-19T13:16:15.308Z"
      },
      {
        "duration": 44,
        "start_time": "2022-01-19T13:16:15.632Z"
      },
      {
        "duration": 321,
        "start_time": "2022-01-19T13:16:15.679Z"
      },
      {
        "duration": 24,
        "start_time": "2022-01-19T13:16:16.003Z"
      },
      {
        "duration": 347,
        "start_time": "2022-01-19T13:16:16.029Z"
      },
      {
        "duration": 26,
        "start_time": "2022-01-19T13:16:16.379Z"
      },
      {
        "duration": 3,
        "start_time": "2022-01-19T13:16:16.407Z"
      },
      {
        "duration": 88912,
        "start_time": "2022-01-19T13:16:16.412Z"
      },
      {
        "duration": 324,
        "start_time": "2022-01-19T13:17:45.327Z"
      },
      {
        "duration": 3,
        "start_time": "2022-01-19T13:17:45.654Z"
      },
      {
        "duration": 25,
        "start_time": "2022-01-19T13:17:45.670Z"
      },
      {
        "duration": 12,
        "start_time": "2022-01-19T13:17:45.698Z"
      },
      {
        "duration": 48,
        "start_time": "2022-01-19T13:19:10.918Z"
      },
      {
        "duration": 365,
        "start_time": "2022-01-19T13:19:56.797Z"
      },
      {
        "duration": 324,
        "start_time": "2022-01-19T13:20:29.095Z"
      },
      {
        "duration": 402,
        "start_time": "2022-01-19T13:23:15.683Z"
      },
      {
        "duration": 49,
        "start_time": "2022-01-19T13:29:40.835Z"
      },
      {
        "duration": 54,
        "start_time": "2022-01-19T13:30:00.044Z"
      },
      {
        "duration": 71,
        "start_time": "2022-01-19T13:30:45.648Z"
      },
      {
        "duration": 71,
        "start_time": "2022-01-19T13:31:06.718Z"
      },
      {
        "duration": 74,
        "start_time": "2022-01-19T13:31:11.646Z"
      },
      {
        "duration": 45,
        "start_time": "2022-01-19T13:31:41.286Z"
      },
      {
        "duration": 263,
        "start_time": "2022-01-19T13:31:55.430Z"
      },
      {
        "duration": 43,
        "start_time": "2022-01-19T13:33:13.450Z"
      },
      {
        "duration": 331,
        "start_time": "2022-01-19T13:33:20.413Z"
      },
      {
        "duration": 293,
        "start_time": "2022-01-19T13:34:59.379Z"
      },
      {
        "duration": 399,
        "start_time": "2022-01-19T13:37:45.370Z"
      },
      {
        "duration": 798,
        "start_time": "2022-01-19T13:38:44.203Z"
      },
      {
        "duration": 342,
        "start_time": "2022-01-19T13:38:50.345Z"
      },
      {
        "duration": 385,
        "start_time": "2022-01-19T13:39:12.179Z"
      },
      {
        "duration": 409,
        "start_time": "2022-01-19T13:39:22.316Z"
      },
      {
        "duration": 47,
        "start_time": "2022-01-19T13:42:07.040Z"
      },
      {
        "duration": 5,
        "start_time": "2022-01-19T13:42:10.373Z"
      },
      {
        "duration": 287,
        "start_time": "2022-01-19T13:42:10.382Z"
      },
      {
        "duration": 116,
        "start_time": "2022-01-19T13:42:10.673Z"
      },
      {
        "duration": 9,
        "start_time": "2022-01-19T13:42:10.792Z"
      },
      {
        "duration": 177,
        "start_time": "2022-01-19T13:42:10.803Z"
      },
      {
        "duration": 9744,
        "start_time": "2022-01-19T13:42:10.983Z"
      },
      {
        "duration": 18,
        "start_time": "2022-01-19T13:42:20.730Z"
      },
      {
        "duration": 33,
        "start_time": "2022-01-19T13:42:20.769Z"
      },
      {
        "duration": 35,
        "start_time": "2022-01-19T13:42:20.806Z"
      },
      {
        "duration": 50,
        "start_time": "2022-01-19T13:42:20.869Z"
      },
      {
        "duration": 78,
        "start_time": "2022-01-19T13:42:20.922Z"
      },
      {
        "duration": 1006,
        "start_time": "2022-01-19T13:42:21.003Z"
      },
      {
        "duration": 39,
        "start_time": "2022-01-19T13:42:22.012Z"
      },
      {
        "duration": 49,
        "start_time": "2022-01-19T13:42:22.053Z"
      },
      {
        "duration": 588,
        "start_time": "2022-01-19T13:42:22.105Z"
      },
      {
        "duration": 653,
        "start_time": "2022-01-19T13:42:22.695Z"
      },
      {
        "duration": 575,
        "start_time": "2022-01-19T13:42:23.350Z"
      },
      {
        "duration": 438,
        "start_time": "2022-01-19T13:42:23.927Z"
      },
      {
        "duration": 476,
        "start_time": "2022-01-19T13:42:24.370Z"
      },
      {
        "duration": 462,
        "start_time": "2022-01-19T13:42:24.850Z"
      },
      {
        "duration": 154,
        "start_time": "2022-01-19T13:42:25.315Z"
      },
      {
        "duration": 623,
        "start_time": "2022-01-19T13:42:25.472Z"
      },
      {
        "duration": 348,
        "start_time": "2022-01-19T13:42:26.103Z"
      },
      {
        "duration": 36,
        "start_time": "2022-01-19T13:42:26.454Z"
      },
      {
        "duration": 322,
        "start_time": "2022-01-19T13:42:26.492Z"
      },
      {
        "duration": 24,
        "start_time": "2022-01-19T13:42:26.817Z"
      },
      {
        "duration": 328,
        "start_time": "2022-01-19T13:42:26.844Z"
      },
      {
        "duration": 27,
        "start_time": "2022-01-19T13:42:27.175Z"
      },
      {
        "duration": 344,
        "start_time": "2022-01-19T13:42:27.205Z"
      },
      {
        "duration": 33,
        "start_time": "2022-01-19T13:42:27.552Z"
      },
      {
        "duration": 310,
        "start_time": "2022-01-19T13:42:27.588Z"
      },
      {
        "duration": 31,
        "start_time": "2022-01-19T13:42:27.901Z"
      },
      {
        "duration": 319,
        "start_time": "2022-01-19T13:42:27.935Z"
      },
      {
        "duration": 32,
        "start_time": "2022-01-19T13:42:28.257Z"
      },
      {
        "duration": 326,
        "start_time": "2022-01-19T13:42:28.291Z"
      },
      {
        "duration": 24,
        "start_time": "2022-01-19T13:42:28.620Z"
      },
      {
        "duration": 61,
        "start_time": "2022-01-19T13:42:28.646Z"
      },
      {
        "duration": 350,
        "start_time": "2022-01-19T13:42:28.709Z"
      },
      {
        "duration": 409,
        "start_time": "2022-01-19T13:42:29.069Z"
      },
      {
        "duration": 43,
        "start_time": "2022-01-19T13:42:29.481Z"
      },
      {
        "duration": 353,
        "start_time": "2022-01-19T13:42:29.526Z"
      },
      {
        "duration": 1339,
        "start_time": "2022-01-19T13:42:29.882Z"
      },
      {
        "duration": 421,
        "start_time": "2022-01-19T13:42:31.223Z"
      },
      {
        "duration": 557,
        "start_time": "2022-01-19T13:42:31.647Z"
      },
      {
        "duration": 367,
        "start_time": "2022-01-19T13:42:32.206Z"
      },
      {
        "duration": 4,
        "start_time": "2022-01-19T13:42:32.575Z"
      },
      {
        "duration": 15,
        "start_time": "2022-01-19T13:42:32.581Z"
      },
      {
        "duration": 7,
        "start_time": "2022-01-19T13:42:32.599Z"
      },
      {
        "duration": 14,
        "start_time": "2022-01-19T14:30:51.352Z"
      },
      {
        "duration": 11,
        "start_time": "2022-01-19T14:31:43.021Z"
      },
      {
        "duration": 10,
        "start_time": "2022-01-19T14:32:30.146Z"
      },
      {
        "duration": 253,
        "start_time": "2022-01-19T14:38:13.660Z"
      },
      {
        "duration": 89,
        "start_time": "2022-01-19T14:38:41.402Z"
      },
      {
        "duration": 10,
        "start_time": "2022-01-19T14:38:59.121Z"
      },
      {
        "duration": 82,
        "start_time": "2022-01-19T14:46:25.430Z"
      },
      {
        "duration": 95,
        "start_time": "2022-01-19T14:46:44.236Z"
      },
      {
        "duration": 118,
        "start_time": "2022-01-19T14:46:53.628Z"
      },
      {
        "duration": 19,
        "start_time": "2022-01-19T14:47:35.648Z"
      },
      {
        "duration": 20,
        "start_time": "2022-01-19T14:51:40.000Z"
      },
      {
        "duration": 19,
        "start_time": "2022-01-19T14:51:43.544Z"
      },
      {
        "duration": 18,
        "start_time": "2022-01-19T14:53:13.871Z"
      },
      {
        "duration": 19,
        "start_time": "2022-01-19T14:53:41.321Z"
      },
      {
        "duration": 9,
        "start_time": "2022-01-19T14:53:59.596Z"
      },
      {
        "duration": 10,
        "start_time": "2022-01-19T14:54:10.637Z"
      },
      {
        "duration": 4,
        "start_time": "2022-01-19T14:54:23.892Z"
      },
      {
        "duration": 282,
        "start_time": "2022-01-19T14:54:23.899Z"
      },
      {
        "duration": 105,
        "start_time": "2022-01-19T14:54:24.185Z"
      },
      {
        "duration": 12,
        "start_time": "2022-01-19T14:54:24.293Z"
      },
      {
        "duration": 188,
        "start_time": "2022-01-19T14:54:24.308Z"
      },
      {
        "duration": 10272,
        "start_time": "2022-01-19T14:54:24.498Z"
      },
      {
        "duration": 21,
        "start_time": "2022-01-19T14:54:34.773Z"
      },
      {
        "duration": 35,
        "start_time": "2022-01-19T14:54:34.797Z"
      },
      {
        "duration": 65,
        "start_time": "2022-01-19T14:54:34.835Z"
      },
      {
        "duration": 41,
        "start_time": "2022-01-19T14:54:34.902Z"
      },
      {
        "duration": 56,
        "start_time": "2022-01-19T14:54:34.970Z"
      },
      {
        "duration": 1118,
        "start_time": "2022-01-19T14:54:35.029Z"
      },
      {
        "duration": 55,
        "start_time": "2022-01-19T14:54:36.150Z"
      },
      {
        "duration": 39,
        "start_time": "2022-01-19T14:54:36.208Z"
      },
      {
        "duration": 601,
        "start_time": "2022-01-19T14:54:36.271Z"
      },
      {
        "duration": 763,
        "start_time": "2022-01-19T14:54:36.876Z"
      },
      {
        "duration": 599,
        "start_time": "2022-01-19T14:54:37.642Z"
      },
      {
        "duration": 460,
        "start_time": "2022-01-19T14:54:38.244Z"
      },
      {
        "duration": 475,
        "start_time": "2022-01-19T14:54:38.706Z"
      },
      {
        "duration": 447,
        "start_time": "2022-01-19T14:54:39.184Z"
      },
      {
        "duration": 149,
        "start_time": "2022-01-19T14:54:39.634Z"
      },
      {
        "duration": 605,
        "start_time": "2022-01-19T14:54:39.786Z"
      },
      {
        "duration": 346,
        "start_time": "2022-01-19T14:54:40.397Z"
      },
      {
        "duration": 36,
        "start_time": "2022-01-19T14:54:40.746Z"
      },
      {
        "duration": 340,
        "start_time": "2022-01-19T14:54:40.785Z"
      },
      {
        "duration": 54,
        "start_time": "2022-01-19T14:54:41.128Z"
      },
      {
        "duration": 364,
        "start_time": "2022-01-19T14:54:41.185Z"
      },
      {
        "duration": 38,
        "start_time": "2022-01-19T14:54:41.552Z"
      },
      {
        "duration": 478,
        "start_time": "2022-01-19T14:54:41.594Z"
      },
      {
        "duration": 25,
        "start_time": "2022-01-19T14:54:42.074Z"
      },
      {
        "duration": 322,
        "start_time": "2022-01-19T14:54:42.101Z"
      },
      {
        "duration": 43,
        "start_time": "2022-01-19T14:54:42.426Z"
      },
      {
        "duration": 342,
        "start_time": "2022-01-19T14:54:42.472Z"
      },
      {
        "duration": 24,
        "start_time": "2022-01-19T14:54:42.817Z"
      },
      {
        "duration": 336,
        "start_time": "2022-01-19T14:54:42.843Z"
      },
      {
        "duration": 27,
        "start_time": "2022-01-19T14:54:43.182Z"
      },
      {
        "duration": 81,
        "start_time": "2022-01-19T14:54:43.212Z"
      },
      {
        "duration": 344,
        "start_time": "2022-01-19T14:54:43.296Z"
      },
      {
        "duration": 409,
        "start_time": "2022-01-19T14:54:43.643Z"
      },
      {
        "duration": 51,
        "start_time": "2022-01-19T14:54:44.054Z"
      },
      {
        "duration": 356,
        "start_time": "2022-01-19T14:54:44.108Z"
      },
      {
        "duration": 308,
        "start_time": "2022-01-19T14:54:44.469Z"
      },
      {
        "duration": 423,
        "start_time": "2022-01-19T14:54:44.779Z"
      },
      {
        "duration": 547,
        "start_time": "2022-01-19T14:54:45.205Z"
      },
      {
        "duration": 364,
        "start_time": "2022-01-19T14:54:45.754Z"
      },
      {
        "duration": 3,
        "start_time": "2022-01-19T14:54:46.120Z"
      },
      {
        "duration": 101,
        "start_time": "2022-01-19T14:54:46.125Z"
      },
      {
        "duration": 3,
        "start_time": "2022-01-19T14:54:46.228Z"
      },
      {
        "duration": 37,
        "start_time": "2022-01-19T14:54:46.234Z"
      },
      {
        "duration": 9,
        "start_time": "2022-01-19T14:54:46.273Z"
      },
      {
        "duration": 12,
        "start_time": "2022-01-19T14:54:46.285Z"
      },
      {
        "duration": 4,
        "start_time": "2022-01-19T14:54:46.300Z"
      },
      {
        "duration": 9,
        "start_time": "2022-01-19T14:54:46.307Z"
      },
      {
        "duration": 10,
        "start_time": "2022-01-19T14:55:10.116Z"
      },
      {
        "duration": 17,
        "start_time": "2022-01-19T14:55:54.758Z"
      },
      {
        "duration": 19,
        "start_time": "2022-01-19T14:56:12.566Z"
      },
      {
        "duration": 17,
        "start_time": "2022-01-19T14:56:34.740Z"
      },
      {
        "duration": 537,
        "start_time": "2022-01-19T15:17:17.909Z"
      },
      {
        "duration": 347,
        "start_time": "2022-01-19T17:13:51.488Z"
      },
      {
        "duration": 841,
        "start_time": "2022-01-19T17:14:14.535Z"
      },
      {
        "duration": 203,
        "start_time": "2022-01-19T17:14:15.379Z"
      },
      {
        "duration": 88,
        "start_time": "2022-01-19T17:14:15.585Z"
      },
      {
        "duration": 49,
        "start_time": "2022-01-19T17:14:15.676Z"
      },
      {
        "duration": 151,
        "start_time": "2022-01-19T17:14:15.728Z"
      },
      {
        "duration": 8825,
        "start_time": "2022-01-19T17:14:15.882Z"
      },
      {
        "duration": 24,
        "start_time": "2022-01-19T17:14:24.709Z"
      },
      {
        "duration": 31,
        "start_time": "2022-01-19T17:14:24.736Z"
      },
      {
        "duration": 66,
        "start_time": "2022-01-19T17:14:24.771Z"
      },
      {
        "duration": 42,
        "start_time": "2022-01-19T17:14:24.840Z"
      },
      {
        "duration": 69,
        "start_time": "2022-01-19T17:14:24.884Z"
      },
      {
        "duration": 898,
        "start_time": "2022-01-19T17:14:24.955Z"
      },
      {
        "duration": 32,
        "start_time": "2022-01-19T17:14:25.855Z"
      },
      {
        "duration": 53,
        "start_time": "2022-01-19T17:14:25.889Z"
      },
      {
        "duration": 550,
        "start_time": "2022-01-19T17:14:25.952Z"
      },
      {
        "duration": 533,
        "start_time": "2022-01-19T17:14:26.504Z"
      },
      {
        "duration": 527,
        "start_time": "2022-01-19T17:14:27.039Z"
      },
      {
        "duration": 390,
        "start_time": "2022-01-19T17:14:27.569Z"
      },
      {
        "duration": 427,
        "start_time": "2022-01-19T17:14:27.962Z"
      },
      {
        "duration": 407,
        "start_time": "2022-01-19T17:14:28.392Z"
      },
      {
        "duration": 134,
        "start_time": "2022-01-19T17:14:28.801Z"
      },
      {
        "duration": 548,
        "start_time": "2022-01-19T17:14:28.937Z"
      },
      {
        "duration": 312,
        "start_time": "2022-01-19T17:14:29.487Z"
      },
      {
        "duration": 400,
        "start_time": "2022-01-19T17:14:29.802Z"
      },
      {
        "duration": 301,
        "start_time": "2022-01-19T17:14:30.205Z"
      },
      {
        "duration": 30,
        "start_time": "2022-01-19T17:14:30.510Z"
      },
      {
        "duration": 296,
        "start_time": "2022-01-19T17:14:30.548Z"
      },
      {
        "duration": 24,
        "start_time": "2022-01-19T17:14:30.848Z"
      },
      {
        "duration": 311,
        "start_time": "2022-01-19T17:14:30.874Z"
      },
      {
        "duration": 36,
        "start_time": "2022-01-19T17:14:31.187Z"
      },
      {
        "duration": 279,
        "start_time": "2022-01-19T17:14:31.225Z"
      },
      {
        "duration": 35,
        "start_time": "2022-01-19T17:14:31.507Z"
      },
      {
        "duration": 298,
        "start_time": "2022-01-19T17:14:31.544Z"
      },
      {
        "duration": 22,
        "start_time": "2022-01-19T17:14:31.845Z"
      },
      {
        "duration": 314,
        "start_time": "2022-01-19T17:14:31.870Z"
      },
      {
        "duration": 23,
        "start_time": "2022-01-19T17:14:32.186Z"
      },
      {
        "duration": 41,
        "start_time": "2022-01-19T17:14:32.224Z"
      },
      {
        "duration": 329,
        "start_time": "2022-01-19T17:14:32.268Z"
      },
      {
        "duration": 397,
        "start_time": "2022-01-19T17:14:32.600Z"
      },
      {
        "duration": 60,
        "start_time": "2022-01-19T17:14:33.000Z"
      },
      {
        "duration": 350,
        "start_time": "2022-01-19T17:14:33.063Z"
      },
      {
        "duration": 295,
        "start_time": "2022-01-19T17:14:33.416Z"
      },
      {
        "duration": 453,
        "start_time": "2022-01-19T17:14:33.722Z"
      },
      {
        "duration": 553,
        "start_time": "2022-01-19T17:14:34.178Z"
      },
      {
        "duration": 350,
        "start_time": "2022-01-19T17:14:34.733Z"
      },
      {
        "duration": 88,
        "start_time": "2022-01-19T17:14:35.086Z"
      },
      {
        "duration": 16,
        "start_time": "2022-01-19T17:14:35.177Z"
      },
      {
        "duration": 37,
        "start_time": "2022-01-19T17:14:35.195Z"
      },
      {
        "duration": 18,
        "start_time": "2022-01-19T17:14:35.234Z"
      },
      {
        "duration": 3,
        "start_time": "2022-01-19T17:14:35.255Z"
      },
      {
        "duration": 16,
        "start_time": "2022-01-19T17:14:35.260Z"
      },
      {
        "duration": 27,
        "start_time": "2022-01-19T17:16:00.672Z"
      },
      {
        "duration": 275,
        "start_time": "2022-01-19T17:16:47.618Z"
      },
      {
        "duration": 271,
        "start_time": "2022-01-19T17:17:06.023Z"
      },
      {
        "duration": 288,
        "start_time": "2022-01-19T17:17:18.702Z"
      },
      {
        "duration": 288,
        "start_time": "2022-01-19T17:17:41.776Z"
      },
      {
        "duration": 262,
        "start_time": "2022-01-19T17:17:58.651Z"
      },
      {
        "duration": 283,
        "start_time": "2022-01-19T17:18:15.391Z"
      },
      {
        "duration": 2212,
        "start_time": "2022-01-20T11:35:23.798Z"
      },
      {
        "duration": 728,
        "start_time": "2022-01-20T11:35:41.666Z"
      },
      {
        "duration": 148,
        "start_time": "2022-01-20T11:35:42.396Z"
      },
      {
        "duration": 38,
        "start_time": "2022-01-20T11:35:42.547Z"
      },
      {
        "duration": 42,
        "start_time": "2022-01-20T11:35:42.586Z"
      },
      {
        "duration": 81,
        "start_time": "2022-01-20T11:35:42.629Z"
      },
      {
        "duration": 5730,
        "start_time": "2022-01-20T11:35:42.712Z"
      },
      {
        "duration": 11,
        "start_time": "2022-01-20T11:35:48.444Z"
      },
      {
        "duration": 17,
        "start_time": "2022-01-20T11:35:48.456Z"
      },
      {
        "duration": 20,
        "start_time": "2022-01-20T11:35:48.475Z"
      },
      {
        "duration": 48,
        "start_time": "2022-01-20T11:35:48.496Z"
      },
      {
        "duration": 28,
        "start_time": "2022-01-20T11:35:48.546Z"
      },
      {
        "duration": 547,
        "start_time": "2022-01-20T11:35:48.575Z"
      },
      {
        "duration": 21,
        "start_time": "2022-01-20T11:35:49.124Z"
      },
      {
        "duration": 21,
        "start_time": "2022-01-20T11:35:49.147Z"
      },
      {
        "duration": 338,
        "start_time": "2022-01-20T11:35:49.170Z"
      },
      {
        "duration": 304,
        "start_time": "2022-01-20T11:35:49.509Z"
      },
      {
        "duration": 289,
        "start_time": "2022-01-20T11:35:49.815Z"
      },
      {
        "duration": 241,
        "start_time": "2022-01-20T11:35:50.106Z"
      },
      {
        "duration": 265,
        "start_time": "2022-01-20T11:35:50.349Z"
      },
      {
        "duration": 344,
        "start_time": "2022-01-20T11:35:50.616Z"
      },
      {
        "duration": 87,
        "start_time": "2022-01-20T11:35:50.962Z"
      },
      {
        "duration": 304,
        "start_time": "2022-01-20T11:35:51.051Z"
      },
      {
        "duration": 181,
        "start_time": "2022-01-20T11:35:51.357Z"
      },
      {
        "duration": 18,
        "start_time": "2022-01-20T11:35:51.539Z"
      },
      {
        "duration": 282,
        "start_time": "2022-01-20T11:35:51.558Z"
      },
      {
        "duration": 16,
        "start_time": "2022-01-20T11:35:51.842Z"
      },
      {
        "duration": 170,
        "start_time": "2022-01-20T11:35:51.861Z"
      },
      {
        "duration": 18,
        "start_time": "2022-01-20T11:35:52.033Z"
      },
      {
        "duration": 185,
        "start_time": "2022-01-20T11:35:52.052Z"
      },
      {
        "duration": 15,
        "start_time": "2022-01-20T11:35:52.239Z"
      },
      {
        "duration": 165,
        "start_time": "2022-01-20T11:35:52.255Z"
      },
      {
        "duration": 19,
        "start_time": "2022-01-20T11:35:52.421Z"
      },
      {
        "duration": 166,
        "start_time": "2022-01-20T11:35:52.442Z"
      },
      {
        "duration": 23,
        "start_time": "2022-01-20T11:35:52.610Z"
      },
      {
        "duration": 166,
        "start_time": "2022-01-20T11:35:52.634Z"
      },
      {
        "duration": 14,
        "start_time": "2022-01-20T11:35:52.801Z"
      },
      {
        "duration": 31,
        "start_time": "2022-01-20T11:35:52.817Z"
      },
      {
        "duration": 181,
        "start_time": "2022-01-20T11:35:52.850Z"
      },
      {
        "duration": 219,
        "start_time": "2022-01-20T11:35:53.032Z"
      },
      {
        "duration": 25,
        "start_time": "2022-01-20T11:35:53.253Z"
      },
      {
        "duration": 196,
        "start_time": "2022-01-20T11:35:53.279Z"
      },
      {
        "duration": 171,
        "start_time": "2022-01-20T11:35:53.477Z"
      },
      {
        "duration": 221,
        "start_time": "2022-01-20T11:35:53.650Z"
      },
      {
        "duration": 355,
        "start_time": "2022-01-20T11:35:53.873Z"
      },
      {
        "duration": 189,
        "start_time": "2022-01-20T11:35:54.230Z"
      },
      {
        "duration": 53,
        "start_time": "2022-01-20T11:35:54.421Z"
      },
      {
        "duration": 11,
        "start_time": "2022-01-20T11:35:54.476Z"
      },
      {
        "duration": 11,
        "start_time": "2022-01-20T11:35:54.488Z"
      },
      {
        "duration": 31,
        "start_time": "2022-01-20T11:35:54.501Z"
      },
      {
        "duration": 2,
        "start_time": "2022-01-20T11:35:54.533Z"
      },
      {
        "duration": 7,
        "start_time": "2022-01-20T11:35:54.537Z"
      },
      {
        "duration": 35,
        "start_time": "2022-01-20T11:42:49.564Z"
      },
      {
        "duration": 22,
        "start_time": "2022-01-20T11:53:37.287Z"
      },
      {
        "duration": 21,
        "start_time": "2022-01-20T11:54:25.317Z"
      },
      {
        "duration": 102,
        "start_time": "2022-01-20T11:58:11.128Z"
      },
      {
        "duration": 25,
        "start_time": "2022-01-20T11:59:18.848Z"
      },
      {
        "duration": 22,
        "start_time": "2022-01-20T12:00:08.180Z"
      },
      {
        "duration": 22,
        "start_time": "2022-01-20T12:00:52.134Z"
      },
      {
        "duration": 9,
        "start_time": "2022-01-20T12:02:01.074Z"
      },
      {
        "duration": 12,
        "start_time": "2022-01-20T12:02:19.883Z"
      },
      {
        "duration": 29,
        "start_time": "2022-01-20T12:14:26.837Z"
      },
      {
        "duration": 2,
        "start_time": "2022-01-20T12:15:57.201Z"
      },
      {
        "duration": 1632,
        "start_time": "2022-01-20T12:15:57.205Z"
      },
      {
        "duration": 39,
        "start_time": "2022-01-20T12:15:58.839Z"
      },
      {
        "duration": 5,
        "start_time": "2022-01-20T12:15:58.880Z"
      },
      {
        "duration": 114,
        "start_time": "2022-01-20T12:15:58.886Z"
      },
      {
        "duration": 5751,
        "start_time": "2022-01-20T12:15:59.002Z"
      },
      {
        "duration": 11,
        "start_time": "2022-01-20T12:16:04.755Z"
      },
      {
        "duration": 17,
        "start_time": "2022-01-20T12:16:04.768Z"
      },
      {
        "duration": 41,
        "start_time": "2022-01-20T12:16:04.787Z"
      },
      {
        "duration": 21,
        "start_time": "2022-01-20T12:16:04.829Z"
      },
      {
        "duration": 28,
        "start_time": "2022-01-20T12:16:04.851Z"
      },
      {
        "duration": 549,
        "start_time": "2022-01-20T12:16:04.881Z"
      },
      {
        "duration": 21,
        "start_time": "2022-01-20T12:16:05.432Z"
      },
      {
        "duration": 20,
        "start_time": "2022-01-20T12:16:05.454Z"
      },
      {
        "duration": 314,
        "start_time": "2022-01-20T12:16:05.476Z"
      },
      {
        "duration": 311,
        "start_time": "2022-01-20T12:16:05.792Z"
      },
      {
        "duration": 354,
        "start_time": "2022-01-20T12:16:06.105Z"
      },
      {
        "duration": 226,
        "start_time": "2022-01-20T12:16:06.460Z"
      },
      {
        "duration": 239,
        "start_time": "2022-01-20T12:16:06.688Z"
      },
      {
        "duration": 231,
        "start_time": "2022-01-20T12:16:06.929Z"
      },
      {
        "duration": 84,
        "start_time": "2022-01-20T12:16:07.161Z"
      },
      {
        "duration": 299,
        "start_time": "2022-01-20T12:16:07.246Z"
      },
      {
        "duration": 180,
        "start_time": "2022-01-20T12:16:07.547Z"
      },
      {
        "duration": 16,
        "start_time": "2022-01-20T12:16:07.728Z"
      },
      {
        "duration": 174,
        "start_time": "2022-01-20T12:16:07.745Z"
      },
      {
        "duration": 20,
        "start_time": "2022-01-20T12:16:07.921Z"
      },
      {
        "duration": 164,
        "start_time": "2022-01-20T12:16:07.942Z"
      },
      {
        "duration": 25,
        "start_time": "2022-01-20T12:16:08.108Z"
      },
      {
        "duration": 184,
        "start_time": "2022-01-20T12:16:08.135Z"
      },
      {
        "duration": 16,
        "start_time": "2022-01-20T12:16:08.321Z"
      },
      {
        "duration": 175,
        "start_time": "2022-01-20T12:16:08.339Z"
      },
      {
        "duration": 20,
        "start_time": "2022-01-20T12:16:08.516Z"
      },
      {
        "duration": 239,
        "start_time": "2022-01-20T12:16:08.538Z"
      },
      {
        "duration": 16,
        "start_time": "2022-01-20T12:16:08.778Z"
      },
      {
        "duration": 182,
        "start_time": "2022-01-20T12:16:08.795Z"
      },
      {
        "duration": 15,
        "start_time": "2022-01-20T12:16:08.979Z"
      },
      {
        "duration": 37,
        "start_time": "2022-01-20T12:16:08.995Z"
      },
      {
        "duration": 183,
        "start_time": "2022-01-20T12:16:09.033Z"
      },
      {
        "duration": 226,
        "start_time": "2022-01-20T12:16:09.217Z"
      },
      {
        "duration": 25,
        "start_time": "2022-01-20T12:16:09.445Z"
      },
      {
        "duration": 193,
        "start_time": "2022-01-20T12:16:09.471Z"
      },
      {
        "duration": 171,
        "start_time": "2022-01-20T12:16:09.666Z"
      },
      {
        "duration": 223,
        "start_time": "2022-01-20T12:16:09.839Z"
      },
      {
        "duration": 296,
        "start_time": "2022-01-20T12:16:10.063Z"
      },
      {
        "duration": 196,
        "start_time": "2022-01-20T12:16:10.361Z"
      },
      {
        "duration": 45,
        "start_time": "2022-01-20T12:16:10.558Z"
      },
      {
        "duration": 24,
        "start_time": "2022-01-20T12:16:10.604Z"
      },
      {
        "duration": 9,
        "start_time": "2022-01-20T12:16:10.629Z"
      },
      {
        "duration": 9,
        "start_time": "2022-01-20T12:16:10.640Z"
      },
      {
        "duration": 2,
        "start_time": "2022-01-20T12:16:10.650Z"
      },
      {
        "duration": 29,
        "start_time": "2022-01-20T12:16:10.653Z"
      },
      {
        "duration": 22,
        "start_time": "2022-01-20T12:16:10.683Z"
      },
      {
        "duration": 13,
        "start_time": "2022-01-20T12:16:10.728Z"
      },
      {
        "duration": 2,
        "start_time": "2022-01-20T12:16:10.743Z"
      },
      {
        "duration": 3,
        "start_time": "2022-01-20T12:17:24.057Z"
      },
      {
        "duration": 181,
        "start_time": "2022-01-20T12:17:24.062Z"
      },
      {
        "duration": 84,
        "start_time": "2022-01-20T12:17:24.245Z"
      },
      {
        "duration": 8,
        "start_time": "2022-01-20T12:17:24.331Z"
      },
      {
        "duration": 148,
        "start_time": "2022-01-20T12:17:24.341Z"
      },
      {
        "duration": 7780,
        "start_time": "2022-01-20T12:17:24.491Z"
      },
      {
        "duration": 11,
        "start_time": "2022-01-20T12:17:32.273Z"
      },
      {
        "duration": 18,
        "start_time": "2022-01-20T12:17:32.286Z"
      },
      {
        "duration": 23,
        "start_time": "2022-01-20T12:17:32.305Z"
      },
      {
        "duration": 20,
        "start_time": "2022-01-20T12:17:32.329Z"
      },
      {
        "duration": 27,
        "start_time": "2022-01-20T12:17:32.351Z"
      },
      {
        "duration": 608,
        "start_time": "2022-01-20T12:17:32.379Z"
      },
      {
        "duration": 21,
        "start_time": "2022-01-20T12:17:32.988Z"
      },
      {
        "duration": 25,
        "start_time": "2022-01-20T12:17:33.010Z"
      },
      {
        "duration": 292,
        "start_time": "2022-01-20T12:17:33.037Z"
      },
      {
        "duration": 373,
        "start_time": "2022-01-20T12:17:33.330Z"
      },
      {
        "duration": 464,
        "start_time": "2022-01-20T12:17:33.705Z"
      },
      {
        "duration": 225,
        "start_time": "2022-01-20T12:17:34.171Z"
      },
      {
        "duration": 232,
        "start_time": "2022-01-20T12:17:34.397Z"
      },
      {
        "duration": 223,
        "start_time": "2022-01-20T12:17:34.631Z"
      },
      {
        "duration": 157,
        "start_time": "2022-01-20T12:17:34.855Z"
      },
      {
        "duration": 325,
        "start_time": "2022-01-20T12:17:35.013Z"
      },
      {
        "duration": 185,
        "start_time": "2022-01-20T12:17:35.342Z"
      },
      {
        "duration": 15,
        "start_time": "2022-01-20T12:17:35.529Z"
      },
      {
        "duration": 181,
        "start_time": "2022-01-20T12:17:35.546Z"
      },
      {
        "duration": 16,
        "start_time": "2022-01-20T12:17:35.729Z"
      },
      {
        "duration": 176,
        "start_time": "2022-01-20T12:17:35.747Z"
      },
      {
        "duration": 15,
        "start_time": "2022-01-20T12:17:35.925Z"
      },
      {
        "duration": 187,
        "start_time": "2022-01-20T12:17:35.942Z"
      },
      {
        "duration": 16,
        "start_time": "2022-01-20T12:17:36.131Z"
      },
      {
        "duration": 171,
        "start_time": "2022-01-20T12:17:36.148Z"
      },
      {
        "duration": 21,
        "start_time": "2022-01-20T12:17:36.321Z"
      },
      {
        "duration": 171,
        "start_time": "2022-01-20T12:17:36.343Z"
      },
      {
        "duration": 19,
        "start_time": "2022-01-20T12:17:36.516Z"
      },
      {
        "duration": 166,
        "start_time": "2022-01-20T12:17:36.537Z"
      },
      {
        "duration": 23,
        "start_time": "2022-01-20T12:17:36.704Z"
      },
      {
        "duration": 23,
        "start_time": "2022-01-20T12:17:36.728Z"
      },
      {
        "duration": 180,
        "start_time": "2022-01-20T12:17:36.752Z"
      },
      {
        "duration": 223,
        "start_time": "2022-01-20T12:17:36.933Z"
      },
      {
        "duration": 24,
        "start_time": "2022-01-20T12:17:37.157Z"
      },
      {
        "duration": 260,
        "start_time": "2022-01-20T12:17:37.183Z"
      },
      {
        "duration": 177,
        "start_time": "2022-01-20T12:17:37.445Z"
      },
      {
        "duration": 238,
        "start_time": "2022-01-20T12:17:37.624Z"
      },
      {
        "duration": 321,
        "start_time": "2022-01-20T12:17:37.864Z"
      },
      {
        "duration": 201,
        "start_time": "2022-01-20T12:17:38.187Z"
      },
      {
        "duration": 59,
        "start_time": "2022-01-20T12:17:38.390Z"
      },
      {
        "duration": 12,
        "start_time": "2022-01-20T12:17:38.451Z"
      },
      {
        "duration": 9,
        "start_time": "2022-01-20T12:17:38.464Z"
      },
      {
        "duration": 10,
        "start_time": "2022-01-20T12:17:38.474Z"
      },
      {
        "duration": 2,
        "start_time": "2022-01-20T12:17:38.486Z"
      },
      {
        "duration": 52,
        "start_time": "2022-01-20T12:17:38.490Z"
      },
      {
        "duration": 20,
        "start_time": "2022-01-20T12:17:38.544Z"
      },
      {
        "duration": 14,
        "start_time": "2022-01-20T12:17:38.565Z"
      },
      {
        "duration": 2,
        "start_time": "2022-01-20T12:17:38.581Z"
      },
      {
        "duration": 338,
        "start_time": "2022-01-20T12:20:37.758Z"
      },
      {
        "duration": -38566,
        "start_time": "2022-01-20T12:22:24.360Z"
      },
      {
        "duration": -38568,
        "start_time": "2022-01-20T12:22:46.665Z"
      },
      {
        "duration": -38569,
        "start_time": "2022-01-20T12:22:46.667Z"
      },
      {
        "duration": -38570,
        "start_time": "2022-01-20T12:22:46.669Z"
      },
      {
        "duration": -38571,
        "start_time": "2022-01-20T12:22:46.670Z"
      },
      {
        "duration": -38572,
        "start_time": "2022-01-20T12:22:46.672Z"
      },
      {
        "duration": -38572,
        "start_time": "2022-01-20T12:22:46.673Z"
      },
      {
        "duration": -38576,
        "start_time": "2022-01-20T12:22:46.678Z"
      },
      {
        "duration": -38577,
        "start_time": "2022-01-20T12:22:46.680Z"
      },
      {
        "duration": -38577,
        "start_time": "2022-01-20T12:22:46.681Z"
      },
      {
        "duration": -38581,
        "start_time": "2022-01-20T12:22:46.685Z"
      },
      {
        "duration": -38582,
        "start_time": "2022-01-20T12:22:46.687Z"
      },
      {
        "duration": -38582,
        "start_time": "2022-01-20T12:22:46.688Z"
      },
      {
        "duration": -38582,
        "start_time": "2022-01-20T12:22:46.689Z"
      },
      {
        "duration": -38583,
        "start_time": "2022-01-20T12:22:46.691Z"
      },
      {
        "duration": -38583,
        "start_time": "2022-01-20T12:22:46.692Z"
      },
      {
        "duration": -38584,
        "start_time": "2022-01-20T12:22:46.693Z"
      },
      {
        "duration": -38585,
        "start_time": "2022-01-20T12:22:46.695Z"
      },
      {
        "duration": -38585,
        "start_time": "2022-01-20T12:22:46.696Z"
      },
      {
        "duration": -38585,
        "start_time": "2022-01-20T12:22:46.697Z"
      },
      {
        "duration": -38585,
        "start_time": "2022-01-20T12:22:46.698Z"
      },
      {
        "duration": -38586,
        "start_time": "2022-01-20T12:22:46.700Z"
      },
      {
        "duration": -38586,
        "start_time": "2022-01-20T12:22:46.701Z"
      },
      {
        "duration": -38587,
        "start_time": "2022-01-20T12:22:46.702Z"
      },
      {
        "duration": -38587,
        "start_time": "2022-01-20T12:22:46.703Z"
      },
      {
        "duration": -38587,
        "start_time": "2022-01-20T12:22:46.704Z"
      },
      {
        "duration": -38588,
        "start_time": "2022-01-20T12:22:46.706Z"
      },
      {
        "duration": -38588,
        "start_time": "2022-01-20T12:22:46.707Z"
      },
      {
        "duration": -38588,
        "start_time": "2022-01-20T12:22:46.708Z"
      },
      {
        "duration": -38589,
        "start_time": "2022-01-20T12:22:46.709Z"
      },
      {
        "duration": -38590,
        "start_time": "2022-01-20T12:22:46.711Z"
      },
      {
        "duration": -38590,
        "start_time": "2022-01-20T12:22:46.712Z"
      },
      {
        "duration": -38590,
        "start_time": "2022-01-20T12:22:46.713Z"
      },
      {
        "duration": -38590,
        "start_time": "2022-01-20T12:22:46.714Z"
      },
      {
        "duration": -38594,
        "start_time": "2022-01-20T12:22:46.719Z"
      },
      {
        "duration": -38595,
        "start_time": "2022-01-20T12:22:46.721Z"
      },
      {
        "duration": -38596,
        "start_time": "2022-01-20T12:22:46.722Z"
      },
      {
        "duration": -38597,
        "start_time": "2022-01-20T12:22:46.724Z"
      },
      {
        "duration": -38597,
        "start_time": "2022-01-20T12:22:46.725Z"
      },
      {
        "duration": -38597,
        "start_time": "2022-01-20T12:22:46.726Z"
      },
      {
        "duration": -38598,
        "start_time": "2022-01-20T12:22:46.727Z"
      },
      {
        "duration": -38599,
        "start_time": "2022-01-20T12:22:46.729Z"
      },
      {
        "duration": -38599,
        "start_time": "2022-01-20T12:22:46.730Z"
      },
      {
        "duration": -38599,
        "start_time": "2022-01-20T12:22:46.731Z"
      },
      {
        "duration": -38599,
        "start_time": "2022-01-20T12:22:46.732Z"
      },
      {
        "duration": -38601,
        "start_time": "2022-01-20T12:22:46.734Z"
      },
      {
        "duration": -38601,
        "start_time": "2022-01-20T12:22:46.735Z"
      },
      {
        "duration": -38601,
        "start_time": "2022-01-20T12:22:46.736Z"
      },
      {
        "duration": -38601,
        "start_time": "2022-01-20T12:22:46.737Z"
      },
      {
        "duration": -38601,
        "start_time": "2022-01-20T12:22:46.738Z"
      },
      {
        "duration": -38602,
        "start_time": "2022-01-20T12:22:46.740Z"
      },
      {
        "duration": -38602,
        "start_time": "2022-01-20T12:22:46.741Z"
      },
      {
        "duration": -38602,
        "start_time": "2022-01-20T12:22:46.742Z"
      },
      {
        "duration": -38602,
        "start_time": "2022-01-20T12:22:46.743Z"
      },
      {
        "duration": -38603,
        "start_time": "2022-01-20T12:22:46.745Z"
      },
      {
        "duration": -38604,
        "start_time": "2022-01-20T12:22:46.746Z"
      },
      {
        "duration": 323,
        "start_time": "2022-01-20T12:23:25.667Z"
      },
      {
        "duration": 306,
        "start_time": "2022-01-20T12:23:58.352Z"
      },
      {
        "duration": 348,
        "start_time": "2022-01-20T12:24:10.374Z"
      },
      {
        "duration": 23,
        "start_time": "2022-01-20T12:31:43.162Z"
      },
      {
        "duration": 33,
        "start_time": "2022-01-20T12:32:13.117Z"
      },
      {
        "duration": 2,
        "start_time": "2022-01-20T12:33:17.876Z"
      },
      {
        "duration": 159,
        "start_time": "2022-01-20T12:33:17.881Z"
      },
      {
        "duration": 43,
        "start_time": "2022-01-20T12:33:18.042Z"
      },
      {
        "duration": 7,
        "start_time": "2022-01-20T12:33:18.127Z"
      },
      {
        "duration": 96,
        "start_time": "2022-01-20T12:33:18.136Z"
      },
      {
        "duration": 5735,
        "start_time": "2022-01-20T12:33:18.234Z"
      },
      {
        "duration": 12,
        "start_time": "2022-01-20T12:33:23.970Z"
      },
      {
        "duration": 18,
        "start_time": "2022-01-20T12:33:23.984Z"
      },
      {
        "duration": 20,
        "start_time": "2022-01-20T12:33:24.028Z"
      },
      {
        "duration": 22,
        "start_time": "2022-01-20T12:33:24.050Z"
      },
      {
        "duration": 54,
        "start_time": "2022-01-20T12:33:24.073Z"
      },
      {
        "duration": 628,
        "start_time": "2022-01-20T12:33:24.129Z"
      },
      {
        "duration": 20,
        "start_time": "2022-01-20T12:33:24.758Z"
      },
      {
        "duration": 21,
        "start_time": "2022-01-20T12:33:24.779Z"
      },
      {
        "duration": 318,
        "start_time": "2022-01-20T12:33:24.802Z"
      },
      {
        "duration": 309,
        "start_time": "2022-01-20T12:33:25.122Z"
      },
      {
        "duration": 312,
        "start_time": "2022-01-20T12:33:25.432Z"
      },
      {
        "duration": 250,
        "start_time": "2022-01-20T12:33:25.746Z"
      },
      {
        "duration": 245,
        "start_time": "2022-01-20T12:33:25.997Z"
      },
      {
        "duration": 228,
        "start_time": "2022-01-20T12:33:26.244Z"
      },
      {
        "duration": 84,
        "start_time": "2022-01-20T12:33:26.473Z"
      },
      {
        "duration": 380,
        "start_time": "2022-01-20T12:33:26.559Z"
      },
      {
        "duration": 179,
        "start_time": "2022-01-20T12:33:26.943Z"
      },
      {
        "duration": 17,
        "start_time": "2022-01-20T12:33:27.128Z"
      },
      {
        "duration": 182,
        "start_time": "2022-01-20T12:33:27.147Z"
      },
      {
        "duration": 16,
        "start_time": "2022-01-20T12:33:27.331Z"
      },
      {
        "duration": 173,
        "start_time": "2022-01-20T12:33:27.349Z"
      },
      {
        "duration": 15,
        "start_time": "2022-01-20T12:33:27.524Z"
      },
      {
        "duration": 189,
        "start_time": "2022-01-20T12:33:27.541Z"
      },
      {
        "duration": 22,
        "start_time": "2022-01-20T12:33:27.732Z"
      },
      {
        "duration": 257,
        "start_time": "2022-01-20T12:33:27.756Z"
      },
      {
        "duration": 26,
        "start_time": "2022-01-20T12:33:28.015Z"
      },
      {
        "duration": 249,
        "start_time": "2022-01-20T12:33:28.044Z"
      },
      {
        "duration": 32,
        "start_time": "2022-01-20T12:33:28.295Z"
      },
      {
        "duration": 258,
        "start_time": "2022-01-20T12:33:28.329Z"
      },
      {
        "duration": 15,
        "start_time": "2022-01-20T12:33:28.589Z"
      },
      {
        "duration": 39,
        "start_time": "2022-01-20T12:33:28.606Z"
      },
      {
        "duration": 180,
        "start_time": "2022-01-20T12:33:28.647Z"
      },
      {
        "duration": 218,
        "start_time": "2022-01-20T12:33:28.828Z"
      },
      {
        "duration": 33,
        "start_time": "2022-01-20T12:33:29.048Z"
      },
      {
        "duration": 201,
        "start_time": "2022-01-20T12:33:29.083Z"
      },
      {
        "duration": 251,
        "start_time": "2022-01-20T12:33:29.286Z"
      },
      {
        "duration": 223,
        "start_time": "2022-01-20T12:33:29.539Z"
      },
      {
        "duration": 301,
        "start_time": "2022-01-20T12:33:29.764Z"
      },
      {
        "duration": 197,
        "start_time": "2022-01-20T12:33:30.067Z"
      },
      {
        "duration": 45,
        "start_time": "2022-01-20T12:33:30.266Z"
      },
      {
        "duration": 23,
        "start_time": "2022-01-20T12:33:30.312Z"
      },
      {
        "duration": 10,
        "start_time": "2022-01-20T12:33:30.336Z"
      },
      {
        "duration": 8,
        "start_time": "2022-01-20T12:33:30.348Z"
      },
      {
        "duration": 24,
        "start_time": "2022-01-20T12:33:30.358Z"
      },
      {
        "duration": 46,
        "start_time": "2022-01-20T12:33:30.383Z"
      },
      {
        "duration": 13,
        "start_time": "2022-01-20T12:33:30.430Z"
      },
      {
        "duration": 342,
        "start_time": "2022-01-20T12:33:30.445Z"
      },
      {
        "duration": 2,
        "start_time": "2022-01-20T12:33:30.789Z"
      },
      {
        "duration": 45,
        "start_time": "2022-01-20T12:33:30.793Z"
      },
      {
        "duration": 284,
        "start_time": "2022-01-20T12:34:54.346Z"
      },
      {
        "duration": 361,
        "start_time": "2022-01-20T12:35:49.396Z"
      },
      {
        "duration": 2,
        "start_time": "2022-01-20T12:41:22.301Z"
      },
      {
        "duration": 155,
        "start_time": "2022-01-20T12:41:22.305Z"
      },
      {
        "duration": 74,
        "start_time": "2022-01-20T12:41:22.461Z"
      },
      {
        "duration": 5,
        "start_time": "2022-01-20T12:41:22.537Z"
      },
      {
        "duration": 96,
        "start_time": "2022-01-20T12:41:22.543Z"
      },
      {
        "duration": 6132,
        "start_time": "2022-01-20T12:41:22.640Z"
      },
      {
        "duration": 11,
        "start_time": "2022-01-20T12:41:28.774Z"
      },
      {
        "duration": 18,
        "start_time": "2022-01-20T12:41:28.787Z"
      },
      {
        "duration": 39,
        "start_time": "2022-01-20T12:41:28.806Z"
      },
      {
        "duration": 21,
        "start_time": "2022-01-20T12:41:28.847Z"
      },
      {
        "duration": 29,
        "start_time": "2022-01-20T12:41:28.869Z"
      },
      {
        "duration": 662,
        "start_time": "2022-01-20T12:41:28.900Z"
      },
      {
        "duration": 21,
        "start_time": "2022-01-20T12:41:29.564Z"
      },
      {
        "duration": 42,
        "start_time": "2022-01-20T12:41:29.586Z"
      },
      {
        "duration": 297,
        "start_time": "2022-01-20T12:41:29.630Z"
      },
      {
        "duration": 318,
        "start_time": "2022-01-20T12:41:29.929Z"
      },
      {
        "duration": 296,
        "start_time": "2022-01-20T12:41:30.249Z"
      },
      {
        "duration": 224,
        "start_time": "2022-01-20T12:41:30.547Z"
      },
      {
        "duration": 311,
        "start_time": "2022-01-20T12:41:30.775Z"
      },
      {
        "duration": 242,
        "start_time": "2022-01-20T12:41:31.089Z"
      },
      {
        "duration": 77,
        "start_time": "2022-01-20T12:41:31.333Z"
      },
      {
        "duration": 326,
        "start_time": "2022-01-20T12:41:31.412Z"
      },
      {
        "duration": 178,
        "start_time": "2022-01-20T12:41:31.740Z"
      },
      {
        "duration": 20,
        "start_time": "2022-01-20T12:41:31.919Z"
      },
      {
        "duration": 170,
        "start_time": "2022-01-20T12:41:31.941Z"
      },
      {
        "duration": 28,
        "start_time": "2022-01-20T12:41:32.113Z"
      },
      {
        "duration": 164,
        "start_time": "2022-01-20T12:41:32.143Z"
      },
      {
        "duration": 23,
        "start_time": "2022-01-20T12:41:32.309Z"
      },
      {
        "duration": 180,
        "start_time": "2022-01-20T12:41:32.334Z"
      },
      {
        "duration": 19,
        "start_time": "2022-01-20T12:41:32.516Z"
      },
      {
        "duration": 159,
        "start_time": "2022-01-20T12:41:32.537Z"
      },
      {
        "duration": 15,
        "start_time": "2022-01-20T12:41:32.698Z"
      },
      {
        "duration": 166,
        "start_time": "2022-01-20T12:41:32.714Z"
      },
      {
        "duration": 16,
        "start_time": "2022-01-20T12:41:32.882Z"
      },
      {
        "duration": 186,
        "start_time": "2022-01-20T12:41:32.899Z"
      },
      {
        "duration": 22,
        "start_time": "2022-01-20T12:41:33.087Z"
      },
      {
        "duration": 45,
        "start_time": "2022-01-20T12:41:33.110Z"
      },
      {
        "duration": 352,
        "start_time": "2022-01-20T12:41:33.157Z"
      },
      {
        "duration": 341,
        "start_time": "2022-01-20T12:41:33.511Z"
      },
      {
        "duration": 38,
        "start_time": "2022-01-20T12:41:33.854Z"
      },
      {
        "duration": 290,
        "start_time": "2022-01-20T12:41:33.894Z"
      },
      {
        "duration": 259,
        "start_time": "2022-01-20T12:41:34.186Z"
      },
      {
        "duration": 351,
        "start_time": "2022-01-20T12:41:34.447Z"
      },
      {
        "duration": 298,
        "start_time": "2022-01-20T12:41:34.800Z"
      },
      {
        "duration": 206,
        "start_time": "2022-01-20T12:41:35.099Z"
      },
      {
        "duration": 50,
        "start_time": "2022-01-20T12:41:35.307Z"
      },
      {
        "duration": 12,
        "start_time": "2022-01-20T12:41:35.359Z"
      },
      {
        "duration": 12,
        "start_time": "2022-01-20T12:41:35.373Z"
      },
      {
        "duration": 9,
        "start_time": "2022-01-20T12:41:35.387Z"
      },
      {
        "duration": 50,
        "start_time": "2022-01-20T12:41:35.397Z"
      },
      {
        "duration": 21,
        "start_time": "2022-01-20T12:41:35.449Z"
      },
      {
        "duration": 19,
        "start_time": "2022-01-20T12:41:35.472Z"
      },
      {
        "duration": 372,
        "start_time": "2022-01-20T12:41:35.493Z"
      },
      {
        "duration": 2,
        "start_time": "2022-01-20T12:41:35.867Z"
      },
      {
        "duration": 40,
        "start_time": "2022-01-20T12:41:35.873Z"
      },
      {
        "duration": 299,
        "start_time": "2022-01-20T12:41:35.916Z"
      },
      {
        "duration": 389,
        "start_time": "2022-01-20T12:41:36.217Z"
      },
      {
        "duration": 495,
        "start_time": "2022-01-20T12:41:36.607Z"
      },
      {
        "duration": 493,
        "start_time": "2022-01-20T12:41:37.104Z"
      },
      {
        "duration": 494,
        "start_time": "2022-01-20T12:41:37.599Z"
      },
      {
        "duration": 489,
        "start_time": "2022-01-20T12:41:38.095Z"
      },
      {
        "duration": 368,
        "start_time": "2022-01-20T12:42:24.471Z"
      },
      {
        "duration": 291,
        "start_time": "2022-01-20T12:42:33.381Z"
      },
      {
        "duration": 290,
        "start_time": "2022-01-20T12:42:42.494Z"
      },
      {
        "duration": 293,
        "start_time": "2022-01-20T12:42:51.889Z"
      },
      {
        "duration": 290,
        "start_time": "2022-01-20T12:43:03.138Z"
      },
      {
        "duration": 288,
        "start_time": "2022-01-20T12:43:11.609Z"
      },
      {
        "duration": 349,
        "start_time": "2022-01-20T12:59:52.279Z"
      },
      {
        "duration": 316,
        "start_time": "2022-01-20T13:00:11.597Z"
      },
      {
        "duration": 300,
        "start_time": "2022-01-20T13:00:23.727Z"
      },
      {
        "duration": 749,
        "start_time": "2022-01-20T13:00:30.849Z"
      },
      {
        "duration": 288,
        "start_time": "2022-01-20T13:00:42.054Z"
      },
      {
        "duration": 208,
        "start_time": "2022-01-20T13:04:48.134Z"
      },
      {
        "duration": 175,
        "start_time": "2022-01-20T13:05:27.425Z"
      },
      {
        "duration": 259,
        "start_time": "2022-01-20T13:11:30.723Z"
      },
      {
        "duration": 319,
        "start_time": "2022-01-20T13:12:46.549Z"
      },
      {
        "duration": 293,
        "start_time": "2022-01-20T13:12:49.980Z"
      },
      {
        "duration": 198,
        "start_time": "2022-01-20T13:12:53.219Z"
      },
      {
        "duration": 3,
        "start_time": "2022-01-20T14:18:38.131Z"
      },
      {
        "duration": 144,
        "start_time": "2022-01-20T14:18:38.136Z"
      },
      {
        "duration": 76,
        "start_time": "2022-01-20T14:18:38.282Z"
      },
      {
        "duration": 7,
        "start_time": "2022-01-20T14:18:38.359Z"
      },
      {
        "duration": 112,
        "start_time": "2022-01-20T14:18:38.368Z"
      },
      {
        "duration": 6026,
        "start_time": "2022-01-20T14:18:38.482Z"
      },
      {
        "duration": 19,
        "start_time": "2022-01-20T14:18:44.509Z"
      },
      {
        "duration": 19,
        "start_time": "2022-01-20T14:18:44.532Z"
      },
      {
        "duration": 20,
        "start_time": "2022-01-20T14:18:44.553Z"
      },
      {
        "duration": 21,
        "start_time": "2022-01-20T14:18:44.575Z"
      },
      {
        "duration": 57,
        "start_time": "2022-01-20T14:18:44.598Z"
      },
      {
        "duration": 547,
        "start_time": "2022-01-20T14:18:44.657Z"
      },
      {
        "duration": 30,
        "start_time": "2022-01-20T14:18:45.205Z"
      },
      {
        "duration": 20,
        "start_time": "2022-01-20T14:18:45.237Z"
      },
      {
        "duration": 308,
        "start_time": "2022-01-20T14:18:45.259Z"
      },
      {
        "duration": 370,
        "start_time": "2022-01-20T14:18:45.569Z"
      },
      {
        "duration": 295,
        "start_time": "2022-01-20T14:18:45.941Z"
      },
      {
        "duration": 239,
        "start_time": "2022-01-20T14:18:46.238Z"
      },
      {
        "duration": 235,
        "start_time": "2022-01-20T14:18:46.478Z"
      },
      {
        "duration": 239,
        "start_time": "2022-01-20T14:18:46.714Z"
      },
      {
        "duration": 87,
        "start_time": "2022-01-20T14:18:46.954Z"
      },
      {
        "duration": 308,
        "start_time": "2022-01-20T14:18:47.042Z"
      },
      {
        "duration": 179,
        "start_time": "2022-01-20T14:18:47.354Z"
      },
      {
        "duration": 17,
        "start_time": "2022-01-20T14:18:47.535Z"
      },
      {
        "duration": 180,
        "start_time": "2022-01-20T14:18:47.554Z"
      },
      {
        "duration": 15,
        "start_time": "2022-01-20T14:18:47.736Z"
      },
      {
        "duration": 167,
        "start_time": "2022-01-20T14:18:47.753Z"
      },
      {
        "duration": 16,
        "start_time": "2022-01-20T14:18:47.926Z"
      },
      {
        "duration": 267,
        "start_time": "2022-01-20T14:18:47.943Z"
      },
      {
        "duration": 25,
        "start_time": "2022-01-20T14:18:48.212Z"
      },
      {
        "duration": 169,
        "start_time": "2022-01-20T14:18:48.239Z"
      },
      {
        "duration": 23,
        "start_time": "2022-01-20T14:18:48.409Z"
      },
      {
        "duration": 168,
        "start_time": "2022-01-20T14:18:48.434Z"
      },
      {
        "duration": 16,
        "start_time": "2022-01-20T14:18:48.603Z"
      },
      {
        "duration": 171,
        "start_time": "2022-01-20T14:18:48.627Z"
      },
      {
        "duration": 14,
        "start_time": "2022-01-20T14:18:48.799Z"
      },
      {
        "duration": 33,
        "start_time": "2022-01-20T14:18:48.815Z"
      },
      {
        "duration": 190,
        "start_time": "2022-01-20T14:18:48.849Z"
      },
      {
        "duration": 225,
        "start_time": "2022-01-20T14:18:49.041Z"
      },
      {
        "duration": 24,
        "start_time": "2022-01-20T14:18:49.268Z"
      },
      {
        "duration": 188,
        "start_time": "2022-01-20T14:18:49.294Z"
      },
      {
        "duration": 174,
        "start_time": "2022-01-20T14:18:49.483Z"
      },
      {
        "duration": 222,
        "start_time": "2022-01-20T14:18:49.659Z"
      },
      {
        "duration": 304,
        "start_time": "2022-01-20T14:18:49.883Z"
      },
      {
        "duration": 279,
        "start_time": "2022-01-20T14:18:50.189Z"
      },
      {
        "duration": 65,
        "start_time": "2022-01-20T14:18:50.470Z"
      },
      {
        "duration": 12,
        "start_time": "2022-01-20T14:18:50.536Z"
      },
      {
        "duration": 11,
        "start_time": "2022-01-20T14:18:50.550Z"
      },
      {
        "duration": 10,
        "start_time": "2022-01-20T14:18:50.563Z"
      },
      {
        "duration": 26,
        "start_time": "2022-01-20T14:18:50.574Z"
      },
      {
        "duration": 25,
        "start_time": "2022-01-20T14:18:50.627Z"
      },
      {
        "duration": 13,
        "start_time": "2022-01-20T14:18:50.654Z"
      },
      {
        "duration": 394,
        "start_time": "2022-01-20T14:18:50.668Z"
      },
      {
        "duration": 38,
        "start_time": "2022-01-20T14:18:51.063Z"
      },
      {
        "duration": 312,
        "start_time": "2022-01-20T14:18:51.102Z"
      },
      {
        "duration": 324,
        "start_time": "2022-01-20T14:18:51.416Z"
      },
      {
        "duration": 304,
        "start_time": "2022-01-20T14:18:51.741Z"
      },
      {
        "duration": 301,
        "start_time": "2022-01-20T14:18:52.047Z"
      },
      {
        "duration": 366,
        "start_time": "2022-01-20T14:18:52.350Z"
      },
      {
        "duration": 299,
        "start_time": "2022-01-20T14:18:52.717Z"
      },
      {
        "duration": 216,
        "start_time": "2022-01-20T14:18:53.018Z"
      },
      {
        "duration": 181,
        "start_time": "2022-01-20T14:18:53.236Z"
      },
      {
        "duration": 198,
        "start_time": "2022-01-20T14:18:53.419Z"
      },
      {
        "duration": 235,
        "start_time": "2022-01-20T14:18:53.618Z"
      },
      {
        "duration": 304,
        "start_time": "2022-01-20T14:18:53.855Z"
      },
      {
        "duration": 216,
        "start_time": "2022-01-20T14:18:54.161Z"
      },
      {
        "duration": 724,
        "start_time": "2022-01-24T17:45:39.905Z"
      },
      {
        "duration": 133,
        "start_time": "2022-01-24T17:45:40.631Z"
      },
      {
        "duration": 74,
        "start_time": "2022-01-24T17:45:40.766Z"
      },
      {
        "duration": 6,
        "start_time": "2022-01-24T17:45:40.841Z"
      },
      {
        "duration": 97,
        "start_time": "2022-01-24T17:45:40.848Z"
      },
      {
        "duration": 5748,
        "start_time": "2022-01-24T17:45:40.946Z"
      },
      {
        "duration": 11,
        "start_time": "2022-01-24T17:45:46.695Z"
      },
      {
        "duration": 32,
        "start_time": "2022-01-24T17:45:46.707Z"
      },
      {
        "duration": 20,
        "start_time": "2022-01-24T17:45:46.741Z"
      },
      {
        "duration": 23,
        "start_time": "2022-01-24T17:45:46.763Z"
      },
      {
        "duration": 50,
        "start_time": "2022-01-24T17:45:46.787Z"
      },
      {
        "duration": 584,
        "start_time": "2022-01-24T17:45:46.839Z"
      },
      {
        "duration": 57,
        "start_time": "2022-01-24T17:45:47.427Z"
      },
      {
        "duration": 20,
        "start_time": "2022-01-24T17:45:47.486Z"
      },
      {
        "duration": 358,
        "start_time": "2022-01-24T17:45:47.507Z"
      },
      {
        "duration": 321,
        "start_time": "2022-01-24T17:45:47.867Z"
      },
      {
        "duration": 291,
        "start_time": "2022-01-24T17:45:48.189Z"
      },
      {
        "duration": 221,
        "start_time": "2022-01-24T17:45:48.482Z"
      },
      {
        "duration": 229,
        "start_time": "2022-01-24T17:45:48.705Z"
      },
      {
        "duration": 237,
        "start_time": "2022-01-24T17:45:48.936Z"
      },
      {
        "duration": 86,
        "start_time": "2022-01-24T17:45:49.175Z"
      },
      {
        "duration": 318,
        "start_time": "2022-01-24T17:45:49.262Z"
      },
      {
        "duration": 177,
        "start_time": "2022-01-24T17:45:49.582Z"
      },
      {
        "duration": 23,
        "start_time": "2022-01-24T17:45:49.761Z"
      },
      {
        "duration": 253,
        "start_time": "2022-01-24T17:45:49.786Z"
      },
      {
        "duration": 16,
        "start_time": "2022-01-24T17:45:50.041Z"
      },
      {
        "duration": 220,
        "start_time": "2022-01-24T17:45:50.061Z"
      },
      {
        "duration": 17,
        "start_time": "2022-01-24T17:45:50.286Z"
      },
      {
        "duration": 198,
        "start_time": "2022-01-24T17:45:50.305Z"
      },
      {
        "duration": 22,
        "start_time": "2022-01-24T17:45:50.505Z"
      },
      {
        "duration": 185,
        "start_time": "2022-01-24T17:45:50.528Z"
      },
      {
        "duration": 23,
        "start_time": "2022-01-24T17:45:50.715Z"
      },
      {
        "duration": 179,
        "start_time": "2022-01-24T17:45:50.740Z"
      },
      {
        "duration": 19,
        "start_time": "2022-01-24T17:45:50.921Z"
      },
      {
        "duration": 197,
        "start_time": "2022-01-24T17:45:50.942Z"
      },
      {
        "duration": 19,
        "start_time": "2022-01-24T17:45:51.141Z"
      },
      {
        "duration": 35,
        "start_time": "2022-01-24T17:45:51.162Z"
      },
      {
        "duration": 248,
        "start_time": "2022-01-24T17:45:51.199Z"
      },
      {
        "duration": 251,
        "start_time": "2022-01-24T17:45:51.449Z"
      },
      {
        "duration": 39,
        "start_time": "2022-01-24T17:45:51.702Z"
      },
      {
        "duration": 193,
        "start_time": "2022-01-24T17:45:51.743Z"
      },
      {
        "duration": 185,
        "start_time": "2022-01-24T17:45:51.938Z"
      },
      {
        "duration": 236,
        "start_time": "2022-01-24T17:45:52.125Z"
      },
      {
        "duration": 357,
        "start_time": "2022-01-24T17:45:52.364Z"
      },
      {
        "duration": 200,
        "start_time": "2022-01-24T17:45:52.727Z"
      },
      {
        "duration": 47,
        "start_time": "2022-01-24T17:45:52.929Z"
      },
      {
        "duration": 10,
        "start_time": "2022-01-24T17:45:52.977Z"
      },
      {
        "duration": 8,
        "start_time": "2022-01-24T17:45:52.988Z"
      },
      {
        "duration": 30,
        "start_time": "2022-01-24T17:45:52.998Z"
      },
      {
        "duration": 22,
        "start_time": "2022-01-24T17:45:53.029Z"
      },
      {
        "duration": 20,
        "start_time": "2022-01-24T17:45:53.053Z"
      },
      {
        "duration": 11,
        "start_time": "2022-01-24T17:45:53.074Z"
      },
      {
        "duration": 477,
        "start_time": "2022-01-24T17:45:53.087Z"
      },
      {
        "duration": 49,
        "start_time": "2022-01-24T17:45:53.565Z"
      },
      {
        "duration": 469,
        "start_time": "2022-01-24T17:45:53.616Z"
      },
      {
        "duration": 484,
        "start_time": "2022-01-24T17:45:54.087Z"
      },
      {
        "duration": 300,
        "start_time": "2022-01-24T17:45:54.573Z"
      },
      {
        "duration": 460,
        "start_time": "2022-01-24T17:45:54.874Z"
      },
      {
        "duration": 299,
        "start_time": "2022-01-24T17:45:55.335Z"
      },
      {
        "duration": 296,
        "start_time": "2022-01-24T17:45:55.636Z"
      },
      {
        "duration": 287,
        "start_time": "2022-01-24T17:45:55.934Z"
      },
      {
        "duration": 260,
        "start_time": "2022-01-24T17:45:56.227Z"
      },
      {
        "duration": 202,
        "start_time": "2022-01-24T17:45:56.489Z"
      },
      {
        "duration": 241,
        "start_time": "2022-01-24T17:45:56.693Z"
      },
      {
        "duration": 309,
        "start_time": "2022-01-24T17:45:56.936Z"
      },
      {
        "duration": 273,
        "start_time": "2022-01-24T17:45:57.246Z"
      },
      {
        "duration": 3,
        "start_time": "2022-01-24T17:49:42.260Z"
      },
      {
        "duration": 10,
        "start_time": "2022-01-24T17:49:51.501Z"
      },
      {
        "duration": 309,
        "start_time": "2022-01-30T13:36:40.849Z"
      },
      {
        "duration": 285,
        "start_time": "2022-01-30T13:37:49.656Z"
      },
      {
        "duration": 695,
        "start_time": "2022-01-30T13:37:58.292Z"
      },
      {
        "duration": 185,
        "start_time": "2022-01-30T13:38:00.420Z"
      },
      {
        "duration": 3,
        "start_time": "2022-01-30T13:42:07.747Z"
      },
      {
        "duration": 27,
        "start_time": "2022-01-30T13:42:07.753Z"
      },
      {
        "duration": 174,
        "start_time": "2022-01-30T13:42:07.782Z"
      },
      {
        "duration": 45,
        "start_time": "2022-01-30T13:42:07.999Z"
      },
      {
        "duration": 59,
        "start_time": "2022-01-30T13:42:08.045Z"
      },
      {
        "duration": 9,
        "start_time": "2022-01-30T13:42:08.105Z"
      },
      {
        "duration": 112,
        "start_time": "2022-01-30T13:42:08.116Z"
      },
      {
        "duration": 6528,
        "start_time": "2022-01-30T13:42:08.229Z"
      },
      {
        "duration": 13,
        "start_time": "2022-01-30T13:42:14.759Z"
      },
      {
        "duration": 34,
        "start_time": "2022-01-30T13:42:14.774Z"
      },
      {
        "duration": 22,
        "start_time": "2022-01-30T13:42:14.810Z"
      },
      {
        "duration": 25,
        "start_time": "2022-01-30T13:42:14.834Z"
      },
      {
        "duration": 65,
        "start_time": "2022-01-30T13:42:14.861Z"
      },
      {
        "duration": 637,
        "start_time": "2022-01-30T13:42:14.927Z"
      },
      {
        "duration": 34,
        "start_time": "2022-01-30T13:42:15.566Z"
      },
      {
        "duration": 25,
        "start_time": "2022-01-30T13:42:15.602Z"
      },
      {
        "duration": 449,
        "start_time": "2022-01-30T13:42:15.629Z"
      },
      {
        "duration": 405,
        "start_time": "2022-01-30T13:42:16.080Z"
      },
      {
        "duration": 380,
        "start_time": "2022-01-30T13:42:16.487Z"
      },
      {
        "duration": 303,
        "start_time": "2022-01-30T13:42:16.869Z"
      },
      {
        "duration": 313,
        "start_time": "2022-01-30T13:42:17.174Z"
      },
      {
        "duration": 296,
        "start_time": "2022-01-30T13:42:17.488Z"
      },
      {
        "duration": 98,
        "start_time": "2022-01-30T13:42:17.786Z"
      },
      {
        "duration": 407,
        "start_time": "2022-01-30T13:42:17.886Z"
      },
      {
        "duration": 232,
        "start_time": "2022-01-30T13:42:18.295Z"
      },
      {
        "duration": 18,
        "start_time": "2022-01-30T13:42:18.531Z"
      },
      {
        "duration": 294,
        "start_time": "2022-01-30T13:42:18.552Z"
      },
      {
        "duration": 17,
        "start_time": "2022-01-30T13:42:18.848Z"
      },
      {
        "duration": 209,
        "start_time": "2022-01-30T13:42:18.867Z"
      },
      {
        "duration": 26,
        "start_time": "2022-01-30T13:42:19.078Z"
      },
      {
        "duration": 241,
        "start_time": "2022-01-30T13:42:19.106Z"
      },
      {
        "duration": 20,
        "start_time": "2022-01-30T13:42:19.349Z"
      },
      {
        "duration": 209,
        "start_time": "2022-01-30T13:42:19.371Z"
      },
      {
        "duration": 29,
        "start_time": "2022-01-30T13:42:19.582Z"
      },
      {
        "duration": 197,
        "start_time": "2022-01-30T13:42:19.613Z"
      },
      {
        "duration": 16,
        "start_time": "2022-01-30T13:42:19.811Z"
      },
      {
        "duration": 226,
        "start_time": "2022-01-30T13:42:19.829Z"
      },
      {
        "duration": 18,
        "start_time": "2022-01-30T13:42:20.056Z"
      },
      {
        "duration": 45,
        "start_time": "2022-01-30T13:42:20.075Z"
      },
      {
        "duration": 247,
        "start_time": "2022-01-30T13:42:20.122Z"
      },
      {
        "duration": 282,
        "start_time": "2022-01-30T13:42:20.371Z"
      },
      {
        "duration": 30,
        "start_time": "2022-01-30T13:42:20.655Z"
      },
      {
        "duration": 254,
        "start_time": "2022-01-30T13:42:20.686Z"
      },
      {
        "duration": 222,
        "start_time": "2022-01-30T13:42:20.941Z"
      },
      {
        "duration": 309,
        "start_time": "2022-01-30T13:42:21.164Z"
      },
      {
        "duration": 438,
        "start_time": "2022-01-30T13:42:21.474Z"
      },
      {
        "duration": 258,
        "start_time": "2022-01-30T13:42:21.914Z"
      },
      {
        "duration": 58,
        "start_time": "2022-01-30T13:42:22.174Z"
      },
      {
        "duration": 12,
        "start_time": "2022-01-30T13:42:22.233Z"
      },
      {
        "duration": 12,
        "start_time": "2022-01-30T13:42:22.246Z"
      },
      {
        "duration": 11,
        "start_time": "2022-01-30T13:42:22.259Z"
      },
      {
        "duration": 52,
        "start_time": "2022-01-30T13:42:22.272Z"
      },
      {
        "duration": 25,
        "start_time": "2022-01-30T13:42:22.326Z"
      },
      {
        "duration": 13,
        "start_time": "2022-01-30T13:42:22.353Z"
      },
      {
        "duration": 416,
        "start_time": "2022-01-30T13:42:22.368Z"
      },
      {
        "duration": 46,
        "start_time": "2022-01-30T13:42:22.786Z"
      },
      {
        "duration": 397,
        "start_time": "2022-01-30T13:42:22.833Z"
      },
      {
        "duration": 410,
        "start_time": "2022-01-30T13:42:23.232Z"
      },
      {
        "duration": 407,
        "start_time": "2022-01-30T13:42:23.643Z"
      },
      {
        "duration": 466,
        "start_time": "2022-01-30T13:42:24.052Z"
      },
      {
        "duration": 376,
        "start_time": "2022-01-30T13:42:24.520Z"
      },
      {
        "duration": 400,
        "start_time": "2022-01-30T13:42:24.898Z"
      },
      {
        "duration": 269,
        "start_time": "2022-01-30T13:42:25.300Z"
      },
      {
        "duration": 231,
        "start_time": "2022-01-30T13:42:25.570Z"
      },
      {
        "duration": 248,
        "start_time": "2022-01-30T13:42:25.802Z"
      },
      {
        "duration": 303,
        "start_time": "2022-01-30T13:42:26.052Z"
      },
      {
        "duration": 405,
        "start_time": "2022-01-30T13:42:26.357Z"
      },
      {
        "duration": 337,
        "start_time": "2022-01-30T13:42:26.764Z"
      },
      {
        "duration": 5,
        "start_time": "2022-01-30T13:50:33.983Z"
      },
      {
        "duration": 15,
        "start_time": "2022-01-30T13:50:37.515Z"
      },
      {
        "duration": 423,
        "start_time": "2022-01-30T14:04:24.792Z"
      },
      {
        "duration": 383,
        "start_time": "2022-01-30T14:04:47.538Z"
      },
      {
        "duration": 221,
        "start_time": "2022-01-30T18:26:47.393Z"
      },
      {
        "duration": 681,
        "start_time": "2022-01-30T18:26:54.779Z"
      },
      {
        "duration": 4,
        "start_time": "2022-01-30T18:26:55.462Z"
      },
      {
        "duration": 156,
        "start_time": "2022-01-30T18:26:55.469Z"
      },
      {
        "duration": 74,
        "start_time": "2022-01-30T18:26:55.626Z"
      },
      {
        "duration": 8,
        "start_time": "2022-01-30T18:26:55.702Z"
      },
      {
        "duration": 48,
        "start_time": "2022-01-30T18:26:55.711Z"
      },
      {
        "duration": 90,
        "start_time": "2022-01-30T18:26:55.761Z"
      },
      {
        "duration": 6307,
        "start_time": "2022-01-30T18:26:55.852Z"
      },
      {
        "duration": 15,
        "start_time": "2022-01-30T18:27:02.162Z"
      },
      {
        "duration": 22,
        "start_time": "2022-01-30T18:27:02.180Z"
      },
      {
        "duration": 11,
        "start_time": "2022-01-30T18:27:02.205Z"
      },
      {
        "duration": 53,
        "start_time": "2022-01-30T18:27:02.218Z"
      },
      {
        "duration": 27,
        "start_time": "2022-01-30T18:27:02.273Z"
      },
      {
        "duration": 58,
        "start_time": "2022-01-30T18:27:02.302Z"
      },
      {
        "duration": 603,
        "start_time": "2022-01-30T18:27:02.363Z"
      },
      {
        "duration": 24,
        "start_time": "2022-01-30T18:27:02.969Z"
      },
      {
        "duration": 25,
        "start_time": "2022-01-30T18:27:02.995Z"
      },
      {
        "duration": 437,
        "start_time": "2022-01-30T18:27:03.022Z"
      },
      {
        "duration": 387,
        "start_time": "2022-01-30T18:27:03.461Z"
      },
      {
        "duration": 362,
        "start_time": "2022-01-30T18:27:03.850Z"
      },
      {
        "duration": 275,
        "start_time": "2022-01-30T18:27:04.214Z"
      },
      {
        "duration": 297,
        "start_time": "2022-01-30T18:27:04.491Z"
      },
      {
        "duration": 276,
        "start_time": "2022-01-30T18:27:04.789Z"
      },
      {
        "duration": 101,
        "start_time": "2022-01-30T18:27:05.066Z"
      },
      {
        "duration": 398,
        "start_time": "2022-01-30T18:27:05.168Z"
      },
      {
        "duration": 213,
        "start_time": "2022-01-30T18:27:05.568Z"
      },
      {
        "duration": 19,
        "start_time": "2022-01-30T18:27:05.785Z"
      },
      {
        "duration": 310,
        "start_time": "2022-01-30T18:27:05.807Z"
      },
      {
        "duration": 20,
        "start_time": "2022-01-30T18:27:06.118Z"
      },
      {
        "duration": 200,
        "start_time": "2022-01-30T18:27:06.140Z"
      },
      {
        "duration": 23,
        "start_time": "2022-01-30T18:27:06.342Z"
      },
      {
        "duration": 213,
        "start_time": "2022-01-30T18:27:06.366Z"
      },
      {
        "duration": 18,
        "start_time": "2022-01-30T18:27:06.580Z"
      },
      {
        "duration": 198,
        "start_time": "2022-01-30T18:27:06.600Z"
      },
      {
        "duration": 17,
        "start_time": "2022-01-30T18:27:06.799Z"
      },
      {
        "duration": 201,
        "start_time": "2022-01-30T18:27:06.818Z"
      },
      {
        "duration": 19,
        "start_time": "2022-01-30T18:27:07.022Z"
      },
      {
        "duration": 211,
        "start_time": "2022-01-30T18:27:07.043Z"
      },
      {
        "duration": 18,
        "start_time": "2022-01-30T18:27:07.256Z"
      },
      {
        "duration": 30,
        "start_time": "2022-01-30T18:27:07.276Z"
      },
      {
        "duration": 238,
        "start_time": "2022-01-30T18:27:07.308Z"
      },
      {
        "duration": 262,
        "start_time": "2022-01-30T18:27:07.549Z"
      },
      {
        "duration": 30,
        "start_time": "2022-01-30T18:27:07.813Z"
      },
      {
        "duration": 225,
        "start_time": "2022-01-30T18:27:07.860Z"
      },
      {
        "duration": 196,
        "start_time": "2022-01-30T18:27:08.087Z"
      },
      {
        "duration": 261,
        "start_time": "2022-01-30T18:27:08.285Z"
      },
      {
        "duration": 429,
        "start_time": "2022-01-30T18:27:08.548Z"
      },
      {
        "duration": 237,
        "start_time": "2022-01-30T18:27:08.980Z"
      },
      {
        "duration": 65,
        "start_time": "2022-01-30T18:27:09.219Z"
      },
      {
        "duration": 13,
        "start_time": "2022-01-30T18:27:09.286Z"
      },
      {
        "duration": 13,
        "start_time": "2022-01-30T18:27:09.300Z"
      },
      {
        "duration": 13,
        "start_time": "2022-01-30T18:27:09.314Z"
      },
      {
        "duration": 55,
        "start_time": "2022-01-30T18:27:09.329Z"
      },
      {
        "duration": 25,
        "start_time": "2022-01-30T18:27:09.387Z"
      },
      {
        "duration": 14,
        "start_time": "2022-01-30T18:27:09.414Z"
      },
      {
        "duration": 394,
        "start_time": "2022-01-30T18:27:09.430Z"
      },
      {
        "duration": 47,
        "start_time": "2022-01-30T18:27:09.825Z"
      },
      {
        "duration": 362,
        "start_time": "2022-01-30T18:27:09.874Z"
      },
      {
        "duration": 376,
        "start_time": "2022-01-30T18:27:10.238Z"
      },
      {
        "duration": 360,
        "start_time": "2022-01-30T18:27:10.616Z"
      },
      {
        "duration": 435,
        "start_time": "2022-01-30T18:27:10.979Z"
      },
      {
        "duration": 358,
        "start_time": "2022-01-30T18:27:11.416Z"
      },
      {
        "duration": 385,
        "start_time": "2022-01-30T18:27:11.776Z"
      },
      {
        "duration": 260,
        "start_time": "2022-01-30T18:27:12.163Z"
      },
      {
        "duration": 213,
        "start_time": "2022-01-30T18:27:12.425Z"
      },
      {
        "duration": 240,
        "start_time": "2022-01-30T18:27:12.640Z"
      },
      {
        "duration": 270,
        "start_time": "2022-01-30T18:27:12.882Z"
      },
      {
        "duration": 359,
        "start_time": "2022-01-30T18:27:13.153Z"
      },
      {
        "duration": 336,
        "start_time": "2022-01-30T18:27:13.513Z"
      },
      {
        "duration": 368,
        "start_time": "2022-01-30T18:27:33.938Z"
      },
      {
        "duration": 280,
        "start_time": "2022-01-30T18:27:53.068Z"
      },
      {
        "duration": 259,
        "start_time": "2022-01-30T18:28:06.485Z"
      },
      {
        "duration": 269,
        "start_time": "2022-01-30T18:28:26.048Z"
      },
      {
        "duration": 270,
        "start_time": "2022-01-30T18:28:38.546Z"
      },
      {
        "duration": 359,
        "start_time": "2022-01-30T18:37:04.051Z"
      },
      {
        "duration": 381,
        "start_time": "2022-01-30T18:37:18.766Z"
      },
      {
        "duration": 377,
        "start_time": "2022-01-30T18:37:38.178Z"
      },
      {
        "duration": 4,
        "start_time": "2022-01-30T18:41:00.124Z"
      },
      {
        "duration": 423,
        "start_time": "2022-01-30T18:41:02.371Z"
      },
      {
        "duration": 386,
        "start_time": "2022-01-30T18:42:13.918Z"
      },
      {
        "duration": 3,
        "start_time": "2022-01-30T18:46:14.215Z"
      },
      {
        "duration": 4,
        "start_time": "2022-01-30T18:46:15.505Z"
      },
      {
        "duration": 3,
        "start_time": "2022-01-30T18:46:41.218Z"
      },
      {
        "duration": 4,
        "start_time": "2022-01-30T18:46:57.897Z"
      },
      {
        "duration": 349,
        "start_time": "2022-01-30T18:46:59.721Z"
      },
      {
        "duration": 205,
        "start_time": "2022-01-30T18:47:30.940Z"
      },
      {
        "duration": 3,
        "start_time": "2022-01-30T18:47:34.101Z"
      },
      {
        "duration": 388,
        "start_time": "2022-01-30T18:47:35.188Z"
      },
      {
        "duration": 369,
        "start_time": "2022-01-30T18:47:59.273Z"
      },
      {
        "duration": 824,
        "start_time": "2022-01-30T18:48:05.871Z"
      },
      {
        "duration": 360,
        "start_time": "2022-01-30T18:48:35.969Z"
      },
      {
        "duration": 396,
        "start_time": "2022-01-30T18:49:03.618Z"
      },
      {
        "duration": 361,
        "start_time": "2022-01-30T18:49:40.193Z"
      },
      {
        "duration": 451,
        "start_time": "2022-01-30T18:50:09.968Z"
      },
      {
        "duration": 370,
        "start_time": "2022-01-30T18:51:05.568Z"
      },
      {
        "duration": 3,
        "start_time": "2022-01-30T18:51:27.828Z"
      },
      {
        "duration": 6,
        "start_time": "2022-01-30T18:51:27.834Z"
      },
      {
        "duration": 150,
        "start_time": "2022-01-30T18:51:27.842Z"
      },
      {
        "duration": 85,
        "start_time": "2022-01-30T18:51:27.993Z"
      },
      {
        "duration": 9,
        "start_time": "2022-01-30T18:51:28.080Z"
      },
      {
        "duration": 6,
        "start_time": "2022-01-30T18:51:28.091Z"
      },
      {
        "duration": 129,
        "start_time": "2022-01-30T18:51:28.098Z"
      },
      {
        "duration": 6251,
        "start_time": "2022-01-30T18:51:28.229Z"
      },
      {
        "duration": 14,
        "start_time": "2022-01-30T18:51:34.482Z"
      },
      {
        "duration": 20,
        "start_time": "2022-01-30T18:51:34.499Z"
      },
      {
        "duration": 10,
        "start_time": "2022-01-30T18:51:34.521Z"
      },
      {
        "duration": 41,
        "start_time": "2022-01-30T18:51:34.533Z"
      },
      {
        "duration": 27,
        "start_time": "2022-01-30T18:51:34.576Z"
      },
      {
        "duration": 58,
        "start_time": "2022-01-30T18:51:34.604Z"
      },
      {
        "duration": 573,
        "start_time": "2022-01-30T18:51:34.664Z"
      },
      {
        "duration": 33,
        "start_time": "2022-01-30T18:51:35.238Z"
      },
      {
        "duration": 25,
        "start_time": "2022-01-30T18:51:35.273Z"
      },
      {
        "duration": 2,
        "start_time": "2022-01-30T18:51:35.300Z"
      },
      {
        "duration": 7,
        "start_time": "2022-01-30T18:51:35.304Z"
      },
      {
        "duration": 382,
        "start_time": "2022-01-30T18:51:35.312Z"
      },
      {
        "duration": 363,
        "start_time": "2022-01-30T18:51:35.696Z"
      },
      {
        "duration": 441,
        "start_time": "2022-01-30T18:51:36.060Z"
      },
      {
        "duration": 359,
        "start_time": "2022-01-30T18:51:36.502Z"
      },
      {
        "duration": 376,
        "start_time": "2022-01-30T18:51:36.863Z"
      },
      {
        "duration": 384,
        "start_time": "2022-01-30T18:51:37.245Z"
      },
      {
        "duration": 94,
        "start_time": "2022-01-30T18:51:37.633Z"
      },
      {
        "duration": 373,
        "start_time": "2022-01-30T18:51:37.730Z"
      },
      {
        "duration": 201,
        "start_time": "2022-01-30T18:51:38.106Z"
      },
      {
        "duration": 19,
        "start_time": "2022-01-30T18:51:38.309Z"
      },
      {
        "duration": 218,
        "start_time": "2022-01-30T18:51:38.330Z"
      },
      {
        "duration": 21,
        "start_time": "2022-01-30T18:51:38.550Z"
      },
      {
        "duration": 275,
        "start_time": "2022-01-30T18:51:38.573Z"
      },
      {
        "duration": 24,
        "start_time": "2022-01-30T18:51:38.850Z"
      },
      {
        "duration": 217,
        "start_time": "2022-01-30T18:51:38.875Z"
      },
      {
        "duration": 17,
        "start_time": "2022-01-30T18:51:39.095Z"
      },
      {
        "duration": 198,
        "start_time": "2022-01-30T18:51:39.113Z"
      },
      {
        "duration": 17,
        "start_time": "2022-01-30T18:51:39.313Z"
      },
      {
        "duration": 188,
        "start_time": "2022-01-30T18:51:39.331Z"
      },
      {
        "duration": 16,
        "start_time": "2022-01-30T18:51:39.521Z"
      },
      {
        "duration": 206,
        "start_time": "2022-01-30T18:51:39.539Z"
      },
      {
        "duration": 21,
        "start_time": "2022-01-30T18:51:39.747Z"
      },
      {
        "duration": 27,
        "start_time": "2022-01-30T18:51:39.769Z"
      },
      {
        "duration": 226,
        "start_time": "2022-01-30T18:51:39.798Z"
      },
      {
        "duration": 261,
        "start_time": "2022-01-30T18:51:40.026Z"
      },
      {
        "duration": 28,
        "start_time": "2022-01-30T18:51:40.289Z"
      },
      {
        "duration": 228,
        "start_time": "2022-01-30T18:51:40.319Z"
      },
      {
        "duration": 204,
        "start_time": "2022-01-30T18:51:40.549Z"
      },
      {
        "duration": 259,
        "start_time": "2022-01-30T18:51:40.754Z"
      },
      {
        "duration": 420,
        "start_time": "2022-01-30T18:51:41.015Z"
      },
      {
        "duration": 232,
        "start_time": "2022-01-30T18:51:41.437Z"
      },
      {
        "duration": 51,
        "start_time": "2022-01-30T18:51:41.672Z"
      },
      {
        "duration": 11,
        "start_time": "2022-01-30T18:51:41.725Z"
      },
      {
        "duration": 12,
        "start_time": "2022-01-30T18:51:41.759Z"
      },
      {
        "duration": 11,
        "start_time": "2022-01-30T18:51:41.772Z"
      },
      {
        "duration": 25,
        "start_time": "2022-01-30T18:51:41.785Z"
      },
      {
        "duration": 52,
        "start_time": "2022-01-30T18:51:41.812Z"
      },
      {
        "duration": 14,
        "start_time": "2022-01-30T18:51:41.866Z"
      },
      {
        "duration": 379,
        "start_time": "2022-01-30T18:51:41.882Z"
      },
      {
        "duration": 39,
        "start_time": "2022-01-30T18:51:42.263Z"
      },
      {
        "duration": 361,
        "start_time": "2022-01-30T18:51:42.303Z"
      },
      {
        "duration": 364,
        "start_time": "2022-01-30T18:51:42.665Z"
      },
      {
        "duration": 359,
        "start_time": "2022-01-30T18:51:43.031Z"
      },
      {
        "duration": 351,
        "start_time": "2022-01-30T18:51:43.392Z"
      },
      {
        "duration": 432,
        "start_time": "2022-01-30T18:51:43.745Z"
      },
      {
        "duration": 350,
        "start_time": "2022-01-30T18:51:44.179Z"
      },
      {
        "duration": 251,
        "start_time": "2022-01-30T18:51:44.531Z"
      },
      {
        "duration": 206,
        "start_time": "2022-01-30T18:51:44.784Z"
      },
      {
        "duration": 226,
        "start_time": "2022-01-30T18:51:44.992Z"
      },
      {
        "duration": 292,
        "start_time": "2022-01-30T18:51:45.220Z"
      },
      {
        "duration": 369,
        "start_time": "2022-01-30T18:51:45.517Z"
      },
      {
        "duration": 245,
        "start_time": "2022-01-30T18:51:45.888Z"
      },
      {
        "duration": 439,
        "start_time": "2022-01-30T18:52:10.536Z"
      },
      {
        "duration": 3,
        "start_time": "2022-01-30T18:52:18.902Z"
      },
      {
        "duration": 5,
        "start_time": "2022-01-30T18:52:18.907Z"
      },
      {
        "duration": 184,
        "start_time": "2022-01-30T18:52:18.915Z"
      },
      {
        "duration": 87,
        "start_time": "2022-01-30T18:52:19.101Z"
      },
      {
        "duration": 9,
        "start_time": "2022-01-30T18:52:19.190Z"
      },
      {
        "duration": 7,
        "start_time": "2022-01-30T18:52:19.201Z"
      },
      {
        "duration": 122,
        "start_time": "2022-01-30T18:52:19.210Z"
      },
      {
        "duration": 6232,
        "start_time": "2022-01-30T18:52:19.334Z"
      },
      {
        "duration": 13,
        "start_time": "2022-01-30T18:52:25.569Z"
      },
      {
        "duration": 22,
        "start_time": "2022-01-30T18:52:25.584Z"
      },
      {
        "duration": 9,
        "start_time": "2022-01-30T18:52:25.608Z"
      },
      {
        "duration": 46,
        "start_time": "2022-01-30T18:52:25.618Z"
      },
      {
        "duration": 26,
        "start_time": "2022-01-30T18:52:25.666Z"
      },
      {
        "duration": 33,
        "start_time": "2022-01-30T18:52:25.694Z"
      },
      {
        "duration": 604,
        "start_time": "2022-01-30T18:52:25.728Z"
      },
      {
        "duration": 34,
        "start_time": "2022-01-30T18:52:26.333Z"
      },
      {
        "duration": 25,
        "start_time": "2022-01-30T18:52:26.368Z"
      },
      {
        "duration": 3,
        "start_time": "2022-01-30T18:52:26.394Z"
      },
      {
        "duration": 6,
        "start_time": "2022-01-30T18:52:26.399Z"
      },
      {
        "duration": 374,
        "start_time": "2022-01-30T18:52:26.407Z"
      },
      {
        "duration": 361,
        "start_time": "2022-01-30T18:52:26.783Z"
      },
      {
        "duration": 341,
        "start_time": "2022-01-30T18:52:27.145Z"
      },
      {
        "duration": 452,
        "start_time": "2022-01-30T18:52:27.488Z"
      },
      {
        "duration": 361,
        "start_time": "2022-01-30T18:52:27.942Z"
      },
      {
        "duration": 362,
        "start_time": "2022-01-30T18:52:28.305Z"
      },
      {
        "duration": 98,
        "start_time": "2022-01-30T18:52:28.669Z"
      },
      {
        "duration": 360,
        "start_time": "2022-01-30T18:52:28.771Z"
      },
      {
        "duration": 203,
        "start_time": "2022-01-30T18:52:29.134Z"
      },
      {
        "duration": 30,
        "start_time": "2022-01-30T18:52:29.339Z"
      },
      {
        "duration": 190,
        "start_time": "2022-01-30T18:52:29.371Z"
      },
      {
        "duration": 18,
        "start_time": "2022-01-30T18:52:29.563Z"
      },
      {
        "duration": 200,
        "start_time": "2022-01-30T18:52:29.583Z"
      },
      {
        "duration": 19,
        "start_time": "2022-01-30T18:52:29.785Z"
      },
      {
        "duration": 310,
        "start_time": "2022-01-30T18:52:29.805Z"
      },
      {
        "duration": 19,
        "start_time": "2022-01-30T18:52:30.117Z"
      },
      {
        "duration": 208,
        "start_time": "2022-01-30T18:52:30.138Z"
      },
      {
        "duration": 25,
        "start_time": "2022-01-30T18:52:30.348Z"
      },
      {
        "duration": 211,
        "start_time": "2022-01-30T18:52:30.375Z"
      },
      {
        "duration": 18,
        "start_time": "2022-01-30T18:52:30.588Z"
      },
      {
        "duration": 220,
        "start_time": "2022-01-30T18:52:30.608Z"
      },
      {
        "duration": 28,
        "start_time": "2022-01-30T18:52:30.830Z"
      },
      {
        "duration": 32,
        "start_time": "2022-01-30T18:52:30.861Z"
      },
      {
        "duration": 230,
        "start_time": "2022-01-30T18:52:30.895Z"
      },
      {
        "duration": 272,
        "start_time": "2022-01-30T18:52:31.127Z"
      },
      {
        "duration": 31,
        "start_time": "2022-01-30T18:52:31.401Z"
      },
      {
        "duration": 239,
        "start_time": "2022-01-30T18:52:31.434Z"
      },
      {
        "duration": 207,
        "start_time": "2022-01-30T18:52:31.675Z"
      },
      {
        "duration": 275,
        "start_time": "2022-01-30T18:52:31.884Z"
      },
      {
        "duration": 337,
        "start_time": "2022-01-30T18:52:32.160Z"
      },
      {
        "duration": 307,
        "start_time": "2022-01-30T18:52:32.498Z"
      },
      {
        "duration": 59,
        "start_time": "2022-01-30T18:52:32.807Z"
      },
      {
        "duration": 11,
        "start_time": "2022-01-30T18:52:32.868Z"
      },
      {
        "duration": 11,
        "start_time": "2022-01-30T18:52:32.881Z"
      },
      {
        "duration": 11,
        "start_time": "2022-01-30T18:52:32.893Z"
      },
      {
        "duration": 55,
        "start_time": "2022-01-30T18:52:32.906Z"
      },
      {
        "duration": 23,
        "start_time": "2022-01-30T18:52:32.963Z"
      },
      {
        "duration": 15,
        "start_time": "2022-01-30T18:52:32.988Z"
      },
      {
        "duration": 409,
        "start_time": "2022-01-30T18:52:33.004Z"
      },
      {
        "duration": 46,
        "start_time": "2022-01-30T18:52:33.415Z"
      },
      {
        "duration": 357,
        "start_time": "2022-01-30T18:52:33.462Z"
      },
      {
        "duration": 370,
        "start_time": "2022-01-30T18:52:33.821Z"
      },
      {
        "duration": 363,
        "start_time": "2022-01-30T18:52:34.193Z"
      },
      {
        "duration": 356,
        "start_time": "2022-01-30T18:52:34.557Z"
      },
      {
        "duration": 439,
        "start_time": "2022-01-30T18:52:34.914Z"
      },
      {
        "duration": 362,
        "start_time": "2022-01-30T18:52:35.355Z"
      },
      {
        "duration": 263,
        "start_time": "2022-01-30T18:52:35.720Z"
      },
      {
        "duration": 215,
        "start_time": "2022-01-30T18:52:35.985Z"
      },
      {
        "duration": 226,
        "start_time": "2022-01-30T18:52:36.202Z"
      },
      {
        "duration": 269,
        "start_time": "2022-01-30T18:52:36.431Z"
      },
      {
        "duration": 362,
        "start_time": "2022-01-30T18:52:36.702Z"
      },
      {
        "duration": 235,
        "start_time": "2022-01-30T18:52:37.067Z"
      },
      {
        "duration": 3,
        "start_time": "2022-01-30T18:58:31.294Z"
      },
      {
        "duration": 14,
        "start_time": "2022-01-30T18:58:31.299Z"
      },
      {
        "duration": 192,
        "start_time": "2022-01-30T18:58:31.316Z"
      },
      {
        "duration": 94,
        "start_time": "2022-01-30T18:58:31.510Z"
      },
      {
        "duration": 11,
        "start_time": "2022-01-30T18:58:31.605Z"
      },
      {
        "duration": 49,
        "start_time": "2022-01-30T18:58:31.618Z"
      },
      {
        "duration": 118,
        "start_time": "2022-01-30T18:58:31.670Z"
      },
      {
        "duration": 6346,
        "start_time": "2022-01-30T18:58:31.790Z"
      },
      {
        "duration": 21,
        "start_time": "2022-01-30T18:58:38.139Z"
      },
      {
        "duration": 21,
        "start_time": "2022-01-30T18:58:38.162Z"
      },
      {
        "duration": 8,
        "start_time": "2022-01-30T18:58:38.185Z"
      },
      {
        "duration": 19,
        "start_time": "2022-01-30T18:58:38.195Z"
      },
      {
        "duration": 54,
        "start_time": "2022-01-30T18:58:38.215Z"
      },
      {
        "duration": 34,
        "start_time": "2022-01-30T18:58:38.271Z"
      },
      {
        "duration": 694,
        "start_time": "2022-01-30T18:58:38.307Z"
      },
      {
        "duration": 25,
        "start_time": "2022-01-30T18:58:39.003Z"
      },
      {
        "duration": 41,
        "start_time": "2022-01-30T18:58:39.030Z"
      },
      {
        "duration": 4,
        "start_time": "2022-01-30T18:58:39.073Z"
      },
      {
        "duration": 5,
        "start_time": "2022-01-30T18:58:39.079Z"
      },
      {
        "duration": 368,
        "start_time": "2022-01-30T18:58:39.086Z"
      },
      {
        "duration": 352,
        "start_time": "2022-01-30T18:58:39.455Z"
      },
      {
        "duration": 366,
        "start_time": "2022-01-30T18:58:39.809Z"
      },
      {
        "duration": 369,
        "start_time": "2022-01-30T18:58:40.177Z"
      },
      {
        "duration": 465,
        "start_time": "2022-01-30T18:58:40.548Z"
      },
      {
        "duration": 382,
        "start_time": "2022-01-30T18:58:41.015Z"
      },
      {
        "duration": 100,
        "start_time": "2022-01-30T18:58:41.398Z"
      },
      {
        "duration": 388,
        "start_time": "2022-01-30T18:58:41.502Z"
      },
      {
        "duration": 214,
        "start_time": "2022-01-30T18:58:41.893Z"
      },
      {
        "duration": 3,
        "start_time": "2022-01-30T18:58:42.109Z"
      },
      {
        "duration": 487,
        "start_time": "2022-01-30T18:58:42.113Z"
      },
      {
        "duration": -46380,
        "start_time": "2022-01-30T18:59:28.982Z"
      },
      {
        "duration": -46382,
        "start_time": "2022-01-30T18:59:28.986Z"
      },
      {
        "duration": -46384,
        "start_time": "2022-01-30T18:59:28.989Z"
      },
      {
        "duration": -46387,
        "start_time": "2022-01-30T18:59:28.992Z"
      },
      {
        "duration": -46390,
        "start_time": "2022-01-30T18:59:28.996Z"
      },
      {
        "duration": -46392,
        "start_time": "2022-01-30T18:59:29.000Z"
      },
      {
        "duration": -46395,
        "start_time": "2022-01-30T18:59:29.003Z"
      },
      {
        "duration": -46397,
        "start_time": "2022-01-30T18:59:29.006Z"
      },
      {
        "duration": -46398,
        "start_time": "2022-01-30T18:59:29.008Z"
      },
      {
        "duration": -46402,
        "start_time": "2022-01-30T18:59:29.013Z"
      },
      {
        "duration": -46404,
        "start_time": "2022-01-30T18:59:29.016Z"
      },
      {
        "duration": -46407,
        "start_time": "2022-01-30T18:59:29.020Z"
      },
      {
        "duration": -46410,
        "start_time": "2022-01-30T18:59:29.024Z"
      },
      {
        "duration": -46412,
        "start_time": "2022-01-30T18:59:29.027Z"
      },
      {
        "duration": -46436,
        "start_time": "2022-01-30T18:59:29.052Z"
      },
      {
        "duration": -46439,
        "start_time": "2022-01-30T18:59:29.056Z"
      },
      {
        "duration": -46441,
        "start_time": "2022-01-30T18:59:29.059Z"
      },
      {
        "duration": -46444,
        "start_time": "2022-01-30T18:59:29.063Z"
      },
      {
        "duration": -46445,
        "start_time": "2022-01-30T18:59:29.065Z"
      },
      {
        "duration": -46448,
        "start_time": "2022-01-30T18:59:29.069Z"
      },
      {
        "duration": -46450,
        "start_time": "2022-01-30T18:59:29.072Z"
      },
      {
        "duration": -46451,
        "start_time": "2022-01-30T18:59:29.075Z"
      },
      {
        "duration": -46462,
        "start_time": "2022-01-30T18:59:29.087Z"
      },
      {
        "duration": -46467,
        "start_time": "2022-01-30T18:59:29.092Z"
      },
      {
        "duration": -46469,
        "start_time": "2022-01-30T18:59:29.096Z"
      },
      {
        "duration": -46471,
        "start_time": "2022-01-30T18:59:29.099Z"
      },
      {
        "duration": -46473,
        "start_time": "2022-01-30T18:59:29.102Z"
      },
      {
        "duration": -46476,
        "start_time": "2022-01-30T18:59:29.106Z"
      },
      {
        "duration": -46477,
        "start_time": "2022-01-30T18:59:29.108Z"
      },
      {
        "duration": -46479,
        "start_time": "2022-01-30T18:59:29.111Z"
      },
      {
        "duration": -46481,
        "start_time": "2022-01-30T18:59:29.114Z"
      },
      {
        "duration": -46484,
        "start_time": "2022-01-30T18:59:29.118Z"
      },
      {
        "duration": -46486,
        "start_time": "2022-01-30T18:59:29.121Z"
      },
      {
        "duration": -46488,
        "start_time": "2022-01-30T18:59:29.124Z"
      },
      {
        "duration": -46490,
        "start_time": "2022-01-30T18:59:29.127Z"
      },
      {
        "duration": -46492,
        "start_time": "2022-01-30T18:59:29.130Z"
      },
      {
        "duration": -46474,
        "start_time": "2022-01-30T18:59:29.133Z"
      },
      {
        "duration": -46476,
        "start_time": "2022-01-30T18:59:29.136Z"
      },
      {
        "duration": -46479,
        "start_time": "2022-01-30T18:59:29.141Z"
      },
      {
        "duration": -46481,
        "start_time": "2022-01-30T18:59:29.144Z"
      },
      {
        "duration": -46483,
        "start_time": "2022-01-30T18:59:29.147Z"
      },
      {
        "duration": -46485,
        "start_time": "2022-01-30T18:59:29.150Z"
      },
      {
        "duration": 3,
        "start_time": "2022-01-30T19:00:10.388Z"
      },
      {
        "duration": 18,
        "start_time": "2022-01-30T19:00:10.395Z"
      },
      {
        "duration": 170,
        "start_time": "2022-01-30T19:00:10.416Z"
      },
      {
        "duration": 79,
        "start_time": "2022-01-30T19:00:10.588Z"
      },
      {
        "duration": 9,
        "start_time": "2022-01-30T19:00:10.669Z"
      },
      {
        "duration": 14,
        "start_time": "2022-01-30T19:00:10.680Z"
      },
      {
        "duration": 105,
        "start_time": "2022-01-30T19:00:10.696Z"
      },
      {
        "duration": 6510,
        "start_time": "2022-01-30T19:00:10.803Z"
      },
      {
        "duration": 14,
        "start_time": "2022-01-30T19:00:17.316Z"
      },
      {
        "duration": 52,
        "start_time": "2022-01-30T19:00:17.333Z"
      },
      {
        "duration": 14,
        "start_time": "2022-01-30T19:00:17.387Z"
      },
      {
        "duration": 21,
        "start_time": "2022-01-30T19:00:17.403Z"
      },
      {
        "duration": 49,
        "start_time": "2022-01-30T19:00:17.425Z"
      },
      {
        "duration": 36,
        "start_time": "2022-01-30T19:00:17.476Z"
      },
      {
        "duration": 607,
        "start_time": "2022-01-30T19:00:17.515Z"
      },
      {
        "duration": 36,
        "start_time": "2022-01-30T19:00:18.124Z"
      },
      {
        "duration": 25,
        "start_time": "2022-01-30T19:00:18.162Z"
      },
      {
        "duration": 3,
        "start_time": "2022-01-30T19:00:18.189Z"
      },
      {
        "duration": 7,
        "start_time": "2022-01-30T19:00:18.193Z"
      },
      {
        "duration": 373,
        "start_time": "2022-01-30T19:00:18.201Z"
      },
      {
        "duration": 449,
        "start_time": "2022-01-30T19:00:18.575Z"
      },
      {
        "duration": 366,
        "start_time": "2022-01-30T19:00:19.026Z"
      },
      {
        "duration": 379,
        "start_time": "2022-01-30T19:00:19.395Z"
      },
      {
        "duration": 386,
        "start_time": "2022-01-30T19:00:19.776Z"
      },
      {
        "duration": 397,
        "start_time": "2022-01-30T19:00:20.164Z"
      },
      {
        "duration": 102,
        "start_time": "2022-01-30T19:00:20.563Z"
      },
      {
        "duration": 492,
        "start_time": "2022-01-30T19:00:20.669Z"
      },
      {
        "duration": 226,
        "start_time": "2022-01-30T19:00:21.164Z"
      },
      {
        "duration": 4,
        "start_time": "2022-01-30T19:00:21.392Z"
      },
      {
        "duration": 20,
        "start_time": "2022-01-30T19:00:21.398Z"
      },
      {
        "duration": 227,
        "start_time": "2022-01-30T19:00:21.420Z"
      },
      {
        "duration": 24,
        "start_time": "2022-01-30T19:00:21.649Z"
      },
      {
        "duration": 198,
        "start_time": "2022-01-30T19:00:21.675Z"
      },
      {
        "duration": 18,
        "start_time": "2022-01-30T19:00:21.874Z"
      },
      {
        "duration": 219,
        "start_time": "2022-01-30T19:00:21.894Z"
      },
      {
        "duration": 18,
        "start_time": "2022-01-30T19:00:22.115Z"
      },
      {
        "duration": 207,
        "start_time": "2022-01-30T19:00:22.135Z"
      },
      {
        "duration": 28,
        "start_time": "2022-01-30T19:00:22.344Z"
      },
      {
        "duration": 205,
        "start_time": "2022-01-30T19:00:22.374Z"
      },
      {
        "duration": 19,
        "start_time": "2022-01-30T19:00:22.581Z"
      },
      {
        "duration": 223,
        "start_time": "2022-01-30T19:00:22.602Z"
      },
      {
        "duration": 19,
        "start_time": "2022-01-30T19:00:22.827Z"
      },
      {
        "duration": 31,
        "start_time": "2022-01-30T19:00:22.859Z"
      },
      {
        "duration": 241,
        "start_time": "2022-01-30T19:00:22.892Z"
      },
      {
        "duration": 279,
        "start_time": "2022-01-30T19:00:23.134Z"
      },
      {
        "duration": 29,
        "start_time": "2022-01-30T19:00:23.414Z"
      },
      {
        "duration": 245,
        "start_time": "2022-01-30T19:00:23.445Z"
      },
      {
        "duration": 301,
        "start_time": "2022-01-30T19:00:23.692Z"
      },
      {
        "duration": 290,
        "start_time": "2022-01-30T19:00:23.995Z"
      },
      {
        "duration": 376,
        "start_time": "2022-01-30T19:00:24.286Z"
      },
      {
        "duration": 235,
        "start_time": "2022-01-30T19:00:24.664Z"
      },
      {
        "duration": 65,
        "start_time": "2022-01-30T19:00:24.901Z"
      },
      {
        "duration": 12,
        "start_time": "2022-01-30T19:00:24.968Z"
      },
      {
        "duration": 14,
        "start_time": "2022-01-30T19:00:24.982Z"
      },
      {
        "duration": 12,
        "start_time": "2022-01-30T19:00:24.997Z"
      },
      {
        "duration": 59,
        "start_time": "2022-01-30T19:00:25.011Z"
      },
      {
        "duration": 26,
        "start_time": "2022-01-30T19:00:25.072Z"
      },
      {
        "duration": 14,
        "start_time": "2022-01-30T19:00:25.099Z"
      },
      {
        "duration": 417,
        "start_time": "2022-01-30T19:00:25.115Z"
      },
      {
        "duration": 50,
        "start_time": "2022-01-30T19:00:25.534Z"
      },
      {
        "duration": 363,
        "start_time": "2022-01-30T19:00:25.586Z"
      },
      {
        "duration": 385,
        "start_time": "2022-01-30T19:00:25.951Z"
      },
      {
        "duration": 478,
        "start_time": "2022-01-30T19:00:26.338Z"
      },
      {
        "duration": 404,
        "start_time": "2022-01-30T19:00:26.818Z"
      },
      {
        "duration": 349,
        "start_time": "2022-01-30T19:00:27.224Z"
      },
      {
        "duration": 368,
        "start_time": "2022-01-30T19:00:27.574Z"
      },
      {
        "duration": 262,
        "start_time": "2022-01-30T19:00:27.944Z"
      },
      {
        "duration": 206,
        "start_time": "2022-01-30T19:00:28.208Z"
      },
      {
        "duration": 225,
        "start_time": "2022-01-30T19:00:28.415Z"
      },
      {
        "duration": 282,
        "start_time": "2022-01-30T19:00:28.642Z"
      },
      {
        "duration": 481,
        "start_time": "2022-01-30T19:00:28.926Z"
      },
      {
        "duration": 245,
        "start_time": "2022-01-30T19:00:29.409Z"
      },
      {
        "duration": 2,
        "start_time": "2022-01-30T19:01:52.816Z"
      },
      {
        "duration": 9,
        "start_time": "2022-01-30T19:01:52.820Z"
      },
      {
        "duration": 171,
        "start_time": "2022-01-30T19:01:52.831Z"
      },
      {
        "duration": 89,
        "start_time": "2022-01-30T19:01:53.004Z"
      },
      {
        "duration": 11,
        "start_time": "2022-01-30T19:01:53.095Z"
      },
      {
        "duration": 8,
        "start_time": "2022-01-30T19:01:53.108Z"
      },
      {
        "duration": 141,
        "start_time": "2022-01-30T19:01:53.118Z"
      },
      {
        "duration": 6345,
        "start_time": "2022-01-30T19:01:53.261Z"
      },
      {
        "duration": 14,
        "start_time": "2022-01-30T19:01:59.610Z"
      },
      {
        "duration": 42,
        "start_time": "2022-01-30T19:01:59.627Z"
      },
      {
        "duration": 10,
        "start_time": "2022-01-30T19:01:59.672Z"
      },
      {
        "duration": 19,
        "start_time": "2022-01-30T19:01:59.684Z"
      },
      {
        "duration": 56,
        "start_time": "2022-01-30T19:01:59.705Z"
      },
      {
        "duration": 35,
        "start_time": "2022-01-30T19:01:59.763Z"
      },
      {
        "duration": 640,
        "start_time": "2022-01-30T19:01:59.801Z"
      },
      {
        "duration": 43,
        "start_time": "2022-01-30T19:02:00.443Z"
      },
      {
        "duration": 28,
        "start_time": "2022-01-30T19:02:00.488Z"
      },
      {
        "duration": 3,
        "start_time": "2022-01-30T19:02:00.518Z"
      },
      {
        "duration": 11,
        "start_time": "2022-01-30T19:02:00.523Z"
      },
      {
        "duration": 394,
        "start_time": "2022-01-30T19:02:00.536Z"
      },
      {
        "duration": 363,
        "start_time": "2022-01-30T19:02:00.932Z"
      },
      {
        "duration": 469,
        "start_time": "2022-01-30T19:02:01.297Z"
      },
      {
        "duration": 383,
        "start_time": "2022-01-30T19:02:01.768Z"
      },
      {
        "duration": 398,
        "start_time": "2022-01-30T19:02:02.153Z"
      },
      {
        "duration": 372,
        "start_time": "2022-01-30T19:02:02.552Z"
      },
      {
        "duration": 97,
        "start_time": "2022-01-30T19:02:02.926Z"
      },
      {
        "duration": 395,
        "start_time": "2022-01-30T19:02:03.027Z"
      },
      {
        "duration": 218,
        "start_time": "2022-01-30T19:02:03.424Z"
      },
      {
        "duration": 4,
        "start_time": "2022-01-30T19:02:03.644Z"
      },
      {
        "duration": 29,
        "start_time": "2022-01-30T19:02:03.650Z"
      },
      {
        "duration": 227,
        "start_time": "2022-01-30T19:02:03.681Z"
      },
      {
        "duration": 20,
        "start_time": "2022-01-30T19:02:03.910Z"
      },
      {
        "duration": 295,
        "start_time": "2022-01-30T19:02:03.931Z"
      },
      {
        "duration": 18,
        "start_time": "2022-01-30T19:02:04.228Z"
      },
      {
        "duration": 222,
        "start_time": "2022-01-30T19:02:04.248Z"
      },
      {
        "duration": 19,
        "start_time": "2022-01-30T19:02:04.472Z"
      },
      {
        "duration": 213,
        "start_time": "2022-01-30T19:02:04.493Z"
      },
      {
        "duration": 17,
        "start_time": "2022-01-30T19:02:04.708Z"
      },
      {
        "duration": 202,
        "start_time": "2022-01-30T19:02:04.727Z"
      },
      {
        "duration": 28,
        "start_time": "2022-01-30T19:02:04.931Z"
      },
      {
        "duration": 204,
        "start_time": "2022-01-30T19:02:04.960Z"
      },
      {
        "duration": 18,
        "start_time": "2022-01-30T19:02:05.166Z"
      },
      {
        "duration": 27,
        "start_time": "2022-01-30T19:02:05.186Z"
      },
      {
        "duration": 241,
        "start_time": "2022-01-30T19:02:05.215Z"
      },
      {
        "duration": 266,
        "start_time": "2022-01-30T19:02:05.458Z"
      },
      {
        "duration": 36,
        "start_time": "2022-01-30T19:02:05.726Z"
      },
      {
        "duration": 225,
        "start_time": "2022-01-30T19:02:05.764Z"
      },
      {
        "duration": 199,
        "start_time": "2022-01-30T19:02:05.991Z"
      },
      {
        "duration": 267,
        "start_time": "2022-01-30T19:02:06.192Z"
      },
      {
        "duration": 436,
        "start_time": "2022-01-30T19:02:06.460Z"
      },
      {
        "duration": 248,
        "start_time": "2022-01-30T19:02:06.898Z"
      },
      {
        "duration": 55,
        "start_time": "2022-01-30T19:02:07.147Z"
      },
      {
        "duration": 12,
        "start_time": "2022-01-30T19:02:07.204Z"
      },
      {
        "duration": 14,
        "start_time": "2022-01-30T19:02:07.218Z"
      },
      {
        "duration": 36,
        "start_time": "2022-01-30T19:02:07.234Z"
      },
      {
        "duration": 29,
        "start_time": "2022-01-30T19:02:07.272Z"
      },
      {
        "duration": 26,
        "start_time": "2022-01-30T19:02:07.304Z"
      },
      {
        "duration": 14,
        "start_time": "2022-01-30T19:02:07.359Z"
      },
      {
        "duration": 379,
        "start_time": "2022-01-30T19:02:07.375Z"
      },
      {
        "duration": 41,
        "start_time": "2022-01-30T19:02:07.756Z"
      },
      {
        "duration": 367,
        "start_time": "2022-01-30T19:02:07.799Z"
      },
      {
        "duration": 373,
        "start_time": "2022-01-30T19:02:08.168Z"
      },
      {
        "duration": 381,
        "start_time": "2022-01-30T19:02:08.543Z"
      },
      {
        "duration": 359,
        "start_time": "2022-01-30T19:02:08.926Z"
      },
      {
        "duration": 452,
        "start_time": "2022-01-30T19:02:09.287Z"
      },
      {
        "duration": 363,
        "start_time": "2022-01-30T19:02:09.741Z"
      },
      {
        "duration": 265,
        "start_time": "2022-01-30T19:02:10.106Z"
      },
      {
        "duration": 217,
        "start_time": "2022-01-30T19:02:10.373Z"
      },
      {
        "duration": 222,
        "start_time": "2022-01-30T19:02:10.591Z"
      },
      {
        "duration": 277,
        "start_time": "2022-01-30T19:02:10.815Z"
      },
      {
        "duration": 359,
        "start_time": "2022-01-30T19:02:11.093Z"
      },
      {
        "duration": 240,
        "start_time": "2022-01-30T19:02:11.458Z"
      },
      {
        "duration": 2,
        "start_time": "2022-01-30T19:07:26.844Z"
      },
      {
        "duration": 9,
        "start_time": "2022-01-30T19:07:26.848Z"
      },
      {
        "duration": 225,
        "start_time": "2022-01-30T19:07:26.859Z"
      },
      {
        "duration": 145,
        "start_time": "2022-01-30T19:07:27.086Z"
      },
      {
        "duration": 32,
        "start_time": "2022-01-30T19:07:27.233Z"
      },
      {
        "duration": 6,
        "start_time": "2022-01-30T19:07:27.267Z"
      },
      {
        "duration": 107,
        "start_time": "2022-01-30T19:07:27.274Z"
      },
      {
        "duration": 6155,
        "start_time": "2022-01-30T19:07:27.383Z"
      },
      {
        "duration": 21,
        "start_time": "2022-01-30T19:07:33.540Z"
      },
      {
        "duration": 21,
        "start_time": "2022-01-30T19:07:33.564Z"
      },
      {
        "duration": 9,
        "start_time": "2022-01-30T19:07:33.587Z"
      },
      {
        "duration": 19,
        "start_time": "2022-01-30T19:07:33.597Z"
      },
      {
        "duration": 53,
        "start_time": "2022-01-30T19:07:33.618Z"
      },
      {
        "duration": 33,
        "start_time": "2022-01-30T19:07:33.672Z"
      },
      {
        "duration": 590,
        "start_time": "2022-01-30T19:07:33.707Z"
      },
      {
        "duration": 24,
        "start_time": "2022-01-30T19:07:34.299Z"
      },
      {
        "duration": 42,
        "start_time": "2022-01-30T19:07:34.325Z"
      },
      {
        "duration": 3,
        "start_time": "2022-01-30T19:07:34.368Z"
      },
      {
        "duration": 6,
        "start_time": "2022-01-30T19:07:34.373Z"
      },
      {
        "duration": 360,
        "start_time": "2022-01-30T19:07:34.381Z"
      },
      {
        "duration": 352,
        "start_time": "2022-01-30T19:07:34.742Z"
      },
      {
        "duration": 385,
        "start_time": "2022-01-30T19:07:35.096Z"
      },
      {
        "duration": 361,
        "start_time": "2022-01-30T19:07:35.483Z"
      },
      {
        "duration": 455,
        "start_time": "2022-01-30T19:07:35.846Z"
      },
      {
        "duration": 372,
        "start_time": "2022-01-30T19:07:36.303Z"
      },
      {
        "duration": 95,
        "start_time": "2022-01-30T19:07:36.677Z"
      },
      {
        "duration": 384,
        "start_time": "2022-01-30T19:07:36.777Z"
      },
      {
        "duration": 209,
        "start_time": "2022-01-30T19:07:37.163Z"
      },
      {
        "duration": 3,
        "start_time": "2022-01-30T19:07:37.374Z"
      },
      {
        "duration": 22,
        "start_time": "2022-01-30T19:07:37.378Z"
      },
      {
        "duration": 213,
        "start_time": "2022-01-30T19:07:37.401Z"
      },
      {
        "duration": 17,
        "start_time": "2022-01-30T19:07:37.615Z"
      },
      {
        "duration": 200,
        "start_time": "2022-01-30T19:07:37.634Z"
      },
      {
        "duration": 25,
        "start_time": "2022-01-30T19:07:37.835Z"
      },
      {
        "duration": 211,
        "start_time": "2022-01-30T19:07:37.862Z"
      },
      {
        "duration": 19,
        "start_time": "2022-01-30T19:07:38.075Z"
      },
      {
        "duration": 195,
        "start_time": "2022-01-30T19:07:38.096Z"
      },
      {
        "duration": 16,
        "start_time": "2022-01-30T19:07:38.293Z"
      },
      {
        "duration": 295,
        "start_time": "2022-01-30T19:07:38.311Z"
      },
      {
        "duration": 17,
        "start_time": "2022-01-30T19:07:38.608Z"
      },
      {
        "duration": 210,
        "start_time": "2022-01-30T19:07:38.626Z"
      },
      {
        "duration": 24,
        "start_time": "2022-01-30T19:07:38.838Z"
      },
      {
        "duration": 28,
        "start_time": "2022-01-30T19:07:38.864Z"
      },
      {
        "duration": 225,
        "start_time": "2022-01-30T19:07:38.894Z"
      },
      {
        "duration": 260,
        "start_time": "2022-01-30T19:07:39.121Z"
      },
      {
        "duration": 29,
        "start_time": "2022-01-30T19:07:39.383Z"
      },
      {
        "duration": 229,
        "start_time": "2022-01-30T19:07:39.413Z"
      },
      {
        "duration": 201,
        "start_time": "2022-01-30T19:07:39.644Z"
      },
      {
        "duration": 260,
        "start_time": "2022-01-30T19:07:39.847Z"
      },
      {
        "duration": 353,
        "start_time": "2022-01-30T19:07:40.109Z"
      },
      {
        "duration": 229,
        "start_time": "2022-01-30T19:07:40.464Z"
      },
      {
        "duration": 51,
        "start_time": "2022-01-30T19:07:40.694Z"
      },
      {
        "duration": 12,
        "start_time": "2022-01-30T19:07:40.758Z"
      },
      {
        "duration": 12,
        "start_time": "2022-01-30T19:07:40.771Z"
      },
      {
        "duration": 11,
        "start_time": "2022-01-30T19:07:40.785Z"
      },
      {
        "duration": 27,
        "start_time": "2022-01-30T19:07:40.798Z"
      },
      {
        "duration": 53,
        "start_time": "2022-01-30T19:07:40.827Z"
      },
      {
        "duration": 14,
        "start_time": "2022-01-30T19:07:40.881Z"
      },
      {
        "duration": 371,
        "start_time": "2022-01-30T19:07:40.897Z"
      },
      {
        "duration": 39,
        "start_time": "2022-01-30T19:07:41.270Z"
      },
      {
        "duration": 463,
        "start_time": "2022-01-30T19:07:41.311Z"
      },
      {
        "duration": 399,
        "start_time": "2022-01-30T19:07:41.776Z"
      },
      {
        "duration": 352,
        "start_time": "2022-01-30T19:07:42.177Z"
      },
      {
        "duration": 355,
        "start_time": "2022-01-30T19:07:42.531Z"
      },
      {
        "duration": 350,
        "start_time": "2022-01-30T19:07:42.888Z"
      },
      {
        "duration": 438,
        "start_time": "2022-01-30T19:07:43.240Z"
      },
      {
        "duration": 264,
        "start_time": "2022-01-30T19:07:43.680Z"
      },
      {
        "duration": 223,
        "start_time": "2022-01-30T19:07:43.946Z"
      },
      {
        "duration": 227,
        "start_time": "2022-01-30T19:07:44.171Z"
      },
      {
        "duration": 278,
        "start_time": "2022-01-30T19:07:44.400Z"
      },
      {
        "duration": 359,
        "start_time": "2022-01-30T19:07:44.680Z"
      },
      {
        "duration": 243,
        "start_time": "2022-01-30T19:07:45.041Z"
      },
      {
        "duration": 4,
        "start_time": "2022-01-30T19:13:18.854Z"
      },
      {
        "duration": 211,
        "start_time": "2022-01-30T19:13:20.800Z"
      },
      {
        "duration": 3,
        "start_time": "2022-01-30T19:16:23.650Z"
      },
      {
        "duration": 7,
        "start_time": "2022-01-30T19:16:23.655Z"
      },
      {
        "duration": 206,
        "start_time": "2022-01-30T19:16:23.664Z"
      },
      {
        "duration": 44,
        "start_time": "2022-01-30T19:16:23.872Z"
      },
      {
        "duration": 48,
        "start_time": "2022-01-30T19:16:23.917Z"
      },
      {
        "duration": 7,
        "start_time": "2022-01-30T19:16:23.967Z"
      },
      {
        "duration": 107,
        "start_time": "2022-01-30T19:16:23.976Z"
      },
      {
        "duration": 6374,
        "start_time": "2022-01-30T19:16:24.086Z"
      },
      {
        "duration": 14,
        "start_time": "2022-01-30T19:16:30.462Z"
      },
      {
        "duration": 22,
        "start_time": "2022-01-30T19:16:30.478Z"
      },
      {
        "duration": 9,
        "start_time": "2022-01-30T19:16:30.502Z"
      },
      {
        "duration": 48,
        "start_time": "2022-01-30T19:16:30.513Z"
      },
      {
        "duration": 27,
        "start_time": "2022-01-30T19:16:30.563Z"
      },
      {
        "duration": 35,
        "start_time": "2022-01-30T19:16:30.592Z"
      },
      {
        "duration": 723,
        "start_time": "2022-01-30T19:16:30.629Z"
      },
      {
        "duration": 30,
        "start_time": "2022-01-30T19:16:31.354Z"
      },
      {
        "duration": 45,
        "start_time": "2022-01-30T19:16:31.385Z"
      },
      {
        "duration": 3,
        "start_time": "2022-01-30T19:16:31.432Z"
      },
      {
        "duration": 12,
        "start_time": "2022-01-30T19:16:31.439Z"
      },
      {
        "duration": 383,
        "start_time": "2022-01-30T19:16:31.454Z"
      },
      {
        "duration": 355,
        "start_time": "2022-01-30T19:16:31.839Z"
      },
      {
        "duration": 382,
        "start_time": "2022-01-30T19:16:32.196Z"
      },
      {
        "duration": 382,
        "start_time": "2022-01-30T19:16:32.580Z"
      },
      {
        "duration": 377,
        "start_time": "2022-01-30T19:16:32.964Z"
      },
      {
        "duration": 475,
        "start_time": "2022-01-30T19:16:33.343Z"
      },
      {
        "duration": 101,
        "start_time": "2022-01-30T19:16:33.820Z"
      },
      {
        "duration": 385,
        "start_time": "2022-01-30T19:16:33.923Z"
      },
      {
        "duration": 3,
        "start_time": "2022-01-30T19:16:34.310Z"
      },
      {
        "duration": 210,
        "start_time": "2022-01-30T19:16:34.314Z"
      },
      {
        "duration": 3,
        "start_time": "2022-01-30T19:16:34.526Z"
      },
      {
        "duration": 29,
        "start_time": "2022-01-30T19:16:34.530Z"
      },
      {
        "duration": 198,
        "start_time": "2022-01-30T19:16:34.561Z"
      },
      {
        "duration": 17,
        "start_time": "2022-01-30T19:16:34.761Z"
      },
      {
        "duration": 188,
        "start_time": "2022-01-30T19:16:34.780Z"
      },
      {
        "duration": 18,
        "start_time": "2022-01-30T19:16:34.969Z"
      },
      {
        "duration": 220,
        "start_time": "2022-01-30T19:16:34.989Z"
      },
      {
        "duration": 18,
        "start_time": "2022-01-30T19:16:35.211Z"
      },
      {
        "duration": 201,
        "start_time": "2022-01-30T19:16:35.231Z"
      },
      {
        "duration": 25,
        "start_time": "2022-01-30T19:16:35.434Z"
      },
      {
        "duration": 190,
        "start_time": "2022-01-30T19:16:35.461Z"
      },
      {
        "duration": 21,
        "start_time": "2022-01-30T19:16:35.652Z"
      },
      {
        "duration": 196,
        "start_time": "2022-01-30T19:16:35.674Z"
      },
      {
        "duration": 16,
        "start_time": "2022-01-30T19:16:35.872Z"
      },
      {
        "duration": 29,
        "start_time": "2022-01-30T19:16:35.889Z"
      },
      {
        "duration": 330,
        "start_time": "2022-01-30T19:16:35.921Z"
      },
      {
        "duration": 259,
        "start_time": "2022-01-30T19:16:36.253Z"
      },
      {
        "duration": 28,
        "start_time": "2022-01-30T19:16:36.515Z"
      },
      {
        "duration": 243,
        "start_time": "2022-01-30T19:16:36.545Z"
      },
      {
        "duration": 200,
        "start_time": "2022-01-30T19:16:36.790Z"
      },
      {
        "duration": 270,
        "start_time": "2022-01-30T19:16:36.992Z"
      },
      {
        "duration": 352,
        "start_time": "2022-01-30T19:16:37.264Z"
      },
      {
        "duration": 237,
        "start_time": "2022-01-30T19:16:37.618Z"
      },
      {
        "duration": 52,
        "start_time": "2022-01-30T19:16:37.858Z"
      },
      {
        "duration": 12,
        "start_time": "2022-01-30T19:16:37.911Z"
      },
      {
        "duration": 37,
        "start_time": "2022-01-30T19:16:37.927Z"
      },
      {
        "duration": 11,
        "start_time": "2022-01-30T19:16:37.966Z"
      },
      {
        "duration": 29,
        "start_time": "2022-01-30T19:16:37.979Z"
      },
      {
        "duration": 24,
        "start_time": "2022-01-30T19:16:38.010Z"
      },
      {
        "duration": 15,
        "start_time": "2022-01-30T19:16:38.059Z"
      },
      {
        "duration": 359,
        "start_time": "2022-01-30T19:16:38.076Z"
      },
      {
        "duration": 46,
        "start_time": "2022-01-30T19:16:38.437Z"
      },
      {
        "duration": 346,
        "start_time": "2022-01-30T19:16:38.485Z"
      },
      {
        "duration": 462,
        "start_time": "2022-01-30T19:16:38.833Z"
      },
      {
        "duration": 370,
        "start_time": "2022-01-30T19:16:39.297Z"
      },
      {
        "duration": 347,
        "start_time": "2022-01-30T19:16:39.669Z"
      },
      {
        "duration": 355,
        "start_time": "2022-01-30T19:16:40.018Z"
      },
      {
        "duration": 363,
        "start_time": "2022-01-30T19:16:40.375Z"
      },
      {
        "duration": 254,
        "start_time": "2022-01-30T19:16:40.740Z"
      },
      {
        "duration": 303,
        "start_time": "2022-01-30T19:16:40.995Z"
      },
      {
        "duration": 222,
        "start_time": "2022-01-30T19:16:41.300Z"
      },
      {
        "duration": 274,
        "start_time": "2022-01-30T19:16:41.524Z"
      },
      {
        "duration": 377,
        "start_time": "2022-01-30T19:16:41.800Z"
      },
      {
        "duration": 259,
        "start_time": "2022-01-30T19:16:42.180Z"
      },
      {
        "duration": 497,
        "start_time": "2022-01-30T19:18:53.908Z"
      },
      {
        "duration": 253,
        "start_time": "2022-01-30T19:19:06.797Z"
      },
      {
        "duration": 3,
        "start_time": "2022-01-30T19:19:47.389Z"
      },
      {
        "duration": 6,
        "start_time": "2022-01-30T19:19:47.394Z"
      },
      {
        "duration": 174,
        "start_time": "2022-01-30T19:19:47.401Z"
      },
      {
        "duration": 90,
        "start_time": "2022-01-30T19:19:47.577Z"
      },
      {
        "duration": 9,
        "start_time": "2022-01-30T19:19:47.668Z"
      },
      {
        "duration": 5,
        "start_time": "2022-01-30T19:19:47.679Z"
      },
      {
        "duration": 112,
        "start_time": "2022-01-30T19:19:47.686Z"
      },
      {
        "duration": 6351,
        "start_time": "2022-01-30T19:19:47.801Z"
      },
      {
        "duration": 18,
        "start_time": "2022-01-30T19:19:54.154Z"
      },
      {
        "duration": 21,
        "start_time": "2022-01-30T19:19:54.173Z"
      },
      {
        "duration": 8,
        "start_time": "2022-01-30T19:19:54.196Z"
      },
      {
        "duration": 21,
        "start_time": "2022-01-30T19:19:54.206Z"
      },
      {
        "duration": 53,
        "start_time": "2022-01-30T19:19:54.228Z"
      },
      {
        "duration": 35,
        "start_time": "2022-01-30T19:19:54.285Z"
      },
      {
        "duration": 674,
        "start_time": "2022-01-30T19:19:54.323Z"
      },
      {
        "duration": 24,
        "start_time": "2022-01-30T19:19:54.999Z"
      },
      {
        "duration": 37,
        "start_time": "2022-01-30T19:19:55.033Z"
      },
      {
        "duration": 3,
        "start_time": "2022-01-30T19:19:55.072Z"
      },
      {
        "duration": 7,
        "start_time": "2022-01-30T19:19:55.077Z"
      },
      {
        "duration": 376,
        "start_time": "2022-01-30T19:19:55.085Z"
      },
      {
        "duration": 360,
        "start_time": "2022-01-30T19:19:55.463Z"
      },
      {
        "duration": 361,
        "start_time": "2022-01-30T19:19:55.824Z"
      },
      {
        "duration": 362,
        "start_time": "2022-01-30T19:19:56.187Z"
      },
      {
        "duration": 381,
        "start_time": "2022-01-30T19:19:56.550Z"
      },
      {
        "duration": 463,
        "start_time": "2022-01-30T19:19:56.933Z"
      },
      {
        "duration": 95,
        "start_time": "2022-01-30T19:19:57.398Z"
      },
      {
        "duration": 370,
        "start_time": "2022-01-30T19:19:57.495Z"
      },
      {
        "duration": 3,
        "start_time": "2022-01-30T19:19:57.866Z"
      },
      {
        "duration": 202,
        "start_time": "2022-01-30T19:19:57.871Z"
      },
      {
        "duration": 4,
        "start_time": "2022-01-30T19:19:58.075Z"
      },
      {
        "duration": 23,
        "start_time": "2022-01-30T19:19:58.081Z"
      },
      {
        "duration": 212,
        "start_time": "2022-01-30T19:19:58.106Z"
      },
      {
        "duration": 18,
        "start_time": "2022-01-30T19:19:58.320Z"
      },
      {
        "duration": 192,
        "start_time": "2022-01-30T19:19:58.340Z"
      },
      {
        "duration": 17,
        "start_time": "2022-01-30T19:19:58.533Z"
      },
      {
        "duration": 193,
        "start_time": "2022-01-30T19:19:58.559Z"
      },
      {
        "duration": 20,
        "start_time": "2022-01-30T19:19:58.754Z"
      },
      {
        "duration": 189,
        "start_time": "2022-01-30T19:19:58.780Z"
      },
      {
        "duration": 18,
        "start_time": "2022-01-30T19:19:58.972Z"
      },
      {
        "duration": 205,
        "start_time": "2022-01-30T19:19:58.992Z"
      },
      {
        "duration": 17,
        "start_time": "2022-01-30T19:19:59.199Z"
      },
      {
        "duration": 207,
        "start_time": "2022-01-30T19:19:59.218Z"
      },
      {
        "duration": 17,
        "start_time": "2022-01-30T19:19:59.427Z"
      },
      {
        "duration": 29,
        "start_time": "2022-01-30T19:19:59.459Z"
      },
      {
        "duration": 220,
        "start_time": "2022-01-30T19:19:59.490Z"
      },
      {
        "duration": 353,
        "start_time": "2022-01-30T19:19:59.712Z"
      },
      {
        "duration": 31,
        "start_time": "2022-01-30T19:20:00.067Z"
      },
      {
        "duration": 231,
        "start_time": "2022-01-30T19:20:00.100Z"
      },
      {
        "duration": 201,
        "start_time": "2022-01-30T19:20:00.333Z"
      },
      {
        "duration": 277,
        "start_time": "2022-01-30T19:20:00.536Z"
      },
      {
        "duration": 363,
        "start_time": "2022-01-30T19:20:00.815Z"
      },
      {
        "duration": 240,
        "start_time": "2022-01-30T19:20:01.180Z"
      },
      {
        "duration": 63,
        "start_time": "2022-01-30T19:20:01.421Z"
      },
      {
        "duration": 14,
        "start_time": "2022-01-30T19:20:01.486Z"
      },
      {
        "duration": 15,
        "start_time": "2022-01-30T19:20:01.501Z"
      },
      {
        "duration": 35,
        "start_time": "2022-01-30T19:20:01.518Z"
      },
      {
        "duration": 30,
        "start_time": "2022-01-30T19:20:01.559Z"
      },
      {
        "duration": 26,
        "start_time": "2022-01-30T19:20:01.591Z"
      },
      {
        "duration": 42,
        "start_time": "2022-01-30T19:20:01.619Z"
      },
      {
        "duration": 388,
        "start_time": "2022-01-30T19:20:01.663Z"
      },
      {
        "duration": 44,
        "start_time": "2022-01-30T19:20:02.053Z"
      },
      {
        "duration": 382,
        "start_time": "2022-01-30T19:20:02.098Z"
      },
      {
        "duration": 457,
        "start_time": "2022-01-30T19:20:02.483Z"
      },
      {
        "duration": 359,
        "start_time": "2022-01-30T19:20:02.942Z"
      },
      {
        "duration": 354,
        "start_time": "2022-01-30T19:20:03.303Z"
      },
      {
        "duration": 368,
        "start_time": "2022-01-30T19:20:03.659Z"
      },
      {
        "duration": 359,
        "start_time": "2022-01-30T19:20:04.030Z"
      },
      {
        "duration": 271,
        "start_time": "2022-01-30T19:20:04.391Z"
      },
      {
        "duration": 225,
        "start_time": "2022-01-30T19:20:04.664Z"
      },
      {
        "duration": 341,
        "start_time": "2022-01-30T19:20:04.891Z"
      },
      {
        "duration": 285,
        "start_time": "2022-01-30T19:20:05.233Z"
      },
      {
        "duration": 369,
        "start_time": "2022-01-30T19:20:05.520Z"
      },
      {
        "duration": 244,
        "start_time": "2022-01-30T19:20:05.891Z"
      },
      {
        "duration": 242,
        "start_time": "2022-01-30T19:26:05.748Z"
      },
      {
        "duration": 357,
        "start_time": "2022-01-30T19:26:10.050Z"
      },
      {
        "duration": 275,
        "start_time": "2022-01-30T19:26:13.416Z"
      },
      {
        "duration": 202,
        "start_time": "2022-01-30T19:26:15.768Z"
      },
      {
        "duration": 198,
        "start_time": "2022-01-30T19:26:18.203Z"
      },
      {
        "duration": 341,
        "start_time": "2022-01-30T19:26:21.605Z"
      },
      {
        "duration": 12,
        "start_time": "2022-01-30T19:27:44.192Z"
      },
      {
        "duration": 191,
        "start_time": "2022-01-30T19:28:15.671Z"
      },
      {
        "duration": 482,
        "start_time": "2022-01-30T19:28:23.100Z"
      },
      {
        "duration": 3,
        "start_time": "2022-01-30T19:28:23.584Z"
      },
      {
        "duration": 183,
        "start_time": "2022-01-30T19:28:23.589Z"
      },
      {
        "duration": 94,
        "start_time": "2022-01-30T19:28:23.775Z"
      },
      {
        "duration": 10,
        "start_time": "2022-01-30T19:28:23.871Z"
      },
      {
        "duration": 7,
        "start_time": "2022-01-30T19:28:23.883Z"
      },
      {
        "duration": 118,
        "start_time": "2022-01-30T19:28:23.892Z"
      },
      {
        "duration": 6432,
        "start_time": "2022-01-30T19:28:24.012Z"
      },
      {
        "duration": 18,
        "start_time": "2022-01-30T19:28:30.447Z"
      },
      {
        "duration": 22,
        "start_time": "2022-01-30T19:28:30.468Z"
      },
      {
        "duration": 10,
        "start_time": "2022-01-30T19:28:30.493Z"
      },
      {
        "duration": 24,
        "start_time": "2022-01-30T19:28:30.505Z"
      },
      {
        "duration": 52,
        "start_time": "2022-01-30T19:28:30.531Z"
      },
      {
        "duration": 36,
        "start_time": "2022-01-30T19:28:30.585Z"
      },
      {
        "duration": 738,
        "start_time": "2022-01-30T19:28:30.623Z"
      },
      {
        "duration": 26,
        "start_time": "2022-01-30T19:28:31.363Z"
      },
      {
        "duration": 25,
        "start_time": "2022-01-30T19:28:31.391Z"
      },
      {
        "duration": 3,
        "start_time": "2022-01-30T19:28:31.417Z"
      },
      {
        "duration": 7,
        "start_time": "2022-01-30T19:28:31.422Z"
      },
      {
        "duration": 409,
        "start_time": "2022-01-30T19:28:31.431Z"
      },
      {
        "duration": 379,
        "start_time": "2022-01-30T19:28:31.842Z"
      },
      {
        "duration": 366,
        "start_time": "2022-01-30T19:28:32.223Z"
      },
      {
        "duration": 385,
        "start_time": "2022-01-30T19:28:32.591Z"
      },
      {
        "duration": 382,
        "start_time": "2022-01-30T19:28:32.979Z"
      },
      {
        "duration": 505,
        "start_time": "2022-01-30T19:28:33.362Z"
      },
      {
        "duration": 96,
        "start_time": "2022-01-30T19:28:33.869Z"
      },
      {
        "duration": 391,
        "start_time": "2022-01-30T19:28:33.970Z"
      },
      {
        "duration": 3,
        "start_time": "2022-01-30T19:28:34.363Z"
      },
      {
        "duration": 211,
        "start_time": "2022-01-30T19:28:34.367Z"
      },
      {
        "duration": 3,
        "start_time": "2022-01-30T19:28:34.580Z"
      },
      {
        "duration": 20,
        "start_time": "2022-01-30T19:28:34.585Z"
      },
      {
        "duration": 205,
        "start_time": "2022-01-30T19:28:34.607Z"
      },
      {
        "duration": 18,
        "start_time": "2022-01-30T19:28:34.814Z"
      },
      {
        "duration": 200,
        "start_time": "2022-01-30T19:28:34.834Z"
      },
      {
        "duration": 25,
        "start_time": "2022-01-30T19:28:35.036Z"
      },
      {
        "duration": 209,
        "start_time": "2022-01-30T19:28:35.063Z"
      },
      {
        "duration": 18,
        "start_time": "2022-01-30T19:28:35.274Z"
      },
      {
        "duration": 202,
        "start_time": "2022-01-30T19:28:35.294Z"
      },
      {
        "duration": 17,
        "start_time": "2022-01-30T19:28:35.498Z"
      },
      {
        "duration": 197,
        "start_time": "2022-01-30T19:28:35.516Z"
      },
      {
        "duration": 16,
        "start_time": "2022-01-30T19:28:35.715Z"
      },
      {
        "duration": 205,
        "start_time": "2022-01-30T19:28:35.733Z"
      },
      {
        "duration": 24,
        "start_time": "2022-01-30T19:28:35.940Z"
      },
      {
        "duration": 28,
        "start_time": "2022-01-30T19:28:35.965Z"
      },
      {
        "duration": 232,
        "start_time": "2022-01-30T19:28:35.994Z"
      },
      {
        "duration": 253,
        "start_time": "2022-01-30T19:28:36.228Z"
      },
      {
        "duration": 28,
        "start_time": "2022-01-30T19:28:36.483Z"
      },
      {
        "duration": 367,
        "start_time": "2022-01-30T19:28:36.513Z"
      },
      {
        "duration": 198,
        "start_time": "2022-01-30T19:28:36.882Z"
      },
      {
        "duration": 268,
        "start_time": "2022-01-30T19:28:37.082Z"
      },
      {
        "duration": 349,
        "start_time": "2022-01-30T19:28:37.359Z"
      },
      {
        "duration": 227,
        "start_time": "2022-01-30T19:28:37.710Z"
      },
      {
        "duration": 59,
        "start_time": "2022-01-30T19:28:37.939Z"
      },
      {
        "duration": 12,
        "start_time": "2022-01-30T19:28:37.999Z"
      },
      {
        "duration": 4767,
        "start_time": "2022-01-30T19:28:38.013Z"
      },
      {
        "duration": -46950,
        "start_time": "2022-01-30T19:29:29.733Z"
      },
      {
        "duration": -46961,
        "start_time": "2022-01-30T19:29:29.745Z"
      },
      {
        "duration": -46962,
        "start_time": "2022-01-30T19:29:29.748Z"
      },
      {
        "duration": -46965,
        "start_time": "2022-01-30T19:29:29.752Z"
      },
      {
        "duration": -46967,
        "start_time": "2022-01-30T19:29:29.755Z"
      },
      {
        "duration": -47011,
        "start_time": "2022-01-30T19:29:29.801Z"
      },
      {
        "duration": -47025,
        "start_time": "2022-01-30T19:29:29.816Z"
      },
      {
        "duration": -47027,
        "start_time": "2022-01-30T19:29:29.819Z"
      },
      {
        "duration": -47029,
        "start_time": "2022-01-30T19:29:29.823Z"
      },
      {
        "duration": -47031,
        "start_time": "2022-01-30T19:29:29.826Z"
      },
      {
        "duration": -47034,
        "start_time": "2022-01-30T19:29:29.831Z"
      },
      {
        "duration": -47048,
        "start_time": "2022-01-30T19:29:29.846Z"
      },
      {
        "duration": -47051,
        "start_time": "2022-01-30T19:29:29.851Z"
      },
      {
        "duration": -47055,
        "start_time": "2022-01-30T19:29:29.856Z"
      },
      {
        "duration": -47058,
        "start_time": "2022-01-30T19:29:29.860Z"
      },
      {
        "duration": -47060,
        "start_time": "2022-01-30T19:29:29.864Z"
      },
      {
        "duration": -47090,
        "start_time": "2022-01-30T19:29:29.895Z"
      },
      {
        "duration": -47100,
        "start_time": "2022-01-30T19:29:29.906Z"
      },
      {
        "duration": -47110,
        "start_time": "2022-01-30T19:29:29.918Z"
      },
      {
        "duration": 17,
        "start_time": "2022-01-30T19:29:40.460Z"
      },
      {
        "duration": 4914,
        "start_time": "2022-01-30T19:30:18.632Z"
      },
      {
        "duration": 4628,
        "start_time": "2022-01-30T19:30:46.093Z"
      },
      {
        "duration": 16,
        "start_time": "2022-01-30T19:31:07.435Z"
      },
      {
        "duration": 193,
        "start_time": "2022-01-30T19:33:33.312Z"
      },
      {
        "duration": 15,
        "start_time": "2022-01-30T19:34:17.161Z"
      },
      {
        "duration": 17,
        "start_time": "2022-01-30T19:45:05.470Z"
      },
      {
        "duration": 4638,
        "start_time": "2022-01-30T19:45:09.798Z"
      },
      {
        "duration": 17,
        "start_time": "2022-01-30T19:45:51.734Z"
      },
      {
        "duration": 200,
        "start_time": "2022-01-30T19:45:55.840Z"
      },
      {
        "duration": 429,
        "start_time": "2022-01-30T19:48:00.151Z"
      },
      {
        "duration": 395,
        "start_time": "2022-01-30T19:48:30.866Z"
      },
      {
        "duration": 380,
        "start_time": "2022-01-30T19:48:54.860Z"
      },
      {
        "duration": 4,
        "start_time": "2022-01-30T19:49:19.738Z"
      },
      {
        "duration": 5,
        "start_time": "2022-01-30T19:49:19.744Z"
      },
      {
        "duration": 164,
        "start_time": "2022-01-30T19:49:19.751Z"
      },
      {
        "duration": 86,
        "start_time": "2022-01-30T19:49:19.917Z"
      },
      {
        "duration": 10,
        "start_time": "2022-01-30T19:49:20.005Z"
      },
      {
        "duration": 47,
        "start_time": "2022-01-30T19:49:20.017Z"
      },
      {
        "duration": 97,
        "start_time": "2022-01-30T19:49:20.067Z"
      },
      {
        "duration": 6297,
        "start_time": "2022-01-30T19:49:20.166Z"
      },
      {
        "duration": 13,
        "start_time": "2022-01-30T19:49:26.465Z"
      },
      {
        "duration": 20,
        "start_time": "2022-01-30T19:49:26.480Z"
      },
      {
        "duration": 8,
        "start_time": "2022-01-30T19:49:26.502Z"
      },
      {
        "duration": 48,
        "start_time": "2022-01-30T19:49:26.512Z"
      },
      {
        "duration": 25,
        "start_time": "2022-01-30T19:49:26.562Z"
      },
      {
        "duration": 35,
        "start_time": "2022-01-30T19:49:26.589Z"
      },
      {
        "duration": 773,
        "start_time": "2022-01-30T19:49:26.625Z"
      },
      {
        "duration": 24,
        "start_time": "2022-01-30T19:49:27.400Z"
      },
      {
        "duration": 41,
        "start_time": "2022-01-30T19:49:27.426Z"
      },
      {
        "duration": 3,
        "start_time": "2022-01-30T19:49:27.470Z"
      },
      {
        "duration": 6,
        "start_time": "2022-01-30T19:49:27.476Z"
      },
      {
        "duration": 365,
        "start_time": "2022-01-30T19:49:27.484Z"
      },
      {
        "duration": 348,
        "start_time": "2022-01-30T19:49:27.851Z"
      },
      {
        "duration": 359,
        "start_time": "2022-01-30T19:49:28.202Z"
      },
      {
        "duration": 370,
        "start_time": "2022-01-30T19:49:28.563Z"
      },
      {
        "duration": 385,
        "start_time": "2022-01-30T19:49:28.936Z"
      },
      {
        "duration": 578,
        "start_time": "2022-01-30T19:49:29.324Z"
      },
      {
        "duration": 103,
        "start_time": "2022-01-30T19:49:29.904Z"
      },
      {
        "duration": 396,
        "start_time": "2022-01-30T19:49:30.010Z"
      },
      {
        "duration": 3,
        "start_time": "2022-01-30T19:49:30.408Z"
      },
      {
        "duration": 222,
        "start_time": "2022-01-30T19:49:30.413Z"
      },
      {
        "duration": 3,
        "start_time": "2022-01-30T19:49:30.637Z"
      },
      {
        "duration": 31,
        "start_time": "2022-01-30T19:49:30.642Z"
      },
      {
        "duration": 207,
        "start_time": "2022-01-30T19:49:30.676Z"
      },
      {
        "duration": 20,
        "start_time": "2022-01-30T19:49:30.886Z"
      },
      {
        "duration": 196,
        "start_time": "2022-01-30T19:49:30.908Z"
      },
      {
        "duration": 19,
        "start_time": "2022-01-30T19:49:31.106Z"
      },
      {
        "duration": 219,
        "start_time": "2022-01-30T19:49:31.127Z"
      },
      {
        "duration": 23,
        "start_time": "2022-01-30T19:49:31.348Z"
      },
      {
        "duration": 198,
        "start_time": "2022-01-30T19:49:31.373Z"
      },
      {
        "duration": 16,
        "start_time": "2022-01-30T19:49:31.573Z"
      },
      {
        "duration": 202,
        "start_time": "2022-01-30T19:49:31.591Z"
      },
      {
        "duration": 17,
        "start_time": "2022-01-30T19:49:31.794Z"
      },
      {
        "duration": 207,
        "start_time": "2022-01-30T19:49:31.813Z"
      },
      {
        "duration": 16,
        "start_time": "2022-01-30T19:49:32.022Z"
      },
      {
        "duration": 43,
        "start_time": "2022-01-30T19:49:32.040Z"
      },
      {
        "duration": 226,
        "start_time": "2022-01-30T19:49:32.084Z"
      },
      {
        "duration": 259,
        "start_time": "2022-01-30T19:49:32.311Z"
      },
      {
        "duration": 29,
        "start_time": "2022-01-30T19:49:32.572Z"
      },
      {
        "duration": 213,
        "start_time": "2022-01-30T19:49:32.603Z"
      },
      {
        "duration": 195,
        "start_time": "2022-01-30T19:49:32.818Z"
      },
      {
        "duration": 254,
        "start_time": "2022-01-30T19:49:33.015Z"
      },
      {
        "duration": 344,
        "start_time": "2022-01-30T19:49:33.273Z"
      },
      {
        "duration": 233,
        "start_time": "2022-01-30T19:49:33.619Z"
      },
      {
        "duration": 55,
        "start_time": "2022-01-30T19:49:33.853Z"
      },
      {
        "duration": 16,
        "start_time": "2022-01-30T19:49:33.910Z"
      },
      {
        "duration": 208,
        "start_time": "2022-01-30T19:50:14.170Z"
      },
      {
        "duration": 413,
        "start_time": "2022-01-30T19:50:31.823Z"
      },
      {
        "duration": 217,
        "start_time": "2022-01-30T19:50:42.062Z"
      },
      {
        "duration": 213,
        "start_time": "2022-01-30T19:50:47.934Z"
      },
      {
        "duration": 222,
        "start_time": "2022-01-30T19:51:20.053Z"
      },
      {
        "duration": 3,
        "start_time": "2022-01-30T19:51:46.034Z"
      },
      {
        "duration": 5,
        "start_time": "2022-01-30T19:51:46.039Z"
      },
      {
        "duration": 151,
        "start_time": "2022-01-30T19:51:46.047Z"
      },
      {
        "duration": 94,
        "start_time": "2022-01-30T19:51:46.200Z"
      },
      {
        "duration": 9,
        "start_time": "2022-01-30T19:51:46.296Z"
      },
      {
        "duration": 6,
        "start_time": "2022-01-30T19:51:46.307Z"
      },
      {
        "duration": 133,
        "start_time": "2022-01-30T19:51:46.315Z"
      },
      {
        "duration": 6345,
        "start_time": "2022-01-30T19:51:46.451Z"
      },
      {
        "duration": 13,
        "start_time": "2022-01-30T19:51:52.799Z"
      },
      {
        "duration": 22,
        "start_time": "2022-01-30T19:51:52.814Z"
      },
      {
        "duration": 31,
        "start_time": "2022-01-30T19:51:52.837Z"
      },
      {
        "duration": 20,
        "start_time": "2022-01-30T19:51:52.869Z"
      },
      {
        "duration": 26,
        "start_time": "2022-01-30T19:51:52.891Z"
      },
      {
        "duration": 61,
        "start_time": "2022-01-30T19:51:52.919Z"
      },
      {
        "duration": 578,
        "start_time": "2022-01-30T19:51:52.982Z"
      },
      {
        "duration": 24,
        "start_time": "2022-01-30T19:51:53.562Z"
      },
      {
        "duration": 27,
        "start_time": "2022-01-30T19:51:53.588Z"
      },
      {
        "duration": 3,
        "start_time": "2022-01-30T19:51:53.617Z"
      },
      {
        "duration": 5,
        "start_time": "2022-01-30T19:51:53.622Z"
      },
      {
        "duration": 377,
        "start_time": "2022-01-30T19:51:53.629Z"
      },
      {
        "duration": 353,
        "start_time": "2022-01-30T19:51:54.008Z"
      },
      {
        "duration": 351,
        "start_time": "2022-01-30T19:51:54.362Z"
      },
      {
        "duration": 366,
        "start_time": "2022-01-30T19:51:54.717Z"
      },
      {
        "duration": 601,
        "start_time": "2022-01-30T19:51:55.086Z"
      },
      {
        "duration": 357,
        "start_time": "2022-01-30T19:51:55.689Z"
      },
      {
        "duration": 95,
        "start_time": "2022-01-30T19:51:56.048Z"
      },
      {
        "duration": 376,
        "start_time": "2022-01-30T19:51:56.145Z"
      },
      {
        "duration": 3,
        "start_time": "2022-01-30T19:51:56.523Z"
      },
      {
        "duration": 205,
        "start_time": "2022-01-30T19:51:56.527Z"
      },
      {
        "duration": 3,
        "start_time": "2022-01-30T19:51:56.734Z"
      },
      {
        "duration": 28,
        "start_time": "2022-01-30T19:51:56.739Z"
      },
      {
        "duration": 208,
        "start_time": "2022-01-30T19:51:56.769Z"
      },
      {
        "duration": 24,
        "start_time": "2022-01-30T19:51:56.979Z"
      },
      {
        "duration": 198,
        "start_time": "2022-01-30T19:51:57.005Z"
      },
      {
        "duration": 17,
        "start_time": "2022-01-30T19:51:57.204Z"
      },
      {
        "duration": 212,
        "start_time": "2022-01-30T19:51:57.223Z"
      },
      {
        "duration": 24,
        "start_time": "2022-01-30T19:51:57.437Z"
      },
      {
        "duration": 179,
        "start_time": "2022-01-30T19:51:57.463Z"
      },
      {
        "duration": 27,
        "start_time": "2022-01-30T19:51:57.643Z"
      },
      {
        "duration": 189,
        "start_time": "2022-01-30T19:51:57.671Z"
      },
      {
        "duration": 17,
        "start_time": "2022-01-30T19:51:57.862Z"
      },
      {
        "duration": 203,
        "start_time": "2022-01-30T19:51:57.881Z"
      },
      {
        "duration": 16,
        "start_time": "2022-01-30T19:51:58.086Z"
      },
      {
        "duration": 30,
        "start_time": "2022-01-30T19:51:58.104Z"
      },
      {
        "duration": 236,
        "start_time": "2022-01-30T19:51:58.136Z"
      },
      {
        "duration": 253,
        "start_time": "2022-01-30T19:51:58.374Z"
      },
      {
        "duration": 47,
        "start_time": "2022-01-30T19:51:58.629Z"
      },
      {
        "duration": 215,
        "start_time": "2022-01-30T19:51:58.677Z"
      },
      {
        "duration": 190,
        "start_time": "2022-01-30T19:51:58.894Z"
      },
      {
        "duration": 263,
        "start_time": "2022-01-30T19:51:59.085Z"
      },
      {
        "duration": 592,
        "start_time": "2022-01-30T19:51:59.350Z"
      },
      {
        "duration": 254,
        "start_time": "2022-01-30T19:51:59.944Z"
      },
      {
        "duration": 60,
        "start_time": "2022-01-30T19:52:00.200Z"
      },
      {
        "duration": 17,
        "start_time": "2022-01-30T19:52:00.262Z"
      },
      {
        "duration": 238,
        "start_time": "2022-01-30T19:52:00.281Z"
      },
      {
        "duration": 14,
        "start_time": "2022-01-30T19:52:00.522Z"
      },
      {
        "duration": 25,
        "start_time": "2022-01-30T19:52:00.537Z"
      },
      {
        "duration": 30,
        "start_time": "2022-01-30T19:52:00.564Z"
      },
      {
        "duration": 23,
        "start_time": "2022-01-30T19:52:00.595Z"
      },
      {
        "duration": 43,
        "start_time": "2022-01-30T19:52:00.620Z"
      },
      {
        "duration": 382,
        "start_time": "2022-01-30T19:52:00.665Z"
      },
      {
        "duration": 48,
        "start_time": "2022-01-30T19:52:01.049Z"
      },
      {
        "duration": 398,
        "start_time": "2022-01-30T19:52:01.099Z"
      },
      {
        "duration": 398,
        "start_time": "2022-01-30T19:52:01.499Z"
      },
      {
        "duration": 370,
        "start_time": "2022-01-30T19:52:01.899Z"
      },
      {
        "duration": 374,
        "start_time": "2022-01-30T19:52:02.271Z"
      },
      {
        "duration": 349,
        "start_time": "2022-01-30T19:52:02.648Z"
      },
      {
        "duration": 368,
        "start_time": "2022-01-30T19:52:03.002Z"
      },
      {
        "duration": 261,
        "start_time": "2022-01-30T19:52:03.372Z"
      },
      {
        "duration": 220,
        "start_time": "2022-01-30T19:52:03.636Z"
      },
      {
        "duration": 223,
        "start_time": "2022-01-30T19:52:03.858Z"
      },
      {
        "duration": 547,
        "start_time": "2022-01-30T19:52:04.083Z"
      },
      {
        "duration": 374,
        "start_time": "2022-01-30T19:52:04.632Z"
      },
      {
        "duration": 247,
        "start_time": "2022-01-30T19:52:05.007Z"
      },
      {
        "duration": 11,
        "start_time": "2022-01-30T20:12:16.284Z"
      },
      {
        "duration": 282,
        "start_time": "2022-01-30T20:14:47.577Z"
      },
      {
        "duration": 936,
        "start_time": "2022-01-30T20:15:49.177Z"
      },
      {
        "duration": 1789,
        "start_time": "2022-01-30T20:16:23.599Z"
      },
      {
        "duration": 1110,
        "start_time": "2022-01-30T20:16:42.569Z"
      },
      {
        "duration": 1785,
        "start_time": "2022-01-30T20:16:57.400Z"
      },
      {
        "duration": 1110,
        "start_time": "2022-01-30T20:17:16.436Z"
      },
      {
        "duration": 1756,
        "start_time": "2022-01-30T20:17:27.497Z"
      },
      {
        "duration": 2022,
        "start_time": "2022-01-30T20:17:47.565Z"
      },
      {
        "duration": 1830,
        "start_time": "2022-01-30T20:17:59.524Z"
      },
      {
        "duration": 1902,
        "start_time": "2022-01-30T20:18:50.125Z"
      },
      {
        "duration": 1939,
        "start_time": "2022-01-30T20:19:53.511Z"
      },
      {
        "duration": 1981,
        "start_time": "2022-01-30T20:20:07.945Z"
      },
      {
        "duration": 2035,
        "start_time": "2022-01-30T20:20:38.532Z"
      },
      {
        "duration": 1955,
        "start_time": "2022-01-30T20:20:51.525Z"
      },
      {
        "duration": 1982,
        "start_time": "2022-01-30T20:21:26.917Z"
      },
      {
        "duration": 69,
        "start_time": "2022-01-30T20:21:43.255Z"
      },
      {
        "duration": 112,
        "start_time": "2022-01-30T20:21:46.985Z"
      },
      {
        "duration": 1376,
        "start_time": "2022-01-30T20:21:51.415Z"
      },
      {
        "duration": 189,
        "start_time": "2022-01-30T20:28:19.184Z"
      },
      {
        "duration": 3,
        "start_time": "2022-01-30T20:28:42.795Z"
      },
      {
        "duration": 13,
        "start_time": "2022-01-30T20:28:42.800Z"
      },
      {
        "duration": 187,
        "start_time": "2022-01-30T20:28:42.816Z"
      },
      {
        "duration": 85,
        "start_time": "2022-01-30T20:28:43.005Z"
      },
      {
        "duration": 9,
        "start_time": "2022-01-30T20:28:43.092Z"
      },
      {
        "duration": 6,
        "start_time": "2022-01-30T20:28:43.103Z"
      },
      {
        "duration": 130,
        "start_time": "2022-01-30T20:28:43.111Z"
      },
      {
        "duration": 6158,
        "start_time": "2022-01-30T20:28:43.243Z"
      },
      {
        "duration": 15,
        "start_time": "2022-01-30T20:28:49.404Z"
      },
      {
        "duration": 42,
        "start_time": "2022-01-30T20:28:49.422Z"
      },
      {
        "duration": 10,
        "start_time": "2022-01-30T20:28:49.466Z"
      },
      {
        "duration": 19,
        "start_time": "2022-01-30T20:28:49.478Z"
      },
      {
        "duration": 26,
        "start_time": "2022-01-30T20:28:49.499Z"
      },
      {
        "duration": 62,
        "start_time": "2022-01-30T20:28:49.527Z"
      },
      {
        "duration": 589,
        "start_time": "2022-01-30T20:28:49.591Z"
      },
      {
        "duration": 23,
        "start_time": "2022-01-30T20:28:50.182Z"
      },
      {
        "duration": 22,
        "start_time": "2022-01-30T20:28:50.206Z"
      },
      {
        "duration": 3,
        "start_time": "2022-01-30T20:28:50.230Z"
      },
      {
        "duration": 27,
        "start_time": "2022-01-30T20:28:50.234Z"
      },
      {
        "duration": 356,
        "start_time": "2022-01-30T20:28:50.263Z"
      },
      {
        "duration": 348,
        "start_time": "2022-01-30T20:28:50.620Z"
      },
      {
        "duration": 364,
        "start_time": "2022-01-30T20:28:50.970Z"
      },
      {
        "duration": 365,
        "start_time": "2022-01-30T20:28:51.336Z"
      },
      {
        "duration": 367,
        "start_time": "2022-01-30T20:28:51.704Z"
      },
      {
        "duration": 371,
        "start_time": "2022-01-30T20:28:52.073Z"
      },
      {
        "duration": 89,
        "start_time": "2022-01-30T20:28:52.446Z"
      },
      {
        "duration": 375,
        "start_time": "2022-01-30T20:28:52.540Z"
      },
      {
        "duration": 3,
        "start_time": "2022-01-30T20:28:52.917Z"
      },
      {
        "duration": 210,
        "start_time": "2022-01-30T20:28:52.922Z"
      },
      {
        "duration": 3,
        "start_time": "2022-01-30T20:28:53.134Z"
      },
      {
        "duration": 28,
        "start_time": "2022-01-30T20:28:53.139Z"
      },
      {
        "duration": 194,
        "start_time": "2022-01-30T20:28:53.169Z"
      },
      {
        "duration": 18,
        "start_time": "2022-01-30T20:28:53.364Z"
      },
      {
        "duration": 182,
        "start_time": "2022-01-30T20:28:53.384Z"
      },
      {
        "duration": 17,
        "start_time": "2022-01-30T20:28:53.568Z"
      },
      {
        "duration": 533,
        "start_time": "2022-01-30T20:28:53.587Z"
      },
      {
        "duration": 16,
        "start_time": "2022-01-30T20:28:54.121Z"
      },
      {
        "duration": 187,
        "start_time": "2022-01-30T20:28:54.139Z"
      },
      {
        "duration": 15,
        "start_time": "2022-01-30T20:28:54.328Z"
      },
      {
        "duration": 184,
        "start_time": "2022-01-30T20:28:54.345Z"
      },
      {
        "duration": 16,
        "start_time": "2022-01-30T20:28:54.531Z"
      },
      {
        "duration": 187,
        "start_time": "2022-01-30T20:28:54.559Z"
      },
      {
        "duration": 19,
        "start_time": "2022-01-30T20:28:54.747Z"
      },
      {
        "duration": 28,
        "start_time": "2022-01-30T20:28:54.768Z"
      },
      {
        "duration": 221,
        "start_time": "2022-01-30T20:28:54.798Z"
      },
      {
        "duration": 248,
        "start_time": "2022-01-30T20:28:55.020Z"
      },
      {
        "duration": 29,
        "start_time": "2022-01-30T20:28:55.270Z"
      },
      {
        "duration": 226,
        "start_time": "2022-01-30T20:28:55.300Z"
      },
      {
        "duration": 193,
        "start_time": "2022-01-30T20:28:55.527Z"
      },
      {
        "duration": 262,
        "start_time": "2022-01-30T20:28:55.722Z"
      },
      {
        "duration": 330,
        "start_time": "2022-01-30T20:28:55.986Z"
      },
      {
        "duration": 223,
        "start_time": "2022-01-30T20:28:56.318Z"
      },
      {
        "duration": 57,
        "start_time": "2022-01-30T20:28:56.543Z"
      },
      {
        "duration": 16,
        "start_time": "2022-01-30T20:28:56.601Z"
      },
      {
        "duration": 236,
        "start_time": "2022-01-30T20:28:56.619Z"
      },
      {
        "duration": 19,
        "start_time": "2022-01-30T20:28:56.856Z"
      },
      {
        "duration": 21,
        "start_time": "2022-01-30T20:28:56.878Z"
      },
      {
        "duration": 29,
        "start_time": "2022-01-30T20:28:56.901Z"
      },
      {
        "duration": 46,
        "start_time": "2022-01-30T20:28:56.932Z"
      },
      {
        "duration": 20,
        "start_time": "2022-01-30T20:28:56.980Z"
      },
      {
        "duration": 406,
        "start_time": "2022-01-30T20:28:57.002Z"
      },
      {
        "duration": 40,
        "start_time": "2022-01-30T20:28:57.409Z"
      },
      {
        "duration": 356,
        "start_time": "2022-01-30T20:28:57.460Z"
      },
      {
        "duration": 366,
        "start_time": "2022-01-30T20:28:57.818Z"
      },
      {
        "duration": 355,
        "start_time": "2022-01-30T20:28:58.186Z"
      },
      {
        "duration": 345,
        "start_time": "2022-01-30T20:28:58.544Z"
      },
      {
        "duration": 346,
        "start_time": "2022-01-30T20:28:58.891Z"
      },
      {
        "duration": 349,
        "start_time": "2022-01-30T20:28:59.239Z"
      },
      {
        "duration": 264,
        "start_time": "2022-01-30T20:28:59.590Z"
      },
      {
        "duration": 588,
        "start_time": "2022-01-30T20:28:59.856Z"
      },
      {
        "duration": 218,
        "start_time": "2022-01-30T20:29:00.446Z"
      },
      {
        "duration": 273,
        "start_time": "2022-01-30T20:29:00.666Z"
      },
      {
        "duration": 365,
        "start_time": "2022-01-30T20:29:00.941Z"
      },
      {
        "duration": 249,
        "start_time": "2022-01-30T20:29:01.308Z"
      }
    ],
    "kernelspec": {
      "display_name": "Python 3 (ipykernel)",
      "language": "python",
      "name": "python3"
    },
    "language_info": {
      "codemirror_mode": {
        "name": "ipython",
        "version": 3
      },
      "file_extension": ".py",
      "mimetype": "text/x-python",
      "name": "python",
      "nbconvert_exporter": "python",
      "pygments_lexer": "ipython3",
      "version": "3.11.3"
    },
    "toc": {
      "base_numbering": 1,
      "nav_menu": {},
      "number_sections": true,
      "sideBar": true,
      "skip_h1_title": true,
      "title_cell": "Содержание",
      "title_sidebar": "Contents",
      "toc_cell": true,
      "toc_position": {
        "height": "calc(100% - 180px)",
        "left": "10px",
        "top": "150px",
        "width": "194.188px"
      },
      "toc_section_display": true,
      "toc_window_display": true
    }
  },
  "nbformat": 4,
  "nbformat_minor": 2
}