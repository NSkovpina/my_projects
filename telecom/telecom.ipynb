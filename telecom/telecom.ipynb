{
  "cells": [
    {
      "cell_type": "markdown",
      "metadata": {},
      "source": [
        "# Определение перспективного тарифа для телеком-компании\n",
        "\n",
        "Клиентам предлагают два тарифных плана: «Смарт» и «Ультра». Чтобы скорректировать рекламный бюджет, коммерческий департамент хочет понять, какой тариф приносит больше денег.\n",
        "Вам предстоит сделать предварительный анализ тарифов на небольшой выборке клиентов. В вашем распоряжении данные 500 пользователей «Мегалайна»: кто они, откуда, каким тарифом пользуются, сколько звонков и сообщений каждый отправил за 2018 год. Нужно проанализировать поведение клиентов и сделать вывод — какой тариф лучше."
      ]
    },
    {
      "cell_type": "markdown",
      "metadata": {},
      "source": [
        "# 1  Изучение данных из файла"
      ]
    },
    {
      "cell_type": "code",
      "execution_count": 1,
      "metadata": {},
      "outputs": [],
      "source": [
        "# Импортируем библиотеки\n",
        "import pandas as pd\n",
        "import matplotlib.pyplot as plt\n",
        "import numpy as np\n",
        "from scipy import stats as st"
      ]
    },
    {
      "cell_type": "code",
      "execution_count": 2,
      "metadata": {},
      "outputs": [
        {
          "data": {
            "text/html": [
              "<div>\n",
              "<style scoped>\n",
              "    .dataframe tbody tr th:only-of-type {\n",
              "        vertical-align: middle;\n",
              "    }\n",
              "\n",
              "    .dataframe tbody tr th {\n",
              "        vertical-align: top;\n",
              "    }\n",
              "\n",
              "    .dataframe thead th {\n",
              "        text-align: right;\n",
              "    }\n",
              "</style>\n",
              "<table border=\"1\" class=\"dataframe\">\n",
              "  <thead>\n",
              "    <tr style=\"text-align: right;\">\n",
              "      <th></th>\n",
              "      <th>id</th>\n",
              "      <th>call_date</th>\n",
              "      <th>duration</th>\n",
              "      <th>user_id</th>\n",
              "    </tr>\n",
              "  </thead>\n",
              "  <tbody>\n",
              "    <tr>\n",
              "      <th>0</th>\n",
              "      <td>1000_0</td>\n",
              "      <td>2018-07-25</td>\n",
              "      <td>0.00</td>\n",
              "      <td>1000</td>\n",
              "    </tr>\n",
              "    <tr>\n",
              "      <th>1</th>\n",
              "      <td>1000_1</td>\n",
              "      <td>2018-08-17</td>\n",
              "      <td>0.00</td>\n",
              "      <td>1000</td>\n",
              "    </tr>\n",
              "    <tr>\n",
              "      <th>2</th>\n",
              "      <td>1000_2</td>\n",
              "      <td>2018-06-11</td>\n",
              "      <td>2.85</td>\n",
              "      <td>1000</td>\n",
              "    </tr>\n",
              "    <tr>\n",
              "      <th>3</th>\n",
              "      <td>1000_3</td>\n",
              "      <td>2018-09-21</td>\n",
              "      <td>13.80</td>\n",
              "      <td>1000</td>\n",
              "    </tr>\n",
              "    <tr>\n",
              "      <th>4</th>\n",
              "      <td>1000_4</td>\n",
              "      <td>2018-12-15</td>\n",
              "      <td>5.18</td>\n",
              "      <td>1000</td>\n",
              "    </tr>\n",
              "    <tr>\n",
              "      <th>5</th>\n",
              "      <td>1000_5</td>\n",
              "      <td>2018-11-02</td>\n",
              "      <td>0.00</td>\n",
              "      <td>1000</td>\n",
              "    </tr>\n",
              "    <tr>\n",
              "      <th>6</th>\n",
              "      <td>1000_6</td>\n",
              "      <td>2018-10-18</td>\n",
              "      <td>0.00</td>\n",
              "      <td>1000</td>\n",
              "    </tr>\n",
              "    <tr>\n",
              "      <th>7</th>\n",
              "      <td>1000_7</td>\n",
              "      <td>2018-08-22</td>\n",
              "      <td>18.31</td>\n",
              "      <td>1000</td>\n",
              "    </tr>\n",
              "    <tr>\n",
              "      <th>8</th>\n",
              "      <td>1000_8</td>\n",
              "      <td>2018-09-15</td>\n",
              "      <td>18.44</td>\n",
              "      <td>1000</td>\n",
              "    </tr>\n",
              "    <tr>\n",
              "      <th>9</th>\n",
              "      <td>1000_9</td>\n",
              "      <td>2018-08-15</td>\n",
              "      <td>0.00</td>\n",
              "      <td>1000</td>\n",
              "    </tr>\n",
              "  </tbody>\n",
              "</table>\n",
              "</div>"
            ],
            "text/plain": [
              "       id   call_date  duration  user_id\n",
              "0  1000_0  2018-07-25      0.00     1000\n",
              "1  1000_1  2018-08-17      0.00     1000\n",
              "2  1000_2  2018-06-11      2.85     1000\n",
              "3  1000_3  2018-09-21     13.80     1000\n",
              "4  1000_4  2018-12-15      5.18     1000\n",
              "5  1000_5  2018-11-02      0.00     1000\n",
              "6  1000_6  2018-10-18      0.00     1000\n",
              "7  1000_7  2018-08-22     18.31     1000\n",
              "8  1000_8  2018-09-15     18.44     1000\n",
              "9  1000_9  2018-08-15      0.00     1000"
            ]
          },
          "metadata": {},
          "output_type": "display_data"
        },
        {
          "name": "stdout",
          "output_type": "stream",
          "text": [
            "<class 'pandas.core.frame.DataFrame'>\n",
            "RangeIndex: 202607 entries, 0 to 202606\n",
            "Data columns (total 4 columns):\n",
            " #   Column     Non-Null Count   Dtype  \n",
            "---  ------     --------------   -----  \n",
            " 0   id         202607 non-null  object \n",
            " 1   call_date  202607 non-null  object \n",
            " 2   duration   202607 non-null  float64\n",
            " 3   user_id    202607 non-null  int64  \n",
            "dtypes: float64(1), int64(1), object(2)\n",
            "memory usage: 6.2+ MB\n"
          ]
        },
        {
          "data": {
            "text/html": [
              "<div>\n",
              "<style scoped>\n",
              "    .dataframe tbody tr th:only-of-type {\n",
              "        vertical-align: middle;\n",
              "    }\n",
              "\n",
              "    .dataframe tbody tr th {\n",
              "        vertical-align: top;\n",
              "    }\n",
              "\n",
              "    .dataframe thead th {\n",
              "        text-align: right;\n",
              "    }\n",
              "</style>\n",
              "<table border=\"1\" class=\"dataframe\">\n",
              "  <thead>\n",
              "    <tr style=\"text-align: right;\">\n",
              "      <th></th>\n",
              "      <th>Unnamed: 0</th>\n",
              "      <th>id</th>\n",
              "      <th>mb_used</th>\n",
              "      <th>session_date</th>\n",
              "      <th>user_id</th>\n",
              "    </tr>\n",
              "  </thead>\n",
              "  <tbody>\n",
              "    <tr>\n",
              "      <th>0</th>\n",
              "      <td>0</td>\n",
              "      <td>1000_0</td>\n",
              "      <td>112.95</td>\n",
              "      <td>2018-11-25</td>\n",
              "      <td>1000</td>\n",
              "    </tr>\n",
              "    <tr>\n",
              "      <th>1</th>\n",
              "      <td>1</td>\n",
              "      <td>1000_1</td>\n",
              "      <td>1052.81</td>\n",
              "      <td>2018-09-07</td>\n",
              "      <td>1000</td>\n",
              "    </tr>\n",
              "    <tr>\n",
              "      <th>2</th>\n",
              "      <td>2</td>\n",
              "      <td>1000_2</td>\n",
              "      <td>1197.26</td>\n",
              "      <td>2018-06-25</td>\n",
              "      <td>1000</td>\n",
              "    </tr>\n",
              "    <tr>\n",
              "      <th>3</th>\n",
              "      <td>3</td>\n",
              "      <td>1000_3</td>\n",
              "      <td>550.27</td>\n",
              "      <td>2018-08-22</td>\n",
              "      <td>1000</td>\n",
              "    </tr>\n",
              "    <tr>\n",
              "      <th>4</th>\n",
              "      <td>4</td>\n",
              "      <td>1000_4</td>\n",
              "      <td>302.56</td>\n",
              "      <td>2018-09-24</td>\n",
              "      <td>1000</td>\n",
              "    </tr>\n",
              "    <tr>\n",
              "      <th>5</th>\n",
              "      <td>5</td>\n",
              "      <td>1000_5</td>\n",
              "      <td>399.97</td>\n",
              "      <td>2018-10-02</td>\n",
              "      <td>1000</td>\n",
              "    </tr>\n",
              "    <tr>\n",
              "      <th>6</th>\n",
              "      <td>6</td>\n",
              "      <td>1000_6</td>\n",
              "      <td>540.08</td>\n",
              "      <td>2018-09-07</td>\n",
              "      <td>1000</td>\n",
              "    </tr>\n",
              "    <tr>\n",
              "      <th>7</th>\n",
              "      <td>7</td>\n",
              "      <td>1000_7</td>\n",
              "      <td>415.70</td>\n",
              "      <td>2018-07-11</td>\n",
              "      <td>1000</td>\n",
              "    </tr>\n",
              "    <tr>\n",
              "      <th>8</th>\n",
              "      <td>8</td>\n",
              "      <td>1000_8</td>\n",
              "      <td>505.40</td>\n",
              "      <td>2018-10-08</td>\n",
              "      <td>1000</td>\n",
              "    </tr>\n",
              "    <tr>\n",
              "      <th>9</th>\n",
              "      <td>9</td>\n",
              "      <td>1000_9</td>\n",
              "      <td>345.54</td>\n",
              "      <td>2018-09-03</td>\n",
              "      <td>1000</td>\n",
              "    </tr>\n",
              "  </tbody>\n",
              "</table>\n",
              "</div>"
            ],
            "text/plain": [
              "   Unnamed: 0      id  mb_used session_date  user_id\n",
              "0           0  1000_0   112.95   2018-11-25     1000\n",
              "1           1  1000_1  1052.81   2018-09-07     1000\n",
              "2           2  1000_2  1197.26   2018-06-25     1000\n",
              "3           3  1000_3   550.27   2018-08-22     1000\n",
              "4           4  1000_4   302.56   2018-09-24     1000\n",
              "5           5  1000_5   399.97   2018-10-02     1000\n",
              "6           6  1000_6   540.08   2018-09-07     1000\n",
              "7           7  1000_7   415.70   2018-07-11     1000\n",
              "8           8  1000_8   505.40   2018-10-08     1000\n",
              "9           9  1000_9   345.54   2018-09-03     1000"
            ]
          },
          "metadata": {},
          "output_type": "display_data"
        },
        {
          "name": "stdout",
          "output_type": "stream",
          "text": [
            "<class 'pandas.core.frame.DataFrame'>\n",
            "RangeIndex: 149396 entries, 0 to 149395\n",
            "Data columns (total 5 columns):\n",
            " #   Column        Non-Null Count   Dtype  \n",
            "---  ------        --------------   -----  \n",
            " 0   Unnamed: 0    149396 non-null  int64  \n",
            " 1   id            149396 non-null  object \n",
            " 2   mb_used       149396 non-null  float64\n",
            " 3   session_date  149396 non-null  object \n",
            " 4   user_id       149396 non-null  int64  \n",
            "dtypes: float64(1), int64(2), object(2)\n",
            "memory usage: 5.7+ MB\n"
          ]
        },
        {
          "data": {
            "text/html": [
              "<div>\n",
              "<style scoped>\n",
              "    .dataframe tbody tr th:only-of-type {\n",
              "        vertical-align: middle;\n",
              "    }\n",
              "\n",
              "    .dataframe tbody tr th {\n",
              "        vertical-align: top;\n",
              "    }\n",
              "\n",
              "    .dataframe thead th {\n",
              "        text-align: right;\n",
              "    }\n",
              "</style>\n",
              "<table border=\"1\" class=\"dataframe\">\n",
              "  <thead>\n",
              "    <tr style=\"text-align: right;\">\n",
              "      <th></th>\n",
              "      <th>id</th>\n",
              "      <th>message_date</th>\n",
              "      <th>user_id</th>\n",
              "    </tr>\n",
              "  </thead>\n",
              "  <tbody>\n",
              "    <tr>\n",
              "      <th>0</th>\n",
              "      <td>1000_0</td>\n",
              "      <td>2018-06-27</td>\n",
              "      <td>1000</td>\n",
              "    </tr>\n",
              "    <tr>\n",
              "      <th>1</th>\n",
              "      <td>1000_1</td>\n",
              "      <td>2018-10-08</td>\n",
              "      <td>1000</td>\n",
              "    </tr>\n",
              "    <tr>\n",
              "      <th>2</th>\n",
              "      <td>1000_2</td>\n",
              "      <td>2018-08-04</td>\n",
              "      <td>1000</td>\n",
              "    </tr>\n",
              "    <tr>\n",
              "      <th>3</th>\n",
              "      <td>1000_3</td>\n",
              "      <td>2018-06-16</td>\n",
              "      <td>1000</td>\n",
              "    </tr>\n",
              "    <tr>\n",
              "      <th>4</th>\n",
              "      <td>1000_4</td>\n",
              "      <td>2018-12-05</td>\n",
              "      <td>1000</td>\n",
              "    </tr>\n",
              "    <tr>\n",
              "      <th>5</th>\n",
              "      <td>1000_5</td>\n",
              "      <td>2018-06-20</td>\n",
              "      <td>1000</td>\n",
              "    </tr>\n",
              "    <tr>\n",
              "      <th>6</th>\n",
              "      <td>1000_6</td>\n",
              "      <td>2018-11-19</td>\n",
              "      <td>1000</td>\n",
              "    </tr>\n",
              "    <tr>\n",
              "      <th>7</th>\n",
              "      <td>1000_7</td>\n",
              "      <td>2018-10-29</td>\n",
              "      <td>1000</td>\n",
              "    </tr>\n",
              "    <tr>\n",
              "      <th>8</th>\n",
              "      <td>1000_8</td>\n",
              "      <td>2018-06-25</td>\n",
              "      <td>1000</td>\n",
              "    </tr>\n",
              "    <tr>\n",
              "      <th>9</th>\n",
              "      <td>1000_9</td>\n",
              "      <td>2018-12-18</td>\n",
              "      <td>1000</td>\n",
              "    </tr>\n",
              "  </tbody>\n",
              "</table>\n",
              "</div>"
            ],
            "text/plain": [
              "       id message_date  user_id\n",
              "0  1000_0   2018-06-27     1000\n",
              "1  1000_1   2018-10-08     1000\n",
              "2  1000_2   2018-08-04     1000\n",
              "3  1000_3   2018-06-16     1000\n",
              "4  1000_4   2018-12-05     1000\n",
              "5  1000_5   2018-06-20     1000\n",
              "6  1000_6   2018-11-19     1000\n",
              "7  1000_7   2018-10-29     1000\n",
              "8  1000_8   2018-06-25     1000\n",
              "9  1000_9   2018-12-18     1000"
            ]
          },
          "metadata": {},
          "output_type": "display_data"
        },
        {
          "name": "stdout",
          "output_type": "stream",
          "text": [
            "<class 'pandas.core.frame.DataFrame'>\n",
            "RangeIndex: 123036 entries, 0 to 123035\n",
            "Data columns (total 3 columns):\n",
            " #   Column        Non-Null Count   Dtype \n",
            "---  ------        --------------   ----- \n",
            " 0   id            123036 non-null  object\n",
            " 1   message_date  123036 non-null  object\n",
            " 2   user_id       123036 non-null  int64 \n",
            "dtypes: int64(1), object(2)\n",
            "memory usage: 2.8+ MB\n"
          ]
        },
        {
          "data": {
            "text/html": [
              "<div>\n",
              "<style scoped>\n",
              "    .dataframe tbody tr th:only-of-type {\n",
              "        vertical-align: middle;\n",
              "    }\n",
              "\n",
              "    .dataframe tbody tr th {\n",
              "        vertical-align: top;\n",
              "    }\n",
              "\n",
              "    .dataframe thead th {\n",
              "        text-align: right;\n",
              "    }\n",
              "</style>\n",
              "<table border=\"1\" class=\"dataframe\">\n",
              "  <thead>\n",
              "    <tr style=\"text-align: right;\">\n",
              "      <th></th>\n",
              "      <th>messages_included</th>\n",
              "      <th>mb_per_month_included</th>\n",
              "      <th>minutes_included</th>\n",
              "      <th>rub_monthly_fee</th>\n",
              "      <th>rub_per_gb</th>\n",
              "      <th>rub_per_message</th>\n",
              "      <th>rub_per_minute</th>\n",
              "      <th>tariff_name</th>\n",
              "    </tr>\n",
              "  </thead>\n",
              "  <tbody>\n",
              "    <tr>\n",
              "      <th>0</th>\n",
              "      <td>50</td>\n",
              "      <td>15360</td>\n",
              "      <td>500</td>\n",
              "      <td>550</td>\n",
              "      <td>200</td>\n",
              "      <td>3</td>\n",
              "      <td>3</td>\n",
              "      <td>smart</td>\n",
              "    </tr>\n",
              "    <tr>\n",
              "      <th>1</th>\n",
              "      <td>1000</td>\n",
              "      <td>30720</td>\n",
              "      <td>3000</td>\n",
              "      <td>1950</td>\n",
              "      <td>150</td>\n",
              "      <td>1</td>\n",
              "      <td>1</td>\n",
              "      <td>ultra</td>\n",
              "    </tr>\n",
              "  </tbody>\n",
              "</table>\n",
              "</div>"
            ],
            "text/plain": [
              "   messages_included  mb_per_month_included  minutes_included  \\\n",
              "0                 50                  15360               500   \n",
              "1               1000                  30720              3000   \n",
              "\n",
              "   rub_monthly_fee  rub_per_gb  rub_per_message  rub_per_minute tariff_name  \n",
              "0              550         200                3               3       smart  \n",
              "1             1950         150                1               1       ultra  "
            ]
          },
          "metadata": {},
          "output_type": "display_data"
        },
        {
          "name": "stdout",
          "output_type": "stream",
          "text": [
            "<class 'pandas.core.frame.DataFrame'>\n",
            "RangeIndex: 2 entries, 0 to 1\n",
            "Data columns (total 8 columns):\n",
            " #   Column                 Non-Null Count  Dtype \n",
            "---  ------                 --------------  ----- \n",
            " 0   messages_included      2 non-null      int64 \n",
            " 1   mb_per_month_included  2 non-null      int64 \n",
            " 2   minutes_included       2 non-null      int64 \n",
            " 3   rub_monthly_fee        2 non-null      int64 \n",
            " 4   rub_per_gb             2 non-null      int64 \n",
            " 5   rub_per_message        2 non-null      int64 \n",
            " 6   rub_per_minute         2 non-null      int64 \n",
            " 7   tariff_name            2 non-null      object\n",
            "dtypes: int64(7), object(1)\n",
            "memory usage: 256.0+ bytes\n"
          ]
        },
        {
          "data": {
            "text/html": [
              "<div>\n",
              "<style scoped>\n",
              "    .dataframe tbody tr th:only-of-type {\n",
              "        vertical-align: middle;\n",
              "    }\n",
              "\n",
              "    .dataframe tbody tr th {\n",
              "        vertical-align: top;\n",
              "    }\n",
              "\n",
              "    .dataframe thead th {\n",
              "        text-align: right;\n",
              "    }\n",
              "</style>\n",
              "<table border=\"1\" class=\"dataframe\">\n",
              "  <thead>\n",
              "    <tr style=\"text-align: right;\">\n",
              "      <th></th>\n",
              "      <th>user_id</th>\n",
              "      <th>age</th>\n",
              "      <th>churn_date</th>\n",
              "      <th>city</th>\n",
              "      <th>first_name</th>\n",
              "      <th>last_name</th>\n",
              "      <th>reg_date</th>\n",
              "      <th>tariff</th>\n",
              "    </tr>\n",
              "  </thead>\n",
              "  <tbody>\n",
              "    <tr>\n",
              "      <th>0</th>\n",
              "      <td>1000</td>\n",
              "      <td>52</td>\n",
              "      <td>NaN</td>\n",
              "      <td>Краснодар</td>\n",
              "      <td>Рафаил</td>\n",
              "      <td>Верещагин</td>\n",
              "      <td>2018-05-25</td>\n",
              "      <td>ultra</td>\n",
              "    </tr>\n",
              "    <tr>\n",
              "      <th>1</th>\n",
              "      <td>1001</td>\n",
              "      <td>41</td>\n",
              "      <td>NaN</td>\n",
              "      <td>Москва</td>\n",
              "      <td>Иван</td>\n",
              "      <td>Ежов</td>\n",
              "      <td>2018-11-01</td>\n",
              "      <td>smart</td>\n",
              "    </tr>\n",
              "    <tr>\n",
              "      <th>2</th>\n",
              "      <td>1002</td>\n",
              "      <td>59</td>\n",
              "      <td>NaN</td>\n",
              "      <td>Стерлитамак</td>\n",
              "      <td>Евгений</td>\n",
              "      <td>Абрамович</td>\n",
              "      <td>2018-06-17</td>\n",
              "      <td>smart</td>\n",
              "    </tr>\n",
              "    <tr>\n",
              "      <th>3</th>\n",
              "      <td>1003</td>\n",
              "      <td>23</td>\n",
              "      <td>NaN</td>\n",
              "      <td>Москва</td>\n",
              "      <td>Белла</td>\n",
              "      <td>Белякова</td>\n",
              "      <td>2018-08-17</td>\n",
              "      <td>ultra</td>\n",
              "    </tr>\n",
              "    <tr>\n",
              "      <th>4</th>\n",
              "      <td>1004</td>\n",
              "      <td>68</td>\n",
              "      <td>NaN</td>\n",
              "      <td>Новокузнецк</td>\n",
              "      <td>Татьяна</td>\n",
              "      <td>Авдеенко</td>\n",
              "      <td>2018-05-14</td>\n",
              "      <td>ultra</td>\n",
              "    </tr>\n",
              "    <tr>\n",
              "      <th>5</th>\n",
              "      <td>1005</td>\n",
              "      <td>67</td>\n",
              "      <td>NaN</td>\n",
              "      <td>Набережные Челны</td>\n",
              "      <td>Афанасий</td>\n",
              "      <td>Горлов</td>\n",
              "      <td>2018-01-25</td>\n",
              "      <td>smart</td>\n",
              "    </tr>\n",
              "    <tr>\n",
              "      <th>6</th>\n",
              "      <td>1006</td>\n",
              "      <td>21</td>\n",
              "      <td>NaN</td>\n",
              "      <td>Ульяновск</td>\n",
              "      <td>Леонид</td>\n",
              "      <td>Ермолаев</td>\n",
              "      <td>2018-02-26</td>\n",
              "      <td>smart</td>\n",
              "    </tr>\n",
              "    <tr>\n",
              "      <th>7</th>\n",
              "      <td>1007</td>\n",
              "      <td>65</td>\n",
              "      <td>NaN</td>\n",
              "      <td>Москва</td>\n",
              "      <td>Юна</td>\n",
              "      <td>Березина</td>\n",
              "      <td>2018-04-19</td>\n",
              "      <td>smart</td>\n",
              "    </tr>\n",
              "    <tr>\n",
              "      <th>8</th>\n",
              "      <td>1008</td>\n",
              "      <td>63</td>\n",
              "      <td>NaN</td>\n",
              "      <td>Челябинск</td>\n",
              "      <td>Рустэм</td>\n",
              "      <td>Пономарёв</td>\n",
              "      <td>2018-12-19</td>\n",
              "      <td>smart</td>\n",
              "    </tr>\n",
              "    <tr>\n",
              "      <th>9</th>\n",
              "      <td>1009</td>\n",
              "      <td>24</td>\n",
              "      <td>NaN</td>\n",
              "      <td>Пермь</td>\n",
              "      <td>Василиса</td>\n",
              "      <td>Блинова</td>\n",
              "      <td>2018-03-22</td>\n",
              "      <td>smart</td>\n",
              "    </tr>\n",
              "  </tbody>\n",
              "</table>\n",
              "</div>"
            ],
            "text/plain": [
              "   user_id  age churn_date              city first_name  last_name  \\\n",
              "0     1000   52        NaN         Краснодар     Рафаил  Верещагин   \n",
              "1     1001   41        NaN            Москва       Иван       Ежов   \n",
              "2     1002   59        NaN       Стерлитамак    Евгений  Абрамович   \n",
              "3     1003   23        NaN            Москва      Белла   Белякова   \n",
              "4     1004   68        NaN       Новокузнецк    Татьяна   Авдеенко   \n",
              "5     1005   67        NaN  Набережные Челны   Афанасий     Горлов   \n",
              "6     1006   21        NaN         Ульяновск     Леонид   Ермолаев   \n",
              "7     1007   65        NaN            Москва        Юна   Березина   \n",
              "8     1008   63        NaN         Челябинск     Рустэм  Пономарёв   \n",
              "9     1009   24        NaN             Пермь   Василиса    Блинова   \n",
              "\n",
              "     reg_date tariff  \n",
              "0  2018-05-25  ultra  \n",
              "1  2018-11-01  smart  \n",
              "2  2018-06-17  smart  \n",
              "3  2018-08-17  ultra  \n",
              "4  2018-05-14  ultra  \n",
              "5  2018-01-25  smart  \n",
              "6  2018-02-26  smart  \n",
              "7  2018-04-19  smart  \n",
              "8  2018-12-19  smart  \n",
              "9  2018-03-22  smart  "
            ]
          },
          "metadata": {},
          "output_type": "display_data"
        },
        {
          "name": "stdout",
          "output_type": "stream",
          "text": [
            "<class 'pandas.core.frame.DataFrame'>\n",
            "RangeIndex: 500 entries, 0 to 499\n",
            "Data columns (total 8 columns):\n",
            " #   Column      Non-Null Count  Dtype \n",
            "---  ------      --------------  ----- \n",
            " 0   user_id     500 non-null    int64 \n",
            " 1   age         500 non-null    int64 \n",
            " 2   churn_date  38 non-null     object\n",
            " 3   city        500 non-null    object\n",
            " 4   first_name  500 non-null    object\n",
            " 5   last_name   500 non-null    object\n",
            " 6   reg_date    500 non-null    object\n",
            " 7   tariff      500 non-null    object\n",
            "dtypes: int64(2), object(6)\n",
            "memory usage: 31.4+ KB\n"
          ]
        }
      ],
      "source": [
        "# Открываем файл и выводим первые 10 строк\n",
        "# Вызываем функцию info() для оценки заполненности таблицы, соответствия типов данных столбцов хранимым в них значениях\n",
        "calls = pd.read_csv('/datasets/calls.csv')\n",
        "display(calls.head(10))\n",
        "calls.info()\n",
        "internet = pd.read_csv('/datasets/internet.csv')\n",
        "display(internet.head(10))\n",
        "internet.info()\n",
        "messages = pd.read_csv('/datasets/messages.csv')\n",
        "display(messages.head(10))\n",
        "messages.info()\n",
        "tariffs = pd.read_csv('/datasets/tariffs.csv')\n",
        "display(tariffs.head(10))\n",
        "tariffs.info()\n",
        "users = pd.read_csv('/datasets/users.csv')\n",
        "display(users.head(10))\n",
        "users.info()"
      ]
    },
    {
      "cell_type": "code",
      "execution_count": 3,
      "metadata": {},
      "outputs": [
        {
          "data": {
            "text/plain": [
              "0"
            ]
          },
          "execution_count": 3,
          "metadata": {},
          "output_type": "execute_result"
        }
      ],
      "source": [
        "#Проверим на наличие дубликатов\n",
        "calls.duplicated().sum()\n",
        "internet.duplicated().sum()\n",
        "messages.duplicated().sum()\n",
        "tariffs.duplicated().sum()\n",
        "users.duplicated().sum()"
      ]
    },
    {
      "cell_type": "markdown",
      "metadata": {},
      "source": [
        "**Вывод**:\n",
        "1. Столбцы с датой имеют тип object, необходимо перевести к формату даты\n",
        "2. Имеются пропуски: churn_date (тариф ещё действовал на момент выгрузки данных)\n",
        "3. Необходимо объединить таблицы (звонки, сообщения, интернет) в единый датафрейм, заполнить пропуски."
      ]
    },
    {
      "cell_type": "markdown",
      "metadata": {},
      "source": [
        "#  2 Предобработка данных"
      ]
    },
    {
      "cell_type": "code",
      "execution_count": 4,
      "metadata": {},
      "outputs": [],
      "source": [
        "# Вынесем столбец по месяцам отдельно в каждой таблице\n",
        "calls['month'] = pd.to_datetime(calls['call_date']).dt.month\n",
        "messages['month'] = pd.to_datetime(messages['message_date']).dt.month\n",
        "internet['month'] = pd.to_datetime(internet['session_date']).dt.month"
      ]
    },
    {
      "cell_type": "code",
      "execution_count": 5,
      "metadata": {},
      "outputs": [
        {
          "data": {
            "text/html": [
              "<div>\n",
              "<style scoped>\n",
              "    .dataframe tbody tr th:only-of-type {\n",
              "        vertical-align: middle;\n",
              "    }\n",
              "\n",
              "    .dataframe tbody tr th {\n",
              "        vertical-align: top;\n",
              "    }\n",
              "\n",
              "    .dataframe thead th {\n",
              "        text-align: right;\n",
              "    }\n",
              "</style>\n",
              "<table border=\"1\" class=\"dataframe\">\n",
              "  <thead>\n",
              "    <tr style=\"text-align: right;\">\n",
              "      <th></th>\n",
              "      <th>id</th>\n",
              "      <th>call_date</th>\n",
              "      <th>duration</th>\n",
              "      <th>user_id</th>\n",
              "      <th>month</th>\n",
              "    </tr>\n",
              "  </thead>\n",
              "  <tbody>\n",
              "    <tr>\n",
              "      <th>0</th>\n",
              "      <td>1000_0</td>\n",
              "      <td>2018-07-25</td>\n",
              "      <td>0.0</td>\n",
              "      <td>1000</td>\n",
              "      <td>7</td>\n",
              "    </tr>\n",
              "    <tr>\n",
              "      <th>1</th>\n",
              "      <td>1000_1</td>\n",
              "      <td>2018-08-17</td>\n",
              "      <td>0.0</td>\n",
              "      <td>1000</td>\n",
              "      <td>8</td>\n",
              "    </tr>\n",
              "    <tr>\n",
              "      <th>2</th>\n",
              "      <td>1000_2</td>\n",
              "      <td>2018-06-11</td>\n",
              "      <td>3.0</td>\n",
              "      <td>1000</td>\n",
              "      <td>6</td>\n",
              "    </tr>\n",
              "    <tr>\n",
              "      <th>3</th>\n",
              "      <td>1000_3</td>\n",
              "      <td>2018-09-21</td>\n",
              "      <td>14.0</td>\n",
              "      <td>1000</td>\n",
              "      <td>9</td>\n",
              "    </tr>\n",
              "    <tr>\n",
              "      <th>4</th>\n",
              "      <td>1000_4</td>\n",
              "      <td>2018-12-15</td>\n",
              "      <td>6.0</td>\n",
              "      <td>1000</td>\n",
              "      <td>12</td>\n",
              "    </tr>\n",
              "  </tbody>\n",
              "</table>\n",
              "</div>"
            ],
            "text/plain": [
              "       id   call_date  duration  user_id  month\n",
              "0  1000_0  2018-07-25       0.0     1000      7\n",
              "1  1000_1  2018-08-17       0.0     1000      8\n",
              "2  1000_2  2018-06-11       3.0     1000      6\n",
              "3  1000_3  2018-09-21      14.0     1000      9\n",
              "4  1000_4  2018-12-15       6.0     1000     12"
            ]
          },
          "metadata": {},
          "output_type": "display_data"
        }
      ],
      "source": [
        "calls['duration'] = np.ceil(calls['duration'])\n",
        "display(calls.head())"
      ]
    },
    {
      "cell_type": "code",
      "execution_count": 6,
      "metadata": {},
      "outputs": [],
      "source": [
        "# Сгруппируем таблицы по паре пользователь+месяц,\n",
        "# посчитаем количество израсходованных минут, мегабайтов, отправленных сообщений в месяц\n",
        "calls = calls.groupby(['user_id', 'month']).agg({'duration': 'sum'}).reset_index()\n",
        "internet = internet.groupby(['user_id', 'month']).agg({'mb_used': 'sum'}).reset_index()\n",
        "messages = messages.groupby(['user_id', 'month']).agg({'id': 'count'}).rename(columns = {'id': 'messages'}).reset_index()"
      ]
    },
    {
      "cell_type": "code",
      "execution_count": 7,
      "metadata": {
        "scrolled": true
      },
      "outputs": [
        {
          "data": {
            "text/html": [
              "<div>\n",
              "<style scoped>\n",
              "    .dataframe tbody tr th:only-of-type {\n",
              "        vertical-align: middle;\n",
              "    }\n",
              "\n",
              "    .dataframe tbody tr th {\n",
              "        vertical-align: top;\n",
              "    }\n",
              "\n",
              "    .dataframe thead th {\n",
              "        text-align: right;\n",
              "    }\n",
              "</style>\n",
              "<table border=\"1\" class=\"dataframe\">\n",
              "  <thead>\n",
              "    <tr style=\"text-align: right;\">\n",
              "      <th></th>\n",
              "      <th>user_id</th>\n",
              "      <th>month</th>\n",
              "      <th>duration</th>\n",
              "      <th>messages</th>\n",
              "      <th>mb_used</th>\n",
              "    </tr>\n",
              "  </thead>\n",
              "  <tbody>\n",
              "    <tr>\n",
              "      <th>0</th>\n",
              "      <td>1000</td>\n",
              "      <td>5</td>\n",
              "      <td>159.0</td>\n",
              "      <td>22.0</td>\n",
              "      <td>2253.49</td>\n",
              "    </tr>\n",
              "    <tr>\n",
              "      <th>1</th>\n",
              "      <td>1000</td>\n",
              "      <td>6</td>\n",
              "      <td>172.0</td>\n",
              "      <td>60.0</td>\n",
              "      <td>23233.77</td>\n",
              "    </tr>\n",
              "    <tr>\n",
              "      <th>2</th>\n",
              "      <td>1000</td>\n",
              "      <td>7</td>\n",
              "      <td>340.0</td>\n",
              "      <td>75.0</td>\n",
              "      <td>14003.64</td>\n",
              "    </tr>\n",
              "    <tr>\n",
              "      <th>3</th>\n",
              "      <td>1000</td>\n",
              "      <td>8</td>\n",
              "      <td>408.0</td>\n",
              "      <td>81.0</td>\n",
              "      <td>14055.93</td>\n",
              "    </tr>\n",
              "    <tr>\n",
              "      <th>4</th>\n",
              "      <td>1000</td>\n",
              "      <td>9</td>\n",
              "      <td>466.0</td>\n",
              "      <td>57.0</td>\n",
              "      <td>14568.91</td>\n",
              "    </tr>\n",
              "    <tr>\n",
              "      <th>...</th>\n",
              "      <td>...</td>\n",
              "      <td>...</td>\n",
              "      <td>...</td>\n",
              "      <td>...</td>\n",
              "      <td>...</td>\n",
              "    </tr>\n",
              "    <tr>\n",
              "      <th>3209</th>\n",
              "      <td>1489</td>\n",
              "      <td>9</td>\n",
              "      <td>NaN</td>\n",
              "      <td>32.0</td>\n",
              "      <td>17206.30</td>\n",
              "    </tr>\n",
              "    <tr>\n",
              "      <th>3210</th>\n",
              "      <td>1489</td>\n",
              "      <td>10</td>\n",
              "      <td>NaN</td>\n",
              "      <td>21.0</td>\n",
              "      <td>19559.44</td>\n",
              "    </tr>\n",
              "    <tr>\n",
              "      <th>3211</th>\n",
              "      <td>1489</td>\n",
              "      <td>11</td>\n",
              "      <td>NaN</td>\n",
              "      <td>20.0</td>\n",
              "      <td>17491.56</td>\n",
              "    </tr>\n",
              "    <tr>\n",
              "      <th>3212</th>\n",
              "      <td>1489</td>\n",
              "      <td>12</td>\n",
              "      <td>NaN</td>\n",
              "      <td>35.0</td>\n",
              "      <td>17322.51</td>\n",
              "    </tr>\n",
              "    <tr>\n",
              "      <th>3213</th>\n",
              "      <td>1476</td>\n",
              "      <td>4</td>\n",
              "      <td>NaN</td>\n",
              "      <td>NaN</td>\n",
              "      <td>530.78</td>\n",
              "    </tr>\n",
              "  </tbody>\n",
              "</table>\n",
              "<p>3214 rows × 5 columns</p>\n",
              "</div>"
            ],
            "text/plain": [
              "      user_id  month  duration  messages   mb_used\n",
              "0        1000      5     159.0      22.0   2253.49\n",
              "1        1000      6     172.0      60.0  23233.77\n",
              "2        1000      7     340.0      75.0  14003.64\n",
              "3        1000      8     408.0      81.0  14055.93\n",
              "4        1000      9     466.0      57.0  14568.91\n",
              "...       ...    ...       ...       ...       ...\n",
              "3209     1489      9       NaN      32.0  17206.30\n",
              "3210     1489     10       NaN      21.0  19559.44\n",
              "3211     1489     11       NaN      20.0  17491.56\n",
              "3212     1489     12       NaN      35.0  17322.51\n",
              "3213     1476      4       NaN       NaN    530.78\n",
              "\n",
              "[3214 rows x 5 columns]"
            ]
          },
          "metadata": {},
          "output_type": "display_data"
        },
        {
          "name": "stdout",
          "output_type": "stream",
          "text": [
            "<class 'pandas.core.frame.DataFrame'>\n",
            "Int64Index: 3214 entries, 0 to 3213\n",
            "Data columns (total 5 columns):\n",
            " #   Column    Non-Null Count  Dtype  \n",
            "---  ------    --------------  -----  \n",
            " 0   user_id   3214 non-null   int64  \n",
            " 1   month     3214 non-null   int64  \n",
            " 2   duration  3174 non-null   float64\n",
            " 3   messages  2717 non-null   float64\n",
            " 4   mb_used   3203 non-null   float64\n",
            "dtypes: float64(3), int64(2)\n",
            "memory usage: 150.7 KB\n"
          ]
        },
        {
          "data": {
            "text/plain": [
              "None"
            ]
          },
          "metadata": {},
          "output_type": "display_data"
        }
      ],
      "source": [
        "# Объединим таблицы(звонки, сообщения, интернет) в одну\n",
        "data = calls.merge(messages, on=['user_id', 'month'],  how='outer' ).merge(internet, on=['user_id', 'month'], how='outer' )\n",
        "display(data)\n",
        "display(data.info())"
      ]
    },
    {
      "cell_type": "code",
      "execution_count": 8,
      "metadata": {},
      "outputs": [],
      "source": [
        "# Заменим пропуски в столбцах duration, messages, mb_used на \"0\" (вероятно, пользователь не совершал звонков,не отправлял смс, не использовал мегабайты в данном месяце)\n",
        "columns = ['messages', 'duration', 'mb_used']\n",
        "for column in columns:\n",
        "    data[column] = data[column].fillna(0) "
      ]
    },
    {
      "cell_type": "code",
      "execution_count": 9,
      "metadata": {
        "scrolled": true
      },
      "outputs": [
        {
          "name": "stdout",
          "output_type": "stream",
          "text": [
            "<class 'pandas.core.frame.DataFrame'>\n",
            "Int64Index: 3214 entries, 0 to 3213\n",
            "Data columns (total 5 columns):\n",
            " #   Column    Non-Null Count  Dtype  \n",
            "---  ------    --------------  -----  \n",
            " 0   user_id   3214 non-null   int64  \n",
            " 1   month     3214 non-null   int64  \n",
            " 2   duration  3214 non-null   float64\n",
            " 3   messages  3214 non-null   int64  \n",
            " 4   mb_used   3214 non-null   float64\n",
            "dtypes: float64(2), int64(3)\n",
            "memory usage: 150.7 KB\n"
          ]
        },
        {
          "data": {
            "text/plain": [
              "None"
            ]
          },
          "metadata": {},
          "output_type": "display_data"
        }
      ],
      "source": [
        "# Изменим тип столбца messages с float64 на int64\n",
        "data['messages'] = data['messages'].astype('int64')\n",
        "display(data.info())"
      ]
    },
    {
      "cell_type": "code",
      "execution_count": 10,
      "metadata": {},
      "outputs": [
        {
          "data": {
            "text/html": [
              "<div>\n",
              "<style scoped>\n",
              "    .dataframe tbody tr th:only-of-type {\n",
              "        vertical-align: middle;\n",
              "    }\n",
              "\n",
              "    .dataframe tbody tr th {\n",
              "        vertical-align: top;\n",
              "    }\n",
              "\n",
              "    .dataframe thead th {\n",
              "        text-align: right;\n",
              "    }\n",
              "</style>\n",
              "<table border=\"1\" class=\"dataframe\">\n",
              "  <thead>\n",
              "    <tr style=\"text-align: right;\">\n",
              "      <th></th>\n",
              "      <th>user_id</th>\n",
              "      <th>month</th>\n",
              "      <th>duration</th>\n",
              "      <th>messages</th>\n",
              "      <th>mb_used</th>\n",
              "      <th>age</th>\n",
              "      <th>churn_date</th>\n",
              "      <th>city</th>\n",
              "      <th>first_name</th>\n",
              "      <th>last_name</th>\n",
              "      <th>reg_date</th>\n",
              "      <th>tariff</th>\n",
              "      <th>messages_included</th>\n",
              "      <th>mb_per_month_included</th>\n",
              "      <th>minutes_included</th>\n",
              "      <th>rub_monthly_fee</th>\n",
              "      <th>rub_per_gb</th>\n",
              "      <th>rub_per_message</th>\n",
              "      <th>rub_per_minute</th>\n",
              "      <th>tariff_name</th>\n",
              "    </tr>\n",
              "  </thead>\n",
              "  <tbody>\n",
              "    <tr>\n",
              "      <th>0</th>\n",
              "      <td>1000</td>\n",
              "      <td>5</td>\n",
              "      <td>159.0</td>\n",
              "      <td>22</td>\n",
              "      <td>2253.49</td>\n",
              "      <td>52</td>\n",
              "      <td>NaN</td>\n",
              "      <td>Краснодар</td>\n",
              "      <td>Рафаил</td>\n",
              "      <td>Верещагин</td>\n",
              "      <td>2018-05-25</td>\n",
              "      <td>ultra</td>\n",
              "      <td>1000</td>\n",
              "      <td>30720</td>\n",
              "      <td>3000</td>\n",
              "      <td>1950</td>\n",
              "      <td>150</td>\n",
              "      <td>1</td>\n",
              "      <td>1</td>\n",
              "      <td>ultra</td>\n",
              "    </tr>\n",
              "    <tr>\n",
              "      <th>1</th>\n",
              "      <td>1000</td>\n",
              "      <td>6</td>\n",
              "      <td>172.0</td>\n",
              "      <td>60</td>\n",
              "      <td>23233.77</td>\n",
              "      <td>52</td>\n",
              "      <td>NaN</td>\n",
              "      <td>Краснодар</td>\n",
              "      <td>Рафаил</td>\n",
              "      <td>Верещагин</td>\n",
              "      <td>2018-05-25</td>\n",
              "      <td>ultra</td>\n",
              "      <td>1000</td>\n",
              "      <td>30720</td>\n",
              "      <td>3000</td>\n",
              "      <td>1950</td>\n",
              "      <td>150</td>\n",
              "      <td>1</td>\n",
              "      <td>1</td>\n",
              "      <td>ultra</td>\n",
              "    </tr>\n",
              "    <tr>\n",
              "      <th>2</th>\n",
              "      <td>1000</td>\n",
              "      <td>7</td>\n",
              "      <td>340.0</td>\n",
              "      <td>75</td>\n",
              "      <td>14003.64</td>\n",
              "      <td>52</td>\n",
              "      <td>NaN</td>\n",
              "      <td>Краснодар</td>\n",
              "      <td>Рафаил</td>\n",
              "      <td>Верещагин</td>\n",
              "      <td>2018-05-25</td>\n",
              "      <td>ultra</td>\n",
              "      <td>1000</td>\n",
              "      <td>30720</td>\n",
              "      <td>3000</td>\n",
              "      <td>1950</td>\n",
              "      <td>150</td>\n",
              "      <td>1</td>\n",
              "      <td>1</td>\n",
              "      <td>ultra</td>\n",
              "    </tr>\n",
              "    <tr>\n",
              "      <th>3</th>\n",
              "      <td>1000</td>\n",
              "      <td>8</td>\n",
              "      <td>408.0</td>\n",
              "      <td>81</td>\n",
              "      <td>14055.93</td>\n",
              "      <td>52</td>\n",
              "      <td>NaN</td>\n",
              "      <td>Краснодар</td>\n",
              "      <td>Рафаил</td>\n",
              "      <td>Верещагин</td>\n",
              "      <td>2018-05-25</td>\n",
              "      <td>ultra</td>\n",
              "      <td>1000</td>\n",
              "      <td>30720</td>\n",
              "      <td>3000</td>\n",
              "      <td>1950</td>\n",
              "      <td>150</td>\n",
              "      <td>1</td>\n",
              "      <td>1</td>\n",
              "      <td>ultra</td>\n",
              "    </tr>\n",
              "    <tr>\n",
              "      <th>4</th>\n",
              "      <td>1000</td>\n",
              "      <td>9</td>\n",
              "      <td>466.0</td>\n",
              "      <td>57</td>\n",
              "      <td>14568.91</td>\n",
              "      <td>52</td>\n",
              "      <td>NaN</td>\n",
              "      <td>Краснодар</td>\n",
              "      <td>Рафаил</td>\n",
              "      <td>Верещагин</td>\n",
              "      <td>2018-05-25</td>\n",
              "      <td>ultra</td>\n",
              "      <td>1000</td>\n",
              "      <td>30720</td>\n",
              "      <td>3000</td>\n",
              "      <td>1950</td>\n",
              "      <td>150</td>\n",
              "      <td>1</td>\n",
              "      <td>1</td>\n",
              "      <td>ultra</td>\n",
              "    </tr>\n",
              "    <tr>\n",
              "      <th>5</th>\n",
              "      <td>1000</td>\n",
              "      <td>10</td>\n",
              "      <td>350.0</td>\n",
              "      <td>73</td>\n",
              "      <td>14702.49</td>\n",
              "      <td>52</td>\n",
              "      <td>NaN</td>\n",
              "      <td>Краснодар</td>\n",
              "      <td>Рафаил</td>\n",
              "      <td>Верещагин</td>\n",
              "      <td>2018-05-25</td>\n",
              "      <td>ultra</td>\n",
              "      <td>1000</td>\n",
              "      <td>30720</td>\n",
              "      <td>3000</td>\n",
              "      <td>1950</td>\n",
              "      <td>150</td>\n",
              "      <td>1</td>\n",
              "      <td>1</td>\n",
              "      <td>ultra</td>\n",
              "    </tr>\n",
              "    <tr>\n",
              "      <th>6</th>\n",
              "      <td>1000</td>\n",
              "      <td>11</td>\n",
              "      <td>338.0</td>\n",
              "      <td>58</td>\n",
              "      <td>14756.47</td>\n",
              "      <td>52</td>\n",
              "      <td>NaN</td>\n",
              "      <td>Краснодар</td>\n",
              "      <td>Рафаил</td>\n",
              "      <td>Верещагин</td>\n",
              "      <td>2018-05-25</td>\n",
              "      <td>ultra</td>\n",
              "      <td>1000</td>\n",
              "      <td>30720</td>\n",
              "      <td>3000</td>\n",
              "      <td>1950</td>\n",
              "      <td>150</td>\n",
              "      <td>1</td>\n",
              "      <td>1</td>\n",
              "      <td>ultra</td>\n",
              "    </tr>\n",
              "    <tr>\n",
              "      <th>7</th>\n",
              "      <td>1000</td>\n",
              "      <td>12</td>\n",
              "      <td>333.0</td>\n",
              "      <td>70</td>\n",
              "      <td>9817.61</td>\n",
              "      <td>52</td>\n",
              "      <td>NaN</td>\n",
              "      <td>Краснодар</td>\n",
              "      <td>Рафаил</td>\n",
              "      <td>Верещагин</td>\n",
              "      <td>2018-05-25</td>\n",
              "      <td>ultra</td>\n",
              "      <td>1000</td>\n",
              "      <td>30720</td>\n",
              "      <td>3000</td>\n",
              "      <td>1950</td>\n",
              "      <td>150</td>\n",
              "      <td>1</td>\n",
              "      <td>1</td>\n",
              "      <td>ultra</td>\n",
              "    </tr>\n",
              "    <tr>\n",
              "      <th>8</th>\n",
              "      <td>1001</td>\n",
              "      <td>11</td>\n",
              "      <td>430.0</td>\n",
              "      <td>0</td>\n",
              "      <td>18429.34</td>\n",
              "      <td>41</td>\n",
              "      <td>NaN</td>\n",
              "      <td>Москва</td>\n",
              "      <td>Иван</td>\n",
              "      <td>Ежов</td>\n",
              "      <td>2018-11-01</td>\n",
              "      <td>smart</td>\n",
              "      <td>50</td>\n",
              "      <td>15360</td>\n",
              "      <td>500</td>\n",
              "      <td>550</td>\n",
              "      <td>200</td>\n",
              "      <td>3</td>\n",
              "      <td>3</td>\n",
              "      <td>smart</td>\n",
              "    </tr>\n",
              "    <tr>\n",
              "      <th>9</th>\n",
              "      <td>1001</td>\n",
              "      <td>12</td>\n",
              "      <td>414.0</td>\n",
              "      <td>0</td>\n",
              "      <td>14036.66</td>\n",
              "      <td>41</td>\n",
              "      <td>NaN</td>\n",
              "      <td>Москва</td>\n",
              "      <td>Иван</td>\n",
              "      <td>Ежов</td>\n",
              "      <td>2018-11-01</td>\n",
              "      <td>smart</td>\n",
              "      <td>50</td>\n",
              "      <td>15360</td>\n",
              "      <td>500</td>\n",
              "      <td>550</td>\n",
              "      <td>200</td>\n",
              "      <td>3</td>\n",
              "      <td>3</td>\n",
              "      <td>smart</td>\n",
              "    </tr>\n",
              "  </tbody>\n",
              "</table>\n",
              "</div>"
            ],
            "text/plain": [
              "   user_id  month  duration  messages   mb_used  age churn_date       city  \\\n",
              "0     1000      5     159.0        22   2253.49   52        NaN  Краснодар   \n",
              "1     1000      6     172.0        60  23233.77   52        NaN  Краснодар   \n",
              "2     1000      7     340.0        75  14003.64   52        NaN  Краснодар   \n",
              "3     1000      8     408.0        81  14055.93   52        NaN  Краснодар   \n",
              "4     1000      9     466.0        57  14568.91   52        NaN  Краснодар   \n",
              "5     1000     10     350.0        73  14702.49   52        NaN  Краснодар   \n",
              "6     1000     11     338.0        58  14756.47   52        NaN  Краснодар   \n",
              "7     1000     12     333.0        70   9817.61   52        NaN  Краснодар   \n",
              "8     1001     11     430.0         0  18429.34   41        NaN     Москва   \n",
              "9     1001     12     414.0         0  14036.66   41        NaN     Москва   \n",
              "\n",
              "  first_name  last_name    reg_date tariff  messages_included  \\\n",
              "0     Рафаил  Верещагин  2018-05-25  ultra               1000   \n",
              "1     Рафаил  Верещагин  2018-05-25  ultra               1000   \n",
              "2     Рафаил  Верещагин  2018-05-25  ultra               1000   \n",
              "3     Рафаил  Верещагин  2018-05-25  ultra               1000   \n",
              "4     Рафаил  Верещагин  2018-05-25  ultra               1000   \n",
              "5     Рафаил  Верещагин  2018-05-25  ultra               1000   \n",
              "6     Рафаил  Верещагин  2018-05-25  ultra               1000   \n",
              "7     Рафаил  Верещагин  2018-05-25  ultra               1000   \n",
              "8       Иван       Ежов  2018-11-01  smart                 50   \n",
              "9       Иван       Ежов  2018-11-01  smart                 50   \n",
              "\n",
              "   mb_per_month_included  minutes_included  rub_monthly_fee  rub_per_gb  \\\n",
              "0                  30720              3000             1950         150   \n",
              "1                  30720              3000             1950         150   \n",
              "2                  30720              3000             1950         150   \n",
              "3                  30720              3000             1950         150   \n",
              "4                  30720              3000             1950         150   \n",
              "5                  30720              3000             1950         150   \n",
              "6                  30720              3000             1950         150   \n",
              "7                  30720              3000             1950         150   \n",
              "8                  15360               500              550         200   \n",
              "9                  15360               500              550         200   \n",
              "\n",
              "   rub_per_message  rub_per_minute tariff_name  \n",
              "0                1               1       ultra  \n",
              "1                1               1       ultra  \n",
              "2                1               1       ultra  \n",
              "3                1               1       ultra  \n",
              "4                1               1       ultra  \n",
              "5                1               1       ultra  \n",
              "6                1               1       ultra  \n",
              "7                1               1       ultra  \n",
              "8                3               3       smart  \n",
              "9                3               3       smart  "
            ]
          },
          "metadata": {},
          "output_type": "display_data"
        }
      ],
      "source": [
        "# Добавим к получившейся сводной таблице данные по пользователям и тарифам\n",
        "data = data.merge(users, on = 'user_id', how = 'left').merge(tariffs, left_on = 'tariff', \n",
        "                                                                 right_on = 'tariff_name', how = 'left')\n",
        "display(data.head(10))"
      ]
    },
    {
      "cell_type": "code",
      "execution_count": 11,
      "metadata": {
        "scrolled": true
      },
      "outputs": [
        {
          "data": {
            "text/html": [
              "<div>\n",
              "<style scoped>\n",
              "    .dataframe tbody tr th:only-of-type {\n",
              "        vertical-align: middle;\n",
              "    }\n",
              "\n",
              "    .dataframe tbody tr th {\n",
              "        vertical-align: top;\n",
              "    }\n",
              "\n",
              "    .dataframe thead th {\n",
              "        text-align: right;\n",
              "    }\n",
              "</style>\n",
              "<table border=\"1\" class=\"dataframe\">\n",
              "  <thead>\n",
              "    <tr style=\"text-align: right;\">\n",
              "      <th></th>\n",
              "      <th>user_id</th>\n",
              "      <th>month</th>\n",
              "      <th>duration</th>\n",
              "      <th>messages</th>\n",
              "      <th>mb_used</th>\n",
              "      <th>age</th>\n",
              "      <th>churn_date</th>\n",
              "      <th>city</th>\n",
              "      <th>first_name</th>\n",
              "      <th>last_name</th>\n",
              "      <th>...</th>\n",
              "      <th>mb_per_month_included</th>\n",
              "      <th>minutes_included</th>\n",
              "      <th>rub_monthly_fee</th>\n",
              "      <th>rub_per_gb</th>\n",
              "      <th>rub_per_message</th>\n",
              "      <th>rub_per_minute</th>\n",
              "      <th>tariff_name</th>\n",
              "      <th>over_calls</th>\n",
              "      <th>over_messages</th>\n",
              "      <th>over_mb_used</th>\n",
              "    </tr>\n",
              "  </thead>\n",
              "  <tbody>\n",
              "    <tr>\n",
              "      <th>0</th>\n",
              "      <td>1000</td>\n",
              "      <td>5</td>\n",
              "      <td>159.0</td>\n",
              "      <td>22</td>\n",
              "      <td>2253.49</td>\n",
              "      <td>52</td>\n",
              "      <td>NaN</td>\n",
              "      <td>Краснодар</td>\n",
              "      <td>Рафаил</td>\n",
              "      <td>Верещагин</td>\n",
              "      <td>...</td>\n",
              "      <td>30720</td>\n",
              "      <td>3000</td>\n",
              "      <td>1950</td>\n",
              "      <td>150</td>\n",
              "      <td>1</td>\n",
              "      <td>1</td>\n",
              "      <td>ultra</td>\n",
              "      <td>-2841.0</td>\n",
              "      <td>-978</td>\n",
              "      <td>-4050.0</td>\n",
              "    </tr>\n",
              "    <tr>\n",
              "      <th>1</th>\n",
              "      <td>1000</td>\n",
              "      <td>6</td>\n",
              "      <td>172.0</td>\n",
              "      <td>60</td>\n",
              "      <td>23233.77</td>\n",
              "      <td>52</td>\n",
              "      <td>NaN</td>\n",
              "      <td>Краснодар</td>\n",
              "      <td>Рафаил</td>\n",
              "      <td>Верещагин</td>\n",
              "      <td>...</td>\n",
              "      <td>30720</td>\n",
              "      <td>3000</td>\n",
              "      <td>1950</td>\n",
              "      <td>150</td>\n",
              "      <td>1</td>\n",
              "      <td>1</td>\n",
              "      <td>ultra</td>\n",
              "      <td>-2828.0</td>\n",
              "      <td>-940</td>\n",
              "      <td>-1050.0</td>\n",
              "    </tr>\n",
              "    <tr>\n",
              "      <th>2</th>\n",
              "      <td>1000</td>\n",
              "      <td>7</td>\n",
              "      <td>340.0</td>\n",
              "      <td>75</td>\n",
              "      <td>14003.64</td>\n",
              "      <td>52</td>\n",
              "      <td>NaN</td>\n",
              "      <td>Краснодар</td>\n",
              "      <td>Рафаил</td>\n",
              "      <td>Верещагин</td>\n",
              "      <td>...</td>\n",
              "      <td>30720</td>\n",
              "      <td>3000</td>\n",
              "      <td>1950</td>\n",
              "      <td>150</td>\n",
              "      <td>1</td>\n",
              "      <td>1</td>\n",
              "      <td>ultra</td>\n",
              "      <td>-2660.0</td>\n",
              "      <td>-925</td>\n",
              "      <td>-2400.0</td>\n",
              "    </tr>\n",
              "    <tr>\n",
              "      <th>3</th>\n",
              "      <td>1000</td>\n",
              "      <td>8</td>\n",
              "      <td>408.0</td>\n",
              "      <td>81</td>\n",
              "      <td>14055.93</td>\n",
              "      <td>52</td>\n",
              "      <td>NaN</td>\n",
              "      <td>Краснодар</td>\n",
              "      <td>Рафаил</td>\n",
              "      <td>Верещагин</td>\n",
              "      <td>...</td>\n",
              "      <td>30720</td>\n",
              "      <td>3000</td>\n",
              "      <td>1950</td>\n",
              "      <td>150</td>\n",
              "      <td>1</td>\n",
              "      <td>1</td>\n",
              "      <td>ultra</td>\n",
              "      <td>-2592.0</td>\n",
              "      <td>-919</td>\n",
              "      <td>-2400.0</td>\n",
              "    </tr>\n",
              "    <tr>\n",
              "      <th>4</th>\n",
              "      <td>1000</td>\n",
              "      <td>9</td>\n",
              "      <td>466.0</td>\n",
              "      <td>57</td>\n",
              "      <td>14568.91</td>\n",
              "      <td>52</td>\n",
              "      <td>NaN</td>\n",
              "      <td>Краснодар</td>\n",
              "      <td>Рафаил</td>\n",
              "      <td>Верещагин</td>\n",
              "      <td>...</td>\n",
              "      <td>30720</td>\n",
              "      <td>3000</td>\n",
              "      <td>1950</td>\n",
              "      <td>150</td>\n",
              "      <td>1</td>\n",
              "      <td>1</td>\n",
              "      <td>ultra</td>\n",
              "      <td>-2534.0</td>\n",
              "      <td>-943</td>\n",
              "      <td>-2250.0</td>\n",
              "    </tr>\n",
              "    <tr>\n",
              "      <th>...</th>\n",
              "      <td>...</td>\n",
              "      <td>...</td>\n",
              "      <td>...</td>\n",
              "      <td>...</td>\n",
              "      <td>...</td>\n",
              "      <td>...</td>\n",
              "      <td>...</td>\n",
              "      <td>...</td>\n",
              "      <td>...</td>\n",
              "      <td>...</td>\n",
              "      <td>...</td>\n",
              "      <td>...</td>\n",
              "      <td>...</td>\n",
              "      <td>...</td>\n",
              "      <td>...</td>\n",
              "      <td>...</td>\n",
              "      <td>...</td>\n",
              "      <td>...</td>\n",
              "      <td>...</td>\n",
              "      <td>...</td>\n",
              "      <td>...</td>\n",
              "    </tr>\n",
              "    <tr>\n",
              "      <th>3209</th>\n",
              "      <td>1489</td>\n",
              "      <td>9</td>\n",
              "      <td>0.0</td>\n",
              "      <td>32</td>\n",
              "      <td>17206.30</td>\n",
              "      <td>35</td>\n",
              "      <td>NaN</td>\n",
              "      <td>Санкт-Петербург</td>\n",
              "      <td>Павел</td>\n",
              "      <td>Гончаров</td>\n",
              "      <td>...</td>\n",
              "      <td>15360</td>\n",
              "      <td>500</td>\n",
              "      <td>550</td>\n",
              "      <td>200</td>\n",
              "      <td>3</td>\n",
              "      <td>3</td>\n",
              "      <td>smart</td>\n",
              "      <td>-1500.0</td>\n",
              "      <td>-54</td>\n",
              "      <td>400.0</td>\n",
              "    </tr>\n",
              "    <tr>\n",
              "      <th>3210</th>\n",
              "      <td>1489</td>\n",
              "      <td>10</td>\n",
              "      <td>0.0</td>\n",
              "      <td>21</td>\n",
              "      <td>19559.44</td>\n",
              "      <td>35</td>\n",
              "      <td>NaN</td>\n",
              "      <td>Санкт-Петербург</td>\n",
              "      <td>Павел</td>\n",
              "      <td>Гончаров</td>\n",
              "      <td>...</td>\n",
              "      <td>15360</td>\n",
              "      <td>500</td>\n",
              "      <td>550</td>\n",
              "      <td>200</td>\n",
              "      <td>3</td>\n",
              "      <td>3</td>\n",
              "      <td>smart</td>\n",
              "      <td>-1500.0</td>\n",
              "      <td>-87</td>\n",
              "      <td>1000.0</td>\n",
              "    </tr>\n",
              "    <tr>\n",
              "      <th>3211</th>\n",
              "      <td>1489</td>\n",
              "      <td>11</td>\n",
              "      <td>0.0</td>\n",
              "      <td>20</td>\n",
              "      <td>17491.56</td>\n",
              "      <td>35</td>\n",
              "      <td>NaN</td>\n",
              "      <td>Санкт-Петербург</td>\n",
              "      <td>Павел</td>\n",
              "      <td>Гончаров</td>\n",
              "      <td>...</td>\n",
              "      <td>15360</td>\n",
              "      <td>500</td>\n",
              "      <td>550</td>\n",
              "      <td>200</td>\n",
              "      <td>3</td>\n",
              "      <td>3</td>\n",
              "      <td>smart</td>\n",
              "      <td>-1500.0</td>\n",
              "      <td>-90</td>\n",
              "      <td>600.0</td>\n",
              "    </tr>\n",
              "    <tr>\n",
              "      <th>3212</th>\n",
              "      <td>1489</td>\n",
              "      <td>12</td>\n",
              "      <td>0.0</td>\n",
              "      <td>35</td>\n",
              "      <td>17322.51</td>\n",
              "      <td>35</td>\n",
              "      <td>NaN</td>\n",
              "      <td>Санкт-Петербург</td>\n",
              "      <td>Павел</td>\n",
              "      <td>Гончаров</td>\n",
              "      <td>...</td>\n",
              "      <td>15360</td>\n",
              "      <td>500</td>\n",
              "      <td>550</td>\n",
              "      <td>200</td>\n",
              "      <td>3</td>\n",
              "      <td>3</td>\n",
              "      <td>smart</td>\n",
              "      <td>-1500.0</td>\n",
              "      <td>-45</td>\n",
              "      <td>400.0</td>\n",
              "    </tr>\n",
              "    <tr>\n",
              "      <th>3213</th>\n",
              "      <td>1476</td>\n",
              "      <td>4</td>\n",
              "      <td>0.0</td>\n",
              "      <td>0</td>\n",
              "      <td>530.78</td>\n",
              "      <td>50</td>\n",
              "      <td>NaN</td>\n",
              "      <td>Москва</td>\n",
              "      <td>Валентина</td>\n",
              "      <td>Семенова</td>\n",
              "      <td>...</td>\n",
              "      <td>30720</td>\n",
              "      <td>3000</td>\n",
              "      <td>1950</td>\n",
              "      <td>150</td>\n",
              "      <td>1</td>\n",
              "      <td>1</td>\n",
              "      <td>ultra</td>\n",
              "      <td>-3000.0</td>\n",
              "      <td>-1000</td>\n",
              "      <td>-4350.0</td>\n",
              "    </tr>\n",
              "  </tbody>\n",
              "</table>\n",
              "<p>3214 rows × 23 columns</p>\n",
              "</div>"
            ],
            "text/plain": [
              "      user_id  month  duration  messages   mb_used  age churn_date  \\\n",
              "0        1000      5     159.0        22   2253.49   52        NaN   \n",
              "1        1000      6     172.0        60  23233.77   52        NaN   \n",
              "2        1000      7     340.0        75  14003.64   52        NaN   \n",
              "3        1000      8     408.0        81  14055.93   52        NaN   \n",
              "4        1000      9     466.0        57  14568.91   52        NaN   \n",
              "...       ...    ...       ...       ...       ...  ...        ...   \n",
              "3209     1489      9       0.0        32  17206.30   35        NaN   \n",
              "3210     1489     10       0.0        21  19559.44   35        NaN   \n",
              "3211     1489     11       0.0        20  17491.56   35        NaN   \n",
              "3212     1489     12       0.0        35  17322.51   35        NaN   \n",
              "3213     1476      4       0.0         0    530.78   50        NaN   \n",
              "\n",
              "                 city first_name  last_name  ... mb_per_month_included  \\\n",
              "0           Краснодар     Рафаил  Верещагин  ...                 30720   \n",
              "1           Краснодар     Рафаил  Верещагин  ...                 30720   \n",
              "2           Краснодар     Рафаил  Верещагин  ...                 30720   \n",
              "3           Краснодар     Рафаил  Верещагин  ...                 30720   \n",
              "4           Краснодар     Рафаил  Верещагин  ...                 30720   \n",
              "...               ...        ...        ...  ...                   ...   \n",
              "3209  Санкт-Петербург      Павел   Гончаров  ...                 15360   \n",
              "3210  Санкт-Петербург      Павел   Гончаров  ...                 15360   \n",
              "3211  Санкт-Петербург      Павел   Гончаров  ...                 15360   \n",
              "3212  Санкт-Петербург      Павел   Гончаров  ...                 15360   \n",
              "3213           Москва  Валентина   Семенова  ...                 30720   \n",
              "\n",
              "     minutes_included  rub_monthly_fee  rub_per_gb  rub_per_message  \\\n",
              "0                3000             1950         150                1   \n",
              "1                3000             1950         150                1   \n",
              "2                3000             1950         150                1   \n",
              "3                3000             1950         150                1   \n",
              "4                3000             1950         150                1   \n",
              "...               ...              ...         ...              ...   \n",
              "3209              500              550         200                3   \n",
              "3210              500              550         200                3   \n",
              "3211              500              550         200                3   \n",
              "3212              500              550         200                3   \n",
              "3213             3000             1950         150                1   \n",
              "\n",
              "      rub_per_minute  tariff_name  over_calls  over_messages over_mb_used  \n",
              "0                  1        ultra     -2841.0           -978      -4050.0  \n",
              "1                  1        ultra     -2828.0           -940      -1050.0  \n",
              "2                  1        ultra     -2660.0           -925      -2400.0  \n",
              "3                  1        ultra     -2592.0           -919      -2400.0  \n",
              "4                  1        ultra     -2534.0           -943      -2250.0  \n",
              "...              ...          ...         ...            ...          ...  \n",
              "3209               3        smart     -1500.0            -54        400.0  \n",
              "3210               3        smart     -1500.0            -87       1000.0  \n",
              "3211               3        smart     -1500.0            -90        600.0  \n",
              "3212               3        smart     -1500.0            -45        400.0  \n",
              "3213               1        ultra     -3000.0          -1000      -4350.0  \n",
              "\n",
              "[3214 rows x 23 columns]"
            ]
          },
          "metadata": {},
          "output_type": "display_data"
        }
      ],
      "source": [
        "# Посчитаем сколько звонков, сообщений и интернета израсходавано у каждого пользователя сверх тарифа в месяц\n",
        "data['over_calls'] = (data['duration'] - data['minutes_included'])*data['rub_per_minute'] \n",
        "data['over_messages'] = (data['messages'] - data['messages_included'])*data['rub_per_message'] \n",
        "data['over_mb_used'] = np.ceil((data['mb_used'] - data['mb_per_month_included'])/1024)*data['rub_per_gb']\n",
        "display(data)"
      ]
    },
    {
      "cell_type": "code",
      "execution_count": 12,
      "metadata": {
        "scrolled": true
      },
      "outputs": [],
      "source": [
        "# Уберем отрицательные значения\n",
        "data.loc[data['over_calls']<0, 'over_calls'] = 0\n",
        "data.loc[data['over_messages']<0, 'over_messages'] = 0\n",
        "data.loc[data['over_mb_used']<0, 'over_mb_used'] = 0"
      ]
    },
    {
      "cell_type": "code",
      "execution_count": 13,
      "metadata": {
        "scrolled": true
      },
      "outputs": [
        {
          "data": {
            "text/html": [
              "<div>\n",
              "<style scoped>\n",
              "    .dataframe tbody tr th:only-of-type {\n",
              "        vertical-align: middle;\n",
              "    }\n",
              "\n",
              "    .dataframe tbody tr th {\n",
              "        vertical-align: top;\n",
              "    }\n",
              "\n",
              "    .dataframe thead th {\n",
              "        text-align: right;\n",
              "    }\n",
              "</style>\n",
              "<table border=\"1\" class=\"dataframe\">\n",
              "  <thead>\n",
              "    <tr style=\"text-align: right;\">\n",
              "      <th></th>\n",
              "      <th>user_id</th>\n",
              "      <th>month</th>\n",
              "      <th>duration</th>\n",
              "      <th>messages</th>\n",
              "      <th>mb_used</th>\n",
              "      <th>age</th>\n",
              "      <th>churn_date</th>\n",
              "      <th>city</th>\n",
              "      <th>first_name</th>\n",
              "      <th>last_name</th>\n",
              "      <th>...</th>\n",
              "      <th>minutes_included</th>\n",
              "      <th>rub_monthly_fee</th>\n",
              "      <th>rub_per_gb</th>\n",
              "      <th>rub_per_message</th>\n",
              "      <th>rub_per_minute</th>\n",
              "      <th>tariff_name</th>\n",
              "      <th>over_calls</th>\n",
              "      <th>over_messages</th>\n",
              "      <th>over_mb_used</th>\n",
              "      <th>fee</th>\n",
              "    </tr>\n",
              "  </thead>\n",
              "  <tbody>\n",
              "    <tr>\n",
              "      <th>0</th>\n",
              "      <td>1000</td>\n",
              "      <td>5</td>\n",
              "      <td>159.0</td>\n",
              "      <td>22</td>\n",
              "      <td>2253.49</td>\n",
              "      <td>52</td>\n",
              "      <td>NaN</td>\n",
              "      <td>Краснодар</td>\n",
              "      <td>Рафаил</td>\n",
              "      <td>Верещагин</td>\n",
              "      <td>...</td>\n",
              "      <td>3000</td>\n",
              "      <td>1950</td>\n",
              "      <td>150</td>\n",
              "      <td>1</td>\n",
              "      <td>1</td>\n",
              "      <td>ultra</td>\n",
              "      <td>0.0</td>\n",
              "      <td>0</td>\n",
              "      <td>0.0</td>\n",
              "      <td>1950.0</td>\n",
              "    </tr>\n",
              "    <tr>\n",
              "      <th>1</th>\n",
              "      <td>1000</td>\n",
              "      <td>6</td>\n",
              "      <td>172.0</td>\n",
              "      <td>60</td>\n",
              "      <td>23233.77</td>\n",
              "      <td>52</td>\n",
              "      <td>NaN</td>\n",
              "      <td>Краснодар</td>\n",
              "      <td>Рафаил</td>\n",
              "      <td>Верещагин</td>\n",
              "      <td>...</td>\n",
              "      <td>3000</td>\n",
              "      <td>1950</td>\n",
              "      <td>150</td>\n",
              "      <td>1</td>\n",
              "      <td>1</td>\n",
              "      <td>ultra</td>\n",
              "      <td>0.0</td>\n",
              "      <td>0</td>\n",
              "      <td>0.0</td>\n",
              "      <td>1950.0</td>\n",
              "    </tr>\n",
              "    <tr>\n",
              "      <th>2</th>\n",
              "      <td>1000</td>\n",
              "      <td>7</td>\n",
              "      <td>340.0</td>\n",
              "      <td>75</td>\n",
              "      <td>14003.64</td>\n",
              "      <td>52</td>\n",
              "      <td>NaN</td>\n",
              "      <td>Краснодар</td>\n",
              "      <td>Рафаил</td>\n",
              "      <td>Верещагин</td>\n",
              "      <td>...</td>\n",
              "      <td>3000</td>\n",
              "      <td>1950</td>\n",
              "      <td>150</td>\n",
              "      <td>1</td>\n",
              "      <td>1</td>\n",
              "      <td>ultra</td>\n",
              "      <td>0.0</td>\n",
              "      <td>0</td>\n",
              "      <td>0.0</td>\n",
              "      <td>1950.0</td>\n",
              "    </tr>\n",
              "    <tr>\n",
              "      <th>3</th>\n",
              "      <td>1000</td>\n",
              "      <td>8</td>\n",
              "      <td>408.0</td>\n",
              "      <td>81</td>\n",
              "      <td>14055.93</td>\n",
              "      <td>52</td>\n",
              "      <td>NaN</td>\n",
              "      <td>Краснодар</td>\n",
              "      <td>Рафаил</td>\n",
              "      <td>Верещагин</td>\n",
              "      <td>...</td>\n",
              "      <td>3000</td>\n",
              "      <td>1950</td>\n",
              "      <td>150</td>\n",
              "      <td>1</td>\n",
              "      <td>1</td>\n",
              "      <td>ultra</td>\n",
              "      <td>0.0</td>\n",
              "      <td>0</td>\n",
              "      <td>0.0</td>\n",
              "      <td>1950.0</td>\n",
              "    </tr>\n",
              "    <tr>\n",
              "      <th>4</th>\n",
              "      <td>1000</td>\n",
              "      <td>9</td>\n",
              "      <td>466.0</td>\n",
              "      <td>57</td>\n",
              "      <td>14568.91</td>\n",
              "      <td>52</td>\n",
              "      <td>NaN</td>\n",
              "      <td>Краснодар</td>\n",
              "      <td>Рафаил</td>\n",
              "      <td>Верещагин</td>\n",
              "      <td>...</td>\n",
              "      <td>3000</td>\n",
              "      <td>1950</td>\n",
              "      <td>150</td>\n",
              "      <td>1</td>\n",
              "      <td>1</td>\n",
              "      <td>ultra</td>\n",
              "      <td>0.0</td>\n",
              "      <td>0</td>\n",
              "      <td>0.0</td>\n",
              "      <td>1950.0</td>\n",
              "    </tr>\n",
              "    <tr>\n",
              "      <th>...</th>\n",
              "      <td>...</td>\n",
              "      <td>...</td>\n",
              "      <td>...</td>\n",
              "      <td>...</td>\n",
              "      <td>...</td>\n",
              "      <td>...</td>\n",
              "      <td>...</td>\n",
              "      <td>...</td>\n",
              "      <td>...</td>\n",
              "      <td>...</td>\n",
              "      <td>...</td>\n",
              "      <td>...</td>\n",
              "      <td>...</td>\n",
              "      <td>...</td>\n",
              "      <td>...</td>\n",
              "      <td>...</td>\n",
              "      <td>...</td>\n",
              "      <td>...</td>\n",
              "      <td>...</td>\n",
              "      <td>...</td>\n",
              "      <td>...</td>\n",
              "    </tr>\n",
              "    <tr>\n",
              "      <th>3209</th>\n",
              "      <td>1489</td>\n",
              "      <td>9</td>\n",
              "      <td>0.0</td>\n",
              "      <td>32</td>\n",
              "      <td>17206.30</td>\n",
              "      <td>35</td>\n",
              "      <td>NaN</td>\n",
              "      <td>Санкт-Петербург</td>\n",
              "      <td>Павел</td>\n",
              "      <td>Гончаров</td>\n",
              "      <td>...</td>\n",
              "      <td>500</td>\n",
              "      <td>550</td>\n",
              "      <td>200</td>\n",
              "      <td>3</td>\n",
              "      <td>3</td>\n",
              "      <td>smart</td>\n",
              "      <td>0.0</td>\n",
              "      <td>0</td>\n",
              "      <td>400.0</td>\n",
              "      <td>950.0</td>\n",
              "    </tr>\n",
              "    <tr>\n",
              "      <th>3210</th>\n",
              "      <td>1489</td>\n",
              "      <td>10</td>\n",
              "      <td>0.0</td>\n",
              "      <td>21</td>\n",
              "      <td>19559.44</td>\n",
              "      <td>35</td>\n",
              "      <td>NaN</td>\n",
              "      <td>Санкт-Петербург</td>\n",
              "      <td>Павел</td>\n",
              "      <td>Гончаров</td>\n",
              "      <td>...</td>\n",
              "      <td>500</td>\n",
              "      <td>550</td>\n",
              "      <td>200</td>\n",
              "      <td>3</td>\n",
              "      <td>3</td>\n",
              "      <td>smart</td>\n",
              "      <td>0.0</td>\n",
              "      <td>0</td>\n",
              "      <td>1000.0</td>\n",
              "      <td>1550.0</td>\n",
              "    </tr>\n",
              "    <tr>\n",
              "      <th>3211</th>\n",
              "      <td>1489</td>\n",
              "      <td>11</td>\n",
              "      <td>0.0</td>\n",
              "      <td>20</td>\n",
              "      <td>17491.56</td>\n",
              "      <td>35</td>\n",
              "      <td>NaN</td>\n",
              "      <td>Санкт-Петербург</td>\n",
              "      <td>Павел</td>\n",
              "      <td>Гончаров</td>\n",
              "      <td>...</td>\n",
              "      <td>500</td>\n",
              "      <td>550</td>\n",
              "      <td>200</td>\n",
              "      <td>3</td>\n",
              "      <td>3</td>\n",
              "      <td>smart</td>\n",
              "      <td>0.0</td>\n",
              "      <td>0</td>\n",
              "      <td>600.0</td>\n",
              "      <td>1150.0</td>\n",
              "    </tr>\n",
              "    <tr>\n",
              "      <th>3212</th>\n",
              "      <td>1489</td>\n",
              "      <td>12</td>\n",
              "      <td>0.0</td>\n",
              "      <td>35</td>\n",
              "      <td>17322.51</td>\n",
              "      <td>35</td>\n",
              "      <td>NaN</td>\n",
              "      <td>Санкт-Петербург</td>\n",
              "      <td>Павел</td>\n",
              "      <td>Гончаров</td>\n",
              "      <td>...</td>\n",
              "      <td>500</td>\n",
              "      <td>550</td>\n",
              "      <td>200</td>\n",
              "      <td>3</td>\n",
              "      <td>3</td>\n",
              "      <td>smart</td>\n",
              "      <td>0.0</td>\n",
              "      <td>0</td>\n",
              "      <td>400.0</td>\n",
              "      <td>950.0</td>\n",
              "    </tr>\n",
              "    <tr>\n",
              "      <th>3213</th>\n",
              "      <td>1476</td>\n",
              "      <td>4</td>\n",
              "      <td>0.0</td>\n",
              "      <td>0</td>\n",
              "      <td>530.78</td>\n",
              "      <td>50</td>\n",
              "      <td>NaN</td>\n",
              "      <td>Москва</td>\n",
              "      <td>Валентина</td>\n",
              "      <td>Семенова</td>\n",
              "      <td>...</td>\n",
              "      <td>3000</td>\n",
              "      <td>1950</td>\n",
              "      <td>150</td>\n",
              "      <td>1</td>\n",
              "      <td>1</td>\n",
              "      <td>ultra</td>\n",
              "      <td>0.0</td>\n",
              "      <td>0</td>\n",
              "      <td>0.0</td>\n",
              "      <td>1950.0</td>\n",
              "    </tr>\n",
              "  </tbody>\n",
              "</table>\n",
              "<p>3214 rows × 24 columns</p>\n",
              "</div>"
            ],
            "text/plain": [
              "      user_id  month  duration  messages   mb_used  age churn_date  \\\n",
              "0        1000      5     159.0        22   2253.49   52        NaN   \n",
              "1        1000      6     172.0        60  23233.77   52        NaN   \n",
              "2        1000      7     340.0        75  14003.64   52        NaN   \n",
              "3        1000      8     408.0        81  14055.93   52        NaN   \n",
              "4        1000      9     466.0        57  14568.91   52        NaN   \n",
              "...       ...    ...       ...       ...       ...  ...        ...   \n",
              "3209     1489      9       0.0        32  17206.30   35        NaN   \n",
              "3210     1489     10       0.0        21  19559.44   35        NaN   \n",
              "3211     1489     11       0.0        20  17491.56   35        NaN   \n",
              "3212     1489     12       0.0        35  17322.51   35        NaN   \n",
              "3213     1476      4       0.0         0    530.78   50        NaN   \n",
              "\n",
              "                 city first_name  last_name  ... minutes_included  \\\n",
              "0           Краснодар     Рафаил  Верещагин  ...             3000   \n",
              "1           Краснодар     Рафаил  Верещагин  ...             3000   \n",
              "2           Краснодар     Рафаил  Верещагин  ...             3000   \n",
              "3           Краснодар     Рафаил  Верещагин  ...             3000   \n",
              "4           Краснодар     Рафаил  Верещагин  ...             3000   \n",
              "...               ...        ...        ...  ...              ...   \n",
              "3209  Санкт-Петербург      Павел   Гончаров  ...              500   \n",
              "3210  Санкт-Петербург      Павел   Гончаров  ...              500   \n",
              "3211  Санкт-Петербург      Павел   Гончаров  ...              500   \n",
              "3212  Санкт-Петербург      Павел   Гончаров  ...              500   \n",
              "3213           Москва  Валентина   Семенова  ...             3000   \n",
              "\n",
              "     rub_monthly_fee  rub_per_gb  rub_per_message  rub_per_minute  \\\n",
              "0               1950         150                1               1   \n",
              "1               1950         150                1               1   \n",
              "2               1950         150                1               1   \n",
              "3               1950         150                1               1   \n",
              "4               1950         150                1               1   \n",
              "...              ...         ...              ...             ...   \n",
              "3209             550         200                3               3   \n",
              "3210             550         200                3               3   \n",
              "3211             550         200                3               3   \n",
              "3212             550         200                3               3   \n",
              "3213            1950         150                1               1   \n",
              "\n",
              "      tariff_name  over_calls  over_messages  over_mb_used     fee  \n",
              "0           ultra         0.0              0           0.0  1950.0  \n",
              "1           ultra         0.0              0           0.0  1950.0  \n",
              "2           ultra         0.0              0           0.0  1950.0  \n",
              "3           ultra         0.0              0           0.0  1950.0  \n",
              "4           ultra         0.0              0           0.0  1950.0  \n",
              "...           ...         ...            ...           ...     ...  \n",
              "3209        smart         0.0              0         400.0   950.0  \n",
              "3210        smart         0.0              0        1000.0  1550.0  \n",
              "3211        smart         0.0              0         600.0  1150.0  \n",
              "3212        smart         0.0              0         400.0   950.0  \n",
              "3213        ultra         0.0              0           0.0  1950.0  \n",
              "\n",
              "[3214 rows x 24 columns]"
            ]
          },
          "metadata": {},
          "output_type": "display_data"
        }
      ],
      "source": [
        "# Посчитаем получившуюся выручку в месяц\n",
        "data['fee'] = data['rub_monthly_fee'] + data['over_calls'] + data['over_messages'] + data['over_mb_used']\n",
        "display(data)"
      ]
    },
    {
      "cell_type": "markdown",
      "metadata": {},
      "source": [
        "**Вывод**: Объединили данные в единый датафрейм, посчитали использованные сверх тарифа минуты, сообщения и мегабайты, посчитали месячную выручку для каждого клиента, добавили необходимые столбцы для дальнейшего анализа."
      ]
    },
    {
      "cell_type": "markdown",
      "metadata": {},
      "source": [
        "# 3 Анализ данных"
      ]
    },
    {
      "cell_type": "code",
      "execution_count": 14,
      "metadata": {},
      "outputs": [],
      "source": [
        "# Сделаем срез по двум тарифам\n",
        "data_smart = data[data['tariff_name'] == 'smart']\n",
        "data_ultra = data[data['tariff_name'] == 'ultra']"
      ]
    },
    {
      "cell_type": "code",
      "execution_count": 15,
      "metadata": {},
      "outputs": [
        {
          "data": {
            "text/plain": [
              "count    2229.000000\n",
              "mean     1289.973531\n",
              "std       818.404367\n",
              "min       550.000000\n",
              "25%       550.000000\n",
              "50%      1023.000000\n",
              "75%      1750.000000\n",
              "max      6770.000000\n",
              "Name: fee, dtype: float64"
            ]
          },
          "metadata": {},
          "output_type": "display_data"
        }
      ],
      "source": [
        "# Посмотрим среднюю выручку в двух тарифах\n",
        "display(data_smart['fee'].describe())"
      ]
    },
    {
      "cell_type": "code",
      "execution_count": 16,
      "metadata": {},
      "outputs": [
        {
          "data": {
            "text/plain": [
              "count     985.000000\n",
              "mean     2070.152284\n",
              "std       376.187114\n",
              "min      1950.000000\n",
              "25%      1950.000000\n",
              "50%      1950.000000\n",
              "75%      1950.000000\n",
              "max      4800.000000\n",
              "Name: fee, dtype: float64"
            ]
          },
          "metadata": {},
          "output_type": "display_data"
        }
      ],
      "source": [
        "display(data_ultra['fee'].describe())"
      ]
    },
    {
      "cell_type": "code",
      "execution_count": 17,
      "metadata": {},
      "outputs": [],
      "source": [
        "# Напишем функцию с учетом удаления выбросов\n",
        "def calculate_range(data, column):\n",
        "    \n",
        "    q1 = data[column].quantile(0.25)\n",
        "    q3 = data[column].quantile(0.75)\n",
        "    iqr = q3 - q1\n",
        "    return (q1 - 1.5 * iqr, q3 + 1.5 * iqr)"
      ]
    },
    {
      "cell_type": "code",
      "execution_count": 18,
      "metadata": {},
      "outputs": [],
      "source": [
        "# Напишем функцию для оптимизации построения гистограмм\n",
        "def create_hist(data, column, title):\n",
        "    data[column].hist(bins=100, range = calculate_range(data, column))\n",
        "    display(data[column].mean())\n",
        "    plt.title(title)\n",
        "    plt.show()"
      ]
    },
    {
      "cell_type": "code",
      "execution_count": 19,
      "metadata": {},
      "outputs": [
        {
          "data": {
            "text/plain": [
              "417.9349484073576"
            ]
          },
          "metadata": {},
          "output_type": "display_data"
        },
        {
          "data": {
            "image/png": "[encoded data removed]",
            "text/plain": [
              "<Figure size 432x288 with 1 Axes>"
            ]
          },
          "metadata": {
            "needs_background": "light"
          },
          "output_type": "display_data"
        }
      ],
      "source": [
        "#Построим гистограмму для минут разговора в тарифе smart\n",
        "create_hist(data_smart,'duration', 'Минуты')"
      ]
    },
    {
      "cell_type": "markdown",
      "metadata": {},
      "source": [
        "На данном графике представлено нормальное распределение."
      ]
    },
    {
      "cell_type": "code",
      "execution_count": 20,
      "metadata": {},
      "outputs": [
        {
          "data": {
            "text/plain": [
              "33.384028712427096"
            ]
          },
          "metadata": {},
          "output_type": "display_data"
        },
        {
          "data": {
            "image/png": "[encoded data removed]",
            "text/plain": [
              "<Figure size 432x288 with 1 Axes>"
            ]
          },
          "metadata": {
            "needs_background": "light"
          },
          "output_type": "display_data"
        }
      ],
      "source": [
        "#Построим гистограмму для количества сообщений в тарифе smart\n",
        "create_hist(data_smart,'messages', 'Сообщения')"
      ]
    },
    {
      "cell_type": "markdown",
      "metadata": {},
      "source": [
        "На данном графике представлено распределение Пуассона. Пик у нуля, вероятно, связан с тем, что многие клиенты не отправляют сообщения."
      ]
    },
    {
      "cell_type": "code",
      "execution_count": 21,
      "metadata": {
        "scrolled": true
      },
      "outputs": [
        {
          "data": {
            "text/plain": [
              "16208.386989681472"
            ]
          },
          "metadata": {},
          "output_type": "display_data"
        },
        {
          "data": {
            "image/png": "[encoded data removed]",
            "text/plain": [
              "<Figure size 432x288 with 1 Axes>"
            ]
          },
          "metadata": {
            "needs_background": "light"
          },
          "output_type": "display_data"
        }
      ],
      "source": [
        "#Построим гистограмму для количества мегабайт интернета в тарифе smart\n",
        "create_hist(data_smart,'mb_used', 'Интернет')"
      ]
    },
    {
      "cell_type": "markdown",
      "metadata": {},
      "source": [
        "На данном графике представлено нормальное распределение."
      ]
    },
    {
      "cell_type": "code",
      "execution_count": 22,
      "metadata": {},
      "outputs": [
        {
          "data": {
            "text/plain": [
              "526.6233502538071"
            ]
          },
          "metadata": {},
          "output_type": "display_data"
        },
        {
          "data": {
            "image/png": "[encoded data removed]",
            "text/plain": [
              "<Figure size 432x288 with 1 Axes>"
            ]
          },
          "metadata": {
            "needs_background": "light"
          },
          "output_type": "display_data"
        }
      ],
      "source": [
        "#Построим гистограмму для минут разговора в тарифе ultra\n",
        "create_hist(data_ultra,'duration', 'Минуты')"
      ]
    },
    {
      "cell_type": "markdown",
      "metadata": {},
      "source": [
        "На данном графике представлено распределение Пуассона. Пик у нуля, вероятно, связан с тем, что многие клиенты не используют минуты разговора (возможно, общаются больше через мессенджеры)."
      ]
    },
    {
      "cell_type": "code",
      "execution_count": 23,
      "metadata": {
        "scrolled": true
      },
      "outputs": [
        {
          "data": {
            "text/plain": [
              "49.36345177664975"
            ]
          },
          "metadata": {},
          "output_type": "display_data"
        },
        {
          "data": {
            "image/png": "[encoded data removed]",
            "text/plain": [
              "<Figure size 432x288 with 1 Axes>"
            ]
          },
          "metadata": {
            "needs_background": "light"
          },
          "output_type": "display_data"
        }
      ],
      "source": [
        "#Построим гистограмму для количества сообщений в тарифе ultra\n",
        "create_hist(data_ultra,'messages', 'Сообщения')"
      ]
    },
    {
      "cell_type": "markdown",
      "metadata": {},
      "source": [
        "На данном графике представлено распределение Пуассона. Пик у нуля, вероятно, связан с тем, что многие клиенты не отправляют сообщения."
      ]
    },
    {
      "cell_type": "code",
      "execution_count": 24,
      "metadata": {
        "scrolled": false
      },
      "outputs": [
        {
          "data": {
            "text/plain": [
              "19468.805208121827"
            ]
          },
          "metadata": {},
          "output_type": "display_data"
        },
        {
          "data": {
            "image/png": "[encoded data removed]",
            "text/plain": [
              "<Figure size 432x288 with 1 Axes>"
            ]
          },
          "metadata": {
            "needs_background": "light"
          },
          "output_type": "display_data"
        }
      ],
      "source": [
        "#Построим гистограмму для количества мегабайт интернета в тарифе ultra\n",
        "create_hist(data_ultra,'mb_used', 'Интернет')"
      ]
    },
    {
      "cell_type": "markdown",
      "metadata": {},
      "source": [
        "На данном графике представлено нормальное распределение."
      ]
    },
    {
      "cell_type": "code",
      "execution_count": 25,
      "metadata": {},
      "outputs": [
        {
          "data": {
            "text/plain": [
              "user_id                  2.135091e+04\n",
              "month                    8.528245e+00\n",
              "duration                 3.621932e+04\n",
              "messages                 7.968130e+02\n",
              "mb_used                  3.446250e+07\n",
              "age                      2.674328e+02\n",
              "messages_included        0.000000e+00\n",
              "mb_per_month_included    0.000000e+00\n",
              "minutes_included         0.000000e+00\n",
              "rub_monthly_fee          0.000000e+00\n",
              "rub_per_gb               0.000000e+00\n",
              "rub_per_message          0.000000e+00\n",
              "rub_per_minute           0.000000e+00\n",
              "over_calls               6.453415e+04\n",
              "over_messages            1.626297e+03\n",
              "over_mb_used             5.425264e+05\n",
              "fee                      6.697857e+05\n",
              "dtype: float64"
            ]
          },
          "metadata": {},
          "output_type": "display_data"
        },
        {
          "data": {
            "text/plain": [
              "user_id                  1.979506e+04\n",
              "month                    8.247014e+00\n",
              "duration                 1.008736e+05\n",
              "messages                 2.285266e+03\n",
              "mb_used                  1.017510e+08\n",
              "age                      2.926830e+02\n",
              "messages_included        0.000000e+00\n",
              "mb_per_month_included    0.000000e+00\n",
              "minutes_included         0.000000e+00\n",
              "rub_monthly_fee          0.000000e+00\n",
              "rub_per_gb               0.000000e+00\n",
              "rub_per_message          0.000000e+00\n",
              "rub_per_minute           0.000000e+00\n",
              "over_calls               0.000000e+00\n",
              "over_messages            0.000000e+00\n",
              "over_mb_used             1.415167e+05\n",
              "fee                      1.415167e+05\n",
              "dtype: float64"
            ]
          },
          "metadata": {},
          "output_type": "display_data"
        }
      ],
      "source": [
        "# Посчитаем дисперсию для двух тарифов\n",
        "variance_estimate_smart = np.var(data_smart, ddof=1)\n",
        "display(variance_estimate_smart) \n",
        "display()\n",
        "variance_estimate_ultra = np.var(data_ultra, ddof=1)\n",
        "display(variance_estimate_ultra) "
      ]
    },
    {
      "cell_type": "code",
      "execution_count": 26,
      "metadata": {
        "scrolled": true
      },
      "outputs": [
        {
          "data": {
            "text/plain": [
              "user_id                   146.119496\n",
              "month                       2.920316\n",
              "duration                  190.313730\n",
              "messages                   28.227876\n",
              "mb_used                  5870.476681\n",
              "age                        16.353371\n",
              "messages_included           0.000000\n",
              "mb_per_month_included       0.000000\n",
              "minutes_included            0.000000\n",
              "rub_monthly_fee             0.000000\n",
              "rub_per_gb                  0.000000\n",
              "rub_per_message             0.000000\n",
              "rub_per_minute              0.000000\n",
              "over_calls                254.035718\n",
              "over_messages              40.327368\n",
              "over_mb_used              736.563904\n",
              "fee                       818.404367\n",
              "dtype: float64"
            ]
          },
          "metadata": {},
          "output_type": "display_data"
        },
        {
          "data": {
            "text/plain": [
              "user_id                    140.694908\n",
              "month                        2.871762\n",
              "duration                   317.606098\n",
              "messages                    47.804457\n",
              "mb_used                  10087.170752\n",
              "age                         17.107979\n",
              "messages_included            0.000000\n",
              "mb_per_month_included        0.000000\n",
              "minutes_included             0.000000\n",
              "rub_monthly_fee              0.000000\n",
              "rub_per_gb                   0.000000\n",
              "rub_per_message              0.000000\n",
              "rub_per_minute               0.000000\n",
              "over_calls                   0.000000\n",
              "over_messages                0.000000\n",
              "over_mb_used               376.187114\n",
              "fee                        376.187114\n",
              "dtype: float64"
            ]
          },
          "metadata": {},
          "output_type": "display_data"
        }
      ],
      "source": [
        "# Посчитаем стандартное отклонение для двух тарифов\n",
        "standard_deviation_smart = np.sqrt(variance_estimate_smart)\n",
        "display(standard_deviation_smart) \n",
        "standard_deviation_ultra = np.sqrt(variance_estimate_ultra)\n",
        "display(standard_deviation_ultra) "
      ]
    },
    {
      "cell_type": "code",
      "execution_count": 27,
      "metadata": {},
      "outputs": [
        {
          "data": {
            "text/plain": [
              "988.8761380749961"
            ]
          },
          "metadata": {},
          "output_type": "display_data"
        },
        {
          "data": {
            "text/plain": [
              "33819.81703282907"
            ]
          },
          "metadata": {},
          "output_type": "display_data"
        }
      ],
      "source": [
        "#Используем правило трех сигм для нормальных распределений\n",
        "adv_smart_duration = data_smart['duration'].mean() + (3*standard_deviation_smart['duration'])\n",
        "adv_smart_mb_used = data_smart['mb_used'].mean() + (3*standard_deviation_smart['mb_used'])\n",
        "display(adv_smart_duration)\n",
        "display(adv_smart_mb_used)"
      ]
    },
    {
      "cell_type": "code",
      "execution_count": 28,
      "metadata": {},
      "outputs": [
        {
          "data": {
            "text/plain": [
              "49730.317464619926"
            ]
          },
          "metadata": {},
          "output_type": "display_data"
        }
      ],
      "source": [
        "adv_ultra_mb_used = data_ultra['mb_used'].mean() + (3*standard_deviation_ultra['mb_used'])\n",
        "display(adv_ultra_mb_used)"
      ]
    },
    {
      "cell_type": "markdown",
      "metadata": {},
      "source": [
        "**Вывод**:\n",
        "1. В тарифе smart пользователи в среднем тратят 394 минуты, 33 сообщения, 16208 мегабайт интернета в месяц, в тарифе ultra - 497, 49, 19468 соответственно.\n",
        "2. В тарифе ultra многие клиенты не используют минуты разговора и сообщения.\n",
        "3. В тарифе  smart  99% пользователей используют 934 минуты разговора,  33819 мегабайт интернета в месяц.\n",
        "4. В тарифе ultra 99% пользователей используют 49730 мегабайт интернета в месяц.\n",
        "5. Средняя выручка больше от пользовательей тарифа ultra (2070руб), чем от пользователей тарифа smart(1257руб)."
      ]
    },
    {
      "cell_type": "markdown",
      "metadata": {},
      "source": [
        "# 4 Проверка гипотез"
      ]
    },
    {
      "cell_type": "markdown",
      "metadata": {},
      "source": [
        "Формулируем нулевую гипотезу для условия равенства. Для проверки двусторонних гипотез используем t-тест."
      ]
    },
    {
      "cell_type": "markdown",
      "metadata": {},
      "source": [
        "Нулевая гипотеза 1: разница в средних выручках пользователей тарифов «Ультра» и «Смарт» статистически незначима.\n",
        "\n",
        "Альтернативная гипотеза 1: разница в средних выручках пользователей тарифов «Ультра» и «Смарт» статистически значима."
      ]
    },
    {
      "cell_type": "code",
      "execution_count": 29,
      "metadata": {},
      "outputs": [
        {
          "name": "stdout",
          "output_type": "stream",
          "text": [
            "p-значение:  1.4229814360764067e-160\n",
            "Отвергаем нулевую гипотезу\n"
          ]
        }
      ],
      "source": [
        "alpha = .05\n",
        "results = st.ttest_ind(\n",
        "    data_smart['fee'], \n",
        "    data_ultra['fee'])\n",
        "\n",
        "print('p-значение: ', results.pvalue)\n",
        "\n",
        "if results.pvalue < alpha:\n",
        "    print(\"Отвергаем нулевую гипотезу\")\n",
        "else:\n",
        "    print(\"Не получилось отвергнуть нулевую гипотезу\") "
      ]
    },
    {
      "cell_type": "code",
      "execution_count": 30,
      "metadata": {
        "scrolled": true
      },
      "outputs": [],
      "source": [
        "# Сделаем срезы по пользователям из Москвы и других регионов\n",
        "data_msk = data[data['city'] == 'Москва']\n",
        "data_not_msk = data[data['city'] != 'Москва']\n"
      ]
    },
    {
      "cell_type": "markdown",
      "metadata": {},
      "source": [
        "Нулевая гипотеза 2: средняя выручка пользователей из Москвы статистически значимо не отличается от средней выручки пользователей из других регионов.\n",
        "\n",
        "Альтернативная гипотеза 2: средняя выручка пользователей из Москвы статистически значимо отличается от выручки пользователей из других регионов."
      ]
    },
    {
      "cell_type": "code",
      "execution_count": 31,
      "metadata": {},
      "outputs": [
        {
          "name": "stdout",
          "output_type": "stream",
          "text": [
            "p-значение:  0.5440152911670224\n",
            "Не получилось отвергнуть нулевую гипотезу\n"
          ]
        }
      ],
      "source": [
        "alpha = .05\n",
        "results = st.ttest_ind(\n",
        "    data_msk['fee'], \n",
        "    data_not_msk['fee'])\n",
        "\n",
        "print('p-значение: ', results.pvalue)\n",
        "\n",
        "if results.pvalue < alpha:\n",
        "    print(\"Отвергаем нулевую гипотезу\")\n",
        "else:\n",
        "    print(\"Не получилось отвергнуть нулевую гипотезу\") "
      ]
    },
    {
      "cell_type": "markdown",
      "metadata": {},
      "source": [
        "**Вывод**: таким образом, верны гипотезы:\n",
        "1. Разница в средних выручках пользователей тарифов «Ультра» и «Смарт» статистически значима.\n",
        "2. Средняя выручка пользователей из Москвы статистически значимо не отличается от средней выручки пользователей из других регионов."
      ]
    },
    {
      "cell_type": "markdown",
      "metadata": {},
      "source": [
        "#  Общий вывод:"
      ]
    },
    {
      "cell_type": "markdown",
      "metadata": {},
      "source": [
        "В ходе исследования мы выяснили, что:\n",
        "1. Средняя выручка пользователей тарифов «Ультра» и «Смарт» различаются.\n",
        "2. Средняя выручка пользователей из Москвы равна средней выручке пользователей из других регионов\n",
        "3. В тарифе smart пользователи в среднем тратят 394 минуты, 33 сообщения, 16208 мегабайт интернета в месяц, в тарифе ultra - 497, 49, 19468 соответственно. Т.е. в среднем, пользователи укладываются в рамки включенных в тариф единиц.\n",
        "4. В тарифе ultra многие клиенты не используют минуты разговора и сообщения.\n",
        "5. Средняя выручка больше от пользовательей тарифа ultra (2070руб), чем от пользователей тарифа smart(1257руб).\n",
        "6. Пользователей тарифа smart в настоящее время больше, чем ultra.\n",
        "\n",
        "Учитывая вышеописанное, я бы советовала привлекать больше клиентов в тариф ultra в связи с большей выручкой для компании."
      ]
    },
    {
      "cell_type": "code",
      "execution_count": 32,
      "metadata": {},
      "outputs": [],
      "source": []
    }
  ],
  "metadata": {
    "ExecuteTimeLog": [
      {
        "duration": 724,
        "start_time": "2022-02-05T11:18:07.811Z"
      },
      {
        "duration": 177,
        "start_time": "2022-02-05T11:18:08.627Z"
      },
      {
        "duration": 3,
        "start_time": "2022-02-05T11:21:22.390Z"
      },
      {
        "duration": 420,
        "start_time": "2022-02-05T11:21:23.265Z"
      },
      {
        "duration": 229,
        "start_time": "2022-02-05T11:27:49.258Z"
      },
      {
        "duration": 530,
        "start_time": "2022-02-05T11:30:49.117Z"
      },
      {
        "duration": 623,
        "start_time": "2022-02-05T11:31:22.006Z"
      },
      {
        "duration": 298,
        "start_time": "2022-02-05T11:41:19.333Z"
      },
      {
        "duration": 306,
        "start_time": "2022-02-05T11:41:30.160Z"
      },
      {
        "duration": 686,
        "start_time": "2022-02-05T11:41:39.732Z"
      },
      {
        "duration": 454,
        "start_time": "2022-02-05T11:41:40.939Z"
      },
      {
        "duration": 417,
        "start_time": "2022-02-05T11:41:45.640Z"
      },
      {
        "duration": 285,
        "start_time": "2022-02-05T11:45:50.378Z"
      },
      {
        "duration": 4,
        "start_time": "2022-02-05T11:46:01.043Z"
      },
      {
        "duration": 471,
        "start_time": "2022-02-05T11:46:01.049Z"
      },
      {
        "duration": 556,
        "start_time": "2022-02-05T11:46:01.523Z"
      },
      {
        "duration": 299,
        "start_time": "2022-02-05T11:46:44.606Z"
      },
      {
        "duration": 2,
        "start_time": "2022-02-05T11:47:11.152Z"
      },
      {
        "duration": 444,
        "start_time": "2022-02-05T11:47:11.157Z"
      },
      {
        "duration": 315,
        "start_time": "2022-02-05T11:47:11.603Z"
      },
      {
        "duration": 396,
        "start_time": "2022-02-05T11:53:22.691Z"
      },
      {
        "duration": 348,
        "start_time": "2022-02-05T11:53:40.096Z"
      },
      {
        "duration": 442,
        "start_time": "2022-02-05T11:53:57.598Z"
      },
      {
        "duration": 331,
        "start_time": "2022-02-05T11:54:47.647Z"
      },
      {
        "duration": 342,
        "start_time": "2022-02-05T11:55:21.998Z"
      },
      {
        "duration": 264,
        "start_time": "2022-02-05T12:29:14.999Z"
      },
      {
        "duration": 454,
        "start_time": "2022-02-05T12:29:39.483Z"
      },
      {
        "duration": 339,
        "start_time": "2022-02-05T12:40:44.085Z"
      },
      {
        "duration": 712,
        "start_time": "2022-02-05T12:40:47.396Z"
      },
      {
        "duration": 714,
        "start_time": "2022-02-05T12:40:48.110Z"
      },
      {
        "duration": 510,
        "start_time": "2022-02-05T12:41:38.495Z"
      },
      {
        "duration": 768,
        "start_time": "2022-02-10T09:20:37.981Z"
      },
      {
        "duration": 457,
        "start_time": "2022-02-10T09:20:38.751Z"
      },
      {
        "duration": 2,
        "start_time": "2022-02-10T09:20:39.210Z"
      },
      {
        "duration": 130,
        "start_time": "2022-02-10T09:20:39.214Z"
      },
      {
        "duration": 7221,
        "start_time": "2022-02-10T09:36:41.073Z"
      },
      {
        "duration": 3,
        "start_time": "2022-02-10T09:37:02.967Z"
      },
      {
        "duration": 466,
        "start_time": "2022-02-10T09:37:02.972Z"
      },
      {
        "duration": 2,
        "start_time": "2022-02-10T09:37:03.441Z"
      },
      {
        "duration": 121,
        "start_time": "2022-02-10T09:37:03.445Z"
      },
      {
        "duration": 7140,
        "start_time": "2022-02-10T09:37:03.568Z"
      },
      {
        "duration": -53333,
        "start_time": "2022-02-10T09:38:04.043Z"
      },
      {
        "duration": 282,
        "start_time": "2022-02-10T09:40:28.208Z"
      },
      {
        "duration": 15,
        "start_time": "2022-02-10T09:40:39.913Z"
      },
      {
        "duration": 337,
        "start_time": "2022-02-10T09:41:02.009Z"
      },
      {
        "duration": 289,
        "start_time": "2022-02-10T09:43:39.114Z"
      },
      {
        "duration": 297,
        "start_time": "2022-02-10T09:43:42.817Z"
      },
      {
        "duration": 4,
        "start_time": "2022-02-10T09:43:57.273Z"
      },
      {
        "duration": 449,
        "start_time": "2022-02-10T09:43:57.279Z"
      },
      {
        "duration": 3,
        "start_time": "2022-02-10T09:43:57.730Z"
      },
      {
        "duration": 121,
        "start_time": "2022-02-10T09:43:57.735Z"
      },
      {
        "duration": 67,
        "start_time": "2022-02-10T09:43:57.858Z"
      },
      {
        "duration": 24,
        "start_time": "2022-02-10T09:43:57.927Z"
      },
      {
        "duration": 27,
        "start_time": "2022-02-10T09:50:43.610Z"
      },
      {
        "duration": 288,
        "start_time": "2022-02-10T10:02:31.117Z"
      },
      {
        "duration": 3,
        "start_time": "2022-02-10T10:02:56.639Z"
      },
      {
        "duration": 448,
        "start_time": "2022-02-10T10:02:56.645Z"
      },
      {
        "duration": 105,
        "start_time": "2022-02-10T10:02:57.095Z"
      },
      {
        "duration": 64,
        "start_time": "2022-02-10T10:02:57.202Z"
      },
      {
        "duration": 29,
        "start_time": "2022-02-10T10:02:57.268Z"
      },
      {
        "duration": 281,
        "start_time": "2022-02-10T10:02:57.299Z"
      },
      {
        "duration": 4,
        "start_time": "2022-02-10T10:09:42.796Z"
      },
      {
        "duration": 5,
        "start_time": "2022-02-10T10:09:46.874Z"
      },
      {
        "duration": 9,
        "start_time": "2022-02-10T10:10:02.491Z"
      },
      {
        "duration": 5,
        "start_time": "2022-02-10T10:12:04.558Z"
      },
      {
        "duration": 9,
        "start_time": "2022-02-10T10:12:10.020Z"
      },
      {
        "duration": 5,
        "start_time": "2022-02-10T10:13:03.492Z"
      },
      {
        "duration": 5,
        "start_time": "2022-02-10T10:55:14.020Z"
      },
      {
        "duration": 9,
        "start_time": "2022-02-10T10:55:15.219Z"
      },
      {
        "duration": 38,
        "start_time": "2022-02-10T10:55:44.139Z"
      },
      {
        "duration": 5,
        "start_time": "2022-02-10T10:55:45.223Z"
      },
      {
        "duration": 9,
        "start_time": "2022-02-10T10:55:47.339Z"
      },
      {
        "duration": 10,
        "start_time": "2022-02-10T12:01:53.324Z"
      },
      {
        "duration": 354,
        "start_time": "2022-02-10T12:02:05.233Z"
      },
      {
        "duration": 2,
        "start_time": "2022-02-10T12:02:21.041Z"
      },
      {
        "duration": 461,
        "start_time": "2022-02-10T12:02:21.045Z"
      },
      {
        "duration": 104,
        "start_time": "2022-02-10T12:02:21.508Z"
      },
      {
        "duration": 59,
        "start_time": "2022-02-10T12:02:21.618Z"
      },
      {
        "duration": 40,
        "start_time": "2022-02-10T12:02:21.679Z"
      },
      {
        "duration": 4,
        "start_time": "2022-02-10T12:02:21.721Z"
      },
      {
        "duration": 14,
        "start_time": "2022-02-10T12:02:21.727Z"
      },
      {
        "duration": 33,
        "start_time": "2022-02-10T12:02:21.744Z"
      },
      {
        "duration": 85,
        "start_time": "2022-02-10T12:02:21.779Z"
      },
      {
        "duration": 6658,
        "start_time": "2022-02-10T12:06:40.270Z"
      },
      {
        "duration": 6811,
        "start_time": "2022-02-10T12:06:55.747Z"
      },
      {
        "duration": 35,
        "start_time": "2022-02-10T12:07:10.932Z"
      },
      {
        "duration": 32,
        "start_time": "2022-02-10T12:08:03.376Z"
      },
      {
        "duration": 32,
        "start_time": "2022-02-10T12:09:43.462Z"
      },
      {
        "duration": 37,
        "start_time": "2022-02-10T12:15:03.824Z"
      },
      {
        "duration": 262,
        "start_time": "2022-02-10T12:25:55.680Z"
      },
      {
        "duration": 3,
        "start_time": "2022-02-10T12:26:01.118Z"
      },
      {
        "duration": 4,
        "start_time": "2022-02-10T12:26:49.483Z"
      },
      {
        "duration": 476,
        "start_time": "2022-02-10T12:26:49.489Z"
      },
      {
        "duration": 109,
        "start_time": "2022-02-10T12:26:49.967Z"
      },
      {
        "duration": 76,
        "start_time": "2022-02-10T12:26:50.079Z"
      },
      {
        "duration": 29,
        "start_time": "2022-02-10T12:26:50.158Z"
      },
      {
        "duration": 5,
        "start_time": "2022-02-10T12:26:50.189Z"
      },
      {
        "duration": 21,
        "start_time": "2022-02-10T12:26:50.217Z"
      },
      {
        "duration": 40,
        "start_time": "2022-02-10T12:26:50.241Z"
      },
      {
        "duration": 74,
        "start_time": "2022-02-10T12:26:50.284Z"
      },
      {
        "duration": 7283,
        "start_time": "2022-02-10T12:26:50.360Z"
      },
      {
        "duration": 11,
        "start_time": "2022-02-10T12:29:11.850Z"
      },
      {
        "duration": 37,
        "start_time": "2022-02-10T12:29:22.810Z"
      },
      {
        "duration": 38,
        "start_time": "2022-02-10T12:31:47.132Z"
      },
      {
        "duration": 849,
        "start_time": "2022-02-11T09:16:28.950Z"
      },
      {
        "duration": 613,
        "start_time": "2022-02-11T09:16:29.802Z"
      },
      {
        "duration": 150,
        "start_time": "2022-02-11T09:16:30.418Z"
      },
      {
        "duration": 92,
        "start_time": "2022-02-11T09:16:30.571Z"
      },
      {
        "duration": 39,
        "start_time": "2022-02-11T09:16:30.665Z"
      },
      {
        "duration": 26,
        "start_time": "2022-02-11T09:16:30.706Z"
      },
      {
        "duration": 11,
        "start_time": "2022-02-11T09:16:30.735Z"
      },
      {
        "duration": 46,
        "start_time": "2022-02-11T09:16:30.750Z"
      },
      {
        "duration": 89,
        "start_time": "2022-02-11T09:16:30.799Z"
      },
      {
        "duration": 14,
        "start_time": "2022-02-11T09:16:30.890Z"
      },
      {
        "duration": 76,
        "start_time": "2022-02-11T09:16:30.907Z"
      },
      {
        "duration": 5,
        "start_time": "2022-02-11T09:16:30.985Z"
      },
      {
        "duration": 16,
        "start_time": "2022-02-11T09:16:30.992Z"
      },
      {
        "duration": 573,
        "start_time": "2022-02-11T09:16:31.011Z"
      },
      {
        "duration": 7,
        "start_time": "2022-02-11T09:19:46.027Z"
      },
      {
        "duration": 5,
        "start_time": "2022-02-11T09:19:46.629Z"
      },
      {
        "duration": 6,
        "start_time": "2022-02-11T09:19:47.507Z"
      },
      {
        "duration": 677,
        "start_time": "2022-02-11T09:19:56.811Z"
      },
      {
        "duration": 4,
        "start_time": "2022-02-11T09:20:34.838Z"
      },
      {
        "duration": 522,
        "start_time": "2022-02-11T09:20:35.443Z"
      },
      {
        "duration": 9,
        "start_time": "2022-02-11T09:21:24.145Z"
      },
      {
        "duration": 5,
        "start_time": "2022-02-11T09:21:24.595Z"
      },
      {
        "duration": 5,
        "start_time": "2022-02-11T09:21:25.022Z"
      },
      {
        "duration": 528,
        "start_time": "2022-02-11T09:21:29.478Z"
      },
      {
        "duration": 588,
        "start_time": "2022-02-11T09:22:18.462Z"
      },
      {
        "duration": 530,
        "start_time": "2022-02-11T09:22:55.818Z"
      },
      {
        "duration": 539,
        "start_time": "2022-02-11T09:23:17.726Z"
      },
      {
        "duration": 627,
        "start_time": "2022-02-11T09:24:04.853Z"
      },
      {
        "duration": 550,
        "start_time": "2022-02-11T09:24:42.612Z"
      },
      {
        "duration": 553,
        "start_time": "2022-02-11T09:25:19.959Z"
      },
      {
        "duration": 612,
        "start_time": "2022-02-11T09:25:27.158Z"
      },
      {
        "duration": 26,
        "start_time": "2022-02-11T09:31:27.748Z"
      },
      {
        "duration": 40,
        "start_time": "2022-02-11T09:32:08.980Z"
      },
      {
        "duration": 42,
        "start_time": "2022-02-11T09:32:27.733Z"
      },
      {
        "duration": 41,
        "start_time": "2022-02-11T09:32:54.180Z"
      },
      {
        "duration": 43,
        "start_time": "2022-02-11T09:34:31.968Z"
      },
      {
        "duration": 14,
        "start_time": "2022-02-11T09:35:59.979Z"
      },
      {
        "duration": 4,
        "start_time": "2022-02-11T09:41:21.383Z"
      },
      {
        "duration": 586,
        "start_time": "2022-02-11T09:41:21.390Z"
      },
      {
        "duration": 151,
        "start_time": "2022-02-11T09:41:21.979Z"
      },
      {
        "duration": 73,
        "start_time": "2022-02-11T09:41:22.133Z"
      },
      {
        "duration": 51,
        "start_time": "2022-02-11T09:41:22.208Z"
      },
      {
        "duration": 6,
        "start_time": "2022-02-11T09:41:22.262Z"
      },
      {
        "duration": 16,
        "start_time": "2022-02-11T09:41:22.270Z"
      },
      {
        "duration": 84,
        "start_time": "2022-02-11T09:41:22.289Z"
      },
      {
        "duration": 71,
        "start_time": "2022-02-11T09:41:22.376Z"
      },
      {
        "duration": 14,
        "start_time": "2022-02-11T09:41:22.450Z"
      },
      {
        "duration": 85,
        "start_time": "2022-02-11T09:41:22.467Z"
      },
      {
        "duration": 8,
        "start_time": "2022-02-11T09:41:22.554Z"
      },
      {
        "duration": 6,
        "start_time": "2022-02-11T09:41:22.564Z"
      },
      {
        "duration": 11,
        "start_time": "2022-02-11T09:41:22.573Z"
      },
      {
        "duration": 546,
        "start_time": "2022-02-11T09:41:22.586Z"
      },
      {
        "duration": 625,
        "start_time": "2022-02-11T09:41:23.135Z"
      },
      {
        "duration": 559,
        "start_time": "2022-02-11T09:41:23.762Z"
      },
      {
        "duration": 557,
        "start_time": "2022-02-11T09:41:24.324Z"
      },
      {
        "duration": 580,
        "start_time": "2022-02-11T09:41:24.883Z"
      },
      {
        "duration": 557,
        "start_time": "2022-02-11T09:41:25.465Z"
      },
      {
        "duration": 49,
        "start_time": "2022-02-11T09:41:26.025Z"
      },
      {
        "duration": 11,
        "start_time": "2022-02-11T09:41:26.076Z"
      },
      {
        "duration": 82,
        "start_time": "2022-02-11T09:56:41.921Z"
      },
      {
        "duration": 86,
        "start_time": "2022-02-11T09:57:27.001Z"
      },
      {
        "duration": 80,
        "start_time": "2022-02-11T09:57:51.503Z"
      },
      {
        "duration": 37,
        "start_time": "2022-02-11T10:00:40.581Z"
      },
      {
        "duration": 12,
        "start_time": "2022-02-11T10:06:27.423Z"
      },
      {
        "duration": 15,
        "start_time": "2022-02-11T10:06:33.981Z"
      },
      {
        "duration": 8,
        "start_time": "2022-02-11T10:06:59.901Z"
      },
      {
        "duration": 373,
        "start_time": "2022-02-11T10:08:19.854Z"
      },
      {
        "duration": 6,
        "start_time": "2022-02-11T10:08:31.589Z"
      },
      {
        "duration": 1072,
        "start_time": "2022-02-14T09:03:13.938Z"
      },
      {
        "duration": 1096,
        "start_time": "2022-02-16T08:17:35.001Z"
      },
      {
        "duration": 408,
        "start_time": "2022-02-16T08:17:36.098Z"
      },
      {
        "duration": 91,
        "start_time": "2022-02-16T08:17:36.508Z"
      },
      {
        "duration": 52,
        "start_time": "2022-02-16T08:17:36.601Z"
      },
      {
        "duration": 23,
        "start_time": "2022-02-16T08:17:36.655Z"
      },
      {
        "duration": 3,
        "start_time": "2022-02-16T08:17:36.679Z"
      },
      {
        "duration": 9,
        "start_time": "2022-02-16T08:17:36.684Z"
      },
      {
        "duration": 45,
        "start_time": "2022-02-16T08:17:36.695Z"
      },
      {
        "duration": 31,
        "start_time": "2022-02-16T08:17:36.742Z"
      },
      {
        "duration": 8,
        "start_time": "2022-02-16T08:17:36.775Z"
      },
      {
        "duration": 29,
        "start_time": "2022-02-16T08:17:36.784Z"
      },
      {
        "duration": 30,
        "start_time": "2022-02-16T08:17:36.832Z"
      },
      {
        "duration": 5,
        "start_time": "2022-02-16T08:17:36.863Z"
      },
      {
        "duration": 3,
        "start_time": "2022-02-16T08:17:36.870Z"
      },
      {
        "duration": 4,
        "start_time": "2022-02-16T08:17:36.874Z"
      },
      {
        "duration": 302,
        "start_time": "2022-02-16T08:17:36.879Z"
      },
      {
        "duration": 283,
        "start_time": "2022-02-16T08:17:37.182Z"
      },
      {
        "duration": 291,
        "start_time": "2022-02-16T08:17:37.467Z"
      },
      {
        "duration": 280,
        "start_time": "2022-02-16T08:17:37.760Z"
      },
      {
        "duration": 382,
        "start_time": "2022-02-16T08:17:38.042Z"
      },
      {
        "duration": 330,
        "start_time": "2022-02-16T08:17:38.426Z"
      },
      {
        "duration": 26,
        "start_time": "2022-02-16T08:17:38.757Z"
      },
      {
        "duration": 7,
        "start_time": "2022-02-16T08:17:38.787Z"
      },
      {
        "duration": 14,
        "start_time": "2022-02-16T08:17:38.795Z"
      },
      {
        "duration": 4,
        "start_time": "2022-02-16T08:17:38.831Z"
      },
      {
        "duration": 415,
        "start_time": "2022-02-16T08:17:38.836Z"
      },
      {
        "duration": 2,
        "start_time": "2022-02-16T08:19:04.022Z"
      },
      {
        "duration": 406,
        "start_time": "2022-02-16T08:19:04.026Z"
      },
      {
        "duration": 99,
        "start_time": "2022-02-16T08:19:04.433Z"
      },
      {
        "duration": 46,
        "start_time": "2022-02-16T08:19:04.533Z"
      },
      {
        "duration": 23,
        "start_time": "2022-02-16T08:19:04.581Z"
      },
      {
        "duration": 4,
        "start_time": "2022-02-16T08:19:04.605Z"
      },
      {
        "duration": 26,
        "start_time": "2022-02-16T08:19:04.610Z"
      },
      {
        "duration": 26,
        "start_time": "2022-02-16T08:19:04.638Z"
      },
      {
        "duration": 32,
        "start_time": "2022-02-16T08:19:04.666Z"
      },
      {
        "duration": 32,
        "start_time": "2022-02-16T08:19:04.700Z"
      },
      {
        "duration": 29,
        "start_time": "2022-02-16T08:19:04.733Z"
      },
      {
        "duration": 5,
        "start_time": "2022-02-16T08:19:04.764Z"
      },
      {
        "duration": 3,
        "start_time": "2022-02-16T08:19:04.770Z"
      },
      {
        "duration": 4,
        "start_time": "2022-02-16T08:19:04.774Z"
      },
      {
        "duration": 302,
        "start_time": "2022-02-16T08:19:04.779Z"
      },
      {
        "duration": 279,
        "start_time": "2022-02-16T08:19:05.082Z"
      },
      {
        "duration": 286,
        "start_time": "2022-02-16T08:19:05.363Z"
      },
      {
        "duration": 293,
        "start_time": "2022-02-16T08:19:05.650Z"
      },
      {
        "duration": 368,
        "start_time": "2022-02-16T08:19:05.944Z"
      },
      {
        "duration": 293,
        "start_time": "2022-02-16T08:19:06.313Z"
      },
      {
        "duration": 33,
        "start_time": "2022-02-16T08:19:06.608Z"
      },
      {
        "duration": 7,
        "start_time": "2022-02-16T08:19:06.643Z"
      },
      {
        "duration": 5,
        "start_time": "2022-02-16T08:19:06.653Z"
      },
      {
        "duration": 4,
        "start_time": "2022-02-16T08:19:06.660Z"
      },
      {
        "duration": 347,
        "start_time": "2022-02-16T08:19:06.666Z"
      },
      {
        "duration": 5,
        "start_time": "2022-02-16T08:21:34.274Z"
      },
      {
        "duration": 31,
        "start_time": "2022-02-16T08:24:35.926Z"
      },
      {
        "duration": 34,
        "start_time": "2022-02-16T08:25:18.183Z"
      },
      {
        "duration": 5,
        "start_time": "2022-02-16T08:28:16.209Z"
      },
      {
        "duration": 4,
        "start_time": "2022-02-16T08:43:07.251Z"
      },
      {
        "duration": 48,
        "start_time": "2022-02-16T08:49:48.978Z"
      },
      {
        "duration": 17,
        "start_time": "2022-02-16T08:50:40.332Z"
      },
      {
        "duration": 48,
        "start_time": "2022-02-16T08:50:51.458Z"
      },
      {
        "duration": 7,
        "start_time": "2022-02-16T08:51:11.394Z"
      },
      {
        "duration": 8,
        "start_time": "2022-02-16T08:51:28.605Z"
      },
      {
        "duration": 60,
        "start_time": "2022-02-24T08:46:50.994Z"
      },
      {
        "duration": 1260,
        "start_time": "2022-02-27T11:23:51.382Z"
      },
      {
        "duration": 560,
        "start_time": "2022-02-27T11:23:52.645Z"
      },
      {
        "duration": 153,
        "start_time": "2022-02-27T11:23:53.207Z"
      },
      {
        "duration": 26,
        "start_time": "2022-02-27T11:23:53.363Z"
      },
      {
        "duration": 75,
        "start_time": "2022-02-27T11:23:53.391Z"
      },
      {
        "duration": 54,
        "start_time": "2022-02-27T11:23:53.469Z"
      },
      {
        "duration": 5,
        "start_time": "2022-02-27T11:23:53.525Z"
      },
      {
        "duration": 13,
        "start_time": "2022-02-27T11:23:53.534Z"
      },
      {
        "duration": 77,
        "start_time": "2022-02-27T11:23:53.550Z"
      },
      {
        "duration": 74,
        "start_time": "2022-02-27T11:23:53.629Z"
      },
      {
        "duration": 14,
        "start_time": "2022-02-27T11:23:53.706Z"
      },
      {
        "duration": 74,
        "start_time": "2022-02-27T11:23:53.722Z"
      },
      {
        "duration": 8,
        "start_time": "2022-02-27T11:23:53.799Z"
      },
      {
        "duration": 11,
        "start_time": "2022-02-27T11:23:53.809Z"
      },
      {
        "duration": 11,
        "start_time": "2022-02-27T11:23:53.822Z"
      },
      {
        "duration": 5,
        "start_time": "2022-02-27T11:23:53.835Z"
      },
      {
        "duration": 8,
        "start_time": "2022-02-27T11:23:53.842Z"
      },
      {
        "duration": 539,
        "start_time": "2022-02-27T11:23:53.888Z"
      },
      {
        "duration": 647,
        "start_time": "2022-02-27T11:23:54.429Z"
      },
      {
        "duration": 540,
        "start_time": "2022-02-27T11:23:55.079Z"
      },
      {
        "duration": 648,
        "start_time": "2022-02-27T11:23:55.622Z"
      },
      {
        "duration": 623,
        "start_time": "2022-02-27T11:23:56.273Z"
      },
      {
        "duration": 544,
        "start_time": "2022-02-27T11:23:56.900Z"
      },
      {
        "duration": 55,
        "start_time": "2022-02-27T11:23:57.446Z"
      },
      {
        "duration": 9,
        "start_time": "2022-02-27T11:23:57.504Z"
      },
      {
        "duration": 8,
        "start_time": "2022-02-27T11:23:57.516Z"
      },
      {
        "duration": 12,
        "start_time": "2022-02-27T11:23:57.526Z"
      },
      {
        "duration": 46,
        "start_time": "2022-02-27T11:23:57.540Z"
      },
      {
        "duration": 8,
        "start_time": "2022-02-27T11:23:57.589Z"
      },
      {
        "duration": 9,
        "start_time": "2022-02-27T11:23:57.600Z"
      },
      {
        "duration": 4,
        "start_time": "2022-02-27T11:24:42.982Z"
      },
      {
        "duration": 17,
        "start_time": "2022-02-27T11:29:39.448Z"
      },
      {
        "duration": 3,
        "start_time": "2022-02-27T11:29:46.455Z"
      },
      {
        "duration": 587,
        "start_time": "2022-02-27T11:29:46.460Z"
      },
      {
        "duration": 265,
        "start_time": "2022-02-27T11:29:47.051Z"
      },
      {
        "duration": 150,
        "start_time": "2022-02-27T11:29:47.318Z"
      },
      {
        "duration": 17,
        "start_time": "2022-02-27T11:29:47.470Z"
      },
      {
        "duration": 72,
        "start_time": "2022-02-27T11:29:47.489Z"
      },
      {
        "duration": 51,
        "start_time": "2022-02-27T11:29:47.563Z"
      },
      {
        "duration": 6,
        "start_time": "2022-02-27T11:29:47.618Z"
      },
      {
        "duration": 11,
        "start_time": "2022-02-27T11:29:47.627Z"
      },
      {
        "duration": 84,
        "start_time": "2022-02-27T11:29:47.641Z"
      },
      {
        "duration": 69,
        "start_time": "2022-02-27T11:29:47.727Z"
      },
      {
        "duration": 15,
        "start_time": "2022-02-27T11:29:47.798Z"
      },
      {
        "duration": 76,
        "start_time": "2022-02-27T11:29:47.815Z"
      },
      {
        "duration": 9,
        "start_time": "2022-02-27T11:29:47.893Z"
      },
      {
        "duration": 14,
        "start_time": "2022-02-27T11:29:47.905Z"
      },
      {
        "duration": 13,
        "start_time": "2022-02-27T11:29:47.922Z"
      },
      {
        "duration": 6,
        "start_time": "2022-02-27T11:29:47.938Z"
      },
      {
        "duration": 42,
        "start_time": "2022-02-27T11:29:47.946Z"
      },
      {
        "duration": 540,
        "start_time": "2022-02-27T11:29:47.990Z"
      },
      {
        "duration": 655,
        "start_time": "2022-02-27T11:29:48.532Z"
      },
      {
        "duration": 633,
        "start_time": "2022-02-27T11:29:49.189Z"
      },
      {
        "duration": 562,
        "start_time": "2022-02-27T11:29:49.825Z"
      },
      {
        "duration": 645,
        "start_time": "2022-02-27T11:29:50.391Z"
      },
      {
        "duration": 567,
        "start_time": "2022-02-27T11:29:51.039Z"
      },
      {
        "duration": 42,
        "start_time": "2022-02-27T11:29:51.608Z"
      },
      {
        "duration": 9,
        "start_time": "2022-02-27T11:29:51.652Z"
      },
      {
        "duration": 8,
        "start_time": "2022-02-27T11:29:51.688Z"
      },
      {
        "duration": 9,
        "start_time": "2022-02-27T11:29:51.698Z"
      },
      {
        "duration": 10,
        "start_time": "2022-02-27T11:29:51.710Z"
      },
      {
        "duration": 14,
        "start_time": "2022-02-27T11:29:51.723Z"
      },
      {
        "duration": 8,
        "start_time": "2022-02-27T11:29:51.739Z"
      },
      {
        "duration": 86,
        "start_time": "2022-02-27T11:30:50.613Z"
      },
      {
        "duration": 19,
        "start_time": "2022-02-27T11:30:59.757Z"
      },
      {
        "duration": 367,
        "start_time": "2022-02-27T11:31:28.122Z"
      },
      {
        "duration": 3,
        "start_time": "2022-02-27T11:31:33.116Z"
      },
      {
        "duration": 591,
        "start_time": "2022-02-27T11:31:33.122Z"
      },
      {
        "duration": 303,
        "start_time": "2022-02-27T11:31:33.716Z"
      },
      {
        "duration": 152,
        "start_time": "2022-02-27T11:31:34.022Z"
      },
      {
        "duration": 6,
        "start_time": "2022-02-27T11:31:34.176Z"
      },
      {
        "duration": 74,
        "start_time": "2022-02-27T11:31:34.187Z"
      },
      {
        "duration": 57,
        "start_time": "2022-02-27T11:31:34.263Z"
      },
      {
        "duration": 7,
        "start_time": "2022-02-27T11:31:34.323Z"
      },
      {
        "duration": 16,
        "start_time": "2022-02-27T11:31:34.332Z"
      },
      {
        "duration": 68,
        "start_time": "2022-02-27T11:31:34.351Z"
      },
      {
        "duration": 74,
        "start_time": "2022-02-27T11:31:34.422Z"
      },
      {
        "duration": 14,
        "start_time": "2022-02-27T11:31:34.498Z"
      },
      {
        "duration": 53,
        "start_time": "2022-02-27T11:31:34.514Z"
      },
      {
        "duration": 9,
        "start_time": "2022-02-27T11:31:34.587Z"
      },
      {
        "duration": 12,
        "start_time": "2022-02-27T11:31:34.598Z"
      },
      {
        "duration": 10,
        "start_time": "2022-02-27T11:31:34.612Z"
      },
      {
        "duration": 8,
        "start_time": "2022-02-27T11:31:34.624Z"
      },
      {
        "duration": 25,
        "start_time": "2022-02-27T11:31:34.634Z"
      },
      {
        "duration": 562,
        "start_time": "2022-02-27T11:31:34.662Z"
      },
      {
        "duration": 561,
        "start_time": "2022-02-27T11:31:35.226Z"
      },
      {
        "duration": 572,
        "start_time": "2022-02-27T11:31:35.789Z"
      },
      {
        "duration": 659,
        "start_time": "2022-02-27T11:31:36.363Z"
      },
      {
        "duration": 579,
        "start_time": "2022-02-27T11:31:37.026Z"
      },
      {
        "duration": 580,
        "start_time": "2022-02-27T11:31:37.607Z"
      },
      {
        "duration": 44,
        "start_time": "2022-02-27T11:31:38.189Z"
      },
      {
        "duration": 12,
        "start_time": "2022-02-27T11:31:38.236Z"
      },
      {
        "duration": 43,
        "start_time": "2022-02-27T11:31:38.251Z"
      },
      {
        "duration": 12,
        "start_time": "2022-02-27T11:31:38.297Z"
      },
      {
        "duration": 14,
        "start_time": "2022-02-27T11:31:38.311Z"
      },
      {
        "duration": 14,
        "start_time": "2022-02-27T11:31:38.327Z"
      },
      {
        "duration": 45,
        "start_time": "2022-02-27T11:31:38.344Z"
      },
      {
        "duration": 11,
        "start_time": "2022-02-27T11:33:59.398Z"
      },
      {
        "duration": 3,
        "start_time": "2022-02-27T11:34:30.396Z"
      },
      {
        "duration": 665,
        "start_time": "2022-02-27T11:34:30.401Z"
      },
      {
        "duration": 284,
        "start_time": "2022-02-27T11:34:31.069Z"
      },
      {
        "duration": 157,
        "start_time": "2022-02-27T11:34:31.356Z"
      },
      {
        "duration": 15,
        "start_time": "2022-02-27T11:34:31.516Z"
      },
      {
        "duration": 94,
        "start_time": "2022-02-27T11:34:31.533Z"
      },
      {
        "duration": 40,
        "start_time": "2022-02-27T11:34:31.629Z"
      },
      {
        "duration": 19,
        "start_time": "2022-02-27T11:34:31.671Z"
      },
      {
        "duration": 16,
        "start_time": "2022-02-27T11:34:31.693Z"
      },
      {
        "duration": 40,
        "start_time": "2022-02-27T11:34:31.712Z"
      },
      {
        "duration": 86,
        "start_time": "2022-02-27T11:34:31.754Z"
      },
      {
        "duration": 14,
        "start_time": "2022-02-27T11:34:31.842Z"
      },
      {
        "duration": 77,
        "start_time": "2022-02-27T11:34:31.858Z"
      },
      {
        "duration": 8,
        "start_time": "2022-02-27T11:34:31.937Z"
      },
      {
        "duration": 13,
        "start_time": "2022-02-27T11:34:31.947Z"
      },
      {
        "duration": 38,
        "start_time": "2022-02-27T11:34:31.963Z"
      },
      {
        "duration": 22,
        "start_time": "2022-02-27T11:34:32.004Z"
      },
      {
        "duration": 13,
        "start_time": "2022-02-27T11:34:32.028Z"
      },
      {
        "duration": 544,
        "start_time": "2022-02-27T11:34:32.043Z"
      },
      {
        "duration": 557,
        "start_time": "2022-02-27T11:34:32.590Z"
      },
      {
        "duration": 575,
        "start_time": "2022-02-27T11:34:33.150Z"
      },
      {
        "duration": 668,
        "start_time": "2022-02-27T11:34:33.729Z"
      },
      {
        "duration": 574,
        "start_time": "2022-02-27T11:34:34.400Z"
      },
      {
        "duration": 572,
        "start_time": "2022-02-27T11:34:34.976Z"
      },
      {
        "duration": 53,
        "start_time": "2022-02-27T11:34:35.550Z"
      },
      {
        "duration": 9,
        "start_time": "2022-02-27T11:34:35.605Z"
      },
      {
        "duration": 7,
        "start_time": "2022-02-27T11:34:35.618Z"
      },
      {
        "duration": 5,
        "start_time": "2022-02-27T11:34:35.628Z"
      },
      {
        "duration": 7,
        "start_time": "2022-02-27T11:34:35.635Z"
      },
      {
        "duration": 50,
        "start_time": "2022-02-27T11:34:35.643Z"
      },
      {
        "duration": 7,
        "start_time": "2022-02-27T11:34:35.696Z"
      },
      {
        "duration": 1224,
        "start_time": "2022-11-11T14:13:50.413Z"
      },
      {
        "duration": 1389,
        "start_time": "2022-11-11T14:13:51.640Z"
      },
      {
        "duration": 218,
        "start_time": "2022-11-11T14:13:53.030Z"
      },
      {
        "duration": 111,
        "start_time": "2022-11-11T14:13:53.250Z"
      },
      {
        "duration": 11,
        "start_time": "2022-11-11T14:13:53.362Z"
      },
      {
        "duration": 53,
        "start_time": "2022-11-11T14:13:53.375Z"
      },
      {
        "duration": 44,
        "start_time": "2022-11-11T14:13:53.430Z"
      },
      {
        "duration": 4,
        "start_time": "2022-11-11T14:13:53.476Z"
      },
      {
        "duration": 13,
        "start_time": "2022-11-11T14:13:53.482Z"
      },
      {
        "duration": 21,
        "start_time": "2022-11-11T14:13:53.498Z"
      },
      {
        "duration": 60,
        "start_time": "2022-11-11T14:13:53.521Z"
      },
      {
        "duration": 5,
        "start_time": "2022-11-11T14:13:53.583Z"
      },
      {
        "duration": 38,
        "start_time": "2022-11-11T14:13:53.590Z"
      },
      {
        "duration": 19,
        "start_time": "2022-11-11T14:13:53.629Z"
      },
      {
        "duration": 11,
        "start_time": "2022-11-11T14:13:53.650Z"
      },
      {
        "duration": 9,
        "start_time": "2022-11-11T14:13:53.663Z"
      },
      {
        "duration": 4,
        "start_time": "2022-11-11T14:13:53.674Z"
      },
      {
        "duration": 6,
        "start_time": "2022-11-11T14:13:53.680Z"
      },
      {
        "duration": 255,
        "start_time": "2022-11-11T14:13:53.688Z"
      },
      {
        "duration": 236,
        "start_time": "2022-11-11T14:13:53.948Z"
      },
      {
        "duration": 226,
        "start_time": "2022-11-11T14:13:54.185Z"
      },
      {
        "duration": 261,
        "start_time": "2022-11-11T14:13:54.413Z"
      },
      {
        "duration": 331,
        "start_time": "2022-11-11T14:13:54.675Z"
      },
      {
        "duration": 227,
        "start_time": "2022-11-11T14:13:55.008Z"
      },
      {
        "duration": 21,
        "start_time": "2022-11-11T14:13:55.237Z"
      },
      {
        "duration": 9,
        "start_time": "2022-11-11T14:13:55.259Z"
      },
      {
        "duration": 8,
        "start_time": "2022-11-11T14:13:55.270Z"
      },
      {
        "duration": 14,
        "start_time": "2022-11-11T14:13:55.281Z"
      },
      {
        "duration": 21,
        "start_time": "2022-11-11T14:13:55.297Z"
      },
      {
        "duration": 14,
        "start_time": "2022-11-11T14:13:55.321Z"
      },
      {
        "duration": 19,
        "start_time": "2022-11-11T14:13:55.337Z"
      }
    ],
    "kernelspec": {
      "display_name": "Python 3 (ipykernel)",
      "language": "python",
      "name": "python3"
    },
    "language_info": {
      "codemirror_mode": {
        "name": "ipython",
        "version": 3
      },
      "file_extension": ".py",
      "mimetype": "text/x-python",
      "name": "python",
      "nbconvert_exporter": "python",
      "pygments_lexer": "ipython3",
      "version": "3.9.16"
    },
    "toc": {
      "base_numbering": 1,
      "nav_menu": {},
      "number_sections": true,
      "sideBar": true,
      "skip_h1_title": true,
      "title_cell": "Table of Contents",
      "title_sidebar": "Contents",
      "toc_cell": false,
      "toc_position": {},
      "toc_section_display": true,
      "toc_window_display": false
    }
  },
  "nbformat": 4,
  "nbformat_minor": 2
}